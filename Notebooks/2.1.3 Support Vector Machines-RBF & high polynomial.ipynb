{
 "cells": [
  {
   "cell_type": "markdown",
   "id": "104b8b92",
   "metadata": {},
   "source": [
    "# Support Vector Machines"
   ]
  },
  {
   "cell_type": "code",
   "execution_count": 1,
   "id": "6c2d5a9d",
   "metadata": {},
   "outputs": [],
   "source": [
    "import pandas as pd\n",
    "import numpy as np\n",
    "from sklearn.svm import LinearSVC\n",
    "import matplotlib as plt\n",
    "from collections import Counter\n",
    "from sklearn.model_selection import train_test_split\n",
    "from imblearn.over_sampling import SMOTE\n",
    "from sklearn.linear_model import LogisticRegression\n",
    "from sklearn import metrics\n",
    "from sklearn.metrics import classification_report\n",
    "from tqdm import tqdm\n",
    "from statistics import mean\n",
    "import warnings\n",
    "import math\n",
    "from statistics import mean\n",
    "from sklearn.svm import SVC\n",
    "from timeit import default_timer as timer\n",
    "from datetime import timedelta\n",
    "import warnings\n",
    "warnings.filterwarnings('ignore')\n",
    "from sklearn.metrics import recall_score, accuracy_score"
   ]
  },
  {
   "cell_type": "code",
   "execution_count": 2,
   "id": "5356b8d7",
   "metadata": {},
   "outputs": [],
   "source": [
    "hp = pd.read_csv('HP_OHE_3class.csv')\n",
    "hp = hp.drop('Unnamed: 0',axis=1)"
   ]
  },
  {
   "cell_type": "code",
   "execution_count": 3,
   "id": "54232b52",
   "metadata": {},
   "outputs": [
    {
     "name": "stdout",
     "output_type": "stream",
     "text": [
      "[(1.0, 5590), (2.0, 5590), (3.0, 5590)]\n"
     ]
    }
   ],
   "source": [
    "def getXandY(df):\n",
    "    df.drop(df.tail(20).index,inplace=True) \n",
    "    x = df.drop(['HP_Forbidden_clean'],axis=1)\n",
    "    y = df.HP_Forbidden_clean\n",
    "    return(x,y)\n",
    "\n",
    "def trainTest(x,y):\n",
    "    X_train, X_test, y_train, y_test = train_test_split(x, y, test_size=0.30, shuffle=True)\n",
    "    return(X_train, X_test, y_train, y_test)\n",
    "\n",
    "smote = SMOTE(random_state=42)\n",
    "X,Y=getXandY(hp)\n",
    "X_train, X_test, y_train, y_test = trainTest(X,Y)\n",
    "X_train_Smote, y_train_Smote= smote.fit_resample(X_train, y_train)\n",
    "\n",
    "mrmrO = ['month', 'day', 'year', 'hour', 'minute', 'holiday', 'dayOfTheWeek', 'temperature', 'humidity', \n",
    "         'pressure', 'heavy intensity rain', 'light rain', 'broken clouds', 'scattered clouds', \n",
    "         'thunderstorm with rain', 'few clouds', 'thunderstorm', 'shower rain', 'heavy intensity rain', \n",
    "         'mist', 'scattered clouds']\n",
    "X_train_Smot_r = X_train_Smote[mrmrO]\n",
    "X_test_r = X_test[mrmrO]\n",
    "\n",
    "print(sorted(Counter(y_train_Smote).items()))"
   ]
  },
  {
   "cell_type": "code",
   "execution_count": 8,
   "id": "8fa02ea7",
   "metadata": {
    "scrolled": true
   },
   "outputs": [
    {
     "name": "stdout",
     "output_type": "stream",
     "text": [
      "              precision    recall  f1-score   support\n",
      "\n",
      "         1.0       0.63      0.73      0.68      2345\n",
      "         2.0       0.51      0.49      0.50      1535\n",
      "         3.0       0.33      0.21      0.26       845\n",
      "\n",
      "    accuracy                           0.56      4725\n",
      "   macro avg       0.49      0.48      0.48      4725\n",
      "weighted avg       0.54      0.56      0.54      4725\n",
      "\n"
     ]
    },
    {
     "name": "stderr",
     "output_type": "stream",
     "text": [
      "/Users/rodrigoledesmagarces/opt/anaconda3/lib/python3.8/site-packages/sklearn/svm/_base.py:985: ConvergenceWarning: Liblinear failed to converge, increase the number of iterations.\n",
      "  warnings.warn(\"Liblinear failed to converge, increase \"\n"
     ]
    }
   ],
   "source": [
    "lsvm = LinearSVC(C=1, loss=\"hinge\")\n",
    "lsvm.fit(X_train_Smot_r,y_train_Smote)\n",
    "y_pred=lsvm.predict(X_test_r)\n",
    "print(classification_report(y_test, y_pred))"
   ]
  },
  {
   "cell_type": "markdown",
   "id": "5d03ab2a",
   "metadata": {},
   "source": [
    "# Testing out different variable cambinations according to feature selection methods"
   ]
  },
  {
   "cell_type": "markdown",
   "id": "8ed2aa35",
   "metadata": {},
   "source": [
    "Important functions"
   ]
  },
  {
   "cell_type": "code",
   "execution_count": 4,
   "id": "277c9d76",
   "metadata": {},
   "outputs": [],
   "source": [
    "#Function to perform oversampling\n",
    "def overSampling(X_train, y_train, y_test, method):\n",
    "    X_train_os, y_train_os= method.fit_resample(X_train, y_train)\n",
    "    # Check the number of records after over sampling\n",
    "    #print(sorted(Counter(y_train_os).items())) \n",
    "    return(X_train_os, y_train_os)"
   ]
  },
  {
   "cell_type": "code",
   "execution_count": 5,
   "id": "6abb1770",
   "metadata": {},
   "outputs": [],
   "source": [
    "smote = SMOTE(random_state=42)\n",
    "\n",
    "def testModel(df,var_order,n_vars,n_loops):\n",
    "    for j in tqdm(range(1,n_vars)):\n",
    "        #split our dataframe into X and Y\n",
    "        x,y=getXandY(df)\n",
    "        #create the lists to store metrics\n",
    "        acc = []\n",
    "        rec = []\n",
    "        preci = []\n",
    "        f1 = []\n",
    "        for i in range(n_loops):\n",
    "            #split the dataFrame into test and train\n",
    "            X_train, X_test, y_train, y_test = trainTest(x,y)\n",
    "            #Oversample the train dataset with SMOTE\n",
    "            X_train_os, y_train_os=overSampling(X_train, y_train, y_test, smote)\n",
    "            #define the variables order \n",
    "            X_train_os_r = X_train_os[var_order]\n",
    "            X_test_r = X_test[var_order]\n",
    "            df1= X_train_os_r.iloc[:, 0:j] #use only part of the variables\n",
    "            lsvm = LinearSVC(C=1, loss=\"hinge\")\n",
    "            lsvm.fit(df1, y_train_os).decision_function(X_test_r.iloc[:, 0:j])\n",
    "            #lg = LogisticRegression(max_iter=20000)\n",
    "            #lg.fit(df1, y_train_os).decision_function(X_test_r.iloc[:, 0:j])\n",
    "            y_pred=lsvm.predict(X_test_r.iloc[:, 0:j])\n",
    "            ac=metrics.accuracy_score(y_test, y_pred)\n",
    "            acc.append(ac)\n",
    "            p=metrics.precision_score(y_test, y_pred,average='macro')\n",
    "            preci.append(p)\n",
    "            r=metrics.recall_score(y_test, y_pred,average='macro')\n",
    "            rec.append(r)\n",
    "            f=metrics.f1_score(y_test, y_pred, average='macro')\n",
    "            f1.append(f)\n",
    "        print(df1.columns)\n",
    "        print(\"For {} features: \\n Accuracy: {} \\n Precision: {} \\n Recall: {} \\n F1 score: {}\".format(\n",
    "        j,mean(acc),mean(preci),mean(rec),mean(f1)))\n",
    "        print(classification_report(y_test, y_pred))"
   ]
  },
  {
   "cell_type": "code",
   "execution_count": 6,
   "id": "959eff78",
   "metadata": {},
   "outputs": [],
   "source": [
    "def analizeDF(df,order,n_vars,n_loops):\n",
    "    for i in range(len(order)):\n",
    "        print('------------------------- Analyzing method {} -------------------------'.format(method[i]))\n",
    "        print('The variable order is: \\n {}'.format(order[i]))\n",
    "        testModel(df,order[i],n_vars,n_loops)\n",
    "        print('\\n \\n')"
   ]
  },
  {
   "cell_type": "markdown",
   "id": "2851dfec",
   "metadata": {},
   "source": [
    "### One Hot Encoding"
   ]
  },
  {
   "cell_type": "code",
   "execution_count": 9,
   "id": "ab6706fb",
   "metadata": {},
   "outputs": [],
   "source": [
    "#Variable order in one hot encoding:\n",
    "pear_corrO = ['temperature',\t'holiday',\t'day',\t'month',\t'pressure',\t'dayOfTheWeek',\t'shower rain',\t'broken clouds',\t'fog',\t'overcast clouds',\t'heavy intensity rain',\t'minute',\t'haze',\t'thunderstorm with light rain',\t'scattered clouds',\t'clear sky',\t'mist',\t'light intensity drizzle',\t'few clouds',\t'thunderstorm',\t'very heavy rain',\t'moderate rain',\t'thunderstorm with rain',\t'year',\t'light rain',\t'humidity',\t'hour',\t'Pandemic']\n",
    "kend_corrO = ['temperature',\t'holiday',\t'month',\t'day',\t'pressure',\t'dayOfTheWeek',\t'shower rain',\t'broken clouds',\t'heavy intensity rain',\t'fog',\t'year',\t'overcast clouds',\t'minute',\t'haze',\t'thunderstorm with light rain',\t'mist',\t'light intensity drizzle',\t'scattered clouds',\t'clear sky',\t'few clouds',\t'thunderstorm',\t'very heavy rain',\t'moderate rain',\t'thunderstorm with rain',\t'light rain',\t'humidity',\t'hour',\t'Pandemic']\n",
    "mutInf_classO = ['month',\t'day',\t'year',\t'hour',\t'minute',\t'holiday',\t'dayOfTheWeek',\t'Pandemic',\t'temperature',\t'humidity',\t'pressure',\t'heavy intensity rain',\t'light rain',\t'broken clouds',\t'moderate rain',\t'mist',\t'overcast clouds',\t'clear sky',\t'scattered clouds',\t'thunderstorm with rain',\t'few clouds',\t'thunderstorm',\t'shower rain',\t'very heavy rain',\t'fog',\t'haze',\t'thunderstorm with light rain',\t'light intensity drizzle']\n",
    "mutInf_regO = ['month',\t'day',\t'year',\t'hour',\t'minute',\t'holiday',\t'dayOfTheWeek',\t'Pandemic',\t'temperature',\t'humidity',\t'pressure',\t'heavy intensity rain',\t'light rain',\t'broken clouds',\t'moderate rain',\t'mist',\t'overcast clouds',\t'clear sky',\t'scattered clouds',\t'thunderstorm with rain',\t'few clouds',\t'thunderstorm',\t'shower rain',\t'very heavy rain',\t'fog',\t'haze',\t'thunderstorm with light rain',\t'light intensity drizzle']\n",
    "mutInf_class2O = ['day',\t'temperature',\t'month',\t'humidity',\t'hour',\t'pressure','dayOfTheWeek',\t'year',\t'holiday',\t'shower rain',\t'light rain',\t'thunderstorm',\t'fog',\t'broken clouds',\t'Pandemic',\t'thunderstorm with rain',\t'light intensity drizzle',\t'thunderstorm with light rain',\t'heavy intensity rain',\t'mist',\t'scattered clouds',\t'very heavy rain',\t'overcast clouds',\t'moderate rain',\t'minute',\t'haze',\t'few clouds',\t'clear sky']\n",
    "varThreO = ['month',\t'day',\t'year',\t'hour',\t'minute',\t'holiday',\t'dayOfTheWeek',\t'temperature',\t'humidity',\t'pressure',\t'heavy intensity rain',\t'light rain',\t'broken clouds',\t'scattered clouds',\t'thunderstorm with rain',\t'few clouds',\t'thunderstorm',\t'shower rain',]\n",
    "mrmrO = ['month',\t'day',\t'year',\t'hour',\t'minute',\t'holiday',\t'dayOfTheWeek',\t'temperature',\t'humidity',\t'pressure',\t'heavy intensity rain',\t'light rain',\t'broken clouds',\t'scattered clouds',\t'thunderstorm with rain',\t'few clouds',\t'thunderstorm',\t'shower rain',\t'heavy intensity rain',\t'mist',\t'scattered clouds',\t'very heavy rain',\t'overcast clouds',\t'moderate rain',\t'minute',\t'haze',\t'few clouds']\n",
    "\n",
    "orderOHE=[pear_corrO,kend_corrO,mutInf_classO,mutInf_regO,mutInf_class2O,varThreO,mrmrO]\n",
    "\n",
    "method = ['Pearson_correlation','Kendalls_correlation','mutualInformation_classification',\n",
    "          'mutualInformation_reggression','mutualInformation_classification2',\n",
    "          'varianceThreshold','MRMR']"
   ]
  },
  {
   "cell_type": "code",
   "execution_count": 16,
   "id": "e3fc2941",
   "metadata": {
    "scrolled": true
   },
   "outputs": [
    {
     "name": "stderr",
     "output_type": "stream",
     "text": [
      "\r",
      "  0%|          | 0/27 [00:00<?, ?it/s]"
     ]
    },
    {
     "name": "stdout",
     "output_type": "stream",
     "text": [
      "------------------------- Analyzing method Pearson_correlation -------------------------\n",
      "The variable order is: \n",
      " ['temperature', 'holiday', 'day', 'month', 'pressure', 'dayOfTheWeek', 'shower rain', 'broken clouds', 'fog', 'overcast clouds', 'heavy intensity rain', 'minute', 'haze', 'thunderstorm with light rain', 'scattered clouds', 'clear sky', 'mist', 'light intensity drizzle', 'few clouds', 'thunderstorm', 'very heavy rain', 'moderate rain', 'thunderstorm with rain', 'year', 'light rain', 'humidity', 'hour', 'Pandemic']\n"
     ]
    },
    {
     "name": "stderr",
     "output_type": "stream",
     "text": [
      "\r",
      "  4%|▎         | 1/27 [00:04<02:04,  4.81s/it]"
     ]
    },
    {
     "name": "stdout",
     "output_type": "stream",
     "text": [
      "Index(['temperature'], dtype='object')\n",
      "For 1 features: \n",
      " Accuracy: 0.46427333766515055 \n",
      " Precision: 0.294389307619276 \n",
      " Recall: 0.3675773647619927 \n",
      " F1 score: 0.31317531958385614\n",
      "              precision    recall  f1-score   support\n",
      "\n",
      "         1.0       0.57      0.72      0.64      2397\n",
      "         2.0       0.00      0.00      0.00      1410\n",
      "         3.0       0.20      0.39      0.26       810\n",
      "\n",
      "    accuracy                           0.44      4617\n",
      "   macro avg       0.26      0.37      0.30      4617\n",
      "weighted avg       0.33      0.44      0.38      4617\n",
      "\n"
     ]
    },
    {
     "name": "stderr",
     "output_type": "stream",
     "text": [
      "\r",
      "  7%|▋         | 2/27 [00:09<01:58,  4.74s/it]"
     ]
    },
    {
     "name": "stdout",
     "output_type": "stream",
     "text": [
      "Index(['temperature', 'holiday'], dtype='object')\n",
      "For 2 features: \n",
      " Accuracy: 0.43657558013446107 \n",
      " Precision: 0.3792895046102583 \n",
      " Recall: 0.3969287488793286 \n",
      " F1 score: 0.3521352492942194\n",
      "              precision    recall  f1-score   support\n",
      "\n",
      "         1.0       0.60      0.51      0.55      2362\n",
      "         2.0       0.38      0.59      0.46      1436\n",
      "         3.0       0.37      0.19      0.25       813\n",
      "\n",
      "    accuracy                           0.48      4611\n",
      "   macro avg       0.45      0.43      0.42      4611\n",
      "weighted avg       0.49      0.48      0.47      4611\n",
      "\n"
     ]
    },
    {
     "name": "stderr",
     "output_type": "stream",
     "text": [
      "\r",
      " 11%|█         | 3/27 [00:14<01:53,  4.71s/it]"
     ]
    },
    {
     "name": "stdout",
     "output_type": "stream",
     "text": [
      "Index(['temperature', 'holiday', 'day'], dtype='object')\n",
      "For 3 features: \n",
      " Accuracy: 0.44585233441910965 \n",
      " Precision: 0.40941293489944247 \n",
      " Recall: 0.40409024505045144 \n",
      " F1 score: 0.36830470803822685\n",
      "              precision    recall  f1-score   support\n",
      "\n",
      "         1.0       0.61      0.48      0.54      2387\n",
      "         2.0       0.00      0.00      0.00      1435\n",
      "         3.0       0.19      0.66      0.30       783\n",
      "\n",
      "    accuracy                           0.36      4605\n",
      "   macro avg       0.27      0.38      0.28      4605\n",
      "weighted avg       0.35      0.36      0.33      4605\n",
      "\n"
     ]
    },
    {
     "name": "stderr",
     "output_type": "stream",
     "text": [
      "\r",
      " 15%|█▍        | 4/27 [00:19<01:51,  4.85s/it]"
     ]
    },
    {
     "name": "stdout",
     "output_type": "stream",
     "text": [
      "Index(['temperature', 'holiday', 'day', 'month'], dtype='object')\n",
      "For 4 features: \n",
      " Accuracy: 0.40428353989997823 \n",
      " Precision: 0.3804230007199488 \n",
      " Recall: 0.40175173988703006 \n",
      " F1 score: 0.34716389614000515\n",
      "              precision    recall  f1-score   support\n",
      "\n",
      "         1.0       0.63      0.42      0.51      2375\n",
      "         2.0       0.00      0.00      0.00      1430\n",
      "         3.0       0.19      0.72      0.30       794\n",
      "\n",
      "    accuracy                           0.34      4599\n",
      "   macro avg       0.27      0.38      0.27      4599\n",
      "weighted avg       0.36      0.34      0.31      4599\n",
      "\n"
     ]
    },
    {
     "name": "stderr",
     "output_type": "stream",
     "text": [
      "\r",
      " 19%|█▊        | 5/27 [00:24<01:48,  4.92s/it]"
     ]
    },
    {
     "name": "stdout",
     "output_type": "stream",
     "text": [
      "Index(['temperature', 'holiday', 'day', 'month', 'pressure'], dtype='object')\n",
      "For 5 features: \n",
      " Accuracy: 0.46231221423905944 \n",
      " Precision: 0.40354943212895944 \n",
      " Recall: 0.4082585218558867 \n",
      " F1 score: 0.37796441685424553\n",
      "              precision    recall  f1-score   support\n",
      "\n",
      "         1.0       0.60      0.60      0.60      2411\n",
      "         2.0       0.37      0.48      0.42      1390\n",
      "         3.0       0.41      0.20      0.26       792\n",
      "\n",
      "    accuracy                           0.49      4593\n",
      "   macro avg       0.46      0.43      0.43      4593\n",
      "weighted avg       0.50      0.49      0.49      4593\n",
      "\n"
     ]
    },
    {
     "name": "stderr",
     "output_type": "stream",
     "text": [
      "\r",
      " 22%|██▏       | 6/27 [00:29<01:43,  4.91s/it]"
     ]
    },
    {
     "name": "stdout",
     "output_type": "stream",
     "text": [
      "Index(['temperature', 'holiday', 'day', 'month', 'pressure', 'dayOfTheWeek'], dtype='object')\n",
      "For 6 features: \n",
      " Accuracy: 0.46091127098321344 \n",
      " Precision: 0.4052357636252063 \n",
      " Recall: 0.4065552747705847 \n",
      " F1 score: 0.3713742207017508\n",
      "              precision    recall  f1-score   support\n",
      "\n",
      "         1.0       0.62      0.56      0.59      2351\n",
      "         2.0       0.35      0.27      0.31      1424\n",
      "         3.0       0.29      0.49      0.36       812\n",
      "\n",
      "    accuracy                           0.46      4587\n",
      "   macro avg       0.42      0.44      0.42      4587\n",
      "weighted avg       0.48      0.46      0.46      4587\n",
      "\n"
     ]
    },
    {
     "name": "stderr",
     "output_type": "stream",
     "text": [
      "\r",
      " 26%|██▌       | 7/27 [00:34<01:38,  4.94s/it]"
     ]
    },
    {
     "name": "stdout",
     "output_type": "stream",
     "text": [
      "Index(['temperature', 'holiday', 'day', 'month', 'pressure', 'dayOfTheWeek',\n",
      "       'shower rain'],\n",
      "      dtype='object')\n",
      "For 7 features: \n",
      " Accuracy: 0.46432001746343593 \n",
      " Precision: 0.4260755226799813 \n",
      " Recall: 0.4066328716996117 \n",
      " F1 score: 0.37016113962278435\n",
      "              precision    recall  f1-score   support\n",
      "\n",
      "         1.0       0.58      0.63      0.61      2373\n",
      "         2.0       0.40      0.36      0.38      1415\n",
      "         3.0       0.26      0.23      0.25       793\n",
      "\n",
      "    accuracy                           0.48      4581\n",
      "   macro avg       0.41      0.41      0.41      4581\n",
      "weighted avg       0.47      0.48      0.47      4581\n",
      "\n"
     ]
    },
    {
     "name": "stderr",
     "output_type": "stream",
     "text": [
      "\r",
      " 30%|██▉       | 8/27 [00:39<01:34,  4.97s/it]"
     ]
    },
    {
     "name": "stdout",
     "output_type": "stream",
     "text": [
      "Index(['temperature', 'holiday', 'day', 'month', 'pressure', 'dayOfTheWeek',\n",
      "       'shower rain', 'broken clouds'],\n",
      "      dtype='object')\n",
      "For 8 features: \n",
      " Accuracy: 0.47527868852459015 \n",
      " Precision: 0.4177076209204983 \n",
      " Recall: 0.4097661725994697 \n",
      " F1 score: 0.3856500135234139\n",
      "              precision    recall  f1-score   support\n",
      "\n",
      "         1.0       0.60      0.64      0.62      2384\n",
      "         2.0       0.36      0.11      0.17      1382\n",
      "         3.0       0.25      0.49      0.33       809\n",
      "\n",
      "    accuracy                           0.45      4575\n",
      "   macro avg       0.40      0.41      0.37      4575\n",
      "weighted avg       0.47      0.45      0.43      4575\n",
      "\n"
     ]
    },
    {
     "name": "stderr",
     "output_type": "stream",
     "text": [
      "\r",
      " 33%|███▎      | 9/27 [00:44<01:31,  5.08s/it]"
     ]
    },
    {
     "name": "stdout",
     "output_type": "stream",
     "text": [
      "Index(['temperature', 'holiday', 'day', 'month', 'pressure', 'dayOfTheWeek',\n",
      "       'shower rain', 'broken clouds', 'fog'],\n",
      "      dtype='object')\n",
      "For 9 features: \n",
      " Accuracy: 0.47253228277522435 \n",
      " Precision: 0.43183910772329126 \n",
      " Recall: 0.4135774941796978 \n",
      " F1 score: 0.3934837524676338\n",
      "              precision    recall  f1-score   support\n",
      "\n",
      "         1.0       0.58      0.75      0.65      2406\n",
      "         2.0       0.47      0.03      0.06      1391\n",
      "         3.0       0.22      0.40      0.28       772\n",
      "\n",
      "    accuracy                           0.47      4569\n",
      "   macro avg       0.42      0.39      0.33      4569\n",
      "weighted avg       0.48      0.47      0.41      4569\n",
      "\n"
     ]
    },
    {
     "name": "stderr",
     "output_type": "stream",
     "text": [
      "\r",
      " 37%|███▋      | 10/27 [00:49<01:25,  5.04s/it]"
     ]
    },
    {
     "name": "stdout",
     "output_type": "stream",
     "text": [
      "Index(['temperature', 'holiday', 'day', 'month', 'pressure', 'dayOfTheWeek',\n",
      "       'shower rain', 'broken clouds', 'fog', 'overcast clouds'],\n",
      "      dtype='object')\n",
      "For 10 features: \n",
      " Accuracy: 0.46455182993644534 \n",
      " Precision: 0.4157100624417933 \n",
      " Recall: 0.40503724673754793 \n",
      " F1 score: 0.3726150666588793\n",
      "              precision    recall  f1-score   support\n",
      "\n",
      "         1.0       0.61      0.62      0.62      2422\n",
      "         2.0       0.38      0.36      0.37      1363\n",
      "         3.0       0.27      0.28      0.27       778\n",
      "\n",
      "    accuracy                           0.48      4563\n",
      "   macro avg       0.42      0.42      0.42      4563\n",
      "weighted avg       0.48      0.48      0.48      4563\n",
      "\n"
     ]
    },
    {
     "name": "stderr",
     "output_type": "stream",
     "text": [
      "\r",
      " 41%|████      | 11/27 [00:54<01:20,  5.02s/it]"
     ]
    },
    {
     "name": "stdout",
     "output_type": "stream",
     "text": [
      "Index(['temperature', 'holiday', 'day', 'month', 'pressure', 'dayOfTheWeek',\n",
      "       'shower rain', 'broken clouds', 'fog', 'overcast clouds',\n",
      "       'heavy intensity rain'],\n",
      "      dtype='object')\n",
      "For 11 features: \n",
      " Accuracy: 0.48172043010752685 \n",
      " Precision: 0.4224479198923345 \n",
      " Recall: 0.4087523213964025 \n",
      " F1 score: 0.39388498578919967\n",
      "              precision    recall  f1-score   support\n",
      "\n",
      "         1.0       0.61      0.57      0.59      2319\n",
      "         2.0       0.39      0.50      0.44      1428\n",
      "         3.0       0.33      0.22      0.27       810\n",
      "\n",
      "    accuracy                           0.49      4557\n",
      "   macro avg       0.44      0.43      0.43      4557\n",
      "weighted avg       0.49      0.49      0.48      4557\n",
      "\n"
     ]
    },
    {
     "name": "stderr",
     "output_type": "stream",
     "text": [
      "\r",
      " 44%|████▍     | 12/27 [00:59<01:15,  5.06s/it]"
     ]
    },
    {
     "name": "stdout",
     "output_type": "stream",
     "text": [
      "Index(['temperature', 'holiday', 'day', 'month', 'pressure', 'dayOfTheWeek',\n",
      "       'shower rain', 'broken clouds', 'fog', 'overcast clouds',\n",
      "       'heavy intensity rain', 'minute'],\n",
      "      dtype='object')\n",
      "For 12 features: \n",
      " Accuracy: 0.4551856734783564 \n",
      " Precision: 0.41261768457772985 \n",
      " Recall: 0.40782733765920787 \n",
      " F1 score: 0.37572202469897026\n",
      "              precision    recall  f1-score   support\n",
      "\n",
      "         1.0       0.62      0.52      0.57      2334\n",
      "         2.0       0.31      0.01      0.01      1422\n",
      "         3.0       0.22      0.70      0.33       795\n",
      "\n",
      "    accuracy                           0.39      4551\n",
      "   macro avg       0.38      0.41      0.30      4551\n",
      "weighted avg       0.45      0.39      0.35      4551\n",
      "\n"
     ]
    },
    {
     "name": "stderr",
     "output_type": "stream",
     "text": [
      "\r",
      " 48%|████▊     | 13/27 [01:05<01:13,  5.25s/it]"
     ]
    },
    {
     "name": "stdout",
     "output_type": "stream",
     "text": [
      "Index(['temperature', 'holiday', 'day', 'month', 'pressure', 'dayOfTheWeek',\n",
      "       'shower rain', 'broken clouds', 'fog', 'overcast clouds',\n",
      "       'heavy intensity rain', 'minute', 'haze'],\n",
      "      dtype='object')\n",
      "For 13 features: \n",
      " Accuracy: 0.4624972497249725 \n",
      " Precision: 0.4136886090157912 \n",
      " Recall: 0.40761840619226086 \n",
      " F1 score: 0.36258681231477274\n",
      "              precision    recall  f1-score   support\n",
      "\n",
      "         1.0       0.57      0.74      0.64      2367\n",
      "         2.0       0.39      0.11      0.18      1373\n",
      "         3.0       0.30      0.40      0.34       805\n",
      "\n",
      "    accuracy                           0.49      4545\n",
      "   macro avg       0.42      0.42      0.39      4545\n",
      "weighted avg       0.47      0.49      0.45      4545\n",
      "\n"
     ]
    },
    {
     "name": "stderr",
     "output_type": "stream",
     "text": [
      "\r",
      " 52%|█████▏    | 14/27 [01:14<01:25,  6.58s/it]"
     ]
    },
    {
     "name": "stdout",
     "output_type": "stream",
     "text": [
      "Index(['temperature', 'holiday', 'day', 'month', 'pressure', 'dayOfTheWeek',\n",
      "       'shower rain', 'broken clouds', 'fog', 'overcast clouds',\n",
      "       'heavy intensity rain', 'minute', 'haze',\n",
      "       'thunderstorm with light rain'],\n",
      "      dtype='object')\n",
      "For 14 features: \n",
      " Accuracy: 0.4286076228244107 \n",
      " Precision: 0.41363386300592714 \n",
      " Recall: 0.4046907918441565 \n",
      " F1 score: 0.35095366023367275\n",
      "              precision    recall  f1-score   support\n",
      "\n",
      "         1.0       0.61      0.54      0.57      2332\n",
      "         2.0       0.38      0.47      0.42      1432\n",
      "         3.0       0.33      0.31      0.32       775\n",
      "\n",
      "    accuracy                           0.48      4539\n",
      "   macro avg       0.44      0.44      0.44      4539\n",
      "weighted avg       0.49      0.48      0.48      4539\n",
      "\n"
     ]
    },
    {
     "name": "stderr",
     "output_type": "stream",
     "text": [
      "\r",
      " 56%|█████▌    | 15/27 [01:23<01:25,  7.11s/it]"
     ]
    },
    {
     "name": "stdout",
     "output_type": "stream",
     "text": [
      "Index(['temperature', 'holiday', 'day', 'month', 'pressure', 'dayOfTheWeek',\n",
      "       'shower rain', 'broken clouds', 'fog', 'overcast clouds',\n",
      "       'heavy intensity rain', 'minute', 'haze',\n",
      "       'thunderstorm with light rain', 'scattered clouds'],\n",
      "      dtype='object')\n",
      "For 15 features: \n",
      " Accuracy: 0.4429627178469005 \n",
      " Precision: 0.41307326068854155 \n",
      " Recall: 0.40462365719304305 \n",
      " F1 score: 0.3736671473334676\n",
      "              precision    recall  f1-score   support\n",
      "\n",
      "         1.0       0.59      0.69      0.64      2347\n",
      "         2.0       0.39      0.26      0.31      1408\n",
      "         3.0       0.30      0.33      0.32       778\n",
      "\n",
      "    accuracy                           0.49      4533\n",
      "   macro avg       0.43      0.43      0.42      4533\n",
      "weighted avg       0.48      0.49      0.48      4533\n",
      "\n"
     ]
    },
    {
     "name": "stderr",
     "output_type": "stream",
     "text": [
      "\r",
      " 59%|█████▉    | 16/27 [01:31<01:21,  7.42s/it]"
     ]
    },
    {
     "name": "stdout",
     "output_type": "stream",
     "text": [
      "Index(['temperature', 'holiday', 'day', 'month', 'pressure', 'dayOfTheWeek',\n",
      "       'shower rain', 'broken clouds', 'fog', 'overcast clouds',\n",
      "       'heavy intensity rain', 'minute', 'haze',\n",
      "       'thunderstorm with light rain', 'scattered clouds', 'clear sky'],\n",
      "      dtype='object')\n",
      "For 16 features: \n",
      " Accuracy: 0.4000220896841175 \n",
      " Precision: 0.40865088111983244 \n",
      " Recall: 0.3950507210245074 \n",
      " F1 score: 0.3319377954334529\n",
      "              precision    recall  f1-score   support\n",
      "\n",
      "         1.0       0.56      0.75      0.64      2347\n",
      "         2.0       0.36      0.05      0.09      1387\n",
      "         3.0       0.24      0.36      0.29       793\n",
      "\n",
      "    accuracy                           0.47      4527\n",
      "   macro avg       0.39      0.39      0.34      4527\n",
      "weighted avg       0.44      0.47      0.41      4527\n",
      "\n"
     ]
    },
    {
     "name": "stderr",
     "output_type": "stream",
     "text": [
      "\r",
      " 63%|██████▎   | 17/27 [01:38<01:14,  7.45s/it]"
     ]
    },
    {
     "name": "stdout",
     "output_type": "stream",
     "text": [
      "Index(['temperature', 'holiday', 'day', 'month', 'pressure', 'dayOfTheWeek',\n",
      "       'shower rain', 'broken clouds', 'fog', 'overcast clouds',\n",
      "       'heavy intensity rain', 'minute', 'haze',\n",
      "       'thunderstorm with light rain', 'scattered clouds', 'clear sky',\n",
      "       'mist'],\n",
      "      dtype='object')\n",
      "For 17 features: \n",
      " Accuracy: 0.4577195310771953 \n",
      " Precision: 0.41393149620268 \n",
      " Recall: 0.40440451955185835 \n",
      " F1 score: 0.37212371980835063\n",
      "              precision    recall  f1-score   support\n",
      "\n",
      "         1.0       0.72      0.32      0.44      2341\n",
      "         2.0       0.27      0.06      0.10      1365\n",
      "         3.0       0.21      0.82      0.33       815\n",
      "\n",
      "    accuracy                           0.33      4521\n",
      "   macro avg       0.40      0.40      0.29      4521\n",
      "weighted avg       0.49      0.33      0.32      4521\n",
      "\n"
     ]
    },
    {
     "name": "stderr",
     "output_type": "stream",
     "text": [
      "\r",
      " 67%|██████▋   | 18/27 [01:49<01:16,  8.45s/it]"
     ]
    },
    {
     "name": "stdout",
     "output_type": "stream",
     "text": [
      "Index(['temperature', 'holiday', 'day', 'month', 'pressure', 'dayOfTheWeek',\n",
      "       'shower rain', 'broken clouds', 'fog', 'overcast clouds',\n",
      "       'heavy intensity rain', 'minute', 'haze',\n",
      "       'thunderstorm with light rain', 'scattered clouds', 'clear sky', 'mist',\n",
      "       'light intensity drizzle'],\n",
      "      dtype='object')\n",
      "For 18 features: \n",
      " Accuracy: 0.4597452934662237 \n",
      " Precision: 0.41071894680925597 \n",
      " Recall: 0.4038171350101249 \n",
      " F1 score: 0.383643861311525\n",
      "              precision    recall  f1-score   support\n",
      "\n",
      "         1.0       0.66      0.30      0.41      2353\n",
      "         2.0       0.34      0.72      0.46      1386\n",
      "         3.0       0.29      0.21      0.24       776\n",
      "\n",
      "    accuracy                           0.41      4515\n",
      "   macro avg       0.43      0.41      0.37      4515\n",
      "weighted avg       0.50      0.41      0.40      4515\n",
      "\n"
     ]
    },
    {
     "name": "stderr",
     "output_type": "stream",
     "text": [
      "\r",
      " 70%|███████   | 19/27 [02:00<01:12,  9.03s/it]"
     ]
    },
    {
     "name": "stdout",
     "output_type": "stream",
     "text": [
      "Index(['temperature', 'holiday', 'day', 'month', 'pressure', 'dayOfTheWeek',\n",
      "       'shower rain', 'broken clouds', 'fog', 'overcast clouds',\n",
      "       'heavy intensity rain', 'minute', 'haze',\n",
      "       'thunderstorm with light rain', 'scattered clouds', 'clear sky', 'mist',\n",
      "       'light intensity drizzle', 'few clouds'],\n",
      "      dtype='object')\n",
      "For 19 features: \n",
      " Accuracy: 0.4203481925038811 \n",
      " Precision: 0.39737559334905004 \n",
      " Recall: 0.39345044198373663 \n",
      " F1 score: 0.34672415354704955\n",
      "              precision    recall  f1-score   support\n",
      "\n",
      "         1.0       0.56      0.80      0.66      2332\n",
      "         2.0       0.35      0.10      0.15      1389\n",
      "         3.0       0.27      0.27      0.27       788\n",
      "\n",
      "    accuracy                           0.49      4509\n",
      "   macro avg       0.39      0.39      0.36      4509\n",
      "weighted avg       0.44      0.49      0.43      4509\n",
      "\n"
     ]
    },
    {
     "name": "stderr",
     "output_type": "stream",
     "text": [
      "\r",
      " 74%|███████▍  | 20/27 [02:10<01:05,  9.29s/it]"
     ]
    },
    {
     "name": "stdout",
     "output_type": "stream",
     "text": [
      "Index(['temperature', 'holiday', 'day', 'month', 'pressure', 'dayOfTheWeek',\n",
      "       'shower rain', 'broken clouds', 'fog', 'overcast clouds',\n",
      "       'heavy intensity rain', 'minute', 'haze',\n",
      "       'thunderstorm with light rain', 'scattered clouds', 'clear sky', 'mist',\n",
      "       'light intensity drizzle', 'few clouds', 'thunderstorm'],\n",
      "      dtype='object')\n",
      "For 20 features: \n",
      " Accuracy: 0.44261603375527425 \n",
      " Precision: 0.4178856188738299 \n",
      " Recall: 0.40471927015728815 \n",
      " F1 score: 0.36023070841261773\n",
      "              precision    recall  f1-score   support\n",
      "\n",
      "         1.0       0.60      0.47      0.53      2339\n",
      "         2.0       0.30      0.00      0.00      1412\n",
      "         3.0       0.20      0.72      0.32       752\n",
      "\n",
      "    accuracy                           0.37      4503\n",
      "   macro avg       0.37      0.40      0.28      4503\n",
      "weighted avg       0.44      0.37      0.33      4503\n",
      "\n"
     ]
    },
    {
     "name": "stderr",
     "output_type": "stream",
     "text": [
      "\r",
      " 78%|███████▊  | 21/27 [02:19<00:55,  9.25s/it]"
     ]
    },
    {
     "name": "stdout",
     "output_type": "stream",
     "text": [
      "Index(['temperature', 'holiday', 'day', 'month', 'pressure', 'dayOfTheWeek',\n",
      "       'shower rain', 'broken clouds', 'fog', 'overcast clouds',\n",
      "       'heavy intensity rain', 'minute', 'haze',\n",
      "       'thunderstorm with light rain', 'scattered clouds', 'clear sky', 'mist',\n",
      "       'light intensity drizzle', 'few clouds', 'thunderstorm',\n",
      "       'very heavy rain'],\n",
      "      dtype='object')\n",
      "For 21 features: \n",
      " Accuracy: 0.44856571047364907 \n",
      " Precision: 0.4087051828823698 \n",
      " Recall: 0.40937621453776435 \n",
      " F1 score: 0.3783076116357036\n",
      "              precision    recall  f1-score   support\n",
      "\n",
      "         1.0       0.62      0.40      0.49      2353\n",
      "         2.0       0.30      0.25      0.28      1356\n",
      "         3.0       0.22      0.52      0.31       788\n",
      "\n",
      "    accuracy                           0.38      4497\n",
      "   macro avg       0.38      0.39      0.36      4497\n",
      "weighted avg       0.46      0.38      0.39      4497\n",
      "\n"
     ]
    },
    {
     "name": "stderr",
     "output_type": "stream",
     "text": [
      "\r",
      " 81%|████████▏ | 22/27 [02:29<00:47,  9.50s/it]"
     ]
    },
    {
     "name": "stdout",
     "output_type": "stream",
     "text": [
      "Index(['temperature', 'holiday', 'day', 'month', 'pressure', 'dayOfTheWeek',\n",
      "       'shower rain', 'broken clouds', 'fog', 'overcast clouds',\n",
      "       'heavy intensity rain', 'minute', 'haze',\n",
      "       'thunderstorm with light rain', 'scattered clouds', 'clear sky', 'mist',\n",
      "       'light intensity drizzle', 'few clouds', 'thunderstorm',\n",
      "       'very heavy rain', 'moderate rain'],\n",
      "      dtype='object')\n",
      "For 22 features: \n",
      " Accuracy: 0.442039634825206 \n",
      " Precision: 0.4072602347120606 \n",
      " Recall: 0.4024519356029523 \n",
      " F1 score: 0.36837017718083154\n",
      "              precision    recall  f1-score   support\n",
      "\n",
      "         1.0       0.62      0.58      0.60      2358\n",
      "         2.0       0.37      0.41      0.39      1346\n",
      "         3.0       0.27      0.27      0.27       787\n",
      "\n",
      "    accuracy                           0.48      4491\n",
      "   macro avg       0.42      0.42      0.42      4491\n",
      "weighted avg       0.48      0.48      0.48      4491\n",
      "\n"
     ]
    },
    {
     "name": "stderr",
     "output_type": "stream",
     "text": [
      "\r",
      " 85%|████████▌ | 23/27 [02:39<00:38,  9.71s/it]"
     ]
    },
    {
     "name": "stdout",
     "output_type": "stream",
     "text": [
      "Index(['temperature', 'holiday', 'day', 'month', 'pressure', 'dayOfTheWeek',\n",
      "       'shower rain', 'broken clouds', 'fog', 'overcast clouds',\n",
      "       'heavy intensity rain', 'minute', 'haze',\n",
      "       'thunderstorm with light rain', 'scattered clouds', 'clear sky', 'mist',\n",
      "       'light intensity drizzle', 'few clouds', 'thunderstorm',\n",
      "       'very heavy rain', 'moderate rain', 'thunderstorm with rain'],\n",
      "      dtype='object')\n",
      "For 23 features: \n",
      " Accuracy: 0.42025641025641025 \n",
      " Precision: 0.40917462022679224 \n",
      " Recall: 0.39813020016079936 \n",
      " F1 score: 0.36051817707747613\n",
      "              precision    recall  f1-score   support\n",
      "\n",
      "         1.0       0.57      0.75      0.65      2354\n",
      "         2.0       0.34      0.04      0.08      1304\n",
      "         3.0       0.27      0.41      0.32       827\n",
      "\n",
      "    accuracy                           0.48      4485\n",
      "   macro avg       0.39      0.40      0.35      4485\n",
      "weighted avg       0.45      0.48      0.42      4485\n",
      "\n"
     ]
    },
    {
     "name": "stderr",
     "output_type": "stream",
     "text": [
      "\r",
      " 89%|████████▉ | 24/27 [02:47<00:28,  9.34s/it]"
     ]
    },
    {
     "name": "stdout",
     "output_type": "stream",
     "text": [
      "Index(['temperature', 'holiday', 'day', 'month', 'pressure', 'dayOfTheWeek',\n",
      "       'shower rain', 'broken clouds', 'fog', 'overcast clouds',\n",
      "       'heavy intensity rain', 'minute', 'haze',\n",
      "       'thunderstorm with light rain', 'scattered clouds', 'clear sky', 'mist',\n",
      "       'light intensity drizzle', 'few clouds', 'thunderstorm',\n",
      "       'very heavy rain', 'moderate rain', 'thunderstorm with rain', 'year'],\n",
      "      dtype='object')\n",
      "For 24 features: \n",
      " Accuracy: 0.5635186425541415 \n",
      " Precision: 0.49445369393508 \n",
      " Recall: 0.4762471168002287 \n",
      " F1 score: 0.47627534501356555\n",
      "              precision    recall  f1-score   support\n",
      "\n",
      "         1.0       0.66      0.76      0.70      2357\n",
      "         2.0       0.51      0.36      0.42      1339\n",
      "         3.0       0.35      0.37      0.36       783\n",
      "\n",
      "    accuracy                           0.57      4479\n",
      "   macro avg       0.51      0.49      0.49      4479\n",
      "weighted avg       0.56      0.57      0.56      4479\n",
      "\n"
     ]
    },
    {
     "name": "stderr",
     "output_type": "stream",
     "text": [
      "\r",
      " 93%|█████████▎| 25/27 [02:55<00:17,  8.81s/it]"
     ]
    },
    {
     "name": "stdout",
     "output_type": "stream",
     "text": [
      "Index(['temperature', 'holiday', 'day', 'month', 'pressure', 'dayOfTheWeek',\n",
      "       'shower rain', 'broken clouds', 'fog', 'overcast clouds',\n",
      "       'heavy intensity rain', 'minute', 'haze',\n",
      "       'thunderstorm with light rain', 'scattered clouds', 'clear sky', 'mist',\n",
      "       'light intensity drizzle', 'few clouds', 'thunderstorm',\n",
      "       'very heavy rain', 'moderate rain', 'thunderstorm with rain', 'year',\n",
      "       'light rain'],\n",
      "      dtype='object')\n",
      "For 25 features: \n",
      " Accuracy: 0.5565951263134362 \n",
      " Precision: 0.49246142722930675 \n",
      " Recall: 0.4759521918761362 \n",
      " F1 score: 0.4696689062885669\n",
      "              precision    recall  f1-score   support\n",
      "\n",
      "         1.0       0.64      0.75      0.69      2323\n",
      "         2.0       0.49      0.07      0.13      1355\n",
      "         3.0       0.25      0.49      0.33       795\n",
      "\n",
      "    accuracy                           0.50      4473\n",
      "   macro avg       0.46      0.44      0.38      4473\n",
      "weighted avg       0.53      0.50      0.46      4473\n",
      "\n"
     ]
    },
    {
     "name": "stderr",
     "output_type": "stream",
     "text": [
      "\r",
      " 96%|█████████▋| 26/27 [03:03<00:08,  8.70s/it]"
     ]
    },
    {
     "name": "stdout",
     "output_type": "stream",
     "text": [
      "Index(['temperature', 'holiday', 'day', 'month', 'pressure', 'dayOfTheWeek',\n",
      "       'shower rain', 'broken clouds', 'fog', 'overcast clouds',\n",
      "       'heavy intensity rain', 'minute', 'haze',\n",
      "       'thunderstorm with light rain', 'scattered clouds', 'clear sky', 'mist',\n",
      "       'light intensity drizzle', 'few clouds', 'thunderstorm',\n",
      "       'very heavy rain', 'moderate rain', 'thunderstorm with rain', 'year',\n",
      "       'light rain', 'humidity'],\n",
      "      dtype='object')\n",
      "For 26 features: \n",
      " Accuracy: 0.5630064920528319 \n",
      " Precision: 0.4947083475534012 \n",
      " Recall: 0.47935232241660314 \n",
      " F1 score: 0.4810906722314863\n",
      "              precision    recall  f1-score   support\n",
      "\n",
      "         1.0       0.63      0.75      0.68      2281\n",
      "         2.0       0.46      0.26      0.33      1398\n",
      "         3.0       0.29      0.37      0.33       788\n",
      "\n",
      "    accuracy                           0.53      4467\n",
      "   macro avg       0.46      0.46      0.45      4467\n",
      "weighted avg       0.52      0.53      0.51      4467\n",
      "\n"
     ]
    },
    {
     "name": "stderr",
     "output_type": "stream",
     "text": [
      "100%|██████████| 27/27 [03:12<00:00,  7.13s/it]\n",
      "  0%|          | 0/27 [00:00<?, ?it/s]"
     ]
    },
    {
     "name": "stdout",
     "output_type": "stream",
     "text": [
      "Index(['temperature', 'holiday', 'day', 'month', 'pressure', 'dayOfTheWeek',\n",
      "       'shower rain', 'broken clouds', 'fog', 'overcast clouds',\n",
      "       'heavy intensity rain', 'minute', 'haze',\n",
      "       'thunderstorm with light rain', 'scattered clouds', 'clear sky', 'mist',\n",
      "       'light intensity drizzle', 'few clouds', 'thunderstorm',\n",
      "       'very heavy rain', 'moderate rain', 'thunderstorm with rain', 'year',\n",
      "       'light rain', 'humidity', 'hour'],\n",
      "      dtype='object')\n",
      "For 27 features: \n",
      " Accuracy: 0.5470410221923335 \n",
      " Precision: 0.48403689908151387 \n",
      " Recall: 0.4780277138950951 \n",
      " F1 score: 0.4656617161995812\n",
      "              precision    recall  f1-score   support\n",
      "\n",
      "         1.0       0.65      0.73      0.69      2332\n",
      "         2.0       0.50      0.35      0.41      1360\n",
      "         3.0       0.32      0.37      0.34       769\n",
      "\n",
      "    accuracy                           0.55      4461\n",
      "   macro avg       0.49      0.48      0.48      4461\n",
      "weighted avg       0.55      0.55      0.54      4461\n",
      "\n",
      "\n",
      " \n",
      "\n",
      "------------------------- Analyzing method Kendalls_correlation -------------------------\n",
      "The variable order is: \n",
      " ['temperature', 'holiday', 'month', 'day', 'pressure', 'dayOfTheWeek', 'shower rain', 'broken clouds', 'heavy intensity rain', 'fog', 'year', 'overcast clouds', 'minute', 'haze', 'thunderstorm with light rain', 'mist', 'light intensity drizzle', 'scattered clouds', 'clear sky', 'few clouds', 'thunderstorm', 'very heavy rain', 'moderate rain', 'thunderstorm with rain', 'light rain', 'humidity', 'hour', 'Pandemic']\n"
     ]
    },
    {
     "name": "stderr",
     "output_type": "stream",
     "text": [
      "\r",
      "  4%|▎         | 1/27 [00:04<01:52,  4.32s/it]"
     ]
    },
    {
     "name": "stdout",
     "output_type": "stream",
     "text": [
      "Index(['temperature'], dtype='object')\n",
      "For 1 features: \n",
      " Accuracy: 0.4464421997755331 \n",
      " Precision: 0.2970947637660084 \n",
      " Recall: 0.3637136611228401 \n",
      " F1 score: 0.30750110922714546\n",
      "              precision    recall  f1-score   support\n",
      "\n",
      "         1.0       0.54      0.76      0.63      2268\n",
      "         2.0       0.42      0.11      0.18      1406\n",
      "         3.0       0.17      0.20      0.18       781\n",
      "\n",
      "    accuracy                           0.46      4455\n",
      "   macro avg       0.38      0.36      0.33      4455\n",
      "weighted avg       0.44      0.46      0.41      4455\n",
      "\n"
     ]
    },
    {
     "name": "stderr",
     "output_type": "stream",
     "text": [
      "\r",
      "  7%|▋         | 2/27 [00:08<01:52,  4.51s/it]"
     ]
    },
    {
     "name": "stdout",
     "output_type": "stream",
     "text": [
      "Index(['temperature', 'holiday'], dtype='object')\n",
      "For 2 features: \n",
      " Accuracy: 0.4350415823780625 \n",
      " Precision: 0.3893378431202295 \n",
      " Recall: 0.39890959773187246 \n",
      " F1 score: 0.3507184802151118\n",
      "              precision    recall  f1-score   support\n",
      "\n",
      "         1.0       0.54      0.93      0.68      2328\n",
      "         2.0       0.08      0.00      0.00      1350\n",
      "         3.0       0.37      0.20      0.26       771\n",
      "\n",
      "    accuracy                           0.52      4449\n",
      "   macro avg       0.33      0.37      0.31      4449\n",
      "weighted avg       0.37      0.52      0.40      4449\n",
      "\n"
     ]
    },
    {
     "name": "stderr",
     "output_type": "stream",
     "text": [
      "\r",
      " 11%|█         | 3/27 [00:13<01:49,  4.57s/it]"
     ]
    },
    {
     "name": "stdout",
     "output_type": "stream",
     "text": [
      "Index(['temperature', 'holiday', 'month'], dtype='object')\n",
      "For 3 features: \n",
      " Accuracy: 0.41010578437992345 \n",
      " Precision: 0.33979266319062224 \n",
      " Recall: 0.3854278044580609 \n",
      " F1 score: 0.326965297966504\n",
      "              precision    recall  f1-score   support\n",
      "\n",
      "         1.0       0.58      0.68      0.63      2327\n",
      "         2.0       0.00      0.00      0.00      1299\n",
      "         3.0       0.22      0.46      0.29       817\n",
      "\n",
      "    accuracy                           0.44      4443\n",
      "   macro avg       0.27      0.38      0.31      4443\n",
      "weighted avg       0.34      0.44      0.38      4443\n",
      "\n"
     ]
    },
    {
     "name": "stderr",
     "output_type": "stream",
     "text": [
      "\r",
      " 15%|█▍        | 4/27 [00:18<01:45,  4.60s/it]"
     ]
    },
    {
     "name": "stdout",
     "output_type": "stream",
     "text": [
      "Index(['temperature', 'holiday', 'month', 'day'], dtype='object')\n",
      "For 4 features: \n",
      " Accuracy: 0.4174329501915709 \n",
      " Precision: 0.4024800562489605 \n",
      " Recall: 0.4067699132162651 \n",
      " F1 score: 0.3623052962697436\n",
      "              precision    recall  f1-score   support\n",
      "\n",
      "         1.0       0.61      0.34      0.44      2306\n",
      "         2.0       0.32      0.21      0.25      1344\n",
      "         3.0       0.21      0.59      0.31       787\n",
      "\n",
      "    accuracy                           0.35      4437\n",
      "   macro avg       0.38      0.38      0.33      4437\n",
      "weighted avg       0.45      0.35      0.36      4437\n",
      "\n"
     ]
    },
    {
     "name": "stderr",
     "output_type": "stream",
     "text": [
      "\r",
      " 19%|█▊        | 5/27 [00:22<01:42,  4.64s/it]"
     ]
    },
    {
     "name": "stdout",
     "output_type": "stream",
     "text": [
      "Index(['temperature', 'holiday', 'month', 'day', 'pressure'], dtype='object')\n",
      "For 5 features: \n",
      " Accuracy: 0.47139471902505076 \n",
      " Precision: 0.40591221509413244 \n",
      " Recall: 0.4080936867588942 \n",
      " F1 score: 0.38086913355384044\n",
      "              precision    recall  f1-score   support\n",
      "\n",
      "         1.0       0.58      0.67      0.62      2320\n",
      "         2.0       0.41      0.08      0.13      1348\n",
      "         3.0       0.25      0.48      0.32       763\n",
      "\n",
      "    accuracy                           0.46      4431\n",
      "   macro avg       0.41      0.41      0.36      4431\n",
      "weighted avg       0.47      0.46      0.42      4431\n",
      "\n"
     ]
    },
    {
     "name": "stderr",
     "output_type": "stream",
     "text": [
      "\r",
      " 22%|██▏       | 6/27 [00:27<01:38,  4.67s/it]"
     ]
    },
    {
     "name": "stdout",
     "output_type": "stream",
     "text": [
      "Index(['temperature', 'holiday', 'month', 'day', 'pressure', 'dayOfTheWeek'], dtype='object')\n",
      "For 6 features: \n",
      " Accuracy: 0.4730960451977401 \n",
      " Precision: 0.4325591029075458 \n",
      " Recall: 0.41295078964361054 \n",
      " F1 score: 0.3850624227571311\n",
      "              precision    recall  f1-score   support\n",
      "\n",
      "         1.0       0.62      0.61      0.62      2360\n",
      "         2.0       0.37      0.47      0.41      1316\n",
      "         3.0       0.40      0.21      0.28       749\n",
      "\n",
      "    accuracy                           0.50      4425\n",
      "   macro avg       0.46      0.43      0.44      4425\n",
      "weighted avg       0.51      0.50      0.50      4425\n",
      "\n"
     ]
    },
    {
     "name": "stderr",
     "output_type": "stream",
     "text": [
      "\r",
      " 26%|██▌       | 7/27 [00:32<01:34,  4.74s/it]"
     ]
    },
    {
     "name": "stdout",
     "output_type": "stream",
     "text": [
      "Index(['temperature', 'holiday', 'month', 'day', 'pressure', 'dayOfTheWeek',\n",
      "       'shower rain'],\n",
      "      dtype='object')\n",
      "For 7 features: \n",
      " Accuracy: 0.4681489024666214 \n",
      " Precision: 0.4275113520224024 \n",
      " Recall: 0.4159510085280451 \n",
      " F1 score: 0.38561592195409927\n",
      "              precision    recall  f1-score   support\n",
      "\n",
      "         1.0       0.60      0.64      0.62      2349\n",
      "         2.0       0.37      0.42      0.39      1313\n",
      "         3.0       0.37      0.21      0.27       757\n",
      "\n",
      "    accuracy                           0.50      4419\n",
      "   macro avg       0.45      0.42      0.43      4419\n",
      "weighted avg       0.49      0.50      0.49      4419\n",
      "\n"
     ]
    },
    {
     "name": "stderr",
     "output_type": "stream",
     "text": [
      "\r",
      " 30%|██▉       | 8/27 [00:37<01:32,  4.89s/it]"
     ]
    },
    {
     "name": "stdout",
     "output_type": "stream",
     "text": [
      "Index(['temperature', 'holiday', 'month', 'day', 'pressure', 'dayOfTheWeek',\n",
      "       'shower rain', 'broken clouds'],\n",
      "      dtype='object')\n",
      "For 8 features: \n",
      " Accuracy: 0.47859732608203037 \n",
      " Precision: 0.4200246451005431 \n",
      " Recall: 0.40586718957432394 \n",
      " F1 score: 0.3810836914616081\n",
      "              precision    recall  f1-score   support\n",
      "\n",
      "         1.0       0.61      0.60      0.61      2330\n",
      "         2.0       0.37      0.27      0.31      1333\n",
      "         3.0       0.22      0.34      0.27       750\n",
      "\n",
      "    accuracy                           0.46      4413\n",
      "   macro avg       0.40      0.40      0.40      4413\n",
      "weighted avg       0.47      0.46      0.46      4413\n",
      "\n"
     ]
    },
    {
     "name": "stderr",
     "output_type": "stream",
     "text": [
      "\r",
      " 33%|███▎      | 9/27 [00:42<01:28,  4.91s/it]"
     ]
    },
    {
     "name": "stdout",
     "output_type": "stream",
     "text": [
      "Index(['temperature', 'holiday', 'month', 'day', 'pressure', 'dayOfTheWeek',\n",
      "       'shower rain', 'broken clouds', 'heavy intensity rain'],\n",
      "      dtype='object')\n",
      "For 9 features: \n",
      " Accuracy: 0.4625595643294758 \n",
      " Precision: 0.39988392065791156 \n",
      " Recall: 0.4079601551508067 \n",
      " F1 score: 0.37202819488146294\n",
      "              precision    recall  f1-score   support\n",
      "\n",
      "         1.0       0.62      0.56      0.59      2360\n",
      "         2.0       0.34      0.13      0.18      1293\n",
      "         3.0       0.22      0.53      0.31       754\n",
      "\n",
      "    accuracy                           0.42      4407\n",
      "   macro avg       0.39      0.40      0.36      4407\n",
      "weighted avg       0.47      0.42      0.42      4407\n",
      "\n"
     ]
    },
    {
     "name": "stderr",
     "output_type": "stream",
     "text": [
      "\r",
      " 37%|███▋      | 10/27 [00:47<01:23,  4.89s/it]"
     ]
    },
    {
     "name": "stdout",
     "output_type": "stream",
     "text": [
      "Index(['temperature', 'holiday', 'month', 'day', 'pressure', 'dayOfTheWeek',\n",
      "       'shower rain', 'broken clouds', 'heavy intensity rain', 'fog'],\n",
      "      dtype='object')\n",
      "For 10 features: \n",
      " Accuracy: 0.4812883435582822 \n",
      " Precision: 0.41597132313615326 \n",
      " Recall: 0.4044248387452254 \n",
      " F1 score: 0.3882194994337397\n",
      "              precision    recall  f1-score   support\n",
      "\n",
      "         1.0       0.55      0.88      0.67      2295\n",
      "         2.0       0.41      0.07      0.12      1351\n",
      "         3.0       0.38      0.24      0.29       755\n",
      "\n",
      "    accuracy                           0.52      4401\n",
      "   macro avg       0.44      0.40      0.36      4401\n",
      "weighted avg       0.47      0.52      0.44      4401\n",
      "\n"
     ]
    },
    {
     "name": "stderr",
     "output_type": "stream",
     "text": [
      "\r",
      " 41%|████      | 11/27 [00:52<01:20,  5.04s/it]"
     ]
    },
    {
     "name": "stdout",
     "output_type": "stream",
     "text": [
      "Index(['temperature', 'holiday', 'month', 'day', 'pressure', 'dayOfTheWeek',\n",
      "       'shower rain', 'broken clouds', 'heavy intensity rain', 'fog', 'year'],\n",
      "      dtype='object')\n",
      "For 11 features: \n",
      " Accuracy: 0.5694880546075085 \n",
      " Precision: 0.5007820620868602 \n",
      " Recall: 0.47931900271732214 \n",
      " F1 score: 0.48196048820337567\n",
      "              precision    recall  f1-score   support\n",
      "\n",
      "         1.0       0.65      0.77      0.71      2329\n",
      "         2.0       0.47      0.42      0.44      1296\n",
      "         3.0       0.36      0.21      0.26       770\n",
      "\n",
      "    accuracy                           0.57      4395\n",
      "   macro avg       0.49      0.47      0.47      4395\n",
      "weighted avg       0.55      0.57      0.55      4395\n",
      "\n"
     ]
    },
    {
     "name": "stderr",
     "output_type": "stream",
     "text": [
      "\r",
      " 44%|████▍     | 12/27 [00:58<01:19,  5.27s/it]"
     ]
    },
    {
     "name": "stdout",
     "output_type": "stream",
     "text": [
      "Index(['temperature', 'holiday', 'month', 'day', 'pressure', 'dayOfTheWeek',\n",
      "       'shower rain', 'broken clouds', 'heavy intensity rain', 'fog', 'year',\n",
      "       'overcast clouds'],\n",
      "      dtype='object')\n",
      "For 12 features: \n",
      " Accuracy: 0.5673388015493278 \n",
      " Precision: 0.49820407509115106 \n",
      " Recall: 0.4798980725415667 \n",
      " F1 score: 0.4800634984154552\n",
      "              precision    recall  f1-score   support\n",
      "\n",
      "         1.0       0.65      0.75      0.70      2293\n",
      "         2.0       0.48      0.44      0.46      1317\n",
      "         3.0       0.34      0.25      0.29       779\n",
      "\n",
      "    accuracy                           0.57      4389\n",
      "   macro avg       0.49      0.48      0.48      4389\n",
      "weighted avg       0.55      0.57      0.55      4389\n",
      "\n"
     ]
    },
    {
     "name": "stderr",
     "output_type": "stream",
     "text": [
      "\r",
      " 48%|████▊     | 13/27 [01:04<01:15,  5.38s/it]"
     ]
    },
    {
     "name": "stdout",
     "output_type": "stream",
     "text": [
      "Index(['temperature', 'holiday', 'month', 'day', 'pressure', 'dayOfTheWeek',\n",
      "       'shower rain', 'broken clouds', 'heavy intensity rain', 'fog', 'year',\n",
      "       'overcast clouds', 'minute'],\n",
      "      dtype='object')\n",
      "For 13 features: \n",
      " Accuracy: 0.5682979694273329 \n",
      " Precision: 0.4987575430159277 \n",
      " Recall: 0.4799562479034783 \n",
      " F1 score: 0.4804036300205049\n",
      "              precision    recall  f1-score   support\n",
      "\n",
      "         1.0       0.65      0.76      0.70      2311\n",
      "         2.0       0.52      0.32      0.39      1295\n",
      "         3.0       0.36      0.41      0.38       777\n",
      "\n",
      "    accuracy                           0.57      4383\n",
      "   macro avg       0.51      0.50      0.49      4383\n",
      "weighted avg       0.56      0.57      0.55      4383\n",
      "\n"
     ]
    },
    {
     "name": "stderr",
     "output_type": "stream",
     "text": [
      "\r",
      " 52%|█████▏    | 14/27 [01:11<01:15,  5.82s/it]"
     ]
    },
    {
     "name": "stdout",
     "output_type": "stream",
     "text": [
      "Index(['temperature', 'holiday', 'month', 'day', 'pressure', 'dayOfTheWeek',\n",
      "       'shower rain', 'broken clouds', 'heavy intensity rain', 'fog', 'year',\n",
      "       'overcast clouds', 'minute', 'haze'],\n",
      "      dtype='object')\n",
      "For 14 features: \n",
      " Accuracy: 0.5625428375599726 \n",
      " Precision: 0.4928845048822273 \n",
      " Recall: 0.4732988370882951 \n",
      " F1 score: 0.47292752841068725\n",
      "              precision    recall  f1-score   support\n",
      "\n",
      "         1.0       0.65      0.76      0.70      2313\n",
      "         2.0       0.48      0.19      0.27      1300\n",
      "         3.0       0.31      0.46      0.37       764\n",
      "\n",
      "    accuracy                           0.54      4377\n",
      "   macro avg       0.48      0.47      0.45      4377\n",
      "weighted avg       0.54      0.54      0.51      4377\n",
      "\n"
     ]
    },
    {
     "name": "stderr",
     "output_type": "stream",
     "text": [
      "\r",
      " 56%|█████▌    | 15/27 [01:19<01:17,  6.48s/it]"
     ]
    },
    {
     "name": "stdout",
     "output_type": "stream",
     "text": [
      "Index(['temperature', 'holiday', 'month', 'day', 'pressure', 'dayOfTheWeek',\n",
      "       'shower rain', 'broken clouds', 'heavy intensity rain', 'fog', 'year',\n",
      "       'overcast clouds', 'minute', 'haze', 'thunderstorm with light rain'],\n",
      "      dtype='object')\n",
      "For 15 features: \n",
      " Accuracy: 0.5565316861130176 \n",
      " Precision: 0.4835198891190637 \n",
      " Recall: 0.47277898151406933 \n",
      " F1 score: 0.4665975455158021\n",
      "              precision    recall  f1-score   support\n",
      "\n",
      "         1.0       0.65      0.76      0.70      2344\n",
      "         2.0       0.42      0.19      0.26      1221\n",
      "         3.0       0.28      0.37      0.32       806\n",
      "\n",
      "    accuracy                           0.53      4371\n",
      "   macro avg       0.45      0.44      0.43      4371\n",
      "weighted avg       0.52      0.53      0.51      4371\n",
      "\n"
     ]
    },
    {
     "name": "stderr",
     "output_type": "stream",
     "text": [
      "\r",
      " 59%|█████▉    | 16/27 [01:27<01:16,  6.92s/it]"
     ]
    },
    {
     "name": "stdout",
     "output_type": "stream",
     "text": [
      "Index(['temperature', 'holiday', 'month', 'day', 'pressure', 'dayOfTheWeek',\n",
      "       'shower rain', 'broken clouds', 'heavy intensity rain', 'fog', 'year',\n",
      "       'overcast clouds', 'minute', 'haze', 'thunderstorm with light rain',\n",
      "       'mist'],\n",
      "      dtype='object')\n",
      "For 16 features: \n",
      " Accuracy: 0.5588545246277205 \n",
      " Precision: 0.4883006254324948 \n",
      " Recall: 0.46939630532715526 \n",
      " F1 score: 0.4642951640051503\n",
      "              precision    recall  f1-score   support\n",
      "\n",
      "         1.0       0.65      0.77      0.70      2306\n",
      "         2.0       0.46      0.35      0.40      1257\n",
      "         3.0       0.36      0.30      0.32       802\n",
      "\n",
      "    accuracy                           0.56      4365\n",
      "   macro avg       0.49      0.47      0.47      4365\n",
      "weighted avg       0.54      0.56      0.54      4365\n",
      "\n"
     ]
    },
    {
     "name": "stderr",
     "output_type": "stream",
     "text": [
      "\r",
      " 63%|██████▎   | 17/27 [01:34<01:11,  7.18s/it]"
     ]
    },
    {
     "name": "stdout",
     "output_type": "stream",
     "text": [
      "Index(['temperature', 'holiday', 'month', 'day', 'pressure', 'dayOfTheWeek',\n",
      "       'shower rain', 'broken clouds', 'heavy intensity rain', 'fog', 'year',\n",
      "       'overcast clouds', 'minute', 'haze', 'thunderstorm with light rain',\n",
      "       'mist', 'light intensity drizzle'],\n",
      "      dtype='object')\n",
      "For 17 features: \n",
      " Accuracy: 0.5549552649690296 \n",
      " Precision: 0.4818213531472508 \n",
      " Recall: 0.4700184318191371 \n",
      " F1 score: 0.45985328537728\n",
      "              precision    recall  f1-score   support\n",
      "\n",
      "         1.0       0.65      0.76      0.70      2320\n",
      "         2.0       0.47      0.47      0.47      1266\n",
      "         3.0       0.39      0.20      0.26       773\n",
      "\n",
      "    accuracy                           0.58      4359\n",
      "   macro avg       0.50      0.47      0.48      4359\n",
      "weighted avg       0.55      0.58      0.56      4359\n",
      "\n"
     ]
    },
    {
     "name": "stderr",
     "output_type": "stream",
     "text": [
      "\r",
      " 67%|██████▋   | 18/27 [01:42<01:06,  7.34s/it]"
     ]
    },
    {
     "name": "stdout",
     "output_type": "stream",
     "text": [
      "Index(['temperature', 'holiday', 'month', 'day', 'pressure', 'dayOfTheWeek',\n",
      "       'shower rain', 'broken clouds', 'heavy intensity rain', 'fog', 'year',\n",
      "       'overcast clouds', 'minute', 'haze', 'thunderstorm with light rain',\n",
      "       'mist', 'light intensity drizzle', 'scattered clouds'],\n",
      "      dtype='object')\n",
      "For 18 features: \n",
      " Accuracy: 0.5560992419021364 \n",
      " Precision: 0.48542245620192354 \n",
      " Recall: 0.4711659753986897 \n",
      " F1 score: 0.46486261157877684\n",
      "              precision    recall  f1-score   support\n",
      "\n",
      "         1.0       0.64      0.75      0.69      2262\n",
      "         2.0       0.44      0.42      0.43      1302\n",
      "         3.0       0.38      0.22      0.27       789\n",
      "\n",
      "    accuracy                           0.55      4353\n",
      "   macro avg       0.48      0.46      0.46      4353\n",
      "weighted avg       0.53      0.55      0.54      4353\n",
      "\n"
     ]
    },
    {
     "name": "stderr",
     "output_type": "stream",
     "text": [
      "\r",
      " 70%|███████   | 19/27 [01:50<01:00,  7.52s/it]"
     ]
    },
    {
     "name": "stdout",
     "output_type": "stream",
     "text": [
      "Index(['temperature', 'holiday', 'month', 'day', 'pressure', 'dayOfTheWeek',\n",
      "       'shower rain', 'broken clouds', 'heavy intensity rain', 'fog', 'year',\n",
      "       'overcast clouds', 'minute', 'haze', 'thunderstorm with light rain',\n",
      "       'mist', 'light intensity drizzle', 'scattered clouds', 'clear sky'],\n",
      "      dtype='object')\n",
      "For 19 features: \n",
      " Accuracy: 0.5524959742351047 \n",
      " Precision: 0.49053816439735554 \n",
      " Recall: 0.469444971074851 \n",
      " F1 score: 0.454539742955961\n",
      "              precision    recall  f1-score   support\n",
      "\n",
      "         1.0       0.65      0.76      0.70      2346\n",
      "         2.0       0.47      0.18      0.26      1224\n",
      "         3.0       0.26      0.38      0.31       777\n",
      "\n",
      "    accuracy                           0.53      4347\n",
      "   macro avg       0.46      0.44      0.42      4347\n",
      "weighted avg       0.53      0.53      0.51      4347\n",
      "\n"
     ]
    },
    {
     "name": "stderr",
     "output_type": "stream",
     "text": [
      "\r",
      " 74%|███████▍  | 20/27 [01:59<00:54,  7.79s/it]"
     ]
    },
    {
     "name": "stdout",
     "output_type": "stream",
     "text": [
      "Index(['temperature', 'holiday', 'month', 'day', 'pressure', 'dayOfTheWeek',\n",
      "       'shower rain', 'broken clouds', 'heavy intensity rain', 'fog', 'year',\n",
      "       'overcast clouds', 'minute', 'haze', 'thunderstorm with light rain',\n",
      "       'mist', 'light intensity drizzle', 'scattered clouds', 'clear sky',\n",
      "       'few clouds'],\n",
      "      dtype='object')\n",
      "For 20 features: \n",
      " Accuracy: 0.5528449665975581 \n",
      " Precision: 0.47929969908952447 \n",
      " Recall: 0.47084746042200826 \n",
      " F1 score: 0.45792358216037893\n",
      "              precision    recall  f1-score   support\n",
      "\n",
      "         1.0       0.64      0.77      0.70      2273\n",
      "         2.0       0.49      0.33      0.39      1278\n",
      "         3.0       0.36      0.35      0.35       790\n",
      "\n",
      "    accuracy                           0.56      4341\n",
      "   macro avg       0.50      0.48      0.48      4341\n",
      "weighted avg       0.55      0.56      0.55      4341\n",
      "\n"
     ]
    },
    {
     "name": "stderr",
     "output_type": "stream",
     "text": [
      "\r",
      " 78%|███████▊  | 21/27 [02:07<00:47,  7.93s/it]"
     ]
    },
    {
     "name": "stdout",
     "output_type": "stream",
     "text": [
      "Index(['temperature', 'holiday', 'month', 'day', 'pressure', 'dayOfTheWeek',\n",
      "       'shower rain', 'broken clouds', 'heavy intensity rain', 'fog', 'year',\n",
      "       'overcast clouds', 'minute', 'haze', 'thunderstorm with light rain',\n",
      "       'mist', 'light intensity drizzle', 'scattered clouds', 'clear sky',\n",
      "       'few clouds', 'thunderstorm'],\n",
      "      dtype='object')\n",
      "For 21 features: \n",
      " Accuracy: 0.5546828143021915 \n",
      " Precision: 0.4811838867349072 \n",
      " Recall: 0.46851332751426833 \n",
      " F1 score: 0.4593941080252735\n",
      "              precision    recall  f1-score   support\n",
      "\n",
      "         1.0       0.66      0.76      0.70      2319\n",
      "         2.0       0.45      0.16      0.24      1259\n",
      "         3.0       0.26      0.41      0.31       757\n",
      "\n",
      "    accuracy                           0.52      4335\n",
      "   macro avg       0.45      0.44      0.42      4335\n",
      "weighted avg       0.53      0.52      0.50      4335\n",
      "\n"
     ]
    },
    {
     "name": "stderr",
     "output_type": "stream",
     "text": [
      "\r",
      " 81%|████████▏ | 22/27 [02:18<00:45,  9.03s/it]"
     ]
    },
    {
     "name": "stdout",
     "output_type": "stream",
     "text": [
      "Index(['temperature', 'holiday', 'month', 'day', 'pressure', 'dayOfTheWeek',\n",
      "       'shower rain', 'broken clouds', 'heavy intensity rain', 'fog', 'year',\n",
      "       'overcast clouds', 'minute', 'haze', 'thunderstorm with light rain',\n",
      "       'mist', 'light intensity drizzle', 'scattered clouds', 'clear sky',\n",
      "       'few clouds', 'thunderstorm', 'very heavy rain'],\n",
      "      dtype='object')\n",
      "For 22 features: \n",
      " Accuracy: 0.5513282513282514 \n",
      " Precision: 0.47937988801898734 \n",
      " Recall: 0.4645745116195675 \n",
      " F1 score: 0.451124189952584\n",
      "              precision    recall  f1-score   support\n",
      "\n",
      "         1.0       0.66      0.76      0.71      2314\n",
      "         2.0       0.46      0.40      0.42      1286\n",
      "         3.0       0.33      0.24      0.28       729\n",
      "\n",
      "    accuracy                           0.57      4329\n",
      "   macro avg       0.48      0.47      0.47      4329\n",
      "weighted avg       0.54      0.57      0.55      4329\n",
      "\n"
     ]
    },
    {
     "name": "stderr",
     "output_type": "stream",
     "text": [
      "\r",
      " 85%|████████▌ | 23/27 [02:30<00:38,  9.65s/it]"
     ]
    },
    {
     "name": "stdout",
     "output_type": "stream",
     "text": [
      "Index(['temperature', 'holiday', 'month', 'day', 'pressure', 'dayOfTheWeek',\n",
      "       'shower rain', 'broken clouds', 'heavy intensity rain', 'fog', 'year',\n",
      "       'overcast clouds', 'minute', 'haze', 'thunderstorm with light rain',\n",
      "       'mist', 'light intensity drizzle', 'scattered clouds', 'clear sky',\n",
      "       'few clouds', 'thunderstorm', 'very heavy rain', 'moderate rain'],\n",
      "      dtype='object')\n",
      "For 23 features: \n",
      " Accuracy: 0.5466574138329864 \n",
      " Precision: 0.47460531040017345 \n",
      " Recall: 0.46537502933744357 \n",
      " F1 score: 0.45104428070140923\n",
      "              precision    recall  f1-score   support\n",
      "\n",
      "         1.0       0.64      0.76      0.70      2236\n",
      "         2.0       0.44      0.21      0.28      1319\n",
      "         3.0       0.29      0.38      0.33       768\n",
      "\n",
      "    accuracy                           0.53      4323\n",
      "   macro avg       0.46      0.45      0.44      4323\n",
      "weighted avg       0.52      0.53      0.51      4323\n",
      "\n"
     ]
    },
    {
     "name": "stderr",
     "output_type": "stream",
     "text": [
      "\r",
      " 89%|████████▉ | 24/27 [02:41<00:30, 10.24s/it]"
     ]
    },
    {
     "name": "stdout",
     "output_type": "stream",
     "text": [
      "Index(['temperature', 'holiday', 'month', 'day', 'pressure', 'dayOfTheWeek',\n",
      "       'shower rain', 'broken clouds', 'heavy intensity rain', 'fog', 'year',\n",
      "       'overcast clouds', 'minute', 'haze', 'thunderstorm with light rain',\n",
      "       'mist', 'light intensity drizzle', 'scattered clouds', 'clear sky',\n",
      "       'few clouds', 'thunderstorm', 'very heavy rain', 'moderate rain',\n",
      "       'thunderstorm with rain'],\n",
      "      dtype='object')\n",
      "For 24 features: \n",
      " Accuracy: 0.5471044706972434 \n",
      " Precision: 0.46978799386845466 \n",
      " Recall: 0.4643327054019081 \n",
      " F1 score: 0.44900733342823024\n",
      "              precision    recall  f1-score   support\n",
      "\n",
      "         1.0       0.66      0.76      0.71      2302\n",
      "         2.0       0.48      0.32      0.38      1228\n",
      "         3.0       0.39      0.42      0.40       787\n",
      "\n",
      "    accuracy                           0.57      4317\n",
      "   macro avg       0.51      0.50      0.50      4317\n",
      "weighted avg       0.56      0.57      0.56      4317\n",
      "\n"
     ]
    },
    {
     "name": "stderr",
     "output_type": "stream",
     "text": [
      "\r",
      " 93%|█████████▎| 25/27 [02:49<00:19,  9.66s/it]"
     ]
    },
    {
     "name": "stdout",
     "output_type": "stream",
     "text": [
      "Index(['temperature', 'holiday', 'month', 'day', 'pressure', 'dayOfTheWeek',\n",
      "       'shower rain', 'broken clouds', 'heavy intensity rain', 'fog', 'year',\n",
      "       'overcast clouds', 'minute', 'haze', 'thunderstorm with light rain',\n",
      "       'mist', 'light intensity drizzle', 'scattered clouds', 'clear sky',\n",
      "       'few clouds', 'thunderstorm', 'very heavy rain', 'moderate rain',\n",
      "       'thunderstorm with rain', 'light rain'],\n",
      "      dtype='object')\n",
      "For 25 features: \n",
      " Accuracy: 0.5532591046160984 \n",
      " Precision: 0.4819292410386555 \n",
      " Recall: 0.47204103205154 \n",
      " F1 score: 0.4547707636720024\n",
      "              precision    recall  f1-score   support\n",
      "\n",
      "         1.0       0.67      0.76      0.71      2324\n",
      "         2.0       0.46      0.43      0.44      1220\n",
      "         3.0       0.35      0.24      0.29       767\n",
      "\n",
      "    accuracy                           0.58      4311\n",
      "   macro avg       0.49      0.48      0.48      4311\n",
      "weighted avg       0.55      0.58      0.56      4311\n",
      "\n"
     ]
    },
    {
     "name": "stderr",
     "output_type": "stream",
     "text": [
      "\r",
      " 96%|█████████▋| 26/27 [02:58<00:09,  9.27s/it]"
     ]
    },
    {
     "name": "stdout",
     "output_type": "stream",
     "text": [
      "Index(['temperature', 'holiday', 'month', 'day', 'pressure', 'dayOfTheWeek',\n",
      "       'shower rain', 'broken clouds', 'heavy intensity rain', 'fog', 'year',\n",
      "       'overcast clouds', 'minute', 'haze', 'thunderstorm with light rain',\n",
      "       'mist', 'light intensity drizzle', 'scattered clouds', 'clear sky',\n",
      "       'few clouds', 'thunderstorm', 'very heavy rain', 'moderate rain',\n",
      "       'thunderstorm with rain', 'light rain', 'humidity'],\n",
      "      dtype='object')\n",
      "For 26 features: \n",
      " Accuracy: 0.5530313588850174 \n",
      " Precision: 0.4859241479021121 \n",
      " Recall: 0.47023533686927393 \n",
      " F1 score: 0.4564957985589967\n",
      "              precision    recall  f1-score   support\n",
      "\n",
      "         1.0       0.65      0.76      0.70      2316\n",
      "         2.0       0.43      0.15      0.22      1218\n",
      "         3.0       0.26      0.40      0.32       771\n",
      "\n",
      "    accuracy                           0.52      4305\n",
      "   macro avg       0.45      0.44      0.41      4305\n",
      "weighted avg       0.52      0.52      0.50      4305\n",
      "\n"
     ]
    },
    {
     "name": "stderr",
     "output_type": "stream",
     "text": [
      "100%|██████████| 27/27 [03:07<00:00,  6.93s/it]\n",
      "  0%|          | 0/27 [00:00<?, ?it/s]"
     ]
    },
    {
     "name": "stdout",
     "output_type": "stream",
     "text": [
      "Index(['temperature', 'holiday', 'month', 'day', 'pressure', 'dayOfTheWeek',\n",
      "       'shower rain', 'broken clouds', 'heavy intensity rain', 'fog', 'year',\n",
      "       'overcast clouds', 'minute', 'haze', 'thunderstorm with light rain',\n",
      "       'mist', 'light intensity drizzle', 'scattered clouds', 'clear sky',\n",
      "       'few clouds', 'thunderstorm', 'very heavy rain', 'moderate rain',\n",
      "       'thunderstorm with rain', 'light rain', 'humidity', 'hour'],\n",
      "      dtype='object')\n",
      "For 27 features: \n",
      " Accuracy: 0.5412305187252849 \n",
      " Precision: 0.47359559606404034 \n",
      " Recall: 0.4715630621166433 \n",
      " F1 score: 0.45253972491089\n",
      "              precision    recall  f1-score   support\n",
      "\n",
      "         1.0       0.65      0.74      0.69      2266\n",
      "         2.0       0.39      0.19      0.26      1269\n",
      "         3.0       0.30      0.44      0.36       764\n",
      "\n",
      "    accuracy                           0.52      4299\n",
      "   macro avg       0.45      0.46      0.44      4299\n",
      "weighted avg       0.51      0.52      0.50      4299\n",
      "\n",
      "\n",
      " \n",
      "\n",
      "------------------------- Analyzing method mutualInformation_classification -------------------------\n",
      "The variable order is: \n",
      " ['month', 'day', 'year', 'hour', 'minute', 'holiday', 'dayOfTheWeek', 'Pandemic', 'temperature', 'humidity', 'pressure', 'heavy intensity rain', 'light rain', 'broken clouds', 'moderate rain', 'mist', 'overcast clouds', 'clear sky', 'scattered clouds', 'thunderstorm with rain', 'few clouds', 'thunderstorm', 'shower rain', 'very heavy rain', 'fog', 'haze', 'thunderstorm with light rain', 'light intensity drizzle']\n"
     ]
    },
    {
     "name": "stderr",
     "output_type": "stream",
     "text": [
      "\r",
      "  4%|▎         | 1/27 [00:04<01:50,  4.25s/it]"
     ]
    },
    {
     "name": "stdout",
     "output_type": "stream",
     "text": [
      "Index(['month'], dtype='object')\n",
      "For 1 features: \n",
      " Accuracy: 0.3385744234800839 \n",
      " Precision: 0.21734024177211259 \n",
      " Recall: 0.33814688208222143 \n",
      " F1 score: 0.23757706264314246\n",
      "              precision    recall  f1-score   support\n",
      "\n",
      "         1.0       0.00      0.00      0.00      2279\n",
      "         2.0       0.28      0.84      0.42      1259\n",
      "         3.0       0.27      0.21      0.24       755\n",
      "\n",
      "    accuracy                           0.28      4293\n",
      "   macro avg       0.19      0.35      0.22      4293\n",
      "weighted avg       0.13      0.28      0.17      4293\n",
      "\n"
     ]
    },
    {
     "name": "stderr",
     "output_type": "stream",
     "text": [
      "\r",
      "  7%|▋         | 2/27 [00:08<01:43,  4.14s/it]"
     ]
    },
    {
     "name": "stdout",
     "output_type": "stream",
     "text": [
      "Index(['month', 'day'], dtype='object')\n",
      "For 2 features: \n",
      " Accuracy: 0.33265686960578494 \n",
      " Precision: 0.2627965140740064 \n",
      " Recall: 0.3490882467072397 \n",
      " F1 score: 0.2557186108748312\n",
      "              precision    recall  f1-score   support\n",
      "\n",
      "         1.0       0.77      0.09      0.16      2283\n",
      "         2.0       0.00      0.00      0.00      1233\n",
      "         3.0       0.19      0.97      0.31       771\n",
      "\n",
      "    accuracy                           0.22      4287\n",
      "   macro avg       0.32      0.35      0.16      4287\n",
      "weighted avg       0.45      0.22      0.14      4287\n",
      "\n"
     ]
    },
    {
     "name": "stderr",
     "output_type": "stream",
     "text": [
      "\r",
      " 11%|█         | 3/27 [00:12<01:40,  4.20s/it]"
     ]
    },
    {
     "name": "stdout",
     "output_type": "stream",
     "text": [
      "Index(['month', 'day', 'year'], dtype='object')\n",
      "For 3 features: \n",
      " Accuracy: 0.466024293389395 \n",
      " Precision: 0.36616192897491084 \n",
      " Recall: 0.40089171979619687 \n",
      " F1 score: 0.3626205512618608\n",
      "              precision    recall  f1-score   support\n",
      "\n",
      "         1.0       0.65      0.65      0.65      2295\n",
      "         2.0       0.00      0.00      0.00      1234\n",
      "         3.0       0.22      0.59      0.32       752\n",
      "\n",
      "    accuracy                           0.45      4281\n",
      "   macro avg       0.29      0.41      0.32      4281\n",
      "weighted avg       0.39      0.45      0.40      4281\n",
      "\n"
     ]
    },
    {
     "name": "stderr",
     "output_type": "stream",
     "text": [
      "\r",
      " 15%|█▍        | 4/27 [00:17<01:39,  4.32s/it]"
     ]
    },
    {
     "name": "stdout",
     "output_type": "stream",
     "text": [
      "Index(['month', 'day', 'year', 'hour'], dtype='object')\n",
      "For 4 features: \n",
      " Accuracy: 0.5194736842105263 \n",
      " Precision: 0.39563469869352064 \n",
      " Recall: 0.41529621801901434 \n",
      " F1 score: 0.3920855711071494\n",
      "              precision    recall  f1-score   support\n",
      "\n",
      "         1.0       0.63      0.74      0.68      2298\n",
      "         2.0       0.39      0.39      0.39      1202\n",
      "         3.0       0.23      0.12      0.16       775\n",
      "\n",
      "    accuracy                           0.53      4275\n",
      "   macro avg       0.42      0.41      0.41      4275\n",
      "weighted avg       0.49      0.53      0.50      4275\n",
      "\n"
     ]
    },
    {
     "name": "stderr",
     "output_type": "stream",
     "text": [
      "\r",
      " 19%|█▊        | 5/27 [00:21<01:37,  4.43s/it]"
     ]
    },
    {
     "name": "stdout",
     "output_type": "stream",
     "text": [
      "Index(['month', 'day', 'year', 'hour', 'minute'], dtype='object')\n",
      "For 5 features: \n",
      " Accuracy: 0.5193136565940502 \n",
      " Precision: 0.4005861682846959 \n",
      " Recall: 0.42113599344792385 \n",
      " F1 score: 0.3951510949744761\n",
      "              precision    recall  f1-score   support\n",
      "\n",
      "         1.0       0.62      0.74      0.68      2248\n",
      "         2.0       0.47      0.23      0.31      1281\n",
      "         3.0       0.27      0.34      0.30       740\n",
      "\n",
      "    accuracy                           0.52      4269\n",
      "   macro avg       0.45      0.44      0.43      4269\n",
      "weighted avg       0.51      0.52      0.50      4269\n",
      "\n"
     ]
    },
    {
     "name": "stderr",
     "output_type": "stream",
     "text": [
      "\r",
      " 22%|██▏       | 6/27 [00:26<01:36,  4.58s/it]"
     ]
    },
    {
     "name": "stdout",
     "output_type": "stream",
     "text": [
      "Index(['month', 'day', 'year', 'hour', 'minute', 'holiday'], dtype='object')\n",
      "For 6 features: \n",
      " Accuracy: 0.5234459300961765 \n",
      " Precision: 0.4507358488811524 \n",
      " Recall: 0.4487933334000626 \n",
      " F1 score: 0.43832922734392094\n",
      "              precision    recall  f1-score   support\n",
      "\n",
      "         1.0       0.63      0.71      0.67      2290\n",
      "         2.0       0.47      0.24      0.32      1207\n",
      "         3.0       0.31      0.43      0.36       766\n",
      "\n",
      "    accuracy                           0.53      4263\n",
      "   macro avg       0.47      0.46      0.45      4263\n",
      "weighted avg       0.53      0.53      0.51      4263\n",
      "\n"
     ]
    },
    {
     "name": "stderr",
     "output_type": "stream",
     "text": [
      "\r",
      " 26%|██▌       | 7/27 [00:31<01:35,  4.75s/it]"
     ]
    },
    {
     "name": "stdout",
     "output_type": "stream",
     "text": [
      "Index(['month', 'day', 'year', 'hour', 'minute', 'holiday', 'dayOfTheWeek'], dtype='object')\n",
      "For 7 features: \n",
      " Accuracy: 0.5316185106882781 \n",
      " Precision: 0.46359790797398254 \n",
      " Recall: 0.4536040801220453 \n",
      " F1 score: 0.4430451000884464\n",
      "              precision    recall  f1-score   support\n",
      "\n",
      "         1.0       0.63      0.74      0.68      2231\n",
      "         2.0       0.43      0.32      0.37      1253\n",
      "         3.0       0.32      0.27      0.29       773\n",
      "\n",
      "    accuracy                           0.53      4257\n",
      "   macro avg       0.46      0.44      0.45      4257\n",
      "weighted avg       0.51      0.53      0.52      4257\n",
      "\n"
     ]
    },
    {
     "name": "stderr",
     "output_type": "stream",
     "text": [
      "\r",
      " 30%|██▉       | 8/27 [00:36<01:30,  4.76s/it]"
     ]
    },
    {
     "name": "stdout",
     "output_type": "stream",
     "text": [
      "Index(['month', 'day', 'year', 'hour', 'minute', 'holiday', 'dayOfTheWeek',\n",
      "       'Pandemic'],\n",
      "      dtype='object')\n",
      "For 8 features: \n",
      " Accuracy: 0.5317807574688309 \n",
      " Precision: 0.4566652565731189 \n",
      " Recall: 0.45228630174607976 \n",
      " F1 score: 0.44533466998614585\n",
      "              precision    recall  f1-score   support\n",
      "\n",
      "         1.0       0.63      0.73      0.67      2230\n",
      "         2.0       0.39      0.40      0.39      1243\n",
      "         3.0       0.42      0.21      0.28       778\n",
      "\n",
      "    accuracy                           0.54      4251\n",
      "   macro avg       0.48      0.45      0.45      4251\n",
      "weighted avg       0.52      0.54      0.52      4251\n",
      "\n"
     ]
    },
    {
     "name": "stderr",
     "output_type": "stream",
     "text": [
      "\r",
      " 33%|███▎      | 9/27 [00:41<01:27,  4.84s/it]"
     ]
    },
    {
     "name": "stdout",
     "output_type": "stream",
     "text": [
      "Index(['month', 'day', 'year', 'hour', 'minute', 'holiday', 'dayOfTheWeek',\n",
      "       'Pandemic', 'temperature'],\n",
      "      dtype='object')\n",
      "For 9 features: \n",
      " Accuracy: 0.5663133097762073 \n",
      " Precision: 0.49014817102923264 \n",
      " Recall: 0.47610555864871984 \n",
      " F1 score: 0.4762601125680537\n",
      "              precision    recall  f1-score   support\n",
      "\n",
      "         1.0       0.66      0.76      0.71      2240\n",
      "         2.0       0.44      0.40      0.42      1228\n",
      "         3.0       0.32      0.23      0.27       777\n",
      "\n",
      "    accuracy                           0.56      4245\n",
      "   macro avg       0.47      0.46      0.47      4245\n",
      "weighted avg       0.54      0.56      0.54      4245\n",
      "\n"
     ]
    },
    {
     "name": "stderr",
     "output_type": "stream",
     "text": [
      "\r",
      " 37%|███▋      | 10/27 [00:46<01:24,  4.96s/it]"
     ]
    },
    {
     "name": "stdout",
     "output_type": "stream",
     "text": [
      "Index(['month', 'day', 'year', 'hour', 'minute', 'holiday', 'dayOfTheWeek',\n",
      "       'Pandemic', 'temperature', 'humidity'],\n",
      "      dtype='object')\n",
      "For 10 features: \n",
      " Accuracy: 0.5589879688605803 \n",
      " Precision: 0.4871686058792772 \n",
      " Recall: 0.47453871833399114 \n",
      " F1 score: 0.47236661971094407\n",
      "              precision    recall  f1-score   support\n",
      "\n",
      "         1.0       0.65      0.75      0.70      2222\n",
      "         2.0       0.53      0.07      0.12      1229\n",
      "         3.0       0.32      0.60      0.42       788\n",
      "\n",
      "    accuracy                           0.53      4239\n",
      "   macro avg       0.50      0.48      0.41      4239\n",
      "weighted avg       0.55      0.53      0.48      4239\n",
      "\n"
     ]
    },
    {
     "name": "stderr",
     "output_type": "stream",
     "text": [
      "\r",
      " 41%|████      | 11/27 [00:52<01:21,  5.10s/it]"
     ]
    },
    {
     "name": "stdout",
     "output_type": "stream",
     "text": [
      "Index(['month', 'day', 'year', 'hour', 'minute', 'holiday', 'dayOfTheWeek',\n",
      "       'Pandemic', 'temperature', 'humidity', 'pressure'],\n",
      "      dtype='object')\n",
      "For 11 features: \n",
      " Accuracy: 0.5595440585872904 \n",
      " Precision: 0.4889599094111897 \n",
      " Recall: 0.4775052867040611 \n",
      " F1 score: 0.47588301778628417\n",
      "              precision    recall  f1-score   support\n",
      "\n",
      "         1.0       0.65      0.74      0.69      2237\n",
      "         2.0       0.48      0.34      0.40      1224\n",
      "         3.0       0.31      0.34      0.32       772\n",
      "\n",
      "    accuracy                           0.55      4233\n",
      "   macro avg       0.48      0.47      0.47      4233\n",
      "weighted avg       0.54      0.55      0.54      4233\n",
      "\n"
     ]
    },
    {
     "name": "stderr",
     "output_type": "stream",
     "text": [
      "\r",
      " 44%|████▍     | 12/27 [00:57<01:17,  5.20s/it]"
     ]
    },
    {
     "name": "stdout",
     "output_type": "stream",
     "text": [
      "Index(['month', 'day', 'year', 'hour', 'minute', 'holiday', 'dayOfTheWeek',\n",
      "       'Pandemic', 'temperature', 'humidity', 'pressure',\n",
      "       'heavy intensity rain'],\n",
      "      dtype='object')\n",
      "For 12 features: \n",
      " Accuracy: 0.5607877927608232 \n",
      " Precision: 0.49113020525722795 \n",
      " Recall: 0.4799823817766582 \n",
      " F1 score: 0.47757453961746704\n",
      "              precision    recall  f1-score   support\n",
      "\n",
      "         1.0       0.67      0.75      0.71      2249\n",
      "         2.0       0.44      0.38      0.41      1210\n",
      "         3.0       0.30      0.27      0.28       768\n",
      "\n",
      "    accuracy                           0.56      4227\n",
      "   macro avg       0.47      0.46      0.47      4227\n",
      "weighted avg       0.54      0.56      0.54      4227\n",
      "\n"
     ]
    },
    {
     "name": "stderr",
     "output_type": "stream",
     "text": [
      "\r",
      " 48%|████▊     | 13/27 [01:03<01:14,  5.31s/it]"
     ]
    },
    {
     "name": "stdout",
     "output_type": "stream",
     "text": [
      "Index(['month', 'day', 'year', 'hour', 'minute', 'holiday', 'dayOfTheWeek',\n",
      "       'Pandemic', 'temperature', 'humidity', 'pressure',\n",
      "       'heavy intensity rain', 'light rain'],\n",
      "      dtype='object')\n",
      "For 13 features: \n",
      " Accuracy: 0.5630063965884862 \n",
      " Precision: 0.48514322283074596 \n",
      " Recall: 0.4734071809972039 \n",
      " F1 score: 0.47464726388847817\n",
      "              precision    recall  f1-score   support\n",
      "\n",
      "         1.0       0.65      0.74      0.69      2202\n",
      "         2.0       0.46      0.37      0.41      1213\n",
      "         3.0       0.32      0.30      0.31       806\n",
      "\n",
      "    accuracy                           0.55      4221\n",
      "   macro avg       0.48      0.47      0.47      4221\n",
      "weighted avg       0.53      0.55      0.54      4221\n",
      "\n"
     ]
    },
    {
     "name": "stderr",
     "output_type": "stream",
     "text": [
      "\r",
      " 52%|█████▏    | 14/27 [01:08<01:09,  5.37s/it]"
     ]
    },
    {
     "name": "stdout",
     "output_type": "stream",
     "text": [
      "Index(['month', 'day', 'year', 'hour', 'minute', 'holiday', 'dayOfTheWeek',\n",
      "       'Pandemic', 'temperature', 'humidity', 'pressure',\n",
      "       'heavy intensity rain', 'light rain', 'broken clouds'],\n",
      "      dtype='object')\n",
      "For 14 features: \n",
      " Accuracy: 0.5619454329774615 \n",
      " Precision: 0.48846967721567747 \n",
      " Recall: 0.4785081944923634 \n",
      " F1 score: 0.47847892826487626\n",
      "              precision    recall  f1-score   support\n",
      "\n",
      "         1.0       0.67      0.74      0.70      2262\n",
      "         2.0       0.44      0.44      0.44      1184\n",
      "         3.0       0.36      0.24      0.29       769\n",
      "\n",
      "    accuracy                           0.56      4215\n",
      "   macro avg       0.49      0.47      0.48      4215\n",
      "weighted avg       0.55      0.56      0.55      4215\n",
      "\n"
     ]
    },
    {
     "name": "stderr",
     "output_type": "stream",
     "text": [
      "\r",
      " 56%|█████▌    | 15/27 [01:14<01:05,  5.47s/it]"
     ]
    },
    {
     "name": "stdout",
     "output_type": "stream",
     "text": [
      "Index(['month', 'day', 'year', 'hour', 'minute', 'holiday', 'dayOfTheWeek',\n",
      "       'Pandemic', 'temperature', 'humidity', 'pressure',\n",
      "       'heavy intensity rain', 'light rain', 'broken clouds', 'moderate rain'],\n",
      "      dtype='object')\n",
      "For 15 features: \n",
      " Accuracy: 0.5551912568306011 \n",
      " Precision: 0.4904497965843764 \n",
      " Recall: 0.4781528376935711 \n",
      " F1 score: 0.47055241194250186\n",
      "              precision    recall  f1-score   support\n",
      "\n",
      "         1.0       0.66      0.74      0.70      2178\n",
      "         2.0       0.45      0.48      0.46      1258\n",
      "         3.0       0.40      0.21      0.27       773\n",
      "\n",
      "    accuracy                           0.57      4209\n",
      "   macro avg       0.50      0.48      0.48      4209\n",
      "weighted avg       0.55      0.57      0.55      4209\n",
      "\n"
     ]
    },
    {
     "name": "stderr",
     "output_type": "stream",
     "text": [
      "\r",
      " 59%|█████▉    | 16/27 [01:21<01:04,  5.90s/it]"
     ]
    },
    {
     "name": "stdout",
     "output_type": "stream",
     "text": [
      "Index(['month', 'day', 'year', 'hour', 'minute', 'holiday', 'dayOfTheWeek',\n",
      "       'Pandemic', 'temperature', 'humidity', 'pressure',\n",
      "       'heavy intensity rain', 'light rain', 'broken clouds', 'moderate rain',\n",
      "       'mist'],\n",
      "      dtype='object')\n",
      "For 16 features: \n",
      " Accuracy: 0.5458363073994765 \n",
      " Precision: 0.46906543242085524 \n",
      " Recall: 0.46847135932440415 \n",
      " F1 score: 0.4554524845114919\n",
      "              precision    recall  f1-score   support\n",
      "\n",
      "         1.0       0.68      0.75      0.71      2253\n",
      "         2.0       0.46      0.43      0.44      1221\n",
      "         3.0       0.33      0.26      0.29       729\n",
      "\n",
      "    accuracy                           0.57      4203\n",
      "   macro avg       0.49      0.48      0.48      4203\n",
      "weighted avg       0.55      0.57      0.56      4203\n",
      "\n"
     ]
    },
    {
     "name": "stderr",
     "output_type": "stream",
     "text": [
      "\r",
      " 63%|██████▎   | 17/27 [01:28<01:02,  6.29s/it]"
     ]
    },
    {
     "name": "stdout",
     "output_type": "stream",
     "text": [
      "Index(['month', 'day', 'year', 'hour', 'minute', 'holiday', 'dayOfTheWeek',\n",
      "       'Pandemic', 'temperature', 'humidity', 'pressure',\n",
      "       'heavy intensity rain', 'light rain', 'broken clouds', 'moderate rain',\n",
      "       'mist', 'overcast clouds'],\n",
      "      dtype='object')\n",
      "For 17 features: \n",
      " Accuracy: 0.548927805575411 \n",
      " Precision: 0.4768972222320143 \n",
      " Recall: 0.47373600608026356 \n",
      " F1 score: 0.4621854730770561\n",
      "              precision    recall  f1-score   support\n",
      "\n",
      "         1.0       0.65      0.74      0.69      2172\n",
      "         2.0       0.50      0.39      0.44      1267\n",
      "         3.0       0.32      0.32      0.32       758\n",
      "\n",
      "    accuracy                           0.56      4197\n",
      "   macro avg       0.49      0.48      0.48      4197\n",
      "weighted avg       0.55      0.56      0.55      4197\n",
      "\n"
     ]
    },
    {
     "name": "stderr",
     "output_type": "stream",
     "text": [
      "\r",
      " 67%|██████▋   | 18/27 [01:35<00:58,  6.47s/it]"
     ]
    },
    {
     "name": "stdout",
     "output_type": "stream",
     "text": [
      "Index(['month', 'day', 'year', 'hour', 'minute', 'holiday', 'dayOfTheWeek',\n",
      "       'Pandemic', 'temperature', 'humidity', 'pressure',\n",
      "       'heavy intensity rain', 'light rain', 'broken clouds', 'moderate rain',\n",
      "       'mist', 'overcast clouds', 'clear sky'],\n",
      "      dtype='object')\n",
      "For 18 features: \n",
      " Accuracy: 0.5502147458840372 \n",
      " Precision: 0.4809191662692286 \n",
      " Recall: 0.4761502474434131 \n",
      " F1 score: 0.46602403495051703\n",
      "              precision    recall  f1-score   support\n",
      "\n",
      "         1.0       0.65      0.74      0.69      2223\n",
      "         2.0       0.44      0.36      0.40      1225\n",
      "         3.0       0.30      0.27      0.29       743\n",
      "\n",
      "    accuracy                           0.55      4191\n",
      "   macro avg       0.47      0.46      0.46      4191\n",
      "weighted avg       0.53      0.55      0.54      4191\n",
      "\n"
     ]
    },
    {
     "name": "stderr",
     "output_type": "stream",
     "text": [
      "\r",
      " 70%|███████   | 19/27 [01:42<00:53,  6.74s/it]"
     ]
    },
    {
     "name": "stdout",
     "output_type": "stream",
     "text": [
      "Index(['month', 'day', 'year', 'hour', 'minute', 'holiday', 'dayOfTheWeek',\n",
      "       'Pandemic', 'temperature', 'humidity', 'pressure',\n",
      "       'heavy intensity rain', 'light rain', 'broken clouds', 'moderate rain',\n",
      "       'mist', 'overcast clouds', 'clear sky', 'scattered clouds'],\n",
      "      dtype='object')\n",
      "For 19 features: \n",
      " Accuracy: 0.5484229390681004 \n",
      " Precision: 0.45831462694867864 \n",
      " Recall: 0.4696878900367995 \n",
      " F1 score: 0.45176613348528377\n",
      "              precision    recall  f1-score   support\n",
      "\n",
      "         1.0       0.66      0.75      0.70      2237\n",
      "         2.0       0.48      0.18      0.26      1214\n",
      "         3.0       0.31      0.49      0.38       734\n",
      "\n",
      "    accuracy                           0.54      4185\n",
      "   macro avg       0.48      0.48      0.45      4185\n",
      "weighted avg       0.55      0.54      0.52      4185\n",
      "\n"
     ]
    },
    {
     "name": "stderr",
     "output_type": "stream",
     "text": [
      "\r",
      " 74%|███████▍  | 20/27 [01:49<00:46,  6.70s/it]"
     ]
    },
    {
     "name": "stdout",
     "output_type": "stream",
     "text": [
      "Index(['month', 'day', 'year', 'hour', 'minute', 'holiday', 'dayOfTheWeek',\n",
      "       'Pandemic', 'temperature', 'humidity', 'pressure',\n",
      "       'heavy intensity rain', 'light rain', 'broken clouds', 'moderate rain',\n",
      "       'mist', 'overcast clouds', 'clear sky', 'scattered clouds',\n",
      "       'thunderstorm with rain'],\n",
      "      dtype='object')\n",
      "For 20 features: \n",
      " Accuracy: 0.5558267528116775 \n",
      " Precision: 0.4812226178758604 \n",
      " Recall: 0.4769027330347746 \n",
      " F1 score: 0.4638670029416801\n",
      "              precision    recall  f1-score   support\n",
      "\n",
      "         1.0       0.68      0.75      0.71      2235\n",
      "         2.0       0.43      0.25      0.32      1181\n",
      "         3.0       0.32      0.43      0.36       763\n",
      "\n",
      "    accuracy                           0.55      4179\n",
      "   macro avg       0.48      0.48      0.46      4179\n",
      "weighted avg       0.54      0.55      0.54      4179\n",
      "\n"
     ]
    },
    {
     "name": "stderr",
     "output_type": "stream",
     "text": [
      "\r",
      " 78%|███████▊  | 21/27 [01:56<00:41,  6.94s/it]"
     ]
    },
    {
     "name": "stdout",
     "output_type": "stream",
     "text": [
      "Index(['month', 'day', 'year', 'hour', 'minute', 'holiday', 'dayOfTheWeek',\n",
      "       'Pandemic', 'temperature', 'humidity', 'pressure',\n",
      "       'heavy intensity rain', 'light rain', 'broken clouds', 'moderate rain',\n",
      "       'mist', 'overcast clouds', 'clear sky', 'scattered clouds',\n",
      "       'thunderstorm with rain', 'few clouds'],\n",
      "      dtype='object')\n",
      "For 21 features: \n",
      " Accuracy: 0.5546848789839444 \n",
      " Precision: 0.48564453046009154 \n",
      " Recall: 0.47682985894481955 \n",
      " F1 score: 0.4669457012321093\n",
      "              precision    recall  f1-score   support\n",
      "\n",
      "         1.0       0.65      0.75      0.69      2161\n",
      "         2.0       0.44      0.07      0.11      1242\n",
      "         3.0       0.31      0.60      0.40       770\n",
      "\n",
      "    accuracy                           0.52      4173\n",
      "   macro avg       0.46      0.47      0.40      4173\n",
      "weighted avg       0.52      0.52      0.47      4173\n",
      "\n"
     ]
    },
    {
     "name": "stderr",
     "output_type": "stream",
     "text": [
      "\r",
      " 81%|████████▏ | 22/27 [02:03<00:34,  6.98s/it]"
     ]
    },
    {
     "name": "stdout",
     "output_type": "stream",
     "text": [
      "Index(['month', 'day', 'year', 'hour', 'minute', 'holiday', 'dayOfTheWeek',\n",
      "       'Pandemic', 'temperature', 'humidity', 'pressure',\n",
      "       'heavy intensity rain', 'light rain', 'broken clouds', 'moderate rain',\n",
      "       'mist', 'overcast clouds', 'clear sky', 'scattered clouds',\n",
      "       'thunderstorm with rain', 'few clouds', 'thunderstorm'],\n",
      "      dtype='object')\n",
      "For 22 features: \n",
      " Accuracy: 0.558675305975522 \n",
      " Precision: 0.4863798681759356 \n",
      " Recall: 0.4788915405280231 \n",
      " F1 score: 0.4676776799684796\n",
      "              precision    recall  f1-score   support\n",
      "\n",
      "         1.0       0.66      0.74      0.70      2189\n",
      "         2.0       0.40      0.14      0.21      1217\n",
      "         3.0       0.30      0.50      0.37       761\n",
      "\n",
      "    accuracy                           0.52      4167\n",
      "   macro avg       0.45      0.46      0.43      4167\n",
      "weighted avg       0.52      0.52      0.49      4167\n",
      "\n"
     ]
    },
    {
     "name": "stderr",
     "output_type": "stream",
     "text": [
      "\r",
      " 85%|████████▌ | 23/27 [02:11<00:28,  7.15s/it]"
     ]
    },
    {
     "name": "stdout",
     "output_type": "stream",
     "text": [
      "Index(['month', 'day', 'year', 'hour', 'minute', 'holiday', 'dayOfTheWeek',\n",
      "       'Pandemic', 'temperature', 'humidity', 'pressure',\n",
      "       'heavy intensity rain', 'light rain', 'broken clouds', 'moderate rain',\n",
      "       'mist', 'overcast clouds', 'clear sky', 'scattered clouds',\n",
      "       'thunderstorm with rain', 'few clouds', 'thunderstorm', 'shower rain'],\n",
      "      dtype='object')\n",
      "For 23 features: \n",
      " Accuracy: 0.5552871905791876 \n",
      " Precision: 0.48173565520509903 \n",
      " Recall: 0.47246425182310364 \n",
      " F1 score: 0.4561231432611997\n",
      "              precision    recall  f1-score   support\n",
      "\n",
      "         1.0       0.67      0.75      0.71      2224\n",
      "         2.0       0.47      0.39      0.43      1175\n",
      "         3.0       0.33      0.29      0.31       762\n",
      "\n",
      "    accuracy                           0.56      4161\n",
      "   macro avg       0.49      0.48      0.48      4161\n",
      "weighted avg       0.55      0.56      0.55      4161\n",
      "\n"
     ]
    },
    {
     "name": "stderr",
     "output_type": "stream",
     "text": [
      "\r",
      " 89%|████████▉ | 24/27 [02:22<00:24,  8.32s/it]"
     ]
    },
    {
     "name": "stdout",
     "output_type": "stream",
     "text": [
      "Index(['month', 'day', 'year', 'hour', 'minute', 'holiday', 'dayOfTheWeek',\n",
      "       'Pandemic', 'temperature', 'humidity', 'pressure',\n",
      "       'heavy intensity rain', 'light rain', 'broken clouds', 'moderate rain',\n",
      "       'mist', 'overcast clouds', 'clear sky', 'scattered clouds',\n",
      "       'thunderstorm with rain', 'few clouds', 'thunderstorm', 'shower rain',\n",
      "       'very heavy rain'],\n",
      "      dtype='object')\n",
      "For 24 features: \n",
      " Accuracy: 0.546835138387485 \n",
      " Precision: 0.47406734411420215 \n",
      " Recall: 0.47595257207558367 \n",
      " F1 score: 0.44865170514466\n",
      "              precision    recall  f1-score   support\n",
      "\n",
      "         1.0       0.68      0.75      0.71      2218\n",
      "         2.0       0.53      0.14      0.22      1179\n",
      "         3.0       0.33      0.61      0.43       758\n",
      "\n",
      "    accuracy                           0.55      4155\n",
      "   macro avg       0.51      0.50      0.45      4155\n",
      "weighted avg       0.57      0.55      0.52      4155\n",
      "\n"
     ]
    },
    {
     "name": "stderr",
     "output_type": "stream",
     "text": [
      "\r",
      " 93%|█████████▎| 25/27 [02:32<00:17,  8.80s/it]"
     ]
    },
    {
     "name": "stdout",
     "output_type": "stream",
     "text": [
      "Index(['month', 'day', 'year', 'hour', 'minute', 'holiday', 'dayOfTheWeek',\n",
      "       'Pandemic', 'temperature', 'humidity', 'pressure',\n",
      "       'heavy intensity rain', 'light rain', 'broken clouds', 'moderate rain',\n",
      "       'mist', 'overcast clouds', 'clear sky', 'scattered clouds',\n",
      "       'thunderstorm with rain', 'few clouds', 'thunderstorm', 'shower rain',\n",
      "       'very heavy rain', 'fog'],\n",
      "      dtype='object')\n",
      "For 25 features: \n",
      " Accuracy: 0.5525668835864064 \n",
      " Precision: 0.48199535771171814 \n",
      " Recall: 0.47692389081269776 \n",
      " F1 score: 0.4627850391457885\n",
      "              precision    recall  f1-score   support\n",
      "\n",
      "         1.0       0.67      0.76      0.71      2168\n",
      "         2.0       0.43      0.45      0.44      1200\n",
      "         3.0       0.37      0.22      0.27       781\n",
      "\n",
      "    accuracy                           0.57      4149\n",
      "   macro avg       0.49      0.48      0.48      4149\n",
      "weighted avg       0.55      0.57      0.55      4149\n",
      "\n"
     ]
    },
    {
     "name": "stderr",
     "output_type": "stream",
     "text": [
      "\r",
      " 96%|█████████▋| 26/27 [02:42<00:09,  9.21s/it]"
     ]
    },
    {
     "name": "stdout",
     "output_type": "stream",
     "text": [
      "Index(['month', 'day', 'year', 'hour', 'minute', 'holiday', 'dayOfTheWeek',\n",
      "       'Pandemic', 'temperature', 'humidity', 'pressure',\n",
      "       'heavy intensity rain', 'light rain', 'broken clouds', 'moderate rain',\n",
      "       'mist', 'overcast clouds', 'clear sky', 'scattered clouds',\n",
      "       'thunderstorm with rain', 'few clouds', 'thunderstorm', 'shower rain',\n",
      "       'very heavy rain', 'fog', 'haze'],\n",
      "      dtype='object')\n",
      "For 26 features: \n",
      " Accuracy: 0.548781076514603 \n",
      " Precision: 0.47981730640667836 \n",
      " Recall: 0.479116792444882 \n",
      " F1 score: 0.4533512976471235\n",
      "              precision    recall  f1-score   support\n",
      "\n",
      "         1.0       0.66      0.77      0.71      2175\n",
      "         2.0       0.50      0.30      0.37      1227\n",
      "         3.0       0.32      0.38      0.35       741\n",
      "\n",
      "    accuracy                           0.56      4143\n",
      "   macro avg       0.49      0.48      0.48      4143\n",
      "weighted avg       0.55      0.56      0.55      4143\n",
      "\n"
     ]
    },
    {
     "name": "stderr",
     "output_type": "stream",
     "text": [
      "100%|██████████| 27/27 [02:54<00:00,  6.45s/it]\n",
      "  0%|          | 0/27 [00:00<?, ?it/s]"
     ]
    },
    {
     "name": "stdout",
     "output_type": "stream",
     "text": [
      "Index(['month', 'day', 'year', 'hour', 'minute', 'holiday', 'dayOfTheWeek',\n",
      "       'Pandemic', 'temperature', 'humidity', 'pressure',\n",
      "       'heavy intensity rain', 'light rain', 'broken clouds', 'moderate rain',\n",
      "       'mist', 'overcast clouds', 'clear sky', 'scattered clouds',\n",
      "       'thunderstorm with rain', 'few clouds', 'thunderstorm', 'shower rain',\n",
      "       'very heavy rain', 'fog', 'haze', 'thunderstorm with light rain'],\n",
      "      dtype='object')\n",
      "For 27 features: \n",
      " Accuracy: 0.5571428571428572 \n",
      " Precision: 0.4884561373633765 \n",
      " Recall: 0.4819607719576449 \n",
      " F1 score: 0.46760086869974504\n",
      "              precision    recall  f1-score   support\n",
      "\n",
      "         1.0       0.67      0.75      0.71      2220\n",
      "         2.0       0.44      0.37      0.40      1180\n",
      "         3.0       0.34      0.30      0.32       737\n",
      "\n",
      "    accuracy                           0.56      4137\n",
      "   macro avg       0.49      0.48      0.48      4137\n",
      "weighted avg       0.55      0.56      0.55      4137\n",
      "\n",
      "\n",
      " \n",
      "\n",
      "------------------------- Analyzing method mutualInformation_reggression -------------------------\n",
      "The variable order is: \n",
      " ['month', 'day', 'year', 'hour', 'minute', 'holiday', 'dayOfTheWeek', 'Pandemic', 'temperature', 'humidity', 'pressure', 'heavy intensity rain', 'light rain', 'broken clouds', 'moderate rain', 'mist', 'overcast clouds', 'clear sky', 'scattered clouds', 'thunderstorm with rain', 'few clouds', 'thunderstorm', 'shower rain', 'very heavy rain', 'fog', 'haze', 'thunderstorm with light rain', 'light intensity drizzle']\n"
     ]
    },
    {
     "name": "stderr",
     "output_type": "stream",
     "text": [
      "\r",
      "  4%|▎         | 1/27 [00:03<01:41,  3.89s/it]"
     ]
    },
    {
     "name": "stdout",
     "output_type": "stream",
     "text": [
      "Index(['month'], dtype='object')\n",
      "For 1 features: \n",
      " Accuracy: 0.3310578552408618 \n",
      " Precision: 0.21837242766905704 \n",
      " Recall: 0.33790376009711515 \n",
      " F1 score: 0.23996137184119673\n",
      "              precision    recall  f1-score   support\n",
      "\n",
      "         1.0       0.00      0.00      0.00      2202\n",
      "         2.0       0.32      0.16      0.21      1166\n",
      "         3.0       0.17      0.78      0.27       763\n",
      "\n",
      "    accuracy                           0.19      4131\n",
      "   macro avg       0.16      0.31      0.16      4131\n",
      "weighted avg       0.12      0.19      0.11      4131\n",
      "\n"
     ]
    },
    {
     "name": "stderr",
     "output_type": "stream",
     "text": [
      "\r",
      "  7%|▋         | 2/27 [00:07<01:38,  3.92s/it]"
     ]
    },
    {
     "name": "stdout",
     "output_type": "stream",
     "text": [
      "Index(['month', 'day'], dtype='object')\n",
      "For 2 features: \n",
      " Accuracy: 0.36127272727272725 \n",
      " Precision: 0.2567885753054372 \n",
      " Recall: 0.3356991456846588 \n",
      " F1 score: 0.2547212486536869\n",
      "              precision    recall  f1-score   support\n",
      "\n",
      "         1.0       0.55      0.60      0.58      2160\n",
      "         2.0       0.31      0.46      0.37      1190\n",
      "         3.0       0.00      0.00      0.00       775\n",
      "\n",
      "    accuracy                           0.45      4125\n",
      "   macro avg       0.29      0.35      0.32      4125\n",
      "weighted avg       0.38      0.45      0.41      4125\n",
      "\n"
     ]
    },
    {
     "name": "stderr",
     "output_type": "stream",
     "text": [
      "\r",
      " 11%|█         | 3/27 [00:11<01:34,  3.92s/it]"
     ]
    },
    {
     "name": "stdout",
     "output_type": "stream",
     "text": [
      "Index(['month', 'day', 'year'], dtype='object')\n",
      "For 3 features: \n",
      " Accuracy: 0.5134134498664724 \n",
      " Precision: 0.3695000659817111 \n",
      " Recall: 0.4112660683285225 \n",
      " F1 score: 0.3756085033064802\n",
      "              precision    recall  f1-score   support\n",
      "\n",
      "         1.0       0.63      0.70      0.66      2205\n",
      "         2.0       0.19      0.02      0.03      1176\n",
      "         3.0       0.23      0.49      0.32       738\n",
      "\n",
      "    accuracy                           0.47      4119\n",
      "   macro avg       0.35      0.40      0.34      4119\n",
      "weighted avg       0.43      0.47      0.42      4119\n",
      "\n"
     ]
    },
    {
     "name": "stderr",
     "output_type": "stream",
     "text": [
      "\r",
      " 15%|█▍        | 4/27 [00:15<01:31,  3.97s/it]"
     ]
    },
    {
     "name": "stdout",
     "output_type": "stream",
     "text": [
      "Index(['month', 'day', 'year', 'hour'], dtype='object')\n",
      "For 4 features: \n",
      " Accuracy: 0.5209093119377584 \n",
      " Precision: 0.4071324819520831 \n",
      " Recall: 0.42056484521015236 \n",
      " F1 score: 0.399410149743881\n",
      "              precision    recall  f1-score   support\n",
      "\n",
      "         1.0       0.62      0.76      0.69      2175\n",
      "         2.0       0.39      0.46      0.42      1149\n",
      "         3.0       0.03      0.00      0.01       789\n",
      "\n",
      "    accuracy                           0.53      4113\n",
      "   macro avg       0.35      0.41      0.37      4113\n",
      "weighted avg       0.45      0.53      0.48      4113\n",
      "\n"
     ]
    },
    {
     "name": "stderr",
     "output_type": "stream",
     "text": [
      "\r",
      " 19%|█▊        | 5/27 [00:20<01:31,  4.16s/it]"
     ]
    },
    {
     "name": "stdout",
     "output_type": "stream",
     "text": [
      "Index(['month', 'day', 'year', 'hour', 'minute'], dtype='object')\n",
      "For 5 features: \n",
      " Accuracy: 0.5197589481373265 \n",
      " Precision: 0.39511599437517864 \n",
      " Recall: 0.4188352078674499 \n",
      " F1 score: 0.38521037727641777\n",
      "              precision    recall  f1-score   support\n",
      "\n",
      "         1.0       0.63      0.76      0.69      2142\n",
      "         2.0       0.00      0.00      0.00      1184\n",
      "         3.0       0.29      0.55      0.38       781\n",
      "\n",
      "    accuracy                           0.50      4107\n",
      "   macro avg       0.30      0.44      0.36      4107\n",
      "weighted avg       0.38      0.50      0.43      4107\n",
      "\n"
     ]
    },
    {
     "name": "stderr",
     "output_type": "stream",
     "text": [
      "\r",
      " 22%|██▏       | 6/27 [00:25<01:31,  4.38s/it]"
     ]
    },
    {
     "name": "stdout",
     "output_type": "stream",
     "text": [
      "Index(['month', 'day', 'year', 'hour', 'minute', 'holiday'], dtype='object')\n",
      "For 6 features: \n",
      " Accuracy: 0.5167032431114362 \n",
      " Precision: 0.4330624107686444 \n",
      " Recall: 0.44446855894838405 \n",
      " F1 score: 0.4203834768590127\n",
      "              precision    recall  f1-score   support\n",
      "\n",
      "         1.0       0.63      0.72      0.67      2166\n",
      "         2.0       0.35      0.07      0.11      1166\n",
      "         3.0       0.30      0.54      0.39       769\n",
      "\n",
      "    accuracy                           0.50      4101\n",
      "   macro avg       0.43      0.44      0.39      4101\n",
      "weighted avg       0.49      0.50      0.46      4101\n",
      "\n"
     ]
    },
    {
     "name": "stderr",
     "output_type": "stream",
     "text": [
      "\r",
      " 26%|██▌       | 7/27 [00:29<01:29,  4.48s/it]"
     ]
    },
    {
     "name": "stdout",
     "output_type": "stream",
     "text": [
      "Index(['month', 'day', 'year', 'hour', 'minute', 'holiday', 'dayOfTheWeek'], dtype='object')\n",
      "For 7 features: \n",
      " Accuracy: 0.5342857142857143 \n",
      " Precision: 0.465634986152458 \n",
      " Recall: 0.454940859038867 \n",
      " F1 score: 0.44349878285654576\n",
      "              precision    recall  f1-score   support\n",
      "\n",
      "         1.0       0.65      0.74      0.69      2177\n",
      "         2.0       0.43      0.25      0.32      1171\n",
      "         3.0       0.32      0.40      0.36       747\n",
      "\n",
      "    accuracy                           0.54      4095\n",
      "   macro avg       0.47      0.46      0.45      4095\n",
      "weighted avg       0.53      0.54      0.52      4095\n",
      "\n"
     ]
    },
    {
     "name": "stderr",
     "output_type": "stream",
     "text": [
      "\r",
      " 30%|██▉       | 8/27 [00:35<01:32,  4.85s/it]"
     ]
    },
    {
     "name": "stdout",
     "output_type": "stream",
     "text": [
      "Index(['month', 'day', 'year', 'hour', 'minute', 'holiday', 'dayOfTheWeek',\n",
      "       'Pandemic'],\n",
      "      dtype='object')\n",
      "For 8 features: \n",
      " Accuracy: 0.5325752017608217 \n",
      " Precision: 0.46246793929320684 \n",
      " Recall: 0.45636731971266037 \n",
      " F1 score: 0.44128395659066766\n",
      "              precision    recall  f1-score   support\n",
      "\n",
      "         1.0       0.64      0.74      0.69      2189\n",
      "         2.0       0.52      0.21      0.30      1137\n",
      "         3.0       0.31      0.44      0.37       763\n",
      "\n",
      "    accuracy                           0.54      4089\n",
      "   macro avg       0.49      0.47      0.45      4089\n",
      "weighted avg       0.54      0.54      0.52      4089\n",
      "\n"
     ]
    },
    {
     "name": "stderr",
     "output_type": "stream",
     "text": [
      "\r",
      " 33%|███▎      | 9/27 [00:40<01:28,  4.93s/it]"
     ]
    },
    {
     "name": "stdout",
     "output_type": "stream",
     "text": [
      "Index(['month', 'day', 'year', 'hour', 'minute', 'holiday', 'dayOfTheWeek',\n",
      "       'Pandemic', 'temperature'],\n",
      "      dtype='object')\n",
      "For 9 features: \n",
      " Accuracy: 0.5655277981876071 \n",
      " Precision: 0.48982226379082316 \n",
      " Recall: 0.47703195487529765 \n",
      " F1 score: 0.4752573749227828\n",
      "              precision    recall  f1-score   support\n",
      "\n",
      "         1.0       0.67      0.75      0.71      2160\n",
      "         2.0       0.45      0.37      0.41      1171\n",
      "         3.0       0.31      0.29      0.30       752\n",
      "\n",
      "    accuracy                           0.56      4083\n",
      "   macro avg       0.48      0.47      0.47      4083\n",
      "weighted avg       0.54      0.56      0.55      4083\n",
      "\n"
     ]
    },
    {
     "name": "stderr",
     "output_type": "stream",
     "text": [
      "\r",
      " 37%|███▋      | 10/27 [00:45<01:25,  5.03s/it]"
     ]
    },
    {
     "name": "stdout",
     "output_type": "stream",
     "text": [
      "Index(['month', 'day', 'year', 'hour', 'minute', 'holiday', 'dayOfTheWeek',\n",
      "       'Pandemic', 'temperature', 'humidity'],\n",
      "      dtype='object')\n",
      "For 10 features: \n",
      " Accuracy: 0.561074319352465 \n",
      " Precision: 0.4876506682562843 \n",
      " Recall: 0.47569804500044943 \n",
      " F1 score: 0.47116586061827964\n",
      "              precision    recall  f1-score   support\n",
      "\n",
      "         1.0       0.67      0.74      0.70      2170\n",
      "         2.0       0.40      0.38      0.39      1112\n",
      "         3.0       0.34      0.27      0.30       795\n",
      "\n",
      "    accuracy                           0.55      4077\n",
      "   macro avg       0.47      0.46      0.46      4077\n",
      "weighted avg       0.53      0.55      0.54      4077\n",
      "\n"
     ]
    },
    {
     "name": "stderr",
     "output_type": "stream",
     "text": [
      "\r",
      " 41%|████      | 11/27 [00:51<01:23,  5.24s/it]"
     ]
    },
    {
     "name": "stdout",
     "output_type": "stream",
     "text": [
      "Index(['month', 'day', 'year', 'hour', 'minute', 'holiday', 'dayOfTheWeek',\n",
      "       'Pandemic', 'temperature', 'humidity', 'pressure'],\n",
      "      dtype='object')\n",
      "For 11 features: \n",
      " Accuracy: 0.5623679685580938 \n",
      " Precision: 0.48884790091373964 \n",
      " Recall: 0.4772398349862509 \n",
      " F1 score: 0.47088819947144706\n",
      "              precision    recall  f1-score   support\n",
      "\n",
      "         1.0       0.68      0.76      0.72      2189\n",
      "         2.0       0.48      0.38      0.43      1171\n",
      "         3.0       0.30      0.29      0.29       711\n",
      "\n",
      "    accuracy                           0.57      4071\n",
      "   macro avg       0.49      0.48      0.48      4071\n",
      "weighted avg       0.56      0.57      0.56      4071\n",
      "\n"
     ]
    },
    {
     "name": "stderr",
     "output_type": "stream",
     "text": [
      "\r",
      " 44%|████▍     | 12/27 [00:57<01:21,  5.45s/it]"
     ]
    },
    {
     "name": "stdout",
     "output_type": "stream",
     "text": [
      "Index(['month', 'day', 'year', 'hour', 'minute', 'holiday', 'dayOfTheWeek',\n",
      "       'Pandemic', 'temperature', 'humidity', 'pressure',\n",
      "       'heavy intensity rain'],\n",
      "      dtype='object')\n",
      "For 12 features: \n",
      " Accuracy: 0.5640959409594096 \n",
      " Precision: 0.48997760208146024 \n",
      " Recall: 0.4779636782611773 \n",
      " F1 score: 0.47380447177847673\n",
      "              precision    recall  f1-score   support\n",
      "\n",
      "         1.0       0.68      0.76      0.72      2201\n",
      "         2.0       0.40      0.41      0.41      1130\n",
      "         3.0       0.37      0.23      0.29       734\n",
      "\n",
      "    accuracy                           0.57      4065\n",
      "   macro avg       0.49      0.47      0.47      4065\n",
      "weighted avg       0.55      0.57      0.55      4065\n",
      "\n"
     ]
    },
    {
     "name": "stderr",
     "output_type": "stream",
     "text": [
      "\r",
      " 48%|████▊     | 13/27 [01:03<01:20,  5.72s/it]"
     ]
    },
    {
     "name": "stdout",
     "output_type": "stream",
     "text": [
      "Index(['month', 'day', 'year', 'hour', 'minute', 'holiday', 'dayOfTheWeek',\n",
      "       'Pandemic', 'temperature', 'humidity', 'pressure',\n",
      "       'heavy intensity rain', 'light rain'],\n",
      "      dtype='object')\n",
      "For 13 features: \n",
      " Accuracy: 0.5638950480413895 \n",
      " Precision: 0.48835439968690175 \n",
      " Recall: 0.4767675610515599 \n",
      " F1 score: 0.4714615106718004\n",
      "              precision    recall  f1-score   support\n",
      "\n",
      "         1.0       0.68      0.74      0.71      2207\n",
      "         2.0       0.44      0.12      0.19      1094\n",
      "         3.0       0.32      0.57      0.41       758\n",
      "\n",
      "    accuracy                           0.54      4059\n",
      "   macro avg       0.48      0.48      0.44      4059\n",
      "weighted avg       0.55      0.54      0.51      4059\n",
      "\n"
     ]
    },
    {
     "name": "stderr",
     "output_type": "stream",
     "text": [
      "\r",
      " 52%|█████▏    | 14/27 [01:09<01:14,  5.71s/it]"
     ]
    },
    {
     "name": "stdout",
     "output_type": "stream",
     "text": [
      "Index(['month', 'day', 'year', 'hour', 'minute', 'holiday', 'dayOfTheWeek',\n",
      "       'Pandemic', 'temperature', 'humidity', 'pressure',\n",
      "       'heavy intensity rain', 'light rain', 'broken clouds'],\n",
      "      dtype='object')\n",
      "For 14 features: \n",
      " Accuracy: 0.5590673575129533 \n",
      " Precision: 0.48461151163740424 \n",
      " Recall: 0.47623803227937117 \n",
      " F1 score: 0.4705425044975444\n",
      "              precision    recall  f1-score   support\n",
      "\n",
      "         1.0       0.68      0.75      0.72      2222\n",
      "         2.0       0.40      0.44      0.42      1101\n",
      "         3.0       0.38      0.22      0.28       730\n",
      "\n",
      "    accuracy                           0.57      4053\n",
      "   macro avg       0.49      0.47      0.47      4053\n",
      "weighted avg       0.55      0.57      0.56      4053\n",
      "\n"
     ]
    },
    {
     "name": "stderr",
     "output_type": "stream",
     "text": [
      "\r",
      " 56%|█████▌    | 15/27 [01:15<01:11,  5.92s/it]"
     ]
    },
    {
     "name": "stdout",
     "output_type": "stream",
     "text": [
      "Index(['month', 'day', 'year', 'hour', 'minute', 'holiday', 'dayOfTheWeek',\n",
      "       'Pandemic', 'temperature', 'humidity', 'pressure',\n",
      "       'heavy intensity rain', 'light rain', 'broken clouds', 'moderate rain'],\n",
      "      dtype='object')\n",
      "For 15 features: \n",
      " Accuracy: 0.5444650358290092 \n",
      " Precision: 0.476558593058187 \n",
      " Recall: 0.47368056116571444 \n",
      " F1 score: 0.44630372561669757\n",
      "              precision    recall  f1-score   support\n",
      "\n",
      "         1.0       0.67      0.75      0.71      2166\n",
      "         2.0       0.52      0.13      0.21      1150\n",
      "         3.0       0.34      0.62      0.44       731\n",
      "\n",
      "    accuracy                           0.55      4047\n",
      "   macro avg       0.51      0.50      0.45      4047\n",
      "weighted avg       0.57      0.55      0.52      4047\n",
      "\n"
     ]
    },
    {
     "name": "stderr",
     "output_type": "stream",
     "text": [
      "\r",
      " 59%|█████▉    | 16/27 [01:21<01:04,  5.84s/it]"
     ]
    },
    {
     "name": "stdout",
     "output_type": "stream",
     "text": [
      "Index(['month', 'day', 'year', 'hour', 'minute', 'holiday', 'dayOfTheWeek',\n",
      "       'Pandemic', 'temperature', 'humidity', 'pressure',\n",
      "       'heavy intensity rain', 'light rain', 'broken clouds', 'moderate rain',\n",
      "       'mist'],\n",
      "      dtype='object')\n",
      "For 16 features: \n",
      " Accuracy: 0.5486265775798069 \n",
      " Precision: 0.47025938503803244 \n",
      " Recall: 0.46839352602379314 \n",
      " F1 score: 0.45619088285735687\n",
      "              precision    recall  f1-score   support\n",
      "\n",
      "         1.0       0.67      0.74      0.70      2179\n",
      "         2.0       0.41      0.43      0.42      1124\n",
      "         3.0       0.33      0.21      0.26       738\n",
      "\n",
      "    accuracy                           0.56      4041\n",
      "   macro avg       0.47      0.46      0.46      4041\n",
      "weighted avg       0.54      0.56      0.54      4041\n",
      "\n"
     ]
    },
    {
     "name": "stderr",
     "output_type": "stream",
     "text": [
      "\r",
      " 63%|██████▎   | 17/27 [01:28<01:03,  6.31s/it]"
     ]
    },
    {
     "name": "stdout",
     "output_type": "stream",
     "text": [
      "Index(['month', 'day', 'year', 'hour', 'minute', 'holiday', 'dayOfTheWeek',\n",
      "       'Pandemic', 'temperature', 'humidity', 'pressure',\n",
      "       'heavy intensity rain', 'light rain', 'broken clouds', 'moderate rain',\n",
      "       'mist', 'overcast clouds'],\n",
      "      dtype='object')\n",
      "For 17 features: \n",
      " Accuracy: 0.5500743494423792 \n",
      " Precision: 0.4693971034202147 \n",
      " Recall: 0.467081674046006 \n",
      " F1 score: 0.4553855536809352\n",
      "              precision    recall  f1-score   support\n",
      "\n",
      "         1.0       0.67      0.74      0.70      2193\n",
      "         2.0       0.40      0.04      0.07      1094\n",
      "         3.0       0.32      0.66      0.43       748\n",
      "\n",
      "    accuracy                           0.53      4035\n",
      "   macro avg       0.46      0.48      0.40      4035\n",
      "weighted avg       0.53      0.53      0.48      4035\n",
      "\n"
     ]
    },
    {
     "name": "stderr",
     "output_type": "stream",
     "text": [
      "\r",
      " 67%|██████▋   | 18/27 [01:36<00:59,  6.59s/it]"
     ]
    },
    {
     "name": "stdout",
     "output_type": "stream",
     "text": [
      "Index(['month', 'day', 'year', 'hour', 'minute', 'holiday', 'dayOfTheWeek',\n",
      "       'Pandemic', 'temperature', 'humidity', 'pressure',\n",
      "       'heavy intensity rain', 'light rain', 'broken clouds', 'moderate rain',\n",
      "       'mist', 'overcast clouds', 'clear sky'],\n",
      "      dtype='object')\n",
      "For 18 features: \n",
      " Accuracy: 0.5418838421444527 \n",
      " Precision: 0.4537672963414652 \n",
      " Recall: 0.4664045379168362 \n",
      " F1 score: 0.4359878640433056\n",
      "              precision    recall  f1-score   support\n",
      "\n",
      "         1.0       0.68      0.75      0.72      2215\n",
      "         2.0       0.22      0.05      0.08      1080\n",
      "         3.0       0.33      0.60      0.42       734\n",
      "\n",
      "    accuracy                           0.54      4029\n",
      "   macro avg       0.41      0.47      0.41      4029\n",
      "weighted avg       0.50      0.54      0.49      4029\n",
      "\n"
     ]
    },
    {
     "name": "stderr",
     "output_type": "stream",
     "text": [
      "\r",
      " 70%|███████   | 19/27 [01:43<00:53,  6.73s/it]"
     ]
    },
    {
     "name": "stdout",
     "output_type": "stream",
     "text": [
      "Index(['month', 'day', 'year', 'hour', 'minute', 'holiday', 'dayOfTheWeek',\n",
      "       'Pandemic', 'temperature', 'humidity', 'pressure',\n",
      "       'heavy intensity rain', 'light rain', 'broken clouds', 'moderate rain',\n",
      "       'mist', 'overcast clouds', 'clear sky', 'scattered clouds'],\n",
      "      dtype='object')\n",
      "For 19 features: \n",
      " Accuracy: 0.5504847129008202 \n",
      " Precision: 0.4721478693786498 \n",
      " Recall: 0.4703158087567954 \n",
      " F1 score: 0.45416954222422473\n",
      "              precision    recall  f1-score   support\n",
      "\n",
      "         1.0       0.67      0.75      0.71      2173\n",
      "         2.0       0.30      0.04      0.08      1144\n",
      "         3.0       0.30      0.60      0.40       706\n",
      "\n",
      "    accuracy                           0.52      4023\n",
      "   macro avg       0.42      0.46      0.39      4023\n",
      "weighted avg       0.50      0.52      0.47      4023\n",
      "\n"
     ]
    },
    {
     "name": "stderr",
     "output_type": "stream",
     "text": [
      "\r",
      " 74%|███████▍  | 20/27 [01:49<00:46,  6.64s/it]"
     ]
    },
    {
     "name": "stdout",
     "output_type": "stream",
     "text": [
      "Index(['month', 'day', 'year', 'hour', 'minute', 'holiday', 'dayOfTheWeek',\n",
      "       'Pandemic', 'temperature', 'humidity', 'pressure',\n",
      "       'heavy intensity rain', 'light rain', 'broken clouds', 'moderate rain',\n",
      "       'mist', 'overcast clouds', 'clear sky', 'scattered clouds',\n",
      "       'thunderstorm with rain'],\n",
      "      dtype='object')\n",
      "For 20 features: \n",
      " Accuracy: 0.5480582524271844 \n",
      " Precision: 0.47117378638836804 \n",
      " Recall: 0.468447490181112 \n",
      " F1 score: 0.4500186422648601\n",
      "              precision    recall  f1-score   support\n",
      "\n",
      "         1.0       0.68      0.74      0.71      2214\n",
      "         2.0       0.37      0.35      0.36      1064\n",
      "         3.0       0.32      0.25      0.28       739\n",
      "\n",
      "    accuracy                           0.55      4017\n",
      "   macro avg       0.46      0.45      0.45      4017\n",
      "weighted avg       0.53      0.55      0.54      4017\n",
      "\n"
     ]
    },
    {
     "name": "stderr",
     "output_type": "stream",
     "text": [
      "\r",
      " 78%|███████▊  | 21/27 [01:57<00:41,  6.93s/it]"
     ]
    },
    {
     "name": "stdout",
     "output_type": "stream",
     "text": [
      "Index(['month', 'day', 'year', 'hour', 'minute', 'holiday', 'dayOfTheWeek',\n",
      "       'Pandemic', 'temperature', 'humidity', 'pressure',\n",
      "       'heavy intensity rain', 'light rain', 'broken clouds', 'moderate rain',\n",
      "       'mist', 'overcast clouds', 'clear sky', 'scattered clouds',\n",
      "       'thunderstorm with rain', 'few clouds'],\n",
      "      dtype='object')\n",
      "For 21 features: \n",
      " Accuracy: 0.5472575417601596 \n",
      " Precision: 0.4662309317529082 \n",
      " Recall: 0.47159222585257327 \n",
      " F1 score: 0.44470875848342734\n",
      "              precision    recall  f1-score   support\n",
      "\n",
      "         1.0       0.67      0.75      0.71      2143\n",
      "         2.0       0.31      0.08      0.13      1099\n",
      "         3.0       0.33      0.58      0.42       769\n",
      "\n",
      "    accuracy                           0.53      4011\n",
      "   macro avg       0.44      0.47      0.42      4011\n",
      "weighted avg       0.51      0.53      0.49      4011\n",
      "\n"
     ]
    },
    {
     "name": "stderr",
     "output_type": "stream",
     "text": [
      "\r",
      " 81%|████████▏ | 22/27 [02:03<00:34,  6.86s/it]"
     ]
    },
    {
     "name": "stdout",
     "output_type": "stream",
     "text": [
      "Index(['month', 'day', 'year', 'hour', 'minute', 'holiday', 'dayOfTheWeek',\n",
      "       'Pandemic', 'temperature', 'humidity', 'pressure',\n",
      "       'heavy intensity rain', 'light rain', 'broken clouds', 'moderate rain',\n",
      "       'mist', 'overcast clouds', 'clear sky', 'scattered clouds',\n",
      "       'thunderstorm with rain', 'few clouds', 'thunderstorm'],\n",
      "      dtype='object')\n",
      "For 22 features: \n",
      " Accuracy: 0.5520224719101123 \n",
      " Precision: 0.46128863283096444 \n",
      " Recall: 0.47466813023520754 \n",
      " F1 score: 0.44845532726651793\n",
      "              precision    recall  f1-score   support\n",
      "\n",
      "         1.0       0.68      0.76      0.72      2150\n",
      "         2.0       0.00      0.00      0.00      1116\n",
      "         3.0       0.30      0.65      0.41       739\n",
      "\n",
      "    accuracy                           0.53      4005\n",
      "   macro avg       0.33      0.47      0.38      4005\n",
      "weighted avg       0.42      0.53      0.46      4005\n",
      "\n"
     ]
    },
    {
     "name": "stderr",
     "output_type": "stream",
     "text": [
      "\r",
      " 85%|████████▌ | 23/27 [02:12<00:29,  7.41s/it]"
     ]
    },
    {
     "name": "stdout",
     "output_type": "stream",
     "text": [
      "Index(['month', 'day', 'year', 'hour', 'minute', 'holiday', 'dayOfTheWeek',\n",
      "       'Pandemic', 'temperature', 'humidity', 'pressure',\n",
      "       'heavy intensity rain', 'light rain', 'broken clouds', 'moderate rain',\n",
      "       'mist', 'overcast clouds', 'clear sky', 'scattered clouds',\n",
      "       'thunderstorm with rain', 'few clouds', 'thunderstorm', 'shower rain'],\n",
      "      dtype='object')\n",
      "For 23 features: \n",
      " Accuracy: 0.5486621655413854 \n",
      " Precision: 0.466428859232637 \n",
      " Recall: 0.4698963389340397 \n",
      " F1 score: 0.45383833639775967\n",
      "              precision    recall  f1-score   support\n",
      "\n",
      "         1.0       0.68      0.75      0.71      2151\n",
      "         2.0       0.43      0.23      0.29      1082\n",
      "         3.0       0.34      0.49      0.40       766\n",
      "\n",
      "    accuracy                           0.56      3999\n",
      "   macro avg       0.48      0.49      0.47      3999\n",
      "weighted avg       0.55      0.56      0.54      3999\n",
      "\n"
     ]
    },
    {
     "name": "stderr",
     "output_type": "stream",
     "text": [
      "\r",
      " 89%|████████▉ | 24/27 [02:21<00:23,  7.74s/it]"
     ]
    },
    {
     "name": "stdout",
     "output_type": "stream",
     "text": [
      "Index(['month', 'day', 'year', 'hour', 'minute', 'holiday', 'dayOfTheWeek',\n",
      "       'Pandemic', 'temperature', 'humidity', 'pressure',\n",
      "       'heavy intensity rain', 'light rain', 'broken clouds', 'moderate rain',\n",
      "       'mist', 'overcast clouds', 'clear sky', 'scattered clouds',\n",
      "       'thunderstorm with rain', 'few clouds', 'thunderstorm', 'shower rain',\n",
      "       'very heavy rain'],\n",
      "      dtype='object')\n",
      "For 24 features: \n",
      " Accuracy: 0.5528049085900326 \n",
      " Precision: 0.4736482418061114 \n",
      " Recall: 0.47578403218806103 \n",
      " F1 score: 0.452190601731704\n",
      "              precision    recall  f1-score   support\n",
      "\n",
      "         1.0       0.68      0.75      0.71      2158\n",
      "         2.0       0.35      0.19      0.25      1078\n",
      "         3.0       0.34      0.46      0.39       757\n",
      "\n",
      "    accuracy                           0.54      3993\n",
      "   macro avg       0.46      0.47      0.45      3993\n",
      "weighted avg       0.53      0.54      0.53      3993\n",
      "\n"
     ]
    },
    {
     "name": "stderr",
     "output_type": "stream",
     "text": [
      "\r",
      " 93%|█████████▎| 25/27 [02:30<00:16,  8.31s/it]"
     ]
    },
    {
     "name": "stdout",
     "output_type": "stream",
     "text": [
      "Index(['month', 'day', 'year', 'hour', 'minute', 'holiday', 'dayOfTheWeek',\n",
      "       'Pandemic', 'temperature', 'humidity', 'pressure',\n",
      "       'heavy intensity rain', 'light rain', 'broken clouds', 'moderate rain',\n",
      "       'mist', 'overcast clouds', 'clear sky', 'scattered clouds',\n",
      "       'thunderstorm with rain', 'few clouds', 'thunderstorm', 'shower rain',\n",
      "       'very heavy rain', 'fog'],\n",
      "      dtype='object')\n",
      "For 25 features: \n",
      " Accuracy: 0.5522071733132681 \n",
      " Precision: 0.4725089448745109 \n",
      " Recall: 0.46995245778445754 \n",
      " F1 score: 0.4526283508247028\n",
      "              precision    recall  f1-score   support\n",
      "\n",
      "         1.0       0.69      0.75      0.72      2172\n",
      "         2.0       0.40      0.43      0.42      1088\n",
      "         3.0       0.34      0.22      0.27       727\n",
      "\n",
      "    accuracy                           0.56      3987\n",
      "   macro avg       0.48      0.47      0.47      3987\n",
      "weighted avg       0.55      0.56      0.55      3987\n",
      "\n"
     ]
    },
    {
     "name": "stderr",
     "output_type": "stream",
     "text": [
      "\r",
      " 96%|█████████▋| 26/27 [02:41<00:08,  8.89s/it]"
     ]
    },
    {
     "name": "stdout",
     "output_type": "stream",
     "text": [
      "Index(['month', 'day', 'year', 'hour', 'minute', 'holiday', 'dayOfTheWeek',\n",
      "       'Pandemic', 'temperature', 'humidity', 'pressure',\n",
      "       'heavy intensity rain', 'light rain', 'broken clouds', 'moderate rain',\n",
      "       'mist', 'overcast clouds', 'clear sky', 'scattered clouds',\n",
      "       'thunderstorm with rain', 'few clouds', 'thunderstorm', 'shower rain',\n",
      "       'very heavy rain', 'fog', 'haze'],\n",
      "      dtype='object')\n",
      "For 26 features: \n",
      " Accuracy: 0.5536799799045465 \n",
      " Precision: 0.46650902723822013 \n",
      " Recall: 0.4749956820340587 \n",
      " F1 score: 0.4531307271539038\n",
      "              precision    recall  f1-score   support\n",
      "\n",
      "         1.0       0.70      0.77      0.73      2178\n",
      "         2.0       0.30      0.08      0.13      1097\n",
      "         3.0       0.33      0.62      0.43       706\n",
      "\n",
      "    accuracy                           0.55      3981\n",
      "   macro avg       0.44      0.49      0.43      3981\n",
      "weighted avg       0.52      0.55      0.51      3981\n",
      "\n"
     ]
    },
    {
     "name": "stderr",
     "output_type": "stream",
     "text": [
      "100%|██████████| 27/27 [02:51<00:00,  6.36s/it]\n",
      "  0%|          | 0/27 [00:00<?, ?it/s]"
     ]
    },
    {
     "name": "stdout",
     "output_type": "stream",
     "text": [
      "Index(['month', 'day', 'year', 'hour', 'minute', 'holiday', 'dayOfTheWeek',\n",
      "       'Pandemic', 'temperature', 'humidity', 'pressure',\n",
      "       'heavy intensity rain', 'light rain', 'broken clouds', 'moderate rain',\n",
      "       'mist', 'overcast clouds', 'clear sky', 'scattered clouds',\n",
      "       'thunderstorm with rain', 'few clouds', 'thunderstorm', 'shower rain',\n",
      "       'very heavy rain', 'fog', 'haze', 'thunderstorm with light rain'],\n",
      "      dtype='object')\n",
      "For 27 features: \n",
      " Accuracy: 0.554251572327044 \n",
      " Precision: 0.4732651310321421 \n",
      " Recall: 0.47120777368786065 \n",
      " F1 score: 0.45739263858674245\n",
      "              precision    recall  f1-score   support\n",
      "\n",
      "         1.0       0.70      0.76      0.73      2158\n",
      "         2.0       0.41      0.46      0.43      1051\n",
      "         3.0       0.38      0.23      0.29       766\n",
      "\n",
      "    accuracy                           0.58      3975\n",
      "   macro avg       0.50      0.48      0.48      3975\n",
      "weighted avg       0.56      0.58      0.56      3975\n",
      "\n",
      "\n",
      " \n",
      "\n",
      "------------------------- Analyzing method mutualInformation_classification2 -------------------------\n",
      "The variable order is: \n",
      " ['day', 'temperature', 'month', 'humidity', 'hour', 'pressure', 'dayOfTheWeek', 'year', 'holiday', 'shower rain', 'light rain', 'thunderstorm', 'fog', 'broken clouds', 'Pandemic', 'thunderstorm with rain', 'light intensity drizzle', 'thunderstorm with light rain', 'heavy intensity rain', 'mist', 'scattered clouds', 'very heavy rain', 'overcast clouds', 'moderate rain', 'minute', 'haze', 'few clouds', 'clear sky']\n"
     ]
    },
    {
     "name": "stderr",
     "output_type": "stream",
     "text": [
      "\r",
      "  4%|▎         | 1/27 [00:03<01:37,  3.75s/it]"
     ]
    },
    {
     "name": "stdout",
     "output_type": "stream",
     "text": [
      "Index(['day'], dtype='object')\n",
      "For 1 features: \n",
      " Accuracy: 0.3867094986142605 \n",
      " Precision: 0.2500000278376514 \n",
      " Recall: 0.3387063186061835 \n",
      " F1 score: 0.25039357956851926\n",
      "              precision    recall  f1-score   support\n",
      "\n",
      "         1.0       0.48      0.52      0.50      2129\n",
      "         2.0       0.26      0.37      0.30      1127\n",
      "         3.0       0.00      0.00      0.00       713\n",
      "\n",
      "    accuracy                           0.39      3969\n",
      "   macro avg       0.24      0.30      0.27      3969\n",
      "weighted avg       0.33      0.39      0.35      3969\n",
      "\n"
     ]
    },
    {
     "name": "stderr",
     "output_type": "stream",
     "text": [
      "\r",
      "  7%|▋         | 2/27 [00:07<01:34,  3.78s/it]"
     ]
    },
    {
     "name": "stdout",
     "output_type": "stream",
     "text": [
      "Index(['day', 'temperature'], dtype='object')\n",
      "For 2 features: \n",
      " Accuracy: 0.44736310875599294 \n",
      " Precision: 0.3075983462570373 \n",
      " Recall: 0.3640686064663252 \n",
      " F1 score: 0.3098086783663949\n",
      "              precision    recall  f1-score   support\n",
      "\n",
      "         1.0       0.57      0.70      0.63      2124\n",
      "         2.0       0.00      0.00      0.00      1067\n",
      "         3.0       0.22      0.39      0.29       772\n",
      "\n",
      "    accuracy                           0.45      3963\n",
      "   macro avg       0.27      0.36      0.31      3963\n",
      "weighted avg       0.35      0.45      0.39      3963\n",
      "\n"
     ]
    },
    {
     "name": "stderr",
     "output_type": "stream",
     "text": [
      "\r",
      " 11%|█         | 3/27 [00:11<01:30,  3.78s/it]"
     ]
    },
    {
     "name": "stdout",
     "output_type": "stream",
     "text": [
      "Index(['day', 'temperature', 'month'], dtype='object')\n",
      "For 3 features: \n",
      " Accuracy: 0.4167551175132676 \n",
      " Precision: 0.3337121449408025 \n",
      " Recall: 0.3711170509053626 \n",
      " F1 score: 0.3066092413387733\n",
      "              precision    recall  f1-score   support\n",
      "\n",
      "         1.0       0.68      0.26      0.37      2134\n",
      "         2.0       0.31      0.15      0.20      1061\n",
      "         3.0       0.22      0.77      0.34       762\n",
      "\n",
      "    accuracy                           0.32      3957\n",
      "   macro avg       0.40      0.39      0.30      3957\n",
      "weighted avg       0.49      0.32      0.32      3957\n",
      "\n"
     ]
    },
    {
     "name": "stderr",
     "output_type": "stream",
     "text": [
      "\r",
      " 15%|█▍        | 4/27 [00:14<01:25,  3.73s/it]"
     ]
    },
    {
     "name": "stdout",
     "output_type": "stream",
     "text": [
      "Index(['day', 'temperature', 'month', 'humidity'], dtype='object')\n",
      "For 4 features: \n",
      " Accuracy: 0.4916729941786889 \n",
      " Precision: 0.3718646410734534 \n",
      " Recall: 0.38131026464071766 \n",
      " F1 score: 0.35347367288027903\n",
      "              precision    recall  f1-score   support\n",
      "\n",
      "         1.0       0.59      0.80      0.68      2170\n",
      "         2.0       0.25      0.04      0.07      1059\n",
      "         3.0       0.26      0.30      0.28       722\n",
      "\n",
      "    accuracy                           0.50      3951\n",
      "   macro avg       0.37      0.38      0.34      3951\n",
      "weighted avg       0.44      0.50      0.44      3951\n",
      "\n"
     ]
    },
    {
     "name": "stderr",
     "output_type": "stream",
     "text": [
      "\r",
      " 19%|█▊        | 5/27 [00:19<01:24,  3.83s/it]"
     ]
    },
    {
     "name": "stdout",
     "output_type": "stream",
     "text": [
      "Index(['day', 'temperature', 'month', 'humidity', 'hour'], dtype='object')\n",
      "For 5 features: \n",
      " Accuracy: 0.4807097591888466 \n",
      " Precision: 0.33936160827805206 \n",
      " Recall: 0.4153942055669386 \n",
      " F1 score: 0.3456626121713085\n",
      "              precision    recall  f1-score   support\n",
      "\n",
      "         1.0       0.61      0.69      0.65      2112\n",
      "         2.0       0.00      0.00      0.00      1106\n",
      "         3.0       0.25      0.55      0.35       727\n",
      "\n",
      "    accuracy                           0.47      3945\n",
      "   macro avg       0.29      0.41      0.33      3945\n",
      "weighted avg       0.37      0.47      0.41      3945\n",
      "\n"
     ]
    },
    {
     "name": "stderr",
     "output_type": "stream",
     "text": [
      "\r",
      " 22%|██▏       | 6/27 [00:22<01:21,  3.89s/it]"
     ]
    },
    {
     "name": "stdout",
     "output_type": "stream",
     "text": [
      "Index(['day', 'temperature', 'month', 'humidity', 'hour', 'pressure'], dtype='object')\n",
      "For 6 features: \n",
      " Accuracy: 0.49895912668189896 \n",
      " Precision: 0.39400782035857995 \n",
      " Recall: 0.40683991728172664 \n",
      " F1 score: 0.3845844009490773\n",
      "              precision    recall  f1-score   support\n",
      "\n",
      "         1.0       0.62      0.70      0.66      2106\n",
      "         2.0       0.45      0.06      0.11      1091\n",
      "         3.0       0.27      0.53      0.36       742\n",
      "\n",
      "    accuracy                           0.49      3939\n",
      "   macro avg       0.45      0.43      0.38      3939\n",
      "weighted avg       0.51      0.49      0.45      3939\n",
      "\n"
     ]
    },
    {
     "name": "stderr",
     "output_type": "stream",
     "text": [
      "\r",
      " 26%|██▌       | 7/27 [00:26<01:18,  3.92s/it]"
     ]
    },
    {
     "name": "stdout",
     "output_type": "stream",
     "text": [
      "Index(['day', 'temperature', 'month', 'humidity', 'hour', 'pressure',\n",
      "       'dayOfTheWeek'],\n",
      "      dtype='object')\n",
      "For 7 features: \n",
      " Accuracy: 0.4957030256801424 \n",
      " Precision: 0.4104338561082506 \n",
      " Recall: 0.407229378607273 \n",
      " F1 score: 0.3960904532022015\n",
      "              precision    recall  f1-score   support\n",
      "\n",
      "         1.0       0.64      0.68      0.66      2169\n",
      "         2.0       0.30      0.41      0.35      1024\n",
      "         3.0       0.24      0.08      0.12       740\n",
      "\n",
      "    accuracy                           0.50      3933\n",
      "   macro avg       0.40      0.39      0.38      3933\n",
      "weighted avg       0.48      0.50      0.48      3933\n",
      "\n"
     ]
    },
    {
     "name": "stderr",
     "output_type": "stream",
     "text": [
      "\r",
      " 30%|██▉       | 8/27 [00:31<01:15,  3.98s/it]"
     ]
    },
    {
     "name": "stdout",
     "output_type": "stream",
     "text": [
      "Index(['day', 'temperature', 'month', 'humidity', 'hour', 'pressure',\n",
      "       'dayOfTheWeek', 'year'],\n",
      "      dtype='object')\n",
      "For 8 features: \n",
      " Accuracy: 0.5547746371275784 \n",
      " Precision: 0.4474881886915083 \n",
      " Recall: 0.45108209005024985 \n",
      " F1 score: 0.42602882748178733\n",
      "              precision    recall  f1-score   support\n",
      "\n",
      "         1.0       0.67      0.77      0.72      2153\n",
      "         2.0       0.39      0.50      0.44      1071\n",
      "         3.0       0.14      0.02      0.03       703\n",
      "\n",
      "    accuracy                           0.56      3927\n",
      "   macro avg       0.40      0.43      0.40      3927\n",
      "weighted avg       0.50      0.56      0.52      3927\n",
      "\n"
     ]
    },
    {
     "name": "stderr",
     "output_type": "stream",
     "text": [
      "\r",
      " 33%|███▎      | 9/27 [00:35<01:16,  4.24s/it]"
     ]
    },
    {
     "name": "stdout",
     "output_type": "stream",
     "text": [
      "Index(['day', 'temperature', 'month', 'humidity', 'hour', 'pressure',\n",
      "       'dayOfTheWeek', 'year', 'holiday'],\n",
      "      dtype='object')\n",
      "For 9 features: \n",
      " Accuracy: 0.5612853863810252 \n",
      " Precision: 0.4781987858902462 \n",
      " Recall: 0.47706209082873113 \n",
      " F1 score: 0.4618037651677903\n",
      "              precision    recall  f1-score   support\n",
      "\n",
      "         1.0       0.69      0.77      0.73      2148\n",
      "         2.0       0.38      0.20      0.26      1028\n",
      "         3.0       0.37      0.46      0.41       745\n",
      "\n",
      "    accuracy                           0.57      3921\n",
      "   macro avg       0.48      0.48      0.47      3921\n",
      "weighted avg       0.54      0.57      0.54      3921\n",
      "\n"
     ]
    },
    {
     "name": "stderr",
     "output_type": "stream",
     "text": [
      "\r",
      " 37%|███▋      | 10/27 [00:40<01:13,  4.33s/it]"
     ]
    },
    {
     "name": "stdout",
     "output_type": "stream",
     "text": [
      "Index(['day', 'temperature', 'month', 'humidity', 'hour', 'pressure',\n",
      "       'dayOfTheWeek', 'year', 'holiday', 'shower rain'],\n",
      "      dtype='object')\n",
      "For 10 features: \n",
      " Accuracy: 0.57 \n",
      " Precision: 0.49554952912189915 \n",
      " Recall: 0.4831960398184821 \n",
      " F1 score: 0.4728125128716708\n",
      "              precision    recall  f1-score   support\n",
      "\n",
      "         1.0       0.69      0.76      0.72      2120\n",
      "         2.0       0.45      0.40      0.42      1058\n",
      "         3.0       0.34      0.28      0.31       737\n",
      "\n",
      "    accuracy                           0.57      3915\n",
      "   macro avg       0.49      0.48      0.49      3915\n",
      "weighted avg       0.56      0.57      0.56      3915\n",
      "\n"
     ]
    },
    {
     "name": "stderr",
     "output_type": "stream",
     "text": [
      "\r",
      " 41%|████      | 11/27 [00:45<01:10,  4.43s/it]"
     ]
    },
    {
     "name": "stdout",
     "output_type": "stream",
     "text": [
      "Index(['day', 'temperature', 'month', 'humidity', 'hour', 'pressure',\n",
      "       'dayOfTheWeek', 'year', 'holiday', 'shower rain', 'light rain'],\n",
      "      dtype='object')\n",
      "For 11 features: \n",
      " Accuracy: 0.5707214121258634 \n",
      " Precision: 0.49513153055565595 \n",
      " Recall: 0.4828874959675848 \n",
      " F1 score: 0.4792668299064459\n",
      "              precision    recall  f1-score   support\n",
      "\n",
      "         1.0       0.70      0.76      0.73      2138\n",
      "         2.0       0.42      0.46      0.44      1058\n",
      "         3.0       0.40      0.23      0.29       713\n",
      "\n",
      "    accuracy                           0.58      3909\n",
      "   macro avg       0.51      0.48      0.49      3909\n",
      "weighted avg       0.57      0.58      0.57      3909\n",
      "\n"
     ]
    },
    {
     "name": "stderr",
     "output_type": "stream",
     "text": [
      "\r",
      " 44%|████▍     | 12/27 [00:49<01:07,  4.49s/it]"
     ]
    },
    {
     "name": "stdout",
     "output_type": "stream",
     "text": [
      "Index(['day', 'temperature', 'month', 'humidity', 'hour', 'pressure',\n",
      "       'dayOfTheWeek', 'year', 'holiday', 'shower rain', 'light rain',\n",
      "       'thunderstorm'],\n",
      "      dtype='object')\n",
      "For 12 features: \n",
      " Accuracy: 0.5665898027158596 \n",
      " Precision: 0.483098454827741 \n",
      " Recall: 0.4748625501034716 \n",
      " F1 score: 0.46833007948562577\n",
      "              precision    recall  f1-score   support\n",
      "\n",
      "         1.0       0.69      0.76      0.72      2147\n",
      "         2.0       0.47      0.30      0.36      1054\n",
      "         3.0       0.30      0.38      0.34       702\n",
      "\n",
      "    accuracy                           0.57      3903\n",
      "   macro avg       0.49      0.48      0.47      3903\n",
      "weighted avg       0.56      0.57      0.56      3903\n",
      "\n"
     ]
    },
    {
     "name": "stderr",
     "output_type": "stream",
     "text": [
      "\r",
      " 48%|████▊     | 13/27 [00:54<01:02,  4.46s/it]"
     ]
    },
    {
     "name": "stdout",
     "output_type": "stream",
     "text": [
      "Index(['day', 'temperature', 'month', 'humidity', 'hour', 'pressure',\n",
      "       'dayOfTheWeek', 'year', 'holiday', 'shower rain', 'light rain',\n",
      "       'thunderstorm', 'fog'],\n",
      "      dtype='object')\n",
      "For 13 features: \n",
      " Accuracy: 0.5646138054914036 \n",
      " Precision: 0.48720567634760553 \n",
      " Recall: 0.48243568029963496 \n",
      " F1 score: 0.464091704505181\n",
      "              precision    recall  f1-score   support\n",
      "\n",
      "         1.0       0.70      0.77      0.73      2147\n",
      "         2.0       0.21      0.01      0.01      1052\n",
      "         3.0       0.32      0.69      0.44       698\n",
      "\n",
      "    accuracy                           0.55      3897\n",
      "   macro avg       0.41      0.49      0.39      3897\n",
      "weighted avg       0.50      0.55      0.48      3897\n",
      "\n"
     ]
    },
    {
     "name": "stderr",
     "output_type": "stream",
     "text": [
      "\r",
      " 52%|█████▏    | 14/27 [00:58<00:57,  4.42s/it]"
     ]
    },
    {
     "name": "stdout",
     "output_type": "stream",
     "text": [
      "Index(['day', 'temperature', 'month', 'humidity', 'hour', 'pressure',\n",
      "       'dayOfTheWeek', 'year', 'holiday', 'shower rain', 'light rain',\n",
      "       'thunderstorm', 'fog', 'broken clouds'],\n",
      "      dtype='object')\n",
      "For 14 features: \n",
      " Accuracy: 0.5633770239013107 \n",
      " Precision: 0.4847592839105091 \n",
      " Recall: 0.48088451661007864 \n",
      " F1 score: 0.46299952154226737\n",
      "              precision    recall  f1-score   support\n",
      "\n",
      "         1.0       0.69      0.76      0.72      2095\n",
      "         2.0       0.43      0.45      0.44      1085\n",
      "         3.0       0.37      0.23      0.28       711\n",
      "\n",
      "    accuracy                           0.58      3891\n",
      "   macro avg       0.50      0.48      0.48      3891\n",
      "weighted avg       0.56      0.58      0.57      3891\n",
      "\n"
     ]
    },
    {
     "name": "stderr",
     "output_type": "stream",
     "text": [
      "\r",
      " 56%|█████▌    | 15/27 [01:03<00:53,  4.47s/it]"
     ]
    },
    {
     "name": "stdout",
     "output_type": "stream",
     "text": [
      "Index(['day', 'temperature', 'month', 'humidity', 'hour', 'pressure',\n",
      "       'dayOfTheWeek', 'year', 'holiday', 'shower rain', 'light rain',\n",
      "       'thunderstorm', 'fog', 'broken clouds', 'Pandemic'],\n",
      "      dtype='object')\n",
      "For 15 features: \n",
      " Accuracy: 0.5603346203346203 \n",
      " Precision: 0.47726907301271676 \n",
      " Recall: 0.47842551630591496 \n",
      " F1 score: 0.4503117720636284\n",
      "              precision    recall  f1-score   support\n",
      "\n",
      "         1.0       0.69      0.75      0.72      2104\n",
      "         2.0       0.48      0.28      0.36      1055\n",
      "         3.0       0.31      0.41      0.35       726\n",
      "\n",
      "    accuracy                           0.56      3885\n",
      "   macro avg       0.49      0.48      0.48      3885\n",
      "weighted avg       0.56      0.56      0.55      3885\n",
      "\n"
     ]
    },
    {
     "name": "stderr",
     "output_type": "stream",
     "text": [
      "\r",
      " 59%|█████▉    | 16/27 [01:07<00:49,  4.54s/it]"
     ]
    },
    {
     "name": "stdout",
     "output_type": "stream",
     "text": [
      "Index(['day', 'temperature', 'month', 'humidity', 'hour', 'pressure',\n",
      "       'dayOfTheWeek', 'year', 'holiday', 'shower rain', 'light rain',\n",
      "       'thunderstorm', 'fog', 'broken clouds', 'Pandemic',\n",
      "       'thunderstorm with rain'],\n",
      "      dtype='object')\n",
      "For 16 features: \n",
      " Accuracy: 0.5649909770559423 \n",
      " Precision: 0.48236911029979623 \n",
      " Recall: 0.47910074468858066 \n",
      " F1 score: 0.46803136643953114\n",
      "              precision    recall  f1-score   support\n",
      "\n",
      "         1.0       0.69      0.79      0.73      2110\n",
      "         2.0       0.45      0.15      0.22      1061\n",
      "         3.0       0.34      0.54      0.42       708\n",
      "\n",
      "    accuracy                           0.57      3879\n",
      "   macro avg       0.49      0.49      0.46      3879\n",
      "weighted avg       0.56      0.57      0.54      3879\n",
      "\n"
     ]
    },
    {
     "name": "stderr",
     "output_type": "stream",
     "text": [
      "\r",
      " 63%|██████▎   | 17/27 [01:12<00:46,  4.68s/it]"
     ]
    },
    {
     "name": "stdout",
     "output_type": "stream",
     "text": [
      "Index(['day', 'temperature', 'month', 'humidity', 'hour', 'pressure',\n",
      "       'dayOfTheWeek', 'year', 'holiday', 'shower rain', 'light rain',\n",
      "       'thunderstorm', 'fog', 'broken clouds', 'Pandemic',\n",
      "       'thunderstorm with rain', 'light intensity drizzle'],\n",
      "      dtype='object')\n",
      "For 17 features: \n",
      " Accuracy: 0.5609346759617867 \n",
      " Precision: 0.4667187346264853 \n",
      " Recall: 0.4812407549750476 \n",
      " F1 score: 0.45038119833919676\n",
      "              precision    recall  f1-score   support\n",
      "\n",
      "         1.0       0.69      0.77      0.73      2080\n",
      "         2.0       0.24      0.02      0.03      1090\n",
      "         3.0       0.32      0.66      0.43       703\n",
      "\n",
      "    accuracy                           0.54      3873\n",
      "   macro avg       0.42      0.48      0.40      3873\n",
      "weighted avg       0.49      0.54      0.48      3873\n",
      "\n"
     ]
    },
    {
     "name": "stderr",
     "output_type": "stream",
     "text": [
      "\r",
      " 67%|██████▋   | 18/27 [01:18<00:45,  5.10s/it]"
     ]
    },
    {
     "name": "stdout",
     "output_type": "stream",
     "text": [
      "Index(['day', 'temperature', 'month', 'humidity', 'hour', 'pressure',\n",
      "       'dayOfTheWeek', 'year', 'holiday', 'shower rain', 'light rain',\n",
      "       'thunderstorm', 'fog', 'broken clouds', 'Pandemic',\n",
      "       'thunderstorm with rain', 'light intensity drizzle',\n",
      "       'thunderstorm with light rain'],\n",
      "      dtype='object')\n",
      "For 18 features: \n",
      " Accuracy: 0.5593354021205068 \n",
      " Precision: 0.47356602164555345 \n",
      " Recall: 0.48227798819630496 \n",
      " F1 score: 0.4529394492708366\n",
      "              precision    recall  f1-score   support\n",
      "\n",
      "         1.0       0.67      0.77      0.72      2053\n",
      "         2.0       0.43      0.26      0.32      1070\n",
      "         3.0       0.35      0.39      0.37       744\n",
      "\n",
      "    accuracy                           0.56      3867\n",
      "   macro avg       0.48      0.48      0.47      3867\n",
      "weighted avg       0.54      0.56      0.54      3867\n",
      "\n"
     ]
    },
    {
     "name": "stderr",
     "output_type": "stream",
     "text": [
      "\r",
      " 70%|███████   | 19/27 [01:25<00:44,  5.53s/it]"
     ]
    },
    {
     "name": "stdout",
     "output_type": "stream",
     "text": [
      "Index(['day', 'temperature', 'month', 'humidity', 'hour', 'pressure',\n",
      "       'dayOfTheWeek', 'year', 'holiday', 'shower rain', 'light rain',\n",
      "       'thunderstorm', 'fog', 'broken clouds', 'Pandemic',\n",
      "       'thunderstorm with rain', 'light intensity drizzle',\n",
      "       'thunderstorm with light rain', 'heavy intensity rain'],\n",
      "      dtype='object')\n",
      "For 19 features: \n",
      " Accuracy: 0.5616161616161616 \n",
      " Precision: 0.4725143841693693 \n",
      " Recall: 0.4757400196346243 \n",
      " F1 score: 0.45433197732241115\n",
      "              precision    recall  f1-score   support\n",
      "\n",
      "         1.0       0.70      0.78      0.74      2178\n",
      "         2.0       0.32      0.11      0.16       993\n",
      "         3.0       0.35      0.56      0.43       690\n",
      "\n",
      "    accuracy                           0.57      3861\n",
      "   macro avg       0.45      0.48      0.44      3861\n",
      "weighted avg       0.54      0.57      0.53      3861\n",
      "\n"
     ]
    },
    {
     "name": "stderr",
     "output_type": "stream",
     "text": [
      "\r",
      " 74%|███████▍  | 20/27 [01:33<00:44,  6.40s/it]"
     ]
    },
    {
     "name": "stdout",
     "output_type": "stream",
     "text": [
      "Index(['day', 'temperature', 'month', 'humidity', 'hour', 'pressure',\n",
      "       'dayOfTheWeek', 'year', 'holiday', 'shower rain', 'light rain',\n",
      "       'thunderstorm', 'fog', 'broken clouds', 'Pandemic',\n",
      "       'thunderstorm with rain', 'light intensity drizzle',\n",
      "       'thunderstorm with light rain', 'heavy intensity rain', 'mist'],\n",
      "      dtype='object')\n",
      "For 20 features: \n",
      " Accuracy: 0.5653696498054475 \n",
      " Precision: 0.48169681149776766 \n",
      " Recall: 0.47878400377370234 \n",
      " F1 score: 0.4672201747979482\n",
      "              precision    recall  f1-score   support\n",
      "\n",
      "         1.0       0.68      0.76      0.72      2078\n",
      "         2.0       0.42      0.41      0.41      1018\n",
      "         3.0       0.33      0.23      0.27       759\n",
      "\n",
      "    accuracy                           0.57      3855\n",
      "   macro avg       0.48      0.47      0.47      3855\n",
      "weighted avg       0.54      0.57      0.55      3855\n",
      "\n"
     ]
    },
    {
     "name": "stderr",
     "output_type": "stream",
     "text": [
      "\r",
      " 78%|███████▊  | 21/27 [01:41<00:40,  6.68s/it]"
     ]
    },
    {
     "name": "stdout",
     "output_type": "stream",
     "text": [
      "Index(['day', 'temperature', 'month', 'humidity', 'hour', 'pressure',\n",
      "       'dayOfTheWeek', 'year', 'holiday', 'shower rain', 'light rain',\n",
      "       'thunderstorm', 'fog', 'broken clouds', 'Pandemic',\n",
      "       'thunderstorm with rain', 'light intensity drizzle',\n",
      "       'thunderstorm with light rain', 'heavy intensity rain', 'mist',\n",
      "       'scattered clouds'],\n",
      "      dtype='object')\n",
      "For 21 features: \n",
      " Accuracy: 0.5635100025980775 \n",
      " Precision: 0.4856119563658138 \n",
      " Recall: 0.48044504560895607 \n",
      " F1 score: 0.45897574957160303\n",
      "              precision    recall  f1-score   support\n",
      "\n",
      "         1.0       0.69      0.79      0.73      2051\n",
      "         2.0       0.38      0.20      0.26      1051\n",
      "         3.0       0.36      0.46      0.40       747\n",
      "\n",
      "    accuracy                           0.56      3849\n",
      "   macro avg       0.48      0.48      0.47      3849\n",
      "weighted avg       0.54      0.56      0.54      3849\n",
      "\n"
     ]
    },
    {
     "name": "stderr",
     "output_type": "stream",
     "text": [
      "\r",
      " 81%|████████▏ | 22/27 [01:49<00:36,  7.20s/it]"
     ]
    },
    {
     "name": "stdout",
     "output_type": "stream",
     "text": [
      "Index(['day', 'temperature', 'month', 'humidity', 'hour', 'pressure',\n",
      "       'dayOfTheWeek', 'year', 'holiday', 'shower rain', 'light rain',\n",
      "       'thunderstorm', 'fog', 'broken clouds', 'Pandemic',\n",
      "       'thunderstorm with rain', 'light intensity drizzle',\n",
      "       'thunderstorm with light rain', 'heavy intensity rain', 'mist',\n",
      "       'scattered clouds', 'very heavy rain'],\n",
      "      dtype='object')\n",
      "For 22 features: \n",
      " Accuracy: 0.5609549830861307 \n",
      " Precision: 0.4752753467625782 \n",
      " Recall: 0.4844938364229638 \n",
      " F1 score: 0.4488920124857635\n",
      "              precision    recall  f1-score   support\n",
      "\n",
      "         1.0       0.69      0.77      0.73      2061\n",
      "         2.0       0.39      0.37      0.38      1002\n",
      "         3.0       0.39      0.28      0.32       780\n",
      "\n",
      "    accuracy                           0.57      3843\n",
      "   macro avg       0.49      0.47      0.48      3843\n",
      "weighted avg       0.55      0.57      0.55      3843\n",
      "\n"
     ]
    },
    {
     "name": "stderr",
     "output_type": "stream",
     "text": [
      "\r",
      " 85%|████████▌ | 23/27 [01:58<00:30,  7.60s/it]"
     ]
    },
    {
     "name": "stdout",
     "output_type": "stream",
     "text": [
      "Index(['day', 'temperature', 'month', 'humidity', 'hour', 'pressure',\n",
      "       'dayOfTheWeek', 'year', 'holiday', 'shower rain', 'light rain',\n",
      "       'thunderstorm', 'fog', 'broken clouds', 'Pandemic',\n",
      "       'thunderstorm with rain', 'light intensity drizzle',\n",
      "       'thunderstorm with light rain', 'heavy intensity rain', 'mist',\n",
      "       'scattered clouds', 'very heavy rain', 'overcast clouds'],\n",
      "      dtype='object')\n",
      "For 23 features: \n",
      " Accuracy: 0.5631352619233776 \n",
      " Precision: 0.46966081640030827 \n",
      " Recall: 0.48134932604641717 \n",
      " F1 score: 0.4514398612366138\n",
      "              precision    recall  f1-score   support\n",
      "\n",
      "         1.0       0.69      0.77      0.73      2069\n",
      "         2.0       0.39      0.16      0.22      1041\n",
      "         3.0       0.32      0.49      0.39       727\n",
      "\n",
      "    accuracy                           0.55      3837\n",
      "   macro avg       0.47      0.47      0.45      3837\n",
      "weighted avg       0.54      0.55      0.53      3837\n",
      "\n"
     ]
    },
    {
     "name": "stderr",
     "output_type": "stream",
     "text": [
      "\r",
      " 89%|████████▉ | 24/27 [02:07<00:24,  8.17s/it]"
     ]
    },
    {
     "name": "stdout",
     "output_type": "stream",
     "text": [
      "Index(['day', 'temperature', 'month', 'humidity', 'hour', 'pressure',\n",
      "       'dayOfTheWeek', 'year', 'holiday', 'shower rain', 'light rain',\n",
      "       'thunderstorm', 'fog', 'broken clouds', 'Pandemic',\n",
      "       'thunderstorm with rain', 'light intensity drizzle',\n",
      "       'thunderstorm with light rain', 'heavy intensity rain', 'mist',\n",
      "       'scattered clouds', 'very heavy rain', 'overcast clouds',\n",
      "       'moderate rain'],\n",
      "      dtype='object')\n",
      "For 24 features: \n",
      " Accuracy: 0.5617593317671626 \n",
      " Precision: 0.4772166165806262 \n",
      " Recall: 0.4843725537669426 \n",
      " F1 score: 0.4464411829660736\n",
      "              precision    recall  f1-score   support\n",
      "\n",
      "         1.0       0.70      0.78      0.74      2123\n",
      "         2.0       0.42      0.28      0.34      1020\n",
      "         3.0       0.30      0.34      0.32       688\n",
      "\n",
      "    accuracy                           0.57      3831\n",
      "   macro avg       0.47      0.47      0.46      3831\n",
      "weighted avg       0.56      0.57      0.56      3831\n",
      "\n"
     ]
    },
    {
     "name": "stderr",
     "output_type": "stream",
     "text": [
      "\r",
      " 93%|█████████▎| 25/27 [02:15<00:16,  8.20s/it]"
     ]
    },
    {
     "name": "stdout",
     "output_type": "stream",
     "text": [
      "Index(['day', 'temperature', 'month', 'humidity', 'hour', 'pressure',\n",
      "       'dayOfTheWeek', 'year', 'holiday', 'shower rain', 'light rain',\n",
      "       'thunderstorm', 'fog', 'broken clouds', 'Pandemic',\n",
      "       'thunderstorm with rain', 'light intensity drizzle',\n",
      "       'thunderstorm with light rain', 'heavy intensity rain', 'mist',\n",
      "       'scattered clouds', 'very heavy rain', 'overcast clouds',\n",
      "       'moderate rain', 'minute'],\n",
      "      dtype='object')\n",
      "For 25 features: \n",
      " Accuracy: 0.5654509803921569 \n",
      " Precision: 0.483304752556534 \n",
      " Recall: 0.48444123441429043 \n",
      " F1 score: 0.45922054000547674\n",
      "              precision    recall  f1-score   support\n",
      "\n",
      "         1.0       0.70      0.77      0.73      2070\n",
      "         2.0       0.41      0.37      0.39      1021\n",
      "         3.0       0.34      0.29      0.31       734\n",
      "\n",
      "    accuracy                           0.57      3825\n",
      "   macro avg       0.48      0.48      0.48      3825\n",
      "weighted avg       0.55      0.57      0.56      3825\n",
      "\n"
     ]
    },
    {
     "name": "stderr",
     "output_type": "stream",
     "text": [
      "\r",
      " 96%|█████████▋| 26/27 [02:24<00:08,  8.32s/it]"
     ]
    },
    {
     "name": "stdout",
     "output_type": "stream",
     "text": [
      "Index(['day', 'temperature', 'month', 'humidity', 'hour', 'pressure',\n",
      "       'dayOfTheWeek', 'year', 'holiday', 'shower rain', 'light rain',\n",
      "       'thunderstorm', 'fog', 'broken clouds', 'Pandemic',\n",
      "       'thunderstorm with rain', 'light intensity drizzle',\n",
      "       'thunderstorm with light rain', 'heavy intensity rain', 'mist',\n",
      "       'scattered clouds', 'very heavy rain', 'overcast clouds',\n",
      "       'moderate rain', 'minute', 'haze'],\n",
      "      dtype='object')\n",
      "For 26 features: \n",
      " Accuracy: 0.5615868028279655 \n",
      " Precision: 0.48035855205323064 \n",
      " Recall: 0.483707610559621 \n",
      " F1 score: 0.4462094371132728\n",
      "              precision    recall  f1-score   support\n",
      "\n",
      "         1.0       0.70      0.77      0.73      2046\n",
      "         2.0       0.41      0.21      0.28      1048\n",
      "         3.0       0.38      0.54      0.44       725\n",
      "\n",
      "    accuracy                           0.57      3819\n",
      "   macro avg       0.50      0.50      0.48      3819\n",
      "weighted avg       0.56      0.57      0.55      3819\n",
      "\n"
     ]
    },
    {
     "name": "stderr",
     "output_type": "stream",
     "text": [
      "100%|██████████| 27/27 [02:33<00:00,  5.67s/it]\n",
      "  0%|          | 0/27 [00:00<?, ?it/s]"
     ]
    },
    {
     "name": "stdout",
     "output_type": "stream",
     "text": [
      "Index(['day', 'temperature', 'month', 'humidity', 'hour', 'pressure',\n",
      "       'dayOfTheWeek', 'year', 'holiday', 'shower rain', 'light rain',\n",
      "       'thunderstorm', 'fog', 'broken clouds', 'Pandemic',\n",
      "       'thunderstorm with rain', 'light intensity drizzle',\n",
      "       'thunderstorm with light rain', 'heavy intensity rain', 'mist',\n",
      "       'scattered clouds', 'very heavy rain', 'overcast clouds',\n",
      "       'moderate rain', 'minute', 'haze', 'few clouds'],\n",
      "      dtype='object')\n",
      "For 27 features: \n",
      " Accuracy: 0.5616706005769735 \n",
      " Precision: 0.46494144159120887 \n",
      " Recall: 0.47943557517199004 \n",
      " F1 score: 0.4500220080348617\n",
      "              precision    recall  f1-score   support\n",
      "\n",
      "         1.0       0.69      0.77      0.73      2074\n",
      "         2.0       0.15      0.01      0.02      1037\n",
      "         3.0       0.32      0.66      0.43       702\n",
      "\n",
      "    accuracy                           0.54      3813\n",
      "   macro avg       0.39      0.48      0.39      3813\n",
      "weighted avg       0.48      0.54      0.48      3813\n",
      "\n",
      "\n",
      " \n",
      "\n",
      "------------------------- Analyzing method varianceThreshold -------------------------\n",
      "The variable order is: \n",
      " ['month', 'day', 'year', 'hour', 'minute', 'holiday', 'dayOfTheWeek', 'temperature', 'humidity', 'pressure', 'heavy intensity rain', 'light rain', 'broken clouds', 'scattered clouds', 'thunderstorm with rain', 'few clouds', 'thunderstorm', 'shower rain']\n"
     ]
    },
    {
     "name": "stderr",
     "output_type": "stream",
     "text": [
      "\r",
      "  4%|▎         | 1/27 [00:03<01:22,  3.18s/it]"
     ]
    },
    {
     "name": "stdout",
     "output_type": "stream",
     "text": [
      "Index(['month'], dtype='object')\n",
      "For 1 features: \n",
      " Accuracy: 0.33337273443656423 \n",
      " Precision: 0.23141112189752777 \n",
      " Recall: 0.33583864525824153 \n",
      " F1 score: 0.24809667024306517\n",
      "              precision    recall  f1-score   support\n",
      "\n",
      "         1.0       0.56      0.48      0.52      2044\n",
      "         2.0       0.29      0.33      0.31       997\n",
      "         3.0       0.17      0.20      0.19       766\n",
      "\n",
      "    accuracy                           0.39      3807\n",
      "   macro avg       0.34      0.34      0.34      3807\n",
      "weighted avg       0.41      0.39      0.40      3807\n",
      "\n"
     ]
    },
    {
     "name": "stderr",
     "output_type": "stream",
     "text": [
      "\r",
      "  7%|▋         | 2/27 [00:06<01:19,  3.18s/it]"
     ]
    },
    {
     "name": "stdout",
     "output_type": "stream",
     "text": [
      "Index(['month', 'day'], dtype='object')\n",
      "For 2 features: \n",
      " Accuracy: 0.36896869244935543 \n",
      " Precision: 0.287413414141193 \n",
      " Recall: 0.33985064335576287 \n",
      " F1 score: 0.2744427790172618\n",
      "              precision    recall  f1-score   support\n",
      "\n",
      "         1.0       0.00      0.00      0.00      2102\n",
      "         2.0       0.15      0.08      0.11      1008\n",
      "         3.0       0.20      0.94      0.33       691\n",
      "\n",
      "    accuracy                           0.19      3801\n",
      "   macro avg       0.12      0.34      0.15      3801\n",
      "weighted avg       0.08      0.19      0.09      3801\n",
      "\n"
     ]
    },
    {
     "name": "stderr",
     "output_type": "stream",
     "text": [
      "\r",
      " 11%|█         | 3/27 [00:09<01:17,  3.24s/it]"
     ]
    },
    {
     "name": "stdout",
     "output_type": "stream",
     "text": [
      "Index(['month', 'day', 'year'], dtype='object')\n",
      "For 3 features: \n",
      " Accuracy: 0.5296706192358366 \n",
      " Precision: 0.3770705146912371 \n",
      " Recall: 0.4057412410095417 \n",
      " F1 score: 0.3721182194381058\n",
      "              precision    recall  f1-score   support\n",
      "\n",
      "         1.0       0.67      0.67      0.67      2089\n",
      "         2.0       0.32      0.34      0.33       971\n",
      "         3.0       0.27      0.25      0.26       735\n",
      "\n",
      "    accuracy                           0.50      3795\n",
      "   macro avg       0.42      0.42      0.42      3795\n",
      "weighted avg       0.50      0.50      0.50      3795\n",
      "\n"
     ]
    },
    {
     "name": "stderr",
     "output_type": "stream",
     "text": [
      "\r",
      " 15%|█▍        | 4/27 [00:13<01:17,  3.36s/it]"
     ]
    },
    {
     "name": "stdout",
     "output_type": "stream",
     "text": [
      "Index(['month', 'day', 'year', 'hour'], dtype='object')\n",
      "For 4 features: \n",
      " Accuracy: 0.5301662707838479 \n",
      " Precision: 0.4174347545321399 \n",
      " Recall: 0.42481710796126715 \n",
      " F1 score: 0.3902035687666392\n",
      "              precision    recall  f1-score   support\n",
      "\n",
      "         1.0       0.64      0.75      0.69      2091\n",
      "         2.0       0.36      0.27      0.31       986\n",
      "         3.0       0.24      0.21      0.22       712\n",
      "\n",
      "    accuracy                           0.52      3789\n",
      "   macro avg       0.42      0.41      0.41      3789\n",
      "weighted avg       0.50      0.52      0.51      3789\n",
      "\n"
     ]
    },
    {
     "name": "stderr",
     "output_type": "stream",
     "text": [
      "\r",
      " 19%|█▊        | 5/27 [00:16<01:14,  3.40s/it]"
     ]
    },
    {
     "name": "stdout",
     "output_type": "stream",
     "text": [
      "Index(['month', 'day', 'year', 'hour', 'minute'], dtype='object')\n",
      "For 5 features: \n",
      " Accuracy: 0.5287073750991277 \n",
      " Precision: 0.4043057644274274 \n",
      " Recall: 0.43017800669843853 \n",
      " F1 score: 0.39149440099823296\n",
      "              precision    recall  f1-score   support\n",
      "\n",
      "         1.0       0.64      0.77      0.70      2046\n",
      "         2.0       0.00      0.00      0.00       983\n",
      "         3.0       0.31      0.54      0.39       754\n",
      "\n",
      "    accuracy                           0.52      3783\n",
      "   macro avg       0.31      0.44      0.36      3783\n",
      "weighted avg       0.41      0.52      0.45      3783\n",
      "\n"
     ]
    },
    {
     "name": "stderr",
     "output_type": "stream",
     "text": [
      "\r",
      " 22%|██▏       | 6/27 [00:20<01:16,  3.63s/it]"
     ]
    },
    {
     "name": "stdout",
     "output_type": "stream",
     "text": [
      "Index(['month', 'day', 'year', 'hour', 'minute', 'holiday'], dtype='object')\n",
      "For 6 features: \n",
      " Accuracy: 0.5362721736828171 \n",
      " Precision: 0.4286434595112062 \n",
      " Recall: 0.4502837259122613 \n",
      " F1 score: 0.4225933593786618\n",
      "              precision    recall  f1-score   support\n",
      "\n",
      "         1.0       0.65      0.73      0.69      2049\n",
      "         2.0       0.33      0.26      0.29      1009\n",
      "         3.0       0.34      0.32      0.33       719\n",
      "\n",
      "    accuracy                           0.52      3777\n",
      "   macro avg       0.44      0.43      0.43      3777\n",
      "weighted avg       0.50      0.52      0.51      3777\n",
      "\n"
     ]
    },
    {
     "name": "stderr",
     "output_type": "stream",
     "text": [
      "\r",
      " 26%|██▌       | 7/27 [00:25<01:19,  3.99s/it]"
     ]
    },
    {
     "name": "stdout",
     "output_type": "stream",
     "text": [
      "Index(['month', 'day', 'year', 'hour', 'minute', 'holiday', 'dayOfTheWeek'], dtype='object')\n",
      "For 7 features: \n",
      " Accuracy: 0.538703261734288 \n",
      " Precision: 0.4246088745445404 \n",
      " Recall: 0.4547823199035624 \n",
      " F1 score: 0.41929104810745016\n",
      "              precision    recall  f1-score   support\n",
      "\n",
      "         1.0       0.65      0.74      0.69      2067\n",
      "         2.0       0.20      0.04      0.06      1004\n",
      "         3.0       0.31      0.55      0.40       700\n",
      "\n",
      "    accuracy                           0.52      3771\n",
      "   macro avg       0.39      0.44      0.38      3771\n",
      "weighted avg       0.47      0.52      0.47      3771\n",
      "\n"
     ]
    },
    {
     "name": "stderr",
     "output_type": "stream",
     "text": [
      "\r",
      " 30%|██▉       | 8/27 [00:29<01:16,  4.04s/it]"
     ]
    },
    {
     "name": "stdout",
     "output_type": "stream",
     "text": [
      "Index(['month', 'day', 'year', 'hour', 'minute', 'holiday', 'dayOfTheWeek',\n",
      "       'temperature'],\n",
      "      dtype='object')\n",
      "For 8 features: \n",
      " Accuracy: 0.5598406374501992 \n",
      " Precision: 0.4477687975367594 \n",
      " Recall: 0.47116186299012996 \n",
      " F1 score: 0.431675424402432\n",
      "              precision    recall  f1-score   support\n",
      "\n",
      "         1.0       0.69      0.77      0.73      2068\n",
      "         2.0       0.42      0.03      0.05      1000\n",
      "         3.0       0.33      0.65      0.44       697\n",
      "\n",
      "    accuracy                           0.55      3765\n",
      "   macro avg       0.48      0.48      0.41      3765\n",
      "weighted avg       0.55      0.55      0.50      3765\n",
      "\n"
     ]
    },
    {
     "name": "stderr",
     "output_type": "stream",
     "text": [
      "\r",
      " 33%|███▎      | 9/27 [00:35<01:22,  4.57s/it]"
     ]
    },
    {
     "name": "stdout",
     "output_type": "stream",
     "text": [
      "Index(['month', 'day', 'year', 'hour', 'minute', 'holiday', 'dayOfTheWeek',\n",
      "       'temperature', 'humidity'],\n",
      "      dtype='object')\n",
      "For 9 features: \n",
      " Accuracy: 0.5596169193934557 \n",
      " Precision: 0.4580138607588949 \n",
      " Recall: 0.4753506530288848 \n",
      " F1 score: 0.4408293492506365\n",
      "              precision    recall  f1-score   support\n",
      "\n",
      "         1.0       0.71      0.77      0.74      2098\n",
      "         2.0       0.26      0.06      0.10       934\n",
      "         3.0       0.36      0.61      0.45       727\n",
      "\n",
      "    accuracy                           0.56      3759\n",
      "   macro avg       0.44      0.48      0.43      3759\n",
      "weighted avg       0.53      0.56      0.52      3759\n",
      "\n"
     ]
    },
    {
     "name": "stderr",
     "output_type": "stream",
     "text": [
      "\r",
      " 37%|███▋      | 10/27 [00:39<01:17,  4.55s/it]"
     ]
    },
    {
     "name": "stdout",
     "output_type": "stream",
     "text": [
      "Index(['month', 'day', 'year', 'hour', 'minute', 'holiday', 'dayOfTheWeek',\n",
      "       'temperature', 'humidity', 'pressure'],\n",
      "      dtype='object')\n",
      "For 10 features: \n",
      " Accuracy: 0.5590594191313616 \n",
      " Precision: 0.4496217424092785 \n",
      " Recall: 0.4754777368410863 \n",
      " F1 score: 0.4346393674600792\n",
      "              precision    recall  f1-score   support\n",
      "\n",
      "         1.0       0.70      0.77      0.74      2103\n",
      "         2.0       0.31      0.04      0.07       943\n",
      "         3.0       0.34      0.64      0.45       707\n",
      "\n",
      "    accuracy                           0.56      3753\n",
      "   macro avg       0.45      0.48      0.42      3753\n",
      "weighted avg       0.54      0.56      0.51      3753\n",
      "\n"
     ]
    },
    {
     "name": "stderr",
     "output_type": "stream",
     "text": [
      "\r",
      " 41%|████      | 11/27 [00:44<01:14,  4.66s/it]"
     ]
    },
    {
     "name": "stdout",
     "output_type": "stream",
     "text": [
      "Index(['month', 'day', 'year', 'hour', 'minute', 'holiday', 'dayOfTheWeek',\n",
      "       'temperature', 'humidity', 'pressure', 'heavy intensity rain'],\n",
      "      dtype='object')\n",
      "For 11 features: \n",
      " Accuracy: 0.5527088337336536 \n",
      " Precision: 0.4430578939732173 \n",
      " Recall: 0.4796127221423035 \n",
      " F1 score: 0.4234571189752675\n",
      "              precision    recall  f1-score   support\n",
      "\n",
      "         1.0       0.69      0.77      0.73      2029\n",
      "         2.0       0.38      0.09      0.15      1011\n",
      "         3.0       0.35      0.61      0.45       707\n",
      "\n",
      "    accuracy                           0.56      3747\n",
      "   macro avg       0.47      0.49      0.44      3747\n",
      "weighted avg       0.54      0.56      0.52      3747\n",
      "\n"
     ]
    },
    {
     "name": "stderr",
     "output_type": "stream",
     "text": [
      "\r",
      " 44%|████▍     | 12/27 [00:49<01:09,  4.60s/it]"
     ]
    },
    {
     "name": "stdout",
     "output_type": "stream",
     "text": [
      "Index(['month', 'day', 'year', 'hour', 'minute', 'holiday', 'dayOfTheWeek',\n",
      "       'temperature', 'humidity', 'pressure', 'heavy intensity rain',\n",
      "       'light rain'],\n",
      "      dtype='object')\n",
      "For 12 features: \n",
      " Accuracy: 0.5521919272921678 \n",
      " Precision: 0.45679299982426197 \n",
      " Recall: 0.47881391969790776 \n",
      " F1 score: 0.42355412796715297\n",
      "              precision    recall  f1-score   support\n",
      "\n",
      "         1.0       0.69      0.77      0.73      2082\n",
      "         2.0       0.32      0.05      0.09       978\n",
      "         3.0       0.33      0.62      0.43       681\n",
      "\n",
      "    accuracy                           0.56      3741\n",
      "   macro avg       0.45      0.48      0.42      3741\n",
      "weighted avg       0.53      0.56      0.51      3741\n",
      "\n"
     ]
    },
    {
     "name": "stderr",
     "output_type": "stream",
     "text": [
      "\r",
      " 48%|████▊     | 13/27 [00:53<01:04,  4.61s/it]"
     ]
    },
    {
     "name": "stdout",
     "output_type": "stream",
     "text": [
      "Index(['month', 'day', 'year', 'hour', 'minute', 'holiday', 'dayOfTheWeek',\n",
      "       'temperature', 'humidity', 'pressure', 'heavy intensity rain',\n",
      "       'light rain', 'broken clouds'],\n",
      "      dtype='object')\n",
      "For 13 features: \n",
      " Accuracy: 0.5523694779116466 \n",
      " Precision: 0.43475293217850985 \n",
      " Recall: 0.4738842096422761 \n",
      " F1 score: 0.42314213320835603\n",
      "              precision    recall  f1-score   support\n",
      "\n",
      "         1.0       0.68      0.76      0.72      2045\n",
      "         2.0       0.29      0.11      0.16       995\n",
      "         3.0       0.33      0.52      0.40       695\n",
      "\n",
      "    accuracy                           0.54      3735\n",
      "   macro avg       0.43      0.46      0.43      3735\n",
      "weighted avg       0.51      0.54      0.51      3735\n",
      "\n"
     ]
    },
    {
     "name": "stderr",
     "output_type": "stream",
     "text": [
      "\r",
      " 52%|█████▏    | 14/27 [00:58<00:58,  4.46s/it]"
     ]
    },
    {
     "name": "stdout",
     "output_type": "stream",
     "text": [
      "Index(['month', 'day', 'year', 'hour', 'minute', 'holiday', 'dayOfTheWeek',\n",
      "       'temperature', 'humidity', 'pressure', 'heavy intensity rain',\n",
      "       'light rain', 'broken clouds', 'scattered clouds'],\n",
      "      dtype='object')\n",
      "For 14 features: \n",
      " Accuracy: 0.5541297935103244 \n",
      " Precision: 0.4353293528755223 \n",
      " Recall: 0.479121579011435 \n",
      " F1 score: 0.4227616426860626\n",
      "              precision    recall  f1-score   support\n",
      "\n",
      "         1.0       0.69      0.77      0.73      2053\n",
      "         2.0       0.36      0.23      0.28       972\n",
      "         3.0       0.41      0.48      0.44       704\n",
      "\n",
      "    accuracy                           0.57      3729\n",
      "   macro avg       0.49      0.49      0.48      3729\n",
      "weighted avg       0.55      0.57      0.56      3729\n",
      "\n"
     ]
    },
    {
     "name": "stderr",
     "output_type": "stream",
     "text": [
      "\r",
      " 56%|█████▌    | 15/27 [01:03<00:55,  4.66s/it]"
     ]
    },
    {
     "name": "stdout",
     "output_type": "stream",
     "text": [
      "Index(['month', 'day', 'year', 'hour', 'minute', 'holiday', 'dayOfTheWeek',\n",
      "       'temperature', 'humidity', 'pressure', 'heavy intensity rain',\n",
      "       'light rain', 'broken clouds', 'scattered clouds',\n",
      "       'thunderstorm with rain'],\n",
      "      dtype='object')\n",
      "For 15 features: \n",
      " Accuracy: 0.5526322857910287 \n",
      " Precision: 0.43433116169722585 \n",
      " Recall: 0.4748451695858763 \n",
      " F1 score: 0.4227633476129359\n",
      "              precision    recall  f1-score   support\n",
      "\n",
      "         1.0       0.68      0.75      0.71      2050\n",
      "         2.0       0.08      0.00      0.00       983\n",
      "         3.0       0.31      0.66      0.42       690\n",
      "\n",
      "    accuracy                           0.53      3723\n",
      "   macro avg       0.36      0.47      0.38      3723\n",
      "weighted avg       0.45      0.53      0.47      3723\n",
      "\n"
     ]
    },
    {
     "name": "stderr",
     "output_type": "stream",
     "text": [
      "\r",
      " 59%|█████▉    | 16/27 [01:08<00:52,  4.73s/it]"
     ]
    },
    {
     "name": "stdout",
     "output_type": "stream",
     "text": [
      "Index(['month', 'day', 'year', 'hour', 'minute', 'holiday', 'dayOfTheWeek',\n",
      "       'temperature', 'humidity', 'pressure', 'heavy intensity rain',\n",
      "       'light rain', 'broken clouds', 'scattered clouds',\n",
      "       'thunderstorm with rain', 'few clouds'],\n",
      "      dtype='object')\n",
      "For 16 features: \n",
      " Accuracy: 0.5584476728544525 \n",
      " Precision: 0.4444688741918441 \n",
      " Recall: 0.47824342492371197 \n",
      " F1 score: 0.4322267965693443\n",
      "              precision    recall  f1-score   support\n",
      "\n",
      "         1.0       0.70      0.77      0.73      2057\n",
      "         2.0       0.34      0.03      0.05       956\n",
      "         3.0       0.34      0.66      0.45       704\n",
      "\n",
      "    accuracy                           0.56      3717\n",
      "   macro avg       0.46      0.48      0.41      3717\n",
      "weighted avg       0.54      0.56      0.50      3717\n",
      "\n"
     ]
    },
    {
     "name": "stderr",
     "output_type": "stream",
     "text": [
      "\r",
      " 63%|██████▎   | 17/27 [01:12<00:47,  4.79s/it]"
     ]
    },
    {
     "name": "stdout",
     "output_type": "stream",
     "text": [
      "Index(['month', 'day', 'year', 'hour', 'minute', 'holiday', 'dayOfTheWeek',\n",
      "       'temperature', 'humidity', 'pressure', 'heavy intensity rain',\n",
      "       'light rain', 'broken clouds', 'scattered clouds',\n",
      "       'thunderstorm with rain', 'few clouds', 'thunderstorm'],\n",
      "      dtype='object')\n",
      "For 17 features: \n",
      " Accuracy: 0.5614120183239019 \n",
      " Precision: 0.44662339683402874 \n",
      " Recall: 0.4762522588296268 \n",
      " F1 score: 0.4355102123520548\n",
      "              precision    recall  f1-score   support\n",
      "\n",
      "         1.0       0.70      0.76      0.73      2053\n",
      "         2.0       0.13      0.00      0.00       960\n",
      "         3.0       0.33      0.70      0.44       698\n",
      "\n",
      "    accuracy                           0.55      3711\n",
      "   macro avg       0.39      0.49      0.39      3711\n",
      "weighted avg       0.49      0.55      0.49      3711\n",
      "\n"
     ]
    },
    {
     "name": "stderr",
     "output_type": "stream",
     "text": [
      "\r",
      " 67%|██████▋   | 18/27 [01:17<00:42,  4.70s/it]"
     ]
    },
    {
     "name": "stdout",
     "output_type": "stream",
     "text": [
      "Index(['month', 'day', 'year', 'hour', 'minute', 'holiday', 'dayOfTheWeek',\n",
      "       'temperature', 'humidity', 'pressure', 'heavy intensity rain',\n",
      "       'light rain', 'broken clouds', 'scattered clouds',\n",
      "       'thunderstorm with rain', 'few clouds', 'thunderstorm', 'shower rain'],\n",
      "      dtype='object')\n",
      "For 18 features: \n",
      " Accuracy: 0.5584480431848853 \n",
      " Precision: 0.44265692403473234 \n",
      " Recall: 0.47695877453925256 \n",
      " F1 score: 0.4311083942848717\n",
      "              precision    recall  f1-score   support\n",
      "\n",
      "         1.0       0.69      0.77      0.72      2040\n",
      "         2.0       0.37      0.33      0.35       957\n",
      "         3.0       0.30      0.25      0.27       708\n",
      "\n",
      "    accuracy                           0.55      3705\n",
      "   macro avg       0.45      0.45      0.45      3705\n",
      "weighted avg       0.53      0.55      0.54      3705\n",
      "\n"
     ]
    },
    {
     "name": "stderr",
     "output_type": "stream",
     "text": [
      "\r",
      " 70%|███████   | 19/27 [01:22<00:37,  4.74s/it]"
     ]
    },
    {
     "name": "stdout",
     "output_type": "stream",
     "text": [
      "Index(['month', 'day', 'year', 'hour', 'minute', 'holiday', 'dayOfTheWeek',\n",
      "       'temperature', 'humidity', 'pressure', 'heavy intensity rain',\n",
      "       'light rain', 'broken clouds', 'scattered clouds',\n",
      "       'thunderstorm with rain', 'few clouds', 'thunderstorm', 'shower rain'],\n",
      "      dtype='object')\n",
      "For 19 features: \n",
      " Accuracy: 0.5614084887807516 \n",
      " Precision: 0.4614688654664207 \n",
      " Recall: 0.478457658762535 \n",
      " F1 score: 0.43861799526511114\n",
      "              precision    recall  f1-score   support\n",
      "\n",
      "         1.0       0.71      0.75      0.73      2034\n",
      "         2.0       0.38      0.40      0.39       984\n",
      "         3.0       0.40      0.29      0.34       681\n",
      "\n",
      "    accuracy                           0.57      3699\n",
      "   macro avg       0.49      0.48      0.48      3699\n",
      "weighted avg       0.56      0.57      0.56      3699\n",
      "\n"
     ]
    },
    {
     "name": "stderr",
     "output_type": "stream",
     "text": [
      "\r",
      " 74%|███████▍  | 20/27 [01:26<00:32,  4.66s/it]"
     ]
    },
    {
     "name": "stdout",
     "output_type": "stream",
     "text": [
      "Index(['month', 'day', 'year', 'hour', 'minute', 'holiday', 'dayOfTheWeek',\n",
      "       'temperature', 'humidity', 'pressure', 'heavy intensity rain',\n",
      "       'light rain', 'broken clouds', 'scattered clouds',\n",
      "       'thunderstorm with rain', 'few clouds', 'thunderstorm', 'shower rain'],\n",
      "      dtype='object')\n",
      "For 20 features: \n",
      " Accuracy: 0.5587733549959383 \n",
      " Precision: 0.44518312152164224 \n",
      " Recall: 0.47542515062091417 \n",
      " F1 score: 0.4338800833675305\n",
      "              precision    recall  f1-score   support\n",
      "\n",
      "         1.0       0.70      0.75      0.73      2032\n",
      "         2.0       0.00      0.00      0.00       970\n",
      "         3.0       0.32      0.70      0.44       691\n",
      "\n",
      "    accuracy                           0.55      3693\n",
      "   macro avg       0.34      0.49      0.39      3693\n",
      "weighted avg       0.45      0.55      0.48      3693\n",
      "\n"
     ]
    },
    {
     "name": "stderr",
     "output_type": "stream",
     "text": [
      "\r",
      " 78%|███████▊  | 21/27 [01:31<00:27,  4.61s/it]"
     ]
    },
    {
     "name": "stdout",
     "output_type": "stream",
     "text": [
      "Index(['month', 'day', 'year', 'hour', 'minute', 'holiday', 'dayOfTheWeek',\n",
      "       'temperature', 'humidity', 'pressure', 'heavy intensity rain',\n",
      "       'light rain', 'broken clouds', 'scattered clouds',\n",
      "       'thunderstorm with rain', 'few clouds', 'thunderstorm', 'shower rain'],\n",
      "      dtype='object')\n",
      "For 21 features: \n",
      " Accuracy: 0.5604556550040684 \n",
      " Precision: 0.4494699521948587 \n",
      " Recall: 0.4768859303657863 \n",
      " F1 score: 0.4347853151646385\n",
      "              precision    recall  f1-score   support\n",
      "\n",
      "         1.0       0.72      0.77      0.74      2087\n",
      "         2.0       0.30      0.13      0.19       928\n",
      "         3.0       0.36      0.56      0.44       672\n",
      "\n",
      "    accuracy                           0.57      3687\n",
      "   macro avg       0.46      0.49      0.45      3687\n",
      "weighted avg       0.55      0.57      0.55      3687\n",
      "\n"
     ]
    },
    {
     "name": "stderr",
     "output_type": "stream",
     "text": [
      "\r",
      " 81%|████████▏ | 22/27 [01:35<00:22,  4.54s/it]"
     ]
    },
    {
     "name": "stdout",
     "output_type": "stream",
     "text": [
      "Index(['month', 'day', 'year', 'hour', 'minute', 'holiday', 'dayOfTheWeek',\n",
      "       'temperature', 'humidity', 'pressure', 'heavy intensity rain',\n",
      "       'light rain', 'broken clouds', 'scattered clouds',\n",
      "       'thunderstorm with rain', 'few clouds', 'thunderstorm', 'shower rain'],\n",
      "      dtype='object')\n",
      "For 22 features: \n",
      " Accuracy: 0.5604862809019289 \n",
      " Precision: 0.44556982931318473 \n",
      " Recall: 0.4774644399992225 \n",
      " F1 score: 0.4354467509316695\n",
      "              precision    recall  f1-score   support\n",
      "\n",
      "         1.0       0.69      0.78      0.73      2053\n",
      "         2.0       0.30      0.03      0.06       987\n",
      "         3.0       0.32      0.65      0.43       641\n",
      "\n",
      "    accuracy                           0.55      3681\n",
      "   macro avg       0.44      0.48      0.41      3681\n",
      "weighted avg       0.52      0.55      0.50      3681\n",
      "\n"
     ]
    },
    {
     "name": "stderr",
     "output_type": "stream",
     "text": [
      "\r",
      " 85%|████████▌ | 23/27 [01:40<00:18,  4.67s/it]"
     ]
    },
    {
     "name": "stdout",
     "output_type": "stream",
     "text": [
      "Index(['month', 'day', 'year', 'hour', 'minute', 'holiday', 'dayOfTheWeek',\n",
      "       'temperature', 'humidity', 'pressure', 'heavy intensity rain',\n",
      "       'light rain', 'broken clouds', 'scattered clouds',\n",
      "       'thunderstorm with rain', 'few clouds', 'thunderstorm', 'shower rain'],\n",
      "      dtype='object')\n",
      "For 23 features: \n",
      " Accuracy: 0.552843537414966 \n",
      " Precision: 0.4465111709385938 \n",
      " Recall: 0.47810467374585236 \n",
      " F1 score: 0.42598756777018804\n",
      "              precision    recall  f1-score   support\n",
      "\n",
      "         1.0       0.70      0.75      0.72      2052\n",
      "         2.0       0.28      0.11      0.16       945\n",
      "         3.0       0.34      0.56      0.42       678\n",
      "\n",
      "    accuracy                           0.55      3675\n",
      "   macro avg       0.44      0.47      0.43      3675\n",
      "weighted avg       0.53      0.55      0.52      3675\n",
      "\n"
     ]
    },
    {
     "name": "stderr",
     "output_type": "stream",
     "text": [
      "\r",
      " 89%|████████▉ | 24/27 [01:44<00:13,  4.56s/it]"
     ]
    },
    {
     "name": "stdout",
     "output_type": "stream",
     "text": [
      "Index(['month', 'day', 'year', 'hour', 'minute', 'holiday', 'dayOfTheWeek',\n",
      "       'temperature', 'humidity', 'pressure', 'heavy intensity rain',\n",
      "       'light rain', 'broken clouds', 'scattered clouds',\n",
      "       'thunderstorm with rain', 'few clouds', 'thunderstorm', 'shower rain'],\n",
      "      dtype='object')\n",
      "For 24 features: \n",
      " Accuracy: 0.5602480239847369 \n",
      " Precision: 0.45852246662956236 \n",
      " Recall: 0.4726045686766115 \n",
      " F1 score: 0.4374322881557664\n",
      "              precision    recall  f1-score   support\n",
      "\n",
      "         1.0       0.70      0.76      0.73      2031\n",
      "         2.0       0.33      0.10      0.15       942\n",
      "         3.0       0.35      0.59      0.44       696\n",
      "\n",
      "    accuracy                           0.56      3669\n",
      "   macro avg       0.46      0.48      0.44      3669\n",
      "weighted avg       0.54      0.56      0.53      3669\n",
      "\n"
     ]
    },
    {
     "name": "stderr",
     "output_type": "stream",
     "text": [
      "\r",
      " 93%|█████████▎| 25/27 [01:49<00:09,  4.60s/it]"
     ]
    },
    {
     "name": "stdout",
     "output_type": "stream",
     "text": [
      "Index(['month', 'day', 'year', 'hour', 'minute', 'holiday', 'dayOfTheWeek',\n",
      "       'temperature', 'humidity', 'pressure', 'heavy intensity rain',\n",
      "       'light rain', 'broken clouds', 'scattered clouds',\n",
      "       'thunderstorm with rain', 'few clouds', 'thunderstorm', 'shower rain'],\n",
      "      dtype='object')\n",
      "For 25 features: \n",
      " Accuracy: 0.5591591591591591 \n",
      " Precision: 0.4390202867696188 \n",
      " Recall: 0.47873024130010644 \n",
      " F1 score: 0.4282132812888034\n",
      "              precision    recall  f1-score   support\n",
      "\n",
      "         1.0       0.70      0.76      0.73      2074\n",
      "         2.0       0.34      0.21      0.26       928\n",
      "         3.0       0.34      0.44      0.38       661\n",
      "\n",
      "    accuracy                           0.56      3663\n",
      "   macro avg       0.46      0.47      0.46      3663\n",
      "weighted avg       0.54      0.56      0.55      3663\n",
      "\n"
     ]
    },
    {
     "name": "stderr",
     "output_type": "stream",
     "text": [
      "\r",
      " 96%|█████████▋| 26/27 [01:54<00:04,  4.62s/it]"
     ]
    },
    {
     "name": "stdout",
     "output_type": "stream",
     "text": [
      "Index(['month', 'day', 'year', 'hour', 'minute', 'holiday', 'dayOfTheWeek',\n",
      "       'temperature', 'humidity', 'pressure', 'heavy intensity rain',\n",
      "       'light rain', 'broken clouds', 'scattered clouds',\n",
      "       'thunderstorm with rain', 'few clouds', 'thunderstorm', 'shower rain'],\n",
      "      dtype='object')\n",
      "For 26 features: \n",
      " Accuracy: 0.5568772217664752 \n",
      " Precision: 0.44866839394338887 \n",
      " Recall: 0.47415381107325316 \n",
      " F1 score: 0.4330174217806333\n",
      "              precision    recall  f1-score   support\n",
      "\n",
      "         1.0       0.70      0.75      0.72      2037\n",
      "         2.0       0.28      0.04      0.07       949\n",
      "         3.0       0.32      0.65      0.43       671\n",
      "\n",
      "    accuracy                           0.55      3657\n",
      "   macro avg       0.43      0.48      0.41      3657\n",
      "weighted avg       0.52      0.55      0.50      3657\n",
      "\n"
     ]
    },
    {
     "name": "stderr",
     "output_type": "stream",
     "text": [
      "100%|██████████| 27/27 [01:58<00:00,  4.40s/it]\n",
      "  0%|          | 0/27 [00:00<?, ?it/s]"
     ]
    },
    {
     "name": "stdout",
     "output_type": "stream",
     "text": [
      "Index(['month', 'day', 'year', 'hour', 'minute', 'holiday', 'dayOfTheWeek',\n",
      "       'temperature', 'humidity', 'pressure', 'heavy intensity rain',\n",
      "       'light rain', 'broken clouds', 'scattered clouds',\n",
      "       'thunderstorm with rain', 'few clouds', 'thunderstorm', 'shower rain'],\n",
      "      dtype='object')\n",
      "For 27 features: \n",
      " Accuracy: 0.5584497397973158 \n",
      " Precision: 0.44838083316508326 \n",
      " Recall: 0.4775290950360969 \n",
      " F1 score: 0.42914074659442014\n",
      "              precision    recall  f1-score   support\n",
      "\n",
      "         1.0       0.69      0.77      0.73      2035\n",
      "         2.0       0.34      0.20      0.25       913\n",
      "         3.0       0.38      0.44      0.41       703\n",
      "\n",
      "    accuracy                           0.57      3651\n",
      "   macro avg       0.47      0.47      0.46      3651\n",
      "weighted avg       0.54      0.57      0.55      3651\n",
      "\n",
      "\n",
      " \n",
      "\n",
      "------------------------- Analyzing method MRMR -------------------------\n",
      "The variable order is: \n",
      " ['month', 'day', 'year', 'hour', 'minute', 'holiday', 'dayOfTheWeek', 'temperature', 'humidity', 'pressure', 'heavy intensity rain', 'light rain', 'broken clouds', 'scattered clouds', 'thunderstorm with rain', 'few clouds', 'thunderstorm', 'shower rain', 'heavy intensity rain', 'mist', 'scattered clouds', 'very heavy rain', 'overcast clouds', 'moderate rain', 'minute', 'haze', 'few clouds']\n"
     ]
    },
    {
     "name": "stderr",
     "output_type": "stream",
     "text": [
      "\r",
      "  4%|▎         | 1/27 [00:02<01:13,  2.83s/it]"
     ]
    },
    {
     "name": "stdout",
     "output_type": "stream",
     "text": [
      "Index(['month'], dtype='object')\n",
      "For 1 features: \n",
      " Accuracy: 0.34242798353909465 \n",
      " Precision: 0.2233067055723645 \n",
      " Recall: 0.34786884116775496 \n",
      " F1 score: 0.24829454851175745\n",
      "              precision    recall  f1-score   support\n",
      "\n",
      "         1.0       0.56      0.15      0.24      2078\n",
      "         2.0       0.32      0.20      0.25       888\n",
      "         3.0       0.17      0.64      0.27       679\n",
      "\n",
      "    accuracy                           0.25      3645\n",
      "   macro avg       0.35      0.33      0.25      3645\n",
      "weighted avg       0.43      0.25      0.24      3645\n",
      "\n"
     ]
    },
    {
     "name": "stderr",
     "output_type": "stream",
     "text": [
      "\r",
      "  7%|▋         | 2/27 [00:05<01:11,  2.85s/it]"
     ]
    },
    {
     "name": "stdout",
     "output_type": "stream",
     "text": [
      "Index(['month', 'day'], dtype='object')\n",
      "For 2 features: \n",
      " Accuracy: 0.3705688375927453 \n",
      " Precision: 0.2792084511696326 \n",
      " Recall: 0.3344628681131172 \n",
      " F1 score: 0.26911117910373217\n",
      "              precision    recall  f1-score   support\n",
      "\n",
      "         1.0       0.50      0.51      0.51      2017\n",
      "         2.0       0.23      0.01      0.01       927\n",
      "         3.0       0.18      0.40      0.24       695\n",
      "\n",
      "    accuracy                           0.36      3639\n",
      "   macro avg       0.30      0.31      0.26      3639\n",
      "weighted avg       0.37      0.36      0.33      3639\n",
      "\n"
     ]
    },
    {
     "name": "stderr",
     "output_type": "stream",
     "text": [
      "\r",
      " 11%|█         | 3/27 [00:08<01:09,  2.90s/it]"
     ]
    },
    {
     "name": "stdout",
     "output_type": "stream",
     "text": [
      "Index(['month', 'day', 'year'], dtype='object')\n",
      "For 3 features: \n",
      " Accuracy: 0.5039911918524635 \n",
      " Precision: 0.344405047742107 \n",
      " Recall: 0.3915438361996595 \n",
      " F1 score: 0.3450633405571019\n",
      "              precision    recall  f1-score   support\n",
      "\n",
      "         1.0       0.59      0.91      0.72      2039\n",
      "         2.0       0.00      0.00      0.00       878\n",
      "         3.0       0.31      0.21      0.25       716\n",
      "\n",
      "    accuracy                           0.55      3633\n",
      "   macro avg       0.30      0.37      0.32      3633\n",
      "weighted avg       0.39      0.55      0.45      3633\n",
      "\n"
     ]
    },
    {
     "name": "stderr",
     "output_type": "stream",
     "text": [
      "\r",
      " 15%|█▍        | 4/27 [00:11<01:09,  3.01s/it]"
     ]
    },
    {
     "name": "stdout",
     "output_type": "stream",
     "text": [
      "Index(['month', 'day', 'year', 'hour'], dtype='object')\n",
      "For 4 features: \n",
      " Accuracy: 0.5351530190239868 \n",
      " Precision: 0.40584461693758106 \n",
      " Recall: 0.43029110100752227 \n",
      " F1 score: 0.3936140378065888\n",
      "              precision    recall  f1-score   support\n",
      "\n",
      "         1.0       0.67      0.74      0.70      2039\n",
      "         2.0       0.31      0.12      0.17       938\n",
      "         3.0       0.31      0.50      0.39       650\n",
      "\n",
      "    accuracy                           0.53      3627\n",
      "   macro avg       0.43      0.45      0.42      3627\n",
      "weighted avg       0.51      0.53      0.51      3627\n",
      "\n"
     ]
    },
    {
     "name": "stderr",
     "output_type": "stream",
     "text": [
      "\r",
      " 19%|█▊        | 5/27 [00:14<01:07,  3.06s/it]"
     ]
    },
    {
     "name": "stdout",
     "output_type": "stream",
     "text": [
      "Index(['month', 'day', 'year', 'hour', 'minute'], dtype='object')\n",
      "For 5 features: \n",
      " Accuracy: 0.5330571665285833 \n",
      " Precision: 0.3974412540395133 \n",
      " Recall: 0.4302737578429699 \n",
      " F1 score: 0.3961396146109386\n",
      "              precision    recall  f1-score   support\n",
      "\n",
      "         1.0       0.63      0.80      0.71      2020\n",
      "         2.0       0.27      0.12      0.17       935\n",
      "         3.0       0.38      0.37      0.38       666\n",
      "\n",
      "    accuracy                           0.54      3621\n",
      "   macro avg       0.43      0.43      0.42      3621\n",
      "weighted avg       0.49      0.54      0.51      3621\n",
      "\n"
     ]
    },
    {
     "name": "stderr",
     "output_type": "stream",
     "text": [
      "\r",
      " 22%|██▏       | 6/27 [00:18<01:07,  3.20s/it]"
     ]
    },
    {
     "name": "stdout",
     "output_type": "stream",
     "text": [
      "Index(['month', 'day', 'year', 'hour', 'minute', 'holiday'], dtype='object')\n",
      "For 6 features: \n",
      " Accuracy: 0.5358367911479944 \n",
      " Precision: 0.41688581162687194 \n",
      " Recall: 0.45075843450127745 \n",
      " F1 score: 0.4112350573727693\n",
      "              precision    recall  f1-score   support\n",
      "\n",
      "         1.0       0.68      0.75      0.71      2060\n",
      "         2.0       0.29      0.08      0.13       899\n",
      "         3.0       0.34      0.57      0.43       656\n",
      "\n",
      "    accuracy                           0.55      3615\n",
      "   macro avg       0.44      0.47      0.42      3615\n",
      "weighted avg       0.52      0.55      0.52      3615\n",
      "\n"
     ]
    },
    {
     "name": "stderr",
     "output_type": "stream",
     "text": [
      "\r",
      " 26%|██▌       | 7/27 [00:21<01:06,  3.30s/it]"
     ]
    },
    {
     "name": "stdout",
     "output_type": "stream",
     "text": [
      "Index(['month', 'day', 'year', 'hour', 'minute', 'holiday', 'dayOfTheWeek'], dtype='object')\n",
      "For 7 features: \n",
      " Accuracy: 0.5446799667497921 \n",
      " Precision: 0.434547976532408 \n",
      " Recall: 0.45496369890799143 \n",
      " F1 score: 0.4260418657646917\n",
      "              precision    recall  f1-score   support\n",
      "\n",
      "         1.0       0.68      0.74      0.71      2048\n",
      "         2.0       0.08      0.01      0.02       851\n",
      "         3.0       0.36      0.64      0.46       710\n",
      "\n",
      "    accuracy                           0.55      3609\n",
      "   macro avg       0.38      0.46      0.40      3609\n",
      "weighted avg       0.48      0.55      0.50      3609\n",
      "\n"
     ]
    },
    {
     "name": "stderr",
     "output_type": "stream",
     "text": [
      "\r",
      " 30%|██▉       | 8/27 [00:26<01:09,  3.67s/it]"
     ]
    },
    {
     "name": "stdout",
     "output_type": "stream",
     "text": [
      "Index(['month', 'day', 'year', 'hour', 'minute', 'holiday', 'dayOfTheWeek',\n",
      "       'temperature'],\n",
      "      dtype='object')\n",
      "For 8 features: \n",
      " Accuracy: 0.5531917846239245 \n",
      " Precision: 0.4293261399165806 \n",
      " Recall: 0.4719122607186983 \n",
      " F1 score: 0.4030744148886382\n",
      "              precision    recall  f1-score   support\n",
      "\n",
      "         1.0       0.70      0.75      0.72      2037\n",
      "         2.0       0.39      0.08      0.13       922\n",
      "         3.0       0.30      0.58      0.40       644\n",
      "\n",
      "    accuracy                           0.55      3603\n",
      "   macro avg       0.46      0.47      0.42      3603\n",
      "weighted avg       0.55      0.55      0.51      3603\n",
      "\n"
     ]
    },
    {
     "name": "stderr",
     "output_type": "stream",
     "text": [
      "\r",
      " 33%|███▎      | 9/27 [00:30<01:06,  3.71s/it]"
     ]
    },
    {
     "name": "stdout",
     "output_type": "stream",
     "text": [
      "Index(['month', 'day', 'year', 'hour', 'minute', 'holiday', 'dayOfTheWeek',\n",
      "       'temperature', 'humidity'],\n",
      "      dtype='object')\n",
      "For 9 features: \n",
      " Accuracy: 0.5621490130664443 \n",
      " Precision: 0.43742588201528043 \n",
      " Recall: 0.4809959270281034 \n",
      " F1 score: 0.4180699113314437\n",
      "              precision    recall  f1-score   support\n",
      "\n",
      "         1.0       0.70      0.78      0.74      2020\n",
      "         2.0       0.33      0.04      0.07       881\n",
      "         3.0       0.35      0.64      0.46       696\n",
      "\n",
      "    accuracy                           0.57      3597\n",
      "   macro avg       0.46      0.49      0.42      3597\n",
      "weighted avg       0.55      0.57      0.52      3597\n",
      "\n"
     ]
    },
    {
     "name": "stderr",
     "output_type": "stream",
     "text": [
      "\r",
      " 37%|███▋      | 10/27 [00:34<01:03,  3.75s/it]"
     ]
    },
    {
     "name": "stdout",
     "output_type": "stream",
     "text": [
      "Index(['month', 'day', 'year', 'hour', 'minute', 'holiday', 'dayOfTheWeek',\n",
      "       'temperature', 'humidity', 'pressure'],\n",
      "      dtype='object')\n",
      "For 10 features: \n",
      " Accuracy: 0.5619186856028962 \n",
      " Precision: 0.4465486191512711 \n",
      " Recall: 0.48151882516227346 \n",
      " F1 score: 0.41339766801278494\n",
      "              precision    recall  f1-score   support\n",
      "\n",
      "         1.0       0.69      0.76      0.73      2049\n",
      "         2.0       0.32      0.02      0.05       858\n",
      "         3.0       0.34      0.62      0.44       684\n",
      "\n",
      "    accuracy                           0.56      3591\n",
      "   macro avg       0.45      0.47      0.40      3591\n",
      "weighted avg       0.54      0.56      0.51      3591\n",
      "\n"
     ]
    },
    {
     "name": "stderr",
     "output_type": "stream",
     "text": [
      "\r",
      " 41%|████      | 11/27 [00:38<01:01,  3.86s/it]"
     ]
    },
    {
     "name": "stdout",
     "output_type": "stream",
     "text": [
      "Index(['month', 'day', 'year', 'hour', 'minute', 'holiday', 'dayOfTheWeek',\n",
      "       'temperature', 'humidity', 'pressure', 'heavy intensity rain'],\n",
      "      dtype='object')\n",
      "For 11 features: \n",
      " Accuracy: 0.5581589958158996 \n",
      " Precision: 0.4451405094725342 \n",
      " Recall: 0.4790050245371865 \n",
      " F1 score: 0.4108303622824866\n",
      "              precision    recall  f1-score   support\n",
      "\n",
      "         1.0       0.71      0.75      0.73      2040\n",
      "         2.0       0.34      0.04      0.07       885\n",
      "         3.0       0.33      0.67      0.45       660\n",
      "\n",
      "    accuracy                           0.56      3585\n",
      "   macro avg       0.46      0.49      0.41      3585\n",
      "weighted avg       0.55      0.56      0.51      3585\n",
      "\n"
     ]
    },
    {
     "name": "stderr",
     "output_type": "stream",
     "text": [
      "\r",
      " 44%|████▍     | 12/27 [00:42<01:00,  4.00s/it]"
     ]
    },
    {
     "name": "stdout",
     "output_type": "stream",
     "text": [
      "Index(['month', 'day', 'year', 'hour', 'minute', 'holiday', 'dayOfTheWeek',\n",
      "       'temperature', 'humidity', 'pressure', 'heavy intensity rain',\n",
      "       'light rain'],\n",
      "      dtype='object')\n",
      "For 12 features: \n",
      " Accuracy: 0.564389494272143 \n",
      " Precision: 0.4460842379979514 \n",
      " Recall: 0.4817260585958784 \n",
      " F1 score: 0.4287666429202179\n",
      "              precision    recall  f1-score   support\n",
      "\n",
      "         1.0       0.71      0.77      0.74      2031\n",
      "         2.0       0.35      0.04      0.06       883\n",
      "         3.0       0.35      0.69      0.47       665\n",
      "\n",
      "    accuracy                           0.58      3579\n",
      "   macro avg       0.47      0.50      0.42      3579\n",
      "weighted avg       0.56      0.58      0.52      3579\n",
      "\n"
     ]
    },
    {
     "name": "stderr",
     "output_type": "stream",
     "text": [
      "\r",
      " 48%|████▊     | 13/27 [00:46<00:55,  3.96s/it]"
     ]
    },
    {
     "name": "stdout",
     "output_type": "stream",
     "text": [
      "Index(['month', 'day', 'year', 'hour', 'minute', 'holiday', 'dayOfTheWeek',\n",
      "       'temperature', 'humidity', 'pressure', 'heavy intensity rain',\n",
      "       'light rain', 'broken clouds'],\n",
      "      dtype='object')\n",
      "For 13 features: \n",
      " Accuracy: 0.5578505457598657 \n",
      " Precision: 0.43411392936658344 \n",
      " Recall: 0.4766062245106879 \n",
      " F1 score: 0.41795321675349284\n",
      "              precision    recall  f1-score   support\n",
      "\n",
      "         1.0       0.72      0.76      0.74      2051\n",
      "         2.0       0.20      0.00      0.01       844\n",
      "         3.0       0.32      0.66      0.43       678\n",
      "\n",
      "    accuracy                           0.56      3573\n",
      "   macro avg       0.41      0.47      0.39      3573\n",
      "weighted avg       0.52      0.56      0.51      3573\n",
      "\n"
     ]
    },
    {
     "name": "stderr",
     "output_type": "stream",
     "text": [
      "\r",
      " 52%|█████▏    | 14/27 [00:50<00:53,  4.08s/it]"
     ]
    },
    {
     "name": "stdout",
     "output_type": "stream",
     "text": [
      "Index(['month', 'day', 'year', 'hour', 'minute', 'holiday', 'dayOfTheWeek',\n",
      "       'temperature', 'humidity', 'pressure', 'heavy intensity rain',\n",
      "       'light rain', 'broken clouds', 'scattered clouds'],\n",
      "      dtype='object')\n",
      "For 14 features: \n",
      " Accuracy: 0.5607373142696944 \n",
      " Precision: 0.4361998504122725 \n",
      " Recall: 0.4786857490107773 \n",
      " F1 score: 0.42245918658622567\n",
      "              precision    recall  f1-score   support\n",
      "\n",
      "         1.0       0.71      0.76      0.74      2078\n",
      "         2.0       0.20      0.02      0.03       862\n",
      "         3.0       0.31      0.63      0.42       627\n",
      "\n",
      "    accuracy                           0.56      3567\n",
      "   macro avg       0.41      0.47      0.40      3567\n",
      "weighted avg       0.52      0.56      0.51      3567\n",
      "\n"
     ]
    },
    {
     "name": "stderr",
     "output_type": "stream",
     "text": [
      "\r",
      " 56%|█████▌    | 15/27 [00:55<00:51,  4.27s/it]"
     ]
    },
    {
     "name": "stdout",
     "output_type": "stream",
     "text": [
      "Index(['month', 'day', 'year', 'hour', 'minute', 'holiday', 'dayOfTheWeek',\n",
      "       'temperature', 'humidity', 'pressure', 'heavy intensity rain',\n",
      "       'light rain', 'broken clouds', 'scattered clouds',\n",
      "       'thunderstorm with rain'],\n",
      "      dtype='object')\n",
      "For 15 features: \n",
      " Accuracy: 0.5586632968267341 \n",
      " Precision: 0.43665946595983995 \n",
      " Recall: 0.4786853246563334 \n",
      " F1 score: 0.4130470362372066\n",
      "              precision    recall  f1-score   support\n",
      "\n",
      "         1.0       0.71      0.75      0.73      2032\n",
      "         2.0       0.18      0.02      0.03       861\n",
      "         3.0       0.33      0.68      0.45       668\n",
      "\n",
      "    accuracy                           0.56      3561\n",
      "   macro avg       0.41      0.48      0.40      3561\n",
      "weighted avg       0.51      0.56      0.51      3561\n",
      "\n"
     ]
    },
    {
     "name": "stderr",
     "output_type": "stream",
     "text": [
      "\r",
      " 59%|█████▉    | 16/27 [00:59<00:46,  4.22s/it]"
     ]
    },
    {
     "name": "stdout",
     "output_type": "stream",
     "text": [
      "Index(['month', 'day', 'year', 'hour', 'minute', 'holiday', 'dayOfTheWeek',\n",
      "       'temperature', 'humidity', 'pressure', 'heavy intensity rain',\n",
      "       'light rain', 'broken clouds', 'scattered clouds',\n",
      "       'thunderstorm with rain', 'few clouds'],\n",
      "      dtype='object')\n",
      "For 16 features: \n",
      " Accuracy: 0.5605485232067511 \n",
      " Precision: 0.4405134891983185 \n",
      " Recall: 0.4770370775031907 \n",
      " F1 score: 0.4216515914597302\n",
      "              precision    recall  f1-score   support\n",
      "\n",
      "         1.0       0.71      0.75      0.73      2036\n",
      "         2.0       0.36      0.33      0.34       863\n",
      "         3.0       0.34      0.32      0.33       656\n",
      "\n",
      "    accuracy                           0.57      3555\n",
      "   macro avg       0.47      0.47      0.47      3555\n",
      "weighted avg       0.56      0.57      0.56      3555\n",
      "\n"
     ]
    },
    {
     "name": "stderr",
     "output_type": "stream",
     "text": [
      "\r",
      " 63%|██████▎   | 17/27 [01:03<00:42,  4.23s/it]"
     ]
    },
    {
     "name": "stdout",
     "output_type": "stream",
     "text": [
      "Index(['month', 'day', 'year', 'hour', 'minute', 'holiday', 'dayOfTheWeek',\n",
      "       'temperature', 'humidity', 'pressure', 'heavy intensity rain',\n",
      "       'light rain', 'broken clouds', 'scattered clouds',\n",
      "       'thunderstorm with rain', 'few clouds', 'thunderstorm'],\n",
      "      dtype='object')\n",
      "For 17 features: \n",
      " Accuracy: 0.5629050436742744 \n",
      " Precision: 0.4641722984654309 \n",
      " Recall: 0.48134042257003273 \n",
      " F1 score: 0.4242000128977787\n",
      "              precision    recall  f1-score   support\n",
      "\n",
      "         1.0       0.70      0.77      0.73      2036\n",
      "         2.0       0.35      0.04      0.06       881\n",
      "         3.0       0.33      0.65      0.44       632\n",
      "\n",
      "    accuracy                           0.56      3549\n",
      "   macro avg       0.46      0.48      0.41      3549\n",
      "weighted avg       0.55      0.56      0.51      3549\n",
      "\n"
     ]
    },
    {
     "name": "stderr",
     "output_type": "stream",
     "text": [
      "\r",
      " 67%|██████▋   | 18/27 [01:07<00:37,  4.18s/it]"
     ]
    },
    {
     "name": "stdout",
     "output_type": "stream",
     "text": [
      "Index(['month', 'day', 'year', 'hour', 'minute', 'holiday', 'dayOfTheWeek',\n",
      "       'temperature', 'humidity', 'pressure', 'heavy intensity rain',\n",
      "       'light rain', 'broken clouds', 'scattered clouds',\n",
      "       'thunderstorm with rain', 'few clouds', 'thunderstorm', 'shower rain'],\n",
      "      dtype='object')\n",
      "For 18 features: \n",
      " Accuracy: 0.5646486028789162 \n",
      " Precision: 0.4475779204183197 \n",
      " Recall: 0.48228051871167316 \n",
      " F1 score: 0.4306485149900073\n",
      "              precision    recall  f1-score   support\n",
      "\n",
      "         1.0       0.72      0.75      0.73      2024\n",
      "         2.0       0.18      0.00      0.00       849\n",
      "         3.0       0.34      0.71      0.46       670\n",
      "\n",
      "    accuracy                           0.57      3543\n",
      "   macro avg       0.41      0.49      0.40      3543\n",
      "weighted avg       0.52      0.57      0.51      3543\n",
      "\n"
     ]
    },
    {
     "name": "stderr",
     "output_type": "stream",
     "text": [
      "\r",
      " 70%|███████   | 19/27 [01:12<00:33,  4.22s/it]"
     ]
    },
    {
     "name": "stdout",
     "output_type": "stream",
     "text": [
      "Index(['month', 'day', 'year', 'hour', 'minute', 'holiday', 'dayOfTheWeek',\n",
      "       'temperature', 'humidity', 'pressure', 'heavy intensity rain',\n",
      "       'light rain', 'broken clouds', 'scattered clouds',\n",
      "       'thunderstorm with rain', 'few clouds', 'thunderstorm', 'shower rain',\n",
      "       'heavy intensity rain'],\n",
      "      dtype='object')\n",
      "For 19 features: \n",
      " Accuracy: 0.5614503816793893 \n",
      " Precision: 0.44160803194277765 \n",
      " Recall: 0.4791973814721376 \n",
      " F1 score: 0.4238295660922632\n",
      "              precision    recall  f1-score   support\n",
      "\n",
      "         1.0       0.71      0.75      0.73      2046\n",
      "         2.0       0.25      0.05      0.08       833\n",
      "         3.0       0.34      0.63      0.44       658\n",
      "\n",
      "    accuracy                           0.56      3537\n",
      "   macro avg       0.44      0.48      0.42      3537\n",
      "weighted avg       0.53      0.56      0.52      3537\n",
      "\n"
     ]
    },
    {
     "name": "stderr",
     "output_type": "stream",
     "text": [
      "\r",
      " 74%|███████▍  | 20/27 [01:16<00:28,  4.13s/it]"
     ]
    },
    {
     "name": "stdout",
     "output_type": "stream",
     "text": [
      "Index(['month', 'day', 'year', 'hour', 'minute', 'holiday', 'dayOfTheWeek',\n",
      "       'temperature', 'humidity', 'pressure', 'heavy intensity rain',\n",
      "       'light rain', 'broken clouds', 'scattered clouds',\n",
      "       'thunderstorm with rain', 'few clouds', 'thunderstorm', 'shower rain',\n",
      "       'heavy intensity rain', 'mist'],\n",
      "      dtype='object')\n",
      "For 20 features: \n",
      " Accuracy: 0.5604219767771169 \n",
      " Precision: 0.4355959249650343 \n",
      " Recall: 0.47778433966411055 \n",
      " F1 score: 0.42288464164527384\n",
      "              precision    recall  f1-score   support\n",
      "\n",
      "         1.0       0.72      0.74      0.73      2042\n",
      "         2.0       0.21      0.04      0.07       857\n",
      "         3.0       0.32      0.65      0.43       632\n",
      "\n",
      "    accuracy                           0.55      3531\n",
      "   macro avg       0.42      0.48      0.41      3531\n",
      "weighted avg       0.53      0.55      0.52      3531\n",
      "\n"
     ]
    },
    {
     "name": "stderr",
     "output_type": "stream",
     "text": [
      "\r",
      " 78%|███████▊  | 21/27 [01:20<00:26,  4.34s/it]"
     ]
    },
    {
     "name": "stdout",
     "output_type": "stream",
     "text": [
      "Index(['month', 'day', 'year', 'hour', 'minute', 'holiday', 'dayOfTheWeek',\n",
      "       'temperature', 'humidity', 'pressure', 'heavy intensity rain',\n",
      "       'light rain', 'broken clouds', 'scattered clouds',\n",
      "       'thunderstorm with rain', 'few clouds', 'thunderstorm', 'shower rain',\n",
      "       'heavy intensity rain', 'mist', 'scattered clouds'],\n",
      "      dtype='object')\n",
      "For 21 features: \n",
      " Accuracy: 0.5618865248226951 \n",
      " Precision: 0.44096118089399805 \n",
      " Recall: 0.48084621005781286 \n",
      " F1 score: 0.42530764578020736\n",
      "              precision    recall  f1-score   support\n",
      "\n",
      "         1.0       0.70      0.75      0.72      2017\n",
      "         2.0       0.31      0.18      0.23       872\n",
      "         3.0       0.37      0.48      0.42       636\n",
      "\n",
      "    accuracy                           0.56      3525\n",
      "   macro avg       0.46      0.47      0.46      3525\n",
      "weighted avg       0.54      0.56      0.55      3525\n",
      "\n"
     ]
    },
    {
     "name": "stderr",
     "output_type": "stream",
     "text": [
      "\r",
      " 81%|████████▏ | 22/27 [01:27<00:25,  5.08s/it]"
     ]
    },
    {
     "name": "stdout",
     "output_type": "stream",
     "text": [
      "Index(['month', 'day', 'year', 'hour', 'minute', 'holiday', 'dayOfTheWeek',\n",
      "       'temperature', 'humidity', 'pressure', 'heavy intensity rain',\n",
      "       'light rain', 'broken clouds', 'scattered clouds',\n",
      "       'thunderstorm with rain', 'few clouds', 'thunderstorm', 'shower rain',\n",
      "       'heavy intensity rain', 'mist', 'scattered clouds', 'very heavy rain'],\n",
      "      dtype='object')\n",
      "For 22 features: \n",
      " Accuracy: 0.5669082125603865 \n",
      " Precision: 0.46311327920221285 \n",
      " Recall: 0.4791138760542571 \n",
      " F1 score: 0.4463472793516651\n",
      "              precision    recall  f1-score   support\n",
      "\n",
      "         1.0       0.71      0.74      0.73      2024\n",
      "         2.0       0.32      0.04      0.07       853\n",
      "         3.0       0.32      0.67      0.44       642\n",
      "\n",
      "    accuracy                           0.56      3519\n",
      "   macro avg       0.45      0.48      0.41      3519\n",
      "weighted avg       0.55      0.56      0.51      3519\n",
      "\n"
     ]
    },
    {
     "name": "stderr",
     "output_type": "stream",
     "text": [
      "\r",
      " 85%|████████▌ | 23/27 [01:35<00:23,  5.83s/it]"
     ]
    },
    {
     "name": "stdout",
     "output_type": "stream",
     "text": [
      "Index(['month', 'day', 'year', 'hour', 'minute', 'holiday', 'dayOfTheWeek',\n",
      "       'temperature', 'humidity', 'pressure', 'heavy intensity rain',\n",
      "       'light rain', 'broken clouds', 'scattered clouds',\n",
      "       'thunderstorm with rain', 'few clouds', 'thunderstorm', 'shower rain',\n",
      "       'heavy intensity rain', 'mist', 'scattered clouds', 'very heavy rain',\n",
      "       'overcast clouds'],\n",
      "      dtype='object')\n",
      "For 23 features: \n",
      " Accuracy: 0.5627953316253914 \n",
      " Precision: 0.45158716509423835 \n",
      " Recall: 0.4765717794942312 \n",
      " F1 score: 0.43265018120108356\n",
      "              precision    recall  f1-score   support\n",
      "\n",
      "         1.0       0.71      0.73      0.72      2027\n",
      "         2.0       0.25      0.07      0.11       839\n",
      "         3.0       0.33      0.61      0.43       647\n",
      "\n",
      "    accuracy                           0.55      3513\n",
      "   macro avg       0.43      0.47      0.42      3513\n",
      "weighted avg       0.53      0.55      0.52      3513\n",
      "\n"
     ]
    },
    {
     "name": "stderr",
     "output_type": "stream",
     "text": [
      "\r",
      " 89%|████████▉ | 24/27 [01:42<00:18,  6.18s/it]"
     ]
    },
    {
     "name": "stdout",
     "output_type": "stream",
     "text": [
      "Index(['month', 'day', 'year', 'hour', 'minute', 'holiday', 'dayOfTheWeek',\n",
      "       'temperature', 'humidity', 'pressure', 'heavy intensity rain',\n",
      "       'light rain', 'broken clouds', 'scattered clouds',\n",
      "       'thunderstorm with rain', 'few clouds', 'thunderstorm', 'shower rain',\n",
      "       'heavy intensity rain', 'mist', 'scattered clouds', 'very heavy rain',\n",
      "       'overcast clouds', 'moderate rain'],\n",
      "      dtype='object')\n",
      "For 24 features: \n",
      " Accuracy: 0.565854006273168 \n",
      " Precision: 0.4539970882960516 \n",
      " Recall: 0.4759984442460796 \n",
      " F1 score: 0.43454967435379543\n",
      "              precision    recall  f1-score   support\n",
      "\n",
      "         1.0       0.71      0.76      0.73      2034\n",
      "         2.0       0.38      0.10      0.16       844\n",
      "         3.0       0.33      0.59      0.42       629\n",
      "\n",
      "    accuracy                           0.57      3507\n",
      "   macro avg       0.47      0.48      0.44      3507\n",
      "weighted avg       0.56      0.57      0.54      3507\n",
      "\n"
     ]
    },
    {
     "name": "stderr",
     "output_type": "stream",
     "text": [
      "\r",
      " 93%|█████████▎| 25/27 [01:51<00:13,  6.99s/it]"
     ]
    },
    {
     "name": "stdout",
     "output_type": "stream",
     "text": [
      "Index(['month', 'day', 'year', 'hour', 'minute', 'holiday', 'dayOfTheWeek',\n",
      "       'temperature', 'humidity', 'pressure', 'heavy intensity rain',\n",
      "       'light rain', 'broken clouds', 'scattered clouds',\n",
      "       'thunderstorm with rain', 'few clouds', 'thunderstorm', 'shower rain',\n",
      "       'heavy intensity rain', 'mist', 'scattered clouds', 'very heavy rain',\n",
      "       'overcast clouds', 'moderate rain', 'minute'],\n",
      "      dtype='object')\n",
      "For 25 features: \n",
      " Accuracy: 0.5669808626106827 \n",
      " Precision: 0.4624242482489552 \n",
      " Recall: 0.47813151105067875 \n",
      " F1 score: 0.44176707632751644\n",
      "              precision    recall  f1-score   support\n",
      "\n",
      "         1.0       0.69      0.77      0.73      1990\n",
      "         2.0       0.36      0.35      0.35       866\n",
      "         3.0       0.38      0.26      0.31       645\n",
      "\n",
      "    accuracy                           0.57      3501\n",
      "   macro avg       0.48      0.46      0.46      3501\n",
      "weighted avg       0.55      0.57      0.56      3501\n",
      "\n"
     ]
    },
    {
     "name": "stderr",
     "output_type": "stream",
     "text": [
      "\r",
      " 96%|█████████▋| 26/27 [01:58<00:07,  7.11s/it]"
     ]
    },
    {
     "name": "stdout",
     "output_type": "stream",
     "text": [
      "Index(['month', 'day', 'year', 'hour', 'minute', 'holiday', 'dayOfTheWeek',\n",
      "       'temperature', 'humidity', 'pressure', 'heavy intensity rain',\n",
      "       'light rain', 'broken clouds', 'scattered clouds',\n",
      "       'thunderstorm with rain', 'few clouds', 'thunderstorm', 'shower rain',\n",
      "       'heavy intensity rain', 'mist', 'scattered clouds', 'very heavy rain',\n",
      "       'overcast clouds', 'moderate rain', 'minute', 'haze'],\n",
      "      dtype='object')\n",
      "For 26 features: \n",
      " Accuracy: 0.5623032904148784 \n",
      " Precision: 0.45642457989344976 \n",
      " Recall: 0.47499747157845634 \n",
      " F1 score: 0.4418079525599455\n",
      "              precision    recall  f1-score   support\n",
      "\n",
      "         1.0       0.72      0.75      0.73      2034\n",
      "         2.0       0.33      0.09      0.14       878\n",
      "         3.0       0.31      0.61      0.41       583\n",
      "\n",
      "    accuracy                           0.56      3495\n",
      "   macro avg       0.45      0.48      0.43      3495\n",
      "weighted avg       0.55      0.56      0.53      3495\n",
      "\n"
     ]
    },
    {
     "name": "stderr",
     "output_type": "stream",
     "text": [
      "100%|██████████| 27/27 [02:04<00:00,  4.60s/it]"
     ]
    },
    {
     "name": "stdout",
     "output_type": "stream",
     "text": [
      "Index(['month', 'day', 'year', 'hour', 'minute', 'holiday', 'dayOfTheWeek',\n",
      "       'temperature', 'humidity', 'pressure', 'heavy intensity rain',\n",
      "       'light rain', 'broken clouds', 'scattered clouds',\n",
      "       'thunderstorm with rain', 'few clouds', 'thunderstorm', 'shower rain',\n",
      "       'heavy intensity rain', 'mist', 'scattered clouds', 'very heavy rain',\n",
      "       'overcast clouds', 'moderate rain', 'minute', 'haze', 'few clouds'],\n",
      "      dtype='object')\n",
      "For 27 features: \n",
      " Accuracy: 0.5601175121811407 \n",
      " Precision: 0.45509983899187767 \n",
      " Recall: 0.4749113355158412 \n",
      " F1 score: 0.42965586140676887\n",
      "              precision    recall  f1-score   support\n",
      "\n",
      "         1.0       0.72      0.75      0.73      2047\n",
      "         2.0       0.21      0.01      0.02       831\n",
      "         3.0       0.31      0.66      0.42       611\n",
      "\n",
      "    accuracy                           0.56      3489\n",
      "   macro avg       0.41      0.47      0.39      3489\n",
      "weighted avg       0.52      0.56      0.51      3489\n",
      "\n",
      "\n",
      " \n",
      "\n"
     ]
    },
    {
     "name": "stderr",
     "output_type": "stream",
     "text": [
      "\n"
     ]
    }
   ],
   "source": [
    "import warnings\n",
    "warnings.filterwarnings('ignore')\n",
    "\n",
    "hp_oHe = hp\n",
    "analizeDF(hp_oHe,orderOHE,28,n_loops=20)"
   ]
  },
  {
   "cell_type": "markdown",
   "id": "ccf0d5be",
   "metadata": {},
   "source": [
    "### Manual Encoding"
   ]
  },
  {
   "cell_type": "code",
   "execution_count": 25,
   "id": "0349cd9f",
   "metadata": {},
   "outputs": [
    {
     "data": {
      "text/plain": [
       "Unnamed: 0                        0\n",
       "month                             0\n",
       "day                               0\n",
       "year                              0\n",
       "hour                              0\n",
       "minute                            0\n",
       "holiday                           0\n",
       "day.1                             0\n",
       "Pandemic                          0\n",
       "temperature                       0\n",
       "humidity                          0\n",
       "pressure                          0\n",
       "report                            0\n",
       "Harry_Potter_and_the_Forbidden    0\n",
       "dtype: int64"
      ]
     },
     "execution_count": 25,
     "metadata": {},
     "output_type": "execute_result"
    }
   ],
   "source": [
    "hp_ME = pd.read_csv(\"harryPotterClean.csv\")\n",
    "hp_ME.drop(hp_ME.tail(17).index,inplace=True) \n",
    "hp_ME.isnull().sum()"
   ]
  },
  {
   "cell_type": "code",
   "execution_count": 27,
   "id": "93662671",
   "metadata": {},
   "outputs": [
    {
     "data": {
      "text/plain": [
       "array([2., 1., 3.])"
      ]
     },
     "execution_count": 27,
     "metadata": {},
     "output_type": "execute_result"
    }
   ],
   "source": [
    "#Replace times ending in 5 and also compacting the rest to have only 6 classes\n",
    "b=hp_ME.Harry_Potter_and_the_Forbidden.replace([\n",
    "5, 10, 11, 15, 20, 25, 30, 35, 40, 45,50.0,55.0,60.0,65.0,70.0,75.0,80.0,85.0,90.0,95.0,100.0,105.0,110.0,115.0,120.0,125.0,130.0,135.0,145.0,150.0,180.0], \n",
    "[1,1,  1,  1,  1,  1,  1,  2,  2,  2, 2,   2,   2,   3,   3,   3,   3,   3,   3,   3,   3,    3,    3,    3,     3,    3,   3,    3,     3,    3,    3])\n",
    "\n",
    "df3=pd.DataFrame(b)\n",
    "df3.rename(columns = {'Harry_Potter_and_the_Forbidden':'HP_Forbidden_clean'}, inplace = True)\n",
    "hp_bis3=pd.concat([hp_ME, df3], axis=1)\n",
    "hp3 = hp_bis3.drop('Harry_Potter_and_the_Forbidden',axis=1)\n",
    "hp3 = hp3.drop('Unnamed: 0',axis=1)\n",
    "hp3.rename(columns = {'day.1':'dayOfTheWeek'}, inplace = True)\n",
    "hp3 = hp3[hp3.HP_Forbidden_clean != 0] #delete rows with 0 min\n",
    "hp3.HP_Forbidden_clean.unique()\n"
   ]
  },
  {
   "cell_type": "code",
   "execution_count": 29,
   "id": "077db02f",
   "metadata": {},
   "outputs": [
    {
     "data": {
      "text/html": [
       "<div>\n",
       "<style scoped>\n",
       "    .dataframe tbody tr th:only-of-type {\n",
       "        vertical-align: middle;\n",
       "    }\n",
       "\n",
       "    .dataframe tbody tr th {\n",
       "        vertical-align: top;\n",
       "    }\n",
       "\n",
       "    .dataframe thead th {\n",
       "        text-align: right;\n",
       "    }\n",
       "</style>\n",
       "<table border=\"1\" class=\"dataframe\">\n",
       "  <thead>\n",
       "    <tr style=\"text-align: right;\">\n",
       "      <th></th>\n",
       "      <th>month</th>\n",
       "      <th>day</th>\n",
       "      <th>year</th>\n",
       "      <th>hour</th>\n",
       "      <th>minute</th>\n",
       "      <th>holiday</th>\n",
       "      <th>dayOfTheWeek</th>\n",
       "      <th>Pandemic</th>\n",
       "      <th>temperature</th>\n",
       "      <th>humidity</th>\n",
       "      <th>pressure</th>\n",
       "      <th>report</th>\n",
       "      <th>HP_Forbidden_clean</th>\n",
       "    </tr>\n",
       "  </thead>\n",
       "  <tbody>\n",
       "    <tr>\n",
       "      <th>0</th>\n",
       "      <td>0.636364</td>\n",
       "      <td>0.966667</td>\n",
       "      <td>0.0</td>\n",
       "      <td>0.608696</td>\n",
       "      <td>0.4</td>\n",
       "      <td>0.0</td>\n",
       "      <td>0.0</td>\n",
       "      <td>0.0</td>\n",
       "      <td>0.721791</td>\n",
       "      <td>0.740741</td>\n",
       "      <td>0.2</td>\n",
       "      <td>0.6250</td>\n",
       "      <td>2.0</td>\n",
       "    </tr>\n",
       "    <tr>\n",
       "      <th>1</th>\n",
       "      <td>0.636364</td>\n",
       "      <td>0.966667</td>\n",
       "      <td>0.0</td>\n",
       "      <td>0.608696</td>\n",
       "      <td>0.6</td>\n",
       "      <td>0.0</td>\n",
       "      <td>0.0</td>\n",
       "      <td>0.0</td>\n",
       "      <td>0.721791</td>\n",
       "      <td>0.740741</td>\n",
       "      <td>0.2</td>\n",
       "      <td>0.6250</td>\n",
       "      <td>2.0</td>\n",
       "    </tr>\n",
       "    <tr>\n",
       "      <th>2</th>\n",
       "      <td>0.636364</td>\n",
       "      <td>0.966667</td>\n",
       "      <td>0.0</td>\n",
       "      <td>0.608696</td>\n",
       "      <td>0.8</td>\n",
       "      <td>0.0</td>\n",
       "      <td>0.0</td>\n",
       "      <td>0.0</td>\n",
       "      <td>0.711940</td>\n",
       "      <td>0.679012</td>\n",
       "      <td>0.2</td>\n",
       "      <td>0.4375</td>\n",
       "      <td>2.0</td>\n",
       "    </tr>\n",
       "    <tr>\n",
       "      <th>3</th>\n",
       "      <td>0.636364</td>\n",
       "      <td>0.966667</td>\n",
       "      <td>0.0</td>\n",
       "      <td>0.608696</td>\n",
       "      <td>1.0</td>\n",
       "      <td>0.0</td>\n",
       "      <td>0.0</td>\n",
       "      <td>0.0</td>\n",
       "      <td>0.723881</td>\n",
       "      <td>0.679012</td>\n",
       "      <td>0.2</td>\n",
       "      <td>0.3750</td>\n",
       "      <td>2.0</td>\n",
       "    </tr>\n",
       "    <tr>\n",
       "      <th>4</th>\n",
       "      <td>0.636364</td>\n",
       "      <td>0.966667</td>\n",
       "      <td>0.0</td>\n",
       "      <td>0.652174</td>\n",
       "      <td>0.0</td>\n",
       "      <td>0.0</td>\n",
       "      <td>0.0</td>\n",
       "      <td>0.0</td>\n",
       "      <td>0.724179</td>\n",
       "      <td>0.679012</td>\n",
       "      <td>0.2</td>\n",
       "      <td>0.3750</td>\n",
       "      <td>1.0</td>\n",
       "    </tr>\n",
       "  </tbody>\n",
       "</table>\n",
       "</div>"
      ],
      "text/plain": [
       "      month       day  year      hour  minute  holiday  dayOfTheWeek  \\\n",
       "0  0.636364  0.966667   0.0  0.608696     0.4      0.0           0.0   \n",
       "1  0.636364  0.966667   0.0  0.608696     0.6      0.0           0.0   \n",
       "2  0.636364  0.966667   0.0  0.608696     0.8      0.0           0.0   \n",
       "3  0.636364  0.966667   0.0  0.608696     1.0      0.0           0.0   \n",
       "4  0.636364  0.966667   0.0  0.652174     0.0      0.0           0.0   \n",
       "\n",
       "   Pandemic  temperature  humidity  pressure  report  HP_Forbidden_clean  \n",
       "0       0.0     0.721791  0.740741       0.2  0.6250                 2.0  \n",
       "1       0.0     0.721791  0.740741       0.2  0.6250                 2.0  \n",
       "2       0.0     0.711940  0.679012       0.2  0.4375                 2.0  \n",
       "3       0.0     0.723881  0.679012       0.2  0.3750                 2.0  \n",
       "4       0.0     0.724179  0.679012       0.2  0.3750                 1.0  "
      ]
     },
     "execution_count": 29,
     "metadata": {},
     "output_type": "execute_result"
    }
   ],
   "source": [
    "hp3.head()"
   ]
  },
  {
   "cell_type": "code",
   "execution_count": 34,
   "id": "2abf74a3",
   "metadata": {},
   "outputs": [],
   "source": [
    "HP_ME = hp3\n",
    "\n",
    "pear_corr = ['temperature','holiday','day','month','pressure','dayOfTheWeek',\n",
    "            'report','minute','year','humidity','hour',\t'Pandemic']\n",
    "kend_corr = ['temperature','holiday','month','day','pressure','dayOfTheWeek','report','year',\n",
    "             'minute','humidity','hour','Pandemic']\n",
    "mutInf_class = ['month','day','year','hour','minute','holiday','dayOfTheWeek','Pandemic',\n",
    "                'temperature','humidity','pressure','report']\n",
    "mutInf_reg = ['month','day','year','hour','minute','holiday','dayOfTheWeek','Pandemic',\n",
    "                'temperature','humidity','pressure','report']\n",
    "mutInf_class2 = ['day','temperature','month','humidity','hour','dayOfTheWeek','pressure',\n",
    "                 'holiday','year','report','minute','Pandemic']\n",
    "varThre = ['month','day','year','hour','minute','holiday','dayOfTheWeek',\n",
    "           'temperature','humidity','pressure','report']\n",
    "mrmr = ['temperature','dayOfTheWeek','hour','holiday','humidity','day',\n",
    "        'year','month','pressure','minute','report']\n",
    "method = ['Pearson_correlation','Kendalls_correlation','mutualInformation_classification',\n",
    "          'mutualInformation_reggression','mutualInformation_classification2',\n",
    "          'variableThreshold','MRMR']\n",
    "\n",
    "order=[pear_corr,kend_corr,mutInf_class,mutInf_reg,mutInf_class2,varThre,mrmr]"
   ]
  },
  {
   "cell_type": "code",
   "execution_count": 35,
   "id": "4a6d332f",
   "metadata": {},
   "outputs": [
    {
     "name": "stderr",
     "output_type": "stream",
     "text": [
      "\r",
      "  0%|          | 0/12 [00:00<?, ?it/s]"
     ]
    },
    {
     "name": "stdout",
     "output_type": "stream",
     "text": [
      "------------------------- Analyzing method Pearson_correlation -------------------------\n",
      "The variable order is: \n",
      " ['temperature', 'holiday', 'day', 'month', 'pressure', 'dayOfTheWeek', 'report', 'minute', 'year', 'humidity', 'hour', 'Pandemic']\n"
     ]
    },
    {
     "name": "stderr",
     "output_type": "stream",
     "text": [
      "\r",
      "  8%|▊         | 1/12 [00:01<00:18,  1.66s/it]"
     ]
    },
    {
     "name": "stdout",
     "output_type": "stream",
     "text": [
      "Index(['temperature'], dtype='object')\n",
      "For 1 features: \n",
      " Accuracy: 0.45713074803983894 \n",
      " Precision: 0.3033649889156127 \n",
      " Recall: 0.3704077590608607 \n",
      " F1 score: 0.315164008852292\n",
      "              precision    recall  f1-score   support\n",
      "\n",
      "         1.0       0.47      0.08      0.14      2357\n",
      "         2.0       0.31      0.85      0.45      1529\n",
      "         3.0       0.16      0.02      0.04       833\n",
      "\n",
      "    accuracy                           0.32      4719\n",
      "   macro avg       0.31      0.32      0.21      4719\n",
      "weighted avg       0.36      0.32      0.22      4719\n",
      "\n"
     ]
    },
    {
     "name": "stderr",
     "output_type": "stream",
     "text": [
      "\r",
      " 17%|█▋        | 2/12 [00:03<00:16,  1.63s/it]"
     ]
    },
    {
     "name": "stdout",
     "output_type": "stream",
     "text": [
      "Index(['temperature', 'holiday'], dtype='object')\n",
      "For 2 features: \n",
      " Accuracy: 0.44396350519838745 \n",
      " Precision: 0.34356631390101705 \n",
      " Recall: 0.3894469361674252 \n",
      " F1 score: 0.3333080162183848\n",
      "              precision    recall  f1-score   support\n",
      "\n",
      "         1.0       0.52      0.87      0.65      2375\n",
      "         2.0       0.46      0.10      0.16      1488\n",
      "         3.0       0.40      0.19      0.26       850\n",
      "\n",
      "    accuracy                           0.51      4713\n",
      "   macro avg       0.46      0.39      0.36      4713\n",
      "weighted avg       0.48      0.51      0.43      4713\n",
      "\n"
     ]
    },
    {
     "name": "stderr",
     "output_type": "stream",
     "text": [
      "\r",
      " 25%|██▌       | 3/12 [00:04<00:14,  1.63s/it]"
     ]
    },
    {
     "name": "stdout",
     "output_type": "stream",
     "text": [
      "Index(['temperature', 'holiday', 'day'], dtype='object')\n",
      "For 3 features: \n",
      " Accuracy: 0.4355959209687699 \n",
      " Precision: 0.356888469036988 \n",
      " Recall: 0.3949127202870774 \n",
      " F1 score: 0.3435700143017818\n",
      "              precision    recall  f1-score   support\n",
      "\n",
      "         1.0       0.53      0.81      0.64      2392\n",
      "         2.0       0.43      0.08      0.14      1510\n",
      "         3.0       0.24      0.22      0.23       805\n",
      "\n",
      "    accuracy                           0.48      4707\n",
      "   macro avg       0.40      0.37      0.34      4707\n",
      "weighted avg       0.45      0.48      0.41      4707\n",
      "\n"
     ]
    },
    {
     "name": "stderr",
     "output_type": "stream",
     "text": [
      "\r",
      " 33%|███▎      | 4/12 [00:06<00:13,  1.64s/it]"
     ]
    },
    {
     "name": "stdout",
     "output_type": "stream",
     "text": [
      "Index(['temperature', 'holiday', 'day', 'month'], dtype='object')\n",
      "For 4 features: \n",
      " Accuracy: 0.43276962348436504 \n",
      " Precision: 0.3912473292951784 \n",
      " Recall: 0.40618305105499486 \n",
      " F1 score: 0.35610635496899\n",
      "              precision    recall  f1-score   support\n",
      "\n",
      "         1.0       0.56      0.69      0.62      2404\n",
      "         2.0       0.39      0.35      0.37      1461\n",
      "         3.0       0.40      0.20      0.26       836\n",
      "\n",
      "    accuracy                           0.50      4701\n",
      "   macro avg       0.45      0.41      0.42      4701\n",
      "weighted avg       0.48      0.50      0.48      4701\n",
      "\n"
     ]
    },
    {
     "name": "stderr",
     "output_type": "stream",
     "text": [
      "\r",
      " 42%|████▏     | 5/12 [00:08<00:11,  1.66s/it]"
     ]
    },
    {
     "name": "stdout",
     "output_type": "stream",
     "text": [
      "Index(['temperature', 'holiday', 'day', 'month', 'pressure'], dtype='object')\n",
      "For 5 features: \n",
      " Accuracy: 0.46277955271565496 \n",
      " Precision: 0.41141531036944284 \n",
      " Recall: 0.4102475609120046 \n",
      " F1 score: 0.37942589961143713\n",
      "              precision    recall  f1-score   support\n",
      "\n",
      "         1.0       0.61      0.54      0.58      2389\n",
      "         2.0       0.40      0.18      0.24      1509\n",
      "         3.0       0.23      0.55      0.32       797\n",
      "\n",
      "    accuracy                           0.43      4695\n",
      "   macro avg       0.41      0.42      0.38      4695\n",
      "weighted avg       0.48      0.43      0.43      4695\n",
      "\n"
     ]
    },
    {
     "name": "stderr",
     "output_type": "stream",
     "text": [
      "\r",
      " 50%|█████     | 6/12 [00:10<00:10,  1.70s/it]"
     ]
    },
    {
     "name": "stdout",
     "output_type": "stream",
     "text": [
      "Index(['temperature', 'holiday', 'day', 'month', 'pressure', 'dayOfTheWeek'], dtype='object')\n",
      "For 6 features: \n",
      " Accuracy: 0.46524845382810837 \n",
      " Precision: 0.40393097525442145 \n",
      " Recall: 0.4088041547389187 \n",
      " F1 score: 0.3703734122708757\n",
      "              precision    recall  f1-score   support\n",
      "\n",
      "         1.0       0.56      0.77      0.65      2419\n",
      "         2.0       0.38      0.06      0.10      1485\n",
      "         3.0       0.23      0.34      0.27       785\n",
      "\n",
      "    accuracy                           0.47      4689\n",
      "   macro avg       0.39      0.39      0.34      4689\n",
      "weighted avg       0.45      0.47      0.41      4689\n",
      "\n"
     ]
    },
    {
     "name": "stderr",
     "output_type": "stream",
     "text": [
      "\r",
      " 58%|█████▊    | 7/12 [00:11<00:08,  1.73s/it]"
     ]
    },
    {
     "name": "stdout",
     "output_type": "stream",
     "text": [
      "Index(['temperature', 'holiday', 'day', 'month', 'pressure', 'dayOfTheWeek',\n",
      "       'report'],\n",
      "      dtype='object')\n",
      "For 7 features: \n",
      " Accuracy: 0.45756993380311767 \n",
      " Precision: 0.40755531810354895 \n",
      " Recall: 0.40614240001464036 \n",
      " F1 score: 0.3633635630558518\n",
      "              precision    recall  f1-score   support\n",
      "\n",
      "         1.0       0.59      0.59      0.59      2376\n",
      "         2.0       0.00      0.00      0.00      1470\n",
      "         3.0       0.21      0.59      0.31       837\n",
      "\n",
      "    accuracy                           0.40      4683\n",
      "   macro avg       0.27      0.39      0.30      4683\n",
      "weighted avg       0.34      0.40      0.35      4683\n",
      "\n"
     ]
    },
    {
     "name": "stderr",
     "output_type": "stream",
     "text": [
      "\r",
      " 67%|██████▋   | 8/12 [00:13<00:07,  1.77s/it]"
     ]
    },
    {
     "name": "stdout",
     "output_type": "stream",
     "text": [
      "Index(['temperature', 'holiday', 'day', 'month', 'pressure', 'dayOfTheWeek',\n",
      "       'report', 'minute'],\n",
      "      dtype='object')\n",
      "For 8 features: \n",
      " Accuracy: 0.4557087876844131 \n",
      " Precision: 0.4190676226522949 \n",
      " Recall: 0.4104103478182915 \n",
      " F1 score: 0.36654082434067\n",
      "              precision    recall  f1-score   support\n",
      "\n",
      "         1.0       0.58      0.62      0.60      2353\n",
      "         2.0       0.40      0.47      0.43      1470\n",
      "         3.0       0.40      0.22      0.28       854\n",
      "\n",
      "    accuracy                           0.50      4677\n",
      "   macro avg       0.46      0.44      0.44      4677\n",
      "weighted avg       0.49      0.50      0.49      4677\n",
      "\n"
     ]
    },
    {
     "name": "stderr",
     "output_type": "stream",
     "text": [
      "\r",
      " 75%|███████▌  | 9/12 [00:15<00:05,  1.93s/it]"
     ]
    },
    {
     "name": "stdout",
     "output_type": "stream",
     "text": [
      "Index(['temperature', 'holiday', 'day', 'month', 'pressure', 'dayOfTheWeek',\n",
      "       'report', 'minute', 'year'],\n",
      "      dtype='object')\n",
      "For 9 features: \n",
      " Accuracy: 0.5608649111539286 \n",
      " Precision: 0.4971375426651967 \n",
      " Recall: 0.47520404655913273 \n",
      " F1 score: 0.47797910208954686\n",
      "              precision    recall  f1-score   support\n",
      "\n",
      "         1.0       0.63      0.75      0.68      2403\n",
      "         2.0       0.51      0.45      0.48      1485\n",
      "         3.0       0.37      0.23      0.29       783\n",
      "\n",
      "    accuracy                           0.57      4671\n",
      "   macro avg       0.50      0.48      0.48      4671\n",
      "weighted avg       0.55      0.57      0.55      4671\n",
      "\n"
     ]
    },
    {
     "name": "stderr",
     "output_type": "stream",
     "text": [
      "\r",
      " 83%|████████▎ | 10/12 [00:18<00:04,  2.03s/it]"
     ]
    },
    {
     "name": "stdout",
     "output_type": "stream",
     "text": [
      "Index(['temperature', 'holiday', 'day', 'month', 'pressure', 'dayOfTheWeek',\n",
      "       'report', 'minute', 'year', 'humidity'],\n",
      "      dtype='object')\n",
      "For 10 features: \n",
      " Accuracy: 0.5616398713826367 \n",
      " Precision: 0.49825152599559674 \n",
      " Recall: 0.47584433114371 \n",
      " F1 score: 0.4791336437977811\n",
      "              precision    recall  f1-score   support\n",
      "\n",
      "         1.0       0.63      0.75      0.68      2370\n",
      "         2.0       0.50      0.47      0.48      1470\n",
      "         3.0       0.38      0.21      0.27       825\n",
      "\n",
      "    accuracy                           0.56      4665\n",
      "   macro avg       0.50      0.48      0.48      4665\n",
      "weighted avg       0.54      0.56      0.55      4665\n",
      "\n"
     ]
    },
    {
     "name": "stderr",
     "output_type": "stream",
     "text": [
      "\r",
      " 92%|█████████▏| 11/12 [00:20<00:02,  2.12s/it]"
     ]
    },
    {
     "name": "stdout",
     "output_type": "stream",
     "text": [
      "Index(['temperature', 'holiday', 'day', 'month', 'pressure', 'dayOfTheWeek',\n",
      "       'report', 'minute', 'year', 'humidity', 'hour'],\n",
      "      dtype='object')\n",
      "For 11 features: \n",
      " Accuracy: 0.5578557630392789 \n",
      " Precision: 0.489092796329598 \n",
      " Recall: 0.47767811636379914 \n",
      " F1 score: 0.47924261538979684\n",
      "              precision    recall  f1-score   support\n",
      "\n",
      "         1.0       0.63      0.73      0.68      2337\n",
      "         2.0       0.57      0.38      0.45      1474\n",
      "         3.0       0.33      0.38      0.36       848\n",
      "\n",
      "    accuracy                           0.56      4659\n",
      "   macro avg       0.51      0.50      0.50      4659\n",
      "weighted avg       0.56      0.56      0.55      4659\n",
      "\n"
     ]
    },
    {
     "name": "stderr",
     "output_type": "stream",
     "text": [
      "100%|██████████| 12/12 [00:22<00:00,  1.90s/it]\n",
      "  0%|          | 0/12 [00:00<?, ?it/s]"
     ]
    },
    {
     "name": "stdout",
     "output_type": "stream",
     "text": [
      "Index(['temperature', 'holiday', 'day', 'month', 'pressure', 'dayOfTheWeek',\n",
      "       'report', 'minute', 'year', 'humidity', 'hour', 'Pandemic'],\n",
      "      dtype='object')\n",
      "For 12 features: \n",
      " Accuracy: 0.5528476251880508 \n",
      " Precision: 0.4872633677232859 \n",
      " Recall: 0.4761937810014259 \n",
      " F1 score: 0.4760811907622287\n",
      "              precision    recall  f1-score   support\n",
      "\n",
      "         1.0       0.64      0.72      0.68      2398\n",
      "         2.0       0.52      0.41      0.46      1437\n",
      "         3.0       0.30      0.30      0.30       818\n",
      "\n",
      "    accuracy                           0.55      4653\n",
      "   macro avg       0.49      0.48      0.48      4653\n",
      "weighted avg       0.54      0.55      0.54      4653\n",
      "\n",
      "\n",
      " \n",
      "\n",
      "------------------------- Analyzing method Kendalls_correlation -------------------------\n",
      "The variable order is: \n",
      " ['temperature', 'holiday', 'month', 'day', 'pressure', 'dayOfTheWeek', 'report', 'year', 'minute', 'humidity', 'hour', 'Pandemic']\n"
     ]
    },
    {
     "name": "stderr",
     "output_type": "stream",
     "text": [
      "\r",
      "  8%|▊         | 1/12 [00:01<00:16,  1.52s/it]"
     ]
    },
    {
     "name": "stdout",
     "output_type": "stream",
     "text": [
      "Index(['temperature'], dtype='object')\n",
      "For 1 features: \n",
      " Accuracy: 0.4531848504411448 \n",
      " Precision: 0.3088044662641858 \n",
      " Recall: 0.3642725218720949 \n",
      " F1 score: 0.3177946243743268\n",
      "              precision    recall  f1-score   support\n",
      "\n",
      "         1.0       0.53      0.88      0.66      2423\n",
      "         2.0       0.39      0.17      0.24      1424\n",
      "         3.0       0.00      0.00      0.00       800\n",
      "\n",
      "    accuracy                           0.51      4647\n",
      "   macro avg       0.31      0.35      0.30      4647\n",
      "weighted avg       0.40      0.51      0.42      4647\n",
      "\n"
     ]
    },
    {
     "name": "stderr",
     "output_type": "stream",
     "text": [
      "\r",
      " 17%|█▋        | 2/12 [00:03<00:15,  1.53s/it]"
     ]
    },
    {
     "name": "stdout",
     "output_type": "stream",
     "text": [
      "Index(['temperature', 'holiday'], dtype='object')\n",
      "For 2 features: \n",
      " Accuracy: 0.4468648998060763 \n",
      " Precision: 0.36872195343809266 \n",
      " Recall: 0.3942199988968095 \n",
      " F1 score: 0.34880236397515174\n",
      "              precision    recall  f1-score   support\n",
      "\n",
      "         1.0       0.55      0.71      0.62      2381\n",
      "         2.0       0.40      0.31      0.35      1446\n",
      "         3.0       0.37      0.19      0.25       814\n",
      "\n",
      "    accuracy                           0.49      4641\n",
      "   macro avg       0.44      0.40      0.41      4641\n",
      "weighted avg       0.47      0.49      0.47      4641\n",
      "\n"
     ]
    },
    {
     "name": "stderr",
     "output_type": "stream",
     "text": [
      "\r",
      " 25%|██▌       | 3/12 [00:04<00:13,  1.55s/it]"
     ]
    },
    {
     "name": "stdout",
     "output_type": "stream",
     "text": [
      "Index(['temperature', 'holiday', 'month'], dtype='object')\n",
      "For 3 features: \n",
      " Accuracy: 0.40722761596548007 \n",
      " Precision: 0.3697779949725708 \n",
      " Recall: 0.39233958522467 \n",
      " F1 score: 0.33534279660678284\n",
      "              precision    recall  f1-score   support\n",
      "\n",
      "         1.0       0.55      0.54      0.55      2364\n",
      "         2.0       0.00      0.00      0.00      1474\n",
      "         3.0       0.18      0.53      0.27       797\n",
      "\n",
      "    accuracy                           0.37      4635\n",
      "   macro avg       0.24      0.36      0.27      4635\n",
      "weighted avg       0.31      0.37      0.33      4635\n",
      "\n"
     ]
    },
    {
     "name": "stderr",
     "output_type": "stream",
     "text": [
      "\r",
      " 33%|███▎      | 4/12 [00:06<00:12,  1.57s/it]"
     ]
    },
    {
     "name": "stdout",
     "output_type": "stream",
     "text": [
      "Index(['temperature', 'holiday', 'month', 'day'], dtype='object')\n",
      "For 4 features: \n",
      " Accuracy: 0.38732987686325343 \n",
      " Precision: 0.3596274780803803 \n",
      " Recall: 0.3947447904732753 \n",
      " F1 score: 0.3257224733641494\n",
      "              precision    recall  f1-score   support\n",
      "\n",
      "         1.0       0.61      0.45      0.52      2353\n",
      "         2.0       0.00      0.00      0.00      1462\n",
      "         3.0       0.19      0.68      0.30       814\n",
      "\n",
      "    accuracy                           0.35      4629\n",
      "   macro avg       0.27      0.38      0.27      4629\n",
      "weighted avg       0.34      0.35      0.31      4629\n",
      "\n"
     ]
    },
    {
     "name": "stderr",
     "output_type": "stream",
     "text": [
      "\r",
      " 42%|████▏     | 5/12 [00:07<00:11,  1.60s/it]"
     ]
    },
    {
     "name": "stdout",
     "output_type": "stream",
     "text": [
      "Index(['temperature', 'holiday', 'month', 'day', 'pressure'], dtype='object')\n",
      "For 5 features: \n",
      " Accuracy: 0.45728963876270823 \n",
      " Precision: 0.3957809203655745 \n",
      " Recall: 0.4074154746363031 \n",
      " F1 score: 0.376062331808472\n",
      "              precision    recall  f1-score   support\n",
      "\n",
      "         1.0       0.56      0.70      0.62      2356\n",
      "         2.0       0.37      0.34      0.35      1407\n",
      "         3.0       0.41      0.19      0.26       860\n",
      "\n",
      "    accuracy                           0.49      4623\n",
      "   macro avg       0.45      0.41      0.41      4623\n",
      "weighted avg       0.47      0.49      0.47      4623\n",
      "\n"
     ]
    },
    {
     "name": "stderr",
     "output_type": "stream",
     "text": [
      "\r",
      " 50%|█████     | 6/12 [00:09<00:09,  1.62s/it]"
     ]
    },
    {
     "name": "stdout",
     "output_type": "stream",
     "text": [
      "Index(['temperature', 'holiday', 'month', 'day', 'pressure', 'dayOfTheWeek'], dtype='object')\n",
      "For 6 features: \n",
      " Accuracy: 0.4670890188434048 \n",
      " Precision: 0.40155362970546543 \n",
      " Recall: 0.4124016365656039 \n",
      " F1 score: 0.3759935153239134\n",
      "              precision    recall  f1-score   support\n",
      "\n",
      "         1.0       0.57      0.72      0.64      2347\n",
      "         2.0       0.43      0.02      0.04      1479\n",
      "         3.0       0.22      0.45      0.30       791\n",
      "\n",
      "    accuracy                           0.45      4617\n",
      "   macro avg       0.41      0.40      0.33      4617\n",
      "weighted avg       0.47      0.45      0.39      4617\n",
      "\n"
     ]
    },
    {
     "name": "stderr",
     "output_type": "stream",
     "text": [
      "\r",
      " 58%|█████▊    | 7/12 [00:11<00:08,  1.65s/it]"
     ]
    },
    {
     "name": "stdout",
     "output_type": "stream",
     "text": [
      "Index(['temperature', 'holiday', 'month', 'day', 'pressure', 'dayOfTheWeek',\n",
      "       'report'],\n",
      "      dtype='object')\n",
      "For 7 features: \n",
      " Accuracy: 0.47234873129473 \n",
      " Precision: 0.4202482912460889 \n",
      " Recall: 0.4147133453606306 \n",
      " F1 score: 0.3928214557650866\n",
      "              precision    recall  f1-score   support\n",
      "\n",
      "         1.0       0.56      0.79      0.66      2350\n",
      "         2.0       0.42      0.03      0.06      1454\n",
      "         3.0       0.26      0.37      0.31       807\n",
      "\n",
      "    accuracy                           0.48      4611\n",
      "   macro avg       0.41      0.40      0.34      4611\n",
      "weighted avg       0.46      0.48      0.41      4611\n",
      "\n"
     ]
    },
    {
     "name": "stderr",
     "output_type": "stream",
     "text": [
      "\r",
      " 67%|██████▋   | 8/12 [00:13<00:07,  1.79s/it]"
     ]
    },
    {
     "name": "stdout",
     "output_type": "stream",
     "text": [
      "Index(['temperature', 'holiday', 'month', 'day', 'pressure', 'dayOfTheWeek',\n",
      "       'report', 'year'],\n",
      "      dtype='object')\n",
      "For 8 features: \n",
      " Accuracy: 0.5663735070575462 \n",
      " Precision: 0.5004634786475101 \n",
      " Recall: 0.4780579551197295 \n",
      " F1 score: 0.4812337731496165\n",
      "              precision    recall  f1-score   support\n",
      "\n",
      "         1.0       0.64      0.75      0.69      2375\n",
      "         2.0       0.54      0.39      0.45      1458\n",
      "         3.0       0.33      0.33      0.33       772\n",
      "\n",
      "    accuracy                           0.57      4605\n",
      "   macro avg       0.50      0.49      0.49      4605\n",
      "weighted avg       0.56      0.57      0.55      4605\n",
      "\n"
     ]
    },
    {
     "name": "stderr",
     "output_type": "stream",
     "text": [
      "\r",
      " 75%|███████▌  | 9/12 [00:15<00:05,  1.90s/it]"
     ]
    },
    {
     "name": "stdout",
     "output_type": "stream",
     "text": [
      "Index(['temperature', 'holiday', 'month', 'day', 'pressure', 'dayOfTheWeek',\n",
      "       'report', 'year', 'minute'],\n",
      "      dtype='object')\n",
      "For 9 features: \n",
      " Accuracy: 0.564557512502718 \n",
      " Precision: 0.4998804512610856 \n",
      " Recall: 0.4773435850973352 \n",
      " F1 score: 0.47972431344653776\n",
      "              precision    recall  f1-score   support\n",
      "\n",
      "         1.0       0.63      0.76      0.69      2361\n",
      "         2.0       0.52      0.39      0.44      1449\n",
      "         3.0       0.37      0.30      0.33       789\n",
      "\n",
      "    accuracy                           0.56      4599\n",
      "   macro avg       0.50      0.48      0.49      4599\n",
      "weighted avg       0.55      0.56      0.55      4599\n",
      "\n"
     ]
    },
    {
     "name": "stderr",
     "output_type": "stream",
     "text": [
      "\r",
      " 83%|████████▎ | 10/12 [00:17<00:03,  1.98s/it]"
     ]
    },
    {
     "name": "stdout",
     "output_type": "stream",
     "text": [
      "Index(['temperature', 'holiday', 'month', 'day', 'pressure', 'dayOfTheWeek',\n",
      "       'report', 'year', 'minute', 'humidity'],\n",
      "      dtype='object')\n",
      "For 10 features: \n",
      " Accuracy: 0.5646091878946222 \n",
      " Precision: 0.5004144244195085 \n",
      " Recall: 0.48005871030445624 \n",
      " F1 score: 0.48278941368089284\n",
      "              precision    recall  f1-score   support\n",
      "\n",
      "         1.0       0.64      0.75      0.69      2394\n",
      "         2.0       0.50      0.45      0.47      1398\n",
      "         3.0       0.35      0.24      0.29       801\n",
      "\n",
      "    accuracy                           0.57      4593\n",
      "   macro avg       0.50      0.48      0.48      4593\n",
      "weighted avg       0.55      0.57      0.56      4593\n",
      "\n"
     ]
    },
    {
     "name": "stderr",
     "output_type": "stream",
     "text": [
      "\r",
      " 92%|█████████▏| 11/12 [00:19<00:02,  2.04s/it]"
     ]
    },
    {
     "name": "stdout",
     "output_type": "stream",
     "text": [
      "Index(['temperature', 'holiday', 'month', 'day', 'pressure', 'dayOfTheWeek',\n",
      "       'report', 'year', 'minute', 'humidity', 'hour'],\n",
      "      dtype='object')\n",
      "For 11 features: \n",
      " Accuracy: 0.5569653368214519 \n",
      " Precision: 0.49420736022037354 \n",
      " Recall: 0.48116345329943844 \n",
      " F1 score: 0.4787945913040837\n",
      "              precision    recall  f1-score   support\n",
      "\n",
      "         1.0       0.64      0.72      0.68      2311\n",
      "         2.0       0.59      0.28      0.38      1471\n",
      "         3.0       0.32      0.52      0.40       805\n",
      "\n",
      "    accuracy                           0.54      4587\n",
      "   macro avg       0.52      0.50      0.48      4587\n",
      "weighted avg       0.57      0.54      0.53      4587\n",
      "\n"
     ]
    },
    {
     "name": "stderr",
     "output_type": "stream",
     "text": [
      "100%|██████████| 12/12 [00:22<00:00,  1.83s/it]\n",
      "  0%|          | 0/12 [00:00<?, ?it/s]"
     ]
    },
    {
     "name": "stdout",
     "output_type": "stream",
     "text": [
      "Index(['temperature', 'holiday', 'month', 'day', 'pressure', 'dayOfTheWeek',\n",
      "       'report', 'year', 'minute', 'humidity', 'hour', 'Pandemic'],\n",
      "      dtype='object')\n",
      "For 12 features: \n",
      " Accuracy: 0.5549006767081424 \n",
      " Precision: 0.4898921696322759 \n",
      " Recall: 0.4787596593949906 \n",
      " F1 score: 0.4789628386428199\n",
      "              precision    recall  f1-score   support\n",
      "\n",
      "         1.0       0.65      0.72      0.69      2373\n",
      "         2.0       0.52      0.40      0.45      1390\n",
      "         3.0       0.32      0.34      0.33       818\n",
      "\n",
      "    accuracy                           0.56      4581\n",
      "   macro avg       0.50      0.49      0.49      4581\n",
      "weighted avg       0.55      0.56      0.55      4581\n",
      "\n",
      "\n",
      " \n",
      "\n",
      "------------------------- Analyzing method mutualInformation_classification -------------------------\n",
      "The variable order is: \n",
      " ['month', 'day', 'year', 'hour', 'minute', 'holiday', 'dayOfTheWeek', 'Pandemic', 'temperature', 'humidity', 'pressure', 'report']\n"
     ]
    },
    {
     "name": "stderr",
     "output_type": "stream",
     "text": [
      "\r",
      "  8%|▊         | 1/12 [00:01<00:15,  1.45s/it]"
     ]
    },
    {
     "name": "stdout",
     "output_type": "stream",
     "text": [
      "Index(['month'], dtype='object')\n",
      "For 1 features: \n",
      " Accuracy: 0.38146448087431695 \n",
      " Precision: 0.22674225841672094 \n",
      " Recall: 0.34143054089843633 \n",
      " F1 score: 0.2588579928484814\n",
      "              precision    recall  f1-score   support\n",
      "\n",
      "         1.0       0.00      0.00      0.00      2404\n",
      "         2.0       0.29      0.23      0.26      1383\n",
      "         3.0       0.15      0.68      0.25       788\n",
      "\n",
      "    accuracy                           0.19      4575\n",
      "   macro avg       0.15      0.30      0.17      4575\n",
      "weighted avg       0.11      0.19      0.12      4575\n",
      "\n"
     ]
    },
    {
     "name": "stderr",
     "output_type": "stream",
     "text": [
      "\r",
      " 17%|█▋        | 2/12 [00:02<00:14,  1.47s/it]"
     ]
    },
    {
     "name": "stdout",
     "output_type": "stream",
     "text": [
      "Index(['month', 'day'], dtype='object')\n",
      "For 2 features: \n",
      " Accuracy: 0.3025169621361348 \n",
      " Precision: 0.2667241668075615 \n",
      " Recall: 0.32963633810880155 \n",
      " F1 score: 0.2366869408890131\n",
      "              precision    recall  f1-score   support\n",
      "\n",
      "         1.0       0.79      0.17      0.27      2395\n",
      "         2.0       0.29      0.15      0.20      1416\n",
      "         3.0       0.18      0.79      0.29       758\n",
      "\n",
      "    accuracy                           0.27      4569\n",
      "   macro avg       0.42      0.37      0.26      4569\n",
      "weighted avg       0.53      0.27      0.26      4569\n",
      "\n"
     ]
    },
    {
     "name": "stderr",
     "output_type": "stream",
     "text": [
      "\r",
      " 25%|██▌       | 3/12 [00:04<00:13,  1.51s/it]"
     ]
    },
    {
     "name": "stdout",
     "output_type": "stream",
     "text": [
      "Index(['month', 'day', 'year'], dtype='object')\n",
      "For 3 features: \n",
      " Accuracy: 0.4505150120534736 \n",
      " Precision: 0.3286141297973591 \n",
      " Recall: 0.40094728242864647 \n",
      " F1 score: 0.33757494087833795\n",
      "              precision    recall  f1-score   support\n",
      "\n",
      "         1.0       0.60      0.77      0.68      2388\n",
      "         2.0       0.45      0.49      0.47      1386\n",
      "         3.0       0.00      0.00      0.00       789\n",
      "\n",
      "    accuracy                           0.55      4563\n",
      "   macro avg       0.35      0.42      0.38      4563\n",
      "weighted avg       0.45      0.55      0.50      4563\n",
      "\n"
     ]
    },
    {
     "name": "stderr",
     "output_type": "stream",
     "text": [
      "\r",
      " 33%|███▎      | 4/12 [00:06<00:12,  1.60s/it]"
     ]
    },
    {
     "name": "stdout",
     "output_type": "stream",
     "text": [
      "Index(['month', 'day', 'year', 'hour'], dtype='object')\n",
      "For 4 features: \n",
      " Accuracy: 0.5133421110379636 \n",
      " Precision: 0.3880315191366731 \n",
      " Recall: 0.4156128666139609 \n",
      " F1 score: 0.38975822375196423\n",
      "              precision    recall  f1-score   support\n",
      "\n",
      "         1.0       0.59      0.74      0.66      2292\n",
      "         2.0       0.49      0.40      0.44      1459\n",
      "         3.0       0.15      0.09      0.11       806\n",
      "\n",
      "    accuracy                           0.52      4557\n",
      "   macro avg       0.41      0.41      0.41      4557\n",
      "weighted avg       0.48      0.52      0.49      4557\n",
      "\n"
     ]
    },
    {
     "name": "stderr",
     "output_type": "stream",
     "text": [
      "\r",
      " 42%|████▏     | 5/12 [00:08<00:11,  1.69s/it]"
     ]
    },
    {
     "name": "stdout",
     "output_type": "stream",
     "text": [
      "Index(['month', 'day', 'year', 'hour', 'minute'], dtype='object')\n",
      "For 5 features: \n",
      " Accuracy: 0.5142166556800704 \n",
      " Precision: 0.44089961366605157 \n",
      " Recall: 0.4329189323930542 \n",
      " F1 score: 0.41384673537869426\n",
      "              precision    recall  f1-score   support\n",
      "\n",
      "         1.0       0.61      0.74      0.67      2329\n",
      "         2.0       0.51      0.10      0.17      1406\n",
      "         3.0       0.27      0.46      0.34       816\n",
      "\n",
      "    accuracy                           0.49      4551\n",
      "   macro avg       0.46      0.44      0.39      4551\n",
      "weighted avg       0.52      0.49      0.46      4551\n",
      "\n"
     ]
    },
    {
     "name": "stderr",
     "output_type": "stream",
     "text": [
      "\r",
      " 50%|█████     | 6/12 [00:09<00:10,  1.73s/it]"
     ]
    },
    {
     "name": "stdout",
     "output_type": "stream",
     "text": [
      "Index(['month', 'day', 'year', 'hour', 'minute', 'holiday'], dtype='object')\n",
      "For 6 features: \n",
      " Accuracy: 0.5293399339933993 \n",
      " Precision: 0.47377328400991775 \n",
      " Recall: 0.4571011399523296 \n",
      " F1 score: 0.4516413306053411\n",
      "              precision    recall  f1-score   support\n",
      "\n",
      "         1.0       0.64      0.71      0.67      2402\n",
      "         2.0       0.41      0.43      0.42      1384\n",
      "         3.0       0.38      0.21      0.27       759\n",
      "\n",
      "    accuracy                           0.54      4545\n",
      "   macro avg       0.47      0.45      0.45      4545\n",
      "weighted avg       0.52      0.54      0.53      4545\n",
      "\n"
     ]
    },
    {
     "name": "stderr",
     "output_type": "stream",
     "text": [
      "\r",
      " 58%|█████▊    | 7/12 [00:11<00:08,  1.77s/it]"
     ]
    },
    {
     "name": "stdout",
     "output_type": "stream",
     "text": [
      "Index(['month', 'day', 'year', 'hour', 'minute', 'holiday', 'dayOfTheWeek'], dtype='object')\n",
      "For 7 features: \n",
      " Accuracy: 0.5369244326944261 \n",
      " Precision: 0.47655179409997306 \n",
      " Recall: 0.45806031705598865 \n",
      " F1 score: 0.45402749261817754\n",
      "              precision    recall  f1-score   support\n",
      "\n",
      "         1.0       0.62      0.73      0.67      2324\n",
      "         2.0       0.47      0.39      0.43      1410\n",
      "         3.0       0.31      0.24      0.27       805\n",
      "\n",
      "    accuracy                           0.54      4539\n",
      "   macro avg       0.47      0.45      0.46      4539\n",
      "weighted avg       0.52      0.54      0.52      4539\n",
      "\n"
     ]
    },
    {
     "name": "stderr",
     "output_type": "stream",
     "text": [
      "\r",
      " 67%|██████▋   | 8/12 [00:13<00:07,  1.80s/it]"
     ]
    },
    {
     "name": "stdout",
     "output_type": "stream",
     "text": [
      "Index(['month', 'day', 'year', 'hour', 'minute', 'holiday', 'dayOfTheWeek',\n",
      "       'Pandemic'],\n",
      "      dtype='object')\n",
      "For 8 features: \n",
      " Accuracy: 0.5280719170527245 \n",
      " Precision: 0.4630060816569912 \n",
      " Recall: 0.45591892560517416 \n",
      " F1 score: 0.44455411339659423\n",
      "              precision    recall  f1-score   support\n",
      "\n",
      "         1.0       0.63      0.73      0.68      2383\n",
      "         2.0       0.42      0.42      0.42      1355\n",
      "         3.0       0.38      0.21      0.27       795\n",
      "\n",
      "    accuracy                           0.54      4533\n",
      "   macro avg       0.48      0.45      0.45      4533\n",
      "weighted avg       0.52      0.54      0.53      4533\n",
      "\n"
     ]
    },
    {
     "name": "stderr",
     "output_type": "stream",
     "text": [
      "\r",
      " 75%|███████▌  | 9/12 [00:15<00:05,  1.87s/it]"
     ]
    },
    {
     "name": "stdout",
     "output_type": "stream",
     "text": [
      "Index(['month', 'day', 'year', 'hour', 'minute', 'holiday', 'dayOfTheWeek',\n",
      "       'Pandemic', 'temperature'],\n",
      "      dtype='object')\n",
      "For 9 features: \n",
      " Accuracy: 0.5533355423017451 \n",
      " Precision: 0.48108207523066604 \n",
      " Recall: 0.46874357362089325 \n",
      " F1 score: 0.47055792092094334\n",
      "              precision    recall  f1-score   support\n",
      "\n",
      "         1.0       0.64      0.72      0.68      2357\n",
      "         2.0       0.49      0.37      0.42      1376\n",
      "         3.0       0.30      0.30      0.30       794\n",
      "\n",
      "    accuracy                           0.54      4527\n",
      "   macro avg       0.47      0.46      0.47      4527\n",
      "weighted avg       0.53      0.54      0.53      4527\n",
      "\n"
     ]
    },
    {
     "name": "stderr",
     "output_type": "stream",
     "text": [
      "\r",
      " 83%|████████▎ | 10/12 [00:17<00:03,  1.95s/it]"
     ]
    },
    {
     "name": "stdout",
     "output_type": "stream",
     "text": [
      "Index(['month', 'day', 'year', 'hour', 'minute', 'holiday', 'dayOfTheWeek',\n",
      "       'Pandemic', 'temperature', 'humidity'],\n",
      "      dtype='object')\n",
      "For 10 features: \n",
      " Accuracy: 0.5577969475779695 \n",
      " Precision: 0.4847898335355201 \n",
      " Recall: 0.47286454116567056 \n",
      " F1 score: 0.4748099180474066\n",
      "              precision    recall  f1-score   support\n",
      "\n",
      "         1.0       0.66      0.73      0.69      2387\n",
      "         2.0       0.43      0.47      0.45      1357\n",
      "         3.0       0.38      0.19      0.26       777\n",
      "\n",
      "    accuracy                           0.56      4521\n",
      "   macro avg       0.49      0.46      0.47      4521\n",
      "weighted avg       0.54      0.56      0.54      4521\n",
      "\n"
     ]
    },
    {
     "name": "stderr",
     "output_type": "stream",
     "text": [
      "\r",
      " 92%|█████████▏| 11/12 [00:20<00:02,  2.07s/it]"
     ]
    },
    {
     "name": "stdout",
     "output_type": "stream",
     "text": [
      "Index(['month', 'day', 'year', 'hour', 'minute', 'holiday', 'dayOfTheWeek',\n",
      "       'Pandemic', 'temperature', 'humidity', 'pressure'],\n",
      "      dtype='object')\n",
      "For 11 features: \n",
      " Accuracy: 0.5585382059800664 \n",
      " Precision: 0.4922644910033604 \n",
      " Recall: 0.48069949246435717 \n",
      " F1 score: 0.4811269150339806\n",
      "              precision    recall  f1-score   support\n",
      "\n",
      "         1.0       0.64      0.73      0.68      2293\n",
      "         2.0       0.52      0.40      0.45      1422\n",
      "         3.0       0.31      0.31      0.31       800\n",
      "\n",
      "    accuracy                           0.55      4515\n",
      "   macro avg       0.49      0.48      0.48      4515\n",
      "weighted avg       0.54      0.55      0.54      4515\n",
      "\n"
     ]
    },
    {
     "name": "stderr",
     "output_type": "stream",
     "text": [
      "100%|██████████| 12/12 [00:22<00:00,  1.86s/it]\n",
      "  0%|          | 0/12 [00:00<?, ?it/s]"
     ]
    },
    {
     "name": "stdout",
     "output_type": "stream",
     "text": [
      "Index(['month', 'day', 'year', 'hour', 'minute', 'holiday', 'dayOfTheWeek',\n",
      "       'Pandemic', 'temperature', 'humidity', 'pressure', 'report'],\n",
      "      dtype='object')\n",
      "For 12 features: \n",
      " Accuracy: 0.5541029053005101 \n",
      " Precision: 0.48811764864727375 \n",
      " Recall: 0.47743536125583813 \n",
      " F1 score: 0.47768392155746775\n",
      "              precision    recall  f1-score   support\n",
      "\n",
      "         1.0       0.65      0.74      0.69      2375\n",
      "         2.0       0.53      0.35      0.42      1384\n",
      "         3.0       0.28      0.34      0.31       750\n",
      "\n",
      "    accuracy                           0.55      4509\n",
      "   macro avg       0.49      0.48      0.47      4509\n",
      "weighted avg       0.55      0.55      0.55      4509\n",
      "\n",
      "\n",
      " \n",
      "\n",
      "------------------------- Analyzing method mutualInformation_reggression -------------------------\n",
      "The variable order is: \n",
      " ['month', 'day', 'year', 'hour', 'minute', 'holiday', 'dayOfTheWeek', 'Pandemic', 'temperature', 'humidity', 'pressure', 'report']\n"
     ]
    },
    {
     "name": "stderr",
     "output_type": "stream",
     "text": [
      "\r",
      "  8%|▊         | 1/12 [00:01<00:16,  1.49s/it]"
     ]
    },
    {
     "name": "stdout",
     "output_type": "stream",
     "text": [
      "Index(['month'], dtype='object')\n",
      "For 1 features: \n",
      " Accuracy: 0.3063402176326893 \n",
      " Precision: 0.2106793351653634 \n",
      " Recall: 0.3257460904973852 \n",
      " F1 score: 0.22570053511273452\n",
      "              precision    recall  f1-score   support\n",
      "\n",
      "         1.0       0.51      1.00      0.68      2297\n",
      "         2.0       0.00      0.00      0.00      1392\n",
      "         3.0       0.00      0.00      0.00       814\n",
      "\n",
      "    accuracy                           0.51      4503\n",
      "   macro avg       0.17      0.33      0.23      4503\n",
      "weighted avg       0.26      0.51      0.34      4503\n",
      "\n"
     ]
    },
    {
     "name": "stderr",
     "output_type": "stream",
     "text": [
      "\r",
      " 17%|█▋        | 2/12 [00:02<00:14,  1.49s/it]"
     ]
    },
    {
     "name": "stdout",
     "output_type": "stream",
     "text": [
      "Index(['month', 'day'], dtype='object')\n",
      "For 2 features: \n",
      " Accuracy: 0.3418167667333778 \n",
      " Precision: 0.2841668478851374 \n",
      " Recall: 0.33626962181254344 \n",
      " F1 score: 0.25821853047521603\n",
      "              precision    recall  f1-score   support\n",
      "\n",
      "         1.0       0.50      0.12      0.19      2346\n",
      "         2.0       0.00      0.00      0.00      1426\n",
      "         3.0       0.16      0.88      0.27       725\n",
      "\n",
      "    accuracy                           0.20      4497\n",
      "   macro avg       0.22      0.33      0.15      4497\n",
      "weighted avg       0.29      0.20      0.14      4497\n",
      "\n"
     ]
    },
    {
     "name": "stderr",
     "output_type": "stream",
     "text": [
      "\r",
      " 25%|██▌       | 3/12 [00:04<00:13,  1.50s/it]"
     ]
    },
    {
     "name": "stdout",
     "output_type": "stream",
     "text": [
      "Index(['month', 'day', 'year'], dtype='object')\n",
      "For 3 features: \n",
      " Accuracy: 0.4689490091293699 \n",
      " Precision: 0.3637974631143337 \n",
      " Recall: 0.4132484372716066 \n",
      " F1 score: 0.3639215447625065\n",
      "              precision    recall  f1-score   support\n",
      "\n",
      "         1.0       0.74      0.43      0.54      2345\n",
      "         2.0       0.36      0.84      0.50      1349\n",
      "         3.0       0.00      0.00      0.00       797\n",
      "\n",
      "    accuracy                           0.47      4491\n",
      "   macro avg       0.37      0.42      0.35      4491\n",
      "weighted avg       0.50      0.47      0.43      4491\n",
      "\n"
     ]
    },
    {
     "name": "stderr",
     "output_type": "stream",
     "text": [
      "\r",
      " 33%|███▎      | 4/12 [00:06<00:12,  1.60s/it]"
     ]
    },
    {
     "name": "stdout",
     "output_type": "stream",
     "text": [
      "Index(['month', 'day', 'year', 'hour'], dtype='object')\n",
      "For 4 features: \n",
      " Accuracy: 0.5268115942028986 \n",
      " Precision: 0.40494516634235384 \n",
      " Recall: 0.4272333920890147 \n",
      " F1 score: 0.40111565481561007\n",
      "              precision    recall  f1-score   support\n",
      "\n",
      "         1.0       0.61      0.77      0.68      2338\n",
      "         2.0       0.41      0.42      0.42      1363\n",
      "         3.0       0.20      0.03      0.05       784\n",
      "\n",
      "    accuracy                           0.53      4485\n",
      "   macro avg       0.41      0.41      0.38      4485\n",
      "weighted avg       0.48      0.53      0.49      4485\n",
      "\n"
     ]
    },
    {
     "name": "stderr",
     "output_type": "stream",
     "text": [
      "\r",
      " 42%|████▏     | 5/12 [00:08<00:11,  1.70s/it]"
     ]
    },
    {
     "name": "stdout",
     "output_type": "stream",
     "text": [
      "Index(['month', 'day', 'year', 'hour', 'minute'], dtype='object')\n",
      "For 5 features: \n",
      " Accuracy: 0.5165215449877205 \n",
      " Precision: 0.4326917473867075 \n",
      " Recall: 0.42466965727457495 \n",
      " F1 score: 0.4005067736402359\n",
      "              precision    recall  f1-score   support\n",
      "\n",
      "         1.0       0.59      0.73      0.66      2275\n",
      "         2.0       0.42      0.35      0.38      1386\n",
      "         3.0       0.27      0.17      0.20       818\n",
      "\n",
      "    accuracy                           0.51      4479\n",
      "   macro avg       0.43      0.42      0.41      4479\n",
      "weighted avg       0.48      0.51      0.49      4479\n",
      "\n"
     ]
    },
    {
     "name": "stderr",
     "output_type": "stream",
     "text": [
      "\r",
      " 50%|█████     | 6/12 [00:09<00:10,  1.74s/it]"
     ]
    },
    {
     "name": "stdout",
     "output_type": "stream",
     "text": [
      "Index(['month', 'day', 'year', 'hour', 'minute', 'holiday'], dtype='object')\n",
      "For 6 features: \n",
      " Accuracy: 0.5248267382070199 \n",
      " Precision: 0.4739719997227773 \n",
      " Recall: 0.46157637881057884 \n",
      " F1 score: 0.4497254795956212\n",
      "              precision    recall  f1-score   support\n",
      "\n",
      "         1.0       0.66      0.68      0.67      2345\n",
      "         2.0       0.50      0.38      0.43      1344\n",
      "         3.0       0.28      0.36      0.32       784\n",
      "\n",
      "    accuracy                           0.53      4473\n",
      "   macro avg       0.48      0.47      0.47      4473\n",
      "weighted avg       0.54      0.53      0.53      4473\n",
      "\n"
     ]
    },
    {
     "name": "stderr",
     "output_type": "stream",
     "text": [
      "\r",
      " 58%|█████▊    | 7/12 [00:11<00:08,  1.80s/it]"
     ]
    },
    {
     "name": "stdout",
     "output_type": "stream",
     "text": [
      "Index(['month', 'day', 'year', 'hour', 'minute', 'holiday', 'dayOfTheWeek'], dtype='object')\n",
      "For 7 features: \n",
      " Accuracy: 0.5332885605551825 \n",
      " Precision: 0.46623099129140005 \n",
      " Recall: 0.4549708624297454 \n",
      " F1 score: 0.4504304919018606\n",
      "              precision    recall  f1-score   support\n",
      "\n",
      "         1.0       0.63      0.72      0.68      2335\n",
      "         2.0       0.49      0.33      0.39      1359\n",
      "         3.0       0.27      0.32      0.30       773\n",
      "\n",
      "    accuracy                           0.53      4467\n",
      "   macro avg       0.47      0.46      0.46      4467\n",
      "weighted avg       0.53      0.53      0.52      4467\n",
      "\n"
     ]
    },
    {
     "name": "stderr",
     "output_type": "stream",
     "text": [
      "\r",
      " 67%|██████▋   | 8/12 [00:13<00:07,  1.84s/it]"
     ]
    },
    {
     "name": "stdout",
     "output_type": "stream",
     "text": [
      "Index(['month', 'day', 'year', 'hour', 'minute', 'holiday', 'dayOfTheWeek',\n",
      "       'Pandemic'],\n",
      "      dtype='object')\n",
      "For 8 features: \n",
      " Accuracy: 0.5337368303071061 \n",
      " Precision: 0.4698100303508664 \n",
      " Recall: 0.45821973268141225 \n",
      " F1 score: 0.4515814614047941\n",
      "              precision    recall  f1-score   support\n",
      "\n",
      "         1.0       0.61      0.72      0.66      2287\n",
      "         2.0       0.44      0.35      0.39      1398\n",
      "         3.0       0.40      0.34      0.36       776\n",
      "\n",
      "    accuracy                           0.54      4461\n",
      "   macro avg       0.48      0.47      0.47      4461\n",
      "weighted avg       0.52      0.54      0.53      4461\n",
      "\n"
     ]
    },
    {
     "name": "stderr",
     "output_type": "stream",
     "text": [
      "\r",
      " 75%|███████▌  | 9/12 [00:15<00:05,  1.89s/it]"
     ]
    },
    {
     "name": "stdout",
     "output_type": "stream",
     "text": [
      "Index(['month', 'day', 'year', 'hour', 'minute', 'holiday', 'dayOfTheWeek',\n",
      "       'Pandemic', 'temperature'],\n",
      "      dtype='object')\n",
      "For 9 features: \n",
      " Accuracy: 0.5505836139169472 \n",
      " Precision: 0.48188066677720864 \n",
      " Recall: 0.47140841892178925 \n",
      " F1 score: 0.47151440925493315\n",
      "              precision    recall  f1-score   support\n",
      "\n",
      "         1.0       0.65      0.74      0.69      2298\n",
      "         2.0       0.51      0.38      0.44      1367\n",
      "         3.0       0.31      0.32      0.31       790\n",
      "\n",
      "    accuracy                           0.55      4455\n",
      "   macro avg       0.49      0.48      0.48      4455\n",
      "weighted avg       0.55      0.55      0.54      4455\n",
      "\n"
     ]
    },
    {
     "name": "stderr",
     "output_type": "stream",
     "text": [
      "\r",
      " 83%|████████▎ | 10/12 [00:17<00:03,  1.96s/it]"
     ]
    },
    {
     "name": "stdout",
     "output_type": "stream",
     "text": [
      "Index(['month', 'day', 'year', 'hour', 'minute', 'holiday', 'dayOfTheWeek',\n",
      "       'Pandemic', 'temperature', 'humidity'],\n",
      "      dtype='object')\n",
      "For 10 features: \n",
      " Accuracy: 0.5580917060013486 \n",
      " Precision: 0.4867703137633678 \n",
      " Recall: 0.47443057589811777 \n",
      " F1 score: 0.47582836002249823\n",
      "              precision    recall  f1-score   support\n",
      "\n",
      "         1.0       0.64      0.74      0.69      2302\n",
      "         2.0       0.51      0.38      0.44      1347\n",
      "         3.0       0.30      0.29      0.30       800\n",
      "\n",
      "    accuracy                           0.55      4449\n",
      "   macro avg       0.48      0.47      0.47      4449\n",
      "weighted avg       0.54      0.55      0.54      4449\n",
      "\n"
     ]
    },
    {
     "name": "stderr",
     "output_type": "stream",
     "text": [
      "\r",
      " 92%|█████████▏| 11/12 [00:20<00:02,  2.01s/it]"
     ]
    },
    {
     "name": "stdout",
     "output_type": "stream",
     "text": [
      "Index(['month', 'day', 'year', 'hour', 'minute', 'holiday', 'dayOfTheWeek',\n",
      "       'Pandemic', 'temperature', 'humidity', 'pressure'],\n",
      "      dtype='object')\n",
      "For 11 features: \n",
      " Accuracy: 0.5598694575737114 \n",
      " Precision: 0.49162207568168664 \n",
      " Recall: 0.4800270651187701 \n",
      " F1 score: 0.47970555658416797\n",
      "              precision    recall  f1-score   support\n",
      "\n",
      "         1.0       0.64      0.72      0.68      2324\n",
      "         2.0       0.47      0.41      0.44      1320\n",
      "         3.0       0.30      0.25      0.27       799\n",
      "\n",
      "    accuracy                           0.55      4443\n",
      "   macro avg       0.47      0.46      0.46      4443\n",
      "weighted avg       0.53      0.55      0.54      4443\n",
      "\n"
     ]
    },
    {
     "name": "stderr",
     "output_type": "stream",
     "text": [
      "100%|██████████| 12/12 [00:22<00:00,  1.85s/it]\n",
      "  0%|          | 0/12 [00:00<?, ?it/s]"
     ]
    },
    {
     "name": "stdout",
     "output_type": "stream",
     "text": [
      "Index(['month', 'day', 'year', 'hour', 'minute', 'holiday', 'dayOfTheWeek',\n",
      "       'Pandemic', 'temperature', 'humidity', 'pressure', 'report'],\n",
      "      dtype='object')\n",
      "For 12 features: \n",
      " Accuracy: 0.5545413567725941 \n",
      " Precision: 0.4876469353710808 \n",
      " Recall: 0.47650127867113606 \n",
      " F1 score: 0.4762315308449006\n",
      "              precision    recall  f1-score   support\n",
      "\n",
      "         1.0       0.65      0.72      0.68      2328\n",
      "         2.0       0.44      0.44      0.44      1345\n",
      "         3.0       0.34      0.22      0.27       764\n",
      "\n",
      "    accuracy                           0.55      4437\n",
      "   macro avg       0.47      0.46      0.46      4437\n",
      "weighted avg       0.53      0.55      0.54      4437\n",
      "\n",
      "\n",
      " \n",
      "\n",
      "------------------------- Analyzing method mutualInformation_classification2 -------------------------\n",
      "The variable order is: \n",
      " ['day', 'temperature', 'month', 'humidity', 'hour', 'dayOfTheWeek', 'pressure', 'holiday', 'year', 'report', 'minute', 'Pandemic']\n"
     ]
    },
    {
     "name": "stderr",
     "output_type": "stream",
     "text": [
      "\r",
      "  8%|▊         | 1/12 [00:01<00:15,  1.41s/it]"
     ]
    },
    {
     "name": "stdout",
     "output_type": "stream",
     "text": [
      "Index(['day'], dtype='object')\n",
      "For 1 features: \n",
      " Accuracy: 0.3685962536673437 \n",
      " Precision: 0.2462792418523852 \n",
      " Recall: 0.33851085660820907 \n",
      " F1 score: 0.25989978018184173\n",
      "              precision    recall  f1-score   support\n",
      "\n",
      "         1.0       0.53      0.81      0.64      2327\n",
      "         2.0       0.31      0.21      0.25      1281\n",
      "         3.0       0.00      0.00      0.00       823\n",
      "\n",
      "    accuracy                           0.49      4431\n",
      "   macro avg       0.28      0.34      0.30      4431\n",
      "weighted avg       0.37      0.49      0.41      4431\n",
      "\n"
     ]
    },
    {
     "name": "stderr",
     "output_type": "stream",
     "text": [
      "\r",
      " 17%|█▋        | 2/12 [00:02<00:14,  1.43s/it]"
     ]
    },
    {
     "name": "stdout",
     "output_type": "stream",
     "text": [
      "Index(['day', 'temperature'], dtype='object')\n",
      "For 2 features: \n",
      " Accuracy: 0.45046327683615817 \n",
      " Precision: 0.3135925978217381 \n",
      " Recall: 0.3657224004495111 \n",
      " F1 score: 0.3120260505112348\n",
      "              precision    recall  f1-score   support\n",
      "\n",
      "         1.0       0.54      0.90      0.67      2351\n",
      "         2.0       0.35      0.05      0.09      1367\n",
      "         3.0       0.15      0.06      0.08       707\n",
      "\n",
      "    accuracy                           0.50      4425\n",
      "   macro avg       0.34      0.34      0.28      4425\n",
      "weighted avg       0.42      0.50      0.40      4425\n",
      "\n"
     ]
    },
    {
     "name": "stderr",
     "output_type": "stream",
     "text": [
      "\r",
      " 25%|██▌       | 3/12 [00:04<00:13,  1.44s/it]"
     ]
    },
    {
     "name": "stdout",
     "output_type": "stream",
     "text": [
      "Index(['day', 'temperature', 'month'], dtype='object')\n",
      "For 3 features: \n",
      " Accuracy: 0.4511314777098891 \n",
      " Precision: 0.3075938704383454 \n",
      " Recall: 0.3702552692897715 \n",
      " F1 score: 0.31038742872298525\n",
      "              precision    recall  f1-score   support\n",
      "\n",
      "         1.0       0.63      0.42      0.50      2302\n",
      "         2.0       0.00      0.00      0.00      1338\n",
      "         3.0       0.19      0.71      0.30       779\n",
      "\n",
      "    accuracy                           0.34      4419\n",
      "   macro avg       0.27      0.38      0.27      4419\n",
      "weighted avg       0.36      0.34      0.31      4419\n",
      "\n"
     ]
    },
    {
     "name": "stderr",
     "output_type": "stream",
     "text": [
      "\r",
      " 33%|███▎      | 4/12 [00:05<00:11,  1.46s/it]"
     ]
    },
    {
     "name": "stdout",
     "output_type": "stream",
     "text": [
      "Index(['day', 'temperature', 'month', 'humidity'], dtype='object')\n",
      "For 4 features: \n",
      " Accuracy: 0.46880806707455247 \n",
      " Precision: 0.374787650728 \n",
      " Recall: 0.379252397509589 \n",
      " F1 score: 0.33215923553055277\n",
      "              precision    recall  f1-score   support\n",
      "\n",
      "         1.0       0.69      0.53      0.60      2321\n",
      "         2.0       0.37      0.72      0.49      1315\n",
      "         3.0       0.04      0.00      0.01       777\n",
      "\n",
      "    accuracy                           0.49      4413\n",
      "   macro avg       0.37      0.42      0.36      4413\n",
      "weighted avg       0.48      0.49      0.46      4413\n",
      "\n"
     ]
    },
    {
     "name": "stderr",
     "output_type": "stream",
     "text": [
      "\r",
      " 42%|████▏     | 5/12 [00:07<00:11,  1.58s/it]"
     ]
    },
    {
     "name": "stdout",
     "output_type": "stream",
     "text": [
      "Index(['day', 'temperature', 'month', 'humidity', 'hour'], dtype='object')\n",
      "For 5 features: \n",
      " Accuracy: 0.4804742455184933 \n",
      " Precision: 0.3632476986119854 \n",
      " Recall: 0.40958759428547065 \n",
      " F1 score: 0.3619573142633688\n",
      "              precision    recall  f1-score   support\n",
      "\n",
      "         1.0       0.62      0.68      0.65      2352\n",
      "         2.0       0.00      0.00      0.00      1310\n",
      "         3.0       0.23      0.54      0.32       745\n",
      "\n",
      "    accuracy                           0.46      4407\n",
      "   macro avg       0.28      0.41      0.32      4407\n",
      "weighted avg       0.37      0.46      0.40      4407\n",
      "\n"
     ]
    },
    {
     "name": "stderr",
     "output_type": "stream",
     "text": [
      "\r",
      " 50%|█████     | 6/12 [00:09<00:09,  1.66s/it]"
     ]
    },
    {
     "name": "stdout",
     "output_type": "stream",
     "text": [
      "Index(['day', 'temperature', 'month', 'humidity', 'hour', 'dayOfTheWeek'], dtype='object')\n",
      "For 6 features: \n",
      " Accuracy: 0.47302885707793685 \n",
      " Precision: 0.39291444200043085 \n",
      " Recall: 0.40909163418543554 \n",
      " F1 score: 0.36203404783932314\n",
      "              precision    recall  f1-score   support\n",
      "\n",
      "         1.0       0.62      0.69      0.65      2296\n",
      "         2.0       0.26      0.09      0.14      1292\n",
      "         3.0       0.26      0.44      0.33       813\n",
      "\n",
      "    accuracy                           0.47      4401\n",
      "   macro avg       0.38      0.41      0.37      4401\n",
      "weighted avg       0.45      0.47      0.44      4401\n",
      "\n"
     ]
    },
    {
     "name": "stderr",
     "output_type": "stream",
     "text": [
      "\r",
      " 58%|█████▊    | 7/12 [00:11<00:08,  1.73s/it]"
     ]
    },
    {
     "name": "stdout",
     "output_type": "stream",
     "text": [
      "Index(['day', 'temperature', 'month', 'humidity', 'hour', 'dayOfTheWeek',\n",
      "       'pressure'],\n",
      "      dtype='object')\n",
      "For 7 features: \n",
      " Accuracy: 0.48353811149032994 \n",
      " Precision: 0.3847240286657028 \n",
      " Recall: 0.40503814366223734 \n",
      " F1 score: 0.38174894204123316\n",
      "              precision    recall  f1-score   support\n",
      "\n",
      "         1.0       0.63      0.69      0.66      2339\n",
      "         2.0       0.29      0.14      0.19      1286\n",
      "         3.0       0.22      0.34      0.27       770\n",
      "\n",
      "    accuracy                           0.47      4395\n",
      "   macro avg       0.38      0.39      0.37      4395\n",
      "weighted avg       0.46      0.47      0.45      4395\n",
      "\n"
     ]
    },
    {
     "name": "stderr",
     "output_type": "stream",
     "text": [
      "\r",
      " 67%|██████▋   | 8/12 [00:13<00:07,  1.79s/it]"
     ]
    },
    {
     "name": "stdout",
     "output_type": "stream",
     "text": [
      "Index(['day', 'temperature', 'month', 'humidity', 'hour', 'dayOfTheWeek',\n",
      "       'pressure', 'holiday'],\n",
      "      dtype='object')\n",
      "For 8 features: \n",
      " Accuracy: 0.48028024606971975 \n",
      " Precision: 0.4343263369029901 \n",
      " Recall: 0.4296930935491764 \n",
      " F1 score: 0.38391225979633126\n",
      "              precision    recall  f1-score   support\n",
      "\n",
      "         1.0       0.62      0.65      0.63      2305\n",
      "         2.0       0.36      0.42      0.39      1300\n",
      "         3.0       0.38      0.20      0.26       784\n",
      "\n",
      "    accuracy                           0.50      4389\n",
      "   macro avg       0.45      0.42      0.43      4389\n",
      "weighted avg       0.50      0.50      0.49      4389\n",
      "\n"
     ]
    },
    {
     "name": "stderr",
     "output_type": "stream",
     "text": [
      "\r",
      " 75%|███████▌  | 9/12 [00:15<00:05,  1.85s/it]"
     ]
    },
    {
     "name": "stdout",
     "output_type": "stream",
     "text": [
      "Index(['day', 'temperature', 'month', 'humidity', 'hour', 'dayOfTheWeek',\n",
      "       'pressure', 'holiday', 'year'],\n",
      "      dtype='object')\n",
      "For 9 features: \n",
      " Accuracy: 0.5561829796942733 \n",
      " Precision: 0.48870115824516763 \n",
      " Recall: 0.4779875333009812 \n",
      " F1 score: 0.4757057227184275\n",
      "              precision    recall  f1-score   support\n",
      "\n",
      "         1.0       0.66      0.75      0.70      2295\n",
      "         2.0       0.43      0.44      0.44      1260\n",
      "         3.0       0.35      0.21      0.26       828\n",
      "\n",
      "    accuracy                           0.56      4383\n",
      "   macro avg       0.48      0.46      0.46      4383\n",
      "weighted avg       0.53      0.56      0.54      4383\n",
      "\n"
     ]
    },
    {
     "name": "stderr",
     "output_type": "stream",
     "text": [
      "\r",
      " 83%|████████▎ | 10/12 [00:17<00:03,  1.91s/it]"
     ]
    },
    {
     "name": "stdout",
     "output_type": "stream",
     "text": [
      "Index(['day', 'temperature', 'month', 'humidity', 'hour', 'dayOfTheWeek',\n",
      "       'pressure', 'holiday', 'year', 'report'],\n",
      "      dtype='object')\n",
      "For 10 features: \n",
      " Accuracy: 0.5507082476582134 \n",
      " Precision: 0.48511405084545783 \n",
      " Recall: 0.47530127666763483 \n",
      " F1 score: 0.4685030545479337\n",
      "              precision    recall  f1-score   support\n",
      "\n",
      "         1.0       0.66      0.74      0.70      2298\n",
      "         2.0       0.45      0.45      0.45      1306\n",
      "         3.0       0.31      0.20      0.25       773\n",
      "\n",
      "    accuracy                           0.56      4377\n",
      "   macro avg       0.47      0.46      0.46      4377\n",
      "weighted avg       0.54      0.56      0.54      4377\n",
      "\n"
     ]
    },
    {
     "name": "stderr",
     "output_type": "stream",
     "text": [
      "\r",
      " 92%|█████████▏| 11/12 [00:19<00:01,  1.96s/it]"
     ]
    },
    {
     "name": "stdout",
     "output_type": "stream",
     "text": [
      "Index(['day', 'temperature', 'month', 'humidity', 'hour', 'dayOfTheWeek',\n",
      "       'pressure', 'holiday', 'year', 'report', 'minute'],\n",
      "      dtype='object')\n",
      "For 11 features: \n",
      " Accuracy: 0.5524136353237246 \n",
      " Precision: 0.48223701888849235 \n",
      " Recall: 0.47326543511751723 \n",
      " F1 score: 0.4726970141812785\n",
      "              precision    recall  f1-score   support\n",
      "\n",
      "         1.0       0.65      0.74      0.69      2266\n",
      "         2.0       0.49      0.41      0.45      1317\n",
      "         3.0       0.32      0.26      0.29       788\n",
      "\n",
      "    accuracy                           0.55      4371\n",
      "   macro avg       0.48      0.47      0.47      4371\n",
      "weighted avg       0.54      0.55      0.54      4371\n",
      "\n"
     ]
    },
    {
     "name": "stderr",
     "output_type": "stream",
     "text": [
      "100%|██████████| 12/12 [00:21<00:00,  1.78s/it]\n",
      "  0%|          | 0/12 [00:00<?, ?it/s]"
     ]
    },
    {
     "name": "stdout",
     "output_type": "stream",
     "text": [
      "Index(['day', 'temperature', 'month', 'humidity', 'hour', 'dayOfTheWeek',\n",
      "       'pressure', 'holiday', 'year', 'report', 'minute', 'Pandemic'],\n",
      "      dtype='object')\n",
      "For 12 features: \n",
      " Accuracy: 0.5499770904925544 \n",
      " Precision: 0.481138626361443 \n",
      " Recall: 0.4709280847070696 \n",
      " F1 score: 0.4688715220439763\n",
      "              precision    recall  f1-score   support\n",
      "\n",
      "         1.0       0.66      0.74      0.70      2306\n",
      "         2.0       0.50      0.30      0.38      1271\n",
      "         3.0       0.33      0.41      0.37       788\n",
      "\n",
      "    accuracy                           0.56      4365\n",
      "   macro avg       0.50      0.49      0.48      4365\n",
      "weighted avg       0.55      0.56      0.54      4365\n",
      "\n",
      "\n",
      " \n",
      "\n",
      "------------------------- Analyzing method variableThreshold -------------------------\n",
      "The variable order is: \n",
      " ['month', 'day', 'year', 'hour', 'minute', 'holiday', 'dayOfTheWeek', 'temperature', 'humidity', 'pressure', 'report']\n"
     ]
    },
    {
     "name": "stderr",
     "output_type": "stream",
     "text": [
      "\r",
      "  8%|▊         | 1/12 [00:01<00:15,  1.40s/it]"
     ]
    },
    {
     "name": "stdout",
     "output_type": "stream",
     "text": [
      "Index(['month'], dtype='object')\n",
      "For 1 features: \n",
      " Accuracy: 0.35646937370956644 \n",
      " Precision: 0.23629925126040274 \n",
      " Recall: 0.3390780176134219 \n",
      " F1 score: 0.2560097021748539\n",
      "              precision    recall  f1-score   support\n",
      "\n",
      "         1.0       0.54      0.77      0.64      2275\n",
      "         2.0       0.00      0.00      0.00      1284\n",
      "         3.0       0.24      0.33      0.28       800\n",
      "\n",
      "    accuracy                           0.46      4359\n",
      "   macro avg       0.26      0.37      0.30      4359\n",
      "weighted avg       0.33      0.46      0.38      4359\n",
      "\n"
     ]
    },
    {
     "name": "stderr",
     "output_type": "stream",
     "text": [
      "\r",
      " 17%|█▋        | 2/12 [00:02<00:14,  1.42s/it]"
     ]
    },
    {
     "name": "stdout",
     "output_type": "stream",
     "text": [
      "Index(['month', 'day'], dtype='object')\n",
      "For 2 features: \n",
      " Accuracy: 0.3600505398575695 \n",
      " Precision: 0.27567024242889726 \n",
      " Recall: 0.3369860316173427 \n",
      " F1 score: 0.2638906636837923\n",
      "              precision    recall  f1-score   support\n",
      "\n",
      "         1.0       0.50      0.25      0.33      2297\n",
      "         2.0       0.27      0.18      0.22      1280\n",
      "         3.0       0.16      0.50      0.25       776\n",
      "\n",
      "    accuracy                           0.27      4353\n",
      "   macro avg       0.31      0.31      0.27      4353\n",
      "weighted avg       0.37      0.27      0.28      4353\n",
      "\n"
     ]
    },
    {
     "name": "stderr",
     "output_type": "stream",
     "text": [
      "\r",
      " 25%|██▌       | 3/12 [00:04<00:12,  1.44s/it]"
     ]
    },
    {
     "name": "stdout",
     "output_type": "stream",
     "text": [
      "Index(['month', 'day', 'year'], dtype='object')\n",
      "For 3 features: \n",
      " Accuracy: 0.41409017713365537 \n",
      " Precision: 0.3643691115195351 \n",
      " Recall: 0.38725476602609593 \n",
      " F1 score: 0.34012323115870285\n",
      "              precision    recall  f1-score   support\n",
      "\n",
      "         1.0       0.63      0.65      0.64      2312\n",
      "         2.0       0.56      0.00      0.01      1253\n",
      "         3.0       0.21      0.53      0.30       782\n",
      "\n",
      "    accuracy                           0.44      4347\n",
      "   macro avg       0.47      0.39      0.32      4347\n",
      "weighted avg       0.53      0.44      0.40      4347\n",
      "\n"
     ]
    },
    {
     "name": "stderr",
     "output_type": "stream",
     "text": [
      "\r",
      " 33%|███▎      | 4/12 [00:06<00:12,  1.56s/it]"
     ]
    },
    {
     "name": "stdout",
     "output_type": "stream",
     "text": [
      "Index(['month', 'day', 'year', 'hour'], dtype='object')\n",
      "For 4 features: \n",
      " Accuracy: 0.5142133149043999 \n",
      " Precision: 0.4184637514027135 \n",
      " Recall: 0.42012000634774577 \n",
      " F1 score: 0.40547531301593015\n",
      "              precision    recall  f1-score   support\n",
      "\n",
      "         1.0       0.66      0.66      0.66      2314\n",
      "         2.0       0.43      0.51      0.47      1279\n",
      "         3.0       0.18      0.13      0.16       748\n",
      "\n",
      "    accuracy                           0.52      4341\n",
      "   macro avg       0.43      0.43      0.43      4341\n",
      "weighted avg       0.51      0.52      0.52      4341\n",
      "\n"
     ]
    },
    {
     "name": "stderr",
     "output_type": "stream",
     "text": [
      "\r",
      " 42%|████▏     | 5/12 [00:07<00:11,  1.61s/it]"
     ]
    },
    {
     "name": "stdout",
     "output_type": "stream",
     "text": [
      "Index(['month', 'day', 'year', 'hour', 'minute'], dtype='object')\n",
      "For 5 features: \n",
      " Accuracy: 0.5146943483275663 \n",
      " Precision: 0.41296861563066384 \n",
      " Recall: 0.4164143461717133 \n",
      " F1 score: 0.3978083888757385\n",
      "              precision    recall  f1-score   support\n",
      "\n",
      "         1.0       0.61      0.76      0.68      2299\n",
      "         2.0       0.44      0.20      0.27      1289\n",
      "         3.0       0.25      0.29      0.27       747\n",
      "\n",
      "    accuracy                           0.51      4335\n",
      "   macro avg       0.43      0.42      0.41      4335\n",
      "weighted avg       0.50      0.51      0.49      4335\n",
      "\n"
     ]
    },
    {
     "name": "stderr",
     "output_type": "stream",
     "text": [
      "\r",
      " 50%|█████     | 6/12 [00:09<00:09,  1.65s/it]"
     ]
    },
    {
     "name": "stdout",
     "output_type": "stream",
     "text": [
      "Index(['month', 'day', 'year', 'hour', 'minute', 'holiday'], dtype='object')\n",
      "For 6 features: \n",
      " Accuracy: 0.5176599676599677 \n",
      " Precision: 0.4479891441456171 \n",
      " Recall: 0.4468085025643414 \n",
      " F1 score: 0.4315578099623547\n",
      "              precision    recall  f1-score   support\n",
      "\n",
      "         1.0       0.63      0.69      0.66      2277\n",
      "         2.0       0.08      0.00      0.00      1289\n",
      "         3.0       0.26      0.63      0.37       763\n",
      "\n",
      "    accuracy                           0.47      4329\n",
      "   macro avg       0.32      0.44      0.34      4329\n",
      "weighted avg       0.40      0.47      0.41      4329\n",
      "\n"
     ]
    },
    {
     "name": "stderr",
     "output_type": "stream",
     "text": [
      "\r",
      " 58%|█████▊    | 7/12 [00:11<00:08,  1.69s/it]"
     ]
    },
    {
     "name": "stdout",
     "output_type": "stream",
     "text": [
      "Index(['month', 'day', 'year', 'hour', 'minute', 'holiday', 'dayOfTheWeek'], dtype='object')\n",
      "For 7 features: \n",
      " Accuracy: 0.5230395558639833 \n",
      " Precision: 0.4531148208636435 \n",
      " Recall: 0.4515699674496093 \n",
      " F1 score: 0.4277547341914299\n",
      "              precision    recall  f1-score   support\n",
      "\n",
      "         1.0       0.64      0.73      0.68      2322\n",
      "         2.0       0.45      0.26      0.33      1210\n",
      "         3.0       0.30      0.38      0.34       791\n",
      "\n",
      "    accuracy                           0.53      4323\n",
      "   macro avg       0.47      0.46      0.45      4323\n",
      "weighted avg       0.53      0.53      0.52      4323\n",
      "\n"
     ]
    },
    {
     "name": "stderr",
     "output_type": "stream",
     "text": [
      "\r",
      " 67%|██████▋   | 8/12 [00:13<00:07,  1.76s/it]"
     ]
    },
    {
     "name": "stdout",
     "output_type": "stream",
     "text": [
      "Index(['month', 'day', 'year', 'hour', 'minute', 'holiday', 'dayOfTheWeek',\n",
      "       'temperature'],\n",
      "      dtype='object')\n",
      "For 8 features: \n",
      " Accuracy: 0.5529186935371786 \n",
      " Precision: 0.47906614152322086 \n",
      " Recall: 0.4657812482019106 \n",
      " F1 score: 0.46562325880104427\n",
      "              precision    recall  f1-score   support\n",
      "\n",
      "         1.0       0.65      0.74      0.69      2317\n",
      "         2.0       0.46      0.32      0.38      1207\n",
      "         3.0       0.31      0.32      0.32       793\n",
      "\n",
      "    accuracy                           0.55      4317\n",
      "   macro avg       0.47      0.46      0.46      4317\n",
      "weighted avg       0.53      0.55      0.54      4317\n",
      "\n"
     ]
    },
    {
     "name": "stderr",
     "output_type": "stream",
     "text": [
      "\r",
      " 75%|███████▌  | 9/12 [00:15<00:05,  1.87s/it]"
     ]
    },
    {
     "name": "stdout",
     "output_type": "stream",
     "text": [
      "Index(['month', 'day', 'year', 'hour', 'minute', 'holiday', 'dayOfTheWeek',\n",
      "       'temperature', 'humidity'],\n",
      "      dtype='object')\n",
      "For 9 features: \n",
      " Accuracy: 0.5540941776849919 \n",
      " Precision: 0.4848042165687845 \n",
      " Recall: 0.4745718130106118 \n",
      " F1 score: 0.47270575999559256\n",
      "              precision    recall  f1-score   support\n",
      "\n",
      "         1.0       0.65      0.74      0.70      2275\n",
      "         2.0       0.45      0.40      0.42      1261\n",
      "         3.0       0.32      0.25      0.28       775\n",
      "\n",
      "    accuracy                           0.55      4311\n",
      "   macro avg       0.47      0.46      0.47      4311\n",
      "weighted avg       0.53      0.55      0.54      4311\n",
      "\n"
     ]
    },
    {
     "name": "stderr",
     "output_type": "stream",
     "text": [
      "\r",
      " 83%|████████▎ | 10/12 [00:17<00:03,  1.91s/it]"
     ]
    },
    {
     "name": "stdout",
     "output_type": "stream",
     "text": [
      "Index(['month', 'day', 'year', 'hour', 'minute', 'holiday', 'dayOfTheWeek',\n",
      "       'temperature', 'humidity', 'pressure'],\n",
      "      dtype='object')\n",
      "For 10 features: \n",
      " Accuracy: 0.5563879210220674 \n",
      " Precision: 0.482962879380748 \n",
      " Recall: 0.47285392667223186 \n",
      " F1 score: 0.4720682178013262\n",
      "              precision    recall  f1-score   support\n",
      "\n",
      "         1.0       0.67      0.74      0.70      2296\n",
      "         2.0       0.48      0.40      0.44      1258\n",
      "         3.0       0.30      0.28      0.29       751\n",
      "\n",
      "    accuracy                           0.56      4305\n",
      "   macro avg       0.49      0.48      0.48      4305\n",
      "weighted avg       0.55      0.56      0.56      4305\n",
      "\n"
     ]
    },
    {
     "name": "stderr",
     "output_type": "stream",
     "text": [
      "\r",
      " 92%|█████████▏| 11/12 [00:19<00:01,  1.94s/it]"
     ]
    },
    {
     "name": "stdout",
     "output_type": "stream",
     "text": [
      "Index(['month', 'day', 'year', 'hour', 'minute', 'holiday', 'dayOfTheWeek',\n",
      "       'temperature', 'humidity', 'pressure', 'report'],\n",
      "      dtype='object')\n",
      "For 11 features: \n",
      " Accuracy: 0.5547801814375436 \n",
      " Precision: 0.480478923842467 \n",
      " Recall: 0.47139327190902897 \n",
      " F1 score: 0.47137716386325074\n",
      "              precision    recall  f1-score   support\n",
      "\n",
      "         1.0       0.67      0.73      0.70      2263\n",
      "         2.0       0.53      0.34      0.41      1292\n",
      "         3.0       0.32      0.43      0.37       744\n",
      "\n",
      "    accuracy                           0.56      4299\n",
      "   macro avg       0.51      0.50      0.49      4299\n",
      "weighted avg       0.57      0.56      0.56      4299\n",
      "\n"
     ]
    },
    {
     "name": "stderr",
     "output_type": "stream",
     "text": [
      "100%|██████████| 12/12 [00:21<00:00,  1.78s/it]\n",
      "  0%|          | 0/12 [00:00<?, ?it/s]"
     ]
    },
    {
     "name": "stdout",
     "output_type": "stream",
     "text": [
      "Index(['month', 'day', 'year', 'hour', 'minute', 'holiday', 'dayOfTheWeek',\n",
      "       'temperature', 'humidity', 'pressure', 'report'],\n",
      "      dtype='object')\n",
      "For 12 features: \n",
      " Accuracy: 0.5544374563242488 \n",
      " Precision: 0.4843220267223239 \n",
      " Recall: 0.4748478200155509 \n",
      " F1 score: 0.47395486325615177\n",
      "              precision    recall  f1-score   support\n",
      "\n",
      "         1.0       0.67      0.72      0.69      2324\n",
      "         2.0       0.54      0.33      0.41      1216\n",
      "         3.0       0.31      0.42      0.35       753\n",
      "\n",
      "    accuracy                           0.56      4293\n",
      "   macro avg       0.50      0.49      0.48      4293\n",
      "weighted avg       0.57      0.56      0.55      4293\n",
      "\n",
      "\n",
      " \n",
      "\n",
      "------------------------- Analyzing method MRMR -------------------------\n",
      "The variable order is: \n",
      " ['temperature', 'dayOfTheWeek', 'hour', 'holiday', 'humidity', 'day', 'year', 'month', 'pressure', 'minute', 'report']\n"
     ]
    },
    {
     "name": "stderr",
     "output_type": "stream",
     "text": [
      "\r",
      "  8%|▊         | 1/12 [00:01<00:15,  1.37s/it]"
     ]
    },
    {
     "name": "stdout",
     "output_type": "stream",
     "text": [
      "Index(['temperature'], dtype='object')\n",
      "For 1 features: \n",
      " Accuracy: 0.42930954047119196 \n",
      " Precision: 0.2647821641376218 \n",
      " Recall: 0.3531645222028793 \n",
      " F1 score: 0.28307930283612165\n",
      "              precision    recall  f1-score   support\n",
      "\n",
      "         1.0       0.58      0.70      0.63      2281\n",
      "         2.0       0.35      0.43      0.39      1243\n",
      "         3.0       0.00      0.00      0.00       763\n",
      "\n",
      "    accuracy                           0.50      4287\n",
      "   macro avg       0.31      0.38      0.34      4287\n",
      "weighted avg       0.41      0.50      0.45      4287\n",
      "\n"
     ]
    },
    {
     "name": "stderr",
     "output_type": "stream",
     "text": [
      "\r",
      " 17%|█▋        | 2/12 [00:02<00:13,  1.39s/it]"
     ]
    },
    {
     "name": "stdout",
     "output_type": "stream",
     "text": [
      "Index(['temperature', 'dayOfTheWeek'], dtype='object')\n",
      "For 2 features: \n",
      " Accuracy: 0.4424783928988554 \n",
      " Precision: 0.3098557498274752 \n",
      " Recall: 0.36822476393585957 \n",
      " F1 score: 0.3133988699566281\n",
      "              precision    recall  f1-score   support\n",
      "\n",
      "         1.0       0.69      0.33      0.44      2262\n",
      "         2.0       0.35      0.34      0.35      1278\n",
      "         3.0       0.18      0.48      0.26       741\n",
      "\n",
      "    accuracy                           0.36      4281\n",
      "   macro avg       0.41      0.38      0.35      4281\n",
      "weighted avg       0.50      0.36      0.38      4281\n",
      "\n"
     ]
    },
    {
     "name": "stderr",
     "output_type": "stream",
     "text": [
      "\r",
      " 25%|██▌       | 3/12 [00:04<00:13,  1.49s/it]"
     ]
    },
    {
     "name": "stdout",
     "output_type": "stream",
     "text": [
      "Index(['temperature', 'dayOfTheWeek', 'hour'], dtype='object')\n",
      "For 3 features: \n",
      " Accuracy: 0.47123976608187135 \n",
      " Precision: 0.3497861069189698 \n",
      " Recall: 0.3996991492546768 \n",
      " F1 score: 0.3498712445505762\n",
      "              precision    recall  f1-score   support\n",
      "\n",
      "         1.0       0.61      0.66      0.63      2289\n",
      "         2.0       0.36      0.23      0.28      1240\n",
      "         3.0       0.23      0.30      0.26       746\n",
      "\n",
      "    accuracy                           0.48      4275\n",
      "   macro avg       0.40      0.40      0.39      4275\n",
      "weighted avg       0.47      0.48      0.47      4275\n",
      "\n"
     ]
    },
    {
     "name": "stderr",
     "output_type": "stream",
     "text": [
      "\r",
      " 33%|███▎      | 4/12 [00:05<00:12,  1.54s/it]"
     ]
    },
    {
     "name": "stdout",
     "output_type": "stream",
     "text": [
      "Index(['temperature', 'dayOfTheWeek', 'hour', 'holiday'], dtype='object')\n",
      "For 4 features: \n",
      " Accuracy: 0.4613961115015226 \n",
      " Precision: 0.3534717879662664 \n",
      " Recall: 0.4194570513781674 \n",
      " F1 score: 0.3565485927722171\n",
      "              precision    recall  f1-score   support\n",
      "\n",
      "         1.0       0.60      0.65      0.63      2269\n",
      "         2.0       0.00      0.00      0.00      1235\n",
      "         3.0       0.26      0.62      0.36       765\n",
      "\n",
      "    accuracy                           0.46      4269\n",
      "   macro avg       0.29      0.42      0.33      4269\n",
      "weighted avg       0.37      0.46      0.40      4269\n",
      "\n"
     ]
    },
    {
     "name": "stderr",
     "output_type": "stream",
     "text": [
      "\r",
      " 42%|████▏     | 5/12 [00:07<00:11,  1.59s/it]"
     ]
    },
    {
     "name": "stdout",
     "output_type": "stream",
     "text": [
      "Index(['temperature', 'dayOfTheWeek', 'hour', 'holiday', 'humidity'], dtype='object')\n",
      "For 5 features: \n",
      " Accuracy: 0.458972554539057 \n",
      " Precision: 0.35065718166946325 \n",
      " Recall: 0.41855599542872357 \n",
      " F1 score: 0.35275651544682735\n",
      "              precision    recall  f1-score   support\n",
      "\n",
      "         1.0       0.61      0.63      0.62      2207\n",
      "         2.0       0.00      0.00      0.00      1283\n",
      "         3.0       0.24      0.61      0.35       773\n",
      "\n",
      "    accuracy                           0.44      4263\n",
      "   macro avg       0.28      0.41      0.32      4263\n",
      "weighted avg       0.36      0.44      0.38      4263\n",
      "\n"
     ]
    },
    {
     "name": "stderr",
     "output_type": "stream",
     "text": [
      "\r",
      " 50%|█████     | 6/12 [00:09<00:09,  1.64s/it]"
     ]
    },
    {
     "name": "stdout",
     "output_type": "stream",
     "text": [
      "Index(['temperature', 'dayOfTheWeek', 'hour', 'holiday', 'humidity', 'day'], dtype='object')\n",
      "For 6 features: \n",
      " Accuracy: 0.47334977683814894 \n",
      " Precision: 0.35849518965355714 \n",
      " Recall: 0.4304141476384244 \n",
      " F1 score: 0.3605829805209175\n",
      "              precision    recall  f1-score   support\n",
      "\n",
      "         1.0       0.61      0.66      0.63      2246\n",
      "         2.0       0.00      0.00      0.00      1250\n",
      "         3.0       0.25      0.59      0.35       761\n",
      "\n",
      "    accuracy                           0.45      4257\n",
      "   macro avg       0.29      0.42      0.33      4257\n",
      "weighted avg       0.37      0.45      0.40      4257\n",
      "\n"
     ]
    },
    {
     "name": "stderr",
     "output_type": "stream",
     "text": [
      "\r",
      " 58%|█████▊    | 7/12 [00:11<00:08,  1.73s/it]"
     ]
    },
    {
     "name": "stdout",
     "output_type": "stream",
     "text": [
      "Index(['temperature', 'dayOfTheWeek', 'hour', 'holiday', 'humidity', 'day',\n",
      "       'year'],\n",
      "      dtype='object')\n",
      "For 7 features: \n",
      " Accuracy: 0.466807809927076 \n",
      " Precision: 0.39251274777421746 \n",
      " Recall: 0.42978711571357237 \n",
      " F1 score: 0.3554257060432194\n",
      "              precision    recall  f1-score   support\n",
      "\n",
      "         1.0       0.62      0.67      0.64      2244\n",
      "         2.0       0.47      0.02      0.04      1230\n",
      "         3.0       0.27      0.61      0.37       777\n",
      "\n",
      "    accuracy                           0.47      4251\n",
      "   macro avg       0.45      0.43      0.35      4251\n",
      "weighted avg       0.51      0.47      0.42      4251\n",
      "\n"
     ]
    },
    {
     "name": "stderr",
     "output_type": "stream",
     "text": [
      "\r",
      " 67%|██████▋   | 8/12 [00:13<00:07,  1.78s/it]"
     ]
    },
    {
     "name": "stdout",
     "output_type": "stream",
     "text": [
      "Index(['temperature', 'dayOfTheWeek', 'hour', 'holiday', 'humidity', 'day',\n",
      "       'year', 'month'],\n",
      "      dtype='object')\n",
      "For 8 features: \n",
      " Accuracy: 0.5605771495877503 \n",
      " Precision: 0.4938161405185898 \n",
      " Recall: 0.4820009604517369 \n",
      " F1 score: 0.4796150747006766\n",
      "              precision    recall  f1-score   support\n",
      "\n",
      "         1.0       0.66      0.74      0.70      2263\n",
      "         2.0       0.49      0.36      0.41      1250\n",
      "         3.0       0.28      0.30      0.29       732\n",
      "\n",
      "    accuracy                           0.55      4245\n",
      "   macro avg       0.47      0.47      0.47      4245\n",
      "weighted avg       0.54      0.55      0.54      4245\n",
      "\n"
     ]
    },
    {
     "name": "stderr",
     "output_type": "stream",
     "text": [
      "\r",
      " 75%|███████▌  | 9/12 [00:15<00:05,  1.82s/it]"
     ]
    },
    {
     "name": "stdout",
     "output_type": "stream",
     "text": [
      "Index(['temperature', 'dayOfTheWeek', 'hour', 'holiday', 'humidity', 'day',\n",
      "       'year', 'month', 'pressure'],\n",
      "      dtype='object')\n",
      "For 9 features: \n",
      " Accuracy: 0.5580207596131163 \n",
      " Precision: 0.48851887542091993 \n",
      " Recall: 0.47640857470629067 \n",
      " F1 score: 0.47422686368726535\n",
      "              precision    recall  f1-score   support\n",
      "\n",
      "         1.0       0.67      0.75      0.71      2243\n",
      "         2.0       0.52      0.33      0.41      1233\n",
      "         3.0       0.32      0.39      0.35       763\n",
      "\n",
      "    accuracy                           0.56      4239\n",
      "   macro avg       0.50      0.49      0.49      4239\n",
      "weighted avg       0.56      0.56      0.55      4239\n",
      "\n"
     ]
    },
    {
     "name": "stderr",
     "output_type": "stream",
     "text": [
      "\r",
      " 83%|████████▎ | 10/12 [00:17<00:03,  1.87s/it]"
     ]
    },
    {
     "name": "stdout",
     "output_type": "stream",
     "text": [
      "Index(['temperature', 'dayOfTheWeek', 'hour', 'holiday', 'humidity', 'day',\n",
      "       'year', 'month', 'pressure', 'minute'],\n",
      "      dtype='object')\n",
      "For 10 features: \n",
      " Accuracy: 0.56202456886369 \n",
      " Precision: 0.49143791440848966 \n",
      " Recall: 0.4806048329720324 \n",
      " F1 score: 0.4783854559367139\n",
      "              precision    recall  f1-score   support\n",
      "\n",
      "         1.0       0.68      0.74      0.71      2281\n",
      "         2.0       0.47      0.42      0.44      1202\n",
      "         3.0       0.31      0.27      0.29       750\n",
      "\n",
      "    accuracy                           0.57      4233\n",
      "   macro avg       0.48      0.48      0.48      4233\n",
      "weighted avg       0.55      0.57      0.56      4233\n",
      "\n"
     ]
    },
    {
     "name": "stderr",
     "output_type": "stream",
     "text": [
      "\r",
      " 92%|█████████▏| 11/12 [00:19<00:01,  1.90s/it]"
     ]
    },
    {
     "name": "stdout",
     "output_type": "stream",
     "text": [
      "Index(['temperature', 'dayOfTheWeek', 'hour', 'holiday', 'humidity', 'day',\n",
      "       'year', 'month', 'pressure', 'minute', 'report'],\n",
      "      dtype='object')\n",
      "For 11 features: \n",
      " Accuracy: 0.5589070262597587 \n",
      " Precision: 0.48638662034096203 \n",
      " Recall: 0.47470837642555896 \n",
      " F1 score: 0.47416255338053587\n",
      "              precision    recall  f1-score   support\n",
      "\n",
      "         1.0       0.68      0.73      0.71      2264\n",
      "         2.0       0.44      0.46      0.45      1209\n",
      "         3.0       0.30      0.23      0.26       754\n",
      "\n",
      "    accuracy                           0.56      4227\n",
      "   macro avg       0.48      0.47      0.47      4227\n",
      "weighted avg       0.55      0.56      0.55      4227\n",
      "\n"
     ]
    },
    {
     "name": "stderr",
     "output_type": "stream",
     "text": [
      "100%|██████████| 12/12 [00:21<00:00,  1.76s/it]"
     ]
    },
    {
     "name": "stdout",
     "output_type": "stream",
     "text": [
      "Index(['temperature', 'dayOfTheWeek', 'hour', 'holiday', 'humidity', 'day',\n",
      "       'year', 'month', 'pressure', 'minute', 'report'],\n",
      "      dtype='object')\n",
      "For 12 features: \n",
      " Accuracy: 0.5589433783463634 \n",
      " Precision: 0.4914859415180935 \n",
      " Recall: 0.4786012041308916 \n",
      " F1 score: 0.4757588650842991\n",
      "              precision    recall  f1-score   support\n",
      "\n",
      "         1.0       0.65      0.75      0.70      2228\n",
      "         2.0       0.43      0.43      0.43      1224\n",
      "         3.0       0.34      0.20      0.25       769\n",
      "\n",
      "    accuracy                           0.55      4221\n",
      "   macro avg       0.47      0.46      0.46      4221\n",
      "weighted avg       0.53      0.55      0.54      4221\n",
      "\n",
      "\n",
      " \n",
      "\n"
     ]
    },
    {
     "name": "stderr",
     "output_type": "stream",
     "text": [
      "\n"
     ]
    }
   ],
   "source": [
    "analizeDF(HP_ME,order,13,n_loops=20)"
   ]
  },
  {
   "cell_type": "markdown",
   "id": "5530e74d",
   "metadata": {},
   "source": [
    "### Ordinal Encoding"
   ]
  },
  {
   "cell_type": "code",
   "execution_count": 37,
   "id": "88481293",
   "metadata": {},
   "outputs": [
    {
     "data": {
      "text/plain": [
       "month                             0\n",
       "day                               0\n",
       "year                              0\n",
       "hour                              0\n",
       "minute                            0\n",
       "holiday                           0\n",
       "dayOfTheWeek                      0\n",
       "Pandemic                          0\n",
       "temperature                       0\n",
       "humidity                          0\n",
       "pressure                          0\n",
       "report                            0\n",
       "Harry_Potter_and_the_Forbidden    0\n",
       "dtype: int64"
      ]
     },
     "execution_count": 37,
     "metadata": {},
     "output_type": "execute_result"
    }
   ],
   "source": [
    "hp_OE = pd.read_csv(\"harryPotterCleanOE.csv\")\n",
    "hp_OE.drop(hp_OE.tail(17).index,inplace=True) \n",
    "hp_OE = hp_OE.drop('Unnamed: 0',axis=1)\n",
    "hp_OE.rename(columns = {'day.1':'dayOfTheWeek'}, inplace = True)\n",
    "hp_OE.isnull().sum()"
   ]
  },
  {
   "cell_type": "code",
   "execution_count": 40,
   "id": "886ec990",
   "metadata": {},
   "outputs": [
    {
     "data": {
      "text/plain": [
       "array([2., 1., 3.])"
      ]
     },
     "execution_count": 40,
     "metadata": {},
     "output_type": "execute_result"
    }
   ],
   "source": [
    "#Replace times ending in 5 and also compacting the rest to have only 6 classes\n",
    "a=hp_OE.Harry_Potter_and_the_Forbidden.replace([\n",
    "5, 10, 11, 15, 20, 25, 30, 35, 40, 45,50.0,55.0,60.0,65.0,70.0,75.0,80.0,85.0,90.0,95.0,100.0,105.0,110.0,115.0,120.0,125.0,130.0,135.0,145.0,150.0,180.0], \n",
    "[1,1,  1,  1,  1,  1,  1,  2,  2,  2, 2,   2,   2,   3,   3,   3,   3,   3,   3,   3,   3,    3,    3,    3,     3,    3,   3,    3,     3,    3,    3])\n",
    "\n",
    "df1=pd.DataFrame(a)\n",
    "df1.rename(columns = {'Harry_Potter_and_the_Forbidden':'HP_Forbidden_clean'}, inplace = True)\n",
    "hp_bis=pd.concat([hp_OE, df1], axis=1)\n",
    "hp2 = hp_bis.drop('Harry_Potter_and_the_Forbidden',axis=1)\n",
    "hp2 = hp2[hp2.HP_Forbidden_clean != 0] #delete rows with 0 min\n",
    "hp2.HP_Forbidden_clean.unique()"
   ]
  },
  {
   "cell_type": "code",
   "execution_count": 43,
   "id": "ca2997eb",
   "metadata": {},
   "outputs": [],
   "source": [
    "#Variable order in ordinal encoding:\n",
    "pear_corrOE = ['temperature',\t'holiday',\t'day',\t'month',\t'pressure',\t'dayOfTheWeek',\t'report',\t'minute',\t'year',\t'humidity',\t'hour',\t'Pandemic']\n",
    "kend_corrOE = ['temperature',\t'holiday',\t'month',\t'day',\t'pressure',\t'dayOfTheWeek',\t'report',\t'year',\t'minute',\t'humidity',\t'hour',\t'Pandemic',]\n",
    "mutInf_classOE = ['month',\t'day',\t'year',\t'hour',\t'minute',\t'holiday',\t'dayOfTheWeek',\t'Pandemic',\t'temperature',\t'humidity',\t'pressure',\t'report',]\n",
    "mutInf_regOE = ['month',\t'day',\t'year',\t'hour',\t'minute',\t'holiday',\t'dayOfTheWeek',\t'Pandemic',\t'temperature',\t'humidity',\t'pressure',\t'report',]\n",
    "mutInf_class2OE = ['day',\t'temperature',\t'month',\t'humidity',\t'hour',\t'dayOfTheWeek',\t'pressure',\t'holiday',\t'year',\t'report',\t'minute',\t'Pandemic',]\n",
    "varThreOE = ['month',\t'day',\t'year',\t'hour',\t'minute',\t'holiday',\t'dayOfTheWeek',\t'temperature',\t'humidity',\t'pressure',\t'report']\n",
    "mrmrOE = ['temperature',\t'dayOfTheWeek',\t'hour',\t'holiday',\t'humidity',\t'day',\t'year',\t'month',\t'pressure',\t'minute',\t'report']\n",
    "\n",
    "orderOE=[pear_corrOE,kend_corrOE,mutInf_classOE,mutInf_regOE,mutInf_class2OE,varThreOE,mrmrOE]"
   ]
  },
  {
   "cell_type": "code",
   "execution_count": 44,
   "id": "66ee00bd",
   "metadata": {},
   "outputs": [
    {
     "name": "stderr",
     "output_type": "stream",
     "text": [
      "\r",
      "  0%|          | 0/12 [00:00<?, ?it/s]"
     ]
    },
    {
     "name": "stdout",
     "output_type": "stream",
     "text": [
      "------------------------- Analyzing method Pearson_correlation -------------------------\n",
      "The variable order is: \n",
      " ['temperature', 'holiday', 'day', 'month', 'pressure', 'dayOfTheWeek', 'report', 'minute', 'year', 'humidity', 'hour', 'Pandemic']\n"
     ]
    },
    {
     "name": "stderr",
     "output_type": "stream",
     "text": [
      "\r",
      "  8%|▊         | 1/12 [00:01<00:18,  1.70s/it]"
     ]
    },
    {
     "name": "stdout",
     "output_type": "stream",
     "text": [
      "Index(['temperature'], dtype='object')\n",
      "For 1 features: \n",
      " Accuracy: 0.4449353676626404 \n",
      " Precision: 0.2963079136801052 \n",
      " Recall: 0.36387036500620584 \n",
      " F1 score: 0.3093639800119144\n",
      "              precision    recall  f1-score   support\n",
      "\n",
      "         1.0       0.53      0.86      0.66      2430\n",
      "         2.0       0.42      0.23      0.30      1486\n",
      "         3.0       0.00      0.00      0.00       803\n",
      "\n",
      "    accuracy                           0.51      4719\n",
      "   macro avg       0.32      0.36      0.32      4719\n",
      "weighted avg       0.41      0.51      0.43      4719\n",
      "\n"
     ]
    },
    {
     "name": "stderr",
     "output_type": "stream",
     "text": [
      "\r",
      " 17%|█▋        | 2/12 [00:03<00:16,  1.66s/it]"
     ]
    },
    {
     "name": "stdout",
     "output_type": "stream",
     "text": [
      "Index(['temperature', 'holiday'], dtype='object')\n",
      "For 2 features: \n",
      " Accuracy: 0.44722045406322936 \n",
      " Precision: 0.3836310088315797 \n",
      " Recall: 0.39777498896799474 \n",
      " F1 score: 0.35545909686425115\n",
      "              precision    recall  f1-score   support\n",
      "\n",
      "         1.0       0.53      0.77      0.63      2381\n",
      "         2.0       0.39      0.12      0.19      1480\n",
      "         3.0       0.23      0.23      0.23       852\n",
      "\n",
      "    accuracy                           0.47      4713\n",
      "   macro avg       0.39      0.37      0.35      4713\n",
      "weighted avg       0.44      0.47      0.42      4713\n",
      "\n"
     ]
    },
    {
     "name": "stderr",
     "output_type": "stream",
     "text": [
      "\r",
      " 25%|██▌       | 3/12 [00:05<00:15,  1.67s/it]"
     ]
    },
    {
     "name": "stdout",
     "output_type": "stream",
     "text": [
      "Index(['temperature', 'holiday', 'day'], dtype='object')\n",
      "For 3 features: \n",
      " Accuracy: 0.46202464414701505 \n",
      " Precision: 0.406410106195473 \n",
      " Recall: 0.4089739813890618 \n",
      " F1 score: 0.3805466708707736\n",
      "              precision    recall  f1-score   support\n",
      "\n",
      "         1.0       0.61      0.48      0.54      2390\n",
      "         2.0       0.39      0.63      0.48      1490\n",
      "         3.0       0.35      0.18      0.24       827\n",
      "\n",
      "    accuracy                           0.47      4707\n",
      "   macro avg       0.45      0.43      0.42      4707\n",
      "weighted avg       0.50      0.47      0.47      4707\n",
      "\n"
     ]
    },
    {
     "name": "stderr",
     "output_type": "stream",
     "text": [
      "\r",
      " 33%|███▎      | 4/12 [00:06<00:13,  1.68s/it]"
     ]
    },
    {
     "name": "stdout",
     "output_type": "stream",
     "text": [
      "Index(['temperature', 'holiday', 'day', 'month'], dtype='object')\n",
      "For 4 features: \n",
      " Accuracy: 0.43562008083386516 \n",
      " Precision: 0.37880051914441615 \n",
      " Recall: 0.4023124198854524 \n",
      " F1 score: 0.36149001046098445\n",
      "              precision    recall  f1-score   support\n",
      "\n",
      "         1.0       0.65      0.39      0.49      2423\n",
      "         2.0       0.00      0.00      0.00      1480\n",
      "         3.0       0.19      0.76      0.30       798\n",
      "\n",
      "    accuracy                           0.33      4701\n",
      "   macro avg       0.28      0.38      0.26      4701\n",
      "weighted avg       0.37      0.33      0.30      4701\n",
      "\n"
     ]
    },
    {
     "name": "stderr",
     "output_type": "stream",
     "text": [
      "\r",
      " 42%|████▏     | 5/12 [00:08<00:12,  1.72s/it]"
     ]
    },
    {
     "name": "stdout",
     "output_type": "stream",
     "text": [
      "Index(['temperature', 'holiday', 'day', 'month', 'pressure'], dtype='object')\n",
      "For 5 features: \n",
      " Accuracy: 0.4591906283280085 \n",
      " Precision: 0.40879022363229084 \n",
      " Recall: 0.4081486652226933 \n",
      " F1 score: 0.36996977185312807\n",
      "              precision    recall  f1-score   support\n",
      "\n",
      "         1.0       0.55      0.84      0.66      2414\n",
      "         2.0       0.46      0.19      0.27      1477\n",
      "         3.0       0.36      0.19      0.25       804\n",
      "\n",
      "    accuracy                           0.52      4695\n",
      "   macro avg       0.46      0.41      0.39      4695\n",
      "weighted avg       0.49      0.52      0.47      4695\n",
      "\n"
     ]
    },
    {
     "name": "stderr",
     "output_type": "stream",
     "text": [
      "\r",
      " 50%|█████     | 6/12 [00:10<00:10,  1.76s/it]"
     ]
    },
    {
     "name": "stdout",
     "output_type": "stream",
     "text": [
      "Index(['temperature', 'holiday', 'day', 'month', 'pressure', 'dayOfTheWeek'], dtype='object')\n",
      "For 6 features: \n",
      " Accuracy: 0.45886116442738323 \n",
      " Precision: 0.4012507989118134 \n",
      " Recall: 0.4133784068457601 \n",
      " F1 score: 0.37109201824043814\n",
      "              precision    recall  f1-score   support\n",
      "\n",
      "         1.0       0.54      0.82      0.65      2368\n",
      "         2.0       0.00      0.00      0.00      1474\n",
      "         3.0       0.25      0.33      0.29       847\n",
      "\n",
      "    accuracy                           0.47      4689\n",
      "   macro avg       0.26      0.38      0.31      4689\n",
      "weighted avg       0.32      0.47      0.38      4689\n",
      "\n"
     ]
    },
    {
     "name": "stderr",
     "output_type": "stream",
     "text": [
      "\r",
      " 58%|█████▊    | 7/12 [00:12<00:09,  1.85s/it]"
     ]
    },
    {
     "name": "stdout",
     "output_type": "stream",
     "text": [
      "Index(['temperature', 'holiday', 'day', 'month', 'pressure', 'dayOfTheWeek',\n",
      "       'report'],\n",
      "      dtype='object')\n",
      "For 7 features: \n",
      " Accuracy: 0.47462096946401877 \n",
      " Precision: 0.40261803465027296 \n",
      " Recall: 0.41011931869227497 \n",
      " F1 score: 0.3808876505442927\n",
      "              precision    recall  f1-score   support\n",
      "\n",
      "         1.0       0.61      0.58      0.60      2474\n",
      "         2.0       0.39      0.36      0.38      1396\n",
      "         3.0       0.27      0.35      0.31       813\n",
      "\n",
      "    accuracy                           0.48      4683\n",
      "   macro avg       0.43      0.43      0.43      4683\n",
      "weighted avg       0.49      0.48      0.48      4683\n",
      "\n"
     ]
    },
    {
     "name": "stderr",
     "output_type": "stream",
     "text": [
      "\r",
      " 67%|██████▋   | 8/12 [00:14<00:07,  1.91s/it]"
     ]
    },
    {
     "name": "stdout",
     "output_type": "stream",
     "text": [
      "Index(['temperature', 'holiday', 'day', 'month', 'pressure', 'dayOfTheWeek',\n",
      "       'report', 'minute'],\n",
      "      dtype='object')\n",
      "For 8 features: \n",
      " Accuracy: 0.4609578789822536 \n",
      " Precision: 0.4217298396818511 \n",
      " Recall: 0.40886368095017867 \n",
      " F1 score: 0.36184446711745616\n",
      "              precision    recall  f1-score   support\n",
      "\n",
      "         1.0       0.64      0.47      0.54      2408\n",
      "         2.0       0.33      0.00      0.00      1485\n",
      "         3.0       0.20      0.74      0.32       784\n",
      "\n",
      "    accuracy                           0.37      4677\n",
      "   macro avg       0.39      0.40      0.29      4677\n",
      "weighted avg       0.47      0.37      0.33      4677\n",
      "\n"
     ]
    },
    {
     "name": "stderr",
     "output_type": "stream",
     "text": [
      "\r",
      " 75%|███████▌  | 9/12 [00:16<00:06,  2.09s/it]"
     ]
    },
    {
     "name": "stdout",
     "output_type": "stream",
     "text": [
      "Index(['temperature', 'holiday', 'day', 'month', 'pressure', 'dayOfTheWeek',\n",
      "       'report', 'minute', 'year'],\n",
      "      dtype='object')\n",
      "For 9 features: \n",
      " Accuracy: 0.5600834938985229 \n",
      " Precision: 0.49717722972211714 \n",
      " Recall: 0.4750193853983191 \n",
      " F1 score: 0.47810311637741265\n",
      "              precision    recall  f1-score   support\n",
      "\n",
      "         1.0       0.62      0.75      0.68      2386\n",
      "         2.0       0.54      0.38      0.44      1466\n",
      "         3.0       0.36      0.34      0.35       819\n",
      "\n",
      "    accuracy                           0.56      4671\n",
      "   macro avg       0.51      0.49      0.49      4671\n",
      "weighted avg       0.55      0.56      0.55      4671\n",
      "\n"
     ]
    },
    {
     "name": "stderr",
     "output_type": "stream",
     "text": [
      "\r",
      " 83%|████████▎ | 10/12 [00:19<00:04,  2.16s/it]"
     ]
    },
    {
     "name": "stdout",
     "output_type": "stream",
     "text": [
      "Index(['temperature', 'holiday', 'day', 'month', 'pressure', 'dayOfTheWeek',\n",
      "       'report', 'minute', 'year', 'humidity'],\n",
      "      dtype='object')\n",
      "For 10 features: \n",
      " Accuracy: 0.5603858520900321 \n",
      " Precision: 0.4963459026598985 \n",
      " Recall: 0.475551591760817 \n",
      " F1 score: 0.4786999315700487\n",
      "              precision    recall  f1-score   support\n",
      "\n",
      "         1.0       0.62      0.74      0.68      2350\n",
      "         2.0       0.51      0.46      0.48      1473\n",
      "         3.0       0.41      0.27      0.33       842\n",
      "\n",
      "    accuracy                           0.57      4665\n",
      "   macro avg       0.52      0.49      0.49      4665\n",
      "weighted avg       0.55      0.57      0.55      4665\n",
      "\n"
     ]
    },
    {
     "name": "stderr",
     "output_type": "stream",
     "text": [
      "\r",
      " 92%|█████████▏| 11/12 [00:21<00:02,  2.22s/it]"
     ]
    },
    {
     "name": "stdout",
     "output_type": "stream",
     "text": [
      "Index(['temperature', 'holiday', 'day', 'month', 'pressure', 'dayOfTheWeek',\n",
      "       'report', 'minute', 'year', 'humidity', 'hour'],\n",
      "      dtype='object')\n",
      "For 11 features: \n",
      " Accuracy: 0.5538634900193175 \n",
      " Precision: 0.48833430908138087 \n",
      " Recall: 0.47748411692838794 \n",
      " F1 score: 0.4786992343739592\n",
      "              precision    recall  f1-score   support\n",
      "\n",
      "         1.0       0.64      0.72      0.68      2403\n",
      "         2.0       0.50      0.44      0.47      1446\n",
      "         3.0       0.32      0.26      0.29       810\n",
      "\n",
      "    accuracy                           0.55      4659\n",
      "   macro avg       0.49      0.47      0.48      4659\n",
      "weighted avg       0.54      0.55      0.54      4659\n",
      "\n"
     ]
    },
    {
     "name": "stderr",
     "output_type": "stream",
     "text": [
      "100%|██████████| 12/12 [00:23<00:00,  1.99s/it]\n",
      "  0%|          | 0/12 [00:00<?, ?it/s]"
     ]
    },
    {
     "name": "stdout",
     "output_type": "stream",
     "text": [
      "Index(['temperature', 'holiday', 'day', 'month', 'pressure', 'dayOfTheWeek',\n",
      "       'report', 'minute', 'year', 'humidity', 'hour', 'Pandemic'],\n",
      "      dtype='object')\n",
      "For 12 features: \n",
      " Accuracy: 0.5542230818826563 \n",
      " Precision: 0.4861805278392554 \n",
      " Recall: 0.47521771253402256 \n",
      " F1 score: 0.4760578721518733\n",
      "              precision    recall  f1-score   support\n",
      "\n",
      "         1.0       0.64      0.72      0.68      2361\n",
      "         2.0       0.54      0.38      0.44      1466\n",
      "         3.0       0.31      0.36      0.33       826\n",
      "\n",
      "    accuracy                           0.55      4653\n",
      "   macro avg       0.50      0.49      0.48      4653\n",
      "weighted avg       0.55      0.55      0.54      4653\n",
      "\n",
      "\n",
      " \n",
      "\n",
      "------------------------- Analyzing method Kendalls_correlation -------------------------\n",
      "The variable order is: \n",
      " ['temperature', 'holiday', 'month', 'day', 'pressure', 'dayOfTheWeek', 'report', 'year', 'minute', 'humidity', 'hour', 'Pandemic']\n"
     ]
    },
    {
     "name": "stderr",
     "output_type": "stream",
     "text": [
      "\r",
      "  8%|▊         | 1/12 [00:01<00:16,  1.53s/it]"
     ]
    },
    {
     "name": "stdout",
     "output_type": "stream",
     "text": [
      "Index(['temperature'], dtype='object')\n",
      "For 1 features: \n",
      " Accuracy: 0.4706154508284915 \n",
      " Precision: 0.30947334851856895 \n",
      " Recall: 0.3665459079003604 \n",
      " F1 score: 0.3202063093957596\n",
      "              precision    recall  f1-score   support\n",
      "\n",
      "         1.0       0.64      0.37      0.47      2394\n",
      "         2.0       0.35      0.80      0.49      1436\n",
      "         3.0       0.00      0.00      0.00       817\n",
      "\n",
      "    accuracy                           0.44      4647\n",
      "   macro avg       0.33      0.39      0.32      4647\n",
      "weighted avg       0.44      0.44      0.39      4647\n",
      "\n"
     ]
    },
    {
     "name": "stderr",
     "output_type": "stream",
     "text": [
      "\r",
      " 17%|█▋        | 2/12 [00:03<00:15,  1.54s/it]"
     ]
    },
    {
     "name": "stdout",
     "output_type": "stream",
     "text": [
      "Index(['temperature', 'holiday'], dtype='object')\n",
      "For 2 features: \n",
      " Accuracy: 0.47979961215255335 \n",
      " Precision: 0.4065791967024273 \n",
      " Recall: 0.40354025845223734 \n",
      " F1 score: 0.3795961144011159\n",
      "              precision    recall  f1-score   support\n",
      "\n",
      "         1.0       0.54      0.80      0.64      2366\n",
      "         2.0       0.40      0.19      0.26      1446\n",
      "         3.0       0.38      0.20      0.26       829\n",
      "\n",
      "    accuracy                           0.50      4641\n",
      "   macro avg       0.44      0.40      0.39      4641\n",
      "weighted avg       0.47      0.50      0.45      4641\n",
      "\n"
     ]
    },
    {
     "name": "stderr",
     "output_type": "stream",
     "text": [
      "\r",
      " 25%|██▌       | 3/12 [00:04<00:13,  1.55s/it]"
     ]
    },
    {
     "name": "stdout",
     "output_type": "stream",
     "text": [
      "Index(['temperature', 'holiday', 'month'], dtype='object')\n",
      "For 3 features: \n",
      " Accuracy: 0.4259007551240561 \n",
      " Precision: 0.3808115028697629 \n",
      " Recall: 0.40175632721537974 \n",
      " F1 score: 0.35525531658221093\n",
      "              precision    recall  f1-score   support\n",
      "\n",
      "         1.0       0.63      0.47      0.53      2378\n",
      "         2.0       0.00      0.00      0.00      1441\n",
      "         3.0       0.19      0.68      0.30       816\n",
      "\n",
      "    accuracy                           0.36      4635\n",
      "   macro avg       0.27      0.38      0.28      4635\n",
      "weighted avg       0.36      0.36      0.33      4635\n",
      "\n"
     ]
    },
    {
     "name": "stderr",
     "output_type": "stream",
     "text": [
      "\r",
      " 33%|███▎      | 4/12 [00:06<00:12,  1.57s/it]"
     ]
    },
    {
     "name": "stdout",
     "output_type": "stream",
     "text": [
      "Index(['temperature', 'holiday', 'month', 'day'], dtype='object')\n",
      "For 4 features: \n",
      " Accuracy: 0.4105854396197883 \n",
      " Precision: 0.3691948308118273 \n",
      " Recall: 0.4021334855743575 \n",
      " F1 score: 0.3420254227063134\n",
      "              precision    recall  f1-score   support\n",
      "\n",
      "         1.0       0.65      0.43      0.51      2417\n",
      "         2.0       0.36      0.49      0.42      1426\n",
      "         3.0       0.22      0.32      0.26       786\n",
      "\n",
      "    accuracy                           0.43      4629\n",
      "   macro avg       0.41      0.41      0.40      4629\n",
      "weighted avg       0.49      0.43      0.44      4629\n",
      "\n"
     ]
    },
    {
     "name": "stderr",
     "output_type": "stream",
     "text": [
      "\r",
      " 42%|████▏     | 5/12 [00:07<00:11,  1.60s/it]"
     ]
    },
    {
     "name": "stdout",
     "output_type": "stream",
     "text": [
      "Index(['temperature', 'holiday', 'month', 'day', 'pressure'], dtype='object')\n",
      "For 5 features: \n",
      " Accuracy: 0.47132814189919964 \n",
      " Precision: 0.37634415310538694 \n",
      " Recall: 0.40724658595802093 \n",
      " F1 score: 0.3718631118636904\n",
      "              precision    recall  f1-score   support\n",
      "\n",
      "         1.0       0.57      0.69      0.63      2400\n",
      "         2.0       0.00      0.00      0.00      1433\n",
      "         3.0       0.21      0.47      0.29       790\n",
      "\n",
      "    accuracy                           0.44      4623\n",
      "   macro avg       0.26      0.39      0.31      4623\n",
      "weighted avg       0.33      0.44      0.37      4623\n",
      "\n"
     ]
    },
    {
     "name": "stderr",
     "output_type": "stream",
     "text": [
      "\r",
      " 50%|█████     | 6/12 [00:09<00:09,  1.63s/it]"
     ]
    },
    {
     "name": "stdout",
     "output_type": "stream",
     "text": [
      "Index(['temperature', 'holiday', 'month', 'day', 'pressure', 'dayOfTheWeek'], dtype='object')\n",
      "For 6 features: \n",
      " Accuracy: 0.47892570933506606 \n",
      " Precision: 0.413804533389927 \n",
      " Recall: 0.41464653324392436 \n",
      " F1 score: 0.3848779837500021\n",
      "              precision    recall  f1-score   support\n",
      "\n",
      "         1.0       0.61      0.57      0.59      2361\n",
      "         2.0       0.40      0.39      0.39      1452\n",
      "         3.0       0.28      0.33      0.30       804\n",
      "\n",
      "    accuracy                           0.47      4617\n",
      "   macro avg       0.43      0.43      0.43      4617\n",
      "weighted avg       0.48      0.47      0.48      4617\n",
      "\n"
     ]
    },
    {
     "name": "stderr",
     "output_type": "stream",
     "text": [
      "\r",
      " 58%|█████▊    | 7/12 [00:11<00:08,  1.66s/it]"
     ]
    },
    {
     "name": "stdout",
     "output_type": "stream",
     "text": [
      "Index(['temperature', 'holiday', 'month', 'day', 'pressure', 'dayOfTheWeek',\n",
      "       'report'],\n",
      "      dtype='object')\n",
      "For 7 features: \n",
      " Accuracy: 0.48502494036000865 \n",
      " Precision: 0.4117284920391192 \n",
      " Recall: 0.4085259115795451 \n",
      " F1 score: 0.3821495327862009\n",
      "              precision    recall  f1-score   support\n",
      "\n",
      "         1.0       0.56      0.79      0.66      2383\n",
      "         2.0       0.33      0.04      0.07      1403\n",
      "         3.0       0.25      0.33      0.28       825\n",
      "\n",
      "    accuracy                           0.48      4611\n",
      "   macro avg       0.38      0.39      0.34      4611\n",
      "weighted avg       0.44      0.48      0.41      4611\n",
      "\n"
     ]
    },
    {
     "name": "stderr",
     "output_type": "stream",
     "text": [
      "\r",
      " 67%|██████▋   | 8/12 [00:13<00:07,  1.80s/it]"
     ]
    },
    {
     "name": "stdout",
     "output_type": "stream",
     "text": [
      "Index(['temperature', 'holiday', 'month', 'day', 'pressure', 'dayOfTheWeek',\n",
      "       'report', 'year'],\n",
      "      dtype='object')\n",
      "For 8 features: \n",
      " Accuracy: 0.5631378935939196 \n",
      " Precision: 0.4948328353712428 \n",
      " Recall: 0.47397318181303816 \n",
      " F1 score: 0.4760304940418019\n",
      "              precision    recall  f1-score   support\n",
      "\n",
      "         1.0       0.63      0.75      0.68      2422\n",
      "         2.0       0.47      0.44      0.46      1390\n",
      "         3.0       0.37      0.19      0.25       793\n",
      "\n",
      "    accuracy                           0.56      4605\n",
      "   macro avg       0.49      0.46      0.46      4605\n",
      "weighted avg       0.54      0.56      0.54      4605\n",
      "\n"
     ]
    },
    {
     "name": "stderr",
     "output_type": "stream",
     "text": [
      "\r",
      " 75%|███████▌  | 9/12 [00:15<00:05,  1.92s/it]"
     ]
    },
    {
     "name": "stdout",
     "output_type": "stream",
     "text": [
      "Index(['temperature', 'holiday', 'month', 'day', 'pressure', 'dayOfTheWeek',\n",
      "       'report', 'year', 'minute'],\n",
      "      dtype='object')\n",
      "For 9 features: \n",
      " Accuracy: 0.5634159599913025 \n",
      " Precision: 0.4969479731944137 \n",
      " Recall: 0.4756321753124514 \n",
      " F1 score: 0.4778270239579367\n",
      "              precision    recall  f1-score   support\n",
      "\n",
      "         1.0       0.63      0.75      0.69      2358\n",
      "         2.0       0.50      0.40      0.45      1430\n",
      "         3.0       0.33      0.28      0.30       811\n",
      "\n",
      "    accuracy                           0.56      4599\n",
      "   macro avg       0.49      0.48      0.48      4599\n",
      "weighted avg       0.54      0.56      0.54      4599\n",
      "\n"
     ]
    },
    {
     "name": "stderr",
     "output_type": "stream",
     "text": [
      "\r",
      " 83%|████████▎ | 10/12 [00:17<00:03,  2.00s/it]"
     ]
    },
    {
     "name": "stdout",
     "output_type": "stream",
     "text": [
      "Index(['temperature', 'holiday', 'month', 'day', 'pressure', 'dayOfTheWeek',\n",
      "       'report', 'year', 'minute', 'humidity'],\n",
      "      dtype='object')\n",
      "For 10 features: \n",
      " Accuracy: 0.5631613324624428 \n",
      " Precision: 0.4973628177235927 \n",
      " Recall: 0.47636509065001614 \n",
      " F1 score: 0.47886392185281085\n",
      "              precision    recall  f1-score   support\n",
      "\n",
      "         1.0       0.64      0.75      0.69      2392\n",
      "         2.0       0.53      0.38      0.44      1410\n",
      "         3.0       0.34      0.33      0.33       791\n",
      "\n",
      "    accuracy                           0.56      4593\n",
      "   macro avg       0.50      0.49      0.49      4593\n",
      "weighted avg       0.55      0.56      0.55      4593\n",
      "\n"
     ]
    },
    {
     "name": "stderr",
     "output_type": "stream",
     "text": [
      "\r",
      " 92%|█████████▏| 11/12 [00:20<00:02,  2.10s/it]"
     ]
    },
    {
     "name": "stdout",
     "output_type": "stream",
     "text": [
      "Index(['temperature', 'holiday', 'month', 'day', 'pressure', 'dayOfTheWeek',\n",
      "       'report', 'year', 'minute', 'humidity', 'hour'],\n",
      "      dtype='object')\n",
      "For 11 features: \n",
      " Accuracy: 0.5552648790058862 \n",
      " Precision: 0.4875688151848456 \n",
      " Recall: 0.4760774471749279 \n",
      " F1 score: 0.4768013085751518\n",
      "              precision    recall  f1-score   support\n",
      "\n",
      "         1.0       0.64      0.74      0.69      2361\n",
      "         2.0       0.51      0.40      0.45      1424\n",
      "         3.0       0.30      0.29      0.29       802\n",
      "\n",
      "    accuracy                           0.56      4587\n",
      "   macro avg       0.49      0.48      0.48      4587\n",
      "weighted avg       0.54      0.56      0.55      4587\n",
      "\n"
     ]
    },
    {
     "name": "stderr",
     "output_type": "stream",
     "text": [
      "100%|██████████| 12/12 [00:22<00:00,  1.89s/it]\n",
      "  0%|          | 0/12 [00:00<?, ?it/s]"
     ]
    },
    {
     "name": "stdout",
     "output_type": "stream",
     "text": [
      "Index(['temperature', 'holiday', 'month', 'day', 'pressure', 'dayOfTheWeek',\n",
      "       'report', 'year', 'minute', 'humidity', 'hour', 'Pandemic'],\n",
      "      dtype='object')\n",
      "For 12 features: \n",
      " Accuracy: 0.5557301899148658 \n",
      " Precision: 0.48809854645753015 \n",
      " Recall: 0.476549722654498 \n",
      " F1 score: 0.4773722903524623\n",
      "              precision    recall  f1-score   support\n",
      "\n",
      "         1.0       0.63      0.73      0.68      2350\n",
      "         2.0       0.54      0.36      0.44      1397\n",
      "         3.0       0.31      0.35      0.33       834\n",
      "\n",
      "    accuracy                           0.55      4581\n",
      "   macro avg       0.50      0.48      0.48      4581\n",
      "weighted avg       0.55      0.55      0.54      4581\n",
      "\n",
      "\n",
      " \n",
      "\n",
      "------------------------- Analyzing method mutualInformation_classification -------------------------\n",
      "The variable order is: \n",
      " ['month', 'day', 'year', 'hour', 'minute', 'holiday', 'dayOfTheWeek', 'Pandemic', 'temperature', 'humidity', 'pressure', 'report']\n"
     ]
    },
    {
     "name": "stderr",
     "output_type": "stream",
     "text": [
      "\r",
      "  8%|▊         | 1/12 [00:01<00:18,  1.65s/it]"
     ]
    },
    {
     "name": "stdout",
     "output_type": "stream",
     "text": [
      "Index(['month'], dtype='object')\n",
      "For 1 features: \n",
      " Accuracy: 0.3574644808743169 \n",
      " Precision: 0.24265005361193243 \n",
      " Recall: 0.34405106745370584 \n",
      " F1 score: 0.2564383815376782\n",
      "              precision    recall  f1-score   support\n",
      "\n",
      "         1.0       0.53      0.54      0.53      2362\n",
      "         2.0       0.50      0.08      0.14      1414\n",
      "         3.0       0.20      0.48      0.28       799\n",
      "\n",
      "    accuracy                           0.39      4575\n",
      "   macro avg       0.41      0.37      0.32      4575\n",
      "weighted avg       0.46      0.39      0.37      4575\n",
      "\n"
     ]
    },
    {
     "name": "stderr",
     "output_type": "stream",
     "text": [
      "\r",
      " 17%|█▋        | 2/12 [00:03<00:16,  1.66s/it]"
     ]
    },
    {
     "name": "stdout",
     "output_type": "stream",
     "text": [
      "Index(['month', 'day'], dtype='object')\n",
      "For 2 features: \n",
      " Accuracy: 0.3459838038958196 \n",
      " Precision: 0.26041475998516234 \n",
      " Recall: 0.3321358087200478 \n",
      " F1 score: 0.25876690276926884\n",
      "              precision    recall  f1-score   support\n",
      "\n",
      "         1.0       0.52      0.40      0.45      2361\n",
      "         2.0       0.31      0.52      0.39      1399\n",
      "         3.0       0.20      0.09      0.12       809\n",
      "\n",
      "    accuracy                           0.38      4569\n",
      "   macro avg       0.34      0.34      0.32      4569\n",
      "weighted avg       0.40      0.38      0.37      4569\n",
      "\n"
     ]
    },
    {
     "name": "stderr",
     "output_type": "stream",
     "text": [
      "\r",
      " 25%|██▌       | 3/12 [00:05<00:15,  1.67s/it]"
     ]
    },
    {
     "name": "stdout",
     "output_type": "stream",
     "text": [
      "Index(['month', 'day', 'year'], dtype='object')\n",
      "For 3 features: \n",
      " Accuracy: 0.47073197457812843 \n",
      " Precision: 0.35899612140142884 \n",
      " Recall: 0.3986387590294713 \n",
      " F1 score: 0.35297670524300123\n",
      "              precision    recall  f1-score   support\n",
      "\n",
      "         1.0       0.63      0.67      0.65      2370\n",
      "         2.0       0.00      0.00      0.00      1371\n",
      "         3.0       0.20      0.49      0.28       822\n",
      "\n",
      "    accuracy                           0.44      4563\n",
      "   macro avg       0.27      0.39      0.31      4563\n",
      "weighted avg       0.36      0.44      0.39      4563\n",
      "\n"
     ]
    },
    {
     "name": "stderr",
     "output_type": "stream",
     "text": [
      "\r",
      " 33%|███▎      | 4/12 [00:06<00:14,  1.77s/it]"
     ]
    },
    {
     "name": "stdout",
     "output_type": "stream",
     "text": [
      "Index(['month', 'day', 'year', 'hour'], dtype='object')\n",
      "For 4 features: \n",
      " Accuracy: 0.5182685977616853 \n",
      " Precision: 0.4127268688978356 \n",
      " Recall: 0.42940185091097915 \n",
      " F1 score: 0.4052477780061627\n",
      "              precision    recall  f1-score   support\n",
      "\n",
      "         1.0       0.62      0.74      0.68      2419\n",
      "         2.0       0.00      0.00      0.00      1371\n",
      "         3.0       0.22      0.48      0.31       767\n",
      "\n",
      "    accuracy                           0.48      4557\n",
      "   macro avg       0.28      0.41      0.33      4557\n",
      "weighted avg       0.37      0.48      0.41      4557\n",
      "\n"
     ]
    },
    {
     "name": "stderr",
     "output_type": "stream",
     "text": [
      "\r",
      " 42%|████▏     | 5/12 [00:08<00:12,  1.84s/it]"
     ]
    },
    {
     "name": "stdout",
     "output_type": "stream",
     "text": [
      "Index(['month', 'day', 'year', 'hour', 'minute'], dtype='object')\n",
      "For 5 features: \n",
      " Accuracy: 0.5235223027905955 \n",
      " Precision: 0.4083112155722116 \n",
      " Recall: 0.4228404062800678 \n",
      " F1 score: 0.3970360428669159\n",
      "              precision    recall  f1-score   support\n",
      "\n",
      "         1.0       0.61      0.73      0.67      2353\n",
      "         2.0       0.50      0.33      0.40      1418\n",
      "         3.0       0.21      0.20      0.21       780\n",
      "\n",
      "    accuracy                           0.52      4551\n",
      "   macro avg       0.44      0.42      0.42      4551\n",
      "weighted avg       0.51      0.52      0.50      4551\n",
      "\n"
     ]
    },
    {
     "name": "stderr",
     "output_type": "stream",
     "text": [
      "\r",
      " 50%|█████     | 6/12 [00:10<00:11,  1.86s/it]"
     ]
    },
    {
     "name": "stdout",
     "output_type": "stream",
     "text": [
      "Index(['month', 'day', 'year', 'hour', 'minute', 'holiday'], dtype='object')\n",
      "For 6 features: \n",
      " Accuracy: 0.5281958195819582 \n",
      " Precision: 0.4689318014975505 \n",
      " Recall: 0.4586239279776846 \n",
      " F1 score: 0.4494807696107476\n",
      "              precision    recall  f1-score   support\n",
      "\n",
      "         1.0       0.62      0.72      0.66      2367\n",
      "         2.0       0.40      0.41      0.40      1352\n",
      "         3.0       0.40      0.19      0.26       826\n",
      "\n",
      "    accuracy                           0.53      4545\n",
      "   macro avg       0.47      0.44      0.44      4545\n",
      "weighted avg       0.51      0.53      0.51      4545\n",
      "\n"
     ]
    },
    {
     "name": "stderr",
     "output_type": "stream",
     "text": [
      "\r",
      " 58%|█████▊    | 7/12 [00:12<00:09,  1.90s/it]"
     ]
    },
    {
     "name": "stdout",
     "output_type": "stream",
     "text": [
      "Index(['month', 'day', 'year', 'hour', 'minute', 'holiday', 'dayOfTheWeek'], dtype='object')\n",
      "For 7 features: \n",
      " Accuracy: 0.5368913857677903 \n",
      " Precision: 0.47490878708785694 \n",
      " Recall: 0.4615397400194603 \n",
      " F1 score: 0.4580774394679184\n",
      "              precision    recall  f1-score   support\n",
      "\n",
      "         1.0       0.63      0.72      0.67      2352\n",
      "         2.0       0.46      0.32      0.37      1402\n",
      "         3.0       0.35      0.38      0.37       785\n",
      "\n",
      "    accuracy                           0.54      4539\n",
      "   macro avg       0.48      0.47      0.47      4539\n",
      "weighted avg       0.53      0.54      0.53      4539\n",
      "\n"
     ]
    },
    {
     "name": "stderr",
     "output_type": "stream",
     "text": [
      "\r",
      " 67%|██████▋   | 8/12 [00:14<00:07,  1.93s/it]"
     ]
    },
    {
     "name": "stdout",
     "output_type": "stream",
     "text": [
      "Index(['month', 'day', 'year', 'hour', 'minute', 'holiday', 'dayOfTheWeek',\n",
      "       'Pandemic'],\n",
      "      dtype='object')\n",
      "For 8 features: \n",
      " Accuracy: 0.5346459298477829 \n",
      " Precision: 0.4780943067391728 \n",
      " Recall: 0.46528728384277135 \n",
      " F1 score: 0.4582859359784604\n",
      "              precision    recall  f1-score   support\n",
      "\n",
      "         1.0       0.62      0.69      0.65      2337\n",
      "         2.0       0.47      0.35      0.40      1431\n",
      "         3.0       0.29      0.33      0.31       765\n",
      "\n",
      "    accuracy                           0.52      4533\n",
      "   macro avg       0.46      0.46      0.45      4533\n",
      "weighted avg       0.52      0.52      0.51      4533\n",
      "\n"
     ]
    },
    {
     "name": "stderr",
     "output_type": "stream",
     "text": [
      "\r",
      " 75%|███████▌  | 9/12 [00:16<00:05,  1.99s/it]"
     ]
    },
    {
     "name": "stdout",
     "output_type": "stream",
     "text": [
      "Index(['month', 'day', 'year', 'hour', 'minute', 'holiday', 'dayOfTheWeek',\n",
      "       'Pandemic', 'temperature'],\n",
      "      dtype='object')\n",
      "For 9 features: \n",
      " Accuracy: 0.5499447757897062 \n",
      " Precision: 0.48220093861830987 \n",
      " Recall: 0.47044894180031405 \n",
      " F1 score: 0.4712143208081859\n",
      "              precision    recall  f1-score   support\n",
      "\n",
      "         1.0       0.64      0.74      0.69      2372\n",
      "         2.0       0.49      0.41      0.45      1360\n",
      "         3.0       0.32      0.27      0.30       795\n",
      "\n",
      "    accuracy                           0.56      4527\n",
      "   macro avg       0.49      0.47      0.48      4527\n",
      "weighted avg       0.54      0.56      0.55      4527\n",
      "\n"
     ]
    },
    {
     "name": "stderr",
     "output_type": "stream",
     "text": [
      "\r",
      " 83%|████████▎ | 10/12 [00:19<00:04,  2.04s/it]"
     ]
    },
    {
     "name": "stdout",
     "output_type": "stream",
     "text": [
      "Index(['month', 'day', 'year', 'hour', 'minute', 'holiday', 'dayOfTheWeek',\n",
      "       'Pandemic', 'temperature', 'humidity'],\n",
      "      dtype='object')\n",
      "For 10 features: \n",
      " Accuracy: 0.5604291086042911 \n",
      " Precision: 0.49025521282714 \n",
      " Recall: 0.47881976592003966 \n",
      " F1 score: 0.4803183568420666\n",
      "              precision    recall  f1-score   support\n",
      "\n",
      "         1.0       0.65      0.74      0.69      2373\n",
      "         2.0       0.53      0.39      0.45      1366\n",
      "         3.0       0.32      0.34      0.33       782\n",
      "\n",
      "    accuracy                           0.56      4521\n",
      "   macro avg       0.50      0.49      0.49      4521\n",
      "weighted avg       0.56      0.56      0.56      4521\n",
      "\n"
     ]
    },
    {
     "name": "stderr",
     "output_type": "stream",
     "text": [
      "\r",
      " 92%|█████████▏| 11/12 [00:21<00:02,  2.12s/it]"
     ]
    },
    {
     "name": "stdout",
     "output_type": "stream",
     "text": [
      "Index(['month', 'day', 'year', 'hour', 'minute', 'holiday', 'dayOfTheWeek',\n",
      "       'Pandemic', 'temperature', 'humidity', 'pressure'],\n",
      "      dtype='object')\n",
      "For 11 features: \n",
      " Accuracy: 0.5595016611295681 \n",
      " Precision: 0.48873662028308906 \n",
      " Recall: 0.4781426927716614 \n",
      " F1 score: 0.4797382594265265\n",
      "              precision    recall  f1-score   support\n",
      "\n",
      "         1.0       0.65      0.74      0.69      2297\n",
      "         2.0       0.50      0.46      0.48      1402\n",
      "         3.0       0.33      0.24      0.28       816\n",
      "\n",
      "    accuracy                           0.56      4515\n",
      "   macro avg       0.49      0.48      0.48      4515\n",
      "weighted avg       0.54      0.56      0.55      4515\n",
      "\n"
     ]
    },
    {
     "name": "stderr",
     "output_type": "stream",
     "text": [
      "100%|██████████| 12/12 [00:23<00:00,  1.98s/it]\n",
      "  0%|          | 0/12 [00:00<?, ?it/s]"
     ]
    },
    {
     "name": "stdout",
     "output_type": "stream",
     "text": [
      "Index(['month', 'day', 'year', 'hour', 'minute', 'holiday', 'dayOfTheWeek',\n",
      "       'Pandemic', 'temperature', 'humidity', 'pressure', 'report'],\n",
      "      dtype='object')\n",
      "For 12 features: \n",
      " Accuracy: 0.5550011088933244 \n",
      " Precision: 0.4874386734943103 \n",
      " Recall: 0.47654777093465367 \n",
      " F1 score: 0.47636304746280367\n",
      "              precision    recall  f1-score   support\n",
      "\n",
      "         1.0       0.65      0.73      0.69      2324\n",
      "         2.0       0.48      0.44      0.46      1379\n",
      "         3.0       0.31      0.25      0.28       806\n",
      "\n",
      "    accuracy                           0.55      4509\n",
      "   macro avg       0.48      0.47      0.47      4509\n",
      "weighted avg       0.54      0.55      0.54      4509\n",
      "\n",
      "\n",
      " \n",
      "\n",
      "------------------------- Analyzing method mutualInformation_reggression -------------------------\n",
      "The variable order is: \n",
      " ['month', 'day', 'year', 'hour', 'minute', 'holiday', 'dayOfTheWeek', 'Pandemic', 'temperature', 'humidity', 'pressure', 'report']\n"
     ]
    },
    {
     "name": "stderr",
     "output_type": "stream",
     "text": [
      "\r",
      "  8%|▊         | 1/12 [00:01<00:16,  1.54s/it]"
     ]
    },
    {
     "name": "stdout",
     "output_type": "stream",
     "text": [
      "Index(['month'], dtype='object')\n",
      "For 1 features: \n",
      " Accuracy: 0.34843437708194536 \n",
      " Precision: 0.21706359078963638 \n",
      " Recall: 0.33767528077686015 \n",
      " F1 score: 0.24720587346769735\n",
      "              precision    recall  f1-score   support\n",
      "\n",
      "         1.0       0.55      0.91      0.68      2379\n",
      "         2.0       0.00      0.00      0.00      1363\n",
      "         3.0       0.26      0.19      0.22       761\n",
      "\n",
      "    accuracy                           0.51      4503\n",
      "   macro avg       0.27      0.37      0.30      4503\n",
      "weighted avg       0.33      0.51      0.40      4503\n",
      "\n"
     ]
    },
    {
     "name": "stderr",
     "output_type": "stream",
     "text": [
      "\r",
      " 17%|█▋        | 2/12 [00:03<00:15,  1.53s/it]"
     ]
    },
    {
     "name": "stdout",
     "output_type": "stream",
     "text": [
      "Index(['month', 'day'], dtype='object')\n",
      "For 2 features: \n",
      " Accuracy: 0.3510784967756282 \n",
      " Precision: 0.28129852100997244 \n",
      " Recall: 0.33944882238863305 \n",
      " F1 score: 0.26612824816450875\n",
      "              precision    recall  f1-score   support\n",
      "\n",
      "         1.0       0.50      0.52      0.51      2351\n",
      "         2.0       0.00      0.00      0.00      1353\n",
      "         3.0       0.17      0.43      0.24       793\n",
      "\n",
      "    accuracy                           0.35      4497\n",
      "   macro avg       0.22      0.32      0.25      4497\n",
      "weighted avg       0.29      0.35      0.31      4497\n",
      "\n"
     ]
    },
    {
     "name": "stderr",
     "output_type": "stream",
     "text": [
      "\r",
      " 25%|██▌       | 3/12 [00:04<00:13,  1.53s/it]"
     ]
    },
    {
     "name": "stdout",
     "output_type": "stream",
     "text": [
      "Index(['month', 'day', 'year'], dtype='object')\n",
      "For 3 features: \n",
      " Accuracy: 0.47568470273881097 \n",
      " Precision: 0.3949685000408083 \n",
      " Recall: 0.40719861326345436 \n",
      " F1 score: 0.3705875402172359\n",
      "              precision    recall  f1-score   support\n",
      "\n",
      "         1.0       0.60      0.65      0.63      2361\n",
      "         2.0       0.49      0.38      0.43      1362\n",
      "         3.0       0.18      0.21      0.19       768\n",
      "\n",
      "    accuracy                           0.49      4491\n",
      "   macro avg       0.43      0.41      0.42      4491\n",
      "weighted avg       0.50      0.49      0.49      4491\n",
      "\n"
     ]
    },
    {
     "name": "stderr",
     "output_type": "stream",
     "text": [
      "\r",
      " 33%|███▎      | 4/12 [00:06<00:12,  1.62s/it]"
     ]
    },
    {
     "name": "stdout",
     "output_type": "stream",
     "text": [
      "Index(['month', 'day', 'year', 'hour'], dtype='object')\n",
      "For 4 features: \n",
      " Accuracy: 0.5179041248606466 \n",
      " Precision: 0.38688803655749987 \n",
      " Recall: 0.417286855986183 \n",
      " F1 score: 0.3791053939221921\n",
      "              precision    recall  f1-score   support\n",
      "\n",
      "         1.0       0.62      0.76      0.69      2351\n",
      "         2.0       0.45      0.45      0.45      1303\n",
      "         3.0       0.13      0.05      0.07       831\n",
      "\n",
      "    accuracy                           0.54      4485\n",
      "   macro avg       0.40      0.42      0.40      4485\n",
      "weighted avg       0.48      0.54      0.50      4485\n",
      "\n"
     ]
    },
    {
     "name": "stderr",
     "output_type": "stream",
     "text": [
      "\r",
      " 42%|████▏     | 5/12 [00:08<00:11,  1.71s/it]"
     ]
    },
    {
     "name": "stdout",
     "output_type": "stream",
     "text": [
      "Index(['month', 'day', 'year', 'hour', 'minute'], dtype='object')\n",
      "For 5 features: \n",
      " Accuracy: 0.5156731413261889 \n",
      " Precision: 0.41451725205951656 \n",
      " Recall: 0.4221057364752306 \n",
      " F1 score: 0.3919343877653456\n",
      "              precision    recall  f1-score   support\n",
      "\n",
      "         1.0       0.61      0.76      0.68      2344\n",
      "         2.0       0.43      0.41      0.42      1340\n",
      "         3.0       0.28      0.10      0.15       795\n",
      "\n",
      "    accuracy                           0.54      4479\n",
      "   macro avg       0.44      0.42      0.42      4479\n",
      "weighted avg       0.50      0.54      0.51      4479\n",
      "\n"
     ]
    },
    {
     "name": "stderr",
     "output_type": "stream",
     "text": [
      "\r",
      " 50%|█████     | 6/12 [00:10<00:10,  1.78s/it]"
     ]
    },
    {
     "name": "stdout",
     "output_type": "stream",
     "text": [
      "Index(['month', 'day', 'year', 'hour', 'minute', 'holiday'], dtype='object')\n",
      "For 6 features: \n",
      " Accuracy: 0.5241895819360608 \n",
      " Precision: 0.4655177225999826 \n",
      " Recall: 0.4517148679392965 \n",
      " F1 score: 0.44479734888398303\n",
      "              precision    recall  f1-score   support\n",
      "\n",
      "         1.0       0.63      0.71      0.67      2343\n",
      "         2.0       0.53      0.29      0.37      1353\n",
      "         3.0       0.29      0.40      0.34       777\n",
      "\n",
      "    accuracy                           0.53      4473\n",
      "   macro avg       0.48      0.47      0.46      4473\n",
      "weighted avg       0.54      0.53      0.52      4473\n",
      "\n"
     ]
    },
    {
     "name": "stderr",
     "output_type": "stream",
     "text": [
      "\r",
      " 58%|█████▊    | 7/12 [00:12<00:09,  1.84s/it]"
     ]
    },
    {
     "name": "stdout",
     "output_type": "stream",
     "text": [
      "Index(['month', 'day', 'year', 'hour', 'minute', 'holiday', 'dayOfTheWeek'], dtype='object')\n",
      "For 7 features: \n",
      " Accuracy: 0.5367472576673382 \n",
      " Precision: 0.4686904936955043 \n",
      " Recall: 0.4529970573688298 \n",
      " F1 score: 0.45322633134381946\n",
      "              precision    recall  f1-score   support\n",
      "\n",
      "         1.0       0.63      0.72      0.67      2347\n",
      "         2.0       0.44      0.40      0.42      1337\n",
      "         3.0       0.32      0.23      0.27       783\n",
      "\n",
      "    accuracy                           0.54      4467\n",
      "   macro avg       0.46      0.45      0.45      4467\n",
      "weighted avg       0.52      0.54      0.52      4467\n",
      "\n"
     ]
    },
    {
     "name": "stderr",
     "output_type": "stream",
     "text": [
      "\r",
      " 67%|██████▋   | 8/12 [00:14<00:07,  1.87s/it]"
     ]
    },
    {
     "name": "stdout",
     "output_type": "stream",
     "text": [
      "Index(['month', 'day', 'year', 'hour', 'minute', 'holiday', 'dayOfTheWeek',\n",
      "       'Pandemic'],\n",
      "      dtype='object')\n",
      "For 8 features: \n",
      " Accuracy: 0.5325375476350594 \n",
      " Precision: 0.47237574659730397 \n",
      " Recall: 0.45872201535097457 \n",
      " F1 score: 0.45128090731535914\n",
      "              precision    recall  f1-score   support\n",
      "\n",
      "         1.0       0.63      0.71      0.67      2358\n",
      "         2.0       0.44      0.39      0.41      1325\n",
      "         3.0       0.33      0.28      0.30       778\n",
      "\n",
      "    accuracy                           0.54      4461\n",
      "   macro avg       0.47      0.46      0.46      4461\n",
      "weighted avg       0.52      0.54      0.53      4461\n",
      "\n"
     ]
    },
    {
     "name": "stderr",
     "output_type": "stream",
     "text": [
      "\r",
      " 75%|███████▌  | 9/12 [00:16<00:05,  1.91s/it]"
     ]
    },
    {
     "name": "stdout",
     "output_type": "stream",
     "text": [
      "Index(['month', 'day', 'year', 'hour', 'minute', 'holiday', 'dayOfTheWeek',\n",
      "       'Pandemic', 'temperature'],\n",
      "      dtype='object')\n",
      "For 9 features: \n",
      " Accuracy: 0.552996632996633 \n",
      " Precision: 0.48661740574119877 \n",
      " Recall: 0.474088027480346 \n",
      " F1 score: 0.4739239809184633\n",
      "              precision    recall  f1-score   support\n",
      "\n",
      "         1.0       0.64      0.75      0.69      2291\n",
      "         2.0       0.56      0.31      0.40      1360\n",
      "         3.0       0.35      0.44      0.39       804\n",
      "\n",
      "    accuracy                           0.56      4455\n",
      "   macro avg       0.52      0.50      0.49      4455\n",
      "weighted avg       0.56      0.56      0.55      4455\n",
      "\n"
     ]
    },
    {
     "name": "stderr",
     "output_type": "stream",
     "text": [
      "\r",
      " 83%|████████▎ | 10/12 [00:18<00:03,  1.98s/it]"
     ]
    },
    {
     "name": "stdout",
     "output_type": "stream",
     "text": [
      "Index(['month', 'day', 'year', 'hour', 'minute', 'holiday', 'dayOfTheWeek',\n",
      "       'Pandemic', 'temperature', 'humidity'],\n",
      "      dtype='object')\n",
      "For 10 features: \n",
      " Accuracy: 0.557788267026298 \n",
      " Precision: 0.48729148715422066 \n",
      " Recall: 0.47495780250060826 \n",
      " F1 score: 0.47567892712323345\n",
      "              precision    recall  f1-score   support\n",
      "\n",
      "         1.0       0.64      0.73      0.68      2316\n",
      "         2.0       0.45      0.45      0.45      1333\n",
      "         3.0       0.33      0.21      0.25       800\n",
      "\n",
      "    accuracy                           0.55      4449\n",
      "   macro avg       0.47      0.46      0.46      4449\n",
      "weighted avg       0.53      0.55      0.53      4449\n",
      "\n"
     ]
    },
    {
     "name": "stderr",
     "output_type": "stream",
     "text": [
      "\r",
      " 92%|█████████▏| 11/12 [00:20<00:02,  2.06s/it]"
     ]
    },
    {
     "name": "stdout",
     "output_type": "stream",
     "text": [
      "Index(['month', 'day', 'year', 'hour', 'minute', 'holiday', 'dayOfTheWeek',\n",
      "       'Pandemic', 'temperature', 'humidity', 'pressure'],\n",
      "      dtype='object')\n",
      "For 11 features: \n",
      " Accuracy: 0.5597231600270088 \n",
      " Precision: 0.4890001632870536 \n",
      " Recall: 0.4779145790772366 \n",
      " F1 score: 0.47910352437786174\n",
      "              precision    recall  f1-score   support\n",
      "\n",
      "         1.0       0.65      0.76      0.70      2301\n",
      "         2.0       0.53      0.39      0.45      1365\n",
      "         3.0       0.30      0.30      0.30       777\n",
      "\n",
      "    accuracy                           0.56      4443\n",
      "   macro avg       0.49      0.48      0.48      4443\n",
      "weighted avg       0.55      0.56      0.55      4443\n",
      "\n"
     ]
    },
    {
     "name": "stderr",
     "output_type": "stream",
     "text": [
      "100%|██████████| 12/12 [00:22<00:00,  1.89s/it]\n",
      "  0%|          | 0/12 [00:00<?, ?it/s]"
     ]
    },
    {
     "name": "stdout",
     "output_type": "stream",
     "text": [
      "Index(['month', 'day', 'year', 'hour', 'minute', 'holiday', 'dayOfTheWeek',\n",
      "       'Pandemic', 'temperature', 'humidity', 'pressure', 'report'],\n",
      "      dtype='object')\n",
      "For 12 features: \n",
      " Accuracy: 0.5562993013297273 \n",
      " Precision: 0.48755278518691825 \n",
      " Recall: 0.4765251212199196 \n",
      " F1 score: 0.4767591997917047\n",
      "              precision    recall  f1-score   support\n",
      "\n",
      "         1.0       0.65      0.75      0.69      2323\n",
      "         2.0       0.47      0.38      0.42      1333\n",
      "         3.0       0.32      0.28      0.30       781\n",
      "\n",
      "    accuracy                           0.56      4437\n",
      "   macro avg       0.48      0.47      0.47      4437\n",
      "weighted avg       0.54      0.56      0.54      4437\n",
      "\n",
      "\n",
      " \n",
      "\n",
      "------------------------- Analyzing method mutualInformation_classification2 -------------------------\n",
      "The variable order is: \n",
      " ['day', 'temperature', 'month', 'humidity', 'hour', 'dayOfTheWeek', 'pressure', 'holiday', 'year', 'report', 'minute', 'Pandemic']\n"
     ]
    },
    {
     "name": "stderr",
     "output_type": "stream",
     "text": [
      "\r",
      "  8%|▊         | 1/12 [00:01<00:15,  1.44s/it]"
     ]
    },
    {
     "name": "stdout",
     "output_type": "stream",
     "text": [
      "Index(['day'], dtype='object')\n",
      "For 1 features: \n",
      " Accuracy: 0.3628977657413676 \n",
      " Precision: 0.24022861608984683 \n",
      " Recall: 0.33432009280754127 \n",
      " F1 score: 0.24219430439683606\n",
      "              precision    recall  f1-score   support\n",
      "\n",
      "         1.0       0.47      0.18      0.26      2309\n",
      "         2.0       0.32      0.51      0.39      1352\n",
      "         3.0       0.13      0.23      0.17       770\n",
      "\n",
      "    accuracy                           0.29      4431\n",
      "   macro avg       0.31      0.31      0.27      4431\n",
      "weighted avg       0.36      0.29      0.29      4431\n",
      "\n"
     ]
    },
    {
     "name": "stderr",
     "output_type": "stream",
     "text": [
      "\r",
      " 17%|█▋        | 2/12 [00:02<00:14,  1.46s/it]"
     ]
    },
    {
     "name": "stdout",
     "output_type": "stream",
     "text": [
      "Index(['day', 'temperature'], dtype='object')\n",
      "For 2 features: \n",
      " Accuracy: 0.4673333333333333 \n",
      " Precision: 0.3336096042663039 \n",
      " Recall: 0.36571899185366524 \n",
      " F1 score: 0.32620589082491297\n",
      "              precision    recall  f1-score   support\n",
      "\n",
      "         1.0       0.56      0.59      0.58      2283\n",
      "         2.0       0.33      0.25      0.28      1344\n",
      "         3.0       0.19      0.24      0.21       798\n",
      "\n",
      "    accuracy                           0.42      4425\n",
      "   macro avg       0.36      0.36      0.36      4425\n",
      "weighted avg       0.42      0.42      0.42      4425\n",
      "\n"
     ]
    },
    {
     "name": "stderr",
     "output_type": "stream",
     "text": [
      "\r",
      " 25%|██▌       | 3/12 [00:04<00:13,  1.47s/it]"
     ]
    },
    {
     "name": "stdout",
     "output_type": "stream",
     "text": [
      "Index(['day', 'temperature', 'month'], dtype='object')\n",
      "For 3 features: \n",
      " Accuracy: 0.43552840009051824 \n",
      " Precision: 0.3192499127899745 \n",
      " Recall: 0.3630399876252384 \n",
      " F1 score: 0.2967887810993462\n",
      "              precision    recall  f1-score   support\n",
      "\n",
      "         1.0       0.61      0.36      0.45      2315\n",
      "         2.0       0.33      0.76      0.46      1337\n",
      "         3.0       0.00      0.00      0.00       767\n",
      "\n",
      "    accuracy                           0.42      4419\n",
      "   macro avg       0.31      0.37      0.30      4419\n",
      "weighted avg       0.42      0.42      0.37      4419\n",
      "\n"
     ]
    },
    {
     "name": "stderr",
     "output_type": "stream",
     "text": [
      "\r",
      " 33%|███▎      | 4/12 [00:05<00:12,  1.52s/it]"
     ]
    },
    {
     "name": "stdout",
     "output_type": "stream",
     "text": [
      "Index(['day', 'temperature', 'month', 'humidity'], dtype='object')\n",
      "For 4 features: \n",
      " Accuracy: 0.4636301835486064 \n",
      " Precision: 0.38211502409179693 \n",
      " Recall: 0.3816000752976826 \n",
      " F1 score: 0.3522025221163642\n",
      "              precision    recall  f1-score   support\n",
      "\n",
      "         1.0       0.65      0.49      0.56      2319\n",
      "         2.0       0.35      0.59      0.44      1320\n",
      "         3.0       0.25      0.14      0.18       774\n",
      "\n",
      "    accuracy                           0.46      4413\n",
      "   macro avg       0.42      0.41      0.39      4413\n",
      "weighted avg       0.49      0.46      0.45      4413\n",
      "\n"
     ]
    },
    {
     "name": "stderr",
     "output_type": "stream",
     "text": [
      "\r",
      " 42%|████▏     | 5/12 [00:07<00:11,  1.62s/it]"
     ]
    },
    {
     "name": "stdout",
     "output_type": "stream",
     "text": [
      "Index(['day', 'temperature', 'month', 'humidity', 'hour'], dtype='object')\n",
      "For 5 features: \n",
      " Accuracy: 0.4800317676423871 \n",
      " Precision: 0.36717127245896763 \n",
      " Recall: 0.4103249299405106 \n",
      " F1 score: 0.363552964021276\n",
      "              precision    recall  f1-score   support\n",
      "\n",
      "         1.0       0.61      0.69      0.65      2304\n",
      "         2.0       0.38      0.44      0.41      1297\n",
      "         3.0       0.32      0.10      0.15       806\n",
      "\n",
      "    accuracy                           0.51      4407\n",
      "   macro avg       0.43      0.41      0.40      4407\n",
      "weighted avg       0.49      0.51      0.49      4407\n",
      "\n"
     ]
    },
    {
     "name": "stderr",
     "output_type": "stream",
     "text": [
      "\r",
      " 50%|█████     | 6/12 [00:09<00:10,  1.71s/it]"
     ]
    },
    {
     "name": "stdout",
     "output_type": "stream",
     "text": [
      "Index(['day', 'temperature', 'month', 'humidity', 'hour', 'dayOfTheWeek'], dtype='object')\n",
      "For 6 features: \n",
      " Accuracy: 0.4730515791865485 \n",
      " Precision: 0.38575249518269583 \n",
      " Recall: 0.4131186769873112 \n",
      " F1 score: 0.3550664729497134\n",
      "              precision    recall  f1-score   support\n",
      "\n",
      "         1.0       0.61      0.67      0.64      2311\n",
      "         2.0       0.40      0.04      0.08      1290\n",
      "         3.0       0.25      0.55      0.34       800\n",
      "\n",
      "    accuracy                           0.46      4401\n",
      "   macro avg       0.42      0.42      0.35      4401\n",
      "weighted avg       0.48      0.46      0.42      4401\n",
      "\n"
     ]
    },
    {
     "name": "stderr",
     "output_type": "stream",
     "text": [
      "\r",
      " 58%|█████▊    | 7/12 [00:11<00:08,  1.79s/it]"
     ]
    },
    {
     "name": "stdout",
     "output_type": "stream",
     "text": [
      "Index(['day', 'temperature', 'month', 'humidity', 'hour', 'dayOfTheWeek',\n",
      "       'pressure'],\n",
      "      dtype='object')\n",
      "For 7 features: \n",
      " Accuracy: 0.48869169510807736 \n",
      " Precision: 0.402031874668588 \n",
      " Recall: 0.40663645232622436 \n",
      " F1 score: 0.38229986390053916\n",
      "              precision    recall  f1-score   support\n",
      "\n",
      "         1.0       0.61      0.69      0.65      2303\n",
      "         2.0       0.37      0.07      0.12      1288\n",
      "         3.0       0.25      0.50      0.34       804\n",
      "\n",
      "    accuracy                           0.47      4395\n",
      "   macro avg       0.41      0.42      0.37      4395\n",
      "weighted avg       0.48      0.47      0.44      4395\n",
      "\n"
     ]
    },
    {
     "name": "stderr",
     "output_type": "stream",
     "text": [
      "\r",
      " 67%|██████▋   | 8/12 [00:13<00:07,  1.85s/it]"
     ]
    },
    {
     "name": "stdout",
     "output_type": "stream",
     "text": [
      "Index(['day', 'temperature', 'month', 'humidity', 'hour', 'dayOfTheWeek',\n",
      "       'pressure', 'holiday'],\n",
      "      dtype='object')\n",
      "For 8 features: \n",
      " Accuracy: 0.4902825244930508 \n",
      " Precision: 0.41710559556202775 \n",
      " Recall: 0.434839254866645 \n",
      " F1 score: 0.4040074921755316\n",
      "              precision    recall  f1-score   support\n",
      "\n",
      "         1.0       0.64      0.66      0.65      2319\n",
      "         2.0       0.49      0.03      0.06      1278\n",
      "         3.0       0.26      0.63      0.37       792\n",
      "\n",
      "    accuracy                           0.47      4389\n",
      "   macro avg       0.46      0.44      0.36      4389\n",
      "weighted avg       0.53      0.47      0.43      4389\n",
      "\n"
     ]
    },
    {
     "name": "stderr",
     "output_type": "stream",
     "text": [
      "\r",
      " 75%|███████▌  | 9/12 [00:15<00:05,  1.93s/it]"
     ]
    },
    {
     "name": "stdout",
     "output_type": "stream",
     "text": [
      "Index(['day', 'temperature', 'month', 'humidity', 'hour', 'dayOfTheWeek',\n",
      "       'pressure', 'holiday', 'year'],\n",
      "      dtype='object')\n",
      "For 9 features: \n",
      " Accuracy: 0.5567761806981519 \n",
      " Precision: 0.48625838310631697 \n",
      " Recall: 0.473677743190587 \n",
      " F1 score: 0.471749454969936\n",
      "              precision    recall  f1-score   support\n",
      "\n",
      "         1.0       0.67      0.73      0.70      2314\n",
      "         2.0       0.53      0.25      0.34      1280\n",
      "         3.0       0.34      0.55      0.42       789\n",
      "\n",
      "    accuracy                           0.56      4383\n",
      "   macro avg       0.51      0.51      0.48      4383\n",
      "weighted avg       0.57      0.56      0.54      4383\n",
      "\n"
     ]
    },
    {
     "name": "stderr",
     "output_type": "stream",
     "text": [
      "\r",
      " 83%|████████▎ | 10/12 [00:17<00:03,  1.98s/it]"
     ]
    },
    {
     "name": "stdout",
     "output_type": "stream",
     "text": [
      "Index(['day', 'temperature', 'month', 'humidity', 'hour', 'dayOfTheWeek',\n",
      "       'pressure', 'holiday', 'year', 'report'],\n",
      "      dtype='object')\n",
      "For 10 features: \n",
      " Accuracy: 0.5551519305460361 \n",
      " Precision: 0.48595239808278934 \n",
      " Recall: 0.473678619843662 \n",
      " F1 score: 0.4724525934624015\n",
      "              precision    recall  f1-score   support\n",
      "\n",
      "         1.0       0.67      0.73      0.70      2376\n",
      "         2.0       0.44      0.44      0.44      1258\n",
      "         3.0       0.32      0.23      0.27       743\n",
      "\n",
      "    accuracy                           0.56      4377\n",
      "   macro avg       0.48      0.47      0.47      4377\n",
      "weighted avg       0.54      0.56      0.55      4377\n",
      "\n"
     ]
    },
    {
     "name": "stderr",
     "output_type": "stream",
     "text": [
      "\r",
      " 92%|█████████▏| 11/12 [00:20<00:02,  2.05s/it]"
     ]
    },
    {
     "name": "stdout",
     "output_type": "stream",
     "text": [
      "Index(['day', 'temperature', 'month', 'humidity', 'hour', 'dayOfTheWeek',\n",
      "       'pressure', 'holiday', 'year', 'report', 'minute'],\n",
      "      dtype='object')\n",
      "For 11 features: \n",
      " Accuracy: 0.5518874399450926 \n",
      " Precision: 0.48017026101396015 \n",
      " Recall: 0.47174852028251063 \n",
      " F1 score: 0.47156010100292245\n",
      "              precision    recall  f1-score   support\n",
      "\n",
      "         1.0       0.65      0.71      0.68      2284\n",
      "         2.0       0.45      0.44      0.45      1281\n",
      "         3.0       0.29      0.21      0.25       806\n",
      "\n",
      "    accuracy                           0.54      4371\n",
      "   macro avg       0.46      0.46      0.46      4371\n",
      "weighted avg       0.52      0.54      0.53      4371\n",
      "\n"
     ]
    },
    {
     "name": "stderr",
     "output_type": "stream",
     "text": [
      "100%|██████████| 12/12 [00:22<00:00,  1.86s/it]\n",
      "  0%|          | 0/12 [00:00<?, ?it/s]"
     ]
    },
    {
     "name": "stdout",
     "output_type": "stream",
     "text": [
      "Index(['day', 'temperature', 'month', 'humidity', 'hour', 'dayOfTheWeek',\n",
      "       'pressure', 'holiday', 'year', 'report', 'minute', 'Pandemic'],\n",
      "      dtype='object')\n",
      "For 12 features: \n",
      " Accuracy: 0.5510538373424971 \n",
      " Precision: 0.48537992502091953 \n",
      " Recall: 0.47441775298427696 \n",
      " F1 score: 0.47123268689796577\n",
      "              precision    recall  f1-score   support\n",
      "\n",
      "         1.0       0.65      0.73      0.69      2280\n",
      "         2.0       0.43      0.45      0.44      1314\n",
      "         3.0       0.33      0.19      0.24       771\n",
      "\n",
      "    accuracy                           0.55      4365\n",
      "   macro avg       0.47      0.46      0.46      4365\n",
      "weighted avg       0.53      0.55      0.54      4365\n",
      "\n",
      "\n",
      " \n",
      "\n",
      "------------------------- Analyzing method variableThreshold -------------------------\n",
      "The variable order is: \n",
      " ['month', 'day', 'year', 'hour', 'minute', 'holiday', 'dayOfTheWeek', 'temperature', 'humidity', 'pressure', 'report']\n"
     ]
    },
    {
     "name": "stderr",
     "output_type": "stream",
     "text": [
      "\r",
      "  8%|▊         | 1/12 [00:01<00:15,  1.44s/it]"
     ]
    },
    {
     "name": "stdout",
     "output_type": "stream",
     "text": [
      "Index(['month'], dtype='object')\n",
      "For 1 features: \n",
      " Accuracy: 0.3295021793989447 \n",
      " Precision: 0.2248773012749613 \n",
      " Recall: 0.33593686793372995 \n",
      " F1 score: 0.24186872716432445\n",
      "              precision    recall  f1-score   support\n",
      "\n",
      "         1.0       0.00      0.00      0.00      2300\n",
      "         2.0       0.27      0.60      0.38      1267\n",
      "         3.0       0.22      0.44      0.30       792\n",
      "\n",
      "    accuracy                           0.26      4359\n",
      "   macro avg       0.17      0.35      0.22      4359\n",
      "weighted avg       0.12      0.26      0.16      4359\n",
      "\n"
     ]
    },
    {
     "name": "stderr",
     "output_type": "stream",
     "text": [
      "\r",
      " 17%|█▋        | 2/12 [00:02<00:14,  1.43s/it]"
     ]
    },
    {
     "name": "stdout",
     "output_type": "stream",
     "text": [
      "Index(['month', 'day'], dtype='object')\n",
      "For 2 features: \n",
      " Accuracy: 0.36138295428440154 \n",
      " Precision: 0.281189810254103 \n",
      " Recall: 0.33441013835555095 \n",
      " F1 score: 0.26476016189357116\n",
      "              precision    recall  f1-score   support\n",
      "\n",
      "         1.0       0.47      0.12      0.19      2268\n",
      "         2.0       0.32      0.36      0.34      1285\n",
      "         3.0       0.19      0.54      0.28       800\n",
      "\n",
      "    accuracy                           0.27      4353\n",
      "   macro avg       0.32      0.34      0.27      4353\n",
      "weighted avg       0.37      0.27      0.25      4353\n",
      "\n"
     ]
    },
    {
     "name": "stderr",
     "output_type": "stream",
     "text": [
      "\r",
      " 25%|██▌       | 3/12 [00:04<00:13,  1.52s/it]"
     ]
    },
    {
     "name": "stdout",
     "output_type": "stream",
     "text": [
      "Index(['month', 'day', 'year'], dtype='object')\n",
      "For 3 features: \n",
      " Accuracy: 0.4447895100069013 \n",
      " Precision: 0.35848197953029526 \n",
      " Recall: 0.39405442459108153 \n",
      " F1 score: 0.35746683470042373\n",
      "              precision    recall  f1-score   support\n",
      "\n",
      "         1.0       0.66      0.44      0.53      2309\n",
      "         2.0       0.32      0.29      0.30      1286\n",
      "         3.0       0.19      0.42      0.26       752\n",
      "\n",
      "    accuracy                           0.39      4347\n",
      "   macro avg       0.39      0.38      0.37      4347\n",
      "weighted avg       0.48      0.39      0.42      4347\n",
      "\n"
     ]
    },
    {
     "name": "stderr",
     "output_type": "stream",
     "text": [
      "\r",
      " 33%|███▎      | 4/12 [00:06<00:12,  1.58s/it]"
     ]
    },
    {
     "name": "stdout",
     "output_type": "stream",
     "text": [
      "Index(['month', 'day', 'year', 'hour'], dtype='object')\n",
      "For 4 features: \n",
      " Accuracy: 0.5080972126238193 \n",
      " Precision: 0.3761984275379655 \n",
      " Recall: 0.4206918401547924 \n",
      " F1 score: 0.38490217468814764\n",
      "              precision    recall  f1-score   support\n",
      "\n",
      "         1.0       0.65      0.69      0.67      2285\n",
      "         2.0       0.24      0.09      0.13      1243\n",
      "         3.0       0.25      0.45      0.32       813\n",
      "\n",
      "    accuracy                           0.47      4341\n",
      "   macro avg       0.38      0.41      0.37      4341\n",
      "weighted avg       0.46      0.47      0.45      4341\n",
      "\n"
     ]
    },
    {
     "name": "stderr",
     "output_type": "stream",
     "text": [
      "\r",
      " 42%|████▏     | 5/12 [00:07<00:11,  1.64s/it]"
     ]
    },
    {
     "name": "stdout",
     "output_type": "stream",
     "text": [
      "Index(['month', 'day', 'year', 'hour', 'minute'], dtype='object')\n",
      "For 5 features: \n",
      " Accuracy: 0.5142560553633219 \n",
      " Precision: 0.39098007614524805 \n",
      " Recall: 0.4164654755710584 \n",
      " F1 score: 0.3901510391711523\n",
      "              precision    recall  f1-score   support\n",
      "\n",
      "         1.0       0.62      0.71      0.66      2286\n",
      "         2.0       0.45      0.27      0.34      1274\n",
      "         3.0       0.25      0.31      0.28       775\n",
      "\n",
      "    accuracy                           0.51      4335\n",
      "   macro avg       0.44      0.43      0.42      4335\n",
      "weighted avg       0.50      0.51      0.50      4335\n",
      "\n"
     ]
    },
    {
     "name": "stderr",
     "output_type": "stream",
     "text": [
      "\r",
      " 50%|█████     | 6/12 [00:09<00:10,  1.70s/it]"
     ]
    },
    {
     "name": "stdout",
     "output_type": "stream",
     "text": [
      "Index(['month', 'day', 'year', 'hour', 'minute', 'holiday'], dtype='object')\n",
      "For 6 features: \n",
      " Accuracy: 0.5196119196119197 \n",
      " Precision: 0.4415436868585205 \n",
      " Recall: 0.44636297561321076 \n",
      " F1 score: 0.43062502925214613\n",
      "              precision    recall  f1-score   support\n",
      "\n",
      "         1.0       0.63      0.71      0.67      2297\n",
      "         2.0       0.48      0.25      0.33      1225\n",
      "         3.0       0.30      0.41      0.35       807\n",
      "\n",
      "    accuracy                           0.52      4329\n",
      "   macro avg       0.47      0.46      0.45      4329\n",
      "weighted avg       0.53      0.52      0.51      4329\n",
      "\n"
     ]
    },
    {
     "name": "stderr",
     "output_type": "stream",
     "text": [
      "\r",
      " 58%|█████▊    | 7/12 [00:11<00:08,  1.73s/it]"
     ]
    },
    {
     "name": "stdout",
     "output_type": "stream",
     "text": [
      "Index(['month', 'day', 'year', 'hour', 'minute', 'holiday', 'dayOfTheWeek'], dtype='object')\n",
      "For 7 features: \n",
      " Accuracy: 0.5223108952116585 \n",
      " Precision: 0.4409036782491872 \n",
      " Recall: 0.44891404541893715 \n",
      " F1 score: 0.4291081535942454\n",
      "              precision    recall  f1-score   support\n",
      "\n",
      "         1.0       0.63      0.72      0.67      2333\n",
      "         2.0       0.40      0.07      0.12      1251\n",
      "         3.0       0.27      0.52      0.35       739\n",
      "\n",
      "    accuracy                           0.50      4323\n",
      "   macro avg       0.43      0.44      0.38      4323\n",
      "weighted avg       0.50      0.50      0.46      4323\n",
      "\n"
     ]
    },
    {
     "name": "stderr",
     "output_type": "stream",
     "text": [
      "\r",
      " 67%|██████▋   | 8/12 [00:13<00:07,  1.81s/it]"
     ]
    },
    {
     "name": "stdout",
     "output_type": "stream",
     "text": [
      "Index(['month', 'day', 'year', 'hour', 'minute', 'holiday', 'dayOfTheWeek',\n",
      "       'temperature'],\n",
      "      dtype='object')\n",
      "For 8 features: \n",
      " Accuracy: 0.5529071114199675 \n",
      " Precision: 0.48088672751099076 \n",
      " Recall: 0.4699337152095616 \n",
      " F1 score: 0.46876607536359033\n",
      "              precision    recall  f1-score   support\n",
      "\n",
      "         1.0       0.65      0.73      0.69      2293\n",
      "         2.0       0.46      0.40      0.43      1247\n",
      "         3.0       0.33      0.28      0.30       777\n",
      "\n",
      "    accuracy                           0.56      4317\n",
      "   macro avg       0.48      0.47      0.48      4317\n",
      "weighted avg       0.54      0.56      0.55      4317\n",
      "\n"
     ]
    },
    {
     "name": "stderr",
     "output_type": "stream",
     "text": [
      "\r",
      " 75%|███████▌  | 9/12 [00:15<00:05,  1.96s/it]"
     ]
    },
    {
     "name": "stdout",
     "output_type": "stream",
     "text": [
      "Index(['month', 'day', 'year', 'hour', 'minute', 'holiday', 'dayOfTheWeek',\n",
      "       'temperature', 'humidity'],\n",
      "      dtype='object')\n",
      "For 9 features: \n",
      " Accuracy: 0.5560194850382741 \n",
      " Precision: 0.48311062463529436 \n",
      " Recall: 0.47240497558235395 \n",
      " F1 score: 0.4716391380996717\n",
      "              precision    recall  f1-score   support\n",
      "\n",
      "         1.0       0.66      0.74      0.70      2282\n",
      "         2.0       0.46      0.42      0.44      1268\n",
      "         3.0       0.32      0.25      0.28       761\n",
      "\n",
      "    accuracy                           0.56      4311\n",
      "   macro avg       0.48      0.47      0.47      4311\n",
      "weighted avg       0.54      0.56      0.55      4311\n",
      "\n"
     ]
    },
    {
     "name": "stderr",
     "output_type": "stream",
     "text": [
      "\r",
      " 83%|████████▎ | 10/12 [00:17<00:04,  2.02s/it]"
     ]
    },
    {
     "name": "stdout",
     "output_type": "stream",
     "text": [
      "Index(['month', 'day', 'year', 'hour', 'minute', 'holiday', 'dayOfTheWeek',\n",
      "       'temperature', 'humidity', 'pressure'],\n",
      "      dtype='object')\n",
      "For 10 features: \n",
      " Accuracy: 0.5530429732868757 \n",
      " Precision: 0.48451911869865766 \n",
      " Recall: 0.47336384747645444 \n",
      " F1 score: 0.4708698451840508\n",
      "              precision    recall  f1-score   support\n",
      "\n",
      "         1.0       0.66      0.73      0.69      2285\n",
      "         2.0       0.49      0.39      0.43      1251\n",
      "         3.0       0.31      0.31      0.31       769\n",
      "\n",
      "    accuracy                           0.56      4305\n",
      "   macro avg       0.48      0.47      0.48      4305\n",
      "weighted avg       0.54      0.56      0.55      4305\n",
      "\n"
     ]
    },
    {
     "name": "stderr",
     "output_type": "stream",
     "text": [
      "\r",
      " 92%|█████████▏| 11/12 [00:20<00:02,  2.06s/it]"
     ]
    },
    {
     "name": "stdout",
     "output_type": "stream",
     "text": [
      "Index(['month', 'day', 'year', 'hour', 'minute', 'holiday', 'dayOfTheWeek',\n",
      "       'temperature', 'humidity', 'pressure', 'report'],\n",
      "      dtype='object')\n",
      "For 11 features: \n",
      " Accuracy: 0.5552221446848105 \n",
      " Precision: 0.48460171695081367 \n",
      " Recall: 0.474001838279458 \n",
      " F1 score: 0.4722841639370143\n",
      "              precision    recall  f1-score   support\n",
      "\n",
      "         1.0       0.64      0.74      0.69      2251\n",
      "         2.0       0.45      0.43      0.44      1281\n",
      "         3.0       0.32      0.20      0.24       767\n",
      "\n",
      "    accuracy                           0.55      4299\n",
      "   macro avg       0.47      0.46      0.46      4299\n",
      "weighted avg       0.53      0.55      0.53      4299\n",
      "\n"
     ]
    },
    {
     "name": "stderr",
     "output_type": "stream",
     "text": [
      "100%|██████████| 12/12 [00:22<00:00,  1.85s/it]\n",
      "  0%|          | 0/12 [00:00<?, ?it/s]"
     ]
    },
    {
     "name": "stdout",
     "output_type": "stream",
     "text": [
      "Index(['month', 'day', 'year', 'hour', 'minute', 'holiday', 'dayOfTheWeek',\n",
      "       'temperature', 'humidity', 'pressure', 'report'],\n",
      "      dtype='object')\n",
      "For 12 features: \n",
      " Accuracy: 0.557221057535523 \n",
      " Precision: 0.4823121357160364 \n",
      " Recall: 0.4714154165317755 \n",
      " F1 score: 0.47173046285461046\n",
      "              precision    recall  f1-score   support\n",
      "\n",
      "         1.0       0.65      0.72      0.69      2244\n",
      "         2.0       0.46      0.38      0.42      1250\n",
      "         3.0       0.32      0.32      0.32       799\n",
      "\n",
      "    accuracy                           0.55      4293\n",
      "   macro avg       0.48      0.47      0.48      4293\n",
      "weighted avg       0.54      0.55      0.54      4293\n",
      "\n",
      "\n",
      " \n",
      "\n",
      "------------------------- Analyzing method MRMR -------------------------\n",
      "The variable order is: \n",
      " ['temperature', 'dayOfTheWeek', 'hour', 'holiday', 'humidity', 'day', 'year', 'month', 'pressure', 'minute', 'report']\n"
     ]
    },
    {
     "name": "stderr",
     "output_type": "stream",
     "text": [
      "\r",
      "  8%|▊         | 1/12 [00:01<00:15,  1.37s/it]"
     ]
    },
    {
     "name": "stdout",
     "output_type": "stream",
     "text": [
      "Index(['temperature'], dtype='object')\n",
      "For 1 features: \n",
      " Accuracy: 0.45716118497784 \n",
      " Precision: 0.2979168158024296 \n",
      " Recall: 0.3551688201410789 \n",
      " F1 score: 0.30277643013243644\n",
      "              precision    recall  f1-score   support\n",
      "\n",
      "         1.0       0.58      0.67      0.62      2300\n",
      "         2.0       0.35      0.45      0.39      1263\n",
      "         3.0       0.00      0.00      0.00       724\n",
      "\n",
      "    accuracy                           0.49      4287\n",
      "   macro avg       0.31      0.37      0.34      4287\n",
      "weighted avg       0.41      0.49      0.45      4287\n",
      "\n"
     ]
    },
    {
     "name": "stderr",
     "output_type": "stream",
     "text": [
      "\r",
      " 17%|█▋        | 2/12 [00:02<00:14,  1.41s/it]"
     ]
    },
    {
     "name": "stdout",
     "output_type": "stream",
     "text": [
      "Index(['temperature', 'dayOfTheWeek'], dtype='object')\n",
      "For 2 features: \n",
      " Accuracy: 0.46099042279841157 \n",
      " Precision: 0.33346851790461995 \n",
      " Recall: 0.36390362728976194 \n",
      " F1 score: 0.32417905572588673\n",
      "              precision    recall  f1-score   support\n",
      "\n",
      "         1.0       0.55      0.85      0.67      2303\n",
      "         2.0       0.27      0.08      0.13      1237\n",
      "         3.0       0.32      0.15      0.20       741\n",
      "\n",
      "    accuracy                           0.51      4281\n",
      "   macro avg       0.38      0.36      0.33      4281\n",
      "weighted avg       0.43      0.51      0.43      4281\n",
      "\n"
     ]
    },
    {
     "name": "stderr",
     "output_type": "stream",
     "text": [
      "\r",
      " 25%|██▌       | 3/12 [00:04<00:13,  1.51s/it]"
     ]
    },
    {
     "name": "stdout",
     "output_type": "stream",
     "text": [
      "Index(['temperature', 'dayOfTheWeek', 'hour'], dtype='object')\n",
      "For 3 features: \n",
      " Accuracy: 0.4633918128654971 \n",
      " Precision: 0.362713997833031 \n",
      " Recall: 0.39658938713387987 \n",
      " F1 score: 0.3472556660273884\n",
      "              precision    recall  f1-score   support\n",
      "\n",
      "         1.0       0.58      0.65      0.62      2227\n",
      "         2.0       0.37      0.44      0.40      1273\n",
      "         3.0       0.20      0.07      0.10       775\n",
      "\n",
      "    accuracy                           0.48      4275\n",
      "   macro avg       0.38      0.39      0.37      4275\n",
      "weighted avg       0.45      0.48      0.46      4275\n",
      "\n"
     ]
    },
    {
     "name": "stderr",
     "output_type": "stream",
     "text": [
      "\r",
      " 33%|███▎      | 4/12 [00:06<00:12,  1.57s/it]"
     ]
    },
    {
     "name": "stdout",
     "output_type": "stream",
     "text": [
      "Index(['temperature', 'dayOfTheWeek', 'hour', 'holiday'], dtype='object')\n",
      "For 4 features: \n",
      " Accuracy: 0.4606816584680253 \n",
      " Precision: 0.3449019635173263 \n",
      " Recall: 0.41888927464338344 \n",
      " F1 score: 0.35143766676748683\n",
      "              precision    recall  f1-score   support\n",
      "\n",
      "         1.0       0.60      0.66      0.63      2279\n",
      "         2.0       0.00      0.00      0.00      1227\n",
      "         3.0       0.25      0.58      0.35       763\n",
      "\n",
      "    accuracy                           0.46      4269\n",
      "   macro avg       0.28      0.41      0.33      4269\n",
      "weighted avg       0.37      0.46      0.40      4269\n",
      "\n"
     ]
    },
    {
     "name": "stderr",
     "output_type": "stream",
     "text": [
      "\r",
      " 42%|████▏     | 5/12 [00:07<00:11,  1.61s/it]"
     ]
    },
    {
     "name": "stdout",
     "output_type": "stream",
     "text": [
      "Index(['temperature', 'dayOfTheWeek', 'hour', 'holiday', 'humidity'], dtype='object')\n",
      "For 5 features: \n",
      " Accuracy: 0.46270232230823366 \n",
      " Precision: 0.36228442872434885 \n",
      " Recall: 0.42269497846816967 \n",
      " F1 score: 0.35665151299483666\n",
      "              precision    recall  f1-score   support\n",
      "\n",
      "         1.0       0.61      0.64      0.63      2238\n",
      "         2.0       0.49      0.03      0.05      1256\n",
      "         3.0       0.25      0.60      0.35       769\n",
      "\n",
      "    accuracy                           0.45      4263\n",
      "   macro avg       0.45      0.42      0.34      4263\n",
      "weighted avg       0.51      0.45      0.41      4263\n",
      "\n"
     ]
    },
    {
     "name": "stderr",
     "output_type": "stream",
     "text": [
      "\r",
      " 50%|█████     | 6/12 [00:09<00:09,  1.65s/it]"
     ]
    },
    {
     "name": "stdout",
     "output_type": "stream",
     "text": [
      "Index(['temperature', 'dayOfTheWeek', 'hour', 'holiday', 'humidity', 'day'], dtype='object')\n",
      "For 6 features: \n",
      " Accuracy: 0.47623913554146113 \n",
      " Precision: 0.37376563824454595 \n",
      " Recall: 0.43250565138911184 \n",
      " F1 score: 0.3712254166784017\n",
      "              precision    recall  f1-score   support\n",
      "\n",
      "         1.0       0.62      0.66      0.64      2237\n",
      "         2.0       0.31      0.03      0.05      1249\n",
      "         3.0       0.26      0.60      0.37       771\n",
      "\n",
      "    accuracy                           0.46      4257\n",
      "   macro avg       0.40      0.43      0.35      4257\n",
      "weighted avg       0.46      0.46      0.42      4257\n",
      "\n"
     ]
    },
    {
     "name": "stderr",
     "output_type": "stream",
     "text": [
      "\r",
      " 58%|█████▊    | 7/12 [00:11<00:08,  1.71s/it]"
     ]
    },
    {
     "name": "stdout",
     "output_type": "stream",
     "text": [
      "Index(['temperature', 'dayOfTheWeek', 'hour', 'holiday', 'humidity', 'day',\n",
      "       'year'],\n",
      "      dtype='object')\n",
      "For 7 features: \n",
      " Accuracy: 0.4663373323923783 \n",
      " Precision: 0.37277939593590975 \n",
      " Recall: 0.42896307435042724 \n",
      " F1 score: 0.3519590199090351\n",
      "              precision    recall  f1-score   support\n",
      "\n",
      "         1.0       0.62      0.65      0.64      2256\n",
      "         2.0       0.00      0.00      0.00      1259\n",
      "         3.0       0.26      0.66      0.37       736\n",
      "\n",
      "    accuracy                           0.46      4251\n",
      "   macro avg       0.29      0.44      0.33      4251\n",
      "weighted avg       0.37      0.46      0.40      4251\n",
      "\n"
     ]
    },
    {
     "name": "stderr",
     "output_type": "stream",
     "text": [
      "\r",
      " 67%|██████▋   | 8/12 [00:13<00:07,  1.80s/it]"
     ]
    },
    {
     "name": "stdout",
     "output_type": "stream",
     "text": [
      "Index(['temperature', 'dayOfTheWeek', 'hour', 'holiday', 'humidity', 'day',\n",
      "       'year', 'month'],\n",
      "      dtype='object')\n",
      "For 8 features: \n",
      " Accuracy: 0.560341578327444 \n",
      " Precision: 0.4928505212721461 \n",
      " Recall: 0.48049644917623563 \n",
      " F1 score: 0.4779389318652633\n",
      "              precision    recall  f1-score   support\n",
      "\n",
      "         1.0       0.66      0.76      0.71      2264\n",
      "         2.0       0.45      0.42      0.43      1248\n",
      "         3.0       0.34      0.23      0.27       733\n",
      "\n",
      "    accuracy                           0.57      4245\n",
      "   macro avg       0.48      0.47      0.47      4245\n",
      "weighted avg       0.55      0.57      0.55      4245\n",
      "\n"
     ]
    },
    {
     "name": "stderr",
     "output_type": "stream",
     "text": [
      "\r",
      " 75%|███████▌  | 9/12 [00:15<00:05,  1.83s/it]"
     ]
    },
    {
     "name": "stdout",
     "output_type": "stream",
     "text": [
      "Index(['temperature', 'dayOfTheWeek', 'hour', 'holiday', 'humidity', 'day',\n",
      "       'year', 'month', 'pressure'],\n",
      "      dtype='object')\n",
      "For 9 features: \n",
      " Accuracy: 0.5572540693559802 \n",
      " Precision: 0.489612615897517 \n",
      " Recall: 0.47698798938599485 \n",
      " F1 score: 0.47458483833140025\n",
      "              precision    recall  f1-score   support\n",
      "\n",
      "         1.0       0.66      0.74      0.70      2252\n",
      "         2.0       0.51      0.24      0.33      1217\n",
      "         3.0       0.33      0.51      0.40       770\n",
      "\n",
      "    accuracy                           0.55      4239\n",
      "   macro avg       0.50      0.49      0.48      4239\n",
      "weighted avg       0.56      0.55      0.54      4239\n",
      "\n"
     ]
    },
    {
     "name": "stderr",
     "output_type": "stream",
     "text": [
      "\r",
      " 83%|████████▎ | 10/12 [00:17<00:03,  1.88s/it]"
     ]
    },
    {
     "name": "stdout",
     "output_type": "stream",
     "text": [
      "Index(['temperature', 'dayOfTheWeek', 'hour', 'holiday', 'humidity', 'day',\n",
      "       'year', 'month', 'pressure', 'minute'],\n",
      "      dtype='object')\n",
      "For 10 features: \n",
      " Accuracy: 0.5584691708008505 \n",
      " Precision: 0.488055431178006 \n",
      " Recall: 0.47709243727319706 \n",
      " F1 score: 0.47575111074628995\n",
      "              precision    recall  f1-score   support\n",
      "\n",
      "         1.0       0.66      0.75      0.70      2233\n",
      "         2.0       0.55      0.26      0.35      1249\n",
      "         3.0       0.32      0.46      0.38       751\n",
      "\n",
      "    accuracy                           0.56      4233\n",
      "   macro avg       0.51      0.49      0.48      4233\n",
      "weighted avg       0.57      0.56      0.54      4233\n",
      "\n"
     ]
    },
    {
     "name": "stderr",
     "output_type": "stream",
     "text": [
      "\r",
      " 92%|█████████▏| 11/12 [00:19<00:01,  1.92s/it]"
     ]
    },
    {
     "name": "stdout",
     "output_type": "stream",
     "text": [
      "Index(['temperature', 'dayOfTheWeek', 'hour', 'holiday', 'humidity', 'day',\n",
      "       'year', 'month', 'pressure', 'minute', 'report'],\n",
      "      dtype='object')\n",
      "For 11 features: \n",
      " Accuracy: 0.5619943222143364 \n",
      " Precision: 0.4864992167133188 \n",
      " Recall: 0.4743427657803073 \n",
      " F1 score: 0.4750222490552903\n",
      "              precision    recall  f1-score   support\n",
      "\n",
      "         1.0       0.66      0.76      0.71      2237\n",
      "         2.0       0.47      0.43      0.45      1250\n",
      "         3.0       0.35      0.25      0.29       740\n",
      "\n",
      "    accuracy                           0.57      4227\n",
      "   macro avg       0.49      0.48      0.48      4227\n",
      "weighted avg       0.55      0.57      0.56      4227\n",
      "\n"
     ]
    },
    {
     "name": "stderr",
     "output_type": "stream",
     "text": [
      "100%|██████████| 12/12 [00:21<00:00,  1.78s/it]"
     ]
    },
    {
     "name": "stdout",
     "output_type": "stream",
     "text": [
      "Index(['temperature', 'dayOfTheWeek', 'hour', 'holiday', 'humidity', 'day',\n",
      "       'year', 'month', 'pressure', 'minute', 'report'],\n",
      "      dtype='object')\n",
      "For 12 features: \n",
      " Accuracy: 0.5598081023454158 \n",
      " Precision: 0.4876458426754078 \n",
      " Recall: 0.4756471552245021 \n",
      " F1 score: 0.4748345723960861\n",
      "              precision    recall  f1-score   support\n",
      "\n",
      "         1.0       0.66      0.74      0.70      2239\n",
      "         2.0       0.42      0.45      0.43      1230\n",
      "         3.0       0.37      0.20      0.26       752\n",
      "\n",
      "    accuracy                           0.56      4221\n",
      "   macro avg       0.48      0.46      0.46      4221\n",
      "weighted avg       0.54      0.56      0.54      4221\n",
      "\n",
      "\n",
      " \n",
      "\n"
     ]
    },
    {
     "name": "stderr",
     "output_type": "stream",
     "text": [
      "\n"
     ]
    }
   ],
   "source": [
    "analizeDF(hp2,orderOE,13,n_loops=20)"
   ]
  },
  {
   "cell_type": "markdown",
   "id": "200c81ae",
   "metadata": {},
   "source": [
    "# Hyperparameter Tuning"
   ]
  },
  {
   "cell_type": "code",
   "execution_count": 74,
   "id": "e9306189",
   "metadata": {},
   "outputs": [
    {
     "data": {
      "text/plain": [
       "GridSearchCV(estimator=LinearSVC(),\n",
       "             param_grid={'C': [0.1, 0.5, 1, 5, 10, 50, 100],\n",
       "                         'loss': ['hinge', 'squared_hinge']})"
      ]
     },
     "execution_count": 74,
     "metadata": {},
     "output_type": "execute_result"
    }
   ],
   "source": [
    "from sklearn.model_selection import GridSearchCV\n",
    "\n",
    "param_grid = {'C': [0.1, 0.5, 1, 5, 10, 50, 100], 'loss':['hinge', 'squared_hinge']}\n",
    "\n",
    "grid = GridSearchCV(LinearSVC(),param_grid)\n",
    "grid.fit(X_train_Smot_r,y_train_Smote)"
   ]
  },
  {
   "cell_type": "code",
   "execution_count": 75,
   "id": "c8bb36a6",
   "metadata": {},
   "outputs": [
    {
     "name": "stdout",
     "output_type": "stream",
     "text": [
      "LinearSVC(C=1)\n"
     ]
    }
   ],
   "source": [
    "print(grid.best_estimator_)"
   ]
  },
  {
   "cell_type": "markdown",
   "id": "e1f33ee1",
   "metadata": {},
   "source": [
    "### Trying out the results"
   ]
  },
  {
   "cell_type": "code",
   "execution_count": 11,
   "id": "3c924cfd",
   "metadata": {
    "scrolled": true
   },
   "outputs": [
    {
     "name": "stdout",
     "output_type": "stream",
     "text": [
      "For the parameters are C:0.1, and loss:squared_hinge accuracy is:\n",
      "0.5477989417989418\n",
      "For the parameters are C:0.1, and loss:hinge accuracy is:\n",
      "0.553962962962963\n",
      "For the parameters are C:0.5, and loss:squared_hinge accuracy is:\n",
      "0.5508536155202822\n",
      "For the parameters are C:0.5, and loss:hinge accuracy is:\n",
      "0.5534259259259259\n",
      "For the parameters are C:1, and loss:squared_hinge accuracy is:\n",
      "0.5517544973544973\n",
      "For the parameters are C:1, and loss:hinge accuracy is:\n",
      "0.5533192239858906\n",
      "For the parameters are C:5, and loss:squared_hinge accuracy is:\n",
      "0.5526228269085411\n",
      "For the parameters are C:5, and loss:hinge accuracy is:\n",
      "0.5536534391534391\n",
      "For the parameters are C:10, and loss:squared_hinge accuracy is:\n",
      "0.5527854203409759\n",
      "For the parameters are C:10, and loss:hinge accuracy is:\n",
      "0.5534338624338624\n",
      "For the parameters are C:50, and loss:squared_hinge accuracy is:\n",
      "0.5516084656084657\n",
      "For the parameters are C:50, and loss:hinge accuracy is:\n",
      "0.5514964726631393\n",
      "For the parameters are C:100, and loss:squared_hinge accuracy is:\n",
      "0.5485649165649166\n",
      "For the parameters are C:100, and loss:hinge accuracy is:\n",
      "0.5484822373393802\n"
     ]
    }
   ],
   "source": [
    "c = [0.1, 0.5, 1, 5, 10, 50, 100]\n",
    "LOSS = [\"squared_hinge\", \"hinge\"]\n",
    "loops = 20\n",
    "arr = []\n",
    "\n",
    "mu = ['day',\t'temperature',\t'month',\t'humidity',\t'hour',\t'pressure','dayOfTheWeek',\t'year',\n",
    "      'holiday',\t'shower rain',\t'light rain']\n",
    "\n",
    "for i in range(len(c)):\n",
    "    for j in range(len(LOSS)):\n",
    "        for k in range(loops):\n",
    "            X_train, X_test, y_train, y_test = trainTest(X,Y)\n",
    "            #Oversample the train dataset with SMOTE\n",
    "            X_train_os, y_train_os=overSampling(X_train, y_train, y_test, smote)\n",
    "            #define the variables order \n",
    "            X_train_os_r = X_train_os[mu]\n",
    "            X_test_r = X_test[mu]\n",
    "            lsvm = LinearSVC(C=c[i], loss=LOSS[j])\n",
    "            lsvm.fit(X_train_os_r,y_train_os)\n",
    "            y_pred=lsvm.predict(X_test_r)\n",
    "            score = accuracy_score(y_test, lsvm.predict(X_test_r))\n",
    "            arr.append(score)\n",
    "        print(\"For the parameters are C:{}, and loss:{} accuracy is:\".format(c[i],LOSS[j]))\n",
    "        print(mean(arr))"
   ]
  },
  {
   "cell_type": "markdown",
   "id": "23757a4b",
   "metadata": {},
   "source": [
    "# Polynomial SVM"
   ]
  },
  {
   "cell_type": "code",
   "execution_count": 4,
   "id": "76cf48e4",
   "metadata": {},
   "outputs": [],
   "source": [
    "from sklearn.svm import SVC"
   ]
  },
  {
   "cell_type": "code",
   "execution_count": 85,
   "id": "4e9a0a34",
   "metadata": {},
   "outputs": [
    {
     "data": {
      "text/plain": [
       "0.662010582010582"
      ]
     },
     "execution_count": 85,
     "metadata": {},
     "output_type": "execute_result"
    }
   ],
   "source": [
    "psvm = SVC(kernel=\"poly\", degree=2, coef0=1, C=5)\n",
    "psvm.fit(X_train_Smot_r,y_train_Smote)\n",
    "y_pred=psvm.predict(X_test_r)\n",
    "score = accuracy_score(y_test, psvm.predict(X_test_r))\n",
    "score"
   ]
  },
  {
   "cell_type": "code",
   "execution_count": 7,
   "id": "9560112d",
   "metadata": {},
   "outputs": [],
   "source": [
    "from sklearn.svm import SVC\n",
    "from timeit import default_timer as timer\n",
    "from datetime import timedelta\n",
    "\n",
    "c=[0.01,0.1,1,10,50]\n",
    "loops = 3\n",
    "\n",
    "mu = ['day',\t'temperature',\t'month',\t'humidity',\t'hour',\t'pressure','dayOfTheWeek',\t'year',\n",
    "      'holiday',\t'shower rain',\t'light rain']\n",
    "\n",
    "def polySMV(X,Y,mu,deg,c,loops):\n",
    "    arr = []\n",
    "    highest=0\n",
    "    for i in range(len(deg)):\n",
    "        for k in range(len(c)):\n",
    "            for l in range(loops):\n",
    "                start = timer()\n",
    "                X_train, X_test, y_train, y_test = trainTest(X,Y)\n",
    "                #Oversample the train dataset with SMOTE\n",
    "                X_train_os, y_train_os=overSampling(X_train, y_train, y_test, smote)\n",
    "                #define the variables order \n",
    "                X_train_os_r = X_train_os[mu]\n",
    "                X_test_r = X_test[mu]\n",
    "                psvm = SVC(kernel=\"poly\", degree=deg[i], coef0=1, C=c[k])\n",
    "                psvm.fit(X_train_os_r,y_train_os)\n",
    "                y_pred=psvm.predict(X_test_r)\n",
    "                score = accuracy_score(y_test, psvm.predict(X_test_r))\n",
    "                arr.append(score)\n",
    "                print(\"-\")\n",
    "                # End timer\n",
    "                end1 = timer()\n",
    "                #print(timedelta(seconds=end1-start))\n",
    "                #check the best configuration\n",
    "                if score > highest:\n",
    "                    highest = score\n",
    "                    description = \"best values = degree:{}, and c:{}\".format(deg[i],c[k])\n",
    "                else:\n",
    "                    score = score\n",
    "            print(\"For the parameters degree:{}, and c:{} accuracy is:\".format(deg[i],c[k]))\n",
    "            print(mean(arr))\n",
    "            arr = []\n",
    "    print(description)"
   ]
  },
  {
   "cell_type": "code",
   "execution_count": 10,
   "id": "f2505eeb",
   "metadata": {},
   "outputs": [
    {
     "name": "stdout",
     "output_type": "stream",
     "text": [
      "-\n",
      "For the parameters degree:4, and c:0.01 accuracy is:\n",
      "0.6573544973544974\n",
      "-\n",
      "For the parameters degree:4, and c:0.1 accuracy is:\n",
      "0.7085714285714285\n",
      "-\n",
      "For the parameters degree:4, and c:1 accuracy is:\n",
      "0.7462433862433863\n",
      "-\n",
      "For the parameters degree:4, and c:10 accuracy is:\n",
      "0.7635978835978836\n",
      "-\n",
      "For the parameters degree:4, and c:100 accuracy is:\n",
      "0.7936507936507936\n",
      "best values = degree:4, and c:100\n"
     ]
    }
   ],
   "source": [
    "degg = [4]\n",
    "polySMV(X,Y,mu,degg,c,1)"
   ]
  },
  {
   "cell_type": "code",
   "execution_count": null,
   "id": "db969a52",
   "metadata": {},
   "outputs": [
    {
     "name": "stdout",
     "output_type": "stream",
     "text": [
      "-\n",
      "For the parameters degree:5, and c:0.01 accuracy is:\n",
      "0.6931216931216931\n",
      "-\n",
      "For the parameters degree:5, and c:0.1 accuracy is:\n",
      "0.7443386243386243\n",
      "-\n",
      "For the parameters degree:5, and c:1 accuracy is:\n",
      "0.771005291005291\n",
      "-\n",
      "For the parameters degree:5, and c:10 accuracy is:\n",
      "0.7978835978835979\n"
     ]
    }
   ],
   "source": [
    "degg = [5]\n",
    "polySMV(X,Y,mu,degg,c,1)"
   ]
  },
  {
   "cell_type": "code",
   "execution_count": 8,
   "id": "37d979ef",
   "metadata": {},
   "outputs": [
    {
     "name": "stdout",
     "output_type": "stream",
     "text": [
      "-\n",
      "For the parameters degree:6, and c:0.01 accuracy is:\n",
      "0.7354497354497355\n",
      "-\n",
      "For the parameters degree:6, and c:0.1 accuracy is:\n",
      "0.7724867724867724\n",
      "-\n",
      "For the parameters degree:6, and c:1 accuracy is:\n",
      "0.7817989417989418\n",
      "-\n",
      "For the parameters degree:6, and c:10 accuracy is:\n",
      "0.8084656084656084\n",
      "-\n",
      "For the parameters degree:6, and c:50 accuracy is:\n",
      "0.8239153439153439\n",
      "best values = degree:6, and c:50\n"
     ]
    }
   ],
   "source": [
    "degg = [6]\n",
    "polySMV(X,Y,mu,degg,c,1)"
   ]
  },
  {
   "cell_type": "code",
   "execution_count": 9,
   "id": "fc7eb594",
   "metadata": {},
   "outputs": [
    {
     "name": "stdout",
     "output_type": "stream",
     "text": [
      "-\n",
      "For the parameters degree:7, and c:0.01 accuracy is:\n",
      "0.76\n",
      "-\n",
      "For the parameters degree:7, and c:0.1 accuracy is:\n",
      "0.7822222222222223\n",
      "-\n",
      "For the parameters degree:7, and c:1 accuracy is:\n",
      "0.7974603174603174\n",
      "-\n",
      "For the parameters degree:7, and c:10 accuracy is:\n",
      "0.813968253968254\n",
      "-\n",
      "For the parameters degree:7, and c:50 accuracy is:\n",
      "0.8344973544973545\n",
      "best values = degree:7, and c:50\n"
     ]
    }
   ],
   "source": [
    "degg = [7]\n",
    "polySMV(X,Y,mu,degg,c,1)"
   ]
  },
  {
   "cell_type": "markdown",
   "id": "3044bf16",
   "metadata": {},
   "source": [
    "# RBF kernel on SVM"
   ]
  },
  {
   "cell_type": "code",
   "execution_count": 86,
   "id": "de5ffa34",
   "metadata": {},
   "outputs": [],
   "source": [
    "rsvm = SVC(kernel=\"rbf\", gamma=5, C=0.001)\n",
    "rsvm.fit(X_train_Smot_r,y_train_Smote)\n",
    "y_pred_r=rsvm.predict(X_test_r)\n",
    "scorer = accuracy_score(y_test, rsvm.predict(X_test_r))"
   ]
  },
  {
   "cell_type": "code",
   "execution_count": 87,
   "id": "06e7970b",
   "metadata": {},
   "outputs": [
    {
     "data": {
      "text/plain": [
       "0.6014814814814815"
      ]
     },
     "execution_count": 87,
     "metadata": {},
     "output_type": "execute_result"
    }
   ],
   "source": [
    "scorer"
   ]
  },
  {
   "cell_type": "code",
   "execution_count": 7,
   "id": "afe99554",
   "metadata": {
    "scrolled": true
   },
   "outputs": [
    {
     "name": "stdout",
     "output_type": "stream",
     "text": [
      "For the parameters gamma:1, and C:0.1 accuracy is:\n",
      "0.6379047619047619\n",
      "For the parameters gamma:1, and C:1 accuracy is:\n",
      "0.7084867724867725\n",
      "For the parameters gamma:1, and C:5 accuracy is:\n",
      "0.7429206349206349\n",
      "For the parameters gamma:1, and C:10 accuracy is:\n",
      "0.7542857142857143\n",
      "For the parameters gamma:1, and C:50 accuracy is:\n",
      "0.7808465608465609\n",
      "For the parameters gamma:1, and C:100 accuracy is:\n",
      "0.7887619047619048\n",
      "For the parameters gamma:1, and C:1000 accuracy is:\n",
      "0.8131640211640212\n",
      "For the parameters gamma:0.1, and C:0.1 accuracy is:\n",
      "0.5446772486772486\n",
      "For the parameters gamma:0.1, and C:1 accuracy is:\n",
      "0.6142433862433863\n",
      "For the parameters gamma:0.1, and C:5 accuracy is:\n",
      "0.6504126984126984\n",
      "For the parameters gamma:0.1, and C:10 accuracy is:\n",
      "0.6582645502645502\n",
      "For the parameters gamma:0.1, and C:50 accuracy is:\n",
      "0.6834920634920635\n",
      "For the parameters gamma:0.1, and C:100 accuracy is:\n",
      "0.6958095238095238\n",
      "For the parameters gamma:0.1, and C:1000 accuracy is:\n",
      "0.7304338624338624\n",
      "For the parameters gamma:0.01, and C:0.1 accuracy is:\n",
      "0.5398095238095239\n",
      "For the parameters gamma:0.01, and C:1 accuracy is:\n",
      "0.5311322751322751\n",
      "For the parameters gamma:0.01, and C:5 accuracy is:\n",
      "0.5505396825396826\n",
      "For the parameters gamma:0.01, and C:10 accuracy is:\n",
      "0.5696084656084657\n",
      "For the parameters gamma:0.01, and C:50 accuracy is:\n",
      "0.6030687830687831\n",
      "For the parameters gamma:0.01, and C:100 accuracy is:\n",
      "0.6152380952380953\n",
      "For the parameters gamma:0.01, and C:1000 accuracy is:\n",
      "0.6545396825396825\n",
      "For the parameters gamma:0.001, and C:0.1 accuracy is:\n",
      "0.5162539682539682\n",
      "For the parameters gamma:0.001, and C:1 accuracy is:\n",
      "0.5411216931216931\n",
      "For the parameters gamma:0.001, and C:5 accuracy is:\n",
      "0.5328465608465609\n",
      "For the parameters gamma:0.001, and C:10 accuracy is:\n",
      "0.5336719576719576\n",
      "For the parameters gamma:0.001, and C:50 accuracy is:\n",
      "0.537058201058201\n",
      "For the parameters gamma:0.001, and C:100 accuracy is:\n",
      "0.5438941798941799\n",
      "For the parameters gamma:0.001, and C:1000 accuracy is:\n",
      "0.567978835978836\n",
      "For the parameters gamma:0.0001, and C:0.1 accuracy is:\n",
      "0.5165714285714286\n",
      "For the parameters gamma:0.0001, and C:1 accuracy is:\n",
      "0.5138624338624339\n",
      "For the parameters gamma:0.0001, and C:5 accuracy is:\n",
      "0.5187513227513227\n",
      "For the parameters gamma:0.0001, and C:10 accuracy is:\n",
      "0.5373756613756614\n",
      "For the parameters gamma:0.0001, and C:50 accuracy is:\n",
      "0.5312169312169313\n",
      "For the parameters gamma:0.0001, and C:100 accuracy is:\n",
      "0.5303068783068783\n",
      "For the parameters gamma:0.0001, and C:1000 accuracy is:\n",
      "0.541989417989418\n",
      "best values = gamma:1, and c:1000\n"
     ]
    }
   ],
   "source": [
    "gam = [1, 0.1, 0.01, 0.001, 0.0001]\n",
    "c=[0.1, 1, 5, 10, 50, 100, 1000]\n",
    "loops = 10\n",
    "arr = []\n",
    "highest=0\n",
    "\n",
    "mu = ['day',\t'temperature',\t'month',\t'humidity',\t'hour',\t'pressure','dayOfTheWeek',\t'year',\n",
    "      'holiday',\t'shower rain',\t'light rain']\n",
    "\n",
    "for i in range(len(gam)):\n",
    "    for j in range(len(c)):\n",
    "        for l in range(loops):\n",
    "            start = timer()\n",
    "            X_train, X_test, y_train, y_test = trainTest(X,Y)\n",
    "            #Oversample the train dataset with SMOTE\n",
    "            X_train_os, y_train_os=overSampling(X_train, y_train, y_test, smote)\n",
    "            #define the variables order \n",
    "            X_train_os_r = X_train_os[mu]\n",
    "            X_test_r = X_test[mu]\n",
    "            rsvm = SVC(kernel=\"rbf\", gamma=gam[i], C=c[j])\n",
    "            rsvm.fit(X_train_os_r,y_train_os)\n",
    "            y_pred=rsvm.predict(X_test_r)\n",
    "            score = accuracy_score(y_test, rsvm.predict(X_test_r))\n",
    "            arr.append(score)\n",
    "            # End timer\n",
    "            end1 = timer()\n",
    "            #print(timedelta(seconds=end1-start))\n",
    "            #check the best configuration\n",
    "            if score > highest:\n",
    "                highest = score\n",
    "                description = \"best values = gamma:{}, and c:{}\".format(gam[i],c[j])\n",
    "            else:\n",
    "                score = score\n",
    "        print(\"For the parameters gamma:{}, and C:{} accuracy is:\".format(gam[i],c[j]))\n",
    "        print(mean(arr))\n",
    "        arr = []\n",
    "print(description)"
   ]
  }
 ],
 "metadata": {
  "kernelspec": {
   "display_name": "Python 3 (ipykernel)",
   "language": "python",
   "name": "python3"
  },
  "language_info": {
   "codemirror_mode": {
    "name": "ipython",
    "version": 3
   },
   "file_extension": ".py",
   "mimetype": "text/x-python",
   "name": "python",
   "nbconvert_exporter": "python",
   "pygments_lexer": "ipython3",
   "version": "3.8.8"
  }
 },
 "nbformat": 4,
 "nbformat_minor": 5
}
