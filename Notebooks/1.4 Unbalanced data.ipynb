{
 "cells": [
  {
   "cell_type": "code",
   "execution_count": 1,
   "id": "aca1707e",
   "metadata": {
    "collapsed": true
   },
   "outputs": [
    {
     "data": {
      "text/html": [
       "<div>\n",
       "<style scoped>\n",
       "    .dataframe tbody tr th:only-of-type {\n",
       "        vertical-align: middle;\n",
       "    }\n",
       "\n",
       "    .dataframe tbody tr th {\n",
       "        vertical-align: top;\n",
       "    }\n",
       "\n",
       "    .dataframe thead th {\n",
       "        text-align: right;\n",
       "    }\n",
       "</style>\n",
       "<table border=\"1\" class=\"dataframe\">\n",
       "  <thead>\n",
       "    <tr style=\"text-align: right;\">\n",
       "      <th></th>\n",
       "      <th>Harry_Potter_and_the_Forbidden</th>\n",
       "    </tr>\n",
       "  </thead>\n",
       "  <tbody>\n",
       "    <tr>\n",
       "      <th>10.0</th>\n",
       "      <td>2924</td>\n",
       "    </tr>\n",
       "    <tr>\n",
       "      <th>15.0</th>\n",
       "      <td>2078</td>\n",
       "    </tr>\n",
       "    <tr>\n",
       "      <th>25.0</th>\n",
       "      <td>1448</td>\n",
       "    </tr>\n",
       "    <tr>\n",
       "      <th>45.0</th>\n",
       "      <td>1391</td>\n",
       "    </tr>\n",
       "    <tr>\n",
       "      <th>35.0</th>\n",
       "      <td>1323</td>\n",
       "    </tr>\n",
       "    <tr>\n",
       "      <th>20.0</th>\n",
       "      <td>1258</td>\n",
       "    </tr>\n",
       "    <tr>\n",
       "      <th>60.0</th>\n",
       "      <td>1148</td>\n",
       "    </tr>\n",
       "    <tr>\n",
       "      <th>75.0</th>\n",
       "      <td>886</td>\n",
       "    </tr>\n",
       "    <tr>\n",
       "      <th>90.0</th>\n",
       "      <td>614</td>\n",
       "    </tr>\n",
       "    <tr>\n",
       "      <th>40.0</th>\n",
       "      <td>437</td>\n",
       "    </tr>\n",
       "    <tr>\n",
       "      <th>50.0</th>\n",
       "      <td>399</td>\n",
       "    </tr>\n",
       "    <tr>\n",
       "      <th>55.0</th>\n",
       "      <td>301</td>\n",
       "    </tr>\n",
       "    <tr>\n",
       "      <th>30.0</th>\n",
       "      <td>249</td>\n",
       "    </tr>\n",
       "    <tr>\n",
       "      <th>65.0</th>\n",
       "      <td>222</td>\n",
       "    </tr>\n",
       "    <tr>\n",
       "      <th>120.0</th>\n",
       "      <td>196</td>\n",
       "    </tr>\n",
       "    <tr>\n",
       "      <th>100.0</th>\n",
       "      <td>144</td>\n",
       "    </tr>\n",
       "    <tr>\n",
       "      <th>105.0</th>\n",
       "      <td>138</td>\n",
       "    </tr>\n",
       "    <tr>\n",
       "      <th>85.0</th>\n",
       "      <td>115</td>\n",
       "    </tr>\n",
       "    <tr>\n",
       "      <th>70.0</th>\n",
       "      <td>115</td>\n",
       "    </tr>\n",
       "    <tr>\n",
       "      <th>80.0</th>\n",
       "      <td>113</td>\n",
       "    </tr>\n",
       "    <tr>\n",
       "      <th>110.0</th>\n",
       "      <td>76</td>\n",
       "    </tr>\n",
       "    <tr>\n",
       "      <th>95.0</th>\n",
       "      <td>75</td>\n",
       "    </tr>\n",
       "    <tr>\n",
       "      <th>5.0</th>\n",
       "      <td>66</td>\n",
       "    </tr>\n",
       "    <tr>\n",
       "      <th>115.0</th>\n",
       "      <td>28</td>\n",
       "    </tr>\n",
       "    <tr>\n",
       "      <th>150.0</th>\n",
       "      <td>10</td>\n",
       "    </tr>\n",
       "    <tr>\n",
       "      <th>180.0</th>\n",
       "      <td>5</td>\n",
       "    </tr>\n",
       "    <tr>\n",
       "      <th>135.0</th>\n",
       "      <td>3</td>\n",
       "    </tr>\n",
       "    <tr>\n",
       "      <th>125.0</th>\n",
       "      <td>2</td>\n",
       "    </tr>\n",
       "    <tr>\n",
       "      <th>145.0</th>\n",
       "      <td>1</td>\n",
       "    </tr>\n",
       "    <tr>\n",
       "      <th>11.0</th>\n",
       "      <td>1</td>\n",
       "    </tr>\n",
       "    <tr>\n",
       "      <th>130.0</th>\n",
       "      <td>1</td>\n",
       "    </tr>\n",
       "    <tr>\n",
       "      <th>0.0</th>\n",
       "      <td>1</td>\n",
       "    </tr>\n",
       "  </tbody>\n",
       "</table>\n",
       "</div>"
      ],
      "text/plain": [
       "       Harry_Potter_and_the_Forbidden\n",
       "10.0                             2924\n",
       "15.0                             2078\n",
       "25.0                             1448\n",
       "45.0                             1391\n",
       "35.0                             1323\n",
       "20.0                             1258\n",
       "60.0                             1148\n",
       "75.0                              886\n",
       "90.0                              614\n",
       "40.0                              437\n",
       "50.0                              399\n",
       "55.0                              301\n",
       "30.0                              249\n",
       "65.0                              222\n",
       "120.0                             196\n",
       "100.0                             144\n",
       "105.0                             138\n",
       "85.0                              115\n",
       "70.0                              115\n",
       "80.0                              113\n",
       "110.0                              76\n",
       "95.0                               75\n",
       "5.0                                66\n",
       "115.0                              28\n",
       "150.0                              10\n",
       "180.0                               5\n",
       "135.0                               3\n",
       "125.0                               2\n",
       "145.0                               1\n",
       "11.0                                1\n",
       "130.0                               1\n",
       "0.0                                 1"
      ]
     },
     "execution_count": 1,
     "metadata": {},
     "output_type": "execute_result"
    }
   ],
   "source": [
    "import pandas as pd\n",
    "\n",
    "hp_ohe = pd.read_csv(\"harryPotterCleanOHE.csv\")\n",
    "hp_oe = pd.read_csv(\"harryPotterCleanOE.csv\")\n",
    "hp_me = pd.read_csv(\"harryPotterClean.csv\")\n",
    "\n",
    "time_counts = pd.DataFrame(hp_me['Harry_Potter_and_the_Forbidden'].value_counts())\n",
    "time_counts"
   ]
  },
  {
   "cell_type": "code",
   "execution_count": 2,
   "id": "02e1bfb9",
   "metadata": {
    "collapsed": true
   },
   "outputs": [
    {
     "data": {
      "text/html": [
       "<div>\n",
       "<style scoped>\n",
       "    .dataframe tbody tr th:only-of-type {\n",
       "        vertical-align: middle;\n",
       "    }\n",
       "\n",
       "    .dataframe tbody tr th {\n",
       "        vertical-align: top;\n",
       "    }\n",
       "\n",
       "    .dataframe thead th {\n",
       "        text-align: right;\n",
       "    }\n",
       "</style>\n",
       "<table border=\"1\" class=\"dataframe\">\n",
       "  <thead>\n",
       "    <tr style=\"text-align: right;\">\n",
       "      <th></th>\n",
       "      <th>time</th>\n",
       "      <th>count</th>\n",
       "    </tr>\n",
       "  </thead>\n",
       "  <tbody>\n",
       "    <tr>\n",
       "      <th>0</th>\n",
       "      <td>0</td>\n",
       "      <td>1</td>\n",
       "    </tr>\n",
       "    <tr>\n",
       "      <th>1</th>\n",
       "      <td>5</td>\n",
       "      <td>66</td>\n",
       "    </tr>\n",
       "    <tr>\n",
       "      <th>2</th>\n",
       "      <td>10</td>\n",
       "      <td>2922</td>\n",
       "    </tr>\n",
       "    <tr>\n",
       "      <th>3</th>\n",
       "      <td>11</td>\n",
       "      <td>1</td>\n",
       "    </tr>\n",
       "    <tr>\n",
       "      <th>4</th>\n",
       "      <td>15</td>\n",
       "      <td>2078</td>\n",
       "    </tr>\n",
       "    <tr>\n",
       "      <th>5</th>\n",
       "      <td>20</td>\n",
       "      <td>1258</td>\n",
       "    </tr>\n",
       "    <tr>\n",
       "      <th>6</th>\n",
       "      <td>25</td>\n",
       "      <td>1447</td>\n",
       "    </tr>\n",
       "    <tr>\n",
       "      <th>7</th>\n",
       "      <td>30</td>\n",
       "      <td>249</td>\n",
       "    </tr>\n",
       "    <tr>\n",
       "      <th>8</th>\n",
       "      <td>35</td>\n",
       "      <td>1323</td>\n",
       "    </tr>\n",
       "    <tr>\n",
       "      <th>9</th>\n",
       "      <td>40</td>\n",
       "      <td>437</td>\n",
       "    </tr>\n",
       "    <tr>\n",
       "      <th>10</th>\n",
       "      <td>45</td>\n",
       "      <td>1391</td>\n",
       "    </tr>\n",
       "    <tr>\n",
       "      <th>11</th>\n",
       "      <td>50</td>\n",
       "      <td>399</td>\n",
       "    </tr>\n",
       "    <tr>\n",
       "      <th>12</th>\n",
       "      <td>55</td>\n",
       "      <td>301</td>\n",
       "    </tr>\n",
       "    <tr>\n",
       "      <th>13</th>\n",
       "      <td>60</td>\n",
       "      <td>1148</td>\n",
       "    </tr>\n",
       "    <tr>\n",
       "      <th>14</th>\n",
       "      <td>65</td>\n",
       "      <td>222</td>\n",
       "    </tr>\n",
       "    <tr>\n",
       "      <th>15</th>\n",
       "      <td>70</td>\n",
       "      <td>115</td>\n",
       "    </tr>\n",
       "    <tr>\n",
       "      <th>16</th>\n",
       "      <td>75</td>\n",
       "      <td>886</td>\n",
       "    </tr>\n",
       "    <tr>\n",
       "      <th>17</th>\n",
       "      <td>80</td>\n",
       "      <td>113</td>\n",
       "    </tr>\n",
       "    <tr>\n",
       "      <th>18</th>\n",
       "      <td>85</td>\n",
       "      <td>115</td>\n",
       "    </tr>\n",
       "    <tr>\n",
       "      <th>19</th>\n",
       "      <td>90</td>\n",
       "      <td>614</td>\n",
       "    </tr>\n",
       "    <tr>\n",
       "      <th>20</th>\n",
       "      <td>95</td>\n",
       "      <td>75</td>\n",
       "    </tr>\n",
       "    <tr>\n",
       "      <th>21</th>\n",
       "      <td>100</td>\n",
       "      <td>144</td>\n",
       "    </tr>\n",
       "    <tr>\n",
       "      <th>22</th>\n",
       "      <td>105</td>\n",
       "      <td>138</td>\n",
       "    </tr>\n",
       "    <tr>\n",
       "      <th>23</th>\n",
       "      <td>110</td>\n",
       "      <td>76</td>\n",
       "    </tr>\n",
       "    <tr>\n",
       "      <th>24</th>\n",
       "      <td>115</td>\n",
       "      <td>28</td>\n",
       "    </tr>\n",
       "    <tr>\n",
       "      <th>25</th>\n",
       "      <td>120</td>\n",
       "      <td>196</td>\n",
       "    </tr>\n",
       "    <tr>\n",
       "      <th>26</th>\n",
       "      <td>125</td>\n",
       "      <td>2</td>\n",
       "    </tr>\n",
       "    <tr>\n",
       "      <th>27</th>\n",
       "      <td>130</td>\n",
       "      <td>1</td>\n",
       "    </tr>\n",
       "    <tr>\n",
       "      <th>28</th>\n",
       "      <td>135</td>\n",
       "      <td>3</td>\n",
       "    </tr>\n",
       "    <tr>\n",
       "      <th>29</th>\n",
       "      <td>145</td>\n",
       "      <td>1</td>\n",
       "    </tr>\n",
       "    <tr>\n",
       "      <th>30</th>\n",
       "      <td>150</td>\n",
       "      <td>10</td>\n",
       "    </tr>\n",
       "    <tr>\n",
       "      <th>31</th>\n",
       "      <td>180</td>\n",
       "      <td>5</td>\n",
       "    </tr>\n",
       "  </tbody>\n",
       "</table>\n",
       "</div>"
      ],
      "text/plain": [
       "    time  count\n",
       "0      0      1\n",
       "1      5     66\n",
       "2     10   2922\n",
       "3     11      1\n",
       "4     15   2078\n",
       "5     20   1258\n",
       "6     25   1447\n",
       "7     30    249\n",
       "8     35   1323\n",
       "9     40    437\n",
       "10    45   1391\n",
       "11    50    399\n",
       "12    55    301\n",
       "13    60   1148\n",
       "14    65    222\n",
       "15    70    115\n",
       "16    75    886\n",
       "17    80    113\n",
       "18    85    115\n",
       "19    90    614\n",
       "20    95     75\n",
       "21   100    144\n",
       "22   105    138\n",
       "23   110     76\n",
       "24   115     28\n",
       "25   120    196\n",
       "26   125      2\n",
       "27   130      1\n",
       "28   135      3\n",
       "29   145      1\n",
       "30   150     10\n",
       "31   180      5"
      ]
     },
     "execution_count": 2,
     "metadata": {},
     "output_type": "execute_result"
    }
   ],
   "source": [
    "data = {'time':[  0,\t5,\t10,\t11,\t15,\t20,\t25,\t30,\t35,\t40,\t45,\t50,\t55,\t60,\t65,\t70,\t75,\t80,\t85,\t90,\t95,\t100,\t105,\t110,\t115,\t120,\t125,\t130,\t135,\t145,\t150,\t180,],\n",
    "        'count':[1,\t66,\t2922,\t1,\t2078,\t1258,\t1447,\t249,\t1323,\t437,\t1391,\t399,\t301,\t1148,\t222,\t115,\t886,\t113,\t115,\t614,\t75,\t144,\t138,\t76,\t28,\t196,\t2,\t1,\t3,\t1,\t10,\t5,]}\n",
    "df=pd.DataFrame(data)\n",
    "df"
   ]
  },
  {
   "cell_type": "code",
   "execution_count": 3,
   "id": "a495f26e",
   "metadata": {
    "scrolled": true
   },
   "outputs": [
    {
     "data": {
      "image/png": "[encoded data removed]",
      "text/plain": [
       "<Figure size 720x504 with 1 Axes>"
      ]
     },
     "metadata": {
      "needs_background": "light"
     },
     "output_type": "display_data"
    }
   ],
   "source": [
    "y = hp_me.Harry_Potter_and_the_Forbidden\n",
    "\n",
    "from matplotlib import pyplot as plt\n",
    "from scipy import stats\n",
    "\n",
    "fig, ax = plt.subplots(figsize =(10, 7))\n",
    "bins = [  5,  10,  15,  20,  25,  30,  35,  40,  45,  50,  55, 60,  65,  70,  75,  80,  85,  90,  95, 100, 105, \n",
    "        110, 115, 120, 135, 150, 180]\n",
    "\n",
    "# Add title and axis names\n",
    "plt.title('Harry Potter and the Forbiden Journey Histogrm')\n",
    "plt.xlabel('time in minutes')\n",
    "plt.ylabel('number of repetitions')\n",
    "\n",
    "ax.hist(y, bins)\n",
    "# Add x, y gridlines\n",
    "ax.grid(b = True, color ='grey',\n",
    "        linestyle ='-.', linewidth = 0.5,\n",
    "        alpha = 0.6)\n",
    "plt.show()"
   ]
  },
  {
   "cell_type": "code",
   "execution_count": 24,
   "id": "222ca15b",
   "metadata": {},
   "outputs": [
    {
     "name": "stderr",
     "output_type": "stream",
     "text": [
      "/Users/rodrigoledesmagarces/opt/anaconda3/lib/python3.8/site-packages/seaborn/distributions.py:2557: FutureWarning: `distplot` is a deprecated function and will be removed in a future version. Please adapt your code to use either `displot` (a figure-level function with similar flexibility) or `histplot` (an axes-level function for histograms).\n",
      "  warnings.warn(msg, FutureWarning)\n"
     ]
    },
    {
     "data": {
      "text/plain": [
       "Text(0, 0.5, 'number of repetitions')"
      ]
     },
     "execution_count": 24,
     "metadata": {},
     "output_type": "execute_result"
    },
    {
     "data": {
      "image/png": "[encoded data removed]",
      "text/plain": [
       "<Figure size 432x288 with 1 Axes>"
      ]
     },
     "metadata": {
      "needs_background": "light"
     },
     "output_type": "display_data"
    }
   ],
   "source": [
    "# Import the libraries\n",
    "import matplotlib.pyplot as plt\n",
    "import seaborn as sns\n",
    "\n",
    "# matplotlib histogram\n",
    "plt.hist(hp_me['Harry_Potter_and_the_Forbidden'], color = 'blue', edgecolor = 'black',\n",
    "         bins = int(180/5))\n",
    "\n",
    "# seaborn histogram\n",
    "sns.distplot(hp_me['Harry_Potter_and_the_Forbidden'], hist=True, kde=False, \n",
    "             bins=int(180/5), color = 'blue',\n",
    "             hist_kws={'edgecolor':'black'})\n",
    "# Add labels\n",
    "plt.title('Harry Potter and the Forbiden Journey Histogrm')\n",
    "plt.xlabel('time in minutes')\n",
    "plt.ylabel('number of repetitions')"
   ]
  },
  {
   "cell_type": "code",
   "execution_count": 25,
   "id": "3773b34a",
   "metadata": {},
   "outputs": [
    {
     "data": {
      "text/plain": [
       "<AxesSubplot:xlabel='Harry_Potter_and_the_Forbidden', ylabel='Density'>"
      ]
     },
     "execution_count": 25,
     "metadata": {},
     "output_type": "execute_result"
    },
    {
     "data": {
      "image/png": "[encoded data removed]",
      "text/plain": [
       "<Figure size 432x288 with 1 Axes>"
      ]
     },
     "metadata": {
      "needs_background": "light"
     },
     "output_type": "display_data"
    }
   ],
   "source": [
    "# Density Plot and Histogram of all arrival delays\n",
    "sns.distplot(hp_me['Harry_Potter_and_the_Forbidden'], hist=True, kde=True, \n",
    "             bins=int(180/5), color = 'darkblue', \n",
    "             hist_kws={'edgecolor':'black'},\n",
    "             kde_kws={'linewidth': 4})"
   ]
  },
  {
   "cell_type": "code",
   "execution_count": 13,
   "id": "d803f317",
   "metadata": {},
   "outputs": [
    {
     "name": "stdout",
     "output_type": "stream",
     "text": [
      "[(0.0, 1), (5.0, 66), (10.0, 2922), (11.0, 1), (15.0, 2078), (20.0, 1258), (25.0, 1443), (30.0, 249), (35.0, 1319), (40.0, 437), (45.0, 1385), (50.0, 397), (55.0, 301), (60.0, 1145), (65.0, 222), (70.0, 115), (75.0, 886), (80.0, 113), (85.0, 115), (90.0, 613), (95.0, 75), (100.0, 144), (105.0, 138), (110.0, 76), (115.0, 28), (120.0, 196), (125.0, 2), (130.0, 1), (135.0, 3), (145.0, 1), (150.0, 10), (180.0, 5)]\n"
     ]
    }
   ],
   "source": [
    "print(sorted(Counter(y).items()))"
   ]
  },
  {
   "cell_type": "markdown",
   "id": "8ee9486e",
   "metadata": {},
   "source": [
    "### Random Oversampling Technique"
   ]
  },
  {
   "cell_type": "code",
   "execution_count": 15,
   "id": "18c79c44",
   "metadata": {},
   "outputs": [],
   "source": [
    "# Oversampling and under sampling\n",
    "from sklearn.model_selection import train_test_split\n",
    "from imblearn.over_sampling import RandomOverSampler, SMOTE\n",
    "from imblearn.under_sampling import RandomUnderSampler, NearMiss\n",
    "from collections import Counter\n",
    "\n",
    "def getXandY(df):\n",
    "    df.drop(df.tail(20).index,inplace=True) \n",
    "    x = df.drop(['Harry_Potter_and_the_Forbidden','Unnamed: 0'],axis=1)\n",
    "    y = df.Harry_Potter_and_the_Forbidden\n",
    "    return(x,y)\n",
    "\n",
    "def trainTest(x,y):\n",
    "    X_train, X_test, y_train, y_test = train_test_split(x, y, test_size=0.30, shuffle=True)\n",
    "    return(X_train, X_test, y_train, y_test)\n",
    "\n",
    "x,y=getXandY(hp_me)\n",
    "X_train, X_test, y_train, y_test = trainTest(x,y)"
   ]
  },
  {
   "cell_type": "code",
   "execution_count": 16,
   "id": "a549c992",
   "metadata": {
    "scrolled": true
   },
   "outputs": [
    {
     "name": "stdout",
     "output_type": "stream",
     "text": [
      "[(0.0, 1), (5.0, 52), (10.0, 2064), (11.0, 1), (15.0, 1463), (20.0, 881), (25.0, 1022), (30.0, 176), (35.0, 943), (40.0, 295), (45.0, 936), (50.0, 278), (55.0, 205), (60.0, 792), (65.0, 139), (70.0, 85), (75.0, 609), (80.0, 79), (85.0, 82), (90.0, 432), (95.0, 55), (100.0, 100), (105.0, 95), (110.0, 52), (115.0, 21), (120.0, 133), (130.0, 1), (135.0, 2), (145.0, 1), (150.0, 8), (180.0, 4)]\n"
     ]
    }
   ],
   "source": [
    "print(sorted(Counter(y_train).items()))"
   ]
  },
  {
   "cell_type": "markdown",
   "id": "3cee73c8",
   "metadata": {},
   "source": [
    "#### Base metrics"
   ]
  },
  {
   "cell_type": "code",
   "execution_count": 23,
   "id": "d9932a12",
   "metadata": {},
   "outputs": [
    {
     "name": "stdout",
     "output_type": "stream",
     "text": [
      "              precision    recall  f1-score   support\n",
      "\n",
      "         5.0       0.00      0.00      0.00        14\n",
      "        10.0       0.30      0.79      0.43       858\n",
      "        15.0       0.22      0.23      0.23       615\n",
      "        20.0       0.03      0.00      0.00       377\n",
      "        25.0       0.17      0.27      0.21       421\n",
      "        30.0       0.00      0.00      0.00        73\n",
      "        35.0       0.12      0.07      0.09       374\n",
      "        40.0       0.00      0.00      0.00       142\n",
      "        45.0       0.17      0.23      0.20       445\n",
      "        50.0       0.00      0.00      0.00       111\n",
      "        55.0       0.00      0.00      0.00        96\n",
      "        60.0       0.18      0.02      0.04       349\n",
      "        65.0       0.00      0.00      0.00        83\n",
      "        70.0       0.00      0.00      0.00        30\n",
      "        75.0       0.23      0.12      0.16       277\n",
      "        80.0       0.00      0.00      0.00        34\n",
      "        85.0       0.00      0.00      0.00        33\n",
      "        90.0       0.14      0.05      0.07       179\n",
      "        95.0       0.00      0.00      0.00        20\n",
      "       100.0       0.33      0.02      0.04        44\n",
      "       105.0       0.00      0.00      0.00        43\n",
      "       110.0       0.00      0.00      0.00        24\n",
      "       115.0       0.00      0.00      0.00         7\n",
      "       120.0       0.27      0.14      0.19        63\n",
      "       125.0       0.00      0.00      0.00         2\n",
      "       135.0       0.00      0.00      0.00         1\n",
      "       150.0       0.00      0.00      0.00         2\n",
      "       180.0       0.00      0.00      0.00         1\n",
      "\n",
      "    accuracy                           0.24      4718\n",
      "   macro avg       0.08      0.07      0.06      4718\n",
      "weighted avg       0.17      0.24      0.17      4718\n",
      "\n"
     ]
    },
    {
     "name": "stderr",
     "output_type": "stream",
     "text": [
      "/Users/rodrigoledesmagarces/opt/anaconda3/lib/python3.8/site-packages/sklearn/metrics/_classification.py:1245: UndefinedMetricWarning: Precision and F-score are ill-defined and being set to 0.0 in labels with no predicted samples. Use `zero_division` parameter to control this behavior.\n",
      "  _warn_prf(average, modifier, msg_start, len(result))\n",
      "/Users/rodrigoledesmagarces/opt/anaconda3/lib/python3.8/site-packages/sklearn/metrics/_classification.py:1245: UndefinedMetricWarning: Precision and F-score are ill-defined and being set to 0.0 in labels with no predicted samples. Use `zero_division` parameter to control this behavior.\n",
      "  _warn_prf(average, modifier, msg_start, len(result))\n",
      "/Users/rodrigoledesmagarces/opt/anaconda3/lib/python3.8/site-packages/sklearn/metrics/_classification.py:1245: UndefinedMetricWarning: Precision and F-score are ill-defined and being set to 0.0 in labels with no predicted samples. Use `zero_division` parameter to control this behavior.\n",
      "  _warn_prf(average, modifier, msg_start, len(result))\n"
     ]
    }
   ],
   "source": [
    "from sklearn.linear_model import LogisticRegression\n",
    "from sklearn import metrics\n",
    "from sklearn.metrics import classification_report\n",
    "\n",
    "logisticRegr = LogisticRegression(max_iter=20000)\n",
    "logisticRegr.fit(X_train, y_train)\n",
    "y_pred=logisticRegr.predict(X_test)\n",
    "print(classification_report(y_test, y_pred))"
   ]
  },
  {
   "cell_type": "markdown",
   "id": "5535218a",
   "metadata": {},
   "source": [
    "### Randomly over sample"
   ]
  },
  {
   "cell_type": "code",
   "execution_count": 17,
   "id": "c30907ff",
   "metadata": {},
   "outputs": [
    {
     "name": "stdout",
     "output_type": "stream",
     "text": [
      "[(0.0, 2064), (5.0, 2064), (10.0, 2064), (11.0, 2064), (15.0, 2064), (20.0, 2064), (25.0, 2064), (30.0, 2064), (35.0, 2064), (40.0, 2064), (45.0, 2064), (50.0, 2064), (55.0, 2064), (60.0, 2064), (65.0, 2064), (70.0, 2064), (75.0, 2064), (80.0, 2064), (85.0, 2064), (90.0, 2064), (95.0, 2064), (100.0, 2064), (105.0, 2064), (110.0, 2064), (115.0, 2064), (120.0, 2064), (130.0, 2064), (135.0, 2064), (145.0, 2064), (150.0, 2064), (180.0, 2064)]\n"
     ]
    }
   ],
   "source": [
    "# Randomly over sample the minority class\n",
    "ros = RandomOverSampler(random_state=42)\n",
    "X_train_ros, y_train_ros= ros.fit_resample(X_train, y_train)\n",
    "# Check the number of records after over sampling\n",
    "print(sorted(Counter(y_train_ros).items()))\n"
   ]
  },
  {
   "cell_type": "code",
   "execution_count": 18,
   "id": "fd4d5373",
   "metadata": {},
   "outputs": [],
   "source": [
    "from sklearn.linear_model import LogisticRegression\n",
    "from sklearn import metrics\n",
    "\n",
    "logisticRegr = LogisticRegression(max_iter=20000)\n",
    "logisticRegr.fit(X_train_ros, y_train_ros).decision_function(X_test)\n",
    "y_pred=logisticRegr.predict(X_test)"
   ]
  },
  {
   "cell_type": "code",
   "execution_count": 19,
   "id": "066e7a4d",
   "metadata": {},
   "outputs": [
    {
     "name": "stdout",
     "output_type": "stream",
     "text": [
      "Accuracy: 0.0907164052564646\n",
      "Precision: 0.2157671076847339\n",
      "Recall: 0.0907164052564646\n"
     ]
    },
    {
     "name": "stderr",
     "output_type": "stream",
     "text": [
      "/Users/rodrigoledesmagarces/opt/anaconda3/lib/python3.8/site-packages/sklearn/metrics/_classification.py:1245: UndefinedMetricWarning: Precision is ill-defined and being set to 0.0 in labels with no predicted samples. Use `zero_division` parameter to control this behavior.\n",
      "  _warn_prf(average, modifier, msg_start, len(result))\n",
      "/Users/rodrigoledesmagarces/opt/anaconda3/lib/python3.8/site-packages/sklearn/metrics/_classification.py:1245: UndefinedMetricWarning: Recall is ill-defined and being set to 0.0 in labels with no true samples. Use `zero_division` parameter to control this behavior.\n",
      "  _warn_prf(average, modifier, msg_start, len(result))\n"
     ]
    }
   ],
   "source": [
    "print(\"Accuracy:\",metrics.accuracy_score(y_test, y_pred))\n",
    "print(\"Precision:\",metrics.precision_score(y_test, y_pred,average='weighted'))\n",
    "print(\"Recall:\",metrics.recall_score(y_test, y_pred,average='weighted'))"
   ]
  },
  {
   "cell_type": "code",
   "execution_count": 20,
   "id": "1b8f0a9b",
   "metadata": {},
   "outputs": [
    {
     "data": {
      "text/plain": [
       "0.11051452602905577"
      ]
     },
     "execution_count": 20,
     "metadata": {},
     "output_type": "execute_result"
    }
   ],
   "source": [
    "F1= metrics.f1_score(y_test, y_pred, average='weighted')\n",
    "F1"
   ]
  },
  {
   "cell_type": "code",
   "execution_count": 21,
   "id": "6598cdf1",
   "metadata": {
    "scrolled": true
   },
   "outputs": [
    {
     "name": "stdout",
     "output_type": "stream",
     "text": [
      "              precision    recall  f1-score   support\n",
      "\n",
      "         0.0       0.00      0.00      0.00         0\n",
      "         5.0       0.02      0.50      0.03        14\n",
      "        10.0       0.41      0.17      0.24       858\n",
      "        11.0       0.00      0.00      0.00         0\n",
      "        15.0       0.33      0.12      0.18       615\n",
      "        20.0       0.30      0.04      0.07       377\n",
      "        25.0       0.22      0.13      0.16       421\n",
      "        30.0       0.05      0.38      0.09        73\n",
      "        35.0       0.19      0.03      0.05       374\n",
      "        40.0       0.07      0.01      0.01       142\n",
      "        45.0       0.22      0.04      0.07       445\n",
      "        50.0       0.14      0.04      0.06       111\n",
      "        55.0       0.04      0.10      0.06        96\n",
      "        60.0       0.00      0.00      0.00       349\n",
      "        65.0       0.04      0.12      0.06        83\n",
      "        70.0       0.02      0.17      0.04        30\n",
      "        75.0       0.15      0.04      0.06       277\n",
      "        80.0       0.00      0.00      0.00        34\n",
      "        85.0       0.00      0.00      0.00        33\n",
      "        90.0       0.00      0.00      0.00       179\n",
      "        95.0       0.04      0.25      0.07        20\n",
      "       100.0       0.03      0.14      0.05        44\n",
      "       105.0       0.02      0.02      0.02        43\n",
      "       110.0       0.02      0.25      0.04        24\n",
      "       115.0       0.00      0.00      0.00         7\n",
      "       120.0       0.06      0.13      0.09        63\n",
      "       125.0       0.00      0.00      0.00         2\n",
      "       130.0       0.00      0.00      0.00         0\n",
      "       135.0       0.01      1.00      0.03         1\n",
      "       145.0       0.00      0.00      0.00         0\n",
      "       150.0       0.03      0.50      0.06         2\n",
      "       180.0       0.00      0.00      0.00         1\n",
      "\n",
      "    accuracy                           0.09      4718\n",
      "   macro avg       0.08      0.13      0.05      4718\n",
      "weighted avg       0.22      0.09      0.11      4718\n",
      "\n"
     ]
    },
    {
     "name": "stderr",
     "output_type": "stream",
     "text": [
      "/Users/rodrigoledesmagarces/opt/anaconda3/lib/python3.8/site-packages/sklearn/metrics/_classification.py:1245: UndefinedMetricWarning: Precision and F-score are ill-defined and being set to 0.0 in labels with no predicted samples. Use `zero_division` parameter to control this behavior.\n",
      "  _warn_prf(average, modifier, msg_start, len(result))\n",
      "/Users/rodrigoledesmagarces/opt/anaconda3/lib/python3.8/site-packages/sklearn/metrics/_classification.py:1245: UndefinedMetricWarning: Recall and F-score are ill-defined and being set to 0.0 in labels with no true samples. Use `zero_division` parameter to control this behavior.\n",
      "  _warn_prf(average, modifier, msg_start, len(result))\n",
      "/Users/rodrigoledesmagarces/opt/anaconda3/lib/python3.8/site-packages/sklearn/metrics/_classification.py:1245: UndefinedMetricWarning: Precision and F-score are ill-defined and being set to 0.0 in labels with no predicted samples. Use `zero_division` parameter to control this behavior.\n",
      "  _warn_prf(average, modifier, msg_start, len(result))\n",
      "/Users/rodrigoledesmagarces/opt/anaconda3/lib/python3.8/site-packages/sklearn/metrics/_classification.py:1245: UndefinedMetricWarning: Recall and F-score are ill-defined and being set to 0.0 in labels with no true samples. Use `zero_division` parameter to control this behavior.\n",
      "  _warn_prf(average, modifier, msg_start, len(result))\n",
      "/Users/rodrigoledesmagarces/opt/anaconda3/lib/python3.8/site-packages/sklearn/metrics/_classification.py:1245: UndefinedMetricWarning: Precision and F-score are ill-defined and being set to 0.0 in labels with no predicted samples. Use `zero_division` parameter to control this behavior.\n",
      "  _warn_prf(average, modifier, msg_start, len(result))\n",
      "/Users/rodrigoledesmagarces/opt/anaconda3/lib/python3.8/site-packages/sklearn/metrics/_classification.py:1245: UndefinedMetricWarning: Recall and F-score are ill-defined and being set to 0.0 in labels with no true samples. Use `zero_division` parameter to control this behavior.\n",
      "  _warn_prf(average, modifier, msg_start, len(result))\n"
     ]
    }
   ],
   "source": [
    "from sklearn.metrics import classification_report\n",
    "print(classification_report(y_test, y_pred))"
   ]
  },
  {
   "cell_type": "markdown",
   "id": "55494463",
   "metadata": {},
   "source": [
    "### Trimm outliers"
   ]
  },
  {
   "cell_type": "code",
   "execution_count": 33,
   "id": "e01539e5",
   "metadata": {},
   "outputs": [],
   "source": [
    "vals_del=[0,125, 130, 135, 145, 150, 180]"
   ]
  },
  {
   "cell_type": "code",
   "execution_count": 26,
   "id": "69a059a4",
   "metadata": {},
   "outputs": [
    {
     "data": {
      "text/plain": [
       "array([ 40.,  20.,  15.,  10.,  30.,  25.,  35.,  60.,   5.,  45.,  70.,\n",
       "        80.,  75.,  90., 100., 120.,  95., 110.,  50., 105., 150.,  55.,\n",
       "        65.,  85.,  11., 115., 145., 135., 125., 130., 180.,   0.])"
      ]
     },
     "execution_count": 26,
     "metadata": {},
     "output_type": "execute_result"
    }
   ],
   "source": [
    "hp_me.Harry_Potter_and_the_Forbidden.unique()"
   ]
  },
  {
   "cell_type": "code",
   "execution_count": 35,
   "id": "6f20dead",
   "metadata": {},
   "outputs": [
    {
     "name": "stdout",
     "output_type": "stream",
     "text": [
      "[5.0, 10.0, 11.0, 15.0, 20.0, 25.0, 30.0, 35.0, 40.0, 45.0, 50.0, 55.0, 60.0, 65.0, 70.0, 75.0, 80.0, 85.0, 90.0, 95.0, 100.0, 105.0, 110.0, 115.0, 120.0, 125.0, 130.0, 135.0, 145.0, 150.0, 180.0]\n"
     ]
    }
   ],
   "source": [
    "print(sorted(hp_clean.Harry_Potter_and_the_Forbidden.unique()))"
   ]
  },
  {
   "cell_type": "code",
   "execution_count": 39,
   "id": "81d64aae",
   "metadata": {},
   "outputs": [
    {
     "name": "stdout",
     "output_type": "stream",
     "text": [
      "[5.0, 10.0, 11.0, 15.0, 20.0, 25.0, 30.0, 35.0, 40.0, 45.0, 50.0, 55.0, 60.0, 65.0, 70.0, 75.0, 80.0, 85.0, 90.0, 95.0, 100.0, 105.0, 110.0, 115.0, 120.0]\n"
     ]
    }
   ],
   "source": [
    "hp_clean = hp_me[hp_me.Harry_Potter_and_the_Forbidden != 0] #delete rows with 0 min\n",
    "hp_clean = hp_clean[hp_clean.Harry_Potter_and_the_Forbidden != 180]\n",
    "hp_clean = hp_clean[hp_clean.Harry_Potter_and_the_Forbidden != 150]\n",
    "hp_clean = hp_clean[hp_clean.Harry_Potter_and_the_Forbidden != 145]\n",
    "hp_clean = hp_clean[hp_clean.Harry_Potter_and_the_Forbidden != 135]\n",
    "hp_clean = hp_clean[hp_clean.Harry_Potter_and_the_Forbidden != 130]\n",
    "hp_fin_clean = hp_clean[hp_clean.Harry_Potter_and_the_Forbidden != 125]\n",
    "\n",
    "print(sorted(hp_fin_clean.Harry_Potter_and_the_Forbidden.unique()))"
   ]
  },
  {
   "cell_type": "code",
   "execution_count": 43,
   "id": "76415bf2",
   "metadata": {},
   "outputs": [
    {
     "name": "stdout",
     "output_type": "stream",
     "text": [
      "[(5.0, 2024), (10.0, 2024), (15.0, 2024), (20.0, 2024), (25.0, 2024), (30.0, 2024), (35.0, 2024), (40.0, 2024), (45.0, 2024), (50.0, 2024), (55.0, 2024), (60.0, 2024), (65.0, 2024), (70.0, 2024), (75.0, 2024), (80.0, 2024), (85.0, 2024), (90.0, 2024), (95.0, 2024), (100.0, 2024), (105.0, 2024), (110.0, 2024), (115.0, 2024), (120.0, 2024)]\n"
     ]
    },
    {
     "name": "stderr",
     "output_type": "stream",
     "text": [
      "/Users/rodrigoledesmagarces/opt/anaconda3/lib/python3.8/site-packages/pandas/core/frame.py:4308: SettingWithCopyWarning: \n",
      "A value is trying to be set on a copy of a slice from a DataFrame\n",
      "\n",
      "See the caveats in the documentation: https://pandas.pydata.org/pandas-docs/stable/user_guide/indexing.html#returning-a-view-versus-a-copy\n",
      "  return super().drop(\n"
     ]
    }
   ],
   "source": [
    "xTrim,yTrim=getXandY(hp_fin_clean)\n",
    "X_trainTrim, X_testTrim, y_trainTrim, y_testTrim = trainTest(xTrim,yTrim)\n",
    "\n",
    "# Randomly over sample the minority class\n",
    "ros = RandomOverSampler(random_state=42)\n",
    "X_train_rosTrim, y_train_rosTrim= ros.fit_resample(X_trainTrim, y_trainTrim)\n",
    "# Check the number of records after over sampling\n",
    "print(sorted(Counter(y_train_rosTrim).items()))"
   ]
  },
  {
   "cell_type": "code",
   "execution_count": 45,
   "id": "1ba394f7",
   "metadata": {
    "scrolled": true
   },
   "outputs": [
    {
     "name": "stdout",
     "output_type": "stream",
     "text": [
      "              precision    recall  f1-score   support\n",
      "\n",
      "         5.0       0.01      0.43      0.03        14\n",
      "        10.0       0.43      0.17      0.24       898\n",
      "        11.0       0.00      0.00      0.00         1\n",
      "        15.0       0.33      0.14      0.20       649\n",
      "        20.0       0.12      0.02      0.04       353\n",
      "        25.0       0.24      0.13      0.17       424\n",
      "        30.0       0.05      0.55      0.10        71\n",
      "        35.0       0.00      0.00      0.00       383\n",
      "        40.0       0.14      0.02      0.04       146\n",
      "        45.0       0.20      0.03      0.05       395\n",
      "        50.0       0.03      0.04      0.03       113\n",
      "        55.0       0.06      0.18      0.09        90\n",
      "        60.0       0.00      0.00      0.00       339\n",
      "        65.0       0.03      0.17      0.06        70\n",
      "        70.0       0.04      0.16      0.06        31\n",
      "        75.0       0.23      0.04      0.07       270\n",
      "        80.0       0.00      0.03      0.01        30\n",
      "        85.0       0.03      0.12      0.05        32\n",
      "        90.0       0.00      0.00      0.00       188\n",
      "        95.0       0.02      0.16      0.03        19\n",
      "       100.0       0.06      0.23      0.09        43\n",
      "       105.0       0.07      0.09      0.08        47\n",
      "       110.0       0.05      0.48      0.08        23\n",
      "       115.0       0.01      0.25      0.01         8\n",
      "       120.0       0.13      0.52      0.21        56\n",
      "\n",
      "    accuracy                           0.10      4693\n",
      "   macro avg       0.09      0.16      0.07      4693\n",
      "weighted avg       0.20      0.10      0.11      4693\n",
      "\n"
     ]
    },
    {
     "name": "stderr",
     "output_type": "stream",
     "text": [
      "/Users/rodrigoledesmagarces/opt/anaconda3/lib/python3.8/site-packages/sklearn/metrics/_classification.py:1245: UndefinedMetricWarning: Precision and F-score are ill-defined and being set to 0.0 in labels with no predicted samples. Use `zero_division` parameter to control this behavior.\n",
      "  _warn_prf(average, modifier, msg_start, len(result))\n",
      "/Users/rodrigoledesmagarces/opt/anaconda3/lib/python3.8/site-packages/sklearn/metrics/_classification.py:1245: UndefinedMetricWarning: Precision and F-score are ill-defined and being set to 0.0 in labels with no predicted samples. Use `zero_division` parameter to control this behavior.\n",
      "  _warn_prf(average, modifier, msg_start, len(result))\n",
      "/Users/rodrigoledesmagarces/opt/anaconda3/lib/python3.8/site-packages/sklearn/metrics/_classification.py:1245: UndefinedMetricWarning: Precision and F-score are ill-defined and being set to 0.0 in labels with no predicted samples. Use `zero_division` parameter to control this behavior.\n",
      "  _warn_prf(average, modifier, msg_start, len(result))\n"
     ]
    }
   ],
   "source": [
    "logisticRegr.fit(X_train_rosTrim, y_train_rosTrim).decision_function(X_testTrim)\n",
    "y_predTrim=logisticRegr.predict(X_testTrim)\n",
    "print(classification_report(y_testTrim, y_predTrim))"
   ]
  },
  {
   "cell_type": "markdown",
   "id": "c7bf18a1",
   "metadata": {},
   "source": [
    "### SMOTE"
   ]
  },
  {
   "cell_type": "code",
   "execution_count": 81,
   "id": "4dd1e41d",
   "metadata": {
    "scrolled": true
   },
   "outputs": [
    {
     "name": "stdout",
     "output_type": "stream",
     "text": [
      "[(0.0, 1), (5.0, 51), (10.0, 2030), (11.0, 1), (15.0, 1462), (20.0, 880), (25.0, 990), (30.0, 177), (35.0, 909), (40.0, 302), (45.0, 954), (50.0, 255), (55.0, 204), (60.0, 788), (65.0, 154), (70.0, 82), (75.0, 626), (80.0, 72), (85.0, 89), (90.0, 452), (95.0, 58), (100.0, 106), (105.0, 94), (110.0, 54), (115.0, 16), (120.0, 141), (125.0, 2), (130.0, 1), (135.0, 3), (150.0, 7), (180.0, 4)]\n"
     ]
    }
   ],
   "source": [
    "x,y=getXandY(hp_me)\n",
    "X_train, X_test, y_train, y_test = trainTest(x,y)\n",
    "print(sorted(Counter(y_train).items()))"
   ]
  },
  {
   "cell_type": "code",
   "execution_count": 82,
   "id": "7c2dcf40",
   "metadata": {},
   "outputs": [
    {
     "name": "stderr",
     "output_type": "stream",
     "text": [
      "<ipython-input-82-06dce9ba7c4c>:3: UserWarning: Boolean Series key will be reindexed to match DataFrame index.\n",
      "  hp_clean = hp_clean[hp_me.Harry_Potter_and_the_Forbidden != 11]\n"
     ]
    }
   ],
   "source": [
    "# Lets clean our data, as the smote technique requires the class to have at least n neighbors\n",
    "hp_clean = hp_me[hp_me.Harry_Potter_and_the_Forbidden != 0]\n",
    "hp_clean = hp_clean[hp_me.Harry_Potter_and_the_Forbidden != 11]\n",
    "hp_clean = hp_clean[hp_clean.Harry_Potter_and_the_Forbidden != 180]\n",
    "hp_clean = hp_clean[hp_clean.Harry_Potter_and_the_Forbidden != 145]\n",
    "hp_clean = hp_clean[hp_clean.Harry_Potter_and_the_Forbidden != 135]\n",
    "hp_clean = hp_clean[hp_clean.Harry_Potter_and_the_Forbidden != 130]\n",
    "hp_fin_clean = hp_clean[hp_clean.Harry_Potter_and_the_Forbidden != 125]"
   ]
  },
  {
   "cell_type": "code",
   "execution_count": 59,
   "id": "686416df",
   "metadata": {},
   "outputs": [
    {
     "name": "stdout",
     "output_type": "stream",
     "text": [
      "[(5.0, 44), (10.0, 2050), (15.0, 1431), (20.0, 868), (25.0, 1005), (30.0, 173), (35.0, 916), (40.0, 318), (45.0, 948), (50.0, 277), (55.0, 209), (60.0, 794), (65.0, 148), (70.0, 83), (75.0, 628), (80.0, 78), (85.0, 81), (90.0, 422), (95.0, 52), (100.0, 111), (105.0, 102), (110.0, 59), (115.0, 19), (120.0, 132), (150.0, 7)]\n"
     ]
    },
    {
     "name": "stderr",
     "output_type": "stream",
     "text": [
      "/Users/rodrigoledesmagarces/opt/anaconda3/lib/python3.8/site-packages/pandas/core/frame.py:4308: SettingWithCopyWarning: \n",
      "A value is trying to be set on a copy of a slice from a DataFrame\n",
      "\n",
      "See the caveats in the documentation: https://pandas.pydata.org/pandas-docs/stable/user_guide/indexing.html#returning-a-view-versus-a-copy\n",
      "  return super().drop(\n"
     ]
    }
   ],
   "source": [
    "x_Smote,y_Smote=getXandY(hp_fin_clean)\n",
    "X_train, X_test, y_train, y_test = trainTest(x_Smote,y_Smote)\n",
    "print(sorted(Counter(y_train).items()))"
   ]
  },
  {
   "cell_type": "code",
   "execution_count": 60,
   "id": "0d1c3eaa",
   "metadata": {},
   "outputs": [
    {
     "name": "stdout",
     "output_type": "stream",
     "text": [
      "[(5.0, 2050), (10.0, 2050), (15.0, 2050), (20.0, 2050), (25.0, 2050), (30.0, 2050), (35.0, 2050), (40.0, 2050), (45.0, 2050), (50.0, 2050), (55.0, 2050), (60.0, 2050), (65.0, 2050), (70.0, 2050), (75.0, 2050), (80.0, 2050), (85.0, 2050), (90.0, 2050), (95.0, 2050), (100.0, 2050), (105.0, 2050), (110.0, 2050), (115.0, 2050), (120.0, 2050), (150.0, 2050)]\n"
     ]
    }
   ],
   "source": [
    "# Randomly over sample the minority class\n",
    "smote = SMOTE(random_state=42)\n",
    "X_train_Smote, y_train_Smote= smote.fit_resample(X_train, y_train)\n",
    "# Check the number of records after over sampling\n",
    "print(sorted(Counter(y_train_Smote).items()))"
   ]
  },
  {
   "cell_type": "code",
   "execution_count": 61,
   "id": "d9fb9f5e",
   "metadata": {
    "scrolled": true
   },
   "outputs": [
    {
     "name": "stdout",
     "output_type": "stream",
     "text": [
      "              precision    recall  f1-score   support\n",
      "\n",
      "         5.0       0.02      0.41      0.04        22\n",
      "        10.0       0.40      0.17      0.24       872\n",
      "        15.0       0.33      0.15      0.20       647\n",
      "        20.0       0.21      0.05      0.08       390\n",
      "        25.0       0.18      0.10      0.13       424\n",
      "        30.0       0.05      0.37      0.09        75\n",
      "        35.0       0.10      0.01      0.02       387\n",
      "        40.0       0.00      0.00      0.00       116\n",
      "        45.0       0.22      0.02      0.03       424\n",
      "        50.0       0.03      0.05      0.04       111\n",
      "        55.0       0.05      0.14      0.08        91\n",
      "        60.0       0.00      0.00      0.00       334\n",
      "        65.0       0.04      0.16      0.07        74\n",
      "        70.0       0.03      0.12      0.05        32\n",
      "        75.0       0.23      0.04      0.07       254\n",
      "        80.0       0.01      0.06      0.01        35\n",
      "        85.0       0.01      0.03      0.01        34\n",
      "        90.0       0.00      0.00      0.00       189\n",
      "        95.0       0.03      0.17      0.05        23\n",
      "       100.0       0.02      0.15      0.03        33\n",
      "       105.0       0.02      0.03      0.02        36\n",
      "       110.0       0.02      0.29      0.04        17\n",
      "       115.0       0.00      0.11      0.01         9\n",
      "       120.0       0.08      0.28      0.13        64\n",
      "       150.0       0.07      1.00      0.14         3\n",
      "\n",
      "    accuracy                           0.09      4696\n",
      "   macro avg       0.09      0.16      0.06      4696\n",
      "weighted avg       0.20      0.09      0.11      4696\n",
      "\n"
     ]
    }
   ],
   "source": [
    "logisticRegr.fit(X_train_Smote, y_train_Smote).decision_function(X_test)\n",
    "y_pred_Smote=logisticRegr.predict(X_test)\n",
    "print(classification_report(y_test, y_pred_Smote))"
   ]
  },
  {
   "cell_type": "markdown",
   "id": "5fcb3584",
   "metadata": {},
   "source": [
    "### Undersampling methods"
   ]
  },
  {
   "cell_type": "markdown",
   "id": "05abb989",
   "metadata": {},
   "source": [
    "#### Random Under-Sampling"
   ]
  },
  {
   "cell_type": "code",
   "execution_count": 62,
   "id": "552008aa",
   "metadata": {},
   "outputs": [
    {
     "name": "stdout",
     "output_type": "stream",
     "text": [
      "[(5.0, 7), (10.0, 7), (15.0, 7), (20.0, 7), (25.0, 7), (30.0, 7), (35.0, 7), (40.0, 7), (45.0, 7), (50.0, 7), (55.0, 7), (60.0, 7), (65.0, 7), (70.0, 7), (75.0, 7), (80.0, 7), (85.0, 7), (90.0, 7), (95.0, 7), (100.0, 7), (105.0, 7), (110.0, 7), (115.0, 7), (120.0, 7), (150.0, 7)]\n"
     ]
    }
   ],
   "source": [
    "# Randomly under sample the majority class\n",
    "rus = RandomUnderSampler(random_state=42)\n",
    "X_train_rus, y_train_rus= rus.fit_resample(X_train, y_train)\n",
    "# Check the number of records after under sampling\n",
    "print(sorted(Counter(y_train_rus).items()))"
   ]
  },
  {
   "cell_type": "markdown",
   "id": "7dd4e483",
   "metadata": {},
   "source": [
    "I am going to replace the times ending in 5 to the nearest and greatest decimal value"
   ]
  },
  {
   "cell_type": "code",
   "execution_count": 91,
   "id": "c0f8044d",
   "metadata": {
    "scrolled": true
   },
   "outputs": [],
   "source": [
    "a=hp_fin_clean.Harry_Potter_and_the_Forbidden.replace([5, 15, 25, 35, 45, 55, 65, 75, 85, 95, 105, 115, 120, 110, 150], \n",
    "                                                       [10,10, 20, 30, 40, 50, 60, 70, 80, 90, 100, 100, 100, 100, 100])"
   ]
  },
  {
   "cell_type": "code",
   "execution_count": 92,
   "id": "29b0d7a4",
   "metadata": {
    "collapsed": true
   },
   "outputs": [
    {
     "data": {
      "text/html": [
       "<div>\n",
       "<style scoped>\n",
       "    .dataframe tbody tr th:only-of-type {\n",
       "        vertical-align: middle;\n",
       "    }\n",
       "\n",
       "    .dataframe tbody tr th {\n",
       "        vertical-align: top;\n",
       "    }\n",
       "\n",
       "    .dataframe thead th {\n",
       "        text-align: right;\n",
       "    }\n",
       "</style>\n",
       "<table border=\"1\" class=\"dataframe\">\n",
       "  <thead>\n",
       "    <tr style=\"text-align: right;\">\n",
       "      <th></th>\n",
       "      <th>Harry_Potter_and_the_Forbidden</th>\n",
       "    </tr>\n",
       "  </thead>\n",
       "  <tbody>\n",
       "    <tr>\n",
       "      <th>0</th>\n",
       "      <td>40.0</td>\n",
       "    </tr>\n",
       "    <tr>\n",
       "      <th>1</th>\n",
       "      <td>40.0</td>\n",
       "    </tr>\n",
       "    <tr>\n",
       "      <th>2</th>\n",
       "      <td>40.0</td>\n",
       "    </tr>\n",
       "    <tr>\n",
       "      <th>3</th>\n",
       "      <td>40.0</td>\n",
       "    </tr>\n",
       "    <tr>\n",
       "      <th>4</th>\n",
       "      <td>20.0</td>\n",
       "    </tr>\n",
       "    <tr>\n",
       "      <th>...</th>\n",
       "      <td>...</td>\n",
       "    </tr>\n",
       "    <tr>\n",
       "      <th>15660</th>\n",
       "      <td>60.0</td>\n",
       "    </tr>\n",
       "    <tr>\n",
       "      <th>15661</th>\n",
       "      <td>60.0</td>\n",
       "    </tr>\n",
       "    <tr>\n",
       "      <th>15662</th>\n",
       "      <td>60.0</td>\n",
       "    </tr>\n",
       "    <tr>\n",
       "      <th>15663</th>\n",
       "      <td>40.0</td>\n",
       "    </tr>\n",
       "    <tr>\n",
       "      <th>15664</th>\n",
       "      <td>40.0</td>\n",
       "    </tr>\n",
       "  </tbody>\n",
       "</table>\n",
       "<p>15651 rows × 1 columns</p>\n",
       "</div>"
      ],
      "text/plain": [
       "       Harry_Potter_and_the_Forbidden\n",
       "0                                40.0\n",
       "1                                40.0\n",
       "2                                40.0\n",
       "3                                40.0\n",
       "4                                20.0\n",
       "...                               ...\n",
       "15660                            60.0\n",
       "15661                            60.0\n",
       "15662                            60.0\n",
       "15663                            40.0\n",
       "15664                            40.0\n",
       "\n",
       "[15651 rows x 1 columns]"
      ]
     },
     "execution_count": 92,
     "metadata": {},
     "output_type": "execute_result"
    }
   ],
   "source": [
    "df=pd.DataFrame(a)\n",
    "df"
   ]
  },
  {
   "cell_type": "code",
   "execution_count": 97,
   "id": "e34d7567",
   "metadata": {},
   "outputs": [],
   "source": [
    "hp2=hp_fin_clean.drop('Harry_Potter_and_the_Forbidden',axis=1)"
   ]
  },
  {
   "cell_type": "code",
   "execution_count": 104,
   "id": "74545d87",
   "metadata": {},
   "outputs": [],
   "source": [
    "hp3=pd.concat([hp2, df], axis=1)"
   ]
  },
  {
   "cell_type": "code",
   "execution_count": 106,
   "id": "86c841fc",
   "metadata": {},
   "outputs": [],
   "source": [
    "hp4=hp3.drop('Unnamed: 0',axis=1)"
   ]
  },
  {
   "cell_type": "code",
   "execution_count": 108,
   "id": "210ed5dd",
   "metadata": {},
   "outputs": [
    {
     "data": {
      "text/plain": [
       "array([ 40.,  20.,  10.,  30.,  60.,  70.,  80.,  90., 100.,  50.])"
      ]
     },
     "execution_count": 108,
     "metadata": {},
     "output_type": "execute_result"
    }
   ],
   "source": [
    "hp4.Harry_Potter_and_the_Forbidden.unique()"
   ]
  },
  {
   "cell_type": "markdown",
   "id": "3443fc72",
   "metadata": {},
   "source": [
    "Now I'm going to apply undersampling"
   ]
  },
  {
   "cell_type": "code",
   "execution_count": 110,
   "id": "3761860b",
   "metadata": {},
   "outputs": [],
   "source": [
    "def getXandY2(df):\n",
    "    df.drop(df.tail(20).index,inplace=True) \n",
    "    x = df.drop(['Harry_Potter_and_the_Forbidden'],axis=1)\n",
    "    y = df.Harry_Potter_and_the_Forbidden\n",
    "    return(x,y)"
   ]
  },
  {
   "cell_type": "code",
   "execution_count": 112,
   "id": "4ea6b3cb",
   "metadata": {},
   "outputs": [
    {
     "name": "stdout",
     "output_type": "stream",
     "text": [
      "[(10.0, 3555), (20.0, 1878), (30.0, 1075), (40.0, 1257), (50.0, 482), (60.0, 944), (70.0, 698), (80.0, 166), (90.0, 459), (100.0, 399)]\n"
     ]
    }
   ],
   "source": [
    "x_und,y_und=getXandY2(hp4)\n",
    "X_train_und, X_test_und, y_train_und, y_test_und = trainTest(x_und,y_und)\n",
    "print(sorted(Counter(y_train_und).items()))"
   ]
  },
  {
   "cell_type": "markdown",
   "id": "2c63ca05",
   "metadata": {},
   "source": [
    "Random undersampling with 10 clases"
   ]
  },
  {
   "cell_type": "code",
   "execution_count": 111,
   "id": "a3e99c30",
   "metadata": {},
   "outputs": [
    {
     "name": "stdout",
     "output_type": "stream",
     "text": [
      "[(10.0, 160), (20.0, 160), (30.0, 160), (40.0, 160), (50.0, 160), (60.0, 160), (70.0, 160), (80.0, 160), (90.0, 160), (100.0, 160)]\n"
     ]
    }
   ],
   "source": [
    "# Randomly under sample the majority class\n",
    "rus = RandomUnderSampler(random_state=42)\n",
    "X_train_rus, y_train_rus= rus.fit_resample(X_train_und, y_train_und)\n",
    "# Check the number of records after under sampling\n",
    "print(sorted(Counter(y_train_rus).items()))"
   ]
  },
  {
   "cell_type": "code",
   "execution_count": 120,
   "id": "86e7b8cf",
   "metadata": {},
   "outputs": [
    {
     "name": "stdout",
     "output_type": "stream",
     "text": [
      "              precision    recall  f1-score   support\n",
      "\n",
      "        10.0       0.58      0.44      0.50      1511\n",
      "        20.0       0.26      0.17      0.21       800\n",
      "        30.0       0.13      0.12      0.12       473\n",
      "        40.0       0.17      0.10      0.13       539\n",
      "        50.0       0.07      0.20      0.11       196\n",
      "        60.0       0.14      0.07      0.10       391\n",
      "        70.0       0.16      0.10      0.12       298\n",
      "        80.0       0.04      0.31      0.06        58\n",
      "        90.0       0.06      0.03      0.04       223\n",
      "       100.0       0.12      0.42      0.19       189\n",
      "\n",
      "    accuracy                           0.24      4678\n",
      "   macro avg       0.17      0.20      0.16      4678\n",
      "weighted avg       0.30      0.24      0.26      4678\n",
      "\n"
     ]
    }
   ],
   "source": [
    "logisticRegr.fit(X_train_rus, y_train_rus).decision_function(X_test_und)\n",
    "y_pred_rus=logisticRegr.predict(X_test_und)\n",
    "print(classification_report(y_test_und, y_pred_rus))"
   ]
  },
  {
   "cell_type": "markdown",
   "id": "47b3fbea",
   "metadata": {},
   "source": [
    "Let's reduce the classes to only 6"
   ]
  },
  {
   "cell_type": "code",
   "execution_count": 116,
   "id": "a871d740",
   "metadata": {},
   "outputs": [
    {
     "data": {
      "text/plain": [
       "array([ 40.,  20.,  10.,  30.,  60., 100.])"
      ]
     },
     "execution_count": 116,
     "metadata": {},
     "output_type": "execute_result"
    }
   ],
   "source": [
    "b=hp4.Harry_Potter_and_the_Forbidden.replace([80, 90, 50,70], \n",
    "                                             [100, 100, 60,100])\n",
    "df2=pd.DataFrame(b)\n",
    "hp5=hp4.drop('Harry_Potter_and_the_Forbidden',axis=1)\n",
    "hp6=pd.concat([hp5, df2], axis=1)\n",
    "hp6.Harry_Potter_and_the_Forbidden.unique()"
   ]
  },
  {
   "cell_type": "code",
   "execution_count": 123,
   "id": "b03f94b2",
   "metadata": {},
   "outputs": [
    {
     "name": "stdout",
     "output_type": "stream",
     "text": [
      "[(10.0, 1077), (20.0, 1077), (30.0, 1077), (40.0, 1077), (60.0, 1077), (100.0, 1077)]\n"
     ]
    }
   ],
   "source": [
    "x_und2,y_und2=getXandY2(hp6)\n",
    "X_train_und2, X_test_und2, y_train_und2, y_test_und2 = trainTest(x_und2,y_und2)\n",
    "# Randomly under sample the majority class\n",
    "rus = RandomUnderSampler(random_state=42)\n",
    "X_train_rus2, y_train_rus2 = rus.fit_resample(X_train_und2, y_train_und2)\n",
    "# Check the number of records after under sampling\n",
    "print(sorted(Counter(y_train_rus2).items()))"
   ]
  },
  {
   "cell_type": "code",
   "execution_count": 124,
   "id": "7ea93d92",
   "metadata": {
    "scrolled": true
   },
   "outputs": [
    {
     "name": "stdout",
     "output_type": "stream",
     "text": [
      "              precision    recall  f1-score   support\n",
      "\n",
      "        10.0       0.57      0.59      0.58      1517\n",
      "        20.0       0.23      0.15      0.18       806\n",
      "        30.0       0.09      0.09      0.09       471\n",
      "        40.0       0.21      0.23      0.22       532\n",
      "        60.0       0.21      0.15      0.18       597\n",
      "       100.0       0.32      0.45      0.37       737\n",
      "\n",
      "    accuracy                           0.35      4660\n",
      "   macro avg       0.27      0.28      0.27      4660\n",
      "weighted avg       0.33      0.35      0.34      4660\n",
      "\n"
     ]
    }
   ],
   "source": [
    "logisticRegr.fit(X_train_rus2, y_train_rus2).decision_function(X_test_und2)\n",
    "y_pred_rus2=logisticRegr.predict(X_test_und2)\n",
    "print(classification_report(y_test_und2, y_pred_rus2))"
   ]
  },
  {
   "cell_type": "markdown",
   "id": "917a004b",
   "metadata": {},
   "source": [
    "#### Under-Sampling Using NearMiss"
   ]
  },
  {
   "cell_type": "code",
   "execution_count": 147,
   "id": "55346c18",
   "metadata": {},
   "outputs": [],
   "source": [
    "from imblearn.under_sampling import NearMiss \n",
    "\n",
    "#This function will use the nearmiss technique to undebalance the training data, create a logReg model and print its metrics\n",
    "def nM(version, x_train, y_train, X_test, y_test):\n",
    "    #undersample training datasets\n",
    "    X_train_nearmiss, y_train_nearmiss= version.fit_resample(x_train, y_train)\n",
    "    # Check the number of records after over sampling\n",
    "    print(sorted(Counter(y_train_nearmiss).items()))\n",
    "    \n",
    "    #fit logreg \n",
    "    logisticRegr.fit(X_train_nearmiss, y_train_nearmiss).decision_function(X_test)\n",
    "    y_pred_nM=logisticRegr.predict(X_test)\n",
    "    print(classification_report(y_test, y_pred_nM))"
   ]
  },
  {
   "cell_type": "markdown",
   "id": "a24205da",
   "metadata": {},
   "source": [
    "#### Version 1"
   ]
  },
  {
   "cell_type": "code",
   "execution_count": 148,
   "id": "fb68fc86",
   "metadata": {},
   "outputs": [
    {
     "name": "stdout",
     "output_type": "stream",
     "text": [
      "[(10.0, 1077), (20.0, 1077), (30.0, 1077), (40.0, 1077), (60.0, 1077), (100.0, 1077)]\n",
      "              precision    recall  f1-score   support\n",
      "\n",
      "        10.0       0.51      0.55      0.53      1517\n",
      "        20.0       0.26      0.18      0.21       806\n",
      "        30.0       0.13      0.11      0.12       471\n",
      "        40.0       0.21      0.17      0.19       532\n",
      "        60.0       0.23      0.19      0.21       597\n",
      "       100.0       0.30      0.46      0.36       737\n",
      "\n",
      "    accuracy                           0.34      4660\n",
      "   macro avg       0.27      0.28      0.27      4660\n",
      "weighted avg       0.33      0.34      0.33      4660\n",
      "\n"
     ]
    }
   ],
   "source": [
    "# Under sample the majority class\n",
    "nearmiss1 = NearMiss(version=1)\n",
    "nM(nearmiss1, X_train_und2, y_train_und2, X_test_und2, y_test_und2)"
   ]
  },
  {
   "cell_type": "markdown",
   "id": "fafb574e",
   "metadata": {},
   "source": [
    "#### Version 2"
   ]
  },
  {
   "cell_type": "code",
   "execution_count": 150,
   "id": "98e4e77e",
   "metadata": {},
   "outputs": [
    {
     "name": "stdout",
     "output_type": "stream",
     "text": [
      "[(10.0, 1077), (20.0, 1077), (30.0, 1077), (40.0, 1077), (60.0, 1077), (100.0, 1077)]\n",
      "              precision    recall  f1-score   support\n",
      "\n",
      "        10.0       0.54      0.45      0.49      1517\n",
      "        20.0       0.28      0.20      0.23       806\n",
      "        30.0       0.12      0.15      0.13       471\n",
      "        40.0       0.23      0.17      0.20       532\n",
      "        60.0       0.19      0.20      0.19       597\n",
      "       100.0       0.29      0.45      0.35       737\n",
      "\n",
      "    accuracy                           0.31      4660\n",
      "   macro avg       0.27      0.27      0.27      4660\n",
      "weighted avg       0.33      0.31      0.31      4660\n",
      "\n"
     ]
    }
   ],
   "source": [
    "# Under sample the majority class\n",
    "nearmiss2 = NearMiss(version=2)\n",
    "nM(nearmiss2, X_train_und2, y_train_und2, X_test_und2, y_test_und2)"
   ]
  },
  {
   "cell_type": "markdown",
   "id": "3f24a6be",
   "metadata": {},
   "source": [
    "#### Version 3"
   ]
  },
  {
   "cell_type": "code",
   "execution_count": 151,
   "id": "2df936b4",
   "metadata": {
    "scrolled": true
   },
   "outputs": [
    {
     "name": "stderr",
     "output_type": "stream",
     "text": [
      "/Users/rodrigoledesmagarces/opt/anaconda3/lib/python3.8/site-packages/imblearn/under_sampling/_prototype_selection/_nearmiss.py:175: UserWarning: The number of the samples to be selected is larger than the number of samples available. The balancing ratio cannot be ensure and all samples will be returned.\n",
      "  warnings.warn(\n",
      "/Users/rodrigoledesmagarces/opt/anaconda3/lib/python3.8/site-packages/imblearn/under_sampling/_prototype_selection/_nearmiss.py:175: UserWarning: The number of the samples to be selected is larger than the number of samples available. The balancing ratio cannot be ensure and all samples will be returned.\n",
      "  warnings.warn(\n",
      "/Users/rodrigoledesmagarces/opt/anaconda3/lib/python3.8/site-packages/imblearn/under_sampling/_prototype_selection/_nearmiss.py:175: UserWarning: The number of the samples to be selected is larger than the number of samples available. The balancing ratio cannot be ensure and all samples will be returned.\n",
      "  warnings.warn(\n"
     ]
    },
    {
     "name": "stdout",
     "output_type": "stream",
     "text": [
      "[(10.0, 1077), (20.0, 1077), (30.0, 1077), (40.0, 1022), (60.0, 1049), (100.0, 991)]\n",
      "              precision    recall  f1-score   support\n",
      "\n",
      "        10.0       0.54      0.61      0.57      1517\n",
      "        20.0       0.20      0.10      0.13       806\n",
      "        30.0       0.13      0.11      0.12       471\n",
      "        40.0       0.22      0.20      0.21       532\n",
      "        60.0       0.22      0.17      0.19       597\n",
      "       100.0       0.28      0.46      0.35       737\n",
      "\n",
      "    accuracy                           0.34      4660\n",
      "   macro avg       0.27      0.28      0.26      4660\n",
      "weighted avg       0.32      0.34      0.33      4660\n",
      "\n"
     ]
    }
   ],
   "source": [
    "# Under sample the majority class\n",
    "nearmiss3 = NearMiss(version=3)\n",
    "nM(nearmiss3, X_train_und2, y_train_und2, X_test_und2, y_test_und2)"
   ]
  },
  {
   "cell_type": "markdown",
   "id": "1560467c",
   "metadata": {},
   "source": [
    "## Oversampling techniques with 6 classes"
   ]
  },
  {
   "cell_type": "markdown",
   "id": "647e3471",
   "metadata": {},
   "source": [
    "#### Random Oversampling"
   ]
  },
  {
   "cell_type": "code",
   "execution_count": 159,
   "id": "5da7f20a",
   "metadata": {},
   "outputs": [],
   "source": [
    "ros = RandomOverSampler(random_state=42)\n",
    "smote = SMOTE(random_state=42)\n",
    "\n",
    "def overSampling(X_train, y_train, X_test, y_test, method):\n",
    "    X_train_os, y_train_os= method.fit_resample(X_train, y_train)\n",
    "    # Check the number of records after over sampling\n",
    "    print(sorted(Counter(y_train_os).items()))\n",
    "\n",
    "    logisticRegr.fit(X_train_os, y_train_os).decision_function(X_test)\n",
    "    y_pred=logisticRegr.predict(X_test)\n",
    "    print(classification_report(y_test, y_pred))            "
   ]
  },
  {
   "cell_type": "code",
   "execution_count": 162,
   "id": "962f46b5",
   "metadata": {},
   "outputs": [
    {
     "name": "stdout",
     "output_type": "stream",
     "text": [
      "\n",
      " RANDOM OVERSAMPLING\n",
      "[(10.0, 3544), (20.0, 3544), (30.0, 3544), (40.0, 3544), (60.0, 3544), (100.0, 3544)]\n",
      "              precision    recall  f1-score   support\n",
      "\n",
      "        10.0       0.57      0.58      0.58      1517\n",
      "        20.0       0.22      0.15      0.18       806\n",
      "        30.0       0.10      0.11      0.10       471\n",
      "        40.0       0.21      0.23      0.22       532\n",
      "        60.0       0.18      0.13      0.15       597\n",
      "       100.0       0.30      0.44      0.36       737\n",
      "\n",
      "    accuracy                           0.34      4660\n",
      "   macro avg       0.26      0.27      0.26      4660\n",
      "weighted avg       0.33      0.34      0.33      4660\n",
      "\n"
     ]
    }
   ],
   "source": [
    "print(\"\\n RANDOM OVERSAMPLING\")\n",
    "overSampling(X_train_und2, y_train_und2, X_test_und2, y_test_und2, ros)"
   ]
  },
  {
   "cell_type": "code",
   "execution_count": 163,
   "id": "bbab0a97",
   "metadata": {},
   "outputs": [
    {
     "name": "stdout",
     "output_type": "stream",
     "text": [
      "\n",
      " SMOT\n",
      "[(10.0, 3544), (20.0, 3544), (30.0, 3544), (40.0, 3544), (60.0, 3544), (100.0, 3544)]\n",
      "              precision    recall  f1-score   support\n",
      "\n",
      "        10.0       0.57      0.59      0.58      1517\n",
      "        20.0       0.21      0.14      0.17       806\n",
      "        30.0       0.11      0.11      0.11       471\n",
      "        40.0       0.21      0.25      0.23       532\n",
      "        60.0       0.21      0.12      0.15       597\n",
      "       100.0       0.31      0.45      0.36       737\n",
      "\n",
      "    accuracy                           0.35      4660\n",
      "   macro avg       0.27      0.28      0.27      4660\n",
      "weighted avg       0.33      0.35      0.33      4660\n",
      "\n"
     ]
    }
   ],
   "source": [
    "print(\"\\n SMOT\")\n",
    "overSampling(X_train_und2, y_train_und2, X_test_und2, y_test_und2, smote)"
   ]
  }
 ],
 "metadata": {
  "kernelspec": {
   "display_name": "Python 3 (ipykernel)",
   "language": "python",
   "name": "python3"
  },
  "language_info": {
   "codemirror_mode": {
    "name": "ipython",
    "version": 3
   },
   "file_extension": ".py",
   "mimetype": "text/x-python",
   "name": "python",
   "nbconvert_exporter": "python",
   "pygments_lexer": "ipython3",
   "version": "3.8.8"
  }
 },
 "nbformat": 4,
 "nbformat_minor": 5
}
