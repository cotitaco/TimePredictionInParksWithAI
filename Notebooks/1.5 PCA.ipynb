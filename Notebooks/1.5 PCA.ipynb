{
 "cells": [
  {
   "cell_type": "markdown",
   "id": "58d59a2b",
   "metadata": {},
   "source": [
    "# PCA Principal Component Analysis"
   ]
  },
  {
   "cell_type": "code",
   "execution_count": 1,
   "id": "60fd72b2",
   "metadata": {},
   "outputs": [],
   "source": [
    "import numpy as np\n",
    "import pandas as pd\n",
    "from collections import Counter"
   ]
  },
  {
   "cell_type": "code",
   "execution_count": 2,
   "id": "9a8eb07a",
   "metadata": {},
   "outputs": [],
   "source": [
    "url = \"https://archive.ics.uci.edu/ml/machine-learning-databases/iris/iris.data\"\n",
    "names = ['sepal-length', 'sepal-width', 'petal-length', 'petal-width', 'Class']\n",
    "dataset = pd.read_csv(url, names=names)"
   ]
  },
  {
   "cell_type": "code",
   "execution_count": 3,
   "id": "eb0667f0",
   "metadata": {},
   "outputs": [],
   "source": [
    "X = dataset.drop('Class', 1)\n",
    "y = dataset['Class']"
   ]
  },
  {
   "cell_type": "code",
   "execution_count": 4,
   "id": "5281d2d3",
   "metadata": {},
   "outputs": [],
   "source": [
    "# Splitting the dataset into the Training set and Test set\n",
    "from sklearn.model_selection import train_test_split\n",
    "\n",
    "X_train, X_test, y_train, y_test = train_test_split(X, y, test_size=0.2, random_state=0)"
   ]
  },
  {
   "cell_type": "code",
   "execution_count": 5,
   "id": "42b3df1e",
   "metadata": {},
   "outputs": [],
   "source": [
    "from sklearn.preprocessing import StandardScaler\n",
    "\n",
    "sc = StandardScaler()\n",
    "X_train = sc.fit_transform(X_train)\n",
    "X_test = sc.transform(X_test)"
   ]
  },
  {
   "cell_type": "code",
   "execution_count": 6,
   "id": "b9708ac3",
   "metadata": {},
   "outputs": [
    {
     "data": {
      "text/plain": [
       "array([[ 0.61303014,  0.10850105,  0.94751783,  0.73603967],\n",
       "       [-0.56776627, -0.12400121,  0.38491447,  0.34808318],\n",
       "       [-0.80392556,  1.03851009, -1.30289562, -1.3330616 ],\n",
       "       [ 0.25879121, -0.12400121,  0.60995581,  0.73603967],\n",
       "       [ 0.61303014, -0.58900572,  1.00377816,  1.25331499],\n",
       "       [-0.80392556, -0.82150798,  0.04735245,  0.21876435],\n",
       "       [-0.21352735,  1.73601687, -1.19037495, -1.20374277],\n",
       "       [ 0.14071157, -0.82150798,  0.72247648,  0.47740201],\n",
       "       [ 0.02263193, -0.12400121,  0.21613346,  0.34808318],\n",
       "       [-0.09544771, -1.05401024,  0.10361279, -0.03987331],\n",
       "       [ 1.0853487 , -0.12400121,  0.94751783,  1.12399616],\n",
       "       [-1.39432376,  0.34100331, -1.41541629, -1.3330616 ],\n",
       "       [ 1.20342834,  0.10850105,  0.72247648,  1.38263382],\n",
       "       [-1.04008484,  1.03851009, -1.24663528, -0.81578628],\n",
       "       [-0.56776627,  1.50351461, -1.30289562, -1.3330616 ],\n",
       "       [-1.04008484, -2.4490238 , -0.1776889 , -0.29851096],\n",
       "       [ 0.73110978, -0.12400121,  0.94751783,  0.73603967],\n",
       "       [ 0.96726906,  0.57350557,  1.0600385 ,  1.64127148],\n",
       "       [ 0.14071157, -1.98401928,  0.66621615,  0.34808318],\n",
       "       [ 0.96726906, -1.2865125 ,  1.11629884,  0.73603967],\n",
       "       [-0.33160699, -1.2865125 ,  0.04735245, -0.16919214],\n",
       "       [ 2.14806547, -0.12400121,  1.28507985,  1.38263382],\n",
       "       [ 0.49495049,  0.57350557,  0.49743514,  0.47740201],\n",
       "       [-0.44968663, -1.51901476, -0.00890789, -0.16919214],\n",
       "       [ 0.49495049, -0.82150798,  0.60995581,  0.73603967],\n",
       "       [ 0.49495049, -0.58900572,  0.72247648,  0.34808318],\n",
       "       [-1.15816448, -1.2865125 ,  0.38491447,  0.60672084],\n",
       "       [ 0.49495049, -1.2865125 ,  0.66621615,  0.8653585 ],\n",
       "       [ 1.32150798,  0.34100331,  0.49743514,  0.21876435],\n",
       "       [ 0.73110978, -0.12400121,  0.77873682,  0.99467733],\n",
       "       [ 0.14071157,  0.80600783,  0.38491447,  0.47740201],\n",
       "       [-1.27624412,  0.10850105, -1.24663528, -1.3330616 ],\n",
       "       [-0.09544771, -0.82150798,  0.72247648,  0.8653585 ],\n",
       "       [-0.33160699, -0.82150798,  0.21613346,  0.08944552],\n",
       "       [-0.33160699, -0.35650346, -0.12142856,  0.08944552],\n",
       "       [-0.44968663, -1.2865125 ,  0.10361279,  0.08944552],\n",
       "       [ 0.25879121, -0.12400121,  0.4411748 ,  0.21876435],\n",
       "       [ 1.55766726,  0.34100331,  1.22881951,  0.73603967],\n",
       "       [-0.68584591,  1.50351461, -1.30289562, -1.3330616 ],\n",
       "       [-1.86664232, -0.12400121, -1.52793696, -1.46238043],\n",
       "       [ 0.61303014, -0.82150798,  0.83499716,  0.8653585 ],\n",
       "       [-0.21352735, -0.12400121,  0.21613346, -0.03987331],\n",
       "       [-0.56776627,  0.80600783, -1.19037495, -1.3330616 ],\n",
       "       [-0.21352735,  3.13103043, -1.30289562, -1.07442394],\n",
       "       [ 1.20342834,  0.10850105,  0.60995581,  0.34808318],\n",
       "       [-1.5124034 ,  0.10850105, -1.30289562, -1.3330616 ],\n",
       "       [ 0.02263193, -0.12400121,  0.72247648,  0.73603967],\n",
       "       [-0.9220052 , -1.2865125 , -0.45899058, -0.16919214],\n",
       "       [-1.5124034 ,  0.80600783, -1.35915595, -1.20374277],\n",
       "       [ 0.37687085, -1.98401928,  0.38491447,  0.34808318],\n",
       "       [ 1.55766726,  1.27101235,  1.28507985,  1.64127148],\n",
       "       [-0.21352735, -0.35650346,  0.21613346,  0.08944552],\n",
       "       [-1.27624412, -0.12400121, -1.35915595, -1.46238043],\n",
       "       [ 1.43958762, -0.12400121,  1.17255917,  1.12399616],\n",
       "       [ 1.20342834,  0.34100331,  1.0600385 ,  1.38263382],\n",
       "       [ 0.73110978, -0.12400121,  1.11629884,  1.25331499],\n",
       "       [ 0.61303014, -0.58900572,  1.00377816,  1.12399616],\n",
       "       [-0.9220052 ,  1.73601687, -1.24663528, -1.3330616 ],\n",
       "       [-1.27624412,  0.80600783, -1.24663528, -1.3330616 ],\n",
       "       [ 0.73110978,  0.34100331,  0.72247648,  0.99467733],\n",
       "       [ 0.96726906,  0.57350557,  1.0600385 ,  1.12399616],\n",
       "       [-1.63048304, -1.75151702, -1.41541629, -1.20374277],\n",
       "       [ 0.37687085,  0.80600783,  0.89125749,  1.38263382],\n",
       "       [-1.15816448, -0.12400121, -1.35915595, -1.3330616 ],\n",
       "       [-0.21352735, -1.2865125 ,  0.66621615,  0.99467733],\n",
       "       [ 1.20342834,  0.10850105,  0.89125749,  1.12399616],\n",
       "       [-1.74856268,  0.34100331, -1.41541629, -1.3330616 ],\n",
       "       [-1.04008484,  1.27101235, -1.35915595, -1.3330616 ],\n",
       "       [ 1.55766726, -0.12400121,  1.11629884,  0.47740201],\n",
       "       [-0.9220052 ,  1.03851009, -1.35915595, -1.20374277],\n",
       "       [-1.74856268, -0.12400121, -1.41541629, -1.3330616 ],\n",
       "       [-0.56776627,  1.96851913, -1.19037495, -1.07442394],\n",
       "       [-0.44968663, -1.75151702,  0.10361279,  0.08944552],\n",
       "       [ 1.0853487 ,  0.34100331,  1.17255917,  1.38263382],\n",
       "       [ 2.02998583, -0.12400121,  1.56638153,  1.12399616],\n",
       "       [-0.9220052 ,  1.03851009, -1.35915595, -1.3330616 ],\n",
       "       [-1.15816448,  0.10850105, -1.30289562, -1.46238043],\n",
       "       [-0.80392556,  0.80600783, -1.35915595, -1.3330616 ],\n",
       "       [-0.21352735, -0.58900572,  0.38491447,  0.08944552],\n",
       "       [ 0.84918942, -0.12400121,  0.32865413,  0.21876435],\n",
       "       [-1.04008484,  0.34100331, -1.47167663, -1.3330616 ],\n",
       "       [-0.9220052 ,  0.57350557, -1.19037495, -0.94510511],\n",
       "       [ 0.61303014, -0.35650346,  0.27239379,  0.08944552],\n",
       "       [-0.56776627,  0.80600783, -1.30289562, -1.07442394],\n",
       "       [ 2.14806547, -1.05401024,  1.73516253,  1.38263382],\n",
       "       [-1.15816448, -1.51901476, -0.29020957, -0.29851096],\n",
       "       [ 2.38422475,  1.73601687,  1.45386085,  0.99467733],\n",
       "       [ 0.96726906,  0.10850105,  0.32865413,  0.21876435],\n",
       "       [-0.80392556,  2.43352365, -1.30289562, -1.46238043],\n",
       "       [ 0.14071157, -0.12400121,  0.55369548,  0.73603967],\n",
       "       [-0.09544771,  2.20102139, -1.47167663, -1.3330616 ],\n",
       "       [ 2.14806547, -0.58900572,  1.62264186,  0.99467733],\n",
       "       [-0.9220052 ,  1.73601687, -1.30289562, -1.20374277],\n",
       "       [-1.39432376,  0.34100331, -1.24663528, -1.3330616 ],\n",
       "       [ 1.79382654, -0.58900572,  1.28507985,  0.8653585 ],\n",
       "       [-1.04008484,  0.57350557, -1.35915595, -1.3330616 ],\n",
       "       [ 0.49495049,  0.80600783,  1.00377816,  1.51195265],\n",
       "       [-0.21352735, -0.58900572,  0.15987312,  0.08944552],\n",
       "       [-0.09544771, -0.82150798,  0.04735245, -0.03987331],\n",
       "       [-0.21352735, -1.05401024, -0.1776889 , -0.29851096],\n",
       "       [ 0.61303014,  0.34100331,  0.83499716,  1.38263382],\n",
       "       [ 0.96726906, -0.12400121,  0.77873682,  1.38263382],\n",
       "       [ 0.49495049, -1.2865125 ,  0.60995581,  0.34808318],\n",
       "       [ 0.96726906, -0.12400121,  0.66621615,  0.60672084],\n",
       "       [-1.04008484, -0.12400121, -1.24663528, -1.3330616 ],\n",
       "       [-0.44968663, -1.51901476, -0.06516822, -0.29851096],\n",
       "       [ 0.96726906,  0.10850105,  1.00377816,  1.51195265],\n",
       "       [-0.09544771, -0.82150798,  0.72247648,  0.8653585 ],\n",
       "       [-0.9220052 ,  0.80600783, -1.30289562, -1.3330616 ],\n",
       "       [ 0.84918942, -0.35650346,  0.4411748 ,  0.08944552],\n",
       "       [-0.33160699, -0.12400121,  0.15987312,  0.08944552],\n",
       "       [ 0.02263193,  0.34100331,  0.55369548,  0.73603967],\n",
       "       [ 0.49495049, -1.75151702,  0.32865413,  0.08944552],\n",
       "       [-0.44968663,  1.03851009, -1.41541629, -1.3330616 ],\n",
       "       [-0.9220052 ,  1.50351461, -1.30289562, -1.07442394],\n",
       "       [-1.15816448,  0.10850105, -1.30289562, -1.46238043],\n",
       "       [ 0.49495049, -0.35650346,  1.00377816,  0.73603967],\n",
       "       [-0.09544771, -0.82150798,  0.15987312, -0.29851096],\n",
       "       [ 2.14806547,  1.73601687,  1.62264186,  1.25331499],\n",
       "       [-1.5124034 ,  0.34100331, -1.35915595, -1.3330616 ]])"
      ]
     },
     "execution_count": 6,
     "metadata": {},
     "output_type": "execute_result"
    }
   ],
   "source": [
    "X_train"
   ]
  },
  {
   "cell_type": "code",
   "execution_count": 7,
   "id": "624172e5",
   "metadata": {},
   "outputs": [],
   "source": [
    "from sklearn.decomposition import PCA\n",
    "\n",
    "pca = PCA()\n",
    "X_train = pca.fit_transform(X_train)\n",
    "X_test = pca.transform(X_test)"
   ]
  },
  {
   "cell_type": "code",
   "execution_count": 8,
   "id": "e126a21f",
   "metadata": {},
   "outputs": [],
   "source": [
    "explained_variance = pca.explained_variance_ratio_"
   ]
  },
  {
   "cell_type": "code",
   "execution_count": 9,
   "id": "e01c5a93",
   "metadata": {},
   "outputs": [
    {
     "data": {
      "text/plain": [
       "array([0.72226528, 0.23974795, 0.03338117, 0.0046056 ])"
      ]
     },
     "execution_count": 9,
     "metadata": {},
     "output_type": "execute_result"
    }
   ],
   "source": [
    "explained_variance"
   ]
  },
  {
   "cell_type": "code",
   "execution_count": 10,
   "id": "f9afabe7",
   "metadata": {},
   "outputs": [],
   "source": [
    "from sklearn.decomposition import PCA\n",
    "\n",
    "pca = PCA(n_components=1)\n",
    "X_train = pca.fit_transform(X_train)\n",
    "X_test = pca.transform(X_test)"
   ]
  },
  {
   "cell_type": "code",
   "execution_count": 11,
   "id": "029e4be1",
   "metadata": {
    "scrolled": true
   },
   "outputs": [
    {
     "data": {
      "text/plain": [
       "array([[ 1.27228206e+00],\n",
       "       [ 1.52231770e-01],\n",
       "       [-2.18764183e+00],\n",
       "       [ 9.41913396e-01],\n",
       "       [ 1.76227837e+00],\n",
       "       [-8.16806401e-02],\n",
       "       [-1.89794863e+00],\n",
       "       [ 9.59395493e-01],\n",
       "       [ 3.65661204e-01],\n",
       "       [ 2.31845912e-01],\n",
       "       [ 1.79730127e+00],\n",
       "       [-2.40350676e+00],\n",
       "       [ 1.82199968e+00],\n",
       "       [-1.98427118e+00],\n",
       "       [-2.17073306e+00],\n",
       "       [-2.55598076e-01],\n",
       "       [ 1.38862320e+00],\n",
       "       [ 1.93409268e+00],\n",
       "       [ 1.12243099e+00],\n",
       "       [ 1.88169499e+00],\n",
       "       [ 5.43123767e-02],\n",
       "       [ 2.70365641e+00],\n",
       "       [ 6.91516012e-01],\n",
       "       [ 1.30048660e-02],\n",
       "       [ 1.22853905e+00],\n",
       "       [ 1.01881714e+00],\n",
       "       [ 2.57616370e-01],\n",
       "       [ 1.44310720e+00],\n",
       "       [ 1.03458720e+00],\n",
       "       [ 1.43772035e+00],\n",
       "       [ 3.84673096e-01],\n",
       "       [-2.18860624e+00],\n",
       "       [ 1.05608476e+00],\n",
       "       [ 1.92641524e-01],\n",
       "       [-1.12363985e-01],\n",
       "       [ 1.72424265e-01],\n",
       "       [ 5.48040969e-01],\n",
       "       [ 1.88178641e+00],\n",
       "       [-2.23313082e+00],\n",
       "       [-2.68474557e+00],\n",
       "       [ 1.49617758e+00],\n",
       "       [ 1.93808918e-02],\n",
       "       [-1.94319667e+00],\n",
       "       [-2.21348689e+00],\n",
       "       [ 1.16566733e+00],\n",
       "       [-2.34625489e+00],\n",
       "       [ 8.82824123e-01],\n",
       "       [-5.53354567e-01],\n",
       "       [-2.46710989e+00],\n",
       "       [ 1.08296089e+00],\n",
       "       [ 2.21566386e+00],\n",
       "       [ 1.47152532e-01],\n",
       "       [-2.27419738e+00],\n",
       "       [ 2.11590706e+00],\n",
       "       [ 1.96517506e+00],\n",
       "       [ 1.78249563e+00],\n",
       "       [ 1.68845011e+00],\n",
       "       [-2.37901660e+00],\n",
       "       [-2.35043637e+00],\n",
       "       [ 1.29698047e+00],\n",
       "       [ 1.63877963e+00],\n",
       "       [-1.96898362e+00],\n",
       "       [ 1.32194459e+00],\n",
       "       [-2.13797135e+00],\n",
       "       [ 1.14254888e+00],\n",
       "       [ 1.77290253e+00],\n",
       "       [-2.59070005e+00],\n",
       "       [-2.39923386e+00],\n",
       "       [ 1.77631039e+00],\n",
       "       [-2.20906445e+00],\n",
       "       [-2.48281329e+00],\n",
       "       [-2.06525704e+00],\n",
       "       [ 2.80311020e-01],\n",
       "       [ 1.96848355e+00],\n",
       "       [ 2.65786776e+00],\n",
       "       [-2.28289272e+00],\n",
       "       [-2.23288987e+00],\n",
       "       [-2.16655158e+00],\n",
       "       [ 2.99655286e-01],\n",
       "       [ 7.94323529e-01],\n",
       "       [-2.24916660e+00],\n",
       "       [-1.85496180e+00],\n",
       "       [ 6.16789994e-01],\n",
       "       [-1.86124640e+00],\n",
       "       [ 3.18225493e+00],\n",
       "       [-5.99475599e-01],\n",
       "       [ 2.27397951e+00],\n",
       "       [ 8.02777914e-01],\n",
       "       [-2.58513035e+00],\n",
       "       [ 8.46662508e-01],\n",
       "       [-2.18153152e+00],\n",
       "       [ 2.78717714e+00],\n",
       "       [-2.33804146e+00],\n",
       "       [-2.30494738e+00],\n",
       "       [ 2.32903683e+00],\n",
       "       [-2.23740372e+00],\n",
       "       [ 1.52387687e+00],\n",
       "       [ 1.68242783e-01],\n",
       "       [ 1.45049409e-01],\n",
       "       [-1.42474004e-01],\n",
       "       [ 1.52177374e+00],\n",
       "       [ 1.78400066e+00],\n",
       "       [ 1.11494102e+00],\n",
       "       [ 1.27532483e+00],\n",
       "       [-2.00986734e+00],\n",
       "       [-9.36765222e-02],\n",
       "       [ 1.93529805e+00],\n",
       "       [ 1.05608476e+00],\n",
       "       [-2.19609621e+00],\n",
       "       [ 8.40144896e-01],\n",
       "       [-2.04173388e-03],\n",
       "       [ 6.76377991e-01],\n",
       "       [ 9.10905621e-01],\n",
       "       [-2.06615479e+00],\n",
       "       [-2.21026982e+00],\n",
       "       [-2.23288987e+00],\n",
       "       [ 1.35062418e+00],\n",
       "       [ 6.30991357e-02],\n",
       "       [ 2.39539989e+00],\n",
       "       [-2.43305139e+00]])"
      ]
     },
     "execution_count": 11,
     "metadata": {},
     "output_type": "execute_result"
    }
   ],
   "source": [
    "X_train"
   ]
  },
  {
   "cell_type": "code",
   "execution_count": 12,
   "id": "bcac9fe6",
   "metadata": {},
   "outputs": [],
   "source": [
    "from sklearn.ensemble import RandomForestClassifier\n",
    "\n",
    "classifier = RandomForestClassifier(max_depth=2, random_state=0)\n",
    "classifier.fit(X_train, y_train)\n",
    "\n",
    "# Predicting the Test set results\n",
    "y_pred = classifier.predict(X_test)"
   ]
  },
  {
   "cell_type": "code",
   "execution_count": 13,
   "id": "6d4e1757",
   "metadata": {},
   "outputs": [
    {
     "name": "stdout",
     "output_type": "stream",
     "text": [
      "[[11  0  0]\n",
      " [ 0 12  1]\n",
      " [ 0  1  5]]\n",
      "Accuracy 0.9333333333333333\n"
     ]
    }
   ],
   "source": [
    "from sklearn.metrics import confusion_matrix\n",
    "from sklearn.metrics import accuracy_score\n",
    "\n",
    "cm = confusion_matrix(y_test, y_pred)\n",
    "print(cm)\n",
    "print('Accuracy', accuracy_score(y_test, y_pred))"
   ]
  },
  {
   "cell_type": "markdown",
   "id": "75d5def1",
   "metadata": {},
   "source": [
    "### Principal Component Analysis with HP Waiting Times"
   ]
  },
  {
   "cell_type": "code",
   "execution_count": 14,
   "id": "6bb7ed96",
   "metadata": {},
   "outputs": [],
   "source": [
    "import pandas as pd\n",
    "import numpy as np\n",
    "from sklearn.model_selection import train_test_split\n",
    "from imblearn.over_sampling import RandomOverSampler, SMOTE\n",
    "\n",
    "hp_me = pd.read_csv(\"harryPotterClean.csv\")"
   ]
  },
  {
   "cell_type": "code",
   "execution_count": 15,
   "id": "3de672d9",
   "metadata": {},
   "outputs": [],
   "source": [
    "smote = SMOTE(random_state=42)\n",
    "\n",
    "#Function to perform oversampling\n",
    "def overSampling(X_train, y_train, y_test, method):\n",
    "    X_train_os, y_train_os= method.fit_resample(X_train, y_train)\n",
    "    # Check the number of records after over sampling\n",
    "    print(sorted(Counter(y_train_os).items())) \n",
    "    return(X_train_os, y_train_os)\n",
    "\n",
    "#Fucntion to split into X and Y\n",
    "def getXandY(df):\n",
    "    df.drop(df.tail(20).index,inplace=True) \n",
    "    x = df.drop(['Harry_Potter_and_the_Forbidden'],axis=1)\n",
    "    y = df.Harry_Potter_and_the_Forbidden\n",
    "    return(x,y)\n",
    "\n",
    "#Function to split in test and train\n",
    "def trainTest(x,y):\n",
    "    X_train, X_test, y_train, y_test = train_test_split(x, y, test_size=0.30, shuffle=True)\n",
    "    return(X_train, X_test, y_train, y_test)"
   ]
  },
  {
   "cell_type": "markdown",
   "id": "2ba4eaec",
   "metadata": {},
   "source": [
    "Here I will be trimming the outliers, and also reducing the number of classes such as in the past notebook"
   ]
  },
  {
   "cell_type": "code",
   "execution_count": 16,
   "id": "8a121d74",
   "metadata": {},
   "outputs": [
    {
     "data": {
      "text/plain": [
       "array([ 40.,  20.,  10.,  30.,  60., 100.,  50.,  nan])"
      ]
     },
     "execution_count": 16,
     "metadata": {},
     "output_type": "execute_result"
    }
   ],
   "source": [
    "#Delete all rows which contain outliers\n",
    "hp_clean = hp_me[hp_me.Harry_Potter_and_the_Forbidden != 0] #delete rows with 0 min\n",
    "hp_clean = hp_clean[hp_clean.Harry_Potter_and_the_Forbidden != 180]\n",
    "hp_clean = hp_clean[hp_clean.Harry_Potter_and_the_Forbidden != 150]\n",
    "hp_clean = hp_clean[hp_clean.Harry_Potter_and_the_Forbidden != 145]\n",
    "hp_clean = hp_clean[hp_clean.Harry_Potter_and_the_Forbidden != 135]\n",
    "hp_clean = hp_clean[hp_clean.Harry_Potter_and_the_Forbidden != 130]\n",
    "hp_clean = hp_clean[hp_clean.Harry_Potter_and_the_Forbidden != 11]\n",
    "hp_fin_clean = hp_clean[hp_clean.Harry_Potter_and_the_Forbidden != 125]\n",
    "\n",
    "#Replace times ending in 5 and also compacting the rest to have only 6 classes\n",
    "a=hp_fin_clean.Harry_Potter_and_the_Forbidden.replace([5, 15, 25, 35, 45, 55, 65, 75, 85, 95, 105, 115, 120, 110, 150,80, 90, 50,70], \n",
    "                                                       [10,10, 20, 30, 40, 50, 60, 60, 100, 100, 100, 100, 100, 100, 100,100, 100, 60,100])\n",
    "#Create the final dataframe\n",
    "df=pd.DataFrame(a)\n",
    "hp2=hp_fin_clean.drop('Harry_Potter_and_the_Forbidden',axis=1)\n",
    "hp3=pd.concat([hp2, df], axis=1)\n",
    "hp4=hp3.drop('Unnamed: 0',axis=1)\n",
    "hp4.Harry_Potter_and_the_Forbidden.unique()"
   ]
  },
  {
   "cell_type": "code",
   "execution_count": 17,
   "id": "ba152db1",
   "metadata": {},
   "outputs": [],
   "source": [
    "#create a csv of the compressed dataset\n",
    "hp4.to_csv('hp_waitTime_6vars.csv')"
   ]
  },
  {
   "cell_type": "code",
   "execution_count": 18,
   "id": "fd3762b7",
   "metadata": {},
   "outputs": [],
   "source": [
    "#Split the compact dataframe into X and Y and train and test\n",
    "x,y=getXandY(hp4)\n",
    "X_train, X_test, y_train, y_test = trainTest(x,y)"
   ]
  },
  {
   "cell_type": "code",
   "execution_count": 19,
   "id": "d2a73b0a",
   "metadata": {
    "scrolled": true
   },
   "outputs": [
    {
     "name": "stdout",
     "output_type": "stream",
     "text": [
      "[(10.0, 3557), (20.0, 1891), (30.0, 1095), (40.0, 1274), (50.0, 197), (60.0, 1870), (100.0, 1134)]\n"
     ]
    }
   ],
   "source": [
    "print(sorted(Counter(y_train).items()))"
   ]
  },
  {
   "cell_type": "code",
   "execution_count": 20,
   "id": "615f43c0",
   "metadata": {},
   "outputs": [
    {
     "name": "stdout",
     "output_type": "stream",
     "text": [
      "[(10.0, 3557), (20.0, 3557), (30.0, 3557), (40.0, 3557), (50.0, 3557), (60.0, 3557), (100.0, 3557)]\n"
     ]
    }
   ],
   "source": [
    "X_train_os, y_train_os=overSampling(X_train, y_train, y_test, smote)"
   ]
  },
  {
   "cell_type": "code",
   "execution_count": 21,
   "id": "bf01dec2",
   "metadata": {},
   "outputs": [
    {
     "data": {
      "text/plain": [
       "array([3.97896184e-01, 1.36498318e-01, 1.21754728e-01, 9.01434349e-02,\n",
       "       8.43473958e-02, 5.28936831e-02, 4.08584914e-02, 2.71684597e-02,\n",
       "       2.35586558e-02, 1.38268444e-02, 1.10538054e-02, 1.16819983e-35])"
      ]
     },
     "execution_count": 21,
     "metadata": {},
     "output_type": "execute_result"
    }
   ],
   "source": [
    "from sklearn.decomposition import PCA\n",
    "\n",
    "pca = PCA()\n",
    "X_train_pca = pca.fit_transform(X_train_os)\n",
    "X_test_pca = pca.transform(X_test)\n",
    "\n",
    "explained_variance = pca.explained_variance_ratio_\n",
    "explained_variance"
   ]
  },
  {
   "cell_type": "markdown",
   "id": "350f5915",
   "metadata": {},
   "source": [
    "Metrics with all the variables"
   ]
  },
  {
   "cell_type": "code",
   "execution_count": 22,
   "id": "d6a28d9e",
   "metadata": {},
   "outputs": [],
   "source": [
    "from sklearn.linear_model import LogisticRegression\n",
    "from sklearn import metrics\n",
    "from sklearn.metrics import classification_report\n",
    "\n",
    "lg = LogisticRegression(max_iter=20000)\n",
    "lg.fit(X_train_pca, y_train_os).decision_function(X_test_pca)\n",
    "y_pred=lg.predict(X_test_pca)"
   ]
  },
  {
   "cell_type": "code",
   "execution_count": 23,
   "id": "3e11b162",
   "metadata": {
    "scrolled": true
   },
   "outputs": [
    {
     "name": "stdout",
     "output_type": "stream",
     "text": [
      "              precision    recall  f1-score   support\n",
      "\n",
      "        10.0       0.57      0.53      0.55      1509\n",
      "        20.0       0.22      0.13      0.17       814\n",
      "        30.0       0.14      0.12      0.13       477\n",
      "        40.0       0.25      0.17      0.20       554\n",
      "        50.0       0.05      0.36      0.09       104\n",
      "        60.0       0.27      0.11      0.16       785\n",
      "       100.0       0.22      0.46      0.30       480\n",
      "\n",
      "    accuracy                           0.30      4723\n",
      "   macro avg       0.25      0.27      0.23      4723\n",
      "weighted avg       0.33      0.30      0.30      4723\n",
      "\n"
     ]
    }
   ],
   "source": [
    "print(classification_report(y_test, y_pred))"
   ]
  },
  {
   "cell_type": "markdown",
   "id": "5c87b7ca",
   "metadata": {},
   "source": [
    "Lets make a function to try out the list "
   ]
  },
  {
   "cell_type": "code",
   "execution_count": 24,
   "id": "2e54a710",
   "metadata": {},
   "outputs": [],
   "source": [
    "def myPCA(n,X_train,X_test,y_train):\n",
    "    print(\"-------------------------number of components = \", n)\n",
    "    pca = PCA(n_components=n)\n",
    "    X_train_pca = pca.fit_transform(X_train)\n",
    "    X_test_pca = pca.transform(X_test)\n",
    "    lg = LogisticRegression(max_iter=20000)\n",
    "    lg.fit(X_train_pca, y_train).decision_function(X_test_pca)\n",
    "    y_pred=lg.predict(X_test_pca)\n",
    "    print(classification_report(y_test, y_pred))"
   ]
  },
  {
   "cell_type": "code",
   "execution_count": 25,
   "id": "ed66078c",
   "metadata": {},
   "outputs": [
    {
     "name": "stdout",
     "output_type": "stream",
     "text": [
      "1\n",
      "-------------------------number of components =  1\n",
      "              precision    recall  f1-score   support\n",
      "\n",
      "        10.0       0.32      1.00      0.48      1509\n",
      "        20.0       0.00      0.00      0.00       814\n",
      "        30.0       0.00      0.00      0.00       477\n",
      "        40.0       0.00      0.00      0.00       554\n",
      "        50.0       0.00      0.00      0.00       104\n",
      "        60.0       0.00      0.00      0.00       785\n",
      "       100.0       0.00      0.00      0.00       480\n",
      "\n",
      "    accuracy                           0.32      4723\n",
      "   macro avg       0.05      0.14      0.07      4723\n",
      "weighted avg       0.10      0.32      0.15      4723\n",
      "\n",
      "2\n",
      "-------------------------number of components =  2\n"
     ]
    },
    {
     "name": "stderr",
     "output_type": "stream",
     "text": [
      "/Users/rodrigoledesmagarces/opt/anaconda3/lib/python3.8/site-packages/sklearn/metrics/_classification.py:1245: UndefinedMetricWarning: Precision and F-score are ill-defined and being set to 0.0 in labels with no predicted samples. Use `zero_division` parameter to control this behavior.\n",
      "  _warn_prf(average, modifier, msg_start, len(result))\n",
      "/Users/rodrigoledesmagarces/opt/anaconda3/lib/python3.8/site-packages/sklearn/metrics/_classification.py:1245: UndefinedMetricWarning: Precision and F-score are ill-defined and being set to 0.0 in labels with no predicted samples. Use `zero_division` parameter to control this behavior.\n",
      "  _warn_prf(average, modifier, msg_start, len(result))\n",
      "/Users/rodrigoledesmagarces/opt/anaconda3/lib/python3.8/site-packages/sklearn/metrics/_classification.py:1245: UndefinedMetricWarning: Precision and F-score are ill-defined and being set to 0.0 in labels with no predicted samples. Use `zero_division` parameter to control this behavior.\n",
      "  _warn_prf(average, modifier, msg_start, len(result))\n",
      "/Users/rodrigoledesmagarces/opt/anaconda3/lib/python3.8/site-packages/sklearn/metrics/_classification.py:1245: UndefinedMetricWarning: Precision and F-score are ill-defined and being set to 0.0 in labels with no predicted samples. Use `zero_division` parameter to control this behavior.\n",
      "  _warn_prf(average, modifier, msg_start, len(result))\n",
      "/Users/rodrigoledesmagarces/opt/anaconda3/lib/python3.8/site-packages/sklearn/metrics/_classification.py:1245: UndefinedMetricWarning: Precision and F-score are ill-defined and being set to 0.0 in labels with no predicted samples. Use `zero_division` parameter to control this behavior.\n",
      "  _warn_prf(average, modifier, msg_start, len(result))\n",
      "/Users/rodrigoledesmagarces/opt/anaconda3/lib/python3.8/site-packages/sklearn/metrics/_classification.py:1245: UndefinedMetricWarning: Precision and F-score are ill-defined and being set to 0.0 in labels with no predicted samples. Use `zero_division` parameter to control this behavior.\n",
      "  _warn_prf(average, modifier, msg_start, len(result))\n"
     ]
    },
    {
     "name": "stdout",
     "output_type": "stream",
     "text": [
      "              precision    recall  f1-score   support\n",
      "\n",
      "        10.0       0.32      1.00      0.48      1509\n",
      "        20.0       0.00      0.00      0.00       814\n",
      "        30.0       0.00      0.00      0.00       477\n",
      "        40.0       0.00      0.00      0.00       554\n",
      "        50.0       0.00      0.00      0.00       104\n",
      "        60.0       0.00      0.00      0.00       785\n",
      "       100.0       0.00      0.00      0.00       480\n",
      "\n",
      "    accuracy                           0.32      4723\n",
      "   macro avg       0.05      0.14      0.07      4723\n",
      "weighted avg       0.10      0.32      0.15      4723\n",
      "\n",
      "3\n",
      "-------------------------number of components =  3\n",
      "              precision    recall  f1-score   support\n",
      "\n",
      "        10.0       0.32      1.00      0.48      1509\n",
      "        20.0       0.00      0.00      0.00       814\n",
      "        30.0       0.00      0.00      0.00       477\n",
      "        40.0       0.00      0.00      0.00       554\n",
      "        50.0       0.00      0.00      0.00       104\n",
      "        60.0       0.00      0.00      0.00       785\n",
      "       100.0       0.00      0.00      0.00       480\n",
      "\n",
      "    accuracy                           0.32      4723\n",
      "   macro avg       0.05      0.14      0.07      4723\n",
      "weighted avg       0.10      0.32      0.15      4723\n",
      "\n",
      "4\n",
      "-------------------------number of components =  4\n"
     ]
    },
    {
     "name": "stderr",
     "output_type": "stream",
     "text": [
      "/Users/rodrigoledesmagarces/opt/anaconda3/lib/python3.8/site-packages/sklearn/metrics/_classification.py:1245: UndefinedMetricWarning: Precision and F-score are ill-defined and being set to 0.0 in labels with no predicted samples. Use `zero_division` parameter to control this behavior.\n",
      "  _warn_prf(average, modifier, msg_start, len(result))\n",
      "/Users/rodrigoledesmagarces/opt/anaconda3/lib/python3.8/site-packages/sklearn/metrics/_classification.py:1245: UndefinedMetricWarning: Precision and F-score are ill-defined and being set to 0.0 in labels with no predicted samples. Use `zero_division` parameter to control this behavior.\n",
      "  _warn_prf(average, modifier, msg_start, len(result))\n",
      "/Users/rodrigoledesmagarces/opt/anaconda3/lib/python3.8/site-packages/sklearn/metrics/_classification.py:1245: UndefinedMetricWarning: Precision and F-score are ill-defined and being set to 0.0 in labels with no predicted samples. Use `zero_division` parameter to control this behavior.\n",
      "  _warn_prf(average, modifier, msg_start, len(result))\n",
      "/Users/rodrigoledesmagarces/opt/anaconda3/lib/python3.8/site-packages/sklearn/metrics/_classification.py:1245: UndefinedMetricWarning: Precision and F-score are ill-defined and being set to 0.0 in labels with no predicted samples. Use `zero_division` parameter to control this behavior.\n",
      "  _warn_prf(average, modifier, msg_start, len(result))\n",
      "/Users/rodrigoledesmagarces/opt/anaconda3/lib/python3.8/site-packages/sklearn/metrics/_classification.py:1245: UndefinedMetricWarning: Precision and F-score are ill-defined and being set to 0.0 in labels with no predicted samples. Use `zero_division` parameter to control this behavior.\n",
      "  _warn_prf(average, modifier, msg_start, len(result))\n",
      "/Users/rodrigoledesmagarces/opt/anaconda3/lib/python3.8/site-packages/sklearn/metrics/_classification.py:1245: UndefinedMetricWarning: Precision and F-score are ill-defined and being set to 0.0 in labels with no predicted samples. Use `zero_division` parameter to control this behavior.\n",
      "  _warn_prf(average, modifier, msg_start, len(result))\n"
     ]
    },
    {
     "name": "stdout",
     "output_type": "stream",
     "text": [
      "              precision    recall  f1-score   support\n",
      "\n",
      "        10.0       0.33      0.96      0.50      1509\n",
      "        20.0       0.00      0.00      0.00       814\n",
      "        30.0       0.00      0.00      0.00       477\n",
      "        40.0       0.00      0.00      0.00       554\n",
      "        50.0       0.00      0.00      0.00       104\n",
      "        60.0       0.17      0.06      0.09       785\n",
      "       100.0       0.22      0.05      0.08       480\n",
      "\n",
      "    accuracy                           0.32      4723\n",
      "   macro avg       0.10      0.15      0.10      4723\n",
      "weighted avg       0.16      0.32      0.18      4723\n",
      "\n",
      "5\n",
      "-------------------------number of components =  5\n",
      "              precision    recall  f1-score   support\n",
      "\n",
      "        10.0       0.33      0.94      0.49      1509\n",
      "        20.0       0.00      0.00      0.00       814\n",
      "        30.0       0.00      0.00      0.00       477\n",
      "        40.0       0.00      0.00      0.00       554\n",
      "        50.0       0.00      0.00      0.00       104\n",
      "        60.0       0.16      0.06      0.09       785\n",
      "       100.0       0.27      0.09      0.13       480\n",
      "\n",
      "    accuracy                           0.32      4723\n",
      "   macro avg       0.11      0.16      0.10      4723\n",
      "weighted avg       0.16      0.32      0.19      4723\n",
      "\n",
      "6\n",
      "-------------------------number of components =  6\n"
     ]
    },
    {
     "name": "stderr",
     "output_type": "stream",
     "text": [
      "/Users/rodrigoledesmagarces/opt/anaconda3/lib/python3.8/site-packages/sklearn/metrics/_classification.py:1245: UndefinedMetricWarning: Precision and F-score are ill-defined and being set to 0.0 in labels with no predicted samples. Use `zero_division` parameter to control this behavior.\n",
      "  _warn_prf(average, modifier, msg_start, len(result))\n",
      "/Users/rodrigoledesmagarces/opt/anaconda3/lib/python3.8/site-packages/sklearn/metrics/_classification.py:1245: UndefinedMetricWarning: Precision and F-score are ill-defined and being set to 0.0 in labels with no predicted samples. Use `zero_division` parameter to control this behavior.\n",
      "  _warn_prf(average, modifier, msg_start, len(result))\n",
      "/Users/rodrigoledesmagarces/opt/anaconda3/lib/python3.8/site-packages/sklearn/metrics/_classification.py:1245: UndefinedMetricWarning: Precision and F-score are ill-defined and being set to 0.0 in labels with no predicted samples. Use `zero_division` parameter to control this behavior.\n",
      "  _warn_prf(average, modifier, msg_start, len(result))\n",
      "/Users/rodrigoledesmagarces/opt/anaconda3/lib/python3.8/site-packages/sklearn/metrics/_classification.py:1245: UndefinedMetricWarning: Precision and F-score are ill-defined and being set to 0.0 in labels with no predicted samples. Use `zero_division` parameter to control this behavior.\n",
      "  _warn_prf(average, modifier, msg_start, len(result))\n",
      "/Users/rodrigoledesmagarces/opt/anaconda3/lib/python3.8/site-packages/sklearn/metrics/_classification.py:1245: UndefinedMetricWarning: Precision and F-score are ill-defined and being set to 0.0 in labels with no predicted samples. Use `zero_division` parameter to control this behavior.\n",
      "  _warn_prf(average, modifier, msg_start, len(result))\n",
      "/Users/rodrigoledesmagarces/opt/anaconda3/lib/python3.8/site-packages/sklearn/metrics/_classification.py:1245: UndefinedMetricWarning: Precision and F-score are ill-defined and being set to 0.0 in labels with no predicted samples. Use `zero_division` parameter to control this behavior.\n",
      "  _warn_prf(average, modifier, msg_start, len(result))\n",
      "/Users/rodrigoledesmagarces/opt/anaconda3/lib/python3.8/site-packages/sklearn/metrics/_classification.py:1245: UndefinedMetricWarning: Precision and F-score are ill-defined and being set to 0.0 in labels with no predicted samples. Use `zero_division` parameter to control this behavior.\n",
      "  _warn_prf(average, modifier, msg_start, len(result))\n",
      "/Users/rodrigoledesmagarces/opt/anaconda3/lib/python3.8/site-packages/sklearn/metrics/_classification.py:1245: UndefinedMetricWarning: Precision and F-score are ill-defined and being set to 0.0 in labels with no predicted samples. Use `zero_division` parameter to control this behavior.\n",
      "  _warn_prf(average, modifier, msg_start, len(result))\n",
      "/Users/rodrigoledesmagarces/opt/anaconda3/lib/python3.8/site-packages/sklearn/metrics/_classification.py:1245: UndefinedMetricWarning: Precision and F-score are ill-defined and being set to 0.0 in labels with no predicted samples. Use `zero_division` parameter to control this behavior.\n",
      "  _warn_prf(average, modifier, msg_start, len(result))\n"
     ]
    },
    {
     "name": "stdout",
     "output_type": "stream",
     "text": [
      "              precision    recall  f1-score   support\n",
      "\n",
      "        10.0       0.35      0.93      0.51      1509\n",
      "        20.0       0.20      0.05      0.08       814\n",
      "        30.0       0.00      0.00      0.00       477\n",
      "        40.0       0.00      0.00      0.00       554\n",
      "        50.0       0.00      0.00      0.00       104\n",
      "        60.0       0.18      0.08      0.11       785\n",
      "       100.0       0.27      0.10      0.15       480\n",
      "\n",
      "    accuracy                           0.33      4723\n",
      "   macro avg       0.14      0.17      0.12      4723\n",
      "weighted avg       0.20      0.33      0.21      4723\n",
      "\n",
      "7\n",
      "-------------------------number of components =  7\n",
      "              precision    recall  f1-score   support\n",
      "\n",
      "        10.0       0.36      0.88      0.51      1509\n",
      "        20.0       0.20      0.09      0.12       814\n",
      "        30.0       0.00      0.00      0.00       477\n",
      "        40.0       0.00      0.00      0.00       554\n",
      "        50.0       0.00      0.00      0.00       104\n",
      "        60.0       0.19      0.13      0.15       785\n",
      "       100.0       0.28      0.09      0.14       480\n",
      "\n",
      "    accuracy                           0.33      4723\n",
      "   macro avg       0.15      0.17      0.13      4723\n",
      "weighted avg       0.21      0.33      0.22      4723\n",
      "\n",
      "8\n",
      "-------------------------number of components =  8\n"
     ]
    },
    {
     "name": "stderr",
     "output_type": "stream",
     "text": [
      "/Users/rodrigoledesmagarces/opt/anaconda3/lib/python3.8/site-packages/sklearn/metrics/_classification.py:1245: UndefinedMetricWarning: Precision and F-score are ill-defined and being set to 0.0 in labels with no predicted samples. Use `zero_division` parameter to control this behavior.\n",
      "  _warn_prf(average, modifier, msg_start, len(result))\n",
      "/Users/rodrigoledesmagarces/opt/anaconda3/lib/python3.8/site-packages/sklearn/metrics/_classification.py:1245: UndefinedMetricWarning: Precision and F-score are ill-defined and being set to 0.0 in labels with no predicted samples. Use `zero_division` parameter to control this behavior.\n",
      "  _warn_prf(average, modifier, msg_start, len(result))\n",
      "/Users/rodrigoledesmagarces/opt/anaconda3/lib/python3.8/site-packages/sklearn/metrics/_classification.py:1245: UndefinedMetricWarning: Precision and F-score are ill-defined and being set to 0.0 in labels with no predicted samples. Use `zero_division` parameter to control this behavior.\n",
      "  _warn_prf(average, modifier, msg_start, len(result))\n"
     ]
    },
    {
     "name": "stdout",
     "output_type": "stream",
     "text": [
      "              precision    recall  f1-score   support\n",
      "\n",
      "        10.0       0.41      0.80      0.54      1509\n",
      "        20.0       0.22      0.09      0.13       814\n",
      "        30.0       0.00      0.00      0.00       477\n",
      "        40.0       0.23      0.02      0.03       554\n",
      "        50.0       0.00      0.00      0.00       104\n",
      "        60.0       0.23      0.33      0.27       785\n",
      "       100.0       0.37      0.18      0.25       480\n",
      "\n",
      "    accuracy                           0.35      4723\n",
      "   macro avg       0.21      0.20      0.17      4723\n",
      "weighted avg       0.27      0.35      0.27      4723\n",
      "\n",
      "9\n",
      "-------------------------number of components =  9\n"
     ]
    },
    {
     "name": "stderr",
     "output_type": "stream",
     "text": [
      "/Users/rodrigoledesmagarces/opt/anaconda3/lib/python3.8/site-packages/sklearn/metrics/_classification.py:1245: UndefinedMetricWarning: Precision and F-score are ill-defined and being set to 0.0 in labels with no predicted samples. Use `zero_division` parameter to control this behavior.\n",
      "  _warn_prf(average, modifier, msg_start, len(result))\n",
      "/Users/rodrigoledesmagarces/opt/anaconda3/lib/python3.8/site-packages/sklearn/metrics/_classification.py:1245: UndefinedMetricWarning: Precision and F-score are ill-defined and being set to 0.0 in labels with no predicted samples. Use `zero_division` parameter to control this behavior.\n",
      "  _warn_prf(average, modifier, msg_start, len(result))\n",
      "/Users/rodrigoledesmagarces/opt/anaconda3/lib/python3.8/site-packages/sklearn/metrics/_classification.py:1245: UndefinedMetricWarning: Precision and F-score are ill-defined and being set to 0.0 in labels with no predicted samples. Use `zero_division` parameter to control this behavior.\n",
      "  _warn_prf(average, modifier, msg_start, len(result))\n"
     ]
    },
    {
     "name": "stdout",
     "output_type": "stream",
     "text": [
      "              precision    recall  f1-score   support\n",
      "\n",
      "        10.0       0.43      0.80      0.56      1509\n",
      "        20.0       0.20      0.10      0.13       814\n",
      "        30.0       0.00      0.00      0.00       477\n",
      "        40.0       0.17      0.01      0.02       554\n",
      "        50.0       0.00      0.00      0.00       104\n",
      "        60.0       0.24      0.38      0.30       785\n",
      "       100.0       0.33      0.18      0.23       480\n",
      "\n",
      "    accuracy                           0.36      4723\n",
      "   macro avg       0.20      0.21      0.18      4723\n",
      "weighted avg       0.27      0.36      0.28      4723\n",
      "\n",
      "10\n",
      "-------------------------number of components =  10\n"
     ]
    },
    {
     "name": "stderr",
     "output_type": "stream",
     "text": [
      "/Users/rodrigoledesmagarces/opt/anaconda3/lib/python3.8/site-packages/sklearn/metrics/_classification.py:1245: UndefinedMetricWarning: Precision and F-score are ill-defined and being set to 0.0 in labels with no predicted samples. Use `zero_division` parameter to control this behavior.\n",
      "  _warn_prf(average, modifier, msg_start, len(result))\n",
      "/Users/rodrigoledesmagarces/opt/anaconda3/lib/python3.8/site-packages/sklearn/metrics/_classification.py:1245: UndefinedMetricWarning: Precision and F-score are ill-defined and being set to 0.0 in labels with no predicted samples. Use `zero_division` parameter to control this behavior.\n",
      "  _warn_prf(average, modifier, msg_start, len(result))\n",
      "/Users/rodrigoledesmagarces/opt/anaconda3/lib/python3.8/site-packages/sklearn/metrics/_classification.py:1245: UndefinedMetricWarning: Precision and F-score are ill-defined and being set to 0.0 in labels with no predicted samples. Use `zero_division` parameter to control this behavior.\n",
      "  _warn_prf(average, modifier, msg_start, len(result))\n"
     ]
    },
    {
     "name": "stdout",
     "output_type": "stream",
     "text": [
      "              precision    recall  f1-score   support\n",
      "\n",
      "        10.0       0.44      0.79      0.56      1509\n",
      "        20.0       0.25      0.14      0.18       814\n",
      "        30.0       0.00      0.00      0.00       477\n",
      "        40.0       0.22      0.03      0.06       554\n",
      "        50.0       0.00      0.00      0.00       104\n",
      "        60.0       0.25      0.37      0.30       785\n",
      "       100.0       0.32      0.19      0.24       480\n",
      "\n",
      "    accuracy                           0.36      4723\n",
      "   macro avg       0.21      0.22      0.19      4723\n",
      "weighted avg       0.28      0.36      0.29      4723\n",
      "\n",
      "11\n",
      "-------------------------number of components =  11\n"
     ]
    },
    {
     "name": "stderr",
     "output_type": "stream",
     "text": [
      "/Users/rodrigoledesmagarces/opt/anaconda3/lib/python3.8/site-packages/sklearn/metrics/_classification.py:1245: UndefinedMetricWarning: Precision and F-score are ill-defined and being set to 0.0 in labels with no predicted samples. Use `zero_division` parameter to control this behavior.\n",
      "  _warn_prf(average, modifier, msg_start, len(result))\n",
      "/Users/rodrigoledesmagarces/opt/anaconda3/lib/python3.8/site-packages/sklearn/metrics/_classification.py:1245: UndefinedMetricWarning: Precision and F-score are ill-defined and being set to 0.0 in labels with no predicted samples. Use `zero_division` parameter to control this behavior.\n",
      "  _warn_prf(average, modifier, msg_start, len(result))\n",
      "/Users/rodrigoledesmagarces/opt/anaconda3/lib/python3.8/site-packages/sklearn/metrics/_classification.py:1245: UndefinedMetricWarning: Precision and F-score are ill-defined and being set to 0.0 in labels with no predicted samples. Use `zero_division` parameter to control this behavior.\n",
      "  _warn_prf(average, modifier, msg_start, len(result))\n"
     ]
    },
    {
     "name": "stdout",
     "output_type": "stream",
     "text": [
      "              precision    recall  f1-score   support\n",
      "\n",
      "        10.0       0.46      0.86      0.60      1509\n",
      "        20.0       0.23      0.13      0.17       814\n",
      "        30.0       1.00      0.00      0.00       477\n",
      "        40.0       0.31      0.06      0.09       554\n",
      "        50.0       0.00      0.00      0.00       104\n",
      "        60.0       0.28      0.37      0.32       785\n",
      "       100.0       0.32      0.21      0.26       480\n",
      "\n",
      "    accuracy                           0.39      4723\n",
      "   macro avg       0.37      0.23      0.21      4723\n",
      "weighted avg       0.40      0.39      0.31      4723\n",
      "\n",
      "12\n",
      "-------------------------number of components =  12\n",
      "              precision    recall  f1-score   support\n",
      "\n",
      "        10.0       0.46      0.86      0.60      1509\n",
      "        20.0       0.23      0.13      0.17       814\n",
      "        30.0       1.00      0.00      0.00       477\n",
      "        40.0       0.31      0.06      0.09       554\n",
      "        50.0       0.00      0.00      0.00       104\n",
      "        60.0       0.28      0.37      0.32       785\n",
      "       100.0       0.32      0.21      0.26       480\n",
      "\n",
      "    accuracy                           0.39      4723\n",
      "   macro avg       0.37      0.23      0.21      4723\n",
      "weighted avg       0.40      0.39      0.31      4723\n",
      "\n"
     ]
    },
    {
     "name": "stderr",
     "output_type": "stream",
     "text": [
      "/Users/rodrigoledesmagarces/opt/anaconda3/lib/python3.8/site-packages/sklearn/metrics/_classification.py:1245: UndefinedMetricWarning: Precision and F-score are ill-defined and being set to 0.0 in labels with no predicted samples. Use `zero_division` parameter to control this behavior.\n",
      "  _warn_prf(average, modifier, msg_start, len(result))\n",
      "/Users/rodrigoledesmagarces/opt/anaconda3/lib/python3.8/site-packages/sklearn/metrics/_classification.py:1245: UndefinedMetricWarning: Precision and F-score are ill-defined and being set to 0.0 in labels with no predicted samples. Use `zero_division` parameter to control this behavior.\n",
      "  _warn_prf(average, modifier, msg_start, len(result))\n",
      "/Users/rodrigoledesmagarces/opt/anaconda3/lib/python3.8/site-packages/sklearn/metrics/_classification.py:1245: UndefinedMetricWarning: Precision and F-score are ill-defined and being set to 0.0 in labels with no predicted samples. Use `zero_division` parameter to control this behavior.\n",
      "  _warn_prf(average, modifier, msg_start, len(result))\n"
     ]
    }
   ],
   "source": [
    "l = list(range(1,13))\n",
    "\n",
    "for i in l:\n",
    "    print(i)\n",
    "    myPCA(i,X_train,X_test,y_train)"
   ]
  }
 ],
 "metadata": {
  "kernelspec": {
   "display_name": "Python 3 (ipykernel)",
   "language": "python",
   "name": "python3"
  },
  "language_info": {
   "codemirror_mode": {
    "name": "ipython",
    "version": 3
   },
   "file_extension": ".py",
   "mimetype": "text/x-python",
   "name": "python",
   "nbconvert_exporter": "python",
   "pygments_lexer": "ipython3",
   "version": "3.8.8"
  }
 },
 "nbformat": 4,
 "nbformat_minor": 5
}
