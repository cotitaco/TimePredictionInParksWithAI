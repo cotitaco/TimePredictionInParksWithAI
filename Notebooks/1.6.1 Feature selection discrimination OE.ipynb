{
 "cells": [
  {
   "cell_type": "markdown",
   "id": "d864f5ed",
   "metadata": {},
   "source": [
    "# Feature Selection techniques discrimination"
   ]
  },
  {
   "cell_type": "code",
   "execution_count": 1,
   "id": "a5a74940",
   "metadata": {},
   "outputs": [],
   "source": [
    "import pandas as pd\n",
    "import numpy as np\n",
    "from sklearn.model_selection import train_test_split\n",
    "from collections import Counter\n",
    "from imblearn.over_sampling import SMOTE\n",
    "from sklearn.linear_model import LogisticRegression\n",
    "from sklearn import metrics\n",
    "from tqdm import tqdm\n",
    "from sklearn.metrics import classification_report\n",
    "from statistics import mean\n",
    "import warnings\n",
    "warnings.filterwarnings('ignore')\n",
    "\n",
    "hp = pd.read_csv(\"hp_waitTime_6vars.csv\")"
   ]
  },
  {
   "cell_type": "code",
   "execution_count": 2,
   "id": "a06dbe24",
   "metadata": {},
   "outputs": [],
   "source": [
    "#Fucntion to split into X and Y\n",
    "def getXandY(df):\n",
    "    df.drop(df.tail(20).index,inplace=True) \n",
    "    x = df.drop(['Harry_Potter_and_the_Forbidden'],axis=1)\n",
    "    y = df.Harry_Potter_and_the_Forbidden\n",
    "    return(x,y)\n",
    "\n",
    "#Function to split in test and train\n",
    "def trainTest(x,y):\n",
    "    X_train, X_test, y_train, y_test = train_test_split(x, y, test_size=0.30, shuffle=True)\n",
    "    return(X_train, X_test, y_train, y_test)\n",
    "\n",
    "#Function to perform oversampling\n",
    "def overSampling(X_train, y_train, y_test, method):\n",
    "    X_train_os, y_train_os= method.fit_resample(X_train, y_train)\n",
    "    # Check the number of records after over sampling\n",
    "    #print(sorted(Counter(y_train_os).items())) \n",
    "    return(X_train_os, y_train_os)"
   ]
  },
  {
   "cell_type": "code",
   "execution_count": 4,
   "id": "495e8962",
   "metadata": {},
   "outputs": [],
   "source": [
    "#Variable order in manual correlation:\n",
    "pear_corr = ['temperature','holiday','day','month','pressure','day.1',\n",
    "            'report','minute','year','humidity','hour',\t'Pandemic']\n",
    "kend_corr = ['temperature','holiday','month','day','pressure','day.1','report','year',\n",
    "             'minute','humidity','hour','Pandemic']\n",
    "mutInf_class = ['month','day','year','hour','minute','holiday','day.1','Pandemic',\n",
    "                'temperature','humidity','pressure','report']\n",
    "mutInf_reg = ['month','day','year','hour','minute','holiday','day.1','Pandemic',\n",
    "                'temperature','humidity','pressure','report']\n",
    "mutInf_class2 = ['day','temperature','month','humidity','hour','day.1','pressure',\n",
    "                 'holiday','year','report','minute','Pandemic']\n",
    "varThre = ['month','day','year','hour','minute','holiday','day.1',\n",
    "           'temperature','humidity','pressure','report']\n",
    "mrmr = ['temperature','day.1','hour','holiday','humidity','day',\n",
    "        'year','month','pressure','minute','report']\n",
    "method = ['Pearson_correlation','Kendalls_correlation','mutualInformation_classification',\n",
    "          'mutualInformation_reggression','mutualInformation_classification2',\n",
    "          'variableThreshold','MRMR']"
   ]
  },
  {
   "cell_type": "code",
   "execution_count": 5,
   "id": "49555f61",
   "metadata": {},
   "outputs": [],
   "source": [
    "order=[pear_corr,kend_corr,mutInf_class,mutInf_reg,mutInf_class2,varThre,mrmr]"
   ]
  },
  {
   "cell_type": "code",
   "execution_count": 5,
   "id": "fa1eeb05",
   "metadata": {},
   "outputs": [],
   "source": [
    "#Split the compact dataframe into X and Y and train and test\n",
    "x,y=getXandY(hp)\n",
    "X_train, X_test, y_train, y_test = trainTest(x,y)\n",
    "smote = SMOTE(random_state=42)\n",
    "X_train_os, y_train_os=overSampling(X_train, y_train, y_test, smote)"
   ]
  },
  {
   "cell_type": "code",
   "execution_count": 6,
   "id": "d259bfa4",
   "metadata": {},
   "outputs": [],
   "source": [
    "# Order of variables according to method:\n",
    "order=[]"
   ]
  },
  {
   "cell_type": "code",
   "execution_count": 7,
   "id": "e52c43a0",
   "metadata": {},
   "outputs": [
    {
     "data": {
      "text/html": [
       "<div>\n",
       "<style scoped>\n",
       "    .dataframe tbody tr th:only-of-type {\n",
       "        vertical-align: middle;\n",
       "    }\n",
       "\n",
       "    .dataframe tbody tr th {\n",
       "        vertical-align: top;\n",
       "    }\n",
       "\n",
       "    .dataframe thead th {\n",
       "        text-align: right;\n",
       "    }\n",
       "</style>\n",
       "<table border=\"1\" class=\"dataframe\">\n",
       "  <thead>\n",
       "    <tr style=\"text-align: right;\">\n",
       "      <th></th>\n",
       "      <th>temperature</th>\n",
       "      <th>holiday</th>\n",
       "      <th>day</th>\n",
       "      <th>month</th>\n",
       "      <th>pressure</th>\n",
       "      <th>day.1</th>\n",
       "      <th>report</th>\n",
       "      <th>minute</th>\n",
       "      <th>year</th>\n",
       "      <th>humidity</th>\n",
       "      <th>hour</th>\n",
       "      <th>Pandemic</th>\n",
       "    </tr>\n",
       "  </thead>\n",
       "  <tbody>\n",
       "    <tr>\n",
       "      <th>0</th>\n",
       "      <td>0.828358</td>\n",
       "      <td>0.0</td>\n",
       "      <td>0.733333</td>\n",
       "      <td>0.363636</td>\n",
       "      <td>0.48</td>\n",
       "      <td>0.000000</td>\n",
       "      <td>0.0625</td>\n",
       "      <td>0.2</td>\n",
       "      <td>1.0</td>\n",
       "      <td>0.197531</td>\n",
       "      <td>0.608696</td>\n",
       "      <td>0.0</td>\n",
       "    </tr>\n",
       "    <tr>\n",
       "      <th>1</th>\n",
       "      <td>0.269851</td>\n",
       "      <td>0.0</td>\n",
       "      <td>0.633333</td>\n",
       "      <td>0.090909</td>\n",
       "      <td>0.72</td>\n",
       "      <td>1.000000</td>\n",
       "      <td>0.0625</td>\n",
       "      <td>0.6</td>\n",
       "      <td>1.0</td>\n",
       "      <td>0.703704</td>\n",
       "      <td>0.347826</td>\n",
       "      <td>0.0</td>\n",
       "    </tr>\n",
       "    <tr>\n",
       "      <th>2</th>\n",
       "      <td>0.700896</td>\n",
       "      <td>0.0</td>\n",
       "      <td>0.466667</td>\n",
       "      <td>0.454545</td>\n",
       "      <td>0.32</td>\n",
       "      <td>0.333333</td>\n",
       "      <td>0.3750</td>\n",
       "      <td>0.8</td>\n",
       "      <td>1.0</td>\n",
       "      <td>0.753086</td>\n",
       "      <td>0.391304</td>\n",
       "      <td>0.0</td>\n",
       "    </tr>\n",
       "    <tr>\n",
       "      <th>3</th>\n",
       "      <td>0.742388</td>\n",
       "      <td>0.0</td>\n",
       "      <td>0.800000</td>\n",
       "      <td>0.000000</td>\n",
       "      <td>0.32</td>\n",
       "      <td>0.166667</td>\n",
       "      <td>0.1250</td>\n",
       "      <td>0.8</td>\n",
       "      <td>1.0</td>\n",
       "      <td>0.432099</td>\n",
       "      <td>0.565217</td>\n",
       "      <td>0.0</td>\n",
       "    </tr>\n",
       "    <tr>\n",
       "      <th>4</th>\n",
       "      <td>0.626269</td>\n",
       "      <td>0.0</td>\n",
       "      <td>0.400000</td>\n",
       "      <td>0.909091</td>\n",
       "      <td>0.36</td>\n",
       "      <td>0.833333</td>\n",
       "      <td>0.3750</td>\n",
       "      <td>1.0</td>\n",
       "      <td>0.0</td>\n",
       "      <td>0.728395</td>\n",
       "      <td>0.739130</td>\n",
       "      <td>0.0</td>\n",
       "    </tr>\n",
       "  </tbody>\n",
       "</table>\n",
       "</div>"
      ],
      "text/plain": [
       "   temperature  holiday       day     month  pressure     day.1  report  \\\n",
       "0     0.828358      0.0  0.733333  0.363636      0.48  0.000000  0.0625   \n",
       "1     0.269851      0.0  0.633333  0.090909      0.72  1.000000  0.0625   \n",
       "2     0.700896      0.0  0.466667  0.454545      0.32  0.333333  0.3750   \n",
       "3     0.742388      0.0  0.800000  0.000000      0.32  0.166667  0.1250   \n",
       "4     0.626269      0.0  0.400000  0.909091      0.36  0.833333  0.3750   \n",
       "\n",
       "   minute  year  humidity      hour  Pandemic  \n",
       "0     0.2   1.0  0.197531  0.608696       0.0  \n",
       "1     0.6   1.0  0.703704  0.347826       0.0  \n",
       "2     0.8   1.0  0.753086  0.391304       0.0  \n",
       "3     0.8   1.0  0.432099  0.565217       0.0  \n",
       "4     1.0   0.0  0.728395  0.739130       0.0  "
      ]
     },
     "execution_count": 7,
     "metadata": {},
     "output_type": "execute_result"
    }
   ],
   "source": [
    "X_train_os_r = X_train_os[['temperature',\t'holiday',\t'day',\t'month',\t'pressure',\t'day.1',\n",
    "                           'report',\t'minute',\t'year',\t'humidity',\t'hour',\t'Pandemic']]\n",
    "X_train_os_r.head()"
   ]
  },
  {
   "cell_type": "code",
   "execution_count": 8,
   "id": "25e5d016",
   "metadata": {},
   "outputs": [],
   "source": [
    "X_test_r = X_test[['temperature',\t'holiday',\t'day',\t'month',\t'pressure',\t'day.1',\n",
    "                           'report',\t'minute',\t'year',\t'humidity',\t'hour',\t'Pandemic']]"
   ]
  },
  {
   "cell_type": "code",
   "execution_count": 9,
   "id": "d7d618fb",
   "metadata": {},
   "outputs": [
    {
     "name": "stdout",
     "output_type": "stream",
     "text": [
      "Index(['temperature', 'holiday'], dtype='object')\n"
     ]
    }
   ],
   "source": [
    "df1= X_train_os_r.iloc[:, 0:2]\n",
    "print(df1.columns)\n",
    "lg = LogisticRegression(max_iter=20000)\n",
    "lg.fit(df1, y_train_os).decision_function(X_test_r.iloc[:, 0:2])\n",
    "y_pred=lg.predict(X_test.iloc[:, 0:2])"
   ]
  },
  {
   "cell_type": "code",
   "execution_count": 10,
   "id": "36f3542c",
   "metadata": {},
   "outputs": [
    {
     "name": "stdout",
     "output_type": "stream",
     "text": [
      "0.018208765615075163\n",
      "0.0026012522307250234\n",
      "0.14285714285714285\n",
      "0.0051094673677331195\n"
     ]
    }
   ],
   "source": [
    "print(metrics.accuracy_score(y_test, y_pred))\n",
    "print(metrics.precision_score(y_test, y_pred,average='macro'))\n",
    "print(metrics.recall_score(y_test, y_pred,average='macro'))\n",
    "print(metrics.f1_score(y_test, y_pred, average='macro'))"
   ]
  },
  {
   "cell_type": "code",
   "execution_count": 6,
   "id": "66273d31",
   "metadata": {},
   "outputs": [],
   "source": [
    "from statistics import mean"
   ]
  },
  {
   "cell_type": "code",
   "execution_count": 7,
   "id": "2097b90a",
   "metadata": {},
   "outputs": [],
   "source": [
    "smote = SMOTE(random_state=42)\n",
    "\n",
    "def testModel(df,var_order,n_vars):\n",
    "    for j in tqdm(range(1,n_vars)):\n",
    "        #split our dataframe into X and Y\n",
    "        x,y=getXandY(df)\n",
    "        #create the lists to store metrics\n",
    "        acc = []\n",
    "        rec = []\n",
    "        preci = []\n",
    "        f1 = []\n",
    "        for i in range(100):\n",
    "            #split the dataFrame into test and train\n",
    "            X_train, X_test, y_train, y_test = trainTest(x,y)\n",
    "            #Oversample the train dataset with SMOTE\n",
    "            X_train_os, y_train_os=overSampling(X_train, y_train, y_test, smote)\n",
    "            #define the variables order \n",
    "            X_train_os_r = X_train_os[var_order]\n",
    "            X_test_r = X_test[var_order]\n",
    "            df1= X_train_os_r.iloc[:, 0:j] #use only part of the variables\n",
    "            lg = LogisticRegression(max_iter=20000)\n",
    "            lg.fit(df1, y_train_os).decision_function(X_test_r.iloc[:, 0:j])\n",
    "            y_pred=lg.predict(X_test_r.iloc[:, 0:j])\n",
    "            ac=metrics.accuracy_score(y_test, y_pred)\n",
    "            acc.append(ac)\n",
    "            p=metrics.precision_score(y_test, y_pred,average='macro')\n",
    "            preci.append(p)\n",
    "            r=metrics.recall_score(y_test, y_pred,average='macro')\n",
    "            rec.append(r)\n",
    "            f=metrics.f1_score(y_test, y_pred, average='macro')\n",
    "            f1.append(f)\n",
    "        print(df1.columns)\n",
    "        print(\"For {} features: \\n Accuracy: {} \\n Precision: {} \\n Recall: {} \\n F1 score: {}\".format(\n",
    "        j,mean(acc),mean(preci),mean(rec),mean(f1)))\n",
    "        print(classification_report(y_test, y_pred))"
   ]
  },
  {
   "cell_type": "code",
   "execution_count": 23,
   "id": "2df4570a",
   "metadata": {
    "scrolled": true
   },
   "outputs": [
    {
     "name": "stderr",
     "output_type": "stream",
     "text": [
      "\r",
      "  0%|          | 0/11 [00:00<?, ?it/s]"
     ]
    },
    {
     "name": "stdout",
     "output_type": "stream",
     "text": [
      "------------------------- Analyzing method Pearson_correlation -------------------------\n",
      "The variable order is: \n",
      " ['temperature', 'holiday', 'day', 'month', 'pressure', 'day.1', 'report', 'minute', 'year', 'humidity', 'hour', 'Pandemic']\n"
     ]
    },
    {
     "name": "stderr",
     "output_type": "stream",
     "text": [
      "\r",
      "  9%|▉         | 1/11 [00:15<02:32, 15.21s/it]"
     ]
    },
    {
     "name": "stdout",
     "output_type": "stream",
     "text": [
      "Index(['temperature'], dtype='object')\n",
      "For 1 features: \n",
      " Accuracy: 0.2525682411583195 \n",
      " Precision: 0.17324067578623503 \n",
      " Recall: 0.17416228627318744 \n",
      " F1 score: 0.1250907062255531\n",
      "              precision    recall  f1-score   support\n",
      "\n",
      "        10.0       0.46      0.51      0.48      1517\n",
      "        20.0       0.19      0.08      0.11       671\n",
      "        30.0       0.16      0.02      0.04       408\n",
      "        40.0       0.13      0.61      0.21       428\n",
      "        50.0       0.00      0.00      0.00        61\n",
      "        60.0       0.17      0.01      0.02       674\n",
      "       100.0       0.11      0.01      0.02       454\n",
      "\n",
      "    accuracy                           0.26      4213\n",
      "   macro avg       0.17      0.18      0.13      4213\n",
      "weighted avg       0.26      0.26      0.22      4213\n",
      "\n"
     ]
    },
    {
     "name": "stderr",
     "output_type": "stream",
     "text": [
      "\r",
      " 18%|█▊        | 2/11 [00:39<03:04, 20.51s/it]"
     ]
    },
    {
     "name": "stdout",
     "output_type": "stream",
     "text": [
      "Index(['temperature', 'holiday'], dtype='object')\n",
      "For 2 features: \n",
      " Accuracy: 0.2580936534347516 \n",
      " Precision: 0.15472537635292877 \n",
      " Recall: 0.18991377519949582 \n",
      " F1 score: 0.15304675323293832\n",
      "              precision    recall  f1-score   support\n",
      "\n",
      "        10.0       0.44      0.44      0.44      1458\n",
      "        20.0       0.18      0.10      0.12       683\n",
      "        30.0       0.12      0.07      0.09       406\n",
      "        40.0       0.12      0.47      0.19       439\n",
      "        50.0       0.00      0.00      0.00        81\n",
      "        60.0       0.00      0.00      0.00       677\n",
      "       100.0       0.29      0.23      0.26       463\n",
      "\n",
      "    accuracy                           0.25      4207\n",
      "   macro avg       0.16      0.19      0.16      4207\n",
      "weighted avg       0.24      0.25      0.23      4207\n",
      "\n"
     ]
    },
    {
     "name": "stderr",
     "output_type": "stream",
     "text": [
      "\r",
      " 27%|██▋       | 3/11 [01:07<03:10, 23.87s/it]"
     ]
    },
    {
     "name": "stdout",
     "output_type": "stream",
     "text": [
      "Index(['temperature', 'holiday', 'day'], dtype='object')\n",
      "For 3 features: \n",
      " Accuracy: 0.24186384194239466 \n",
      " Precision: 0.14819280399740634 \n",
      " Recall: 0.1809189898472136 \n",
      " F1 score: 0.14794490570026544\n",
      "              precision    recall  f1-score   support\n",
      "\n",
      "        10.0       0.45      0.41      0.43      1500\n",
      "        20.0       0.23      0.13      0.17       695\n",
      "        30.0       0.07      0.06      0.06       397\n",
      "        40.0       0.13      0.46      0.20       444\n",
      "        50.0       0.01      0.01      0.01        77\n",
      "        60.0       0.00      0.00      0.00       641\n",
      "       100.0       0.26      0.23      0.24       447\n",
      "\n",
      "    accuracy                           0.25      4201\n",
      "   macro avg       0.16      0.19      0.16      4201\n",
      "weighted avg       0.25      0.25      0.23      4201\n",
      "\n"
     ]
    },
    {
     "name": "stderr",
     "output_type": "stream",
     "text": [
      "\r",
      " 36%|███▋      | 4/11 [01:40<03:11, 27.39s/it]"
     ]
    },
    {
     "name": "stdout",
     "output_type": "stream",
     "text": [
      "Index(['temperature', 'holiday', 'day', 'month'], dtype='object')\n",
      "For 4 features: \n",
      " Accuracy: 0.24185220500595947 \n",
      " Precision: 0.18082516111335564 \n",
      " Recall: 0.1805287592381366 \n",
      " F1 score: 0.16570338754352898\n",
      "              precision    recall  f1-score   support\n",
      "\n",
      "        10.0       0.48      0.44      0.46      1475\n",
      "        20.0       0.19      0.04      0.06       672\n",
      "        30.0       0.07      0.16      0.10       399\n",
      "        40.0       0.13      0.15      0.14       434\n",
      "        50.0       0.00      0.00      0.00        81\n",
      "        60.0       0.20      0.20      0.20       647\n",
      "       100.0       0.20      0.26      0.22       487\n",
      "\n",
      "    accuracy                           0.25      4195\n",
      "   macro avg       0.18      0.18      0.17      4195\n",
      "weighted avg       0.27      0.25      0.25      4195\n",
      "\n"
     ]
    },
    {
     "name": "stderr",
     "output_type": "stream",
     "text": [
      "\r",
      " 45%|████▌     | 5/11 [02:26<03:25, 34.26s/it]"
     ]
    },
    {
     "name": "stdout",
     "output_type": "stream",
     "text": [
      "Index(['temperature', 'holiday', 'day', 'month', 'pressure'], dtype='object')\n",
      "For 5 features: \n",
      " Accuracy: 0.25476486034853185 \n",
      " Precision: 0.19841967538598398 \n",
      " Recall: 0.19961096471434717 \n",
      " F1 score: 0.1816966340789212\n",
      "              precision    recall  f1-score   support\n",
      "\n",
      "        10.0       0.49      0.43      0.46      1472\n",
      "        20.0       0.22      0.12      0.15       674\n",
      "        30.0       0.07      0.09      0.08       420\n",
      "        40.0       0.12      0.27      0.16       407\n",
      "        50.0       0.00      0.00      0.00        70\n",
      "        60.0       0.24      0.09      0.13       686\n",
      "       100.0       0.21      0.39      0.27       460\n",
      "\n",
      "    accuracy                           0.26      4189\n",
      "   macro avg       0.19      0.20      0.18      4189\n",
      "weighted avg       0.29      0.26      0.26      4189\n",
      "\n"
     ]
    },
    {
     "name": "stderr",
     "output_type": "stream",
     "text": [
      "\r",
      " 55%|█████▍    | 6/11 [03:18<03:21, 40.22s/it]"
     ]
    },
    {
     "name": "stdout",
     "output_type": "stream",
     "text": [
      "Index(['temperature', 'holiday', 'day', 'month', 'pressure', 'day.1'], dtype='object')\n",
      "For 6 features: \n",
      " Accuracy: 0.24993545302414535 \n",
      " Precision: 0.20024992521142912 \n",
      " Recall: 0.21665458683073105 \n",
      " F1 score: 0.17605513567345485\n",
      "              precision    recall  f1-score   support\n",
      "\n",
      "        10.0       0.50      0.45      0.47      1495\n",
      "        20.0       0.26      0.07      0.10       691\n",
      "        30.0       0.11      0.13      0.12       385\n",
      "        40.0       0.11      0.17      0.13       413\n",
      "        50.0       0.03      0.21      0.05        73\n",
      "        60.0       0.25      0.06      0.10       669\n",
      "       100.0       0.22      0.46      0.30       457\n",
      "\n",
      "    accuracy                           0.26      4183\n",
      "   macro avg       0.21      0.22      0.18      4183\n",
      "weighted avg       0.31      0.26      0.26      4183\n",
      "\n"
     ]
    },
    {
     "name": "stderr",
     "output_type": "stream",
     "text": [
      "\r",
      " 64%|██████▎   | 7/11 [04:13<03:00, 45.13s/it]"
     ]
    },
    {
     "name": "stdout",
     "output_type": "stream",
     "text": [
      "Index(['temperature', 'holiday', 'day', 'month', 'pressure', 'day.1',\n",
      "       'report'],\n",
      "      dtype='object')\n",
      "For 7 features: \n",
      " Accuracy: 0.24816614795307637 \n",
      " Precision: 0.20670561434758203 \n",
      " Recall: 0.22103926516867578 \n",
      " F1 score: 0.18003646867401454\n",
      "              precision    recall  f1-score   support\n",
      "\n",
      "        10.0       0.52      0.40      0.45      1464\n",
      "        20.0       0.18      0.06      0.09       687\n",
      "        30.0       0.10      0.12      0.11       401\n",
      "        40.0       0.13      0.18      0.15       437\n",
      "        50.0       0.02      0.25      0.04        64\n",
      "        60.0       0.26      0.05      0.08       671\n",
      "       100.0       0.24      0.43      0.31       453\n",
      "\n",
      "    accuracy                           0.24      4177\n",
      "   macro avg       0.21      0.21      0.18      4177\n",
      "weighted avg       0.30      0.24      0.25      4177\n",
      "\n"
     ]
    },
    {
     "name": "stderr",
     "output_type": "stream",
     "text": [
      "\r",
      " 73%|███████▎  | 8/11 [05:13<02:29, 49.71s/it]"
     ]
    },
    {
     "name": "stdout",
     "output_type": "stream",
     "text": [
      "Index(['temperature', 'holiday', 'day', 'month', 'pressure', 'day.1', 'report',\n",
      "       'minute'],\n",
      "      dtype='object')\n",
      "For 8 features: \n",
      " Accuracy: 0.24775113881563174 \n",
      " Precision: 0.2057327311236757 \n",
      " Recall: 0.21975084876767814 \n",
      " F1 score: 0.1801226615427292\n",
      "              precision    recall  f1-score   support\n",
      "\n",
      "        10.0       0.50      0.42      0.46      1433\n",
      "        20.0       0.22      0.11      0.15       673\n",
      "        30.0       0.11      0.10      0.10       416\n",
      "        40.0       0.13      0.17      0.15       425\n",
      "        50.0       0.02      0.26      0.04        69\n",
      "        60.0       0.39      0.05      0.10       711\n",
      "       100.0       0.23      0.45      0.30       444\n",
      "\n",
      "    accuracy                           0.25      4171\n",
      "   macro avg       0.23      0.22      0.19      4171\n",
      "weighted avg       0.32      0.25      0.26      4171\n",
      "\n"
     ]
    },
    {
     "name": "stderr",
     "output_type": "stream",
     "text": [
      "\r",
      " 82%|████████▏ | 9/11 [06:38<02:01, 60.81s/it]"
     ]
    },
    {
     "name": "stdout",
     "output_type": "stream",
     "text": [
      "Index(['temperature', 'holiday', 'day', 'month', 'pressure', 'day.1', 'report',\n",
      "       'minute', 'year'],\n",
      "      dtype='object')\n",
      "For 9 features: \n",
      " Accuracy: 0.3029411764705882 \n",
      " Precision: 0.23680022798099748 \n",
      " Recall: 0.24630707680881114 \n",
      " F1 score: 0.20828829106050756\n",
      "              precision    recall  f1-score   support\n",
      "\n",
      "        10.0       0.60      0.56      0.58      1458\n",
      "        20.0       0.18      0.09      0.12       718\n",
      "        30.0       0.09      0.10      0.09       376\n",
      "        40.0       0.15      0.04      0.07       449\n",
      "        50.0       0.03      0.27      0.05        75\n",
      "        60.0       0.24      0.14      0.18       648\n",
      "       100.0       0.23      0.44      0.30       441\n",
      "\n",
      "    accuracy                           0.30      4165\n",
      "   macro avg       0.22      0.23      0.20      4165\n",
      "weighted avg       0.33      0.30      0.30      4165\n",
      "\n"
     ]
    },
    {
     "name": "stderr",
     "output_type": "stream",
     "text": [
      "\r",
      " 91%|█████████ | 10/11 [08:15<01:12, 72.19s/it]"
     ]
    },
    {
     "name": "stdout",
     "output_type": "stream",
     "text": [
      "Index(['temperature', 'holiday', 'day', 'month', 'pressure', 'day.1', 'report',\n",
      "       'minute', 'year', 'humidity'],\n",
      "      dtype='object')\n",
      "For 10 features: \n",
      " Accuracy: 0.30350324597258954 \n",
      " Precision: 0.23287713806254717 \n",
      " Recall: 0.24606538541081116 \n",
      " F1 score: 0.2080509344068382\n",
      "              precision    recall  f1-score   support\n",
      "\n",
      "        10.0       0.58      0.57      0.57      1475\n",
      "        20.0       0.21      0.09      0.13       694\n",
      "        30.0       0.11      0.09      0.10       390\n",
      "        40.0       0.20      0.15      0.17       429\n",
      "        50.0       0.02      0.23      0.04        53\n",
      "        60.0       0.32      0.10      0.16       692\n",
      "       100.0       0.21      0.45      0.28       426\n",
      "\n",
      "    accuracy                           0.31      4159\n",
      "   macro avg       0.23      0.24      0.21      4159\n",
      "weighted avg       0.35      0.31      0.31      4159\n",
      "\n"
     ]
    },
    {
     "name": "stderr",
     "output_type": "stream",
     "text": [
      "100%|██████████| 11/11 [10:04<00:00, 54.94s/it]\n",
      "  0%|          | 0/11 [00:00<?, ?it/s]"
     ]
    },
    {
     "name": "stdout",
     "output_type": "stream",
     "text": [
      "Index(['temperature', 'holiday', 'day', 'month', 'pressure', 'day.1', 'report',\n",
      "       'minute', 'year', 'humidity', 'hour'],\n",
      "      dtype='object')\n",
      "For 11 features: \n",
      " Accuracy: 0.29428124247531906 \n",
      " Precision: 0.23392818341220695 \n",
      " Recall: 0.2464410346809307 \n",
      " F1 score: 0.21226020304815615\n",
      "              precision    recall  f1-score   support\n",
      "\n",
      "        10.0       0.59      0.49      0.54      1470\n",
      "        20.0       0.22      0.11      0.14       696\n",
      "        30.0       0.11      0.13      0.12       372\n",
      "        40.0       0.17      0.18      0.18       425\n",
      "        50.0       0.03      0.24      0.05        74\n",
      "        60.0       0.27      0.09      0.14       681\n",
      "       100.0       0.23      0.44      0.30       435\n",
      "\n",
      "    accuracy                           0.29      4153\n",
      "   macro avg       0.23      0.24      0.21      4153\n",
      "weighted avg       0.34      0.29      0.30      4153\n",
      "\n",
      "\n",
      " \n",
      "\n",
      "------------------------- Analyzing method Kendalls_correlation -------------------------\n",
      "The variable order is: \n",
      " ['temperature', 'holiday', 'month', 'day', 'pressure', 'day.1', 'report', 'year', 'minute', 'humidity', 'hour', 'Pandemic']\n"
     ]
    },
    {
     "name": "stderr",
     "output_type": "stream",
     "text": [
      "\r",
      "  9%|▉         | 1/11 [00:17<02:55, 17.56s/it]"
     ]
    },
    {
     "name": "stdout",
     "output_type": "stream",
     "text": [
      "Index(['temperature'], dtype='object')\n",
      "For 1 features: \n",
      " Accuracy: 0.25301904991560165 \n",
      " Precision: 0.1785634353751221 \n",
      " Recall: 0.1751055438671206 \n",
      " F1 score: 0.12644121616866133\n",
      "              precision    recall  f1-score   support\n",
      "\n",
      "        10.0       0.46      0.54      0.49      1420\n",
      "        20.0       0.13      0.05      0.08       670\n",
      "        30.0       0.11      0.03      0.05       383\n",
      "        40.0       0.11      0.52      0.19       431\n",
      "        50.0       0.00      0.00      0.00        70\n",
      "        60.0       0.21      0.02      0.03       709\n",
      "       100.0       0.12      0.02      0.03       464\n",
      "\n",
      "    accuracy                           0.25      4147\n",
      "   macro avg       0.16      0.17      0.12      4147\n",
      "weighted avg       0.25      0.25      0.21      4147\n",
      "\n"
     ]
    },
    {
     "name": "stderr",
     "output_type": "stream",
     "text": [
      "\r",
      " 18%|█▊        | 2/11 [00:45<03:30, 23.42s/it]"
     ]
    },
    {
     "name": "stdout",
     "output_type": "stream",
     "text": [
      "Index(['temperature', 'holiday'], dtype='object')\n",
      "For 2 features: \n",
      " Accuracy: 0.2563052402801256 \n",
      " Precision: 0.15402944747011177 \n",
      " Recall: 0.18941013785338656 \n",
      " F1 score: 0.15274312101621387\n",
      "              precision    recall  f1-score   support\n",
      "\n",
      "        10.0       0.47      0.47      0.47      1486\n",
      "        20.0       0.17      0.14      0.16       670\n",
      "        30.0       0.13      0.01      0.02       385\n",
      "        40.0       0.13      0.44      0.21       429\n",
      "        50.0       0.01      0.05      0.02        75\n",
      "        60.0       0.00      0.00      0.00       676\n",
      "       100.0       0.23      0.19      0.21       420\n",
      "\n",
      "    accuracy                           0.26      4141\n",
      "   macro avg       0.16      0.19      0.15      4141\n",
      "weighted avg       0.25      0.26      0.24      4141\n",
      "\n"
     ]
    },
    {
     "name": "stderr",
     "output_type": "stream",
     "text": [
      "\r",
      " 27%|██▋       | 3/11 [01:16<03:36, 27.12s/it]"
     ]
    },
    {
     "name": "stdout",
     "output_type": "stream",
     "text": [
      "Index(['temperature', 'holiday', 'month'], dtype='object')\n",
      "For 3 features: \n",
      " Accuracy: 0.24415235792019346 \n",
      " Precision: 0.1807779943164584 \n",
      " Recall: 0.18539470731881486 \n",
      " F1 score: 0.16457596326888774\n",
      "              precision    recall  f1-score   support\n",
      "\n",
      "        10.0       0.49      0.43      0.46      1462\n",
      "        20.0       0.22      0.09      0.13       697\n",
      "        30.0       0.11      0.30      0.16       364\n",
      "        40.0       0.10      0.02      0.03       450\n",
      "        50.0       0.01      0.19      0.02        58\n",
      "        60.0       0.00      0.00      0.00       674\n",
      "       100.0       0.21      0.17      0.19       430\n",
      "\n",
      "    accuracy                           0.22      4135\n",
      "   macro avg       0.16      0.17      0.14      4135\n",
      "weighted avg       0.25      0.22      0.22      4135\n",
      "\n"
     ]
    },
    {
     "name": "stderr",
     "output_type": "stream",
     "text": [
      "\r",
      " 36%|███▋      | 4/11 [01:53<03:36, 30.90s/it]"
     ]
    },
    {
     "name": "stdout",
     "output_type": "stream",
     "text": [
      "Index(['temperature', 'holiday', 'month', 'day'], dtype='object')\n",
      "For 4 features: \n",
      " Accuracy: 0.24186970210704772 \n",
      " Precision: 0.18356839782848275 \n",
      " Recall: 0.18322274254464968 \n",
      " F1 score: 0.16636529540939585\n",
      "              precision    recall  f1-score   support\n",
      "\n",
      "        10.0       0.48      0.44      0.46      1429\n",
      "        20.0       0.15      0.05      0.07       657\n",
      "        30.0       0.08      0.18      0.11       368\n",
      "        40.0       0.17      0.18      0.17       429\n",
      "        50.0       0.00      0.00      0.00        69\n",
      "        60.0       0.23      0.12      0.16       711\n",
      "       100.0       0.18      0.33      0.24       466\n",
      "\n",
      "    accuracy                           0.25      4129\n",
      "   macro avg       0.18      0.19      0.17      4129\n",
      "weighted avg       0.28      0.25      0.25      4129\n",
      "\n"
     ]
    },
    {
     "name": "stderr",
     "output_type": "stream",
     "text": [
      "\r",
      " 45%|████▌     | 5/11 [02:44<03:48, 38.09s/it]"
     ]
    },
    {
     "name": "stdout",
     "output_type": "stream",
     "text": [
      "Index(['temperature', 'holiday', 'month', 'day', 'pressure'], dtype='object')\n",
      "For 5 features: \n",
      " Accuracy: 0.255180693669658 \n",
      " Precision: 0.20051281990192055 \n",
      " Recall: 0.2018971472977706 \n",
      " F1 score: 0.18249841625634478\n",
      "              precision    recall  f1-score   support\n",
      "\n",
      "        10.0       0.50      0.41      0.45      1488\n",
      "        20.0       0.27      0.10      0.14       675\n",
      "        30.0       0.09      0.14      0.11       362\n",
      "        40.0       0.11      0.19      0.14       413\n",
      "        50.0       0.03      0.09      0.04        81\n",
      "        60.0       0.24      0.14      0.18       631\n",
      "       100.0       0.24      0.37      0.29       473\n",
      "\n",
      "    accuracy                           0.26      4123\n",
      "   macro avg       0.21      0.20      0.19      4123\n",
      "weighted avg       0.31      0.26      0.27      4123\n",
      "\n"
     ]
    },
    {
     "name": "stderr",
     "output_type": "stream",
     "text": [
      "\r",
      " 55%|█████▍    | 6/11 [03:38<03:37, 43.47s/it]"
     ]
    },
    {
     "name": "stdout",
     "output_type": "stream",
     "text": [
      "Index(['temperature', 'holiday', 'month', 'day', 'pressure', 'day.1'], dtype='object')\n",
      "For 6 features: \n",
      " Accuracy: 0.24716055380131163 \n",
      " Precision: 0.2006902145480488 \n",
      " Recall: 0.2151266694299636 \n",
      " F1 score: 0.17583438716731287\n",
      "              precision    recall  f1-score   support\n",
      "\n",
      "        10.0       0.53      0.42      0.47      1480\n",
      "        20.0       0.25      0.06      0.10       673\n",
      "        30.0       0.10      0.15      0.12       363\n",
      "        40.0       0.07      0.04      0.05       422\n",
      "        50.0       0.03      0.26      0.05        70\n",
      "        60.0       0.29      0.13      0.18       684\n",
      "       100.0       0.18      0.42      0.25       425\n",
      "\n",
      "    accuracy                           0.25      4117\n",
      "   macro avg       0.21      0.21      0.18      4117\n",
      "weighted avg       0.31      0.25      0.26      4117\n",
      "\n"
     ]
    },
    {
     "name": "stderr",
     "output_type": "stream",
     "text": [
      "\r",
      " 64%|██████▎   | 7/11 [04:37<03:15, 48.84s/it]"
     ]
    },
    {
     "name": "stdout",
     "output_type": "stream",
     "text": [
      "Index(['temperature', 'holiday', 'month', 'day', 'pressure', 'day.1',\n",
      "       'report'],\n",
      "      dtype='object')\n",
      "For 7 features: \n",
      " Accuracy: 0.2465604475796643 \n",
      " Precision: 0.20790568996115072 \n",
      " Recall: 0.22208735419156514 \n",
      " F1 score: 0.18291017394444653\n",
      "              precision    recall  f1-score   support\n",
      "\n",
      "        10.0       0.52      0.43      0.47      1430\n",
      "        20.0       0.18      0.07      0.10       690\n",
      "        30.0       0.11      0.16      0.13       375\n",
      "        40.0       0.13      0.17      0.15       382\n",
      "        50.0       0.03      0.27      0.05        66\n",
      "        60.0       0.24      0.06      0.10       692\n",
      "       100.0       0.27      0.47      0.34       476\n",
      "\n",
      "    accuracy                           0.26      4111\n",
      "   macro avg       0.21      0.23      0.19      4111\n",
      "weighted avg       0.31      0.26      0.26      4111\n",
      "\n"
     ]
    },
    {
     "name": "stderr",
     "output_type": "stream",
     "text": [
      "\r",
      " 73%|███████▎  | 8/11 [06:06<03:04, 61.38s/it]"
     ]
    },
    {
     "name": "stdout",
     "output_type": "stream",
     "text": [
      "Index(['temperature', 'holiday', 'month', 'day', 'pressure', 'day.1', 'report',\n",
      "       'year'],\n",
      "      dtype='object')\n",
      "For 8 features: \n",
      " Accuracy: 0.30339829476248475 \n",
      " Precision: 0.23839505722213258 \n",
      " Recall: 0.24979053830726922 \n",
      " F1 score: 0.20973401158002497\n",
      "              precision    recall  f1-score   support\n",
      "\n",
      "        10.0       0.60      0.56      0.58      1443\n",
      "        20.0       0.21      0.07      0.11       649\n",
      "        30.0       0.10      0.13      0.11       349\n",
      "        40.0       0.16      0.09      0.12       423\n",
      "        50.0       0.04      0.31      0.07        77\n",
      "        60.0       0.29      0.11      0.16       698\n",
      "       100.0       0.23      0.46      0.31       466\n",
      "\n",
      "    accuracy                           0.31      4105\n",
      "   macro avg       0.23      0.25      0.21      4105\n",
      "weighted avg       0.35      0.31      0.31      4105\n",
      "\n"
     ]
    },
    {
     "name": "stderr",
     "output_type": "stream",
     "text": [
      "\r",
      " 82%|████████▏ | 9/11 [07:37<02:21, 70.82s/it]"
     ]
    },
    {
     "name": "stdout",
     "output_type": "stream",
     "text": [
      "Index(['temperature', 'holiday', 'month', 'day', 'pressure', 'day.1', 'report',\n",
      "       'year', 'minute'],\n",
      "      dtype='object')\n",
      "For 9 features: \n",
      " Accuracy: 0.3051110026835814 \n",
      " Precision: 0.23880156890829948 \n",
      " Recall: 0.2503646284363881 \n",
      " F1 score: 0.2114304145223807\n",
      "              precision    recall  f1-score   support\n",
      "\n",
      "        10.0       0.63      0.55      0.58      1472\n",
      "        20.0       0.24      0.12      0.16       662\n",
      "        30.0       0.10      0.15      0.12       356\n",
      "        40.0       0.20      0.15      0.18       415\n",
      "        50.0       0.04      0.33      0.07        70\n",
      "        60.0       0.32      0.07      0.11       672\n",
      "       100.0       0.23      0.48      0.31       452\n",
      "\n",
      "    accuracy                           0.31      4099\n",
      "   macro avg       0.25      0.26      0.22      4099\n",
      "weighted avg       0.37      0.31      0.32      4099\n",
      "\n"
     ]
    },
    {
     "name": "stderr",
     "output_type": "stream",
     "text": [
      "\r",
      " 91%|█████████ | 10/11 [09:16<01:19, 79.52s/it]"
     ]
    },
    {
     "name": "stdout",
     "output_type": "stream",
     "text": [
      "Index(['temperature', 'holiday', 'month', 'day', 'pressure', 'day.1', 'report',\n",
      "       'year', 'minute', 'humidity'],\n",
      "      dtype='object')\n",
      "For 10 features: \n",
      " Accuracy: 0.30313462008306863 \n",
      " Precision: 0.2325982793445322 \n",
      " Recall: 0.24576716679254448 \n",
      " F1 score: 0.20954637296555442\n",
      "              precision    recall  f1-score   support\n",
      "\n",
      "        10.0       0.57      0.55      0.56      1439\n",
      "        20.0       0.21      0.08      0.12       659\n",
      "        30.0       0.09      0.11      0.10       352\n",
      "        40.0       0.18      0.19      0.19       422\n",
      "        50.0       0.05      0.34      0.08        71\n",
      "        60.0       0.27      0.08      0.12       702\n",
      "       100.0       0.24      0.44      0.31       448\n",
      "\n",
      "    accuracy                           0.30      4093\n",
      "   macro avg       0.23      0.26      0.21      4093\n",
      "weighted avg       0.33      0.30      0.30      4093\n",
      "\n"
     ]
    },
    {
     "name": "stderr",
     "output_type": "stream",
     "text": [
      "100%|██████████| 11/11 [11:08<00:00, 60.82s/it]\n",
      "  0%|          | 0/11 [00:00<?, ?it/s]"
     ]
    },
    {
     "name": "stdout",
     "output_type": "stream",
     "text": [
      "Index(['temperature', 'holiday', 'month', 'day', 'pressure', 'day.1', 'report',\n",
      "       'year', 'minute', 'humidity', 'hour'],\n",
      "      dtype='object')\n",
      "For 11 features: \n",
      " Accuracy: 0.2941448495228774 \n",
      " Precision: 0.2359321289827704 \n",
      " Recall: 0.2467166036680446 \n",
      " F1 score: 0.2127720460293645\n",
      "              precision    recall  f1-score   support\n",
      "\n",
      "        10.0       0.60      0.50      0.54      1468\n",
      "        20.0       0.19      0.08      0.11       698\n",
      "        30.0       0.10      0.16      0.12       331\n",
      "        40.0       0.19      0.13      0.16       417\n",
      "        50.0       0.04      0.35      0.08        74\n",
      "        60.0       0.25      0.10      0.14       658\n",
      "       100.0       0.21      0.41      0.28       441\n",
      "\n",
      "    accuracy                           0.29      4087\n",
      "   macro avg       0.23      0.25      0.20      4087\n",
      "weighted avg       0.34      0.29      0.29      4087\n",
      "\n",
      "\n",
      " \n",
      "\n",
      "------------------------- Analyzing method mutualInformation_classification -------------------------\n",
      "The variable order is: \n",
      " ['month', 'day', 'year', 'hour', 'minute', 'holiday', 'day.1', 'Pandemic', 'temperature', 'humidity', 'pressure', 'report']\n"
     ]
    },
    {
     "name": "stderr",
     "output_type": "stream",
     "text": [
      "\r",
      "  9%|▉         | 1/11 [00:13<02:10, 13.01s/it]"
     ]
    },
    {
     "name": "stdout",
     "output_type": "stream",
     "text": [
      "Index(['month'], dtype='object')\n",
      "For 1 features: \n",
      " Accuracy: 0.25140651801029157 \n",
      " Precision: 0.07152869549206013 \n",
      " Recall: 0.15982364105257274 \n",
      " F1 score: 0.09249294642041588\n",
      "              precision    recall  f1-score   support\n",
      "\n",
      "        10.0       0.37      0.52      0.43      1459\n",
      "        20.0       0.00      0.00      0.00       636\n",
      "        30.0       0.00      0.00      0.00       385\n",
      "        40.0       0.00      0.00      0.00       402\n",
      "        50.0       0.00      0.00      0.00        86\n",
      "        60.0       0.00      0.00      0.00       669\n",
      "       100.0       0.13      0.60      0.22       444\n",
      "\n",
      "    accuracy                           0.25      4081\n",
      "   macro avg       0.07      0.16      0.09      4081\n",
      "weighted avg       0.15      0.25      0.18      4081\n",
      "\n"
     ]
    },
    {
     "name": "stderr",
     "output_type": "stream",
     "text": [
      "\r",
      " 18%|█▊        | 2/11 [00:30<02:20, 15.64s/it]"
     ]
    },
    {
     "name": "stdout",
     "output_type": "stream",
     "text": [
      "Index(['month', 'day'], dtype='object')\n",
      "For 2 features: \n",
      " Accuracy: 0.2204564417177914 \n",
      " Precision: 0.11785065681254062 \n",
      " Recall: 0.17179334406366514 \n",
      " F1 score: 0.13137116563818482\n",
      "              precision    recall  f1-score   support\n",
      "\n",
      "        10.0       0.41      0.37      0.39      1475\n",
      "        20.0       0.00      0.00      0.00       675\n",
      "        30.0       0.13      0.34      0.18       359\n",
      "        40.0       0.00      0.00      0.00       399\n",
      "        50.0       0.00      0.00      0.00        69\n",
      "        60.0       0.18      0.20      0.19       644\n",
      "       100.0       0.14      0.33      0.20       454\n",
      "\n",
      "    accuracy                           0.23      4075\n",
      "   macro avg       0.12      0.18      0.14      4075\n",
      "weighted avg       0.20      0.23      0.21      4075\n",
      "\n"
     ]
    },
    {
     "name": "stderr",
     "output_type": "stream",
     "text": [
      "\r",
      " 27%|██▋       | 3/11 [01:04<03:13, 24.13s/it]"
     ]
    },
    {
     "name": "stdout",
     "output_type": "stream",
     "text": [
      "Index(['month', 'day', 'year'], dtype='object')\n",
      "For 3 features: \n",
      " Accuracy: 0.31064635045465716 \n",
      " Precision: 0.19330764289490546 \n",
      " Recall: 0.21373690766071726 \n",
      " F1 score: 0.1853090360970318\n",
      "              precision    recall  f1-score   support\n",
      "\n",
      "        10.0       0.51      0.58      0.54      1448\n",
      "        20.0       0.00      0.00      0.00       666\n",
      "        30.0       0.13      0.19      0.15       354\n",
      "        40.0       0.22      0.02      0.04       410\n",
      "        50.0       0.03      0.28      0.05        67\n",
      "        60.0       0.25      0.12      0.16       676\n",
      "       100.0       0.17      0.33      0.22       448\n",
      "\n",
      "    accuracy                           0.29      4069\n",
      "   macro avg       0.19      0.22      0.17      4069\n",
      "weighted avg       0.27      0.29      0.26      4069\n",
      "\n"
     ]
    },
    {
     "name": "stderr",
     "output_type": "stream",
     "text": [
      "\r",
      " 36%|███▋      | 4/11 [01:55<04:03, 34.84s/it]"
     ]
    },
    {
     "name": "stdout",
     "output_type": "stream",
     "text": [
      "Index(['month', 'day', 'year', 'hour'], dtype='object')\n",
      "For 4 features: \n",
      " Accuracy: 0.2778070391336451 \n",
      " Precision: 0.20965719315687045 \n",
      " Recall: 0.2142876958807122 \n",
      " F1 score: 0.18538732215873047\n",
      "              precision    recall  f1-score   support\n",
      "\n",
      "        10.0       0.52      0.49      0.50      1445\n",
      "        20.0       0.17      0.06      0.09       656\n",
      "        30.0       0.12      0.24      0.16       344\n",
      "        40.0       0.04      0.01      0.01       401\n",
      "        50.0       0.04      0.22      0.07        85\n",
      "        60.0       0.35      0.15      0.21       643\n",
      "       100.0       0.20      0.40      0.27       489\n",
      "\n",
      "    accuracy                           0.28      4063\n",
      "   macro avg       0.21      0.23      0.19      4063\n",
      "weighted avg       0.31      0.28      0.28      4063\n",
      "\n"
     ]
    },
    {
     "name": "stderr",
     "output_type": "stream",
     "text": [
      "\r",
      " 45%|████▌     | 5/11 [02:52<04:16, 42.74s/it]"
     ]
    },
    {
     "name": "stdout",
     "output_type": "stream",
     "text": [
      "Index(['month', 'day', 'year', 'hour', 'minute'], dtype='object')\n",
      "For 5 features: \n",
      " Accuracy: 0.2748607345329061 \n",
      " Precision: 0.20973981073484446 \n",
      " Recall: 0.21405788750249993 \n",
      " F1 score: 0.1846584114639176\n",
      "              precision    recall  f1-score   support\n",
      "\n",
      "        10.0       0.53      0.49      0.51      1492\n",
      "        20.0       0.15      0.07      0.10       634\n",
      "        30.0       0.13      0.26      0.17       347\n",
      "        40.0       0.17      0.01      0.03       411\n",
      "        50.0       0.02      0.12      0.03        67\n",
      "        60.0       0.30      0.17      0.22       671\n",
      "       100.0       0.18      0.35      0.24       435\n",
      "\n",
      "    accuracy                           0.28      4057\n",
      "   macro avg       0.21      0.21      0.18      4057\n",
      "weighted avg       0.32      0.28      0.28      4057\n",
      "\n"
     ]
    },
    {
     "name": "stderr",
     "output_type": "stream",
     "text": [
      "\r",
      " 55%|█████▍    | 6/11 [03:57<04:11, 50.23s/it]"
     ]
    },
    {
     "name": "stdout",
     "output_type": "stream",
     "text": [
      "Index(['month', 'day', 'year', 'hour', 'minute', 'holiday'], dtype='object')\n",
      "For 6 features: \n",
      " Accuracy: 0.2814440878795359 \n",
      " Precision: 0.214922696310706 \n",
      " Recall: 0.21923664863484532 \n",
      " F1 score: 0.19313896187169982\n",
      "              precision    recall  f1-score   support\n",
      "\n",
      "        10.0       0.52      0.48      0.50      1439\n",
      "        20.0       0.15      0.07      0.09       669\n",
      "        30.0       0.12      0.24      0.16       355\n",
      "        40.0       0.14      0.07      0.09       387\n",
      "        50.0       0.04      0.15      0.06        67\n",
      "        60.0       0.25      0.16      0.20       660\n",
      "       100.0       0.21      0.36      0.27       474\n",
      "\n",
      "    accuracy                           0.28      4051\n",
      "   macro avg       0.20      0.22      0.20      4051\n",
      "weighted avg       0.30      0.28      0.28      4051\n",
      "\n"
     ]
    },
    {
     "name": "stderr",
     "output_type": "stream",
     "text": [
      "\r",
      " 64%|██████▎   | 7/11 [05:06<03:45, 56.29s/it]"
     ]
    },
    {
     "name": "stdout",
     "output_type": "stream",
     "text": [
      "Index(['month', 'day', 'year', 'hour', 'minute', 'holiday', 'day.1'], dtype='object')\n",
      "For 7 features: \n",
      " Accuracy: 0.2920271940667491 \n",
      " Precision: 0.22836920684426376 \n",
      " Recall: 0.23287065550733457 \n",
      " F1 score: 0.20230027529276884\n",
      "              precision    recall  f1-score   support\n",
      "\n",
      "        10.0       0.56      0.52      0.54      1498\n",
      "        20.0       0.20      0.07      0.11       605\n",
      "        30.0       0.13      0.23      0.17       378\n",
      "        40.0       0.12      0.05      0.07       377\n",
      "        50.0       0.03      0.23      0.05        75\n",
      "        60.0       0.33      0.15      0.21       663\n",
      "       100.0       0.23      0.39      0.29       449\n",
      "\n",
      "    accuracy                           0.30      4045\n",
      "   macro avg       0.23      0.23      0.20      4045\n",
      "weighted avg       0.34      0.30      0.30      4045\n",
      "\n"
     ]
    },
    {
     "name": "stderr",
     "output_type": "stream",
     "text": [
      "\r",
      " 73%|███████▎  | 8/11 [06:18<03:03, 61.32s/it]"
     ]
    },
    {
     "name": "stdout",
     "output_type": "stream",
     "text": [
      "Index(['month', 'day', 'year', 'hour', 'minute', 'holiday', 'day.1',\n",
      "       'Pandemic'],\n",
      "      dtype='object')\n",
      "For 8 features: \n",
      " Accuracy: 0.28995048279277047 \n",
      " Precision: 0.226850533432861 \n",
      " Recall: 0.23181853870491462 \n",
      " F1 score: 0.20040981236100053\n",
      "              precision    recall  f1-score   support\n",
      "\n",
      "        10.0       0.57      0.51      0.54      1493\n",
      "        20.0       0.17      0.06      0.09       635\n",
      "        30.0       0.11      0.20      0.14       343\n",
      "        40.0       0.17      0.06      0.09       404\n",
      "        50.0       0.03      0.21      0.05        73\n",
      "        60.0       0.28      0.13      0.18       666\n",
      "       100.0       0.21      0.40      0.28       425\n",
      "\n",
      "    accuracy                           0.29      4039\n",
      "   macro avg       0.22      0.22      0.19      4039\n",
      "weighted avg       0.33      0.29      0.29      4039\n",
      "\n"
     ]
    },
    {
     "name": "stderr",
     "output_type": "stream",
     "text": [
      "\r",
      " 82%|████████▏ | 9/11 [07:45<02:19, 69.53s/it]"
     ]
    },
    {
     "name": "stdout",
     "output_type": "stream",
     "text": [
      "Index(['month', 'day', 'year', 'hour', 'minute', 'holiday', 'day.1',\n",
      "       'Pandemic', 'temperature'],\n",
      "      dtype='object')\n",
      "For 9 features: \n",
      " Accuracy: 0.28324324324324324 \n",
      " Precision: 0.22569202636078634 \n",
      " Recall: 0.2307362002073181 \n",
      " F1 score: 0.20094242782919375\n",
      "              precision    recall  f1-score   support\n",
      "\n",
      "        10.0       0.61      0.46      0.52      1469\n",
      "        20.0       0.15      0.07      0.10       665\n",
      "        30.0       0.11      0.20      0.14       367\n",
      "        40.0       0.13      0.07      0.09       384\n",
      "        50.0       0.02      0.22      0.04        54\n",
      "        60.0       0.26      0.13      0.17       638\n",
      "       100.0       0.21      0.39      0.27       456\n",
      "\n",
      "    accuracy                           0.27      4033\n",
      "   macro avg       0.21      0.22      0.19      4033\n",
      "weighted avg       0.33      0.27      0.29      4033\n",
      "\n"
     ]
    },
    {
     "name": "stderr",
     "output_type": "stream",
     "text": [
      "\r",
      " 91%|█████████ | 10/11 [09:27<01:19, 79.43s/it]"
     ]
    },
    {
     "name": "stdout",
     "output_type": "stream",
     "text": [
      "Index(['month', 'day', 'year', 'hour', 'minute', 'holiday', 'day.1',\n",
      "       'Pandemic', 'temperature', 'humidity'],\n",
      "      dtype='object')\n",
      "For 10 features: \n",
      " Accuracy: 0.29117705487956297 \n",
      " Precision: 0.2259819585594198 \n",
      " Recall: 0.2388081897967415 \n",
      " F1 score: 0.2063985804680905\n",
      "              precision    recall  f1-score   support\n",
      "\n",
      "        10.0       0.60      0.49      0.54      1449\n",
      "        20.0       0.16      0.07      0.09       661\n",
      "        30.0       0.11      0.17      0.14       355\n",
      "        40.0       0.16      0.11      0.13       386\n",
      "        50.0       0.03      0.25      0.05        60\n",
      "        60.0       0.27      0.13      0.17       664\n",
      "       100.0       0.22      0.41      0.29       452\n",
      "\n",
      "    accuracy                           0.28      4027\n",
      "   macro avg       0.22      0.23      0.20      4027\n",
      "weighted avg       0.34      0.28      0.29      4027\n",
      "\n"
     ]
    },
    {
     "name": "stderr",
     "output_type": "stream",
     "text": [
      "100%|██████████| 11/11 [11:15<00:00, 61.43s/it]\n",
      "  0%|          | 0/11 [00:00<?, ?it/s]"
     ]
    },
    {
     "name": "stdout",
     "output_type": "stream",
     "text": [
      "Index(['month', 'day', 'year', 'hour', 'minute', 'holiday', 'day.1',\n",
      "       'Pandemic', 'temperature', 'humidity', 'pressure'],\n",
      "      dtype='object')\n",
      "For 11 features: \n",
      " Accuracy: 0.28843571250932604 \n",
      " Precision: 0.22217277106452663 \n",
      " Recall: 0.23838445005147993 \n",
      " F1 score: 0.2046988145844816\n",
      "              precision    recall  f1-score   support\n",
      "\n",
      "        10.0       0.59      0.47      0.53      1460\n",
      "        20.0       0.15      0.08      0.10       675\n",
      "        30.0       0.11      0.18      0.14       367\n",
      "        40.0       0.15      0.08      0.10       364\n",
      "        50.0       0.03      0.27      0.05        56\n",
      "        60.0       0.28      0.14      0.19       674\n",
      "       100.0       0.23      0.47      0.30       425\n",
      "\n",
      "    accuracy                           0.29      4021\n",
      "   macro avg       0.22      0.24      0.20      4021\n",
      "weighted avg       0.33      0.29      0.29      4021\n",
      "\n",
      "\n",
      " \n",
      "\n",
      "------------------------- Analyzing method mutualInformation_reggression -------------------------\n",
      "The variable order is: \n",
      " ['month', 'day', 'year', 'hour', 'minute', 'holiday', 'day.1', 'Pandemic', 'temperature', 'humidity', 'pressure', 'report']\n"
     ]
    },
    {
     "name": "stderr",
     "output_type": "stream",
     "text": [
      "\r",
      "  9%|▉         | 1/11 [00:13<02:15, 13.53s/it]"
     ]
    },
    {
     "name": "stdout",
     "output_type": "stream",
     "text": [
      "Index(['month'], dtype='object')\n",
      "For 1 features: \n",
      " Accuracy: 0.25021170610211707 \n",
      " Precision: 0.07188363803868147 \n",
      " Recall: 0.15902371691902983 \n",
      " F1 score: 0.09222772588160814\n",
      "              precision    recall  f1-score   support\n",
      "\n",
      "        10.0       0.37      0.51      0.43      1428\n",
      "        20.0       0.00      0.00      0.00       640\n",
      "        30.0       0.00      0.00      0.00       356\n",
      "        40.0       0.00      0.00      0.00       395\n",
      "        50.0       0.00      0.00      0.00        72\n",
      "        60.0       0.00      0.00      0.00       689\n",
      "       100.0       0.13      0.63      0.22       435\n",
      "\n",
      "    accuracy                           0.25      4015\n",
      "   macro avg       0.07      0.16      0.09      4015\n",
      "weighted avg       0.15      0.25      0.18      4015\n",
      "\n"
     ]
    },
    {
     "name": "stderr",
     "output_type": "stream",
     "text": [
      "\r",
      " 18%|█▊        | 2/11 [00:30<02:18, 15.37s/it]"
     ]
    },
    {
     "name": "stdout",
     "output_type": "stream",
     "text": [
      "Index(['month', 'day'], dtype='object')\n",
      "For 2 features: \n",
      " Accuracy: 0.22575205786979297 \n",
      " Precision: 0.1198953706694146 \n",
      " Recall: 0.17090411093392074 \n",
      " F1 score: 0.13096707238575694\n",
      "              precision    recall  f1-score   support\n",
      "\n",
      "        10.0       0.38      0.35      0.37      1409\n",
      "        20.0       0.00      0.00      0.00       663\n",
      "        30.0       0.11      0.30      0.16       366\n",
      "        40.0       0.00      0.00      0.00       388\n",
      "        50.0       0.00      0.00      0.00        76\n",
      "        60.0       0.17      0.18      0.17       661\n",
      "       100.0       0.16      0.36      0.22       446\n",
      "\n",
      "    accuracy                           0.22      4009\n",
      "   macro avg       0.12      0.17      0.13      4009\n",
      "weighted avg       0.19      0.22      0.20      4009\n",
      "\n"
     ]
    },
    {
     "name": "stderr",
     "output_type": "stream",
     "text": [
      "\r",
      " 27%|██▋       | 3/11 [01:05<03:16, 24.53s/it]"
     ]
    },
    {
     "name": "stdout",
     "output_type": "stream",
     "text": [
      "Index(['month', 'day', 'year'], dtype='object')\n",
      "For 3 features: \n",
      " Accuracy: 0.3120484636522608 \n",
      " Precision: 0.1868028099252844 \n",
      " Recall: 0.21177091556804103 \n",
      " F1 score: 0.18093969387152326\n",
      "              precision    recall  f1-score   support\n",
      "\n",
      "        10.0       0.53      0.59      0.56      1472\n",
      "        20.0       0.21      0.03      0.05       653\n",
      "        30.0       0.15      0.24      0.19       374\n",
      "        40.0       0.12      0.01      0.01       387\n",
      "        50.0       0.03      0.20      0.06        64\n",
      "        60.0       0.26      0.23      0.24       631\n",
      "       100.0       0.17      0.28      0.21       422\n",
      "\n",
      "    accuracy                           0.31      4003\n",
      "   macro avg       0.21      0.23      0.19      4003\n",
      "weighted avg       0.31      0.31      0.29      4003\n",
      "\n"
     ]
    },
    {
     "name": "stderr",
     "output_type": "stream",
     "text": [
      "\r",
      " 36%|███▋      | 4/11 [01:58<04:10, 35.77s/it]"
     ]
    },
    {
     "name": "stdout",
     "output_type": "stream",
     "text": [
      "Index(['month', 'day', 'year', 'hour'], dtype='object')\n",
      "For 4 features: \n",
      " Accuracy: 0.27861396047035275 \n",
      " Precision: 0.2102047744430061 \n",
      " Recall: 0.21284866871332506 \n",
      " F1 score: 0.185854195651556\n",
      "              precision    recall  f1-score   support\n",
      "\n",
      "        10.0       0.53      0.50      0.51      1429\n",
      "        20.0       0.16      0.07      0.09       644\n",
      "        30.0       0.14      0.26      0.18       356\n",
      "        40.0       0.20      0.04      0.07       394\n",
      "        50.0       0.02      0.16      0.03        75\n",
      "        60.0       0.35      0.10      0.16       643\n",
      "       100.0       0.21      0.38      0.27       456\n",
      "\n",
      "    accuracy                           0.28      3997\n",
      "   macro avg       0.23      0.21      0.19      3997\n",
      "weighted avg       0.33      0.28      0.28      3997\n",
      "\n"
     ]
    },
    {
     "name": "stderr",
     "output_type": "stream",
     "text": [
      "\r",
      " 45%|████▌     | 5/11 [02:56<04:22, 43.73s/it]"
     ]
    },
    {
     "name": "stdout",
     "output_type": "stream",
     "text": [
      "Index(['month', 'day', 'year', 'hour', 'minute'], dtype='object')\n",
      "For 5 features: \n",
      " Accuracy: 0.2772989225757955 \n",
      " Precision: 0.21198450003115946 \n",
      " Recall: 0.2131674108973838 \n",
      " F1 score: 0.18627188553948773\n",
      "              precision    recall  f1-score   support\n",
      "\n",
      "        10.0       0.52      0.49      0.50      1440\n",
      "        20.0       0.15      0.05      0.08       664\n",
      "        30.0       0.12      0.21      0.15       350\n",
      "        40.0       0.14      0.04      0.06       383\n",
      "        50.0       0.02      0.16      0.03        70\n",
      "        60.0       0.34      0.13      0.19       637\n",
      "       100.0       0.20      0.38      0.27       447\n",
      "\n",
      "    accuracy                           0.28      3991\n",
      "   macro avg       0.21      0.21      0.18      3991\n",
      "weighted avg       0.31      0.28      0.28      3991\n",
      "\n"
     ]
    },
    {
     "name": "stderr",
     "output_type": "stream",
     "text": [
      "\r",
      " 55%|█████▍    | 6/11 [04:00<04:12, 50.58s/it]"
     ]
    },
    {
     "name": "stdout",
     "output_type": "stream",
     "text": [
      "Index(['month', 'day', 'year', 'hour', 'minute', 'holiday'], dtype='object')\n",
      "For 6 features: \n",
      " Accuracy: 0.2911468005018821 \n",
      " Precision: 0.2167734382818801 \n",
      " Recall: 0.21665543104282012 \n",
      " F1 score: 0.19887539157985376\n",
      "              precision    recall  f1-score   support\n",
      "\n",
      "        10.0       0.56      0.52      0.54      1404\n",
      "        20.0       0.18      0.08      0.11       628\n",
      "        30.0       0.15      0.28      0.20       363\n",
      "        40.0       0.14      0.08      0.10       395\n",
      "        50.0       0.04      0.20      0.07        86\n",
      "        60.0       0.31      0.15      0.20       644\n",
      "       100.0       0.21      0.35      0.26       465\n",
      "\n",
      "    accuracy                           0.30      3985\n",
      "   macro avg       0.23      0.24      0.21      3985\n",
      "weighted avg       0.33      0.30      0.30      3985\n",
      "\n"
     ]
    },
    {
     "name": "stderr",
     "output_type": "stream",
     "text": [
      "\r",
      " 64%|██████▎   | 7/11 [05:09<03:46, 56.75s/it]"
     ]
    },
    {
     "name": "stdout",
     "output_type": "stream",
     "text": [
      "Index(['month', 'day', 'year', 'hour', 'minute', 'holiday', 'day.1'], dtype='object')\n",
      "For 7 features: \n",
      " Accuracy: 0.29449359135461173 \n",
      " Precision: 0.22944822832300998 \n",
      " Recall: 0.2329787833436284 \n",
      " F1 score: 0.20460436504568294\n",
      "              precision    recall  f1-score   support\n",
      "\n",
      "        10.0       0.56      0.50      0.53      1432\n",
      "        20.0       0.17      0.07      0.10       652\n",
      "        30.0       0.11      0.18      0.14       344\n",
      "        40.0       0.15      0.06      0.08       384\n",
      "        50.0       0.02      0.21      0.04        61\n",
      "        60.0       0.30      0.17      0.21       630\n",
      "       100.0       0.21      0.33      0.25       476\n",
      "\n",
      "    accuracy                           0.28      3979\n",
      "   macro avg       0.22      0.22      0.19      3979\n",
      "weighted avg       0.33      0.28      0.29      3979\n",
      "\n"
     ]
    },
    {
     "name": "stderr",
     "output_type": "stream",
     "text": [
      "\r",
      " 73%|███████▎  | 8/11 [06:21<03:04, 61.57s/it]"
     ]
    },
    {
     "name": "stdout",
     "output_type": "stream",
     "text": [
      "Index(['month', 'day', 'year', 'hour', 'minute', 'holiday', 'day.1',\n",
      "       'Pandemic'],\n",
      "      dtype='object')\n",
      "For 8 features: \n",
      " Accuracy: 0.2959828844701737 \n",
      " Precision: 0.23092604430568756 \n",
      " Recall: 0.23416050332889596 \n",
      " F1 score: 0.20649145165198077\n",
      "              precision    recall  f1-score   support\n",
      "\n",
      "        10.0       0.55      0.50      0.52      1397\n",
      "        20.0       0.20      0.10      0.13       620\n",
      "        30.0       0.13      0.23      0.17       353\n",
      "        40.0       0.13      0.03      0.05       408\n",
      "        50.0       0.02      0.17      0.03        65\n",
      "        60.0       0.31      0.15      0.21       674\n",
      "       100.0       0.24      0.42      0.31       456\n",
      "\n",
      "    accuracy                           0.29      3973\n",
      "   macro avg       0.23      0.23      0.20      3973\n",
      "weighted avg       0.33      0.29      0.29      3973\n",
      "\n"
     ]
    },
    {
     "name": "stderr",
     "output_type": "stream",
     "text": [
      "\r",
      " 82%|████████▏ | 9/11 [07:48<02:18, 69.43s/it]"
     ]
    },
    {
     "name": "stdout",
     "output_type": "stream",
     "text": [
      "Index(['month', 'day', 'year', 'hour', 'minute', 'holiday', 'day.1',\n",
      "       'Pandemic', 'temperature'],\n",
      "      dtype='object')\n",
      "For 9 features: \n",
      " Accuracy: 0.29010335265944037 \n",
      " Precision: 0.2311628768649627 \n",
      " Recall: 0.23319969712019098 \n",
      " F1 score: 0.20827457320370885\n",
      "              precision    recall  f1-score   support\n",
      "\n",
      "        10.0       0.61      0.48      0.54      1440\n",
      "        20.0       0.18      0.08      0.11       675\n",
      "        30.0       0.12      0.19      0.14       355\n",
      "        40.0       0.13      0.10      0.11       371\n",
      "        50.0       0.04      0.26      0.06        65\n",
      "        60.0       0.27      0.18      0.21       609\n",
      "       100.0       0.23      0.39      0.29       452\n",
      "\n",
      "    accuracy                           0.29      3967\n",
      "   macro avg       0.22      0.24      0.21      3967\n",
      "weighted avg       0.34      0.29      0.31      3967\n",
      "\n"
     ]
    },
    {
     "name": "stderr",
     "output_type": "stream",
     "text": [
      "\r",
      " 91%|█████████ | 10/11 [09:29<01:19, 79.17s/it]"
     ]
    },
    {
     "name": "stdout",
     "output_type": "stream",
     "text": [
      "Index(['month', 'day', 'year', 'hour', 'minute', 'holiday', 'day.1',\n",
      "       'Pandemic', 'temperature', 'humidity'],\n",
      "      dtype='object')\n",
      "For 10 features: \n",
      " Accuracy: 0.29187326432719013 \n",
      " Precision: 0.2277780224744052 \n",
      " Recall: 0.23703199222541213 \n",
      " F1 score: 0.2088315585377951\n",
      "              precision    recall  f1-score   support\n",
      "\n",
      "        10.0       0.60      0.50      0.55      1463\n",
      "        20.0       0.21      0.11      0.14       675\n",
      "        30.0       0.13      0.17      0.15       354\n",
      "        40.0       0.18      0.15      0.16       386\n",
      "        50.0       0.04      0.30      0.06        61\n",
      "        60.0       0.27      0.12      0.17       622\n",
      "       100.0       0.20      0.39      0.26       400\n",
      "\n",
      "    accuracy                           0.30      3961\n",
      "   macro avg       0.23      0.25      0.21      3961\n",
      "weighted avg       0.35      0.30      0.31      3961\n",
      "\n"
     ]
    },
    {
     "name": "stderr",
     "output_type": "stream",
     "text": [
      "100%|██████████| 11/11 [11:17<00:00, 61.55s/it]\n",
      "  0%|          | 0/11 [00:00<?, ?it/s]"
     ]
    },
    {
     "name": "stdout",
     "output_type": "stream",
     "text": [
      "Index(['month', 'day', 'year', 'hour', 'minute', 'holiday', 'day.1',\n",
      "       'Pandemic', 'temperature', 'humidity', 'pressure'],\n",
      "      dtype='object')\n",
      "For 11 features: \n",
      " Accuracy: 0.29544627054361566 \n",
      " Precision: 0.22650946100412855 \n",
      " Recall: 0.23432646163835236 \n",
      " F1 score: 0.21149657158977514\n",
      "              precision    recall  f1-score   support\n",
      "\n",
      "        10.0       0.60      0.51      0.55      1463\n",
      "        20.0       0.22      0.11      0.15       638\n",
      "        30.0       0.11      0.15      0.13       349\n",
      "        40.0       0.17      0.15      0.16       359\n",
      "        50.0       0.03      0.23      0.06        62\n",
      "        60.0       0.27      0.17      0.21       624\n",
      "       100.0       0.25      0.42      0.32       460\n",
      "\n",
      "    accuracy                           0.31      3955\n",
      "   macro avg       0.24      0.25      0.22      3955\n",
      "weighted avg       0.35      0.31      0.32      3955\n",
      "\n",
      "\n",
      " \n",
      "\n",
      "------------------------- Analyzing method mutualInformation_classification2 -------------------------\n",
      "The variable order is: \n",
      " ['day', 'temperature', 'month', 'humidity', 'hour', 'day.1', 'pressure', 'holiday', 'year', 'report', 'minute', 'Pandemic']\n"
     ]
    },
    {
     "name": "stderr",
     "output_type": "stream",
     "text": [
      "\r",
      "  9%|▉         | 1/11 [00:12<02:06, 12.62s/it]"
     ]
    },
    {
     "name": "stdout",
     "output_type": "stream",
     "text": [
      "Index(['day'], dtype='object')\n",
      "For 1 features: \n",
      " Accuracy: 0.26553811091415547 \n",
      " Precision: 0.11724605240163283 \n",
      " Recall: 0.16799450852873657 \n",
      " F1 score: 0.11798253143360386\n",
      "              precision    recall  f1-score   support\n",
      "\n",
      "        10.0       0.42      0.53      0.47      1434\n",
      "        20.0       0.00      0.00      0.00       692\n",
      "        30.0       0.11      0.04      0.06       335\n",
      "        40.0       0.15      0.06      0.09       385\n",
      "        50.0       0.00      0.00      0.00        58\n",
      "        60.0       0.00      0.00      0.00       604\n",
      "       100.0       0.13      0.55      0.21       441\n",
      "\n",
      "    accuracy                           0.26      3949\n",
      "   macro avg       0.12      0.17      0.12      3949\n",
      "weighted avg       0.19      0.26      0.21      3949\n",
      "\n"
     ]
    },
    {
     "name": "stderr",
     "output_type": "stream",
     "text": [
      "\r",
      " 18%|█▊        | 2/11 [00:36<02:54, 19.39s/it]"
     ]
    },
    {
     "name": "stdout",
     "output_type": "stream",
     "text": [
      "Index(['day', 'temperature'], dtype='object')\n",
      "For 2 features: \n",
      " Accuracy: 0.2446386000507228 \n",
      " Precision: 0.1654851470095269 \n",
      " Recall: 0.16866219629704055 \n",
      " F1 score: 0.12932876666645085\n",
      "              precision    recall  f1-score   support\n",
      "\n",
      "        10.0       0.45      0.48      0.47      1409\n",
      "        20.0       0.06      0.00      0.01       620\n",
      "        30.0       0.07      0.04      0.05       369\n",
      "        40.0       0.10      0.20      0.13       356\n",
      "        50.0       0.00      0.00      0.00        60\n",
      "        60.0       0.00      0.00      0.00       701\n",
      "       100.0       0.14      0.45      0.21       428\n",
      "\n",
      "    accuracy                           0.24      3943\n",
      "   macro avg       0.12      0.17      0.12      3943\n",
      "weighted avg       0.20      0.24      0.21      3943\n",
      "\n"
     ]
    },
    {
     "name": "stderr",
     "output_type": "stream",
     "text": [
      "\r",
      " 27%|██▋       | 3/11 [01:07<03:18, 24.78s/it]"
     ]
    },
    {
     "name": "stdout",
     "output_type": "stream",
     "text": [
      "Index(['day', 'temperature', 'month'], dtype='object')\n",
      "For 3 features: \n",
      " Accuracy: 0.2579248158496317 \n",
      " Precision: 0.17323162555028296 \n",
      " Recall: 0.1818461317693369 \n",
      " F1 score: 0.15978484493630954\n",
      "              precision    recall  f1-score   support\n",
      "\n",
      "        10.0       0.48      0.46      0.47      1439\n",
      "        20.0       0.10      0.01      0.02       579\n",
      "        30.0       0.11      0.18      0.14       348\n",
      "        40.0       0.11      0.09      0.10       380\n",
      "        50.0       0.12      0.03      0.05        67\n",
      "        60.0       0.27      0.23      0.25       667\n",
      "       100.0       0.15      0.33      0.21       457\n",
      "\n",
      "    accuracy                           0.27      3937\n",
      "   macro avg       0.19      0.19      0.18      3937\n",
      "weighted avg       0.27      0.27      0.26      3937\n",
      "\n"
     ]
    },
    {
     "name": "stderr",
     "output_type": "stream",
     "text": [
      "\r",
      " 36%|███▋      | 4/11 [01:41<03:18, 28.41s/it]"
     ]
    },
    {
     "name": "stdout",
     "output_type": "stream",
     "text": [
      "Index(['day', 'temperature', 'month', 'humidity'], dtype='object')\n",
      "For 4 features: \n",
      " Accuracy: 0.2877410328160773 \n",
      " Precision: 0.20232141973039847 \n",
      " Recall: 0.20502156186383205 \n",
      " F1 score: 0.18518995981821465\n",
      "              precision    recall  f1-score   support\n",
      "\n",
      "        10.0       0.52      0.52      0.52      1402\n",
      "        20.0       0.15      0.02      0.04       643\n",
      "        30.0       0.12      0.14      0.13       372\n",
      "        40.0       0.12      0.19      0.14       367\n",
      "        50.0       0.05      0.02      0.02        61\n",
      "        60.0       0.21      0.14      0.17       639\n",
      "       100.0       0.15      0.32      0.21       447\n",
      "\n",
      "    accuracy                           0.28      3931\n",
      "   macro avg       0.19      0.19      0.18      3931\n",
      "weighted avg       0.29      0.28      0.27      3931\n",
      "\n"
     ]
    },
    {
     "name": "stderr",
     "output_type": "stream",
     "text": [
      "\r",
      " 45%|████▌     | 5/11 [02:30<03:33, 35.53s/it]"
     ]
    },
    {
     "name": "stdout",
     "output_type": "stream",
     "text": [
      "Index(['day', 'temperature', 'month', 'humidity', 'hour'], dtype='object')\n",
      "For 5 features: \n",
      " Accuracy: 0.2825019108280255 \n",
      " Precision: 0.20875594054216048 \n",
      " Recall: 0.2168526603646174 \n",
      " F1 score: 0.19662990507193107\n",
      "              precision    recall  f1-score   support\n",
      "\n",
      "        10.0       0.56      0.47      0.51      1435\n",
      "        20.0       0.21      0.10      0.14       628\n",
      "        30.0       0.14      0.21      0.17       362\n",
      "        40.0       0.14      0.12      0.13       356\n",
      "        50.0       0.05      0.12      0.07        73\n",
      "        60.0       0.24      0.18      0.20       656\n",
      "       100.0       0.18      0.39      0.25       415\n",
      "\n",
      "    accuracy                           0.29      3925\n",
      "   macro avg       0.22      0.23      0.21      3925\n",
      "weighted avg       0.32      0.29      0.30      3925\n",
      "\n"
     ]
    },
    {
     "name": "stderr",
     "output_type": "stream",
     "text": [
      "\r",
      " 55%|█████▍    | 6/11 [03:23<03:27, 41.57s/it]"
     ]
    },
    {
     "name": "stdout",
     "output_type": "stream",
     "text": [
      "Index(['day', 'temperature', 'month', 'humidity', 'hour', 'day.1'], dtype='object')\n",
      "For 6 features: \n",
      " Accuracy: 0.26428680785914777 \n",
      " Precision: 0.2005912366669779 \n",
      " Recall: 0.21763879308235415 \n",
      " F1 score: 0.18237118448881204\n",
      "              precision    recall  f1-score   support\n",
      "\n",
      "        10.0       0.55      0.48      0.51      1388\n",
      "        20.0       0.22      0.09      0.12       633\n",
      "        30.0       0.13      0.21      0.16       356\n",
      "        40.0       0.16      0.05      0.07       383\n",
      "        50.0       0.04      0.29      0.07        75\n",
      "        60.0       0.22      0.10      0.14       648\n",
      "       100.0       0.17      0.37      0.24       436\n",
      "\n",
      "    accuracy                           0.27      3919\n",
      "   macro avg       0.21      0.23      0.19      3919\n",
      "weighted avg       0.31      0.27      0.27      3919\n",
      "\n"
     ]
    },
    {
     "name": "stderr",
     "output_type": "stream",
     "text": [
      "\r",
      " 64%|██████▎   | 7/11 [04:26<03:14, 48.54s/it]"
     ]
    },
    {
     "name": "stdout",
     "output_type": "stream",
     "text": [
      "Index(['day', 'temperature', 'month', 'humidity', 'hour', 'day.1', 'pressure'], dtype='object')\n",
      "For 7 features: \n",
      " Accuracy: 0.27553795042167134 \n",
      " Precision: 0.20715999368496033 \n",
      " Recall: 0.23045868161954372 \n",
      " F1 score: 0.19202993044443006\n",
      "              precision    recall  f1-score   support\n",
      "\n",
      "        10.0       0.57      0.48      0.52      1446\n",
      "        20.0       0.24      0.08      0.12       639\n",
      "        30.0       0.14      0.23      0.17       344\n",
      "        40.0       0.15      0.08      0.10       386\n",
      "        50.0       0.03      0.35      0.06        57\n",
      "        60.0       0.19      0.08      0.11       605\n",
      "       100.0       0.22      0.43      0.29       436\n",
      "\n",
      "    accuracy                           0.28      3913\n",
      "   macro avg       0.22      0.25      0.20      3913\n",
      "weighted avg       0.33      0.28      0.29      3913\n",
      "\n"
     ]
    },
    {
     "name": "stderr",
     "output_type": "stream",
     "text": [
      "\r",
      " 73%|███████▎  | 8/11 [05:34<02:44, 54.76s/it]"
     ]
    },
    {
     "name": "stdout",
     "output_type": "stream",
     "text": [
      "Index(['day', 'temperature', 'month', 'humidity', 'hour', 'day.1', 'pressure',\n",
      "       'holiday'],\n",
      "      dtype='object')\n",
      "For 8 features: \n",
      " Accuracy: 0.2857921679037625 \n",
      " Precision: 0.22107752630373675 \n",
      " Recall: 0.23903278834405411 \n",
      " F1 score: 0.20459255764643983\n",
      "              precision    recall  f1-score   support\n",
      "\n",
      "        10.0       0.59      0.50      0.54      1403\n",
      "        20.0       0.21      0.10      0.14       622\n",
      "        30.0       0.15      0.18      0.16       351\n",
      "        40.0       0.12      0.10      0.11       366\n",
      "        50.0       0.05      0.35      0.08        75\n",
      "        60.0       0.23      0.11      0.15       658\n",
      "       100.0       0.21      0.41      0.28       432\n",
      "\n",
      "    accuracy                           0.29      3907\n",
      "   macro avg       0.22      0.25      0.21      3907\n",
      "weighted avg       0.33      0.29      0.30      3907\n",
      "\n"
     ]
    },
    {
     "name": "stderr",
     "output_type": "stream",
     "text": [
      "\r",
      " 82%|████████▏ | 9/11 [07:18<02:20, 70.32s/it]"
     ]
    },
    {
     "name": "stdout",
     "output_type": "stream",
     "text": [
      "Index(['day', 'temperature', 'month', 'humidity', 'hour', 'day.1', 'pressure',\n",
      "       'holiday', 'year'],\n",
      "      dtype='object')\n",
      "For 9 features: \n",
      " Accuracy: 0.29690335811330426 \n",
      " Precision: 0.23082129695894493 \n",
      " Recall: 0.24210331224781034 \n",
      " F1 score: 0.21447582878451166\n",
      "              precision    recall  f1-score   support\n",
      "\n",
      "        10.0       0.59      0.48      0.53      1409\n",
      "        20.0       0.23      0.09      0.13       599\n",
      "        30.0       0.10      0.17      0.13       347\n",
      "        40.0       0.18      0.19      0.19       369\n",
      "        50.0       0.05      0.31      0.08        68\n",
      "        60.0       0.30      0.17      0.22       654\n",
      "       100.0       0.26      0.42      0.32       455\n",
      "\n",
      "    accuracy                           0.30      3901\n",
      "   macro avg       0.24      0.26      0.23      3901\n",
      "weighted avg       0.36      0.30      0.32      3901\n",
      "\n"
     ]
    },
    {
     "name": "stderr",
     "output_type": "stream",
     "text": [
      "\r",
      " 91%|█████████ | 10/11 [09:06<01:21, 81.91s/it]"
     ]
    },
    {
     "name": "stdout",
     "output_type": "stream",
     "text": [
      "Index(['day', 'temperature', 'month', 'humidity', 'hour', 'day.1', 'pressure',\n",
      "       'holiday', 'year', 'report'],\n",
      "      dtype='object')\n",
      "For 10 features: \n",
      " Accuracy: 0.30426700898587933 \n",
      " Precision: 0.2410361558347991 \n",
      " Recall: 0.24847011135528124 \n",
      " F1 score: 0.22243288482809878\n",
      "              precision    recall  f1-score   support\n",
      "\n",
      "        10.0       0.61      0.51      0.55      1407\n",
      "        20.0       0.21      0.10      0.13       632\n",
      "        30.0       0.12      0.17      0.14       347\n",
      "        40.0       0.19      0.11      0.14       367\n",
      "        50.0       0.02      0.19      0.04        63\n",
      "        60.0       0.27      0.17      0.21       634\n",
      "       100.0       0.28      0.45      0.35       445\n",
      "\n",
      "    accuracy                           0.31      3895\n",
      "   macro avg       0.24      0.24      0.22      3895\n",
      "weighted avg       0.36      0.31      0.32      3895\n",
      "\n"
     ]
    },
    {
     "name": "stderr",
     "output_type": "stream",
     "text": [
      "100%|██████████| 11/11 [10:59<00:00, 60.00s/it]\n",
      "  0%|          | 0/11 [00:00<?, ?it/s]"
     ]
    },
    {
     "name": "stdout",
     "output_type": "stream",
     "text": [
      "Index(['day', 'temperature', 'month', 'humidity', 'hour', 'day.1', 'pressure',\n",
      "       'holiday', 'year', 'report', 'minute'],\n",
      "      dtype='object')\n",
      "For 11 features: \n",
      " Accuracy: 0.30385703265620984 \n",
      " Precision: 0.2407130902242617 \n",
      " Recall: 0.24692189823408406 \n",
      " F1 score: 0.22215215114998443\n",
      "              precision    recall  f1-score   support\n",
      "\n",
      "        10.0       0.62      0.50      0.55      1403\n",
      "        20.0       0.21      0.12      0.15       613\n",
      "        30.0       0.12      0.15      0.13       339\n",
      "        40.0       0.15      0.11      0.13       347\n",
      "        50.0       0.02      0.20      0.04        69\n",
      "        60.0       0.28      0.14      0.19       644\n",
      "       100.0       0.25      0.41      0.31       474\n",
      "\n",
      "    accuracy                           0.30      3889\n",
      "   macro avg       0.24      0.23      0.21      3889\n",
      "weighted avg       0.36      0.30      0.31      3889\n",
      "\n",
      "\n",
      " \n",
      "\n",
      "------------------------- Analyzing method variableThreshold -------------------------\n",
      "The variable order is: \n",
      " ['month', 'day', 'year', 'hour', 'minute', 'holiday', 'day.1', 'temperature', 'humidity', 'pressure', 'report']\n"
     ]
    },
    {
     "name": "stderr",
     "output_type": "stream",
     "text": [
      "\r",
      "  9%|▉         | 1/11 [00:13<02:12, 13.26s/it]"
     ]
    },
    {
     "name": "stdout",
     "output_type": "stream",
     "text": [
      "Index(['month'], dtype='object')\n",
      "For 1 features: \n",
      " Accuracy: 0.24773886170486736 \n",
      " Precision: 0.0725146030632954 \n",
      " Recall: 0.15811218773081456 \n",
      " F1 score: 0.09105778858292111\n",
      "              precision    recall  f1-score   support\n",
      "\n",
      "        10.0       0.40      0.52      0.45      1391\n",
      "        20.0       0.00      0.00      0.00       609\n",
      "        30.0       0.00      0.00      0.00       338\n",
      "        40.0       0.00      0.00      0.00       377\n",
      "        50.0       0.00      0.00      0.00        71\n",
      "        60.0       0.00      0.00      0.00       658\n",
      "       100.0       0.13      0.61      0.22       439\n",
      "\n",
      "    accuracy                           0.26      3883\n",
      "   macro avg       0.08      0.16      0.10      3883\n",
      "weighted avg       0.16      0.26      0.19      3883\n",
      "\n"
     ]
    },
    {
     "name": "stderr",
     "output_type": "stream",
     "text": [
      "\r",
      " 18%|█▊        | 2/11 [00:29<02:14, 14.97s/it]"
     ]
    },
    {
     "name": "stdout",
     "output_type": "stream",
     "text": [
      "Index(['month', 'day'], dtype='object')\n",
      "For 2 features: \n",
      " Accuracy: 0.23423265411400568 \n",
      " Precision: 0.12307846049653155 \n",
      " Recall: 0.1749330619850627 \n",
      " F1 score: 0.13357918796574567\n",
      "              precision    recall  f1-score   support\n",
      "\n",
      "        10.0       0.40      0.37      0.39      1370\n",
      "        20.0       0.00      0.00      0.00       630\n",
      "        30.0       0.10      0.29      0.15       312\n",
      "        40.0       0.20      0.07      0.10       392\n",
      "        50.0       0.00      0.00      0.00        70\n",
      "        60.0       0.13      0.11      0.12       640\n",
      "       100.0       0.14      0.30      0.19       463\n",
      "\n",
      "    accuracy                           0.22      3877\n",
      "   macro avg       0.14      0.16      0.14      3877\n",
      "weighted avg       0.21      0.22      0.20      3877\n",
      "\n"
     ]
    },
    {
     "name": "stderr",
     "output_type": "stream",
     "text": [
      "\r",
      " 27%|██▋       | 3/11 [01:03<03:08, 23.58s/it]"
     ]
    },
    {
     "name": "stdout",
     "output_type": "stream",
     "text": [
      "Index(['month', 'day', 'year'], dtype='object')\n",
      "For 3 features: \n",
      " Accuracy: 0.3256910359080341 \n",
      " Precision: 0.17601082199664353 \n",
      " Recall: 0.20687383060539247 \n",
      " F1 score: 0.17900970857602572\n",
      "              precision    recall  f1-score   support\n",
      "\n",
      "        10.0       0.52      0.60      0.56      1456\n",
      "        20.0       0.08      0.00      0.01       607\n",
      "        30.0       0.14      0.21      0.17       331\n",
      "        40.0       0.18      0.02      0.04       364\n",
      "        50.0       0.00      0.00      0.00        63\n",
      "        60.0       0.23      0.31      0.26       629\n",
      "       100.0       0.17      0.27      0.21       421\n",
      "\n",
      "    accuracy                           0.33      3871\n",
      "   macro avg       0.19      0.20      0.18      3871\n",
      "weighted avg       0.29      0.33      0.29      3871\n",
      "\n"
     ]
    },
    {
     "name": "stderr",
     "output_type": "stream",
     "text": [
      "\r",
      " 36%|███▋      | 4/11 [01:55<04:04, 34.99s/it]"
     ]
    },
    {
     "name": "stdout",
     "output_type": "stream",
     "text": [
      "Index(['month', 'day', 'year', 'hour'], dtype='object')\n",
      "For 4 features: \n",
      " Accuracy: 0.3024760672703752 \n",
      " Precision: 0.21496070519214075 \n",
      " Recall: 0.21607495279804156 \n",
      " F1 score: 0.19440107760351355\n",
      "              precision    recall  f1-score   support\n",
      "\n",
      "        10.0       0.52      0.51      0.51      1435\n",
      "        20.0       0.21      0.04      0.07       629\n",
      "        30.0       0.11      0.23      0.15       322\n",
      "        40.0       0.19      0.06      0.09       379\n",
      "        50.0       0.00      0.00      0.00        55\n",
      "        60.0       0.32      0.30      0.31       613\n",
      "       100.0       0.18      0.39      0.25       432\n",
      "\n",
      "    accuracy                           0.31      3865\n",
      "   macro avg       0.22      0.22      0.20      3865\n",
      "weighted avg       0.33      0.31      0.30      3865\n",
      "\n"
     ]
    },
    {
     "name": "stderr",
     "output_type": "stream",
     "text": [
      "\r",
      " 45%|████▌     | 5/11 [02:54<04:21, 43.54s/it]"
     ]
    },
    {
     "name": "stdout",
     "output_type": "stream",
     "text": [
      "Index(['month', 'day', 'year', 'hour', 'minute'], dtype='object')\n",
      "For 5 features: \n",
      " Accuracy: 0.30089660533817053 \n",
      " Precision: 0.21569643257445154 \n",
      " Recall: 0.21512968819522885 \n",
      " F1 score: 0.19468229937721748\n",
      "              precision    recall  f1-score   support\n",
      "\n",
      "        10.0       0.53      0.50      0.52      1407\n",
      "        20.0       0.20      0.06      0.09       636\n",
      "        30.0       0.14      0.30      0.19       340\n",
      "        40.0       0.18      0.02      0.03       359\n",
      "        50.0       0.00      0.00      0.00        50\n",
      "        60.0       0.27      0.24      0.26       636\n",
      "       100.0       0.19      0.39      0.26       431\n",
      "\n",
      "    accuracy                           0.30      3859\n",
      "   macro avg       0.22      0.22      0.19      3859\n",
      "weighted avg       0.32      0.30      0.29      3859\n",
      "\n"
     ]
    },
    {
     "name": "stderr",
     "output_type": "stream",
     "text": [
      "\r",
      " 55%|█████▍    | 6/11 [03:58<04:12, 50.51s/it]"
     ]
    },
    {
     "name": "stdout",
     "output_type": "stream",
     "text": [
      "Index(['month', 'day', 'year', 'hour', 'minute', 'holiday'], dtype='object')\n",
      "For 6 features: \n",
      " Accuracy: 0.3079029327796522 \n",
      " Precision: 0.222569733549336 \n",
      " Recall: 0.22125834024585445 \n",
      " F1 score: 0.20664796198622767\n",
      "              precision    recall  f1-score   support\n",
      "\n",
      "        10.0       0.55      0.52      0.53      1383\n",
      "        20.0       0.17      0.06      0.08       655\n",
      "        30.0       0.14      0.29      0.19       336\n",
      "        40.0       0.19      0.09      0.12       378\n",
      "        50.0       0.02      0.07      0.03        59\n",
      "        60.0       0.32      0.26      0.29       609\n",
      "       100.0       0.21      0.36      0.26       433\n",
      "\n",
      "    accuracy                           0.31      3853\n",
      "   macro avg       0.23      0.24      0.22      3853\n",
      "weighted avg       0.33      0.31      0.31      3853\n",
      "\n"
     ]
    },
    {
     "name": "stderr",
     "output_type": "stream",
     "text": [
      "\r",
      " 64%|██████▎   | 7/11 [05:07<03:46, 56.50s/it]"
     ]
    },
    {
     "name": "stdout",
     "output_type": "stream",
     "text": [
      "Index(['month', 'day', 'year', 'hour', 'minute', 'holiday', 'day.1'], dtype='object')\n",
      "For 7 features: \n",
      " Accuracy: 0.3074265661554458 \n",
      " Precision: 0.23696176616079376 \n",
      " Recall: 0.23212883574312232 \n",
      " F1 score: 0.21085755302873793\n",
      "              precision    recall  f1-score   support\n",
      "\n",
      "        10.0       0.59      0.52      0.55      1440\n",
      "        20.0       0.19      0.07      0.10       610\n",
      "        30.0       0.12      0.25      0.16       323\n",
      "        40.0       0.19      0.08      0.11       387\n",
      "        50.0       0.02      0.15      0.03        59\n",
      "        60.0       0.33      0.18      0.23       607\n",
      "       100.0       0.22      0.34      0.27       421\n",
      "\n",
      "    accuracy                           0.30      3847\n",
      "   macro avg       0.24      0.23      0.21      3847\n",
      "weighted avg       0.36      0.30      0.31      3847\n",
      "\n"
     ]
    },
    {
     "name": "stderr",
     "output_type": "stream",
     "text": [
      "\r",
      " 73%|███████▎  | 8/11 [06:38<03:22, 67.53s/it]"
     ]
    },
    {
     "name": "stdout",
     "output_type": "stream",
     "text": [
      "Index(['month', 'day', 'year', 'hour', 'minute', 'holiday', 'day.1',\n",
      "       'temperature'],\n",
      "      dtype='object')\n",
      "For 8 features: \n",
      " Accuracy: 0.2986826347305389 \n",
      " Precision: 0.2396065665735218 \n",
      " Recall: 0.23599081056208296 \n",
      " F1 score: 0.2161006887758531\n",
      "              precision    recall  f1-score   support\n",
      "\n",
      "        10.0       0.63      0.47      0.54      1418\n",
      "        20.0       0.18      0.11      0.13       608\n",
      "        30.0       0.10      0.18      0.13       309\n",
      "        40.0       0.20      0.09      0.12       383\n",
      "        50.0       0.02      0.17      0.04        58\n",
      "        60.0       0.33      0.25      0.29       630\n",
      "       100.0       0.21      0.35      0.26       435\n",
      "\n",
      "    accuracy                           0.30      3841\n",
      "   macro avg       0.24      0.23      0.22      3841\n",
      "weighted avg       0.37      0.30      0.32      3841\n",
      "\n"
     ]
    },
    {
     "name": "stderr",
     "output_type": "stream",
     "text": [
      "\r",
      " 82%|████████▏ | 9/11 [08:20<02:36, 78.47s/it]"
     ]
    },
    {
     "name": "stdout",
     "output_type": "stream",
     "text": [
      "Index(['month', 'day', 'year', 'hour', 'minute', 'holiday', 'day.1',\n",
      "       'temperature', 'humidity'],\n",
      "      dtype='object')\n",
      "For 9 features: \n",
      " Accuracy: 0.2987640156453716 \n",
      " Precision: 0.23601771038038344 \n",
      " Recall: 0.23631880573857464 \n",
      " F1 score: 0.21718893042244627\n",
      "              precision    recall  f1-score   support\n",
      "\n",
      "        10.0       0.61      0.48      0.53      1423\n",
      "        20.0       0.18      0.10      0.13       605\n",
      "        30.0       0.12      0.23      0.16       310\n",
      "        40.0       0.18      0.13      0.15       350\n",
      "        50.0       0.03      0.16      0.05        63\n",
      "        60.0       0.34      0.23      0.27       651\n",
      "       100.0       0.21      0.36      0.27       433\n",
      "\n",
      "    accuracy                           0.30      3835\n",
      "   macro avg       0.24      0.24      0.22      3835\n",
      "weighted avg       0.36      0.30      0.32      3835\n",
      "\n"
     ]
    },
    {
     "name": "stderr",
     "output_type": "stream",
     "text": [
      "\r",
      " 91%|█████████ | 10/11 [10:13<01:28, 88.93s/it]"
     ]
    },
    {
     "name": "stdout",
     "output_type": "stream",
     "text": [
      "Index(['month', 'day', 'year', 'hour', 'minute', 'holiday', 'day.1',\n",
      "       'temperature', 'humidity', 'pressure'],\n",
      "      dtype='object')\n",
      "For 10 features: \n",
      " Accuracy: 0.3031339775398276 \n",
      " Precision: 0.23974349047398974 \n",
      " Recall: 0.2451715737879915 \n",
      " F1 score: 0.22241949984891793\n",
      "              precision    recall  f1-score   support\n",
      "\n",
      "        10.0       0.62      0.44      0.51      1447\n",
      "        20.0       0.22      0.15      0.18       574\n",
      "        30.0       0.10      0.15      0.12       343\n",
      "        40.0       0.15      0.13      0.14       341\n",
      "        50.0       0.02      0.21      0.04        61\n",
      "        60.0       0.29      0.14      0.19       624\n",
      "       100.0       0.25      0.44      0.32       439\n",
      "\n",
      "    accuracy                           0.29      3829\n",
      "   macro avg       0.24      0.24      0.22      3829\n",
      "weighted avg       0.36      0.29      0.31      3829\n",
      "\n"
     ]
    },
    {
     "name": "stderr",
     "output_type": "stream",
     "text": [
      "100%|██████████| 11/11 [12:10<00:00, 66.43s/it]\n",
      "  0%|          | 0/11 [00:00<?, ?it/s]"
     ]
    },
    {
     "name": "stdout",
     "output_type": "stream",
     "text": [
      "Index(['month', 'day', 'year', 'hour', 'minute', 'holiday', 'day.1',\n",
      "       'temperature', 'humidity', 'pressure', 'report'],\n",
      "      dtype='object')\n",
      "For 11 features: \n",
      " Accuracy: 0.31143342924404915 \n",
      " Precision: 0.24867855410502232 \n",
      " Recall: 0.251350933764636 \n",
      " F1 score: 0.22926227309548505\n",
      "              precision    recall  f1-score   support\n",
      "\n",
      "        10.0       0.60      0.48      0.53      1435\n",
      "        20.0       0.25      0.13      0.17       565\n",
      "        30.0       0.12      0.20      0.15       324\n",
      "        40.0       0.18      0.10      0.13       371\n",
      "        50.0       0.03      0.19      0.04        57\n",
      "        60.0       0.31      0.21      0.25       618\n",
      "       100.0       0.26      0.44      0.33       453\n",
      "\n",
      "    accuracy                           0.32      3823\n",
      "   macro avg       0.25      0.25      0.23      3823\n",
      "weighted avg       0.37      0.32      0.33      3823\n",
      "\n",
      "\n",
      " \n",
      "\n",
      "------------------------- Analyzing method MRMR -------------------------\n",
      "The variable order is: \n",
      " ['temperature', 'day.1', 'hour', 'holiday', 'humidity', 'day', 'year', 'month', 'pressure', 'minute', 'report']\n"
     ]
    },
    {
     "name": "stderr",
     "output_type": "stream",
     "text": [
      "\r",
      "  9%|▉         | 1/11 [00:19<03:15, 19.59s/it]"
     ]
    },
    {
     "name": "stdout",
     "output_type": "stream",
     "text": [
      "Index(['temperature'], dtype='object')\n",
      "For 1 features: \n",
      " Accuracy: 0.2759758973015457 \n",
      " Precision: 0.17369319451442108 \n",
      " Recall: 0.17835349067476697 \n",
      " F1 score: 0.13508059311163118\n",
      "              precision    recall  f1-score   support\n",
      "\n",
      "        10.0       0.45      0.52      0.48      1358\n",
      "        20.0       0.14      0.05      0.07       596\n",
      "        30.0       0.19      0.03      0.05       312\n",
      "        40.0       0.13      0.03      0.05       358\n",
      "        50.0       0.01      0.02      0.02        57\n",
      "        60.0       0.20      0.03      0.05       652\n",
      "       100.0       0.16      0.57      0.25       484\n",
      "\n",
      "    accuracy                           0.28      3817\n",
      "   macro avg       0.18      0.18      0.14      3817\n",
      "weighted avg       0.26      0.28      0.23      3817\n",
      "\n"
     ]
    },
    {
     "name": "stderr",
     "output_type": "stream",
     "text": [
      "\r",
      " 18%|█▊        | 2/11 [00:45<03:27, 23.09s/it]"
     ]
    },
    {
     "name": "stdout",
     "output_type": "stream",
     "text": [
      "Index(['temperature', 'day.1'], dtype='object')\n",
      "For 2 features: \n",
      " Accuracy: 0.24214641826292313 \n",
      " Precision: 0.1618511421806566 \n",
      " Recall: 0.1953564111809615 \n",
      " F1 score: 0.12375978015647879\n",
      "              precision    recall  f1-score   support\n",
      "\n",
      "        10.0       0.51      0.43      0.47      1419\n",
      "        20.0       0.14      0.02      0.03       567\n",
      "        30.0       0.00      0.00      0.00       317\n",
      "        40.0       0.08      0.02      0.03       340\n",
      "        50.0       0.03      0.42      0.05        62\n",
      "        60.0       0.17      0.05      0.08       642\n",
      "       100.0       0.16      0.42      0.23       464\n",
      "\n",
      "    accuracy                           0.23      3811\n",
      "   macro avg       0.15      0.19      0.13      3811\n",
      "weighted avg       0.26      0.23      0.22      3811\n",
      "\n"
     ]
    },
    {
     "name": "stderr",
     "output_type": "stream",
     "text": [
      "\r",
      " 27%|██▋       | 3/11 [01:19<03:45, 28.13s/it]"
     ]
    },
    {
     "name": "stdout",
     "output_type": "stream",
     "text": [
      "Index(['temperature', 'day.1', 'hour'], dtype='object')\n",
      "For 3 features: \n",
      " Accuracy: 0.22293035479632062 \n",
      " Precision: 0.17365334731154622 \n",
      " Recall: 0.1933345907550106 \n",
      " F1 score: 0.14598290721479268\n",
      "              precision    recall  f1-score   support\n",
      "\n",
      "        10.0       0.50      0.37      0.43      1378\n",
      "        20.0       0.20      0.07      0.10       610\n",
      "        30.0       0.07      0.14      0.09       318\n",
      "        40.0       0.08      0.05      0.06       379\n",
      "        50.0       0.02      0.21      0.04        66\n",
      "        60.0       0.18      0.01      0.02       607\n",
      "       100.0       0.18      0.45      0.26       447\n",
      "\n",
      "    accuracy                           0.22      3805\n",
      "   macro avg       0.18      0.19      0.14      3805\n",
      "weighted avg       0.28      0.22      0.22      3805\n",
      "\n"
     ]
    },
    {
     "name": "stderr",
     "output_type": "stream",
     "text": [
      "\r",
      " 36%|███▋      | 4/11 [01:58<03:48, 32.62s/it]"
     ]
    },
    {
     "name": "stdout",
     "output_type": "stream",
     "text": [
      "Index(['temperature', 'day.1', 'hour', 'holiday'], dtype='object')\n",
      "For 4 features: \n",
      " Accuracy: 0.23901553040273757 \n",
      " Precision: 0.1874053070963474 \n",
      " Recall: 0.20522978610433948 \n",
      " F1 score: 0.16481700929741708\n",
      "              precision    recall  f1-score   support\n",
      "\n",
      "        10.0       0.51      0.36      0.42      1420\n",
      "        20.0       0.19      0.10      0.13       573\n",
      "        30.0       0.07      0.15      0.10       305\n",
      "        40.0       0.11      0.03      0.05       380\n",
      "        50.0       0.02      0.26      0.04        61\n",
      "        60.0       0.17      0.03      0.05       622\n",
      "       100.0       0.20      0.46      0.28       438\n",
      "\n",
      "    accuracy                           0.23      3799\n",
      "   macro avg       0.18      0.20      0.15      3799\n",
      "weighted avg       0.29      0.23      0.23      3799\n",
      "\n"
     ]
    },
    {
     "name": "stderr",
     "output_type": "stream",
     "text": [
      "\r",
      " 45%|████▌     | 5/11 [02:44<03:44, 37.46s/it]"
     ]
    },
    {
     "name": "stdout",
     "output_type": "stream",
     "text": [
      "Index(['temperature', 'day.1', 'hour', 'holiday', 'humidity'], dtype='object')\n",
      "For 5 features: \n",
      " Accuracy: 0.2610018455048774 \n",
      " Precision: 0.1895762635115336 \n",
      " Recall: 0.21768109162193558 \n",
      " F1 score: 0.17496662212705313\n",
      "              precision    recall  f1-score   support\n",
      "\n",
      "        10.0       0.58      0.47      0.52      1428\n",
      "        20.0       0.22      0.10      0.14       585\n",
      "        30.0       0.11      0.14      0.12       305\n",
      "        40.0       0.11      0.10      0.10       366\n",
      "        50.0       0.02      0.25      0.04        55\n",
      "        60.0       0.09      0.02      0.03       611\n",
      "       100.0       0.21      0.47      0.30       443\n",
      "\n",
      "    accuracy                           0.27      3793\n",
      "   macro avg       0.19      0.22      0.18      3793\n",
      "weighted avg       0.31      0.27      0.28      3793\n",
      "\n"
     ]
    },
    {
     "name": "stderr",
     "output_type": "stream",
     "text": [
      "\r",
      " 55%|█████▍    | 6/11 [03:35<03:30, 42.10s/it]"
     ]
    },
    {
     "name": "stdout",
     "output_type": "stream",
     "text": [
      "Index(['temperature', 'day.1', 'hour', 'holiday', 'humidity', 'day'], dtype='object')\n",
      "For 6 features: \n",
      " Accuracy: 0.263292843939794 \n",
      " Precision: 0.19033476319132922 \n",
      " Recall: 0.2160547833161355 \n",
      " F1 score: 0.17459181122298653\n",
      "              precision    recall  f1-score   support\n",
      "\n",
      "        10.0       0.53      0.48      0.50      1387\n",
      "        20.0       0.08      0.01      0.02       603\n",
      "        30.0       0.07      0.09      0.08       342\n",
      "        40.0       0.12      0.14      0.13       372\n",
      "        50.0       0.03      0.30      0.06        63\n",
      "        60.0       0.08      0.01      0.02       577\n",
      "       100.0       0.22      0.45      0.29       443\n",
      "\n",
      "    accuracy                           0.26      3787\n",
      "   macro avg       0.16      0.21      0.16      3787\n",
      "weighted avg       0.26      0.26      0.25      3787\n",
      "\n"
     ]
    },
    {
     "name": "stderr",
     "output_type": "stream",
     "text": [
      "\r",
      " 64%|██████▎   | 7/11 [04:31<03:06, 46.65s/it]"
     ]
    },
    {
     "name": "stdout",
     "output_type": "stream",
     "text": [
      "Index(['temperature', 'day.1', 'hour', 'holiday', 'humidity', 'day', 'year'], dtype='object')\n",
      "For 7 features: \n",
      " Accuracy: 0.273377413382703 \n",
      " Precision: 0.2091279608225395 \n",
      " Recall: 0.22872318944630357 \n",
      " F1 score: 0.19522277926128778\n",
      "              precision    recall  f1-score   support\n",
      "\n",
      "        10.0       0.56      0.45      0.50      1386\n",
      "        20.0       0.15      0.08      0.10       580\n",
      "        30.0       0.14      0.15      0.15       306\n",
      "        40.0       0.12      0.14      0.13       339\n",
      "        50.0       0.03      0.24      0.06        62\n",
      "        60.0       0.24      0.14      0.18       646\n",
      "       100.0       0.25      0.44      0.31       462\n",
      "\n",
      "    accuracy                           0.28      3781\n",
      "   macro avg       0.21      0.23      0.20      3781\n",
      "weighted avg       0.32      0.28      0.29      3781\n",
      "\n"
     ]
    },
    {
     "name": "stderr",
     "output_type": "stream",
     "text": [
      "\r",
      " 73%|███████▎  | 8/11 [06:10<03:09, 63.32s/it]"
     ]
    },
    {
     "name": "stdout",
     "output_type": "stream",
     "text": [
      "Index(['temperature', 'day.1', 'hour', 'holiday', 'humidity', 'day', 'year',\n",
      "       'month'],\n",
      "      dtype='object')\n",
      "For 8 features: \n",
      " Accuracy: 0.29904635761589404 \n",
      " Precision: 0.23405290362206901 \n",
      " Recall: 0.23852740552328752 \n",
      " F1 score: 0.215541743328812\n",
      "              precision    recall  f1-score   support\n",
      "\n",
      "        10.0       0.59      0.48      0.53      1398\n",
      "        20.0       0.18      0.10      0.12       597\n",
      "        30.0       0.12      0.19      0.15       331\n",
      "        40.0       0.17      0.12      0.14       362\n",
      "        50.0       0.03      0.25      0.05        48\n",
      "        60.0       0.35      0.17      0.23       608\n",
      "       100.0       0.23      0.42      0.30       431\n",
      "\n",
      "    accuracy                           0.30      3775\n",
      "   macro avg       0.24      0.25      0.22      3775\n",
      "weighted avg       0.35      0.30      0.31      3775\n",
      "\n"
     ]
    },
    {
     "name": "stderr",
     "output_type": "stream",
     "text": [
      "\r",
      " 82%|████████▏ | 9/11 [07:59<02:34, 77.47s/it]"
     ]
    },
    {
     "name": "stdout",
     "output_type": "stream",
     "text": [
      "Index(['temperature', 'day.1', 'hour', 'holiday', 'humidity', 'day', 'year',\n",
      "       'month', 'pressure'],\n",
      "      dtype='object')\n",
      "For 9 features: \n",
      " Accuracy: 0.30374900504112495 \n",
      " Precision: 0.24059498299639906 \n",
      " Recall: 0.24884690390932207 \n",
      " F1 score: 0.22333237059651007\n",
      "              precision    recall  f1-score   support\n",
      "\n",
      "        10.0       0.60      0.45      0.52      1388\n",
      "        20.0       0.26      0.13      0.18       626\n",
      "        30.0       0.12      0.20      0.15       319\n",
      "        40.0       0.15      0.16      0.15       370\n",
      "        50.0       0.04      0.23      0.07        71\n",
      "        60.0       0.25      0.17      0.20       559\n",
      "       100.0       0.25      0.40      0.31       436\n",
      "\n",
      "    accuracy                           0.30      3769\n",
      "   macro avg       0.24      0.25      0.23      3769\n",
      "weighted avg       0.36      0.30      0.31      3769\n",
      "\n"
     ]
    },
    {
     "name": "stderr",
     "output_type": "stream",
     "text": [
      "\r",
      " 91%|█████████ | 10/11 [09:53<01:28, 88.90s/it]"
     ]
    },
    {
     "name": "stdout",
     "output_type": "stream",
     "text": [
      "Index(['temperature', 'day.1', 'hour', 'holiday', 'humidity', 'day', 'year',\n",
      "       'month', 'pressure', 'minute'],\n",
      "      dtype='object')\n",
      "For 10 features: \n",
      " Accuracy: 0.3044220037204358 \n",
      " Precision: 0.23957055817587833 \n",
      " Recall: 0.24460763207861885 \n",
      " F1 score: 0.22200151078717195\n",
      "              precision    recall  f1-score   support\n",
      "\n",
      "        10.0       0.62      0.48      0.54      1450\n",
      "        20.0       0.23      0.10      0.13       584\n",
      "        30.0       0.11      0.19      0.14       336\n",
      "        40.0       0.16      0.13      0.15       321\n",
      "        50.0       0.02      0.19      0.04        47\n",
      "        60.0       0.30      0.17      0.21       595\n",
      "       100.0       0.26      0.50      0.35       430\n",
      "\n",
      "    accuracy                           0.31      3763\n",
      "   macro avg       0.24      0.25      0.22      3763\n",
      "weighted avg       0.37      0.31      0.33      3763\n",
      "\n"
     ]
    },
    {
     "name": "stderr",
     "output_type": "stream",
     "text": [
      "100%|██████████| 11/11 [11:52<00:00, 64.76s/it]"
     ]
    },
    {
     "name": "stdout",
     "output_type": "stream",
     "text": [
      "Index(['temperature', 'day.1', 'hour', 'holiday', 'humidity', 'day', 'year',\n",
      "       'month', 'pressure', 'minute', 'report'],\n",
      "      dtype='object')\n",
      "For 11 features: \n",
      " Accuracy: 0.3101623635879691 \n",
      " Precision: 0.25005684223780034 \n",
      " Recall: 0.25547522195786837 \n",
      " F1 score: 0.2299079031260152\n",
      "              precision    recall  f1-score   support\n",
      "\n",
      "        10.0       0.63      0.46      0.53      1378\n",
      "        20.0       0.26      0.15      0.19       571\n",
      "        30.0       0.13      0.19      0.16       331\n",
      "        40.0       0.11      0.05      0.07       369\n",
      "        50.0       0.03      0.25      0.05        61\n",
      "        60.0       0.26      0.18      0.22       628\n",
      "       100.0       0.24      0.45      0.31       419\n",
      "\n",
      "    accuracy                           0.30      3757\n",
      "   macro avg       0.24      0.25      0.22      3757\n",
      "weighted avg       0.36      0.30      0.32      3757\n",
      "\n",
      "\n",
      " \n",
      "\n"
     ]
    },
    {
     "name": "stderr",
     "output_type": "stream",
     "text": [
      "\n"
     ]
    }
   ],
   "source": [
    "order=[pear_corr,kend_corr,mutInf_class,mutInf_reg,mutInf_class2,varThre,mrmr]\n",
    "\n",
    "for i in range(len(order)):\n",
    "    print('------------------------- Analyzing method {} -------------------------'.format(method[i]))\n",
    "    print('The variable order is: \\n {}'.format(order[i]))\n",
    "    testModel(hp,order[i],12)\n",
    "    print('\\n \\n')"
   ]
  },
  {
   "cell_type": "markdown",
   "id": "2f2d0bbe",
   "metadata": {},
   "source": [
    "### One Hot Encoding"
   ]
  },
  {
   "cell_type": "code",
   "execution_count": 4,
   "id": "f9f1dd81",
   "metadata": {},
   "outputs": [],
   "source": [
    "hp_oHe = pd.read_csv(\"harryPotterCleanOHE.csv\")"
   ]
  },
  {
   "cell_type": "code",
   "execution_count": 5,
   "id": "7a56d8fe",
   "metadata": {},
   "outputs": [
    {
     "data": {
      "text/plain": [
       "array([ 40.,  20.,  10.,  30.,  60., 100.,  50.])"
      ]
     },
     "execution_count": 5,
     "metadata": {},
     "output_type": "execute_result"
    }
   ],
   "source": [
    "#Delete all rows which contain outliers\n",
    "hp_clean = hp_oHe[hp_oHe.Harry_Potter_and_the_Forbidden != 0] #delete rows with 0 min\n",
    "hp_clean = hp_clean[hp_clean.Harry_Potter_and_the_Forbidden != 180]\n",
    "hp_clean = hp_clean[hp_clean.Harry_Potter_and_the_Forbidden != 150]\n",
    "hp_clean = hp_clean[hp_clean.Harry_Potter_and_the_Forbidden != 145]\n",
    "hp_clean = hp_clean[hp_clean.Harry_Potter_and_the_Forbidden != 135]\n",
    "hp_clean = hp_clean[hp_clean.Harry_Potter_and_the_Forbidden != 130]\n",
    "hp_clean = hp_clean[hp_clean.Harry_Potter_and_the_Forbidden != 11]\n",
    "hp_fin_clean = hp_clean[hp_clean.Harry_Potter_and_the_Forbidden != 125]\n",
    "\n",
    "#Replace times ending in 5 and also compacting the rest to have only 6 classes\n",
    "a=hp_fin_clean.Harry_Potter_and_the_Forbidden.replace([5, 15, 25, 35, 45, 55, 65, 75, 85, 95, 105, 115, 120, 110, 150,80, 90, 50,70], \n",
    "                                                       [10,10, 20, 30, 40, 50, 60, 60, 100, 100, 100, 100, 100, 100, 100,100, 100, 60,100])\n",
    "#Create the final dataframe\n",
    "df=pd.DataFrame(a)\n",
    "hp2=hp_fin_clean.drop('Harry_Potter_and_the_Forbidden',axis=1)\n",
    "hp3=pd.concat([hp2, df], axis=1)\n",
    "hp4=hp3.drop('Unnamed: 0',axis=1)\n",
    "hp4.drop(hp4.tail(20).index,inplace=True) \n",
    "hp4.Harry_Potter_and_the_Forbidden.unique()"
   ]
  },
  {
   "cell_type": "code",
   "execution_count": 6,
   "id": "a54b7bff",
   "metadata": {},
   "outputs": [],
   "source": [
    "#Variable order in one hot encoding:\n",
    "pear_corrO = ['temperature',\t'holiday',\t'day',\t'month',\t'pressure',\t'day.1',\t'shower rain',\t'broken clouds',\t'fog',\t'overcast clouds',\t'heavy intensity rain',\t'minute',\t'haze',\t'thunderstorm with light rain',\t'scattered clouds',\t'clear sky',\t'mist',\t'light intensity drizzle',\t'few clouds',\t'thunderstorm',\t'very heavy rain',\t'moderate rain',\t'thunderstorm with rain',\t'year',\t'light rain',\t'humidity',\t'hour',\t'Pandemic']\n",
    "kend_corrO = ['temperature',\t'holiday',\t'month',\t'day',\t'pressure',\t'day.1',\t'shower rain',\t'broken clouds',\t'heavy intensity rain',\t'fog',\t'year',\t'overcast clouds',\t'minute',\t'haze',\t'thunderstorm with light rain',\t'mist',\t'light intensity drizzle',\t'scattered clouds',\t'clear sky',\t'few clouds',\t'thunderstorm',\t'very heavy rain',\t'moderate rain',\t'thunderstorm with rain',\t'light rain',\t'humidity',\t'hour',\t'Pandemic']\n",
    "mutInf_classO = ['month',\t'day',\t'year',\t'hour',\t'minute',\t'holiday',\t'day.1',\t'Pandemic',\t'temperature',\t'humidity',\t'pressure',\t'heavy intensity rain',\t'light rain',\t'broken clouds',\t'moderate rain',\t'mist',\t'overcast clouds',\t'clear sky',\t'scattered clouds',\t'thunderstorm with rain',\t'few clouds',\t'thunderstorm',\t'shower rain',\t'very heavy rain',\t'fog',\t'haze',\t'thunderstorm with light rain',\t'light intensity drizzle']\n",
    "mutInf_regO = ['month',\t'day',\t'year',\t'hour',\t'minute',\t'holiday',\t'day.1',\t'Pandemic',\t'temperature',\t'humidity',\t'pressure',\t'heavy intensity rain',\t'light rain',\t'broken clouds',\t'moderate rain',\t'mist',\t'overcast clouds',\t'clear sky',\t'scattered clouds',\t'thunderstorm with rain',\t'few clouds',\t'thunderstorm',\t'shower rain',\t'very heavy rain',\t'fog',\t'haze',\t'thunderstorm with light rain',\t'light intensity drizzle']\n",
    "mutInf_class2O = ['day',\t'temperature',\t'month',\t'humidity',\t'hour',\t'pressure','day.1',\t'year',\t'holiday',\t'shower rain',\t'light rain',\t'thunderstorm',\t'fog',\t'broken clouds',\t'Pandemic',\t'thunderstorm with rain',\t'light intensity drizzle',\t'thunderstorm with light rain',\t'heavy intensity rain',\t'mist',\t'scattered clouds',\t'very heavy rain',\t'overcast clouds',\t'moderate rain',\t'minute',\t'haze',\t'few clouds',\t'clear sky']\n",
    "varThreO = ['month',\t'day',\t'year',\t'hour',\t'minute',\t'holiday',\t'day.1',\t'temperature',\t'humidity',\t'pressure',\t'heavy intensity rain',\t'light rain',\t'broken clouds',\t'scattered clouds',\t'thunderstorm with rain',\t'few clouds',\t'thunderstorm',\t'shower rain',]\n",
    "mrmrO = ['month',\t'day',\t'year',\t'hour',\t'minute',\t'holiday',\t'day.1',\t'temperature',\t'humidity',\t'pressure',\t'heavy intensity rain',\t'light rain',\t'broken clouds',\t'scattered clouds',\t'thunderstorm with rain',\t'few clouds',\t'thunderstorm',\t'shower rain',\t'heavy intensity rain',\t'mist',\t'scattered clouds',\t'very heavy rain',\t'overcast clouds',\t'moderate rain',\t'minute',\t'haze',\t'few clouds']\n",
    "\n",
    "orderOHE=[pear_corrO,kend_corrO,mutInf_classO,mutInf_regO,mutInf_class2O,varThreO,mrmrO]\n",
    "\n",
    "method = ['Pearson_correlation','Kendalls_correlation','mutualInformation_classification',\n",
    "          'mutualInformation_reggression','mutualInformation_classification2',\n",
    "          'varianceThreshold','MRMR']"
   ]
  },
  {
   "cell_type": "code",
   "execution_count": 16,
   "id": "ccf3b383",
   "metadata": {},
   "outputs": [],
   "source": [
    "def analizeDF(df,order,n_vars):\n",
    "    for i in range(len(order)):\n",
    "        print('------------------------- Analyzing method {} -------------------------'.format(method[i]))\n",
    "        print('The variable order is: \\n {}'.format(order[i]))\n",
    "        testModel(df,order[i],n_vars)\n",
    "        print('\\n \\n')"
   ]
  },
  {
   "cell_type": "code",
   "execution_count": null,
   "id": "c00d9c6b",
   "metadata": {
    "scrolled": true
   },
   "outputs": [
    {
     "name": "stdout",
     "output_type": "stream",
     "text": [
      "------------------------- Analyzing method Pearson_correlation -------------------------\n",
      "The variable order is: \n",
      " ['temperature', 'holiday', 'day', 'month', 'pressure', 'day.1', 'shower rain', 'broken clouds', 'fog', 'overcast clouds', 'heavy intensity rain', 'minute', 'haze', 'thunderstorm with light rain', 'scattered clouds', 'clear sky', 'mist', 'light intensity drizzle', 'few clouds', 'thunderstorm', 'very heavy rain', 'moderate rain', 'thunderstorm with rain', 'year', 'light rain', 'humidity', 'hour', 'Pandemic']\n"
     ]
    },
    {
     "name": "stderr",
     "output_type": "stream",
     "text": [
      "  4%|▎         | 1/27 [00:36<15:54, 36.70s/it]"
     ]
    },
    {
     "name": "stdout",
     "output_type": "stream",
     "text": [
      "Index(['temperature'], dtype='object')\n",
      "For 1 features: \n",
      " Accuracy: 0.17324953468659895 \n",
      " Precision: 0.17324953468659895 \n",
      " Recall: 0.17324953468659895 \n",
      " F1 score: 0.17324953468659895\n",
      "              precision    recall  f1-score   support\n",
      "\n",
      "        10.0       0.44      0.55      0.49      1452\n",
      "        20.0       0.19      0.08      0.12       813\n",
      "        30.0       0.11      0.03      0.04       427\n",
      "        40.0       0.12      0.03      0.05       525\n",
      "        50.0       0.02      0.55      0.04        83\n",
      "        60.0       0.14      0.01      0.03       777\n",
      "       100.0       0.16      0.02      0.03       466\n",
      "\n",
      "    accuracy                           0.21      4543\n",
      "   macro avg       0.17      0.18      0.11      4543\n",
      "weighted avg       0.24      0.21      0.19      4543\n",
      "\n"
     ]
    },
    {
     "name": "stderr",
     "output_type": "stream",
     "text": [
      "\r",
      "  7%|▋         | 2/27 [01:18<16:29, 39.58s/it]"
     ]
    },
    {
     "name": "stdout",
     "output_type": "stream",
     "text": [
      "Index(['temperature', 'holiday'], dtype='object')\n",
      "For 2 features: \n",
      " Accuracy: 0.18821769592790738 \n",
      " Precision: 0.18821769592790738 \n",
      " Recall: 0.18821769592790738 \n",
      " F1 score: 0.18821769592790738\n",
      "              precision    recall  f1-score   support\n",
      "\n",
      "        10.0       0.45      0.49      0.47      1515\n",
      "        20.0       0.22      0.14      0.17       807\n",
      "        30.0       0.12      0.01      0.02       434\n",
      "        40.0       0.14      0.20      0.16       518\n",
      "        50.0       0.03      0.36      0.05        88\n",
      "        60.0       0.00      0.00      0.00       730\n",
      "       100.0       0.24      0.18      0.21       445\n",
      "\n",
      "    accuracy                           0.24      4537\n",
      "   macro avg       0.17      0.20      0.15      4537\n",
      "weighted avg       0.24      0.24      0.23      4537\n",
      "\n"
     ]
    },
    {
     "name": "stderr",
     "output_type": "stream",
     "text": [
      "\r",
      " 11%|█         | 3/27 [02:00<16:22, 40.94s/it]"
     ]
    },
    {
     "name": "stdout",
     "output_type": "stream",
     "text": [
      "Index(['temperature', 'holiday', 'day'], dtype='object')\n",
      "For 3 features: \n",
      " Accuracy: 0.18163921439812744 \n",
      " Precision: 0.18163921439812744 \n",
      " Recall: 0.18163921439812744 \n",
      " F1 score: 0.18163921439812744\n",
      "              precision    recall  f1-score   support\n",
      "\n",
      "        10.0       0.44      0.45      0.45      1505\n",
      "        20.0       0.19      0.07      0.11       799\n",
      "        30.0       0.06      0.02      0.03       420\n",
      "        40.0       0.15      0.06      0.09       514\n",
      "        50.0       0.02      0.41      0.04        82\n",
      "        60.0       0.14      0.06      0.09       756\n",
      "       100.0       0.20      0.19      0.20       455\n",
      "\n",
      "    accuracy                           0.21      4531\n",
      "   macro avg       0.17      0.18      0.14      4531\n",
      "weighted avg       0.25      0.21      0.21      4531\n",
      "\n"
     ]
    },
    {
     "name": "stderr",
     "output_type": "stream",
     "text": [
      "\r",
      " 15%|█▍        | 4/27 [02:44<16:07, 42.06s/it]"
     ]
    },
    {
     "name": "stdout",
     "output_type": "stream",
     "text": [
      "Index(['temperature', 'holiday', 'day', 'month'], dtype='object')\n",
      "For 4 features: \n",
      " Accuracy: 0.18974407806313578 \n",
      " Precision: 0.18974407806313578 \n",
      " Recall: 0.18974407806313578 \n",
      " F1 score: 0.18974407806313578\n",
      "              precision    recall  f1-score   support\n",
      "\n",
      "        10.0       0.46      0.45      0.45      1521\n",
      "        20.0       0.15      0.06      0.08       771\n",
      "        30.0       0.07      0.11      0.08       437\n",
      "        40.0       0.14      0.21      0.17       509\n",
      "        50.0       0.03      0.23      0.05        74\n",
      "        60.0       0.21      0.07      0.11       739\n",
      "       100.0       0.28      0.19      0.22       474\n",
      "\n",
      "    accuracy                           0.23      4525\n",
      "   macro avg       0.19      0.19      0.17      4525\n",
      "weighted avg       0.27      0.23      0.24      4525\n",
      "\n"
     ]
    },
    {
     "name": "stderr",
     "output_type": "stream",
     "text": [
      "\r",
      " 19%|█▊        | 5/27 [03:32<16:11, 44.17s/it]"
     ]
    },
    {
     "name": "stdout",
     "output_type": "stream",
     "text": [
      "Index(['temperature', 'holiday', 'day', 'month', 'pressure'], dtype='object')\n",
      "For 5 features: \n",
      " Accuracy: 0.20909645647432706 \n",
      " Precision: 0.20909645647432706 \n",
      " Recall: 0.20909645647432706 \n",
      " F1 score: 0.20909645647432706\n",
      "              precision    recall  f1-score   support\n",
      "\n",
      "        10.0       0.48      0.46      0.47      1547\n",
      "        20.0       0.17      0.07      0.10       796\n",
      "        30.0       0.10      0.11      0.11       423\n",
      "        40.0       0.14      0.28      0.18       485\n",
      "        50.0       0.04      0.17      0.07        75\n",
      "        60.0       0.30      0.08      0.13       732\n",
      "       100.0       0.22      0.35      0.27       461\n",
      "\n",
      "    accuracy                           0.26      4519\n",
      "   macro avg       0.21      0.22      0.19      4519\n",
      "weighted avg       0.29      0.26      0.26      4519\n",
      "\n"
     ]
    },
    {
     "name": "stderr",
     "output_type": "stream",
     "text": [
      "\r",
      " 22%|██▏       | 6/27 [04:22<16:06, 46.03s/it]"
     ]
    },
    {
     "name": "stdout",
     "output_type": "stream",
     "text": [
      "Index(['temperature', 'holiday', 'day', 'month', 'pressure', 'day.1'], dtype='object')\n",
      "For 6 features: \n",
      " Accuracy: 0.22085003137553716 \n",
      " Precision: 0.22085003137553716 \n",
      " Recall: 0.22085003137553716 \n",
      " F1 score: 0.22085003137553716\n",
      "              precision    recall  f1-score   support\n",
      "\n",
      "        10.0       0.47      0.47      0.47      1467\n",
      "        20.0       0.16      0.04      0.06       798\n",
      "        30.0       0.17      0.07      0.10       471\n",
      "        40.0       0.15      0.17      0.16       525\n",
      "        50.0       0.04      0.36      0.06        94\n",
      "        60.0       0.26      0.10      0.15       712\n",
      "       100.0       0.25      0.46      0.32       446\n",
      "\n",
      "    accuracy                           0.26      4513\n",
      "   macro avg       0.21      0.24      0.19      4513\n",
      "weighted avg       0.28      0.26      0.25      4513\n",
      "\n"
     ]
    },
    {
     "name": "stderr",
     "output_type": "stream",
     "text": [
      "\r",
      " 26%|██▌       | 7/27 [05:12<15:48, 47.43s/it]"
     ]
    },
    {
     "name": "stdout",
     "output_type": "stream",
     "text": [
      "Index(['temperature', 'holiday', 'day', 'month', 'pressure', 'day.1',\n",
      "       'shower rain'],\n",
      "      dtype='object')\n",
      "For 7 features: \n",
      " Accuracy: 0.2181286453550431 \n",
      " Precision: 0.2181286453550431 \n",
      " Recall: 0.2181286453550431 \n",
      " F1 score: 0.2181286453550431\n",
      "              precision    recall  f1-score   support\n",
      "\n",
      "        10.0       0.50      0.44      0.47      1492\n",
      "        20.0       0.14      0.04      0.06       757\n",
      "        30.0       0.10      0.07      0.08       406\n",
      "        40.0       0.18      0.22      0.20       527\n",
      "        50.0       0.04      0.34      0.06        97\n",
      "        60.0       0.29      0.09      0.13       733\n",
      "       100.0       0.24      0.41      0.31       495\n",
      "\n",
      "    accuracy                           0.25      4507\n",
      "   macro avg       0.21      0.23      0.19      4507\n",
      "weighted avg       0.29      0.25      0.25      4507\n",
      "\n"
     ]
    },
    {
     "name": "stderr",
     "output_type": "stream",
     "text": [
      "\r",
      " 30%|██▉       | 8/27 [06:03<15:24, 48.68s/it]"
     ]
    },
    {
     "name": "stdout",
     "output_type": "stream",
     "text": [
      "Index(['temperature', 'holiday', 'day', 'month', 'pressure', 'day.1',\n",
      "       'shower rain', 'broken clouds'],\n",
      "      dtype='object')\n",
      "For 8 features: \n",
      " Accuracy: 0.21940789739993266 \n",
      " Precision: 0.21940789739993266 \n",
      " Recall: 0.21940789739993266 \n",
      " F1 score: 0.21940789739993266\n",
      "              precision    recall  f1-score   support\n",
      "\n",
      "        10.0       0.49      0.44      0.46      1485\n",
      "        20.0       0.18      0.07      0.10       795\n",
      "        30.0       0.10      0.09      0.10       466\n",
      "        40.0       0.16      0.16      0.16       507\n",
      "        50.0       0.04      0.40      0.08        84\n",
      "        60.0       0.22      0.08      0.12       724\n",
      "       100.0       0.23      0.42      0.30       440\n",
      "\n",
      "    accuracy                           0.25      4501\n",
      "   macro avg       0.20      0.24      0.19      4501\n",
      "weighted avg       0.28      0.25      0.25      4501\n",
      "\n"
     ]
    },
    {
     "name": "stderr",
     "output_type": "stream",
     "text": [
      "\r",
      " 33%|███▎      | 9/27 [07:18<17:04, 56.89s/it]"
     ]
    },
    {
     "name": "stdout",
     "output_type": "stream",
     "text": [
      "Index(['temperature', 'holiday', 'day', 'month', 'pressure', 'day.1',\n",
      "       'shower rain', 'broken clouds', 'fog'],\n",
      "      dtype='object')\n",
      "For 9 features: \n",
      " Accuracy: 0.21660866279831417 \n",
      " Precision: 0.21660866279831417 \n",
      " Recall: 0.21660866279831417 \n",
      " F1 score: 0.21660866279831417\n",
      "              precision    recall  f1-score   support\n",
      "\n",
      "        10.0       0.50      0.43      0.46      1519\n",
      "        20.0       0.14      0.05      0.07       750\n",
      "        30.0       0.08      0.07      0.07       422\n",
      "        40.0       0.15      0.15      0.15       484\n",
      "        50.0       0.03      0.37      0.06        86\n",
      "        60.0       0.29      0.11      0.16       782\n",
      "       100.0       0.24      0.46      0.31       452\n",
      "\n",
      "    accuracy                           0.25      4495\n",
      "   macro avg       0.20      0.23      0.18      4495\n",
      "weighted avg       0.29      0.25      0.25      4495\n",
      "\n"
     ]
    },
    {
     "name": "stderr",
     "output_type": "stream",
     "text": [
      "\r",
      " 37%|███▋      | 10/27 [08:39<18:13, 64.31s/it]"
     ]
    },
    {
     "name": "stdout",
     "output_type": "stream",
     "text": [
      "Index(['temperature', 'holiday', 'day', 'month', 'pressure', 'day.1',\n",
      "       'shower rain', 'broken clouds', 'fog', 'overcast clouds'],\n",
      "      dtype='object')\n",
      "For 10 features: \n",
      " Accuracy: 0.21677610440445583 \n",
      " Precision: 0.21677610440445583 \n",
      " Recall: 0.21677610440445583 \n",
      " F1 score: 0.21677610440445583\n",
      "              precision    recall  f1-score   support\n",
      "\n",
      "        10.0       0.50      0.46      0.48      1505\n",
      "        20.0       0.15      0.07      0.10       755\n",
      "        30.0       0.14      0.07      0.09       460\n",
      "        40.0       0.16      0.12      0.14       497\n",
      "        50.0       0.03      0.40      0.06        70\n",
      "        60.0       0.23      0.11      0.15       744\n",
      "       100.0       0.24      0.45      0.31       458\n",
      "\n",
      "    accuracy                           0.26      4489\n",
      "   macro avg       0.21      0.24      0.19      4489\n",
      "weighted avg       0.29      0.26      0.26      4489\n",
      "\n"
     ]
    },
    {
     "name": "stderr",
     "output_type": "stream",
     "text": [
      "\r",
      " 41%|████      | 11/27 [09:54<18:01, 67.60s/it]"
     ]
    },
    {
     "name": "stdout",
     "output_type": "stream",
     "text": [
      "Index(['temperature', 'holiday', 'day', 'month', 'pressure', 'day.1',\n",
      "       'shower rain', 'broken clouds', 'fog', 'overcast clouds',\n",
      "       'heavy intensity rain'],\n",
      "      dtype='object')\n",
      "For 11 features: \n",
      " Accuracy: 0.21302891816901295 \n",
      " Precision: 0.21302891816901295 \n",
      " Recall: 0.21302891816901295 \n",
      " F1 score: 0.21302891816901295\n",
      "              precision    recall  f1-score   support\n",
      "\n",
      "        10.0       0.49      0.45      0.47      1482\n",
      "        20.0       0.14      0.05      0.08       785\n",
      "        30.0       0.07      0.04      0.05       439\n",
      "        40.0       0.12      0.16      0.14       521\n",
      "        50.0       0.04      0.36      0.08        97\n",
      "        60.0       0.31      0.05      0.09       735\n",
      "       100.0       0.20      0.45      0.27       424\n",
      "\n",
      "    accuracy                           0.24      4483\n",
      "   macro avg       0.20      0.22      0.17      4483\n",
      "weighted avg       0.28      0.24      0.23      4483\n",
      "\n"
     ]
    },
    {
     "name": "stderr",
     "output_type": "stream",
     "text": [
      "\r",
      " 44%|████▍     | 12/27 [11:10<17:31, 70.11s/it]"
     ]
    },
    {
     "name": "stdout",
     "output_type": "stream",
     "text": [
      "Index(['temperature', 'holiday', 'day', 'month', 'pressure', 'day.1',\n",
      "       'shower rain', 'broken clouds', 'fog', 'overcast clouds',\n",
      "       'heavy intensity rain', 'minute'],\n",
      "      dtype='object')\n",
      "For 12 features: \n",
      " Accuracy: 0.21186003701652698 \n",
      " Precision: 0.21186003701652698 \n",
      " Recall: 0.21186003701652698 \n",
      " F1 score: 0.21186003701652698\n",
      "              precision    recall  f1-score   support\n",
      "\n",
      "        10.0       0.48      0.44      0.46      1460\n",
      "        20.0       0.21      0.09      0.12       783\n",
      "        30.0       0.08      0.06      0.07       434\n",
      "        40.0       0.13      0.12      0.12       488\n",
      "        50.0       0.03      0.30      0.05        77\n",
      "        60.0       0.24      0.10      0.14       774\n",
      "       100.0       0.21      0.43      0.28       461\n",
      "\n",
      "    accuracy                           0.24      4477\n",
      "   macro avg       0.20      0.22      0.18      4477\n",
      "weighted avg       0.28      0.24      0.25      4477\n",
      "\n"
     ]
    },
    {
     "name": "stderr",
     "output_type": "stream",
     "text": [
      "\r",
      " 48%|████▊     | 13/27 [12:32<17:13, 73.82s/it]"
     ]
    },
    {
     "name": "stdout",
     "output_type": "stream",
     "text": [
      "Index(['temperature', 'holiday', 'day', 'month', 'pressure', 'day.1',\n",
      "       'shower rain', 'broken clouds', 'fog', 'overcast clouds',\n",
      "       'heavy intensity rain', 'minute', 'haze'],\n",
      "      dtype='object')\n",
      "For 13 features: \n",
      " Accuracy: 0.20978860855165857 \n",
      " Precision: 0.20978860855165857 \n",
      " Recall: 0.20978860855165857 \n",
      " F1 score: 0.20978860855165857\n",
      "              precision    recall  f1-score   support\n",
      "\n",
      "        10.0       0.49      0.44      0.47      1540\n",
      "        20.0       0.17      0.07      0.10       772\n",
      "        30.0       0.07      0.02      0.04       443\n",
      "        40.0       0.13      0.16      0.14       480\n",
      "        50.0       0.03      0.37      0.06        84\n",
      "        60.0       0.25      0.10      0.14       715\n",
      "       100.0       0.22      0.41      0.29       437\n",
      "\n",
      "    accuracy                           0.25      4471\n",
      "   macro avg       0.20      0.22      0.18      4471\n",
      "weighted avg       0.28      0.25      0.25      4471\n",
      "\n"
     ]
    },
    {
     "name": "stderr",
     "output_type": "stream",
     "text": [
      "\r",
      " 52%|█████▏    | 14/27 [14:15<17:50, 82.37s/it]"
     ]
    },
    {
     "name": "stdout",
     "output_type": "stream",
     "text": [
      "Index(['temperature', 'holiday', 'day', 'month', 'pressure', 'day.1',\n",
      "       'shower rain', 'broken clouds', 'fog', 'overcast clouds',\n",
      "       'heavy intensity rain', 'minute', 'haze',\n",
      "       'thunderstorm with light rain'],\n",
      "      dtype='object')\n",
      "For 14 features: \n",
      " Accuracy: 0.21120088210299492 \n",
      " Precision: 0.21120088210299492 \n",
      " Recall: 0.21120088210299492 \n",
      " F1 score: 0.21120088210299492\n",
      "              precision    recall  f1-score   support\n",
      "\n",
      "        10.0       0.50      0.48      0.49      1501\n",
      "        20.0       0.19      0.05      0.08       818\n",
      "        30.0       0.09      0.05      0.06       429\n",
      "        40.0       0.15      0.17      0.16       499\n",
      "        50.0       0.03      0.32      0.06        87\n",
      "        60.0       0.23      0.05      0.08       710\n",
      "       100.0       0.20      0.46      0.28       421\n",
      "\n",
      "    accuracy                           0.25      4465\n",
      "   macro avg       0.20      0.22      0.17      4465\n",
      "weighted avg       0.28      0.25      0.24      4465\n",
      "\n"
     ]
    },
    {
     "name": "stderr",
     "output_type": "stream",
     "text": [
      "\r",
      " 56%|█████▌    | 15/27 [16:00<17:53, 89.42s/it]"
     ]
    },
    {
     "name": "stdout",
     "output_type": "stream",
     "text": [
      "Index(['temperature', 'holiday', 'day', 'month', 'pressure', 'day.1',\n",
      "       'shower rain', 'broken clouds', 'fog', 'overcast clouds',\n",
      "       'heavy intensity rain', 'minute', 'haze',\n",
      "       'thunderstorm with light rain', 'scattered clouds'],\n",
      "      dtype='object')\n",
      "For 15 features: \n",
      " Accuracy: 0.211845323196286 \n",
      " Precision: 0.211845323196286 \n",
      " Recall: 0.211845323196286 \n",
      " F1 score: 0.211845323196286\n",
      "              precision    recall  f1-score   support\n",
      "\n",
      "        10.0       0.47      0.44      0.46      1488\n",
      "        20.0       0.20      0.07      0.11       744\n",
      "        30.0       0.11      0.03      0.05       445\n",
      "        40.0       0.14      0.16      0.15       490\n",
      "        50.0       0.03      0.34      0.05        82\n",
      "        60.0       0.24      0.10      0.14       754\n",
      "       100.0       0.23      0.43      0.30       456\n",
      "\n",
      "    accuracy                           0.25      4459\n",
      "   macro avg       0.20      0.23      0.18      4459\n",
      "weighted avg       0.28      0.25      0.25      4459\n",
      "\n"
     ]
    },
    {
     "name": "stderr",
     "output_type": "stream",
     "text": [
      "\r",
      " 59%|█████▉    | 16/27 [17:47<17:21, 94.64s/it]"
     ]
    },
    {
     "name": "stdout",
     "output_type": "stream",
     "text": [
      "Index(['temperature', 'holiday', 'day', 'month', 'pressure', 'day.1',\n",
      "       'shower rain', 'broken clouds', 'fog', 'overcast clouds',\n",
      "       'heavy intensity rain', 'minute', 'haze',\n",
      "       'thunderstorm with light rain', 'scattered clouds', 'clear sky'],\n",
      "      dtype='object')\n",
      "For 16 features: \n",
      " Accuracy: 0.21069069204561472 \n",
      " Precision: 0.21069069204561472 \n",
      " Recall: 0.21069069204561472 \n",
      " F1 score: 0.21069069204561472\n",
      "              precision    recall  f1-score   support\n",
      "\n",
      "        10.0       0.47      0.43      0.45      1481\n",
      "        20.0       0.15      0.05      0.08       804\n",
      "        30.0       0.05      0.04      0.04       407\n",
      "        40.0       0.12      0.14      0.13       499\n",
      "        50.0       0.03      0.33      0.06        85\n",
      "        60.0       0.23      0.08      0.11       723\n",
      "       100.0       0.24      0.44      0.32       454\n",
      "\n",
      "    accuracy                           0.24      4453\n",
      "   macro avg       0.19      0.22      0.17      4453\n",
      "weighted avg       0.26      0.24      0.23      4453\n",
      "\n"
     ]
    },
    {
     "name": "stderr",
     "output_type": "stream",
     "text": [
      "\r",
      " 63%|██████▎   | 17/27 [19:34<16:22, 98.24s/it]"
     ]
    },
    {
     "name": "stdout",
     "output_type": "stream",
     "text": [
      "Index(['temperature', 'holiday', 'day', 'month', 'pressure', 'day.1',\n",
      "       'shower rain', 'broken clouds', 'fog', 'overcast clouds',\n",
      "       'heavy intensity rain', 'minute', 'haze',\n",
      "       'thunderstorm with light rain', 'scattered clouds', 'clear sky',\n",
      "       'mist'],\n",
      "      dtype='object')\n",
      "For 17 features: \n",
      " Accuracy: 0.21391868657325114 \n",
      " Precision: 0.21391868657325114 \n",
      " Recall: 0.21391868657325114 \n",
      " F1 score: 0.21391868657325114\n",
      "              precision    recall  f1-score   support\n",
      "\n",
      "        10.0       0.48      0.44      0.46      1486\n",
      "        20.0       0.18      0.07      0.10       765\n",
      "        30.0       0.10      0.07      0.08       446\n",
      "        40.0       0.14      0.16      0.15       485\n",
      "        50.0       0.03      0.24      0.05        82\n",
      "        60.0       0.29      0.07      0.11       702\n",
      "       100.0       0.22      0.46      0.30       481\n",
      "\n",
      "    accuracy                           0.25      4447\n",
      "   macro avg       0.21      0.22      0.18      4447\n",
      "weighted avg       0.29      0.25      0.25      4447\n",
      "\n"
     ]
    },
    {
     "name": "stderr",
     "output_type": "stream",
     "text": [
      "\r",
      " 67%|██████▋   | 18/27 [21:23<15:13, 101.48s/it]"
     ]
    },
    {
     "name": "stdout",
     "output_type": "stream",
     "text": [
      "Index(['temperature', 'holiday', 'day', 'month', 'pressure', 'day.1',\n",
      "       'shower rain', 'broken clouds', 'fog', 'overcast clouds',\n",
      "       'heavy intensity rain', 'minute', 'haze',\n",
      "       'thunderstorm with light rain', 'scattered clouds', 'clear sky', 'mist',\n",
      "       'light intensity drizzle'],\n",
      "      dtype='object')\n",
      "For 18 features: \n",
      " Accuracy: 0.2127806534192356 \n",
      " Precision: 0.2127806534192356 \n",
      " Recall: 0.2127806534192356 \n",
      " F1 score: 0.2127806534192356\n",
      "              precision    recall  f1-score   support\n",
      "\n",
      "        10.0       0.52      0.46      0.49      1529\n",
      "        20.0       0.21      0.07      0.11       769\n",
      "        30.0       0.08      0.07      0.08       423\n",
      "        40.0       0.14      0.12      0.13       490\n",
      "        50.0       0.03      0.36      0.06        81\n",
      "        60.0       0.23      0.08      0.12       720\n",
      "       100.0       0.22      0.46      0.30       429\n",
      "\n",
      "    accuracy                           0.26      4441\n",
      "   macro avg       0.20      0.23      0.18      4441\n",
      "weighted avg       0.30      0.26      0.26      4441\n",
      "\n"
     ]
    },
    {
     "name": "stderr",
     "output_type": "stream",
     "text": [
      "\r",
      " 70%|███████   | 19/27 [23:13<13:51, 104.00s/it]"
     ]
    },
    {
     "name": "stdout",
     "output_type": "stream",
     "text": [
      "Index(['temperature', 'holiday', 'day', 'month', 'pressure', 'day.1',\n",
      "       'shower rain', 'broken clouds', 'fog', 'overcast clouds',\n",
      "       'heavy intensity rain', 'minute', 'haze',\n",
      "       'thunderstorm with light rain', 'scattered clouds', 'clear sky', 'mist',\n",
      "       'light intensity drizzle', 'few clouds'],\n",
      "      dtype='object')\n",
      "For 19 features: \n",
      " Accuracy: 0.21180343799301407 \n",
      " Precision: 0.21180343799301407 \n",
      " Recall: 0.21180343799301407 \n",
      " F1 score: 0.21180343799301407\n",
      "              precision    recall  f1-score   support\n",
      "\n",
      "        10.0       0.47      0.44      0.46      1460\n",
      "        20.0       0.18      0.07      0.10       795\n",
      "        30.0       0.09      0.06      0.07       447\n",
      "        40.0       0.15      0.17      0.16       492\n",
      "        50.0       0.03      0.32      0.05        72\n",
      "        60.0       0.24      0.07      0.11       706\n",
      "       100.0       0.26      0.47      0.33       463\n",
      "\n",
      "    accuracy                           0.25      4435\n",
      "   macro avg       0.20      0.23      0.18      4435\n",
      "weighted avg       0.28      0.25      0.25      4435\n",
      "\n"
     ]
    },
    {
     "name": "stderr",
     "output_type": "stream",
     "text": [
      "\r",
      " 74%|███████▍  | 20/27 [25:05<12:26, 106.61s/it]"
     ]
    },
    {
     "name": "stdout",
     "output_type": "stream",
     "text": [
      "Index(['temperature', 'holiday', 'day', 'month', 'pressure', 'day.1',\n",
      "       'shower rain', 'broken clouds', 'fog', 'overcast clouds',\n",
      "       'heavy intensity rain', 'minute', 'haze',\n",
      "       'thunderstorm with light rain', 'scattered clouds', 'clear sky', 'mist',\n",
      "       'light intensity drizzle', 'few clouds', 'thunderstorm'],\n",
      "      dtype='object')\n",
      "For 20 features: \n",
      " Accuracy: 0.21302043182928587 \n",
      " Precision: 0.21302043182928587 \n",
      " Recall: 0.21302043182928587 \n",
      " F1 score: 0.21302043182928587\n",
      "              precision    recall  f1-score   support\n",
      "\n",
      "        10.0       0.52      0.46      0.49      1500\n",
      "        20.0       0.17      0.07      0.10       707\n",
      "        30.0       0.08      0.05      0.07       430\n",
      "        40.0       0.12      0.15      0.13       502\n",
      "        50.0       0.03      0.31      0.06        90\n",
      "        60.0       0.28      0.08      0.13       745\n",
      "       100.0       0.22      0.41      0.29       455\n",
      "\n",
      "    accuracy                           0.25      4429\n",
      "   macro avg       0.20      0.22      0.18      4429\n",
      "weighted avg       0.29      0.25      0.25      4429\n",
      "\n"
     ]
    },
    {
     "name": "stderr",
     "output_type": "stream",
     "text": [
      "\r",
      " 78%|███████▊  | 21/27 [26:58<10:50, 108.48s/it]"
     ]
    },
    {
     "name": "stdout",
     "output_type": "stream",
     "text": [
      "Index(['temperature', 'holiday', 'day', 'month', 'pressure', 'day.1',\n",
      "       'shower rain', 'broken clouds', 'fog', 'overcast clouds',\n",
      "       'heavy intensity rain', 'minute', 'haze',\n",
      "       'thunderstorm with light rain', 'scattered clouds', 'clear sky', 'mist',\n",
      "       'light intensity drizzle', 'few clouds', 'thunderstorm',\n",
      "       'very heavy rain'],\n",
      "      dtype='object')\n",
      "For 21 features: \n",
      " Accuracy: 0.21435385108643895 \n",
      " Precision: 0.21435385108643895 \n",
      " Recall: 0.21435385108643895 \n",
      " F1 score: 0.21435385108643895\n",
      "              precision    recall  f1-score   support\n",
      "\n",
      "        10.0       0.49      0.45      0.47      1448\n",
      "        20.0       0.13      0.06      0.08       757\n",
      "        30.0       0.08      0.06      0.07       457\n",
      "        40.0       0.14      0.14      0.14       477\n",
      "        50.0       0.03      0.29      0.05        79\n",
      "        60.0       0.27      0.08      0.13       751\n",
      "       100.0       0.23      0.42      0.30       454\n",
      "\n",
      "    accuracy                           0.24      4423\n",
      "   macro avg       0.20      0.22      0.18      4423\n",
      "weighted avg       0.28      0.24      0.24      4423\n",
      "\n"
     ]
    },
    {
     "name": "stderr",
     "output_type": "stream",
     "text": [
      "\r",
      " 81%|████████▏ | 22/27 [28:50<09:07, 109.57s/it]"
     ]
    },
    {
     "name": "stdout",
     "output_type": "stream",
     "text": [
      "Index(['temperature', 'holiday', 'day', 'month', 'pressure', 'day.1',\n",
      "       'shower rain', 'broken clouds', 'fog', 'overcast clouds',\n",
      "       'heavy intensity rain', 'minute', 'haze',\n",
      "       'thunderstorm with light rain', 'scattered clouds', 'clear sky', 'mist',\n",
      "       'light intensity drizzle', 'few clouds', 'thunderstorm',\n",
      "       'very heavy rain', 'moderate rain'],\n",
      "      dtype='object')\n",
      "For 22 features: \n",
      " Accuracy: 0.21262590359985753 \n",
      " Precision: 0.21262590359985753 \n",
      " Recall: 0.21262590359985753 \n",
      " F1 score: 0.21262590359985753\n",
      "              precision    recall  f1-score   support\n",
      "\n",
      "        10.0       0.51      0.44      0.47      1504\n",
      "        20.0       0.19      0.07      0.11       756\n",
      "        30.0       0.11      0.09      0.10       435\n",
      "        40.0       0.13      0.17      0.14       450\n",
      "        50.0       0.03      0.30      0.06        79\n",
      "        60.0       0.30      0.09      0.13       738\n",
      "       100.0       0.23      0.46      0.31       455\n",
      "\n",
      "    accuracy                           0.26      4417\n",
      "   macro avg       0.21      0.23      0.19      4417\n",
      "weighted avg       0.30      0.26      0.26      4417\n",
      "\n"
     ]
    },
    {
     "name": "stderr",
     "output_type": "stream",
     "text": [
      "\r",
      " 85%|████████▌ | 23/27 [30:44<07:22, 110.75s/it]"
     ]
    },
    {
     "name": "stdout",
     "output_type": "stream",
     "text": [
      "Index(['temperature', 'holiday', 'day', 'month', 'pressure', 'day.1',\n",
      "       'shower rain', 'broken clouds', 'fog', 'overcast clouds',\n",
      "       'heavy intensity rain', 'minute', 'haze',\n",
      "       'thunderstorm with light rain', 'scattered clouds', 'clear sky', 'mist',\n",
      "       'light intensity drizzle', 'few clouds', 'thunderstorm',\n",
      "       'very heavy rain', 'moderate rain', 'thunderstorm with rain'],\n",
      "      dtype='object')\n",
      "For 23 features: \n",
      " Accuracy: 0.21287568851901587 \n",
      " Precision: 0.21287568851901587 \n",
      " Recall: 0.21287568851901587 \n",
      " F1 score: 0.21287568851901587\n",
      "              precision    recall  f1-score   support\n",
      "\n",
      "        10.0       0.51      0.44      0.47      1488\n",
      "        20.0       0.21      0.11      0.15       748\n",
      "        30.0       0.08      0.08      0.08       399\n",
      "        40.0       0.14      0.16      0.14       494\n",
      "        50.0       0.03      0.29      0.05        75\n",
      "        60.0       0.31      0.09      0.13       739\n",
      "       100.0       0.20      0.33      0.25       468\n",
      "\n",
      "    accuracy                           0.25      4411\n",
      "   macro avg       0.21      0.21      0.18      4411\n",
      "weighted avg       0.30      0.25      0.26      4411\n",
      "\n"
     ]
    },
    {
     "name": "stderr",
     "output_type": "stream",
     "text": [
      "\r",
      " 89%|████████▉ | 24/27 [32:40<05:37, 112.34s/it]"
     ]
    },
    {
     "name": "stdout",
     "output_type": "stream",
     "text": [
      "Index(['temperature', 'holiday', 'day', 'month', 'pressure', 'day.1',\n",
      "       'shower rain', 'broken clouds', 'fog', 'overcast clouds',\n",
      "       'heavy intensity rain', 'minute', 'haze',\n",
      "       'thunderstorm with light rain', 'scattered clouds', 'clear sky', 'mist',\n",
      "       'light intensity drizzle', 'few clouds', 'thunderstorm',\n",
      "       'very heavy rain', 'moderate rain', 'thunderstorm with rain', 'year'],\n",
      "      dtype='object')\n",
      "For 24 features: \n",
      " Accuracy: 0.24229312367051417 \n",
      " Precision: 0.24229312367051417 \n",
      " Recall: 0.24229312367051417 \n",
      " F1 score: 0.24229312367051417\n",
      "              precision    recall  f1-score   support\n",
      "\n",
      "        10.0       0.59      0.54      0.57      1562\n",
      "        20.0       0.13      0.05      0.07       719\n",
      "        30.0       0.11      0.13      0.11       412\n",
      "        40.0       0.21      0.21      0.21       463\n",
      "        50.0       0.03      0.27      0.05        74\n",
      "        60.0       0.33      0.07      0.11       703\n",
      "       100.0       0.22      0.43      0.29       472\n",
      "\n",
      "    accuracy                           0.29      4405\n",
      "   macro avg       0.23      0.24      0.20      4405\n",
      "weighted avg       0.34      0.29      0.29      4405\n",
      "\n"
     ]
    },
    {
     "name": "stderr",
     "output_type": "stream",
     "text": [
      "\r",
      " 93%|█████████▎| 25/27 [34:56<03:59, 119.58s/it]"
     ]
    },
    {
     "name": "stdout",
     "output_type": "stream",
     "text": [
      "Index(['temperature', 'holiday', 'day', 'month', 'pressure', 'day.1',\n",
      "       'shower rain', 'broken clouds', 'fog', 'overcast clouds',\n",
      "       'heavy intensity rain', 'minute', 'haze',\n",
      "       'thunderstorm with light rain', 'scattered clouds', 'clear sky', 'mist',\n",
      "       'light intensity drizzle', 'few clouds', 'thunderstorm',\n",
      "       'very heavy rain', 'moderate rain', 'thunderstorm with rain', 'year',\n",
      "       'light rain'],\n",
      "      dtype='object')\n",
      "For 25 features: \n",
      " Accuracy: 0.24541188238384315 \n",
      " Precision: 0.24541188238384315 \n",
      " Recall: 0.24541188238384315 \n",
      " F1 score: 0.24541188238384315\n",
      "              precision    recall  f1-score   support\n",
      "\n",
      "        10.0       0.56      0.54      0.55      1487\n",
      "        20.0       0.18      0.07      0.10       775\n",
      "        30.0       0.07      0.05      0.06       420\n",
      "        40.0       0.18      0.23      0.20       479\n",
      "        50.0       0.03      0.27      0.05        73\n",
      "        60.0       0.37      0.08      0.13       710\n",
      "       100.0       0.22      0.44      0.29       455\n",
      "\n",
      "    accuracy                           0.29      4399\n",
      "   macro avg       0.23      0.24      0.20      4399\n",
      "weighted avg       0.33      0.29      0.28      4399\n",
      "\n"
     ]
    },
    {
     "name": "stderr",
     "output_type": "stream",
     "text": [
      "\r",
      " 96%|█████████▋| 26/27 [37:15<02:05, 125.25s/it]"
     ]
    },
    {
     "name": "stdout",
     "output_type": "stream",
     "text": [
      "Index(['temperature', 'holiday', 'day', 'month', 'pressure', 'day.1',\n",
      "       'shower rain', 'broken clouds', 'fog', 'overcast clouds',\n",
      "       'heavy intensity rain', 'minute', 'haze',\n",
      "       'thunderstorm with light rain', 'scattered clouds', 'clear sky', 'mist',\n",
      "       'light intensity drizzle', 'few clouds', 'thunderstorm',\n",
      "       'very heavy rain', 'moderate rain', 'thunderstorm with rain', 'year',\n",
      "       'light rain', 'humidity'],\n",
      "      dtype='object')\n",
      "For 26 features: \n",
      " Accuracy: 0.2431674249833019 \n",
      " Precision: 0.2431674249833019 \n",
      " Recall: 0.2431674249833019 \n",
      " F1 score: 0.2431674249833019\n",
      "              precision    recall  f1-score   support\n",
      "\n",
      "        10.0       0.57      0.59      0.58      1468\n",
      "        20.0       0.19      0.07      0.10       734\n",
      "        30.0       0.11      0.08      0.09       419\n",
      "        40.0       0.19      0.24      0.21       460\n",
      "        50.0       0.04      0.31      0.07        80\n",
      "        60.0       0.31      0.06      0.11       726\n",
      "       100.0       0.23      0.44      0.30       506\n",
      "\n",
      "    accuracy                           0.31      4393\n",
      "   macro avg       0.23      0.26      0.21      4393\n",
      "weighted avg       0.33      0.31      0.29      4393\n",
      "\n"
     ]
    },
    {
     "name": "stderr",
     "output_type": "stream",
     "text": [
      "100%|██████████| 27/27 [39:20<00:00, 87.43s/it] \n"
     ]
    },
    {
     "name": "stdout",
     "output_type": "stream",
     "text": [
      "Index(['temperature', 'holiday', 'day', 'month', 'pressure', 'day.1',\n",
      "       'shower rain', 'broken clouds', 'fog', 'overcast clouds',\n",
      "       'heavy intensity rain', 'minute', 'haze',\n",
      "       'thunderstorm with light rain', 'scattered clouds', 'clear sky', 'mist',\n",
      "       'light intensity drizzle', 'few clouds', 'thunderstorm',\n",
      "       'very heavy rain', 'moderate rain', 'thunderstorm with rain', 'year',\n",
      "       'light rain', 'humidity', 'hour'],\n",
      "      dtype='object')\n",
      "For 27 features: \n",
      " Accuracy: 0.2491818710161557 \n",
      " Precision: 0.2491818710161557 \n",
      " Recall: 0.2491818710161557 \n",
      " F1 score: 0.2491818710161557\n",
      "              precision    recall  f1-score   support\n",
      "\n",
      "        10.0       0.58      0.52      0.55      1491\n",
      "        20.0       0.21      0.11      0.14       717\n",
      "        30.0       0.14      0.17      0.15       441\n",
      "        40.0       0.22      0.15      0.18       480\n",
      "        50.0       0.03      0.31      0.06        75\n",
      "        60.0       0.28      0.11      0.16       748\n",
      "       100.0       0.19      0.40      0.26       435\n",
      "\n",
      "    accuracy                           0.29      4387\n",
      "   macro avg       0.24      0.25      0.21      4387\n",
      "weighted avg       0.34      0.29      0.30      4387\n",
      "\n",
      "\n",
      " \n",
      "\n",
      "------------------------- Analyzing method Kendalls_correlation -------------------------\n",
      "The variable order is: \n",
      " ['temperature', 'holiday', 'month', 'day', 'pressure', 'day.1', 'shower rain', 'broken clouds', 'heavy intensity rain', 'fog', 'year', 'overcast clouds', 'minute', 'haze', 'thunderstorm with light rain', 'mist', 'light intensity drizzle', 'scattered clouds', 'clear sky', 'few clouds', 'thunderstorm', 'very heavy rain', 'moderate rain', 'thunderstorm with rain', 'light rain', 'humidity', 'hour', 'Pandemic']\n"
     ]
    },
    {
     "name": "stderr",
     "output_type": "stream",
     "text": [
      "  4%|▎         | 1/27 [00:37<16:06, 37.18s/it]"
     ]
    },
    {
     "name": "stdout",
     "output_type": "stream",
     "text": [
      "Index(['temperature'], dtype='object')\n",
      "For 1 features: \n",
      " Accuracy: 0.1742127089754457 \n",
      " Precision: 0.1742127089754457 \n",
      " Recall: 0.1742127089754457 \n",
      " F1 score: 0.1742127089754457\n",
      "              precision    recall  f1-score   support\n",
      "\n",
      "        10.0       0.45      0.55      0.49      1482\n",
      "        20.0       0.16      0.07      0.10       759\n",
      "        30.0       0.06      0.01      0.01       423\n",
      "        40.0       0.11      0.02      0.03       460\n",
      "        50.0       0.02      0.52      0.03        69\n",
      "        60.0       0.32      0.01      0.02       739\n",
      "       100.0       0.07      0.01      0.01       449\n",
      "\n",
      "    accuracy                           0.21      4381\n",
      "   macro avg       0.17      0.17      0.10      4381\n",
      "weighted avg       0.26      0.21      0.19      4381\n",
      "\n"
     ]
    },
    {
     "name": "stderr",
     "output_type": "stream",
     "text": [
      "\r",
      "  7%|▋         | 2/27 [01:17<16:15, 39.03s/it]"
     ]
    },
    {
     "name": "stdout",
     "output_type": "stream",
     "text": [
      "Index(['temperature', 'holiday'], dtype='object')\n",
      "For 2 features: \n",
      " Accuracy: 0.18646868106145448 \n",
      " Precision: 0.18646868106145448 \n",
      " Recall: 0.18646868106145448 \n",
      " F1 score: 0.18646868106145448\n",
      "              precision    recall  f1-score   support\n",
      "\n",
      "        10.0       0.45      0.47      0.46      1514\n",
      "        20.0       0.19      0.13      0.15       737\n",
      "        30.0       0.00      0.00      0.00       413\n",
      "        40.0       0.12      0.11      0.12       444\n",
      "        50.0       0.02      0.41      0.04        78\n",
      "        60.0       0.00      0.00      0.00       729\n",
      "       100.0       0.27      0.21      0.24       460\n",
      "\n",
      "    accuracy                           0.23      4375\n",
      "   macro avg       0.15      0.19      0.14      4375\n",
      "weighted avg       0.23      0.23      0.22      4375\n",
      "\n"
     ]
    },
    {
     "name": "stderr",
     "output_type": "stream",
     "text": [
      "\r",
      " 11%|█         | 3/27 [01:59<16:06, 40.29s/it]"
     ]
    },
    {
     "name": "stdout",
     "output_type": "stream",
     "text": [
      "Index(['temperature', 'holiday', 'month'], dtype='object')\n",
      "For 3 features: \n",
      " Accuracy: 0.1898922488215416 \n",
      " Precision: 0.1898922488215416 \n",
      " Recall: 0.1898922488215416 \n",
      " F1 score: 0.1898922488215416\n",
      "              precision    recall  f1-score   support\n",
      "\n",
      "        10.0       0.46      0.44      0.45      1498\n",
      "        20.0       0.22      0.16      0.19       756\n",
      "        30.0       0.08      0.12      0.10       396\n",
      "        40.0       0.11      0.29      0.16       442\n",
      "        50.0       0.00      0.00      0.00        81\n",
      "        60.0       0.18      0.08      0.11       729\n",
      "       100.0       0.28      0.21      0.24       467\n",
      "\n",
      "    accuracy                           0.25      4369\n",
      "   macro avg       0.19      0.18      0.18      4369\n",
      "weighted avg       0.27      0.25      0.25      4369\n",
      "\n"
     ]
    },
    {
     "name": "stderr",
     "output_type": "stream",
     "text": [
      "\r",
      " 15%|█▍        | 4/27 [02:43<15:58, 41.68s/it]"
     ]
    },
    {
     "name": "stdout",
     "output_type": "stream",
     "text": [
      "Index(['temperature', 'holiday', 'month', 'day'], dtype='object')\n",
      "For 4 features: \n",
      " Accuracy: 0.1856470277254008 \n",
      " Precision: 0.1856470277254008 \n",
      " Recall: 0.1856470277254008 \n",
      " F1 score: 0.1856470277254008\n",
      "              precision    recall  f1-score   support\n",
      "\n",
      "        10.0       0.47      0.42      0.45      1500\n",
      "        20.0       0.13      0.04      0.06       730\n",
      "        30.0       0.08      0.24      0.12       419\n",
      "        40.0       0.08      0.06      0.07       461\n",
      "        50.0       0.02      0.23      0.04        74\n",
      "        60.0       0.26      0.02      0.03       727\n",
      "       100.0       0.23      0.19      0.21       452\n",
      "\n",
      "    accuracy                           0.21      4363\n",
      "   macro avg       0.18      0.17      0.14      4363\n",
      "weighted avg       0.27      0.21      0.21      4363\n",
      "\n"
     ]
    },
    {
     "name": "stderr",
     "output_type": "stream",
     "text": [
      "\r",
      " 19%|█▊        | 5/27 [03:30<16:03, 43.79s/it]"
     ]
    },
    {
     "name": "stdout",
     "output_type": "stream",
     "text": [
      "Index(['temperature', 'holiday', 'month', 'day', 'pressure'], dtype='object')\n",
      "For 5 features: \n",
      " Accuracy: 0.20657453542772536 \n",
      " Precision: 0.20657453542772536 \n",
      " Recall: 0.20657453542772536 \n",
      " F1 score: 0.20657453542772536\n",
      "              precision    recall  f1-score   support\n",
      "\n",
      "        10.0       0.46      0.42      0.44      1472\n",
      "        20.0       0.19      0.07      0.10       729\n",
      "        30.0       0.09      0.17      0.12       443\n",
      "        40.0       0.12      0.12      0.12       448\n",
      "        50.0       0.01      0.15      0.03        73\n",
      "        60.0       0.47      0.06      0.11       753\n",
      "       100.0       0.23      0.32      0.27       439\n",
      "\n",
      "    accuracy                           0.23      4357\n",
      "   macro avg       0.23      0.19      0.17      4357\n",
      "weighted avg       0.31      0.23      0.24      4357\n",
      "\n"
     ]
    },
    {
     "name": "stderr",
     "output_type": "stream",
     "text": [
      "\r",
      " 22%|██▏       | 6/27 [04:20<15:59, 45.69s/it]"
     ]
    },
    {
     "name": "stdout",
     "output_type": "stream",
     "text": [
      "Index(['temperature', 'holiday', 'month', 'day', 'pressure', 'day.1'], dtype='object')\n",
      "For 6 features: \n",
      " Accuracy: 0.21441201918975833 \n",
      " Precision: 0.21441201918975833 \n",
      " Recall: 0.21441201918975833 \n",
      " F1 score: 0.21441201918975833\n",
      "              precision    recall  f1-score   support\n",
      "\n",
      "        10.0       0.49      0.43      0.46      1474\n",
      "        20.0       0.14      0.01      0.02       759\n",
      "        30.0       0.08      0.03      0.04       432\n",
      "        40.0       0.09      0.10      0.10       443\n",
      "        50.0       0.02      0.29      0.04        68\n",
      "        60.0       0.31      0.15      0.20       727\n",
      "       100.0       0.23      0.52      0.32       448\n",
      "\n",
      "    accuracy                           0.24      4351\n",
      "   macro avg       0.19      0.22      0.17      4351\n",
      "weighted avg       0.28      0.24      0.24      4351\n",
      "\n"
     ]
    },
    {
     "name": "stderr",
     "output_type": "stream",
     "text": [
      "\r",
      " 26%|██▌       | 7/27 [05:09<15:37, 46.88s/it]"
     ]
    },
    {
     "name": "stdout",
     "output_type": "stream",
     "text": [
      "Index(['temperature', 'holiday', 'month', 'day', 'pressure', 'day.1',\n",
      "       'shower rain'],\n",
      "      dtype='object')\n",
      "For 7 features: \n",
      " Accuracy: 0.2142957865730267 \n",
      " Precision: 0.2142957865730267 \n",
      " Recall: 0.2142957865730267 \n",
      " F1 score: 0.2142957865730267\n",
      "              precision    recall  f1-score   support\n",
      "\n",
      "        10.0       0.50      0.44      0.47      1444\n",
      "        20.0       0.18      0.06      0.09       780\n",
      "        30.0       0.07      0.04      0.06       400\n",
      "        40.0       0.13      0.13      0.13       458\n",
      "        50.0       0.02      0.27      0.04        79\n",
      "        60.0       0.29      0.11      0.16       719\n",
      "       100.0       0.22      0.40      0.28       465\n",
      "\n",
      "    accuracy                           0.24      4345\n",
      "   macro avg       0.20      0.21      0.18      4345\n",
      "weighted avg       0.29      0.24      0.25      4345\n",
      "\n"
     ]
    },
    {
     "name": "stderr",
     "output_type": "stream",
     "text": [
      "\r",
      " 30%|██▉       | 8/27 [05:59<15:11, 47.97s/it]"
     ]
    },
    {
     "name": "stdout",
     "output_type": "stream",
     "text": [
      "Index(['temperature', 'holiday', 'month', 'day', 'pressure', 'day.1',\n",
      "       'shower rain', 'broken clouds'],\n",
      "      dtype='object')\n",
      "For 8 features: \n",
      " Accuracy: 0.21403517015134685 \n",
      " Precision: 0.21403517015134685 \n",
      " Recall: 0.21403517015134685 \n",
      " F1 score: 0.21403517015134685\n",
      "              precision    recall  f1-score   support\n",
      "\n",
      "        10.0       0.49      0.46      0.47      1437\n",
      "        20.0       0.17      0.07      0.10       707\n",
      "        30.0       0.10      0.16      0.12       474\n",
      "        40.0       0.16      0.10      0.12       513\n",
      "        50.0       0.02      0.19      0.03        64\n",
      "        60.0       0.28      0.06      0.10       674\n",
      "       100.0       0.23      0.40      0.29       470\n",
      "\n",
      "    accuracy                           0.25      4339\n",
      "   macro avg       0.21      0.20      0.18      4339\n",
      "weighted avg       0.29      0.25      0.25      4339\n",
      "\n"
     ]
    },
    {
     "name": "stderr",
     "output_type": "stream",
     "text": [
      "\r",
      " 33%|███▎      | 9/27 [06:52<14:49, 49.42s/it]"
     ]
    },
    {
     "name": "stdout",
     "output_type": "stream",
     "text": [
      "Index(['temperature', 'holiday', 'month', 'day', 'pressure', 'day.1',\n",
      "       'shower rain', 'broken clouds', 'heavy intensity rain'],\n",
      "      dtype='object')\n",
      "For 9 features: \n",
      " Accuracy: 0.20795803941482446 \n",
      " Precision: 0.20795803941482446 \n",
      " Recall: 0.20795803941482446 \n",
      " F1 score: 0.20795803941482446\n",
      "              precision    recall  f1-score   support\n",
      "\n",
      "        10.0       0.51      0.45      0.48      1509\n",
      "        20.0       0.15      0.08      0.10       743\n",
      "        30.0       0.08      0.07      0.07       400\n",
      "        40.0       0.12      0.12      0.12       479\n",
      "        50.0       0.02      0.26      0.04        66\n",
      "        60.0       0.26      0.04      0.07       689\n",
      "       100.0       0.22      0.45      0.29       447\n",
      "\n",
      "    accuracy                           0.25      4333\n",
      "   macro avg       0.19      0.21      0.17      4333\n",
      "weighted avg       0.29      0.25      0.25      4333\n",
      "\n"
     ]
    },
    {
     "name": "stderr",
     "output_type": "stream",
     "text": [
      "\r",
      " 37%|███▋      | 10/27 [08:08<16:20, 57.68s/it]"
     ]
    },
    {
     "name": "stdout",
     "output_type": "stream",
     "text": [
      "Index(['temperature', 'holiday', 'month', 'day', 'pressure', 'day.1',\n",
      "       'shower rain', 'broken clouds', 'heavy intensity rain', 'fog'],\n",
      "      dtype='object')\n",
      "For 10 features: \n",
      " Accuracy: 0.20608270969209902 \n",
      " Precision: 0.20608270969209902 \n",
      " Recall: 0.20608270969209902 \n",
      " F1 score: 0.20608270969209902\n",
      "              precision    recall  f1-score   support\n",
      "\n",
      "        10.0       0.51      0.45      0.48      1502\n",
      "        20.0       0.23      0.07      0.11       737\n",
      "        30.0       0.10      0.08      0.08       397\n",
      "        40.0       0.15      0.10      0.12       453\n",
      "        50.0       0.03      0.31      0.06        89\n",
      "        60.0       0.21      0.13      0.16       674\n",
      "       100.0       0.23      0.44      0.30       475\n",
      "\n",
      "    accuracy                           0.26      4327\n",
      "   macro avg       0.21      0.23      0.19      4327\n",
      "weighted avg       0.30      0.26      0.27      4327\n",
      "\n"
     ]
    },
    {
     "name": "stderr",
     "output_type": "stream",
     "text": [
      "\r",
      " 41%|████      | 11/27 [09:31<17:27, 65.46s/it]"
     ]
    },
    {
     "name": "stdout",
     "output_type": "stream",
     "text": [
      "Index(['temperature', 'holiday', 'month', 'day', 'pressure', 'day.1',\n",
      "       'shower rain', 'broken clouds', 'heavy intensity rain', 'fog', 'year'],\n",
      "      dtype='object')\n",
      "For 11 features: \n",
      " Accuracy: 0.2429318827317897 \n",
      " Precision: 0.2429318827317897 \n",
      " Recall: 0.2429318827317897 \n",
      " F1 score: 0.2429318827317897\n",
      "              precision    recall  f1-score   support\n",
      "\n",
      "        10.0       0.56      0.57      0.56      1457\n",
      "        20.0       0.19      0.06      0.09       766\n",
      "        30.0       0.12      0.14      0.13       412\n",
      "        40.0       0.16      0.09      0.11       483\n",
      "        50.0       0.03      0.25      0.06        68\n",
      "        60.0       0.32      0.12      0.18       702\n",
      "       100.0       0.20      0.48      0.29       433\n",
      "\n",
      "    accuracy                           0.30      4321\n",
      "   macro avg       0.23      0.24      0.20      4321\n",
      "weighted avg       0.32      0.30      0.29      4321\n",
      "\n"
     ]
    },
    {
     "name": "stderr",
     "output_type": "stream",
     "text": [
      "\r",
      " 44%|████▍     | 12/27 [10:57<17:55, 71.69s/it]"
     ]
    },
    {
     "name": "stdout",
     "output_type": "stream",
     "text": [
      "Index(['temperature', 'holiday', 'month', 'day', 'pressure', 'day.1',\n",
      "       'shower rain', 'broken clouds', 'heavy intensity rain', 'fog', 'year',\n",
      "       'overcast clouds'],\n",
      "      dtype='object')\n",
      "For 12 features: \n",
      " Accuracy: 0.24204116808847329 \n",
      " Precision: 0.24204116808847329 \n",
      " Recall: 0.24204116808847329 \n",
      " F1 score: 0.24204116808847329\n",
      "              precision    recall  f1-score   support\n",
      "\n",
      "        10.0       0.57      0.57      0.57      1502\n",
      "        20.0       0.14      0.05      0.07       727\n",
      "        30.0       0.13      0.13      0.13       431\n",
      "        40.0       0.18      0.13      0.15       454\n",
      "        50.0       0.03      0.29      0.06        73\n",
      "        60.0       0.31      0.10      0.15       675\n",
      "       100.0       0.21      0.44      0.28       453\n",
      "\n",
      "    accuracy                           0.30      4315\n",
      "   macro avg       0.22      0.24      0.20      4315\n",
      "weighted avg       0.33      0.30      0.29      4315\n",
      "\n"
     ]
    },
    {
     "name": "stderr",
     "output_type": "stream",
     "text": [
      "\r",
      " 48%|████▊     | 13/27 [12:25<17:52, 76.61s/it]"
     ]
    },
    {
     "name": "stdout",
     "output_type": "stream",
     "text": [
      "Index(['temperature', 'holiday', 'month', 'day', 'pressure', 'day.1',\n",
      "       'shower rain', 'broken clouds', 'heavy intensity rain', 'fog', 'year',\n",
      "       'overcast clouds', 'minute'],\n",
      "      dtype='object')\n",
      "For 13 features: \n",
      " Accuracy: 0.24205332282462869 \n",
      " Precision: 0.24205332282462869 \n",
      " Recall: 0.24205332282462869 \n",
      " F1 score: 0.24205332282462869\n",
      "              precision    recall  f1-score   support\n",
      "\n",
      "        10.0       0.57      0.56      0.57      1464\n",
      "        20.0       0.14      0.05      0.08       713\n",
      "        30.0       0.11      0.10      0.10       415\n",
      "        40.0       0.16      0.15      0.15       446\n",
      "        50.0       0.03      0.25      0.06        77\n",
      "        60.0       0.33      0.09      0.14       713\n",
      "       100.0       0.23      0.49      0.32       481\n",
      "\n",
      "    accuracy                           0.30      4309\n",
      "   macro avg       0.23      0.24      0.20      4309\n",
      "weighted avg       0.33      0.30      0.29      4309\n",
      "\n"
     ]
    },
    {
     "name": "stderr",
     "output_type": "stream",
     "text": [
      "\r",
      " 52%|█████▏    | 14/27 [13:56<17:31, 80.90s/it]"
     ]
    },
    {
     "name": "stdout",
     "output_type": "stream",
     "text": [
      "Index(['temperature', 'holiday', 'month', 'day', 'pressure', 'day.1',\n",
      "       'shower rain', 'broken clouds', 'heavy intensity rain', 'fog', 'year',\n",
      "       'overcast clouds', 'minute', 'haze'],\n",
      "      dtype='object')\n",
      "For 14 features: \n",
      " Accuracy: 0.24333329209168228 \n",
      " Precision: 0.24333329209168228 \n",
      " Recall: 0.24333329209168228 \n",
      " F1 score: 0.24333329209168228\n",
      "              precision    recall  f1-score   support\n",
      "\n",
      "        10.0       0.58      0.57      0.58      1477\n",
      "        20.0       0.14      0.03      0.05       731\n",
      "        30.0       0.09      0.10      0.09       425\n",
      "        40.0       0.18      0.15      0.17       446\n",
      "        50.0       0.03      0.21      0.05        76\n",
      "        60.0       0.32      0.09      0.15       740\n",
      "       100.0       0.19      0.47      0.27       408\n",
      "\n",
      "    accuracy                           0.29      4303\n",
      "   macro avg       0.22      0.23      0.19      4303\n",
      "weighted avg       0.32      0.29      0.28      4303\n",
      "\n"
     ]
    },
    {
     "name": "stderr",
     "output_type": "stream",
     "text": [
      "\r",
      " 56%|█████▌    | 15/27 [15:40<17:35, 87.94s/it]"
     ]
    },
    {
     "name": "stdout",
     "output_type": "stream",
     "text": [
      "Index(['temperature', 'holiday', 'month', 'day', 'pressure', 'day.1',\n",
      "       'shower rain', 'broken clouds', 'heavy intensity rain', 'fog', 'year',\n",
      "       'overcast clouds', 'minute', 'haze', 'thunderstorm with light rain'],\n",
      "      dtype='object')\n",
      "For 15 features: \n",
      " Accuracy: 0.24179970957951075 \n",
      " Precision: 0.24179970957951075 \n",
      " Recall: 0.24179970957951075 \n",
      " F1 score: 0.24179970957951075\n",
      "              precision    recall  f1-score   support\n",
      "\n",
      "        10.0       0.58      0.58      0.58      1505\n",
      "        20.0       0.20      0.07      0.10       717\n",
      "        30.0       0.11      0.14      0.12       434\n",
      "        40.0       0.16      0.16      0.16       443\n",
      "        50.0       0.03      0.23      0.05        65\n",
      "        60.0       0.33      0.10      0.16       698\n",
      "       100.0       0.21      0.43      0.29       435\n",
      "\n",
      "    accuracy                           0.31      4297\n",
      "   macro avg       0.23      0.24      0.21      4297\n",
      "weighted avg       0.34      0.31      0.30      4297\n",
      "\n"
     ]
    },
    {
     "name": "stderr",
     "output_type": "stream",
     "text": [
      "\r",
      " 59%|█████▉    | 16/27 [17:24<17:00, 92.74s/it]"
     ]
    },
    {
     "name": "stdout",
     "output_type": "stream",
     "text": [
      "Index(['temperature', 'holiday', 'month', 'day', 'pressure', 'day.1',\n",
      "       'shower rain', 'broken clouds', 'heavy intensity rain', 'fog', 'year',\n",
      "       'overcast clouds', 'minute', 'haze', 'thunderstorm with light rain',\n",
      "       'mist'],\n",
      "      dtype='object')\n",
      "For 16 features: \n",
      " Accuracy: 0.2437206993483499 \n",
      " Precision: 0.2437206993483499 \n",
      " Recall: 0.2437206993483499 \n",
      " F1 score: 0.2437206993483499\n",
      "              precision    recall  f1-score   support\n",
      "\n",
      "        10.0       0.60      0.56      0.58      1504\n",
      "        20.0       0.21      0.08      0.12       746\n",
      "        30.0       0.11      0.13      0.12       416\n",
      "        40.0       0.21      0.13      0.16       431\n",
      "        50.0       0.03      0.29      0.05        70\n",
      "        60.0       0.28      0.10      0.15       668\n",
      "       100.0       0.22      0.44      0.29       456\n",
      "\n",
      "    accuracy                           0.30      4291\n",
      "   macro avg       0.24      0.25      0.21      4291\n",
      "weighted avg       0.35      0.30      0.31      4291\n",
      "\n"
     ]
    },
    {
     "name": "stderr",
     "output_type": "stream",
     "text": [
      "\r",
      " 63%|██████▎   | 17/27 [19:09<16:05, 96.51s/it]"
     ]
    },
    {
     "name": "stdout",
     "output_type": "stream",
     "text": [
      "Index(['temperature', 'holiday', 'month', 'day', 'pressure', 'day.1',\n",
      "       'shower rain', 'broken clouds', 'heavy intensity rain', 'fog', 'year',\n",
      "       'overcast clouds', 'minute', 'haze', 'thunderstorm with light rain',\n",
      "       'mist', 'light intensity drizzle'],\n",
      "      dtype='object')\n",
      "For 17 features: \n",
      " Accuracy: 0.24540644618803692 \n",
      " Precision: 0.24540644618803692 \n",
      " Recall: 0.24540644618803692 \n",
      " F1 score: 0.24540644618803692\n",
      "              precision    recall  f1-score   support\n",
      "\n",
      "        10.0       0.59      0.55      0.57      1452\n",
      "        20.0       0.20      0.06      0.09       728\n",
      "        30.0       0.10      0.08      0.09       416\n",
      "        40.0       0.21      0.14      0.17       461\n",
      "        50.0       0.02      0.25      0.04        72\n",
      "        60.0       0.34      0.14      0.20       692\n",
      "       100.0       0.21      0.46      0.29       464\n",
      "\n",
      "    accuracy                           0.30      4285\n",
      "   macro avg       0.24      0.24      0.21      4285\n",
      "weighted avg       0.34      0.30      0.30      4285\n",
      "\n"
     ]
    },
    {
     "name": "stderr",
     "output_type": "stream",
     "text": [
      "\r",
      " 67%|██████▋   | 18/27 [20:49<14:37, 97.49s/it]"
     ]
    },
    {
     "name": "stdout",
     "output_type": "stream",
     "text": [
      "Index(['temperature', 'holiday', 'month', 'day', 'pressure', 'day.1',\n",
      "       'shower rain', 'broken clouds', 'heavy intensity rain', 'fog', 'year',\n",
      "       'overcast clouds', 'minute', 'haze', 'thunderstorm with light rain',\n",
      "       'mist', 'light intensity drizzle', 'scattered clouds'],\n",
      "      dtype='object')\n",
      "For 18 features: \n",
      " Accuracy: 0.24505854942801836 \n",
      " Precision: 0.24505854942801836 \n",
      " Recall: 0.24505854942801836 \n",
      " F1 score: 0.24505854942801836\n",
      "              precision    recall  f1-score   support\n",
      "\n",
      "        10.0       0.59      0.55      0.57      1513\n",
      "        20.0       0.17      0.07      0.10       702\n",
      "        30.0       0.10      0.09      0.10       433\n",
      "        40.0       0.17      0.17      0.17       452\n",
      "        50.0       0.02      0.25      0.05        64\n",
      "        60.0       0.37      0.10      0.16       663\n",
      "       100.0       0.22      0.42      0.29       452\n",
      "\n",
      "    accuracy                           0.30      4279\n",
      "   macro avg       0.24      0.24      0.20      4279\n",
      "weighted avg       0.35      0.30      0.30      4279\n",
      "\n"
     ]
    },
    {
     "name": "stderr",
     "output_type": "stream",
     "text": [
      "\r",
      " 70%|███████   | 19/27 [22:38<13:26, 100.83s/it]"
     ]
    },
    {
     "name": "stdout",
     "output_type": "stream",
     "text": [
      "Index(['temperature', 'holiday', 'month', 'day', 'pressure', 'day.1',\n",
      "       'shower rain', 'broken clouds', 'heavy intensity rain', 'fog', 'year',\n",
      "       'overcast clouds', 'minute', 'haze', 'thunderstorm with light rain',\n",
      "       'mist', 'light intensity drizzle', 'scattered clouds', 'clear sky'],\n",
      "      dtype='object')\n",
      "For 19 features: \n",
      " Accuracy: 0.24307909334310718 \n",
      " Precision: 0.24307909334310718 \n",
      " Recall: 0.24307909334310718 \n",
      " F1 score: 0.24307909334310718\n",
      "              precision    recall  f1-score   support\n",
      "\n",
      "        10.0       0.59      0.55      0.57      1505\n",
      "        20.0       0.18      0.07      0.10       700\n",
      "        30.0       0.12      0.11      0.12       401\n",
      "        40.0       0.15      0.13      0.14       439\n",
      "        50.0       0.03      0.28      0.05        61\n",
      "        60.0       0.29      0.09      0.13       732\n",
      "       100.0       0.22      0.49      0.30       435\n",
      "\n",
      "    accuracy                           0.30      4273\n",
      "   macro avg       0.23      0.25      0.20      4273\n",
      "weighted avg       0.34      0.30      0.30      4273\n",
      "\n"
     ]
    },
    {
     "name": "stderr",
     "output_type": "stream",
     "text": [
      "\r",
      " 74%|███████▍  | 20/27 [24:17<11:42, 100.31s/it]"
     ]
    },
    {
     "name": "stdout",
     "output_type": "stream",
     "text": [
      "Index(['temperature', 'holiday', 'month', 'day', 'pressure', 'day.1',\n",
      "       'shower rain', 'broken clouds', 'heavy intensity rain', 'fog', 'year',\n",
      "       'overcast clouds', 'minute', 'haze', 'thunderstorm with light rain',\n",
      "       'mist', 'light intensity drizzle', 'scattered clouds', 'clear sky',\n",
      "       'few clouds'],\n",
      "      dtype='object')\n",
      "For 20 features: \n",
      " Accuracy: 0.24630437572592737 \n",
      " Precision: 0.24630437572592737 \n",
      " Recall: 0.24630437572592737 \n",
      " F1 score: 0.24630437572592737\n",
      "              precision    recall  f1-score   support\n",
      "\n",
      "        10.0       0.60      0.53      0.56      1479\n",
      "        20.0       0.17      0.09      0.12       712\n",
      "        30.0       0.09      0.11      0.10       404\n",
      "        40.0       0.19      0.20      0.20       450\n",
      "        50.0       0.03      0.23      0.05        65\n",
      "        60.0       0.35      0.09      0.14       715\n",
      "       100.0       0.22      0.42      0.29       442\n",
      "\n",
      "    accuracy                           0.29      4267\n",
      "   macro avg       0.24      0.24      0.21      4267\n",
      "weighted avg       0.35      0.29      0.30      4267\n",
      "\n"
     ]
    },
    {
     "name": "stderr",
     "output_type": "stream",
     "text": [
      "\r",
      " 78%|███████▊  | 21/27 [25:57<10:01, 100.23s/it]"
     ]
    },
    {
     "name": "stdout",
     "output_type": "stream",
     "text": [
      "Index(['temperature', 'holiday', 'month', 'day', 'pressure', 'day.1',\n",
      "       'shower rain', 'broken clouds', 'heavy intensity rain', 'fog', 'year',\n",
      "       'overcast clouds', 'minute', 'haze', 'thunderstorm with light rain',\n",
      "       'mist', 'light intensity drizzle', 'scattered clouds', 'clear sky',\n",
      "       'few clouds', 'thunderstorm'],\n",
      "      dtype='object')\n",
      "For 21 features: \n",
      " Accuracy: 0.24207603266493194 \n",
      " Precision: 0.24207603266493194 \n",
      " Recall: 0.24207603266493194 \n",
      " F1 score: 0.24207603266493194\n",
      "              precision    recall  f1-score   support\n",
      "\n",
      "        10.0       0.58      0.56      0.57      1479\n",
      "        20.0       0.18      0.07      0.11       722\n",
      "        30.0       0.12      0.15      0.13       389\n",
      "        40.0       0.17      0.22      0.19       425\n",
      "        50.0       0.04      0.26      0.07        86\n",
      "        60.0       0.33      0.03      0.05       704\n",
      "       100.0       0.23      0.45      0.30       456\n",
      "\n",
      "    accuracy                           0.30      4261\n",
      "   macro avg       0.24      0.25      0.20      4261\n",
      "weighted avg       0.34      0.30      0.29      4261\n",
      "\n"
     ]
    },
    {
     "name": "stderr",
     "output_type": "stream",
     "text": [
      "\r",
      " 81%|████████▏ | 22/27 [27:37<08:21, 100.25s/it]"
     ]
    },
    {
     "name": "stdout",
     "output_type": "stream",
     "text": [
      "Index(['temperature', 'holiday', 'month', 'day', 'pressure', 'day.1',\n",
      "       'shower rain', 'broken clouds', 'heavy intensity rain', 'fog', 'year',\n",
      "       'overcast clouds', 'minute', 'haze', 'thunderstorm with light rain',\n",
      "       'mist', 'light intensity drizzle', 'scattered clouds', 'clear sky',\n",
      "       'few clouds', 'thunderstorm', 'very heavy rain'],\n",
      "      dtype='object')\n",
      "For 22 features: \n",
      " Accuracy: 0.24417958422671338 \n",
      " Precision: 0.24417958422671338 \n",
      " Recall: 0.24417958422671338 \n",
      " F1 score: 0.24417958422671338\n",
      "              precision    recall  f1-score   support\n",
      "\n",
      "        10.0       0.56      0.56      0.56      1464\n",
      "        20.0       0.21      0.08      0.12       723\n",
      "        30.0       0.12      0.11      0.11       417\n",
      "        40.0       0.19      0.17      0.18       436\n",
      "        50.0       0.03      0.24      0.05        74\n",
      "        60.0       0.29      0.06      0.09       668\n",
      "       100.0       0.21      0.45      0.28       473\n",
      "\n",
      "    accuracy                           0.30      4255\n",
      "   macro avg       0.23      0.24      0.20      4255\n",
      "weighted avg       0.33      0.30      0.29      4255\n",
      "\n"
     ]
    },
    {
     "name": "stderr",
     "output_type": "stream",
     "text": [
      "\r",
      " 85%|████████▌ | 23/27 [29:18<06:42, 100.61s/it]"
     ]
    },
    {
     "name": "stdout",
     "output_type": "stream",
     "text": [
      "Index(['temperature', 'holiday', 'month', 'day', 'pressure', 'day.1',\n",
      "       'shower rain', 'broken clouds', 'heavy intensity rain', 'fog', 'year',\n",
      "       'overcast clouds', 'minute', 'haze', 'thunderstorm with light rain',\n",
      "       'mist', 'light intensity drizzle', 'scattered clouds', 'clear sky',\n",
      "       'few clouds', 'thunderstorm', 'very heavy rain', 'moderate rain'],\n",
      "      dtype='object')\n",
      "For 23 features: \n",
      " Accuracy: 0.24146189704438398 \n",
      " Precision: 0.24146189704438398 \n",
      " Recall: 0.24146189704438398 \n",
      " F1 score: 0.24146189704438398\n",
      "              precision    recall  f1-score   support\n",
      "\n",
      "        10.0       0.59      0.51      0.54      1461\n",
      "        20.0       0.19      0.08      0.11       687\n",
      "        30.0       0.10      0.11      0.11       394\n",
      "        40.0       0.14      0.11      0.12       455\n",
      "        50.0       0.03      0.30      0.06        74\n",
      "        60.0       0.28      0.10      0.14       709\n",
      "       100.0       0.23      0.45      0.30       469\n",
      "\n",
      "    accuracy                           0.28      4249\n",
      "   macro avg       0.22      0.24      0.20      4249\n",
      "weighted avg       0.33      0.28      0.29      4249\n",
      "\n"
     ]
    },
    {
     "name": "stderr",
     "output_type": "stream",
     "text": [
      "\r",
      " 89%|████████▉ | 24/27 [30:59<05:01, 100.62s/it]"
     ]
    },
    {
     "name": "stdout",
     "output_type": "stream",
     "text": [
      "Index(['temperature', 'holiday', 'month', 'day', 'pressure', 'day.1',\n",
      "       'shower rain', 'broken clouds', 'heavy intensity rain', 'fog', 'year',\n",
      "       'overcast clouds', 'minute', 'haze', 'thunderstorm with light rain',\n",
      "       'mist', 'light intensity drizzle', 'scattered clouds', 'clear sky',\n",
      "       'few clouds', 'thunderstorm', 'very heavy rain', 'moderate rain',\n",
      "       'thunderstorm with rain'],\n",
      "      dtype='object')\n",
      "For 24 features: \n",
      " Accuracy: 0.24327458690028717 \n",
      " Precision: 0.24327458690028717 \n",
      " Recall: 0.24327458690028717 \n",
      " F1 score: 0.24327458690028717\n",
      "              precision    recall  f1-score   support\n",
      "\n",
      "        10.0       0.59      0.52      0.55      1456\n",
      "        20.0       0.16      0.06      0.08       722\n",
      "        30.0       0.12      0.10      0.11       412\n",
      "        40.0       0.15      0.14      0.14       444\n",
      "        50.0       0.03      0.32      0.06        74\n",
      "        60.0       0.33      0.15      0.21       685\n",
      "       100.0       0.22      0.42      0.29       450\n",
      "\n",
      "    accuracy                           0.29      4243\n",
      "   macro avg       0.23      0.25      0.21      4243\n",
      "weighted avg       0.33      0.29      0.30      4243\n",
      "\n"
     ]
    },
    {
     "name": "stderr",
     "output_type": "stream",
     "text": [
      "\r",
      " 93%|█████████▎| 25/27 [32:57<03:31, 105.71s/it]"
     ]
    },
    {
     "name": "stdout",
     "output_type": "stream",
     "text": [
      "Index(['temperature', 'holiday', 'month', 'day', 'pressure', 'day.1',\n",
      "       'shower rain', 'broken clouds', 'heavy intensity rain', 'fog', 'year',\n",
      "       'overcast clouds', 'minute', 'haze', 'thunderstorm with light rain',\n",
      "       'mist', 'light intensity drizzle', 'scattered clouds', 'clear sky',\n",
      "       'few clouds', 'thunderstorm', 'very heavy rain', 'moderate rain',\n",
      "       'thunderstorm with rain', 'light rain'],\n",
      "      dtype='object')\n",
      "For 25 features: \n",
      " Accuracy: 0.2427694525547447 \n",
      " Precision: 0.2427694525547447 \n",
      " Recall: 0.2427694525547447 \n",
      " F1 score: 0.2427694525547447\n",
      "              precision    recall  f1-score   support\n",
      "\n",
      "        10.0       0.59      0.53      0.56      1478\n",
      "        20.0       0.18      0.08      0.11       714\n",
      "        30.0       0.09      0.11      0.10       407\n",
      "        40.0       0.18      0.18      0.18       439\n",
      "        50.0       0.03      0.26      0.05        68\n",
      "        60.0       0.36      0.07      0.12       685\n",
      "       100.0       0.23      0.46      0.30       446\n",
      "\n",
      "    accuracy                           0.29      4237\n",
      "   macro avg       0.24      0.24      0.20      4237\n",
      "weighted avg       0.35      0.29      0.29      4237\n",
      "\n"
     ]
    },
    {
     "name": "stderr",
     "output_type": "stream",
     "text": [
      "\r",
      " 96%|█████████▋| 26/27 [35:14<01:55, 115.28s/it]"
     ]
    },
    {
     "name": "stdout",
     "output_type": "stream",
     "text": [
      "Index(['temperature', 'holiday', 'month', 'day', 'pressure', 'day.1',\n",
      "       'shower rain', 'broken clouds', 'heavy intensity rain', 'fog', 'year',\n",
      "       'overcast clouds', 'minute', 'haze', 'thunderstorm with light rain',\n",
      "       'mist', 'light intensity drizzle', 'scattered clouds', 'clear sky',\n",
      "       'few clouds', 'thunderstorm', 'very heavy rain', 'moderate rain',\n",
      "       'thunderstorm with rain', 'light rain', 'humidity'],\n",
      "      dtype='object')\n",
      "For 26 features: \n",
      " Accuracy: 0.24431613979890995 \n",
      " Precision: 0.24431613979890995 \n",
      " Recall: 0.24431613979890995 \n",
      " F1 score: 0.24431613979890995\n",
      "              precision    recall  f1-score   support\n",
      "\n",
      "        10.0       0.60      0.56      0.58      1531\n",
      "        20.0       0.20      0.07      0.11       702\n",
      "        30.0       0.09      0.11      0.10       380\n",
      "        40.0       0.17      0.17      0.17       418\n",
      "        50.0       0.03      0.25      0.05        59\n",
      "        60.0       0.27      0.08      0.13       682\n",
      "       100.0       0.21      0.39      0.27       459\n",
      "\n",
      "    accuracy                           0.30      4231\n",
      "   macro avg       0.22      0.24      0.20      4231\n",
      "weighted avg       0.34      0.30      0.30      4231\n",
      "\n"
     ]
    },
    {
     "name": "stderr",
     "output_type": "stream",
     "text": [
      "100%|██████████| 27/27 [37:37<00:00, 83.60s/it] \n"
     ]
    },
    {
     "name": "stdout",
     "output_type": "stream",
     "text": [
      "Index(['temperature', 'holiday', 'month', 'day', 'pressure', 'day.1',\n",
      "       'shower rain', 'broken clouds', 'heavy intensity rain', 'fog', 'year',\n",
      "       'overcast clouds', 'minute', 'haze', 'thunderstorm with light rain',\n",
      "       'mist', 'light intensity drizzle', 'scattered clouds', 'clear sky',\n",
      "       'few clouds', 'thunderstorm', 'very heavy rain', 'moderate rain',\n",
      "       'thunderstorm with rain', 'light rain', 'humidity', 'hour'],\n",
      "      dtype='object')\n",
      "For 27 features: \n",
      " Accuracy: 0.24795182182992492 \n",
      " Precision: 0.24795182182992492 \n",
      " Recall: 0.24795182182992492 \n",
      " F1 score: 0.24795182182992492\n",
      "              precision    recall  f1-score   support\n",
      "\n",
      "        10.0       0.59      0.52      0.55      1486\n",
      "        20.0       0.20      0.11      0.14       694\n",
      "        30.0       0.10      0.10      0.10       407\n",
      "        40.0       0.17      0.15      0.16       440\n",
      "        50.0       0.03      0.21      0.05        76\n",
      "        60.0       0.31      0.12      0.18       676\n",
      "       100.0       0.23      0.45      0.31       446\n",
      "\n",
      "    accuracy                           0.30      4225\n",
      "   macro avg       0.23      0.24      0.21      4225\n",
      "weighted avg       0.34      0.30      0.30      4225\n",
      "\n",
      "\n",
      " \n",
      "\n",
      "------------------------- Analyzing method mutualInformation_classification -------------------------\n",
      "The variable order is: \n",
      " ['month', 'day', 'year', 'hour', 'minute', 'holiday', 'day.1', 'Pandemic', 'temperature', 'humidity', 'pressure', 'heavy intensity rain', 'light rain', 'broken clouds', 'moderate rain', 'mist', 'overcast clouds', 'clear sky', 'scattered clouds', 'thunderstorm with rain', 'few clouds', 'thunderstorm', 'shower rain', 'very heavy rain', 'fog', 'haze', 'thunderstorm with light rain', 'light intensity drizzle']\n"
     ]
    },
    {
     "name": "stderr",
     "output_type": "stream",
     "text": [
      "  4%|▎         | 1/27 [00:35<15:32, 35.86s/it]"
     ]
    },
    {
     "name": "stdout",
     "output_type": "stream",
     "text": [
      "Index(['month'], dtype='object')\n",
      "For 1 features: \n",
      " Accuracy: 0.14225828618000694 \n",
      " Precision: 0.14225828618000694 \n",
      " Recall: 0.14225828618000694 \n",
      " F1 score: 0.14225828618000694\n",
      "              precision    recall  f1-score   support\n",
      "\n",
      "        10.0       0.35      0.53      0.42      1442\n",
      "        20.0       0.00      0.00      0.00       687\n",
      "        30.0       0.00      0.00      0.00       403\n",
      "        40.0       0.00      0.00      0.00       461\n",
      "        50.0       0.00      0.00      0.00        65\n",
      "        60.0       0.00      0.00      0.00       713\n",
      "       100.0       0.14      0.62      0.22       448\n",
      "\n",
      "    accuracy                           0.25      4219\n",
      "   macro avg       0.07      0.17      0.09      4219\n",
      "weighted avg       0.14      0.25      0.17      4219\n",
      "\n"
     ]
    },
    {
     "name": "stderr",
     "output_type": "stream",
     "text": [
      "\r",
      "  7%|▋         | 2/27 [01:13<15:24, 36.99s/it]"
     ]
    },
    {
     "name": "stdout",
     "output_type": "stream",
     "text": [
      "Index(['month', 'day'], dtype='object')\n",
      "For 2 features: \n",
      " Accuracy: 0.16554278778079928 \n",
      " Precision: 0.16554278778079928 \n",
      " Recall: 0.16554278778079928 \n",
      " F1 score: 0.16554278778079928\n",
      "              precision    recall  f1-score   support\n",
      "\n",
      "        10.0       0.41      0.38      0.39      1489\n",
      "        20.0       0.65      0.02      0.04       693\n",
      "        30.0       0.10      0.11      0.11       384\n",
      "        40.0       0.00      0.00      0.00       428\n",
      "        50.0       0.00      0.00      0.00        86\n",
      "        60.0       0.17      0.22      0.19       723\n",
      "       100.0       0.13      0.46      0.20       410\n",
      "\n",
      "    accuracy                           0.23      4213\n",
      "   macro avg       0.21      0.17      0.13      4213\n",
      "weighted avg       0.30      0.23      0.21      4213\n",
      "\n"
     ]
    },
    {
     "name": "stderr",
     "output_type": "stream",
     "text": [
      "\r",
      " 11%|█         | 3/27 [01:58<16:17, 40.74s/it]"
     ]
    },
    {
     "name": "stdout",
     "output_type": "stream",
     "text": [
      "Index(['month', 'day', 'year'], dtype='object')\n",
      "For 3 features: \n",
      " Accuracy: 0.2287371672242083 \n",
      " Precision: 0.2287371672242083 \n",
      " Recall: 0.2287371672242083 \n",
      " F1 score: 0.2287371672242083\n",
      "              precision    recall  f1-score   support\n",
      "\n",
      "        10.0       0.50      0.59      0.54      1475\n",
      "        20.0       0.12      0.04      0.06       680\n",
      "        30.0       0.14      0.24      0.18       429\n",
      "        40.0       0.00      0.00      0.00       412\n",
      "        50.0       0.02      0.17      0.03        60\n",
      "        60.0       0.30      0.08      0.13       671\n",
      "       100.0       0.19      0.29      0.23       480\n",
      "\n",
      "    accuracy                           0.29      4207\n",
      "   macro avg       0.18      0.20      0.17      4207\n",
      "weighted avg       0.28      0.29      0.26      4207\n",
      "\n"
     ]
    },
    {
     "name": "stderr",
     "output_type": "stream",
     "text": [
      "\r",
      " 15%|█▍        | 4/27 [02:51<17:21, 45.28s/it]"
     ]
    },
    {
     "name": "stdout",
     "output_type": "stream",
     "text": [
      "Index(['month', 'day', 'year', 'hour'], dtype='object')\n",
      "For 4 features: \n",
      " Accuracy: 0.22215793657179175 \n",
      " Precision: 0.22215793657179175 \n",
      " Recall: 0.22215793657179175 \n",
      " F1 score: 0.22215793657179175\n",
      "              precision    recall  f1-score   support\n",
      "\n",
      "        10.0       0.51      0.50      0.51      1493\n",
      "        20.0       0.12      0.04      0.06       663\n",
      "        30.0       0.14      0.24      0.17       403\n",
      "        40.0       0.16      0.07      0.10       432\n",
      "        50.0       0.00      0.00      0.00        59\n",
      "        60.0       0.30      0.26      0.28       683\n",
      "       100.0       0.20      0.42      0.27       468\n",
      "\n",
      "    accuracy                           0.30      4201\n",
      "   macro avg       0.20      0.22      0.20      4201\n",
      "weighted avg       0.30      0.30      0.29      4201\n",
      "\n"
     ]
    },
    {
     "name": "stderr",
     "output_type": "stream",
     "text": [
      "\r",
      " 19%|█▊        | 5/27 [03:45<17:50, 48.66s/it]"
     ]
    },
    {
     "name": "stdout",
     "output_type": "stream",
     "text": [
      "Index(['month', 'day', 'year', 'hour', 'minute'], dtype='object')\n",
      "For 5 features: \n",
      " Accuracy: 0.22004098888932083 \n",
      " Precision: 0.22004098888932083 \n",
      " Recall: 0.22004098888932083 \n",
      " F1 score: 0.22004098888932083\n",
      "              precision    recall  f1-score   support\n",
      "\n",
      "        10.0       0.49      0.46      0.47      1462\n",
      "        20.0       0.15      0.05      0.08       718\n",
      "        30.0       0.14      0.25      0.18       396\n",
      "        40.0       0.16      0.13      0.14       400\n",
      "        50.0       0.02      0.10      0.03        69\n",
      "        60.0       0.35      0.13      0.19       710\n",
      "       100.0       0.17      0.34      0.23       440\n",
      "\n",
      "    accuracy                           0.27      4195\n",
      "   macro avg       0.21      0.21      0.19      4195\n",
      "weighted avg       0.30      0.27      0.27      4195\n",
      "\n"
     ]
    },
    {
     "name": "stderr",
     "output_type": "stream",
     "text": [
      "\r",
      " 22%|██▏       | 6/27 [04:43<18:05, 51.68s/it]"
     ]
    },
    {
     "name": "stdout",
     "output_type": "stream",
     "text": [
      "Index(['month', 'day', 'year', 'hour', 'minute', 'holiday'], dtype='object')\n",
      "For 6 features: \n",
      " Accuracy: 0.22468955991150358 \n",
      " Precision: 0.22468955991150358 \n",
      " Recall: 0.22468955991150358 \n",
      " F1 score: 0.22468955991150358\n",
      "              precision    recall  f1-score   support\n",
      "\n",
      "        10.0       0.53      0.52      0.52      1461\n",
      "        20.0       0.18      0.04      0.07       689\n",
      "        30.0       0.12      0.25      0.16       373\n",
      "        40.0       0.18      0.10      0.13       447\n",
      "        50.0       0.03      0.18      0.05        73\n",
      "        60.0       0.33      0.16      0.21       693\n",
      "       100.0       0.20      0.33      0.25       453\n",
      "\n",
      "    accuracy                           0.29      4189\n",
      "   macro avg       0.22      0.23      0.20      4189\n",
      "weighted avg       0.32      0.29      0.29      4189\n",
      "\n"
     ]
    },
    {
     "name": "stderr",
     "output_type": "stream",
     "text": [
      "\r",
      " 26%|██▌       | 7/27 [05:42<18:03, 54.18s/it]"
     ]
    },
    {
     "name": "stdout",
     "output_type": "stream",
     "text": [
      "Index(['month', 'day', 'year', 'hour', 'minute', 'holiday', 'day.1'], dtype='object')\n",
      "For 7 features: \n",
      " Accuracy: 0.24144487190440905 \n",
      " Precision: 0.24144487190440905 \n",
      " Recall: 0.24144487190440905 \n",
      " F1 score: 0.24144487190440905\n",
      "              precision    recall  f1-score   support\n",
      "\n",
      "        10.0       0.54      0.52      0.53      1472\n",
      "        20.0       0.20      0.06      0.09       708\n",
      "        30.0       0.12      0.20      0.15       397\n",
      "        40.0       0.19      0.10      0.13       419\n",
      "        50.0       0.03      0.29      0.05        63\n",
      "        60.0       0.39      0.16      0.23       679\n",
      "       100.0       0.24      0.40      0.30       445\n",
      "\n",
      "    accuracy                           0.30      4183\n",
      "   macro avg       0.24      0.25      0.21      4183\n",
      "weighted avg       0.34      0.30      0.30      4183\n",
      "\n"
     ]
    },
    {
     "name": "stderr",
     "output_type": "stream",
     "text": [
      "\r",
      " 30%|██▉       | 8/27 [06:43<17:47, 56.17s/it]"
     ]
    },
    {
     "name": "stdout",
     "output_type": "stream",
     "text": [
      "Index(['month', 'day', 'year', 'hour', 'minute', 'holiday', 'day.1',\n",
      "       'Pandemic'],\n",
      "      dtype='object')\n",
      "For 8 features: \n",
      " Accuracy: 0.2413680445718408 \n",
      " Precision: 0.2413680445718408 \n",
      " Recall: 0.2413680445718408 \n",
      " F1 score: 0.2413680445718408\n",
      "              precision    recall  f1-score   support\n",
      "\n",
      "        10.0       0.52      0.48      0.50      1404\n",
      "        20.0       0.20      0.07      0.11       703\n",
      "        30.0       0.12      0.22      0.16       375\n",
      "        40.0       0.20      0.09      0.12       464\n",
      "        50.0       0.03      0.23      0.05        70\n",
      "        60.0       0.34      0.14      0.20       719\n",
      "       100.0       0.24      0.43      0.31       442\n",
      "\n",
      "    accuracy                           0.28      4177\n",
      "   macro avg       0.24      0.24      0.21      4177\n",
      "weighted avg       0.33      0.28      0.28      4177\n",
      "\n"
     ]
    },
    {
     "name": "stderr",
     "output_type": "stream",
     "text": [
      "\r",
      " 33%|███▎      | 9/27 [07:49<17:47, 59.29s/it]"
     ]
    },
    {
     "name": "stdout",
     "output_type": "stream",
     "text": [
      "Index(['month', 'day', 'year', 'hour', 'minute', 'holiday', 'day.1',\n",
      "       'Pandemic', 'temperature'],\n",
      "      dtype='object')\n",
      "For 9 features: \n",
      " Accuracy: 0.23954813741574757 \n",
      " Precision: 0.23954813741574757 \n",
      " Recall: 0.23954813741574757 \n",
      " F1 score: 0.23954813741574757\n",
      "              precision    recall  f1-score   support\n",
      "\n",
      "        10.0       0.58      0.49      0.53      1463\n",
      "        20.0       0.19      0.12      0.15       708\n",
      "        30.0       0.11      0.15      0.13       383\n",
      "        40.0       0.20      0.13      0.16       432\n",
      "        50.0       0.02      0.20      0.04        66\n",
      "        60.0       0.33      0.11      0.17       658\n",
      "       100.0       0.20      0.37      0.26       461\n",
      "\n",
      "    accuracy                           0.28      4171\n",
      "   macro avg       0.23      0.23      0.21      4171\n",
      "weighted avg       0.34      0.28      0.30      4171\n",
      "\n"
     ]
    },
    {
     "name": "stderr",
     "output_type": "stream",
     "text": [
      "\r",
      " 37%|███▋      | 10/27 [09:00<17:53, 63.15s/it]"
     ]
    },
    {
     "name": "stdout",
     "output_type": "stream",
     "text": [
      "Index(['month', 'day', 'year', 'hour', 'minute', 'holiday', 'day.1',\n",
      "       'Pandemic', 'temperature', 'humidity'],\n",
      "      dtype='object')\n",
      "For 10 features: \n",
      " Accuracy: 0.24273564648738605 \n",
      " Precision: 0.24273564648738605 \n",
      " Recall: 0.24273564648738605 \n",
      " F1 score: 0.24273564648738605\n",
      "              precision    recall  f1-score   support\n",
      "\n",
      "        10.0       0.60      0.49      0.54      1452\n",
      "        20.0       0.16      0.10      0.12       659\n",
      "        30.0       0.11      0.14      0.12       368\n",
      "        40.0       0.17      0.14      0.15       437\n",
      "        50.0       0.03      0.27      0.06        79\n",
      "        60.0       0.35      0.12      0.18       682\n",
      "       100.0       0.23      0.42      0.30       488\n",
      "\n",
      "    accuracy                           0.29      4165\n",
      "   macro avg       0.24      0.24      0.21      4165\n",
      "weighted avg       0.35      0.29      0.30      4165\n",
      "\n"
     ]
    },
    {
     "name": "stderr",
     "output_type": "stream",
     "text": [
      "\r",
      " 41%|████      | 11/27 [10:08<17:13, 64.56s/it]"
     ]
    },
    {
     "name": "stdout",
     "output_type": "stream",
     "text": [
      "Index(['month', 'day', 'year', 'hour', 'minute', 'holiday', 'day.1',\n",
      "       'Pandemic', 'temperature', 'humidity', 'pressure'],\n",
      "      dtype='object')\n",
      "For 11 features: \n",
      " Accuracy: 0.24684769773901313 \n",
      " Precision: 0.24684769773901313 \n",
      " Recall: 0.24684769773901313 \n",
      " F1 score: 0.24684769773901313\n",
      "              precision    recall  f1-score   support\n",
      "\n",
      "        10.0       0.59      0.49      0.54      1471\n",
      "        20.0       0.18      0.09      0.12       697\n",
      "        30.0       0.14      0.19      0.16       380\n",
      "        40.0       0.24      0.17      0.20       409\n",
      "        50.0       0.05      0.36      0.08        69\n",
      "        60.0       0.25      0.08      0.13       698\n",
      "       100.0       0.23      0.53      0.32       435\n",
      "\n",
      "    accuracy                           0.30      4159\n",
      "   macro avg       0.24      0.27      0.22      4159\n",
      "weighted avg       0.34      0.30      0.30      4159\n",
      "\n"
     ]
    },
    {
     "name": "stderr",
     "output_type": "stream",
     "text": [
      "\r",
      " 44%|████▍     | 12/27 [11:17<16:28, 65.87s/it]"
     ]
    },
    {
     "name": "stdout",
     "output_type": "stream",
     "text": [
      "Index(['month', 'day', 'year', 'hour', 'minute', 'holiday', 'day.1',\n",
      "       'Pandemic', 'temperature', 'humidity', 'pressure',\n",
      "       'heavy intensity rain'],\n",
      "      dtype='object')\n",
      "For 12 features: \n",
      " Accuracy: 0.24666525206265974 \n",
      " Precision: 0.24666525206265974 \n",
      " Recall: 0.24666525206265974 \n",
      " F1 score: 0.24666525206265974\n",
      "              precision    recall  f1-score   support\n",
      "\n",
      "        10.0       0.58      0.50      0.54      1458\n",
      "        20.0       0.23      0.08      0.12       705\n",
      "        30.0       0.11      0.17      0.14       403\n",
      "        40.0       0.19      0.17      0.18       421\n",
      "        50.0       0.02      0.17      0.03        66\n",
      "        60.0       0.30      0.09      0.14       672\n",
      "       100.0       0.21      0.39      0.27       428\n",
      "\n",
      "    accuracy                           0.28      4153\n",
      "   macro avg       0.23      0.23      0.20      4153\n",
      "weighted avg       0.34      0.28      0.29      4153\n",
      "\n"
     ]
    },
    {
     "name": "stderr",
     "output_type": "stream",
     "text": [
      "\r",
      " 48%|████▊     | 13/27 [12:27<15:40, 67.18s/it]"
     ]
    },
    {
     "name": "stdout",
     "output_type": "stream",
     "text": [
      "Index(['month', 'day', 'year', 'hour', 'minute', 'holiday', 'day.1',\n",
      "       'Pandemic', 'temperature', 'humidity', 'pressure',\n",
      "       'heavy intensity rain', 'light rain'],\n",
      "      dtype='object')\n",
      "For 13 features: \n",
      " Accuracy: 0.2482741006914297 \n",
      " Precision: 0.2482741006914297 \n",
      " Recall: 0.2482741006914297 \n",
      " F1 score: 0.2482741006914297\n",
      "              precision    recall  f1-score   support\n",
      "\n",
      "        10.0       0.59      0.51      0.55      1482\n",
      "        20.0       0.19      0.12      0.15       661\n",
      "        30.0       0.09      0.11      0.10       390\n",
      "        40.0       0.22      0.16      0.19       435\n",
      "        50.0       0.04      0.27      0.07        81\n",
      "        60.0       0.26      0.09      0.14       666\n",
      "       100.0       0.24      0.48      0.32       432\n",
      "\n",
      "    accuracy                           0.30      4147\n",
      "   macro avg       0.23      0.25      0.21      4147\n",
      "weighted avg       0.34      0.30      0.31      4147\n",
      "\n"
     ]
    },
    {
     "name": "stderr",
     "output_type": "stream",
     "text": [
      "\r",
      " 52%|█████▏    | 14/27 [13:43<15:06, 69.75s/it]"
     ]
    },
    {
     "name": "stdout",
     "output_type": "stream",
     "text": [
      "Index(['month', 'day', 'year', 'hour', 'minute', 'holiday', 'day.1',\n",
      "       'Pandemic', 'temperature', 'humidity', 'pressure',\n",
      "       'heavy intensity rain', 'light rain', 'broken clouds'],\n",
      "      dtype='object')\n",
      "For 14 features: \n",
      " Accuracy: 0.24599549337612486 \n",
      " Precision: 0.24599549337612486 \n",
      " Recall: 0.24599549337612486 \n",
      " F1 score: 0.24599549337612486\n",
      "              precision    recall  f1-score   support\n",
      "\n",
      "        10.0       0.58      0.50      0.54      1467\n",
      "        20.0       0.23      0.11      0.15       699\n",
      "        30.0       0.09      0.15      0.11       355\n",
      "        40.0       0.20      0.14      0.16       409\n",
      "        50.0       0.03      0.21      0.05        70\n",
      "        60.0       0.28      0.10      0.14       683\n",
      "       100.0       0.25      0.47      0.32       458\n",
      "\n",
      "    accuracy                           0.30      4141\n",
      "   macro avg       0.23      0.24      0.21      4141\n",
      "weighted avg       0.34      0.30      0.30      4141\n",
      "\n"
     ]
    },
    {
     "name": "stderr",
     "output_type": "stream",
     "text": [
      "\r",
      " 56%|█████▌    | 15/27 [15:24<15:50, 79.24s/it]"
     ]
    },
    {
     "name": "stdout",
     "output_type": "stream",
     "text": [
      "Index(['month', 'day', 'year', 'hour', 'minute', 'holiday', 'day.1',\n",
      "       'Pandemic', 'temperature', 'humidity', 'pressure',\n",
      "       'heavy intensity rain', 'light rain', 'broken clouds', 'moderate rain'],\n",
      "      dtype='object')\n",
      "For 15 features: \n",
      " Accuracy: 0.24762539874932918 \n",
      " Precision: 0.24762539874932918 \n",
      " Recall: 0.24762539874932918 \n",
      " F1 score: 0.24762539874932918\n",
      "              precision    recall  f1-score   support\n",
      "\n",
      "        10.0       0.60      0.54      0.57      1438\n",
      "        20.0       0.23      0.10      0.14       662\n",
      "        30.0       0.11      0.14      0.12       376\n",
      "        40.0       0.17      0.12      0.14       404\n",
      "        50.0       0.03      0.24      0.05        67\n",
      "        60.0       0.26      0.12      0.17       710\n",
      "       100.0       0.26      0.46      0.33       478\n",
      "\n",
      "    accuracy                           0.31      4135\n",
      "   macro avg       0.24      0.25      0.22      4135\n",
      "weighted avg       0.35      0.31      0.31      4135\n",
      "\n"
     ]
    },
    {
     "name": "stderr",
     "output_type": "stream",
     "text": [
      "\r",
      " 59%|█████▉    | 16/27 [17:09<15:55, 86.90s/it]"
     ]
    },
    {
     "name": "stdout",
     "output_type": "stream",
     "text": [
      "Index(['month', 'day', 'year', 'hour', 'minute', 'holiday', 'day.1',\n",
      "       'Pandemic', 'temperature', 'humidity', 'pressure',\n",
      "       'heavy intensity rain', 'light rain', 'broken clouds', 'moderate rain',\n",
      "       'mist'],\n",
      "      dtype='object')\n",
      "For 16 features: \n",
      " Accuracy: 0.2475538066779921 \n",
      " Precision: 0.2475538066779921 \n",
      " Recall: 0.2475538066779921 \n",
      " F1 score: 0.2475538066779921\n",
      "              precision    recall  f1-score   support\n",
      "\n",
      "        10.0       0.59      0.53      0.56      1490\n",
      "        20.0       0.21      0.09      0.13       678\n",
      "        30.0       0.10      0.12      0.11       386\n",
      "        40.0       0.20      0.13      0.16       424\n",
      "        50.0       0.02      0.23      0.04        56\n",
      "        60.0       0.26      0.10      0.14       656\n",
      "       100.0       0.23      0.47      0.31       439\n",
      "\n",
      "    accuracy                           0.30      4129\n",
      "   macro avg       0.23      0.24      0.21      4129\n",
      "weighted avg       0.34      0.30      0.30      4129\n",
      "\n"
     ]
    },
    {
     "name": "stderr",
     "output_type": "stream",
     "text": [
      "\r",
      " 63%|██████▎   | 17/27 [18:53<15:21, 92.18s/it]"
     ]
    },
    {
     "name": "stdout",
     "output_type": "stream",
     "text": [
      "Index(['month', 'day', 'year', 'hour', 'minute', 'holiday', 'day.1',\n",
      "       'Pandemic', 'temperature', 'humidity', 'pressure',\n",
      "       'heavy intensity rain', 'light rain', 'broken clouds', 'moderate rain',\n",
      "       'mist', 'overcast clouds'],\n",
      "      dtype='object')\n",
      "For 17 features: \n",
      " Accuracy: 0.24726732967063889 \n",
      " Precision: 0.24726732967063889 \n",
      " Recall: 0.24726732967063889 \n",
      " F1 score: 0.24726732967063889\n",
      "              precision    recall  f1-score   support\n",
      "\n",
      "        10.0       0.61      0.51      0.55      1476\n",
      "        20.0       0.21      0.12      0.16       665\n",
      "        30.0       0.12      0.18      0.14       368\n",
      "        40.0       0.24      0.12      0.16       441\n",
      "        50.0       0.04      0.28      0.07        78\n",
      "        60.0       0.29      0.14      0.19       650\n",
      "       100.0       0.25      0.47      0.33       445\n",
      "\n",
      "    accuracy                           0.31      4123\n",
      "   macro avg       0.25      0.26      0.23      4123\n",
      "weighted avg       0.36      0.31      0.32      4123\n",
      "\n"
     ]
    },
    {
     "name": "stderr",
     "output_type": "stream",
     "text": [
      "\r",
      " 67%|██████▋   | 18/27 [20:47<14:46, 98.50s/it]"
     ]
    },
    {
     "name": "stdout",
     "output_type": "stream",
     "text": [
      "Index(['month', 'day', 'year', 'hour', 'minute', 'holiday', 'day.1',\n",
      "       'Pandemic', 'temperature', 'humidity', 'pressure',\n",
      "       'heavy intensity rain', 'light rain', 'broken clouds', 'moderate rain',\n",
      "       'mist', 'overcast clouds', 'clear sky'],\n",
      "      dtype='object')\n",
      "For 18 features: \n",
      " Accuracy: 0.24831166130411306 \n",
      " Precision: 0.24831166130411306 \n",
      " Recall: 0.24831166130411306 \n",
      " F1 score: 0.24831166130411306\n",
      "              precision    recall  f1-score   support\n",
      "\n",
      "        10.0       0.56      0.49      0.52      1440\n",
      "        20.0       0.21      0.12      0.15       670\n",
      "        30.0       0.09      0.10      0.10       354\n",
      "        40.0       0.16      0.15      0.15       418\n",
      "        50.0       0.03      0.23      0.05        74\n",
      "        60.0       0.28      0.09      0.14       697\n",
      "       100.0       0.24      0.46      0.32       464\n",
      "\n",
      "    accuracy                           0.28      4117\n",
      "   macro avg       0.23      0.23      0.20      4117\n",
      "weighted avg       0.33      0.28      0.29      4117\n",
      "\n"
     ]
    },
    {
     "name": "stderr",
     "output_type": "stream",
     "text": [
      "\r",
      " 70%|███████   | 19/27 [22:39<13:41, 102.70s/it]"
     ]
    },
    {
     "name": "stdout",
     "output_type": "stream",
     "text": [
      "Index(['month', 'day', 'year', 'hour', 'minute', 'holiday', 'day.1',\n",
      "       'Pandemic', 'temperature', 'humidity', 'pressure',\n",
      "       'heavy intensity rain', 'light rain', 'broken clouds', 'moderate rain',\n",
      "       'mist', 'overcast clouds', 'clear sky', 'scattered clouds'],\n",
      "      dtype='object')\n",
      "For 19 features: \n",
      " Accuracy: 0.24658693655954825 \n",
      " Precision: 0.24658693655954825 \n",
      " Recall: 0.24658693655954825 \n",
      " F1 score: 0.24658693655954825\n",
      "              precision    recall  f1-score   support\n",
      "\n",
      "        10.0       0.59      0.52      0.55      1422\n",
      "        20.0       0.20      0.10      0.13       661\n",
      "        30.0       0.12      0.15      0.14       366\n",
      "        40.0       0.17      0.13      0.15       423\n",
      "        50.0       0.03      0.28      0.06        65\n",
      "        60.0       0.29      0.12      0.17       714\n",
      "       100.0       0.23      0.44      0.31       460\n",
      "\n",
      "    accuracy                           0.30      4111\n",
      "   macro avg       0.23      0.25      0.21      4111\n",
      "weighted avg       0.34      0.30      0.30      4111\n",
      "\n"
     ]
    },
    {
     "name": "stderr",
     "output_type": "stream",
     "text": [
      "\r",
      " 74%|███████▍  | 20/27 [24:32<12:20, 105.85s/it]"
     ]
    },
    {
     "name": "stdout",
     "output_type": "stream",
     "text": [
      "Index(['month', 'day', 'year', 'hour', 'minute', 'holiday', 'day.1',\n",
      "       'Pandemic', 'temperature', 'humidity', 'pressure',\n",
      "       'heavy intensity rain', 'light rain', 'broken clouds', 'moderate rain',\n",
      "       'mist', 'overcast clouds', 'clear sky', 'scattered clouds',\n",
      "       'thunderstorm with rain'],\n",
      "      dtype='object')\n",
      "For 20 features: \n",
      " Accuracy: 0.24619983113487146 \n",
      " Precision: 0.24619983113487146 \n",
      " Recall: 0.24619983113487146 \n",
      " F1 score: 0.24619983113487146\n",
      "              precision    recall  f1-score   support\n",
      "\n",
      "        10.0       0.59      0.48      0.53      1426\n",
      "        20.0       0.19      0.09      0.12       681\n",
      "        30.0       0.11      0.16      0.13       373\n",
      "        40.0       0.19      0.19      0.19       420\n",
      "        50.0       0.03      0.28      0.06        67\n",
      "        60.0       0.27      0.09      0.14       676\n",
      "       100.0       0.25      0.43      0.31       462\n",
      "\n",
      "    accuracy                           0.29      4105\n",
      "   macro avg       0.23      0.25      0.21      4105\n",
      "weighted avg       0.34      0.29      0.30      4105\n",
      "\n"
     ]
    },
    {
     "name": "stderr",
     "output_type": "stream",
     "text": [
      "\r",
      " 78%|███████▊  | 21/27 [26:09<10:18, 103.15s/it]"
     ]
    },
    {
     "name": "stdout",
     "output_type": "stream",
     "text": [
      "Index(['month', 'day', 'year', 'hour', 'minute', 'holiday', 'day.1',\n",
      "       'Pandemic', 'temperature', 'humidity', 'pressure',\n",
      "       'heavy intensity rain', 'light rain', 'broken clouds', 'moderate rain',\n",
      "       'mist', 'overcast clouds', 'clear sky', 'scattered clouds',\n",
      "       'thunderstorm with rain', 'few clouds'],\n",
      "      dtype='object')\n",
      "For 21 features: \n",
      " Accuracy: 0.24840663571354255 \n",
      " Precision: 0.24840663571354255 \n",
      " Recall: 0.24840663571354255 \n",
      " F1 score: 0.24840663571354255\n",
      "              precision    recall  f1-score   support\n",
      "\n",
      "        10.0       0.61      0.50      0.55      1461\n",
      "        20.0       0.21      0.14      0.17       645\n",
      "        30.0       0.12      0.12      0.12       362\n",
      "        40.0       0.15      0.12      0.13       417\n",
      "        50.0       0.04      0.31      0.06        74\n",
      "        60.0       0.29      0.11      0.16       683\n",
      "       100.0       0.25      0.48      0.33       457\n",
      "\n",
      "    accuracy                           0.30      4099\n",
      "   macro avg       0.24      0.25      0.22      4099\n",
      "weighted avg       0.35      0.30      0.31      4099\n",
      "\n"
     ]
    },
    {
     "name": "stderr",
     "output_type": "stream",
     "text": [
      "\r",
      " 81%|████████▏ | 22/27 [27:45<08:24, 100.89s/it]"
     ]
    },
    {
     "name": "stdout",
     "output_type": "stream",
     "text": [
      "Index(['month', 'day', 'year', 'hour', 'minute', 'holiday', 'day.1',\n",
      "       'Pandemic', 'temperature', 'humidity', 'pressure',\n",
      "       'heavy intensity rain', 'light rain', 'broken clouds', 'moderate rain',\n",
      "       'mist', 'overcast clouds', 'clear sky', 'scattered clouds',\n",
      "       'thunderstorm with rain', 'few clouds', 'thunderstorm'],\n",
      "      dtype='object')\n",
      "For 22 features: \n",
      " Accuracy: 0.24827253167148555 \n",
      " Precision: 0.24827253167148555 \n",
      " Recall: 0.24827253167148555 \n",
      " F1 score: 0.24827253167148555\n",
      "              precision    recall  f1-score   support\n",
      "\n",
      "        10.0       0.59      0.48      0.53      1479\n",
      "        20.0       0.21      0.12      0.15       653\n",
      "        30.0       0.09      0.13      0.11       347\n",
      "        40.0       0.19      0.12      0.15       428\n",
      "        50.0       0.03      0.28      0.05        60\n",
      "        60.0       0.26      0.10      0.15       685\n",
      "       100.0       0.22      0.42      0.29       441\n",
      "\n",
      "    accuracy                           0.28      4093\n",
      "   macro avg       0.23      0.24      0.20      4093\n",
      "weighted avg       0.34      0.28      0.30      4093\n",
      "\n"
     ]
    },
    {
     "name": "stderr",
     "output_type": "stream",
     "text": [
      "\r",
      " 85%|████████▌ | 23/27 [29:39<06:59, 104.97s/it]"
     ]
    },
    {
     "name": "stdout",
     "output_type": "stream",
     "text": [
      "Index(['month', 'day', 'year', 'hour', 'minute', 'holiday', 'day.1',\n",
      "       'Pandemic', 'temperature', 'humidity', 'pressure',\n",
      "       'heavy intensity rain', 'light rain', 'broken clouds', 'moderate rain',\n",
      "       'mist', 'overcast clouds', 'clear sky', 'scattered clouds',\n",
      "       'thunderstorm with rain', 'few clouds', 'thunderstorm', 'shower rain'],\n",
      "      dtype='object')\n",
      "For 23 features: \n",
      " Accuracy: 0.24763916466636252 \n",
      " Precision: 0.24763916466636252 \n",
      " Recall: 0.24763916466636252 \n",
      " F1 score: 0.24763916466636252\n",
      "              precision    recall  f1-score   support\n",
      "\n",
      "        10.0       0.60      0.50      0.55      1453\n",
      "        20.0       0.19      0.09      0.13       659\n",
      "        30.0       0.10      0.15      0.12       374\n",
      "        40.0       0.17      0.13      0.15       415\n",
      "        50.0       0.03      0.29      0.05        59\n",
      "        60.0       0.31      0.09      0.14       675\n",
      "       100.0       0.25      0.47      0.32       452\n",
      "\n",
      "    accuracy                           0.29      4087\n",
      "   macro avg       0.23      0.25      0.21      4087\n",
      "weighted avg       0.35      0.29      0.30      4087\n",
      "\n"
     ]
    },
    {
     "name": "stderr",
     "output_type": "stream",
     "text": [
      "\r",
      " 89%|████████▉ | 24/27 [31:44<05:32, 110.82s/it]"
     ]
    },
    {
     "name": "stdout",
     "output_type": "stream",
     "text": [
      "Index(['month', 'day', 'year', 'hour', 'minute', 'holiday', 'day.1',\n",
      "       'Pandemic', 'temperature', 'humidity', 'pressure',\n",
      "       'heavy intensity rain', 'light rain', 'broken clouds', 'moderate rain',\n",
      "       'mist', 'overcast clouds', 'clear sky', 'scattered clouds',\n",
      "       'thunderstorm with rain', 'few clouds', 'thunderstorm', 'shower rain',\n",
      "       'very heavy rain'],\n",
      "      dtype='object')\n",
      "For 24 features: \n",
      " Accuracy: 0.24975398909185667 \n",
      " Precision: 0.24975398909185667 \n",
      " Recall: 0.24975398909185667 \n",
      " F1 score: 0.24975398909185667\n",
      "              precision    recall  f1-score   support\n",
      "\n",
      "        10.0       0.58      0.49      0.53      1433\n",
      "        20.0       0.21      0.11      0.15       679\n",
      "        30.0       0.11      0.17      0.13       343\n",
      "        40.0       0.20      0.19      0.20       422\n",
      "        50.0       0.03      0.26      0.06        73\n",
      "        60.0       0.23      0.07      0.11       676\n",
      "       100.0       0.25      0.44      0.31       455\n",
      "\n",
      "    accuracy                           0.29      4081\n",
      "   macro avg       0.23      0.25      0.21      4081\n",
      "weighted avg       0.33      0.29      0.30      4081\n",
      "\n"
     ]
    },
    {
     "name": "stderr",
     "output_type": "stream",
     "text": [
      "\r",
      " 93%|█████████▎| 25/27 [34:02<03:57, 118.96s/it]"
     ]
    },
    {
     "name": "stdout",
     "output_type": "stream",
     "text": [
      "Index(['month', 'day', 'year', 'hour', 'minute', 'holiday', 'day.1',\n",
      "       'Pandemic', 'temperature', 'humidity', 'pressure',\n",
      "       'heavy intensity rain', 'light rain', 'broken clouds', 'moderate rain',\n",
      "       'mist', 'overcast clouds', 'clear sky', 'scattered clouds',\n",
      "       'thunderstorm with rain', 'few clouds', 'thunderstorm', 'shower rain',\n",
      "       'very heavy rain', 'fog'],\n",
      "      dtype='object')\n",
      "For 25 features: \n",
      " Accuracy: 0.24789554536459127 \n",
      " Precision: 0.24789554536459127 \n",
      " Recall: 0.24789554536459127 \n",
      " F1 score: 0.24789554536459127\n",
      "              precision    recall  f1-score   support\n",
      "\n",
      "        10.0       0.60      0.49      0.54      1414\n",
      "        20.0       0.28      0.12      0.17       670\n",
      "        30.0       0.09      0.14      0.11       347\n",
      "        40.0       0.18      0.17      0.18       436\n",
      "        50.0       0.02      0.16      0.03        61\n",
      "        60.0       0.26      0.09      0.14       678\n",
      "       100.0       0.25      0.43      0.32       469\n",
      "\n",
      "    accuracy                           0.29      4075\n",
      "   macro avg       0.24      0.23      0.21      4075\n",
      "weighted avg       0.35      0.29      0.30      4075\n",
      "\n"
     ]
    },
    {
     "name": "stderr",
     "output_type": "stream",
     "text": [
      "\r",
      " 96%|█████████▋| 26/27 [36:16<02:03, 123.52s/it]"
     ]
    },
    {
     "name": "stdout",
     "output_type": "stream",
     "text": [
      "Index(['month', 'day', 'year', 'hour', 'minute', 'holiday', 'day.1',\n",
      "       'Pandemic', 'temperature', 'humidity', 'pressure',\n",
      "       'heavy intensity rain', 'light rain', 'broken clouds', 'moderate rain',\n",
      "       'mist', 'overcast clouds', 'clear sky', 'scattered clouds',\n",
      "       'thunderstorm with rain', 'few clouds', 'thunderstorm', 'shower rain',\n",
      "       'very heavy rain', 'fog', 'haze'],\n",
      "      dtype='object')\n",
      "For 26 features: \n",
      " Accuracy: 0.24797039216632163 \n",
      " Precision: 0.24797039216632163 \n",
      " Recall: 0.24797039216632163 \n",
      " F1 score: 0.24797039216632163\n",
      "              precision    recall  f1-score   support\n",
      "\n",
      "        10.0       0.58      0.52      0.55      1397\n",
      "        20.0       0.23      0.13      0.16       654\n",
      "        30.0       0.13      0.13      0.13       383\n",
      "        40.0       0.17      0.13      0.15       383\n",
      "        50.0       0.03      0.24      0.05        84\n",
      "        60.0       0.33      0.10      0.15       684\n",
      "       100.0       0.27      0.49      0.35       484\n",
      "\n",
      "    accuracy                           0.31      4069\n",
      "   macro avg       0.25      0.25      0.22      4069\n",
      "weighted avg       0.35      0.31      0.31      4069\n",
      "\n"
     ]
    },
    {
     "name": "stderr",
     "output_type": "stream",
     "text": [
      "100%|██████████| 27/27 [38:33<00:00, 85.68s/it] \n"
     ]
    },
    {
     "name": "stdout",
     "output_type": "stream",
     "text": [
      "Index(['month', 'day', 'year', 'hour', 'minute', 'holiday', 'day.1',\n",
      "       'Pandemic', 'temperature', 'humidity', 'pressure',\n",
      "       'heavy intensity rain', 'light rain', 'broken clouds', 'moderate rain',\n",
      "       'mist', 'overcast clouds', 'clear sky', 'scattered clouds',\n",
      "       'thunderstorm with rain', 'few clouds', 'thunderstorm', 'shower rain',\n",
      "       'very heavy rain', 'fog', 'haze', 'thunderstorm with light rain'],\n",
      "      dtype='object')\n",
      "For 27 features: \n",
      " Accuracy: 0.24821548547577396 \n",
      " Precision: 0.24821548547577396 \n",
      " Recall: 0.24821548547577396 \n",
      " F1 score: 0.24821548547577396\n",
      "              precision    recall  f1-score   support\n",
      "\n",
      "        10.0       0.58      0.50      0.53      1431\n",
      "        20.0       0.26      0.14      0.19       663\n",
      "        30.0       0.12      0.13      0.13       374\n",
      "        40.0       0.14      0.13      0.14       425\n",
      "        50.0       0.02      0.16      0.04        67\n",
      "        60.0       0.26      0.11      0.15       667\n",
      "       100.0       0.25      0.48      0.33       436\n",
      "\n",
      "    accuracy                           0.30      4063\n",
      "   macro avg       0.23      0.24      0.21      4063\n",
      "weighted avg       0.34      0.30      0.30      4063\n",
      "\n",
      "\n",
      " \n",
      "\n",
      "------------------------- Analyzing method mutualInformation_reggression -------------------------\n",
      "The variable order is: \n",
      " ['month', 'day', 'year', 'hour', 'minute', 'holiday', 'day.1', 'Pandemic', 'temperature', 'humidity', 'pressure', 'heavy intensity rain', 'light rain', 'broken clouds', 'moderate rain', 'mist', 'overcast clouds', 'clear sky', 'scattered clouds', 'thunderstorm with rain', 'few clouds', 'thunderstorm', 'shower rain', 'very heavy rain', 'fog', 'haze', 'thunderstorm with light rain', 'light intensity drizzle']\n"
     ]
    },
    {
     "name": "stderr",
     "output_type": "stream",
     "text": [
      "  4%|▎         | 1/27 [00:40<17:23, 40.13s/it]"
     ]
    },
    {
     "name": "stdout",
     "output_type": "stream",
     "text": [
      "Index(['month'], dtype='object')\n",
      "For 1 features: \n",
      " Accuracy: 0.1443990622289357 \n",
      " Precision: 0.1443990622289357 \n",
      " Recall: 0.1443990622289357 \n",
      " F1 score: 0.1443990622289357\n",
      "              precision    recall  f1-score   support\n",
      "\n",
      "        10.0       0.37      0.52      0.43      1464\n",
      "        20.0       0.00      0.00      0.00       662\n",
      "        30.0       0.00      0.00      0.00       333\n",
      "        40.0       0.00      0.00      0.00       430\n",
      "        50.0       0.00      0.00      0.00        67\n",
      "        60.0       0.00      0.00      0.00       669\n",
      "       100.0       0.13      0.61      0.21       432\n",
      "\n",
      "    accuracy                           0.25      4057\n",
      "   macro avg       0.07      0.16      0.09      4057\n",
      "weighted avg       0.15      0.25      0.18      4057\n",
      "\n"
     ]
    },
    {
     "name": "stderr",
     "output_type": "stream",
     "text": [
      "\r",
      "  7%|▋         | 2/27 [01:21<17:04, 40.98s/it]"
     ]
    },
    {
     "name": "stdout",
     "output_type": "stream",
     "text": [
      "Index(['month', 'day'], dtype='object')\n",
      "For 2 features: \n",
      " Accuracy: 0.16075376368062255 \n",
      " Precision: 0.16075376368062255 \n",
      " Recall: 0.16075376368062255 \n",
      " F1 score: 0.16075376368062255\n",
      "              precision    recall  f1-score   support\n",
      "\n",
      "        10.0       0.38      0.34      0.36      1446\n",
      "        20.0       0.00      0.00      0.00       650\n",
      "        30.0       0.12      0.33      0.17       358\n",
      "        40.0       0.00      0.00      0.00       399\n",
      "        50.0       0.08      0.04      0.05        74\n",
      "        60.0       0.14      0.15      0.15       667\n",
      "       100.0       0.15      0.35      0.21       457\n",
      "\n",
      "    accuracy                           0.21      4051\n",
      "   macro avg       0.13      0.17      0.13      4051\n",
      "weighted avg       0.19      0.21      0.19      4051\n",
      "\n"
     ]
    },
    {
     "name": "stderr",
     "output_type": "stream",
     "text": [
      "\r",
      " 11%|█         | 3/27 [02:10<17:52, 44.71s/it]"
     ]
    },
    {
     "name": "stdout",
     "output_type": "stream",
     "text": [
      "Index(['month', 'day', 'year'], dtype='object')\n",
      "For 3 features: \n",
      " Accuracy: 0.22271695258306684 \n",
      " Precision: 0.22271695258306684 \n",
      " Recall: 0.22271695258306684 \n",
      " F1 score: 0.22271695258306684\n",
      "              precision    recall  f1-score   support\n",
      "\n",
      "        10.0       0.50      0.58      0.54      1433\n",
      "        20.0       0.00      0.00      0.00       691\n",
      "        30.0       0.13      0.16      0.14       352\n",
      "        40.0       0.11      0.05      0.07       406\n",
      "        50.0       0.02      0.22      0.04        81\n",
      "        60.0       0.24      0.04      0.07       630\n",
      "       100.0       0.18      0.31      0.22       452\n",
      "\n",
      "    accuracy                           0.27      4045\n",
      "   macro avg       0.17      0.19      0.15      4045\n",
      "weighted avg       0.26      0.27      0.25      4045\n",
      "\n"
     ]
    },
    {
     "name": "stderr",
     "output_type": "stream",
     "text": [
      "\r",
      " 15%|█▍        | 4/27 [03:07<18:54, 49.34s/it]"
     ]
    },
    {
     "name": "stdout",
     "output_type": "stream",
     "text": [
      "Index(['month', 'day', 'year', 'hour'], dtype='object')\n",
      "For 4 features: \n",
      " Accuracy: 0.21950357228271447 \n",
      " Precision: 0.21950357228271447 \n",
      " Recall: 0.21950357228271447 \n",
      " F1 score: 0.21950357228271447\n",
      "              precision    recall  f1-score   support\n",
      "\n",
      "        10.0       0.50      0.50      0.50      1419\n",
      "        20.0       0.17      0.04      0.07       655\n",
      "        30.0       0.12      0.22      0.15       383\n",
      "        40.0       0.17      0.04      0.06       410\n",
      "        50.0       0.04      0.22      0.07        65\n",
      "        60.0       0.28      0.16      0.20       656\n",
      "       100.0       0.18      0.36      0.24       451\n",
      "\n",
      "    accuracy                           0.28      4039\n",
      "   macro avg       0.21      0.22      0.19      4039\n",
      "weighted avg       0.30      0.28      0.27      4039\n",
      "\n"
     ]
    },
    {
     "name": "stderr",
     "output_type": "stream",
     "text": [
      "\r",
      " 19%|█▊        | 5/27 [04:04<19:10, 52.31s/it]"
     ]
    },
    {
     "name": "stdout",
     "output_type": "stream",
     "text": [
      "Index(['month', 'day', 'year', 'hour', 'minute'], dtype='object')\n",
      "For 5 features: \n",
      " Accuracy: 0.2192395598688988 \n",
      " Precision: 0.2192395598688988 \n",
      " Recall: 0.2192395598688988 \n",
      " F1 score: 0.2192395598688988\n",
      "              precision    recall  f1-score   support\n",
      "\n",
      "        10.0       0.53      0.49      0.51      1479\n",
      "        20.0       0.16      0.06      0.09       651\n",
      "        30.0       0.11      0.22      0.15       358\n",
      "        40.0       0.10      0.04      0.06       386\n",
      "        50.0       0.02      0.15      0.03        66\n",
      "        60.0       0.32      0.07      0.12       662\n",
      "       100.0       0.18      0.37      0.24       431\n",
      "\n",
      "    accuracy                           0.27      4033\n",
      "   macro avg       0.20      0.20      0.17      4033\n",
      "weighted avg       0.31      0.27      0.27      4033\n",
      "\n"
     ]
    },
    {
     "name": "stderr",
     "output_type": "stream",
     "text": [
      "\r",
      " 22%|██▏       | 6/27 [05:05<19:19, 55.19s/it]"
     ]
    },
    {
     "name": "stdout",
     "output_type": "stream",
     "text": [
      "Index(['month', 'day', 'year', 'hour', 'minute', 'holiday'], dtype='object')\n",
      "For 6 features: \n",
      " Accuracy: 0.22773095505014515 \n",
      " Precision: 0.22773095505014515 \n",
      " Recall: 0.22773095505014515 \n",
      " F1 score: 0.22773095505014515\n",
      "              precision    recall  f1-score   support\n",
      "\n",
      "        10.0       0.54      0.51      0.52      1480\n",
      "        20.0       0.20      0.08      0.12       677\n",
      "        30.0       0.12      0.20      0.15       332\n",
      "        40.0       0.13      0.08      0.10       384\n",
      "        50.0       0.03      0.27      0.05        74\n",
      "        60.0       0.33      0.10      0.16       671\n",
      "       100.0       0.18      0.29      0.22       409\n",
      "\n",
      "    accuracy                           0.28      4027\n",
      "   macro avg       0.22      0.22      0.19      4027\n",
      "weighted avg       0.33      0.28      0.28      4027\n",
      "\n"
     ]
    },
    {
     "name": "stderr",
     "output_type": "stream",
     "text": [
      "\r",
      " 26%|██▌       | 7/27 [06:07<19:09, 57.46s/it]"
     ]
    },
    {
     "name": "stdout",
     "output_type": "stream",
     "text": [
      "Index(['month', 'day', 'year', 'hour', 'minute', 'holiday', 'day.1'], dtype='object')\n",
      "For 7 features: \n",
      " Accuracy: 0.2409599688275283 \n",
      " Precision: 0.2409599688275283 \n",
      " Recall: 0.2409599688275283 \n",
      " F1 score: 0.2409599688275283\n",
      "              precision    recall  f1-score   support\n",
      "\n",
      "        10.0       0.55      0.51      0.53      1485\n",
      "        20.0       0.18      0.07      0.10       677\n",
      "        30.0       0.14      0.25      0.18       326\n",
      "        40.0       0.10      0.04      0.06       377\n",
      "        50.0       0.02      0.24      0.04        68\n",
      "        60.0       0.42      0.13      0.20       692\n",
      "       100.0       0.23      0.42      0.29       396\n",
      "\n",
      "    accuracy                           0.29      4021\n",
      "   macro avg       0.23      0.24      0.20      4021\n",
      "weighted avg       0.35      0.29      0.30      4021\n",
      "\n"
     ]
    },
    {
     "name": "stderr",
     "output_type": "stream",
     "text": [
      "\r",
      " 30%|██▉       | 8/27 [07:10<18:43, 59.14s/it]"
     ]
    },
    {
     "name": "stdout",
     "output_type": "stream",
     "text": [
      "Index(['month', 'day', 'year', 'hour', 'minute', 'holiday', 'day.1',\n",
      "       'Pandemic'],\n",
      "      dtype='object')\n",
      "For 8 features: \n",
      " Accuracy: 0.24024856549144682 \n",
      " Precision: 0.24024856549144682 \n",
      " Recall: 0.24024856549144682 \n",
      " F1 score: 0.24024856549144682\n",
      "              precision    recall  f1-score   support\n",
      "\n",
      "        10.0       0.53      0.51      0.52      1444\n",
      "        20.0       0.15      0.06      0.09       671\n",
      "        30.0       0.14      0.24      0.17       362\n",
      "        40.0       0.12      0.02      0.04       405\n",
      "        50.0       0.03      0.22      0.05        68\n",
      "        60.0       0.28      0.16      0.20       622\n",
      "       100.0       0.21      0.38      0.27       443\n",
      "\n",
      "    accuracy                           0.29      4015\n",
      "   macro avg       0.21      0.23      0.19      4015\n",
      "weighted avg       0.31      0.29      0.28      4015\n",
      "\n"
     ]
    },
    {
     "name": "stderr",
     "output_type": "stream",
     "text": [
      "\r",
      " 33%|███▎      | 9/27 [08:19<18:42, 62.36s/it]"
     ]
    },
    {
     "name": "stdout",
     "output_type": "stream",
     "text": [
      "Index(['month', 'day', 'year', 'hour', 'minute', 'holiday', 'day.1',\n",
      "       'Pandemic', 'temperature'],\n",
      "      dtype='object')\n",
      "For 9 features: \n",
      " Accuracy: 0.24151221304855036 \n",
      " Precision: 0.24151221304855036 \n",
      " Recall: 0.24151221304855036 \n",
      " F1 score: 0.24151221304855036\n",
      "              precision    recall  f1-score   support\n",
      "\n",
      "        10.0       0.59      0.47      0.53      1422\n",
      "        20.0       0.16      0.07      0.10       701\n",
      "        30.0       0.11      0.17      0.13       346\n",
      "        40.0       0.14      0.11      0.12       390\n",
      "        50.0       0.03      0.28      0.06        69\n",
      "        60.0       0.30      0.15      0.20       646\n",
      "       100.0       0.21      0.40      0.27       435\n",
      "\n",
      "    accuracy                           0.28      4009\n",
      "   macro avg       0.22      0.23      0.20      4009\n",
      "weighted avg       0.33      0.28      0.29      4009\n",
      "\n"
     ]
    },
    {
     "name": "stderr",
     "output_type": "stream",
     "text": [
      "\r",
      " 37%|███▋      | 10/27 [09:34<18:44, 66.14s/it]"
     ]
    },
    {
     "name": "stdout",
     "output_type": "stream",
     "text": [
      "Index(['month', 'day', 'year', 'hour', 'minute', 'holiday', 'day.1',\n",
      "       'Pandemic', 'temperature', 'humidity'],\n",
      "      dtype='object')\n",
      "For 10 features: \n",
      " Accuracy: 0.24357964057659875 \n",
      " Precision: 0.24357964057659875 \n",
      " Recall: 0.24357964057659875 \n",
      " F1 score: 0.24357964057659875\n",
      "              precision    recall  f1-score   support\n",
      "\n",
      "        10.0       0.59      0.50      0.54      1434\n",
      "        20.0       0.15      0.06      0.08       685\n",
      "        30.0       0.12      0.21      0.15       350\n",
      "        40.0       0.15      0.10      0.12       384\n",
      "        50.0       0.04      0.35      0.07        57\n",
      "        60.0       0.26      0.10      0.14       651\n",
      "       100.0       0.22      0.41      0.29       442\n",
      "\n",
      "    accuracy                           0.28      4003\n",
      "   macro avg       0.22      0.25      0.20      4003\n",
      "weighted avg       0.33      0.28      0.29      4003\n",
      "\n"
     ]
    },
    {
     "name": "stderr",
     "output_type": "stream",
     "text": [
      "\r",
      " 41%|████      | 11/27 [10:51<18:30, 69.43s/it]"
     ]
    },
    {
     "name": "stdout",
     "output_type": "stream",
     "text": [
      "Index(['month', 'day', 'year', 'hour', 'minute', 'holiday', 'day.1',\n",
      "       'Pandemic', 'temperature', 'humidity', 'pressure'],\n",
      "      dtype='object')\n",
      "For 11 features: \n",
      " Accuracy: 0.24466598584030078 \n",
      " Precision: 0.24466598584030078 \n",
      " Recall: 0.24466598584030078 \n",
      " F1 score: 0.24466598584030078\n",
      "              precision    recall  f1-score   support\n",
      "\n",
      "        10.0       0.60      0.51      0.55      1427\n",
      "        20.0       0.20      0.12      0.15       656\n",
      "        30.0       0.13      0.18      0.15       380\n",
      "        40.0       0.12      0.07      0.09       400\n",
      "        50.0       0.02      0.18      0.04        57\n",
      "        60.0       0.32      0.15      0.20       630\n",
      "       100.0       0.25      0.46      0.32       447\n",
      "\n",
      "    accuracy                           0.30      3997\n",
      "   macro avg       0.23      0.24      0.21      3997\n",
      "weighted avg       0.35      0.30      0.31      3997\n",
      "\n"
     ]
    },
    {
     "name": "stderr",
     "output_type": "stream",
     "text": [
      "\r",
      " 44%|████▍     | 12/27 [12:10<18:04, 72.31s/it]"
     ]
    },
    {
     "name": "stdout",
     "output_type": "stream",
     "text": [
      "Index(['month', 'day', 'year', 'hour', 'minute', 'holiday', 'day.1',\n",
      "       'Pandemic', 'temperature', 'humidity', 'pressure',\n",
      "       'heavy intensity rain'],\n",
      "      dtype='object')\n",
      "For 12 features: \n",
      " Accuracy: 0.24586154586602324 \n",
      " Precision: 0.24586154586602324 \n",
      " Recall: 0.24586154586602324 \n",
      " F1 score: 0.24586154586602324\n",
      "              precision    recall  f1-score   support\n",
      "\n",
      "        10.0       0.60      0.48      0.53      1450\n",
      "        20.0       0.19      0.10      0.13       634\n",
      "        30.0       0.12      0.19      0.15       339\n",
      "        40.0       0.21      0.13      0.16       379\n",
      "        50.0       0.04      0.30      0.06        69\n",
      "        60.0       0.33      0.12      0.18       694\n",
      "       100.0       0.23      0.46      0.31       426\n",
      "\n",
      "    accuracy                           0.29      3991\n",
      "   macro avg       0.25      0.26      0.22      3991\n",
      "weighted avg       0.36      0.29      0.31      3991\n",
      "\n"
     ]
    },
    {
     "name": "stderr",
     "output_type": "stream",
     "text": [
      "\r",
      " 48%|████▊     | 13/27 [13:31<17:30, 75.00s/it]"
     ]
    },
    {
     "name": "stdout",
     "output_type": "stream",
     "text": [
      "Index(['month', 'day', 'year', 'hour', 'minute', 'holiday', 'day.1',\n",
      "       'Pandemic', 'temperature', 'humidity', 'pressure',\n",
      "       'heavy intensity rain', 'light rain'],\n",
      "      dtype='object')\n",
      "For 13 features: \n",
      " Accuracy: 0.24778431468494425 \n",
      " Precision: 0.24778431468494425 \n",
      " Recall: 0.24778431468494425 \n",
      " F1 score: 0.24778431468494425\n",
      "              precision    recall  f1-score   support\n",
      "\n",
      "        10.0       0.61      0.51      0.55      1488\n",
      "        20.0       0.19      0.10      0.13       637\n",
      "        30.0       0.11      0.18      0.14       339\n",
      "        40.0       0.16      0.10      0.12       388\n",
      "        50.0       0.03      0.24      0.05        68\n",
      "        60.0       0.28      0.12      0.17       650\n",
      "       100.0       0.22      0.44      0.30       415\n",
      "\n",
      "    accuracy                           0.30      3985\n",
      "   macro avg       0.23      0.24      0.21      3985\n",
      "weighted avg       0.35      0.30      0.31      3985\n",
      "\n"
     ]
    },
    {
     "name": "stderr",
     "output_type": "stream",
     "text": [
      "\r",
      " 52%|█████▏    | 14/27 [14:53<16:41, 77.03s/it]"
     ]
    },
    {
     "name": "stdout",
     "output_type": "stream",
     "text": [
      "Index(['month', 'day', 'year', 'hour', 'minute', 'holiday', 'day.1',\n",
      "       'Pandemic', 'temperature', 'humidity', 'pressure',\n",
      "       'heavy intensity rain', 'light rain', 'broken clouds'],\n",
      "      dtype='object')\n",
      "For 14 features: \n",
      " Accuracy: 0.24835519059749098 \n",
      " Precision: 0.24835519059749098 \n",
      " Recall: 0.24835519059749098 \n",
      " F1 score: 0.24835519059749098\n",
      "              precision    recall  f1-score   support\n",
      "\n",
      "        10.0       0.61      0.49      0.55      1503\n",
      "        20.0       0.21      0.13      0.16       615\n",
      "        30.0       0.11      0.16      0.13       358\n",
      "        40.0       0.16      0.11      0.13       377\n",
      "        50.0       0.03      0.27      0.05        59\n",
      "        60.0       0.28      0.10      0.15       631\n",
      "       100.0       0.25      0.46      0.33       436\n",
      "\n",
      "    accuracy                           0.30      3979\n",
      "   macro avg       0.24      0.25      0.21      3979\n",
      "weighted avg       0.36      0.30      0.32      3979\n",
      "\n"
     ]
    },
    {
     "name": "stderr",
     "output_type": "stream",
     "text": [
      "\r",
      " 56%|█████▌    | 15/27 [16:44<17:28, 87.39s/it]"
     ]
    },
    {
     "name": "stdout",
     "output_type": "stream",
     "text": [
      "Index(['month', 'day', 'year', 'hour', 'minute', 'holiday', 'day.1',\n",
      "       'Pandemic', 'temperature', 'humidity', 'pressure',\n",
      "       'heavy intensity rain', 'light rain', 'broken clouds', 'moderate rain'],\n",
      "      dtype='object')\n",
      "For 15 features: \n",
      " Accuracy: 0.24795608359420226 \n",
      " Precision: 0.24795608359420226 \n",
      " Recall: 0.24795608359420226 \n",
      " F1 score: 0.24795608359420226\n",
      "              precision    recall  f1-score   support\n",
      "\n",
      "        10.0       0.59      0.51      0.55      1442\n",
      "        20.0       0.20      0.10      0.14       644\n",
      "        30.0       0.11      0.15      0.13       357\n",
      "        40.0       0.18      0.12      0.14       409\n",
      "        50.0       0.04      0.31      0.07        64\n",
      "        60.0       0.26      0.14      0.18       614\n",
      "       100.0       0.23      0.40      0.29       443\n",
      "\n",
      "    accuracy                           0.30      3973\n",
      "   macro avg       0.23      0.25      0.21      3973\n",
      "weighted avg       0.34      0.30      0.31      3973\n",
      "\n"
     ]
    },
    {
     "name": "stderr",
     "output_type": "stream",
     "text": [
      "\r",
      " 59%|█████▉    | 16/27 [18:32<17:08, 93.54s/it]"
     ]
    },
    {
     "name": "stdout",
     "output_type": "stream",
     "text": [
      "Index(['month', 'day', 'year', 'hour', 'minute', 'holiday', 'day.1',\n",
      "       'Pandemic', 'temperature', 'humidity', 'pressure',\n",
      "       'heavy intensity rain', 'light rain', 'broken clouds', 'moderate rain',\n",
      "       'mist'],\n",
      "      dtype='object')\n",
      "For 16 features: \n",
      " Accuracy: 0.24715167839395363 \n",
      " Precision: 0.24715167839395363 \n",
      " Recall: 0.24715167839395363 \n",
      " F1 score: 0.24715167839395363\n",
      "              precision    recall  f1-score   support\n",
      "\n",
      "        10.0       0.59      0.51      0.55      1400\n",
      "        20.0       0.23      0.12      0.15       620\n",
      "        30.0       0.10      0.15      0.12       347\n",
      "        40.0       0.17      0.14      0.15       411\n",
      "        50.0       0.03      0.26      0.05        66\n",
      "        60.0       0.28      0.11      0.16       666\n",
      "       100.0       0.26      0.45      0.33       457\n",
      "\n",
      "    accuracy                           0.30      3967\n",
      "   macro avg       0.24      0.25      0.22      3967\n",
      "weighted avg       0.35      0.30      0.31      3967\n",
      "\n"
     ]
    },
    {
     "name": "stderr",
     "output_type": "stream",
     "text": [
      "\r",
      " 63%|██████▎   | 17/27 [20:21<16:22, 98.26s/it]"
     ]
    },
    {
     "name": "stdout",
     "output_type": "stream",
     "text": [
      "Index(['month', 'day', 'year', 'hour', 'minute', 'holiday', 'day.1',\n",
      "       'Pandemic', 'temperature', 'humidity', 'pressure',\n",
      "       'heavy intensity rain', 'light rain', 'broken clouds', 'moderate rain',\n",
      "       'mist', 'overcast clouds'],\n",
      "      dtype='object')\n",
      "For 17 features: \n",
      " Accuracy: 0.24857194090034873 \n",
      " Precision: 0.24857194090034873 \n",
      " Recall: 0.24857194090034873 \n",
      " F1 score: 0.24857194090034873\n",
      "              precision    recall  f1-score   support\n",
      "\n",
      "        10.0       0.62      0.50      0.55      1466\n",
      "        20.0       0.25      0.12      0.17       648\n",
      "        30.0       0.08      0.12      0.09       316\n",
      "        40.0       0.17      0.12      0.14       379\n",
      "        50.0       0.03      0.25      0.05        61\n",
      "        60.0       0.29      0.14      0.19       629\n",
      "       100.0       0.24      0.43      0.31       462\n",
      "\n",
      "    accuracy                           0.30      3961\n",
      "   macro avg       0.24      0.24      0.21      3961\n",
      "weighted avg       0.37      0.30      0.32      3961\n",
      "\n"
     ]
    },
    {
     "name": "stderr",
     "output_type": "stream",
     "text": [
      "\r",
      " 67%|██████▋   | 18/27 [22:24<15:50, 105.56s/it]"
     ]
    },
    {
     "name": "stdout",
     "output_type": "stream",
     "text": [
      "Index(['month', 'day', 'year', 'hour', 'minute', 'holiday', 'day.1',\n",
      "       'Pandemic', 'temperature', 'humidity', 'pressure',\n",
      "       'heavy intensity rain', 'light rain', 'broken clouds', 'moderate rain',\n",
      "       'mist', 'overcast clouds', 'clear sky'],\n",
      "      dtype='object')\n",
      "For 18 features: \n",
      " Accuracy: 0.24939466388913245 \n",
      " Precision: 0.24939466388913245 \n",
      " Recall: 0.24939466388913245 \n",
      " F1 score: 0.24939466388913245\n",
      "              precision    recall  f1-score   support\n",
      "\n",
      "        10.0       0.62      0.49      0.55      1444\n",
      "        20.0       0.18      0.09      0.12       643\n",
      "        30.0       0.12      0.17      0.14       345\n",
      "        40.0       0.14      0.13      0.14       376\n",
      "        50.0       0.02      0.19      0.04        54\n",
      "        60.0       0.26      0.14      0.18       645\n",
      "       100.0       0.25      0.43      0.32       448\n",
      "\n",
      "    accuracy                           0.30      3955\n",
      "   macro avg       0.23      0.24      0.21      3955\n",
      "weighted avg       0.35      0.30      0.31      3955\n",
      "\n"
     ]
    },
    {
     "name": "stderr",
     "output_type": "stream",
     "text": [
      "\r",
      " 70%|███████   | 19/27 [24:29<14:52, 111.55s/it]"
     ]
    },
    {
     "name": "stdout",
     "output_type": "stream",
     "text": [
      "Index(['month', 'day', 'year', 'hour', 'minute', 'holiday', 'day.1',\n",
      "       'Pandemic', 'temperature', 'humidity', 'pressure',\n",
      "       'heavy intensity rain', 'light rain', 'broken clouds', 'moderate rain',\n",
      "       'mist', 'overcast clouds', 'clear sky', 'scattered clouds'],\n",
      "      dtype='object')\n",
      "For 19 features: \n",
      " Accuracy: 0.24931907951443963 \n",
      " Precision: 0.24931907951443963 \n",
      " Recall: 0.24931907951443963 \n",
      " F1 score: 0.24931907951443963\n",
      "              precision    recall  f1-score   support\n",
      "\n",
      "        10.0       0.59      0.48      0.53      1422\n",
      "        20.0       0.18      0.11      0.14       625\n",
      "        30.0       0.11      0.15      0.13       334\n",
      "        40.0       0.18      0.17      0.18       370\n",
      "        50.0       0.02      0.22      0.04        60\n",
      "        60.0       0.29      0.15      0.20       682\n",
      "       100.0       0.24      0.37      0.29       456\n",
      "\n",
      "    accuracy                           0.29      3949\n",
      "   macro avg       0.23      0.24      0.22      3949\n",
      "weighted avg       0.35      0.29      0.31      3949\n",
      "\n"
     ]
    },
    {
     "name": "stderr",
     "output_type": "stream",
     "text": [
      "\r",
      " 74%|███████▍  | 20/27 [26:34<13:29, 115.62s/it]"
     ]
    },
    {
     "name": "stdout",
     "output_type": "stream",
     "text": [
      "Index(['month', 'day', 'year', 'hour', 'minute', 'holiday', 'day.1',\n",
      "       'Pandemic', 'temperature', 'humidity', 'pressure',\n",
      "       'heavy intensity rain', 'light rain', 'broken clouds', 'moderate rain',\n",
      "       'mist', 'overcast clouds', 'clear sky', 'scattered clouds',\n",
      "       'thunderstorm with rain'],\n",
      "      dtype='object')\n",
      "For 20 features: \n",
      " Accuracy: 0.2482518981900664 \n",
      " Precision: 0.2482518981900664 \n",
      " Recall: 0.2482518981900664 \n",
      " F1 score: 0.2482518981900664\n",
      "              precision    recall  f1-score   support\n",
      "\n",
      "        10.0       0.59      0.48      0.53      1426\n",
      "        20.0       0.23      0.14      0.17       637\n",
      "        30.0       0.09      0.11      0.10       325\n",
      "        40.0       0.19      0.11      0.14       373\n",
      "        50.0       0.03      0.25      0.06        73\n",
      "        60.0       0.27      0.14      0.18       641\n",
      "       100.0       0.23      0.41      0.30       468\n",
      "\n",
      "    accuracy                           0.29      3943\n",
      "   macro avg       0.23      0.23      0.21      3943\n",
      "weighted avg       0.35      0.29      0.31      3943\n",
      "\n"
     ]
    },
    {
     "name": "stderr",
     "output_type": "stream",
     "text": [
      "\r",
      " 78%|███████▊  | 21/27 [28:28<11:30, 115.17s/it]"
     ]
    },
    {
     "name": "stdout",
     "output_type": "stream",
     "text": [
      "Index(['month', 'day', 'year', 'hour', 'minute', 'holiday', 'day.1',\n",
      "       'Pandemic', 'temperature', 'humidity', 'pressure',\n",
      "       'heavy intensity rain', 'light rain', 'broken clouds', 'moderate rain',\n",
      "       'mist', 'overcast clouds', 'clear sky', 'scattered clouds',\n",
      "       'thunderstorm with rain', 'few clouds'],\n",
      "      dtype='object')\n",
      "For 21 features: \n",
      " Accuracy: 0.24951611601691243 \n",
      " Precision: 0.24951611601691243 \n",
      " Recall: 0.24951611601691243 \n",
      " F1 score: 0.24951611601691243\n",
      "              precision    recall  f1-score   support\n",
      "\n",
      "        10.0       0.59      0.49      0.54      1398\n",
      "        20.0       0.20      0.13      0.15       602\n",
      "        30.0       0.13      0.17      0.15       374\n",
      "        40.0       0.16      0.14      0.15       360\n",
      "        50.0       0.03      0.30      0.06        60\n",
      "        60.0       0.30      0.13      0.18       678\n",
      "       100.0       0.24      0.36      0.29       465\n",
      "\n",
      "    accuracy                           0.29      3937\n",
      "   macro avg       0.24      0.25      0.22      3937\n",
      "weighted avg       0.35      0.29      0.31      3937\n",
      "\n"
     ]
    },
    {
     "name": "stderr",
     "output_type": "stream",
     "text": [
      "\r",
      " 81%|████████▏ | 22/27 [30:18<09:26, 113.39s/it]"
     ]
    },
    {
     "name": "stdout",
     "output_type": "stream",
     "text": [
      "Index(['month', 'day', 'year', 'hour', 'minute', 'holiday', 'day.1',\n",
      "       'Pandemic', 'temperature', 'humidity', 'pressure',\n",
      "       'heavy intensity rain', 'light rain', 'broken clouds', 'moderate rain',\n",
      "       'mist', 'overcast clouds', 'clear sky', 'scattered clouds',\n",
      "       'thunderstorm with rain', 'few clouds', 'thunderstorm'],\n",
      "      dtype='object')\n",
      "For 22 features: \n",
      " Accuracy: 0.25036755993733373 \n",
      " Precision: 0.25036755993733373 \n",
      " Recall: 0.25036755993733373 \n",
      " F1 score: 0.25036755993733373\n",
      "              precision    recall  f1-score   support\n",
      "\n",
      "        10.0       0.60      0.51      0.55      1390\n",
      "        20.0       0.24      0.11      0.15       677\n",
      "        30.0       0.11      0.15      0.13       343\n",
      "        40.0       0.17      0.16      0.17       396\n",
      "        50.0       0.01      0.13      0.03        60\n",
      "        60.0       0.23      0.13      0.16       625\n",
      "       100.0       0.23      0.36      0.28       440\n",
      "\n",
      "    accuracy                           0.29      3931\n",
      "   macro avg       0.23      0.22      0.21      3931\n",
      "weighted avg       0.34      0.29      0.31      3931\n",
      "\n"
     ]
    },
    {
     "name": "stderr",
     "output_type": "stream",
     "text": [
      "\r",
      " 85%|████████▌ | 23/27 [32:19<07:42, 115.62s/it]"
     ]
    },
    {
     "name": "stdout",
     "output_type": "stream",
     "text": [
      "Index(['month', 'day', 'year', 'hour', 'minute', 'holiday', 'day.1',\n",
      "       'Pandemic', 'temperature', 'humidity', 'pressure',\n",
      "       'heavy intensity rain', 'light rain', 'broken clouds', 'moderate rain',\n",
      "       'mist', 'overcast clouds', 'clear sky', 'scattered clouds',\n",
      "       'thunderstorm with rain', 'few clouds', 'thunderstorm', 'shower rain'],\n",
      "      dtype='object')\n",
      "For 23 features: \n",
      " Accuracy: 0.2496142247087574 \n",
      " Precision: 0.2496142247087574 \n",
      " Recall: 0.2496142247087574 \n",
      " F1 score: 0.2496142247087574\n",
      "              precision    recall  f1-score   support\n",
      "\n",
      "        10.0       0.63      0.48      0.55      1455\n",
      "        20.0       0.24      0.13      0.17       639\n",
      "        30.0       0.10      0.15      0.12       326\n",
      "        40.0       0.13      0.13      0.13       363\n",
      "        50.0       0.03      0.21      0.04        72\n",
      "        60.0       0.29      0.14      0.18       628\n",
      "       100.0       0.23      0.37      0.28       442\n",
      "\n",
      "    accuracy                           0.29      3925\n",
      "   macro avg       0.23      0.23      0.21      3925\n",
      "weighted avg       0.37      0.29      0.31      3925\n",
      "\n"
     ]
    },
    {
     "name": "stderr",
     "output_type": "stream",
     "text": [
      "\r",
      " 89%|████████▉ | 24/27 [34:24<05:55, 118.57s/it]"
     ]
    },
    {
     "name": "stdout",
     "output_type": "stream",
     "text": [
      "Index(['month', 'day', 'year', 'hour', 'minute', 'holiday', 'day.1',\n",
      "       'Pandemic', 'temperature', 'humidity', 'pressure',\n",
      "       'heavy intensity rain', 'light rain', 'broken clouds', 'moderate rain',\n",
      "       'mist', 'overcast clouds', 'clear sky', 'scattered clouds',\n",
      "       'thunderstorm with rain', 'few clouds', 'thunderstorm', 'shower rain',\n",
      "       'very heavy rain'],\n",
      "      dtype='object')\n",
      "For 24 features: \n",
      " Accuracy: 0.24979390950683072 \n",
      " Precision: 0.24979390950683072 \n",
      " Recall: 0.24979390950683072 \n",
      " F1 score: 0.24979390950683072\n",
      "              precision    recall  f1-score   support\n",
      "\n",
      "        10.0       0.60      0.48      0.53      1435\n",
      "        20.0       0.20      0.14      0.17       657\n",
      "        30.0       0.12      0.16      0.14       330\n",
      "        40.0       0.20      0.12      0.15       383\n",
      "        50.0       0.02      0.17      0.04        64\n",
      "        60.0       0.25      0.13      0.18       609\n",
      "       100.0       0.25      0.42      0.32       441\n",
      "\n",
      "    accuracy                           0.30      3919\n",
      "   macro avg       0.24      0.23      0.22      3919\n",
      "weighted avg       0.35      0.30      0.31      3919\n",
      "\n"
     ]
    },
    {
     "name": "stderr",
     "output_type": "stream",
     "text": [
      "\r",
      " 93%|█████████▎| 25/27 [36:55<04:16, 128.34s/it]"
     ]
    },
    {
     "name": "stdout",
     "output_type": "stream",
     "text": [
      "Index(['month', 'day', 'year', 'hour', 'minute', 'holiday', 'day.1',\n",
      "       'Pandemic', 'temperature', 'humidity', 'pressure',\n",
      "       'heavy intensity rain', 'light rain', 'broken clouds', 'moderate rain',\n",
      "       'mist', 'overcast clouds', 'clear sky', 'scattered clouds',\n",
      "       'thunderstorm with rain', 'few clouds', 'thunderstorm', 'shower rain',\n",
      "       'very heavy rain', 'fog'],\n",
      "      dtype='object')\n",
      "For 25 features: \n",
      " Accuracy: 0.2503963493335151 \n",
      " Precision: 0.2503963493335151 \n",
      " Recall: 0.2503963493335151 \n",
      " F1 score: 0.2503963493335151\n",
      "              precision    recall  f1-score   support\n",
      "\n",
      "        10.0       0.64      0.50      0.56      1467\n",
      "        20.0       0.20      0.14      0.16       602\n",
      "        30.0       0.13      0.17      0.15       351\n",
      "        40.0       0.17      0.16      0.16       383\n",
      "        50.0       0.02      0.16      0.04        64\n",
      "        60.0       0.26      0.16      0.20       642\n",
      "       100.0       0.24      0.43      0.31       404\n",
      "\n",
      "    accuracy                           0.31      3913\n",
      "   macro avg       0.24      0.24      0.23      3913\n",
      "weighted avg       0.37      0.31      0.33      3913\n",
      "\n"
     ]
    },
    {
     "name": "stderr",
     "output_type": "stream",
     "text": [
      "\r",
      " 96%|█████████▋| 26/27 [39:23<02:14, 134.16s/it]"
     ]
    },
    {
     "name": "stdout",
     "output_type": "stream",
     "text": [
      "Index(['month', 'day', 'year', 'hour', 'minute', 'holiday', 'day.1',\n",
      "       'Pandemic', 'temperature', 'humidity', 'pressure',\n",
      "       'heavy intensity rain', 'light rain', 'broken clouds', 'moderate rain',\n",
      "       'mist', 'overcast clouds', 'clear sky', 'scattered clouds',\n",
      "       'thunderstorm with rain', 'few clouds', 'thunderstorm', 'shower rain',\n",
      "       'very heavy rain', 'fog', 'haze'],\n",
      "      dtype='object')\n",
      "For 26 features: \n",
      " Accuracy: 0.2507821584710358 \n",
      " Precision: 0.2507821584710358 \n",
      " Recall: 0.2507821584710358 \n",
      " F1 score: 0.2507821584710358\n",
      "              precision    recall  f1-score   support\n",
      "\n",
      "        10.0       0.62      0.48      0.54      1397\n",
      "        20.0       0.22      0.15      0.17       583\n",
      "        30.0       0.14      0.20      0.16       333\n",
      "        40.0       0.17      0.14      0.16       390\n",
      "        50.0       0.03      0.21      0.05        67\n",
      "        60.0       0.28      0.15      0.19       669\n",
      "       100.0       0.27      0.44      0.34       468\n",
      "\n",
      "    accuracy                           0.31      3907\n",
      "   macro avg       0.25      0.25      0.23      3907\n",
      "weighted avg       0.36      0.31      0.32      3907\n",
      "\n"
     ]
    },
    {
     "name": "stderr",
     "output_type": "stream",
     "text": [
      "100%|██████████| 27/27 [41:57<00:00, 93.25s/it] \n"
     ]
    },
    {
     "name": "stdout",
     "output_type": "stream",
     "text": [
      "Index(['month', 'day', 'year', 'hour', 'minute', 'holiday', 'day.1',\n",
      "       'Pandemic', 'temperature', 'humidity', 'pressure',\n",
      "       'heavy intensity rain', 'light rain', 'broken clouds', 'moderate rain',\n",
      "       'mist', 'overcast clouds', 'clear sky', 'scattered clouds',\n",
      "       'thunderstorm with rain', 'few clouds', 'thunderstorm', 'shower rain',\n",
      "       'very heavy rain', 'fog', 'haze', 'thunderstorm with light rain'],\n",
      "      dtype='object')\n",
      "For 27 features: \n",
      " Accuracy: 0.25430537185740726 \n",
      " Precision: 0.25430537185740726 \n",
      " Recall: 0.25430537185740726 \n",
      " F1 score: 0.25430537185740726\n",
      "              precision    recall  f1-score   support\n",
      "\n",
      "        10.0       0.62      0.48      0.54      1433\n",
      "        20.0       0.24      0.17      0.20       639\n",
      "        30.0       0.11      0.15      0.13       350\n",
      "        40.0       0.17      0.16      0.17       368\n",
      "        50.0       0.02      0.18      0.04        61\n",
      "        60.0       0.27      0.14      0.19       601\n",
      "       100.0       0.25      0.38      0.30       449\n",
      "\n",
      "    accuracy                           0.30      3901\n",
      "   macro avg       0.24      0.24      0.22      3901\n",
      "weighted avg       0.37      0.30      0.32      3901\n",
      "\n",
      "\n",
      " \n",
      "\n",
      "------------------------- Analyzing method mutualInformation_classification2 -------------------------\n",
      "The variable order is: \n",
      " ['day', 'temperature', 'month', 'humidity', 'hour', 'pressure', 'day.1', 'year', 'holiday', 'shower rain', 'light rain', 'thunderstorm', 'fog', 'broken clouds', 'Pandemic', 'thunderstorm with rain', 'light intensity drizzle', 'thunderstorm with light rain', 'heavy intensity rain', 'mist', 'scattered clouds', 'very heavy rain', 'overcast clouds', 'moderate rain', 'minute', 'haze', 'few clouds', 'clear sky']\n"
     ]
    },
    {
     "name": "stderr",
     "output_type": "stream",
     "text": [
      "  4%|▎         | 1/27 [00:38<16:51, 38.90s/it]"
     ]
    },
    {
     "name": "stdout",
     "output_type": "stream",
     "text": [
      "Index(['day'], dtype='object')\n",
      "For 1 features: \n",
      " Accuracy: 0.17055272199455107 \n",
      " Precision: 0.17055272199455107 \n",
      " Recall: 0.17055272199455107 \n",
      " F1 score: 0.17055272199455107\n",
      "              precision    recall  f1-score   support\n",
      "\n",
      "        10.0       0.41      0.52      0.46      1458\n",
      "        20.0       0.00      0.00      0.00       616\n",
      "        30.0       0.07      0.03      0.04       337\n",
      "        40.0       0.25      0.10      0.14       367\n",
      "        50.0       0.00      0.00      0.00        62\n",
      "        60.0       0.00      0.00      0.00       605\n",
      "       100.0       0.14      0.54      0.22       450\n",
      "\n",
      "    accuracy                           0.27      3895\n",
      "   macro avg       0.13      0.17      0.12      3895\n",
      "weighted avg       0.20      0.27      0.22      3895\n",
      "\n"
     ]
    },
    {
     "name": "stderr",
     "output_type": "stream",
     "text": [
      "\r",
      "  7%|▋         | 2/27 [01:24<17:55, 43.04s/it]"
     ]
    },
    {
     "name": "stdout",
     "output_type": "stream",
     "text": [
      "Index(['day', 'temperature'], dtype='object')\n",
      "For 2 features: \n",
      " Accuracy: 0.1811145335299436 \n",
      " Precision: 0.1811145335299436 \n",
      " Recall: 0.1811145335299436 \n",
      " F1 score: 0.1811145335299436\n",
      "              precision    recall  f1-score   support\n",
      "\n",
      "        10.0       0.46      0.49      0.48      1347\n",
      "        20.0       0.20      0.01      0.02       636\n",
      "        30.0       0.08      0.09      0.08       339\n",
      "        40.0       0.12      0.24      0.16       399\n",
      "        50.0       0.00      0.00      0.00        62\n",
      "        60.0       0.31      0.02      0.03       638\n",
      "       100.0       0.15      0.38      0.22       468\n",
      "\n",
      "    accuracy                           0.25      3889\n",
      "   macro avg       0.19      0.18      0.14      3889\n",
      "weighted avg       0.28      0.25      0.22      3889\n",
      "\n"
     ]
    },
    {
     "name": "stderr",
     "output_type": "stream",
     "text": [
      "\r",
      " 11%|█         | 3/27 [02:13<18:13, 45.56s/it]"
     ]
    },
    {
     "name": "stdout",
     "output_type": "stream",
     "text": [
      "Index(['day', 'temperature', 'month'], dtype='object')\n",
      "For 3 features: \n",
      " Accuracy: 0.19312306751921152 \n",
      " Precision: 0.19312306751921152 \n",
      " Recall: 0.19312306751921152 \n",
      " F1 score: 0.19312306751921152\n",
      "              precision    recall  f1-score   support\n",
      "\n",
      "        10.0       0.45      0.45      0.45      1393\n",
      "        20.0       0.16      0.01      0.02       631\n",
      "        30.0       0.13      0.17      0.15       363\n",
      "        40.0       0.10      0.13      0.11       363\n",
      "        50.0       0.00      0.00      0.00        48\n",
      "        60.0       0.23      0.17      0.20       636\n",
      "       100.0       0.14      0.32      0.19       449\n",
      "\n",
      "    accuracy                           0.26      3883\n",
      "   macro avg       0.17      0.18      0.16      3883\n",
      "weighted avg       0.26      0.26      0.24      3883\n",
      "\n"
     ]
    },
    {
     "name": "stderr",
     "output_type": "stream",
     "text": [
      "\r",
      " 15%|█▍        | 4/27 [03:03<18:10, 47.42s/it]"
     ]
    },
    {
     "name": "stdout",
     "output_type": "stream",
     "text": [
      "Index(['day', 'temperature', 'month', 'humidity'], dtype='object')\n",
      "For 4 features: \n",
      " Accuracy: 0.218434476336532 \n",
      " Precision: 0.218434476336532 \n",
      " Recall: 0.218434476336532 \n",
      " F1 score: 0.218434476336532\n",
      "              precision    recall  f1-score   support\n",
      "\n",
      "        10.0       0.56      0.48      0.52      1483\n",
      "        20.0       0.25      0.05      0.09       607\n",
      "        30.0       0.16      0.16      0.16       298\n",
      "        40.0       0.19      0.16      0.17       376\n",
      "        50.0       0.02      0.14      0.04        76\n",
      "        60.0       0.19      0.16      0.17       598\n",
      "       100.0       0.13      0.25      0.17       439\n",
      "\n",
      "    accuracy                           0.28      3877\n",
      "   macro avg       0.22      0.20      0.19      3877\n",
      "weighted avg       0.33      0.28      0.29      3877\n",
      "\n"
     ]
    },
    {
     "name": "stderr",
     "output_type": "stream",
     "text": [
      "\r",
      " 19%|█▊        | 5/27 [04:00<18:39, 50.88s/it]"
     ]
    },
    {
     "name": "stdout",
     "output_type": "stream",
     "text": [
      "Index(['day', 'temperature', 'month', 'humidity', 'hour'], dtype='object')\n",
      "For 5 features: \n",
      " Accuracy: 0.22555048943523845 \n",
      " Precision: 0.22555048943523845 \n",
      " Recall: 0.22555048943523845 \n",
      " F1 score: 0.22555048943523845\n",
      "              precision    recall  f1-score   support\n",
      "\n",
      "        10.0       0.54      0.44      0.49      1433\n",
      "        20.0       0.17      0.06      0.08       622\n",
      "        30.0       0.13      0.23      0.17       335\n",
      "        40.0       0.13      0.07      0.09       349\n",
      "        50.0       0.03      0.15      0.05        61\n",
      "        60.0       0.21      0.15      0.17       612\n",
      "       100.0       0.19      0.40      0.25       459\n",
      "\n",
      "    accuracy                           0.27      3871\n",
      "   macro avg       0.20      0.21      0.19      3871\n",
      "weighted avg       0.31      0.27      0.27      3871\n",
      "\n"
     ]
    },
    {
     "name": "stderr",
     "output_type": "stream",
     "text": [
      "\r",
      " 22%|██▏       | 6/27 [05:01<19:00, 54.31s/it]"
     ]
    },
    {
     "name": "stdout",
     "output_type": "stream",
     "text": [
      "Index(['day', 'temperature', 'month', 'humidity', 'hour', 'pressure'], dtype='object')\n",
      "For 6 features: \n",
      " Accuracy: 0.2285388109971567 \n",
      " Precision: 0.2285388109971567 \n",
      " Recall: 0.2285388109971567 \n",
      " F1 score: 0.2285388109971567\n",
      "              precision    recall  f1-score   support\n",
      "\n",
      "        10.0       0.58      0.47      0.52      1432\n",
      "        20.0       0.18      0.08      0.11       606\n",
      "        30.0       0.14      0.23      0.17       351\n",
      "        40.0       0.14      0.10      0.12       357\n",
      "        50.0       0.02      0.21      0.04        53\n",
      "        60.0       0.17      0.07      0.10       650\n",
      "       100.0       0.21      0.42      0.28       416\n",
      "\n",
      "    accuracy                           0.28      3865\n",
      "   macro avg       0.20      0.23      0.19      3865\n",
      "weighted avg       0.32      0.28      0.28      3865\n",
      "\n"
     ]
    },
    {
     "name": "stderr",
     "output_type": "stream",
     "text": [
      "\r",
      " 26%|██▌       | 7/27 [06:01<18:45, 56.25s/it]"
     ]
    },
    {
     "name": "stdout",
     "output_type": "stream",
     "text": [
      "Index(['day', 'temperature', 'month', 'humidity', 'hour', 'pressure', 'day.1'], dtype='object')\n",
      "For 7 features: \n",
      " Accuracy: 0.22986708350048196 \n",
      " Precision: 0.22986708350048196 \n",
      " Recall: 0.22986708350048196 \n",
      " F1 score: 0.22986708350048196\n",
      "              precision    recall  f1-score   support\n",
      "\n",
      "        10.0       0.58      0.48      0.53      1441\n",
      "        20.0       0.17      0.07      0.10       592\n",
      "        30.0       0.14      0.20      0.17       327\n",
      "        40.0       0.12      0.11      0.11       369\n",
      "        50.0       0.04      0.32      0.06        57\n",
      "        60.0       0.18      0.08      0.11       635\n",
      "       100.0       0.20      0.37      0.26       438\n",
      "\n",
      "    accuracy                           0.28      3859\n",
      "   macro avg       0.20      0.23      0.19      3859\n",
      "weighted avg       0.32      0.28      0.29      3859\n",
      "\n"
     ]
    },
    {
     "name": "stderr",
     "output_type": "stream",
     "text": [
      "\r",
      " 30%|██▉       | 8/27 [07:21<20:08, 63.59s/it]"
     ]
    },
    {
     "name": "stdout",
     "output_type": "stream",
     "text": [
      "Index(['day', 'temperature', 'month', 'humidity', 'hour', 'pressure', 'day.1',\n",
      "       'year'],\n",
      "      dtype='object')\n",
      "For 8 features: \n",
      " Accuracy: 0.24282944611638754 \n",
      " Precision: 0.24282944611638754 \n",
      " Recall: 0.24282944611638754 \n",
      " F1 score: 0.24282944611638754\n",
      "              precision    recall  f1-score   support\n",
      "\n",
      "        10.0       0.59      0.48      0.53      1459\n",
      "        20.0       0.21      0.11      0.14       580\n",
      "        30.0       0.12      0.19      0.15       314\n",
      "        40.0       0.18      0.10      0.13       350\n",
      "        50.0       0.03      0.20      0.04        61\n",
      "        60.0       0.26      0.18      0.21       647\n",
      "       100.0       0.22      0.38      0.28       442\n",
      "\n",
      "    accuracy                           0.30      3853\n",
      "   macro avg       0.23      0.23      0.21      3853\n",
      "weighted avg       0.35      0.30      0.31      3853\n",
      "\n"
     ]
    },
    {
     "name": "stderr",
     "output_type": "stream",
     "text": [
      "\r",
      " 33%|███▎      | 9/27 [08:47<21:11, 70.63s/it]"
     ]
    },
    {
     "name": "stdout",
     "output_type": "stream",
     "text": [
      "Index(['day', 'temperature', 'month', 'humidity', 'hour', 'pressure', 'day.1',\n",
      "       'year', 'holiday'],\n",
      "      dtype='object')\n",
      "For 9 features: \n",
      " Accuracy: 0.2566915256662176 \n",
      " Precision: 0.2566915256662176 \n",
      " Recall: 0.2566915256662176 \n",
      " F1 score: 0.2566915256662176\n",
      "              precision    recall  f1-score   support\n",
      "\n",
      "        10.0       0.59      0.48      0.53      1457\n",
      "        20.0       0.19      0.11      0.14       608\n",
      "        30.0       0.11      0.15      0.13       305\n",
      "        40.0       0.19      0.15      0.17       364\n",
      "        50.0       0.02      0.22      0.04        55\n",
      "        60.0       0.26      0.16      0.20       603\n",
      "       100.0       0.28      0.42      0.33       455\n",
      "\n",
      "    accuracy                           0.30      3847\n",
      "   macro avg       0.23      0.24      0.22      3847\n",
      "weighted avg       0.35      0.30      0.32      3847\n",
      "\n"
     ]
    },
    {
     "name": "stderr",
     "output_type": "stream",
     "text": [
      "\r",
      " 37%|███▋      | 10/27 [10:12<21:15, 75.06s/it]"
     ]
    },
    {
     "name": "stdout",
     "output_type": "stream",
     "text": [
      "Index(['day', 'temperature', 'month', 'humidity', 'hour', 'pressure', 'day.1',\n",
      "       'year', 'holiday', 'shower rain'],\n",
      "      dtype='object')\n",
      "For 10 features: \n",
      " Accuracy: 0.2559810041534806 \n",
      " Precision: 0.2559810041534806 \n",
      " Recall: 0.2559810041534806 \n",
      " F1 score: 0.2559810041534806\n",
      "              precision    recall  f1-score   support\n",
      "\n",
      "        10.0       0.59      0.49      0.54      1385\n",
      "        20.0       0.25      0.14      0.18       612\n",
      "        30.0       0.10      0.18      0.13       326\n",
      "        40.0       0.18      0.09      0.12       350\n",
      "        50.0       0.03      0.22      0.05        58\n",
      "        60.0       0.35      0.19      0.25       668\n",
      "       100.0       0.28      0.47      0.35       442\n",
      "\n",
      "    accuracy                           0.31      3841\n",
      "   macro avg       0.25      0.26      0.23      3841\n",
      "weighted avg       0.37      0.31      0.33      3841\n",
      "\n"
     ]
    },
    {
     "name": "stderr",
     "output_type": "stream",
     "text": [
      "\r",
      " 41%|████      | 11/27 [11:42<21:17, 79.83s/it]"
     ]
    },
    {
     "name": "stdout",
     "output_type": "stream",
     "text": [
      "Index(['day', 'temperature', 'month', 'humidity', 'hour', 'pressure', 'day.1',\n",
      "       'year', 'holiday', 'shower rain', 'light rain'],\n",
      "      dtype='object')\n",
      "For 11 features: \n",
      " Accuracy: 0.2598133344253466 \n",
      " Precision: 0.2598133344253466 \n",
      " Recall: 0.2598133344253466 \n",
      " F1 score: 0.2598133344253466\n",
      "              precision    recall  f1-score   support\n",
      "\n",
      "        10.0       0.60      0.48      0.53      1412\n",
      "        20.0       0.24      0.14      0.18       584\n",
      "        30.0       0.12      0.18      0.15       336\n",
      "        40.0       0.18      0.11      0.13       389\n",
      "        50.0       0.02      0.23      0.04        56\n",
      "        60.0       0.33      0.20      0.25       636\n",
      "       100.0       0.28      0.44      0.34       422\n",
      "\n",
      "    accuracy                           0.31      3835\n",
      "   macro avg       0.25      0.25      0.23      3835\n",
      "weighted avg       0.37      0.31      0.33      3835\n",
      "\n"
     ]
    },
    {
     "name": "stderr",
     "output_type": "stream",
     "text": [
      "\r",
      " 44%|████▍     | 12/27 [13:18<21:10, 84.69s/it]"
     ]
    },
    {
     "name": "stdout",
     "output_type": "stream",
     "text": [
      "Index(['day', 'temperature', 'month', 'humidity', 'hour', 'pressure', 'day.1',\n",
      "       'year', 'holiday', 'shower rain', 'light rain', 'thunderstorm'],\n",
      "      dtype='object')\n",
      "For 12 features: \n",
      " Accuracy: 0.2615403436099843 \n",
      " Precision: 0.2615403436099843 \n",
      " Recall: 0.2615403436099843 \n",
      " F1 score: 0.2615403436099843\n",
      "              precision    recall  f1-score   support\n",
      "\n",
      "        10.0       0.60      0.48      0.53      1406\n",
      "        20.0       0.23      0.14      0.18       649\n",
      "        30.0       0.12      0.16      0.14       346\n",
      "        40.0       0.12      0.11      0.12       326\n",
      "        50.0       0.03      0.25      0.05        57\n",
      "        60.0       0.24      0.15      0.19       606\n",
      "       100.0       0.26      0.43      0.33       439\n",
      "\n",
      "    accuracy                           0.30      3829\n",
      "   macro avg       0.23      0.25      0.22      3829\n",
      "weighted avg       0.35      0.30      0.32      3829\n",
      "\n"
     ]
    },
    {
     "name": "stderr",
     "output_type": "stream",
     "text": [
      "\r",
      " 48%|████▊     | 13/27 [15:06<21:25, 91.82s/it]"
     ]
    },
    {
     "name": "stdout",
     "output_type": "stream",
     "text": [
      "Index(['day', 'temperature', 'month', 'humidity', 'hour', 'pressure', 'day.1',\n",
      "       'year', 'holiday', 'shower rain', 'light rain', 'thunderstorm', 'fog'],\n",
      "      dtype='object')\n",
      "For 13 features: \n",
      " Accuracy: 0.25898227445923405 \n",
      " Precision: 0.25898227445923405 \n",
      " Recall: 0.25898227445923405 \n",
      " F1 score: 0.25898227445923405\n",
      "              precision    recall  f1-score   support\n",
      "\n",
      "        10.0       0.61      0.47      0.53      1360\n",
      "        20.0       0.27      0.14      0.18       607\n",
      "        30.0       0.10      0.16      0.12       330\n",
      "        40.0       0.15      0.09      0.11       366\n",
      "        50.0       0.03      0.30      0.06        56\n",
      "        60.0       0.36      0.21      0.27       642\n",
      "       100.0       0.25      0.42      0.31       462\n",
      "\n",
      "    accuracy                           0.30      3823\n",
      "   macro avg       0.25      0.26      0.23      3823\n",
      "weighted avg       0.37      0.30      0.32      3823\n",
      "\n"
     ]
    },
    {
     "name": "stderr",
     "output_type": "stream",
     "text": [
      "\r",
      " 52%|█████▏    | 14/27 [16:55<20:57, 96.74s/it]"
     ]
    },
    {
     "name": "stdout",
     "output_type": "stream",
     "text": [
      "Index(['day', 'temperature', 'month', 'humidity', 'hour', 'pressure', 'day.1',\n",
      "       'year', 'holiday', 'shower rain', 'light rain', 'thunderstorm', 'fog',\n",
      "       'broken clouds'],\n",
      "      dtype='object')\n",
      "For 14 features: \n",
      " Accuracy: 0.26073179251844153 \n",
      " Precision: 0.26073179251844153 \n",
      " Recall: 0.26073179251844153 \n",
      " F1 score: 0.26073179251844153\n",
      "              precision    recall  f1-score   support\n",
      "\n",
      "        10.0       0.63      0.48      0.54      1413\n",
      "        20.0       0.27      0.15      0.20       594\n",
      "        30.0       0.12      0.20      0.15       294\n",
      "        40.0       0.15      0.10      0.12       393\n",
      "        50.0       0.02      0.16      0.04        67\n",
      "        60.0       0.32      0.20      0.25       607\n",
      "       100.0       0.25      0.41      0.31       449\n",
      "\n",
      "    accuracy                           0.31      3817\n",
      "   macro avg       0.25      0.24      0.23      3817\n",
      "weighted avg       0.38      0.31      0.33      3817\n",
      "\n"
     ]
    },
    {
     "name": "stderr",
     "output_type": "stream",
     "text": [
      "\r",
      " 56%|█████▌    | 15/27 [18:45<20:09, 100.83s/it]"
     ]
    },
    {
     "name": "stdout",
     "output_type": "stream",
     "text": [
      "Index(['day', 'temperature', 'month', 'humidity', 'hour', 'pressure', 'day.1',\n",
      "       'year', 'holiday', 'shower rain', 'light rain', 'thunderstorm', 'fog',\n",
      "       'broken clouds', 'Pandemic'],\n",
      "      dtype='object')\n",
      "For 15 features: \n",
      " Accuracy: 0.2581795199089375 \n",
      " Precision: 0.2581795199089375 \n",
      " Recall: 0.2581795199089375 \n",
      " F1 score: 0.2581795199089375\n",
      "              precision    recall  f1-score   support\n",
      "\n",
      "        10.0       0.62      0.50      0.55      1383\n",
      "        20.0       0.29      0.17      0.21       636\n",
      "        30.0       0.13      0.21      0.16       339\n",
      "        40.0       0.18      0.12      0.15       350\n",
      "        50.0       0.02      0.22      0.04        46\n",
      "        60.0       0.35      0.21      0.26       645\n",
      "       100.0       0.25      0.43      0.32       412\n",
      "\n",
      "    accuracy                           0.32      3811\n",
      "   macro avg       0.26      0.27      0.24      3811\n",
      "weighted avg       0.39      0.32      0.34      3811\n",
      "\n"
     ]
    },
    {
     "name": "stderr",
     "output_type": "stream",
     "text": [
      "\r",
      " 59%|█████▉    | 16/27 [20:31<18:47, 102.48s/it]"
     ]
    },
    {
     "name": "stdout",
     "output_type": "stream",
     "text": [
      "Index(['day', 'temperature', 'month', 'humidity', 'hour', 'pressure', 'day.1',\n",
      "       'year', 'holiday', 'shower rain', 'light rain', 'thunderstorm', 'fog',\n",
      "       'broken clouds', 'Pandemic', 'thunderstorm with rain'],\n",
      "      dtype='object')\n",
      "For 16 features: \n",
      " Accuracy: 0.2592804912473453 \n",
      " Precision: 0.2592804912473453 \n",
      " Recall: 0.2592804912473453 \n",
      " F1 score: 0.2592804912473453\n",
      "              precision    recall  f1-score   support\n",
      "\n",
      "        10.0       0.60      0.49      0.54      1390\n",
      "        20.0       0.27      0.17      0.21       637\n",
      "        30.0       0.10      0.14      0.12       312\n",
      "        40.0       0.17      0.10      0.13       389\n",
      "        50.0       0.02      0.18      0.03        51\n",
      "        60.0       0.28      0.19      0.23       604\n",
      "       100.0       0.24      0.39      0.30       422\n",
      "\n",
      "    accuracy                           0.31      3805\n",
      "   macro avg       0.24      0.24      0.22      3805\n",
      "weighted avg       0.36      0.31      0.32      3805\n",
      "\n"
     ]
    },
    {
     "name": "stderr",
     "output_type": "stream",
     "text": [
      "\r",
      " 63%|██████▎   | 17/27 [22:24<17:34, 105.48s/it]"
     ]
    },
    {
     "name": "stdout",
     "output_type": "stream",
     "text": [
      "Index(['day', 'temperature', 'month', 'humidity', 'hour', 'pressure', 'day.1',\n",
      "       'year', 'holiday', 'shower rain', 'light rain', 'thunderstorm', 'fog',\n",
      "       'broken clouds', 'Pandemic', 'thunderstorm with rain',\n",
      "       'light intensity drizzle'],\n",
      "      dtype='object')\n",
      "For 17 features: \n",
      " Accuracy: 0.25989363295164514 \n",
      " Precision: 0.25989363295164514 \n",
      " Recall: 0.25989363295164514 \n",
      " F1 score: 0.25989363295164514\n",
      "              precision    recall  f1-score   support\n",
      "\n",
      "        10.0       0.61      0.47      0.53      1391\n",
      "        20.0       0.23      0.16      0.19       590\n",
      "        30.0       0.12      0.19      0.15       321\n",
      "        40.0       0.17      0.09      0.12       379\n",
      "        50.0       0.02      0.17      0.03        53\n",
      "        60.0       0.29      0.17      0.21       609\n",
      "       100.0       0.28      0.41      0.33       456\n",
      "\n",
      "    accuracy                           0.30      3799\n",
      "   macro avg       0.24      0.24      0.22      3799\n",
      "weighted avg       0.37      0.30      0.32      3799\n",
      "\n"
     ]
    },
    {
     "name": "stderr",
     "output_type": "stream",
     "text": [
      "\r",
      " 67%|██████▋   | 18/27 [24:40<17:13, 114.86s/it]"
     ]
    },
    {
     "name": "stdout",
     "output_type": "stream",
     "text": [
      "Index(['day', 'temperature', 'month', 'humidity', 'hour', 'pressure', 'day.1',\n",
      "       'year', 'holiday', 'shower rain', 'light rain', 'thunderstorm', 'fog',\n",
      "       'broken clouds', 'Pandemic', 'thunderstorm with rain',\n",
      "       'light intensity drizzle', 'thunderstorm with light rain'],\n",
      "      dtype='object')\n",
      "For 18 features: \n",
      " Accuracy: 0.2592193775919495 \n",
      " Precision: 0.2592193775919495 \n",
      " Recall: 0.2592193775919495 \n",
      " F1 score: 0.2592193775919495\n",
      "              precision    recall  f1-score   support\n",
      "\n",
      "        10.0       0.61      0.51      0.55      1455\n",
      "        20.0       0.22      0.14      0.17       589\n",
      "        30.0       0.11      0.19      0.14       328\n",
      "        40.0       0.16      0.14      0.15       351\n",
      "        50.0       0.03      0.16      0.04        68\n",
      "        60.0       0.27      0.13      0.18       578\n",
      "       100.0       0.29      0.45      0.35       424\n",
      "\n",
      "    accuracy                           0.32      3793\n",
      "   macro avg       0.24      0.25      0.23      3793\n",
      "weighted avg       0.37      0.32      0.33      3793\n",
      "\n"
     ]
    },
    {
     "name": "stderr",
     "output_type": "stream",
     "text": [
      "\r",
      " 70%|███████   | 19/27 [26:49<15:51, 118.98s/it]"
     ]
    },
    {
     "name": "stdout",
     "output_type": "stream",
     "text": [
      "Index(['day', 'temperature', 'month', 'humidity', 'hour', 'pressure', 'day.1',\n",
      "       'year', 'holiday', 'shower rain', 'light rain', 'thunderstorm', 'fog',\n",
      "       'broken clouds', 'Pandemic', 'thunderstorm with rain',\n",
      "       'light intensity drizzle', 'thunderstorm with light rain',\n",
      "       'heavy intensity rain'],\n",
      "      dtype='object')\n",
      "For 19 features: \n",
      " Accuracy: 0.25880440870305516 \n",
      " Precision: 0.25880440870305516 \n",
      " Recall: 0.25880440870305516 \n",
      " F1 score: 0.25880440870305516\n",
      "              precision    recall  f1-score   support\n",
      "\n",
      "        10.0       0.61      0.48      0.53      1418\n",
      "        20.0       0.24      0.15      0.19       582\n",
      "        30.0       0.12      0.20      0.15       292\n",
      "        40.0       0.25      0.12      0.17       362\n",
      "        50.0       0.01      0.15      0.03        55\n",
      "        60.0       0.30      0.19      0.23       621\n",
      "       100.0       0.25      0.38      0.30       457\n",
      "\n",
      "    accuracy                           0.31      3787\n",
      "   macro avg       0.26      0.24      0.23      3787\n",
      "weighted avg       0.38      0.31      0.33      3787\n",
      "\n"
     ]
    },
    {
     "name": "stderr",
     "output_type": "stream",
     "text": [
      "\r",
      " 74%|███████▍  | 20/27 [28:56<14:10, 121.49s/it]"
     ]
    },
    {
     "name": "stdout",
     "output_type": "stream",
     "text": [
      "Index(['day', 'temperature', 'month', 'humidity', 'hour', 'pressure', 'day.1',\n",
      "       'year', 'holiday', 'shower rain', 'light rain', 'thunderstorm', 'fog',\n",
      "       'broken clouds', 'Pandemic', 'thunderstorm with rain',\n",
      "       'light intensity drizzle', 'thunderstorm with light rain',\n",
      "       'heavy intensity rain', 'mist'],\n",
      "      dtype='object')\n",
      "For 20 features: \n",
      " Accuracy: 0.2582920777287082 \n",
      " Precision: 0.2582920777287082 \n",
      " Recall: 0.2582920777287082 \n",
      " F1 score: 0.2582920777287082\n",
      "              precision    recall  f1-score   support\n",
      "\n",
      "        10.0       0.59      0.49      0.53      1384\n",
      "        20.0       0.23      0.14      0.17       573\n",
      "        30.0       0.12      0.17      0.14       342\n",
      "        40.0       0.17      0.13      0.14       371\n",
      "        50.0       0.02      0.17      0.04        65\n",
      "        60.0       0.28      0.16      0.20       603\n",
      "       100.0       0.27      0.44      0.34       443\n",
      "\n",
      "    accuracy                           0.31      3781\n",
      "   macro avg       0.24      0.24      0.22      3781\n",
      "weighted avg       0.36      0.31      0.32      3781\n",
      "\n"
     ]
    },
    {
     "name": "stderr",
     "output_type": "stream",
     "text": [
      "\r",
      " 78%|███████▊  | 21/27 [31:04<12:19, 123.32s/it]"
     ]
    },
    {
     "name": "stdout",
     "output_type": "stream",
     "text": [
      "Index(['day', 'temperature', 'month', 'humidity', 'hour', 'pressure', 'day.1',\n",
      "       'year', 'holiday', 'shower rain', 'light rain', 'thunderstorm', 'fog',\n",
      "       'broken clouds', 'Pandemic', 'thunderstorm with rain',\n",
      "       'light intensity drizzle', 'thunderstorm with light rain',\n",
      "       'heavy intensity rain', 'mist', 'scattered clouds'],\n",
      "      dtype='object')\n",
      "For 21 features: \n",
      " Accuracy: 0.258085200644816 \n",
      " Precision: 0.258085200644816 \n",
      " Recall: 0.258085200644816 \n",
      " F1 score: 0.258085200644816\n",
      "              precision    recall  f1-score   support\n",
      "\n",
      "        10.0       0.62      0.48      0.54      1414\n",
      "        20.0       0.22      0.15      0.18       582\n",
      "        30.0       0.10      0.17      0.13       310\n",
      "        40.0       0.18      0.16      0.17       381\n",
      "        50.0       0.03      0.23      0.05        62\n",
      "        60.0       0.34      0.14      0.20       596\n",
      "       100.0       0.27      0.43      0.33       430\n",
      "\n",
      "    accuracy                           0.31      3775\n",
      "   macro avg       0.25      0.25      0.23      3775\n",
      "weighted avg       0.38      0.31      0.33      3775\n",
      "\n"
     ]
    },
    {
     "name": "stderr",
     "output_type": "stream",
     "text": [
      "\r",
      " 81%|████████▏ | 22/27 [33:12<10:24, 124.90s/it]"
     ]
    },
    {
     "name": "stdout",
     "output_type": "stream",
     "text": [
      "Index(['day', 'temperature', 'month', 'humidity', 'hour', 'pressure', 'day.1',\n",
      "       'year', 'holiday', 'shower rain', 'light rain', 'thunderstorm', 'fog',\n",
      "       'broken clouds', 'Pandemic', 'thunderstorm with rain',\n",
      "       'light intensity drizzle', 'thunderstorm with light rain',\n",
      "       'heavy intensity rain', 'mist', 'scattered clouds', 'very heavy rain'],\n",
      "      dtype='object')\n",
      "For 22 features: \n",
      " Accuracy: 0.2597696238299625 \n",
      " Precision: 0.2597696238299625 \n",
      " Recall: 0.2597696238299625 \n",
      " F1 score: 0.2597696238299625\n",
      "              precision    recall  f1-score   support\n",
      "\n",
      "        10.0       0.63      0.49      0.56      1422\n",
      "        20.0       0.27      0.16      0.20       604\n",
      "        30.0       0.13      0.18      0.15       315\n",
      "        40.0       0.19      0.14      0.16       361\n",
      "        50.0       0.03      0.27      0.05        52\n",
      "        60.0       0.27      0.18      0.22       602\n",
      "       100.0       0.26      0.45      0.33       413\n",
      "\n",
      "    accuracy                           0.32      3769\n",
      "   macro avg       0.25      0.27      0.24      3769\n",
      "weighted avg       0.38      0.32      0.34      3769\n",
      "\n"
     ]
    },
    {
     "name": "stderr",
     "output_type": "stream",
     "text": [
      "\r",
      " 85%|████████▌ | 23/27 [35:15<08:17, 124.28s/it]"
     ]
    },
    {
     "name": "stdout",
     "output_type": "stream",
     "text": [
      "Index(['day', 'temperature', 'month', 'humidity', 'hour', 'pressure', 'day.1',\n",
      "       'year', 'holiday', 'shower rain', 'light rain', 'thunderstorm', 'fog',\n",
      "       'broken clouds', 'Pandemic', 'thunderstorm with rain',\n",
      "       'light intensity drizzle', 'thunderstorm with light rain',\n",
      "       'heavy intensity rain', 'mist', 'scattered clouds', 'very heavy rain',\n",
      "       'overcast clouds'],\n",
      "      dtype='object')\n",
      "For 23 features: \n",
      " Accuracy: 0.2584271621847841 \n",
      " Precision: 0.2584271621847841 \n",
      " Recall: 0.2584271621847841 \n",
      " F1 score: 0.2584271621847841\n",
      "              precision    recall  f1-score   support\n",
      "\n",
      "        10.0       0.61      0.50      0.55      1420\n",
      "        20.0       0.27      0.17      0.21       601\n",
      "        30.0       0.11      0.14      0.12       302\n",
      "        40.0       0.18      0.15      0.17       343\n",
      "        50.0       0.02      0.17      0.03        54\n",
      "        60.0       0.26      0.15      0.19       596\n",
      "       100.0       0.24      0.37      0.29       447\n",
      "\n",
      "    accuracy                           0.31      3763\n",
      "   macro avg       0.24      0.24      0.22      3763\n",
      "weighted avg       0.37      0.31      0.33      3763\n",
      "\n"
     ]
    },
    {
     "name": "stderr",
     "output_type": "stream",
     "text": [
      "\r",
      " 89%|████████▉ | 24/27 [37:30<06:22, 127.56s/it]"
     ]
    },
    {
     "name": "stdout",
     "output_type": "stream",
     "text": [
      "Index(['day', 'temperature', 'month', 'humidity', 'hour', 'pressure', 'day.1',\n",
      "       'year', 'holiday', 'shower rain', 'light rain', 'thunderstorm', 'fog',\n",
      "       'broken clouds', 'Pandemic', 'thunderstorm with rain',\n",
      "       'light intensity drizzle', 'thunderstorm with light rain',\n",
      "       'heavy intensity rain', 'mist', 'scattered clouds', 'very heavy rain',\n",
      "       'overcast clouds', 'moderate rain'],\n",
      "      dtype='object')\n",
      "For 24 features: \n",
      " Accuracy: 0.2579293615986547 \n",
      " Precision: 0.2579293615986547 \n",
      " Recall: 0.2579293615986547 \n",
      " F1 score: 0.2579293615986547\n",
      "              precision    recall  f1-score   support\n",
      "\n",
      "        10.0       0.63      0.48      0.55      1421\n",
      "        20.0       0.24      0.16      0.20       576\n",
      "        30.0       0.12      0.16      0.13       313\n",
      "        40.0       0.14      0.11      0.12       361\n",
      "        50.0       0.03      0.20      0.05        69\n",
      "        60.0       0.25      0.15      0.19       591\n",
      "       100.0       0.24      0.40      0.30       426\n",
      "\n",
      "    accuracy                           0.30      3757\n",
      "   macro avg       0.24      0.24      0.22      3757\n",
      "weighted avg       0.37      0.30      0.33      3757\n",
      "\n"
     ]
    },
    {
     "name": "stderr",
     "output_type": "stream",
     "text": [
      "\r",
      " 93%|█████████▎| 25/27 [39:50<04:22, 131.18s/it]"
     ]
    },
    {
     "name": "stdout",
     "output_type": "stream",
     "text": [
      "Index(['day', 'temperature', 'month', 'humidity', 'hour', 'pressure', 'day.1',\n",
      "       'year', 'holiday', 'shower rain', 'light rain', 'thunderstorm', 'fog',\n",
      "       'broken clouds', 'Pandemic', 'thunderstorm with rain',\n",
      "       'light intensity drizzle', 'thunderstorm with light rain',\n",
      "       'heavy intensity rain', 'mist', 'scattered clouds', 'very heavy rain',\n",
      "       'overcast clouds', 'moderate rain', 'minute'],\n",
      "      dtype='object')\n",
      "For 25 features: \n",
      " Accuracy: 0.2584686970074257 \n",
      " Precision: 0.2584686970074257 \n",
      " Recall: 0.2584686970074257 \n",
      " F1 score: 0.2584686970074257\n",
      "              precision    recall  f1-score   support\n",
      "\n",
      "        10.0       0.60      0.47      0.53      1422\n",
      "        20.0       0.21      0.15      0.18       559\n",
      "        30.0       0.11      0.14      0.12       329\n",
      "        40.0       0.20      0.13      0.16       352\n",
      "        50.0       0.02      0.21      0.04        52\n",
      "        60.0       0.31      0.17      0.22       640\n",
      "       100.0       0.27      0.47      0.34       397\n",
      "\n",
      "    accuracy                           0.31      3751\n",
      "   macro avg       0.24      0.25      0.23      3751\n",
      "weighted avg       0.37      0.31      0.33      3751\n",
      "\n"
     ]
    },
    {
     "name": "stderr",
     "output_type": "stream",
     "text": [
      "\r",
      " 96%|█████████▋| 26/27 [42:10<02:13, 133.65s/it]"
     ]
    },
    {
     "name": "stdout",
     "output_type": "stream",
     "text": [
      "Index(['day', 'temperature', 'month', 'humidity', 'hour', 'pressure', 'day.1',\n",
      "       'year', 'holiday', 'shower rain', 'light rain', 'thunderstorm', 'fog',\n",
      "       'broken clouds', 'Pandemic', 'thunderstorm with rain',\n",
      "       'light intensity drizzle', 'thunderstorm with light rain',\n",
      "       'heavy intensity rain', 'mist', 'scattered clouds', 'very heavy rain',\n",
      "       'overcast clouds', 'moderate rain', 'minute', 'haze'],\n",
      "      dtype='object')\n",
      "For 26 features: \n",
      " Accuracy: 0.2567656085005129 \n",
      " Precision: 0.2567656085005129 \n",
      " Recall: 0.2567656085005129 \n",
      " F1 score: 0.2567656085005129\n",
      "              precision    recall  f1-score   support\n",
      "\n",
      "        10.0       0.61      0.49      0.54      1418\n",
      "        20.0       0.24      0.14      0.18       586\n",
      "        30.0       0.12      0.18      0.14       326\n",
      "        40.0       0.17      0.13      0.15       343\n",
      "        50.0       0.02      0.18      0.04        61\n",
      "        60.0       0.30      0.20      0.24       583\n",
      "       100.0       0.25      0.38      0.30       428\n",
      "\n",
      "    accuracy                           0.31      3745\n",
      "   macro avg       0.25      0.24      0.23      3745\n",
      "weighted avg       0.37      0.31      0.33      3745\n",
      "\n"
     ]
    },
    {
     "name": "stderr",
     "output_type": "stream",
     "text": [
      "100%|██████████| 27/27 [44:46<00:00, 99.52s/it] \n"
     ]
    },
    {
     "name": "stdout",
     "output_type": "stream",
     "text": [
      "Index(['day', 'temperature', 'month', 'humidity', 'hour', 'pressure', 'day.1',\n",
      "       'year', 'holiday', 'shower rain', 'light rain', 'thunderstorm', 'fog',\n",
      "       'broken clouds', 'Pandemic', 'thunderstorm with rain',\n",
      "       'light intensity drizzle', 'thunderstorm with light rain',\n",
      "       'heavy intensity rain', 'mist', 'scattered clouds', 'very heavy rain',\n",
      "       'overcast clouds', 'moderate rain', 'minute', 'haze', 'few clouds'],\n",
      "      dtype='object')\n",
      "For 27 features: \n",
      " Accuracy: 0.2582175376369979 \n",
      " Precision: 0.2582175376369979 \n",
      " Recall: 0.2582175376369979 \n",
      " F1 score: 0.2582175376369979\n",
      "              precision    recall  f1-score   support\n",
      "\n",
      "        10.0       0.61      0.46      0.52      1377\n",
      "        20.0       0.22      0.14      0.17       594\n",
      "        30.0       0.10      0.17      0.13       292\n",
      "        40.0       0.14      0.12      0.13       336\n",
      "        50.0       0.03      0.19      0.05        73\n",
      "        60.0       0.31      0.18      0.23       623\n",
      "       100.0       0.26      0.39      0.31       444\n",
      "\n",
      "    accuracy                           0.29      3739\n",
      "   macro avg       0.24      0.24      0.22      3739\n",
      "weighted avg       0.36      0.29      0.32      3739\n",
      "\n",
      "\n",
      " \n",
      "\n",
      "------------------------- Analyzing method variableThreshold -------------------------\n",
      "The variable order is: \n",
      " ['month', 'day', 'year', 'hour', 'minute', 'holiday', 'day.1', 'temperature', 'humidity', 'pressure', 'heavy intensity rain', 'light rain', 'broken clouds', 'scattered clouds', 'thunderstorm with rain', 'few clouds', 'thunderstorm', 'shower rain']\n"
     ]
    },
    {
     "name": "stderr",
     "output_type": "stream",
     "text": [
      "  4%|▎         | 1/27 [00:39<16:58, 39.17s/it]"
     ]
    },
    {
     "name": "stdout",
     "output_type": "stream",
     "text": [
      "Index(['month'], dtype='object')\n",
      "For 1 features: \n",
      " Accuracy: 0.14380780277908592 \n",
      " Precision: 0.14380780277908592 \n",
      " Recall: 0.14380780277908592 \n",
      " F1 score: 0.14380780277908592\n",
      "              precision    recall  f1-score   support\n",
      "\n",
      "        10.0       0.43      0.50      0.46      1437\n",
      "        20.0       0.00      0.00      0.00       604\n",
      "        30.0       0.09      0.65      0.16       284\n",
      "        40.0       0.00      0.00      0.00       333\n",
      "        50.0       0.00      0.00      0.00        53\n",
      "        60.0       0.00      0.00      0.00       581\n",
      "       100.0       0.00      0.00      0.00       441\n",
      "\n",
      "    accuracy                           0.24      3733\n",
      "   macro avg       0.07      0.16      0.09      3733\n",
      "weighted avg       0.17      0.24      0.19      3733\n",
      "\n"
     ]
    },
    {
     "name": "stderr",
     "output_type": "stream",
     "text": [
      "\r",
      "  7%|▋         | 2/27 [01:20<16:55, 40.62s/it]"
     ]
    },
    {
     "name": "stdout",
     "output_type": "stream",
     "text": [
      "Index(['month', 'day'], dtype='object')\n",
      "For 2 features: \n",
      " Accuracy: 0.17280856585001958 \n",
      " Precision: 0.17280856585001958 \n",
      " Recall: 0.17280856585001958 \n",
      " F1 score: 0.17280856585001958\n",
      "              precision    recall  f1-score   support\n",
      "\n",
      "        10.0       0.48      0.40      0.44      1481\n",
      "        20.0       0.00      0.00      0.00       550\n",
      "        30.0       0.12      0.42      0.19       321\n",
      "        40.0       0.00      0.00      0.00       354\n",
      "        50.0       0.00      0.00      0.00        62\n",
      "        60.0       0.19      0.16      0.18       538\n",
      "       100.0       0.16      0.35      0.22       421\n",
      "\n",
      "    accuracy                           0.26      3727\n",
      "   macro avg       0.14      0.19      0.15      3727\n",
      "weighted avg       0.25      0.26      0.24      3727\n",
      "\n"
     ]
    },
    {
     "name": "stderr",
     "output_type": "stream",
     "text": [
      "\r",
      " 11%|█         | 3/27 [02:10<17:56, 44.85s/it]"
     ]
    },
    {
     "name": "stdout",
     "output_type": "stream",
     "text": [
      "Index(['month', 'day', 'year'], dtype='object')\n",
      "For 3 features: \n",
      " Accuracy: 0.2268225960402395 \n",
      " Precision: 0.2268225960402395 \n",
      " Recall: 0.2268225960402395 \n",
      " F1 score: 0.2268225960402395\n",
      "              precision    recall  f1-score   support\n",
      "\n",
      "        10.0       0.52      0.61      0.56      1380\n",
      "        20.0       0.00      0.00      0.00       587\n",
      "        30.0       0.14      0.27      0.19       302\n",
      "        40.0       0.00      0.00      0.00       360\n",
      "        50.0       0.01      0.02      0.01        46\n",
      "        60.0       0.24      0.26      0.25       619\n",
      "       100.0       0.17      0.29      0.22       427\n",
      "\n",
      "    accuracy                           0.32      3721\n",
      "   macro avg       0.16      0.21      0.17      3721\n",
      "weighted avg       0.26      0.32      0.29      3721\n",
      "\n"
     ]
    },
    {
     "name": "stderr",
     "output_type": "stream",
     "text": [
      "\r",
      " 15%|█▍        | 4/27 [03:10<19:30, 50.88s/it]"
     ]
    },
    {
     "name": "stdout",
     "output_type": "stream",
     "text": [
      "Index(['month', 'day', 'year', 'hour'], dtype='object')\n",
      "For 4 features: \n",
      " Accuracy: 0.2374869632045681 \n",
      " Precision: 0.2374869632045681 \n",
      " Recall: 0.2374869632045681 \n",
      " F1 score: 0.2374869632045681\n",
      "              precision    recall  f1-score   support\n",
      "\n",
      "        10.0       0.56      0.52      0.54      1385\n",
      "        20.0       0.21      0.04      0.07       603\n",
      "        30.0       0.12      0.33      0.18       297\n",
      "        40.0       0.22      0.07      0.11       345\n",
      "        50.0       0.04      0.04      0.04        55\n",
      "        60.0       0.30      0.29      0.29       573\n",
      "       100.0       0.21      0.38      0.27       457\n",
      "\n",
      "    accuracy                           0.33      3715\n",
      "   macro avg       0.24      0.24      0.21      3715\n",
      "weighted avg       0.35      0.33      0.32      3715\n",
      "\n"
     ]
    },
    {
     "name": "stderr",
     "output_type": "stream",
     "text": [
      "\r",
      " 19%|█▊        | 5/27 [04:13<20:11, 55.05s/it]"
     ]
    },
    {
     "name": "stdout",
     "output_type": "stream",
     "text": [
      "Index(['month', 'day', 'year', 'hour', 'minute'], dtype='object')\n",
      "For 5 features: \n",
      " Accuracy: 0.23528965493907422 \n",
      " Precision: 0.23528965493907422 \n",
      " Recall: 0.23528965493907422 \n",
      " F1 score: 0.23528965493907422\n",
      "              precision    recall  f1-score   support\n",
      "\n",
      "        10.0       0.56      0.50      0.53      1435\n",
      "        20.0       0.23      0.03      0.05       571\n",
      "        30.0       0.13      0.27      0.17       325\n",
      "        40.0       0.15      0.09      0.11       324\n",
      "        50.0       0.01      0.02      0.01        53\n",
      "        60.0       0.28      0.25      0.27       562\n",
      "       100.0       0.19      0.37      0.25       439\n",
      "\n",
      "    accuracy                           0.31      3709\n",
      "   macro avg       0.22      0.22      0.20      3709\n",
      "weighted avg       0.34      0.31      0.31      3709\n",
      "\n"
     ]
    },
    {
     "name": "stderr",
     "output_type": "stream",
     "text": [
      "\r",
      " 22%|██▏       | 6/27 [05:18<20:27, 58.46s/it]"
     ]
    },
    {
     "name": "stdout",
     "output_type": "stream",
     "text": [
      "Index(['month', 'day', 'year', 'hour', 'minute', 'holiday'], dtype='object')\n",
      "For 6 features: \n",
      " Accuracy: 0.24215906433679818 \n",
      " Precision: 0.24215906433679818 \n",
      " Recall: 0.24215906433679818 \n",
      " F1 score: 0.24215906433679818\n",
      "              precision    recall  f1-score   support\n",
      "\n",
      "        10.0       0.56      0.54      0.55      1423\n",
      "        20.0       0.19      0.05      0.08       606\n",
      "        30.0       0.12      0.25      0.17       283\n",
      "        40.0       0.09      0.04      0.05       355\n",
      "        50.0       0.02      0.12      0.03        52\n",
      "        60.0       0.30      0.23      0.26       577\n",
      "       100.0       0.19      0.31      0.23       407\n",
      "\n",
      "    accuracy                           0.31      3703\n",
      "   macro avg       0.21      0.22      0.20      3703\n",
      "weighted avg       0.33      0.31      0.31      3703\n",
      "\n"
     ]
    },
    {
     "name": "stderr",
     "output_type": "stream",
     "text": [
      "\r",
      " 26%|██▌       | 7/27 [06:26<20:31, 61.57s/it]"
     ]
    },
    {
     "name": "stdout",
     "output_type": "stream",
     "text": [
      "Index(['month', 'day', 'year', 'hour', 'minute', 'holiday', 'day.1'], dtype='object')\n",
      "For 7 features: \n",
      " Accuracy: 0.24767238688318988 \n",
      " Precision: 0.24767238688318988 \n",
      " Recall: 0.24767238688318988 \n",
      " F1 score: 0.24767238688318988\n",
      "              precision    recall  f1-score   support\n",
      "\n",
      "        10.0       0.60      0.52      0.56      1406\n",
      "        20.0       0.22      0.08      0.12       560\n",
      "        30.0       0.11      0.22      0.15       296\n",
      "        40.0       0.13      0.09      0.11       363\n",
      "        50.0       0.01      0.06      0.02        64\n",
      "        60.0       0.27      0.23      0.25       581\n",
      "       100.0       0.26      0.36      0.30       427\n",
      "\n",
      "    accuracy                           0.32      3697\n",
      "   macro avg       0.23      0.22      0.21      3697\n",
      "weighted avg       0.36      0.32      0.33      3697\n",
      "\n"
     ]
    },
    {
     "name": "stderr",
     "output_type": "stream",
     "text": [
      "\r",
      " 30%|██▉       | 8/27 [07:46<21:21, 67.46s/it]"
     ]
    },
    {
     "name": "stdout",
     "output_type": "stream",
     "text": [
      "Index(['month', 'day', 'year', 'hour', 'minute', 'holiday', 'day.1',\n",
      "       'temperature'],\n",
      "      dtype='object')\n",
      "For 8 features: \n",
      " Accuracy: 0.24615872710305017 \n",
      " Precision: 0.24615872710305017 \n",
      " Recall: 0.24615872710305017 \n",
      " F1 score: 0.24615872710305017\n",
      "              precision    recall  f1-score   support\n",
      "\n",
      "        10.0       0.62      0.44      0.51      1386\n",
      "        20.0       0.19      0.13      0.15       579\n",
      "        30.0       0.12      0.21      0.15       324\n",
      "        40.0       0.18      0.10      0.13       336\n",
      "        50.0       0.01      0.07      0.02        58\n",
      "        60.0       0.26      0.18      0.22       583\n",
      "       100.0       0.23      0.43      0.30       425\n",
      "\n",
      "    accuracy                           0.29      3691\n",
      "   macro avg       0.23      0.22      0.21      3691\n",
      "weighted avg       0.36      0.29      0.31      3691\n",
      "\n"
     ]
    },
    {
     "name": "stderr",
     "output_type": "stream",
     "text": [
      "\r",
      " 33%|███▎      | 9/27 [09:11<21:52, 72.89s/it]"
     ]
    },
    {
     "name": "stdout",
     "output_type": "stream",
     "text": [
      "Index(['month', 'day', 'year', 'hour', 'minute', 'holiday', 'day.1',\n",
      "       'temperature', 'humidity'],\n",
      "      dtype='object')\n",
      "For 9 features: \n",
      " Accuracy: 0.2412837164319824 \n",
      " Precision: 0.2412837164319824 \n",
      " Recall: 0.2412837164319824 \n",
      " F1 score: 0.2412837164319824\n",
      "              precision    recall  f1-score   support\n",
      "\n",
      "        10.0       0.58      0.48      0.52      1366\n",
      "        20.0       0.24      0.11      0.15       577\n",
      "        30.0       0.11      0.22      0.15       306\n",
      "        40.0       0.14      0.13      0.14       357\n",
      "        50.0       0.02      0.12      0.03        57\n",
      "        60.0       0.27      0.10      0.15       588\n",
      "       100.0       0.21      0.37      0.26       434\n",
      "\n",
      "    accuracy                           0.29      3685\n",
      "   macro avg       0.22      0.22      0.20      3685\n",
      "weighted avg       0.34      0.29      0.30      3685\n",
      "\n"
     ]
    },
    {
     "name": "stderr",
     "output_type": "stream",
     "text": [
      "\r",
      " 37%|███▋      | 10/27 [10:36<21:41, 76.57s/it]"
     ]
    },
    {
     "name": "stdout",
     "output_type": "stream",
     "text": [
      "Index(['month', 'day', 'year', 'hour', 'minute', 'holiday', 'day.1',\n",
      "       'temperature', 'humidity', 'pressure'],\n",
      "      dtype='object')\n",
      "For 10 features: \n",
      " Accuracy: 0.2518709034388641 \n",
      " Precision: 0.2518709034388641 \n",
      " Recall: 0.2518709034388641 \n",
      " F1 score: 0.2518709034388641\n",
      "              precision    recall  f1-score   support\n",
      "\n",
      "        10.0       0.60      0.45      0.51      1433\n",
      "        20.0       0.27      0.12      0.17       613\n",
      "        30.0       0.11      0.22      0.15       298\n",
      "        40.0       0.14      0.16      0.15       318\n",
      "        50.0       0.03      0.22      0.05        54\n",
      "        60.0       0.28      0.17      0.21       543\n",
      "       100.0       0.28      0.41      0.33       420\n",
      "\n",
      "    accuracy                           0.30      3679\n",
      "   macro avg       0.24      0.25      0.22      3679\n",
      "weighted avg       0.37      0.30      0.32      3679\n",
      "\n"
     ]
    },
    {
     "name": "stderr",
     "output_type": "stream",
     "text": [
      "\r",
      " 41%|████      | 11/27 [11:59<20:57, 78.58s/it]"
     ]
    },
    {
     "name": "stdout",
     "output_type": "stream",
     "text": [
      "Index(['month', 'day', 'year', 'hour', 'minute', 'holiday', 'day.1',\n",
      "       'temperature', 'humidity', 'pressure', 'heavy intensity rain'],\n",
      "      dtype='object')\n",
      "For 11 features: \n",
      " Accuracy: 0.25375547602729726 \n",
      " Precision: 0.25375547602729726 \n",
      " Recall: 0.25375547602729726 \n",
      " F1 score: 0.25375547602729726\n",
      "              precision    recall  f1-score   support\n",
      "\n",
      "        10.0       0.60      0.49      0.54      1402\n",
      "        20.0       0.21      0.12      0.15       565\n",
      "        30.0       0.13      0.20      0.16       299\n",
      "        40.0       0.24      0.15      0.18       354\n",
      "        50.0       0.02      0.20      0.04        50\n",
      "        60.0       0.29      0.18      0.22       579\n",
      "       100.0       0.26      0.43      0.32       424\n",
      "\n",
      "    accuracy                           0.32      3673\n",
      "   macro avg       0.25      0.25      0.23      3673\n",
      "weighted avg       0.37      0.32      0.33      3673\n",
      "\n"
     ]
    },
    {
     "name": "stderr",
     "output_type": "stream",
     "text": [
      "\r",
      " 44%|████▍     | 12/27 [13:23<20:06, 80.43s/it]"
     ]
    },
    {
     "name": "stdout",
     "output_type": "stream",
     "text": [
      "Index(['month', 'day', 'year', 'hour', 'minute', 'holiday', 'day.1',\n",
      "       'temperature', 'humidity', 'pressure', 'heavy intensity rain',\n",
      "       'light rain'],\n",
      "      dtype='object')\n",
      "For 12 features: \n",
      " Accuracy: 0.254193369645164 \n",
      " Precision: 0.254193369645164 \n",
      " Recall: 0.254193369645164 \n",
      " F1 score: 0.254193369645164\n",
      "              precision    recall  f1-score   support\n",
      "\n",
      "        10.0       0.63      0.47      0.54      1423\n",
      "        20.0       0.26      0.12      0.16       576\n",
      "        30.0       0.11      0.18      0.14       295\n",
      "        40.0       0.19      0.16      0.17       316\n",
      "        50.0       0.04      0.31      0.06        55\n",
      "        60.0       0.27      0.18      0.21       571\n",
      "       100.0       0.26      0.45      0.33       431\n",
      "\n",
      "    accuracy                           0.31      3667\n",
      "   macro avg       0.25      0.27      0.23      3667\n",
      "weighted avg       0.38      0.31      0.33      3667\n",
      "\n"
     ]
    },
    {
     "name": "stderr",
     "output_type": "stream",
     "text": [
      "\r",
      " 48%|████▊     | 13/27 [14:48<19:04, 81.75s/it]"
     ]
    },
    {
     "name": "stdout",
     "output_type": "stream",
     "text": [
      "Index(['month', 'day', 'year', 'hour', 'minute', 'holiday', 'day.1',\n",
      "       'temperature', 'humidity', 'pressure', 'heavy intensity rain',\n",
      "       'light rain', 'broken clouds'],\n",
      "      dtype='object')\n",
      "For 13 features: \n",
      " Accuracy: 0.25270533708169673 \n",
      " Precision: 0.25270533708169673 \n",
      " Recall: 0.25270533708169673 \n",
      " F1 score: 0.25270533708169673\n",
      "              precision    recall  f1-score   support\n",
      "\n",
      "        10.0       0.60      0.48      0.54      1420\n",
      "        20.0       0.25      0.10      0.15       579\n",
      "        30.0       0.11      0.16      0.13       302\n",
      "        40.0       0.12      0.14      0.13       335\n",
      "        50.0       0.02      0.21      0.04        52\n",
      "        60.0       0.23      0.13      0.17       565\n",
      "       100.0       0.28      0.46      0.35       408\n",
      "\n",
      "    accuracy                           0.30      3661\n",
      "   macro avg       0.23      0.24      0.21      3661\n",
      "weighted avg       0.36      0.30      0.32      3661\n",
      "\n"
     ]
    },
    {
     "name": "stderr",
     "output_type": "stream",
     "text": [
      "\r",
      " 52%|█████▏    | 14/27 [16:13<17:54, 82.62s/it]"
     ]
    },
    {
     "name": "stdout",
     "output_type": "stream",
     "text": [
      "Index(['month', 'day', 'year', 'hour', 'minute', 'holiday', 'day.1',\n",
      "       'temperature', 'humidity', 'pressure', 'heavy intensity rain',\n",
      "       'light rain', 'broken clouds', 'scattered clouds'],\n",
      "      dtype='object')\n",
      "For 14 features: \n",
      " Accuracy: 0.2543032848884264 \n",
      " Precision: 0.2543032848884264 \n",
      " Recall: 0.2543032848884264 \n",
      " F1 score: 0.2543032848884264\n",
      "              precision    recall  f1-score   support\n",
      "\n",
      "        10.0       0.60      0.45      0.51      1408\n",
      "        20.0       0.22      0.13      0.16       580\n",
      "        30.0       0.10      0.14      0.12       304\n",
      "        40.0       0.16      0.19      0.17       323\n",
      "        50.0       0.02      0.24      0.04        45\n",
      "        60.0       0.27      0.17      0.21       590\n",
      "       100.0       0.27      0.41      0.32       405\n",
      "\n",
      "    accuracy                           0.30      3655\n",
      "   macro avg       0.24      0.25      0.22      3655\n",
      "weighted avg       0.36      0.30      0.32      3655\n",
      "\n"
     ]
    },
    {
     "name": "stderr",
     "output_type": "stream",
     "text": [
      "\r",
      " 56%|█████▌    | 15/27 [17:39<16:46, 83.87s/it]"
     ]
    },
    {
     "name": "stdout",
     "output_type": "stream",
     "text": [
      "Index(['month', 'day', 'year', 'hour', 'minute', 'holiday', 'day.1',\n",
      "       'temperature', 'humidity', 'pressure', 'heavy intensity rain',\n",
      "       'light rain', 'broken clouds', 'scattered clouds',\n",
      "       'thunderstorm with rain'],\n",
      "      dtype='object')\n",
      "For 15 features: \n",
      " Accuracy: 0.2555618169737032 \n",
      " Precision: 0.2555618169737032 \n",
      " Recall: 0.2555618169737032 \n",
      " F1 score: 0.2555618169737032\n",
      "              precision    recall  f1-score   support\n",
      "\n",
      "        10.0       0.62      0.49      0.55      1415\n",
      "        20.0       0.25      0.15      0.18       574\n",
      "        30.0       0.12      0.18      0.14       292\n",
      "        40.0       0.11      0.12      0.12       324\n",
      "        50.0       0.03      0.22      0.05        51\n",
      "        60.0       0.28      0.16      0.20       586\n",
      "       100.0       0.25      0.40      0.31       407\n",
      "\n",
      "    accuracy                           0.31      3649\n",
      "   macro avg       0.24      0.25      0.22      3649\n",
      "weighted avg       0.37      0.31      0.33      3649\n",
      "\n"
     ]
    },
    {
     "name": "stderr",
     "output_type": "stream",
     "text": [
      "\r",
      " 59%|█████▉    | 16/27 [19:16<16:02, 87.52s/it]"
     ]
    },
    {
     "name": "stdout",
     "output_type": "stream",
     "text": [
      "Index(['month', 'day', 'year', 'hour', 'minute', 'holiday', 'day.1',\n",
      "       'temperature', 'humidity', 'pressure', 'heavy intensity rain',\n",
      "       'light rain', 'broken clouds', 'scattered clouds',\n",
      "       'thunderstorm with rain', 'few clouds'],\n",
      "      dtype='object')\n",
      "For 16 features: \n",
      " Accuracy: 0.2550948553588555 \n",
      " Precision: 0.2550948553588555 \n",
      " Recall: 0.2550948553588555 \n",
      " F1 score: 0.2550948553588555\n",
      "              precision    recall  f1-score   support\n",
      "\n",
      "        10.0       0.59      0.46      0.52      1374\n",
      "        20.0       0.23      0.13      0.17       576\n",
      "        30.0       0.12      0.19      0.14       313\n",
      "        40.0       0.14      0.11      0.12       324\n",
      "        50.0       0.02      0.20      0.04        49\n",
      "        60.0       0.25      0.15      0.19       583\n",
      "       100.0       0.27      0.42      0.33       424\n",
      "\n",
      "    accuracy                           0.30      3643\n",
      "   macro avg       0.23      0.24      0.22      3643\n",
      "weighted avg       0.35      0.30      0.31      3643\n",
      "\n"
     ]
    },
    {
     "name": "stderr",
     "output_type": "stream",
     "text": [
      "\r",
      " 63%|██████▎   | 17/27 [20:54<15:08, 90.87s/it]"
     ]
    },
    {
     "name": "stdout",
     "output_type": "stream",
     "text": [
      "Index(['month', 'day', 'year', 'hour', 'minute', 'holiday', 'day.1',\n",
      "       'temperature', 'humidity', 'pressure', 'heavy intensity rain',\n",
      "       'light rain', 'broken clouds', 'scattered clouds',\n",
      "       'thunderstorm with rain', 'few clouds', 'thunderstorm'],\n",
      "      dtype='object')\n",
      "For 17 features: \n",
      " Accuracy: 0.25605117923044296 \n",
      " Precision: 0.25605117923044296 \n",
      " Recall: 0.25605117923044296 \n",
      " F1 score: 0.25605117923044296\n",
      "              precision    recall  f1-score   support\n",
      "\n",
      "        10.0       0.62      0.48      0.54      1411\n",
      "        20.0       0.23      0.12      0.16       548\n",
      "        30.0       0.13      0.21      0.16       301\n",
      "        40.0       0.18      0.14      0.16       319\n",
      "        50.0       0.02      0.20      0.03        49\n",
      "        60.0       0.30      0.17      0.22       581\n",
      "       100.0       0.29      0.43      0.35       428\n",
      "\n",
      "    accuracy                           0.31      3637\n",
      "   macro avg       0.25      0.25      0.23      3637\n",
      "weighted avg       0.38      0.31      0.34      3637\n",
      "\n"
     ]
    },
    {
     "name": "stderr",
     "output_type": "stream",
     "text": [
      "\r",
      " 67%|██████▋   | 18/27 [22:45<14:32, 96.98s/it]"
     ]
    },
    {
     "name": "stdout",
     "output_type": "stream",
     "text": [
      "Index(['month', 'day', 'year', 'hour', 'minute', 'holiday', 'day.1',\n",
      "       'temperature', 'humidity', 'pressure', 'heavy intensity rain',\n",
      "       'light rain', 'broken clouds', 'scattered clouds',\n",
      "       'thunderstorm with rain', 'few clouds', 'thunderstorm', 'shower rain'],\n",
      "      dtype='object')\n",
      "For 18 features: \n",
      " Accuracy: 0.25545272935229185 \n",
      " Precision: 0.25545272935229185 \n",
      " Recall: 0.25545272935229185 \n",
      " F1 score: 0.25545272935229185\n",
      "              precision    recall  f1-score   support\n",
      "\n",
      "        10.0       0.60      0.46      0.52      1374\n",
      "        20.0       0.27      0.16      0.20       581\n",
      "        30.0       0.11      0.17      0.13       316\n",
      "        40.0       0.11      0.08      0.09       306\n",
      "        50.0       0.02      0.18      0.04        51\n",
      "        60.0       0.28      0.19      0.23       549\n",
      "       100.0       0.27      0.42      0.33       454\n",
      "\n",
      "    accuracy                           0.30      3631\n",
      "   macro avg       0.24      0.24      0.22      3631\n",
      "weighted avg       0.37      0.30      0.32      3631\n",
      "\n"
     ]
    },
    {
     "name": "stderr",
     "output_type": "stream",
     "text": [
      "\r",
      " 70%|███████   | 19/27 [24:37<13:30, 101.33s/it]"
     ]
    },
    {
     "name": "stdout",
     "output_type": "stream",
     "text": [
      "Index(['month', 'day', 'year', 'hour', 'minute', 'holiday', 'day.1',\n",
      "       'temperature', 'humidity', 'pressure', 'heavy intensity rain',\n",
      "       'light rain', 'broken clouds', 'scattered clouds',\n",
      "       'thunderstorm with rain', 'few clouds', 'thunderstorm', 'shower rain'],\n",
      "      dtype='object')\n",
      "For 19 features: \n",
      " Accuracy: 0.25625414423739423 \n",
      " Precision: 0.25625414423739423 \n",
      " Recall: 0.25625414423739423 \n",
      " F1 score: 0.25625414423739423\n",
      "              precision    recall  f1-score   support\n",
      "\n",
      "        10.0       0.64      0.52      0.58      1388\n",
      "        20.0       0.29      0.13      0.18       576\n",
      "        30.0       0.11      0.18      0.14       281\n",
      "        40.0       0.18      0.16      0.17       342\n",
      "        50.0       0.03      0.18      0.04        62\n",
      "        60.0       0.28      0.19      0.23       565\n",
      "       100.0       0.26      0.41      0.32       411\n",
      "\n",
      "    accuracy                           0.33      3625\n",
      "   macro avg       0.25      0.25      0.24      3625\n",
      "weighted avg       0.39      0.33      0.35      3625\n",
      "\n"
     ]
    }
   ],
   "source": [
    "analizeDF(hp4,orderOHE)"
   ]
  },
  {
   "cell_type": "code",
   "execution_count": 11,
   "id": "8f1f3977",
   "metadata": {
    "scrolled": true
   },
   "outputs": [
    {
     "name": "stdout",
     "output_type": "stream",
     "text": [
      "------------------------- Analyzing method MRMR -------------------------\n",
      "The variable order is: \n",
      " ['month', 'day', 'year', 'hour', 'minute', 'holiday', 'day.1', 'temperature', 'humidity', 'pressure', 'heavy intensity rain', 'light rain', 'broken clouds', 'scattered clouds', 'thunderstorm with rain', 'few clouds', 'thunderstorm', 'shower rain', 'heavy intensity rain', 'mist', 'scattered clouds', 'very heavy rain', 'overcast clouds', 'moderate rain', 'minute', 'haze', 'few clouds']\n"
     ]
    },
    {
     "name": "stderr",
     "output_type": "stream",
     "text": [
      "  4%|▎         | 1/27 [01:10<30:22, 70.11s/it]"
     ]
    },
    {
     "name": "stdout",
     "output_type": "stream",
     "text": [
      "Index(['month'], dtype='object')\n",
      "For 1 features: \n",
      " Accuracy: 0.14419970062139495 \n",
      " Precision: 0.14419970062139495 \n",
      " Recall: 0.14419970062139495 \n",
      " F1 score: 0.14419970062139495\n",
      "              precision    recall  f1-score   support\n",
      "\n",
      "        10.0       0.34      0.52      0.41      1497\n",
      "        20.0       0.18      0.07      0.10       825\n",
      "        30.0       0.00      0.00      0.00       468\n",
      "        40.0       0.00      0.00      0.00       568\n",
      "        50.0       0.00      0.00      0.00        76\n",
      "        60.0       0.00      0.00      0.00       777\n",
      "       100.0       0.14      0.59      0.23       500\n",
      "\n",
      "    accuracy                           0.24      4711\n",
      "   macro avg       0.09      0.17      0.11      4711\n",
      "weighted avg       0.15      0.24      0.17      4711\n",
      "\n"
     ]
    },
    {
     "name": "stderr",
     "output_type": "stream",
     "text": [
      "\r",
      "  7%|▋         | 2/27 [02:21<29:30, 70.83s/it]"
     ]
    },
    {
     "name": "stdout",
     "output_type": "stream",
     "text": [
      "Index(['month', 'day'], dtype='object')\n",
      "For 2 features: \n",
      " Accuracy: 0.16147886760258875 \n",
      " Precision: 0.16147886760258875 \n",
      " Recall: 0.16147886760258875 \n",
      " F1 score: 0.16147886760258875\n",
      "              precision    recall  f1-score   support\n",
      "\n",
      "        10.0       0.34      0.37      0.36      1468\n",
      "        20.0       0.15      0.05      0.07       796\n",
      "        30.0       0.09      0.09      0.09       459\n",
      "        40.0       0.00      0.00      0.00       541\n",
      "        50.0       0.00      0.00      0.00        89\n",
      "        60.0       0.18      0.21      0.20       838\n",
      "       100.0       0.15      0.41      0.22       514\n",
      "\n",
      "    accuracy                           0.21      4705\n",
      "   macro avg       0.13      0.16      0.13      4705\n",
      "weighted avg       0.19      0.21      0.19      4705\n",
      "\n"
     ]
    },
    {
     "name": "stderr",
     "output_type": "stream",
     "text": [
      "\r",
      " 11%|█         | 3/27 [03:55<32:29, 81.24s/it]"
     ]
    },
    {
     "name": "stdout",
     "output_type": "stream",
     "text": [
      "Index(['month', 'day', 'year'], dtype='object')\n",
      "For 3 features: \n",
      " Accuracy: 0.22302941597768594 \n",
      " Precision: 0.22302941597768594 \n",
      " Recall: 0.22302941597768594 \n",
      " F1 score: 0.22302941597768594\n",
      "              precision    recall  f1-score   support\n",
      "\n",
      "        10.0       0.54      0.61      0.57      1555\n",
      "        20.0       0.07      0.03      0.04       799\n",
      "        30.0       0.21      0.12      0.15       458\n",
      "        40.0       0.19      0.15      0.17       516\n",
      "        50.0       0.03      0.19      0.05        85\n",
      "        60.0       0.32      0.09      0.14       767\n",
      "       100.0       0.18      0.40      0.25       519\n",
      "\n",
      "    accuracy                           0.30      4699\n",
      "   macro avg       0.22      0.23      0.19      4699\n",
      "weighted avg       0.30      0.30      0.28      4699\n",
      "\n"
     ]
    },
    {
     "name": "stderr",
     "output_type": "stream",
     "text": [
      "\r",
      " 15%|█▍        | 4/27 [05:02<28:59, 75.63s/it]"
     ]
    },
    {
     "name": "stdout",
     "output_type": "stream",
     "text": [
      "Index(['month', 'day', 'year', 'hour'], dtype='object')\n",
      "For 4 features: \n",
      " Accuracy: 0.2307997739132993 \n",
      " Precision: 0.2307997739132993 \n",
      " Recall: 0.2307997739132993 \n",
      " F1 score: 0.2307997739132993\n",
      "              precision    recall  f1-score   support\n",
      "\n",
      "        10.0       0.52      0.53      0.53      1563\n",
      "        20.0       0.23      0.13      0.16       801\n",
      "        30.0       0.13      0.19      0.16       462\n",
      "        40.0       0.14      0.01      0.03       538\n",
      "        50.0       0.03      0.28      0.06        86\n",
      "        60.0       0.30      0.11      0.17       751\n",
      "       100.0       0.19      0.35      0.24       492\n",
      "\n",
      "    accuracy                           0.28      4693\n",
      "   macro avg       0.22      0.23      0.19      4693\n",
      "weighted avg       0.31      0.28      0.28      4693\n",
      "\n"
     ]
    },
    {
     "name": "stderr",
     "output_type": "stream",
     "text": [
      "\r",
      " 19%|█▊        | 5/27 [05:52<24:25, 66.60s/it]"
     ]
    },
    {
     "name": "stdout",
     "output_type": "stream",
     "text": [
      "Index(['month', 'day', 'year', 'hour', 'minute'], dtype='object')\n",
      "For 5 features: \n",
      " Accuracy: 0.23075874943397556 \n",
      " Precision: 0.23075874943397556 \n",
      " Recall: 0.23075874943397556 \n",
      " F1 score: 0.23075874943397556\n",
      "              precision    recall  f1-score   support\n",
      "\n",
      "        10.0       0.52      0.52      0.52      1547\n",
      "        20.0       0.23      0.13      0.16       787\n",
      "        30.0       0.13      0.15      0.14       432\n",
      "        40.0       0.19      0.08      0.11       527\n",
      "        50.0       0.04      0.28      0.07        92\n",
      "        60.0       0.31      0.14      0.19       808\n",
      "       100.0       0.19      0.36      0.25       494\n",
      "\n",
      "    accuracy                           0.28      4687\n",
      "   macro avg       0.23      0.24      0.21      4687\n",
      "weighted avg       0.32      0.28      0.28      4687\n",
      "\n"
     ]
    },
    {
     "name": "stderr",
     "output_type": "stream",
     "text": [
      "\r",
      " 22%|██▏       | 6/27 [06:45<21:37, 61.80s/it]"
     ]
    },
    {
     "name": "stdout",
     "output_type": "stream",
     "text": [
      "Index(['month', 'day', 'year', 'hour', 'minute', 'holiday'], dtype='object')\n",
      "For 6 features: \n",
      " Accuracy: 0.2328718629474718 \n",
      " Precision: 0.2328718629474718 \n",
      " Recall: 0.2328718629474718 \n",
      " F1 score: 0.2328718629474718\n",
      "              precision    recall  f1-score   support\n",
      "\n",
      "        10.0       0.50      0.52      0.51      1486\n",
      "        20.0       0.18      0.10      0.12       795\n",
      "        30.0       0.13      0.17      0.14       446\n",
      "        40.0       0.23      0.10      0.14       543\n",
      "        50.0       0.02      0.24      0.04        85\n",
      "        60.0       0.37      0.10      0.15       818\n",
      "       100.0       0.20      0.33      0.25       508\n",
      "\n",
      "    accuracy                           0.26      4681\n",
      "   macro avg       0.23      0.22      0.19      4681\n",
      "weighted avg       0.31      0.26      0.27      4681\n",
      "\n"
     ]
    },
    {
     "name": "stderr",
     "output_type": "stream",
     "text": [
      "\r",
      " 26%|██▌       | 7/27 [07:39<19:47, 59.39s/it]"
     ]
    },
    {
     "name": "stdout",
     "output_type": "stream",
     "text": [
      "Index(['month', 'day', 'year', 'hour', 'minute', 'holiday', 'day.1'], dtype='object')\n",
      "For 7 features: \n",
      " Accuracy: 0.24892697401964095 \n",
      " Precision: 0.24892697401964095 \n",
      " Recall: 0.24892697401964095 \n",
      " F1 score: 0.24892697401964095\n",
      "              precision    recall  f1-score   support\n",
      "\n",
      "        10.0       0.54      0.54      0.54      1547\n",
      "        20.0       0.22      0.10      0.13       847\n",
      "        30.0       0.12      0.13      0.13       447\n",
      "        40.0       0.21      0.10      0.14       537\n",
      "        50.0       0.02      0.21      0.04        84\n",
      "        60.0       0.32      0.12      0.17       746\n",
      "       100.0       0.21      0.41      0.28       467\n",
      "\n",
      "    accuracy                           0.29      4675\n",
      "   macro avg       0.23      0.23      0.20      4675\n",
      "weighted avg       0.32      0.29      0.29      4675\n",
      "\n"
     ]
    },
    {
     "name": "stderr",
     "output_type": "stream",
     "text": [
      "\r",
      " 30%|██▉       | 8/27 [08:39<18:50, 59.50s/it]"
     ]
    },
    {
     "name": "stdout",
     "output_type": "stream",
     "text": [
      "Index(['month', 'day', 'year', 'hour', 'minute', 'holiday', 'day.1',\n",
      "       'temperature'],\n",
      "      dtype='object')\n",
      "For 8 features: \n",
      " Accuracy: 0.24334485971807734 \n",
      " Precision: 0.24334485971807734 \n",
      " Recall: 0.24334485971807734 \n",
      " F1 score: 0.24334485971807734\n",
      "              precision    recall  f1-score   support\n",
      "\n",
      "        10.0       0.56      0.54      0.55      1523\n",
      "        20.0       0.17      0.10      0.12       799\n",
      "        30.0       0.11      0.13      0.12       457\n",
      "        40.0       0.21      0.10      0.13       541\n",
      "        50.0       0.03      0.28      0.05        76\n",
      "        60.0       0.38      0.10      0.15       782\n",
      "       100.0       0.22      0.46      0.30       491\n",
      "\n",
      "    accuracy                           0.29      4669\n",
      "   macro avg       0.24      0.24      0.20      4669\n",
      "weighted avg       0.33      0.29      0.29      4669\n",
      "\n"
     ]
    },
    {
     "name": "stderr",
     "output_type": "stream",
     "text": [
      "\r",
      " 33%|███▎      | 9/27 [09:43<18:18, 61.02s/it]"
     ]
    },
    {
     "name": "stdout",
     "output_type": "stream",
     "text": [
      "Index(['month', 'day', 'year', 'hour', 'minute', 'holiday', 'day.1',\n",
      "       'temperature', 'humidity'],\n",
      "      dtype='object')\n",
      "For 9 features: \n",
      " Accuracy: 0.24803411045557708 \n",
      " Precision: 0.24803411045557708 \n",
      " Recall: 0.24803411045557708 \n",
      " F1 score: 0.24803411045557708\n",
      "              precision    recall  f1-score   support\n",
      "\n",
      "        10.0       0.57      0.55      0.56      1521\n",
      "        20.0       0.20      0.11      0.14       791\n",
      "        30.0       0.15      0.13      0.14       460\n",
      "        40.0       0.25      0.17      0.20       528\n",
      "        50.0       0.05      0.37      0.08        91\n",
      "        60.0       0.36      0.10      0.16       793\n",
      "       100.0       0.20      0.42      0.27       479\n",
      "\n",
      "    accuracy                           0.30      4663\n",
      "   macro avg       0.25      0.26      0.22      4663\n",
      "weighted avg       0.34      0.30      0.30      4663\n",
      "\n"
     ]
    },
    {
     "name": "stderr",
     "output_type": "stream",
     "text": [
      "\r",
      " 37%|███▋      | 10/27 [10:48<17:35, 62.08s/it]"
     ]
    },
    {
     "name": "stdout",
     "output_type": "stream",
     "text": [
      "Index(['month', 'day', 'year', 'hour', 'minute', 'holiday', 'day.1',\n",
      "       'temperature', 'humidity', 'pressure'],\n",
      "      dtype='object')\n",
      "For 10 features: \n",
      " Accuracy: 0.2504593524156779 \n",
      " Precision: 0.2504593524156779 \n",
      " Recall: 0.2504593524156779 \n",
      " F1 score: 0.2504593524156779\n",
      "              precision    recall  f1-score   support\n",
      "\n",
      "        10.0       0.55      0.51      0.53      1475\n",
      "        20.0       0.21      0.11      0.14       785\n",
      "        30.0       0.15      0.16      0.15       471\n",
      "        40.0       0.25      0.16      0.19       566\n",
      "        50.0       0.04      0.34      0.07        85\n",
      "        60.0       0.28      0.10      0.14       802\n",
      "       100.0       0.23      0.51      0.32       473\n",
      "\n",
      "    accuracy                           0.29      4657\n",
      "   macro avg       0.24      0.27      0.22      4657\n",
      "weighted avg       0.33      0.29      0.29      4657\n",
      "\n"
     ]
    },
    {
     "name": "stderr",
     "output_type": "stream",
     "text": [
      "\r",
      " 41%|████      | 11/27 [11:53<16:50, 63.13s/it]"
     ]
    },
    {
     "name": "stdout",
     "output_type": "stream",
     "text": [
      "Index(['month', 'day', 'year', 'hour', 'minute', 'holiday', 'day.1',\n",
      "       'temperature', 'humidity', 'pressure', 'heavy intensity rain'],\n",
      "      dtype='object')\n",
      "For 11 features: \n",
      " Accuracy: 0.2494397197529172 \n",
      " Precision: 0.2494397197529172 \n",
      " Recall: 0.2494397197529172 \n",
      " F1 score: 0.2494397197529172\n",
      "              precision    recall  f1-score   support\n",
      "\n",
      "        10.0       0.56      0.56      0.56      1471\n",
      "        20.0       0.18      0.09      0.12       820\n",
      "        30.0       0.15      0.14      0.14       480\n",
      "        40.0       0.19      0.15      0.17       533\n",
      "        50.0       0.03      0.24      0.06        87\n",
      "        60.0       0.26      0.09      0.14       787\n",
      "       100.0       0.24      0.49      0.32       473\n",
      "\n",
      "    accuracy                           0.29      4651\n",
      "   macro avg       0.23      0.25      0.21      4651\n",
      "weighted avg       0.31      0.29      0.29      4651\n",
      "\n"
     ]
    },
    {
     "name": "stderr",
     "output_type": "stream",
     "text": [
      "\r",
      " 44%|████▍     | 12/27 [13:00<16:02, 64.14s/it]"
     ]
    },
    {
     "name": "stdout",
     "output_type": "stream",
     "text": [
      "Index(['month', 'day', 'year', 'hour', 'minute', 'holiday', 'day.1',\n",
      "       'temperature', 'humidity', 'pressure', 'heavy intensity rain',\n",
      "       'light rain'],\n",
      "      dtype='object')\n",
      "For 12 features: \n",
      " Accuracy: 0.2507870540830338 \n",
      " Precision: 0.2507870540830338 \n",
      " Recall: 0.2507870540830338 \n",
      " F1 score: 0.2507870540830338\n",
      "              precision    recall  f1-score   support\n",
      "\n",
      "        10.0       0.59      0.55      0.57      1550\n",
      "        20.0       0.20      0.13      0.16       801\n",
      "        30.0       0.13      0.13      0.13       439\n",
      "        40.0       0.23      0.18      0.20       532\n",
      "        50.0       0.04      0.27      0.07        94\n",
      "        60.0       0.26      0.08      0.12       734\n",
      "       100.0       0.24      0.48      0.32       495\n",
      "\n",
      "    accuracy                           0.31      4645\n",
      "   macro avg       0.24      0.26      0.22      4645\n",
      "weighted avg       0.34      0.31      0.31      4645\n",
      "\n"
     ]
    },
    {
     "name": "stderr",
     "output_type": "stream",
     "text": [
      "\r",
      " 48%|████▊     | 13/27 [14:08<15:14, 65.34s/it]"
     ]
    },
    {
     "name": "stdout",
     "output_type": "stream",
     "text": [
      "Index(['month', 'day', 'year', 'hour', 'minute', 'holiday', 'day.1',\n",
      "       'temperature', 'humidity', 'pressure', 'heavy intensity rain',\n",
      "       'light rain', 'broken clouds'],\n",
      "      dtype='object')\n",
      "For 13 features: \n",
      " Accuracy: 0.2527453191687714 \n",
      " Precision: 0.2527453191687714 \n",
      " Recall: 0.2527453191687714 \n",
      " F1 score: 0.2527453191687714\n",
      "              precision    recall  f1-score   support\n",
      "\n",
      "        10.0       0.56      0.56      0.56      1480\n",
      "        20.0       0.20      0.11      0.14       816\n",
      "        30.0       0.14      0.13      0.14       481\n",
      "        40.0       0.22      0.14      0.17       513\n",
      "        50.0       0.03      0.31      0.06        74\n",
      "        60.0       0.25      0.07      0.11       782\n",
      "       100.0       0.24      0.49      0.32       493\n",
      "\n",
      "    accuracy                           0.30      4639\n",
      "   macro avg       0.23      0.26      0.21      4639\n",
      "weighted avg       0.32      0.30      0.29      4639\n",
      "\n"
     ]
    },
    {
     "name": "stderr",
     "output_type": "stream",
     "text": [
      "\r",
      " 52%|█████▏    | 14/27 [15:17<14:23, 66.42s/it]"
     ]
    },
    {
     "name": "stdout",
     "output_type": "stream",
     "text": [
      "Index(['month', 'day', 'year', 'hour', 'minute', 'holiday', 'day.1',\n",
      "       'temperature', 'humidity', 'pressure', 'heavy intensity rain',\n",
      "       'light rain', 'broken clouds', 'scattered clouds'],\n",
      "      dtype='object')\n",
      "For 14 features: \n",
      " Accuracy: 0.2508992565852472 \n",
      " Precision: 0.2508992565852472 \n",
      " Recall: 0.2508992565852472 \n",
      " F1 score: 0.2508992565852472\n",
      "              precision    recall  f1-score   support\n",
      "\n",
      "        10.0       0.55      0.54      0.54      1485\n",
      "        20.0       0.20      0.11      0.14       773\n",
      "        30.0       0.15      0.14      0.14       485\n",
      "        40.0       0.23      0.16      0.19       518\n",
      "        50.0       0.04      0.31      0.07        94\n",
      "        60.0       0.24      0.07      0.11       801\n",
      "       100.0       0.24      0.50      0.33       477\n",
      "\n",
      "    accuracy                           0.29      4633\n",
      "   macro avg       0.24      0.26      0.22      4633\n",
      "weighted avg       0.32      0.29      0.29      4633\n",
      "\n"
     ]
    },
    {
     "name": "stderr",
     "output_type": "stream",
     "text": [
      "\r",
      " 56%|█████▌    | 15/27 [16:26<13:26, 67.24s/it]"
     ]
    },
    {
     "name": "stdout",
     "output_type": "stream",
     "text": [
      "Index(['month', 'day', 'year', 'hour', 'minute', 'holiday', 'day.1',\n",
      "       'temperature', 'humidity', 'pressure', 'heavy intensity rain',\n",
      "       'light rain', 'broken clouds', 'scattered clouds',\n",
      "       'thunderstorm with rain'],\n",
      "      dtype='object')\n",
      "For 15 features: \n",
      " Accuracy: 0.25215458078368513 \n",
      " Precision: 0.25215458078368513 \n",
      " Recall: 0.25215458078368513 \n",
      " F1 score: 0.25215458078368513\n",
      "              precision    recall  f1-score   support\n",
      "\n",
      "        10.0       0.57      0.54      0.55      1522\n",
      "        20.0       0.24      0.12      0.16       808\n",
      "        30.0       0.13      0.12      0.12       447\n",
      "        40.0       0.22      0.16      0.19       525\n",
      "        50.0       0.04      0.34      0.08        89\n",
      "        60.0       0.32      0.12      0.18       790\n",
      "       100.0       0.22      0.48      0.30       446\n",
      "\n",
      "    accuracy                           0.30      4627\n",
      "   macro avg       0.25      0.27      0.23      4627\n",
      "weighted avg       0.34      0.30      0.30      4627\n",
      "\n"
     ]
    },
    {
     "name": "stderr",
     "output_type": "stream",
     "text": [
      "\r",
      " 59%|█████▉    | 16/27 [17:37<12:31, 68.29s/it]"
     ]
    },
    {
     "name": "stdout",
     "output_type": "stream",
     "text": [
      "Index(['month', 'day', 'year', 'hour', 'minute', 'holiday', 'day.1',\n",
      "       'temperature', 'humidity', 'pressure', 'heavy intensity rain',\n",
      "       'light rain', 'broken clouds', 'scattered clouds',\n",
      "       'thunderstorm with rain', 'few clouds'],\n",
      "      dtype='object')\n",
      "For 16 features: \n",
      " Accuracy: 0.2529225600597918 \n",
      " Precision: 0.2529225600597918 \n",
      " Recall: 0.2529225600597918 \n",
      " F1 score: 0.2529225600597918\n",
      "              precision    recall  f1-score   support\n",
      "\n",
      "        10.0       0.56      0.54      0.55      1475\n",
      "        20.0       0.22      0.13      0.17       822\n",
      "        30.0       0.14      0.10      0.12       464\n",
      "        40.0       0.23      0.18      0.20       512\n",
      "        50.0       0.04      0.30      0.06        84\n",
      "        60.0       0.27      0.10      0.15       778\n",
      "       100.0       0.23      0.48      0.31       486\n",
      "\n",
      "    accuracy                           0.30      4621\n",
      "   macro avg       0.24      0.26      0.22      4621\n",
      "weighted avg       0.33      0.30      0.30      4621\n",
      "\n"
     ]
    },
    {
     "name": "stderr",
     "output_type": "stream",
     "text": [
      "\r",
      " 63%|██████▎   | 17/27 [18:49<11:35, 69.58s/it]"
     ]
    },
    {
     "name": "stdout",
     "output_type": "stream",
     "text": [
      "Index(['month', 'day', 'year', 'hour', 'minute', 'holiday', 'day.1',\n",
      "       'temperature', 'humidity', 'pressure', 'heavy intensity rain',\n",
      "       'light rain', 'broken clouds', 'scattered clouds',\n",
      "       'thunderstorm with rain', 'few clouds', 'thunderstorm'],\n",
      "      dtype='object')\n",
      "For 17 features: \n",
      " Accuracy: 0.2525181416373304 \n",
      " Precision: 0.2525181416373304 \n",
      " Recall: 0.2525181416373304 \n",
      " F1 score: 0.2525181416373304\n",
      "              precision    recall  f1-score   support\n",
      "\n",
      "        10.0       0.56      0.54      0.55      1516\n",
      "        20.0       0.20      0.10      0.13       792\n",
      "        30.0       0.12      0.13      0.13       462\n",
      "        40.0       0.23      0.14      0.17       535\n",
      "        50.0       0.05      0.36      0.09        84\n",
      "        60.0       0.26      0.10      0.14       745\n",
      "       100.0       0.21      0.47      0.29       481\n",
      "\n",
      "    accuracy                           0.29      4615\n",
      "   macro avg       0.23      0.26      0.22      4615\n",
      "weighted avg       0.32      0.29      0.29      4615\n",
      "\n"
     ]
    },
    {
     "name": "stderr",
     "output_type": "stream",
     "text": [
      "\r",
      " 67%|██████▋   | 18/27 [20:18<11:19, 75.51s/it]"
     ]
    },
    {
     "name": "stdout",
     "output_type": "stream",
     "text": [
      "Index(['month', 'day', 'year', 'hour', 'minute', 'holiday', 'day.1',\n",
      "       'temperature', 'humidity', 'pressure', 'heavy intensity rain',\n",
      "       'light rain', 'broken clouds', 'scattered clouds',\n",
      "       'thunderstorm with rain', 'few clouds', 'thunderstorm', 'shower rain'],\n",
      "      dtype='object')\n",
      "For 18 features: \n",
      " Accuracy: 0.2544878791418911 \n",
      " Precision: 0.2544878791418911 \n",
      " Recall: 0.2544878791418911 \n",
      " F1 score: 0.2544878791418911\n",
      "              precision    recall  f1-score   support\n",
      "\n",
      "        10.0       0.56      0.52      0.54      1504\n",
      "        20.0       0.21      0.12      0.16       768\n",
      "        30.0       0.14      0.14      0.14       478\n",
      "        40.0       0.23      0.17      0.20       526\n",
      "        50.0       0.05      0.34      0.08        89\n",
      "        60.0       0.25      0.09      0.13       776\n",
      "       100.0       0.25      0.52      0.34       468\n",
      "\n",
      "    accuracy                           0.30      4609\n",
      "   macro avg       0.24      0.27      0.23      4609\n",
      "weighted avg       0.33      0.30      0.30      4609\n",
      "\n"
     ]
    },
    {
     "name": "stderr",
     "output_type": "stream",
     "text": [
      "\r",
      " 70%|███████   | 19/27 [21:47<10:34, 79.33s/it]"
     ]
    },
    {
     "name": "stdout",
     "output_type": "stream",
     "text": [
      "Index(['month', 'day', 'year', 'hour', 'minute', 'holiday', 'day.1',\n",
      "       'temperature', 'humidity', 'pressure', 'heavy intensity rain',\n",
      "       'light rain', 'broken clouds', 'scattered clouds',\n",
      "       'thunderstorm with rain', 'few clouds', 'thunderstorm', 'shower rain',\n",
      "       'heavy intensity rain'],\n",
      "      dtype='object')\n",
      "For 19 features: \n",
      " Accuracy: 0.2534246066221567 \n",
      " Precision: 0.2534246066221567 \n",
      " Recall: 0.2534246066221567 \n",
      " F1 score: 0.2534246066221567\n",
      "              precision    recall  f1-score   support\n",
      "\n",
      "        10.0       0.58      0.55      0.56      1526\n",
      "        20.0       0.22      0.13      0.16       767\n",
      "        30.0       0.13      0.13      0.13       471\n",
      "        40.0       0.22      0.16      0.18       528\n",
      "        50.0       0.04      0.29      0.07        86\n",
      "        60.0       0.26      0.07      0.11       753\n",
      "       100.0       0.23      0.48      0.32       472\n",
      "\n",
      "    accuracy                           0.30      4603\n",
      "   macro avg       0.24      0.26      0.22      4603\n",
      "weighted avg       0.34      0.30      0.30      4603\n",
      "\n"
     ]
    },
    {
     "name": "stderr",
     "output_type": "stream",
     "text": [
      "\r",
      " 74%|███████▍  | 20/27 [23:20<09:44, 83.55s/it]"
     ]
    },
    {
     "name": "stdout",
     "output_type": "stream",
     "text": [
      "Index(['month', 'day', 'year', 'hour', 'minute', 'holiday', 'day.1',\n",
      "       'temperature', 'humidity', 'pressure', 'heavy intensity rain',\n",
      "       'light rain', 'broken clouds', 'scattered clouds',\n",
      "       'thunderstorm with rain', 'few clouds', 'thunderstorm', 'shower rain',\n",
      "       'heavy intensity rain', 'mist'],\n",
      "      dtype='object')\n",
      "For 20 features: \n",
      " Accuracy: 0.2534029010259182 \n",
      " Precision: 0.2534029010259182 \n",
      " Recall: 0.2534029010259182 \n",
      " F1 score: 0.2534029010259182\n",
      "              precision    recall  f1-score   support\n",
      "\n",
      "        10.0       0.59      0.55      0.57      1538\n",
      "        20.0       0.20      0.09      0.13       795\n",
      "        30.0       0.12      0.13      0.13       453\n",
      "        40.0       0.19      0.13      0.16       518\n",
      "        50.0       0.04      0.31      0.07        87\n",
      "        60.0       0.27      0.11      0.15       736\n",
      "       100.0       0.22      0.45      0.29       470\n",
      "\n",
      "    accuracy                           0.30      4597\n",
      "   macro avg       0.23      0.25      0.21      4597\n",
      "weighted avg       0.33      0.30      0.30      4597\n",
      "\n"
     ]
    },
    {
     "name": "stderr",
     "output_type": "stream",
     "text": [
      "\r",
      " 78%|███████▊  | 21/27 [24:56<08:42, 87.14s/it]"
     ]
    },
    {
     "name": "stdout",
     "output_type": "stream",
     "text": [
      "Index(['month', 'day', 'year', 'hour', 'minute', 'holiday', 'day.1',\n",
      "       'temperature', 'humidity', 'pressure', 'heavy intensity rain',\n",
      "       'light rain', 'broken clouds', 'scattered clouds',\n",
      "       'thunderstorm with rain', 'few clouds', 'thunderstorm', 'shower rain',\n",
      "       'heavy intensity rain', 'mist', 'scattered clouds'],\n",
      "      dtype='object')\n",
      "For 21 features: \n",
      " Accuracy: 0.25190865707790605 \n",
      " Precision: 0.25190865707790605 \n",
      " Recall: 0.25190865707790605 \n",
      " F1 score: 0.25190865707790605\n",
      "              precision    recall  f1-score   support\n",
      "\n",
      "        10.0       0.58      0.52      0.55      1495\n",
      "        20.0       0.20      0.13      0.16       770\n",
      "        30.0       0.13      0.13      0.13       441\n",
      "        40.0       0.21      0.19      0.20       546\n",
      "        50.0       0.04      0.35      0.07        80\n",
      "        60.0       0.27      0.07      0.11       786\n",
      "       100.0       0.25      0.48      0.33       473\n",
      "\n",
      "    accuracy                           0.29      4591\n",
      "   macro avg       0.24      0.27      0.22      4591\n",
      "weighted avg       0.33      0.29      0.30      4591\n",
      "\n"
     ]
    },
    {
     "name": "stderr",
     "output_type": "stream",
     "text": [
      "\r",
      " 81%|████████▏ | 22/27 [26:39<07:40, 92.15s/it]"
     ]
    },
    {
     "name": "stdout",
     "output_type": "stream",
     "text": [
      "Index(['month', 'day', 'year', 'hour', 'minute', 'holiday', 'day.1',\n",
      "       'temperature', 'humidity', 'pressure', 'heavy intensity rain',\n",
      "       'light rain', 'broken clouds', 'scattered clouds',\n",
      "       'thunderstorm with rain', 'few clouds', 'thunderstorm', 'shower rain',\n",
      "       'heavy intensity rain', 'mist', 'scattered clouds', 'very heavy rain'],\n",
      "      dtype='object')\n",
      "For 22 features: \n",
      " Accuracy: 0.2546336015151234 \n",
      " Precision: 0.2546336015151234 \n",
      " Recall: 0.2546336015151234 \n",
      " F1 score: 0.2546336015151234\n",
      "              precision    recall  f1-score   support\n",
      "\n",
      "        10.0       0.59      0.53      0.56      1569\n",
      "        20.0       0.20      0.14      0.17       777\n",
      "        30.0       0.12      0.09      0.10       422\n",
      "        40.0       0.22      0.21      0.21       492\n",
      "        50.0       0.03      0.28      0.06        80\n",
      "        60.0       0.24      0.08      0.12       771\n",
      "       100.0       0.22      0.45      0.29       474\n",
      "\n",
      "    accuracy                           0.30      4585\n",
      "   macro avg       0.23      0.25      0.22      4585\n",
      "weighted avg       0.33      0.30      0.30      4585\n",
      "\n"
     ]
    },
    {
     "name": "stderr",
     "output_type": "stream",
     "text": [
      "\r",
      " 85%|████████▌ | 23/27 [28:29<06:29, 97.49s/it]"
     ]
    },
    {
     "name": "stdout",
     "output_type": "stream",
     "text": [
      "Index(['month', 'day', 'year', 'hour', 'minute', 'holiday', 'day.1',\n",
      "       'temperature', 'humidity', 'pressure', 'heavy intensity rain',\n",
      "       'light rain', 'broken clouds', 'scattered clouds',\n",
      "       'thunderstorm with rain', 'few clouds', 'thunderstorm', 'shower rain',\n",
      "       'heavy intensity rain', 'mist', 'scattered clouds', 'very heavy rain',\n",
      "       'overcast clouds'],\n",
      "      dtype='object')\n",
      "For 23 features: \n",
      " Accuracy: 0.2521138212268508 \n",
      " Precision: 0.2521138212268508 \n",
      " Recall: 0.2521138212268508 \n",
      " F1 score: 0.2521138212268508\n",
      "              precision    recall  f1-score   support\n",
      "\n",
      "        10.0       0.56      0.51      0.53      1525\n",
      "        20.0       0.19      0.13      0.15       793\n",
      "        30.0       0.13      0.11      0.12       450\n",
      "        40.0       0.23      0.17      0.20       517\n",
      "        50.0       0.04      0.31      0.07        77\n",
      "        60.0       0.26      0.10      0.14       767\n",
      "       100.0       0.21      0.45      0.29       450\n",
      "\n",
      "    accuracy                           0.29      4579\n",
      "   macro avg       0.23      0.25      0.21      4579\n",
      "weighted avg       0.32      0.29      0.29      4579\n",
      "\n"
     ]
    },
    {
     "name": "stderr",
     "output_type": "stream",
     "text": [
      "\r",
      " 89%|████████▉ | 24/27 [30:20<05:04, 101.45s/it]"
     ]
    },
    {
     "name": "stdout",
     "output_type": "stream",
     "text": [
      "Index(['month', 'day', 'year', 'hour', 'minute', 'holiday', 'day.1',\n",
      "       'temperature', 'humidity', 'pressure', 'heavy intensity rain',\n",
      "       'light rain', 'broken clouds', 'scattered clouds',\n",
      "       'thunderstorm with rain', 'few clouds', 'thunderstorm', 'shower rain',\n",
      "       'heavy intensity rain', 'mist', 'scattered clouds', 'very heavy rain',\n",
      "       'overcast clouds', 'moderate rain'],\n",
      "      dtype='object')\n",
      "For 24 features: \n",
      " Accuracy: 0.25323455380642734 \n",
      " Precision: 0.25323455380642734 \n",
      " Recall: 0.25323455380642734 \n",
      " F1 score: 0.25323455380642734\n",
      "              precision    recall  f1-score   support\n",
      "\n",
      "        10.0       0.58      0.53      0.56      1508\n",
      "        20.0       0.20      0.11      0.14       775\n",
      "        30.0       0.11      0.12      0.11       437\n",
      "        40.0       0.24      0.21      0.22       548\n",
      "        50.0       0.04      0.28      0.07        93\n",
      "        60.0       0.27      0.10      0.14       703\n",
      "       100.0       0.26      0.45      0.33       509\n",
      "\n",
      "    accuracy                           0.30      4573\n",
      "   macro avg       0.24      0.26      0.23      4573\n",
      "weighted avg       0.34      0.30      0.31      4573\n",
      "\n"
     ]
    },
    {
     "name": "stderr",
     "output_type": "stream",
     "text": [
      "\r",
      " 93%|█████████▎| 25/27 [32:15<03:30, 105.43s/it]"
     ]
    },
    {
     "name": "stdout",
     "output_type": "stream",
     "text": [
      "Index(['month', 'day', 'year', 'hour', 'minute', 'holiday', 'day.1',\n",
      "       'temperature', 'humidity', 'pressure', 'heavy intensity rain',\n",
      "       'light rain', 'broken clouds', 'scattered clouds',\n",
      "       'thunderstorm with rain', 'few clouds', 'thunderstorm', 'shower rain',\n",
      "       'heavy intensity rain', 'mist', 'scattered clouds', 'very heavy rain',\n",
      "       'overcast clouds', 'moderate rain', 'minute'],\n",
      "      dtype='object')\n",
      "For 25 features: \n",
      " Accuracy: 0.2533507947974572 \n",
      " Precision: 0.2533507947974572 \n",
      " Recall: 0.2533507947974572 \n",
      " F1 score: 0.2533507947974572\n",
      "              precision    recall  f1-score   support\n",
      "\n",
      "        10.0       0.56      0.51      0.53      1483\n",
      "        20.0       0.17      0.11      0.13       735\n",
      "        30.0       0.12      0.14      0.12       465\n",
      "        40.0       0.21      0.14      0.17       523\n",
      "        50.0       0.03      0.24      0.06        86\n",
      "        60.0       0.28      0.07      0.11       761\n",
      "       100.0       0.24      0.48      0.32       514\n",
      "\n",
      "    accuracy                           0.28      4567\n",
      "   macro avg       0.23      0.24      0.21      4567\n",
      "weighted avg       0.32      0.28      0.28      4567\n",
      "\n"
     ]
    },
    {
     "name": "stderr",
     "output_type": "stream",
     "text": [
      "\r",
      " 96%|█████████▋| 26/27 [34:15<01:49, 109.76s/it]"
     ]
    },
    {
     "name": "stdout",
     "output_type": "stream",
     "text": [
      "Index(['month', 'day', 'year', 'hour', 'minute', 'holiday', 'day.1',\n",
      "       'temperature', 'humidity', 'pressure', 'heavy intensity rain',\n",
      "       'light rain', 'broken clouds', 'scattered clouds',\n",
      "       'thunderstorm with rain', 'few clouds', 'thunderstorm', 'shower rain',\n",
      "       'heavy intensity rain', 'mist', 'scattered clouds', 'very heavy rain',\n",
      "       'overcast clouds', 'moderate rain', 'minute', 'haze'],\n",
      "      dtype='object')\n",
      "For 26 features: \n",
      " Accuracy: 0.25262392386944676 \n",
      " Precision: 0.25262392386944676 \n",
      " Recall: 0.25262392386944676 \n",
      " F1 score: 0.25262392386944676\n",
      "              precision    recall  f1-score   support\n",
      "\n",
      "        10.0       0.59      0.55      0.57      1519\n",
      "        20.0       0.22      0.15      0.18       743\n",
      "        30.0       0.12      0.11      0.11       444\n",
      "        40.0       0.25      0.15      0.18       521\n",
      "        50.0       0.04      0.33      0.08        89\n",
      "        60.0       0.26      0.08      0.12       762\n",
      "       100.0       0.23      0.48      0.31       483\n",
      "\n",
      "    accuracy                           0.30      4561\n",
      "   macro avg       0.24      0.26      0.22      4561\n",
      "weighted avg       0.34      0.30      0.30      4561\n",
      "\n"
     ]
    },
    {
     "name": "stderr",
     "output_type": "stream",
     "text": [
      "100%|██████████| 27/27 [36:12<00:00, 80.45s/it] "
     ]
    },
    {
     "name": "stdout",
     "output_type": "stream",
     "text": [
      "Index(['month', 'day', 'year', 'hour', 'minute', 'holiday', 'day.1',\n",
      "       'temperature', 'humidity', 'pressure', 'heavy intensity rain',\n",
      "       'light rain', 'broken clouds', 'scattered clouds',\n",
      "       'thunderstorm with rain', 'few clouds', 'thunderstorm', 'shower rain',\n",
      "       'heavy intensity rain', 'mist', 'scattered clouds', 'very heavy rain',\n",
      "       'overcast clouds', 'moderate rain', 'minute', 'haze', 'few clouds'],\n",
      "      dtype='object')\n",
      "For 27 features: \n",
      " Accuracy: 0.2538590321504077 \n",
      " Precision: 0.2538590321504077 \n",
      " Recall: 0.2538590321504077 \n",
      " F1 score: 0.2538590321504077\n",
      "              precision    recall  f1-score   support\n",
      "\n",
      "        10.0       0.58      0.51      0.54      1518\n",
      "        20.0       0.22      0.15      0.18       749\n",
      "        30.0       0.13      0.10      0.11       453\n",
      "        40.0       0.26      0.20      0.23       532\n",
      "        50.0       0.04      0.34      0.07        73\n",
      "        60.0       0.25      0.09      0.13       758\n",
      "       100.0       0.24      0.50      0.32       472\n",
      "\n",
      "    accuracy                           0.30      4555\n",
      "   macro avg       0.24      0.27      0.23      4555\n",
      "weighted avg       0.34      0.30      0.30      4555\n",
      "\n",
      "\n",
      " \n",
      "\n"
     ]
    },
    {
     "name": "stderr",
     "output_type": "stream",
     "text": [
      "\n"
     ]
    }
   ],
   "source": [
    "orderOHE=[mrmrO]\n",
    "method = ['MRMR']\n",
    "analizeDF(hp4,orderOHE)"
   ]
  },
  {
   "cell_type": "markdown",
   "id": "417e85e3",
   "metadata": {},
   "source": [
    "### Ordinal Encoding"
   ]
  },
  {
   "cell_type": "code",
   "execution_count": 8,
   "id": "70aeacf2",
   "metadata": {},
   "outputs": [],
   "source": [
    "import pandas as pd\n",
    "import numpy as np\n",
    "from sklearn.model_selection import train_test_split\n",
    "from collections import Counter\n",
    "from imblearn.over_sampling import RandomOverSampler, SMOTE\n",
    "from sklearn.linear_model import LogisticRegression\n",
    "from sklearn import metrics\n",
    "from tqdm import tqdm\n",
    "from sklearn.metrics import classification_report\n",
    "import warnings\n",
    "from statistics import mean\n",
    "warnings.filterwarnings('ignore')"
   ]
  },
  {
   "cell_type": "code",
   "execution_count": 9,
   "id": "c67d7176",
   "metadata": {},
   "outputs": [],
   "source": [
    "hp_OE = pd.read_csv(\"harryPotterCleanOE.csv\")"
   ]
  },
  {
   "cell_type": "code",
   "execution_count": 10,
   "id": "4682af96",
   "metadata": {},
   "outputs": [],
   "source": [
    "#Variable order in ordinal encoding:\n",
    "pear_corrOE = ['temperature',\t'holiday',\t'day',\t'month',\t'pressure',\t'day.1',\t'report',\t'minute',\t'year',\t'humidity',\t'hour',\t'Pandemic']\n",
    "kend_corrOE = ['temperature',\t'holiday',\t'month',\t'day',\t'pressure',\t'day.1',\t'report',\t'year',\t'minute',\t'humidity',\t'hour',\t'Pandemic',]\n",
    "mutInf_classOE = ['month',\t'day',\t'year',\t'hour',\t'minute',\t'holiday',\t'day.1',\t'Pandemic',\t'temperature',\t'humidity',\t'pressure',\t'report',]\n",
    "mutInf_regOE = ['month',\t'day',\t'year',\t'hour',\t'minute',\t'holiday',\t'day.1',\t'Pandemic',\t'temperature',\t'humidity',\t'pressure',\t'report',]\n",
    "mutInf_class2OE = ['day',\t'temperature',\t'month',\t'humidity',\t'hour',\t'day.1',\t'pressure',\t'holiday',\t'year',\t'report',\t'minute',\t'Pandemic',]\n",
    "varThreOE = ['month',\t'day',\t'year',\t'hour',\t'minute',\t'holiday',\t'day.1',\t'temperature',\t'humidity',\t'pressure',\t'report']\n",
    "mrmrOE = ['temperature',\t'day.1',\t'hour',\t'holiday',\t'humidity',\t'day',\t'year',\t'month',\t'pressure',\t'minute',\t'report']\n",
    "\n",
    "orderOE=[pear_corrOE,kend_corrOE,mutInf_classOE,mutInf_regOE,mutInf_class2OE,varThreOE,mrmrOE]"
   ]
  },
  {
   "cell_type": "code",
   "execution_count": 11,
   "id": "258b3274",
   "metadata": {},
   "outputs": [
    {
     "data": {
      "text/plain": [
       "array([ 40.,  20.,  10.,  30.,  60., 100.,  50.])"
      ]
     },
     "execution_count": 11,
     "metadata": {},
     "output_type": "execute_result"
    }
   ],
   "source": [
    "#Delete all rows which contain outliers\n",
    "hp_clean = hp_OE[hp_OE.Harry_Potter_and_the_Forbidden != 0] #delete rows with 0 min\n",
    "hp_clean = hp_clean[hp_clean.Harry_Potter_and_the_Forbidden != 180]\n",
    "hp_clean = hp_clean[hp_clean.Harry_Potter_and_the_Forbidden != 150]\n",
    "hp_clean = hp_clean[hp_clean.Harry_Potter_and_the_Forbidden != 145]\n",
    "hp_clean = hp_clean[hp_clean.Harry_Potter_and_the_Forbidden != 135]\n",
    "hp_clean = hp_clean[hp_clean.Harry_Potter_and_the_Forbidden != 130]\n",
    "hp_clean = hp_clean[hp_clean.Harry_Potter_and_the_Forbidden != 11]\n",
    "hp_fin_clean = hp_clean[hp_clean.Harry_Potter_and_the_Forbidden != 125]\n",
    "\n",
    "#Replace times ending in 5 and also compacting the rest to have only 6 classes\n",
    "a=hp_fin_clean.Harry_Potter_and_the_Forbidden.replace([5, 15, 25, 35, 45, 55, 65, 75, 85, 95, 105, 115, 120, 110, 150,80, 90, 50,70], \n",
    "                                                       [10,10, 20, 30, 40, 50, 60, 60, 100, 100, 100, 100, 100, 100, 100,100, 100, 60,100])\n",
    "#Create the final dataframe\n",
    "df=pd.DataFrame(a)\n",
    "hp2=hp_fin_clean.drop('Harry_Potter_and_the_Forbidden',axis=1)\n",
    "hp3=pd.concat([hp2, df], axis=1)\n",
    "hp4=hp3.drop('Unnamed: 0',axis=1)\n",
    "hp4.drop(hp4.tail(20).index,inplace=True) \n",
    "hp4.Harry_Potter_and_the_Forbidden.unique()"
   ]
  },
  {
   "cell_type": "code",
   "execution_count": 17,
   "id": "e86dceb7",
   "metadata": {},
   "outputs": [
    {
     "name": "stderr",
     "output_type": "stream",
     "text": [
      "\r",
      "  0%|          | 0/11 [00:00<?, ?it/s]"
     ]
    },
    {
     "name": "stdout",
     "output_type": "stream",
     "text": [
      "------------------------- Analyzing method Pearson_correlation -------------------------\n",
      "The variable order is: \n",
      " ['temperature', 'holiday', 'day', 'month', 'pressure', 'day.1', 'report', 'minute', 'year', 'humidity', 'hour', 'Pandemic']\n"
     ]
    },
    {
     "name": "stderr",
     "output_type": "stream",
     "text": [
      "\r",
      "  9%|▉         | 1/11 [00:24<04:06, 24.61s/it]"
     ]
    },
    {
     "name": "stdout",
     "output_type": "stream",
     "text": [
      "Index(['temperature'], dtype='object')\n",
      "For 1 features: \n",
      " Accuracy: 0.22256518973924105 \n",
      " Precision: 0.16630941915159828 \n",
      " Recall: 0.185141269137034 \n",
      " F1 score: 0.11901379425631604\n",
      "              precision    recall  f1-score   support\n",
      "\n",
      "        10.0       0.43      0.53      0.47      1513\n",
      "        20.0       0.19      0.10      0.13       830\n",
      "        30.0       0.09      0.03      0.04       449\n",
      "        40.0       0.15      0.04      0.07       548\n",
      "        50.0       0.02      0.55      0.04        83\n",
      "        60.0       0.11      0.01      0.02       795\n",
      "       100.0       0.14      0.01      0.01       499\n",
      "\n",
      "    accuracy                           0.21      4717\n",
      "   macro avg       0.16      0.18      0.11      4717\n",
      "weighted avg       0.23      0.21      0.19      4717\n",
      "\n"
     ]
    },
    {
     "name": "stderr",
     "output_type": "stream",
     "text": [
      "\r",
      " 18%|█▊        | 2/11 [00:56<04:22, 29.15s/it]"
     ]
    },
    {
     "name": "stdout",
     "output_type": "stream",
     "text": [
      "Index(['temperature', 'holiday'], dtype='object')\n",
      "For 2 features: \n",
      " Accuracy: 0.24282954786669497 \n",
      " Precision: 0.1619184831649928 \n",
      " Recall: 0.19710351525833172 \n",
      " F1 score: 0.15678764111546595\n",
      "              precision    recall  f1-score   support\n",
      "\n",
      "        10.0       0.46      0.48      0.47      1567\n",
      "        20.0       0.19      0.12      0.15       789\n",
      "        30.0       0.10      0.06      0.07       456\n",
      "        40.0       0.15      0.51      0.24       558\n",
      "        50.0       0.00      0.00      0.00        86\n",
      "        60.0       0.00      0.00      0.00       773\n",
      "       100.0       0.25      0.20      0.22       482\n",
      "\n",
      "    accuracy                           0.27      4711\n",
      "   macro avg       0.16      0.19      0.16      4711\n",
      "weighted avg       0.24      0.27      0.24      4711\n",
      "\n"
     ]
    },
    {
     "name": "stderr",
     "output_type": "stream",
     "text": [
      "\r",
      " 27%|██▋       | 3/11 [01:31<04:14, 31.79s/it]"
     ]
    },
    {
     "name": "stdout",
     "output_type": "stream",
     "text": [
      "Index(['temperature', 'holiday', 'day'], dtype='object')\n",
      "For 3 features: \n",
      " Accuracy: 0.2277066950053135 \n",
      " Precision: 0.16273430286549953 \n",
      " Recall: 0.1892320962219192 \n",
      " F1 score: 0.15225610817113974\n",
      "              precision    recall  f1-score   support\n",
      "\n",
      "        10.0       0.44      0.45      0.45      1527\n",
      "        20.0       0.16      0.08      0.11       789\n",
      "        30.0       0.06      0.04      0.05       494\n",
      "        40.0       0.16      0.31      0.21       540\n",
      "        50.0       0.03      0.23      0.05       102\n",
      "        60.0       0.00      0.00      0.00       761\n",
      "       100.0       0.26      0.21      0.23       492\n",
      "\n",
      "    accuracy                           0.23      4705\n",
      "   macro avg       0.16      0.19      0.16      4705\n",
      "weighted avg       0.22      0.23      0.22      4705\n",
      "\n"
     ]
    },
    {
     "name": "stderr",
     "output_type": "stream",
     "text": [
      "\r",
      " 36%|███▋      | 4/11 [02:09<03:59, 34.23s/it]"
     ]
    },
    {
     "name": "stdout",
     "output_type": "stream",
     "text": [
      "Index(['temperature', 'holiday', 'day', 'month'], dtype='object')\n",
      "For 4 features: \n",
      " Accuracy: 0.2268035752287721 \n",
      " Precision: 0.19104533371457225 \n",
      " Recall: 0.19113983057672435 \n",
      " F1 score: 0.16419823614834342\n",
      "              precision    recall  f1-score   support\n",
      "\n",
      "        10.0       0.46      0.45      0.45      1534\n",
      "        20.0       0.20      0.05      0.08       788\n",
      "        30.0       0.10      0.12      0.11       474\n",
      "        40.0       0.14      0.21      0.17       537\n",
      "        50.0       0.03      0.22      0.05        99\n",
      "        60.0       0.20      0.08      0.11       800\n",
      "       100.0       0.24      0.23      0.23       467\n",
      "\n",
      "    accuracy                           0.23      4699\n",
      "   macro avg       0.19      0.20      0.17      4699\n",
      "weighted avg       0.27      0.23      0.24      4699\n",
      "\n"
     ]
    },
    {
     "name": "stderr",
     "output_type": "stream",
     "text": [
      "\r",
      " 45%|████▌     | 5/11 [02:58<03:56, 39.35s/it]"
     ]
    },
    {
     "name": "stdout",
     "output_type": "stream",
     "text": [
      "Index(['temperature', 'holiday', 'day', 'month', 'pressure'], dtype='object')\n",
      "For 5 features: \n",
      " Accuracy: 0.24557425953547837 \n",
      " Precision: 0.21247892930487344 \n",
      " Recall: 0.21421832888454997 \n",
      " F1 score: 0.18308935975273938\n",
      "              precision    recall  f1-score   support\n",
      "\n",
      "        10.0       0.48      0.45      0.46      1490\n",
      "        20.0       0.18      0.07      0.10       835\n",
      "        30.0       0.09      0.09      0.09       470\n",
      "        40.0       0.15      0.20      0.17       553\n",
      "        50.0       0.03      0.33      0.05        89\n",
      "        60.0       0.41      0.04      0.08       770\n",
      "       100.0       0.24      0.28      0.26       486\n",
      "\n",
      "    accuracy                           0.23      4693\n",
      "   macro avg       0.22      0.21      0.17      4693\n",
      "weighted avg       0.30      0.23      0.24      4693\n",
      "\n"
     ]
    },
    {
     "name": "stderr",
     "output_type": "stream",
     "text": [
      "\r",
      " 55%|█████▍    | 6/11 [03:50<03:38, 43.79s/it]"
     ]
    },
    {
     "name": "stdout",
     "output_type": "stream",
     "text": [
      "Index(['temperature', 'holiday', 'day', 'month', 'pressure', 'day.1'], dtype='object')\n",
      "For 6 features: \n",
      " Accuracy: 0.2527074887988052 \n",
      " Precision: 0.20995629439244445 \n",
      " Recall: 0.22759028925782948 \n",
      " F1 score: 0.18433617348562523\n",
      "              precision    recall  f1-score   support\n",
      "\n",
      "        10.0       0.49      0.49      0.49      1520\n",
      "        20.0       0.17      0.06      0.09       813\n",
      "        30.0       0.09      0.09      0.09       481\n",
      "        40.0       0.13      0.17      0.15       529\n",
      "        50.0       0.04      0.27      0.06        98\n",
      "        60.0       0.25      0.10      0.14       762\n",
      "       100.0       0.22      0.32      0.26       484\n",
      "\n",
      "    accuracy                           0.25      4687\n",
      "   macro avg       0.20      0.21      0.18      4687\n",
      "weighted avg       0.28      0.25      0.25      4687\n",
      "\n"
     ]
    },
    {
     "name": "stderr",
     "output_type": "stream",
     "text": [
      "\r",
      " 64%|██████▎   | 7/11 [04:47<03:11, 47.97s/it]"
     ]
    },
    {
     "name": "stdout",
     "output_type": "stream",
     "text": [
      "Index(['temperature', 'holiday', 'day', 'month', 'pressure', 'day.1',\n",
      "       'report'],\n",
      "      dtype='object')\n",
      "For 7 features: \n",
      " Accuracy: 0.24780388805810724 \n",
      " Precision: 0.20238064337118378 \n",
      " Recall: 0.2244880081411185 \n",
      " F1 score: 0.18064921414582533\n",
      "              precision    recall  f1-score   support\n",
      "\n",
      "        10.0       0.47      0.47      0.47      1492\n",
      "        20.0       0.21      0.06      0.09       811\n",
      "        30.0       0.13      0.10      0.11       479\n",
      "        40.0       0.21      0.25      0.23       536\n",
      "        50.0       0.03      0.30      0.06        84\n",
      "        60.0       0.24      0.08      0.12       778\n",
      "       100.0       0.23      0.41      0.30       501\n",
      "\n",
      "    accuracy                           0.26      4681\n",
      "   macro avg       0.22      0.24      0.20      4681\n",
      "weighted avg       0.29      0.26      0.26      4681\n",
      "\n"
     ]
    },
    {
     "name": "stderr",
     "output_type": "stream",
     "text": [
      "\r",
      " 73%|███████▎  | 8/11 [05:47<02:35, 51.77s/it]"
     ]
    },
    {
     "name": "stdout",
     "output_type": "stream",
     "text": [
      "Index(['temperature', 'holiday', 'day', 'month', 'pressure', 'day.1', 'report',\n",
      "       'minute'],\n",
      "      dtype='object')\n",
      "For 8 features: \n",
      " Accuracy: 0.24889625668449197 \n",
      " Precision: 0.20312052116500404 \n",
      " Recall: 0.2247530064334185 \n",
      " F1 score: 0.18107204268044225\n",
      "              precision    recall  f1-score   support\n",
      "\n",
      "        10.0       0.50      0.47      0.48      1535\n",
      "        20.0       0.16      0.03      0.05       764\n",
      "        30.0       0.10      0.06      0.08       447\n",
      "        40.0       0.15      0.17      0.16       540\n",
      "        50.0       0.04      0.39      0.07        94\n",
      "        60.0       0.28      0.10      0.15       796\n",
      "       100.0       0.22      0.44      0.30       499\n",
      "\n",
      "    accuracy                           0.26      4675\n",
      "   macro avg       0.21      0.24      0.18      4675\n",
      "weighted avg       0.29      0.26      0.25      4675\n",
      "\n"
     ]
    },
    {
     "name": "stderr",
     "output_type": "stream",
     "text": [
      "\r",
      " 82%|████████▏ | 9/11 [07:08<02:02, 61.01s/it]"
     ]
    },
    {
     "name": "stdout",
     "output_type": "stream",
     "text": [
      "Index(['temperature', 'holiday', 'day', 'month', 'pressure', 'day.1', 'report',\n",
      "       'minute', 'year'],\n",
      "      dtype='object')\n",
      "For 9 features: \n",
      " Accuracy: 0.3043863782394517 \n",
      " Precision: 0.230165072052438 \n",
      " Recall: 0.2471655349681611 \n",
      " F1 score: 0.20339717824805667\n",
      "              precision    recall  f1-score   support\n",
      "\n",
      "        10.0       0.56      0.60      0.58      1510\n",
      "        20.0       0.14      0.05      0.07       805\n",
      "        30.0       0.10      0.09      0.10       456\n",
      "        40.0       0.23      0.19      0.21       551\n",
      "        50.0       0.04      0.26      0.06        92\n",
      "        60.0       0.29      0.06      0.09       775\n",
      "       100.0       0.21      0.46      0.28       480\n",
      "\n",
      "    accuracy                           0.30      4669\n",
      "   macro avg       0.22      0.24      0.20      4669\n",
      "weighted avg       0.31      0.30      0.28      4669\n",
      "\n"
     ]
    },
    {
     "name": "stderr",
     "output_type": "stream",
     "text": [
      "\r",
      " 91%|█████████ | 10/11 [08:40<01:10, 70.54s/it]"
     ]
    },
    {
     "name": "stdout",
     "output_type": "stream",
     "text": [
      "Index(['temperature', 'holiday', 'day', 'month', 'pressure', 'day.1', 'report',\n",
      "       'minute', 'year', 'humidity'],\n",
      "      dtype='object')\n",
      "For 10 features: \n",
      " Accuracy: 0.30419901351061546 \n",
      " Precision: 0.2294422702473126 \n",
      " Recall: 0.24910215794515803 \n",
      " F1 score: 0.2042677585192252\n",
      "              precision    recall  f1-score   support\n",
      "\n",
      "        10.0       0.57      0.61      0.59      1503\n",
      "        20.0       0.16      0.05      0.08       789\n",
      "        30.0       0.13      0.10      0.11       458\n",
      "        40.0       0.22      0.14      0.17       546\n",
      "        50.0       0.03      0.28      0.05        79\n",
      "        60.0       0.32      0.08      0.12       821\n",
      "       100.0       0.20      0.50      0.29       467\n",
      "\n",
      "    accuracy                           0.30      4663\n",
      "   macro avg       0.23      0.25      0.20      4663\n",
      "weighted avg       0.33      0.30      0.29      4663\n",
      "\n"
     ]
    },
    {
     "name": "stderr",
     "output_type": "stream",
     "text": [
      "100%|██████████| 11/11 [10:25<00:00, 56.85s/it]\n",
      "  0%|          | 0/11 [00:00<?, ?it/s]"
     ]
    },
    {
     "name": "stdout",
     "output_type": "stream",
     "text": [
      "Index(['temperature', 'holiday', 'day', 'month', 'pressure', 'day.1', 'report',\n",
      "       'minute', 'year', 'humidity', 'hour'],\n",
      "      dtype='object')\n",
      "For 11 features: \n",
      " Accuracy: 0.295398325101997 \n",
      " Precision: 0.23441389917230543 \n",
      " Recall: 0.25569709034495175 \n",
      " F1 score: 0.21515590452998812\n",
      "              precision    recall  f1-score   support\n",
      "\n",
      "        10.0       0.56      0.55      0.56      1496\n",
      "        20.0       0.19      0.09      0.12       797\n",
      "        30.0       0.15      0.17      0.16       479\n",
      "        40.0       0.20      0.17      0.18       528\n",
      "        50.0       0.04      0.27      0.07        90\n",
      "        60.0       0.28      0.06      0.11       785\n",
      "       100.0       0.23      0.48      0.31       482\n",
      "\n",
      "    accuracy                           0.30      4657\n",
      "   macro avg       0.24      0.26      0.22      4657\n",
      "weighted avg       0.32      0.30      0.29      4657\n",
      "\n",
      "\n",
      " \n",
      "\n",
      "------------------------- Analyzing method Kendalls_correlation -------------------------\n",
      "The variable order is: \n",
      " ['temperature', 'holiday', 'month', 'day', 'pressure', 'day.1', 'report', 'year', 'minute', 'humidity', 'hour', 'Pandemic']\n"
     ]
    },
    {
     "name": "stderr",
     "output_type": "stream",
     "text": [
      "\r",
      "  9%|▉         | 1/11 [00:25<04:13, 25.40s/it]"
     ]
    },
    {
     "name": "stdout",
     "output_type": "stream",
     "text": [
      "Index(['temperature'], dtype='object')\n",
      "For 1 features: \n",
      " Accuracy: 0.23418619651687808 \n",
      " Precision: 0.1605492361926297 \n",
      " Recall: 0.1788559581299174 \n",
      " F1 score: 0.119721076179492\n",
      "              precision    recall  f1-score   support\n",
      "\n",
      "        10.0       0.43      0.55      0.48      1500\n",
      "        20.0       0.17      0.08      0.11       795\n",
      "        30.0       0.07      0.03      0.04       458\n",
      "        40.0       0.11      0.03      0.05       519\n",
      "        50.0       0.03      0.57      0.06       103\n",
      "        60.0       0.14      0.01      0.01       801\n",
      "       100.0       0.23      0.01      0.01       475\n",
      "\n",
      "    accuracy                           0.21      4651\n",
      "   macro avg       0.17      0.18      0.11      4651\n",
      "weighted avg       0.24      0.21      0.19      4651\n",
      "\n"
     ]
    },
    {
     "name": "stderr",
     "output_type": "stream",
     "text": [
      "\r",
      " 18%|█▊        | 2/11 [00:59<04:35, 30.57s/it]"
     ]
    },
    {
     "name": "stdout",
     "output_type": "stream",
     "text": [
      "Index(['temperature', 'holiday'], dtype='object')\n",
      "For 2 features: \n",
      " Accuracy: 0.2469020452099031 \n",
      " Precision: 0.15820676563660963 \n",
      " Recall: 0.19399421359802171 \n",
      " F1 score: 0.15481665303492442\n",
      "              precision    recall  f1-score   support\n",
      "\n",
      "        10.0       0.45      0.49      0.47      1495\n",
      "        20.0       0.22      0.13      0.16       799\n",
      "        30.0       0.09      0.04      0.05       451\n",
      "        40.0       0.15      0.56      0.24       531\n",
      "        50.0       0.00      0.00      0.00        80\n",
      "        60.0       0.00      0.00      0.00       802\n",
      "       100.0       0.26      0.20      0.23       487\n",
      "\n",
      "    accuracy                           0.27      4645\n",
      "   macro avg       0.17      0.20      0.16      4645\n",
      "weighted avg       0.24      0.27      0.24      4645\n",
      "\n"
     ]
    },
    {
     "name": "stderr",
     "output_type": "stream",
     "text": [
      "\r",
      " 27%|██▋       | 3/11 [01:37<04:30, 33.79s/it]"
     ]
    },
    {
     "name": "stdout",
     "output_type": "stream",
     "text": [
      "Index(['temperature', 'holiday', 'month'], dtype='object')\n",
      "For 3 features: \n",
      " Accuracy: 0.23588273334770424 \n",
      " Precision: 0.17624481838157724 \n",
      " Recall: 0.19131221723581607 \n",
      " F1 score: 0.16280869220065586\n",
      "              precision    recall  f1-score   support\n",
      "\n",
      "        10.0       0.45      0.45      0.45      1492\n",
      "        20.0       0.21      0.10      0.13       816\n",
      "        30.0       0.08      0.11      0.09       451\n",
      "        40.0       0.14      0.46      0.21       524\n",
      "        50.0       0.00      0.00      0.00       100\n",
      "        60.0       0.07      0.00      0.00       785\n",
      "       100.0       0.23      0.18      0.20       471\n",
      "\n",
      "    accuracy                           0.24      4639\n",
      "   macro avg       0.17      0.19      0.16      4639\n",
      "weighted avg       0.24      0.24      0.22      4639\n",
      "\n"
     ]
    },
    {
     "name": "stderr",
     "output_type": "stream",
     "text": [
      "\r",
      " 36%|███▋      | 4/11 [02:18<04:17, 36.74s/it]"
     ]
    },
    {
     "name": "stdout",
     "output_type": "stream",
     "text": [
      "Index(['temperature', 'holiday', 'month', 'day'], dtype='object')\n",
      "For 4 features: \n",
      " Accuracy: 0.22986401899417225 \n",
      " Precision: 0.18610443567776572 \n",
      " Recall: 0.18841821306845763 \n",
      " F1 score: 0.16442441491748702\n",
      "              precision    recall  f1-score   support\n",
      "\n",
      "        10.0       0.47      0.42      0.45      1557\n",
      "        20.0       0.13      0.07      0.09       767\n",
      "        30.0       0.08      0.14      0.10       469\n",
      "        40.0       0.14      0.28      0.19       517\n",
      "        50.0       0.03      0.15      0.05        82\n",
      "        60.0       0.14      0.02      0.03       743\n",
      "       100.0       0.22      0.19      0.21       498\n",
      "\n",
      "    accuracy                           0.23      4633\n",
      "   macro avg       0.17      0.18      0.16      4633\n",
      "weighted avg       0.25      0.23      0.22      4633\n",
      "\n"
     ]
    },
    {
     "name": "stderr",
     "output_type": "stream",
     "text": [
      "\r",
      " 45%|████▌     | 5/11 [03:10<04:13, 42.26s/it]"
     ]
    },
    {
     "name": "stdout",
     "output_type": "stream",
     "text": [
      "Index(['temperature', 'holiday', 'month', 'day', 'pressure'], dtype='object')\n",
      "For 5 features: \n",
      " Accuracy: 0.24749729846552843 \n",
      " Precision: 0.207273439874728 \n",
      " Recall: 0.21001835725292844 \n",
      " F1 score: 0.18196694401673308\n",
      "              precision    recall  f1-score   support\n",
      "\n",
      "        10.0       0.47      0.47      0.47      1513\n",
      "        20.0       0.19      0.06      0.09       802\n",
      "        30.0       0.08      0.07      0.07       447\n",
      "        40.0       0.14      0.21      0.17       539\n",
      "        50.0       0.02      0.26      0.04        76\n",
      "        60.0       0.27      0.04      0.08       759\n",
      "       100.0       0.28      0.36      0.32       491\n",
      "\n",
      "    accuracy                           0.24      4627\n",
      "   macro avg       0.21      0.21      0.18      4627\n",
      "weighted avg       0.28      0.24      0.24      4627\n",
      "\n"
     ]
    },
    {
     "name": "stderr",
     "output_type": "stream",
     "text": [
      "\r",
      " 55%|█████▍    | 6/11 [04:06<03:54, 46.95s/it]"
     ]
    },
    {
     "name": "stdout",
     "output_type": "stream",
     "text": [
      "Index(['temperature', 'holiday', 'month', 'day', 'pressure', 'day.1'], dtype='object')\n",
      "For 6 features: \n",
      " Accuracy: 0.2546072278727548 \n",
      " Precision: 0.20891368010319478 \n",
      " Recall: 0.2299510676101811 \n",
      " F1 score: 0.1853698053927606\n",
      "              precision    recall  f1-score   support\n",
      "\n",
      "        10.0       0.48      0.46      0.47      1493\n",
      "        20.0       0.17      0.05      0.07       809\n",
      "        30.0       0.11      0.07      0.09       470\n",
      "        40.0       0.17      0.14      0.16       539\n",
      "        50.0       0.03      0.35      0.05        81\n",
      "        60.0       0.30      0.13      0.18       782\n",
      "       100.0       0.22      0.44      0.30       447\n",
      "\n",
      "    accuracy                           0.25      4621\n",
      "   macro avg       0.21      0.23      0.19      4621\n",
      "weighted avg       0.29      0.25      0.25      4621\n",
      "\n"
     ]
    },
    {
     "name": "stderr",
     "output_type": "stream",
     "text": [
      "\r",
      " 64%|██████▎   | 7/11 [05:04<03:21, 50.42s/it]"
     ]
    },
    {
     "name": "stdout",
     "output_type": "stream",
     "text": [
      "Index(['temperature', 'holiday', 'month', 'day', 'pressure', 'day.1',\n",
      "       'report'],\n",
      "      dtype='object')\n",
      "For 7 features: \n",
      " Accuracy: 0.252056338028169 \n",
      " Precision: 0.2059502799790622 \n",
      " Recall: 0.22537995192503318 \n",
      " F1 score: 0.1834924958414439\n",
      "              precision    recall  f1-score   support\n",
      "\n",
      "        10.0       0.50      0.47      0.48      1535\n",
      "        20.0       0.18      0.07      0.10       805\n",
      "        30.0       0.11      0.06      0.07       467\n",
      "        40.0       0.19      0.21      0.20       517\n",
      "        50.0       0.03      0.31      0.05        87\n",
      "        60.0       0.26      0.05      0.09       760\n",
      "       100.0       0.20      0.44      0.28       444\n",
      "\n",
      "    accuracy                           0.25      4615\n",
      "   macro avg       0.21      0.23      0.18      4615\n",
      "weighted avg       0.29      0.25      0.25      4615\n",
      "\n"
     ]
    },
    {
     "name": "stderr",
     "output_type": "stream",
     "text": [
      "\r",
      " 73%|███████▎  | 8/11 [06:24<02:59, 59.98s/it]"
     ]
    },
    {
     "name": "stdout",
     "output_type": "stream",
     "text": [
      "Index(['temperature', 'holiday', 'month', 'day', 'pressure', 'day.1', 'report',\n",
      "       'year'],\n",
      "      dtype='object')\n",
      "For 8 features: \n",
      " Accuracy: 0.3072922542850944 \n",
      " Precision: 0.23268006507248792 \n",
      " Recall: 0.24919556098554965 \n",
      " F1 score: 0.20613489222556744\n",
      "              precision    recall  f1-score   support\n",
      "\n",
      "        10.0       0.59      0.58      0.59      1516\n",
      "        20.0       0.19      0.06      0.10       790\n",
      "        30.0       0.11      0.10      0.11       473\n",
      "        40.0       0.21      0.20      0.21       547\n",
      "        50.0       0.03      0.17      0.05        82\n",
      "        60.0       0.29      0.11      0.16       740\n",
      "       100.0       0.21      0.53      0.31       461\n",
      "\n",
      "    accuracy                           0.31      4609\n",
      "   macro avg       0.24      0.25      0.22      4609\n",
      "weighted avg       0.33      0.31      0.30      4609\n",
      "\n"
     ]
    },
    {
     "name": "stderr",
     "output_type": "stream",
     "text": [
      "\r",
      " 82%|████████▏ | 9/11 [07:50<02:16, 68.07s/it]"
     ]
    },
    {
     "name": "stdout",
     "output_type": "stream",
     "text": [
      "Index(['temperature', 'holiday', 'month', 'day', 'pressure', 'day.1', 'report',\n",
      "       'year', 'minute'],\n",
      "      dtype='object')\n",
      "For 9 features: \n",
      " Accuracy: 0.3082272431023246 \n",
      " Precision: 0.23306792571264998 \n",
      " Recall: 0.24962282020019502 \n",
      " F1 score: 0.20679895234836299\n",
      "              precision    recall  f1-score   support\n",
      "\n",
      "        10.0       0.55      0.61      0.58      1467\n",
      "        20.0       0.12      0.05      0.07       777\n",
      "        30.0       0.12      0.09      0.10       453\n",
      "        40.0       0.24      0.20      0.22       550\n",
      "        50.0       0.02      0.19      0.04        80\n",
      "        60.0       0.38      0.07      0.12       776\n",
      "       100.0       0.21      0.46      0.29       500\n",
      "\n",
      "    accuracy                           0.30      4603\n",
      "   macro avg       0.24      0.24      0.20      4603\n",
      "weighted avg       0.32      0.30      0.29      4603\n",
      "\n"
     ]
    },
    {
     "name": "stderr",
     "output_type": "stream",
     "text": [
      "\r",
      " 91%|█████████ | 10/11 [09:27<01:16, 76.96s/it]"
     ]
    },
    {
     "name": "stdout",
     "output_type": "stream",
     "text": [
      "Index(['temperature', 'holiday', 'month', 'day', 'pressure', 'day.1', 'report',\n",
      "       'year', 'minute', 'humidity'],\n",
      "      dtype='object')\n",
      "For 10 features: \n",
      " Accuracy: 0.3048140091363933 \n",
      " Precision: 0.229566383615349 \n",
      " Recall: 0.24742729443230702 \n",
      " F1 score: 0.20530762104789033\n",
      "              precision    recall  f1-score   support\n",
      "\n",
      "        10.0       0.57      0.62      0.60      1517\n",
      "        20.0       0.10      0.03      0.05       796\n",
      "        30.0       0.13      0.12      0.12       459\n",
      "        40.0       0.21      0.16      0.18       524\n",
      "        50.0       0.03      0.26      0.05        82\n",
      "        60.0       0.27      0.06      0.10       766\n",
      "       100.0       0.23      0.52      0.32       453\n",
      "\n",
      "    accuracy                           0.31      4597\n",
      "   macro avg       0.22      0.25      0.20      4597\n",
      "weighted avg       0.31      0.31      0.29      4597\n",
      "\n"
     ]
    },
    {
     "name": "stderr",
     "output_type": "stream",
     "text": [
      "100%|██████████| 11/11 [11:15<00:00, 61.37s/it]\n",
      "  0%|          | 0/11 [00:00<?, ?it/s]"
     ]
    },
    {
     "name": "stdout",
     "output_type": "stream",
     "text": [
      "Index(['temperature', 'holiday', 'month', 'day', 'pressure', 'day.1', 'report',\n",
      "       'year', 'minute', 'humidity', 'hour'],\n",
      "      dtype='object')\n",
      "For 11 features: \n",
      " Accuracy: 0.29585928991505117 \n",
      " Precision: 0.23486908924333016 \n",
      " Recall: 0.2550424308089574 \n",
      " F1 score: 0.21491568809715217\n",
      "              precision    recall  f1-score   support\n",
      "\n",
      "        10.0       0.58      0.54      0.56      1588\n",
      "        20.0       0.19      0.11      0.14       748\n",
      "        30.0       0.12      0.13      0.12       428\n",
      "        40.0       0.21      0.16      0.18       530\n",
      "        50.0       0.03      0.20      0.05        80\n",
      "        60.0       0.26      0.08      0.12       743\n",
      "       100.0       0.22      0.48      0.30       474\n",
      "\n",
      "    accuracy                           0.30      4591\n",
      "   macro avg       0.23      0.24      0.21      4591\n",
      "weighted avg       0.33      0.30      0.30      4591\n",
      "\n",
      "\n",
      " \n",
      "\n",
      "------------------------- Analyzing method mutualInformation_classification -------------------------\n",
      "The variable order is: \n",
      " ['month', 'day', 'year', 'hour', 'minute', 'holiday', 'day.1', 'Pandemic', 'temperature', 'humidity', 'pressure', 'report']\n"
     ]
    },
    {
     "name": "stderr",
     "output_type": "stream",
     "text": [
      "\r",
      "  9%|▉         | 1/11 [00:17<02:54, 17.47s/it]"
     ]
    },
    {
     "name": "stdout",
     "output_type": "stream",
     "text": [
      "Index(['month'], dtype='object')\n",
      "For 1 features: \n",
      " Accuracy: 0.2397339149400218 \n",
      " Precision: 0.08059736260706601 \n",
      " Recall: 0.16142932223537518 \n",
      " F1 score: 0.09527034974982954\n",
      "              precision    recall  f1-score   support\n",
      "\n",
      "        10.0       0.32      0.55      0.41      1537\n",
      "        20.0       0.00      0.00      0.00       795\n",
      "        30.0       0.00      0.00      0.00       449\n",
      "        40.0       0.00      0.00      0.00       534\n",
      "        50.0       0.00      0.00      0.00        82\n",
      "        60.0       0.00      0.00      0.00       725\n",
      "       100.0       0.13      0.55      0.21       463\n",
      "\n",
      "    accuracy                           0.24      4585\n",
      "   macro avg       0.06      0.16      0.09      4585\n",
      "weighted avg       0.12      0.24      0.16      4585\n",
      "\n"
     ]
    },
    {
     "name": "stderr",
     "output_type": "stream",
     "text": [
      "\r",
      " 18%|█▊        | 2/11 [00:39<03:03, 20.38s/it]"
     ]
    },
    {
     "name": "stdout",
     "output_type": "stream",
     "text": [
      "Index(['month', 'day'], dtype='object')\n",
      "For 2 features: \n",
      " Accuracy: 0.2241471937104171 \n",
      " Precision: 0.12828433616552548 \n",
      " Recall: 0.1675735650616346 \n",
      " F1 score: 0.12861181335512212\n",
      "              precision    recall  f1-score   support\n",
      "\n",
      "        10.0       0.37      0.41      0.39      1500\n",
      "        20.0       0.08      0.00      0.01       780\n",
      "        30.0       0.00      0.00      0.00       474\n",
      "        40.0       0.00      0.00      0.00       513\n",
      "        50.0       0.02      0.11      0.03        84\n",
      "        60.0       0.17      0.22      0.19       746\n",
      "       100.0       0.15      0.43      0.23       482\n",
      "\n",
      "    accuracy                           0.22      4579\n",
      "   macro avg       0.11      0.17      0.12      4579\n",
      "weighted avg       0.18      0.22      0.18      4579\n",
      "\n"
     ]
    },
    {
     "name": "stderr",
     "output_type": "stream",
     "text": [
      "\r",
      " 27%|██▋       | 3/11 [01:19<03:53, 29.23s/it]"
     ]
    },
    {
     "name": "stdout",
     "output_type": "stream",
     "text": [
      "Index(['month', 'day', 'year'], dtype='object')\n",
      "For 3 features: \n",
      " Accuracy: 0.28537284058604856 \n",
      " Precision: 0.20008962432581087 \n",
      " Recall: 0.2199709361946327 \n",
      " F1 score: 0.18064578009584073\n",
      "              precision    recall  f1-score   support\n",
      "\n",
      "        10.0       0.51      0.62      0.56      1526\n",
      "        20.0       0.07      0.03      0.04       779\n",
      "        30.0       0.16      0.15      0.15       442\n",
      "        40.0       0.21      0.12      0.15       494\n",
      "        50.0       0.04      0.23      0.06        92\n",
      "        60.0       0.35      0.05      0.09       782\n",
      "       100.0       0.17      0.38      0.23       458\n",
      "\n",
      "    accuracy                           0.29      4573\n",
      "   macro avg       0.22      0.22      0.18      4573\n",
      "weighted avg       0.30      0.29      0.27      4573\n",
      "\n"
     ]
    },
    {
     "name": "stderr",
     "output_type": "stream",
     "text": [
      "\r",
      " 36%|███▋      | 4/11 [02:17<04:42, 40.42s/it]"
     ]
    },
    {
     "name": "stdout",
     "output_type": "stream",
     "text": [
      "Index(['month', 'day', 'year', 'hour'], dtype='object')\n",
      "For 4 features: \n",
      " Accuracy: 0.26629078169476683 \n",
      " Precision: 0.22408894357379558 \n",
      " Recall: 0.22761688981951905 \n",
      " F1 score: 0.19190783487604293\n",
      "              precision    recall  f1-score   support\n",
      "\n",
      "        10.0       0.51      0.47      0.49      1505\n",
      "        20.0       0.21      0.12      0.15       767\n",
      "        30.0       0.11      0.14      0.13       450\n",
      "        40.0       0.19      0.06      0.09       552\n",
      "        50.0       0.03      0.32      0.06        81\n",
      "        60.0       0.33      0.12      0.17       733\n",
      "       100.0       0.18      0.37      0.24       479\n",
      "\n",
      "    accuracy                           0.26      4567\n",
      "   macro avg       0.22      0.23      0.19      4567\n",
      "weighted avg       0.31      0.26      0.26      4567\n",
      "\n"
     ]
    },
    {
     "name": "stderr",
     "output_type": "stream",
     "text": [
      "\r",
      " 45%|████▌     | 5/11 [03:20<04:51, 48.56s/it]"
     ]
    },
    {
     "name": "stdout",
     "output_type": "stream",
     "text": [
      "Index(['month', 'day', 'year', 'hour', 'minute'], dtype='object')\n",
      "For 5 features: \n",
      " Accuracy: 0.26665204998903747 \n",
      " Precision: 0.22513246347255192 \n",
      " Recall: 0.2294195899020904 \n",
      " F1 score: 0.1923999500670227\n",
      "              precision    recall  f1-score   support\n",
      "\n",
      "        10.0       0.51      0.49      0.50      1547\n",
      "        20.0       0.19      0.05      0.08       741\n",
      "        30.0       0.11      0.22      0.15       436\n",
      "        40.0       0.24      0.10      0.14       528\n",
      "        50.0       0.04      0.27      0.07        90\n",
      "        60.0       0.29      0.09      0.13       751\n",
      "       100.0       0.18      0.38      0.24       468\n",
      "\n",
      "    accuracy                           0.26      4561\n",
      "   macro avg       0.22      0.23      0.19      4561\n",
      "weighted avg       0.31      0.26      0.26      4561\n",
      "\n"
     ]
    },
    {
     "name": "stderr",
     "output_type": "stream",
     "text": [
      "\r",
      " 55%|█████▍    | 6/11 [04:28<04:36, 55.26s/it]"
     ]
    },
    {
     "name": "stdout",
     "output_type": "stream",
     "text": [
      "Index(['month', 'day', 'year', 'hour', 'minute', 'holiday'], dtype='object')\n",
      "For 6 features: \n",
      " Accuracy: 0.27322502744237104 \n",
      " Precision: 0.22467140107295502 \n",
      " Recall: 0.23356835738530982 \n",
      " F1 score: 0.19591908520278922\n",
      "              precision    recall  f1-score   support\n",
      "\n",
      "        10.0       0.52      0.52      0.52      1528\n",
      "        20.0       0.19      0.10      0.13       772\n",
      "        30.0       0.14      0.18      0.16       446\n",
      "        40.0       0.18      0.05      0.08       491\n",
      "        50.0       0.03      0.26      0.05        81\n",
      "        60.0       0.37      0.10      0.15       775\n",
      "       100.0       0.20      0.39      0.26       462\n",
      "\n",
      "    accuracy                           0.28      4555\n",
      "   macro avg       0.23      0.23      0.19      4555\n",
      "weighted avg       0.32      0.28      0.27      4555\n",
      "\n"
     ]
    },
    {
     "name": "stderr",
     "output_type": "stream",
     "text": [
      "\r",
      " 64%|██████▎   | 7/11 [05:42<04:05, 61.34s/it]"
     ]
    },
    {
     "name": "stdout",
     "output_type": "stream",
     "text": [
      "Index(['month', 'day', 'year', 'hour', 'minute', 'holiday', 'day.1'], dtype='object')\n",
      "For 7 features: \n",
      " Accuracy: 0.2854803253462299 \n",
      " Precision: 0.24387106779319498 \n",
      " Recall: 0.24961508711221816 \n",
      " F1 score: 0.21111869728235444\n",
      "              precision    recall  f1-score   support\n",
      "\n",
      "        10.0       0.54      0.51      0.53      1541\n",
      "        20.0       0.16      0.06      0.09       728\n",
      "        30.0       0.12      0.22      0.16       453\n",
      "        40.0       0.19      0.07      0.10       493\n",
      "        50.0       0.04      0.29      0.08        90\n",
      "        60.0       0.37      0.12      0.18       773\n",
      "       100.0       0.22      0.44      0.29       471\n",
      "\n",
      "    accuracy                           0.28      4549\n",
      "   macro avg       0.23      0.24      0.20      4549\n",
      "weighted avg       0.33      0.28      0.28      4549\n",
      "\n"
     ]
    },
    {
     "name": "stderr",
     "output_type": "stream",
     "text": [
      "\r",
      " 73%|███████▎  | 8/11 [06:59<03:18, 66.32s/it]"
     ]
    },
    {
     "name": "stdout",
     "output_type": "stream",
     "text": [
      "Index(['month', 'day', 'year', 'hour', 'minute', 'holiday', 'day.1',\n",
      "       'Pandemic'],\n",
      "      dtype='object')\n",
      "For 8 features: \n",
      " Accuracy: 0.28617213295179394 \n",
      " Precision: 0.24404442646173702 \n",
      " Recall: 0.24951259563148617 \n",
      " F1 score: 0.21150433272155358\n",
      "              precision    recall  f1-score   support\n",
      "\n",
      "        10.0       0.51      0.52      0.51      1503\n",
      "        20.0       0.18      0.07      0.10       782\n",
      "        30.0       0.13      0.19      0.16       473\n",
      "        40.0       0.20      0.08      0.11       510\n",
      "        50.0       0.04      0.31      0.07        84\n",
      "        60.0       0.27      0.08      0.13       733\n",
      "       100.0       0.21      0.45      0.29       458\n",
      "\n",
      "    accuracy                           0.28      4543\n",
      "   macro avg       0.22      0.24      0.20      4543\n",
      "weighted avg       0.30      0.28      0.27      4543\n",
      "\n"
     ]
    },
    {
     "name": "stderr",
     "output_type": "stream",
     "text": [
      "\r",
      " 82%|████████▏ | 9/11 [08:35<02:31, 75.54s/it]"
     ]
    },
    {
     "name": "stdout",
     "output_type": "stream",
     "text": [
      "Index(['month', 'day', 'year', 'hour', 'minute', 'holiday', 'day.1',\n",
      "       'Pandemic', 'temperature'],\n",
      "      dtype='object')\n",
      "For 9 features: \n",
      " Accuracy: 0.28557857615164206 \n",
      " Precision: 0.23604558739324039 \n",
      " Recall: 0.247382677153216 \n",
      " F1 score: 0.20917035174853313\n",
      "              precision    recall  f1-score   support\n",
      "\n",
      "        10.0       0.56      0.49      0.52      1527\n",
      "        20.0       0.19      0.11      0.14       781\n",
      "        30.0       0.12      0.17      0.14       435\n",
      "        40.0       0.23      0.09      0.13       502\n",
      "        50.0       0.05      0.32      0.09        97\n",
      "        60.0       0.38      0.14      0.21       748\n",
      "       100.0       0.20      0.45      0.27       447\n",
      "\n",
      "    accuracy                           0.28      4537\n",
      "   macro avg       0.25      0.25      0.21      4537\n",
      "weighted avg       0.34      0.28      0.29      4537\n",
      "\n"
     ]
    },
    {
     "name": "stderr",
     "output_type": "stream",
     "text": [
      "\r",
      " 91%|█████████ | 10/11 [10:23<01:25, 85.73s/it]"
     ]
    },
    {
     "name": "stdout",
     "output_type": "stream",
     "text": [
      "Index(['month', 'day', 'year', 'hour', 'minute', 'holiday', 'day.1',\n",
      "       'Pandemic', 'temperature', 'humidity'],\n",
      "      dtype='object')\n",
      "For 10 features: \n",
      " Accuracy: 0.29389097329507835 \n",
      " Precision: 0.23820124948757512 \n",
      " Recall: 0.25589438145265275 \n",
      " F1 score: 0.2145452726868911\n",
      "              precision    recall  f1-score   support\n",
      "\n",
      "        10.0       0.58      0.53      0.56      1521\n",
      "        20.0       0.18      0.11      0.13       777\n",
      "        30.0       0.15      0.17      0.16       436\n",
      "        40.0       0.24      0.16      0.19       495\n",
      "        50.0       0.06      0.38      0.10        96\n",
      "        60.0       0.29      0.08      0.13       745\n",
      "       100.0       0.19      0.44      0.27       461\n",
      "\n",
      "    accuracy                           0.30      4531\n",
      "   macro avg       0.24      0.27      0.22      4531\n",
      "weighted avg       0.33      0.30      0.30      4531\n",
      "\n"
     ]
    },
    {
     "name": "stderr",
     "output_type": "stream",
     "text": [
      "100%|██████████| 11/11 [12:14<00:00, 66.81s/it]\n",
      "  0%|          | 0/11 [00:00<?, ?it/s]"
     ]
    },
    {
     "name": "stdout",
     "output_type": "stream",
     "text": [
      "Index(['month', 'day', 'year', 'hour', 'minute', 'holiday', 'day.1',\n",
      "       'Pandemic', 'temperature', 'humidity', 'pressure'],\n",
      "      dtype='object')\n",
      "For 11 features: \n",
      " Accuracy: 0.292875138121547 \n",
      " Precision: 0.23477677914290992 \n",
      " Recall: 0.2584672891621438 \n",
      " F1 score: 0.2142085793601172\n",
      "              precision    recall  f1-score   support\n",
      "\n",
      "        10.0       0.56      0.52      0.54      1521\n",
      "        20.0       0.21      0.12      0.15       773\n",
      "        30.0       0.12      0.15      0.13       425\n",
      "        40.0       0.25      0.13      0.17       526\n",
      "        50.0       0.04      0.35      0.07        69\n",
      "        60.0       0.29      0.09      0.14       727\n",
      "       100.0       0.22      0.49      0.31       484\n",
      "\n",
      "    accuracy                           0.30      4525\n",
      "   macro avg       0.24      0.26      0.22      4525\n",
      "weighted avg       0.34      0.30      0.30      4525\n",
      "\n",
      "\n",
      " \n",
      "\n",
      "------------------------- Analyzing method mutualInformation_reggression -------------------------\n",
      "The variable order is: \n",
      " ['month', 'day', 'year', 'hour', 'minute', 'holiday', 'day.1', 'Pandemic', 'temperature', 'humidity', 'pressure', 'report']\n"
     ]
    },
    {
     "name": "stderr",
     "output_type": "stream",
     "text": [
      "\r",
      "  9%|▉         | 1/11 [00:17<02:52, 17.29s/it]"
     ]
    },
    {
     "name": "stdout",
     "output_type": "stream",
     "text": [
      "Index(['month'], dtype='object')\n",
      "For 1 features: \n",
      " Accuracy: 0.240471343217526 \n",
      " Precision: 0.08139803739346083 \n",
      " Recall: 0.1629217426826628 \n",
      " F1 score: 0.09443385132210551\n",
      "              precision    recall  f1-score   support\n",
      "\n",
      "        10.0       0.34      0.54      0.41      1462\n",
      "        20.0       0.00      0.00      0.00       784\n",
      "        30.0       0.00      0.00      0.00       454\n",
      "        40.0       0.00      0.00      0.00       541\n",
      "        50.0       0.00      0.00      0.00        76\n",
      "        60.0       0.14      0.02      0.04       737\n",
      "       100.0       0.13      0.58      0.22       465\n",
      "\n",
      "    accuracy                           0.24      4519\n",
      "   macro avg       0.09      0.16      0.10      4519\n",
      "weighted avg       0.15      0.24      0.16      4519\n",
      "\n"
     ]
    },
    {
     "name": "stderr",
     "output_type": "stream",
     "text": [
      "\r",
      " 18%|█▊        | 2/11 [00:39<03:01, 20.15s/it]"
     ]
    },
    {
     "name": "stdout",
     "output_type": "stream",
     "text": [
      "Index(['month', 'day'], dtype='object')\n",
      "For 2 features: \n",
      " Accuracy: 0.22733215156215378 \n",
      " Precision: 0.13442894014769294 \n",
      " Recall: 0.1699572119583974 \n",
      " F1 score: 0.1273276977806925\n",
      "              precision    recall  f1-score   support\n",
      "\n",
      "        10.0       0.38      0.39      0.38      1506\n",
      "        20.0       0.00      0.00      0.00       761\n",
      "        30.0       0.14      0.05      0.08       429\n",
      "        40.0       0.00      0.00      0.00       523\n",
      "        50.0       0.00      0.00      0.00        86\n",
      "        60.0       0.16      0.22      0.18       748\n",
      "       100.0       0.13      0.50      0.21       460\n",
      "\n",
      "    accuracy                           0.22      4513\n",
      "   macro avg       0.12      0.17      0.12      4513\n",
      "weighted avg       0.18      0.22      0.19      4513\n",
      "\n"
     ]
    },
    {
     "name": "stderr",
     "output_type": "stream",
     "text": [
      "\r",
      " 27%|██▋       | 3/11 [01:18<03:51, 28.96s/it]"
     ]
    },
    {
     "name": "stdout",
     "output_type": "stream",
     "text": [
      "Index(['month', 'day', 'year'], dtype='object')\n",
      "For 3 features: \n",
      " Accuracy: 0.27495451519858 \n",
      " Precision: 0.19915861174088811 \n",
      " Recall: 0.21839021332662506 \n",
      " F1 score: 0.1752924633312102\n",
      "              precision    recall  f1-score   support\n",
      "\n",
      "        10.0       0.50      0.58      0.54      1472\n",
      "        20.0       0.14      0.04      0.06       774\n",
      "        30.0       0.19      0.10      0.13       450\n",
      "        40.0       0.16      0.29      0.20       517\n",
      "        50.0       0.03      0.07      0.05        83\n",
      "        60.0       0.30      0.13      0.18       735\n",
      "       100.0       0.16      0.28      0.20       476\n",
      "\n",
      "    accuracy                           0.29      4507\n",
      "   macro avg       0.21      0.21      0.20      4507\n",
      "weighted avg       0.29      0.29      0.28      4507\n",
      "\n"
     ]
    },
    {
     "name": "stderr",
     "output_type": "stream",
     "text": [
      "\r",
      " 36%|███▋      | 4/11 [02:16<04:43, 40.45s/it]"
     ]
    },
    {
     "name": "stdout",
     "output_type": "stream",
     "text": [
      "Index(['month', 'day', 'year', 'hour'], dtype='object')\n",
      "For 4 features: \n",
      " Accuracy: 0.26082426127527214 \n",
      " Precision: 0.22381165214704374 \n",
      " Recall: 0.2305218186524504 \n",
      " F1 score: 0.1884912086087207\n",
      "              precision    recall  f1-score   support\n",
      "\n",
      "        10.0       0.50      0.45      0.47      1492\n",
      "        20.0       0.15      0.06      0.08       761\n",
      "        30.0       0.12      0.24      0.16       445\n",
      "        40.0       0.18      0.04      0.07       499\n",
      "        50.0       0.04      0.33      0.07        79\n",
      "        60.0       0.36      0.11      0.17       758\n",
      "       100.0       0.19      0.39      0.25       467\n",
      "\n",
      "    accuracy                           0.25      4501\n",
      "   macro avg       0.22      0.23      0.18      4501\n",
      "weighted avg       0.30      0.25      0.25      4501\n",
      "\n"
     ]
    },
    {
     "name": "stderr",
     "output_type": "stream",
     "text": [
      "\r",
      " 45%|████▌     | 5/11 [03:20<04:52, 48.83s/it]"
     ]
    },
    {
     "name": "stdout",
     "output_type": "stream",
     "text": [
      "Index(['month', 'day', 'year', 'hour', 'minute'], dtype='object')\n",
      "For 5 features: \n",
      " Accuracy: 0.26172636262513904 \n",
      " Precision: 0.22162950195984452 \n",
      " Recall: 0.23064990621976175 \n",
      " F1 score: 0.1878125635338184\n",
      "              precision    recall  f1-score   support\n",
      "\n",
      "        10.0       0.52      0.48      0.50      1532\n",
      "        20.0       0.21      0.08      0.12       755\n",
      "        30.0       0.14      0.25      0.18       448\n",
      "        40.0       0.21      0.06      0.09       484\n",
      "        50.0       0.03      0.31      0.06        81\n",
      "        60.0       0.35      0.10      0.15       754\n",
      "       100.0       0.18      0.38      0.25       441\n",
      "\n",
      "    accuracy                           0.27      4495\n",
      "   macro avg       0.24      0.24      0.19      4495\n",
      "weighted avg       0.33      0.27      0.27      4495\n",
      "\n"
     ]
    },
    {
     "name": "stderr",
     "output_type": "stream",
     "text": [
      "\r",
      " 55%|█████▍    | 6/11 [04:30<04:40, 56.11s/it]"
     ]
    },
    {
     "name": "stdout",
     "output_type": "stream",
     "text": [
      "Index(['month', 'day', 'year', 'hour', 'minute', 'holiday'], dtype='object')\n",
      "For 6 features: \n",
      " Accuracy: 0.2683114279349521 \n",
      " Precision: 0.22703673133660152 \n",
      " Recall: 0.23474019997602075 \n",
      " F1 score: 0.19177576120077441\n",
      "              precision    recall  f1-score   support\n",
      "\n",
      "        10.0       0.52      0.50      0.51      1479\n",
      "        20.0       0.19      0.08      0.11       775\n",
      "        30.0       0.13      0.20      0.16       436\n",
      "        40.0       0.20      0.04      0.06       498\n",
      "        50.0       0.03      0.29      0.06        79\n",
      "        60.0       0.30      0.10      0.15       761\n",
      "       100.0       0.18      0.40      0.25       461\n",
      "\n",
      "    accuracy                           0.27      4489\n",
      "   macro avg       0.22      0.23      0.19      4489\n",
      "weighted avg       0.31      0.27      0.26      4489\n",
      "\n"
     ]
    },
    {
     "name": "stderr",
     "output_type": "stream",
     "text": [
      "\r",
      " 64%|██████▎   | 7/11 [05:46<04:09, 62.39s/it]"
     ]
    },
    {
     "name": "stdout",
     "output_type": "stream",
     "text": [
      "Index(['month', 'day', 'year', 'hour', 'minute', 'holiday', 'day.1'], dtype='object')\n",
      "For 7 features: \n",
      " Accuracy: 0.2839304037474905 \n",
      " Precision: 0.24373972109643996 \n",
      " Recall: 0.25127547088497004 \n",
      " F1 score: 0.21003048857817372\n",
      "              precision    recall  f1-score   support\n",
      "\n",
      "        10.0       0.54      0.49      0.51      1502\n",
      "        20.0       0.18      0.09      0.12       762\n",
      "        30.0       0.12      0.17      0.14       435\n",
      "        40.0       0.26      0.16      0.20       521\n",
      "        50.0       0.03      0.27      0.05        71\n",
      "        60.0       0.38      0.09      0.15       751\n",
      "       100.0       0.22      0.44      0.29       441\n",
      "\n",
      "    accuracy                           0.28      4483\n",
      "   macro avg       0.25      0.25      0.21      4483\n",
      "weighted avg       0.34      0.28      0.28      4483\n",
      "\n"
     ]
    },
    {
     "name": "stderr",
     "output_type": "stream",
     "text": [
      "\r",
      " 73%|███████▎  | 8/11 [07:03<03:21, 67.16s/it]"
     ]
    },
    {
     "name": "stdout",
     "output_type": "stream",
     "text": [
      "Index(['month', 'day', 'year', 'hour', 'minute', 'holiday', 'day.1',\n",
      "       'Pandemic'],\n",
      "      dtype='object')\n",
      "For 8 features: \n",
      " Accuracy: 0.28477775295957114 \n",
      " Precision: 0.24484434041784459 \n",
      " Recall: 0.2526753553999951 \n",
      " F1 score: 0.21111284407395675\n",
      "              precision    recall  f1-score   support\n",
      "\n",
      "        10.0       0.52      0.48      0.50      1447\n",
      "        20.0       0.19      0.11      0.14       784\n",
      "        30.0       0.13      0.17      0.15       453\n",
      "        40.0       0.30      0.10      0.15       512\n",
      "        50.0       0.04      0.29      0.06        90\n",
      "        60.0       0.35      0.12      0.18       735\n",
      "       100.0       0.22      0.45      0.30       456\n",
      "\n",
      "    accuracy                           0.28      4477\n",
      "   macro avg       0.25      0.25      0.21      4477\n",
      "weighted avg       0.33      0.28      0.28      4477\n",
      "\n"
     ]
    },
    {
     "name": "stderr",
     "output_type": "stream",
     "text": [
      "\r",
      " 82%|████████▏ | 9/11 [08:39<02:32, 76.26s/it]"
     ]
    },
    {
     "name": "stdout",
     "output_type": "stream",
     "text": [
      "Index(['month', 'day', 'year', 'hour', 'minute', 'holiday', 'day.1',\n",
      "       'Pandemic', 'temperature'],\n",
      "      dtype='object')\n",
      "For 9 features: \n",
      " Accuracy: 0.2835987474837844 \n",
      " Precision: 0.23587741320079994 \n",
      " Recall: 0.24840697296264355 \n",
      " F1 score: 0.20608230846215034\n",
      "              precision    recall  f1-score   support\n",
      "\n",
      "        10.0       0.54      0.51      0.53      1497\n",
      "        20.0       0.17      0.09      0.12       735\n",
      "        30.0       0.11      0.14      0.12       441\n",
      "        40.0       0.24      0.12      0.16       452\n",
      "        50.0       0.05      0.34      0.09       102\n",
      "        60.0       0.34      0.11      0.16       750\n",
      "       100.0       0.23      0.46      0.31       494\n",
      "\n",
      "    accuracy                           0.29      4471\n",
      "   macro avg       0.24      0.25      0.21      4471\n",
      "weighted avg       0.33      0.29      0.29      4471\n",
      "\n"
     ]
    },
    {
     "name": "stderr",
     "output_type": "stream",
     "text": [
      "\r",
      " 91%|█████████ | 10/11 [10:26<01:25, 85.71s/it]"
     ]
    },
    {
     "name": "stdout",
     "output_type": "stream",
     "text": [
      "Index(['month', 'day', 'year', 'hour', 'minute', 'holiday', 'day.1',\n",
      "       'Pandemic', 'temperature', 'humidity'],\n",
      "      dtype='object')\n",
      "For 10 features: \n",
      " Accuracy: 0.28980291153415455 \n",
      " Precision: 0.23482069486053858 \n",
      " Recall: 0.25254739241942575 \n",
      " F1 score: 0.20948291232202457\n",
      "              precision    recall  f1-score   support\n",
      "\n",
      "        10.0       0.57      0.50      0.53      1492\n",
      "        20.0       0.17      0.08      0.11       764\n",
      "        30.0       0.11      0.16      0.13       440\n",
      "        40.0       0.16      0.08      0.11       508\n",
      "        50.0       0.04      0.31      0.07        90\n",
      "        60.0       0.36      0.10      0.16       726\n",
      "       100.0       0.21      0.44      0.29       445\n",
      "\n",
      "    accuracy                           0.27      4465\n",
      "   macro avg       0.23      0.24      0.20      4465\n",
      "weighted avg       0.33      0.27      0.28      4465\n",
      "\n"
     ]
    },
    {
     "name": "stderr",
     "output_type": "stream",
     "text": [
      "100%|██████████| 11/11 [12:19<00:00, 67.20s/it]\n",
      "  0%|          | 0/11 [00:00<?, ?it/s]"
     ]
    },
    {
     "name": "stdout",
     "output_type": "stream",
     "text": [
      "Index(['month', 'day', 'year', 'hour', 'minute', 'holiday', 'day.1',\n",
      "       'Pandemic', 'temperature', 'humidity', 'pressure'],\n",
      "      dtype='object')\n",
      "For 11 features: \n",
      " Accuracy: 0.291735815205203 \n",
      " Precision: 0.2321594681279902 \n",
      " Recall: 0.2563080277597845 \n",
      " F1 score: 0.21108888003928178\n",
      "              precision    recall  f1-score   support\n",
      "\n",
      "        10.0       0.57      0.49      0.53      1536\n",
      "        20.0       0.18      0.10      0.13       762\n",
      "        30.0       0.13      0.16      0.14       412\n",
      "        40.0       0.21      0.11      0.15       498\n",
      "        50.0       0.05      0.39      0.09        80\n",
      "        60.0       0.27      0.09      0.13       708\n",
      "       100.0       0.22      0.54      0.32       463\n",
      "\n",
      "    accuracy                           0.29      4459\n",
      "   macro avg       0.23      0.27      0.21      4459\n",
      "weighted avg       0.33      0.29      0.29      4459\n",
      "\n",
      "\n",
      " \n",
      "\n",
      "------------------------- Analyzing method mutualInformation_classification2 -------------------------\n",
      "The variable order is: \n",
      " ['day', 'temperature', 'month', 'humidity', 'hour', 'day.1', 'pressure', 'holiday', 'year', 'report', 'minute', 'Pandemic']\n"
     ]
    },
    {
     "name": "stderr",
     "output_type": "stream",
     "text": [
      "\r",
      "  9%|▉         | 1/11 [00:18<03:05, 18.54s/it]"
     ]
    },
    {
     "name": "stdout",
     "output_type": "stream",
     "text": [
      "Index(['day'], dtype='object')\n",
      "For 1 features: \n",
      " Accuracy: 0.2394318437008758 \n",
      " Precision: 0.1101584849041915 \n",
      " Recall: 0.1579595192446488 \n",
      " F1 score: 0.10573034436054046\n",
      "              precision    recall  f1-score   support\n",
      "\n",
      "        10.0       0.40      0.53      0.46      1546\n",
      "        20.0       0.00      0.00      0.00       743\n",
      "        30.0       0.17      0.06      0.09       440\n",
      "        40.0       0.00      0.00      0.00       485\n",
      "        50.0       0.00      0.00      0.00        77\n",
      "        60.0       0.19      0.04      0.07       705\n",
      "       100.0       0.11      0.50      0.18       457\n",
      "\n",
      "    accuracy                           0.25      4453\n",
      "   macro avg       0.12      0.16      0.11      4453\n",
      "weighted avg       0.20      0.25      0.20      4453\n",
      "\n"
     ]
    },
    {
     "name": "stderr",
     "output_type": "stream",
     "text": [
      "\r",
      " 18%|█▊        | 2/11 [00:49<03:51, 25.73s/it]"
     ]
    },
    {
     "name": "stdout",
     "output_type": "stream",
     "text": [
      "Index(['day', 'temperature'], dtype='object')\n",
      "For 2 features: \n",
      " Accuracy: 0.23484146615695975 \n",
      " Precision: 0.14210234052945828 \n",
      " Recall: 0.17402240127262866 \n",
      " F1 score: 0.12747374730771402\n",
      "              precision    recall  f1-score   support\n",
      "\n",
      "        10.0       0.44      0.50      0.47      1495\n",
      "        20.0       0.09      0.01      0.01       751\n",
      "        30.0       0.04      0.03      0.04       433\n",
      "        40.0       0.23      0.01      0.02       481\n",
      "        50.0       0.02      0.37      0.04        90\n",
      "        60.0       0.27      0.02      0.04       746\n",
      "       100.0       0.14      0.26      0.18       451\n",
      "\n",
      "    accuracy                           0.21      4447\n",
      "   macro avg       0.18      0.17      0.11      4447\n",
      "weighted avg       0.25      0.21      0.19      4447\n",
      "\n"
     ]
    },
    {
     "name": "stderr",
     "output_type": "stream",
     "text": [
      "\r",
      " 27%|██▋       | 3/11 [01:24<04:00, 30.06s/it]"
     ]
    },
    {
     "name": "stdout",
     "output_type": "stream",
     "text": [
      "Index(['day', 'temperature', 'month'], dtype='object')\n",
      "For 3 features: \n",
      " Accuracy: 0.24864444944832245 \n",
      " Precision: 0.172772595817534 \n",
      " Recall: 0.1916805862148291 \n",
      " F1 score: 0.1552163263710205\n",
      "              precision    recall  f1-score   support\n",
      "\n",
      "        10.0       0.44      0.47      0.45      1481\n",
      "        20.0       0.12      0.02      0.03       776\n",
      "        30.0       0.10      0.06      0.07       424\n",
      "        40.0       0.17      0.15      0.16       487\n",
      "        50.0       0.01      0.13      0.02        70\n",
      "        60.0       0.18      0.06      0.09       731\n",
      "       100.0       0.18      0.38      0.24       472\n",
      "\n",
      "    accuracy                           0.24      4441\n",
      "   macro avg       0.17      0.18      0.15      4441\n",
      "weighted avg       0.24      0.24      0.22      4441\n",
      "\n"
     ]
    },
    {
     "name": "stderr",
     "output_type": "stream",
     "text": [
      "\r",
      " 36%|███▋      | 4/11 [02:07<04:06, 35.16s/it]"
     ]
    },
    {
     "name": "stdout",
     "output_type": "stream",
     "text": [
      "Index(['day', 'temperature', 'month', 'humidity'], dtype='object')\n",
      "For 4 features: \n",
      " Accuracy: 0.2802119503945885 \n",
      " Precision: 0.19497530783416647 \n",
      " Recall: 0.20970881141032496 \n",
      " F1 score: 0.1796733734598274\n",
      "              precision    recall  f1-score   support\n",
      "\n",
      "        10.0       0.52      0.56      0.54      1533\n",
      "        20.0       0.18      0.03      0.05       774\n",
      "        30.0       0.16      0.06      0.09       464\n",
      "        40.0       0.13      0.16      0.14       460\n",
      "        50.0       0.02      0.23      0.04        71\n",
      "        60.0       0.14      0.07      0.09       682\n",
      "       100.0       0.18      0.36      0.24       451\n",
      "\n",
      "    accuracy                           0.27      4435\n",
      "   macro avg       0.19      0.21      0.17      4435\n",
      "weighted avg       0.28      0.27      0.26      4435\n",
      "\n"
     ]
    },
    {
     "name": "stderr",
     "output_type": "stream",
     "text": [
      "\r",
      " 45%|████▌     | 5/11 [03:01<04:11, 41.90s/it]"
     ]
    },
    {
     "name": "stdout",
     "output_type": "stream",
     "text": [
      "Index(['day', 'temperature', 'month', 'humidity', 'hour'], dtype='object')\n",
      "For 5 features: \n",
      " Accuracy: 0.2761684353127117 \n",
      " Precision: 0.21515871424962144 \n",
      " Recall: 0.22652297406718716 \n",
      " F1 score: 0.20225116510701074\n",
      "              precision    recall  f1-score   support\n",
      "\n",
      "        10.0       0.56      0.50      0.53      1540\n",
      "        20.0       0.23      0.13      0.16       746\n",
      "        30.0       0.10      0.15      0.12       411\n",
      "        40.0       0.18      0.07      0.10       470\n",
      "        50.0       0.03      0.20      0.05        66\n",
      "        60.0       0.24      0.14      0.18       716\n",
      "       100.0       0.20      0.40      0.26       480\n",
      "\n",
      "    accuracy                           0.29      4429\n",
      "   macro avg       0.22      0.23      0.20      4429\n",
      "weighted avg       0.32      0.29      0.29      4429\n",
      "\n"
     ]
    },
    {
     "name": "stderr",
     "output_type": "stream",
     "text": [
      "\r",
      " 55%|█████▍    | 6/11 [04:02<04:01, 48.33s/it]"
     ]
    },
    {
     "name": "stdout",
     "output_type": "stream",
     "text": [
      "Index(['day', 'temperature', 'month', 'humidity', 'hour', 'day.1'], dtype='object')\n",
      "For 6 features: \n",
      " Accuracy: 0.26111688898937374 \n",
      " Precision: 0.20548855380841236 \n",
      " Recall: 0.22533006369212524 \n",
      " F1 score: 0.18842867536113264\n",
      "              precision    recall  f1-score   support\n",
      "\n",
      "        10.0       0.54      0.48      0.51      1481\n",
      "        20.0       0.23      0.15      0.18       737\n",
      "        30.0       0.16      0.13      0.14       440\n",
      "        40.0       0.12      0.09      0.10       480\n",
      "        50.0       0.03      0.26      0.05        80\n",
      "        60.0       0.26      0.10      0.15       721\n",
      "       100.0       0.18      0.35      0.24       484\n",
      "\n",
      "    accuracy                           0.27      4423\n",
      "   macro avg       0.22      0.22      0.20      4423\n",
      "weighted avg       0.31      0.27      0.28      4423\n",
      "\n"
     ]
    },
    {
     "name": "stderr",
     "output_type": "stream",
     "text": [
      "\r",
      " 64%|██████▎   | 7/11 [05:19<03:51, 57.87s/it]"
     ]
    },
    {
     "name": "stdout",
     "output_type": "stream",
     "text": [
      "Index(['day', 'temperature', 'month', 'humidity', 'hour', 'day.1', 'pressure'], dtype='object')\n",
      "For 7 features: \n",
      " Accuracy: 0.2650509395517319 \n",
      " Precision: 0.20606623041037864 \n",
      " Recall: 0.225771853403634 \n",
      " F1 score: 0.19109297028569203\n",
      "              precision    recall  f1-score   support\n",
      "\n",
      "        10.0       0.54      0.46      0.50      1501\n",
      "        20.0       0.20      0.14      0.16       723\n",
      "        30.0       0.14      0.11      0.12       432\n",
      "        40.0       0.13      0.09      0.11       498\n",
      "        50.0       0.03      0.27      0.06        67\n",
      "        60.0       0.20      0.12      0.15       722\n",
      "       100.0       0.18      0.36      0.24       474\n",
      "\n",
      "    accuracy                           0.26      4417\n",
      "   macro avg       0.20      0.22      0.19      4417\n",
      "weighted avg       0.30      0.26      0.27      4417\n",
      "\n"
     ]
    },
    {
     "name": "stderr",
     "output_type": "stream",
     "text": [
      "\r",
      " 73%|███████▎  | 8/11 [06:40<03:15, 65.32s/it]"
     ]
    },
    {
     "name": "stdout",
     "output_type": "stream",
     "text": [
      "Index(['day', 'temperature', 'month', 'humidity', 'hour', 'day.1', 'pressure',\n",
      "       'holiday'],\n",
      "      dtype='object')\n",
      "For 8 features: \n",
      " Accuracy: 0.2794014962593516 \n",
      " Precision: 0.22374039387568692 \n",
      " Recall: 0.2441261101815449 \n",
      " F1 score: 0.2088435452421692\n",
      "              precision    recall  f1-score   support\n",
      "\n",
      "        10.0       0.54      0.49      0.52      1492\n",
      "        20.0       0.23      0.13      0.16       807\n",
      "        30.0       0.11      0.13      0.12       420\n",
      "        40.0       0.15      0.14      0.15       448\n",
      "        50.0       0.03      0.25      0.05        69\n",
      "        60.0       0.22      0.08      0.12       724\n",
      "       100.0       0.25      0.47      0.33       451\n",
      "\n",
      "    accuracy                           0.28      4411\n",
      "   macro avg       0.22      0.24      0.21      4411\n",
      "weighted avg       0.31      0.28      0.28      4411\n",
      "\n"
     ]
    },
    {
     "name": "stderr",
     "output_type": "stream",
     "text": [
      "\r",
      " 82%|████████▏ | 9/11 [08:29<02:37, 78.92s/it]"
     ]
    },
    {
     "name": "stdout",
     "output_type": "stream",
     "text": [
      "Index(['day', 'temperature', 'month', 'humidity', 'hour', 'day.1', 'pressure',\n",
      "       'holiday', 'year'],\n",
      "      dtype='object')\n",
      "For 9 features: \n",
      " Accuracy: 0.29445856980703744 \n",
      " Precision: 0.23169753608823163 \n",
      " Recall: 0.25176907279155103 \n",
      " F1 score: 0.21350796679318523\n",
      "              precision    recall  f1-score   support\n",
      "\n",
      "        10.0       0.57      0.51      0.54      1489\n",
      "        20.0       0.17      0.08      0.11       753\n",
      "        30.0       0.11      0.14      0.13       409\n",
      "        40.0       0.24      0.18      0.21       497\n",
      "        50.0       0.04      0.28      0.07        74\n",
      "        60.0       0.24      0.09      0.13       730\n",
      "       100.0       0.22      0.49      0.30       453\n",
      "\n",
      "    accuracy                           0.29      4405\n",
      "   macro avg       0.23      0.25      0.21      4405\n",
      "weighted avg       0.32      0.29      0.29      4405\n",
      "\n"
     ]
    },
    {
     "name": "stderr",
     "output_type": "stream",
     "text": [
      "\r",
      " 91%|█████████ | 10/11 [10:19<01:28, 88.58s/it]"
     ]
    },
    {
     "name": "stdout",
     "output_type": "stream",
     "text": [
      "Index(['day', 'temperature', 'month', 'humidity', 'hour', 'day.1', 'pressure',\n",
      "       'holiday', 'year', 'report'],\n",
      "      dtype='object')\n",
      "For 10 features: \n",
      " Accuracy: 0.29616049102068653 \n",
      " Precision: 0.23144119223993517 \n",
      " Recall: 0.2514842560020255 \n",
      " F1 score: 0.21274819591799576\n",
      "              precision    recall  f1-score   support\n",
      "\n",
      "        10.0       0.58      0.51      0.54      1508\n",
      "        20.0       0.16      0.06      0.09       744\n",
      "        30.0       0.13      0.14      0.14       431\n",
      "        40.0       0.18      0.17      0.17       435\n",
      "        50.0       0.03      0.24      0.05        62\n",
      "        60.0       0.30      0.11      0.16       737\n",
      "       100.0       0.23      0.52      0.32       482\n",
      "\n",
      "    accuracy                           0.29      4399\n",
      "   macro avg       0.23      0.25      0.21      4399\n",
      "weighted avg       0.33      0.29      0.29      4399\n",
      "\n"
     ]
    },
    {
     "name": "stderr",
     "output_type": "stream",
     "text": [
      "100%|██████████| 11/11 [12:15<00:00, 66.85s/it]\n",
      "  0%|          | 0/11 [00:00<?, ?it/s]"
     ]
    },
    {
     "name": "stdout",
     "output_type": "stream",
     "text": [
      "Index(['day', 'temperature', 'month', 'humidity', 'hour', 'day.1', 'pressure',\n",
      "       'holiday', 'year', 'report', 'minute'],\n",
      "      dtype='object')\n",
      "For 11 features: \n",
      " Accuracy: 0.2952583655816071 \n",
      " Precision: 0.2315678875141064 \n",
      " Recall: 0.25181380491246563 \n",
      " F1 score: 0.2127881205418594\n",
      "              precision    recall  f1-score   support\n",
      "\n",
      "        10.0       0.57      0.50      0.53      1483\n",
      "        20.0       0.19      0.11      0.14       749\n",
      "        30.0       0.13      0.18      0.15       398\n",
      "        40.0       0.22      0.18      0.20       492\n",
      "        50.0       0.05      0.28      0.08        83\n",
      "        60.0       0.24      0.10      0.14       703\n",
      "       100.0       0.23      0.44      0.30       485\n",
      "\n",
      "    accuracy                           0.29      4393\n",
      "   macro avg       0.23      0.26      0.22      4393\n",
      "weighted avg       0.33      0.29      0.30      4393\n",
      "\n",
      "\n",
      " \n",
      "\n",
      "------------------------- Analyzing method variableThreshold -------------------------\n",
      "The variable order is: \n",
      " ['month', 'day', 'year', 'hour', 'minute', 'holiday', 'day.1', 'temperature', 'humidity', 'pressure', 'report']\n"
     ]
    },
    {
     "name": "stderr",
     "output_type": "stream",
     "text": [
      "\r",
      "  9%|▉         | 1/11 [00:17<02:59, 17.97s/it]"
     ]
    },
    {
     "name": "stdout",
     "output_type": "stream",
     "text": [
      "Index(['month'], dtype='object')\n",
      "For 1 features: \n",
      " Accuracy: 0.24363118304080236 \n",
      " Precision: 0.07826941861662946 \n",
      " Recall: 0.16117565019082924 \n",
      " F1 score: 0.09088604112193087\n",
      "              precision    recall  f1-score   support\n",
      "\n",
      "        10.0       0.35      0.55      0.43      1530\n",
      "        20.0       0.00      0.00      0.00       727\n",
      "        30.0       0.00      0.00      0.00       426\n",
      "        40.0       0.00      0.00      0.00       465\n",
      "        50.0       0.00      0.00      0.00        80\n",
      "        60.0       0.00      0.00      0.00       714\n",
      "       100.0       0.13      0.58      0.21       445\n",
      "\n",
      "    accuracy                           0.25      4387\n",
      "   macro avg       0.07      0.16      0.09      4387\n",
      "weighted avg       0.14      0.25      0.17      4387\n",
      "\n"
     ]
    },
    {
     "name": "stderr",
     "output_type": "stream",
     "text": [
      "\r",
      " 18%|█▊        | 2/11 [00:40<03:08, 20.94s/it]"
     ]
    },
    {
     "name": "stdout",
     "output_type": "stream",
     "text": [
      "Index(['month', 'day'], dtype='object')\n",
      "For 2 features: \n",
      " Accuracy: 0.23134215932435517 \n",
      " Precision: 0.13401673466024766 \n",
      " Recall: 0.1700907169550028 \n",
      " F1 score: 0.12470434249737727\n",
      "              precision    recall  f1-score   support\n",
      "\n",
      "        10.0       0.41      0.42      0.42      1492\n",
      "        20.0       0.00      0.00      0.00       747\n",
      "        30.0       0.07      0.04      0.05       413\n",
      "        40.0       0.00      0.00      0.00       467\n",
      "        50.0       0.00      0.00      0.00        63\n",
      "        60.0       0.17      0.23      0.19       724\n",
      "       100.0       0.14      0.43      0.22       475\n",
      "\n",
      "    accuracy                           0.23      4381\n",
      "   macro avg       0.11      0.16      0.13      4381\n",
      "weighted avg       0.19      0.23      0.20      4381\n",
      "\n"
     ]
    },
    {
     "name": "stderr",
     "output_type": "stream",
     "text": [
      "\r",
      " 27%|██▋       | 3/11 [01:22<04:02, 30.37s/it]"
     ]
    },
    {
     "name": "stdout",
     "output_type": "stream",
     "text": [
      "Index(['month', 'day', 'year'], dtype='object')\n",
      "For 3 features: \n",
      " Accuracy: 0.291088 \n",
      " Precision: 0.20223565755864636 \n",
      " Recall: 0.21057045746003536 \n",
      " F1 score: 0.1836493706953806\n",
      "              precision    recall  f1-score   support\n",
      "\n",
      "        10.0       0.50      0.58      0.54      1489\n",
      "        20.0       0.10      0.03      0.05       743\n",
      "        30.0       0.14      0.20      0.16       425\n",
      "        40.0       0.24      0.08      0.12       470\n",
      "        50.0       0.02      0.21      0.03        58\n",
      "        60.0       0.31      0.13      0.18       739\n",
      "       100.0       0.19      0.25      0.21       451\n",
      "\n",
      "    accuracy                           0.28      4375\n",
      "   macro avg       0.21      0.21      0.18      4375\n",
      "weighted avg       0.30      0.28      0.27      4375\n",
      "\n"
     ]
    },
    {
     "name": "stderr",
     "output_type": "stream",
     "text": [
      "\r",
      " 36%|███▋      | 4/11 [02:22<04:55, 42.15s/it]"
     ]
    },
    {
     "name": "stdout",
     "output_type": "stream",
     "text": [
      "Index(['month', 'day', 'year', 'hour'], dtype='object')\n",
      "For 4 features: \n",
      " Accuracy: 0.2685740444037537 \n",
      " Precision: 0.21897257530749326 \n",
      " Recall: 0.21932775494520526 \n",
      " F1 score: 0.18918996218278386\n",
      "              precision    recall  f1-score   support\n",
      "\n",
      "        10.0       0.50      0.46      0.48      1505\n",
      "        20.0       0.13      0.05      0.08       766\n",
      "        30.0       0.14      0.28      0.19       444\n",
      "        40.0       0.21      0.11      0.15       441\n",
      "        50.0       0.04      0.13      0.06        79\n",
      "        60.0       0.33      0.14      0.19       690\n",
      "       100.0       0.17      0.41      0.25       444\n",
      "\n",
      "    accuracy                           0.27      4369\n",
      "   macro avg       0.22      0.23      0.20      4369\n",
      "weighted avg       0.30      0.27      0.27      4369\n",
      "\n"
     ]
    },
    {
     "name": "stderr",
     "output_type": "stream",
     "text": [
      "\r",
      " 45%|████▌     | 5/11 [03:28<05:04, 50.76s/it]"
     ]
    },
    {
     "name": "stdout",
     "output_type": "stream",
     "text": [
      "Index(['month', 'day', 'year', 'hour', 'minute'], dtype='object')\n",
      "For 5 features: \n",
      " Accuracy: 0.26659179463671784 \n",
      " Precision: 0.21532632676984156 \n",
      " Recall: 0.21819684751023033 \n",
      " F1 score: 0.18772890918750879\n",
      "              precision    recall  f1-score   support\n",
      "\n",
      "        10.0       0.50      0.47      0.48      1499\n",
      "        20.0       0.18      0.08      0.11       752\n",
      "        30.0       0.13      0.23      0.17       426\n",
      "        40.0       0.17      0.05      0.07       439\n",
      "        50.0       0.04      0.22      0.06        83\n",
      "        60.0       0.30      0.09      0.13       715\n",
      "       100.0       0.18      0.41      0.25       449\n",
      "\n",
      "    accuracy                           0.26      4363\n",
      "   macro avg       0.21      0.22      0.18      4363\n",
      "weighted avg       0.30      0.26      0.26      4363\n",
      "\n"
     ]
    },
    {
     "name": "stderr",
     "output_type": "stream",
     "text": [
      "\r",
      " 55%|█████▍    | 6/11 [04:40<04:49, 57.84s/it]"
     ]
    },
    {
     "name": "stdout",
     "output_type": "stream",
     "text": [
      "Index(['month', 'day', 'year', 'hour', 'minute', 'holiday'], dtype='object')\n",
      "For 6 features: \n",
      " Accuracy: 0.27869864585724125 \n",
      " Precision: 0.22496423057853762 \n",
      " Recall: 0.22420695033102614 \n",
      " F1 score: 0.19834583967185915\n",
      "              precision    recall  f1-score   support\n",
      "\n",
      "        10.0       0.52      0.51      0.51      1486\n",
      "        20.0       0.22      0.11      0.14       760\n",
      "        30.0       0.15      0.21      0.17       409\n",
      "        40.0       0.25      0.15      0.19       471\n",
      "        50.0       0.03      0.24      0.05        59\n",
      "        60.0       0.33      0.12      0.18       712\n",
      "       100.0       0.20      0.37      0.25       460\n",
      "\n",
      "    accuracy                           0.29      4357\n",
      "   macro avg       0.24      0.24      0.21      4357\n",
      "weighted avg       0.33      0.29      0.29      4357\n",
      "\n"
     ]
    },
    {
     "name": "stderr",
     "output_type": "stream",
     "text": [
      "\r",
      " 64%|██████▎   | 7/11 [05:57<04:16, 64.03s/it]"
     ]
    },
    {
     "name": "stdout",
     "output_type": "stream",
     "text": [
      "Index(['month', 'day', 'year', 'hour', 'minute', 'holiday', 'day.1'], dtype='object')\n",
      "For 7 features: \n",
      " Accuracy: 0.2876051482417835 \n",
      " Precision: 0.23971192693965251 \n",
      " Recall: 0.2413464795482645 \n",
      " F1 score: 0.21015579243337604\n",
      "              precision    recall  f1-score   support\n",
      "\n",
      "        10.0       0.52      0.51      0.52      1498\n",
      "        20.0       0.19      0.08      0.12       744\n",
      "        30.0       0.12      0.22      0.16       406\n",
      "        40.0       0.22      0.10      0.14       448\n",
      "        50.0       0.03      0.20      0.05        75\n",
      "        60.0       0.37      0.13      0.19       719\n",
      "       100.0       0.21      0.39      0.28       461\n",
      "\n",
      "    accuracy                           0.29      4351\n",
      "   macro avg       0.24      0.23      0.21      4351\n",
      "weighted avg       0.33      0.29      0.29      4351\n",
      "\n"
     ]
    },
    {
     "name": "stderr",
     "output_type": "stream",
     "text": [
      "\r",
      " 73%|███████▎  | 8/11 [07:34<03:43, 74.63s/it]"
     ]
    },
    {
     "name": "stdout",
     "output_type": "stream",
     "text": [
      "Index(['month', 'day', 'year', 'hour', 'minute', 'holiday', 'day.1',\n",
      "       'temperature'],\n",
      "      dtype='object')\n",
      "For 8 features: \n",
      " Accuracy: 0.28574683544303797 \n",
      " Precision: 0.23579773037979804 \n",
      " Recall: 0.2399451053047419 \n",
      " F1 score: 0.20945058573987296\n",
      "              precision    recall  f1-score   support\n",
      "\n",
      "        10.0       0.58      0.49      0.53      1507\n",
      "        20.0       0.14      0.06      0.09       726\n",
      "        30.0       0.12      0.19      0.15       416\n",
      "        40.0       0.21      0.10      0.14       452\n",
      "        50.0       0.03      0.27      0.06        79\n",
      "        60.0       0.33      0.15      0.20       713\n",
      "       100.0       0.22      0.44      0.30       452\n",
      "\n",
      "    accuracy                           0.28      4345\n",
      "   macro avg       0.23      0.24      0.21      4345\n",
      "weighted avg       0.34      0.28      0.29      4345\n",
      "\n"
     ]
    },
    {
     "name": "stderr",
     "output_type": "stream",
     "text": [
      "\r",
      " 82%|████████▏ | 9/11 [09:27<02:53, 86.53s/it]"
     ]
    },
    {
     "name": "stdout",
     "output_type": "stream",
     "text": [
      "Index(['month', 'day', 'year', 'hour', 'minute', 'holiday', 'day.1',\n",
      "       'temperature', 'humidity'],\n",
      "      dtype='object')\n",
      "For 9 features: \n",
      " Accuracy: 0.29180456326342474 \n",
      " Precision: 0.23108215339095192 \n",
      " Recall: 0.2444912953410543 \n",
      " F1 score: 0.20981984686892988\n",
      "              precision    recall  f1-score   support\n",
      "\n",
      "        10.0       0.58      0.51      0.55      1458\n",
      "        20.0       0.16      0.10      0.12       752\n",
      "        30.0       0.13      0.17      0.14       386\n",
      "        40.0       0.19      0.15      0.17       484\n",
      "        50.0       0.03      0.19      0.05        74\n",
      "        60.0       0.26      0.09      0.13       724\n",
      "       100.0       0.21      0.42      0.28       461\n",
      "\n",
      "    accuracy                           0.28      4339\n",
      "   macro avg       0.22      0.23      0.21      4339\n",
      "weighted avg       0.32      0.28      0.29      4339\n",
      "\n"
     ]
    },
    {
     "name": "stderr",
     "output_type": "stream",
     "text": [
      "\r",
      " 91%|█████████ | 10/11 [11:24<01:35, 95.88s/it]"
     ]
    },
    {
     "name": "stdout",
     "output_type": "stream",
     "text": [
      "Index(['month', 'day', 'year', 'hour', 'minute', 'holiday', 'day.1',\n",
      "       'temperature', 'humidity', 'pressure'],\n",
      "      dtype='object')\n",
      "For 10 features: \n",
      " Accuracy: 0.2934087237479806 \n",
      " Precision: 0.23131019617911353 \n",
      " Recall: 0.24843257907906752 \n",
      " F1 score: 0.2122434027554642\n",
      "              precision    recall  f1-score   support\n",
      "\n",
      "        10.0       0.58      0.50      0.54      1529\n",
      "        20.0       0.15      0.09      0.11       749\n",
      "        30.0       0.12      0.14      0.13       399\n",
      "        40.0       0.21      0.16      0.18       434\n",
      "        50.0       0.03      0.23      0.05        73\n",
      "        60.0       0.26      0.08      0.13       683\n",
      "       100.0       0.22      0.47      0.30       466\n",
      "\n",
      "    accuracy                           0.29      4333\n",
      "   macro avg       0.22      0.24      0.20      4333\n",
      "weighted avg       0.33      0.29      0.29      4333\n",
      "\n"
     ]
    },
    {
     "name": "stderr",
     "output_type": "stream",
     "text": [
      "100%|██████████| 11/11 [13:22<00:00, 72.91s/it] \n",
      "  0%|          | 0/11 [00:00<?, ?it/s]"
     ]
    },
    {
     "name": "stdout",
     "output_type": "stream",
     "text": [
      "Index(['month', 'day', 'year', 'hour', 'minute', 'holiday', 'day.1',\n",
      "       'temperature', 'humidity', 'pressure', 'report'],\n",
      "      dtype='object')\n",
      "For 11 features: \n",
      " Accuracy: 0.2963300207996302 \n",
      " Precision: 0.23345669484287312 \n",
      " Recall: 0.2502474288252838 \n",
      " F1 score: 0.21400018877772906\n",
      "              precision    recall  f1-score   support\n",
      "\n",
      "        10.0       0.57      0.48      0.52      1484\n",
      "        20.0       0.21      0.09      0.12       751\n",
      "        30.0       0.12      0.14      0.13       404\n",
      "        40.0       0.21      0.17      0.19       447\n",
      "        50.0       0.04      0.32      0.08        84\n",
      "        60.0       0.24      0.09      0.13       700\n",
      "       100.0       0.20      0.47      0.29       457\n",
      "\n",
      "    accuracy                           0.28      4327\n",
      "   macro avg       0.23      0.25      0.21      4327\n",
      "weighted avg       0.33      0.28      0.28      4327\n",
      "\n",
      "\n",
      " \n",
      "\n",
      "------------------------- Analyzing method MRMR -------------------------\n",
      "The variable order is: \n",
      " ['temperature', 'day.1', 'hour', 'holiday', 'humidity', 'day', 'year', 'month', 'pressure', 'minute', 'report']\n"
     ]
    },
    {
     "name": "stderr",
     "output_type": "stream",
     "text": [
      "\r",
      "  9%|▉         | 1/11 [00:23<03:51, 23.15s/it]"
     ]
    },
    {
     "name": "stdout",
     "output_type": "stream",
     "text": [
      "Index(['temperature'], dtype='object')\n",
      "For 1 features: \n",
      " Accuracy: 0.2438139319601944 \n",
      " Precision: 0.1610529142788759 \n",
      " Recall: 0.17175557960641977 \n",
      " F1 score: 0.11738289785017618\n",
      "              precision    recall  f1-score   support\n",
      "\n",
      "        10.0       0.44      0.55      0.49      1482\n",
      "        20.0       0.19      0.09      0.12       744\n",
      "        30.0       0.14      0.02      0.04       398\n",
      "        40.0       0.00      0.00      0.00       456\n",
      "        50.0       0.02      0.53      0.03        60\n",
      "        60.0       0.12      0.00      0.01       696\n",
      "       100.0       0.12      0.01      0.02       485\n",
      "\n",
      "    accuracy                           0.22      4321\n",
      "   macro avg       0.15      0.17      0.10      4321\n",
      "weighted avg       0.23      0.22      0.20      4321\n",
      "\n"
     ]
    },
    {
     "name": "stderr",
     "output_type": "stream",
     "text": [
      "\r",
      " 18%|█▊        | 2/11 [00:55<04:18, 28.70s/it]"
     ]
    },
    {
     "name": "stdout",
     "output_type": "stream",
     "text": [
      "Index(['temperature', 'day.1'], dtype='object')\n",
      "For 2 features: \n",
      " Accuracy: 0.23318887601390498 \n",
      " Precision: 0.1465996054123628 \n",
      " Recall: 0.19812876140751928 \n",
      " F1 score: 0.12515936382078785\n",
      "              precision    recall  f1-score   support\n",
      "\n",
      "        10.0       0.48      0.47      0.48      1498\n",
      "        20.0       0.14      0.02      0.03       703\n",
      "        30.0       0.08      0.00      0.00       407\n",
      "        40.0       0.09      0.09      0.09       454\n",
      "        50.0       0.02      0.34      0.04        74\n",
      "        60.0       0.00      0.00      0.00       702\n",
      "       100.0       0.16      0.43      0.23       477\n",
      "\n",
      "    accuracy                           0.23      4315\n",
      "   macro avg       0.14      0.19      0.13      4315\n",
      "weighted avg       0.23      0.23      0.21      4315\n",
      "\n"
     ]
    },
    {
     "name": "stderr",
     "output_type": "stream",
     "text": [
      "\r",
      " 27%|██▋       | 3/11 [01:39<04:43, 35.45s/it]"
     ]
    },
    {
     "name": "stdout",
     "output_type": "stream",
     "text": [
      "Index(['temperature', 'day.1', 'hour'], dtype='object')\n",
      "For 3 features: \n",
      " Accuracy: 0.23079832907867254 \n",
      " Precision: 0.18328312263865035 \n",
      " Recall: 0.20611512860029382 \n",
      " F1 score: 0.15681548597504563\n",
      "              precision    recall  f1-score   support\n",
      "\n",
      "        10.0       0.52      0.41      0.46      1501\n",
      "        20.0       0.23      0.10      0.14       691\n",
      "        30.0       0.11      0.15      0.12       408\n",
      "        40.0       0.16      0.06      0.09       481\n",
      "        50.0       0.02      0.31      0.04        64\n",
      "        60.0       0.21      0.01      0.02       702\n",
      "       100.0       0.18      0.43      0.25       462\n",
      "\n",
      "    accuracy                           0.23      4309\n",
      "   macro avg       0.20      0.21      0.16      4309\n",
      "weighted avg       0.30      0.23      0.24      4309\n",
      "\n"
     ]
    },
    {
     "name": "stderr",
     "output_type": "stream",
     "text": [
      "\r",
      " 36%|███▋      | 4/11 [02:27<04:44, 40.68s/it]"
     ]
    },
    {
     "name": "stdout",
     "output_type": "stream",
     "text": [
      "Index(['temperature', 'day.1', 'hour', 'holiday'], dtype='object')\n",
      "For 4 features: \n",
      " Accuracy: 0.24563792702765513 \n",
      " Precision: 0.20258560021854577 \n",
      " Recall: 0.22411651987356263 \n",
      " F1 score: 0.17748555849213501\n",
      "              precision    recall  f1-score   support\n",
      "\n",
      "        10.0       0.52      0.41      0.46      1484\n",
      "        20.0       0.18      0.19      0.18       691\n",
      "        30.0       0.12      0.07      0.08       435\n",
      "        40.0       0.16      0.08      0.11       449\n",
      "        50.0       0.03      0.40      0.06        65\n",
      "        60.0       0.19      0.03      0.06       746\n",
      "       100.0       0.21      0.46      0.29       433\n",
      "\n",
      "    accuracy                           0.24      4303\n",
      "   macro avg       0.20      0.23      0.18      4303\n",
      "weighted avg       0.29      0.24      0.25      4303\n",
      "\n"
     ]
    },
    {
     "name": "stderr",
     "output_type": "stream",
     "text": [
      "\r",
      " 45%|████▌     | 5/11 [03:23<04:36, 46.00s/it]"
     ]
    },
    {
     "name": "stdout",
     "output_type": "stream",
     "text": [
      "Index(['temperature', 'day.1', 'hour', 'holiday', 'humidity'], dtype='object')\n",
      "For 5 features: \n",
      " Accuracy: 0.26675122178263905 \n",
      " Precision: 0.20668518283355777 \n",
      " Recall: 0.23292613510774837 \n",
      " F1 score: 0.18809674405218804\n",
      "              precision    recall  f1-score   support\n",
      "\n",
      "        10.0       0.55      0.48      0.51      1483\n",
      "        20.0       0.19      0.06      0.09       728\n",
      "        30.0       0.13      0.18      0.15       403\n",
      "        40.0       0.14      0.14      0.14       436\n",
      "        50.0       0.03      0.30      0.06        69\n",
      "        60.0       0.22      0.03      0.06       734\n",
      "       100.0       0.21      0.49      0.29       444\n",
      "\n",
      "    accuracy                           0.27      4297\n",
      "   macro avg       0.21      0.24      0.19      4297\n",
      "weighted avg       0.31      0.27      0.26      4297\n",
      "\n"
     ]
    },
    {
     "name": "stderr",
     "output_type": "stream",
     "text": [
      "\r",
      " 55%|█████▍    | 6/11 [04:21<04:10, 50.07s/it]"
     ]
    },
    {
     "name": "stdout",
     "output_type": "stream",
     "text": [
      "Index(['temperature', 'day.1', 'hour', 'holiday', 'humidity', 'day'], dtype='object')\n",
      "For 6 features: \n",
      " Accuracy: 0.26412491260778376 \n",
      " Precision: 0.20104365833169122 \n",
      " Recall: 0.22751712513771685 \n",
      " F1 score: 0.18509909787252965\n",
      "              precision    recall  f1-score   support\n",
      "\n",
      "        10.0       0.58      0.47      0.52      1538\n",
      "        20.0       0.18      0.09      0.12       694\n",
      "        30.0       0.09      0.08      0.09       405\n",
      "        40.0       0.12      0.19      0.15       414\n",
      "        50.0       0.02      0.20      0.04        76\n",
      "        60.0       0.15      0.02      0.03       663\n",
      "       100.0       0.26      0.45      0.33       501\n",
      "\n",
      "    accuracy                           0.27      4291\n",
      "   macro avg       0.20      0.22      0.18      4291\n",
      "weighted avg       0.31      0.27      0.27      4291\n",
      "\n"
     ]
    },
    {
     "name": "stderr",
     "output_type": "stream",
     "text": [
      "\r",
      " 64%|██████▎   | 7/11 [05:27<03:41, 55.42s/it]"
     ]
    },
    {
     "name": "stdout",
     "output_type": "stream",
     "text": [
      "Index(['temperature', 'day.1', 'hour', 'holiday', 'humidity', 'day', 'year'], dtype='object')\n",
      "For 7 features: \n",
      " Accuracy: 0.27515752625437573 \n",
      " Precision: 0.21768691747097985 \n",
      " Recall: 0.23702611642091276 \n",
      " F1 score: 0.20032856452412673\n",
      "              precision    recall  f1-score   support\n",
      "\n",
      "        10.0       0.55      0.47      0.51      1493\n",
      "        20.0       0.18      0.09      0.12       724\n",
      "        30.0       0.12      0.16      0.14       408\n",
      "        40.0       0.13      0.08      0.10       441\n",
      "        50.0       0.03      0.28      0.05        60\n",
      "        60.0       0.26      0.10      0.14       713\n",
      "       100.0       0.21      0.42      0.28       446\n",
      "\n",
      "    accuracy                           0.27      4285\n",
      "   macro avg       0.21      0.23      0.19      4285\n",
      "weighted avg       0.31      0.27      0.27      4285\n",
      "\n"
     ]
    },
    {
     "name": "stderr",
     "output_type": "stream",
     "text": [
      "\r",
      " 73%|███████▎  | 8/11 [07:15<03:36, 72.01s/it]"
     ]
    },
    {
     "name": "stdout",
     "output_type": "stream",
     "text": [
      "Index(['temperature', 'day.1', 'hour', 'holiday', 'humidity', 'day', 'year',\n",
      "       'month'],\n",
      "      dtype='object')\n",
      "For 8 features: \n",
      " Accuracy: 0.293972890862351 \n",
      " Precision: 0.2325017685830944 \n",
      " Recall: 0.2463998489027699 \n",
      " F1 score: 0.21079114563872403\n",
      "              precision    recall  f1-score   support\n",
      "\n",
      "        10.0       0.57      0.52      0.54      1477\n",
      "        20.0       0.15      0.08      0.10       708\n",
      "        30.0       0.12      0.17      0.14       400\n",
      "        40.0       0.19      0.15      0.17       471\n",
      "        50.0       0.04      0.25      0.06        77\n",
      "        60.0       0.34      0.12      0.17       692\n",
      "       100.0       0.22      0.43      0.29       454\n",
      "\n",
      "    accuracy                           0.29      4279\n",
      "   macro avg       0.23      0.24      0.21      4279\n",
      "weighted avg       0.33      0.29      0.30      4279\n",
      "\n"
     ]
    },
    {
     "name": "stderr",
     "output_type": "stream",
     "text": [
      "\r",
      " 82%|████████▏ | 9/11 [09:07<02:49, 84.61s/it]"
     ]
    },
    {
     "name": "stdout",
     "output_type": "stream",
     "text": [
      "Index(['temperature', 'day.1', 'hour', 'holiday', 'humidity', 'day', 'year',\n",
      "       'month', 'pressure'],\n",
      "      dtype='object')\n",
      "For 9 features: \n",
      " Accuracy: 0.2955464544816288 \n",
      " Precision: 0.23165552775785936 \n",
      " Recall: 0.24899882142840324 \n",
      " F1 score: 0.21212428730980465\n",
      "              precision    recall  f1-score   support\n",
      "\n",
      "        10.0       0.57      0.51      0.54      1481\n",
      "        20.0       0.19      0.09      0.13       696\n",
      "        30.0       0.10      0.11      0.11       387\n",
      "        40.0       0.18      0.16      0.17       467\n",
      "        50.0       0.05      0.31      0.09        83\n",
      "        60.0       0.24      0.11      0.15       713\n",
      "       100.0       0.20      0.42      0.27       446\n",
      "\n",
      "    accuracy                           0.29      4273\n",
      "   macro avg       0.22      0.24      0.21      4273\n",
      "weighted avg       0.32      0.29      0.29      4273\n",
      "\n"
     ]
    },
    {
     "name": "stderr",
     "output_type": "stream",
     "text": [
      "\r",
      " 91%|█████████ | 10/11 [11:03<01:34, 94.38s/it]"
     ]
    },
    {
     "name": "stdout",
     "output_type": "stream",
     "text": [
      "Index(['temperature', 'day.1', 'hour', 'holiday', 'humidity', 'day', 'year',\n",
      "       'month', 'pressure', 'minute'],\n",
      "      dtype='object')\n",
      "For 10 features: \n",
      " Accuracy: 0.2941481134286384 \n",
      " Precision: 0.23137749321081674 \n",
      " Recall: 0.24968256058223556 \n",
      " F1 score: 0.2122600018625916\n",
      "              precision    recall  f1-score   support\n",
      "\n",
      "        10.0       0.57      0.50      0.53      1419\n",
      "        20.0       0.20      0.08      0.12       718\n",
      "        30.0       0.12      0.16      0.14       439\n",
      "        40.0       0.17      0.11      0.13       456\n",
      "        50.0       0.04      0.26      0.07        78\n",
      "        60.0       0.28      0.13      0.18       711\n",
      "       100.0       0.21      0.46      0.29       446\n",
      "\n",
      "    accuracy                           0.29      4267\n",
      "   macro avg       0.23      0.24      0.21      4267\n",
      "weighted avg       0.32      0.29      0.29      4267\n",
      "\n"
     ]
    },
    {
     "name": "stderr",
     "output_type": "stream",
     "text": [
      "100%|██████████| 11/11 [13:02<00:00, 71.16s/it] "
     ]
    },
    {
     "name": "stdout",
     "output_type": "stream",
     "text": [
      "Index(['temperature', 'day.1', 'hour', 'holiday', 'humidity', 'day', 'year',\n",
      "       'month', 'pressure', 'minute', 'report'],\n",
      "      dtype='object')\n",
      "For 11 features: \n",
      " Accuracy: 0.2976531330673551 \n",
      " Precision: 0.23246335112411404 \n",
      " Recall: 0.25072712792756774 \n",
      " F1 score: 0.21360757293433927\n",
      "              precision    recall  f1-score   support\n",
      "\n",
      "        10.0       0.57      0.53      0.55      1462\n",
      "        20.0       0.20      0.11      0.14       725\n",
      "        30.0       0.14      0.19      0.16       402\n",
      "        40.0       0.19      0.11      0.14       443\n",
      "        50.0       0.03      0.24      0.05        68\n",
      "        60.0       0.30      0.11      0.16       716\n",
      "       100.0       0.24      0.48      0.32       445\n",
      "\n",
      "    accuracy                           0.30      4261\n",
      "   macro avg       0.24      0.25      0.22      4261\n",
      "weighted avg       0.34      0.30      0.30      4261\n",
      "\n",
      "\n",
      " \n",
      "\n"
     ]
    },
    {
     "name": "stderr",
     "output_type": "stream",
     "text": [
      "\n"
     ]
    }
   ],
   "source": [
    "method = ['Pearson_correlation','Kendalls_correlation','mutualInformation_classification',\n",
    "          'mutualInformation_reggression','mutualInformation_classification2',\n",
    "          'variableThreshold','MRMR']\n",
    "smote = SMOTE(random_state=42)\n",
    "analizeDF(hp4,orderOE,12)"
   ]
  }
 ],
 "metadata": {
  "kernelspec": {
   "display_name": "Python 3 (ipykernel)",
   "language": "python",
   "name": "python3"
  },
  "language_info": {
   "codemirror_mode": {
    "name": "ipython",
    "version": 3
   },
   "file_extension": ".py",
   "mimetype": "text/x-python",
   "name": "python",
   "nbconvert_exporter": "python",
   "pygments_lexer": "ipython3",
   "version": "3.8.8"
  }
 },
 "nbformat": 4,
 "nbformat_minor": 5
}
