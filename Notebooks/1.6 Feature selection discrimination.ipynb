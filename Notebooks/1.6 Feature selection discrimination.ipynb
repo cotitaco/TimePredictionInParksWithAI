{
 "cells": [
  {
   "cell_type": "markdown",
   "id": "d864f5ed",
   "metadata": {},
   "source": [
    "# Feature Selection techniques discrimination"
   ]
  },
  {
   "cell_type": "code",
   "execution_count": 1,
   "id": "a5a74940",
   "metadata": {},
   "outputs": [],
   "source": [
    "import pandas as pd\n",
    "import numpy as np\n",
    "from sklearn.model_selection import train_test_split\n",
    "from collections import Counter\n",
    "from imblearn.over_sampling import SMOTE\n",
    "from sklearn.linear_model import LogisticRegression\n",
    "from sklearn import metrics\n",
    "from tqdm import tqdm\n",
    "from sklearn.metrics import classification_report\n",
    "from statistics import mean\n",
    "import warnings\n",
    "warnings.filterwarnings('ignore')\n",
    "\n",
    "hp = pd.read_csv(\"hp_waitTime_6vars.csv\")"
   ]
  },
  {
   "cell_type": "code",
   "execution_count": 2,
   "id": "a06dbe24",
   "metadata": {},
   "outputs": [],
   "source": [
    "#Fucntion to split into X and Y\n",
    "def getXandY(df):\n",
    "    df.drop(df.tail(20).index,inplace=True) \n",
    "    x = df.drop(['Harry_Potter_and_the_Forbidden'],axis=1)\n",
    "    y = df.Harry_Potter_and_the_Forbidden\n",
    "    return(x,y)\n",
    "\n",
    "#Function to split in test and train\n",
    "def trainTest(x,y):\n",
    "    X_train, X_test, y_train, y_test = train_test_split(x, y, test_size=0.30, shuffle=True)\n",
    "    return(X_train, X_test, y_train, y_test)\n",
    "\n",
    "#Function to perform oversampling\n",
    "def overSampling(X_train, y_train, y_test, method):\n",
    "    X_train_os, y_train_os= method.fit_resample(X_train, y_train)\n",
    "    # Check the number of records after over sampling\n",
    "    #print(sorted(Counter(y_train_os).items())) \n",
    "    return(X_train_os, y_train_os)"
   ]
  },
  {
   "cell_type": "code",
   "execution_count": 3,
   "id": "495e8962",
   "metadata": {},
   "outputs": [],
   "source": [
    "#Variable order in manual correlation:\n",
    "pear_corr = ['temperature','holiday','day','month','pressure','day.1',\n",
    "            'report','minute','year','humidity','hour',\t'Pandemic']\n",
    "kend_corr = ['temperature','holiday','month','day','pressure','day.1','report','year',\n",
    "             'minute','humidity','hour','Pandemic']\n",
    "mutInf_class = ['month','day','year','hour','minute','holiday','day.1','Pandemic',\n",
    "                'temperature','humidity','pressure','report']\n",
    "mutInf_reg = ['month','day','year','hour','minute','holiday','day.1','Pandemic',\n",
    "                'temperature','humidity','pressure','report']\n",
    "mutInf_class2 = ['day','temperature','month','humidity','hour','day.1','pressure',\n",
    "                 'holiday','year','report','minute','Pandemic']\n",
    "varThre = ['month','day','year','hour','minute','holiday','day.1',\n",
    "           'temperature','humidity','pressure','report']\n",
    "mrmr = ['temperature','day.1','hour','holiday','humidity','day',\n",
    "        'year','month','pressure','minute','report']\n",
    "method = ['Pearson_correlation','Kendalls_correlation','mutualInformation_classification',\n",
    "          'mutualInformation_reggression','mutualInformation_classification2',\n",
    "          'variableThreshold','MRMR']"
   ]
  },
  {
   "cell_type": "code",
   "execution_count": 12,
   "id": "49555f61",
   "metadata": {},
   "outputs": [],
   "source": [
    "order=[pear_corr,kend_corr,mutInf_class,mutInf_reg,mutInf_class2,varThre,mrmr]"
   ]
  },
  {
   "cell_type": "code",
   "execution_count": 3,
   "id": "fa1eeb05",
   "metadata": {},
   "outputs": [],
   "source": [
    "#Split the compact dataframe into X and Y and train and test\n",
    "x,y=getXandY(hp)\n",
    "X_train, X_test, y_train, y_test = trainTest(x,y)\n",
    "smote = SMOTE(random_state=42)\n",
    "X_train_os, y_train_os=overSampling(X_train, y_train, y_test, smote)"
   ]
  },
  {
   "cell_type": "code",
   "execution_count": 6,
   "id": "d259bfa4",
   "metadata": {},
   "outputs": [],
   "source": [
    "# Order of variables according to method:\n",
    "order=[]"
   ]
  },
  {
   "cell_type": "code",
   "execution_count": 7,
   "id": "e52c43a0",
   "metadata": {},
   "outputs": [
    {
     "data": {
      "text/html": [
       "<div>\n",
       "<style scoped>\n",
       "    .dataframe tbody tr th:only-of-type {\n",
       "        vertical-align: middle;\n",
       "    }\n",
       "\n",
       "    .dataframe tbody tr th {\n",
       "        vertical-align: top;\n",
       "    }\n",
       "\n",
       "    .dataframe thead th {\n",
       "        text-align: right;\n",
       "    }\n",
       "</style>\n",
       "<table border=\"1\" class=\"dataframe\">\n",
       "  <thead>\n",
       "    <tr style=\"text-align: right;\">\n",
       "      <th></th>\n",
       "      <th>temperature</th>\n",
       "      <th>holiday</th>\n",
       "      <th>day</th>\n",
       "      <th>month</th>\n",
       "      <th>pressure</th>\n",
       "      <th>day.1</th>\n",
       "      <th>report</th>\n",
       "      <th>minute</th>\n",
       "      <th>year</th>\n",
       "      <th>humidity</th>\n",
       "      <th>hour</th>\n",
       "      <th>Pandemic</th>\n",
       "    </tr>\n",
       "  </thead>\n",
       "  <tbody>\n",
       "    <tr>\n",
       "      <th>0</th>\n",
       "      <td>0.828358</td>\n",
       "      <td>0.0</td>\n",
       "      <td>0.733333</td>\n",
       "      <td>0.363636</td>\n",
       "      <td>0.48</td>\n",
       "      <td>0.000000</td>\n",
       "      <td>0.0625</td>\n",
       "      <td>0.2</td>\n",
       "      <td>1.0</td>\n",
       "      <td>0.197531</td>\n",
       "      <td>0.608696</td>\n",
       "      <td>0.0</td>\n",
       "    </tr>\n",
       "    <tr>\n",
       "      <th>1</th>\n",
       "      <td>0.269851</td>\n",
       "      <td>0.0</td>\n",
       "      <td>0.633333</td>\n",
       "      <td>0.090909</td>\n",
       "      <td>0.72</td>\n",
       "      <td>1.000000</td>\n",
       "      <td>0.0625</td>\n",
       "      <td>0.6</td>\n",
       "      <td>1.0</td>\n",
       "      <td>0.703704</td>\n",
       "      <td>0.347826</td>\n",
       "      <td>0.0</td>\n",
       "    </tr>\n",
       "    <tr>\n",
       "      <th>2</th>\n",
       "      <td>0.700896</td>\n",
       "      <td>0.0</td>\n",
       "      <td>0.466667</td>\n",
       "      <td>0.454545</td>\n",
       "      <td>0.32</td>\n",
       "      <td>0.333333</td>\n",
       "      <td>0.3750</td>\n",
       "      <td>0.8</td>\n",
       "      <td>1.0</td>\n",
       "      <td>0.753086</td>\n",
       "      <td>0.391304</td>\n",
       "      <td>0.0</td>\n",
       "    </tr>\n",
       "    <tr>\n",
       "      <th>3</th>\n",
       "      <td>0.742388</td>\n",
       "      <td>0.0</td>\n",
       "      <td>0.800000</td>\n",
       "      <td>0.000000</td>\n",
       "      <td>0.32</td>\n",
       "      <td>0.166667</td>\n",
       "      <td>0.1250</td>\n",
       "      <td>0.8</td>\n",
       "      <td>1.0</td>\n",
       "      <td>0.432099</td>\n",
       "      <td>0.565217</td>\n",
       "      <td>0.0</td>\n",
       "    </tr>\n",
       "    <tr>\n",
       "      <th>4</th>\n",
       "      <td>0.626269</td>\n",
       "      <td>0.0</td>\n",
       "      <td>0.400000</td>\n",
       "      <td>0.909091</td>\n",
       "      <td>0.36</td>\n",
       "      <td>0.833333</td>\n",
       "      <td>0.3750</td>\n",
       "      <td>1.0</td>\n",
       "      <td>0.0</td>\n",
       "      <td>0.728395</td>\n",
       "      <td>0.739130</td>\n",
       "      <td>0.0</td>\n",
       "    </tr>\n",
       "  </tbody>\n",
       "</table>\n",
       "</div>"
      ],
      "text/plain": [
       "   temperature  holiday       day     month  pressure     day.1  report  \\\n",
       "0     0.828358      0.0  0.733333  0.363636      0.48  0.000000  0.0625   \n",
       "1     0.269851      0.0  0.633333  0.090909      0.72  1.000000  0.0625   \n",
       "2     0.700896      0.0  0.466667  0.454545      0.32  0.333333  0.3750   \n",
       "3     0.742388      0.0  0.800000  0.000000      0.32  0.166667  0.1250   \n",
       "4     0.626269      0.0  0.400000  0.909091      0.36  0.833333  0.3750   \n",
       "\n",
       "   minute  year  humidity      hour  Pandemic  \n",
       "0     0.2   1.0  0.197531  0.608696       0.0  \n",
       "1     0.6   1.0  0.703704  0.347826       0.0  \n",
       "2     0.8   1.0  0.753086  0.391304       0.0  \n",
       "3     0.8   1.0  0.432099  0.565217       0.0  \n",
       "4     1.0   0.0  0.728395  0.739130       0.0  "
      ]
     },
     "execution_count": 7,
     "metadata": {},
     "output_type": "execute_result"
    }
   ],
   "source": [
    "X_train_os_r = X_train_os[['temperature',\t'holiday',\t'day',\t'month',\t'pressure',\t'day.1',\n",
    "                           'report',\t'minute',\t'year',\t'humidity',\t'hour',\t'Pandemic']]\n",
    "X_train_os_r.head()"
   ]
  },
  {
   "cell_type": "code",
   "execution_count": 8,
   "id": "25e5d016",
   "metadata": {},
   "outputs": [],
   "source": [
    "X_test_r = X_test[['temperature',\t'holiday',\t'day',\t'month',\t'pressure',\t'day.1',\n",
    "                           'report',\t'minute',\t'year',\t'humidity',\t'hour',\t'Pandemic']]"
   ]
  },
  {
   "cell_type": "code",
   "execution_count": 9,
   "id": "d7d618fb",
   "metadata": {},
   "outputs": [
    {
     "name": "stdout",
     "output_type": "stream",
     "text": [
      "Index(['temperature', 'holiday'], dtype='object')\n"
     ]
    }
   ],
   "source": [
    "df1= X_train_os_r.iloc[:, 0:2]\n",
    "print(df1.columns)\n",
    "lg = LogisticRegression(max_iter=20000)\n",
    "lg.fit(df1, y_train_os).decision_function(X_test_r.iloc[:, 0:2])\n",
    "y_pred=lg.predict(X_test.iloc[:, 0:2])"
   ]
  },
  {
   "cell_type": "code",
   "execution_count": 10,
   "id": "36f3542c",
   "metadata": {},
   "outputs": [
    {
     "name": "stdout",
     "output_type": "stream",
     "text": [
      "0.018208765615075163\n",
      "0.0026012522307250234\n",
      "0.14285714285714285\n",
      "0.0051094673677331195\n"
     ]
    }
   ],
   "source": [
    "print(metrics.accuracy_score(y_test, y_pred))\n",
    "print(metrics.precision_score(y_test, y_pred,average='macro'))\n",
    "print(metrics.recall_score(y_test, y_pred,average='macro'))\n",
    "print(metrics.f1_score(y_test, y_pred, average='macro'))"
   ]
  },
  {
   "cell_type": "code",
   "execution_count": 4,
   "id": "66273d31",
   "metadata": {},
   "outputs": [],
   "source": [
    "from statistics import mean"
   ]
  },
  {
   "cell_type": "code",
   "execution_count": 5,
   "id": "2097b90a",
   "metadata": {},
   "outputs": [],
   "source": [
    "smote = SMOTE(random_state=42)\n",
    "\n",
    "def testModel(df,var_order,n_vars):\n",
    "    for j in tqdm(range(1,n_vars)):\n",
    "        #split our dataframe into X and Y\n",
    "        x,y=getXandY(df)\n",
    "        #create the lists to store metrics\n",
    "        acc = []\n",
    "        rec = []\n",
    "        preci = []\n",
    "        f1 = []\n",
    "        for i in range(100):\n",
    "            #split the dataFrame into test and train\n",
    "            X_train, X_test, y_train, y_test = trainTest(x,y)\n",
    "            #Oversample the train dataset with SMOTE\n",
    "            X_train_os, y_train_os=overSampling(X_train, y_train, y_test, smote)\n",
    "            #define the variables order \n",
    "            X_train_os_r = X_train_os[var_order]\n",
    "            X_test_r = X_test[var_order]\n",
    "            df1= X_train_os_r.iloc[:, 0:j] #use only part of the variables\n",
    "            lg = LogisticRegression(max_iter=20000)\n",
    "            lg.fit(df1, y_train_os).decision_function(X_test_r.iloc[:, 0:j])\n",
    "            y_pred=lg.predict(X_test_r.iloc[:, 0:j])\n",
    "            ac=metrics.accuracy_score(y_test, y_pred)\n",
    "            acc.append(ac)\n",
    "            p=metrics.precision_score(y_test, y_pred,average='macro')\n",
    "            preci.append(p)\n",
    "            r=metrics.recall_score(y_test, y_pred,average='macro')\n",
    "            rec.append(r)\n",
    "            f=metrics.f1_score(y_test, y_pred, average='macro')\n",
    "            f1.append(f)\n",
    "        print(df1.columns)\n",
    "        print(\"For {} features: \\n Accuracy: {} \\n Precision: {} \\n Recall: {} \\n F1 score: {}\".format(\n",
    "        j,mean(acc),mean(preci),mean(rec),mean(f1)))\n",
    "        print(classification_report(y_test, y_pred))"
   ]
  },
  {
   "cell_type": "code",
   "execution_count": 23,
   "id": "2df4570a",
   "metadata": {
    "scrolled": true
   },
   "outputs": [
    {
     "name": "stderr",
     "output_type": "stream",
     "text": [
      "\r",
      "  0%|          | 0/11 [00:00<?, ?it/s]"
     ]
    },
    {
     "name": "stdout",
     "output_type": "stream",
     "text": [
      "------------------------- Analyzing method Pearson_correlation -------------------------\n",
      "The variable order is: \n",
      " ['temperature', 'holiday', 'day', 'month', 'pressure', 'day.1', 'report', 'minute', 'year', 'humidity', 'hour', 'Pandemic']\n"
     ]
    },
    {
     "name": "stderr",
     "output_type": "stream",
     "text": [
      "\r",
      "  9%|▉         | 1/11 [00:15<02:32, 15.21s/it]"
     ]
    },
    {
     "name": "stdout",
     "output_type": "stream",
     "text": [
      "Index(['temperature'], dtype='object')\n",
      "For 1 features: \n",
      " Accuracy: 0.2525682411583195 \n",
      " Precision: 0.17324067578623503 \n",
      " Recall: 0.17416228627318744 \n",
      " F1 score: 0.1250907062255531\n",
      "              precision    recall  f1-score   support\n",
      "\n",
      "        10.0       0.46      0.51      0.48      1517\n",
      "        20.0       0.19      0.08      0.11       671\n",
      "        30.0       0.16      0.02      0.04       408\n",
      "        40.0       0.13      0.61      0.21       428\n",
      "        50.0       0.00      0.00      0.00        61\n",
      "        60.0       0.17      0.01      0.02       674\n",
      "       100.0       0.11      0.01      0.02       454\n",
      "\n",
      "    accuracy                           0.26      4213\n",
      "   macro avg       0.17      0.18      0.13      4213\n",
      "weighted avg       0.26      0.26      0.22      4213\n",
      "\n"
     ]
    },
    {
     "name": "stderr",
     "output_type": "stream",
     "text": [
      "\r",
      " 18%|█▊        | 2/11 [00:39<03:04, 20.51s/it]"
     ]
    },
    {
     "name": "stdout",
     "output_type": "stream",
     "text": [
      "Index(['temperature', 'holiday'], dtype='object')\n",
      "For 2 features: \n",
      " Accuracy: 0.2580936534347516 \n",
      " Precision: 0.15472537635292877 \n",
      " Recall: 0.18991377519949582 \n",
      " F1 score: 0.15304675323293832\n",
      "              precision    recall  f1-score   support\n",
      "\n",
      "        10.0       0.44      0.44      0.44      1458\n",
      "        20.0       0.18      0.10      0.12       683\n",
      "        30.0       0.12      0.07      0.09       406\n",
      "        40.0       0.12      0.47      0.19       439\n",
      "        50.0       0.00      0.00      0.00        81\n",
      "        60.0       0.00      0.00      0.00       677\n",
      "       100.0       0.29      0.23      0.26       463\n",
      "\n",
      "    accuracy                           0.25      4207\n",
      "   macro avg       0.16      0.19      0.16      4207\n",
      "weighted avg       0.24      0.25      0.23      4207\n",
      "\n"
     ]
    },
    {
     "name": "stderr",
     "output_type": "stream",
     "text": [
      "\r",
      " 27%|██▋       | 3/11 [01:07<03:10, 23.87s/it]"
     ]
    },
    {
     "name": "stdout",
     "output_type": "stream",
     "text": [
      "Index(['temperature', 'holiday', 'day'], dtype='object')\n",
      "For 3 features: \n",
      " Accuracy: 0.24186384194239466 \n",
      " Precision: 0.14819280399740634 \n",
      " Recall: 0.1809189898472136 \n",
      " F1 score: 0.14794490570026544\n",
      "              precision    recall  f1-score   support\n",
      "\n",
      "        10.0       0.45      0.41      0.43      1500\n",
      "        20.0       0.23      0.13      0.17       695\n",
      "        30.0       0.07      0.06      0.06       397\n",
      "        40.0       0.13      0.46      0.20       444\n",
      "        50.0       0.01      0.01      0.01        77\n",
      "        60.0       0.00      0.00      0.00       641\n",
      "       100.0       0.26      0.23      0.24       447\n",
      "\n",
      "    accuracy                           0.25      4201\n",
      "   macro avg       0.16      0.19      0.16      4201\n",
      "weighted avg       0.25      0.25      0.23      4201\n",
      "\n"
     ]
    },
    {
     "name": "stderr",
     "output_type": "stream",
     "text": [
      "\r",
      " 36%|███▋      | 4/11 [01:40<03:11, 27.39s/it]"
     ]
    },
    {
     "name": "stdout",
     "output_type": "stream",
     "text": [
      "Index(['temperature', 'holiday', 'day', 'month'], dtype='object')\n",
      "For 4 features: \n",
      " Accuracy: 0.24185220500595947 \n",
      " Precision: 0.18082516111335564 \n",
      " Recall: 0.1805287592381366 \n",
      " F1 score: 0.16570338754352898\n",
      "              precision    recall  f1-score   support\n",
      "\n",
      "        10.0       0.48      0.44      0.46      1475\n",
      "        20.0       0.19      0.04      0.06       672\n",
      "        30.0       0.07      0.16      0.10       399\n",
      "        40.0       0.13      0.15      0.14       434\n",
      "        50.0       0.00      0.00      0.00        81\n",
      "        60.0       0.20      0.20      0.20       647\n",
      "       100.0       0.20      0.26      0.22       487\n",
      "\n",
      "    accuracy                           0.25      4195\n",
      "   macro avg       0.18      0.18      0.17      4195\n",
      "weighted avg       0.27      0.25      0.25      4195\n",
      "\n"
     ]
    },
    {
     "name": "stderr",
     "output_type": "stream",
     "text": [
      "\r",
      " 45%|████▌     | 5/11 [02:26<03:25, 34.26s/it]"
     ]
    },
    {
     "name": "stdout",
     "output_type": "stream",
     "text": [
      "Index(['temperature', 'holiday', 'day', 'month', 'pressure'], dtype='object')\n",
      "For 5 features: \n",
      " Accuracy: 0.25476486034853185 \n",
      " Precision: 0.19841967538598398 \n",
      " Recall: 0.19961096471434717 \n",
      " F1 score: 0.1816966340789212\n",
      "              precision    recall  f1-score   support\n",
      "\n",
      "        10.0       0.49      0.43      0.46      1472\n",
      "        20.0       0.22      0.12      0.15       674\n",
      "        30.0       0.07      0.09      0.08       420\n",
      "        40.0       0.12      0.27      0.16       407\n",
      "        50.0       0.00      0.00      0.00        70\n",
      "        60.0       0.24      0.09      0.13       686\n",
      "       100.0       0.21      0.39      0.27       460\n",
      "\n",
      "    accuracy                           0.26      4189\n",
      "   macro avg       0.19      0.20      0.18      4189\n",
      "weighted avg       0.29      0.26      0.26      4189\n",
      "\n"
     ]
    },
    {
     "name": "stderr",
     "output_type": "stream",
     "text": [
      "\r",
      " 55%|█████▍    | 6/11 [03:18<03:21, 40.22s/it]"
     ]
    },
    {
     "name": "stdout",
     "output_type": "stream",
     "text": [
      "Index(['temperature', 'holiday', 'day', 'month', 'pressure', 'day.1'], dtype='object')\n",
      "For 6 features: \n",
      " Accuracy: 0.24993545302414535 \n",
      " Precision: 0.20024992521142912 \n",
      " Recall: 0.21665458683073105 \n",
      " F1 score: 0.17605513567345485\n",
      "              precision    recall  f1-score   support\n",
      "\n",
      "        10.0       0.50      0.45      0.47      1495\n",
      "        20.0       0.26      0.07      0.10       691\n",
      "        30.0       0.11      0.13      0.12       385\n",
      "        40.0       0.11      0.17      0.13       413\n",
      "        50.0       0.03      0.21      0.05        73\n",
      "        60.0       0.25      0.06      0.10       669\n",
      "       100.0       0.22      0.46      0.30       457\n",
      "\n",
      "    accuracy                           0.26      4183\n",
      "   macro avg       0.21      0.22      0.18      4183\n",
      "weighted avg       0.31      0.26      0.26      4183\n",
      "\n"
     ]
    },
    {
     "name": "stderr",
     "output_type": "stream",
     "text": [
      "\r",
      " 64%|██████▎   | 7/11 [04:13<03:00, 45.13s/it]"
     ]
    },
    {
     "name": "stdout",
     "output_type": "stream",
     "text": [
      "Index(['temperature', 'holiday', 'day', 'month', 'pressure', 'day.1',\n",
      "       'report'],\n",
      "      dtype='object')\n",
      "For 7 features: \n",
      " Accuracy: 0.24816614795307637 \n",
      " Precision: 0.20670561434758203 \n",
      " Recall: 0.22103926516867578 \n",
      " F1 score: 0.18003646867401454\n",
      "              precision    recall  f1-score   support\n",
      "\n",
      "        10.0       0.52      0.40      0.45      1464\n",
      "        20.0       0.18      0.06      0.09       687\n",
      "        30.0       0.10      0.12      0.11       401\n",
      "        40.0       0.13      0.18      0.15       437\n",
      "        50.0       0.02      0.25      0.04        64\n",
      "        60.0       0.26      0.05      0.08       671\n",
      "       100.0       0.24      0.43      0.31       453\n",
      "\n",
      "    accuracy                           0.24      4177\n",
      "   macro avg       0.21      0.21      0.18      4177\n",
      "weighted avg       0.30      0.24      0.25      4177\n",
      "\n"
     ]
    },
    {
     "name": "stderr",
     "output_type": "stream",
     "text": [
      "\r",
      " 73%|███████▎  | 8/11 [05:13<02:29, 49.71s/it]"
     ]
    },
    {
     "name": "stdout",
     "output_type": "stream",
     "text": [
      "Index(['temperature', 'holiday', 'day', 'month', 'pressure', 'day.1', 'report',\n",
      "       'minute'],\n",
      "      dtype='object')\n",
      "For 8 features: \n",
      " Accuracy: 0.24775113881563174 \n",
      " Precision: 0.2057327311236757 \n",
      " Recall: 0.21975084876767814 \n",
      " F1 score: 0.1801226615427292\n",
      "              precision    recall  f1-score   support\n",
      "\n",
      "        10.0       0.50      0.42      0.46      1433\n",
      "        20.0       0.22      0.11      0.15       673\n",
      "        30.0       0.11      0.10      0.10       416\n",
      "        40.0       0.13      0.17      0.15       425\n",
      "        50.0       0.02      0.26      0.04        69\n",
      "        60.0       0.39      0.05      0.10       711\n",
      "       100.0       0.23      0.45      0.30       444\n",
      "\n",
      "    accuracy                           0.25      4171\n",
      "   macro avg       0.23      0.22      0.19      4171\n",
      "weighted avg       0.32      0.25      0.26      4171\n",
      "\n"
     ]
    },
    {
     "name": "stderr",
     "output_type": "stream",
     "text": [
      "\r",
      " 82%|████████▏ | 9/11 [06:38<02:01, 60.81s/it]"
     ]
    },
    {
     "name": "stdout",
     "output_type": "stream",
     "text": [
      "Index(['temperature', 'holiday', 'day', 'month', 'pressure', 'day.1', 'report',\n",
      "       'minute', 'year'],\n",
      "      dtype='object')\n",
      "For 9 features: \n",
      " Accuracy: 0.3029411764705882 \n",
      " Precision: 0.23680022798099748 \n",
      " Recall: 0.24630707680881114 \n",
      " F1 score: 0.20828829106050756\n",
      "              precision    recall  f1-score   support\n",
      "\n",
      "        10.0       0.60      0.56      0.58      1458\n",
      "        20.0       0.18      0.09      0.12       718\n",
      "        30.0       0.09      0.10      0.09       376\n",
      "        40.0       0.15      0.04      0.07       449\n",
      "        50.0       0.03      0.27      0.05        75\n",
      "        60.0       0.24      0.14      0.18       648\n",
      "       100.0       0.23      0.44      0.30       441\n",
      "\n",
      "    accuracy                           0.30      4165\n",
      "   macro avg       0.22      0.23      0.20      4165\n",
      "weighted avg       0.33      0.30      0.30      4165\n",
      "\n"
     ]
    },
    {
     "name": "stderr",
     "output_type": "stream",
     "text": [
      "\r",
      " 91%|█████████ | 10/11 [08:15<01:12, 72.19s/it]"
     ]
    },
    {
     "name": "stdout",
     "output_type": "stream",
     "text": [
      "Index(['temperature', 'holiday', 'day', 'month', 'pressure', 'day.1', 'report',\n",
      "       'minute', 'year', 'humidity'],\n",
      "      dtype='object')\n",
      "For 10 features: \n",
      " Accuracy: 0.30350324597258954 \n",
      " Precision: 0.23287713806254717 \n",
      " Recall: 0.24606538541081116 \n",
      " F1 score: 0.2080509344068382\n",
      "              precision    recall  f1-score   support\n",
      "\n",
      "        10.0       0.58      0.57      0.57      1475\n",
      "        20.0       0.21      0.09      0.13       694\n",
      "        30.0       0.11      0.09      0.10       390\n",
      "        40.0       0.20      0.15      0.17       429\n",
      "        50.0       0.02      0.23      0.04        53\n",
      "        60.0       0.32      0.10      0.16       692\n",
      "       100.0       0.21      0.45      0.28       426\n",
      "\n",
      "    accuracy                           0.31      4159\n",
      "   macro avg       0.23      0.24      0.21      4159\n",
      "weighted avg       0.35      0.31      0.31      4159\n",
      "\n"
     ]
    },
    {
     "name": "stderr",
     "output_type": "stream",
     "text": [
      "100%|██████████| 11/11 [10:04<00:00, 54.94s/it]\n",
      "  0%|          | 0/11 [00:00<?, ?it/s]"
     ]
    },
    {
     "name": "stdout",
     "output_type": "stream",
     "text": [
      "Index(['temperature', 'holiday', 'day', 'month', 'pressure', 'day.1', 'report',\n",
      "       'minute', 'year', 'humidity', 'hour'],\n",
      "      dtype='object')\n",
      "For 11 features: \n",
      " Accuracy: 0.29428124247531906 \n",
      " Precision: 0.23392818341220695 \n",
      " Recall: 0.2464410346809307 \n",
      " F1 score: 0.21226020304815615\n",
      "              precision    recall  f1-score   support\n",
      "\n",
      "        10.0       0.59      0.49      0.54      1470\n",
      "        20.0       0.22      0.11      0.14       696\n",
      "        30.0       0.11      0.13      0.12       372\n",
      "        40.0       0.17      0.18      0.18       425\n",
      "        50.0       0.03      0.24      0.05        74\n",
      "        60.0       0.27      0.09      0.14       681\n",
      "       100.0       0.23      0.44      0.30       435\n",
      "\n",
      "    accuracy                           0.29      4153\n",
      "   macro avg       0.23      0.24      0.21      4153\n",
      "weighted avg       0.34      0.29      0.30      4153\n",
      "\n",
      "\n",
      " \n",
      "\n",
      "------------------------- Analyzing method Kendalls_correlation -------------------------\n",
      "The variable order is: \n",
      " ['temperature', 'holiday', 'month', 'day', 'pressure', 'day.1', 'report', 'year', 'minute', 'humidity', 'hour', 'Pandemic']\n"
     ]
    },
    {
     "name": "stderr",
     "output_type": "stream",
     "text": [
      "\r",
      "  9%|▉         | 1/11 [00:17<02:55, 17.56s/it]"
     ]
    },
    {
     "name": "stdout",
     "output_type": "stream",
     "text": [
      "Index(['temperature'], dtype='object')\n",
      "For 1 features: \n",
      " Accuracy: 0.25301904991560165 \n",
      " Precision: 0.1785634353751221 \n",
      " Recall: 0.1751055438671206 \n",
      " F1 score: 0.12644121616866133\n",
      "              precision    recall  f1-score   support\n",
      "\n",
      "        10.0       0.46      0.54      0.49      1420\n",
      "        20.0       0.13      0.05      0.08       670\n",
      "        30.0       0.11      0.03      0.05       383\n",
      "        40.0       0.11      0.52      0.19       431\n",
      "        50.0       0.00      0.00      0.00        70\n",
      "        60.0       0.21      0.02      0.03       709\n",
      "       100.0       0.12      0.02      0.03       464\n",
      "\n",
      "    accuracy                           0.25      4147\n",
      "   macro avg       0.16      0.17      0.12      4147\n",
      "weighted avg       0.25      0.25      0.21      4147\n",
      "\n"
     ]
    },
    {
     "name": "stderr",
     "output_type": "stream",
     "text": [
      "\r",
      " 18%|█▊        | 2/11 [00:45<03:30, 23.42s/it]"
     ]
    },
    {
     "name": "stdout",
     "output_type": "stream",
     "text": [
      "Index(['temperature', 'holiday'], dtype='object')\n",
      "For 2 features: \n",
      " Accuracy: 0.2563052402801256 \n",
      " Precision: 0.15402944747011177 \n",
      " Recall: 0.18941013785338656 \n",
      " F1 score: 0.15274312101621387\n",
      "              precision    recall  f1-score   support\n",
      "\n",
      "        10.0       0.47      0.47      0.47      1486\n",
      "        20.0       0.17      0.14      0.16       670\n",
      "        30.0       0.13      0.01      0.02       385\n",
      "        40.0       0.13      0.44      0.21       429\n",
      "        50.0       0.01      0.05      0.02        75\n",
      "        60.0       0.00      0.00      0.00       676\n",
      "       100.0       0.23      0.19      0.21       420\n",
      "\n",
      "    accuracy                           0.26      4141\n",
      "   macro avg       0.16      0.19      0.15      4141\n",
      "weighted avg       0.25      0.26      0.24      4141\n",
      "\n"
     ]
    },
    {
     "name": "stderr",
     "output_type": "stream",
     "text": [
      "\r",
      " 27%|██▋       | 3/11 [01:16<03:36, 27.12s/it]"
     ]
    },
    {
     "name": "stdout",
     "output_type": "stream",
     "text": [
      "Index(['temperature', 'holiday', 'month'], dtype='object')\n",
      "For 3 features: \n",
      " Accuracy: 0.24415235792019346 \n",
      " Precision: 0.1807779943164584 \n",
      " Recall: 0.18539470731881486 \n",
      " F1 score: 0.16457596326888774\n",
      "              precision    recall  f1-score   support\n",
      "\n",
      "        10.0       0.49      0.43      0.46      1462\n",
      "        20.0       0.22      0.09      0.13       697\n",
      "        30.0       0.11      0.30      0.16       364\n",
      "        40.0       0.10      0.02      0.03       450\n",
      "        50.0       0.01      0.19      0.02        58\n",
      "        60.0       0.00      0.00      0.00       674\n",
      "       100.0       0.21      0.17      0.19       430\n",
      "\n",
      "    accuracy                           0.22      4135\n",
      "   macro avg       0.16      0.17      0.14      4135\n",
      "weighted avg       0.25      0.22      0.22      4135\n",
      "\n"
     ]
    },
    {
     "name": "stderr",
     "output_type": "stream",
     "text": [
      "\r",
      " 36%|███▋      | 4/11 [01:53<03:36, 30.90s/it]"
     ]
    },
    {
     "name": "stdout",
     "output_type": "stream",
     "text": [
      "Index(['temperature', 'holiday', 'month', 'day'], dtype='object')\n",
      "For 4 features: \n",
      " Accuracy: 0.24186970210704772 \n",
      " Precision: 0.18356839782848275 \n",
      " Recall: 0.18322274254464968 \n",
      " F1 score: 0.16636529540939585\n",
      "              precision    recall  f1-score   support\n",
      "\n",
      "        10.0       0.48      0.44      0.46      1429\n",
      "        20.0       0.15      0.05      0.07       657\n",
      "        30.0       0.08      0.18      0.11       368\n",
      "        40.0       0.17      0.18      0.17       429\n",
      "        50.0       0.00      0.00      0.00        69\n",
      "        60.0       0.23      0.12      0.16       711\n",
      "       100.0       0.18      0.33      0.24       466\n",
      "\n",
      "    accuracy                           0.25      4129\n",
      "   macro avg       0.18      0.19      0.17      4129\n",
      "weighted avg       0.28      0.25      0.25      4129\n",
      "\n"
     ]
    },
    {
     "name": "stderr",
     "output_type": "stream",
     "text": [
      "\r",
      " 45%|████▌     | 5/11 [02:44<03:48, 38.09s/it]"
     ]
    },
    {
     "name": "stdout",
     "output_type": "stream",
     "text": [
      "Index(['temperature', 'holiday', 'month', 'day', 'pressure'], dtype='object')\n",
      "For 5 features: \n",
      " Accuracy: 0.255180693669658 \n",
      " Precision: 0.20051281990192055 \n",
      " Recall: 0.2018971472977706 \n",
      " F1 score: 0.18249841625634478\n",
      "              precision    recall  f1-score   support\n",
      "\n",
      "        10.0       0.50      0.41      0.45      1488\n",
      "        20.0       0.27      0.10      0.14       675\n",
      "        30.0       0.09      0.14      0.11       362\n",
      "        40.0       0.11      0.19      0.14       413\n",
      "        50.0       0.03      0.09      0.04        81\n",
      "        60.0       0.24      0.14      0.18       631\n",
      "       100.0       0.24      0.37      0.29       473\n",
      "\n",
      "    accuracy                           0.26      4123\n",
      "   macro avg       0.21      0.20      0.19      4123\n",
      "weighted avg       0.31      0.26      0.27      4123\n",
      "\n"
     ]
    },
    {
     "name": "stderr",
     "output_type": "stream",
     "text": [
      "\r",
      " 55%|█████▍    | 6/11 [03:38<03:37, 43.47s/it]"
     ]
    },
    {
     "name": "stdout",
     "output_type": "stream",
     "text": [
      "Index(['temperature', 'holiday', 'month', 'day', 'pressure', 'day.1'], dtype='object')\n",
      "For 6 features: \n",
      " Accuracy: 0.24716055380131163 \n",
      " Precision: 0.2006902145480488 \n",
      " Recall: 0.2151266694299636 \n",
      " F1 score: 0.17583438716731287\n",
      "              precision    recall  f1-score   support\n",
      "\n",
      "        10.0       0.53      0.42      0.47      1480\n",
      "        20.0       0.25      0.06      0.10       673\n",
      "        30.0       0.10      0.15      0.12       363\n",
      "        40.0       0.07      0.04      0.05       422\n",
      "        50.0       0.03      0.26      0.05        70\n",
      "        60.0       0.29      0.13      0.18       684\n",
      "       100.0       0.18      0.42      0.25       425\n",
      "\n",
      "    accuracy                           0.25      4117\n",
      "   macro avg       0.21      0.21      0.18      4117\n",
      "weighted avg       0.31      0.25      0.26      4117\n",
      "\n"
     ]
    },
    {
     "name": "stderr",
     "output_type": "stream",
     "text": [
      "\r",
      " 64%|██████▎   | 7/11 [04:37<03:15, 48.84s/it]"
     ]
    },
    {
     "name": "stdout",
     "output_type": "stream",
     "text": [
      "Index(['temperature', 'holiday', 'month', 'day', 'pressure', 'day.1',\n",
      "       'report'],\n",
      "      dtype='object')\n",
      "For 7 features: \n",
      " Accuracy: 0.2465604475796643 \n",
      " Precision: 0.20790568996115072 \n",
      " Recall: 0.22208735419156514 \n",
      " F1 score: 0.18291017394444653\n",
      "              precision    recall  f1-score   support\n",
      "\n",
      "        10.0       0.52      0.43      0.47      1430\n",
      "        20.0       0.18      0.07      0.10       690\n",
      "        30.0       0.11      0.16      0.13       375\n",
      "        40.0       0.13      0.17      0.15       382\n",
      "        50.0       0.03      0.27      0.05        66\n",
      "        60.0       0.24      0.06      0.10       692\n",
      "       100.0       0.27      0.47      0.34       476\n",
      "\n",
      "    accuracy                           0.26      4111\n",
      "   macro avg       0.21      0.23      0.19      4111\n",
      "weighted avg       0.31      0.26      0.26      4111\n",
      "\n"
     ]
    },
    {
     "name": "stderr",
     "output_type": "stream",
     "text": [
      "\r",
      " 73%|███████▎  | 8/11 [06:06<03:04, 61.38s/it]"
     ]
    },
    {
     "name": "stdout",
     "output_type": "stream",
     "text": [
      "Index(['temperature', 'holiday', 'month', 'day', 'pressure', 'day.1', 'report',\n",
      "       'year'],\n",
      "      dtype='object')\n",
      "For 8 features: \n",
      " Accuracy: 0.30339829476248475 \n",
      " Precision: 0.23839505722213258 \n",
      " Recall: 0.24979053830726922 \n",
      " F1 score: 0.20973401158002497\n",
      "              precision    recall  f1-score   support\n",
      "\n",
      "        10.0       0.60      0.56      0.58      1443\n",
      "        20.0       0.21      0.07      0.11       649\n",
      "        30.0       0.10      0.13      0.11       349\n",
      "        40.0       0.16      0.09      0.12       423\n",
      "        50.0       0.04      0.31      0.07        77\n",
      "        60.0       0.29      0.11      0.16       698\n",
      "       100.0       0.23      0.46      0.31       466\n",
      "\n",
      "    accuracy                           0.31      4105\n",
      "   macro avg       0.23      0.25      0.21      4105\n",
      "weighted avg       0.35      0.31      0.31      4105\n",
      "\n"
     ]
    },
    {
     "name": "stderr",
     "output_type": "stream",
     "text": [
      "\r",
      " 82%|████████▏ | 9/11 [07:37<02:21, 70.82s/it]"
     ]
    },
    {
     "name": "stdout",
     "output_type": "stream",
     "text": [
      "Index(['temperature', 'holiday', 'month', 'day', 'pressure', 'day.1', 'report',\n",
      "       'year', 'minute'],\n",
      "      dtype='object')\n",
      "For 9 features: \n",
      " Accuracy: 0.3051110026835814 \n",
      " Precision: 0.23880156890829948 \n",
      " Recall: 0.2503646284363881 \n",
      " F1 score: 0.2114304145223807\n",
      "              precision    recall  f1-score   support\n",
      "\n",
      "        10.0       0.63      0.55      0.58      1472\n",
      "        20.0       0.24      0.12      0.16       662\n",
      "        30.0       0.10      0.15      0.12       356\n",
      "        40.0       0.20      0.15      0.18       415\n",
      "        50.0       0.04      0.33      0.07        70\n",
      "        60.0       0.32      0.07      0.11       672\n",
      "       100.0       0.23      0.48      0.31       452\n",
      "\n",
      "    accuracy                           0.31      4099\n",
      "   macro avg       0.25      0.26      0.22      4099\n",
      "weighted avg       0.37      0.31      0.32      4099\n",
      "\n"
     ]
    },
    {
     "name": "stderr",
     "output_type": "stream",
     "text": [
      "\r",
      " 91%|█████████ | 10/11 [09:16<01:19, 79.52s/it]"
     ]
    },
    {
     "name": "stdout",
     "output_type": "stream",
     "text": [
      "Index(['temperature', 'holiday', 'month', 'day', 'pressure', 'day.1', 'report',\n",
      "       'year', 'minute', 'humidity'],\n",
      "      dtype='object')\n",
      "For 10 features: \n",
      " Accuracy: 0.30313462008306863 \n",
      " Precision: 0.2325982793445322 \n",
      " Recall: 0.24576716679254448 \n",
      " F1 score: 0.20954637296555442\n",
      "              precision    recall  f1-score   support\n",
      "\n",
      "        10.0       0.57      0.55      0.56      1439\n",
      "        20.0       0.21      0.08      0.12       659\n",
      "        30.0       0.09      0.11      0.10       352\n",
      "        40.0       0.18      0.19      0.19       422\n",
      "        50.0       0.05      0.34      0.08        71\n",
      "        60.0       0.27      0.08      0.12       702\n",
      "       100.0       0.24      0.44      0.31       448\n",
      "\n",
      "    accuracy                           0.30      4093\n",
      "   macro avg       0.23      0.26      0.21      4093\n",
      "weighted avg       0.33      0.30      0.30      4093\n",
      "\n"
     ]
    },
    {
     "name": "stderr",
     "output_type": "stream",
     "text": [
      "100%|██████████| 11/11 [11:08<00:00, 60.82s/it]\n",
      "  0%|          | 0/11 [00:00<?, ?it/s]"
     ]
    },
    {
     "name": "stdout",
     "output_type": "stream",
     "text": [
      "Index(['temperature', 'holiday', 'month', 'day', 'pressure', 'day.1', 'report',\n",
      "       'year', 'minute', 'humidity', 'hour'],\n",
      "      dtype='object')\n",
      "For 11 features: \n",
      " Accuracy: 0.2941448495228774 \n",
      " Precision: 0.2359321289827704 \n",
      " Recall: 0.2467166036680446 \n",
      " F1 score: 0.2127720460293645\n",
      "              precision    recall  f1-score   support\n",
      "\n",
      "        10.0       0.60      0.50      0.54      1468\n",
      "        20.0       0.19      0.08      0.11       698\n",
      "        30.0       0.10      0.16      0.12       331\n",
      "        40.0       0.19      0.13      0.16       417\n",
      "        50.0       0.04      0.35      0.08        74\n",
      "        60.0       0.25      0.10      0.14       658\n",
      "       100.0       0.21      0.41      0.28       441\n",
      "\n",
      "    accuracy                           0.29      4087\n",
      "   macro avg       0.23      0.25      0.20      4087\n",
      "weighted avg       0.34      0.29      0.29      4087\n",
      "\n",
      "\n",
      " \n",
      "\n",
      "------------------------- Analyzing method mutualInformation_classification -------------------------\n",
      "The variable order is: \n",
      " ['month', 'day', 'year', 'hour', 'minute', 'holiday', 'day.1', 'Pandemic', 'temperature', 'humidity', 'pressure', 'report']\n"
     ]
    },
    {
     "name": "stderr",
     "output_type": "stream",
     "text": [
      "\r",
      "  9%|▉         | 1/11 [00:13<02:10, 13.01s/it]"
     ]
    },
    {
     "name": "stdout",
     "output_type": "stream",
     "text": [
      "Index(['month'], dtype='object')\n",
      "For 1 features: \n",
      " Accuracy: 0.25140651801029157 \n",
      " Precision: 0.07152869549206013 \n",
      " Recall: 0.15982364105257274 \n",
      " F1 score: 0.09249294642041588\n",
      "              precision    recall  f1-score   support\n",
      "\n",
      "        10.0       0.37      0.52      0.43      1459\n",
      "        20.0       0.00      0.00      0.00       636\n",
      "        30.0       0.00      0.00      0.00       385\n",
      "        40.0       0.00      0.00      0.00       402\n",
      "        50.0       0.00      0.00      0.00        86\n",
      "        60.0       0.00      0.00      0.00       669\n",
      "       100.0       0.13      0.60      0.22       444\n",
      "\n",
      "    accuracy                           0.25      4081\n",
      "   macro avg       0.07      0.16      0.09      4081\n",
      "weighted avg       0.15      0.25      0.18      4081\n",
      "\n"
     ]
    },
    {
     "name": "stderr",
     "output_type": "stream",
     "text": [
      "\r",
      " 18%|█▊        | 2/11 [00:30<02:20, 15.64s/it]"
     ]
    },
    {
     "name": "stdout",
     "output_type": "stream",
     "text": [
      "Index(['month', 'day'], dtype='object')\n",
      "For 2 features: \n",
      " Accuracy: 0.2204564417177914 \n",
      " Precision: 0.11785065681254062 \n",
      " Recall: 0.17179334406366514 \n",
      " F1 score: 0.13137116563818482\n",
      "              precision    recall  f1-score   support\n",
      "\n",
      "        10.0       0.41      0.37      0.39      1475\n",
      "        20.0       0.00      0.00      0.00       675\n",
      "        30.0       0.13      0.34      0.18       359\n",
      "        40.0       0.00      0.00      0.00       399\n",
      "        50.0       0.00      0.00      0.00        69\n",
      "        60.0       0.18      0.20      0.19       644\n",
      "       100.0       0.14      0.33      0.20       454\n",
      "\n",
      "    accuracy                           0.23      4075\n",
      "   macro avg       0.12      0.18      0.14      4075\n",
      "weighted avg       0.20      0.23      0.21      4075\n",
      "\n"
     ]
    },
    {
     "name": "stderr",
     "output_type": "stream",
     "text": [
      "\r",
      " 27%|██▋       | 3/11 [01:04<03:13, 24.13s/it]"
     ]
    },
    {
     "name": "stdout",
     "output_type": "stream",
     "text": [
      "Index(['month', 'day', 'year'], dtype='object')\n",
      "For 3 features: \n",
      " Accuracy: 0.31064635045465716 \n",
      " Precision: 0.19330764289490546 \n",
      " Recall: 0.21373690766071726 \n",
      " F1 score: 0.1853090360970318\n",
      "              precision    recall  f1-score   support\n",
      "\n",
      "        10.0       0.51      0.58      0.54      1448\n",
      "        20.0       0.00      0.00      0.00       666\n",
      "        30.0       0.13      0.19      0.15       354\n",
      "        40.0       0.22      0.02      0.04       410\n",
      "        50.0       0.03      0.28      0.05        67\n",
      "        60.0       0.25      0.12      0.16       676\n",
      "       100.0       0.17      0.33      0.22       448\n",
      "\n",
      "    accuracy                           0.29      4069\n",
      "   macro avg       0.19      0.22      0.17      4069\n",
      "weighted avg       0.27      0.29      0.26      4069\n",
      "\n"
     ]
    },
    {
     "name": "stderr",
     "output_type": "stream",
     "text": [
      "\r",
      " 36%|███▋      | 4/11 [01:55<04:03, 34.84s/it]"
     ]
    },
    {
     "name": "stdout",
     "output_type": "stream",
     "text": [
      "Index(['month', 'day', 'year', 'hour'], dtype='object')\n",
      "For 4 features: \n",
      " Accuracy: 0.2778070391336451 \n",
      " Precision: 0.20965719315687045 \n",
      " Recall: 0.2142876958807122 \n",
      " F1 score: 0.18538732215873047\n",
      "              precision    recall  f1-score   support\n",
      "\n",
      "        10.0       0.52      0.49      0.50      1445\n",
      "        20.0       0.17      0.06      0.09       656\n",
      "        30.0       0.12      0.24      0.16       344\n",
      "        40.0       0.04      0.01      0.01       401\n",
      "        50.0       0.04      0.22      0.07        85\n",
      "        60.0       0.35      0.15      0.21       643\n",
      "       100.0       0.20      0.40      0.27       489\n",
      "\n",
      "    accuracy                           0.28      4063\n",
      "   macro avg       0.21      0.23      0.19      4063\n",
      "weighted avg       0.31      0.28      0.28      4063\n",
      "\n"
     ]
    },
    {
     "name": "stderr",
     "output_type": "stream",
     "text": [
      "\r",
      " 45%|████▌     | 5/11 [02:52<04:16, 42.74s/it]"
     ]
    },
    {
     "name": "stdout",
     "output_type": "stream",
     "text": [
      "Index(['month', 'day', 'year', 'hour', 'minute'], dtype='object')\n",
      "For 5 features: \n",
      " Accuracy: 0.2748607345329061 \n",
      " Precision: 0.20973981073484446 \n",
      " Recall: 0.21405788750249993 \n",
      " F1 score: 0.1846584114639176\n",
      "              precision    recall  f1-score   support\n",
      "\n",
      "        10.0       0.53      0.49      0.51      1492\n",
      "        20.0       0.15      0.07      0.10       634\n",
      "        30.0       0.13      0.26      0.17       347\n",
      "        40.0       0.17      0.01      0.03       411\n",
      "        50.0       0.02      0.12      0.03        67\n",
      "        60.0       0.30      0.17      0.22       671\n",
      "       100.0       0.18      0.35      0.24       435\n",
      "\n",
      "    accuracy                           0.28      4057\n",
      "   macro avg       0.21      0.21      0.18      4057\n",
      "weighted avg       0.32      0.28      0.28      4057\n",
      "\n"
     ]
    },
    {
     "name": "stderr",
     "output_type": "stream",
     "text": [
      "\r",
      " 55%|█████▍    | 6/11 [03:57<04:11, 50.23s/it]"
     ]
    },
    {
     "name": "stdout",
     "output_type": "stream",
     "text": [
      "Index(['month', 'day', 'year', 'hour', 'minute', 'holiday'], dtype='object')\n",
      "For 6 features: \n",
      " Accuracy: 0.2814440878795359 \n",
      " Precision: 0.214922696310706 \n",
      " Recall: 0.21923664863484532 \n",
      " F1 score: 0.19313896187169982\n",
      "              precision    recall  f1-score   support\n",
      "\n",
      "        10.0       0.52      0.48      0.50      1439\n",
      "        20.0       0.15      0.07      0.09       669\n",
      "        30.0       0.12      0.24      0.16       355\n",
      "        40.0       0.14      0.07      0.09       387\n",
      "        50.0       0.04      0.15      0.06        67\n",
      "        60.0       0.25      0.16      0.20       660\n",
      "       100.0       0.21      0.36      0.27       474\n",
      "\n",
      "    accuracy                           0.28      4051\n",
      "   macro avg       0.20      0.22      0.20      4051\n",
      "weighted avg       0.30      0.28      0.28      4051\n",
      "\n"
     ]
    },
    {
     "name": "stderr",
     "output_type": "stream",
     "text": [
      "\r",
      " 64%|██████▎   | 7/11 [05:06<03:45, 56.29s/it]"
     ]
    },
    {
     "name": "stdout",
     "output_type": "stream",
     "text": [
      "Index(['month', 'day', 'year', 'hour', 'minute', 'holiday', 'day.1'], dtype='object')\n",
      "For 7 features: \n",
      " Accuracy: 0.2920271940667491 \n",
      " Precision: 0.22836920684426376 \n",
      " Recall: 0.23287065550733457 \n",
      " F1 score: 0.20230027529276884\n",
      "              precision    recall  f1-score   support\n",
      "\n",
      "        10.0       0.56      0.52      0.54      1498\n",
      "        20.0       0.20      0.07      0.11       605\n",
      "        30.0       0.13      0.23      0.17       378\n",
      "        40.0       0.12      0.05      0.07       377\n",
      "        50.0       0.03      0.23      0.05        75\n",
      "        60.0       0.33      0.15      0.21       663\n",
      "       100.0       0.23      0.39      0.29       449\n",
      "\n",
      "    accuracy                           0.30      4045\n",
      "   macro avg       0.23      0.23      0.20      4045\n",
      "weighted avg       0.34      0.30      0.30      4045\n",
      "\n"
     ]
    },
    {
     "name": "stderr",
     "output_type": "stream",
     "text": [
      "\r",
      " 73%|███████▎  | 8/11 [06:18<03:03, 61.32s/it]"
     ]
    },
    {
     "name": "stdout",
     "output_type": "stream",
     "text": [
      "Index(['month', 'day', 'year', 'hour', 'minute', 'holiday', 'day.1',\n",
      "       'Pandemic'],\n",
      "      dtype='object')\n",
      "For 8 features: \n",
      " Accuracy: 0.28995048279277047 \n",
      " Precision: 0.226850533432861 \n",
      " Recall: 0.23181853870491462 \n",
      " F1 score: 0.20040981236100053\n",
      "              precision    recall  f1-score   support\n",
      "\n",
      "        10.0       0.57      0.51      0.54      1493\n",
      "        20.0       0.17      0.06      0.09       635\n",
      "        30.0       0.11      0.20      0.14       343\n",
      "        40.0       0.17      0.06      0.09       404\n",
      "        50.0       0.03      0.21      0.05        73\n",
      "        60.0       0.28      0.13      0.18       666\n",
      "       100.0       0.21      0.40      0.28       425\n",
      "\n",
      "    accuracy                           0.29      4039\n",
      "   macro avg       0.22      0.22      0.19      4039\n",
      "weighted avg       0.33      0.29      0.29      4039\n",
      "\n"
     ]
    },
    {
     "name": "stderr",
     "output_type": "stream",
     "text": [
      "\r",
      " 82%|████████▏ | 9/11 [07:45<02:19, 69.53s/it]"
     ]
    },
    {
     "name": "stdout",
     "output_type": "stream",
     "text": [
      "Index(['month', 'day', 'year', 'hour', 'minute', 'holiday', 'day.1',\n",
      "       'Pandemic', 'temperature'],\n",
      "      dtype='object')\n",
      "For 9 features: \n",
      " Accuracy: 0.28324324324324324 \n",
      " Precision: 0.22569202636078634 \n",
      " Recall: 0.2307362002073181 \n",
      " F1 score: 0.20094242782919375\n",
      "              precision    recall  f1-score   support\n",
      "\n",
      "        10.0       0.61      0.46      0.52      1469\n",
      "        20.0       0.15      0.07      0.10       665\n",
      "        30.0       0.11      0.20      0.14       367\n",
      "        40.0       0.13      0.07      0.09       384\n",
      "        50.0       0.02      0.22      0.04        54\n",
      "        60.0       0.26      0.13      0.17       638\n",
      "       100.0       0.21      0.39      0.27       456\n",
      "\n",
      "    accuracy                           0.27      4033\n",
      "   macro avg       0.21      0.22      0.19      4033\n",
      "weighted avg       0.33      0.27      0.29      4033\n",
      "\n"
     ]
    },
    {
     "name": "stderr",
     "output_type": "stream",
     "text": [
      "\r",
      " 91%|█████████ | 10/11 [09:27<01:19, 79.43s/it]"
     ]
    },
    {
     "name": "stdout",
     "output_type": "stream",
     "text": [
      "Index(['month', 'day', 'year', 'hour', 'minute', 'holiday', 'day.1',\n",
      "       'Pandemic', 'temperature', 'humidity'],\n",
      "      dtype='object')\n",
      "For 10 features: \n",
      " Accuracy: 0.29117705487956297 \n",
      " Precision: 0.2259819585594198 \n",
      " Recall: 0.2388081897967415 \n",
      " F1 score: 0.2063985804680905\n",
      "              precision    recall  f1-score   support\n",
      "\n",
      "        10.0       0.60      0.49      0.54      1449\n",
      "        20.0       0.16      0.07      0.09       661\n",
      "        30.0       0.11      0.17      0.14       355\n",
      "        40.0       0.16      0.11      0.13       386\n",
      "        50.0       0.03      0.25      0.05        60\n",
      "        60.0       0.27      0.13      0.17       664\n",
      "       100.0       0.22      0.41      0.29       452\n",
      "\n",
      "    accuracy                           0.28      4027\n",
      "   macro avg       0.22      0.23      0.20      4027\n",
      "weighted avg       0.34      0.28      0.29      4027\n",
      "\n"
     ]
    },
    {
     "name": "stderr",
     "output_type": "stream",
     "text": [
      "100%|██████████| 11/11 [11:15<00:00, 61.43s/it]\n",
      "  0%|          | 0/11 [00:00<?, ?it/s]"
     ]
    },
    {
     "name": "stdout",
     "output_type": "stream",
     "text": [
      "Index(['month', 'day', 'year', 'hour', 'minute', 'holiday', 'day.1',\n",
      "       'Pandemic', 'temperature', 'humidity', 'pressure'],\n",
      "      dtype='object')\n",
      "For 11 features: \n",
      " Accuracy: 0.28843571250932604 \n",
      " Precision: 0.22217277106452663 \n",
      " Recall: 0.23838445005147993 \n",
      " F1 score: 0.2046988145844816\n",
      "              precision    recall  f1-score   support\n",
      "\n",
      "        10.0       0.59      0.47      0.53      1460\n",
      "        20.0       0.15      0.08      0.10       675\n",
      "        30.0       0.11      0.18      0.14       367\n",
      "        40.0       0.15      0.08      0.10       364\n",
      "        50.0       0.03      0.27      0.05        56\n",
      "        60.0       0.28      0.14      0.19       674\n",
      "       100.0       0.23      0.47      0.30       425\n",
      "\n",
      "    accuracy                           0.29      4021\n",
      "   macro avg       0.22      0.24      0.20      4021\n",
      "weighted avg       0.33      0.29      0.29      4021\n",
      "\n",
      "\n",
      " \n",
      "\n",
      "------------------------- Analyzing method mutualInformation_reggression -------------------------\n",
      "The variable order is: \n",
      " ['month', 'day', 'year', 'hour', 'minute', 'holiday', 'day.1', 'Pandemic', 'temperature', 'humidity', 'pressure', 'report']\n"
     ]
    },
    {
     "name": "stderr",
     "output_type": "stream",
     "text": [
      "\r",
      "  9%|▉         | 1/11 [00:13<02:15, 13.53s/it]"
     ]
    },
    {
     "name": "stdout",
     "output_type": "stream",
     "text": [
      "Index(['month'], dtype='object')\n",
      "For 1 features: \n",
      " Accuracy: 0.25021170610211707 \n",
      " Precision: 0.07188363803868147 \n",
      " Recall: 0.15902371691902983 \n",
      " F1 score: 0.09222772588160814\n",
      "              precision    recall  f1-score   support\n",
      "\n",
      "        10.0       0.37      0.51      0.43      1428\n",
      "        20.0       0.00      0.00      0.00       640\n",
      "        30.0       0.00      0.00      0.00       356\n",
      "        40.0       0.00      0.00      0.00       395\n",
      "        50.0       0.00      0.00      0.00        72\n",
      "        60.0       0.00      0.00      0.00       689\n",
      "       100.0       0.13      0.63      0.22       435\n",
      "\n",
      "    accuracy                           0.25      4015\n",
      "   macro avg       0.07      0.16      0.09      4015\n",
      "weighted avg       0.15      0.25      0.18      4015\n",
      "\n"
     ]
    },
    {
     "name": "stderr",
     "output_type": "stream",
     "text": [
      "\r",
      " 18%|█▊        | 2/11 [00:30<02:18, 15.37s/it]"
     ]
    },
    {
     "name": "stdout",
     "output_type": "stream",
     "text": [
      "Index(['month', 'day'], dtype='object')\n",
      "For 2 features: \n",
      " Accuracy: 0.22575205786979297 \n",
      " Precision: 0.1198953706694146 \n",
      " Recall: 0.17090411093392074 \n",
      " F1 score: 0.13096707238575694\n",
      "              precision    recall  f1-score   support\n",
      "\n",
      "        10.0       0.38      0.35      0.37      1409\n",
      "        20.0       0.00      0.00      0.00       663\n",
      "        30.0       0.11      0.30      0.16       366\n",
      "        40.0       0.00      0.00      0.00       388\n",
      "        50.0       0.00      0.00      0.00        76\n",
      "        60.0       0.17      0.18      0.17       661\n",
      "       100.0       0.16      0.36      0.22       446\n",
      "\n",
      "    accuracy                           0.22      4009\n",
      "   macro avg       0.12      0.17      0.13      4009\n",
      "weighted avg       0.19      0.22      0.20      4009\n",
      "\n"
     ]
    },
    {
     "name": "stderr",
     "output_type": "stream",
     "text": [
      "\r",
      " 27%|██▋       | 3/11 [01:05<03:16, 24.53s/it]"
     ]
    },
    {
     "name": "stdout",
     "output_type": "stream",
     "text": [
      "Index(['month', 'day', 'year'], dtype='object')\n",
      "For 3 features: \n",
      " Accuracy: 0.3120484636522608 \n",
      " Precision: 0.1868028099252844 \n",
      " Recall: 0.21177091556804103 \n",
      " F1 score: 0.18093969387152326\n",
      "              precision    recall  f1-score   support\n",
      "\n",
      "        10.0       0.53      0.59      0.56      1472\n",
      "        20.0       0.21      0.03      0.05       653\n",
      "        30.0       0.15      0.24      0.19       374\n",
      "        40.0       0.12      0.01      0.01       387\n",
      "        50.0       0.03      0.20      0.06        64\n",
      "        60.0       0.26      0.23      0.24       631\n",
      "       100.0       0.17      0.28      0.21       422\n",
      "\n",
      "    accuracy                           0.31      4003\n",
      "   macro avg       0.21      0.23      0.19      4003\n",
      "weighted avg       0.31      0.31      0.29      4003\n",
      "\n"
     ]
    },
    {
     "name": "stderr",
     "output_type": "stream",
     "text": [
      "\r",
      " 36%|███▋      | 4/11 [01:58<04:10, 35.77s/it]"
     ]
    },
    {
     "name": "stdout",
     "output_type": "stream",
     "text": [
      "Index(['month', 'day', 'year', 'hour'], dtype='object')\n",
      "For 4 features: \n",
      " Accuracy: 0.27861396047035275 \n",
      " Precision: 0.2102047744430061 \n",
      " Recall: 0.21284866871332506 \n",
      " F1 score: 0.185854195651556\n",
      "              precision    recall  f1-score   support\n",
      "\n",
      "        10.0       0.53      0.50      0.51      1429\n",
      "        20.0       0.16      0.07      0.09       644\n",
      "        30.0       0.14      0.26      0.18       356\n",
      "        40.0       0.20      0.04      0.07       394\n",
      "        50.0       0.02      0.16      0.03        75\n",
      "        60.0       0.35      0.10      0.16       643\n",
      "       100.0       0.21      0.38      0.27       456\n",
      "\n",
      "    accuracy                           0.28      3997\n",
      "   macro avg       0.23      0.21      0.19      3997\n",
      "weighted avg       0.33      0.28      0.28      3997\n",
      "\n"
     ]
    },
    {
     "name": "stderr",
     "output_type": "stream",
     "text": [
      "\r",
      " 45%|████▌     | 5/11 [02:56<04:22, 43.73s/it]"
     ]
    },
    {
     "name": "stdout",
     "output_type": "stream",
     "text": [
      "Index(['month', 'day', 'year', 'hour', 'minute'], dtype='object')\n",
      "For 5 features: \n",
      " Accuracy: 0.2772989225757955 \n",
      " Precision: 0.21198450003115946 \n",
      " Recall: 0.2131674108973838 \n",
      " F1 score: 0.18627188553948773\n",
      "              precision    recall  f1-score   support\n",
      "\n",
      "        10.0       0.52      0.49      0.50      1440\n",
      "        20.0       0.15      0.05      0.08       664\n",
      "        30.0       0.12      0.21      0.15       350\n",
      "        40.0       0.14      0.04      0.06       383\n",
      "        50.0       0.02      0.16      0.03        70\n",
      "        60.0       0.34      0.13      0.19       637\n",
      "       100.0       0.20      0.38      0.27       447\n",
      "\n",
      "    accuracy                           0.28      3991\n",
      "   macro avg       0.21      0.21      0.18      3991\n",
      "weighted avg       0.31      0.28      0.28      3991\n",
      "\n"
     ]
    },
    {
     "name": "stderr",
     "output_type": "stream",
     "text": [
      "\r",
      " 55%|█████▍    | 6/11 [04:00<04:12, 50.58s/it]"
     ]
    },
    {
     "name": "stdout",
     "output_type": "stream",
     "text": [
      "Index(['month', 'day', 'year', 'hour', 'minute', 'holiday'], dtype='object')\n",
      "For 6 features: \n",
      " Accuracy: 0.2911468005018821 \n",
      " Precision: 0.2167734382818801 \n",
      " Recall: 0.21665543104282012 \n",
      " F1 score: 0.19887539157985376\n",
      "              precision    recall  f1-score   support\n",
      "\n",
      "        10.0       0.56      0.52      0.54      1404\n",
      "        20.0       0.18      0.08      0.11       628\n",
      "        30.0       0.15      0.28      0.20       363\n",
      "        40.0       0.14      0.08      0.10       395\n",
      "        50.0       0.04      0.20      0.07        86\n",
      "        60.0       0.31      0.15      0.20       644\n",
      "       100.0       0.21      0.35      0.26       465\n",
      "\n",
      "    accuracy                           0.30      3985\n",
      "   macro avg       0.23      0.24      0.21      3985\n",
      "weighted avg       0.33      0.30      0.30      3985\n",
      "\n"
     ]
    },
    {
     "name": "stderr",
     "output_type": "stream",
     "text": [
      "\r",
      " 64%|██████▎   | 7/11 [05:09<03:46, 56.75s/it]"
     ]
    },
    {
     "name": "stdout",
     "output_type": "stream",
     "text": [
      "Index(['month', 'day', 'year', 'hour', 'minute', 'holiday', 'day.1'], dtype='object')\n",
      "For 7 features: \n",
      " Accuracy: 0.29449359135461173 \n",
      " Precision: 0.22944822832300998 \n",
      " Recall: 0.2329787833436284 \n",
      " F1 score: 0.20460436504568294\n",
      "              precision    recall  f1-score   support\n",
      "\n",
      "        10.0       0.56      0.50      0.53      1432\n",
      "        20.0       0.17      0.07      0.10       652\n",
      "        30.0       0.11      0.18      0.14       344\n",
      "        40.0       0.15      0.06      0.08       384\n",
      "        50.0       0.02      0.21      0.04        61\n",
      "        60.0       0.30      0.17      0.21       630\n",
      "       100.0       0.21      0.33      0.25       476\n",
      "\n",
      "    accuracy                           0.28      3979\n",
      "   macro avg       0.22      0.22      0.19      3979\n",
      "weighted avg       0.33      0.28      0.29      3979\n",
      "\n"
     ]
    },
    {
     "name": "stderr",
     "output_type": "stream",
     "text": [
      "\r",
      " 73%|███████▎  | 8/11 [06:21<03:04, 61.57s/it]"
     ]
    },
    {
     "name": "stdout",
     "output_type": "stream",
     "text": [
      "Index(['month', 'day', 'year', 'hour', 'minute', 'holiday', 'day.1',\n",
      "       'Pandemic'],\n",
      "      dtype='object')\n",
      "For 8 features: \n",
      " Accuracy: 0.2959828844701737 \n",
      " Precision: 0.23092604430568756 \n",
      " Recall: 0.23416050332889596 \n",
      " F1 score: 0.20649145165198077\n",
      "              precision    recall  f1-score   support\n",
      "\n",
      "        10.0       0.55      0.50      0.52      1397\n",
      "        20.0       0.20      0.10      0.13       620\n",
      "        30.0       0.13      0.23      0.17       353\n",
      "        40.0       0.13      0.03      0.05       408\n",
      "        50.0       0.02      0.17      0.03        65\n",
      "        60.0       0.31      0.15      0.21       674\n",
      "       100.0       0.24      0.42      0.31       456\n",
      "\n",
      "    accuracy                           0.29      3973\n",
      "   macro avg       0.23      0.23      0.20      3973\n",
      "weighted avg       0.33      0.29      0.29      3973\n",
      "\n"
     ]
    },
    {
     "name": "stderr",
     "output_type": "stream",
     "text": [
      "\r",
      " 82%|████████▏ | 9/11 [07:48<02:18, 69.43s/it]"
     ]
    },
    {
     "name": "stdout",
     "output_type": "stream",
     "text": [
      "Index(['month', 'day', 'year', 'hour', 'minute', 'holiday', 'day.1',\n",
      "       'Pandemic', 'temperature'],\n",
      "      dtype='object')\n",
      "For 9 features: \n",
      " Accuracy: 0.29010335265944037 \n",
      " Precision: 0.2311628768649627 \n",
      " Recall: 0.23319969712019098 \n",
      " F1 score: 0.20827457320370885\n",
      "              precision    recall  f1-score   support\n",
      "\n",
      "        10.0       0.61      0.48      0.54      1440\n",
      "        20.0       0.18      0.08      0.11       675\n",
      "        30.0       0.12      0.19      0.14       355\n",
      "        40.0       0.13      0.10      0.11       371\n",
      "        50.0       0.04      0.26      0.06        65\n",
      "        60.0       0.27      0.18      0.21       609\n",
      "       100.0       0.23      0.39      0.29       452\n",
      "\n",
      "    accuracy                           0.29      3967\n",
      "   macro avg       0.22      0.24      0.21      3967\n",
      "weighted avg       0.34      0.29      0.31      3967\n",
      "\n"
     ]
    },
    {
     "name": "stderr",
     "output_type": "stream",
     "text": [
      "\r",
      " 91%|█████████ | 10/11 [09:29<01:19, 79.17s/it]"
     ]
    },
    {
     "name": "stdout",
     "output_type": "stream",
     "text": [
      "Index(['month', 'day', 'year', 'hour', 'minute', 'holiday', 'day.1',\n",
      "       'Pandemic', 'temperature', 'humidity'],\n",
      "      dtype='object')\n",
      "For 10 features: \n",
      " Accuracy: 0.29187326432719013 \n",
      " Precision: 0.2277780224744052 \n",
      " Recall: 0.23703199222541213 \n",
      " F1 score: 0.2088315585377951\n",
      "              precision    recall  f1-score   support\n",
      "\n",
      "        10.0       0.60      0.50      0.55      1463\n",
      "        20.0       0.21      0.11      0.14       675\n",
      "        30.0       0.13      0.17      0.15       354\n",
      "        40.0       0.18      0.15      0.16       386\n",
      "        50.0       0.04      0.30      0.06        61\n",
      "        60.0       0.27      0.12      0.17       622\n",
      "       100.0       0.20      0.39      0.26       400\n",
      "\n",
      "    accuracy                           0.30      3961\n",
      "   macro avg       0.23      0.25      0.21      3961\n",
      "weighted avg       0.35      0.30      0.31      3961\n",
      "\n"
     ]
    },
    {
     "name": "stderr",
     "output_type": "stream",
     "text": [
      "100%|██████████| 11/11 [11:17<00:00, 61.55s/it]\n",
      "  0%|          | 0/11 [00:00<?, ?it/s]"
     ]
    },
    {
     "name": "stdout",
     "output_type": "stream",
     "text": [
      "Index(['month', 'day', 'year', 'hour', 'minute', 'holiday', 'day.1',\n",
      "       'Pandemic', 'temperature', 'humidity', 'pressure'],\n",
      "      dtype='object')\n",
      "For 11 features: \n",
      " Accuracy: 0.29544627054361566 \n",
      " Precision: 0.22650946100412855 \n",
      " Recall: 0.23432646163835236 \n",
      " F1 score: 0.21149657158977514\n",
      "              precision    recall  f1-score   support\n",
      "\n",
      "        10.0       0.60      0.51      0.55      1463\n",
      "        20.0       0.22      0.11      0.15       638\n",
      "        30.0       0.11      0.15      0.13       349\n",
      "        40.0       0.17      0.15      0.16       359\n",
      "        50.0       0.03      0.23      0.06        62\n",
      "        60.0       0.27      0.17      0.21       624\n",
      "       100.0       0.25      0.42      0.32       460\n",
      "\n",
      "    accuracy                           0.31      3955\n",
      "   macro avg       0.24      0.25      0.22      3955\n",
      "weighted avg       0.35      0.31      0.32      3955\n",
      "\n",
      "\n",
      " \n",
      "\n",
      "------------------------- Analyzing method mutualInformation_classification2 -------------------------\n",
      "The variable order is: \n",
      " ['day', 'temperature', 'month', 'humidity', 'hour', 'day.1', 'pressure', 'holiday', 'year', 'report', 'minute', 'Pandemic']\n"
     ]
    },
    {
     "name": "stderr",
     "output_type": "stream",
     "text": [
      "\r",
      "  9%|▉         | 1/11 [00:12<02:06, 12.62s/it]"
     ]
    },
    {
     "name": "stdout",
     "output_type": "stream",
     "text": [
      "Index(['day'], dtype='object')\n",
      "For 1 features: \n",
      " Accuracy: 0.26553811091415547 \n",
      " Precision: 0.11724605240163283 \n",
      " Recall: 0.16799450852873657 \n",
      " F1 score: 0.11798253143360386\n",
      "              precision    recall  f1-score   support\n",
      "\n",
      "        10.0       0.42      0.53      0.47      1434\n",
      "        20.0       0.00      0.00      0.00       692\n",
      "        30.0       0.11      0.04      0.06       335\n",
      "        40.0       0.15      0.06      0.09       385\n",
      "        50.0       0.00      0.00      0.00        58\n",
      "        60.0       0.00      0.00      0.00       604\n",
      "       100.0       0.13      0.55      0.21       441\n",
      "\n",
      "    accuracy                           0.26      3949\n",
      "   macro avg       0.12      0.17      0.12      3949\n",
      "weighted avg       0.19      0.26      0.21      3949\n",
      "\n"
     ]
    },
    {
     "name": "stderr",
     "output_type": "stream",
     "text": [
      "\r",
      " 18%|█▊        | 2/11 [00:36<02:54, 19.39s/it]"
     ]
    },
    {
     "name": "stdout",
     "output_type": "stream",
     "text": [
      "Index(['day', 'temperature'], dtype='object')\n",
      "For 2 features: \n",
      " Accuracy: 0.2446386000507228 \n",
      " Precision: 0.1654851470095269 \n",
      " Recall: 0.16866219629704055 \n",
      " F1 score: 0.12932876666645085\n",
      "              precision    recall  f1-score   support\n",
      "\n",
      "        10.0       0.45      0.48      0.47      1409\n",
      "        20.0       0.06      0.00      0.01       620\n",
      "        30.0       0.07      0.04      0.05       369\n",
      "        40.0       0.10      0.20      0.13       356\n",
      "        50.0       0.00      0.00      0.00        60\n",
      "        60.0       0.00      0.00      0.00       701\n",
      "       100.0       0.14      0.45      0.21       428\n",
      "\n",
      "    accuracy                           0.24      3943\n",
      "   macro avg       0.12      0.17      0.12      3943\n",
      "weighted avg       0.20      0.24      0.21      3943\n",
      "\n"
     ]
    },
    {
     "name": "stderr",
     "output_type": "stream",
     "text": [
      "\r",
      " 27%|██▋       | 3/11 [01:07<03:18, 24.78s/it]"
     ]
    },
    {
     "name": "stdout",
     "output_type": "stream",
     "text": [
      "Index(['day', 'temperature', 'month'], dtype='object')\n",
      "For 3 features: \n",
      " Accuracy: 0.2579248158496317 \n",
      " Precision: 0.17323162555028296 \n",
      " Recall: 0.1818461317693369 \n",
      " F1 score: 0.15978484493630954\n",
      "              precision    recall  f1-score   support\n",
      "\n",
      "        10.0       0.48      0.46      0.47      1439\n",
      "        20.0       0.10      0.01      0.02       579\n",
      "        30.0       0.11      0.18      0.14       348\n",
      "        40.0       0.11      0.09      0.10       380\n",
      "        50.0       0.12      0.03      0.05        67\n",
      "        60.0       0.27      0.23      0.25       667\n",
      "       100.0       0.15      0.33      0.21       457\n",
      "\n",
      "    accuracy                           0.27      3937\n",
      "   macro avg       0.19      0.19      0.18      3937\n",
      "weighted avg       0.27      0.27      0.26      3937\n",
      "\n"
     ]
    },
    {
     "name": "stderr",
     "output_type": "stream",
     "text": [
      "\r",
      " 36%|███▋      | 4/11 [01:41<03:18, 28.41s/it]"
     ]
    },
    {
     "name": "stdout",
     "output_type": "stream",
     "text": [
      "Index(['day', 'temperature', 'month', 'humidity'], dtype='object')\n",
      "For 4 features: \n",
      " Accuracy: 0.2877410328160773 \n",
      " Precision: 0.20232141973039847 \n",
      " Recall: 0.20502156186383205 \n",
      " F1 score: 0.18518995981821465\n",
      "              precision    recall  f1-score   support\n",
      "\n",
      "        10.0       0.52      0.52      0.52      1402\n",
      "        20.0       0.15      0.02      0.04       643\n",
      "        30.0       0.12      0.14      0.13       372\n",
      "        40.0       0.12      0.19      0.14       367\n",
      "        50.0       0.05      0.02      0.02        61\n",
      "        60.0       0.21      0.14      0.17       639\n",
      "       100.0       0.15      0.32      0.21       447\n",
      "\n",
      "    accuracy                           0.28      3931\n",
      "   macro avg       0.19      0.19      0.18      3931\n",
      "weighted avg       0.29      0.28      0.27      3931\n",
      "\n"
     ]
    },
    {
     "name": "stderr",
     "output_type": "stream",
     "text": [
      "\r",
      " 45%|████▌     | 5/11 [02:30<03:33, 35.53s/it]"
     ]
    },
    {
     "name": "stdout",
     "output_type": "stream",
     "text": [
      "Index(['day', 'temperature', 'month', 'humidity', 'hour'], dtype='object')\n",
      "For 5 features: \n",
      " Accuracy: 0.2825019108280255 \n",
      " Precision: 0.20875594054216048 \n",
      " Recall: 0.2168526603646174 \n",
      " F1 score: 0.19662990507193107\n",
      "              precision    recall  f1-score   support\n",
      "\n",
      "        10.0       0.56      0.47      0.51      1435\n",
      "        20.0       0.21      0.10      0.14       628\n",
      "        30.0       0.14      0.21      0.17       362\n",
      "        40.0       0.14      0.12      0.13       356\n",
      "        50.0       0.05      0.12      0.07        73\n",
      "        60.0       0.24      0.18      0.20       656\n",
      "       100.0       0.18      0.39      0.25       415\n",
      "\n",
      "    accuracy                           0.29      3925\n",
      "   macro avg       0.22      0.23      0.21      3925\n",
      "weighted avg       0.32      0.29      0.30      3925\n",
      "\n"
     ]
    },
    {
     "name": "stderr",
     "output_type": "stream",
     "text": [
      "\r",
      " 55%|█████▍    | 6/11 [03:23<03:27, 41.57s/it]"
     ]
    },
    {
     "name": "stdout",
     "output_type": "stream",
     "text": [
      "Index(['day', 'temperature', 'month', 'humidity', 'hour', 'day.1'], dtype='object')\n",
      "For 6 features: \n",
      " Accuracy: 0.26428680785914777 \n",
      " Precision: 0.2005912366669779 \n",
      " Recall: 0.21763879308235415 \n",
      " F1 score: 0.18237118448881204\n",
      "              precision    recall  f1-score   support\n",
      "\n",
      "        10.0       0.55      0.48      0.51      1388\n",
      "        20.0       0.22      0.09      0.12       633\n",
      "        30.0       0.13      0.21      0.16       356\n",
      "        40.0       0.16      0.05      0.07       383\n",
      "        50.0       0.04      0.29      0.07        75\n",
      "        60.0       0.22      0.10      0.14       648\n",
      "       100.0       0.17      0.37      0.24       436\n",
      "\n",
      "    accuracy                           0.27      3919\n",
      "   macro avg       0.21      0.23      0.19      3919\n",
      "weighted avg       0.31      0.27      0.27      3919\n",
      "\n"
     ]
    },
    {
     "name": "stderr",
     "output_type": "stream",
     "text": [
      "\r",
      " 64%|██████▎   | 7/11 [04:26<03:14, 48.54s/it]"
     ]
    },
    {
     "name": "stdout",
     "output_type": "stream",
     "text": [
      "Index(['day', 'temperature', 'month', 'humidity', 'hour', 'day.1', 'pressure'], dtype='object')\n",
      "For 7 features: \n",
      " Accuracy: 0.27553795042167134 \n",
      " Precision: 0.20715999368496033 \n",
      " Recall: 0.23045868161954372 \n",
      " F1 score: 0.19202993044443006\n",
      "              precision    recall  f1-score   support\n",
      "\n",
      "        10.0       0.57      0.48      0.52      1446\n",
      "        20.0       0.24      0.08      0.12       639\n",
      "        30.0       0.14      0.23      0.17       344\n",
      "        40.0       0.15      0.08      0.10       386\n",
      "        50.0       0.03      0.35      0.06        57\n",
      "        60.0       0.19      0.08      0.11       605\n",
      "       100.0       0.22      0.43      0.29       436\n",
      "\n",
      "    accuracy                           0.28      3913\n",
      "   macro avg       0.22      0.25      0.20      3913\n",
      "weighted avg       0.33      0.28      0.29      3913\n",
      "\n"
     ]
    },
    {
     "name": "stderr",
     "output_type": "stream",
     "text": [
      "\r",
      " 73%|███████▎  | 8/11 [05:34<02:44, 54.76s/it]"
     ]
    },
    {
     "name": "stdout",
     "output_type": "stream",
     "text": [
      "Index(['day', 'temperature', 'month', 'humidity', 'hour', 'day.1', 'pressure',\n",
      "       'holiday'],\n",
      "      dtype='object')\n",
      "For 8 features: \n",
      " Accuracy: 0.2857921679037625 \n",
      " Precision: 0.22107752630373675 \n",
      " Recall: 0.23903278834405411 \n",
      " F1 score: 0.20459255764643983\n",
      "              precision    recall  f1-score   support\n",
      "\n",
      "        10.0       0.59      0.50      0.54      1403\n",
      "        20.0       0.21      0.10      0.14       622\n",
      "        30.0       0.15      0.18      0.16       351\n",
      "        40.0       0.12      0.10      0.11       366\n",
      "        50.0       0.05      0.35      0.08        75\n",
      "        60.0       0.23      0.11      0.15       658\n",
      "       100.0       0.21      0.41      0.28       432\n",
      "\n",
      "    accuracy                           0.29      3907\n",
      "   macro avg       0.22      0.25      0.21      3907\n",
      "weighted avg       0.33      0.29      0.30      3907\n",
      "\n"
     ]
    },
    {
     "name": "stderr",
     "output_type": "stream",
     "text": [
      "\r",
      " 82%|████████▏ | 9/11 [07:18<02:20, 70.32s/it]"
     ]
    },
    {
     "name": "stdout",
     "output_type": "stream",
     "text": [
      "Index(['day', 'temperature', 'month', 'humidity', 'hour', 'day.1', 'pressure',\n",
      "       'holiday', 'year'],\n",
      "      dtype='object')\n",
      "For 9 features: \n",
      " Accuracy: 0.29690335811330426 \n",
      " Precision: 0.23082129695894493 \n",
      " Recall: 0.24210331224781034 \n",
      " F1 score: 0.21447582878451166\n",
      "              precision    recall  f1-score   support\n",
      "\n",
      "        10.0       0.59      0.48      0.53      1409\n",
      "        20.0       0.23      0.09      0.13       599\n",
      "        30.0       0.10      0.17      0.13       347\n",
      "        40.0       0.18      0.19      0.19       369\n",
      "        50.0       0.05      0.31      0.08        68\n",
      "        60.0       0.30      0.17      0.22       654\n",
      "       100.0       0.26      0.42      0.32       455\n",
      "\n",
      "    accuracy                           0.30      3901\n",
      "   macro avg       0.24      0.26      0.23      3901\n",
      "weighted avg       0.36      0.30      0.32      3901\n",
      "\n"
     ]
    },
    {
     "name": "stderr",
     "output_type": "stream",
     "text": [
      "\r",
      " 91%|█████████ | 10/11 [09:06<01:21, 81.91s/it]"
     ]
    },
    {
     "name": "stdout",
     "output_type": "stream",
     "text": [
      "Index(['day', 'temperature', 'month', 'humidity', 'hour', 'day.1', 'pressure',\n",
      "       'holiday', 'year', 'report'],\n",
      "      dtype='object')\n",
      "For 10 features: \n",
      " Accuracy: 0.30426700898587933 \n",
      " Precision: 0.2410361558347991 \n",
      " Recall: 0.24847011135528124 \n",
      " F1 score: 0.22243288482809878\n",
      "              precision    recall  f1-score   support\n",
      "\n",
      "        10.0       0.61      0.51      0.55      1407\n",
      "        20.0       0.21      0.10      0.13       632\n",
      "        30.0       0.12      0.17      0.14       347\n",
      "        40.0       0.19      0.11      0.14       367\n",
      "        50.0       0.02      0.19      0.04        63\n",
      "        60.0       0.27      0.17      0.21       634\n",
      "       100.0       0.28      0.45      0.35       445\n",
      "\n",
      "    accuracy                           0.31      3895\n",
      "   macro avg       0.24      0.24      0.22      3895\n",
      "weighted avg       0.36      0.31      0.32      3895\n",
      "\n"
     ]
    },
    {
     "name": "stderr",
     "output_type": "stream",
     "text": [
      "100%|██████████| 11/11 [10:59<00:00, 60.00s/it]\n",
      "  0%|          | 0/11 [00:00<?, ?it/s]"
     ]
    },
    {
     "name": "stdout",
     "output_type": "stream",
     "text": [
      "Index(['day', 'temperature', 'month', 'humidity', 'hour', 'day.1', 'pressure',\n",
      "       'holiday', 'year', 'report', 'minute'],\n",
      "      dtype='object')\n",
      "For 11 features: \n",
      " Accuracy: 0.30385703265620984 \n",
      " Precision: 0.2407130902242617 \n",
      " Recall: 0.24692189823408406 \n",
      " F1 score: 0.22215215114998443\n",
      "              precision    recall  f1-score   support\n",
      "\n",
      "        10.0       0.62      0.50      0.55      1403\n",
      "        20.0       0.21      0.12      0.15       613\n",
      "        30.0       0.12      0.15      0.13       339\n",
      "        40.0       0.15      0.11      0.13       347\n",
      "        50.0       0.02      0.20      0.04        69\n",
      "        60.0       0.28      0.14      0.19       644\n",
      "       100.0       0.25      0.41      0.31       474\n",
      "\n",
      "    accuracy                           0.30      3889\n",
      "   macro avg       0.24      0.23      0.21      3889\n",
      "weighted avg       0.36      0.30      0.31      3889\n",
      "\n",
      "\n",
      " \n",
      "\n",
      "------------------------- Analyzing method variableThreshold -------------------------\n",
      "The variable order is: \n",
      " ['month', 'day', 'year', 'hour', 'minute', 'holiday', 'day.1', 'temperature', 'humidity', 'pressure', 'report']\n"
     ]
    },
    {
     "name": "stderr",
     "output_type": "stream",
     "text": [
      "\r",
      "  9%|▉         | 1/11 [00:13<02:12, 13.26s/it]"
     ]
    },
    {
     "name": "stdout",
     "output_type": "stream",
     "text": [
      "Index(['month'], dtype='object')\n",
      "For 1 features: \n",
      " Accuracy: 0.24773886170486736 \n",
      " Precision: 0.0725146030632954 \n",
      " Recall: 0.15811218773081456 \n",
      " F1 score: 0.09105778858292111\n",
      "              precision    recall  f1-score   support\n",
      "\n",
      "        10.0       0.40      0.52      0.45      1391\n",
      "        20.0       0.00      0.00      0.00       609\n",
      "        30.0       0.00      0.00      0.00       338\n",
      "        40.0       0.00      0.00      0.00       377\n",
      "        50.0       0.00      0.00      0.00        71\n",
      "        60.0       0.00      0.00      0.00       658\n",
      "       100.0       0.13      0.61      0.22       439\n",
      "\n",
      "    accuracy                           0.26      3883\n",
      "   macro avg       0.08      0.16      0.10      3883\n",
      "weighted avg       0.16      0.26      0.19      3883\n",
      "\n"
     ]
    },
    {
     "name": "stderr",
     "output_type": "stream",
     "text": [
      "\r",
      " 18%|█▊        | 2/11 [00:29<02:14, 14.97s/it]"
     ]
    },
    {
     "name": "stdout",
     "output_type": "stream",
     "text": [
      "Index(['month', 'day'], dtype='object')\n",
      "For 2 features: \n",
      " Accuracy: 0.23423265411400568 \n",
      " Precision: 0.12307846049653155 \n",
      " Recall: 0.1749330619850627 \n",
      " F1 score: 0.13357918796574567\n",
      "              precision    recall  f1-score   support\n",
      "\n",
      "        10.0       0.40      0.37      0.39      1370\n",
      "        20.0       0.00      0.00      0.00       630\n",
      "        30.0       0.10      0.29      0.15       312\n",
      "        40.0       0.20      0.07      0.10       392\n",
      "        50.0       0.00      0.00      0.00        70\n",
      "        60.0       0.13      0.11      0.12       640\n",
      "       100.0       0.14      0.30      0.19       463\n",
      "\n",
      "    accuracy                           0.22      3877\n",
      "   macro avg       0.14      0.16      0.14      3877\n",
      "weighted avg       0.21      0.22      0.20      3877\n",
      "\n"
     ]
    },
    {
     "name": "stderr",
     "output_type": "stream",
     "text": [
      "\r",
      " 27%|██▋       | 3/11 [01:03<03:08, 23.58s/it]"
     ]
    },
    {
     "name": "stdout",
     "output_type": "stream",
     "text": [
      "Index(['month', 'day', 'year'], dtype='object')\n",
      "For 3 features: \n",
      " Accuracy: 0.3256910359080341 \n",
      " Precision: 0.17601082199664353 \n",
      " Recall: 0.20687383060539247 \n",
      " F1 score: 0.17900970857602572\n",
      "              precision    recall  f1-score   support\n",
      "\n",
      "        10.0       0.52      0.60      0.56      1456\n",
      "        20.0       0.08      0.00      0.01       607\n",
      "        30.0       0.14      0.21      0.17       331\n",
      "        40.0       0.18      0.02      0.04       364\n",
      "        50.0       0.00      0.00      0.00        63\n",
      "        60.0       0.23      0.31      0.26       629\n",
      "       100.0       0.17      0.27      0.21       421\n",
      "\n",
      "    accuracy                           0.33      3871\n",
      "   macro avg       0.19      0.20      0.18      3871\n",
      "weighted avg       0.29      0.33      0.29      3871\n",
      "\n"
     ]
    },
    {
     "name": "stderr",
     "output_type": "stream",
     "text": [
      "\r",
      " 36%|███▋      | 4/11 [01:55<04:04, 34.99s/it]"
     ]
    },
    {
     "name": "stdout",
     "output_type": "stream",
     "text": [
      "Index(['month', 'day', 'year', 'hour'], dtype='object')\n",
      "For 4 features: \n",
      " Accuracy: 0.3024760672703752 \n",
      " Precision: 0.21496070519214075 \n",
      " Recall: 0.21607495279804156 \n",
      " F1 score: 0.19440107760351355\n",
      "              precision    recall  f1-score   support\n",
      "\n",
      "        10.0       0.52      0.51      0.51      1435\n",
      "        20.0       0.21      0.04      0.07       629\n",
      "        30.0       0.11      0.23      0.15       322\n",
      "        40.0       0.19      0.06      0.09       379\n",
      "        50.0       0.00      0.00      0.00        55\n",
      "        60.0       0.32      0.30      0.31       613\n",
      "       100.0       0.18      0.39      0.25       432\n",
      "\n",
      "    accuracy                           0.31      3865\n",
      "   macro avg       0.22      0.22      0.20      3865\n",
      "weighted avg       0.33      0.31      0.30      3865\n",
      "\n"
     ]
    },
    {
     "name": "stderr",
     "output_type": "stream",
     "text": [
      "\r",
      " 45%|████▌     | 5/11 [02:54<04:21, 43.54s/it]"
     ]
    },
    {
     "name": "stdout",
     "output_type": "stream",
     "text": [
      "Index(['month', 'day', 'year', 'hour', 'minute'], dtype='object')\n",
      "For 5 features: \n",
      " Accuracy: 0.30089660533817053 \n",
      " Precision: 0.21569643257445154 \n",
      " Recall: 0.21512968819522885 \n",
      " F1 score: 0.19468229937721748\n",
      "              precision    recall  f1-score   support\n",
      "\n",
      "        10.0       0.53      0.50      0.52      1407\n",
      "        20.0       0.20      0.06      0.09       636\n",
      "        30.0       0.14      0.30      0.19       340\n",
      "        40.0       0.18      0.02      0.03       359\n",
      "        50.0       0.00      0.00      0.00        50\n",
      "        60.0       0.27      0.24      0.26       636\n",
      "       100.0       0.19      0.39      0.26       431\n",
      "\n",
      "    accuracy                           0.30      3859\n",
      "   macro avg       0.22      0.22      0.19      3859\n",
      "weighted avg       0.32      0.30      0.29      3859\n",
      "\n"
     ]
    },
    {
     "name": "stderr",
     "output_type": "stream",
     "text": [
      "\r",
      " 55%|█████▍    | 6/11 [03:58<04:12, 50.51s/it]"
     ]
    },
    {
     "name": "stdout",
     "output_type": "stream",
     "text": [
      "Index(['month', 'day', 'year', 'hour', 'minute', 'holiday'], dtype='object')\n",
      "For 6 features: \n",
      " Accuracy: 0.3079029327796522 \n",
      " Precision: 0.222569733549336 \n",
      " Recall: 0.22125834024585445 \n",
      " F1 score: 0.20664796198622767\n",
      "              precision    recall  f1-score   support\n",
      "\n",
      "        10.0       0.55      0.52      0.53      1383\n",
      "        20.0       0.17      0.06      0.08       655\n",
      "        30.0       0.14      0.29      0.19       336\n",
      "        40.0       0.19      0.09      0.12       378\n",
      "        50.0       0.02      0.07      0.03        59\n",
      "        60.0       0.32      0.26      0.29       609\n",
      "       100.0       0.21      0.36      0.26       433\n",
      "\n",
      "    accuracy                           0.31      3853\n",
      "   macro avg       0.23      0.24      0.22      3853\n",
      "weighted avg       0.33      0.31      0.31      3853\n",
      "\n"
     ]
    },
    {
     "name": "stderr",
     "output_type": "stream",
     "text": [
      "\r",
      " 64%|██████▎   | 7/11 [05:07<03:46, 56.50s/it]"
     ]
    },
    {
     "name": "stdout",
     "output_type": "stream",
     "text": [
      "Index(['month', 'day', 'year', 'hour', 'minute', 'holiday', 'day.1'], dtype='object')\n",
      "For 7 features: \n",
      " Accuracy: 0.3074265661554458 \n",
      " Precision: 0.23696176616079376 \n",
      " Recall: 0.23212883574312232 \n",
      " F1 score: 0.21085755302873793\n",
      "              precision    recall  f1-score   support\n",
      "\n",
      "        10.0       0.59      0.52      0.55      1440\n",
      "        20.0       0.19      0.07      0.10       610\n",
      "        30.0       0.12      0.25      0.16       323\n",
      "        40.0       0.19      0.08      0.11       387\n",
      "        50.0       0.02      0.15      0.03        59\n",
      "        60.0       0.33      0.18      0.23       607\n",
      "       100.0       0.22      0.34      0.27       421\n",
      "\n",
      "    accuracy                           0.30      3847\n",
      "   macro avg       0.24      0.23      0.21      3847\n",
      "weighted avg       0.36      0.30      0.31      3847\n",
      "\n"
     ]
    },
    {
     "name": "stderr",
     "output_type": "stream",
     "text": [
      "\r",
      " 73%|███████▎  | 8/11 [06:38<03:22, 67.53s/it]"
     ]
    },
    {
     "name": "stdout",
     "output_type": "stream",
     "text": [
      "Index(['month', 'day', 'year', 'hour', 'minute', 'holiday', 'day.1',\n",
      "       'temperature'],\n",
      "      dtype='object')\n",
      "For 8 features: \n",
      " Accuracy: 0.2986826347305389 \n",
      " Precision: 0.2396065665735218 \n",
      " Recall: 0.23599081056208296 \n",
      " F1 score: 0.2161006887758531\n",
      "              precision    recall  f1-score   support\n",
      "\n",
      "        10.0       0.63      0.47      0.54      1418\n",
      "        20.0       0.18      0.11      0.13       608\n",
      "        30.0       0.10      0.18      0.13       309\n",
      "        40.0       0.20      0.09      0.12       383\n",
      "        50.0       0.02      0.17      0.04        58\n",
      "        60.0       0.33      0.25      0.29       630\n",
      "       100.0       0.21      0.35      0.26       435\n",
      "\n",
      "    accuracy                           0.30      3841\n",
      "   macro avg       0.24      0.23      0.22      3841\n",
      "weighted avg       0.37      0.30      0.32      3841\n",
      "\n"
     ]
    },
    {
     "name": "stderr",
     "output_type": "stream",
     "text": [
      "\r",
      " 82%|████████▏ | 9/11 [08:20<02:36, 78.47s/it]"
     ]
    },
    {
     "name": "stdout",
     "output_type": "stream",
     "text": [
      "Index(['month', 'day', 'year', 'hour', 'minute', 'holiday', 'day.1',\n",
      "       'temperature', 'humidity'],\n",
      "      dtype='object')\n",
      "For 9 features: \n",
      " Accuracy: 0.2987640156453716 \n",
      " Precision: 0.23601771038038344 \n",
      " Recall: 0.23631880573857464 \n",
      " F1 score: 0.21718893042244627\n",
      "              precision    recall  f1-score   support\n",
      "\n",
      "        10.0       0.61      0.48      0.53      1423\n",
      "        20.0       0.18      0.10      0.13       605\n",
      "        30.0       0.12      0.23      0.16       310\n",
      "        40.0       0.18      0.13      0.15       350\n",
      "        50.0       0.03      0.16      0.05        63\n",
      "        60.0       0.34      0.23      0.27       651\n",
      "       100.0       0.21      0.36      0.27       433\n",
      "\n",
      "    accuracy                           0.30      3835\n",
      "   macro avg       0.24      0.24      0.22      3835\n",
      "weighted avg       0.36      0.30      0.32      3835\n",
      "\n"
     ]
    },
    {
     "name": "stderr",
     "output_type": "stream",
     "text": [
      "\r",
      " 91%|█████████ | 10/11 [10:13<01:28, 88.93s/it]"
     ]
    },
    {
     "name": "stdout",
     "output_type": "stream",
     "text": [
      "Index(['month', 'day', 'year', 'hour', 'minute', 'holiday', 'day.1',\n",
      "       'temperature', 'humidity', 'pressure'],\n",
      "      dtype='object')\n",
      "For 10 features: \n",
      " Accuracy: 0.3031339775398276 \n",
      " Precision: 0.23974349047398974 \n",
      " Recall: 0.2451715737879915 \n",
      " F1 score: 0.22241949984891793\n",
      "              precision    recall  f1-score   support\n",
      "\n",
      "        10.0       0.62      0.44      0.51      1447\n",
      "        20.0       0.22      0.15      0.18       574\n",
      "        30.0       0.10      0.15      0.12       343\n",
      "        40.0       0.15      0.13      0.14       341\n",
      "        50.0       0.02      0.21      0.04        61\n",
      "        60.0       0.29      0.14      0.19       624\n",
      "       100.0       0.25      0.44      0.32       439\n",
      "\n",
      "    accuracy                           0.29      3829\n",
      "   macro avg       0.24      0.24      0.22      3829\n",
      "weighted avg       0.36      0.29      0.31      3829\n",
      "\n"
     ]
    },
    {
     "name": "stderr",
     "output_type": "stream",
     "text": [
      "100%|██████████| 11/11 [12:10<00:00, 66.43s/it]\n",
      "  0%|          | 0/11 [00:00<?, ?it/s]"
     ]
    },
    {
     "name": "stdout",
     "output_type": "stream",
     "text": [
      "Index(['month', 'day', 'year', 'hour', 'minute', 'holiday', 'day.1',\n",
      "       'temperature', 'humidity', 'pressure', 'report'],\n",
      "      dtype='object')\n",
      "For 11 features: \n",
      " Accuracy: 0.31143342924404915 \n",
      " Precision: 0.24867855410502232 \n",
      " Recall: 0.251350933764636 \n",
      " F1 score: 0.22926227309548505\n",
      "              precision    recall  f1-score   support\n",
      "\n",
      "        10.0       0.60      0.48      0.53      1435\n",
      "        20.0       0.25      0.13      0.17       565\n",
      "        30.0       0.12      0.20      0.15       324\n",
      "        40.0       0.18      0.10      0.13       371\n",
      "        50.0       0.03      0.19      0.04        57\n",
      "        60.0       0.31      0.21      0.25       618\n",
      "       100.0       0.26      0.44      0.33       453\n",
      "\n",
      "    accuracy                           0.32      3823\n",
      "   macro avg       0.25      0.25      0.23      3823\n",
      "weighted avg       0.37      0.32      0.33      3823\n",
      "\n",
      "\n",
      " \n",
      "\n",
      "------------------------- Analyzing method MRMR -------------------------\n",
      "The variable order is: \n",
      " ['temperature', 'day.1', 'hour', 'holiday', 'humidity', 'day', 'year', 'month', 'pressure', 'minute', 'report']\n"
     ]
    },
    {
     "name": "stderr",
     "output_type": "stream",
     "text": [
      "\r",
      "  9%|▉         | 1/11 [00:19<03:15, 19.59s/it]"
     ]
    },
    {
     "name": "stdout",
     "output_type": "stream",
     "text": [
      "Index(['temperature'], dtype='object')\n",
      "For 1 features: \n",
      " Accuracy: 0.2759758973015457 \n",
      " Precision: 0.17369319451442108 \n",
      " Recall: 0.17835349067476697 \n",
      " F1 score: 0.13508059311163118\n",
      "              precision    recall  f1-score   support\n",
      "\n",
      "        10.0       0.45      0.52      0.48      1358\n",
      "        20.0       0.14      0.05      0.07       596\n",
      "        30.0       0.19      0.03      0.05       312\n",
      "        40.0       0.13      0.03      0.05       358\n",
      "        50.0       0.01      0.02      0.02        57\n",
      "        60.0       0.20      0.03      0.05       652\n",
      "       100.0       0.16      0.57      0.25       484\n",
      "\n",
      "    accuracy                           0.28      3817\n",
      "   macro avg       0.18      0.18      0.14      3817\n",
      "weighted avg       0.26      0.28      0.23      3817\n",
      "\n"
     ]
    },
    {
     "name": "stderr",
     "output_type": "stream",
     "text": [
      "\r",
      " 18%|█▊        | 2/11 [00:45<03:27, 23.09s/it]"
     ]
    },
    {
     "name": "stdout",
     "output_type": "stream",
     "text": [
      "Index(['temperature', 'day.1'], dtype='object')\n",
      "For 2 features: \n",
      " Accuracy: 0.24214641826292313 \n",
      " Precision: 0.1618511421806566 \n",
      " Recall: 0.1953564111809615 \n",
      " F1 score: 0.12375978015647879\n",
      "              precision    recall  f1-score   support\n",
      "\n",
      "        10.0       0.51      0.43      0.47      1419\n",
      "        20.0       0.14      0.02      0.03       567\n",
      "        30.0       0.00      0.00      0.00       317\n",
      "        40.0       0.08      0.02      0.03       340\n",
      "        50.0       0.03      0.42      0.05        62\n",
      "        60.0       0.17      0.05      0.08       642\n",
      "       100.0       0.16      0.42      0.23       464\n",
      "\n",
      "    accuracy                           0.23      3811\n",
      "   macro avg       0.15      0.19      0.13      3811\n",
      "weighted avg       0.26      0.23      0.22      3811\n",
      "\n"
     ]
    },
    {
     "name": "stderr",
     "output_type": "stream",
     "text": [
      "\r",
      " 27%|██▋       | 3/11 [01:19<03:45, 28.13s/it]"
     ]
    },
    {
     "name": "stdout",
     "output_type": "stream",
     "text": [
      "Index(['temperature', 'day.1', 'hour'], dtype='object')\n",
      "For 3 features: \n",
      " Accuracy: 0.22293035479632062 \n",
      " Precision: 0.17365334731154622 \n",
      " Recall: 0.1933345907550106 \n",
      " F1 score: 0.14598290721479268\n",
      "              precision    recall  f1-score   support\n",
      "\n",
      "        10.0       0.50      0.37      0.43      1378\n",
      "        20.0       0.20      0.07      0.10       610\n",
      "        30.0       0.07      0.14      0.09       318\n",
      "        40.0       0.08      0.05      0.06       379\n",
      "        50.0       0.02      0.21      0.04        66\n",
      "        60.0       0.18      0.01      0.02       607\n",
      "       100.0       0.18      0.45      0.26       447\n",
      "\n",
      "    accuracy                           0.22      3805\n",
      "   macro avg       0.18      0.19      0.14      3805\n",
      "weighted avg       0.28      0.22      0.22      3805\n",
      "\n"
     ]
    },
    {
     "name": "stderr",
     "output_type": "stream",
     "text": [
      "\r",
      " 36%|███▋      | 4/11 [01:58<03:48, 32.62s/it]"
     ]
    },
    {
     "name": "stdout",
     "output_type": "stream",
     "text": [
      "Index(['temperature', 'day.1', 'hour', 'holiday'], dtype='object')\n",
      "For 4 features: \n",
      " Accuracy: 0.23901553040273757 \n",
      " Precision: 0.1874053070963474 \n",
      " Recall: 0.20522978610433948 \n",
      " F1 score: 0.16481700929741708\n",
      "              precision    recall  f1-score   support\n",
      "\n",
      "        10.0       0.51      0.36      0.42      1420\n",
      "        20.0       0.19      0.10      0.13       573\n",
      "        30.0       0.07      0.15      0.10       305\n",
      "        40.0       0.11      0.03      0.05       380\n",
      "        50.0       0.02      0.26      0.04        61\n",
      "        60.0       0.17      0.03      0.05       622\n",
      "       100.0       0.20      0.46      0.28       438\n",
      "\n",
      "    accuracy                           0.23      3799\n",
      "   macro avg       0.18      0.20      0.15      3799\n",
      "weighted avg       0.29      0.23      0.23      3799\n",
      "\n"
     ]
    },
    {
     "name": "stderr",
     "output_type": "stream",
     "text": [
      "\r",
      " 45%|████▌     | 5/11 [02:44<03:44, 37.46s/it]"
     ]
    },
    {
     "name": "stdout",
     "output_type": "stream",
     "text": [
      "Index(['temperature', 'day.1', 'hour', 'holiday', 'humidity'], dtype='object')\n",
      "For 5 features: \n",
      " Accuracy: 0.2610018455048774 \n",
      " Precision: 0.1895762635115336 \n",
      " Recall: 0.21768109162193558 \n",
      " F1 score: 0.17496662212705313\n",
      "              precision    recall  f1-score   support\n",
      "\n",
      "        10.0       0.58      0.47      0.52      1428\n",
      "        20.0       0.22      0.10      0.14       585\n",
      "        30.0       0.11      0.14      0.12       305\n",
      "        40.0       0.11      0.10      0.10       366\n",
      "        50.0       0.02      0.25      0.04        55\n",
      "        60.0       0.09      0.02      0.03       611\n",
      "       100.0       0.21      0.47      0.30       443\n",
      "\n",
      "    accuracy                           0.27      3793\n",
      "   macro avg       0.19      0.22      0.18      3793\n",
      "weighted avg       0.31      0.27      0.28      3793\n",
      "\n"
     ]
    },
    {
     "name": "stderr",
     "output_type": "stream",
     "text": [
      "\r",
      " 55%|█████▍    | 6/11 [03:35<03:30, 42.10s/it]"
     ]
    },
    {
     "name": "stdout",
     "output_type": "stream",
     "text": [
      "Index(['temperature', 'day.1', 'hour', 'holiday', 'humidity', 'day'], dtype='object')\n",
      "For 6 features: \n",
      " Accuracy: 0.263292843939794 \n",
      " Precision: 0.19033476319132922 \n",
      " Recall: 0.2160547833161355 \n",
      " F1 score: 0.17459181122298653\n",
      "              precision    recall  f1-score   support\n",
      "\n",
      "        10.0       0.53      0.48      0.50      1387\n",
      "        20.0       0.08      0.01      0.02       603\n",
      "        30.0       0.07      0.09      0.08       342\n",
      "        40.0       0.12      0.14      0.13       372\n",
      "        50.0       0.03      0.30      0.06        63\n",
      "        60.0       0.08      0.01      0.02       577\n",
      "       100.0       0.22      0.45      0.29       443\n",
      "\n",
      "    accuracy                           0.26      3787\n",
      "   macro avg       0.16      0.21      0.16      3787\n",
      "weighted avg       0.26      0.26      0.25      3787\n",
      "\n"
     ]
    },
    {
     "name": "stderr",
     "output_type": "stream",
     "text": [
      "\r",
      " 64%|██████▎   | 7/11 [04:31<03:06, 46.65s/it]"
     ]
    },
    {
     "name": "stdout",
     "output_type": "stream",
     "text": [
      "Index(['temperature', 'day.1', 'hour', 'holiday', 'humidity', 'day', 'year'], dtype='object')\n",
      "For 7 features: \n",
      " Accuracy: 0.273377413382703 \n",
      " Precision: 0.2091279608225395 \n",
      " Recall: 0.22872318944630357 \n",
      " F1 score: 0.19522277926128778\n",
      "              precision    recall  f1-score   support\n",
      "\n",
      "        10.0       0.56      0.45      0.50      1386\n",
      "        20.0       0.15      0.08      0.10       580\n",
      "        30.0       0.14      0.15      0.15       306\n",
      "        40.0       0.12      0.14      0.13       339\n",
      "        50.0       0.03      0.24      0.06        62\n",
      "        60.0       0.24      0.14      0.18       646\n",
      "       100.0       0.25      0.44      0.31       462\n",
      "\n",
      "    accuracy                           0.28      3781\n",
      "   macro avg       0.21      0.23      0.20      3781\n",
      "weighted avg       0.32      0.28      0.29      3781\n",
      "\n"
     ]
    },
    {
     "name": "stderr",
     "output_type": "stream",
     "text": [
      "\r",
      " 73%|███████▎  | 8/11 [06:10<03:09, 63.32s/it]"
     ]
    },
    {
     "name": "stdout",
     "output_type": "stream",
     "text": [
      "Index(['temperature', 'day.1', 'hour', 'holiday', 'humidity', 'day', 'year',\n",
      "       'month'],\n",
      "      dtype='object')\n",
      "For 8 features: \n",
      " Accuracy: 0.29904635761589404 \n",
      " Precision: 0.23405290362206901 \n",
      " Recall: 0.23852740552328752 \n",
      " F1 score: 0.215541743328812\n",
      "              precision    recall  f1-score   support\n",
      "\n",
      "        10.0       0.59      0.48      0.53      1398\n",
      "        20.0       0.18      0.10      0.12       597\n",
      "        30.0       0.12      0.19      0.15       331\n",
      "        40.0       0.17      0.12      0.14       362\n",
      "        50.0       0.03      0.25      0.05        48\n",
      "        60.0       0.35      0.17      0.23       608\n",
      "       100.0       0.23      0.42      0.30       431\n",
      "\n",
      "    accuracy                           0.30      3775\n",
      "   macro avg       0.24      0.25      0.22      3775\n",
      "weighted avg       0.35      0.30      0.31      3775\n",
      "\n"
     ]
    },
    {
     "name": "stderr",
     "output_type": "stream",
     "text": [
      "\r",
      " 82%|████████▏ | 9/11 [07:59<02:34, 77.47s/it]"
     ]
    },
    {
     "name": "stdout",
     "output_type": "stream",
     "text": [
      "Index(['temperature', 'day.1', 'hour', 'holiday', 'humidity', 'day', 'year',\n",
      "       'month', 'pressure'],\n",
      "      dtype='object')\n",
      "For 9 features: \n",
      " Accuracy: 0.30374900504112495 \n",
      " Precision: 0.24059498299639906 \n",
      " Recall: 0.24884690390932207 \n",
      " F1 score: 0.22333237059651007\n",
      "              precision    recall  f1-score   support\n",
      "\n",
      "        10.0       0.60      0.45      0.52      1388\n",
      "        20.0       0.26      0.13      0.18       626\n",
      "        30.0       0.12      0.20      0.15       319\n",
      "        40.0       0.15      0.16      0.15       370\n",
      "        50.0       0.04      0.23      0.07        71\n",
      "        60.0       0.25      0.17      0.20       559\n",
      "       100.0       0.25      0.40      0.31       436\n",
      "\n",
      "    accuracy                           0.30      3769\n",
      "   macro avg       0.24      0.25      0.23      3769\n",
      "weighted avg       0.36      0.30      0.31      3769\n",
      "\n"
     ]
    },
    {
     "name": "stderr",
     "output_type": "stream",
     "text": [
      "\r",
      " 91%|█████████ | 10/11 [09:53<01:28, 88.90s/it]"
     ]
    },
    {
     "name": "stdout",
     "output_type": "stream",
     "text": [
      "Index(['temperature', 'day.1', 'hour', 'holiday', 'humidity', 'day', 'year',\n",
      "       'month', 'pressure', 'minute'],\n",
      "      dtype='object')\n",
      "For 10 features: \n",
      " Accuracy: 0.3044220037204358 \n",
      " Precision: 0.23957055817587833 \n",
      " Recall: 0.24460763207861885 \n",
      " F1 score: 0.22200151078717195\n",
      "              precision    recall  f1-score   support\n",
      "\n",
      "        10.0       0.62      0.48      0.54      1450\n",
      "        20.0       0.23      0.10      0.13       584\n",
      "        30.0       0.11      0.19      0.14       336\n",
      "        40.0       0.16      0.13      0.15       321\n",
      "        50.0       0.02      0.19      0.04        47\n",
      "        60.0       0.30      0.17      0.21       595\n",
      "       100.0       0.26      0.50      0.35       430\n",
      "\n",
      "    accuracy                           0.31      3763\n",
      "   macro avg       0.24      0.25      0.22      3763\n",
      "weighted avg       0.37      0.31      0.33      3763\n",
      "\n"
     ]
    },
    {
     "name": "stderr",
     "output_type": "stream",
     "text": [
      "100%|██████████| 11/11 [11:52<00:00, 64.76s/it]"
     ]
    },
    {
     "name": "stdout",
     "output_type": "stream",
     "text": [
      "Index(['temperature', 'day.1', 'hour', 'holiday', 'humidity', 'day', 'year',\n",
      "       'month', 'pressure', 'minute', 'report'],\n",
      "      dtype='object')\n",
      "For 11 features: \n",
      " Accuracy: 0.3101623635879691 \n",
      " Precision: 0.25005684223780034 \n",
      " Recall: 0.25547522195786837 \n",
      " F1 score: 0.2299079031260152\n",
      "              precision    recall  f1-score   support\n",
      "\n",
      "        10.0       0.63      0.46      0.53      1378\n",
      "        20.0       0.26      0.15      0.19       571\n",
      "        30.0       0.13      0.19      0.16       331\n",
      "        40.0       0.11      0.05      0.07       369\n",
      "        50.0       0.03      0.25      0.05        61\n",
      "        60.0       0.26      0.18      0.22       628\n",
      "       100.0       0.24      0.45      0.31       419\n",
      "\n",
      "    accuracy                           0.30      3757\n",
      "   macro avg       0.24      0.25      0.22      3757\n",
      "weighted avg       0.36      0.30      0.32      3757\n",
      "\n",
      "\n",
      " \n",
      "\n"
     ]
    },
    {
     "name": "stderr",
     "output_type": "stream",
     "text": [
      "\n"
     ]
    }
   ],
   "source": [
    "order=[pear_corr,kend_corr,mutInf_class,mutInf_reg,mutInf_class2,varThre,mrmr]\n",
    "\n",
    "for i in range(len(order)):\n",
    "    print('------------------------- Analyzing method {} -------------------------'.format(method[i]))\n",
    "    print('The variable order is: \\n {}'.format(order[i]))\n",
    "    testModel(hp,order[i],12)\n",
    "    print('\\n \\n')"
   ]
  },
  {
   "cell_type": "markdown",
   "id": "2f2d0bbe",
   "metadata": {},
   "source": [
    "### One Hot Encoding"
   ]
  },
  {
   "cell_type": "code",
   "execution_count": 9,
   "id": "f9f1dd81",
   "metadata": {},
   "outputs": [],
   "source": [
    "hp_oHe = pd.read_csv(\"harryPotterCleanOHE.csv\")"
   ]
  },
  {
   "cell_type": "code",
   "execution_count": 10,
   "id": "7a56d8fe",
   "metadata": {},
   "outputs": [
    {
     "data": {
      "text/plain": [
       "array([ 40.,  20.,  10.,  30.,  60., 100.,  50.])"
      ]
     },
     "execution_count": 10,
     "metadata": {},
     "output_type": "execute_result"
    }
   ],
   "source": [
    "#Delete all rows which contain outliers\n",
    "hp_clean = hp_oHe[hp_oHe.Harry_Potter_and_the_Forbidden != 0] #delete rows with 0 min\n",
    "hp_clean = hp_clean[hp_clean.Harry_Potter_and_the_Forbidden != 180]\n",
    "hp_clean = hp_clean[hp_clean.Harry_Potter_and_the_Forbidden != 150]\n",
    "hp_clean = hp_clean[hp_clean.Harry_Potter_and_the_Forbidden != 145]\n",
    "hp_clean = hp_clean[hp_clean.Harry_Potter_and_the_Forbidden != 135]\n",
    "hp_clean = hp_clean[hp_clean.Harry_Potter_and_the_Forbidden != 130]\n",
    "hp_clean = hp_clean[hp_clean.Harry_Potter_and_the_Forbidden != 11]\n",
    "hp_fin_clean = hp_clean[hp_clean.Harry_Potter_and_the_Forbidden != 125]\n",
    "\n",
    "#Replace times ending in 5 and also compacting the rest to have only 6 classes\n",
    "a=hp_fin_clean.Harry_Potter_and_the_Forbidden.replace([5, 15, 25, 35, 45, 55, 65, 75, 85, 95, 105, 115, 120, 110, 150,80, 90, 50,70], \n",
    "                                                       [10,10, 20, 30, 40, 50, 60, 60, 100, 100, 100, 100, 100, 100, 100,100, 100, 60,100])\n",
    "#Create the final dataframe\n",
    "df=pd.DataFrame(a)\n",
    "hp2=hp_fin_clean.drop('Harry_Potter_and_the_Forbidden',axis=1)\n",
    "hp3=pd.concat([hp2, df], axis=1)\n",
    "hp4=hp3.drop('Unnamed: 0',axis=1)\n",
    "hp4.drop(hp4.tail(20).index,inplace=True) \n",
    "hp4.Harry_Potter_and_the_Forbidden.unique()"
   ]
  },
  {
   "cell_type": "code",
   "execution_count": 11,
   "id": "a54b7bff",
   "metadata": {},
   "outputs": [],
   "source": [
    "#Variable order in one hot encoding:\n",
    "pear_corrO = ['temperature',\t'holiday',\t'day',\t'month',\t'pressure',\t'day.1',\t'shower rain',\t'broken clouds',\t'fog',\t'overcast clouds',\t'heavy intensity rain',\t'minute',\t'haze',\t'thunderstorm with light rain',\t'scattered clouds',\t'clear sky',\t'mist',\t'light intensity drizzle',\t'few clouds',\t'thunderstorm',\t'very heavy rain',\t'moderate rain',\t'thunderstorm with rain',\t'year',\t'light rain',\t'humidity',\t'hour',\t'Pandemic']\n",
    "kend_corrO = ['temperature',\t'holiday',\t'month',\t'day',\t'pressure',\t'day.1',\t'shower rain',\t'broken clouds',\t'heavy intensity rain',\t'fog',\t'year',\t'overcast clouds',\t'minute',\t'haze',\t'thunderstorm with light rain',\t'mist',\t'light intensity drizzle',\t'scattered clouds',\t'clear sky',\t'few clouds',\t'thunderstorm',\t'very heavy rain',\t'moderate rain',\t'thunderstorm with rain',\t'light rain',\t'humidity',\t'hour',\t'Pandemic']\n",
    "mutInf_classO = ['month',\t'day',\t'year',\t'hour',\t'minute',\t'holiday',\t'day.1',\t'Pandemic',\t'temperature',\t'humidity',\t'pressure',\t'heavy intensity rain',\t'light rain',\t'broken clouds',\t'moderate rain',\t'mist',\t'overcast clouds',\t'clear sky',\t'scattered clouds',\t'thunderstorm with rain',\t'few clouds',\t'thunderstorm',\t'shower rain',\t'very heavy rain',\t'fog',\t'haze',\t'thunderstorm with light rain',\t'light intensity drizzle']\n",
    "mutInf_regO = ['month',\t'day',\t'year',\t'hour',\t'minute',\t'holiday',\t'day.1',\t'Pandemic',\t'temperature',\t'humidity',\t'pressure',\t'heavy intensity rain',\t'light rain',\t'broken clouds',\t'moderate rain',\t'mist',\t'overcast clouds',\t'clear sky',\t'scattered clouds',\t'thunderstorm with rain',\t'few clouds',\t'thunderstorm',\t'shower rain',\t'very heavy rain',\t'fog',\t'haze',\t'thunderstorm with light rain',\t'light intensity drizzle']\n",
    "mutInf_class2O = ['day',\t'temperature',\t'month',\t'humidity',\t'hour',\t'pressure','day.1',\t'year',\t'holiday',\t'shower rain',\t'light rain',\t'thunderstorm',\t'fog',\t'broken clouds',\t'Pandemic',\t'thunderstorm with rain',\t'light intensity drizzle',\t'thunderstorm with light rain',\t'heavy intensity rain',\t'mist',\t'scattered clouds',\t'very heavy rain',\t'overcast clouds',\t'moderate rain',\t'minute',\t'haze',\t'few clouds',\t'clear sky']\n",
    "varThreO = ['month',\t'day',\t'year',\t'hour',\t'minute',\t'holiday',\t'day.1',\t'temperature',\t'humidity',\t'pressure',\t'heavy intensity rain',\t'light rain',\t'broken clouds',\t'scattered clouds',\t'thunderstorm with rain',\t'few clouds',\t'thunderstorm',\t'shower rain',]\n",
    "mrmrO = ['month',\t'day',\t'year',\t'hour',\t'minute',\t'holiday',\t'day.1',\t'temperature',\t'humidity',\t'pressure',\t'heavy intensity rain',\t'light rain',\t'broken clouds',\t'scattered clouds',\t'thunderstorm with rain',\t'few clouds',\t'thunderstorm',\t'shower rain',\t'heavy intensity rain',\t'mist',\t'scattered clouds',\t'very heavy rain',\t'overcast clouds',\t'moderate rain',\t'minute',\t'haze',\t'few clouds']\n",
    "\n",
    "orderOHE=[pear_corrO,kend_corrO,mutInf_classO,mutInf_regO,mutInf_class2O,varThreO,mrmrO]\n",
    "\n",
    "method = ['Pearson_correlation','Kendalls_correlation','mutualInformation_classification',\n",
    "          'mutualInformation_reggression','mutualInformation_classification2',\n",
    "          'varianceThreshold','MRMR']"
   ]
  },
  {
   "cell_type": "code",
   "execution_count": 12,
   "id": "ccf3b383",
   "metadata": {},
   "outputs": [],
   "source": [
    "def analizeDF(df,order,n_vars):\n",
    "    for i in range(len(order)):\n",
    "        print('------------------------- Analyzing method {} -------------------------'.format(method[i]))\n",
    "        print('The variable order is: \\n {}'.format(order[i]))\n",
    "        testModel(df,order[i],n_vars)\n",
    "        print('\\n \\n')"
   ]
  },
  {
   "cell_type": "code",
   "execution_count": 13,
   "id": "c00d9c6b",
   "metadata": {
    "scrolled": true
   },
   "outputs": [
    {
     "name": "stdout",
     "output_type": "stream",
     "text": [
      "------------------------- Analyzing method Pearson_correlation -------------------------\n",
      "The variable order is: \n",
      " ['temperature', 'holiday', 'day', 'month', 'pressure', 'day.1', 'shower rain', 'broken clouds', 'fog', 'overcast clouds', 'heavy intensity rain', 'minute', 'haze', 'thunderstorm with light rain', 'scattered clouds', 'clear sky', 'mist', 'light intensity drizzle', 'few clouds', 'thunderstorm', 'very heavy rain', 'moderate rain', 'thunderstorm with rain', 'year', 'light rain', 'humidity', 'hour', 'Pandemic']\n"
     ]
    },
    {
     "name": "stderr",
     "output_type": "stream",
     "text": [
      "  4%|▍         | 1/26 [01:14<30:58, 74.34s/it]"
     ]
    },
    {
     "name": "stdout",
     "output_type": "stream",
     "text": [
      "Index(['temperature'], dtype='object')\n",
      "For 1 features: \n",
      " Accuracy: 0.22295102819588722 \n",
      " Precision: 0.16456050783705306 \n",
      " Recall: 0.1840732824497096 \n",
      " F1 score: 0.1191173860238599\n",
      "              precision    recall  f1-score   support\n",
      "\n",
      "        10.0       0.44      0.54      0.48      1502\n",
      "        20.0       0.19      0.09      0.13       805\n",
      "        30.0       0.10      0.04      0.05       475\n",
      "        40.0       0.13      0.04      0.06       548\n",
      "        50.0       0.03      0.60      0.06       105\n",
      "        60.0       0.20      0.02      0.03       783\n",
      "       100.0       0.15      0.01      0.02       499\n",
      "\n",
      "    accuracy                           0.21      4717\n",
      "   macro avg       0.18      0.19      0.12      4717\n",
      "weighted avg       0.25      0.21      0.20      4717\n",
      "\n"
     ]
    },
    {
     "name": "stderr",
     "output_type": "stream",
     "text": [
      "\r",
      "  8%|▊         | 2/26 [02:37<31:45, 79.40s/it]"
     ]
    },
    {
     "name": "stdout",
     "output_type": "stream",
     "text": [
      "Index(['temperature', 'holiday'], dtype='object')\n",
      "For 2 features: \n",
      " Accuracy: 0.23956697091912546 \n",
      " Precision: 0.16002354436620217 \n",
      " Recall: 0.19741081421864926 \n",
      " F1 score: 0.15556310205093635\n",
      "              precision    recall  f1-score   support\n",
      "\n",
      "        10.0       0.44      0.45      0.44      1507\n",
      "        20.0       0.18      0.13      0.15       790\n",
      "        30.0       0.11      0.02      0.04       463\n",
      "        40.0       0.16      0.58      0.25       576\n",
      "        50.0       0.00      0.00      0.00        82\n",
      "        60.0       0.00      0.00      0.00       770\n",
      "       100.0       0.29      0.21      0.24       523\n",
      "\n",
      "    accuracy                           0.26      4711\n",
      "   macro avg       0.17      0.20      0.16      4711\n",
      "weighted avg       0.23      0.26      0.23      4711\n",
      "\n"
     ]
    },
    {
     "name": "stderr",
     "output_type": "stream",
     "text": [
      "\r",
      " 12%|█▏        | 3/26 [04:01<31:19, 81.73s/it]"
     ]
    },
    {
     "name": "stdout",
     "output_type": "stream",
     "text": [
      "Index(['temperature', 'holiday', 'day'], dtype='object')\n",
      "For 3 features: \n",
      " Accuracy: 0.2235430393198725 \n",
      " Precision: 0.16457308316709654 \n",
      " Recall: 0.1894381926842282 \n",
      " F1 score: 0.15104254706821907\n",
      "              precision    recall  f1-score   support\n",
      "\n",
      "        10.0       0.44      0.46      0.45      1529\n",
      "        20.0       0.13      0.09      0.11       794\n",
      "        30.0       0.06      0.03      0.04       468\n",
      "        40.0       0.15      0.32      0.21       558\n",
      "        50.0       0.02      0.20      0.04        91\n",
      "        60.0       0.00      0.00      0.00       796\n",
      "       100.0       0.26      0.20      0.23       469\n",
      "\n",
      "    accuracy                           0.23      4705\n",
      "   macro avg       0.15      0.19      0.15      4705\n",
      "weighted avg       0.22      0.23      0.22      4705\n",
      "\n"
     ]
    },
    {
     "name": "stderr",
     "output_type": "stream",
     "text": [
      "\r",
      " 15%|█▌        | 4/26 [05:28<30:39, 83.60s/it]"
     ]
    },
    {
     "name": "stdout",
     "output_type": "stream",
     "text": [
      "Index(['temperature', 'holiday', 'day', 'month'], dtype='object')\n",
      "For 4 features: \n",
      " Accuracy: 0.2222941051287508 \n",
      " Precision: 0.18934469320770342 \n",
      " Recall: 0.18918456021217542 \n",
      " F1 score: 0.161873672603431\n",
      "              precision    recall  f1-score   support\n",
      "\n",
      "        10.0       0.46      0.43      0.44      1565\n",
      "        20.0       0.20      0.10      0.14       808\n",
      "        30.0       0.08      0.16      0.11       462\n",
      "        40.0       0.06      0.02      0.03       548\n",
      "        50.0       0.02      0.34      0.05        90\n",
      "        60.0       0.19      0.02      0.04       767\n",
      "       100.0       0.28      0.21      0.24       459\n",
      "\n",
      "    accuracy                           0.21      4699\n",
      "   macro avg       0.18      0.19      0.15      4699\n",
      "weighted avg       0.26      0.21      0.22      4699\n",
      "\n"
     ]
    },
    {
     "name": "stderr",
     "output_type": "stream",
     "text": [
      "\r",
      " 19%|█▉        | 5/26 [07:02<30:39, 87.61s/it]"
     ]
    },
    {
     "name": "stdout",
     "output_type": "stream",
     "text": [
      "Index(['temperature', 'holiday', 'day', 'month', 'pressure'], dtype='object')\n",
      "For 5 features: \n",
      " Accuracy: 0.24206477732793522 \n",
      " Precision: 0.2120357396779304 \n",
      " Recall: 0.21360527531401058 \n",
      " F1 score: 0.18060311400883022\n",
      "              precision    recall  f1-score   support\n",
      "\n",
      "        10.0       0.48      0.45      0.47      1534\n",
      "        20.0       0.18      0.07      0.10       790\n",
      "        30.0       0.07      0.07      0.07       463\n",
      "        40.0       0.17      0.25      0.20       562\n",
      "        50.0       0.03      0.31      0.06        88\n",
      "        60.0       0.24      0.06      0.09       803\n",
      "       100.0       0.24      0.34      0.28       453\n",
      "\n",
      "    accuracy                           0.24      4693\n",
      "   macro avg       0.20      0.22      0.18      4693\n",
      "weighted avg       0.28      0.24      0.24      4693\n",
      "\n"
     ]
    },
    {
     "name": "stderr",
     "output_type": "stream",
     "text": [
      "\r",
      " 23%|██▎       | 6/26 [08:42<30:36, 91.82s/it]"
     ]
    },
    {
     "name": "stdout",
     "output_type": "stream",
     "text": [
      "Index(['temperature', 'holiday', 'day', 'month', 'pressure', 'day.1'], dtype='object')\n",
      "For 6 features: \n",
      " Accuracy: 0.25323447834435675 \n",
      " Precision: 0.21230056516753912 \n",
      " Recall: 0.2329141022713888 \n",
      " F1 score: 0.18589591877932146\n",
      "              precision    recall  f1-score   support\n",
      "\n",
      "        10.0       0.51      0.48      0.49      1541\n",
      "        20.0       0.17      0.06      0.09       761\n",
      "        30.0       0.08      0.03      0.04       472\n",
      "        40.0       0.17      0.24      0.20       545\n",
      "        50.0       0.04      0.45      0.07        76\n",
      "        60.0       0.29      0.07      0.12       797\n",
      "       100.0       0.23      0.44      0.30       495\n",
      "\n",
      "    accuracy                           0.27      4687\n",
      "   macro avg       0.21      0.25      0.19      4687\n",
      "weighted avg       0.30      0.27      0.26      4687\n",
      "\n"
     ]
    },
    {
     "name": "stderr",
     "output_type": "stream",
     "text": [
      "\r",
      " 27%|██▋       | 7/26 [10:36<31:18, 98.85s/it]"
     ]
    },
    {
     "name": "stdout",
     "output_type": "stream",
     "text": [
      "Index(['temperature', 'holiday', 'day', 'month', 'pressure', 'day.1',\n",
      "       'shower rain'],\n",
      "      dtype='object')\n",
      "For 7 features: \n",
      " Accuracy: 0.24812005981627858 \n",
      " Precision: 0.20663880673575963 \n",
      " Recall: 0.2288188952105885 \n",
      " F1 score: 0.18206238288308751\n",
      "              precision    recall  f1-score   support\n",
      "\n",
      "        10.0       0.49      0.46      0.48      1517\n",
      "        20.0       0.12      0.04      0.06       784\n",
      "        30.0       0.09      0.07      0.08       466\n",
      "        40.0       0.15      0.12      0.14       512\n",
      "        50.0       0.04      0.40      0.07        98\n",
      "        60.0       0.29      0.11      0.15       797\n",
      "       100.0       0.25      0.43      0.32       507\n",
      "\n",
      "    accuracy                           0.25      4681\n",
      "   macro avg       0.21      0.23      0.19      4681\n",
      "weighted avg       0.28      0.25      0.25      4681\n",
      "\n"
     ]
    },
    {
     "name": "stderr",
     "output_type": "stream",
     "text": [
      "\r",
      " 31%|███       | 8/26 [12:29<31:00, 103.34s/it]"
     ]
    },
    {
     "name": "stdout",
     "output_type": "stream",
     "text": [
      "Index(['temperature', 'holiday', 'day', 'month', 'pressure', 'day.1',\n",
      "       'shower rain', 'broken clouds'],\n",
      "      dtype='object')\n",
      "For 8 features: \n",
      " Accuracy: 0.246951871657754 \n",
      " Precision: 0.2102910633625852 \n",
      " Recall: 0.22900170431128739 \n",
      " F1 score: 0.18327152692727225\n",
      "              precision    recall  f1-score   support\n",
      "\n",
      "        10.0       0.45      0.43      0.44      1479\n",
      "        20.0       0.18      0.05      0.07       791\n",
      "        30.0       0.11      0.09      0.10       483\n",
      "        40.0       0.16      0.19      0.17       555\n",
      "        50.0       0.03      0.31      0.05        89\n",
      "        60.0       0.20      0.06      0.10       813\n",
      "       100.0       0.23      0.33      0.27       465\n",
      "\n",
      "    accuracy                           0.23      4675\n",
      "   macro avg       0.19      0.21      0.17      4675\n",
      "weighted avg       0.26      0.23      0.23      4675\n",
      "\n"
     ]
    },
    {
     "name": "stderr",
     "output_type": "stream",
     "text": [
      "\r",
      " 35%|███▍      | 9/26 [14:58<33:20, 117.66s/it]"
     ]
    },
    {
     "name": "stdout",
     "output_type": "stream",
     "text": [
      "Index(['temperature', 'holiday', 'day', 'month', 'pressure', 'day.1',\n",
      "       'shower rain', 'broken clouds', 'fog'],\n",
      "      dtype='object')\n",
      "For 9 features: \n",
      " Accuracy: 0.2459455986292568 \n",
      " Precision: 0.20679898081174136 \n",
      " Recall: 0.2293018521882973 \n",
      " F1 score: 0.18262874536807297\n",
      "              precision    recall  f1-score   support\n",
      "\n",
      "        10.0       0.48      0.48      0.48      1468\n",
      "        20.0       0.14      0.03      0.05       811\n",
      "        30.0       0.08      0.08      0.08       493\n",
      "        40.0       0.14      0.10      0.12       543\n",
      "        50.0       0.03      0.36      0.05        86\n",
      "        60.0       0.29      0.11      0.16       785\n",
      "       100.0       0.29      0.45      0.35       483\n",
      "\n",
      "    accuracy                           0.25      4669\n",
      "   macro avg       0.21      0.23      0.18      4669\n",
      "weighted avg       0.28      0.25      0.25      4669\n",
      "\n"
     ]
    },
    {
     "name": "stderr",
     "output_type": "stream",
     "text": [
      "\r",
      " 38%|███▊      | 10/26 [17:36<34:42, 130.16s/it]"
     ]
    },
    {
     "name": "stdout",
     "output_type": "stream",
     "text": [
      "Index(['temperature', 'holiday', 'day', 'month', 'pressure', 'day.1',\n",
      "       'shower rain', 'broken clouds', 'fog', 'overcast clouds'],\n",
      "      dtype='object')\n",
      "For 10 features: \n",
      " Accuracy: 0.24565730216598755 \n",
      " Precision: 0.20775489463478264 \n",
      " Recall: 0.22780702919640847 \n",
      " F1 score: 0.1819085481251815\n",
      "              precision    recall  f1-score   support\n",
      "\n",
      "        10.0       0.47      0.43      0.45      1525\n",
      "        20.0       0.18      0.07      0.10       841\n",
      "        30.0       0.09      0.08      0.08       451\n",
      "        40.0       0.18      0.20      0.19       552\n",
      "        50.0       0.03      0.39      0.06        87\n",
      "        60.0       0.37      0.04      0.07       758\n",
      "       100.0       0.25      0.43      0.31       449\n",
      "\n",
      "    accuracy                           0.24      4663\n",
      "   macro avg       0.22      0.23      0.18      4663\n",
      "weighted avg       0.30      0.24      0.24      4663\n",
      "\n"
     ]
    },
    {
     "name": "stderr",
     "output_type": "stream",
     "text": [
      "\r",
      " 42%|████▏     | 11/26 [20:17<34:53, 139.58s/it]"
     ]
    },
    {
     "name": "stdout",
     "output_type": "stream",
     "text": [
      "Index(['temperature', 'holiday', 'day', 'month', 'pressure', 'day.1',\n",
      "       'shower rain', 'broken clouds', 'fog', 'overcast clouds',\n",
      "       'heavy intensity rain'],\n",
      "      dtype='object')\n",
      "For 11 features: \n",
      " Accuracy: 0.24686708181232553 \n",
      " Precision: 0.20328770947042027 \n",
      " Recall: 0.22521033453959566 \n",
      " F1 score: 0.1803407852249618\n",
      "              precision    recall  f1-score   support\n",
      "\n",
      "        10.0       0.51      0.46      0.48      1497\n",
      "        20.0       0.21      0.12      0.15       809\n",
      "        30.0       0.09      0.08      0.09       463\n",
      "        40.0       0.15      0.18      0.16       534\n",
      "        50.0       0.02      0.25      0.04        79\n",
      "        60.0       0.25      0.04      0.06       796\n",
      "       100.0       0.23      0.42      0.30       479\n",
      "\n",
      "    accuracy                           0.25      4657\n",
      "   macro avg       0.21      0.22      0.18      4657\n",
      "weighted avg       0.29      0.25      0.25      4657\n",
      "\n"
     ]
    },
    {
     "name": "stderr",
     "output_type": "stream",
     "text": [
      "\r",
      " 46%|████▌     | 12/26 [23:03<34:26, 147.61s/it]"
     ]
    },
    {
     "name": "stdout",
     "output_type": "stream",
     "text": [
      "Index(['temperature', 'holiday', 'day', 'month', 'pressure', 'day.1',\n",
      "       'shower rain', 'broken clouds', 'fog', 'overcast clouds',\n",
      "       'heavy intensity rain', 'minute'],\n",
      "      dtype='object')\n",
      "For 12 features: \n",
      " Accuracy: 0.24686304020640723 \n",
      " Precision: 0.20305651202194047 \n",
      " Recall: 0.2248487520056206 \n",
      " F1 score: 0.1812720502979726\n",
      "              precision    recall  f1-score   support\n",
      "\n",
      "        10.0       0.49      0.46      0.47      1514\n",
      "        20.0       0.17      0.08      0.11       825\n",
      "        30.0       0.10      0.05      0.06       482\n",
      "        40.0       0.17      0.22      0.19       501\n",
      "        50.0       0.03      0.31      0.05        87\n",
      "        60.0       0.32      0.06      0.10       759\n",
      "       100.0       0.23      0.44      0.30       483\n",
      "\n",
      "    accuracy                           0.25      4651\n",
      "   macro avg       0.22      0.23      0.19      4651\n",
      "weighted avg       0.30      0.25      0.25      4651\n",
      "\n"
     ]
    },
    {
     "name": "stderr",
     "output_type": "stream",
     "text": [
      "\r",
      " 50%|█████     | 13/26 [26:00<33:55, 156.55s/it]"
     ]
    },
    {
     "name": "stdout",
     "output_type": "stream",
     "text": [
      "Index(['temperature', 'holiday', 'day', 'month', 'pressure', 'day.1',\n",
      "       'shower rain', 'broken clouds', 'fog', 'overcast clouds',\n",
      "       'heavy intensity rain', 'minute', 'haze'],\n",
      "      dtype='object')\n",
      "For 13 features: \n",
      " Accuracy: 0.2474682454251884 \n",
      " Precision: 0.20465515069244888 \n",
      " Recall: 0.22477831961565434 \n",
      " F1 score: 0.18138997728270947\n",
      "              precision    recall  f1-score   support\n",
      "\n",
      "        10.0       0.49      0.46      0.47      1485\n",
      "        20.0       0.15      0.07      0.09       806\n",
      "        30.0       0.09      0.05      0.06       457\n",
      "        40.0       0.17      0.15      0.16       543\n",
      "        50.0       0.03      0.36      0.06        88\n",
      "        60.0       0.27      0.09      0.14       812\n",
      "       100.0       0.19      0.41      0.26       454\n",
      "\n",
      "    accuracy                           0.24      4645\n",
      "   macro avg       0.20      0.23      0.18      4645\n",
      "weighted avg       0.28      0.24      0.24      4645\n",
      "\n"
     ]
    },
    {
     "name": "stderr",
     "output_type": "stream",
     "text": [
      "\r",
      " 54%|█████▍    | 14/26 [29:04<32:57, 164.81s/it]"
     ]
    },
    {
     "name": "stdout",
     "output_type": "stream",
     "text": [
      "Index(['temperature', 'holiday', 'day', 'month', 'pressure', 'day.1',\n",
      "       'shower rain', 'broken clouds', 'fog', 'overcast clouds',\n",
      "       'heavy intensity rain', 'minute', 'haze',\n",
      "       'thunderstorm with light rain'],\n",
      "      dtype='object')\n",
      "For 14 features: \n",
      " Accuracy: 0.24645828842422937 \n",
      " Precision: 0.2039672724291667 \n",
      " Recall: 0.22349287807717136 \n",
      " F1 score: 0.1809613744596471\n",
      "              precision    recall  f1-score   support\n",
      "\n",
      "        10.0       0.50      0.47      0.48      1503\n",
      "        20.0       0.19      0.09      0.12       828\n",
      "        30.0       0.10      0.05      0.07       468\n",
      "        40.0       0.15      0.14      0.15       518\n",
      "        50.0       0.03      0.35      0.05        83\n",
      "        60.0       0.25      0.08      0.12       772\n",
      "       100.0       0.22      0.42      0.29       467\n",
      "\n",
      "    accuracy                           0.25      4639\n",
      "   macro avg       0.21      0.23      0.18      4639\n",
      "weighted avg       0.29      0.25      0.25      4639\n",
      "\n"
     ]
    },
    {
     "name": "stderr",
     "output_type": "stream",
     "text": [
      "\r",
      " 58%|█████▊    | 15/26 [32:26<32:16, 176.09s/it]"
     ]
    },
    {
     "name": "stdout",
     "output_type": "stream",
     "text": [
      "Index(['temperature', 'holiday', 'day', 'month', 'pressure', 'day.1',\n",
      "       'shower rain', 'broken clouds', 'fog', 'overcast clouds',\n",
      "       'heavy intensity rain', 'minute', 'haze',\n",
      "       'thunderstorm with light rain', 'scattered clouds'],\n",
      "      dtype='object')\n",
      "For 15 features: \n",
      " Accuracy: 0.24694582344053528 \n",
      " Precision: 0.20521279879756466 \n",
      " Recall: 0.22448715846450482 \n",
      " F1 score: 0.1821934213007371\n",
      "              precision    recall  f1-score   support\n",
      "\n",
      "        10.0       0.49      0.43      0.46      1564\n",
      "        20.0       0.20      0.12      0.15       773\n",
      "        30.0       0.07      0.07      0.07       451\n",
      "        40.0       0.17      0.15      0.16       536\n",
      "        50.0       0.03      0.33      0.06        83\n",
      "        60.0       0.32      0.10      0.15       760\n",
      "       100.0       0.23      0.39      0.29       466\n",
      "\n",
      "    accuracy                           0.25      4633\n",
      "   macro avg       0.22      0.23      0.19      4633\n",
      "weighted avg       0.30      0.25      0.26      4633\n",
      "\n"
     ]
    },
    {
     "name": "stderr",
     "output_type": "stream",
     "text": [
      "\r",
      " 62%|██████▏   | 16/26 [35:56<31:02, 186.27s/it]"
     ]
    },
    {
     "name": "stdout",
     "output_type": "stream",
     "text": [
      "Index(['temperature', 'holiday', 'day', 'month', 'pressure', 'day.1',\n",
      "       'shower rain', 'broken clouds', 'fog', 'overcast clouds',\n",
      "       'heavy intensity rain', 'minute', 'haze',\n",
      "       'thunderstorm with light rain', 'scattered clouds', 'clear sky'],\n",
      "      dtype='object')\n",
      "For 16 features: \n",
      " Accuracy: 0.2483228874000432 \n",
      " Precision: 0.20545820206839474 \n",
      " Recall: 0.22609409161317726 \n",
      " F1 score: 0.18310978211141085\n",
      "              precision    recall  f1-score   support\n",
      "\n",
      "        10.0       0.48      0.46      0.47      1439\n",
      "        20.0       0.20      0.09      0.12       820\n",
      "        30.0       0.11      0.08      0.09       459\n",
      "        40.0       0.14      0.17      0.15       540\n",
      "        50.0       0.04      0.37      0.07        92\n",
      "        60.0       0.29      0.07      0.11       812\n",
      "       100.0       0.23      0.40      0.29       465\n",
      "\n",
      "    accuracy                           0.25      4627\n",
      "   macro avg       0.21      0.23      0.19      4627\n",
      "weighted avg       0.29      0.25      0.25      4627\n",
      "\n"
     ]
    },
    {
     "name": "stderr",
     "output_type": "stream",
     "text": [
      "\r",
      " 65%|██████▌   | 17/26 [39:29<29:07, 194.20s/it]"
     ]
    },
    {
     "name": "stdout",
     "output_type": "stream",
     "text": [
      "Index(['temperature', 'holiday', 'day', 'month', 'pressure', 'day.1',\n",
      "       'shower rain', 'broken clouds', 'fog', 'overcast clouds',\n",
      "       'heavy intensity rain', 'minute', 'haze',\n",
      "       'thunderstorm with light rain', 'scattered clouds', 'clear sky',\n",
      "       'mist'],\n",
      "      dtype='object')\n",
      "For 17 features: \n",
      " Accuracy: 0.24816273533867128 \n",
      " Precision: 0.2051291487070981 \n",
      " Recall: 0.2261522780500925 \n",
      " F1 score: 0.1834506917943755\n",
      "              precision    recall  f1-score   support\n",
      "\n",
      "        10.0       0.49      0.45      0.47      1525\n",
      "        20.0       0.18      0.09      0.12       738\n",
      "        30.0       0.08      0.06      0.06       487\n",
      "        40.0       0.16      0.25      0.20       520\n",
      "        50.0       0.04      0.38      0.07        81\n",
      "        60.0       0.22      0.06      0.09       776\n",
      "       100.0       0.26      0.38      0.31       494\n",
      "\n",
      "    accuracy                           0.26      4621\n",
      "   macro avg       0.20      0.24      0.19      4621\n",
      "weighted avg       0.28      0.26      0.25      4621\n",
      "\n"
     ]
    },
    {
     "name": "stderr",
     "output_type": "stream",
     "text": [
      "\r",
      " 69%|██████▉   | 18/26 [42:58<26:30, 198.78s/it]"
     ]
    },
    {
     "name": "stdout",
     "output_type": "stream",
     "text": [
      "Index(['temperature', 'holiday', 'day', 'month', 'pressure', 'day.1',\n",
      "       'shower rain', 'broken clouds', 'fog', 'overcast clouds',\n",
      "       'heavy intensity rain', 'minute', 'haze',\n",
      "       'thunderstorm with light rain', 'scattered clouds', 'clear sky', 'mist',\n",
      "       'light intensity drizzle'],\n",
      "      dtype='object')\n",
      "For 18 features: \n",
      " Accuracy: 0.24904225352112677 \n",
      " Precision: 0.2054380138182523 \n",
      " Recall: 0.22592185477810325 \n",
      " F1 score: 0.1840111991375001\n",
      "              precision    recall  f1-score   support\n",
      "\n",
      "        10.0       0.48      0.43      0.45      1539\n",
      "        20.0       0.21      0.13      0.16       806\n",
      "        30.0       0.07      0.08      0.07       493\n",
      "        40.0       0.15      0.18      0.17       500\n",
      "        50.0       0.03      0.33      0.06        75\n",
      "        60.0       0.23      0.05      0.08       761\n",
      "       100.0       0.24      0.41      0.30       441\n",
      "\n",
      "    accuracy                           0.25      4615\n",
      "   macro avg       0.20      0.23      0.18      4615\n",
      "weighted avg       0.28      0.25      0.25      4615\n",
      "\n"
     ]
    },
    {
     "name": "stderr",
     "output_type": "stream",
     "text": [
      "\r",
      " 73%|███████▎  | 19/26 [46:35<23:48, 204.07s/it]"
     ]
    },
    {
     "name": "stdout",
     "output_type": "stream",
     "text": [
      "Index(['temperature', 'holiday', 'day', 'month', 'pressure', 'day.1',\n",
      "       'shower rain', 'broken clouds', 'fog', 'overcast clouds',\n",
      "       'heavy intensity rain', 'minute', 'haze',\n",
      "       'thunderstorm with light rain', 'scattered clouds', 'clear sky', 'mist',\n",
      "       'light intensity drizzle', 'few clouds'],\n",
      "      dtype='object')\n",
      "For 19 features: \n",
      " Accuracy: 0.24918420481666306 \n",
      " Precision: 0.20591554083031846 \n",
      " Recall: 0.22616559816976836 \n",
      " F1 score: 0.18419709683287114\n",
      "              precision    recall  f1-score   support\n",
      "\n",
      "        10.0       0.50      0.44      0.47      1522\n",
      "        20.0       0.17      0.11      0.13       790\n",
      "        30.0       0.05      0.02      0.03       435\n",
      "        40.0       0.16      0.19      0.17       524\n",
      "        50.0       0.03      0.32      0.06        81\n",
      "        60.0       0.26      0.05      0.09       798\n",
      "       100.0       0.21      0.44      0.28       459\n",
      "\n",
      "    accuracy                           0.25      4609\n",
      "   macro avg       0.20      0.22      0.18      4609\n",
      "weighted avg       0.28      0.25      0.24      4609\n",
      "\n"
     ]
    },
    {
     "name": "stderr",
     "output_type": "stream",
     "text": [
      "\r",
      " 77%|███████▋  | 20/26 [50:13<20:50, 208.41s/it]"
     ]
    },
    {
     "name": "stdout",
     "output_type": "stream",
     "text": [
      "Index(['temperature', 'holiday', 'day', 'month', 'pressure', 'day.1',\n",
      "       'shower rain', 'broken clouds', 'fog', 'overcast clouds',\n",
      "       'heavy intensity rain', 'minute', 'haze',\n",
      "       'thunderstorm with light rain', 'scattered clouds', 'clear sky', 'mist',\n",
      "       'light intensity drizzle', 'few clouds', 'thunderstorm'],\n",
      "      dtype='object')\n",
      "For 20 features: \n",
      " Accuracy: 0.24961764066912884 \n",
      " Precision: 0.20972950427804976 \n",
      " Recall: 0.2288420566039503 \n",
      " F1 score: 0.186010002883257\n",
      "              precision    recall  f1-score   support\n",
      "\n",
      "        10.0       0.51      0.44      0.47      1517\n",
      "        20.0       0.18      0.10      0.13       782\n",
      "        30.0       0.07      0.03      0.04       459\n",
      "        40.0       0.15      0.22      0.18       510\n",
      "        50.0       0.03      0.37      0.06        84\n",
      "        60.0       0.22      0.06      0.10       788\n",
      "       100.0       0.24      0.39      0.30       463\n",
      "\n",
      "    accuracy                           0.25      4603\n",
      "   macro avg       0.20      0.23      0.18      4603\n",
      "weighted avg       0.29      0.25      0.25      4603\n",
      "\n"
     ]
    },
    {
     "name": "stderr",
     "output_type": "stream",
     "text": [
      "\r",
      " 81%|████████  | 21/26 [53:55<17:41, 212.39s/it]"
     ]
    },
    {
     "name": "stdout",
     "output_type": "stream",
     "text": [
      "Index(['temperature', 'holiday', 'day', 'month', 'pressure', 'day.1',\n",
      "       'shower rain', 'broken clouds', 'fog', 'overcast clouds',\n",
      "       'heavy intensity rain', 'minute', 'haze',\n",
      "       'thunderstorm with light rain', 'scattered clouds', 'clear sky', 'mist',\n",
      "       'light intensity drizzle', 'few clouds', 'thunderstorm',\n",
      "       'very heavy rain'],\n",
      "      dtype='object')\n",
      "For 21 features: \n",
      " Accuracy: 0.2497411355231673 \n",
      " Precision: 0.20904895338904209 \n",
      " Recall: 0.22858814446391781 \n",
      " F1 score: 0.18624868316157414\n",
      "              precision    recall  f1-score   support\n",
      "\n",
      "        10.0       0.51      0.45      0.48      1514\n",
      "        20.0       0.20      0.10      0.13       776\n",
      "        30.0       0.10      0.08      0.09       448\n",
      "        40.0       0.16      0.22      0.18       504\n",
      "        50.0       0.03      0.32      0.06        77\n",
      "        60.0       0.27      0.07      0.11       791\n",
      "       100.0       0.25      0.43      0.31       487\n",
      "\n",
      "    accuracy                           0.26      4597\n",
      "   macro avg       0.22      0.24      0.20      4597\n",
      "weighted avg       0.30      0.26      0.26      4597\n",
      "\n"
     ]
    },
    {
     "name": "stderr",
     "output_type": "stream",
     "text": [
      "\r",
      " 85%|████████▍ | 22/26 [57:26<14:08, 212.01s/it]"
     ]
    },
    {
     "name": "stdout",
     "output_type": "stream",
     "text": [
      "Index(['temperature', 'holiday', 'day', 'month', 'pressure', 'day.1',\n",
      "       'shower rain', 'broken clouds', 'fog', 'overcast clouds',\n",
      "       'heavy intensity rain', 'minute', 'haze',\n",
      "       'thunderstorm with light rain', 'scattered clouds', 'clear sky', 'mist',\n",
      "       'light intensity drizzle', 'few clouds', 'thunderstorm',\n",
      "       'very heavy rain', 'moderate rain'],\n",
      "      dtype='object')\n",
      "For 22 features: \n",
      " Accuracy: 0.24934654759311697 \n",
      " Precision: 0.20953080142439254 \n",
      " Recall: 0.22955602473043576 \n",
      " F1 score: 0.18638565385394237\n",
      "              precision    recall  f1-score   support\n",
      "\n",
      "        10.0       0.49      0.45      0.47      1497\n",
      "        20.0       0.18      0.08      0.12       803\n",
      "        30.0       0.06      0.05      0.05       440\n",
      "        40.0       0.15      0.25      0.19       506\n",
      "        50.0       0.03      0.31      0.06        81\n",
      "        60.0       0.24      0.04      0.07       775\n",
      "       100.0       0.25      0.39      0.31       489\n",
      "\n",
      "    accuracy                           0.25      4591\n",
      "   macro avg       0.20      0.23      0.18      4591\n",
      "weighted avg       0.28      0.25      0.24      4591\n",
      "\n"
     ]
    },
    {
     "name": "stderr",
     "output_type": "stream",
     "text": [
      "\r",
      " 88%|████████▊ | 23/26 [1:00:46<10:24, 208.31s/it]"
     ]
    },
    {
     "name": "stdout",
     "output_type": "stream",
     "text": [
      "Index(['temperature', 'holiday', 'day', 'month', 'pressure', 'day.1',\n",
      "       'shower rain', 'broken clouds', 'fog', 'overcast clouds',\n",
      "       'heavy intensity rain', 'minute', 'haze',\n",
      "       'thunderstorm with light rain', 'scattered clouds', 'clear sky', 'mist',\n",
      "       'light intensity drizzle', 'few clouds', 'thunderstorm',\n",
      "       'very heavy rain', 'moderate rain', 'thunderstorm with rain'],\n",
      "      dtype='object')\n",
      "For 23 features: \n",
      " Accuracy: 0.24747655398037077 \n",
      " Precision: 0.20723419447719812 \n",
      " Recall: 0.22820307162308778 \n",
      " F1 score: 0.18513853872658814\n",
      "              precision    recall  f1-score   support\n",
      "\n",
      "        10.0       0.51      0.45      0.48      1511\n",
      "        20.0       0.16      0.08      0.11       753\n",
      "        30.0       0.07      0.06      0.07       458\n",
      "        40.0       0.18      0.20      0.19       545\n",
      "        50.0       0.03      0.32      0.05        88\n",
      "        60.0       0.21      0.06      0.10       783\n",
      "       100.0       0.23      0.38      0.28       447\n",
      "\n",
      "    accuracy                           0.25      4585\n",
      "   macro avg       0.20      0.22      0.18      4585\n",
      "weighted avg       0.28      0.25      0.25      4585\n",
      "\n"
     ]
    },
    {
     "name": "stderr",
     "output_type": "stream",
     "text": [
      "\r",
      " 92%|█████████▏| 24/26 [1:04:12<06:55, 207.73s/it]"
     ]
    },
    {
     "name": "stdout",
     "output_type": "stream",
     "text": [
      "Index(['temperature', 'holiday', 'day', 'month', 'pressure', 'day.1',\n",
      "       'shower rain', 'broken clouds', 'fog', 'overcast clouds',\n",
      "       'heavy intensity rain', 'minute', 'haze',\n",
      "       'thunderstorm with light rain', 'scattered clouds', 'clear sky', 'mist',\n",
      "       'light intensity drizzle', 'few clouds', 'thunderstorm',\n",
      "       'very heavy rain', 'moderate rain', 'thunderstorm with rain', 'year'],\n",
      "      dtype='object')\n",
      "For 24 features: \n",
      " Accuracy: 0.2979493339157021 \n",
      " Precision: 0.2327672887309784 \n",
      " Recall: 0.25156614351933554 \n",
      " F1 score: 0.20537951426878276\n",
      "              precision    recall  f1-score   support\n",
      "\n",
      "        10.0       0.57      0.59      0.58      1535\n",
      "        20.0       0.16      0.07      0.10       766\n",
      "        30.0       0.12      0.09      0.10       459\n",
      "        40.0       0.20      0.21      0.20       513\n",
      "        50.0       0.03      0.31      0.06        77\n",
      "        60.0       0.37      0.07      0.11       760\n",
      "       100.0       0.21      0.43      0.29       469\n",
      "\n",
      "    accuracy                           0.30      4579\n",
      "   macro avg       0.24      0.25      0.21      4579\n",
      "weighted avg       0.34      0.30      0.29      4579\n",
      "\n"
     ]
    },
    {
     "name": "stderr",
     "output_type": "stream",
     "text": [
      "\r",
      " 96%|█████████▌| 25/26 [1:08:08<03:36, 216.28s/it]"
     ]
    },
    {
     "name": "stdout",
     "output_type": "stream",
     "text": [
      "Index(['temperature', 'holiday', 'day', 'month', 'pressure', 'day.1',\n",
      "       'shower rain', 'broken clouds', 'fog', 'overcast clouds',\n",
      "       'heavy intensity rain', 'minute', 'haze',\n",
      "       'thunderstorm with light rain', 'scattered clouds', 'clear sky', 'mist',\n",
      "       'light intensity drizzle', 'few clouds', 'thunderstorm',\n",
      "       'very heavy rain', 'moderate rain', 'thunderstorm with rain', 'year',\n",
      "       'light rain'],\n",
      "      dtype='object')\n",
      "For 25 features: \n",
      " Accuracy: 0.29703695604635905 \n",
      " Precision: 0.23128640545469065 \n",
      " Recall: 0.2513544258135914 \n",
      " F1 score: 0.20459949279736345\n",
      "              precision    recall  f1-score   support\n",
      "\n",
      "        10.0       0.58      0.56      0.57      1518\n",
      "        20.0       0.17      0.06      0.09       763\n",
      "        30.0       0.10      0.09      0.10       461\n",
      "        40.0       0.22      0.22      0.22       538\n",
      "        50.0       0.05      0.39      0.09        83\n",
      "        60.0       0.29      0.08      0.13       728\n",
      "       100.0       0.21      0.48      0.29       482\n",
      "\n",
      "    accuracy                           0.30      4573\n",
      "   macro avg       0.23      0.27      0.21      4573\n",
      "weighted avg       0.32      0.30      0.29      4573\n",
      "\n"
     ]
    },
    {
     "name": "stderr",
     "output_type": "stream",
     "text": [
      "100%|██████████| 26/26 [1:12:49<00:00, 168.04s/it]\n"
     ]
    },
    {
     "name": "stdout",
     "output_type": "stream",
     "text": [
      "Index(['temperature', 'holiday', 'day', 'month', 'pressure', 'day.1',\n",
      "       'shower rain', 'broken clouds', 'fog', 'overcast clouds',\n",
      "       'heavy intensity rain', 'minute', 'haze',\n",
      "       'thunderstorm with light rain', 'scattered clouds', 'clear sky', 'mist',\n",
      "       'light intensity drizzle', 'few clouds', 'thunderstorm',\n",
      "       'very heavy rain', 'moderate rain', 'thunderstorm with rain', 'year',\n",
      "       'light rain', 'humidity'],\n",
      "      dtype='object')\n",
      "For 26 features: \n",
      " Accuracy: 0.29814101160499235 \n",
      " Precision: 0.22909095235669846 \n",
      " Recall: 0.248689557644325 \n",
      " F1 score: 0.20526399271323556\n",
      "              precision    recall  f1-score   support\n",
      "\n",
      "        10.0       0.56      0.59      0.57      1475\n",
      "        20.0       0.16      0.06      0.09       791\n",
      "        30.0       0.13      0.10      0.11       466\n",
      "        40.0       0.20      0.20      0.20       533\n",
      "        50.0       0.04      0.33      0.07        82\n",
      "        60.0       0.18      0.04      0.06       739\n",
      "       100.0       0.23      0.44      0.30       481\n",
      "\n",
      "    accuracy                           0.29      4567\n",
      "   macro avg       0.21      0.25      0.20      4567\n",
      "weighted avg       0.30      0.29      0.28      4567\n",
      "\n",
      "\n",
      " \n",
      "\n",
      "------------------------- Analyzing method Kendalls_correlation -------------------------\n",
      "The variable order is: \n",
      " ['temperature', 'holiday', 'month', 'day', 'pressure', 'day.1', 'shower rain', 'broken clouds', 'heavy intensity rain', 'fog', 'year', 'overcast clouds', 'minute', 'haze', 'thunderstorm with light rain', 'mist', 'light intensity drizzle', 'scattered clouds', 'clear sky', 'few clouds', 'thunderstorm', 'very heavy rain', 'moderate rain', 'thunderstorm with rain', 'light rain', 'humidity', 'hour', 'Pandemic']\n"
     ]
    },
    {
     "name": "stderr",
     "output_type": "stream",
     "text": [
      "  4%|▍         | 1/26 [01:17<32:16, 77.48s/it]"
     ]
    },
    {
     "name": "stdout",
     "output_type": "stream",
     "text": [
      "Index(['temperature'], dtype='object')\n",
      "For 1 features: \n",
      " Accuracy: 0.22981144485858365 \n",
      " Precision: 0.16278224942401034 \n",
      " Recall: 0.1792328713370143 \n",
      " F1 score: 0.11840820824939527\n",
      "              precision    recall  f1-score   support\n",
      "\n",
      "        10.0       0.44      0.54      0.49      1494\n",
      "        20.0       0.18      0.08      0.11       751\n",
      "        30.0       0.11      0.02      0.03       461\n",
      "        40.0       0.10      0.02      0.03       529\n",
      "        50.0       0.02      0.60      0.05        85\n",
      "        60.0       0.15      0.01      0.02       749\n",
      "       100.0       0.11      0.01      0.02       492\n",
      "\n",
      "    accuracy                           0.21      4561\n",
      "   macro avg       0.16      0.18      0.11      4561\n",
      "weighted avg       0.23      0.21      0.19      4561\n",
      "\n"
     ]
    },
    {
     "name": "stderr",
     "output_type": "stream",
     "text": [
      "\r",
      "  8%|▊         | 2/26 [02:42<32:48, 82.01s/it]"
     ]
    },
    {
     "name": "stdout",
     "output_type": "stream",
     "text": [
      "Index(['temperature', 'holiday'], dtype='object')\n",
      "For 2 features: \n",
      " Accuracy: 0.24597804610318333 \n",
      " Precision: 0.15763867747566837 \n",
      " Recall: 0.19503064503416268 \n",
      " F1 score: 0.15441024834268097\n",
      "              precision    recall  f1-score   support\n",
      "\n",
      "        10.0       0.46      0.47      0.46      1549\n",
      "        20.0       0.18      0.11      0.13       744\n",
      "        30.0       0.08      0.06      0.07       448\n",
      "        40.0       0.14      0.17      0.15       527\n",
      "        50.0       0.03      0.37      0.05        86\n",
      "        60.0       0.00      0.00      0.00       730\n",
      "       100.0       0.27      0.21      0.24       471\n",
      "\n",
      "    accuracy                           0.23      4555\n",
      "   macro avg       0.16      0.20      0.16      4555\n",
      "weighted avg       0.24      0.23      0.23      4555\n",
      "\n"
     ]
    },
    {
     "name": "stderr",
     "output_type": "stream",
     "text": [
      "\r",
      " 12%|█▏        | 3/26 [04:10<32:31, 84.83s/it]"
     ]
    },
    {
     "name": "stdout",
     "output_type": "stream",
     "text": [
      "Index(['temperature', 'holiday', 'month'], dtype='object')\n",
      "For 3 features: \n",
      " Accuracy: 0.23312816003517256 \n",
      " Precision: 0.1746748146769746 \n",
      " Recall: 0.19056930065717942 \n",
      " F1 score: 0.16035898688270522\n",
      "              precision    recall  f1-score   support\n",
      "\n",
      "        10.0       0.48      0.44      0.46      1515\n",
      "        20.0       0.20      0.13      0.15       798\n",
      "        30.0       0.09      0.12      0.10       453\n",
      "        40.0       0.16      0.35      0.22       511\n",
      "        50.0       0.01      0.06      0.02        84\n",
      "        60.0       0.00      0.00      0.00       724\n",
      "       100.0       0.27      0.21      0.24       464\n",
      "\n",
      "    accuracy                           0.24      4549\n",
      "   macro avg       0.17      0.19      0.17      4549\n",
      "weighted avg       0.25      0.24      0.24      4549\n",
      "\n"
     ]
    },
    {
     "name": "stderr",
     "output_type": "stream",
     "text": [
      "\r",
      " 15%|█▌        | 4/26 [05:41<31:55, 87.07s/it]"
     ]
    },
    {
     "name": "stdout",
     "output_type": "stream",
     "text": [
      "Index(['temperature', 'holiday', 'month', 'day'], dtype='object')\n",
      "For 4 features: \n",
      " Accuracy: 0.22652872551177636 \n",
      " Precision: 0.18634165773633077 \n",
      " Recall: 0.18617533339016487 \n",
      " F1 score: 0.16262233283219943\n",
      "              precision    recall  f1-score   support\n",
      "\n",
      "        10.0       0.45      0.42      0.44      1490\n",
      "        20.0       0.15      0.08      0.11       773\n",
      "        30.0       0.09      0.17      0.12       446\n",
      "        40.0       0.15      0.27      0.19       517\n",
      "        50.0       0.03      0.17      0.05        88\n",
      "        60.0       0.17      0.02      0.03       755\n",
      "       100.0       0.29      0.22      0.25       474\n",
      "\n",
      "    accuracy                           0.23      4543\n",
      "   macro avg       0.19      0.19      0.17      4543\n",
      "weighted avg       0.26      0.23      0.23      4543\n",
      "\n"
     ]
    },
    {
     "name": "stderr",
     "output_type": "stream",
     "text": [
      "\r",
      " 19%|█▉        | 5/26 [07:21<32:05, 91.67s/it]"
     ]
    },
    {
     "name": "stdout",
     "output_type": "stream",
     "text": [
      "Index(['temperature', 'holiday', 'month', 'day', 'pressure'], dtype='object')\n",
      "For 5 features: \n",
      " Accuracy: 0.2433678642274631 \n",
      " Precision: 0.20955842835323205 \n",
      " Recall: 0.209611303804455 \n",
      " F1 score: 0.18022004013650958\n",
      "              precision    recall  f1-score   support\n",
      "\n",
      "        10.0       0.48      0.47      0.47      1468\n",
      "        20.0       0.18      0.09      0.12       782\n",
      "        30.0       0.11      0.11      0.11       445\n",
      "        40.0       0.14      0.24      0.18       496\n",
      "        50.0       0.02      0.17      0.04        83\n",
      "        60.0       0.38      0.07      0.12       782\n",
      "       100.0       0.22      0.27      0.24       481\n",
      "\n",
      "    accuracy                           0.25      4537\n",
      "   macro avg       0.22      0.20      0.18      4537\n",
      "weighted avg       0.30      0.25      0.25      4537\n",
      "\n"
     ]
    },
    {
     "name": "stderr",
     "output_type": "stream",
     "text": [
      "\r",
      " 23%|██▎       | 6/26 [09:05<31:57, 95.86s/it]"
     ]
    },
    {
     "name": "stdout",
     "output_type": "stream",
     "text": [
      "Index(['temperature', 'holiday', 'month', 'day', 'pressure', 'day.1'], dtype='object')\n",
      "For 6 features: \n",
      " Accuracy: 0.2525667623041271 \n",
      " Precision: 0.20621861357783774 \n",
      " Recall: 0.23143501391170668 \n",
      " F1 score: 0.18237779179319696\n",
      "              precision    recall  f1-score   support\n",
      "\n",
      "        10.0       0.46      0.47      0.47      1477\n",
      "        20.0       0.16      0.06      0.08       827\n",
      "        30.0       0.08      0.08      0.08       448\n",
      "        40.0       0.17      0.20      0.18       514\n",
      "        50.0       0.05      0.25      0.08        92\n",
      "        60.0       0.26      0.09      0.13       727\n",
      "       100.0       0.23      0.47      0.31       446\n",
      "\n",
      "    accuracy                           0.26      4531\n",
      "   macro avg       0.20      0.23      0.19      4531\n",
      "weighted avg       0.27      0.26      0.25      4531\n",
      "\n"
     ]
    },
    {
     "name": "stderr",
     "output_type": "stream",
     "text": [
      "\r",
      " 27%|██▋       | 7/26 [10:46<30:57, 97.78s/it]"
     ]
    },
    {
     "name": "stdout",
     "output_type": "stream",
     "text": [
      "Index(['temperature', 'holiday', 'month', 'day', 'pressure', 'day.1',\n",
      "       'shower rain'],\n",
      "      dtype='object')\n",
      "For 7 features: \n",
      " Accuracy: 0.2515911602209945 \n",
      " Precision: 0.20616085078924962 \n",
      " Recall: 0.23203101077537155 \n",
      " F1 score: 0.18333424706080276\n",
      "              precision    recall  f1-score   support\n",
      "\n",
      "        10.0       0.51      0.44      0.47      1539\n",
      "        20.0       0.07      0.01      0.02       771\n",
      "        30.0       0.11      0.06      0.08       432\n",
      "        40.0       0.15      0.19      0.17       509\n",
      "        50.0       0.03      0.34      0.06        89\n",
      "        60.0       0.25      0.09      0.13       758\n",
      "       100.0       0.22      0.47      0.30       427\n",
      "\n",
      "    accuracy                           0.25      4525\n",
      "   macro avg       0.19      0.23      0.18      4525\n",
      "weighted avg       0.28      0.25      0.24      4525\n",
      "\n"
     ]
    },
    {
     "name": "stderr",
     "output_type": "stream",
     "text": [
      "\r",
      " 31%|███       | 8/26 [12:25<29:24, 98.02s/it]"
     ]
    },
    {
     "name": "stdout",
     "output_type": "stream",
     "text": [
      "Index(['temperature', 'holiday', 'month', 'day', 'pressure', 'day.1',\n",
      "       'shower rain', 'broken clouds'],\n",
      "      dtype='object')\n",
      "For 8 features: \n",
      " Accuracy: 0.2511816773622483 \n",
      " Precision: 0.20945228762446885 \n",
      " Recall: 0.23094900648225156 \n",
      " F1 score: 0.18475202879716807\n",
      "              precision    recall  f1-score   support\n",
      "\n",
      "        10.0       0.51      0.46      0.48      1545\n",
      "        20.0       0.16      0.07      0.09       749\n",
      "        30.0       0.08      0.06      0.07       417\n",
      "        40.0       0.15      0.12      0.13       526\n",
      "        50.0       0.04      0.42      0.07        88\n",
      "        60.0       0.29      0.09      0.14       713\n",
      "       100.0       0.23      0.45      0.31       481\n",
      "\n",
      "    accuracy                           0.26      4519\n",
      "   macro avg       0.21      0.24      0.19      4519\n",
      "weighted avg       0.30      0.26      0.26      4519\n",
      "\n"
     ]
    },
    {
     "name": "stderr",
     "output_type": "stream",
     "text": [
      "\r",
      " 35%|███▍      | 9/26 [14:05<27:56, 98.60s/it]"
     ]
    },
    {
     "name": "stdout",
     "output_type": "stream",
     "text": [
      "Index(['temperature', 'holiday', 'month', 'day', 'pressure', 'day.1',\n",
      "       'shower rain', 'broken clouds', 'heavy intensity rain'],\n",
      "      dtype='object')\n",
      "For 9 features: \n",
      " Accuracy: 0.2496188787945934 \n",
      " Precision: 0.20410344589062557 \n",
      " Recall: 0.2272473411791806 \n",
      " F1 score: 0.181059557425749\n",
      "              precision    recall  f1-score   support\n",
      "\n",
      "        10.0       0.50      0.45      0.47      1499\n",
      "        20.0       0.20      0.07      0.11       762\n",
      "        30.0       0.11      0.05      0.07       452\n",
      "        40.0       0.16      0.18      0.17       512\n",
      "        50.0       0.03      0.30      0.05        89\n",
      "        60.0       0.28      0.06      0.10       763\n",
      "       100.0       0.20      0.44      0.28       436\n",
      "\n",
      "    accuracy                           0.25      4513\n",
      "   macro avg       0.21      0.22      0.18      4513\n",
      "weighted avg       0.30      0.25      0.25      4513\n",
      "\n"
     ]
    },
    {
     "name": "stderr",
     "output_type": "stream",
     "text": [
      "\r",
      " 38%|███▊      | 10/26 [16:22<29:26, 110.38s/it]"
     ]
    },
    {
     "name": "stdout",
     "output_type": "stream",
     "text": [
      "Index(['temperature', 'holiday', 'month', 'day', 'pressure', 'day.1',\n",
      "       'shower rain', 'broken clouds', 'heavy intensity rain', 'fog'],\n",
      "      dtype='object')\n",
      "For 10 features: \n",
      " Accuracy: 0.2491324606168183 \n",
      " Precision: 0.20407668443715926 \n",
      " Recall: 0.22773701533259594 \n",
      " F1 score: 0.1812016653253092\n",
      "              precision    recall  f1-score   support\n",
      "\n",
      "        10.0       0.48      0.42      0.45      1503\n",
      "        20.0       0.13      0.03      0.05       788\n",
      "        30.0       0.11      0.08      0.10       438\n",
      "        40.0       0.16      0.22      0.19       513\n",
      "        50.0       0.04      0.36      0.06        91\n",
      "        60.0       0.31      0.08      0.12       727\n",
      "       100.0       0.21      0.43      0.28       447\n",
      "\n",
      "    accuracy                           0.24      4507\n",
      "   macro avg       0.21      0.23      0.18      4507\n",
      "weighted avg       0.29      0.24      0.24      4507\n",
      "\n"
     ]
    },
    {
     "name": "stderr",
     "output_type": "stream",
     "text": [
      "\r",
      " 42%|████▏     | 11/26 [19:05<31:41, 126.74s/it]"
     ]
    },
    {
     "name": "stdout",
     "output_type": "stream",
     "text": [
      "Index(['temperature', 'holiday', 'month', 'day', 'pressure', 'day.1',\n",
      "       'shower rain', 'broken clouds', 'heavy intensity rain', 'fog', 'year'],\n",
      "      dtype='object')\n",
      "For 11 features: \n",
      " Accuracy: 0.29988891357476116 \n",
      " Precision: 0.237308866752935 \n",
      " Recall: 0.25380187378110974 \n",
      " F1 score: 0.20512899037812946\n",
      "              precision    recall  f1-score   support\n",
      "\n",
      "        10.0       0.55      0.58      0.56      1524\n",
      "        20.0       0.19      0.07      0.10       764\n",
      "        30.0       0.08      0.06      0.06       436\n",
      "        40.0       0.20      0.16      0.17       483\n",
      "        50.0       0.03      0.24      0.05        80\n",
      "        60.0       0.40      0.11      0.17       756\n",
      "       100.0       0.22      0.47      0.30       458\n",
      "\n",
      "    accuracy                           0.30      4501\n",
      "   macro avg       0.24      0.24      0.20      4501\n",
      "weighted avg       0.34      0.30      0.29      4501\n",
      "\n"
     ]
    },
    {
     "name": "stderr",
     "output_type": "stream",
     "text": [
      "\r",
      " 46%|████▌     | 12/26 [21:58<32:47, 140.55s/it]"
     ]
    },
    {
     "name": "stdout",
     "output_type": "stream",
     "text": [
      "Index(['temperature', 'holiday', 'month', 'day', 'pressure', 'day.1',\n",
      "       'shower rain', 'broken clouds', 'heavy intensity rain', 'fog', 'year',\n",
      "       'overcast clouds'],\n",
      "      dtype='object')\n",
      "For 12 features: \n",
      " Accuracy: 0.2973882091212458 \n",
      " Precision: 0.23249097193793047 \n",
      " Recall: 0.2505123234041336 \n",
      " F1 score: 0.20287070771604704\n",
      "              precision    recall  f1-score   support\n",
      "\n",
      "        10.0       0.57      0.58      0.58      1532\n",
      "        20.0       0.20      0.07      0.10       783\n",
      "        30.0       0.10      0.10      0.10       422\n",
      "        40.0       0.20      0.14      0.17       482\n",
      "        50.0       0.03      0.27      0.06        78\n",
      "        60.0       0.39      0.11      0.17       743\n",
      "       100.0       0.23      0.52      0.32       455\n",
      "\n",
      "    accuracy                           0.31      4495\n",
      "   macro avg       0.24      0.25      0.21      4495\n",
      "weighted avg       0.35      0.31      0.30      4495\n",
      "\n"
     ]
    },
    {
     "name": "stderr",
     "output_type": "stream",
     "text": [
      "\r",
      " 50%|█████     | 13/26 [24:57<33:00, 152.35s/it]"
     ]
    },
    {
     "name": "stdout",
     "output_type": "stream",
     "text": [
      "Index(['temperature', 'holiday', 'month', 'day', 'pressure', 'day.1',\n",
      "       'shower rain', 'broken clouds', 'heavy intensity rain', 'fog', 'year',\n",
      "       'overcast clouds', 'minute'],\n",
      "      dtype='object')\n",
      "For 13 features: \n",
      " Accuracy: 0.2959746045889953 \n",
      " Precision: 0.23133030820092193 \n",
      " Recall: 0.24988830424008107 \n",
      " F1 score: 0.2020632899936998\n",
      "              precision    recall  f1-score   support\n",
      "\n",
      "        10.0       0.58      0.58      0.58      1535\n",
      "        20.0       0.15      0.06      0.08       734\n",
      "        30.0       0.11      0.09      0.10       464\n",
      "        40.0       0.23      0.14      0.17       467\n",
      "        50.0       0.03      0.28      0.05        74\n",
      "        60.0       0.39      0.12      0.19       751\n",
      "       100.0       0.22      0.50      0.30       464\n",
      "\n",
      "    accuracy                           0.31      4489\n",
      "   macro avg       0.24      0.25      0.21      4489\n",
      "weighted avg       0.34      0.31      0.30      4489\n",
      "\n"
     ]
    },
    {
     "name": "stderr",
     "output_type": "stream",
     "text": [
      "\r",
      " 54%|█████▍    | 14/26 [28:03<32:30, 162.56s/it]"
     ]
    },
    {
     "name": "stdout",
     "output_type": "stream",
     "text": [
      "Index(['temperature', 'holiday', 'month', 'day', 'pressure', 'day.1',\n",
      "       'shower rain', 'broken clouds', 'heavy intensity rain', 'fog', 'year',\n",
      "       'overcast clouds', 'minute', 'haze'],\n",
      "      dtype='object')\n",
      "For 14 features: \n",
      " Accuracy: 0.296205665848762 \n",
      " Precision: 0.2312671130328116 \n",
      " Recall: 0.2486235373477588 \n",
      " F1 score: 0.20158777629663907\n",
      "              precision    recall  f1-score   support\n",
      "\n",
      "        10.0       0.58      0.56      0.57      1550\n",
      "        20.0       0.18      0.07      0.10       771\n",
      "        30.0       0.08      0.06      0.07       431\n",
      "        40.0       0.17      0.13      0.15       477\n",
      "        50.0       0.05      0.38      0.08        89\n",
      "        60.0       0.37      0.07      0.12       739\n",
      "       100.0       0.20      0.51      0.29       426\n",
      "\n",
      "    accuracy                           0.29      4483\n",
      "   macro avg       0.23      0.26      0.20      4483\n",
      "weighted avg       0.34      0.29      0.29      4483\n",
      "\n"
     ]
    },
    {
     "name": "stderr",
     "output_type": "stream",
     "text": [
      "\r",
      " 58%|█████▊    | 15/26 [31:24<31:54, 174.01s/it]"
     ]
    },
    {
     "name": "stdout",
     "output_type": "stream",
     "text": [
      "Index(['temperature', 'holiday', 'month', 'day', 'pressure', 'day.1',\n",
      "       'shower rain', 'broken clouds', 'heavy intensity rain', 'fog', 'year',\n",
      "       'overcast clouds', 'minute', 'haze', 'thunderstorm with light rain'],\n",
      "      dtype='object')\n",
      "For 15 features: \n",
      " Accuracy: 0.29663390663390665 \n",
      " Precision: 0.2304304791410818 \n",
      " Recall: 0.2510131475482687 \n",
      " F1 score: 0.20221281473343594\n",
      "              precision    recall  f1-score   support\n",
      "\n",
      "        10.0       0.57      0.59      0.58      1506\n",
      "        20.0       0.19      0.07      0.10       755\n",
      "        30.0       0.11      0.07      0.09       444\n",
      "        40.0       0.18      0.18      0.18       494\n",
      "        50.0       0.03      0.33      0.06        69\n",
      "        60.0       0.36      0.09      0.15       739\n",
      "       100.0       0.23      0.48      0.31       470\n",
      "\n",
      "    accuracy                           0.31      4477\n",
      "   macro avg       0.24      0.26      0.21      4477\n",
      "weighted avg       0.34      0.31      0.30      4477\n",
      "\n"
     ]
    },
    {
     "name": "stderr",
     "output_type": "stream",
     "text": [
      "\r",
      " 62%|██████▏   | 16/26 [34:53<30:46, 184.61s/it]"
     ]
    },
    {
     "name": "stdout",
     "output_type": "stream",
     "text": [
      "Index(['temperature', 'holiday', 'month', 'day', 'pressure', 'day.1',\n",
      "       'shower rain', 'broken clouds', 'heavy intensity rain', 'fog', 'year',\n",
      "       'overcast clouds', 'minute', 'haze', 'thunderstorm with light rain',\n",
      "       'mist'],\n",
      "      dtype='object')\n",
      "For 16 features: \n",
      " Accuracy: 0.2972668306866473 \n",
      " Precision: 0.23173296880849925 \n",
      " Recall: 0.2506024407818973 \n",
      " F1 score: 0.20235646118598874\n",
      "              precision    recall  f1-score   support\n",
      "\n",
      "        10.0       0.58      0.58      0.58      1525\n",
      "        20.0       0.16      0.05      0.07       771\n",
      "        30.0       0.11      0.09      0.10       443\n",
      "        40.0       0.17      0.11      0.14       491\n",
      "        50.0       0.04      0.33      0.07        84\n",
      "        60.0       0.36      0.10      0.16       715\n",
      "       100.0       0.21      0.52      0.30       442\n",
      "\n",
      "    accuracy                           0.30      4471\n",
      "   macro avg       0.23      0.26      0.20      4471\n",
      "weighted avg       0.33      0.30      0.29      4471\n",
      "\n"
     ]
    },
    {
     "name": "stderr",
     "output_type": "stream",
     "text": [
      "\r",
      " 65%|██████▌   | 17/26 [38:30<29:09, 194.42s/it]"
     ]
    },
    {
     "name": "stdout",
     "output_type": "stream",
     "text": [
      "Index(['temperature', 'holiday', 'month', 'day', 'pressure', 'day.1',\n",
      "       'shower rain', 'broken clouds', 'heavy intensity rain', 'fog', 'year',\n",
      "       'overcast clouds', 'minute', 'haze', 'thunderstorm with light rain',\n",
      "       'mist', 'light intensity drizzle'],\n",
      "      dtype='object')\n",
      "For 17 features: \n",
      " Accuracy: 0.29422844344904814 \n",
      " Precision: 0.22869519757290735 \n",
      " Recall: 0.24763080404920101 \n",
      " F1 score: 0.20008482202557132\n",
      "              precision    recall  f1-score   support\n",
      "\n",
      "        10.0       0.57      0.56      0.56      1490\n",
      "        20.0       0.18      0.04      0.07       757\n",
      "        30.0       0.09      0.07      0.08       431\n",
      "        40.0       0.16      0.12      0.14       489\n",
      "        50.0       0.03      0.28      0.05        75\n",
      "        60.0       0.32      0.10      0.16       772\n",
      "       100.0       0.21      0.53      0.30       451\n",
      "\n",
      "    accuracy                           0.29      4465\n",
      "   macro avg       0.22      0.24      0.20      4465\n",
      "weighted avg       0.32      0.29      0.28      4465\n",
      "\n"
     ]
    },
    {
     "name": "stderr",
     "output_type": "stream",
     "text": [
      "\r",
      " 69%|██████▉   | 18/26 [42:11<26:58, 202.35s/it]"
     ]
    },
    {
     "name": "stdout",
     "output_type": "stream",
     "text": [
      "Index(['temperature', 'holiday', 'month', 'day', 'pressure', 'day.1',\n",
      "       'shower rain', 'broken clouds', 'heavy intensity rain', 'fog', 'year',\n",
      "       'overcast clouds', 'minute', 'haze', 'thunderstorm with light rain',\n",
      "       'mist', 'light intensity drizzle', 'scattered clouds'],\n",
      "      dtype='object')\n",
      "For 18 features: \n",
      " Accuracy: 0.29667638483965014 \n",
      " Precision: 0.23178685341484628 \n",
      " Recall: 0.2495382906708927 \n",
      " F1 score: 0.2033028237343344\n",
      "              precision    recall  f1-score   support\n",
      "\n",
      "        10.0       0.59      0.57      0.58      1510\n",
      "        20.0       0.14      0.05      0.08       720\n",
      "        30.0       0.11      0.10      0.10       447\n",
      "        40.0       0.18      0.18      0.18       475\n",
      "        50.0       0.04      0.34      0.07        77\n",
      "        60.0       0.35      0.10      0.15       737\n",
      "       100.0       0.24      0.48      0.32       493\n",
      "\n",
      "    accuracy                           0.31      4459\n",
      "   macro avg       0.24      0.26      0.21      4459\n",
      "weighted avg       0.34      0.31      0.30      4459\n",
      "\n"
     ]
    },
    {
     "name": "stderr",
     "output_type": "stream",
     "text": [
      "\r",
      " 73%|███████▎  | 19/26 [45:36<23:41, 203.12s/it]"
     ]
    },
    {
     "name": "stdout",
     "output_type": "stream",
     "text": [
      "Index(['temperature', 'holiday', 'month', 'day', 'pressure', 'day.1',\n",
      "       'shower rain', 'broken clouds', 'heavy intensity rain', 'fog', 'year',\n",
      "       'overcast clouds', 'minute', 'haze', 'thunderstorm with light rain',\n",
      "       'mist', 'light intensity drizzle', 'scattered clouds', 'clear sky'],\n",
      "      dtype='object')\n",
      "For 19 features: \n",
      " Accuracy: 0.29607680215584997 \n",
      " Precision: 0.23108264356876648 \n",
      " Recall: 0.24729157491550582 \n",
      " F1 score: 0.20315390204546077\n",
      "              precision    recall  f1-score   support\n",
      "\n",
      "        10.0       0.57      0.57      0.57      1489\n",
      "        20.0       0.18      0.07      0.10       770\n",
      "        30.0       0.08      0.10      0.09       440\n",
      "        40.0       0.20      0.14      0.17       504\n",
      "        50.0       0.04      0.33      0.08        84\n",
      "        60.0       0.35      0.08      0.13       705\n",
      "       100.0       0.23      0.49      0.31       461\n",
      "\n",
      "    accuracy                           0.30      4453\n",
      "   macro avg       0.24      0.25      0.21      4453\n",
      "weighted avg       0.33      0.30      0.29      4453\n",
      "\n"
     ]
    },
    {
     "name": "stderr",
     "output_type": "stream",
     "text": [
      "\r",
      " 77%|███████▋  | 20/26 [48:53<20:07, 201.22s/it]"
     ]
    },
    {
     "name": "stdout",
     "output_type": "stream",
     "text": [
      "Index(['temperature', 'holiday', 'month', 'day', 'pressure', 'day.1',\n",
      "       'shower rain', 'broken clouds', 'heavy intensity rain', 'fog', 'year',\n",
      "       'overcast clouds', 'minute', 'haze', 'thunderstorm with light rain',\n",
      "       'mist', 'light intensity drizzle', 'scattered clouds', 'clear sky',\n",
      "       'few clouds'],\n",
      "      dtype='object')\n",
      "For 20 features: \n",
      " Accuracy: 0.3001124353496739 \n",
      " Precision: 0.23278458885072792 \n",
      " Recall: 0.2467394137455364 \n",
      " F1 score: 0.20685869405065424\n",
      "              precision    recall  f1-score   support\n",
      "\n",
      "        10.0       0.58      0.55      0.57      1498\n",
      "        20.0       0.15      0.06      0.09       762\n",
      "        30.0       0.09      0.10      0.09       407\n",
      "        40.0       0.18      0.24      0.20       466\n",
      "        50.0       0.05      0.28      0.09        99\n",
      "        60.0       0.41      0.05      0.09       768\n",
      "       100.0       0.22      0.49      0.30       447\n",
      "\n",
      "    accuracy                           0.29      4447\n",
      "   macro avg       0.24      0.25      0.20      4447\n",
      "weighted avg       0.34      0.29      0.28      4447\n",
      "\n"
     ]
    },
    {
     "name": "stderr",
     "output_type": "stream",
     "text": [
      "\r",
      " 81%|████████  | 21/26 [52:10<16:40, 200.06s/it]"
     ]
    },
    {
     "name": "stdout",
     "output_type": "stream",
     "text": [
      "Index(['temperature', 'holiday', 'month', 'day', 'pressure', 'day.1',\n",
      "       'shower rain', 'broken clouds', 'heavy intensity rain', 'fog', 'year',\n",
      "       'overcast clouds', 'minute', 'haze', 'thunderstorm with light rain',\n",
      "       'mist', 'light intensity drizzle', 'scattered clouds', 'clear sky',\n",
      "       'few clouds', 'thunderstorm'],\n",
      "      dtype='object')\n",
      "For 21 features: \n",
      " Accuracy: 0.2971808151317271 \n",
      " Precision: 0.23207997041998363 \n",
      " Recall: 0.24685236968728871 \n",
      " F1 score: 0.20569378762025203\n",
      "              precision    recall  f1-score   support\n",
      "\n",
      "        10.0       0.59      0.52      0.55      1503\n",
      "        20.0       0.13      0.06      0.08       753\n",
      "        30.0       0.09      0.08      0.08       454\n",
      "        40.0       0.21      0.24      0.22       481\n",
      "        50.0       0.02      0.19      0.04        79\n",
      "        60.0       0.28      0.04      0.08       699\n",
      "       100.0       0.22      0.49      0.31       472\n",
      "\n",
      "    accuracy                           0.28      4441\n",
      "   macro avg       0.22      0.23      0.19      4441\n",
      "weighted avg       0.32      0.28      0.28      4441\n",
      "\n"
     ]
    },
    {
     "name": "stderr",
     "output_type": "stream",
     "text": [
      "\r",
      " 85%|████████▍ | 22/26 [55:36<13:27, 201.84s/it]"
     ]
    },
    {
     "name": "stdout",
     "output_type": "stream",
     "text": [
      "Index(['temperature', 'holiday', 'month', 'day', 'pressure', 'day.1',\n",
      "       'shower rain', 'broken clouds', 'heavy intensity rain', 'fog', 'year',\n",
      "       'overcast clouds', 'minute', 'haze', 'thunderstorm with light rain',\n",
      "       'mist', 'light intensity drizzle', 'scattered clouds', 'clear sky',\n",
      "       'few clouds', 'thunderstorm', 'very heavy rain'],\n",
      "      dtype='object')\n",
      "For 22 features: \n",
      " Accuracy: 0.2960067643742954 \n",
      " Precision: 0.2312696921162772 \n",
      " Recall: 0.2457142492893603 \n",
      " F1 score: 0.20543417294485194\n",
      "              precision    recall  f1-score   support\n",
      "\n",
      "        10.0       0.60      0.57      0.59      1519\n",
      "        20.0       0.19      0.07      0.10       780\n",
      "        30.0       0.12      0.14      0.13       427\n",
      "        40.0       0.22      0.25      0.24       471\n",
      "        50.0       0.03      0.23      0.05        71\n",
      "        60.0       0.32      0.06      0.10       748\n",
      "       100.0       0.20      0.45      0.27       419\n",
      "\n",
      "    accuracy                           0.30      4435\n",
      "   macro avg       0.24      0.25      0.21      4435\n",
      "weighted avg       0.35      0.30      0.30      4435\n",
      "\n"
     ]
    },
    {
     "name": "stderr",
     "output_type": "stream",
     "text": [
      "\r",
      " 88%|████████▊ | 23/26 [59:26<10:30, 210.17s/it]"
     ]
    },
    {
     "name": "stdout",
     "output_type": "stream",
     "text": [
      "Index(['temperature', 'holiday', 'month', 'day', 'pressure', 'day.1',\n",
      "       'shower rain', 'broken clouds', 'heavy intensity rain', 'fog', 'year',\n",
      "       'overcast clouds', 'minute', 'haze', 'thunderstorm with light rain',\n",
      "       'mist', 'light intensity drizzle', 'scattered clouds', 'clear sky',\n",
      "       'few clouds', 'thunderstorm', 'very heavy rain', 'moderate rain'],\n",
      "      dtype='object')\n",
      "For 23 features: \n",
      " Accuracy: 0.2963761571460826 \n",
      " Precision: 0.23240110843602926 \n",
      " Recall: 0.24716787066442508 \n",
      " F1 score: 0.20619848163230065\n",
      "              precision    recall  f1-score   support\n",
      "\n",
      "        10.0       0.56      0.55      0.55      1459\n",
      "        20.0       0.20      0.07      0.10       769\n",
      "        30.0       0.09      0.11      0.10       443\n",
      "        40.0       0.19      0.17      0.18       495\n",
      "        50.0       0.04      0.28      0.07        74\n",
      "        60.0       0.28      0.11      0.15       716\n",
      "       100.0       0.23      0.45      0.30       473\n",
      "\n",
      "    accuracy                           0.29      4429\n",
      "   macro avg       0.23      0.25      0.21      4429\n",
      "weighted avg       0.32      0.29      0.29      4429\n",
      "\n"
     ]
    },
    {
     "name": "stderr",
     "output_type": "stream",
     "text": [
      "\r",
      " 92%|█████████▏| 24/26 [1:03:16<07:12, 216.28s/it]"
     ]
    },
    {
     "name": "stdout",
     "output_type": "stream",
     "text": [
      "Index(['temperature', 'holiday', 'month', 'day', 'pressure', 'day.1',\n",
      "       'shower rain', 'broken clouds', 'heavy intensity rain', 'fog', 'year',\n",
      "       'overcast clouds', 'minute', 'haze', 'thunderstorm with light rain',\n",
      "       'mist', 'light intensity drizzle', 'scattered clouds', 'clear sky',\n",
      "       'few clouds', 'thunderstorm', 'very heavy rain', 'moderate rain',\n",
      "       'thunderstorm with rain'],\n",
      "      dtype='object')\n",
      "For 24 features: \n",
      " Accuracy: 0.2971987338910242 \n",
      " Precision: 0.2331011623525953 \n",
      " Recall: 0.24741734450238453 \n",
      " F1 score: 0.2067591901252774\n",
      "              precision    recall  f1-score   support\n",
      "\n",
      "        10.0       0.59      0.58      0.58      1474\n",
      "        20.0       0.17      0.07      0.10       750\n",
      "        30.0       0.10      0.11      0.10       417\n",
      "        40.0       0.23      0.19      0.21       503\n",
      "        50.0       0.04      0.30      0.06        74\n",
      "        60.0       0.30      0.07      0.12       744\n",
      "       100.0       0.23      0.49      0.32       461\n",
      "\n",
      "    accuracy                           0.30      4423\n",
      "   macro avg       0.24      0.26      0.21      4423\n",
      "weighted avg       0.33      0.30      0.30      4423\n",
      "\n"
     ]
    },
    {
     "name": "stderr",
     "output_type": "stream",
     "text": [
      "\r",
      " 96%|█████████▌| 25/26 [1:07:36<03:49, 229.47s/it]"
     ]
    },
    {
     "name": "stdout",
     "output_type": "stream",
     "text": [
      "Index(['temperature', 'holiday', 'month', 'day', 'pressure', 'day.1',\n",
      "       'shower rain', 'broken clouds', 'heavy intensity rain', 'fog', 'year',\n",
      "       'overcast clouds', 'minute', 'haze', 'thunderstorm with light rain',\n",
      "       'mist', 'light intensity drizzle', 'scattered clouds', 'clear sky',\n",
      "       'few clouds', 'thunderstorm', 'very heavy rain', 'moderate rain',\n",
      "       'thunderstorm with rain', 'light rain'],\n",
      "      dtype='object')\n",
      "For 25 features: \n",
      " Accuracy: 0.29529544940004526 \n",
      " Precision: 0.23393696510979017 \n",
      " Recall: 0.24526739277005283 \n",
      " F1 score: 0.20497108146870974\n",
      "              precision    recall  f1-score   support\n",
      "\n",
      "        10.0       0.57      0.56      0.57      1499\n",
      "        20.0       0.15      0.06      0.08       728\n",
      "        30.0       0.10      0.11      0.11       409\n",
      "        40.0       0.22      0.20      0.21       505\n",
      "        50.0       0.02      0.19      0.04        69\n",
      "        60.0       0.35      0.08      0.14       724\n",
      "       100.0       0.21      0.41      0.28       483\n",
      "\n",
      "    accuracy                           0.29      4417\n",
      "   macro avg       0.23      0.23      0.20      4417\n",
      "weighted avg       0.33      0.29      0.29      4417\n",
      "\n"
     ]
    },
    {
     "name": "stderr",
     "output_type": "stream",
     "text": [
      "100%|██████████| 26/26 [1:11:47<00:00, 165.68s/it]\n"
     ]
    },
    {
     "name": "stdout",
     "output_type": "stream",
     "text": [
      "Index(['temperature', 'holiday', 'month', 'day', 'pressure', 'day.1',\n",
      "       'shower rain', 'broken clouds', 'heavy intensity rain', 'fog', 'year',\n",
      "       'overcast clouds', 'minute', 'haze', 'thunderstorm with light rain',\n",
      "       'mist', 'light intensity drizzle', 'scattered clouds', 'clear sky',\n",
      "       'few clouds', 'thunderstorm', 'very heavy rain', 'moderate rain',\n",
      "       'thunderstorm with rain', 'light rain', 'humidity'],\n",
      "      dtype='object')\n",
      "For 26 features: \n",
      " Accuracy: 0.29823622761278623 \n",
      " Precision: 0.22859390896015636 \n",
      " Recall: 0.243909897063733 \n",
      " F1 score: 0.2042748721276185\n",
      "              precision    recall  f1-score   support\n",
      "\n",
      "        10.0       0.57      0.57      0.57      1484\n",
      "        20.0       0.15      0.05      0.08       728\n",
      "        30.0       0.13      0.12      0.13       441\n",
      "        40.0       0.20      0.23      0.21       482\n",
      "        50.0       0.05      0.27      0.08        98\n",
      "        60.0       0.34      0.07      0.12       702\n",
      "       100.0       0.21      0.46      0.29       476\n",
      "\n",
      "    accuracy                           0.30      4411\n",
      "   macro avg       0.24      0.25      0.21      4411\n",
      "weighted avg       0.33      0.30      0.29      4411\n",
      "\n",
      "\n",
      " \n",
      "\n",
      "------------------------- Analyzing method mutualInformation_classification -------------------------\n",
      "The variable order is: \n",
      " ['month', 'day', 'year', 'hour', 'minute', 'holiday', 'day.1', 'Pandemic', 'temperature', 'humidity', 'pressure', 'heavy intensity rain', 'light rain', 'broken clouds', 'moderate rain', 'mist', 'overcast clouds', 'clear sky', 'scattered clouds', 'thunderstorm with rain', 'few clouds', 'thunderstorm', 'shower rain', 'very heavy rain', 'fog', 'haze', 'thunderstorm with light rain', 'light intensity drizzle']\n"
     ]
    },
    {
     "name": "stderr",
     "output_type": "stream",
     "text": [
      "  4%|▍         | 1/26 [01:09<29:07, 69.88s/it]"
     ]
    },
    {
     "name": "stdout",
     "output_type": "stream",
     "text": [
      "Index(['month'], dtype='object')\n",
      "For 1 features: \n",
      " Accuracy: 0.2433416572077185 \n",
      " Precision: 0.07528330134256606 \n",
      " Recall: 0.1613917515748529 \n",
      " F1 score: 0.0910157614565604\n",
      "              precision    recall  f1-score   support\n",
      "\n",
      "        10.0       0.34      0.54      0.42      1508\n",
      "        20.0       0.00      0.00      0.00       749\n",
      "        30.0       0.00      0.00      0.00       448\n",
      "        40.0       0.00      0.00      0.00       471\n",
      "        50.0       0.00      0.00      0.00        81\n",
      "        60.0       0.00      0.00      0.00       699\n",
      "       100.0       0.13      0.60      0.22       449\n",
      "\n",
      "    accuracy                           0.25      4405\n",
      "   macro avg       0.07      0.16      0.09      4405\n",
      "weighted avg       0.13      0.25      0.17      4405\n",
      "\n"
     ]
    },
    {
     "name": "stderr",
     "output_type": "stream",
     "text": [
      "\r",
      "  8%|▊         | 2/26 [02:23<28:51, 72.15s/it]"
     ]
    },
    {
     "name": "stdout",
     "output_type": "stream",
     "text": [
      "Index(['month', 'day'], dtype='object')\n",
      "For 2 features: \n",
      " Accuracy: 0.22951579904523756 \n",
      " Precision: 0.13454234253858222 \n",
      " Recall: 0.17168968389621178 \n",
      " F1 score: 0.12733775418844462\n",
      "              precision    recall  f1-score   support\n",
      "\n",
      "        10.0       0.39      0.39      0.39      1475\n",
      "        20.0       0.17      0.05      0.08       747\n",
      "        30.0       0.07      0.08      0.07       420\n",
      "        40.0       0.00      0.00      0.00       493\n",
      "        50.0       0.00      0.00      0.00        78\n",
      "        60.0       0.17      0.19      0.18       747\n",
      "       100.0       0.14      0.45      0.21       439\n",
      "\n",
      "    accuracy                           0.22      4399\n",
      "   macro avg       0.14      0.17      0.13      4399\n",
      "weighted avg       0.21      0.22      0.20      4399\n",
      "\n"
     ]
    },
    {
     "name": "stderr",
     "output_type": "stream",
     "text": [
      "\r",
      " 12%|█▏        | 3/26 [03:52<30:35, 79.80s/it]"
     ]
    },
    {
     "name": "stdout",
     "output_type": "stream",
     "text": [
      "Index(['month', 'day', 'year'], dtype='object')\n",
      "For 3 features: \n",
      " Accuracy: 0.29144092875028454 \n",
      " Precision: 0.20033887946140047 \n",
      " Recall: 0.21069060740468196 \n",
      " F1 score: 0.1843941138944743\n",
      "              precision    recall  f1-score   support\n",
      "\n",
      "        10.0       0.54      0.58      0.56      1494\n",
      "        20.0       0.16      0.10      0.13       779\n",
      "        30.0       0.11      0.19      0.14       427\n",
      "        40.0       0.12      0.14      0.13       460\n",
      "        50.0       0.04      0.12      0.06        82\n",
      "        60.0       0.00      0.00      0.00       703\n",
      "       100.0       0.19      0.31      0.23       448\n",
      "\n",
      "    accuracy                           0.28      4393\n",
      "   macro avg       0.16      0.21      0.18      4393\n",
      "weighted avg       0.25      0.28      0.26      4393\n",
      "\n"
     ]
    },
    {
     "name": "stderr",
     "output_type": "stream",
     "text": [
      "\r",
      " 15%|█▌        | 4/26 [05:35<32:40, 89.10s/it]"
     ]
    },
    {
     "name": "stdout",
     "output_type": "stream",
     "text": [
      "Index(['month', 'day', 'year', 'hour'], dtype='object')\n",
      "For 4 features: \n",
      " Accuracy: 0.2678253932072031 \n",
      " Precision: 0.21996677560125105 \n",
      " Recall: 0.22087541731234936 \n",
      " F1 score: 0.1910963915452123\n",
      "              precision    recall  f1-score   support\n",
      "\n",
      "        10.0       0.50      0.48      0.49      1485\n",
      "        20.0       0.16      0.07      0.10       734\n",
      "        30.0       0.13      0.21      0.16       421\n",
      "        40.0       0.17      0.03      0.06       440\n",
      "        50.0       0.04      0.30      0.07        81\n",
      "        60.0       0.30      0.14      0.19       734\n",
      "       100.0       0.18      0.31      0.23       492\n",
      "\n",
      "    accuracy                           0.26      4387\n",
      "   macro avg       0.21      0.22      0.19      4387\n",
      "weighted avg       0.30      0.26      0.26      4387\n",
      "\n"
     ]
    },
    {
     "name": "stderr",
     "output_type": "stream",
     "text": [
      "\r",
      " 19%|█▉        | 5/26 [07:23<33:29, 95.69s/it]"
     ]
    },
    {
     "name": "stdout",
     "output_type": "stream",
     "text": [
      "Index(['month', 'day', 'year', 'hour', 'minute'], dtype='object')\n",
      "For 5 features: \n",
      " Accuracy: 0.26451266834056153 \n",
      " Precision: 0.2187103095137243 \n",
      " Recall: 0.2185353591483667 \n",
      " F1 score: 0.1865441194742205\n",
      "              precision    recall  f1-score   support\n",
      "\n",
      "        10.0       0.51      0.45      0.47      1516\n",
      "        20.0       0.15      0.09      0.12       722\n",
      "        30.0       0.12      0.20      0.15       428\n",
      "        40.0       0.20      0.10      0.13       457\n",
      "        50.0       0.03      0.22      0.06        79\n",
      "        60.0       0.28      0.09      0.14       717\n",
      "       100.0       0.18      0.36      0.24       462\n",
      "\n",
      "    accuracy                           0.26      4381\n",
      "   macro avg       0.21      0.22      0.19      4381\n",
      "weighted avg       0.30      0.26      0.26      4381\n",
      "\n"
     ]
    },
    {
     "name": "stderr",
     "output_type": "stream",
     "text": [
      "\r",
      " 23%|██▎       | 6/26 [09:15<33:47, 101.37s/it]"
     ]
    },
    {
     "name": "stdout",
     "output_type": "stream",
     "text": [
      "Index(['month', 'day', 'year', 'hour', 'minute', 'holiday'], dtype='object')\n",
      "For 6 features: \n",
      " Accuracy: 0.26921828571428574 \n",
      " Precision: 0.22104553972357707 \n",
      " Recall: 0.22283447611625423 \n",
      " F1 score: 0.18851327129989442\n",
      "              precision    recall  f1-score   support\n",
      "\n",
      "        10.0       0.53      0.49      0.51      1507\n",
      "        20.0       0.19      0.07      0.10       744\n",
      "        30.0       0.14      0.29      0.18       442\n",
      "        40.0       0.24      0.07      0.11       452\n",
      "        50.0       0.04      0.28      0.07        69\n",
      "        60.0       0.30      0.11      0.16       704\n",
      "       100.0       0.18      0.35      0.24       457\n",
      "\n",
      "    accuracy                           0.28      4375\n",
      "   macro avg       0.23      0.24      0.20      4375\n",
      "weighted avg       0.32      0.28      0.27      4375\n",
      "\n"
     ]
    },
    {
     "name": "stderr",
     "output_type": "stream",
     "text": [
      "\r",
      " 27%|██▋       | 7/26 [11:11<33:33, 106.00s/it]"
     ]
    },
    {
     "name": "stdout",
     "output_type": "stream",
     "text": [
      "Index(['month', 'day', 'year', 'hour', 'minute', 'holiday', 'day.1'], dtype='object')\n",
      "For 7 features: \n",
      " Accuracy: 0.28436484321355 \n",
      " Precision: 0.23934607012529613 \n",
      " Recall: 0.24021115005961052 \n",
      " F1 score: 0.20679924202188363\n",
      "              precision    recall  f1-score   support\n",
      "\n",
      "        10.0       0.52      0.49      0.50      1395\n",
      "        20.0       0.20      0.08      0.12       783\n",
      "        30.0       0.14      0.23      0.18       456\n",
      "        40.0       0.19      0.10      0.13       486\n",
      "        50.0       0.03      0.27      0.05        70\n",
      "        60.0       0.34      0.13      0.19       706\n",
      "       100.0       0.22      0.38      0.28       473\n",
      "\n",
      "    accuracy                           0.27      4369\n",
      "   macro avg       0.24      0.24      0.21      4369\n",
      "weighted avg       0.32      0.27      0.28      4369\n",
      "\n"
     ]
    },
    {
     "name": "stderr",
     "output_type": "stream",
     "text": [
      "\r",
      " 31%|███       | 8/26 [13:08<32:54, 109.68s/it]"
     ]
    },
    {
     "name": "stdout",
     "output_type": "stream",
     "text": [
      "Index(['month', 'day', 'year', 'hour', 'minute', 'holiday', 'day.1',\n",
      "       'Pandemic'],\n",
      "      dtype='object')\n",
      "For 8 features: \n",
      " Accuracy: 0.28486133394453356 \n",
      " Precision: 0.2393817442280396 \n",
      " Recall: 0.24117753222324173 \n",
      " F1 score: 0.20737850888631662\n",
      "              precision    recall  f1-score   support\n",
      "\n",
      "        10.0       0.54      0.50      0.52      1484\n",
      "        20.0       0.19      0.07      0.10       753\n",
      "        30.0       0.12      0.20      0.15       408\n",
      "        40.0       0.18      0.09      0.12       436\n",
      "        50.0       0.03      0.23      0.05        82\n",
      "        60.0       0.33      0.11      0.16       718\n",
      "       100.0       0.23      0.43      0.30       482\n",
      "\n",
      "    accuracy                           0.28      4363\n",
      "   macro avg       0.23      0.23      0.20      4363\n",
      "weighted avg       0.33      0.28      0.28      4363\n",
      "\n"
     ]
    },
    {
     "name": "stderr",
     "output_type": "stream",
     "text": [
      "\r",
      " 35%|███▍      | 9/26 [15:11<32:11, 113.62s/it]"
     ]
    },
    {
     "name": "stdout",
     "output_type": "stream",
     "text": [
      "Index(['month', 'day', 'year', 'hour', 'minute', 'holiday', 'day.1',\n",
      "       'Pandemic', 'temperature'],\n",
      "      dtype='object')\n",
      "For 9 features: \n",
      " Accuracy: 0.2877392701400046 \n",
      " Precision: 0.24009550998893414 \n",
      " Recall: 0.24197582495559758 \n",
      " F1 score: 0.21131498626397735\n",
      "              precision    recall  f1-score   support\n",
      "\n",
      "        10.0       0.58      0.51      0.54      1501\n",
      "        20.0       0.21      0.09      0.12       713\n",
      "        30.0       0.12      0.20      0.15       430\n",
      "        40.0       0.24      0.11      0.15       453\n",
      "        50.0       0.05      0.36      0.09        84\n",
      "        60.0       0.33      0.13      0.19       734\n",
      "       100.0       0.21      0.42      0.28       442\n",
      "\n",
      "    accuracy                           0.29      4357\n",
      "   macro avg       0.25      0.26      0.22      4357\n",
      "weighted avg       0.35      0.29      0.30      4357\n",
      "\n"
     ]
    },
    {
     "name": "stderr",
     "output_type": "stream",
     "text": [
      "\r",
      " 38%|███▊      | 10/26 [17:18<31:24, 117.79s/it]"
     ]
    },
    {
     "name": "stdout",
     "output_type": "stream",
     "text": [
      "Index(['month', 'day', 'year', 'hour', 'minute', 'holiday', 'day.1',\n",
      "       'Pandemic', 'temperature', 'humidity'],\n",
      "      dtype='object')\n",
      "For 10 features: \n",
      " Accuracy: 0.2949804642610894 \n",
      " Precision: 0.23468877722711362 \n",
      " Recall: 0.2470537467565753 \n",
      " F1 score: 0.2124643874156464\n",
      "              precision    recall  f1-score   support\n",
      "\n",
      "        10.0       0.57      0.51      0.54      1491\n",
      "        20.0       0.16      0.07      0.09       740\n",
      "        30.0       0.15      0.22      0.18       457\n",
      "        40.0       0.23      0.17      0.20       453\n",
      "        50.0       0.03      0.23      0.05        84\n",
      "        60.0       0.27      0.09      0.13       673\n",
      "       100.0       0.23      0.45      0.31       453\n",
      "\n",
      "    accuracy                           0.29      4351\n",
      "   macro avg       0.24      0.25      0.21      4351\n",
      "weighted avg       0.33      0.29      0.29      4351\n",
      "\n"
     ]
    },
    {
     "name": "stderr",
     "output_type": "stream",
     "text": [
      "\r",
      " 42%|████▏     | 11/26 [19:30<30:35, 122.34s/it]"
     ]
    },
    {
     "name": "stdout",
     "output_type": "stream",
     "text": [
      "Index(['month', 'day', 'year', 'hour', 'minute', 'holiday', 'day.1',\n",
      "       'Pandemic', 'temperature', 'humidity', 'pressure'],\n",
      "      dtype='object')\n",
      "For 11 features: \n",
      " Accuracy: 0.29657077100115076 \n",
      " Precision: 0.235284534598646 \n",
      " Recall: 0.2521324052289333 \n",
      " F1 score: 0.21550899428714407\n",
      "              precision    recall  f1-score   support\n",
      "\n",
      "        10.0       0.57      0.50      0.53      1517\n",
      "        20.0       0.23      0.11      0.15       721\n",
      "        30.0       0.14      0.17      0.15       409\n",
      "        40.0       0.20      0.17      0.18       448\n",
      "        50.0       0.03      0.23      0.05        66\n",
      "        60.0       0.33      0.10      0.15       723\n",
      "       100.0       0.23      0.50      0.31       461\n",
      "\n",
      "    accuracy                           0.30      4345\n",
      "   macro avg       0.25      0.25      0.22      4345\n",
      "weighted avg       0.35      0.30      0.30      4345\n",
      "\n"
     ]
    },
    {
     "name": "stderr",
     "output_type": "stream",
     "text": [
      "\r",
      " 46%|████▌     | 12/26 [21:59<30:23, 130.23s/it]"
     ]
    },
    {
     "name": "stdout",
     "output_type": "stream",
     "text": [
      "Index(['month', 'day', 'year', 'hour', 'minute', 'holiday', 'day.1',\n",
      "       'Pandemic', 'temperature', 'humidity', 'pressure',\n",
      "       'heavy intensity rain'],\n",
      "      dtype='object')\n",
      "For 12 features: \n",
      " Accuracy: 0.2906499193362526 \n",
      " Precision: 0.23254513322820378 \n",
      " Recall: 0.24743664415762903 \n",
      " F1 score: 0.21175246230328224\n",
      "              precision    recall  f1-score   support\n",
      "\n",
      "        10.0       0.58      0.50      0.54      1462\n",
      "        20.0       0.19      0.11      0.14       758\n",
      "        30.0       0.13      0.16      0.15       402\n",
      "        40.0       0.21      0.15      0.17       475\n",
      "        50.0       0.04      0.27      0.07        91\n",
      "        60.0       0.27      0.11      0.16       712\n",
      "       100.0       0.21      0.45      0.29       439\n",
      "\n",
      "    accuracy                           0.29      4339\n",
      "   macro avg       0.23      0.25      0.22      4339\n",
      "weighted avg       0.33      0.29      0.29      4339\n",
      "\n"
     ]
    },
    {
     "name": "stderr",
     "output_type": "stream",
     "text": [
      "\r",
      " 50%|█████     | 13/26 [24:31<29:38, 136.82s/it]"
     ]
    },
    {
     "name": "stdout",
     "output_type": "stream",
     "text": [
      "Index(['month', 'day', 'year', 'hour', 'minute', 'holiday', 'day.1',\n",
      "       'Pandemic', 'temperature', 'humidity', 'pressure',\n",
      "       'heavy intensity rain', 'light rain'],\n",
      "      dtype='object')\n",
      "For 13 features: \n",
      " Accuracy: 0.29318716824371105 \n",
      " Precision: 0.23499499123102016 \n",
      " Recall: 0.2472675315889713 \n",
      " F1 score: 0.21354932065840826\n",
      "              precision    recall  f1-score   support\n",
      "\n",
      "        10.0       0.60      0.51      0.55      1479\n",
      "        20.0       0.21      0.12      0.15       748\n",
      "        30.0       0.13      0.15      0.14       434\n",
      "        40.0       0.16      0.13      0.15       432\n",
      "        50.0       0.03      0.30      0.06        81\n",
      "        60.0       0.33      0.10      0.16       724\n",
      "       100.0       0.22      0.45      0.30       435\n",
      "\n",
      "    accuracy                           0.29      4333\n",
      "   macro avg       0.24      0.25      0.21      4333\n",
      "weighted avg       0.35      0.29      0.30      4333\n",
      "\n"
     ]
    },
    {
     "name": "stderr",
     "output_type": "stream",
     "text": [
      "\r",
      " 54%|█████▍    | 14/26 [27:04<28:22, 141.85s/it]"
     ]
    },
    {
     "name": "stdout",
     "output_type": "stream",
     "text": [
      "Index(['month', 'day', 'year', 'hour', 'minute', 'holiday', 'day.1',\n",
      "       'Pandemic', 'temperature', 'humidity', 'pressure',\n",
      "       'heavy intensity rain', 'light rain', 'broken clouds'],\n",
      "      dtype='object')\n",
      "For 14 features: \n",
      " Accuracy: 0.2922579154148371 \n",
      " Precision: 0.23458805470707836 \n",
      " Recall: 0.24613548512264327 \n",
      " F1 score: 0.21160374098292875\n",
      "              precision    recall  f1-score   support\n",
      "\n",
      "        10.0       0.58      0.50      0.54      1505\n",
      "        20.0       0.19      0.10      0.13       709\n",
      "        30.0       0.13      0.14      0.13       416\n",
      "        40.0       0.22      0.19      0.20       463\n",
      "        50.0       0.03      0.25      0.05        75\n",
      "        60.0       0.26      0.08      0.12       709\n",
      "       100.0       0.24      0.47      0.32       450\n",
      "\n",
      "    accuracy                           0.29      4327\n",
      "   macro avg       0.23      0.25      0.21      4327\n",
      "weighted avg       0.34      0.29      0.30      4327\n",
      "\n"
     ]
    },
    {
     "name": "stderr",
     "output_type": "stream",
     "text": [
      "\r",
      " 58%|█████▊    | 15/26 [30:25<29:16, 159.72s/it]"
     ]
    },
    {
     "name": "stdout",
     "output_type": "stream",
     "text": [
      "Index(['month', 'day', 'year', 'hour', 'minute', 'holiday', 'day.1',\n",
      "       'Pandemic', 'temperature', 'humidity', 'pressure',\n",
      "       'heavy intensity rain', 'light rain', 'broken clouds', 'moderate rain'],\n",
      "      dtype='object')\n",
      "For 15 features: \n",
      " Accuracy: 0.29374218930803053 \n",
      " Precision: 0.2355818295841537 \n",
      " Recall: 0.24757844946826865 \n",
      " F1 score: 0.2129388954342346\n",
      "              precision    recall  f1-score   support\n",
      "\n",
      "        10.0       0.58      0.54      0.56      1486\n",
      "        20.0       0.22      0.09      0.13       736\n",
      "        30.0       0.14      0.17      0.16       413\n",
      "        40.0       0.20      0.13      0.16       440\n",
      "        50.0       0.03      0.26      0.05        74\n",
      "        60.0       0.30      0.12      0.17       724\n",
      "       100.0       0.23      0.46      0.31       448\n",
      "\n",
      "    accuracy                           0.30      4321\n",
      "   macro avg       0.24      0.25      0.22      4321\n",
      "weighted avg       0.35      0.30      0.31      4321\n",
      "\n"
     ]
    },
    {
     "name": "stderr",
     "output_type": "stream",
     "text": [
      "\r",
      " 62%|██████▏   | 16/26 [33:36<28:12, 169.22s/it]"
     ]
    },
    {
     "name": "stdout",
     "output_type": "stream",
     "text": [
      "Index(['month', 'day', 'year', 'hour', 'minute', 'holiday', 'day.1',\n",
      "       'Pandemic', 'temperature', 'humidity', 'pressure',\n",
      "       'heavy intensity rain', 'light rain', 'broken clouds', 'moderate rain',\n",
      "       'mist'],\n",
      "      dtype='object')\n",
      "For 16 features: \n",
      " Accuracy: 0.29267670915411353 \n",
      " Precision: 0.23387314733239908 \n",
      " Recall: 0.2450522451559915 \n",
      " F1 score: 0.2113419579906767\n",
      "              precision    recall  f1-score   support\n",
      "\n",
      "        10.0       0.60      0.50      0.54      1537\n",
      "        20.0       0.22      0.10      0.13       702\n",
      "        30.0       0.12      0.16      0.14       418\n",
      "        40.0       0.19      0.18      0.18       451\n",
      "        50.0       0.02      0.22      0.04        63\n",
      "        60.0       0.26      0.09      0.13       712\n",
      "       100.0       0.22      0.47      0.30       432\n",
      "\n",
      "    accuracy                           0.29      4315\n",
      "   macro avg       0.23      0.24      0.21      4315\n",
      "weighted avg       0.35      0.29      0.30      4315\n",
      "\n"
     ]
    },
    {
     "name": "stderr",
     "output_type": "stream",
     "text": [
      "\r",
      " 65%|██████▌   | 17/26 [36:41<26:04, 173.88s/it]"
     ]
    },
    {
     "name": "stdout",
     "output_type": "stream",
     "text": [
      "Index(['month', 'day', 'year', 'hour', 'minute', 'holiday', 'day.1',\n",
      "       'Pandemic', 'temperature', 'humidity', 'pressure',\n",
      "       'heavy intensity rain', 'light rain', 'broken clouds', 'moderate rain',\n",
      "       'mist', 'overcast clouds'],\n",
      "      dtype='object')\n",
      "For 17 features: \n",
      " Accuracy: 0.29202135066140633 \n",
      " Precision: 0.23265563641422748 \n",
      " Recall: 0.2448170816571416 \n",
      " F1 score: 0.21132020192583423\n",
      "              precision    recall  f1-score   support\n",
      "\n",
      "        10.0       0.59      0.50      0.54      1524\n",
      "        20.0       0.22      0.11      0.15       714\n",
      "        30.0       0.11      0.17      0.13       394\n",
      "        40.0       0.20      0.16      0.18       461\n",
      "        50.0       0.04      0.31      0.07        72\n",
      "        60.0       0.25      0.10      0.14       703\n",
      "       100.0       0.25      0.48      0.33       441\n",
      "\n",
      "    accuracy                           0.30      4309\n",
      "   macro avg       0.24      0.26      0.22      4309\n",
      "weighted avg       0.34      0.30      0.30      4309\n",
      "\n"
     ]
    },
    {
     "name": "stderr",
     "output_type": "stream",
     "text": [
      "\r",
      " 69%|██████▉   | 18/26 [39:58<24:06, 180.84s/it]"
     ]
    },
    {
     "name": "stdout",
     "output_type": "stream",
     "text": [
      "Index(['month', 'day', 'year', 'hour', 'minute', 'holiday', 'day.1',\n",
      "       'Pandemic', 'temperature', 'humidity', 'pressure',\n",
      "       'heavy intensity rain', 'light rain', 'broken clouds', 'moderate rain',\n",
      "       'mist', 'overcast clouds', 'clear sky'],\n",
      "      dtype='object')\n",
      "For 18 features: \n",
      " Accuracy: 0.2927260051127121 \n",
      " Precision: 0.23268477232035084 \n",
      " Recall: 0.24494684503808492 \n",
      " F1 score: 0.21169607330485096\n",
      "              precision    recall  f1-score   support\n",
      "\n",
      "        10.0       0.58      0.53      0.55      1514\n",
      "        20.0       0.19      0.10      0.13       687\n",
      "        30.0       0.14      0.14      0.14       428\n",
      "        40.0       0.19      0.17      0.18       461\n",
      "        50.0       0.03      0.27      0.06        77\n",
      "        60.0       0.26      0.07      0.10       692\n",
      "       100.0       0.24      0.51      0.32       444\n",
      "\n",
      "    accuracy                           0.30      4303\n",
      "   macro avg       0.23      0.25      0.21      4303\n",
      "weighted avg       0.34      0.30      0.30      4303\n",
      "\n"
     ]
    },
    {
     "name": "stderr",
     "output_type": "stream",
     "text": [
      "\r",
      " 73%|███████▎  | 19/26 [43:26<22:01, 188.84s/it]"
     ]
    },
    {
     "name": "stdout",
     "output_type": "stream",
     "text": [
      "Index(['month', 'day', 'year', 'hour', 'minute', 'holiday', 'day.1',\n",
      "       'Pandemic', 'temperature', 'humidity', 'pressure',\n",
      "       'heavy intensity rain', 'light rain', 'broken clouds', 'moderate rain',\n",
      "       'mist', 'overcast clouds', 'clear sky', 'scattered clouds'],\n",
      "      dtype='object')\n",
      "For 19 features: \n",
      " Accuracy: 0.29115662089830113 \n",
      " Precision: 0.23112077369825199 \n",
      " Recall: 0.2434699284383117 \n",
      " F1 score: 0.21071578747572325\n",
      "              precision    recall  f1-score   support\n",
      "\n",
      "        10.0       0.60      0.53      0.56      1488\n",
      "        20.0       0.17      0.08      0.11       716\n",
      "        30.0       0.12      0.14      0.13       405\n",
      "        40.0       0.19      0.17      0.18       421\n",
      "        50.0       0.03      0.24      0.06        84\n",
      "        60.0       0.27      0.10      0.15       733\n",
      "       100.0       0.23      0.48      0.31       450\n",
      "\n",
      "    accuracy                           0.30      4297\n",
      "   macro avg       0.23      0.25      0.21      4297\n",
      "weighted avg       0.34      0.30      0.30      4297\n",
      "\n"
     ]
    },
    {
     "name": "stderr",
     "output_type": "stream",
     "text": [
      "\r",
      " 77%|███████▋  | 20/26 [47:14<20:03, 200.57s/it]"
     ]
    },
    {
     "name": "stdout",
     "output_type": "stream",
     "text": [
      "Index(['month', 'day', 'year', 'hour', 'minute', 'holiday', 'day.1',\n",
      "       'Pandemic', 'temperature', 'humidity', 'pressure',\n",
      "       'heavy intensity rain', 'light rain', 'broken clouds', 'moderate rain',\n",
      "       'mist', 'overcast clouds', 'clear sky', 'scattered clouds',\n",
      "       'thunderstorm with rain'],\n",
      "      dtype='object')\n",
      "For 20 features: \n",
      " Accuracy: 0.2930086226986716 \n",
      " Precision: 0.23425058291140716 \n",
      " Recall: 0.24475129998328865 \n",
      " F1 score: 0.2130887825684541\n",
      "              precision    recall  f1-score   support\n",
      "\n",
      "        10.0       0.57      0.51      0.54      1467\n",
      "        20.0       0.21      0.08      0.12       760\n",
      "        30.0       0.12      0.17      0.14       410\n",
      "        40.0       0.18      0.13      0.15       442\n",
      "        50.0       0.03      0.27      0.06        74\n",
      "        60.0       0.25      0.10      0.15       691\n",
      "       100.0       0.23      0.45      0.30       447\n",
      "\n",
      "    accuracy                           0.29      4291\n",
      "   macro avg       0.23      0.25      0.21      4291\n",
      "weighted avg       0.33      0.29      0.29      4291\n",
      "\n"
     ]
    },
    {
     "name": "stderr",
     "output_type": "stream",
     "text": [
      "\r",
      " 81%|████████  | 21/26 [51:02<17:25, 209.01s/it]"
     ]
    },
    {
     "name": "stdout",
     "output_type": "stream",
     "text": [
      "Index(['month', 'day', 'year', 'hour', 'minute', 'holiday', 'day.1',\n",
      "       'Pandemic', 'temperature', 'humidity', 'pressure',\n",
      "       'heavy intensity rain', 'light rain', 'broken clouds', 'moderate rain',\n",
      "       'mist', 'overcast clouds', 'clear sky', 'scattered clouds',\n",
      "       'thunderstorm with rain', 'few clouds'],\n",
      "      dtype='object')\n",
      "For 21 features: \n",
      " Accuracy: 0.2929451575262544 \n",
      " Precision: 0.2341966818259258 \n",
      " Recall: 0.2452049550266018 \n",
      " F1 score: 0.21271411935323145\n",
      "              precision    recall  f1-score   support\n",
      "\n",
      "        10.0       0.60      0.50      0.54      1491\n",
      "        20.0       0.21      0.10      0.14       725\n",
      "        30.0       0.14      0.17      0.16       430\n",
      "        40.0       0.18      0.14      0.16       444\n",
      "        50.0       0.03      0.29      0.06        63\n",
      "        60.0       0.29      0.13      0.18       680\n",
      "       100.0       0.23      0.50      0.32       452\n",
      "\n",
      "    accuracy                           0.30      4285\n",
      "   macro avg       0.24      0.26      0.22      4285\n",
      "weighted avg       0.35      0.30      0.31      4285\n",
      "\n"
     ]
    },
    {
     "name": "stderr",
     "output_type": "stream",
     "text": [
      "\r",
      " 85%|████████▍ | 22/26 [54:46<14:13, 213.30s/it]"
     ]
    },
    {
     "name": "stdout",
     "output_type": "stream",
     "text": [
      "Index(['month', 'day', 'year', 'hour', 'minute', 'holiday', 'day.1',\n",
      "       'Pandemic', 'temperature', 'humidity', 'pressure',\n",
      "       'heavy intensity rain', 'light rain', 'broken clouds', 'moderate rain',\n",
      "       'mist', 'overcast clouds', 'clear sky', 'scattered clouds',\n",
      "       'thunderstorm with rain', 'few clouds', 'thunderstorm'],\n",
      "      dtype='object')\n",
      "For 22 features: \n",
      " Accuracy: 0.29345407805562046 \n",
      " Precision: 0.236664218734054 \n",
      " Recall: 0.2473072019877648 \n",
      " F1 score: 0.21381544909011693\n",
      "              precision    recall  f1-score   support\n",
      "\n",
      "        10.0       0.58      0.50      0.54      1502\n",
      "        20.0       0.23      0.10      0.14       722\n",
      "        30.0       0.09      0.11      0.10       395\n",
      "        40.0       0.19      0.18      0.19       440\n",
      "        50.0       0.03      0.28      0.05        65\n",
      "        60.0       0.28      0.08      0.13       698\n",
      "       100.0       0.24      0.47      0.32       457\n",
      "\n",
      "    accuracy                           0.29      4279\n",
      "   macro avg       0.24      0.25      0.21      4279\n",
      "weighted avg       0.34      0.29      0.30      4279\n",
      "\n"
     ]
    },
    {
     "name": "stderr",
     "output_type": "stream",
     "text": [
      "\r",
      " 88%|████████▊ | 23/26 [58:21<10:41, 213.83s/it]"
     ]
    },
    {
     "name": "stdout",
     "output_type": "stream",
     "text": [
      "Index(['month', 'day', 'year', 'hour', 'minute', 'holiday', 'day.1',\n",
      "       'Pandemic', 'temperature', 'humidity', 'pressure',\n",
      "       'heavy intensity rain', 'light rain', 'broken clouds', 'moderate rain',\n",
      "       'mist', 'overcast clouds', 'clear sky', 'scattered clouds',\n",
      "       'thunderstorm with rain', 'few clouds', 'thunderstorm', 'shower rain'],\n",
      "      dtype='object')\n",
      "For 23 features: \n",
      " Accuracy: 0.29400187222092206 \n",
      " Precision: 0.23726656343841573 \n",
      " Recall: 0.24695628165501857 \n",
      " F1 score: 0.21437885370048015\n",
      "              precision    recall  f1-score   support\n",
      "\n",
      "        10.0       0.60      0.52      0.56      1483\n",
      "        20.0       0.21      0.11      0.14       709\n",
      "        30.0       0.14      0.19      0.16       417\n",
      "        40.0       0.14      0.07      0.10       434\n",
      "        50.0       0.02      0.22      0.04        76\n",
      "        60.0       0.24      0.09      0.13       709\n",
      "       100.0       0.23      0.47      0.31       445\n",
      "\n",
      "    accuracy                           0.29      4273\n",
      "   macro avg       0.23      0.24      0.21      4273\n",
      "weighted avg       0.34      0.29      0.30      4273\n",
      "\n"
     ]
    },
    {
     "name": "stderr",
     "output_type": "stream",
     "text": [
      "\r",
      " 92%|█████████▏| 24/26 [1:02:32<07:30, 225.02s/it]"
     ]
    },
    {
     "name": "stdout",
     "output_type": "stream",
     "text": [
      "Index(['month', 'day', 'year', 'hour', 'minute', 'holiday', 'day.1',\n",
      "       'Pandemic', 'temperature', 'humidity', 'pressure',\n",
      "       'heavy intensity rain', 'light rain', 'broken clouds', 'moderate rain',\n",
      "       'mist', 'overcast clouds', 'clear sky', 'scattered clouds',\n",
      "       'thunderstorm with rain', 'few clouds', 'thunderstorm', 'shower rain',\n",
      "       'very heavy rain'],\n",
      "      dtype='object')\n",
      "For 24 features: \n",
      " Accuracy: 0.293513006796344 \n",
      " Precision: 0.23684363403408165 \n",
      " Recall: 0.24714078777800824 \n",
      " F1 score: 0.21419536915677453\n",
      "              precision    recall  f1-score   support\n",
      "\n",
      "        10.0       0.59      0.51      0.55      1479\n",
      "        20.0       0.23      0.13      0.16       703\n",
      "        30.0       0.12      0.13      0.12       429\n",
      "        40.0       0.21      0.17      0.19       450\n",
      "        50.0       0.04      0.31      0.06        75\n",
      "        60.0       0.34      0.11      0.16       685\n",
      "       100.0       0.23      0.45      0.30       446\n",
      "\n",
      "    accuracy                           0.30      4267\n",
      "   macro avg       0.25      0.26      0.22      4267\n",
      "weighted avg       0.35      0.30      0.31      4267\n",
      "\n"
     ]
    },
    {
     "name": "stderr",
     "output_type": "stream",
     "text": [
      "\r",
      " 96%|█████████▌| 25/26 [1:07:03<03:59, 239.01s/it]"
     ]
    },
    {
     "name": "stdout",
     "output_type": "stream",
     "text": [
      "Index(['month', 'day', 'year', 'hour', 'minute', 'holiday', 'day.1',\n",
      "       'Pandemic', 'temperature', 'humidity', 'pressure',\n",
      "       'heavy intensity rain', 'light rain', 'broken clouds', 'moderate rain',\n",
      "       'mist', 'overcast clouds', 'clear sky', 'scattered clouds',\n",
      "       'thunderstorm with rain', 'few clouds', 'thunderstorm', 'shower rain',\n",
      "       'very heavy rain', 'fog'],\n",
      "      dtype='object')\n",
      "For 25 features: \n",
      " Accuracy: 0.29335367284674957 \n",
      " Precision: 0.23647241844044534 \n",
      " Recall: 0.24580503005507973 \n",
      " F1 score: 0.21354358270848703\n",
      "              precision    recall  f1-score   support\n",
      "\n",
      "        10.0       0.59      0.51      0.55      1465\n",
      "        20.0       0.24      0.13      0.17       706\n",
      "        30.0       0.08      0.10      0.09       381\n",
      "        40.0       0.23      0.21      0.22       458\n",
      "        50.0       0.02      0.21      0.04        75\n",
      "        60.0       0.31      0.08      0.13       730\n",
      "       100.0       0.26      0.48      0.33       446\n",
      "\n",
      "    accuracy                           0.30      4261\n",
      "   macro avg       0.25      0.25      0.22      4261\n",
      "weighted avg       0.36      0.30      0.31      4261\n",
      "\n"
     ]
    },
    {
     "name": "stderr",
     "output_type": "stream",
     "text": [
      "100%|██████████| 26/26 [1:11:27<00:00, 164.88s/it]\n"
     ]
    },
    {
     "name": "stdout",
     "output_type": "stream",
     "text": [
      "Index(['month', 'day', 'year', 'hour', 'minute', 'holiday', 'day.1',\n",
      "       'Pandemic', 'temperature', 'humidity', 'pressure',\n",
      "       'heavy intensity rain', 'light rain', 'broken clouds', 'moderate rain',\n",
      "       'mist', 'overcast clouds', 'clear sky', 'scattered clouds',\n",
      "       'thunderstorm with rain', 'few clouds', 'thunderstorm', 'shower rain',\n",
      "       'very heavy rain', 'fog', 'haze'],\n",
      "      dtype='object')\n",
      "For 26 features: \n",
      " Accuracy: 0.2942984723854289 \n",
      " Precision: 0.23724950577999293 \n",
      " Recall: 0.24794315933465003 \n",
      " F1 score: 0.21405990118904003\n",
      "              precision    recall  f1-score   support\n",
      "\n",
      "        10.0       0.59      0.52      0.56      1446\n",
      "        20.0       0.24      0.10      0.14       728\n",
      "        30.0       0.14      0.17      0.15       438\n",
      "        40.0       0.18      0.11      0.14       444\n",
      "        50.0       0.03      0.23      0.05        78\n",
      "        60.0       0.31      0.13      0.19       677\n",
      "       100.0       0.24      0.54      0.34       444\n",
      "\n",
      "    accuracy                           0.31      4255\n",
      "   macro avg       0.25      0.26      0.22      4255\n",
      "weighted avg       0.35      0.31      0.31      4255\n",
      "\n",
      "\n",
      " \n",
      "\n",
      "------------------------- Analyzing method mutualInformation_reggression -------------------------\n",
      "The variable order is: \n",
      " ['month', 'day', 'year', 'hour', 'minute', 'holiday', 'day.1', 'Pandemic', 'temperature', 'humidity', 'pressure', 'heavy intensity rain', 'light rain', 'broken clouds', 'moderate rain', 'mist', 'overcast clouds', 'clear sky', 'scattered clouds', 'thunderstorm with rain', 'few clouds', 'thunderstorm', 'shower rain', 'very heavy rain', 'fog', 'haze', 'thunderstorm with light rain', 'light intensity drizzle']\n"
     ]
    },
    {
     "name": "stderr",
     "output_type": "stream",
     "text": [
      "  4%|▍         | 1/26 [01:07<28:01, 67.27s/it]"
     ]
    },
    {
     "name": "stdout",
     "output_type": "stream",
     "text": [
      "Index(['month'], dtype='object')\n",
      "For 1 features: \n",
      " Accuracy: 0.24880442457048718 \n",
      " Precision: 0.06958832769415169 \n",
      " Recall: 0.1612583262350992 \n",
      " F1 score: 0.09179489003791422\n",
      "              precision    recall  f1-score   support\n",
      "\n",
      "        10.0       0.35      0.54      0.42      1470\n",
      "        20.0       0.00      0.00      0.00       679\n",
      "        30.0       0.00      0.00      0.00       443\n",
      "        40.0       0.00      0.00      0.00       434\n",
      "        50.0       0.00      0.00      0.00        60\n",
      "        60.0       0.00      0.00      0.00       736\n",
      "       100.0       0.12      0.57      0.20       427\n",
      "\n",
      "    accuracy                           0.24      4249\n",
      "   macro avg       0.07      0.16      0.09      4249\n",
      "weighted avg       0.13      0.24      0.17      4249\n",
      "\n"
     ]
    },
    {
     "name": "stderr",
     "output_type": "stream",
     "text": [
      "\r",
      "  8%|▊         | 2/26 [02:17<27:40, 69.19s/it]"
     ]
    },
    {
     "name": "stdout",
     "output_type": "stream",
     "text": [
      "Index(['month', 'day'], dtype='object')\n",
      "For 2 features: \n",
      " Accuracy: 0.23055856705161443 \n",
      " Precision: 0.12988855802593322 \n",
      " Recall: 0.1690655564746995 \n",
      " F1 score: 0.13150022938182143\n",
      "              precision    recall  f1-score   support\n",
      "\n",
      "        10.0       0.39      0.37      0.38      1485\n",
      "        20.0       0.20      0.03      0.06       710\n",
      "        30.0       0.12      0.10      0.11       398\n",
      "        40.0       0.00      0.00      0.00       408\n",
      "        50.0       0.00      0.00      0.00        66\n",
      "        60.0       0.16      0.18      0.17       730\n",
      "       100.0       0.15      0.53      0.24       446\n",
      "\n",
      "    accuracy                           0.23      4243\n",
      "   macro avg       0.15      0.17      0.14      4243\n",
      "weighted avg       0.22      0.23      0.21      4243\n",
      "\n"
     ]
    },
    {
     "name": "stderr",
     "output_type": "stream",
     "text": [
      "\r",
      " 12%|█▏        | 3/26 [03:40<28:50, 75.24s/it]"
     ]
    },
    {
     "name": "stdout",
     "output_type": "stream",
     "text": [
      "Index(['month', 'day', 'year'], dtype='object')\n",
      "For 3 features: \n",
      " Accuracy: 0.30497993863582723 \n",
      " Precision: 0.1984867000352016 \n",
      " Recall: 0.209493048778414 \n",
      " F1 score: 0.18894324252130673\n",
      "              precision    recall  f1-score   support\n",
      "\n",
      "        10.0       0.51      0.59      0.55      1492\n",
      "        20.0       0.11      0.05      0.06       663\n",
      "        30.0       0.13      0.23      0.17       391\n",
      "        40.0       0.16      0.15      0.15       433\n",
      "        50.0       0.04      0.10      0.06        71\n",
      "        60.0       0.33      0.13      0.18       727\n",
      "       100.0       0.18      0.29      0.23       460\n",
      "\n",
      "    accuracy                           0.30      4237\n",
      "   macro avg       0.21      0.22      0.20      4237\n",
      "weighted avg       0.30      0.30      0.29      4237\n",
      "\n"
     ]
    },
    {
     "name": "stderr",
     "output_type": "stream",
     "text": [
      "\r",
      " 15%|█▌        | 4/26 [05:17<30:42, 83.75s/it]"
     ]
    },
    {
     "name": "stdout",
     "output_type": "stream",
     "text": [
      "Index(['month', 'day', 'year', 'hour'], dtype='object')\n",
      "For 4 features: \n",
      " Accuracy: 0.27527534861734815 \n",
      " Precision: 0.21336853015733862 \n",
      " Recall: 0.2163320288158097 \n",
      " F1 score: 0.18703909255253426\n",
      "              precision    recall  f1-score   support\n",
      "\n",
      "        10.0       0.50      0.46      0.48      1520\n",
      "        20.0       0.18      0.07      0.11       695\n",
      "        30.0       0.11      0.21      0.15       380\n",
      "        40.0       0.19      0.08      0.11       449\n",
      "        50.0       0.04      0.05      0.05        82\n",
      "        60.0       0.31      0.23      0.27       690\n",
      "       100.0       0.15      0.37      0.21       415\n",
      "\n",
      "    accuracy                           0.28      4231\n",
      "   macro avg       0.21      0.21      0.20      4231\n",
      "weighted avg       0.31      0.28      0.28      4231\n",
      "\n"
     ]
    },
    {
     "name": "stderr",
     "output_type": "stream",
     "text": [
      "\r",
      " 19%|█▉        | 5/26 [06:56<31:14, 89.27s/it]"
     ]
    },
    {
     "name": "stdout",
     "output_type": "stream",
     "text": [
      "Index(['month', 'day', 'year', 'hour', 'minute'], dtype='object')\n",
      "For 5 features: \n",
      " Accuracy: 0.2733562130177515 \n",
      " Precision: 0.21081967242782415 \n",
      " Recall: 0.2135320083652994 \n",
      " F1 score: 0.1867993649100372\n",
      "              precision    recall  f1-score   support\n",
      "\n",
      "        10.0       0.51      0.51      0.51      1440\n",
      "        20.0       0.15      0.06      0.09       704\n",
      "        30.0       0.15      0.27      0.19       423\n",
      "        40.0       0.17      0.04      0.07       420\n",
      "        50.0       0.03      0.18      0.05        88\n",
      "        60.0       0.32      0.11      0.16       709\n",
      "       100.0       0.18      0.35      0.24       441\n",
      "\n",
      "    accuracy                           0.27      4225\n",
      "   macro avg       0.22      0.22      0.19      4225\n",
      "weighted avg       0.30      0.27      0.27      4225\n",
      "\n"
     ]
    },
    {
     "name": "stderr",
     "output_type": "stream",
     "text": [
      "\r",
      " 23%|██▎       | 6/26 [08:44<31:52, 95.64s/it]"
     ]
    },
    {
     "name": "stdout",
     "output_type": "stream",
     "text": [
      "Index(['month', 'day', 'year', 'hour', 'minute', 'holiday'], dtype='object')\n",
      "For 6 features: \n",
      " Accuracy: 0.2775207395117326 \n",
      " Precision: 0.21955346143541793 \n",
      " Recall: 0.21888737721663568 \n",
      " F1 score: 0.1925707524144331\n",
      "              precision    recall  f1-score   support\n",
      "\n",
      "        10.0       0.54      0.54      0.54      1512\n",
      "        20.0       0.25      0.07      0.11       726\n",
      "        30.0       0.12      0.24      0.16       394\n",
      "        40.0       0.18      0.10      0.13       426\n",
      "        50.0       0.03      0.16      0.04        58\n",
      "        60.0       0.30      0.13      0.19       662\n",
      "       100.0       0.20      0.38      0.26       441\n",
      "\n",
      "    accuracy                           0.30      4219\n",
      "   macro avg       0.23      0.23      0.20      4219\n",
      "weighted avg       0.33      0.30      0.30      4219\n",
      "\n"
     ]
    },
    {
     "name": "stderr",
     "output_type": "stream",
     "text": [
      "\r",
      " 27%|██▋       | 7/26 [10:40<32:24, 102.33s/it]"
     ]
    },
    {
     "name": "stdout",
     "output_type": "stream",
     "text": [
      "Index(['month', 'day', 'year', 'hour', 'minute', 'holiday', 'day.1'], dtype='object')\n",
      "For 7 features: \n",
      " Accuracy: 0.2893187752195585 \n",
      " Precision: 0.23608562575120523 \n",
      " Recall: 0.23820530640730672 \n",
      " F1 score: 0.2063187354193852\n",
      "              precision    recall  f1-score   support\n",
      "\n",
      "        10.0       0.54      0.50      0.52      1514\n",
      "        20.0       0.21      0.08      0.11       670\n",
      "        30.0       0.14      0.26      0.18       403\n",
      "        40.0       0.19      0.05      0.08       430\n",
      "        50.0       0.03      0.21      0.05        75\n",
      "        60.0       0.32      0.17      0.22       668\n",
      "       100.0       0.20      0.35      0.26       453\n",
      "\n",
      "    accuracy                           0.29      4213\n",
      "   macro avg       0.23      0.23      0.20      4213\n",
      "weighted avg       0.33      0.29      0.30      4213\n",
      "\n"
     ]
    },
    {
     "name": "stderr",
     "output_type": "stream",
     "text": [
      "\r",
      " 31%|███       | 8/26 [12:37<32:05, 106.97s/it]"
     ]
    },
    {
     "name": "stdout",
     "output_type": "stream",
     "text": [
      "Index(['month', 'day', 'year', 'hour', 'minute', 'holiday', 'day.1',\n",
      "       'Pandemic'],\n",
      "      dtype='object')\n",
      "For 8 features: \n",
      " Accuracy: 0.2891371523651058 \n",
      " Precision: 0.23643755461920055 \n",
      " Recall: 0.23802828202097412 \n",
      " F1 score: 0.2057809871627863\n",
      "              precision    recall  f1-score   support\n",
      "\n",
      "        10.0       0.53      0.52      0.53      1446\n",
      "        20.0       0.19      0.07      0.11       698\n",
      "        30.0       0.14      0.22      0.17       392\n",
      "        40.0       0.30      0.10      0.15       459\n",
      "        50.0       0.03      0.27      0.06        70\n",
      "        60.0       0.34      0.16      0.21       677\n",
      "       100.0       0.22      0.40      0.28       465\n",
      "\n",
      "    accuracy                           0.30      4207\n",
      "   macro avg       0.25      0.25      0.22      4207\n",
      "weighted avg       0.34      0.30      0.30      4207\n",
      "\n"
     ]
    },
    {
     "name": "stderr",
     "output_type": "stream",
     "text": [
      "\r",
      " 35%|███▍      | 9/26 [14:46<32:19, 114.09s/it]"
     ]
    },
    {
     "name": "stdout",
     "output_type": "stream",
     "text": [
      "Index(['month', 'day', 'year', 'hour', 'minute', 'holiday', 'day.1',\n",
      "       'Pandemic', 'temperature'],\n",
      "      dtype='object')\n",
      "For 9 features: \n",
      " Accuracy: 0.2859842894548917 \n",
      " Precision: 0.2334624724258731 \n",
      " Recall: 0.2373917792346077 \n",
      " F1 score: 0.2075212577281997\n",
      "              precision    recall  f1-score   support\n",
      "\n",
      "        10.0       0.59      0.51      0.54      1467\n",
      "        20.0       0.19      0.09      0.13       727\n",
      "        30.0       0.10      0.15      0.12       410\n",
      "        40.0       0.19      0.11      0.14       438\n",
      "        50.0       0.03      0.23      0.05        70\n",
      "        60.0       0.33      0.16      0.21       663\n",
      "       100.0       0.22      0.44      0.29       426\n",
      "\n",
      "    accuracy                           0.29      4201\n",
      "   macro avg       0.24      0.24      0.21      4201\n",
      "weighted avg       0.34      0.29      0.30      4201\n",
      "\n"
     ]
    },
    {
     "name": "stderr",
     "output_type": "stream",
     "text": [
      "\r",
      " 38%|███▊      | 10/26 [17:10<32:49, 123.09s/it]"
     ]
    },
    {
     "name": "stdout",
     "output_type": "stream",
     "text": [
      "Index(['month', 'day', 'year', 'hour', 'minute', 'holiday', 'day.1',\n",
      "       'Pandemic', 'temperature', 'humidity'],\n",
      "      dtype='object')\n",
      "For 10 features: \n",
      " Accuracy: 0.29618116805721095 \n",
      " Precision: 0.23209288813721995 \n",
      " Recall: 0.24514067029388148 \n",
      " F1 score: 0.21084713843307545\n",
      "              precision    recall  f1-score   support\n",
      "\n",
      "        10.0       0.59      0.54      0.56      1477\n",
      "        20.0       0.18      0.08      0.11       671\n",
      "        30.0       0.13      0.15      0.14       415\n",
      "        40.0       0.18      0.10      0.13       436\n",
      "        50.0       0.03      0.24      0.05        71\n",
      "        60.0       0.28      0.14      0.19       691\n",
      "       100.0       0.21      0.41      0.28       434\n",
      "\n",
      "    accuracy                           0.30      4195\n",
      "   macro avg       0.23      0.24      0.21      4195\n",
      "weighted avg       0.34      0.30      0.30      4195\n",
      "\n"
     ]
    },
    {
     "name": "stderr",
     "output_type": "stream",
     "text": [
      "\r",
      " 42%|████▏     | 11/26 [19:35<32:29, 129.97s/it]"
     ]
    },
    {
     "name": "stdout",
     "output_type": "stream",
     "text": [
      "Index(['month', 'day', 'year', 'hour', 'minute', 'holiday', 'day.1',\n",
      "       'Pandemic', 'temperature', 'humidity', 'pressure'],\n",
      "      dtype='object')\n",
      "For 11 features: \n",
      " Accuracy: 0.2947958940081165 \n",
      " Precision: 0.23095232325741594 \n",
      " Recall: 0.24648542737840437 \n",
      " F1 score: 0.21188677912152507\n",
      "              precision    recall  f1-score   support\n",
      "\n",
      "        10.0       0.59      0.51      0.55      1466\n",
      "        20.0       0.21      0.10      0.14       696\n",
      "        30.0       0.14      0.19      0.16       389\n",
      "        40.0       0.17      0.10      0.13       438\n",
      "        50.0       0.04      0.26      0.06        78\n",
      "        60.0       0.28      0.12      0.17       692\n",
      "       100.0       0.20      0.44      0.28       430\n",
      "\n",
      "    accuracy                           0.29      4189\n",
      "   macro avg       0.23      0.25      0.21      4189\n",
      "weighted avg       0.34      0.29      0.30      4189\n",
      "\n"
     ]
    },
    {
     "name": "stderr",
     "output_type": "stream",
     "text": [
      "\r",
      " 46%|████▌     | 12/26 [22:04<31:40, 135.75s/it]"
     ]
    },
    {
     "name": "stdout",
     "output_type": "stream",
     "text": [
      "Index(['month', 'day', 'year', 'hour', 'minute', 'holiday', 'day.1',\n",
      "       'Pandemic', 'temperature', 'humidity', 'pressure',\n",
      "       'heavy intensity rain'],\n",
      "      dtype='object')\n",
      "For 12 features: \n",
      " Accuracy: 0.2899450155390868 \n",
      " Precision: 0.23020422973700577 \n",
      " Recall: 0.24248974574818183 \n",
      " F1 score: 0.20998152383715554\n",
      "              precision    recall  f1-score   support\n",
      "\n",
      "        10.0       0.60      0.51      0.55      1477\n",
      "        20.0       0.18      0.09      0.12       687\n",
      "        30.0       0.12      0.16      0.13       389\n",
      "        40.0       0.20      0.15      0.17       428\n",
      "        50.0       0.03      0.30      0.06        69\n",
      "        60.0       0.29      0.11      0.16       684\n",
      "       100.0       0.22      0.41      0.29       449\n",
      "\n",
      "    accuracy                           0.29      4183\n",
      "   macro avg       0.23      0.25      0.21      4183\n",
      "weighted avg       0.34      0.29      0.30      4183\n",
      "\n"
     ]
    },
    {
     "name": "stderr",
     "output_type": "stream",
     "text": [
      "\r",
      " 50%|█████     | 13/26 [24:36<30:27, 140.57s/it]"
     ]
    },
    {
     "name": "stdout",
     "output_type": "stream",
     "text": [
      "Index(['month', 'day', 'year', 'hour', 'minute', 'holiday', 'day.1',\n",
      "       'Pandemic', 'temperature', 'humidity', 'pressure',\n",
      "       'heavy intensity rain', 'light rain'],\n",
      "      dtype='object')\n",
      "For 13 features: \n",
      " Accuracy: 0.29331338281062963 \n",
      " Precision: 0.23215910486824715 \n",
      " Recall: 0.24436800367385247 \n",
      " F1 score: 0.21086682222052194\n",
      "              precision    recall  f1-score   support\n",
      "\n",
      "        10.0       0.58      0.50      0.54      1465\n",
      "        20.0       0.22      0.12      0.16       696\n",
      "        30.0       0.11      0.14      0.13       378\n",
      "        40.0       0.20      0.17      0.18       438\n",
      "        50.0       0.03      0.21      0.05        73\n",
      "        60.0       0.25      0.08      0.13       660\n",
      "       100.0       0.27      0.50      0.35       467\n",
      "\n",
      "    accuracy                           0.30      4177\n",
      "   macro avg       0.24      0.25      0.22      4177\n",
      "weighted avg       0.34      0.30      0.31      4177\n",
      "\n"
     ]
    },
    {
     "name": "stderr",
     "output_type": "stream",
     "text": [
      "\r",
      " 54%|█████▍    | 14/26 [27:11<28:59, 144.93s/it]"
     ]
    },
    {
     "name": "stdout",
     "output_type": "stream",
     "text": [
      "Index(['month', 'day', 'year', 'hour', 'minute', 'holiday', 'day.1',\n",
      "       'Pandemic', 'temperature', 'humidity', 'pressure',\n",
      "       'heavy intensity rain', 'light rain', 'broken clouds'],\n",
      "      dtype='object')\n",
      "For 14 features: \n",
      " Accuracy: 0.2932294413809638 \n",
      " Precision: 0.23268841622301573 \n",
      " Recall: 0.24261124886909313 \n",
      " F1 score: 0.21031008545641253\n",
      "              precision    recall  f1-score   support\n",
      "\n",
      "        10.0       0.59      0.54      0.56      1445\n",
      "        20.0       0.23      0.10      0.14       668\n",
      "        30.0       0.11      0.16      0.13       383\n",
      "        40.0       0.18      0.09      0.12       442\n",
      "        50.0       0.03      0.28      0.05        65\n",
      "        60.0       0.28      0.11      0.16       707\n",
      "       100.0       0.22      0.43      0.29       461\n",
      "\n",
      "    accuracy                           0.30      4171\n",
      "   macro avg       0.23      0.24      0.21      4171\n",
      "weighted avg       0.34      0.30      0.30      4171\n",
      "\n"
     ]
    },
    {
     "name": "stderr",
     "output_type": "stream",
     "text": [
      "\r",
      " 58%|█████▊    | 15/26 [30:15<28:45, 156.82s/it]"
     ]
    },
    {
     "name": "stdout",
     "output_type": "stream",
     "text": [
      "Index(['month', 'day', 'year', 'hour', 'minute', 'holiday', 'day.1',\n",
      "       'Pandemic', 'temperature', 'humidity', 'pressure',\n",
      "       'heavy intensity rain', 'light rain', 'broken clouds', 'moderate rain'],\n",
      "      dtype='object')\n",
      "For 15 features: \n",
      " Accuracy: 0.29430732292917167 \n",
      " Precision: 0.23449509715829597 \n",
      " Recall: 0.24417962076738067 \n",
      " F1 score: 0.21185771321075908\n",
      "              precision    recall  f1-score   support\n",
      "\n",
      "        10.0       0.57      0.53      0.55      1462\n",
      "        20.0       0.21      0.11      0.14       678\n",
      "        30.0       0.11      0.13      0.12       379\n",
      "        40.0       0.16      0.12      0.14       418\n",
      "        50.0       0.03      0.26      0.06        70\n",
      "        60.0       0.32      0.11      0.16       687\n",
      "       100.0       0.24      0.45      0.31       471\n",
      "\n",
      "    accuracy                           0.30      4165\n",
      "   macro avg       0.23      0.24      0.21      4165\n",
      "weighted avg       0.34      0.30      0.30      4165\n",
      "\n"
     ]
    },
    {
     "name": "stderr",
     "output_type": "stream",
     "text": [
      "\r",
      " 62%|██████▏   | 16/26 [33:15<27:18, 163.84s/it]"
     ]
    },
    {
     "name": "stdout",
     "output_type": "stream",
     "text": [
      "Index(['month', 'day', 'year', 'hour', 'minute', 'holiday', 'day.1',\n",
      "       'Pandemic', 'temperature', 'humidity', 'pressure',\n",
      "       'heavy intensity rain', 'light rain', 'broken clouds', 'moderate rain',\n",
      "       'mist'],\n",
      "      dtype='object')\n",
      "For 16 features: \n",
      " Accuracy: 0.2940851166145708 \n",
      " Precision: 0.23313887054194543 \n",
      " Recall: 0.24418973857540283 \n",
      " F1 score: 0.21140081765370045\n",
      "              precision    recall  f1-score   support\n",
      "\n",
      "        10.0       0.60      0.51      0.55      1496\n",
      "        20.0       0.23      0.11      0.14       663\n",
      "        30.0       0.09      0.12      0.11       356\n",
      "        40.0       0.19      0.14      0.16       413\n",
      "        50.0       0.03      0.23      0.05        71\n",
      "        60.0       0.29      0.11      0.16       707\n",
      "       100.0       0.23      0.46      0.31       453\n",
      "\n",
      "    accuracy                           0.30      4159\n",
      "   macro avg       0.24      0.24      0.21      4159\n",
      "weighted avg       0.35      0.30      0.31      4159\n",
      "\n"
     ]
    },
    {
     "name": "stderr",
     "output_type": "stream",
     "text": [
      "\r",
      " 65%|██████▌   | 17/26 [36:19<25:28, 169.85s/it]"
     ]
    },
    {
     "name": "stdout",
     "output_type": "stream",
     "text": [
      "Index(['month', 'day', 'year', 'hour', 'minute', 'holiday', 'day.1',\n",
      "       'Pandemic', 'temperature', 'humidity', 'pressure',\n",
      "       'heavy intensity rain', 'light rain', 'broken clouds', 'moderate rain',\n",
      "       'mist', 'overcast clouds'],\n",
      "      dtype='object')\n",
      "For 17 features: \n",
      " Accuracy: 0.29402359739947026 \n",
      " Precision: 0.2337928125571282 \n",
      " Recall: 0.24404628199921694 \n",
      " F1 score: 0.21196106452749616\n",
      "              precision    recall  f1-score   support\n",
      "\n",
      "        10.0       0.59      0.47      0.52      1490\n",
      "        20.0       0.20      0.11      0.14       671\n",
      "        30.0       0.10      0.16      0.12       341\n",
      "        40.0       0.17      0.11      0.13       430\n",
      "        50.0       0.03      0.26      0.05        65\n",
      "        60.0       0.31      0.11      0.17       687\n",
      "       100.0       0.24      0.46      0.32       469\n",
      "\n",
      "    accuracy                           0.29      4153\n",
      "   macro avg       0.23      0.24      0.21      4153\n",
      "weighted avg       0.35      0.29      0.30      4153\n",
      "\n"
     ]
    },
    {
     "name": "stderr",
     "output_type": "stream",
     "text": [
      "\r",
      " 69%|██████▉   | 18/26 [39:34<23:38, 177.30s/it]"
     ]
    },
    {
     "name": "stdout",
     "output_type": "stream",
     "text": [
      "Index(['month', 'day', 'year', 'hour', 'minute', 'holiday', 'day.1',\n",
      "       'Pandemic', 'temperature', 'humidity', 'pressure',\n",
      "       'heavy intensity rain', 'light rain', 'broken clouds', 'moderate rain',\n",
      "       'mist', 'overcast clouds', 'clear sky'],\n",
      "      dtype='object')\n",
      "For 18 features: \n",
      " Accuracy: 0.2943139619001688 \n",
      " Precision: 0.23564807915002328 \n",
      " Recall: 0.24555509913516277 \n",
      " F1 score: 0.21288444778040067\n",
      "              precision    recall  f1-score   support\n",
      "\n",
      "        10.0       0.57      0.50      0.53      1443\n",
      "        20.0       0.23      0.12      0.16       692\n",
      "        30.0       0.10      0.12      0.11       372\n",
      "        40.0       0.18      0.18      0.18       422\n",
      "        50.0       0.03      0.31      0.06        61\n",
      "        60.0       0.30      0.10      0.15       698\n",
      "       100.0       0.25      0.45      0.32       459\n",
      "\n",
      "    accuracy                           0.29      4147\n",
      "   macro avg       0.24      0.25      0.22      4147\n",
      "weighted avg       0.34      0.29      0.30      4147\n",
      "\n"
     ]
    },
    {
     "name": "stderr",
     "output_type": "stream",
     "text": [
      "\r",
      " 73%|███████▎  | 19/26 [42:50<21:20, 182.94s/it]"
     ]
    },
    {
     "name": "stdout",
     "output_type": "stream",
     "text": [
      "Index(['month', 'day', 'year', 'hour', 'minute', 'holiday', 'day.1',\n",
      "       'Pandemic', 'temperature', 'humidity', 'pressure',\n",
      "       'heavy intensity rain', 'light rain', 'broken clouds', 'moderate rain',\n",
      "       'mist', 'overcast clouds', 'clear sky', 'scattered clouds'],\n",
      "      dtype='object')\n",
      "For 19 features: \n",
      " Accuracy: 0.29464863559526683 \n",
      " Precision: 0.23543430827501563 \n",
      " Recall: 0.2453710342220551 \n",
      " F1 score: 0.21365128637737077\n",
      "              precision    recall  f1-score   support\n",
      "\n",
      "        10.0       0.58      0.51      0.54      1453\n",
      "        20.0       0.19      0.09      0.13       644\n",
      "        30.0       0.10      0.13      0.11       387\n",
      "        40.0       0.20      0.13      0.16       432\n",
      "        50.0       0.04      0.32      0.07        68\n",
      "        60.0       0.30      0.10      0.15       699\n",
      "       100.0       0.23      0.46      0.30       458\n",
      "\n",
      "    accuracy                           0.29      4141\n",
      "   macro avg       0.23      0.25      0.21      4141\n",
      "weighted avg       0.34      0.29      0.30      4141\n",
      "\n"
     ]
    },
    {
     "name": "stderr",
     "output_type": "stream",
     "text": [
      "\r",
      " 77%|███████▋  | 20/26 [46:09<18:46, 187.69s/it]"
     ]
    },
    {
     "name": "stdout",
     "output_type": "stream",
     "text": [
      "Index(['month', 'day', 'year', 'hour', 'minute', 'holiday', 'day.1',\n",
      "       'Pandemic', 'temperature', 'humidity', 'pressure',\n",
      "       'heavy intensity rain', 'light rain', 'broken clouds', 'moderate rain',\n",
      "       'mist', 'overcast clouds', 'clear sky', 'scattered clouds',\n",
      "       'thunderstorm with rain'],\n",
      "      dtype='object')\n",
      "For 20 features: \n",
      " Accuracy: 0.2942345828295042 \n",
      " Precision: 0.2355684310788403 \n",
      " Recall: 0.245441944985476 \n",
      " F1 score: 0.21418480918404273\n",
      "              precision    recall  f1-score   support\n",
      "\n",
      "        10.0       0.58      0.51      0.54      1420\n",
      "        20.0       0.23      0.11      0.15       678\n",
      "        30.0       0.09      0.12      0.10       356\n",
      "        40.0       0.21      0.19      0.20       434\n",
      "        50.0       0.03      0.28      0.06        74\n",
      "        60.0       0.29      0.11      0.16       699\n",
      "       100.0       0.27      0.48      0.35       474\n",
      "\n",
      "    accuracy                           0.30      4135\n",
      "   macro avg       0.24      0.26      0.22      4135\n",
      "weighted avg       0.35      0.30      0.31      4135\n",
      "\n"
     ]
    },
    {
     "name": "stderr",
     "output_type": "stream",
     "text": [
      "\r",
      " 81%|████████  | 21/26 [49:46<16:22, 196.48s/it]"
     ]
    },
    {
     "name": "stdout",
     "output_type": "stream",
     "text": [
      "Index(['month', 'day', 'year', 'hour', 'minute', 'holiday', 'day.1',\n",
      "       'Pandemic', 'temperature', 'humidity', 'pressure',\n",
      "       'heavy intensity rain', 'light rain', 'broken clouds', 'moderate rain',\n",
      "       'mist', 'overcast clouds', 'clear sky', 'scattered clouds',\n",
      "       'thunderstorm with rain', 'few clouds'],\n",
      "      dtype='object')\n",
      "For 21 features: \n",
      " Accuracy: 0.2949430854928554 \n",
      " Precision: 0.2357887143233073 \n",
      " Recall: 0.2459945924081786 \n",
      " F1 score: 0.2148051782526667\n",
      "              precision    recall  f1-score   support\n",
      "\n",
      "        10.0       0.58      0.48      0.53      1448\n",
      "        20.0       0.21      0.14      0.17       651\n",
      "        30.0       0.11      0.14      0.13       390\n",
      "        40.0       0.19      0.17      0.18       424\n",
      "        50.0       0.03      0.21      0.05        84\n",
      "        60.0       0.25      0.06      0.10       674\n",
      "       100.0       0.26      0.48      0.34       458\n",
      "\n",
      "    accuracy                           0.29      4129\n",
      "   macro avg       0.23      0.24      0.21      4129\n",
      "weighted avg       0.34      0.29      0.30      4129\n",
      "\n"
     ]
    },
    {
     "name": "stderr",
     "output_type": "stream",
     "text": [
      "\r",
      " 85%|████████▍ | 22/26 [53:32<13:41, 205.31s/it]"
     ]
    },
    {
     "name": "stdout",
     "output_type": "stream",
     "text": [
      "Index(['month', 'day', 'year', 'hour', 'minute', 'holiday', 'day.1',\n",
      "       'Pandemic', 'temperature', 'humidity', 'pressure',\n",
      "       'heavy intensity rain', 'light rain', 'broken clouds', 'moderate rain',\n",
      "       'mist', 'overcast clouds', 'clear sky', 'scattered clouds',\n",
      "       'thunderstorm with rain', 'few clouds', 'thunderstorm'],\n",
      "      dtype='object')\n",
      "For 22 features: \n",
      " Accuracy: 0.2956124181421295 \n",
      " Precision: 0.23826620735523205 \n",
      " Recall: 0.24843206554658456 \n",
      " F1 score: 0.2164811642952353\n",
      "              precision    recall  f1-score   support\n",
      "\n",
      "        10.0       0.58      0.51      0.54      1470\n",
      "        20.0       0.24      0.13      0.17       688\n",
      "        30.0       0.10      0.12      0.11       336\n",
      "        40.0       0.20      0.15      0.17       438\n",
      "        50.0       0.03      0.26      0.05        74\n",
      "        60.0       0.26      0.10      0.14       675\n",
      "       100.0       0.24      0.45      0.31       442\n",
      "\n",
      "    accuracy                           0.30      4123\n",
      "   macro avg       0.24      0.25      0.22      4123\n",
      "weighted avg       0.35      0.30      0.31      4123\n",
      "\n"
     ]
    },
    {
     "name": "stderr",
     "output_type": "stream",
     "text": [
      "\r",
      " 88%|████████▊ | 23/26 [57:33<10:48, 216.29s/it]"
     ]
    },
    {
     "name": "stdout",
     "output_type": "stream",
     "text": [
      "Index(['month', 'day', 'year', 'hour', 'minute', 'holiday', 'day.1',\n",
      "       'Pandemic', 'temperature', 'humidity', 'pressure',\n",
      "       'heavy intensity rain', 'light rain', 'broken clouds', 'moderate rain',\n",
      "       'mist', 'overcast clouds', 'clear sky', 'scattered clouds',\n",
      "       'thunderstorm with rain', 'few clouds', 'thunderstorm', 'shower rain'],\n",
      "      dtype='object')\n",
      "For 23 features: \n",
      " Accuracy: 0.29569589506922517 \n",
      " Precision: 0.2381462748419335 \n",
      " Recall: 0.2469952864062408 \n",
      " F1 score: 0.2158063413781854\n",
      "              precision    recall  f1-score   support\n",
      "\n",
      "        10.0       0.59      0.48      0.53      1453\n",
      "        20.0       0.24      0.14      0.18       633\n",
      "        30.0       0.09      0.13      0.11       371\n",
      "        40.0       0.22      0.17      0.20       470\n",
      "        50.0       0.02      0.25      0.04        61\n",
      "        60.0       0.27      0.09      0.14       650\n",
      "       100.0       0.25      0.43      0.32       479\n",
      "\n",
      "    accuracy                           0.29      4117\n",
      "   macro avg       0.24      0.24      0.22      4117\n",
      "weighted avg       0.35      0.29      0.31      4117\n",
      "\n"
     ]
    },
    {
     "name": "stderr",
     "output_type": "stream",
     "text": [
      "\r",
      " 92%|█████████▏| 24/26 [1:01:23<07:20, 220.18s/it]"
     ]
    },
    {
     "name": "stdout",
     "output_type": "stream",
     "text": [
      "Index(['month', 'day', 'year', 'hour', 'minute', 'holiday', 'day.1',\n",
      "       'Pandemic', 'temperature', 'humidity', 'pressure',\n",
      "       'heavy intensity rain', 'light rain', 'broken clouds', 'moderate rain',\n",
      "       'mist', 'overcast clouds', 'clear sky', 'scattered clouds',\n",
      "       'thunderstorm with rain', 'few clouds', 'thunderstorm', 'shower rain',\n",
      "       'very heavy rain'],\n",
      "      dtype='object')\n",
      "For 24 features: \n",
      " Accuracy: 0.29561420578934566 \n",
      " Precision: 0.2382993828546119 \n",
      " Recall: 0.2483403307748318 \n",
      " F1 score: 0.21625890485950522\n",
      "              precision    recall  f1-score   support\n",
      "\n",
      "        10.0       0.60      0.50      0.54      1443\n",
      "        20.0       0.20      0.11      0.15       649\n",
      "        30.0       0.11      0.16      0.13       345\n",
      "        40.0       0.17      0.12      0.14       427\n",
      "        50.0       0.03      0.26      0.05        70\n",
      "        60.0       0.27      0.09      0.14       706\n",
      "       100.0       0.24      0.45      0.31       471\n",
      "\n",
      "    accuracy                           0.29      4111\n",
      "   macro avg       0.23      0.24      0.21      4111\n",
      "weighted avg       0.34      0.29      0.30      4111\n",
      "\n"
     ]
    },
    {
     "name": "stderr",
     "output_type": "stream",
     "text": [
      "\r",
      " 96%|█████████▌| 25/26 [1:05:17<03:44, 224.45s/it]"
     ]
    },
    {
     "name": "stdout",
     "output_type": "stream",
     "text": [
      "Index(['month', 'day', 'year', 'hour', 'minute', 'holiday', 'day.1',\n",
      "       'Pandemic', 'temperature', 'humidity', 'pressure',\n",
      "       'heavy intensity rain', 'light rain', 'broken clouds', 'moderate rain',\n",
      "       'mist', 'overcast clouds', 'clear sky', 'scattered clouds',\n",
      "       'thunderstorm with rain', 'few clouds', 'thunderstorm', 'shower rain',\n",
      "       'very heavy rain', 'fog'],\n",
      "      dtype='object')\n",
      "For 25 features: \n",
      " Accuracy: 0.29631912302070645 \n",
      " Precision: 0.23836551687804458 \n",
      " Recall: 0.24822128450478884 \n",
      " F1 score: 0.2162686477532082\n",
      "              precision    recall  f1-score   support\n",
      "\n",
      "        10.0       0.58      0.50      0.54      1474\n",
      "        20.0       0.19      0.10      0.13       667\n",
      "        30.0       0.09      0.13      0.11       360\n",
      "        40.0       0.15      0.13      0.14       425\n",
      "        50.0       0.03      0.22      0.05        83\n",
      "        60.0       0.29      0.09      0.14       667\n",
      "       100.0       0.23      0.44      0.30       429\n",
      "\n",
      "    accuracy                           0.28      4105\n",
      "   macro avg       0.23      0.23      0.20      4105\n",
      "weighted avg       0.34      0.28      0.29      4105\n",
      "\n"
     ]
    },
    {
     "name": "stderr",
     "output_type": "stream",
     "text": [
      "100%|██████████| 26/26 [1:09:30<00:00, 160.42s/it]\n"
     ]
    },
    {
     "name": "stdout",
     "output_type": "stream",
     "text": [
      "Index(['month', 'day', 'year', 'hour', 'minute', 'holiday', 'day.1',\n",
      "       'Pandemic', 'temperature', 'humidity', 'pressure',\n",
      "       'heavy intensity rain', 'light rain', 'broken clouds', 'moderate rain',\n",
      "       'mist', 'overcast clouds', 'clear sky', 'scattered clouds',\n",
      "       'thunderstorm with rain', 'few clouds', 'thunderstorm', 'shower rain',\n",
      "       'very heavy rain', 'fog', 'haze'],\n",
      "      dtype='object')\n",
      "For 26 features: \n",
      " Accuracy: 0.2964040009758478 \n",
      " Precision: 0.23791883509973363 \n",
      " Recall: 0.2483172149564855 \n",
      " F1 score: 0.21567078052890895\n",
      "              precision    recall  f1-score   support\n",
      "\n",
      "        10.0       0.60      0.52      0.56      1479\n",
      "        20.0       0.19      0.10      0.13       671\n",
      "        30.0       0.11      0.16      0.13       348\n",
      "        40.0       0.18      0.15      0.16       436\n",
      "        50.0       0.02      0.27      0.05        55\n",
      "        60.0       0.31      0.10      0.16       665\n",
      "       100.0       0.25      0.45      0.32       445\n",
      "\n",
      "    accuracy                           0.30      4099\n",
      "   macro avg       0.24      0.25      0.21      4099\n",
      "weighted avg       0.36      0.30      0.31      4099\n",
      "\n",
      "\n",
      " \n",
      "\n",
      "------------------------- Analyzing method mutualInformation_classification2 -------------------------\n",
      "The variable order is: \n",
      " ['day', 'temperature', 'month', 'humidity', 'hour', 'pressure', 'day.1', 'year', 'holiday', 'shower rain', 'light rain', 'thunderstorm', 'fog', 'broken clouds', 'Pandemic', 'thunderstorm with rain', 'light intensity drizzle', 'thunderstorm with light rain', 'heavy intensity rain', 'mist', 'scattered clouds', 'very heavy rain', 'overcast clouds', 'moderate rain', 'minute', 'haze', 'few clouds', 'clear sky']\n"
     ]
    },
    {
     "name": "stderr",
     "output_type": "stream",
     "text": [
      "  4%|▍         | 1/26 [01:08<28:30, 68.43s/it]"
     ]
    },
    {
     "name": "stdout",
     "output_type": "stream",
     "text": [
      "Index(['day'], dtype='object')\n",
      "For 1 features: \n",
      " Accuracy: 0.25954800879550455 \n",
      " Precision: 0.11693551989514063 \n",
      " Recall: 0.1612663657534624 \n",
      " F1 score: 0.11243008979118109\n",
      "              precision    recall  f1-score   support\n",
      "\n",
      "        10.0       0.41      0.57      0.48      1477\n",
      "        20.0       0.25      0.05      0.09       667\n",
      "        30.0       0.00      0.00      0.00       372\n",
      "        40.0       0.00      0.00      0.00       402\n",
      "        50.0       0.00      0.00      0.00        69\n",
      "        60.0       0.21      0.06      0.09       642\n",
      "       100.0       0.13      0.47      0.20       464\n",
      "\n",
      "    accuracy                           0.28      4093\n",
      "   macro avg       0.14      0.16      0.12      4093\n",
      "weighted avg       0.24      0.28      0.22      4093\n",
      "\n"
     ]
    },
    {
     "name": "stderr",
     "output_type": "stream",
     "text": [
      "\r",
      "  8%|▊         | 2/26 [02:27<29:52, 74.69s/it]"
     ]
    },
    {
     "name": "stdout",
     "output_type": "stream",
     "text": [
      "Index(['day', 'temperature'], dtype='object')\n",
      "For 2 features: \n",
      " Accuracy: 0.24118179593834108 \n",
      " Precision: 0.1608219667329833 \n",
      " Recall: 0.16709056644380282 \n",
      " F1 score: 0.1328063117188519\n",
      "              precision    recall  f1-score   support\n",
      "\n",
      "        10.0       0.45      0.50      0.48      1459\n",
      "        20.0       0.13      0.01      0.02       636\n",
      "        30.0       0.08      0.11      0.09       380\n",
      "        40.0       0.15      0.23      0.18       411\n",
      "        50.0       0.00      0.00      0.00        62\n",
      "        60.0       0.28      0.01      0.03       667\n",
      "       100.0       0.13      0.35      0.19       472\n",
      "\n",
      "    accuracy                           0.26      4087\n",
      "   macro avg       0.17      0.17      0.14      4087\n",
      "weighted avg       0.27      0.26      0.23      4087\n",
      "\n"
     ]
    },
    {
     "name": "stderr",
     "output_type": "stream",
     "text": [
      "\r",
      " 12%|█▏        | 3/26 [03:52<30:21, 79.19s/it]"
     ]
    },
    {
     "name": "stdout",
     "output_type": "stream",
     "text": [
      "Index(['day', 'temperature', 'month'], dtype='object')\n",
      "For 3 features: \n",
      " Accuracy: 0.25449644694927714 \n",
      " Precision: 0.1754538776814007 \n",
      " Recall: 0.18522455197079177 \n",
      " F1 score: 0.15770164196681263\n",
      "              precision    recall  f1-score   support\n",
      "\n",
      "        10.0       0.46      0.46      0.46      1454\n",
      "        20.0       0.23      0.01      0.02       664\n",
      "        30.0       0.11      0.15      0.12       375\n",
      "        40.0       0.11      0.11      0.11       409\n",
      "        50.0       0.00      0.00      0.00        72\n",
      "        60.0       0.22      0.15      0.18       694\n",
      "       100.0       0.13      0.34      0.19       413\n",
      "\n",
      "    accuracy                           0.25      4081\n",
      "   macro avg       0.18      0.17      0.15      4081\n",
      "weighted avg       0.27      0.25      0.24      4081\n",
      "\n"
     ]
    },
    {
     "name": "stderr",
     "output_type": "stream",
     "text": [
      "\r",
      " 15%|█▌        | 4/26 [05:21<30:32, 83.31s/it]"
     ]
    },
    {
     "name": "stdout",
     "output_type": "stream",
     "text": [
      "Index(['day', 'temperature', 'month', 'humidity'], dtype='object')\n",
      "For 4 features: \n",
      " Accuracy: 0.28362699386503065 \n",
      " Precision: 0.19909616345160353 \n",
      " Recall: 0.20498094415035747 \n",
      " F1 score: 0.1834367501309885\n",
      "              precision    recall  f1-score   support\n",
      "\n",
      "        10.0       0.49      0.51      0.50      1412\n",
      "        20.0       0.16      0.01      0.02       688\n",
      "        30.0       0.13      0.13      0.13       373\n",
      "        40.0       0.15      0.16      0.16       422\n",
      "        50.0       0.02      0.11      0.04        66\n",
      "        60.0       0.23      0.19      0.21       658\n",
      "       100.0       0.18      0.34      0.24       456\n",
      "\n",
      "    accuracy                           0.28      4075\n",
      "   macro avg       0.19      0.21      0.18      4075\n",
      "weighted avg       0.28      0.28      0.27      4075\n",
      "\n"
     ]
    },
    {
     "name": "stderr",
     "output_type": "stream",
     "text": [
      "\r",
      " 19%|█▉        | 5/26 [07:01<31:16, 89.37s/it]"
     ]
    },
    {
     "name": "stdout",
     "output_type": "stream",
     "text": [
      "Index(['day', 'temperature', 'month', 'humidity', 'hour'], dtype='object')\n",
      "For 5 features: \n",
      " Accuracy: 0.2795084787417056 \n",
      " Precision: 0.20728563900111383 \n",
      " Recall: 0.21846756136566328 \n",
      " F1 score: 0.1944290486895879\n",
      "              precision    recall  f1-score   support\n",
      "\n",
      "        10.0       0.56      0.46      0.50      1495\n",
      "        20.0       0.16      0.06      0.08       654\n",
      "        30.0       0.09      0.17      0.12       322\n",
      "        40.0       0.13      0.08      0.10       407\n",
      "        50.0       0.02      0.17      0.04        71\n",
      "        60.0       0.23      0.11      0.15       663\n",
      "       100.0       0.19      0.38      0.25       457\n",
      "\n",
      "    accuracy                           0.26      4069\n",
      "   macro avg       0.20      0.20      0.18      4069\n",
      "weighted avg       0.31      0.26      0.27      4069\n",
      "\n"
     ]
    },
    {
     "name": "stderr",
     "output_type": "stream",
     "text": [
      "\r",
      " 23%|██▎       | 6/26 [08:50<31:56, 95.84s/it]"
     ]
    },
    {
     "name": "stdout",
     "output_type": "stream",
     "text": [
      "Index(['day', 'temperature', 'month', 'humidity', 'hour', 'pressure'], dtype='object')\n",
      "For 6 features: \n",
      " Accuracy: 0.28204036426285994 \n",
      " Precision: 0.20568805155259334 \n",
      " Recall: 0.2206773443393009 \n",
      " F1 score: 0.19494595049022917\n",
      "              precision    recall  f1-score   support\n",
      "\n",
      "        10.0       0.55      0.48      0.51      1438\n",
      "        20.0       0.20      0.10      0.14       668\n",
      "        30.0       0.14      0.18      0.15       342\n",
      "        40.0       0.15      0.12      0.13       378\n",
      "        50.0       0.06      0.12      0.08        67\n",
      "        60.0       0.20      0.15      0.17       692\n",
      "       100.0       0.21      0.48      0.29       478\n",
      "\n",
      "    accuracy                           0.30      4063\n",
      "   macro avg       0.22      0.23      0.21      4063\n",
      "weighted avg       0.31      0.30      0.29      4063\n",
      "\n"
     ]
    },
    {
     "name": "stderr",
     "output_type": "stream",
     "text": [
      "\r",
      " 27%|██▋       | 7/26 [10:44<32:15, 101.85s/it]"
     ]
    },
    {
     "name": "stdout",
     "output_type": "stream",
     "text": [
      "Index(['day', 'temperature', 'month', 'humidity', 'hour', 'pressure', 'day.1'], dtype='object')\n",
      "For 7 features: \n",
      " Accuracy: 0.2694996302686714 \n",
      " Precision: 0.20294652631541332 \n",
      " Recall: 0.2236566437333884 \n",
      " F1 score: 0.1873098675394507\n",
      "              precision    recall  f1-score   support\n",
      "\n",
      "        10.0       0.54      0.49      0.51      1446\n",
      "        20.0       0.17      0.08      0.10       648\n",
      "        30.0       0.13      0.18      0.15       367\n",
      "        40.0       0.15      0.09      0.11       410\n",
      "        50.0       0.03      0.29      0.05        59\n",
      "        60.0       0.17      0.07      0.10       672\n",
      "       100.0       0.22      0.43      0.30       455\n",
      "\n",
      "    accuracy                           0.28      4057\n",
      "   macro avg       0.20      0.23      0.19      4057\n",
      "weighted avg       0.30      0.28      0.27      4057\n",
      "\n"
     ]
    },
    {
     "name": "stderr",
     "output_type": "stream",
     "text": [
      "\r",
      " 31%|███       | 8/26 [13:05<34:17, 114.30s/it]"
     ]
    },
    {
     "name": "stdout",
     "output_type": "stream",
     "text": [
      "Index(['day', 'temperature', 'month', 'humidity', 'hour', 'pressure', 'day.1',\n",
      "       'year'],\n",
      "      dtype='object')\n",
      "For 8 features: \n",
      " Accuracy: 0.281987163663293 \n",
      " Precision: 0.21933376471351546 \n",
      " Recall: 0.2321802341989196 \n",
      " F1 score: 0.19548041114596335\n",
      "              precision    recall  f1-score   support\n",
      "\n",
      "        10.0       0.58      0.51      0.54      1430\n",
      "        20.0       0.16      0.07      0.10       612\n",
      "        30.0       0.12      0.17      0.14       370\n",
      "        40.0       0.26      0.08      0.12       435\n",
      "        50.0       0.02      0.26      0.04        54\n",
      "        60.0       0.26      0.10      0.14       691\n",
      "       100.0       0.19      0.43      0.27       459\n",
      "\n",
      "    accuracy                           0.28      4051\n",
      "   macro avg       0.23      0.23      0.19      4051\n",
      "weighted avg       0.34      0.28      0.29      4051\n",
      "\n"
     ]
    },
    {
     "name": "stderr",
     "output_type": "stream",
     "text": [
      "\r",
      " 35%|███▍      | 9/26 [15:18<34:03, 120.20s/it]"
     ]
    },
    {
     "name": "stdout",
     "output_type": "stream",
     "text": [
      "Index(['day', 'temperature', 'month', 'humidity', 'hour', 'pressure', 'day.1',\n",
      "       'year', 'holiday'],\n",
      "      dtype='object')\n",
      "For 9 features: \n",
      " Accuracy: 0.29553522867737947 \n",
      " Precision: 0.23118880358353788 \n",
      " Recall: 0.2479729114119116 \n",
      " F1 score: 0.21145873480923408\n",
      "              precision    recall  f1-score   support\n",
      "\n",
      "        10.0       0.57      0.49      0.53      1426\n",
      "        20.0       0.20      0.12      0.15       658\n",
      "        30.0       0.12      0.17      0.14       372\n",
      "        40.0       0.18      0.08      0.11       425\n",
      "        50.0       0.03      0.21      0.05        66\n",
      "        60.0       0.24      0.11      0.15       657\n",
      "       100.0       0.23      0.45      0.30       441\n",
      "\n",
      "    accuracy                           0.29      4045\n",
      "   macro avg       0.22      0.23      0.20      4045\n",
      "weighted avg       0.33      0.29      0.29      4045\n",
      "\n"
     ]
    },
    {
     "name": "stderr",
     "output_type": "stream",
     "text": [
      "\r",
      " 38%|███▊      | 10/26 [17:27<32:46, 122.88s/it]"
     ]
    },
    {
     "name": "stdout",
     "output_type": "stream",
     "text": [
      "Index(['day', 'temperature', 'month', 'humidity', 'hour', 'pressure', 'day.1',\n",
      "       'year', 'holiday', 'shower rain'],\n",
      "      dtype='object')\n",
      "For 10 features: \n",
      " Accuracy: 0.2936741767764298 \n",
      " Precision: 0.2301316322550798 \n",
      " Recall: 0.2495497054587295 \n",
      " F1 score: 0.21020593535593088\n",
      "              precision    recall  f1-score   support\n",
      "\n",
      "        10.0       0.58      0.49      0.53      1474\n",
      "        20.0       0.16      0.08      0.10       637\n",
      "        30.0       0.10      0.17      0.13       366\n",
      "        40.0       0.26      0.14      0.18       413\n",
      "        50.0       0.04      0.29      0.08        79\n",
      "        60.0       0.23      0.09      0.13       636\n",
      "       100.0       0.24      0.48      0.32       434\n",
      "\n",
      "    accuracy                           0.29      4039\n",
      "   macro avg       0.23      0.25      0.21      4039\n",
      "weighted avg       0.33      0.29      0.30      4039\n",
      "\n"
     ]
    },
    {
     "name": "stderr",
     "output_type": "stream",
     "text": [
      "\r",
      " 42%|████▏     | 11/26 [19:41<31:34, 126.33s/it]"
     ]
    },
    {
     "name": "stdout",
     "output_type": "stream",
     "text": [
      "Index(['day', 'temperature', 'month', 'humidity', 'hour', 'pressure', 'day.1',\n",
      "       'year', 'holiday', 'shower rain', 'light rain'],\n",
      "      dtype='object')\n",
      "For 11 features: \n",
      " Accuracy: 0.29742871311678654 \n",
      " Precision: 0.2346309659566937 \n",
      " Recall: 0.24966923394723203 \n",
      " F1 score: 0.21219972828579708\n",
      "              precision    recall  f1-score   support\n",
      "\n",
      "        10.0       0.61      0.50      0.55      1479\n",
      "        20.0       0.23      0.12      0.16       669\n",
      "        30.0       0.10      0.14      0.12       346\n",
      "        40.0       0.17      0.05      0.08       407\n",
      "        50.0       0.02      0.23      0.04        65\n",
      "        60.0       0.33      0.15      0.21       645\n",
      "       100.0       0.22      0.48      0.31       422\n",
      "\n",
      "    accuracy                           0.30      4033\n",
      "   macro avg       0.24      0.24      0.21      4033\n",
      "weighted avg       0.36      0.30      0.31      4033\n",
      "\n"
     ]
    },
    {
     "name": "stderr",
     "output_type": "stream",
     "text": [
      "\r",
      " 46%|████▌     | 12/26 [21:57<30:08, 129.15s/it]"
     ]
    },
    {
     "name": "stdout",
     "output_type": "stream",
     "text": [
      "Index(['day', 'temperature', 'month', 'humidity', 'hour', 'pressure', 'day.1',\n",
      "       'year', 'holiday', 'shower rain', 'light rain', 'thunderstorm'],\n",
      "      dtype='object')\n",
      "For 12 features: \n",
      " Accuracy: 0.2973752172833375 \n",
      " Precision: 0.23454774522533728 \n",
      " Recall: 0.24878150596681015 \n",
      " F1 score: 0.2124133791924878\n",
      "              precision    recall  f1-score   support\n",
      "\n",
      "        10.0       0.63      0.49      0.55      1500\n",
      "        20.0       0.25      0.13      0.17       636\n",
      "        30.0       0.12      0.19      0.15       347\n",
      "        40.0       0.18      0.13      0.15       372\n",
      "        50.0       0.03      0.27      0.06        71\n",
      "        60.0       0.27      0.11      0.16       674\n",
      "       100.0       0.21      0.44      0.29       427\n",
      "\n",
      "    accuracy                           0.30      4027\n",
      "   macro avg       0.24      0.25      0.22      4027\n",
      "weighted avg       0.37      0.30      0.32      4027\n",
      "\n"
     ]
    },
    {
     "name": "stderr",
     "output_type": "stream",
     "text": [
      "\r",
      " 50%|█████     | 13/26 [24:39<30:08, 139.14s/it]"
     ]
    },
    {
     "name": "stdout",
     "output_type": "stream",
     "text": [
      "Index(['day', 'temperature', 'month', 'humidity', 'hour', 'pressure', 'day.1',\n",
      "       'year', 'holiday', 'shower rain', 'light rain', 'thunderstorm', 'fog'],\n",
      "      dtype='object')\n",
      "For 13 features: \n",
      " Accuracy: 0.29651081820442676 \n",
      " Precision: 0.23420223234560222 \n",
      " Recall: 0.2478004474018882 \n",
      " F1 score: 0.21212832671532073\n",
      "              precision    recall  f1-score   support\n",
      "\n",
      "        10.0       0.59      0.48      0.53      1413\n",
      "        20.0       0.19      0.11      0.14       670\n",
      "        30.0       0.09      0.12      0.11       370\n",
      "        40.0       0.16      0.15      0.15       382\n",
      "        50.0       0.03      0.29      0.06        62\n",
      "        60.0       0.27      0.14      0.18       666\n",
      "       100.0       0.27      0.45      0.34       458\n",
      "\n",
      "    accuracy                           0.29      4021\n",
      "   macro avg       0.23      0.25      0.22      4021\n",
      "weighted avg       0.34      0.29      0.30      4021\n",
      "\n"
     ]
    },
    {
     "name": "stderr",
     "output_type": "stream",
     "text": [
      "\r",
      " 54%|█████▍    | 14/26 [27:20<29:10, 145.91s/it]"
     ]
    },
    {
     "name": "stdout",
     "output_type": "stream",
     "text": [
      "Index(['day', 'temperature', 'month', 'humidity', 'hour', 'pressure', 'day.1',\n",
      "       'year', 'holiday', 'shower rain', 'light rain', 'thunderstorm', 'fog',\n",
      "       'broken clouds'],\n",
      "      dtype='object')\n",
      "For 14 features: \n",
      " Accuracy: 0.2947521793275218 \n",
      " Precision: 0.23522984999796218 \n",
      " Recall: 0.24515561618599704 \n",
      " F1 score: 0.21307824236668568\n",
      "              precision    recall  f1-score   support\n",
      "\n",
      "        10.0       0.58      0.48      0.52      1403\n",
      "        20.0       0.21      0.11      0.14       672\n",
      "        30.0       0.09      0.13      0.11       323\n",
      "        40.0       0.16      0.17      0.16       400\n",
      "        50.0       0.03      0.33      0.05        61\n",
      "        60.0       0.25      0.08      0.12       666\n",
      "       100.0       0.29      0.43      0.35       490\n",
      "\n",
      "    accuracy                           0.28      4015\n",
      "   macro avg       0.23      0.25      0.21      4015\n",
      "weighted avg       0.34      0.28      0.30      4015\n",
      "\n"
     ]
    },
    {
     "name": "stderr",
     "output_type": "stream",
     "text": [
      "\r",
      " 58%|█████▊    | 15/26 [30:02<27:37, 150.64s/it]"
     ]
    },
    {
     "name": "stdout",
     "output_type": "stream",
     "text": [
      "Index(['day', 'temperature', 'month', 'humidity', 'hour', 'pressure', 'day.1',\n",
      "       'year', 'holiday', 'shower rain', 'light rain', 'thunderstorm', 'fog',\n",
      "       'broken clouds', 'Pandemic'],\n",
      "      dtype='object')\n",
      "For 15 features: \n",
      " Accuracy: 0.2965153404839112 \n",
      " Precision: 0.2364518474611146 \n",
      " Recall: 0.24648812751323357 \n",
      " F1 score: 0.21416064082994896\n",
      "              precision    recall  f1-score   support\n",
      "\n",
      "        10.0       0.59      0.49      0.53      1419\n",
      "        20.0       0.24      0.13      0.17       657\n",
      "        30.0       0.09      0.12      0.10       366\n",
      "        40.0       0.19      0.11      0.13       389\n",
      "        50.0       0.02      0.21      0.04        67\n",
      "        60.0       0.29      0.10      0.15       683\n",
      "       100.0       0.24      0.46      0.32       428\n",
      "\n",
      "    accuracy                           0.29      4009\n",
      "   macro avg       0.24      0.23      0.21      4009\n",
      "weighted avg       0.35      0.29      0.30      4009\n",
      "\n"
     ]
    },
    {
     "name": "stderr",
     "output_type": "stream",
     "text": [
      "\r",
      " 62%|██████▏   | 16/26 [32:45<25:43, 154.40s/it]"
     ]
    },
    {
     "name": "stdout",
     "output_type": "stream",
     "text": [
      "Index(['day', 'temperature', 'month', 'humidity', 'hour', 'pressure', 'day.1',\n",
      "       'year', 'holiday', 'shower rain', 'light rain', 'thunderstorm', 'fog',\n",
      "       'broken clouds', 'Pandemic', 'thunderstorm with rain'],\n",
      "      dtype='object')\n",
      "For 16 features: \n",
      " Accuracy: 0.29606045465900577 \n",
      " Precision: 0.23713592367982683 \n",
      " Recall: 0.24597543843859987 \n",
      " F1 score: 0.21494565150496256\n",
      "              precision    recall  f1-score   support\n",
      "\n",
      "        10.0       0.60      0.49      0.54      1439\n",
      "        20.0       0.21      0.15      0.17       638\n",
      "        30.0       0.11      0.15      0.13       369\n",
      "        40.0       0.13      0.09      0.11       393\n",
      "        50.0       0.02      0.21      0.04        63\n",
      "        60.0       0.30      0.11      0.16       633\n",
      "       100.0       0.25      0.43      0.32       468\n",
      "\n",
      "    accuracy                           0.29      4003\n",
      "   macro avg       0.23      0.23      0.21      4003\n",
      "weighted avg       0.35      0.29      0.31      4003\n",
      "\n"
     ]
    },
    {
     "name": "stderr",
     "output_type": "stream",
     "text": [
      "\r",
      " 65%|██████▌   | 17/26 [35:49<24:30, 163.41s/it]"
     ]
    },
    {
     "name": "stdout",
     "output_type": "stream",
     "text": [
      "Index(['day', 'temperature', 'month', 'humidity', 'hour', 'pressure', 'day.1',\n",
      "       'year', 'holiday', 'shower rain', 'light rain', 'thunderstorm', 'fog',\n",
      "       'broken clouds', 'Pandemic', 'thunderstorm with rain',\n",
      "       'light intensity drizzle'],\n",
      "      dtype='object')\n",
      "For 17 features: \n",
      " Accuracy: 0.29724043032274206 \n",
      " Precision: 0.2372541801624743 \n",
      " Recall: 0.2464244220564832 \n",
      " F1 score: 0.21572069713661626\n",
      "              precision    recall  f1-score   support\n",
      "\n",
      "        10.0       0.60      0.50      0.55      1467\n",
      "        20.0       0.24      0.14      0.18       650\n",
      "        30.0       0.12      0.13      0.12       351\n",
      "        40.0       0.17      0.14      0.15       353\n",
      "        50.0       0.03      0.27      0.06        70\n",
      "        60.0       0.28      0.13      0.18       613\n",
      "       100.0       0.27      0.47      0.34       493\n",
      "\n",
      "    accuracy                           0.31      3997\n",
      "   macro avg       0.25      0.25      0.23      3997\n",
      "weighted avg       0.36      0.31      0.32      3997\n",
      "\n"
     ]
    },
    {
     "name": "stderr",
     "output_type": "stream",
     "text": [
      "\r",
      " 69%|██████▉   | 18/26 [39:16<23:30, 176.30s/it]"
     ]
    },
    {
     "name": "stdout",
     "output_type": "stream",
     "text": [
      "Index(['day', 'temperature', 'month', 'humidity', 'hour', 'pressure', 'day.1',\n",
      "       'year', 'holiday', 'shower rain', 'light rain', 'thunderstorm', 'fog',\n",
      "       'broken clouds', 'Pandemic', 'thunderstorm with rain',\n",
      "       'light intensity drizzle', 'thunderstorm with light rain'],\n",
      "      dtype='object')\n",
      "For 18 features: \n",
      " Accuracy: 0.29699824605362063 \n",
      " Precision: 0.23764350631812425 \n",
      " Recall: 0.24665996398023488 \n",
      " F1 score: 0.2155634184635349\n",
      "              precision    recall  f1-score   support\n",
      "\n",
      "        10.0       0.60      0.53      0.56      1474\n",
      "        20.0       0.21      0.10      0.14       678\n",
      "        30.0       0.11      0.16      0.13       346\n",
      "        40.0       0.19      0.11      0.14       373\n",
      "        50.0       0.03      0.29      0.05        59\n",
      "        60.0       0.26      0.11      0.16       618\n",
      "       100.0       0.27      0.47      0.34       443\n",
      "\n",
      "    accuracy                           0.31      3991\n",
      "   macro avg       0.24      0.25      0.22      3991\n",
      "weighted avg       0.36      0.31      0.32      3991\n",
      "\n"
     ]
    },
    {
     "name": "stderr",
     "output_type": "stream",
     "text": [
      "\r",
      " 73%|███████▎  | 19/26 [43:02<22:18, 191.27s/it]"
     ]
    },
    {
     "name": "stdout",
     "output_type": "stream",
     "text": [
      "Index(['day', 'temperature', 'month', 'humidity', 'hour', 'pressure', 'day.1',\n",
      "       'year', 'holiday', 'shower rain', 'light rain', 'thunderstorm', 'fog',\n",
      "       'broken clouds', 'Pandemic', 'thunderstorm with rain',\n",
      "       'light intensity drizzle', 'thunderstorm with light rain',\n",
      "       'heavy intensity rain'],\n",
      "      dtype='object')\n",
      "For 19 features: \n",
      " Accuracy: 0.2980125470514429 \n",
      " Precision: 0.23728421869031452 \n",
      " Recall: 0.24271230750739306 \n",
      " F1 score: 0.21603871236258954\n",
      "              precision    recall  f1-score   support\n",
      "\n",
      "        10.0       0.61      0.48      0.53      1443\n",
      "        20.0       0.22      0.13      0.16       637\n",
      "        30.0       0.13      0.20      0.16       347\n",
      "        40.0       0.16      0.10      0.12       382\n",
      "        50.0       0.01      0.13      0.02        60\n",
      "        60.0       0.30      0.15      0.20       660\n",
      "       100.0       0.25      0.43      0.32       456\n",
      "\n",
      "    accuracy                           0.30      3985\n",
      "   macro avg       0.24      0.23      0.22      3985\n",
      "weighted avg       0.36      0.30      0.31      3985\n",
      "\n"
     ]
    },
    {
     "name": "stderr",
     "output_type": "stream",
     "text": [
      "\r",
      " 77%|███████▋  | 20/26 [46:50<20:13, 202.23s/it]"
     ]
    },
    {
     "name": "stdout",
     "output_type": "stream",
     "text": [
      "Index(['day', 'temperature', 'month', 'humidity', 'hour', 'pressure', 'day.1',\n",
      "       'year', 'holiday', 'shower rain', 'light rain', 'thunderstorm', 'fog',\n",
      "       'broken clouds', 'Pandemic', 'thunderstorm with rain',\n",
      "       'light intensity drizzle', 'thunderstorm with light rain',\n",
      "       'heavy intensity rain', 'mist'],\n",
      "      dtype='object')\n",
      "For 20 features: \n",
      " Accuracy: 0.29734104046242776 \n",
      " Precision: 0.23684144313222277 \n",
      " Recall: 0.24271780581479196 \n",
      " F1 score: 0.2159027268277541\n",
      "              precision    recall  f1-score   support\n",
      "\n",
      "        10.0       0.61      0.49      0.54      1456\n",
      "        20.0       0.21      0.14      0.17       636\n",
      "        30.0       0.08      0.11      0.09       325\n",
      "        40.0       0.15      0.12      0.14       366\n",
      "        50.0       0.04      0.28      0.06        76\n",
      "        60.0       0.27      0.13      0.17       655\n",
      "       100.0       0.28      0.45      0.34       465\n",
      "\n",
      "    accuracy                           0.30      3979\n",
      "   macro avg       0.23      0.25      0.22      3979\n",
      "weighted avg       0.35      0.30      0.32      3979\n",
      "\n"
     ]
    },
    {
     "name": "stderr",
     "output_type": "stream",
     "text": [
      "\r",
      " 81%|████████  | 21/26 [50:34<17:23, 208.72s/it]"
     ]
    },
    {
     "name": "stdout",
     "output_type": "stream",
     "text": [
      "Index(['day', 'temperature', 'month', 'humidity', 'hour', 'pressure', 'day.1',\n",
      "       'year', 'holiday', 'shower rain', 'light rain', 'thunderstorm', 'fog',\n",
      "       'broken clouds', 'Pandemic', 'thunderstorm with rain',\n",
      "       'light intensity drizzle', 'thunderstorm with light rain',\n",
      "       'heavy intensity rain', 'mist', 'scattered clouds'],\n",
      "      dtype='object')\n",
      "For 21 features: \n",
      " Accuracy: 0.2988975585200101 \n",
      " Precision: 0.23793816476742513 \n",
      " Recall: 0.2433325688744343 \n",
      " F1 score: 0.21675981398570476\n",
      "              precision    recall  f1-score   support\n",
      "\n",
      "        10.0       0.60      0.50      0.55      1482\n",
      "        20.0       0.19      0.12      0.15       644\n",
      "        30.0       0.12      0.17      0.14       339\n",
      "        40.0       0.21      0.13      0.16       392\n",
      "        50.0       0.03      0.28      0.06        67\n",
      "        60.0       0.25      0.11      0.15       635\n",
      "       100.0       0.23      0.43      0.30       414\n",
      "\n",
      "    accuracy                           0.30      3973\n",
      "   macro avg       0.23      0.25      0.21      3973\n",
      "weighted avg       0.35      0.30      0.31      3973\n",
      "\n"
     ]
    },
    {
     "name": "stderr",
     "output_type": "stream",
     "text": [
      "\r",
      " 85%|████████▍ | 22/26 [53:58<13:49, 207.34s/it]"
     ]
    },
    {
     "name": "stdout",
     "output_type": "stream",
     "text": [
      "Index(['day', 'temperature', 'month', 'humidity', 'hour', 'pressure', 'day.1',\n",
      "       'year', 'holiday', 'shower rain', 'light rain', 'thunderstorm', 'fog',\n",
      "       'broken clouds', 'Pandemic', 'thunderstorm with rain',\n",
      "       'light intensity drizzle', 'thunderstorm with light rain',\n",
      "       'heavy intensity rain', 'mist', 'scattered clouds', 'very heavy rain'],\n",
      "      dtype='object')\n",
      "For 22 features: \n",
      " Accuracy: 0.2979556339803378 \n",
      " Precision: 0.23779481392607274 \n",
      " Recall: 0.24382788252434595 \n",
      " F1 score: 0.21749722190153842\n",
      "              precision    recall  f1-score   support\n",
      "\n",
      "        10.0       0.57      0.46      0.51      1388\n",
      "        20.0       0.20      0.12      0.15       656\n",
      "        30.0       0.12      0.15      0.14       381\n",
      "        40.0       0.16      0.15      0.16       404\n",
      "        50.0       0.03      0.22      0.05        69\n",
      "        60.0       0.28      0.12      0.17       638\n",
      "       100.0       0.23      0.42      0.30       431\n",
      "\n",
      "    accuracy                           0.28      3967\n",
      "   macro avg       0.23      0.23      0.21      3967\n",
      "weighted avg       0.33      0.28      0.29      3967\n",
      "\n"
     ]
    },
    {
     "name": "stderr",
     "output_type": "stream",
     "text": [
      "\r",
      " 88%|████████▊ | 23/26 [57:22<10:19, 206.34s/it]"
     ]
    },
    {
     "name": "stdout",
     "output_type": "stream",
     "text": [
      "Index(['day', 'temperature', 'month', 'humidity', 'hour', 'pressure', 'day.1',\n",
      "       'year', 'holiday', 'shower rain', 'light rain', 'thunderstorm', 'fog',\n",
      "       'broken clouds', 'Pandemic', 'thunderstorm with rain',\n",
      "       'light intensity drizzle', 'thunderstorm with light rain',\n",
      "       'heavy intensity rain', 'mist', 'scattered clouds', 'very heavy rain',\n",
      "       'overcast clouds'],\n",
      "      dtype='object')\n",
      "For 23 features: \n",
      " Accuracy: 0.2985054279222419 \n",
      " Precision: 0.2374137275795467 \n",
      " Recall: 0.24415736700406063 \n",
      " F1 score: 0.2171908936971838\n",
      "              precision    recall  f1-score   support\n",
      "\n",
      "        10.0       0.61      0.50      0.55      1443\n",
      "        20.0       0.20      0.10      0.13       633\n",
      "        30.0       0.12      0.17      0.14       365\n",
      "        40.0       0.15      0.12      0.13       375\n",
      "        50.0       0.02      0.23      0.04        65\n",
      "        60.0       0.26      0.11      0.16       612\n",
      "       100.0       0.29      0.49      0.37       468\n",
      "\n",
      "    accuracy                           0.30      3961\n",
      "   macro avg       0.24      0.25      0.22      3961\n",
      "weighted avg       0.36      0.30      0.32      3961\n",
      "\n"
     ]
    },
    {
     "name": "stderr",
     "output_type": "stream",
     "text": [
      "\r",
      " 92%|█████████▏| 24/26 [1:01:12<07:07, 213.56s/it]"
     ]
    },
    {
     "name": "stdout",
     "output_type": "stream",
     "text": [
      "Index(['day', 'temperature', 'month', 'humidity', 'hour', 'pressure', 'day.1',\n",
      "       'year', 'holiday', 'shower rain', 'light rain', 'thunderstorm', 'fog',\n",
      "       'broken clouds', 'Pandemic', 'thunderstorm with rain',\n",
      "       'light intensity drizzle', 'thunderstorm with light rain',\n",
      "       'heavy intensity rain', 'mist', 'scattered clouds', 'very heavy rain',\n",
      "       'overcast clouds', 'moderate rain'],\n",
      "      dtype='object')\n",
      "For 24 features: \n",
      " Accuracy: 0.30203286978508215 \n",
      " Precision: 0.23988527342197954 \n",
      " Recall: 0.2419120610037534 \n",
      " F1 score: 0.22069866694753734\n",
      "              precision    recall  f1-score   support\n",
      "\n",
      "        10.0       0.61      0.48      0.54      1432\n",
      "        20.0       0.19      0.10      0.13       644\n",
      "        30.0       0.11      0.16      0.13       318\n",
      "        40.0       0.16      0.09      0.12       375\n",
      "        50.0       0.01      0.10      0.02        68\n",
      "        60.0       0.29      0.17      0.21       659\n",
      "       100.0       0.27      0.48      0.35       459\n",
      "\n",
      "    accuracy                           0.30      3955\n",
      "   macro avg       0.23      0.23      0.21      3955\n",
      "weighted avg       0.35      0.30      0.31      3955\n",
      "\n"
     ]
    },
    {
     "name": "stderr",
     "output_type": "stream",
     "text": [
      "\r",
      " 96%|█████████▌| 25/26 [1:05:17<03:43, 223.02s/it]"
     ]
    },
    {
     "name": "stdout",
     "output_type": "stream",
     "text": [
      "Index(['day', 'temperature', 'month', 'humidity', 'hour', 'pressure', 'day.1',\n",
      "       'year', 'holiday', 'shower rain', 'light rain', 'thunderstorm', 'fog',\n",
      "       'broken clouds', 'Pandemic', 'thunderstorm with rain',\n",
      "       'light intensity drizzle', 'thunderstorm with light rain',\n",
      "       'heavy intensity rain', 'mist', 'scattered clouds', 'very heavy rain',\n",
      "       'overcast clouds', 'moderate rain', 'minute'],\n",
      "      dtype='object')\n",
      "For 25 features: \n",
      " Accuracy: 0.30170169663205876 \n",
      " Precision: 0.23910775300857176 \n",
      " Recall: 0.2399790590936829 \n",
      " F1 score: 0.2200283003267385\n",
      "              precision    recall  f1-score   support\n",
      "\n",
      "        10.0       0.59      0.52      0.55      1405\n",
      "        20.0       0.22      0.11      0.15       650\n",
      "        30.0       0.12      0.14      0.13       368\n",
      "        40.0       0.16      0.13      0.15       360\n",
      "        50.0       0.02      0.14      0.03        63\n",
      "        60.0       0.26      0.17      0.20       671\n",
      "       100.0       0.26      0.41      0.32       432\n",
      "\n",
      "    accuracy                           0.30      3949\n",
      "   macro avg       0.23      0.23      0.22      3949\n",
      "weighted avg       0.35      0.30      0.32      3949\n",
      "\n"
     ]
    },
    {
     "name": "stderr",
     "output_type": "stream",
     "text": [
      "100%|██████████| 26/26 [1:09:27<00:00, 160.31s/it]\n"
     ]
    },
    {
     "name": "stdout",
     "output_type": "stream",
     "text": [
      "Index(['day', 'temperature', 'month', 'humidity', 'hour', 'pressure', 'day.1',\n",
      "       'year', 'holiday', 'shower rain', 'light rain', 'thunderstorm', 'fog',\n",
      "       'broken clouds', 'Pandemic', 'thunderstorm with rain',\n",
      "       'light intensity drizzle', 'thunderstorm with light rain',\n",
      "       'heavy intensity rain', 'mist', 'scattered clouds', 'very heavy rain',\n",
      "       'overcast clouds', 'moderate rain', 'minute', 'haze'],\n",
      "      dtype='object')\n",
      "For 26 features: \n",
      " Accuracy: 0.30203144813593713 \n",
      " Precision: 0.23885807002186737 \n",
      " Recall: 0.24103990727430583 \n",
      " F1 score: 0.2204454425418792\n",
      "              precision    recall  f1-score   support\n",
      "\n",
      "        10.0       0.59      0.47      0.52      1406\n",
      "        20.0       0.24      0.14      0.17       628\n",
      "        30.0       0.11      0.15      0.13       355\n",
      "        40.0       0.16      0.15      0.16       354\n",
      "        50.0       0.02      0.17      0.04        69\n",
      "        60.0       0.28      0.18      0.22       657\n",
      "       100.0       0.27      0.42      0.33       474\n",
      "\n",
      "    accuracy                           0.30      3943\n",
      "   macro avg       0.24      0.24      0.22      3943\n",
      "weighted avg       0.35      0.30      0.32      3943\n",
      "\n",
      "\n",
      " \n",
      "\n",
      "------------------------- Analyzing method varianceThreshold -------------------------\n",
      "The variable order is: \n",
      " ['month', 'day', 'year', 'hour', 'minute', 'holiday', 'day.1', 'temperature', 'humidity', 'pressure', 'heavy intensity rain', 'light rain', 'broken clouds', 'scattered clouds', 'thunderstorm with rain', 'few clouds', 'thunderstorm', 'shower rain']\n"
     ]
    },
    {
     "name": "stderr",
     "output_type": "stream",
     "text": [
      "  4%|▍         | 1/26 [01:07<28:10, 67.61s/it]"
     ]
    },
    {
     "name": "stdout",
     "output_type": "stream",
     "text": [
      "Index(['month'], dtype='object')\n",
      "For 1 features: \n",
      " Accuracy: 0.2478511557023114 \n",
      " Precision: 0.07185160045868375 \n",
      " Recall: 0.15728620148162628 \n",
      " F1 score: 0.09120979219643321\n",
      "              precision    recall  f1-score   support\n",
      "\n",
      "        10.0       0.38      0.51      0.44      1437\n",
      "        20.0       0.00      0.00      0.00       632\n",
      "        30.0       0.00      0.00      0.00       342\n",
      "        40.0       0.00      0.00      0.00       382\n",
      "        50.0       0.00      0.00      0.00        69\n",
      "        60.0       0.00      0.00      0.00       642\n",
      "       100.0       0.13      0.61      0.21       433\n",
      "\n",
      "    accuracy                           0.25      3937\n",
      "   macro avg       0.07      0.16      0.09      3937\n",
      "weighted avg       0.15      0.25      0.18      3937\n",
      "\n"
     ]
    },
    {
     "name": "stderr",
     "output_type": "stream",
     "text": [
      "\r",
      "  8%|▊         | 2/26 [02:16<27:17, 68.23s/it]"
     ]
    },
    {
     "name": "stdout",
     "output_type": "stream",
     "text": [
      "Index(['month', 'day'], dtype='object')\n",
      "For 2 features: \n",
      " Accuracy: 0.2272958534723989 \n",
      " Precision: 0.12258831266979406 \n",
      " Recall: 0.17076737387759877 \n",
      " F1 score: 0.13178780358302014\n",
      "              precision    recall  f1-score   support\n",
      "\n",
      "        10.0       0.36      0.33      0.35      1408\n",
      "        20.0       0.00      0.00      0.00       630\n",
      "        30.0       0.13      0.37      0.19       347\n",
      "        40.0       0.00      0.00      0.00       387\n",
      "        50.0       0.00      0.00      0.00        58\n",
      "        60.0       0.16      0.15      0.15       665\n",
      "       100.0       0.15      0.36      0.21       436\n",
      "\n",
      "    accuracy                           0.22      3931\n",
      "   macro avg       0.11      0.17      0.13      3931\n",
      "weighted avg       0.19      0.22      0.19      3931\n",
      "\n"
     ]
    },
    {
     "name": "stderr",
     "output_type": "stream",
     "text": [
      "\r",
      " 12%|█▏        | 3/26 [03:37<28:29, 74.32s/it]"
     ]
    },
    {
     "name": "stdout",
     "output_type": "stream",
     "text": [
      "Index(['month', 'day', 'year'], dtype='object')\n",
      "For 3 features: \n",
      " Accuracy: 0.3252433121019108 \n",
      " Precision: 0.19089416048218683 \n",
      " Recall: 0.20791292569241487 \n",
      " F1 score: 0.18244532477269168\n",
      "              precision    recall  f1-score   support\n",
      "\n",
      "        10.0       0.51      0.61      0.55      1423\n",
      "        20.0       0.00      0.00      0.00       646\n",
      "        30.0       0.12      0.19      0.15       334\n",
      "        40.0       0.11      0.03      0.05       367\n",
      "        50.0       0.00      0.00      0.00        66\n",
      "        60.0       0.23      0.30      0.26       659\n",
      "       100.0       0.18      0.32      0.23       430\n",
      "\n",
      "    accuracy                           0.32      3925\n",
      "   macro avg       0.16      0.21      0.18      3925\n",
      "weighted avg       0.26      0.32      0.29      3925\n",
      "\n"
     ]
    },
    {
     "name": "stderr",
     "output_type": "stream",
     "text": [
      "\r",
      " 15%|█▌        | 4/26 [05:12<30:07, 82.15s/it]"
     ]
    },
    {
     "name": "stdout",
     "output_type": "stream",
     "text": [
      "Index(['month', 'day', 'year', 'hour'], dtype='object')\n",
      "For 4 features: \n",
      " Accuracy: 0.2964200051033427 \n",
      " Precision: 0.21024876897847627 \n",
      " Recall: 0.21206210587404348 \n",
      " F1 score: 0.19300265159897534\n",
      "              precision    recall  f1-score   support\n",
      "\n",
      "        10.0       0.51      0.52      0.51      1380\n",
      "        20.0       0.15      0.06      0.08       657\n",
      "        30.0       0.14      0.27      0.19       339\n",
      "        40.0       0.22      0.06      0.10       385\n",
      "        50.0       0.02      0.10      0.03        61\n",
      "        60.0       0.31      0.19      0.24       663\n",
      "       100.0       0.20      0.35      0.26       434\n",
      "\n",
      "    accuracy                           0.29      3919\n",
      "   macro avg       0.22      0.22      0.20      3919\n",
      "weighted avg       0.31      0.29      0.29      3919\n",
      "\n"
     ]
    },
    {
     "name": "stderr",
     "output_type": "stream",
     "text": [
      "\r",
      " 19%|█▉        | 5/26 [06:49<30:44, 87.85s/it]"
     ]
    },
    {
     "name": "stdout",
     "output_type": "stream",
     "text": [
      "Index(['month', 'day', 'year', 'hour', 'minute'], dtype='object')\n",
      "For 5 features: \n",
      " Accuracy: 0.2960797342192691 \n",
      " Precision: 0.2130238998287892 \n",
      " Recall: 0.2125083750279121 \n",
      " F1 score: 0.1932391123683378\n",
      "              precision    recall  f1-score   support\n",
      "\n",
      "        10.0       0.52      0.49      0.51      1419\n",
      "        20.0       0.16      0.06      0.08       613\n",
      "        30.0       0.13      0.24      0.17       338\n",
      "        40.0       0.25      0.01      0.02       379\n",
      "        50.0       0.01      0.06      0.02        62\n",
      "        60.0       0.33      0.30      0.31       639\n",
      "       100.0       0.21      0.32      0.26       463\n",
      "\n",
      "    accuracy                           0.30      3913\n",
      "   macro avg       0.23      0.21      0.20      3913\n",
      "weighted avg       0.33      0.30      0.30      3913\n",
      "\n"
     ]
    },
    {
     "name": "stderr",
     "output_type": "stream",
     "text": [
      "\r",
      " 23%|██▎       | 6/26 [08:32<30:59, 92.99s/it]"
     ]
    },
    {
     "name": "stdout",
     "output_type": "stream",
     "text": [
      "Index(['month', 'day', 'year', 'hour', 'minute', 'holiday'], dtype='object')\n",
      "For 6 features: \n",
      " Accuracy: 0.299081136421807 \n",
      " Precision: 0.2170608592914824 \n",
      " Recall: 0.2168629509951049 \n",
      " F1 score: 0.20345450505643414\n",
      "              precision    recall  f1-score   support\n",
      "\n",
      "        10.0       0.55      0.52      0.54      1399\n",
      "        20.0       0.19      0.05      0.08       626\n",
      "        30.0       0.11      0.22      0.15       357\n",
      "        40.0       0.18      0.06      0.09       375\n",
      "        50.0       0.01      0.05      0.01        59\n",
      "        60.0       0.31      0.27      0.29       644\n",
      "       100.0       0.19      0.26      0.22       447\n",
      "\n",
      "    accuracy                           0.30      3907\n",
      "   macro avg       0.22      0.21      0.20      3907\n",
      "weighted avg       0.33      0.30      0.30      3907\n",
      "\n"
     ]
    },
    {
     "name": "stderr",
     "output_type": "stream",
     "text": [
      "\r",
      " 27%|██▋       | 7/26 [10:18<30:41, 96.94s/it]"
     ]
    },
    {
     "name": "stdout",
     "output_type": "stream",
     "text": [
      "Index(['month', 'day', 'year', 'hour', 'minute', 'holiday', 'day.1'], dtype='object')\n",
      "For 7 features: \n",
      " Accuracy: 0.30327095616508587 \n",
      " Precision: 0.23334332923938325 \n",
      " Recall: 0.23224108916605352 \n",
      " F1 score: 0.20959193060747874\n",
      "              precision    recall  f1-score   support\n",
      "\n",
      "        10.0       0.57      0.50      0.53      1429\n",
      "        20.0       0.17      0.07      0.10       641\n",
      "        30.0       0.12      0.23      0.16       340\n",
      "        40.0       0.25      0.04      0.07       373\n",
      "        50.0       0.01      0.14      0.03        50\n",
      "        60.0       0.33      0.24      0.28       628\n",
      "       100.0       0.24      0.40      0.30       440\n",
      "\n",
      "    accuracy                           0.30      3901\n",
      "   macro avg       0.24      0.23      0.21      3901\n",
      "weighted avg       0.35      0.30      0.31      3901\n",
      "\n"
     ]
    },
    {
     "name": "stderr",
     "output_type": "stream",
     "text": [
      "\r",
      " 31%|███       | 8/26 [12:17<31:12, 104.02s/it]"
     ]
    },
    {
     "name": "stdout",
     "output_type": "stream",
     "text": [
      "Index(['month', 'day', 'year', 'hour', 'minute', 'holiday', 'day.1',\n",
      "       'temperature'],\n",
      "      dtype='object')\n",
      "For 8 features: \n",
      " Accuracy: 0.2984775353016688 \n",
      " Precision: 0.2368371560657611 \n",
      " Recall: 0.2353598727743651 \n",
      " F1 score: 0.21608993389601505\n",
      "              precision    recall  f1-score   support\n",
      "\n",
      "        10.0       0.62      0.50      0.55      1422\n",
      "        20.0       0.19      0.08      0.11       616\n",
      "        30.0       0.10      0.17      0.13       344\n",
      "        40.0       0.16      0.08      0.10       372\n",
      "        50.0       0.03      0.23      0.05        71\n",
      "        60.0       0.29      0.18      0.22       628\n",
      "       100.0       0.24      0.39      0.29       442\n",
      "\n",
      "    accuracy                           0.30      3895\n",
      "   macro avg       0.23      0.23      0.21      3895\n",
      "weighted avg       0.35      0.30      0.31      3895\n",
      "\n"
     ]
    },
    {
     "name": "stderr",
     "output_type": "stream",
     "text": [
      "\r",
      " 35%|███▍      | 9/26 [14:34<32:24, 114.41s/it]"
     ]
    },
    {
     "name": "stdout",
     "output_type": "stream",
     "text": [
      "Index(['month', 'day', 'year', 'hour', 'minute', 'holiday', 'day.1',\n",
      "       'temperature', 'humidity'],\n",
      "      dtype='object')\n",
      "For 9 features: \n",
      " Accuracy: 0.29990743121625096 \n",
      " Precision: 0.23224079506268328 \n",
      " Recall: 0.2380167836575882 \n",
      " F1 score: 0.21573999301491517\n",
      "              precision    recall  f1-score   support\n",
      "\n",
      "        10.0       0.62      0.50      0.56      1469\n",
      "        20.0       0.19      0.11      0.14       566\n",
      "        30.0       0.12      0.17      0.14       339\n",
      "        40.0       0.18      0.15      0.17       376\n",
      "        50.0       0.02      0.17      0.04        66\n",
      "        60.0       0.28      0.17      0.21       631\n",
      "       100.0       0.23      0.39      0.29       442\n",
      "\n",
      "    accuracy                           0.31      3889\n",
      "   macro avg       0.23      0.24      0.22      3889\n",
      "weighted avg       0.36      0.31      0.33      3889\n",
      "\n"
     ]
    },
    {
     "name": "stderr",
     "output_type": "stream",
     "text": [
      "\r",
      " 38%|███▊      | 10/26 [17:02<33:16, 124.77s/it]"
     ]
    },
    {
     "name": "stdout",
     "output_type": "stream",
     "text": [
      "Index(['month', 'day', 'year', 'hour', 'minute', 'holiday', 'day.1',\n",
      "       'temperature', 'humidity', 'pressure'],\n",
      "      dtype='object')\n",
      "For 10 features: \n",
      " Accuracy: 0.29927375740406903 \n",
      " Precision: 0.23562117168504998 \n",
      " Recall: 0.24580100148756218 \n",
      " F1 score: 0.21901114594083715\n",
      "              precision    recall  f1-score   support\n",
      "\n",
      "        10.0       0.62      0.49      0.55      1439\n",
      "        20.0       0.19      0.13      0.15       611\n",
      "        30.0       0.10      0.15      0.12       328\n",
      "        40.0       0.19      0.13      0.16       349\n",
      "        50.0       0.03      0.27      0.06        59\n",
      "        60.0       0.26      0.13      0.17       657\n",
      "       100.0       0.24      0.44      0.31       440\n",
      "\n",
      "    accuracy                           0.30      3883\n",
      "   macro avg       0.23      0.25      0.22      3883\n",
      "weighted avg       0.36      0.30      0.32      3883\n",
      "\n"
     ]
    },
    {
     "name": "stderr",
     "output_type": "stream",
     "text": [
      "\r",
      " 42%|████▏     | 11/26 [19:32<33:09, 132.66s/it]"
     ]
    },
    {
     "name": "stdout",
     "output_type": "stream",
     "text": [
      "Index(['month', 'day', 'year', 'hour', 'minute', 'holiday', 'day.1',\n",
      "       'temperature', 'humidity', 'pressure', 'heavy intensity rain'],\n",
      "      dtype='object')\n",
      "For 11 features: \n",
      " Accuracy: 0.3003585246324478 \n",
      " Precision: 0.23797926934115846 \n",
      " Recall: 0.24440557220250303 \n",
      " F1 score: 0.22037839039184912\n",
      "              precision    recall  f1-score   support\n",
      "\n",
      "        10.0       0.61      0.47      0.53      1426\n",
      "        20.0       0.24      0.15      0.18       620\n",
      "        30.0       0.11      0.15      0.13       334\n",
      "        40.0       0.14      0.12      0.13       363\n",
      "        50.0       0.02      0.17      0.04        63\n",
      "        60.0       0.28      0.18      0.22       620\n",
      "       100.0       0.26      0.43      0.33       451\n",
      "\n",
      "    accuracy                           0.30      3877\n",
      "   macro avg       0.24      0.24      0.22      3877\n",
      "weighted avg       0.36      0.30      0.32      3877\n",
      "\n"
     ]
    },
    {
     "name": "stderr",
     "output_type": "stream",
     "text": [
      "\r",
      " 46%|████▌     | 12/26 [22:09<32:37, 139.80s/it]"
     ]
    },
    {
     "name": "stdout",
     "output_type": "stream",
     "text": [
      "Index(['month', 'day', 'year', 'hour', 'minute', 'holiday', 'day.1',\n",
      "       'temperature', 'humidity', 'pressure', 'heavy intensity rain',\n",
      "       'light rain'],\n",
      "      dtype='object')\n",
      "For 12 features: \n",
      " Accuracy: 0.30439421338155515 \n",
      " Precision: 0.24023412059072363 \n",
      " Recall: 0.24475524247362107 \n",
      " F1 score: 0.22251389890227033\n",
      "              precision    recall  f1-score   support\n",
      "\n",
      "        10.0       0.60      0.50      0.55      1445\n",
      "        20.0       0.21      0.13      0.16       599\n",
      "        30.0       0.12      0.15      0.13       336\n",
      "        40.0       0.17      0.16      0.16       374\n",
      "        50.0       0.04      0.32      0.08        65\n",
      "        60.0       0.31      0.15      0.20       594\n",
      "       100.0       0.26      0.46      0.33       458\n",
      "\n",
      "    accuracy                           0.32      3871\n",
      "   macro avg       0.25      0.26      0.23      3871\n",
      "weighted avg       0.36      0.32      0.33      3871\n",
      "\n"
     ]
    },
    {
     "name": "stderr",
     "output_type": "stream",
     "text": [
      "\r",
      " 50%|█████     | 13/26 [24:48<31:34, 145.70s/it]"
     ]
    },
    {
     "name": "stdout",
     "output_type": "stream",
     "text": [
      "Index(['month', 'day', 'year', 'hour', 'minute', 'holiday', 'day.1',\n",
      "       'temperature', 'humidity', 'pressure', 'heavy intensity rain',\n",
      "       'light rain', 'broken clouds'],\n",
      "      dtype='object')\n",
      "For 13 features: \n",
      " Accuracy: 0.30629754204398446 \n",
      " Precision: 0.24267638323142676 \n",
      " Recall: 0.245351947054296 \n",
      " F1 score: 0.2231477348186771\n",
      "              precision    recall  f1-score   support\n",
      "\n",
      "        10.0       0.60      0.49      0.54      1385\n",
      "        20.0       0.25      0.14      0.18       617\n",
      "        30.0       0.10      0.16      0.12       339\n",
      "        40.0       0.25      0.12      0.17       389\n",
      "        50.0       0.02      0.19      0.04        70\n",
      "        60.0       0.26      0.17      0.20       623\n",
      "       100.0       0.25      0.41      0.31       442\n",
      "\n",
      "    accuracy                           0.30      3865\n",
      "   macro avg       0.25      0.24      0.22      3865\n",
      "weighted avg       0.36      0.30      0.32      3865\n",
      "\n"
     ]
    },
    {
     "name": "stderr",
     "output_type": "stream",
     "text": [
      "\r",
      " 54%|█████▍    | 14/26 [27:21<29:34, 147.85s/it]"
     ]
    },
    {
     "name": "stdout",
     "output_type": "stream",
     "text": [
      "Index(['month', 'day', 'year', 'hour', 'minute', 'holiday', 'day.1',\n",
      "       'temperature', 'humidity', 'pressure', 'heavy intensity rain',\n",
      "       'light rain', 'broken clouds', 'scattered clouds'],\n",
      "      dtype='object')\n",
      "For 14 features: \n",
      " Accuracy: 0.30716247732573204 \n",
      " Precision: 0.24232560140470463 \n",
      " Recall: 0.2450520300962288 \n",
      " F1 score: 0.22431864395943615\n",
      "              precision    recall  f1-score   support\n",
      "\n",
      "        10.0       0.61      0.50      0.55      1420\n",
      "        20.0       0.26      0.16      0.20       603\n",
      "        30.0       0.13      0.18      0.15       323\n",
      "        40.0       0.17      0.15      0.16       369\n",
      "        50.0       0.03      0.22      0.05        64\n",
      "        60.0       0.31      0.16      0.21       627\n",
      "       100.0       0.28      0.44      0.34       453\n",
      "\n",
      "    accuracy                           0.32      3859\n",
      "   macro avg       0.25      0.26      0.24      3859\n",
      "weighted avg       0.37      0.32      0.33      3859\n",
      "\n"
     ]
    },
    {
     "name": "stderr",
     "output_type": "stream",
     "text": [
      "\r",
      " 58%|█████▊    | 15/26 [29:46<26:59, 147.20s/it]"
     ]
    },
    {
     "name": "stdout",
     "output_type": "stream",
     "text": [
      "Index(['month', 'day', 'year', 'hour', 'minute', 'holiday', 'day.1',\n",
      "       'temperature', 'humidity', 'pressure', 'heavy intensity rain',\n",
      "       'light rain', 'broken clouds', 'scattered clouds',\n",
      "       'thunderstorm with rain'],\n",
      "      dtype='object')\n",
      "For 15 features: \n",
      " Accuracy: 0.30837529198027513 \n",
      " Precision: 0.24538789275222161 \n",
      " Recall: 0.24822690815813792 \n",
      " F1 score: 0.22641954552154256\n",
      "              precision    recall  f1-score   support\n",
      "\n",
      "        10.0       0.59      0.49      0.54      1426\n",
      "        20.0       0.22      0.12      0.15       606\n",
      "        30.0       0.11      0.14      0.12       335\n",
      "        40.0       0.15      0.12      0.13       357\n",
      "        50.0       0.03      0.27      0.05        52\n",
      "        60.0       0.30      0.16      0.21       635\n",
      "       100.0       0.26      0.45      0.33       442\n",
      "\n",
      "    accuracy                           0.31      3853\n",
      "   macro avg       0.24      0.25      0.22      3853\n",
      "weighted avg       0.36      0.31      0.32      3853\n",
      "\n"
     ]
    },
    {
     "name": "stderr",
     "output_type": "stream",
     "text": [
      "\r",
      " 62%|██████▏   | 16/26 [32:15<24:36, 147.61s/it]"
     ]
    },
    {
     "name": "stdout",
     "output_type": "stream",
     "text": [
      "Index(['month', 'day', 'year', 'hour', 'minute', 'holiday', 'day.1',\n",
      "       'temperature', 'humidity', 'pressure', 'heavy intensity rain',\n",
      "       'light rain', 'broken clouds', 'scattered clouds',\n",
      "       'thunderstorm with rain', 'few clouds'],\n",
      "      dtype='object')\n",
      "For 16 features: \n",
      " Accuracy: 0.30855211853392256 \n",
      " Precision: 0.24663691604633578 \n",
      " Recall: 0.24821876358105463 \n",
      " F1 score: 0.22858012448635567\n",
      "              precision    recall  f1-score   support\n",
      "\n",
      "        10.0       0.60      0.48      0.53      1402\n",
      "        20.0       0.24      0.15      0.19       587\n",
      "        30.0       0.09      0.12      0.10       324\n",
      "        40.0       0.17      0.12      0.14       374\n",
      "        50.0       0.02      0.24      0.04        49\n",
      "        60.0       0.34      0.19      0.25       677\n",
      "       100.0       0.24      0.41      0.30       434\n",
      "\n",
      "    accuracy                           0.30      3847\n",
      "   macro avg       0.24      0.25      0.22      3847\n",
      "weighted avg       0.37      0.30      0.32      3847\n",
      "\n"
     ]
    },
    {
     "name": "stderr",
     "output_type": "stream",
     "text": [
      "\r",
      " 65%|██████▌   | 17/26 [34:47<22:21, 149.04s/it]"
     ]
    },
    {
     "name": "stdout",
     "output_type": "stream",
     "text": [
      "Index(['month', 'day', 'year', 'hour', 'minute', 'holiday', 'day.1',\n",
      "       'temperature', 'humidity', 'pressure', 'heavy intensity rain',\n",
      "       'light rain', 'broken clouds', 'scattered clouds',\n",
      "       'thunderstorm with rain', 'few clouds', 'thunderstorm'],\n",
      "      dtype='object')\n",
      "For 17 features: \n",
      " Accuracy: 0.30945847435563656 \n",
      " Precision: 0.24841115289613896 \n",
      " Recall: 0.24835971185380917 \n",
      " F1 score: 0.22902488421975836\n",
      "              precision    recall  f1-score   support\n",
      "\n",
      "        10.0       0.61      0.48      0.53      1399\n",
      "        20.0       0.27      0.15      0.20       601\n",
      "        30.0       0.12      0.17      0.14       325\n",
      "        40.0       0.19      0.15      0.17       365\n",
      "        50.0       0.03      0.21      0.04        71\n",
      "        60.0       0.25      0.13      0.17       633\n",
      "       100.0       0.27      0.42      0.33       447\n",
      "\n",
      "    accuracy                           0.30      3841\n",
      "   macro avg       0.25      0.25      0.23      3841\n",
      "weighted avg       0.36      0.30      0.32      3841\n",
      "\n"
     ]
    },
    {
     "name": "stderr",
     "output_type": "stream",
     "text": [
      "\r",
      " 69%|██████▉   | 18/26 [38:04<21:46, 163.35s/it]"
     ]
    },
    {
     "name": "stdout",
     "output_type": "stream",
     "text": [
      "Index(['month', 'day', 'year', 'hour', 'minute', 'holiday', 'day.1',\n",
      "       'temperature', 'humidity', 'pressure', 'heavy intensity rain',\n",
      "       'light rain', 'broken clouds', 'scattered clouds',\n",
      "       'thunderstorm with rain', 'few clouds', 'thunderstorm', 'shower rain'],\n",
      "      dtype='object')\n",
      "For 18 features: \n",
      " Accuracy: 0.3101747066492829 \n",
      " Precision: 0.2499696857061387 \n",
      " Recall: 0.2506913829728474 \n",
      " F1 score: 0.23070519298125494\n",
      "              precision    recall  f1-score   support\n",
      "\n",
      "        10.0       0.62      0.48      0.54      1432\n",
      "        20.0       0.26      0.18      0.21       598\n",
      "        30.0       0.10      0.16      0.12       332\n",
      "        40.0       0.15      0.13      0.14       338\n",
      "        50.0       0.02      0.21      0.04        63\n",
      "        60.0       0.32      0.13      0.19       634\n",
      "       100.0       0.26      0.40      0.32       438\n",
      "\n",
      "    accuracy                           0.30      3835\n",
      "   macro avg       0.25      0.24      0.22      3835\n",
      "weighted avg       0.38      0.30      0.32      3835\n",
      "\n"
     ]
    },
    {
     "name": "stderr",
     "output_type": "stream",
     "text": [
      "\r",
      " 73%|███████▎  | 19/26 [41:23<20:18, 174.12s/it]"
     ]
    },
    {
     "name": "stdout",
     "output_type": "stream",
     "text": [
      "Index(['month', 'day', 'year', 'hour', 'minute', 'holiday', 'day.1',\n",
      "       'temperature', 'humidity', 'pressure', 'heavy intensity rain',\n",
      "       'light rain', 'broken clouds', 'scattered clouds',\n",
      "       'thunderstorm with rain', 'few clouds', 'thunderstorm', 'shower rain'],\n",
      "      dtype='object')\n",
      "For 19 features: \n",
      " Accuracy: 0.3086523896578741 \n",
      " Precision: 0.24768894839652267 \n",
      " Recall: 0.24761483163127201 \n",
      " F1 score: 0.2291788987192091\n",
      "              precision    recall  f1-score   support\n",
      "\n",
      "        10.0       0.61      0.47      0.53      1419\n",
      "        20.0       0.23      0.15      0.18       618\n",
      "        30.0       0.10      0.17      0.13       314\n",
      "        40.0       0.18      0.13      0.15       350\n",
      "        50.0       0.03      0.19      0.05        62\n",
      "        60.0       0.32      0.19      0.24       631\n",
      "       100.0       0.26      0.45      0.33       435\n",
      "\n",
      "    accuracy                           0.31      3829\n",
      "   macro avg       0.25      0.25      0.23      3829\n",
      "weighted avg       0.37      0.31      0.33      3829\n",
      "\n"
     ]
    },
    {
     "name": "stderr",
     "output_type": "stream",
     "text": [
      "\r",
      " 77%|███████▋  | 20/26 [44:42<18:08, 181.42s/it]"
     ]
    },
    {
     "name": "stdout",
     "output_type": "stream",
     "text": [
      "Index(['month', 'day', 'year', 'hour', 'minute', 'holiday', 'day.1',\n",
      "       'temperature', 'humidity', 'pressure', 'heavy intensity rain',\n",
      "       'light rain', 'broken clouds', 'scattered clouds',\n",
      "       'thunderstorm with rain', 'few clouds', 'thunderstorm', 'shower rain'],\n",
      "      dtype='object')\n",
      "For 20 features: \n",
      " Accuracy: 0.3103086581218938 \n",
      " Precision: 0.24839830616327313 \n",
      " Recall: 0.24761965758822332 \n",
      " F1 score: 0.2289143508532573\n",
      "              precision    recall  f1-score   support\n",
      "\n",
      "        10.0       0.59      0.46      0.52      1354\n",
      "        20.0       0.25      0.19      0.22       603\n",
      "        30.0       0.13      0.18      0.15       318\n",
      "        40.0       0.17      0.13      0.15       387\n",
      "        50.0       0.03      0.23      0.05        71\n",
      "        60.0       0.31      0.15      0.21       649\n",
      "       100.0       0.25      0.39      0.30       441\n",
      "\n",
      "    accuracy                           0.30      3823\n",
      "   macro avg       0.25      0.25      0.23      3823\n",
      "weighted avg       0.36      0.30      0.32      3823\n",
      "\n"
     ]
    },
    {
     "name": "stderr",
     "output_type": "stream",
     "text": [
      "\r",
      " 81%|████████  | 21/26 [47:52<15:20, 184.09s/it]"
     ]
    },
    {
     "name": "stdout",
     "output_type": "stream",
     "text": [
      "Index(['month', 'day', 'year', 'hour', 'minute', 'holiday', 'day.1',\n",
      "       'temperature', 'humidity', 'pressure', 'heavy intensity rain',\n",
      "       'light rain', 'broken clouds', 'scattered clouds',\n",
      "       'thunderstorm with rain', 'few clouds', 'thunderstorm', 'shower rain'],\n",
      "      dtype='object')\n",
      "For 21 features: \n",
      " Accuracy: 0.30770238407126016 \n",
      " Precision: 0.24668143379104868 \n",
      " Recall: 0.24604155367199942 \n",
      " F1 score: 0.2277015374680124\n",
      "              precision    recall  f1-score   support\n",
      "\n",
      "        10.0       0.61      0.49      0.54      1447\n",
      "        20.0       0.22      0.12      0.15       585\n",
      "        30.0       0.12      0.20      0.15       327\n",
      "        40.0       0.13      0.08      0.10       344\n",
      "        50.0       0.02      0.13      0.03        62\n",
      "        60.0       0.26      0.15      0.19       608\n",
      "       100.0       0.28      0.45      0.35       444\n",
      "\n",
      "    accuracy                           0.31      3817\n",
      "   macro avg       0.23      0.23      0.22      3817\n",
      "weighted avg       0.36      0.31      0.32      3817\n",
      "\n"
     ]
    },
    {
     "name": "stderr",
     "output_type": "stream",
     "text": [
      "\r",
      " 85%|████████▍ | 22/26 [51:03<12:24, 186.24s/it]"
     ]
    },
    {
     "name": "stdout",
     "output_type": "stream",
     "text": [
      "Index(['month', 'day', 'year', 'hour', 'minute', 'holiday', 'day.1',\n",
      "       'temperature', 'humidity', 'pressure', 'heavy intensity rain',\n",
      "       'light rain', 'broken clouds', 'scattered clouds',\n",
      "       'thunderstorm with rain', 'few clouds', 'thunderstorm', 'shower rain'],\n",
      "      dtype='object')\n",
      "For 22 features: \n",
      " Accuracy: 0.3079821569141957 \n",
      " Precision: 0.2459009142023335 \n",
      " Recall: 0.24717066805292318 \n",
      " F1 score: 0.22769751808884406\n",
      "              precision    recall  f1-score   support\n",
      "\n",
      "        10.0       0.59      0.48      0.53      1383\n",
      "        20.0       0.25      0.16      0.20       597\n",
      "        30.0       0.10      0.16      0.12       296\n",
      "        40.0       0.16      0.12      0.14       361\n",
      "        50.0       0.02      0.15      0.03        61\n",
      "        60.0       0.34      0.18      0.23       668\n",
      "       100.0       0.27      0.45      0.34       445\n",
      "\n",
      "    accuracy                           0.31      3811\n",
      "   macro avg       0.25      0.24      0.23      3811\n",
      "weighted avg       0.37      0.31      0.33      3811\n",
      "\n"
     ]
    },
    {
     "name": "stderr",
     "output_type": "stream",
     "text": [
      "\r",
      " 88%|████████▊ | 23/26 [54:21<09:28, 189.64s/it]"
     ]
    },
    {
     "name": "stdout",
     "output_type": "stream",
     "text": [
      "Index(['month', 'day', 'year', 'hour', 'minute', 'holiday', 'day.1',\n",
      "       'temperature', 'humidity', 'pressure', 'heavy intensity rain',\n",
      "       'light rain', 'broken clouds', 'scattered clouds',\n",
      "       'thunderstorm with rain', 'few clouds', 'thunderstorm', 'shower rain'],\n",
      "      dtype='object')\n",
      "For 23 features: \n",
      " Accuracy: 0.3084441524310118 \n",
      " Precision: 0.2470553643414027 \n",
      " Recall: 0.24837410229041237 \n",
      " F1 score: 0.22852342203280526\n",
      "              precision    recall  f1-score   support\n",
      "\n",
      "        10.0       0.60      0.47      0.53      1413\n",
      "        20.0       0.24      0.16      0.19       607\n",
      "        30.0       0.11      0.17      0.13       312\n",
      "        40.0       0.15      0.10      0.12       354\n",
      "        50.0       0.02      0.18      0.04        61\n",
      "        60.0       0.32      0.21      0.25       611\n",
      "       100.0       0.28      0.42      0.34       447\n",
      "\n",
      "    accuracy                           0.31      3805\n",
      "   macro avg       0.25      0.24      0.23      3805\n",
      "weighted avg       0.37      0.31      0.33      3805\n",
      "\n"
     ]
    },
    {
     "name": "stderr",
     "output_type": "stream",
     "text": [
      "\r",
      " 92%|█████████▏| 24/26 [57:38<06:23, 191.89s/it]"
     ]
    },
    {
     "name": "stdout",
     "output_type": "stream",
     "text": [
      "Index(['month', 'day', 'year', 'hour', 'minute', 'holiday', 'day.1',\n",
      "       'temperature', 'humidity', 'pressure', 'heavy intensity rain',\n",
      "       'light rain', 'broken clouds', 'scattered clouds',\n",
      "       'thunderstorm with rain', 'few clouds', 'thunderstorm', 'shower rain'],\n",
      "      dtype='object')\n",
      "For 24 features: \n",
      " Accuracy: 0.3076757041326665 \n",
      " Precision: 0.2460484765880824 \n",
      " Recall: 0.24769592297215978 \n",
      " F1 score: 0.22788258187027957\n",
      "              precision    recall  f1-score   support\n",
      "\n",
      "        10.0       0.64      0.49      0.56      1382\n",
      "        20.0       0.26      0.13      0.17       581\n",
      "        30.0       0.12      0.17      0.14       315\n",
      "        40.0       0.15      0.09      0.12       370\n",
      "        50.0       0.03      0.24      0.05        67\n",
      "        60.0       0.32      0.19      0.24       636\n",
      "       100.0       0.27      0.44      0.33       448\n",
      "\n",
      "    accuracy                           0.31      3799\n",
      "   macro avg       0.25      0.25      0.23      3799\n",
      "weighted avg       0.38      0.31      0.33      3799\n",
      "\n"
     ]
    },
    {
     "name": "stderr",
     "output_type": "stream",
     "text": [
      "\r",
      " 96%|█████████▌| 25/26 [1:00:56<03:13, 193.68s/it]"
     ]
    },
    {
     "name": "stdout",
     "output_type": "stream",
     "text": [
      "Index(['month', 'day', 'year', 'hour', 'minute', 'holiday', 'day.1',\n",
      "       'temperature', 'humidity', 'pressure', 'heavy intensity rain',\n",
      "       'light rain', 'broken clouds', 'scattered clouds',\n",
      "       'thunderstorm with rain', 'few clouds', 'thunderstorm', 'shower rain'],\n",
      "      dtype='object')\n",
      "For 25 features: \n",
      " Accuracy: 0.307121012391247 \n",
      " Precision: 0.2463619409104011 \n",
      " Recall: 0.2471741423227621 \n",
      " F1 score: 0.22755812753022203\n",
      "              precision    recall  f1-score   support\n",
      "\n",
      "        10.0       0.62      0.48      0.54      1419\n",
      "        20.0       0.24      0.15      0.19       611\n",
      "        30.0       0.12      0.16      0.13       325\n",
      "        40.0       0.17      0.19      0.18       339\n",
      "        50.0       0.02      0.19      0.04        64\n",
      "        60.0       0.26      0.17      0.20       592\n",
      "       100.0       0.30      0.42      0.35       443\n",
      "\n",
      "    accuracy                           0.32      3793\n",
      "   macro avg       0.25      0.25      0.23      3793\n",
      "weighted avg       0.37      0.32      0.33      3793\n",
      "\n"
     ]
    },
    {
     "name": "stderr",
     "output_type": "stream",
     "text": [
      "100%|██████████| 26/26 [1:03:48<00:00, 147.25s/it]\n"
     ]
    },
    {
     "name": "stdout",
     "output_type": "stream",
     "text": [
      "Index(['month', 'day', 'year', 'hour', 'minute', 'holiday', 'day.1',\n",
      "       'temperature', 'humidity', 'pressure', 'heavy intensity rain',\n",
      "       'light rain', 'broken clouds', 'scattered clouds',\n",
      "       'thunderstorm with rain', 'few clouds', 'thunderstorm', 'shower rain'],\n",
      "      dtype='object')\n",
      "For 26 features: \n",
      " Accuracy: 0.30707684182730394 \n",
      " Precision: 0.2456641651518464 \n",
      " Recall: 0.24843042156314452 \n",
      " F1 score: 0.2272994094022634\n",
      "              precision    recall  f1-score   support\n",
      "\n",
      "        10.0       0.59      0.46      0.52      1392\n",
      "        20.0       0.29      0.19      0.23       609\n",
      "        30.0       0.11      0.16      0.13       321\n",
      "        40.0       0.14      0.11      0.13       359\n",
      "        50.0       0.02      0.19      0.04        67\n",
      "        60.0       0.31      0.18      0.22       611\n",
      "       100.0       0.28      0.43      0.34       428\n",
      "\n",
      "    accuracy                           0.30      3787\n",
      "   macro avg       0.25      0.25      0.23      3787\n",
      "weighted avg       0.37      0.30      0.33      3787\n",
      "\n",
      "\n",
      " \n",
      "\n",
      "------------------------- Analyzing method MRMR -------------------------\n",
      "The variable order is: \n",
      " ['month', 'day', 'year', 'hour', 'minute', 'holiday', 'day.1', 'temperature', 'humidity', 'pressure', 'heavy intensity rain', 'light rain', 'broken clouds', 'scattered clouds', 'thunderstorm with rain', 'few clouds', 'thunderstorm', 'shower rain', 'heavy intensity rain', 'mist', 'scattered clouds', 'very heavy rain', 'overcast clouds', 'moderate rain', 'minute', 'haze', 'few clouds']\n"
     ]
    },
    {
     "name": "stderr",
     "output_type": "stream",
     "text": [
      "  4%|▍         | 1/26 [01:04<27:01, 64.85s/it]"
     ]
    },
    {
     "name": "stdout",
     "output_type": "stream",
     "text": [
      "Index(['month'], dtype='object')\n",
      "For 1 features: \n",
      " Accuracy: 0.2515842369743454 \n",
      " Precision: 0.07475803035656073 \n",
      " Recall: 0.16028248264333347 \n",
      " F1 score: 0.09244916872691063\n",
      "              precision    recall  f1-score   support\n",
      "\n",
      "        10.0       0.42      0.51      0.46      1441\n",
      "        20.0       0.00      0.00      0.00       557\n",
      "        30.0       0.00      0.00      0.00       328\n",
      "        40.0       0.00      0.00      0.00       362\n",
      "        50.0       0.00      0.00      0.00        66\n",
      "        60.0       0.00      0.00      0.00       609\n",
      "       100.0       0.13      0.63      0.22       418\n",
      "\n",
      "    accuracy                           0.26      3781\n",
      "   macro avg       0.08      0.16      0.10      3781\n",
      "weighted avg       0.17      0.26      0.20      3781\n",
      "\n"
     ]
    },
    {
     "name": "stderr",
     "output_type": "stream",
     "text": [
      "\r",
      "  8%|▊         | 2/26 [02:13<26:47, 66.99s/it]"
     ]
    },
    {
     "name": "stdout",
     "output_type": "stream",
     "text": [
      "Index(['month', 'day'], dtype='object')\n",
      "For 2 features: \n",
      " Accuracy: 0.23776158940397352 \n",
      " Precision: 0.12539838634285647 \n",
      " Recall: 0.1783594194361389 \n",
      " F1 score: 0.13542317588598649\n",
      "              precision    recall  f1-score   support\n",
      "\n",
      "        10.0       0.41      0.43      0.42      1381\n",
      "        20.0       0.00      0.00      0.00       629\n",
      "        30.0       0.10      0.38      0.16       299\n",
      "        40.0       0.00      0.00      0.00       359\n",
      "        50.0       0.00      0.00      0.00        55\n",
      "        60.0       0.15      0.07      0.09       612\n",
      "       100.0       0.15      0.31      0.20       440\n",
      "\n",
      "    accuracy                           0.24      3775\n",
      "   macro avg       0.12      0.17      0.13      3775\n",
      "weighted avg       0.20      0.24      0.21      3775\n",
      "\n"
     ]
    },
    {
     "name": "stderr",
     "output_type": "stream",
     "text": [
      "\r",
      " 12%|█▏        | 3/26 [03:35<28:21, 73.99s/it]"
     ]
    },
    {
     "name": "stdout",
     "output_type": "stream",
     "text": [
      "Index(['month', 'day', 'year'], dtype='object')\n",
      "For 3 features: \n",
      " Accuracy: 0.3257972937118599 \n",
      " Precision: 0.17501530307372415 \n",
      " Recall: 0.20701863446219698 \n",
      " F1 score: 0.18006601988219467\n",
      "              precision    recall  f1-score   support\n",
      "\n",
      "        10.0       0.52      0.62      0.56      1345\n",
      "        20.0       0.00      0.00      0.00       614\n",
      "        30.0       0.14      0.23      0.17       329\n",
      "        40.0       0.00      0.00      0.00       348\n",
      "        50.0       0.02      0.10      0.03        60\n",
      "        60.0       0.26      0.25      0.25       635\n",
      "       100.0       0.17      0.27      0.21       438\n",
      "\n",
      "    accuracy                           0.32      3769\n",
      "   macro avg       0.16      0.21      0.18      3769\n",
      "weighted avg       0.26      0.32      0.28      3769\n",
      "\n"
     ]
    },
    {
     "name": "stderr",
     "output_type": "stream",
     "text": [
      "\r",
      " 15%|█▌        | 4/26 [05:10<30:11, 82.32s/it]"
     ]
    },
    {
     "name": "stdout",
     "output_type": "stream",
     "text": [
      "Index(['month', 'day', 'year', 'hour'], dtype='object')\n",
      "For 4 features: \n",
      " Accuracy: 0.30769598724422004 \n",
      " Precision: 0.21759550543185568 \n",
      " Recall: 0.21901921963509088 \n",
      " F1 score: 0.19741388381683736\n",
      "              precision    recall  f1-score   support\n",
      "\n",
      "        10.0       0.53      0.49      0.51      1412\n",
      "        20.0       0.26      0.07      0.10       584\n",
      "        30.0       0.13      0.25      0.17       314\n",
      "        40.0       0.09      0.01      0.01       358\n",
      "        50.0       0.02      0.05      0.03        60\n",
      "        60.0       0.35      0.31      0.32       627\n",
      "       100.0       0.18      0.42      0.25       408\n",
      "\n",
      "    accuracy                           0.31      3763\n",
      "   macro avg       0.22      0.23      0.20      3763\n",
      "weighted avg       0.33      0.31      0.30      3763\n",
      "\n"
     ]
    },
    {
     "name": "stderr",
     "output_type": "stream",
     "text": [
      "\r",
      " 19%|█▉        | 5/26 [06:50<30:58, 88.50s/it]"
     ]
    },
    {
     "name": "stdout",
     "output_type": "stream",
     "text": [
      "Index(['month', 'day', 'year', 'hour', 'minute'], dtype='object')\n",
      "For 5 features: \n",
      " Accuracy: 0.30544849614053765 \n",
      " Precision: 0.22027283169432726 \n",
      " Recall: 0.21837292460279947 \n",
      " F1 score: 0.19679468018188268\n",
      "              precision    recall  f1-score   support\n",
      "\n",
      "        10.0       0.53      0.50      0.52      1423\n",
      "        20.0       0.18      0.03      0.05       580\n",
      "        30.0       0.13      0.29      0.18       317\n",
      "        40.0       0.20      0.04      0.07       347\n",
      "        50.0       0.03      0.09      0.05        57\n",
      "        60.0       0.32      0.26      0.28       614\n",
      "       100.0       0.19      0.39      0.25       419\n",
      "\n",
      "    accuracy                           0.31      3757\n",
      "   macro avg       0.22      0.23      0.20      3757\n",
      "weighted avg       0.33      0.31      0.30      3757\n",
      "\n"
     ]
    },
    {
     "name": "stderr",
     "output_type": "stream",
     "text": [
      "\r",
      " 23%|██▎       | 6/26 [08:33<31:12, 93.64s/it]"
     ]
    },
    {
     "name": "stdout",
     "output_type": "stream",
     "text": [
      "Index(['month', 'day', 'year', 'hour', 'minute', 'holiday'], dtype='object')\n",
      "For 6 features: \n",
      " Accuracy: 0.3085603838976273 \n",
      " Precision: 0.22193890413185954 \n",
      " Recall: 0.22061270846552122 \n",
      " F1 score: 0.20562642441368661\n",
      "              precision    recall  f1-score   support\n",
      "\n",
      "        10.0       0.56      0.56      0.56      1434\n",
      "        20.0       0.16      0.04      0.06       603\n",
      "        30.0       0.13      0.26      0.18       327\n",
      "        40.0       0.17      0.07      0.10       346\n",
      "        50.0       0.02      0.16      0.03        57\n",
      "        60.0       0.27      0.11      0.15       562\n",
      "       100.0       0.21      0.33      0.25       422\n",
      "\n",
      "    accuracy                           0.30      3751\n",
      "   macro avg       0.22      0.22      0.19      3751\n",
      "weighted avg       0.33      0.30      0.30      3751\n",
      "\n"
     ]
    },
    {
     "name": "stderr",
     "output_type": "stream",
     "text": [
      "\r",
      " 27%|██▋       | 7/26 [10:26<31:40, 100.00s/it]"
     ]
    },
    {
     "name": "stdout",
     "output_type": "stream",
     "text": [
      "Index(['month', 'day', 'year', 'hour', 'minute', 'holiday', 'day.1'], dtype='object')\n",
      "For 7 features: \n",
      " Accuracy: 0.31536181575433914 \n",
      " Precision: 0.24126562409757168 \n",
      " Recall: 0.23960935560856875 \n",
      " F1 score: 0.2155689711525517\n",
      "              precision    recall  f1-score   support\n",
      "\n",
      "        10.0       0.57      0.53      0.55      1381\n",
      "        20.0       0.23      0.10      0.14       605\n",
      "        30.0       0.13      0.22      0.16       327\n",
      "        40.0       0.22      0.04      0.07       335\n",
      "        50.0       0.03      0.26      0.06        62\n",
      "        60.0       0.34      0.22      0.26       600\n",
      "       100.0       0.24      0.39      0.30       435\n",
      "\n",
      "    accuracy                           0.32      3745\n",
      "   macro avg       0.25      0.25      0.22      3745\n",
      "weighted avg       0.36      0.32      0.32      3745\n",
      "\n"
     ]
    },
    {
     "name": "stderr",
     "output_type": "stream",
     "text": [
      "\r",
      " 31%|███       | 8/26 [12:42<33:23, 111.30s/it]"
     ]
    },
    {
     "name": "stdout",
     "output_type": "stream",
     "text": [
      "Index(['month', 'day', 'year', 'hour', 'minute', 'holiday', 'day.1',\n",
      "       'temperature'],\n",
      "      dtype='object')\n",
      "For 8 features: \n",
      " Accuracy: 0.3024150842471249 \n",
      " Precision: 0.24050064692831807 \n",
      " Recall: 0.23975285150988984 \n",
      " F1 score: 0.21690861896757668\n",
      "              precision    recall  f1-score   support\n",
      "\n",
      "        10.0       0.63      0.47      0.54      1424\n",
      "        20.0       0.21      0.11      0.14       590\n",
      "        30.0       0.13      0.24      0.17       313\n",
      "        40.0       0.20      0.10      0.13       356\n",
      "        50.0       0.01      0.08      0.02        53\n",
      "        60.0       0.30      0.23      0.26       598\n",
      "       100.0       0.22      0.38      0.28       405\n",
      "\n",
      "    accuracy                           0.30      3739\n",
      "   macro avg       0.24      0.23      0.22      3739\n",
      "weighted avg       0.38      0.30      0.33      3739\n",
      "\n"
     ]
    },
    {
     "name": "stderr",
     "output_type": "stream",
     "text": [
      "\r",
      " 35%|███▍      | 9/26 [15:09<34:42, 122.51s/it]"
     ]
    },
    {
     "name": "stdout",
     "output_type": "stream",
     "text": [
      "Index(['month', 'day', 'year', 'hour', 'minute', 'holiday', 'day.1',\n",
      "       'temperature', 'humidity'],\n",
      "      dtype='object')\n",
      "For 9 features: \n",
      " Accuracy: 0.30001339405304045 \n",
      " Precision: 0.2346335805188202 \n",
      " Recall: 0.24152422363932724 \n",
      " F1 score: 0.2161364383003658\n",
      "              precision    recall  f1-score   support\n",
      "\n",
      "        10.0       0.61      0.47      0.53      1415\n",
      "        20.0       0.19      0.07      0.10       581\n",
      "        30.0       0.11      0.22      0.15       294\n",
      "        40.0       0.15      0.14      0.14       348\n",
      "        50.0       0.03      0.20      0.06        71\n",
      "        60.0       0.32      0.22      0.26       594\n",
      "       100.0       0.25      0.39      0.31       430\n",
      "\n",
      "    accuracy                           0.31      3733\n",
      "   macro avg       0.24      0.25      0.22      3733\n",
      "weighted avg       0.36      0.31      0.32      3733\n",
      "\n"
     ]
    },
    {
     "name": "stderr",
     "output_type": "stream",
     "text": [
      "\r",
      " 38%|███▊      | 10/26 [17:46<35:29, 133.11s/it]"
     ]
    },
    {
     "name": "stdout",
     "output_type": "stream",
     "text": [
      "Index(['month', 'day', 'year', 'hour', 'minute', 'holiday', 'day.1',\n",
      "       'temperature', 'humidity', 'pressure'],\n",
      "      dtype='object')\n",
      "For 10 features: \n",
      " Accuracy: 0.30840890796887577 \n",
      " Precision: 0.2428547089368746 \n",
      " Recall: 0.2493081996620938 \n",
      " F1 score: 0.22822977912037182\n",
      "              precision    recall  f1-score   support\n",
      "\n",
      "        10.0       0.61      0.48      0.54      1421\n",
      "        20.0       0.22      0.13      0.16       564\n",
      "        30.0       0.12      0.22      0.15       308\n",
      "        40.0       0.19      0.14      0.17       347\n",
      "        50.0       0.02      0.18      0.04        50\n",
      "        60.0       0.25      0.17      0.20       602\n",
      "       100.0       0.27      0.42      0.33       435\n",
      "\n",
      "    accuracy                           0.31      3727\n",
      "   macro avg       0.24      0.25      0.23      3727\n",
      "weighted avg       0.37      0.31      0.33      3727\n",
      "\n"
     ]
    },
    {
     "name": "stderr",
     "output_type": "stream",
     "text": [
      "\r",
      " 42%|████▏     | 11/26 [20:24<35:09, 140.62s/it]"
     ]
    },
    {
     "name": "stdout",
     "output_type": "stream",
     "text": [
      "Index(['month', 'day', 'year', 'hour', 'minute', 'holiday', 'day.1',\n",
      "       'temperature', 'humidity', 'pressure', 'heavy intensity rain'],\n",
      "      dtype='object')\n",
      "For 11 features: \n",
      " Accuracy: 0.3041951088417092 \n",
      " Precision: 0.24178637687786783 \n",
      " Recall: 0.2454076385033938 \n",
      " F1 score: 0.22555338208383377\n",
      "              precision    recall  f1-score   support\n",
      "\n",
      "        10.0       0.61      0.46      0.52      1363\n",
      "        20.0       0.23      0.13      0.16       572\n",
      "        30.0       0.11      0.20      0.14       307\n",
      "        40.0       0.16      0.19      0.17       349\n",
      "        50.0       0.02      0.16      0.04        64\n",
      "        60.0       0.29      0.14      0.19       618\n",
      "       100.0       0.26      0.38      0.31       448\n",
      "\n",
      "    accuracy                           0.29      3721\n",
      "   macro avg       0.24      0.23      0.22      3721\n",
      "weighted avg       0.36      0.29      0.31      3721\n",
      "\n"
     ]
    },
    {
     "name": "stderr",
     "output_type": "stream",
     "text": [
      "\r",
      " 46%|████▌     | 12/26 [23:04<34:14, 146.76s/it]"
     ]
    },
    {
     "name": "stdout",
     "output_type": "stream",
     "text": [
      "Index(['month', 'day', 'year', 'hour', 'minute', 'holiday', 'day.1',\n",
      "       'temperature', 'humidity', 'pressure', 'heavy intensity rain',\n",
      "       'light rain'],\n",
      "      dtype='object')\n",
      "For 12 features: \n",
      " Accuracy: 0.3051870794078062 \n",
      " Precision: 0.24345976475268893 \n",
      " Recall: 0.24503653173635523 \n",
      " F1 score: 0.2251226326415195\n",
      "              precision    recall  f1-score   support\n",
      "\n",
      "        10.0       0.58      0.46      0.51      1332\n",
      "        20.0       0.27      0.15      0.19       591\n",
      "        30.0       0.12      0.17      0.14       311\n",
      "        40.0       0.17      0.16      0.17       378\n",
      "        50.0       0.01      0.16      0.03        50\n",
      "        60.0       0.32      0.18      0.23       609\n",
      "       100.0       0.28      0.42      0.34       444\n",
      "\n",
      "    accuracy                           0.30      3715\n",
      "   macro avg       0.25      0.24      0.23      3715\n",
      "weighted avg       0.37      0.30      0.32      3715\n",
      "\n"
     ]
    },
    {
     "name": "stderr",
     "output_type": "stream",
     "text": [
      "\r",
      " 50%|█████     | 13/26 [25:28<31:37, 145.95s/it]"
     ]
    },
    {
     "name": "stdout",
     "output_type": "stream",
     "text": [
      "Index(['month', 'day', 'year', 'hour', 'minute', 'holiday', 'day.1',\n",
      "       'temperature', 'humidity', 'pressure', 'heavy intensity rain',\n",
      "       'light rain', 'broken clouds'],\n",
      "      dtype='object')\n",
      "For 13 features: \n",
      " Accuracy: 0.3072741978970073 \n",
      " Precision: 0.24504650680950082 \n",
      " Recall: 0.2463400694778093 \n",
      " F1 score: 0.2255458210017904\n",
      "              precision    recall  f1-score   support\n",
      "\n",
      "        10.0       0.61      0.46      0.53      1404\n",
      "        20.0       0.25      0.14      0.18       566\n",
      "        30.0       0.13      0.20      0.16       338\n",
      "        40.0       0.20      0.20      0.20       337\n",
      "        50.0       0.03      0.22      0.05        49\n",
      "        60.0       0.29      0.17      0.21       589\n",
      "       100.0       0.25      0.39      0.30       426\n",
      "\n",
      "    accuracy                           0.31      3709\n",
      "   macro avg       0.25      0.26      0.23      3709\n",
      "weighted avg       0.37      0.31      0.33      3709\n",
      "\n"
     ]
    },
    {
     "name": "stderr",
     "output_type": "stream",
     "text": [
      "\r",
      " 54%|█████▍    | 14/26 [27:57<29:19, 146.65s/it]"
     ]
    },
    {
     "name": "stdout",
     "output_type": "stream",
     "text": [
      "Index(['month', 'day', 'year', 'hour', 'minute', 'holiday', 'day.1',\n",
      "       'temperature', 'humidity', 'pressure', 'heavy intensity rain',\n",
      "       'light rain', 'broken clouds', 'scattered clouds'],\n",
      "      dtype='object')\n",
      "For 14 features: \n",
      " Accuracy: 0.3055549554415339 \n",
      " Precision: 0.24330748640263455 \n",
      " Recall: 0.24505679955766077 \n",
      " F1 score: 0.22493122650526493\n",
      "              precision    recall  f1-score   support\n",
      "\n",
      "        10.0       0.61      0.45      0.52      1393\n",
      "        20.0       0.23      0.14      0.17       598\n",
      "        30.0       0.12      0.18      0.15       304\n",
      "        40.0       0.17      0.11      0.13       343\n",
      "        50.0       0.01      0.14      0.02        59\n",
      "        60.0       0.30      0.18      0.22       590\n",
      "       100.0       0.27      0.43      0.33       416\n",
      "\n",
      "    accuracy                           0.30      3703\n",
      "   macro avg       0.25      0.23      0.22      3703\n",
      "weighted avg       0.37      0.30      0.32      3703\n",
      "\n"
     ]
    },
    {
     "name": "stderr",
     "output_type": "stream",
     "text": [
      "\r",
      " 58%|█████▊    | 15/26 [30:28<27:08, 148.07s/it]"
     ]
    },
    {
     "name": "stdout",
     "output_type": "stream",
     "text": [
      "Index(['month', 'day', 'year', 'hour', 'minute', 'holiday', 'day.1',\n",
      "       'temperature', 'humidity', 'pressure', 'heavy intensity rain',\n",
      "       'light rain', 'broken clouds', 'scattered clouds',\n",
      "       'thunderstorm with rain'],\n",
      "      dtype='object')\n",
      "For 15 features: \n",
      " Accuracy: 0.3054260210981877 \n",
      " Precision: 0.24323124909987484 \n",
      " Recall: 0.2448267027088379 \n",
      " F1 score: 0.22450858469373797\n",
      "              precision    recall  f1-score   support\n",
      "\n",
      "        10.0       0.60      0.48      0.53      1394\n",
      "        20.0       0.21      0.13      0.16       574\n",
      "        30.0       0.12      0.17      0.14       305\n",
      "        40.0       0.20      0.17      0.18       354\n",
      "        50.0       0.02      0.19      0.04        53\n",
      "        60.0       0.27      0.16      0.20       565\n",
      "       100.0       0.29      0.42      0.34       452\n",
      "\n",
      "    accuracy                           0.31      3697\n",
      "   macro avg       0.24      0.25      0.23      3697\n",
      "weighted avg       0.37      0.31      0.33      3697\n",
      "\n"
     ]
    },
    {
     "name": "stderr",
     "output_type": "stream",
     "text": [
      "\r",
      " 62%|██████▏   | 16/26 [33:18<25:46, 154.67s/it]"
     ]
    },
    {
     "name": "stdout",
     "output_type": "stream",
     "text": [
      "Index(['month', 'day', 'year', 'hour', 'minute', 'holiday', 'day.1',\n",
      "       'temperature', 'humidity', 'pressure', 'heavy intensity rain',\n",
      "       'light rain', 'broken clouds', 'scattered clouds',\n",
      "       'thunderstorm with rain', 'few clouds'],\n",
      "      dtype='object')\n",
      "For 16 features: \n",
      " Accuracy: 0.3066756976429152 \n",
      " Precision: 0.2445001036621833 \n",
      " Recall: 0.2468285134919763 \n",
      " F1 score: 0.22680412070689968\n",
      "              precision    recall  f1-score   support\n",
      "\n",
      "        10.0       0.61      0.48      0.54      1394\n",
      "        20.0       0.24      0.14      0.18       589\n",
      "        30.0       0.11      0.14      0.12       308\n",
      "        40.0       0.16      0.15      0.16       351\n",
      "        50.0       0.03      0.21      0.05        57\n",
      "        60.0       0.30      0.17      0.22       559\n",
      "       100.0       0.27      0.44      0.33       433\n",
      "\n",
      "    accuracy                           0.31      3691\n",
      "   macro avg       0.24      0.25      0.23      3691\n",
      "weighted avg       0.37      0.31      0.33      3691\n",
      "\n"
     ]
    },
    {
     "name": "stderr",
     "output_type": "stream",
     "text": [
      "\r",
      " 65%|██████▌   | 17/26 [36:16<24:14, 161.57s/it]"
     ]
    },
    {
     "name": "stdout",
     "output_type": "stream",
     "text": [
      "Index(['month', 'day', 'year', 'hour', 'minute', 'holiday', 'day.1',\n",
      "       'temperature', 'humidity', 'pressure', 'heavy intensity rain',\n",
      "       'light rain', 'broken clouds', 'scattered clouds',\n",
      "       'thunderstorm with rain', 'few clouds', 'thunderstorm'],\n",
      "      dtype='object')\n",
      "For 17 features: \n",
      " Accuracy: 0.3055033921302578 \n",
      " Precision: 0.2448852679044282 \n",
      " Recall: 0.24359810522148245 \n",
      " F1 score: 0.22567018180360254\n",
      "              precision    recall  f1-score   support\n",
      "\n",
      "        10.0       0.63      0.47      0.54      1424\n",
      "        20.0       0.25      0.16      0.20       583\n",
      "        30.0       0.12      0.18      0.14       323\n",
      "        40.0       0.17      0.13      0.15       321\n",
      "        50.0       0.02      0.19      0.04        59\n",
      "        60.0       0.32      0.21      0.26       554\n",
      "       100.0       0.28      0.41      0.33       421\n",
      "\n",
      "    accuracy                           0.31      3685\n",
      "   macro avg       0.25      0.25      0.24      3685\n",
      "weighted avg       0.39      0.31      0.34      3685\n",
      "\n"
     ]
    },
    {
     "name": "stderr",
     "output_type": "stream",
     "text": [
      "\r",
      " 69%|██████▉   | 18/26 [39:35<23:03, 172.91s/it]"
     ]
    },
    {
     "name": "stdout",
     "output_type": "stream",
     "text": [
      "Index(['month', 'day', 'year', 'hour', 'minute', 'holiday', 'day.1',\n",
      "       'temperature', 'humidity', 'pressure', 'heavy intensity rain',\n",
      "       'light rain', 'broken clouds', 'scattered clouds',\n",
      "       'thunderstorm with rain', 'few clouds', 'thunderstorm', 'shower rain'],\n",
      "      dtype='object')\n",
      "For 18 features: \n",
      " Accuracy: 0.30530035335689043 \n",
      " Precision: 0.24461709015377867 \n",
      " Recall: 0.24328926603636808 \n",
      " F1 score: 0.22569905394825696\n",
      "              precision    recall  f1-score   support\n",
      "\n",
      "        10.0       0.60      0.50      0.54      1361\n",
      "        20.0       0.29      0.19      0.23       608\n",
      "        30.0       0.13      0.13      0.13       319\n",
      "        40.0       0.16      0.19      0.17       353\n",
      "        50.0       0.02      0.20      0.03        56\n",
      "        60.0       0.30      0.14      0.19       570\n",
      "       100.0       0.25      0.35      0.29       412\n",
      "\n",
      "    accuracy                           0.31      3679\n",
      "   macro avg       0.25      0.24      0.23      3679\n",
      "weighted avg       0.37      0.31      0.33      3679\n",
      "\n"
     ]
    },
    {
     "name": "stderr",
     "output_type": "stream",
     "text": [
      "\r",
      " 73%|███████▎  | 19/26 [42:53<21:02, 180.42s/it]"
     ]
    },
    {
     "name": "stdout",
     "output_type": "stream",
     "text": [
      "Index(['month', 'day', 'year', 'hour', 'minute', 'holiday', 'day.1',\n",
      "       'temperature', 'humidity', 'pressure', 'heavy intensity rain',\n",
      "       'light rain', 'broken clouds', 'scattered clouds',\n",
      "       'thunderstorm with rain', 'few clouds', 'thunderstorm', 'shower rain',\n",
      "       'heavy intensity rain'],\n",
      "      dtype='object')\n",
      "For 19 features: \n",
      " Accuracy: 0.3050639803974952 \n",
      " Precision: 0.2440164669477014 \n",
      " Recall: 0.24277042523579692 \n",
      " F1 score: 0.22519933413098855\n",
      "              precision    recall  f1-score   support\n",
      "\n",
      "        10.0       0.63      0.48      0.55      1388\n",
      "        20.0       0.25      0.15      0.19       578\n",
      "        30.0       0.13      0.14      0.13       319\n",
      "        40.0       0.19      0.18      0.19       336\n",
      "        50.0       0.02      0.23      0.04        57\n",
      "        60.0       0.25      0.17      0.20       553\n",
      "       100.0       0.29      0.45      0.35       442\n",
      "\n",
      "    accuracy                           0.32      3673\n",
      "   macro avg       0.25      0.26      0.24      3673\n",
      "weighted avg       0.38      0.32      0.34      3673\n",
      "\n"
     ]
    },
    {
     "name": "stderr",
     "output_type": "stream",
     "text": [
      "\r",
      " 77%|███████▋  | 20/26 [46:16<18:42, 187.08s/it]"
     ]
    },
    {
     "name": "stdout",
     "output_type": "stream",
     "text": [
      "Index(['month', 'day', 'year', 'hour', 'minute', 'holiday', 'day.1',\n",
      "       'temperature', 'humidity', 'pressure', 'heavy intensity rain',\n",
      "       'light rain', 'broken clouds', 'scattered clouds',\n",
      "       'thunderstorm with rain', 'few clouds', 'thunderstorm', 'shower rain',\n",
      "       'heavy intensity rain', 'mist'],\n",
      "      dtype='object')\n",
      "For 20 features: \n",
      " Accuracy: 0.30421870739023726 \n",
      " Precision: 0.24260433421562036 \n",
      " Recall: 0.24160251385290468 \n",
      " F1 score: 0.22442678709795644\n",
      "              precision    recall  f1-score   support\n",
      "\n",
      "        10.0       0.61      0.49      0.54      1381\n",
      "        20.0       0.27      0.16      0.20       584\n",
      "        30.0       0.12      0.19      0.15       300\n",
      "        40.0       0.17      0.11      0.13       331\n",
      "        50.0       0.01      0.15      0.02        48\n",
      "        60.0       0.25      0.14      0.18       569\n",
      "       100.0       0.28      0.41      0.34       454\n",
      "\n",
      "    accuracy                           0.31      3667\n",
      "   macro avg       0.25      0.23      0.22      3667\n",
      "weighted avg       0.37      0.31      0.33      3667\n",
      "\n"
     ]
    },
    {
     "name": "stderr",
     "output_type": "stream",
     "text": [
      "\r",
      " 81%|████████  | 21/26 [49:46<16:10, 194.19s/it]"
     ]
    },
    {
     "name": "stdout",
     "output_type": "stream",
     "text": [
      "Index(['month', 'day', 'year', 'hour', 'minute', 'holiday', 'day.1',\n",
      "       'temperature', 'humidity', 'pressure', 'heavy intensity rain',\n",
      "       'light rain', 'broken clouds', 'scattered clouds',\n",
      "       'thunderstorm with rain', 'few clouds', 'thunderstorm', 'shower rain',\n",
      "       'heavy intensity rain', 'mist', 'scattered clouds'],\n",
      "      dtype='object')\n",
      "For 21 features: \n",
      " Accuracy: 0.30394427751980335 \n",
      " Precision: 0.24070592695085805 \n",
      " Recall: 0.2421782570397456 \n",
      " F1 score: 0.22306587295709587\n",
      "              precision    recall  f1-score   support\n",
      "\n",
      "        10.0       0.60      0.47      0.53      1407\n",
      "        20.0       0.24      0.14      0.18       579\n",
      "        30.0       0.10      0.15      0.12       284\n",
      "        40.0       0.16      0.13      0.15       333\n",
      "        50.0       0.02      0.17      0.03        54\n",
      "        60.0       0.26      0.16      0.20       570\n",
      "       100.0       0.27      0.38      0.32       434\n",
      "\n",
      "    accuracy                           0.30      3661\n",
      "   macro avg       0.24      0.23      0.22      3661\n",
      "weighted avg       0.36      0.30      0.32      3661\n",
      "\n"
     ]
    },
    {
     "name": "stderr",
     "output_type": "stream",
     "text": [
      "\r",
      " 85%|████████▍ | 22/26 [53:31<13:33, 203.31s/it]"
     ]
    },
    {
     "name": "stdout",
     "output_type": "stream",
     "text": [
      "Index(['month', 'day', 'year', 'hour', 'minute', 'holiday', 'day.1',\n",
      "       'temperature', 'humidity', 'pressure', 'heavy intensity rain',\n",
      "       'light rain', 'broken clouds', 'scattered clouds',\n",
      "       'thunderstorm with rain', 'few clouds', 'thunderstorm', 'shower rain',\n",
      "       'heavy intensity rain', 'mist', 'scattered clouds', 'very heavy rain'],\n",
      "      dtype='object')\n",
      "For 22 features: \n",
      " Accuracy: 0.3056853625170999 \n",
      " Precision: 0.24262221152788774 \n",
      " Recall: 0.24348397688313403 \n",
      " F1 score: 0.2246253323390111\n",
      "              precision    recall  f1-score   support\n",
      "\n",
      "        10.0       0.63      0.48      0.55      1415\n",
      "        20.0       0.26      0.15      0.19       569\n",
      "        30.0       0.11      0.16      0.13       304\n",
      "        40.0       0.16      0.18      0.17       346\n",
      "        50.0       0.03      0.25      0.05        52\n",
      "        60.0       0.30      0.14      0.19       549\n",
      "       100.0       0.29      0.45      0.35       420\n",
      "\n",
      "    accuracy                           0.32      3655\n",
      "   macro avg       0.25      0.26      0.23      3655\n",
      "weighted avg       0.39      0.32      0.34      3655\n",
      "\n"
     ]
    },
    {
     "name": "stderr",
     "output_type": "stream",
     "text": [
      "\r",
      " 88%|████████▊ | 23/26 [57:20<10:33, 211.04s/it]"
     ]
    },
    {
     "name": "stdout",
     "output_type": "stream",
     "text": [
      "Index(['month', 'day', 'year', 'hour', 'minute', 'holiday', 'day.1',\n",
      "       'temperature', 'humidity', 'pressure', 'heavy intensity rain',\n",
      "       'light rain', 'broken clouds', 'scattered clouds',\n",
      "       'thunderstorm with rain', 'few clouds', 'thunderstorm', 'shower rain',\n",
      "       'heavy intensity rain', 'mist', 'scattered clouds', 'very heavy rain',\n",
      "       'overcast clouds'],\n",
      "      dtype='object')\n",
      "For 23 features: \n",
      " Accuracy: 0.307662373252946 \n",
      " Precision: 0.24463959716908357 \n",
      " Recall: 0.24590260953517154 \n",
      " F1 score: 0.22697503419589096\n",
      "              precision    recall  f1-score   support\n",
      "\n",
      "        10.0       0.63      0.48      0.55      1414\n",
      "        20.0       0.23      0.16      0.19       546\n",
      "        30.0       0.10      0.13      0.11       291\n",
      "        40.0       0.17      0.17      0.17       337\n",
      "        50.0       0.02      0.24      0.05        51\n",
      "        60.0       0.28      0.19      0.22       555\n",
      "       100.0       0.30      0.42      0.35       455\n",
      "\n",
      "    accuracy                           0.32      3649\n",
      "   macro avg       0.25      0.25      0.23      3649\n",
      "weighted avg       0.38      0.32      0.34      3649\n",
      "\n"
     ]
    },
    {
     "name": "stderr",
     "output_type": "stream",
     "text": [
      "\r",
      " 92%|█████████▏| 24/26 [1:00:49<07:00, 210.47s/it]"
     ]
    },
    {
     "name": "stdout",
     "output_type": "stream",
     "text": [
      "Index(['month', 'day', 'year', 'hour', 'minute', 'holiday', 'day.1',\n",
      "       'temperature', 'humidity', 'pressure', 'heavy intensity rain',\n",
      "       'light rain', 'broken clouds', 'scattered clouds',\n",
      "       'thunderstorm with rain', 'few clouds', 'thunderstorm', 'shower rain',\n",
      "       'heavy intensity rain', 'mist', 'scattered clouds', 'very heavy rain',\n",
      "       'overcast clouds', 'moderate rain'],\n",
      "      dtype='object')\n",
      "For 24 features: \n",
      " Accuracy: 0.3047680483118309 \n",
      " Precision: 0.24315660234470027 \n",
      " Recall: 0.24512104770929383 \n",
      " F1 score: 0.22584640146102855\n",
      "              precision    recall  f1-score   support\n",
      "\n",
      "        10.0       0.61      0.46      0.52      1419\n",
      "        20.0       0.23      0.12      0.16       562\n",
      "        30.0       0.10      0.18      0.13       282\n",
      "        40.0       0.14      0.15      0.14       317\n",
      "        50.0       0.02      0.15      0.04        61\n",
      "        60.0       0.27      0.16      0.20       561\n",
      "       100.0       0.31      0.42      0.35       441\n",
      "\n",
      "    accuracy                           0.30      3643\n",
      "   macro avg       0.24      0.24      0.22      3643\n",
      "weighted avg       0.37      0.30      0.33      3643\n",
      "\n"
     ]
    },
    {
     "name": "stderr",
     "output_type": "stream",
     "text": [
      "\r",
      " 96%|█████████▌| 25/26 [1:04:27<03:32, 212.61s/it]"
     ]
    },
    {
     "name": "stdout",
     "output_type": "stream",
     "text": [
      "Index(['month', 'day', 'year', 'hour', 'minute', 'holiday', 'day.1',\n",
      "       'temperature', 'humidity', 'pressure', 'heavy intensity rain',\n",
      "       'light rain', 'broken clouds', 'scattered clouds',\n",
      "       'thunderstorm with rain', 'few clouds', 'thunderstorm', 'shower rain',\n",
      "       'heavy intensity rain', 'mist', 'scattered clouds', 'very heavy rain',\n",
      "       'overcast clouds', 'moderate rain', 'minute'],\n",
      "      dtype='object')\n",
      "For 25 features: \n",
      " Accuracy: 0.3062963981303272 \n",
      " Precision: 0.24266981192279558 \n",
      " Recall: 0.2456894761375356 \n",
      " F1 score: 0.22564478616270692\n",
      "              precision    recall  f1-score   support\n",
      "\n",
      "        10.0       0.61      0.46      0.53      1416\n",
      "        20.0       0.25      0.14      0.18       585\n",
      "        30.0       0.10      0.15      0.12       296\n",
      "        40.0       0.16      0.16      0.16       321\n",
      "        50.0       0.02      0.16      0.03        50\n",
      "        60.0       0.22      0.15      0.18       553\n",
      "       100.0       0.26      0.39      0.31       416\n",
      "\n",
      "    accuracy                           0.30      3637\n",
      "   macro avg       0.23      0.23      0.22      3637\n",
      "weighted avg       0.36      0.30      0.32      3637\n",
      "\n"
     ]
    },
    {
     "name": "stderr",
     "output_type": "stream",
     "text": [
      "100%|██████████| 26/26 [1:08:09<00:00, 157.27s/it]"
     ]
    },
    {
     "name": "stdout",
     "output_type": "stream",
     "text": [
      "Index(['month', 'day', 'year', 'hour', 'minute', 'holiday', 'day.1',\n",
      "       'temperature', 'humidity', 'pressure', 'heavy intensity rain',\n",
      "       'light rain', 'broken clouds', 'scattered clouds',\n",
      "       'thunderstorm with rain', 'few clouds', 'thunderstorm', 'shower rain',\n",
      "       'heavy intensity rain', 'mist', 'scattered clouds', 'very heavy rain',\n",
      "       'overcast clouds', 'moderate rain', 'minute', 'haze'],\n",
      "      dtype='object')\n",
      "For 26 features: \n",
      " Accuracy: 0.307336821812173 \n",
      " Precision: 0.2448607332238545 \n",
      " Recall: 0.24624766880324533 \n",
      " F1 score: 0.2272299197325324\n",
      "              precision    recall  f1-score   support\n",
      "\n",
      "        10.0       0.62      0.46      0.53      1381\n",
      "        20.0       0.26      0.15      0.19       579\n",
      "        30.0       0.11      0.19      0.14       282\n",
      "        40.0       0.15      0.12      0.13       348\n",
      "        50.0       0.02      0.19      0.04        53\n",
      "        60.0       0.27      0.17      0.21       571\n",
      "       100.0       0.24      0.40      0.30       417\n",
      "\n",
      "    accuracy                           0.30      3631\n",
      "   macro avg       0.24      0.24      0.22      3631\n",
      "weighted avg       0.37      0.30      0.32      3631\n",
      "\n",
      "\n",
      " \n",
      "\n"
     ]
    },
    {
     "name": "stderr",
     "output_type": "stream",
     "text": [
      "\n"
     ]
    }
   ],
   "source": [
    "analizeDF(hp4,orderOHE,27)"
   ]
  },
  {
   "cell_type": "markdown",
   "id": "417e85e3",
   "metadata": {},
   "source": [
    "### Ordinal Encoding"
   ]
  },
  {
   "cell_type": "code",
   "execution_count": 2,
   "id": "70aeacf2",
   "metadata": {},
   "outputs": [],
   "source": [
    "import pandas as pd\n",
    "import numpy as np\n",
    "from sklearn.model_selection import train_test_split\n",
    "from collections import Counter\n",
    "from imblearn.over_sampling import RandomOverSampler, SMOTE\n",
    "from sklearn.linear_model import LogisticRegression\n",
    "from sklearn import metrics\n",
    "from tqdm import tqdm\n",
    "from sklearn.metrics import classification_report\n",
    "import warnings\n",
    "from statistics import mean\n",
    "warnings.filterwarnings('ignore')"
   ]
  },
  {
   "cell_type": "code",
   "execution_count": 3,
   "id": "c67d7176",
   "metadata": {},
   "outputs": [],
   "source": [
    "hp_OE = pd.read_csv(\"harryPotterCleanOE.csv\")"
   ]
  },
  {
   "cell_type": "code",
   "execution_count": 4,
   "id": "4682af96",
   "metadata": {},
   "outputs": [],
   "source": [
    "#Variable order in ordinal encoding:\n",
    "pear_corrOE = ['temperature',\t'holiday',\t'day',\t'month',\t'pressure',\t'day.1',\t'report',\t'minute',\t'year',\t'humidity',\t'hour',\t'Pandemic']\n",
    "kend_corrOE = ['temperature',\t'holiday',\t'month',\t'day',\t'pressure',\t'day.1',\t'report',\t'year',\t'minute',\t'humidity',\t'hour',\t'Pandemic',]\n",
    "mutInf_classOE = ['month',\t'day',\t'year',\t'hour',\t'minute',\t'holiday',\t'day.1',\t'Pandemic',\t'temperature',\t'humidity',\t'pressure',\t'report',]\n",
    "mutInf_regOE = ['month',\t'day',\t'year',\t'hour',\t'minute',\t'holiday',\t'day.1',\t'Pandemic',\t'temperature',\t'humidity',\t'pressure',\t'report',]\n",
    "mutInf_class2OE = ['day',\t'temperature',\t'month',\t'humidity',\t'hour',\t'day.1',\t'pressure',\t'holiday',\t'year',\t'report',\t'minute',\t'Pandemic',]\n",
    "varThreOE = ['month',\t'day',\t'year',\t'hour',\t'minute',\t'holiday',\t'day.1',\t'temperature',\t'humidity',\t'pressure',\t'report']\n",
    "mrmrOE = ['temperature',\t'day.1',\t'hour',\t'holiday',\t'humidity',\t'day',\t'year',\t'month',\t'pressure',\t'minute',\t'report']\n",
    "\n",
    "orderOE=[pear_corrOE,kend_corrOE,mutInf_classOE,mutInf_regOE,mutInf_class2OE,varThreOE,mrmrOE]"
   ]
  },
  {
   "cell_type": "code",
   "execution_count": 5,
   "id": "258b3274",
   "metadata": {},
   "outputs": [
    {
     "data": {
      "text/plain": [
       "array([ 40.,  20.,  10.,  30.,  60., 100.,  50.])"
      ]
     },
     "execution_count": 5,
     "metadata": {},
     "output_type": "execute_result"
    }
   ],
   "source": [
    "#Delete all rows which contain outliers\n",
    "hp_clean = hp_OE[hp_OE.Harry_Potter_and_the_Forbidden != 0] #delete rows with 0 min\n",
    "hp_clean = hp_clean[hp_clean.Harry_Potter_and_the_Forbidden != 180]\n",
    "hp_clean = hp_clean[hp_clean.Harry_Potter_and_the_Forbidden != 150]\n",
    "hp_clean = hp_clean[hp_clean.Harry_Potter_and_the_Forbidden != 145]\n",
    "hp_clean = hp_clean[hp_clean.Harry_Potter_and_the_Forbidden != 135]\n",
    "hp_clean = hp_clean[hp_clean.Harry_Potter_and_the_Forbidden != 130]\n",
    "hp_clean = hp_clean[hp_clean.Harry_Potter_and_the_Forbidden != 11]\n",
    "hp_fin_clean = hp_clean[hp_clean.Harry_Potter_and_the_Forbidden != 125]\n",
    "\n",
    "#Replace times ending in 5 and also compacting the rest to have only 6 classes\n",
    "a=hp_fin_clean.Harry_Potter_and_the_Forbidden.replace([5, 15, 25, 35, 45, 55, 65, 75, 85, 95, 105, 115, 120, 110, 150,80, 90, 50,70], \n",
    "                                                       [10,10, 20, 30, 40, 50, 60, 60, 100, 100, 100, 100, 100, 100, 100,100, 100, 60,100])\n",
    "#Create the final dataframe\n",
    "df=pd.DataFrame(a)\n",
    "hp2=hp_fin_clean.drop('Harry_Potter_and_the_Forbidden',axis=1)\n",
    "hp3=pd.concat([hp2, df], axis=1)\n",
    "hp4=hp3.drop('Unnamed: 0',axis=1)\n",
    "hp4.drop(hp4.tail(20).index,inplace=True) \n",
    "hp4.Harry_Potter_and_the_Forbidden.unique()"
   ]
  }
 ],
 "metadata": {
  "kernelspec": {
   "display_name": "Python 3 (ipykernel)",
   "language": "python",
   "name": "python3"
  },
  "language_info": {
   "codemirror_mode": {
    "name": "ipython",
    "version": 3
   },
   "file_extension": ".py",
   "mimetype": "text/x-python",
   "name": "python",
   "nbconvert_exporter": "python",
   "pygments_lexer": "ipython3",
   "version": "3.8.8"
  }
 },
 "nbformat": 4,
 "nbformat_minor": 5
}
