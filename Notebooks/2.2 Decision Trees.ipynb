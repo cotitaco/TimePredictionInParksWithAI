{
 "cells": [
  {
   "cell_type": "markdown",
   "id": "03dcd49d",
   "metadata": {},
   "source": [
    "# Decision Tree Classifier on waiting times"
   ]
  },
  {
   "cell_type": "code",
   "execution_count": 1,
   "id": "fee0922e",
   "metadata": {},
   "outputs": [],
   "source": [
    "import pandas as pd\n",
    "import numpy as np\n",
    "import matplotlib as plt\n",
    "from collections import Counter\n",
    "from sklearn.model_selection import train_test_split\n",
    "from imblearn.over_sampling import SMOTE\n",
    "from sklearn import metrics\n",
    "from sklearn.metrics import classification_report\n",
    "from tqdm import tqdm\n",
    "from statistics import mean\n",
    "import math\n",
    "from statistics import mean\n",
    "import warnings\n",
    "warnings.filterwarnings('ignore')\n",
    "from sklearn.metrics import recall_score, accuracy_score\n",
    "\n",
    "from sklearn.tree import DecisionTreeClassifier\n",
    "from sklearn.tree import export_graphviz"
   ]
  },
  {
   "cell_type": "markdown",
   "id": "7dc90c82",
   "metadata": {},
   "source": [
    "Let's load all the different datasets with encoding techniques, erase the nulls and delete the rows with 0 waiting time"
   ]
  },
  {
   "cell_type": "code",
   "execution_count": 2,
   "id": "2b09cd2b",
   "metadata": {},
   "outputs": [],
   "source": [
    "hp_oHe = pd.read_csv('HP_OHE_3class.csv')\n",
    "hp_oHe.drop(hp_oHe.tail(17).index,inplace=True) \n",
    "hp_oHe = hp_oHe.drop('Unnamed: 0',axis=1)\n",
    "\n",
    "hp_ME = pd.read_csv(\"harryPotterClean.csv\")\n",
    "hp_ME.drop(hp_ME.tail(17).index,inplace=True) \n",
    "hp_ME = hp_ME.drop('Unnamed: 0',axis=1)\n",
    "\n",
    "hp_OE = pd.read_csv(\"harryPotterCleanOE.csv\")\n",
    "hp_OE.drop(hp_OE.tail(17).index,inplace=True) \n",
    "hp_OE = hp_OE.drop('Unnamed: 0',axis=1)"
   ]
  },
  {
   "cell_type": "markdown",
   "id": "865697e2",
   "metadata": {},
   "source": [
    "Important Functions"
   ]
  },
  {
   "cell_type": "code",
   "execution_count": 18,
   "id": "b5b87305",
   "metadata": {},
   "outputs": [],
   "source": [
    "def getXandY(df):\n",
    "    df.drop(df.tail(20).index,inplace=True) \n",
    "    x = df.drop(['HP_Forbidden_clean'],axis=1)\n",
    "    y = df.HP_Forbidden_clean\n",
    "    return(x,y)\n",
    "\n",
    "def trainTest(x,y):\n",
    "    X_train, X_test, y_train, y_test = train_test_split(x, y, test_size=0.30, shuffle=True)\n",
    "    return(X_train, X_test, y_train, y_test)\n",
    "\n",
    "#Function to perform oversampling\n",
    "def overSampling(X_train, y_train, y_test, method):\n",
    "    X_train_os, y_train_os= method.fit_resample(X_train, y_train)\n",
    "    # Check the number of records after over sampling\n",
    "    #print(sorted(Counter(y_train_os).items())) \n",
    "    return(X_train_os, y_train_os)\n",
    "\n",
    "smote = SMOTE(random_state=42)\n",
    "\n",
    "\n",
    "def testModel(df,var_order,n_vars,n_loops,method):\n",
    "    highest = 0\n",
    "    for j in tqdm(range(1,n_vars)):\n",
    "        #split our dataframe into X and Y\n",
    "        x,y=getXandY(df)\n",
    "        #create the lists to store metrics\n",
    "        acc = []\n",
    "        rec = []\n",
    "        preci = []\n",
    "        f1 = []\n",
    "        for i in range(n_loops):\n",
    "            #split the dataFrame into test and train\n",
    "            X_train, X_test, y_train, y_test = trainTest(x,y)\n",
    "            #Oversample the train dataset with SMOTE\n",
    "            X_train_os, y_train_os=overSampling(X_train, y_train, y_test, smote)\n",
    "            #define the variables order \n",
    "            X_train_os_r = X_train_os[var_order]\n",
    "            X_test_r = X_test[var_order]\n",
    "            df1= X_train_os_r.iloc[:, 0:j] #use only part of the variables\n",
    "            \n",
    "            #create and train decision trees\n",
    "            tree_clf = DecisionTreeClassifier()\n",
    "            tree_clf.fit(df1, y_train_os)\n",
    "        \n",
    "            y_pred=tree_clf.predict(X_test_r.iloc[:, 0:j])\n",
    "            ac=metrics.accuracy_score(y_test, y_pred)\n",
    "            acc.append(ac)\n",
    "            p=metrics.precision_score(y_test, y_pred,average='macro')\n",
    "            preci.append(p)\n",
    "            r=metrics.recall_score(y_test, y_pred,average='macro')\n",
    "            rec.append(r)\n",
    "            f=metrics.f1_score(y_test, y_pred, average='macro')\n",
    "            f1.append(f)\n",
    "        print(df1.columns)\n",
    "        print(\"For {} features: \\n Accuracy: {} \\n Precision: {} \\n Recall: {} \\n F1 score: {}\".format(\n",
    "        j,mean(acc),mean(preci),mean(rec),mean(f1)))\n",
    "        \n",
    "        if mean(acc)>highest:\n",
    "            highest = mean(acc)\n",
    "            best = \"best accuracy = {}, with {} features, with {}\".format(mean(acc),j,method)\n",
    "        print(best)\n",
    "        #print(classification_report(y_test, y_pred))\n",
    "    print(best)\n",
    "        \n",
    "def analizeDF(df,order,n_vars,n_loops):\n",
    "    for i in range(len(order)):\n",
    "        print('------------------------- Analyzing method {} -------------------------'.format(method[i]))\n",
    "        print('The variable order is: \\n {}'.format(order[i]))\n",
    "        testModel(df,order[i],n_vars,n_loops,method[i])\n",
    "        print('\\n \\n')"
   ]
  },
  {
   "cell_type": "markdown",
   "id": "6fa4345e",
   "metadata": {},
   "source": [
    "## One hot encoding"
   ]
  },
  {
   "cell_type": "code",
   "execution_count": 4,
   "id": "60806198",
   "metadata": {},
   "outputs": [],
   "source": [
    "#Variable order in one hot encoding:\n",
    "pear_corrO = ['temperature',\t'holiday',\t'day',\t'month',\t'pressure',\t'dayOfTheWeek',\t'shower rain',\t'broken clouds',\t'fog',\t'overcast clouds',\t'heavy intensity rain',\t'minute',\t'haze',\t'thunderstorm with light rain',\t'scattered clouds',\t'clear sky',\t'mist',\t'light intensity drizzle',\t'few clouds',\t'thunderstorm',\t'very heavy rain',\t'moderate rain',\t'thunderstorm with rain',\t'year',\t'light rain',\t'humidity',\t'hour',\t'Pandemic']\n",
    "kend_corrO = ['temperature',\t'holiday',\t'month',\t'day',\t'pressure',\t'dayOfTheWeek',\t'shower rain',\t'broken clouds',\t'heavy intensity rain',\t'fog',\t'year',\t'overcast clouds',\t'minute',\t'haze',\t'thunderstorm with light rain',\t'mist',\t'light intensity drizzle',\t'scattered clouds',\t'clear sky',\t'few clouds',\t'thunderstorm',\t'very heavy rain',\t'moderate rain',\t'thunderstorm with rain',\t'light rain',\t'humidity',\t'hour',\t'Pandemic']\n",
    "mutInf_classO = ['month',\t'day',\t'year',\t'hour',\t'minute',\t'holiday',\t'dayOfTheWeek',\t'Pandemic',\t'temperature',\t'humidity',\t'pressure',\t'heavy intensity rain',\t'light rain',\t'broken clouds',\t'moderate rain',\t'mist',\t'overcast clouds',\t'clear sky',\t'scattered clouds',\t'thunderstorm with rain',\t'few clouds',\t'thunderstorm',\t'shower rain',\t'very heavy rain',\t'fog',\t'haze',\t'thunderstorm with light rain',\t'light intensity drizzle']\n",
    "mutInf_regO = ['month',\t'day',\t'year',\t'hour',\t'minute',\t'holiday',\t'dayOfTheWeek',\t'Pandemic',\t'temperature',\t'humidity',\t'pressure',\t'heavy intensity rain',\t'light rain',\t'broken clouds',\t'moderate rain',\t'mist',\t'overcast clouds',\t'clear sky',\t'scattered clouds',\t'thunderstorm with rain',\t'few clouds',\t'thunderstorm',\t'shower rain',\t'very heavy rain',\t'fog',\t'haze',\t'thunderstorm with light rain',\t'light intensity drizzle']\n",
    "mutInf_class2O = ['day',\t'temperature',\t'month',\t'humidity',\t'hour',\t'pressure','dayOfTheWeek',\t'year',\t'holiday',\t'shower rain',\t'light rain',\t'thunderstorm',\t'fog',\t'broken clouds',\t'Pandemic',\t'thunderstorm with rain',\t'light intensity drizzle',\t'thunderstorm with light rain',\t'heavy intensity rain',\t'mist',\t'scattered clouds',\t'very heavy rain',\t'overcast clouds',\t'moderate rain',\t'minute',\t'haze',\t'few clouds',\t'clear sky']\n",
    "varThreO = ['month',\t'day',\t'year',\t'hour',\t'minute',\t'holiday',\t'dayOfTheWeek',\t'temperature',\t'humidity',\t'pressure',\t'heavy intensity rain',\t'light rain',\t'broken clouds',\t'scattered clouds',\t'thunderstorm with rain',\t'few clouds',\t'thunderstorm',\t'shower rain',]\n",
    "mrmrO = ['month',\t'day',\t'year',\t'hour',\t'minute',\t'holiday',\t'dayOfTheWeek',\t'temperature',\t'humidity',\t'pressure',\t'heavy intensity rain',\t'light rain',\t'broken clouds',\t'scattered clouds',\t'thunderstorm with rain',\t'few clouds',\t'thunderstorm',\t'shower rain',\t'heavy intensity rain',\t'mist',\t'scattered clouds',\t'very heavy rain',\t'overcast clouds',\t'moderate rain',\t'minute',\t'haze',\t'few clouds']\n",
    "\n",
    "orderOHE=[pear_corrO,kend_corrO,mutInf_classO,mutInf_regO,mutInf_class2O,varThreO,mrmrO]\n",
    "\n",
    "method = ['Pearson_correlation','Kendalls_correlation','mutualInformation_classification',\n",
    "          'mutualInformation_reggression','mutualInformation_classification2',\n",
    "          'varianceThreshold','MRMR']"
   ]
  },
  {
   "cell_type": "code",
   "execution_count": 19,
   "id": "22092536",
   "metadata": {
    "scrolled": true
   },
   "outputs": [
    {
     "name": "stderr",
     "output_type": "stream",
     "text": [
      "\r",
      "  0%|          | 0/27 [00:00<?, ?it/s]"
     ]
    },
    {
     "name": "stdout",
     "output_type": "stream",
     "text": [
      "------------------------- Analyzing method Pearson_correlation -------------------------\n",
      "The variable order is: \n",
      " ['temperature', 'holiday', 'day', 'month', 'pressure', 'dayOfTheWeek', 'shower rain', 'broken clouds', 'fog', 'overcast clouds', 'heavy intensity rain', 'minute', 'haze', 'thunderstorm with light rain', 'scattered clouds', 'clear sky', 'mist', 'light intensity drizzle', 'few clouds', 'thunderstorm', 'very heavy rain', 'moderate rain', 'thunderstorm with rain', 'year', 'light rain', 'humidity', 'hour', 'Pandemic']\n"
     ]
    },
    {
     "name": "stderr",
     "output_type": "stream",
     "text": [
      "\r",
      "  4%|▎         | 1/27 [00:03<01:25,  3.28s/it]"
     ]
    },
    {
     "name": "stdout",
     "output_type": "stream",
     "text": [
      "Index(['temperature'], dtype='object')\n",
      "For 1 features: \n",
      " Accuracy: 0.47597692105953315 \n",
      " Precision: 0.3639868984750958 \n",
      " Recall: 0.3577108616481101 \n",
      " F1 score: 0.35190888457802116\n",
      "best accuracy = 0.47597692105953315, with 1 features, with Pearson_correlation\n"
     ]
    },
    {
     "name": "stderr",
     "output_type": "stream",
     "text": [
      "\r",
      "  7%|▋         | 2/27 [00:06<01:20,  3.20s/it]"
     ]
    },
    {
     "name": "stdout",
     "output_type": "stream",
     "text": [
      "Index(['temperature', 'holiday'], dtype='object')\n",
      "For 2 features: \n",
      " Accuracy: 0.49123982138166533 \n",
      " Precision: 0.40001975716341037 \n",
      " Recall: 0.3878442219234785 \n",
      " F1 score: 0.3877261630574558\n",
      "best accuracy = 0.49123982138166533, with 2 features, with Pearson_correlation\n"
     ]
    },
    {
     "name": "stderr",
     "output_type": "stream",
     "text": [
      "\r",
      " 11%|█         | 3/27 [00:09<01:16,  3.18s/it]"
     ]
    },
    {
     "name": "stdout",
     "output_type": "stream",
     "text": [
      "Index(['temperature', 'holiday', 'day'], dtype='object')\n",
      "For 3 features: \n",
      " Accuracy: 0.6292554590897133 \n",
      " Precision: 0.5835925381206347 \n",
      " Recall: 0.5995831865987874 \n",
      " F1 score: 0.5895404552073114\n",
      "best accuracy = 0.6292554590897133, with 3 features, with Pearson_correlation\n"
     ]
    },
    {
     "name": "stderr",
     "output_type": "stream",
     "text": [
      "\r",
      " 15%|█▍        | 4/27 [00:12<01:13,  3.20s/it]"
     ]
    },
    {
     "name": "stdout",
     "output_type": "stream",
     "text": [
      "Index(['temperature', 'holiday', 'day', 'month'], dtype='object')\n",
      "For 4 features: \n",
      " Accuracy: 0.7697233201581027 \n",
      " Precision: 0.7267699983061203 \n",
      " Recall: 0.7360973551129034 \n",
      " F1 score: 0.7310045289207769\n",
      "best accuracy = 0.7697233201581027, with 4 features, with Pearson_correlation\n"
     ]
    },
    {
     "name": "stderr",
     "output_type": "stream",
     "text": [
      "\r",
      " 19%|█▊        | 5/27 [00:16<01:10,  3.22s/it]"
     ]
    },
    {
     "name": "stdout",
     "output_type": "stream",
     "text": [
      "Index(['temperature', 'holiday', 'day', 'month', 'pressure'], dtype='object')\n",
      "For 5 features: \n",
      " Accuracy: 0.837780416996569 \n",
      " Precision: 0.8066955308095086 \n",
      " Recall: 0.8102196139228858 \n",
      " F1 score: 0.8083228849186035\n",
      "best accuracy = 0.837780416996569, with 5 features, with Pearson_correlation\n"
     ]
    },
    {
     "name": "stderr",
     "output_type": "stream",
     "text": [
      "\r",
      " 22%|██▏       | 6/27 [00:19<01:08,  3.25s/it]"
     ]
    },
    {
     "name": "stdout",
     "output_type": "stream",
     "text": [
      "Index(['temperature', 'holiday', 'day', 'month', 'pressure', 'dayOfTheWeek'], dtype='object')\n",
      "For 6 features: \n",
      " Accuracy: 0.8482157018239492 \n",
      " Precision: 0.8176008427864455 \n",
      " Recall: 0.8204392643653797 \n",
      " F1 score: 0.8189091186411633\n",
      "best accuracy = 0.8482157018239492, with 6 features, with Pearson_correlation\n"
     ]
    },
    {
     "name": "stderr",
     "output_type": "stream",
     "text": [
      "\r",
      " 26%|██▌       | 7/27 [00:22<01:05,  3.28s/it]"
     ]
    },
    {
     "name": "stdout",
     "output_type": "stream",
     "text": [
      "Index(['temperature', 'holiday', 'day', 'month', 'pressure', 'dayOfTheWeek',\n",
      "       'shower rain'],\n",
      "      dtype='object')\n",
      "For 7 features: \n",
      " Accuracy: 0.8485041037860737 \n",
      " Precision: 0.8183551373276337 \n",
      " Recall: 0.822402257943603 \n",
      " F1 score: 0.8202579639054829\n",
      "best accuracy = 0.8485041037860737, with 7 features, with Pearson_correlation\n"
     ]
    },
    {
     "name": "stderr",
     "output_type": "stream",
     "text": [
      "\r",
      " 30%|██▉       | 8/27 [00:26<01:02,  3.30s/it]"
     ]
    },
    {
     "name": "stdout",
     "output_type": "stream",
     "text": [
      "Index(['temperature', 'holiday', 'day', 'month', 'pressure', 'dayOfTheWeek',\n",
      "       'shower rain', 'broken clouds'],\n",
      "      dtype='object')\n",
      "For 8 features: \n",
      " Accuracy: 0.851829753381066 \n",
      " Precision: 0.8218280301965587 \n",
      " Recall: 0.825444627421779 \n",
      " F1 score: 0.8234989136426109\n",
      "best accuracy = 0.851829753381066, with 8 features, with Pearson_correlation\n"
     ]
    },
    {
     "name": "stderr",
     "output_type": "stream",
     "text": [
      "\r",
      " 33%|███▎      | 9/27 [00:29<00:59,  3.30s/it]"
     ]
    },
    {
     "name": "stdout",
     "output_type": "stream",
     "text": [
      "Index(['temperature', 'holiday', 'day', 'month', 'pressure', 'dayOfTheWeek',\n",
      "       'shower rain', 'broken clouds', 'fog'],\n",
      "      dtype='object')\n",
      "For 9 features: \n",
      " Accuracy: 0.8521381142098273 \n",
      " Precision: 0.8220177136022431 \n",
      " Recall: 0.8255396429964207 \n",
      " F1 score: 0.8236292298568308\n",
      "best accuracy = 0.8521381142098273, with 9 features, with Pearson_correlation\n"
     ]
    },
    {
     "name": "stderr",
     "output_type": "stream",
     "text": [
      "\r",
      " 37%|███▋      | 10/27 [00:32<00:57,  3.36s/it]"
     ]
    },
    {
     "name": "stdout",
     "output_type": "stream",
     "text": [
      "Index(['temperature', 'holiday', 'day', 'month', 'pressure', 'dayOfTheWeek',\n",
      "       'shower rain', 'broken clouds', 'fog', 'overcast clouds'],\n",
      "      dtype='object')\n",
      "For 10 features: \n",
      " Accuracy: 0.8524474594306997 \n",
      " Precision: 0.8216548641261837 \n",
      " Recall: 0.8252588911753809 \n",
      " F1 score: 0.8233412867087474\n",
      "best accuracy = 0.8524474594306997, with 10 features, with Pearson_correlation\n"
     ]
    },
    {
     "name": "stderr",
     "output_type": "stream",
     "text": [
      "\r",
      " 41%|████      | 11/27 [00:36<00:54,  3.40s/it]"
     ]
    },
    {
     "name": "stdout",
     "output_type": "stream",
     "text": [
      "Index(['temperature', 'holiday', 'day', 'month', 'pressure', 'dayOfTheWeek',\n",
      "       'shower rain', 'broken clouds', 'fog', 'overcast clouds',\n",
      "       'heavy intensity rain'],\n",
      "      dtype='object')\n",
      "For 11 features: \n",
      " Accuracy: 0.8516120436983746 \n",
      " Precision: 0.8216161900569183 \n",
      " Recall: 0.8257565953200616 \n",
      " F1 score: 0.8235109313302816\n",
      "best accuracy = 0.8524474594306997, with 10 features, with Pearson_correlation\n"
     ]
    },
    {
     "name": "stderr",
     "output_type": "stream",
     "text": [
      "\r",
      " 44%|████▍     | 12/27 [00:39<00:51,  3.46s/it]"
     ]
    },
    {
     "name": "stdout",
     "output_type": "stream",
     "text": [
      "Index(['temperature', 'holiday', 'day', 'month', 'pressure', 'dayOfTheWeek',\n",
      "       'shower rain', 'broken clouds', 'fog', 'overcast clouds',\n",
      "       'heavy intensity rain', 'minute'],\n",
      "      dtype='object')\n",
      "For 12 features: \n",
      " Accuracy: 0.8266346410461702 \n",
      " Precision: 0.7891880997909069 \n",
      " Recall: 0.7949236216210869 \n",
      " F1 score: 0.791853964275999\n",
      "best accuracy = 0.8524474594306997, with 10 features, with Pearson_correlation\n"
     ]
    },
    {
     "name": "stderr",
     "output_type": "stream",
     "text": [
      "\r",
      " 48%|████▊     | 13/27 [00:43<00:48,  3.48s/it]"
     ]
    },
    {
     "name": "stdout",
     "output_type": "stream",
     "text": [
      "Index(['temperature', 'holiday', 'day', 'month', 'pressure', 'dayOfTheWeek',\n",
      "       'shower rain', 'broken clouds', 'fog', 'overcast clouds',\n",
      "       'heavy intensity rain', 'minute', 'haze'],\n",
      "      dtype='object')\n",
      "For 13 features: \n",
      " Accuracy: 0.8267040898155573 \n",
      " Precision: 0.7902802425245162 \n",
      " Recall: 0.7936176456618395 \n",
      " F1 score: 0.7917930621212862\n",
      "best accuracy = 0.8524474594306997, with 10 features, with Pearson_correlation\n"
     ]
    },
    {
     "name": "stderr",
     "output_type": "stream",
     "text": [
      "\r",
      " 52%|█████▏    | 14/27 [00:47<00:45,  3.50s/it]"
     ]
    },
    {
     "name": "stdout",
     "output_type": "stream",
     "text": [
      "Index(['temperature', 'holiday', 'day', 'month', 'pressure', 'dayOfTheWeek',\n",
      "       'shower rain', 'broken clouds', 'fog', 'overcast clouds',\n",
      "       'heavy intensity rain', 'minute', 'haze',\n",
      "       'thunderstorm with light rain'],\n",
      "      dtype='object')\n",
      "For 14 features: \n",
      " Accuracy: 0.8253815261044177 \n",
      " Precision: 0.7894161517227815 \n",
      " Recall: 0.7933577461959446 \n",
      " F1 score: 0.7912470186901837\n",
      "best accuracy = 0.8524474594306997, with 10 features, with Pearson_correlation\n"
     ]
    },
    {
     "name": "stderr",
     "output_type": "stream",
     "text": [
      "\r",
      " 56%|█████▌    | 15/27 [00:50<00:42,  3.52s/it]"
     ]
    },
    {
     "name": "stdout",
     "output_type": "stream",
     "text": [
      "Index(['temperature', 'holiday', 'day', 'month', 'pressure', 'dayOfTheWeek',\n",
      "       'shower rain', 'broken clouds', 'fog', 'overcast clouds',\n",
      "       'heavy intensity rain', 'minute', 'haze',\n",
      "       'thunderstorm with light rain', 'scattered clouds'],\n",
      "      dtype='object')\n",
      "For 15 features: \n",
      " Accuracy: 0.8277286135693215 \n",
      " Precision: 0.7916543945024584 \n",
      " Recall: 0.7955440928505042 \n",
      " F1 score: 0.793403129170679\n",
      "best accuracy = 0.8524474594306997, with 10 features, with Pearson_correlation\n"
     ]
    },
    {
     "name": "stderr",
     "output_type": "stream",
     "text": [
      "\r",
      " 59%|█████▉    | 16/27 [00:54<00:39,  3.55s/it]"
     ]
    },
    {
     "name": "stdout",
     "output_type": "stream",
     "text": [
      "Index(['temperature', 'holiday', 'day', 'month', 'pressure', 'dayOfTheWeek',\n",
      "       'shower rain', 'broken clouds', 'fog', 'overcast clouds',\n",
      "       'heavy intensity rain', 'minute', 'haze',\n",
      "       'thunderstorm with light rain', 'scattered clouds', 'clear sky'],\n",
      "      dtype='object')\n",
      "For 16 features: \n",
      " Accuracy: 0.8229250604351329 \n",
      " Precision: 0.7861565521254348 \n",
      " Recall: 0.7909283177405438 \n",
      " F1 score: 0.7883642113293523\n",
      "best accuracy = 0.8524474594306997, with 10 features, with Pearson_correlation\n"
     ]
    },
    {
     "name": "stderr",
     "output_type": "stream",
     "text": [
      "\r",
      " 63%|██████▎   | 17/27 [00:57<00:35,  3.57s/it]"
     ]
    },
    {
     "name": "stdout",
     "output_type": "stream",
     "text": [
      "Index(['temperature', 'holiday', 'day', 'month', 'pressure', 'dayOfTheWeek',\n",
      "       'shower rain', 'broken clouds', 'fog', 'overcast clouds',\n",
      "       'heavy intensity rain', 'minute', 'haze',\n",
      "       'thunderstorm with light rain', 'scattered clouds', 'clear sky',\n",
      "       'mist'],\n",
      "      dtype='object')\n",
      "For 17 features: \n",
      " Accuracy: 0.8260694108151735 \n",
      " Precision: 0.7887269650064131 \n",
      " Recall: 0.7926832848623626 \n",
      " F1 score: 0.7905140168032909\n",
      "best accuracy = 0.8524474594306997, with 10 features, with Pearson_correlation\n"
     ]
    },
    {
     "name": "stderr",
     "output_type": "stream",
     "text": [
      "\r",
      " 67%|██████▋   | 18/27 [01:01<00:32,  3.59s/it]"
     ]
    },
    {
     "name": "stdout",
     "output_type": "stream",
     "text": [
      "Index(['temperature', 'holiday', 'day', 'month', 'pressure', 'dayOfTheWeek',\n",
      "       'shower rain', 'broken clouds', 'fog', 'overcast clouds',\n",
      "       'heavy intensity rain', 'minute', 'haze',\n",
      "       'thunderstorm with light rain', 'scattered clouds', 'clear sky', 'mist',\n",
      "       'light intensity drizzle'],\n",
      "      dtype='object')\n",
      "For 18 features: \n",
      " Accuracy: 0.8257477768795473 \n",
      " Precision: 0.7880046223040655 \n",
      " Recall: 0.7936578785244343 \n",
      " F1 score: 0.7905990696055923\n",
      "best accuracy = 0.8524474594306997, with 10 features, with Pearson_correlation\n"
     ]
    },
    {
     "name": "stderr",
     "output_type": "stream",
     "text": [
      "\r",
      " 70%|███████   | 19/27 [01:05<00:28,  3.60s/it]"
     ]
    },
    {
     "name": "stdout",
     "output_type": "stream",
     "text": [
      "Index(['temperature', 'holiday', 'day', 'month', 'pressure', 'dayOfTheWeek',\n",
      "       'shower rain', 'broken clouds', 'fog', 'overcast clouds',\n",
      "       'heavy intensity rain', 'minute', 'haze',\n",
      "       'thunderstorm with light rain', 'scattered clouds', 'clear sky', 'mist',\n",
      "       'light intensity drizzle', 'few clouds'],\n",
      "      dtype='object')\n",
      "For 19 features: \n",
      " Accuracy: 0.8254116059379217 \n",
      " Precision: 0.7883025036033943 \n",
      " Recall: 0.7924510984150314 \n",
      " F1 score: 0.7901929631164178\n",
      "best accuracy = 0.8524474594306997, with 10 features, with Pearson_correlation\n"
     ]
    },
    {
     "name": "stderr",
     "output_type": "stream",
     "text": [
      "\r",
      " 74%|███████▍  | 20/27 [01:08<00:25,  3.63s/it]"
     ]
    },
    {
     "name": "stdout",
     "output_type": "stream",
     "text": [
      "Index(['temperature', 'holiday', 'day', 'month', 'pressure', 'dayOfTheWeek',\n",
      "       'shower rain', 'broken clouds', 'fog', 'overcast clouds',\n",
      "       'heavy intensity rain', 'minute', 'haze',\n",
      "       'thunderstorm with light rain', 'scattered clouds', 'clear sky', 'mist',\n",
      "       'light intensity drizzle', 'few clouds', 'thunderstorm'],\n",
      "      dtype='object')\n",
      "For 20 features: \n",
      " Accuracy: 0.828007569613409 \n",
      " Precision: 0.7906373983571305 \n",
      " Recall: 0.7945002734730746 \n",
      " F1 score: 0.7924326134067875\n",
      "best accuracy = 0.8524474594306997, with 10 features, with Pearson_correlation\n"
     ]
    },
    {
     "name": "stderr",
     "output_type": "stream",
     "text": [
      "\r",
      " 78%|███████▊  | 21/27 [01:12<00:22,  3.67s/it]"
     ]
    },
    {
     "name": "stdout",
     "output_type": "stream",
     "text": [
      "Index(['temperature', 'holiday', 'day', 'month', 'pressure', 'dayOfTheWeek',\n",
      "       'shower rain', 'broken clouds', 'fog', 'overcast clouds',\n",
      "       'heavy intensity rain', 'minute', 'haze',\n",
      "       'thunderstorm with light rain', 'scattered clouds', 'clear sky', 'mist',\n",
      "       'light intensity drizzle', 'few clouds', 'thunderstorm',\n",
      "       'very heavy rain'],\n",
      "      dtype='object')\n",
      "For 21 features: \n",
      " Accuracy: 0.8272001083130247 \n",
      " Precision: 0.7894887088685527 \n",
      " Recall: 0.7937420302148597 \n",
      " F1 score: 0.7914051957838788\n",
      "best accuracy = 0.8524474594306997, with 10 features, with Pearson_correlation\n"
     ]
    },
    {
     "name": "stderr",
     "output_type": "stream",
     "text": [
      "\r",
      " 81%|████████▏ | 22/27 [01:16<00:18,  3.69s/it]"
     ]
    },
    {
     "name": "stdout",
     "output_type": "stream",
     "text": [
      "Index(['temperature', 'holiday', 'day', 'month', 'pressure', 'dayOfTheWeek',\n",
      "       'shower rain', 'broken clouds', 'fog', 'overcast clouds',\n",
      "       'heavy intensity rain', 'minute', 'haze',\n",
      "       'thunderstorm with light rain', 'scattered clouds', 'clear sky', 'mist',\n",
      "       'light intensity drizzle', 'few clouds', 'thunderstorm',\n",
      "       'very heavy rain', 'moderate rain'],\n",
      "      dtype='object')\n",
      "For 22 features: \n",
      " Accuracy: 0.8249118524545701 \n",
      " Precision: 0.7871097762856426 \n",
      " Recall: 0.7907246119492345 \n",
      " F1 score: 0.7887150670844848\n",
      "best accuracy = 0.8524474594306997, with 10 features, with Pearson_correlation\n"
     ]
    },
    {
     "name": "stderr",
     "output_type": "stream",
     "text": [
      "\r",
      " 85%|████████▌ | 23/27 [01:20<00:14,  3.72s/it]"
     ]
    },
    {
     "name": "stdout",
     "output_type": "stream",
     "text": [
      "Index(['temperature', 'holiday', 'day', 'month', 'pressure', 'dayOfTheWeek',\n",
      "       'shower rain', 'broken clouds', 'fog', 'overcast clouds',\n",
      "       'heavy intensity rain', 'minute', 'haze',\n",
      "       'thunderstorm with light rain', 'scattered clouds', 'clear sky', 'mist',\n",
      "       'light intensity drizzle', 'few clouds', 'thunderstorm',\n",
      "       'very heavy rain', 'moderate rain', 'thunderstorm with rain'],\n",
      "      dtype='object')\n",
      "For 23 features: \n",
      " Accuracy: 0.8277098614506927 \n",
      " Precision: 0.7899726040873687 \n",
      " Recall: 0.7925857940843107 \n",
      " F1 score: 0.7911105754428991\n",
      "best accuracy = 0.8524474594306997, with 10 features, with Pearson_correlation\n"
     ]
    },
    {
     "name": "stderr",
     "output_type": "stream",
     "text": [
      "\r",
      " 89%|████████▉ | 24/27 [01:24<00:11,  3.80s/it]"
     ]
    },
    {
     "name": "stdout",
     "output_type": "stream",
     "text": [
      "Index(['temperature', 'holiday', 'day', 'month', 'pressure', 'dayOfTheWeek',\n",
      "       'shower rain', 'broken clouds', 'fog', 'overcast clouds',\n",
      "       'heavy intensity rain', 'minute', 'haze',\n",
      "       'thunderstorm with light rain', 'scattered clouds', 'clear sky', 'mist',\n",
      "       'light intensity drizzle', 'few clouds', 'thunderstorm',\n",
      "       'very heavy rain', 'moderate rain', 'thunderstorm with rain', 'year'],\n",
      "      dtype='object')\n",
      "For 24 features: \n",
      " Accuracy: 0.8277687074829931 \n",
      " Precision: 0.7909018206920762 \n",
      " Recall: 0.7951409594807032 \n",
      " F1 score: 0.7927789223644839\n",
      "best accuracy = 0.8524474594306997, with 10 features, with Pearson_correlation\n"
     ]
    },
    {
     "name": "stderr",
     "output_type": "stream",
     "text": [
      "\r",
      " 93%|█████████▎| 25/27 [01:27<00:07,  3.81s/it]"
     ]
    },
    {
     "name": "stdout",
     "output_type": "stream",
     "text": [
      "Index(['temperature', 'holiday', 'day', 'month', 'pressure', 'dayOfTheWeek',\n",
      "       'shower rain', 'broken clouds', 'fog', 'overcast clouds',\n",
      "       'heavy intensity rain', 'minute', 'haze',\n",
      "       'thunderstorm with light rain', 'scattered clouds', 'clear sky', 'mist',\n",
      "       'light intensity drizzle', 'few clouds', 'thunderstorm',\n",
      "       'very heavy rain', 'moderate rain', 'thunderstorm with rain', 'year',\n",
      "       'light rain'],\n",
      "      dtype='object')\n",
      "For 25 features: \n",
      " Accuracy: 0.8283728536385936 \n",
      " Precision: 0.7897690141018251 \n",
      " Recall: 0.7954851001682234 \n",
      " F1 score: 0.7923837343766058\n",
      "best accuracy = 0.8524474594306997, with 10 features, with Pearson_correlation\n"
     ]
    },
    {
     "name": "stderr",
     "output_type": "stream",
     "text": [
      "\r",
      " 96%|█████████▋| 26/27 [01:31<00:03,  3.88s/it]"
     ]
    },
    {
     "name": "stdout",
     "output_type": "stream",
     "text": [
      "Index(['temperature', 'holiday', 'day', 'month', 'pressure', 'dayOfTheWeek',\n",
      "       'shower rain', 'broken clouds', 'fog', 'overcast clouds',\n",
      "       'heavy intensity rain', 'minute', 'haze',\n",
      "       'thunderstorm with light rain', 'scattered clouds', 'clear sky', 'mist',\n",
      "       'light intensity drizzle', 'few clouds', 'thunderstorm',\n",
      "       'very heavy rain', 'moderate rain', 'thunderstorm with rain', 'year',\n",
      "       'light rain', 'humidity'],\n",
      "      dtype='object')\n",
      "For 26 features: \n",
      " Accuracy: 0.8353125853125853 \n",
      " Precision: 0.7994171583743943 \n",
      " Recall: 0.8027859491785255 \n",
      " F1 score: 0.8009260126849249\n",
      "best accuracy = 0.8524474594306997, with 10 features, with Pearson_correlation\n"
     ]
    },
    {
     "name": "stderr",
     "output_type": "stream",
     "text": [
      "100%|██████████| 27/27 [01:36<00:00,  3.56s/it]\n",
      "  0%|          | 0/27 [00:00<?, ?it/s]"
     ]
    },
    {
     "name": "stdout",
     "output_type": "stream",
     "text": [
      "Index(['temperature', 'holiday', 'day', 'month', 'pressure', 'dayOfTheWeek',\n",
      "       'shower rain', 'broken clouds', 'fog', 'overcast clouds',\n",
      "       'heavy intensity rain', 'minute', 'haze',\n",
      "       'thunderstorm with light rain', 'scattered clouds', 'clear sky', 'mist',\n",
      "       'light intensity drizzle', 'few clouds', 'thunderstorm',\n",
      "       'very heavy rain', 'moderate rain', 'thunderstorm with rain', 'year',\n",
      "       'light rain', 'humidity', 'hour'],\n",
      "      dtype='object')\n",
      "For 27 features: \n",
      " Accuracy: 0.8537462400875034 \n",
      " Precision: 0.8211693623694422 \n",
      " Recall: 0.8240099898893025 \n",
      " F1 score: 0.8224126502618752\n",
      "best accuracy = 0.8537462400875034, with 27 features, with Pearson_correlation\n",
      "best accuracy = 0.8537462400875034, with 27 features, with Pearson_correlation\n",
      "\n",
      " \n",
      "\n",
      "------------------------- Analyzing method Kendalls_correlation -------------------------\n",
      "The variable order is: \n",
      " ['temperature', 'holiday', 'month', 'day', 'pressure', 'dayOfTheWeek', 'shower rain', 'broken clouds', 'heavy intensity rain', 'fog', 'year', 'overcast clouds', 'minute', 'haze', 'thunderstorm with light rain', 'mist', 'light intensity drizzle', 'scattered clouds', 'clear sky', 'few clouds', 'thunderstorm', 'very heavy rain', 'moderate rain', 'thunderstorm with rain', 'light rain', 'humidity', 'hour', 'Pandemic']\n"
     ]
    },
    {
     "name": "stderr",
     "output_type": "stream",
     "text": [
      "\r",
      "  4%|▎         | 1/27 [00:03<01:22,  3.16s/it]"
     ]
    },
    {
     "name": "stdout",
     "output_type": "stream",
     "text": [
      "Index(['temperature'], dtype='object')\n",
      "For 1 features: \n",
      " Accuracy: 0.4847712955354697 \n",
      " Precision: 0.3631310703934593 \n",
      " Recall: 0.35665223703237264 \n",
      " F1 score: 0.35105470005879735\n",
      "best accuracy = 0.4847712955354697, with 1 features, with Kendalls_correlation\n"
     ]
    },
    {
     "name": "stderr",
     "output_type": "stream",
     "text": [
      "\r",
      "  7%|▋         | 2/27 [00:06<01:18,  3.13s/it]"
     ]
    },
    {
     "name": "stdout",
     "output_type": "stream",
     "text": [
      "Index(['temperature', 'holiday'], dtype='object')\n",
      "For 2 features: \n",
      " Accuracy: 0.5012620027434842 \n",
      " Precision: 0.40293204497998175 \n",
      " Recall: 0.38994449017475685 \n",
      " F1 score: 0.3905985696917907\n",
      "best accuracy = 0.5012620027434842, with 2 features, with Kendalls_correlation\n"
     ]
    },
    {
     "name": "stderr",
     "output_type": "stream",
     "text": [
      "\r",
      " 11%|█         | 3/27 [00:09<01:15,  3.13s/it]"
     ]
    },
    {
     "name": "stdout",
     "output_type": "stream",
     "text": [
      "Index(['temperature', 'holiday', 'month'], dtype='object')\n",
      "For 3 features: \n",
      " Accuracy: 0.5334707337180544 \n",
      " Precision: 0.4718974575324334 \n",
      " Recall: 0.4790024141169536 \n",
      " F1 score: 0.4741079899887276\n",
      "best accuracy = 0.5334707337180544, with 3 features, with Kendalls_correlation\n"
     ]
    },
    {
     "name": "stderr",
     "output_type": "stream",
     "text": [
      "\r",
      " 15%|█▍        | 4/27 [00:12<01:12,  3.17s/it]"
     ]
    },
    {
     "name": "stdout",
     "output_type": "stream",
     "text": [
      "Index(['temperature', 'holiday', 'month', 'day'], dtype='object')\n",
      "For 4 features: \n",
      " Accuracy: 0.7761078998073218 \n",
      " Precision: 0.7271934411761961 \n",
      " Recall: 0.7372759786502958 \n",
      " F1 score: 0.7317515217617765\n",
      "best accuracy = 0.7761078998073218, with 4 features, with Kendalls_correlation\n"
     ]
    },
    {
     "name": "stderr",
     "output_type": "stream",
     "text": [
      "\r",
      " 19%|█▊        | 5/27 [00:15<01:11,  3.23s/it]"
     ]
    },
    {
     "name": "stdout",
     "output_type": "stream",
     "text": [
      "Index(['temperature', 'holiday', 'month', 'day', 'pressure'], dtype='object')\n",
      "For 5 features: \n",
      " Accuracy: 0.8432451061483319 \n",
      " Precision: 0.8077154165336313 \n",
      " Recall: 0.8121044166742397 \n",
      " F1 score: 0.8097534210227438\n",
      "best accuracy = 0.8432451061483319, with 5 features, with Kendalls_correlation\n"
     ]
    },
    {
     "name": "stderr",
     "output_type": "stream",
     "text": [
      "\r",
      " 22%|██▏       | 6/27 [00:19<01:09,  3.30s/it]"
     ]
    },
    {
     "name": "stdout",
     "output_type": "stream",
     "text": [
      "Index(['temperature', 'holiday', 'month', 'day', 'pressure', 'dayOfTheWeek'], dtype='object')\n",
      "For 6 features: \n",
      " Accuracy: 0.8469483568075117 \n",
      " Precision: 0.8124185980779175 \n",
      " Recall: 0.816057601699092 \n",
      " F1 score: 0.814087525429095\n",
      "best accuracy = 0.8469483568075117, with 6 features, with Kendalls_correlation\n"
     ]
    },
    {
     "name": "stderr",
     "output_type": "stream",
     "text": [
      "\r",
      " 26%|██▌       | 7/27 [00:22<01:07,  3.37s/it]"
     ]
    },
    {
     "name": "stdout",
     "output_type": "stream",
     "text": [
      "Index(['temperature', 'holiday', 'month', 'day', 'pressure', 'dayOfTheWeek',\n",
      "       'shower rain'],\n",
      "      dtype='object')\n",
      "For 7 features: \n",
      " Accuracy: 0.8482434301521439 \n",
      " Precision: 0.812574387593167 \n",
      " Recall: 0.8165106777304441 \n",
      " F1 score: 0.8143952535578822\n",
      "best accuracy = 0.8482434301521439, with 7 features, with Kendalls_correlation\n"
     ]
    },
    {
     "name": "stderr",
     "output_type": "stream",
     "text": [
      "\r",
      " 30%|██▉       | 8/27 [00:26<01:04,  3.38s/it]"
     ]
    },
    {
     "name": "stdout",
     "output_type": "stream",
     "text": [
      "Index(['temperature', 'holiday', 'month', 'day', 'pressure', 'dayOfTheWeek',\n",
      "       'shower rain', 'broken clouds'],\n",
      "      dtype='object')\n",
      "For 8 features: \n",
      " Accuracy: 0.8511914657799945 \n",
      " Precision: 0.8174347841149868 \n",
      " Recall: 0.8211883452463956 \n",
      " F1 score: 0.8190797979640134\n",
      "best accuracy = 0.8511914657799945, with 8 features, with Kendalls_correlation\n"
     ]
    },
    {
     "name": "stderr",
     "output_type": "stream",
     "text": [
      "\r",
      " 33%|███▎      | 9/27 [00:29<01:00,  3.39s/it]"
     ]
    },
    {
     "name": "stdout",
     "output_type": "stream",
     "text": [
      "Index(['temperature', 'holiday', 'month', 'day', 'pressure', 'dayOfTheWeek',\n",
      "       'shower rain', 'broken clouds', 'heavy intensity rain'],\n",
      "      dtype='object')\n",
      "For 9 features: \n",
      " Accuracy: 0.8526228143213989 \n",
      " Precision: 0.8192468213838724 \n",
      " Recall: 0.8228697021122855 \n",
      " F1 score: 0.8209284788918036\n",
      "best accuracy = 0.8526228143213989, with 9 features, with Kendalls_correlation\n"
     ]
    },
    {
     "name": "stderr",
     "output_type": "stream",
     "text": [
      "\r",
      " 37%|███▋      | 10/27 [00:33<00:58,  3.43s/it]"
     ]
    },
    {
     "name": "stdout",
     "output_type": "stream",
     "text": [
      "Index(['temperature', 'holiday', 'month', 'day', 'pressure', 'dayOfTheWeek',\n",
      "       'shower rain', 'broken clouds', 'heavy intensity rain', 'fog'],\n",
      "      dtype='object')\n",
      "For 10 features: \n",
      " Accuracy: 0.8534751181540172 \n",
      " Precision: 0.8186523280680091 \n",
      " Recall: 0.823149041755605 \n",
      " F1 score: 0.820756493221955\n",
      "best accuracy = 0.8534751181540172, with 10 features, with Kendalls_correlation\n"
     ]
    },
    {
     "name": "stderr",
     "output_type": "stream",
     "text": [
      "\r",
      " 41%|████      | 11/27 [00:36<00:55,  3.45s/it]"
     ]
    },
    {
     "name": "stdout",
     "output_type": "stream",
     "text": [
      "Index(['temperature', 'holiday', 'month', 'day', 'pressure', 'dayOfTheWeek',\n",
      "       'shower rain', 'broken clouds', 'heavy intensity rain', 'fog', 'year'],\n",
      "      dtype='object')\n",
      "For 11 features: \n",
      " Accuracy: 0.8531189083820663 \n",
      " Precision: 0.8180935436774759 \n",
      " Recall: 0.8220359586070386 \n",
      " F1 score: 0.8199319940772533\n",
      "best accuracy = 0.8534751181540172, with 10 features, with Kendalls_correlation\n"
     ]
    },
    {
     "name": "stderr",
     "output_type": "stream",
     "text": [
      "\r",
      " 44%|████▍     | 12/27 [00:40<00:51,  3.46s/it]"
     ]
    },
    {
     "name": "stdout",
     "output_type": "stream",
     "text": [
      "Index(['temperature', 'holiday', 'month', 'day', 'pressure', 'dayOfTheWeek',\n",
      "       'shower rain', 'broken clouds', 'heavy intensity rain', 'fog', 'year',\n",
      "       'overcast clouds'],\n",
      "      dtype='object')\n",
      "For 12 features: \n",
      " Accuracy: 0.8517294281729428 \n",
      " Precision: 0.8175506793722548 \n",
      " Recall: 0.8207147719538066 \n",
      " F1 score: 0.8189874010650502\n",
      "best accuracy = 0.8534751181540172, with 10 features, with Kendalls_correlation\n"
     ]
    },
    {
     "name": "stderr",
     "output_type": "stream",
     "text": [
      "\r",
      " 48%|████▊     | 13/27 [00:43<00:49,  3.51s/it]"
     ]
    },
    {
     "name": "stdout",
     "output_type": "stream",
     "text": [
      "Index(['temperature', 'holiday', 'month', 'day', 'pressure', 'dayOfTheWeek',\n",
      "       'shower rain', 'broken clouds', 'heavy intensity rain', 'fog', 'year',\n",
      "       'overcast clouds', 'minute'],\n",
      "      dtype='object')\n",
      "For 13 features: \n",
      " Accuracy: 0.8273679798826488 \n",
      " Precision: 0.7853236787885444 \n",
      " Recall: 0.78993555123293 \n",
      " F1 score: 0.7874346445002302\n",
      "best accuracy = 0.8534751181540172, with 10 features, with Kendalls_correlation\n"
     ]
    },
    {
     "name": "stderr",
     "output_type": "stream",
     "text": [
      "\r",
      " 52%|█████▏    | 14/27 [00:47<00:46,  3.56s/it]"
     ]
    },
    {
     "name": "stdout",
     "output_type": "stream",
     "text": [
      "Index(['temperature', 'holiday', 'month', 'day', 'pressure', 'dayOfTheWeek',\n",
      "       'shower rain', 'broken clouds', 'heavy intensity rain', 'fog', 'year',\n",
      "       'overcast clouds', 'minute', 'haze'],\n",
      "      dtype='object')\n",
      "For 14 features: \n",
      " Accuracy: 0.8286174083403303 \n",
      " Precision: 0.7885501054614874 \n",
      " Recall: 0.7918624342407631 \n",
      " F1 score: 0.7900789969251306\n",
      "best accuracy = 0.8534751181540172, with 10 features, with Kendalls_correlation\n"
     ]
    },
    {
     "name": "stderr",
     "output_type": "stream",
     "text": [
      "\r",
      " 56%|█████▌    | 15/27 [00:51<00:42,  3.57s/it]"
     ]
    },
    {
     "name": "stdout",
     "output_type": "stream",
     "text": [
      "Index(['temperature', 'holiday', 'month', 'day', 'pressure', 'dayOfTheWeek',\n",
      "       'shower rain', 'broken clouds', 'heavy intensity rain', 'fog', 'year',\n",
      "       'overcast clouds', 'minute', 'haze', 'thunderstorm with light rain'],\n",
      "      dtype='object')\n",
      "For 15 features: \n",
      " Accuracy: 0.8302775441547519 \n",
      " Precision: 0.7884378527427217 \n",
      " Recall: 0.7934091432002083 \n",
      " F1 score: 0.7907614294962407\n",
      "best accuracy = 0.8534751181540172, with 10 features, with Kendalls_correlation\n"
     ]
    },
    {
     "name": "stderr",
     "output_type": "stream",
     "text": [
      "\r",
      " 59%|█████▉    | 16/27 [00:54<00:39,  3.60s/it]"
     ]
    },
    {
     "name": "stdout",
     "output_type": "stream",
     "text": [
      "Index(['temperature', 'holiday', 'month', 'day', 'pressure', 'dayOfTheWeek',\n",
      "       'shower rain', 'broken clouds', 'heavy intensity rain', 'fog', 'year',\n",
      "       'overcast clouds', 'minute', 'haze', 'thunderstorm with light rain',\n",
      "       'mist'],\n",
      "      dtype='object')\n",
      "For 16 features: \n",
      " Accuracy: 0.831901151361977 \n",
      " Precision: 0.791386576793223 \n",
      " Recall: 0.7961651810052318 \n",
      " F1 score: 0.7936607401652928\n",
      "best accuracy = 0.8534751181540172, with 10 features, with Kendalls_correlation\n"
     ]
    },
    {
     "name": "stderr",
     "output_type": "stream",
     "text": [
      "\r",
      " 63%|██████▎   | 17/27 [00:58<00:36,  3.61s/it]"
     ]
    },
    {
     "name": "stdout",
     "output_type": "stream",
     "text": [
      "Index(['temperature', 'holiday', 'month', 'day', 'pressure', 'dayOfTheWeek',\n",
      "       'shower rain', 'broken clouds', 'heavy intensity rain', 'fog', 'year',\n",
      "       'overcast clouds', 'minute', 'haze', 'thunderstorm with light rain',\n",
      "       'mist', 'light intensity drizzle'],\n",
      "      dtype='object')\n",
      "For 17 features: \n",
      " Accuracy: 0.8297046413502109 \n",
      " Precision: 0.78821476471331 \n",
      " Recall: 0.7934256367680173 \n",
      " F1 score: 0.7906216206518264\n",
      "best accuracy = 0.8534751181540172, with 10 features, with Kendalls_correlation\n"
     ]
    },
    {
     "name": "stderr",
     "output_type": "stream",
     "text": [
      "\r",
      " 67%|██████▋   | 18/27 [01:02<00:32,  3.65s/it]"
     ]
    },
    {
     "name": "stdout",
     "output_type": "stream",
     "text": [
      "Index(['temperature', 'holiday', 'month', 'day', 'pressure', 'dayOfTheWeek',\n",
      "       'shower rain', 'broken clouds', 'heavy intensity rain', 'fog', 'year',\n",
      "       'overcast clouds', 'minute', 'haze', 'thunderstorm with light rain',\n",
      "       'mist', 'light intensity drizzle', 'scattered clouds'],\n",
      "      dtype='object')\n",
      "For 18 features: \n",
      " Accuracy: 0.8277542969850662 \n",
      " Precision: 0.786061761365538 \n",
      " Recall: 0.7911739523316108 \n",
      " F1 score: 0.7883969209265519\n",
      "best accuracy = 0.8534751181540172, with 10 features, with Kendalls_correlation\n"
     ]
    },
    {
     "name": "stderr",
     "output_type": "stream",
     "text": [
      "\r",
      " 70%|███████   | 19/27 [01:05<00:29,  3.63s/it]"
     ]
    },
    {
     "name": "stdout",
     "output_type": "stream",
     "text": [
      "Index(['temperature', 'holiday', 'month', 'day', 'pressure', 'dayOfTheWeek',\n",
      "       'shower rain', 'broken clouds', 'heavy intensity rain', 'fog', 'year',\n",
      "       'overcast clouds', 'minute', 'haze', 'thunderstorm with light rain',\n",
      "       'mist', 'light intensity drizzle', 'scattered clouds', 'clear sky'],\n",
      "      dtype='object')\n",
      "For 19 features: \n",
      " Accuracy: 0.8267428732712391 \n",
      " Precision: 0.7851632654838222 \n",
      " Recall: 0.7899985998267608 \n",
      " F1 score: 0.7873826191334888\n",
      "best accuracy = 0.8534751181540172, with 10 features, with Kendalls_correlation\n"
     ]
    },
    {
     "name": "stderr",
     "output_type": "stream",
     "text": [
      "\r",
      " 74%|███████▍  | 20/27 [01:09<00:25,  3.63s/it]"
     ]
    },
    {
     "name": "stdout",
     "output_type": "stream",
     "text": [
      "Index(['temperature', 'holiday', 'month', 'day', 'pressure', 'dayOfTheWeek',\n",
      "       'shower rain', 'broken clouds', 'heavy intensity rain', 'fog', 'year',\n",
      "       'overcast clouds', 'minute', 'haze', 'thunderstorm with light rain',\n",
      "       'mist', 'light intensity drizzle', 'scattered clouds', 'clear sky',\n",
      "       'few clouds'],\n",
      "      dtype='object')\n",
      "For 20 features: \n",
      " Accuracy: 0.8287955894826123 \n",
      " Precision: 0.7857386204617997 \n",
      " Recall: 0.7902628472741456 \n",
      " F1 score: 0.7878025694360165\n",
      "best accuracy = 0.8534751181540172, with 10 features, with Kendalls_correlation\n"
     ]
    },
    {
     "name": "stderr",
     "output_type": "stream",
     "text": [
      "\r",
      " 78%|███████▊  | 21/27 [01:12<00:21,  3.61s/it]"
     ]
    },
    {
     "name": "stdout",
     "output_type": "stream",
     "text": [
      "Index(['temperature', 'holiday', 'month', 'day', 'pressure', 'dayOfTheWeek',\n",
      "       'shower rain', 'broken clouds', 'heavy intensity rain', 'fog', 'year',\n",
      "       'overcast clouds', 'minute', 'haze', 'thunderstorm with light rain',\n",
      "       'mist', 'light intensity drizzle', 'scattered clouds', 'clear sky',\n",
      "       'few clouds', 'thunderstorm'],\n",
      "      dtype='object')\n",
      "For 21 features: \n",
      " Accuracy: 0.8310960067969414 \n",
      " Precision: 0.7880989194670432 \n",
      " Recall: 0.7932699412003203 \n",
      " F1 score: 0.7904670252144224\n",
      "best accuracy = 0.8534751181540172, with 10 features, with Kendalls_correlation\n"
     ]
    },
    {
     "name": "stderr",
     "output_type": "stream",
     "text": [
      "\r",
      " 81%|████████▏ | 22/27 [01:16<00:17,  3.58s/it]"
     ]
    },
    {
     "name": "stdout",
     "output_type": "stream",
     "text": [
      "Index(['temperature', 'holiday', 'month', 'day', 'pressure', 'dayOfTheWeek',\n",
      "       'shower rain', 'broken clouds', 'heavy intensity rain', 'fog', 'year',\n",
      "       'overcast clouds', 'minute', 'haze', 'thunderstorm with light rain',\n",
      "       'mist', 'light intensity drizzle', 'scattered clouds', 'clear sky',\n",
      "       'few clouds', 'thunderstorm', 'very heavy rain'],\n",
      "      dtype='object')\n",
      "For 22 features: \n",
      " Accuracy: 0.8323829787234043 \n",
      " Precision: 0.7907491130577907 \n",
      " Recall: 0.7937524700971655 \n",
      " F1 score: 0.7921043405980276\n",
      "best accuracy = 0.8534751181540172, with 10 features, with Kendalls_correlation\n"
     ]
    },
    {
     "name": "stderr",
     "output_type": "stream",
     "text": [
      "\r",
      " 85%|████████▌ | 23/27 [01:20<00:14,  3.58s/it]"
     ]
    },
    {
     "name": "stdout",
     "output_type": "stream",
     "text": [
      "Index(['temperature', 'holiday', 'month', 'day', 'pressure', 'dayOfTheWeek',\n",
      "       'shower rain', 'broken clouds', 'heavy intensity rain', 'fog', 'year',\n",
      "       'overcast clouds', 'minute', 'haze', 'thunderstorm with light rain',\n",
      "       'mist', 'light intensity drizzle', 'scattered clouds', 'clear sky',\n",
      "       'few clouds', 'thunderstorm', 'very heavy rain', 'moderate rain'],\n",
      "      dtype='object')\n",
      "For 23 features: \n",
      " Accuracy: 0.8311167945439045 \n",
      " Precision: 0.7883545512286094 \n",
      " Recall: 0.7926746709975068 \n",
      " F1 score: 0.7902747289176861\n",
      "best accuracy = 0.8534751181540172, with 10 features, with Kendalls_correlation\n"
     ]
    },
    {
     "name": "stderr",
     "output_type": "stream",
     "text": [
      "\r",
      " 89%|████████▉ | 24/27 [01:23<00:10,  3.56s/it]"
     ]
    },
    {
     "name": "stdout",
     "output_type": "stream",
     "text": [
      "Index(['temperature', 'holiday', 'month', 'day', 'pressure', 'dayOfTheWeek',\n",
      "       'shower rain', 'broken clouds', 'heavy intensity rain', 'fog', 'year',\n",
      "       'overcast clouds', 'minute', 'haze', 'thunderstorm with light rain',\n",
      "       'mist', 'light intensity drizzle', 'scattered clouds', 'clear sky',\n",
      "       'few clouds', 'thunderstorm', 'very heavy rain', 'moderate rain',\n",
      "       'thunderstorm with rain'],\n",
      "      dtype='object')\n",
      "For 24 features: \n",
      " Accuracy: 0.8305721605465414 \n",
      " Precision: 0.7880342217193081 \n",
      " Recall: 0.7925152541994318 \n",
      " F1 score: 0.7900664934735964\n",
      "best accuracy = 0.8534751181540172, with 10 features, with Kendalls_correlation\n"
     ]
    },
    {
     "name": "stderr",
     "output_type": "stream",
     "text": [
      "\r",
      " 93%|█████████▎| 25/27 [01:27<00:07,  3.55s/it]"
     ]
    },
    {
     "name": "stdout",
     "output_type": "stream",
     "text": [
      "Index(['temperature', 'holiday', 'month', 'day', 'pressure', 'dayOfTheWeek',\n",
      "       'shower rain', 'broken clouds', 'heavy intensity rain', 'fog', 'year',\n",
      "       'overcast clouds', 'minute', 'haze', 'thunderstorm with light rain',\n",
      "       'mist', 'light intensity drizzle', 'scattered clouds', 'clear sky',\n",
      "       'few clouds', 'thunderstorm', 'very heavy rain', 'moderate rain',\n",
      "       'thunderstorm with rain', 'light rain'],\n",
      "      dtype='object')\n",
      "For 25 features: \n",
      " Accuracy: 0.8291132021670944 \n",
      " Precision: 0.7851778143836287 \n",
      " Recall: 0.79059602416697 \n",
      " F1 score: 0.7876356126696026\n",
      "best accuracy = 0.8534751181540172, with 10 features, with Kendalls_correlation\n"
     ]
    },
    {
     "name": "stderr",
     "output_type": "stream",
     "text": [
      "\r",
      " 96%|█████████▋| 26/27 [01:30<00:03,  3.60s/it]"
     ]
    },
    {
     "name": "stdout",
     "output_type": "stream",
     "text": [
      "Index(['temperature', 'holiday', 'month', 'day', 'pressure', 'dayOfTheWeek',\n",
      "       'shower rain', 'broken clouds', 'heavy intensity rain', 'fog', 'year',\n",
      "       'overcast clouds', 'minute', 'haze', 'thunderstorm with light rain',\n",
      "       'mist', 'light intensity drizzle', 'scattered clouds', 'clear sky',\n",
      "       'few clouds', 'thunderstorm', 'very heavy rain', 'moderate rain',\n",
      "       'thunderstorm with rain', 'light rain', 'humidity'],\n",
      "      dtype='object')\n",
      "For 26 features: \n",
      " Accuracy: 0.8372179377320765 \n",
      " Precision: 0.7955372399859887 \n",
      " Recall: 0.8006823510768722 \n",
      " F1 score: 0.7979557667257351\n",
      "best accuracy = 0.8534751181540172, with 10 features, with Kendalls_correlation\n"
     ]
    },
    {
     "name": "stderr",
     "output_type": "stream",
     "text": [
      "100%|██████████| 27/27 [01:34<00:00,  3.51s/it]\n",
      "  0%|          | 0/27 [00:00<?, ?it/s]"
     ]
    },
    {
     "name": "stdout",
     "output_type": "stream",
     "text": [
      "Index(['temperature', 'holiday', 'month', 'day', 'pressure', 'dayOfTheWeek',\n",
      "       'shower rain', 'broken clouds', 'heavy intensity rain', 'fog', 'year',\n",
      "       'overcast clouds', 'minute', 'haze', 'thunderstorm with light rain',\n",
      "       'mist', 'light intensity drizzle', 'scattered clouds', 'clear sky',\n",
      "       'few clouds', 'thunderstorm', 'very heavy rain', 'moderate rain',\n",
      "       'thunderstorm with rain', 'light rain', 'humidity', 'hour'],\n",
      "      dtype='object')\n",
      "For 27 features: \n",
      " Accuracy: 0.8568812589413448 \n",
      " Precision: 0.8205081212594629 \n",
      " Recall: 0.8234792681746487 \n",
      " F1 score: 0.8218254255879031\n",
      "best accuracy = 0.8568812589413448, with 27 features, with Kendalls_correlation\n",
      "best accuracy = 0.8568812589413448, with 27 features, with Kendalls_correlation\n",
      "\n",
      " \n",
      "\n",
      "------------------------- Analyzing method mutualInformation_classification -------------------------\n",
      "The variable order is: \n",
      " ['month', 'day', 'year', 'hour', 'minute', 'holiday', 'dayOfTheWeek', 'Pandemic', 'temperature', 'humidity', 'pressure', 'heavy intensity rain', 'light rain', 'broken clouds', 'moderate rain', 'mist', 'overcast clouds', 'clear sky', 'scattered clouds', 'thunderstorm with rain', 'few clouds', 'thunderstorm', 'shower rain', 'very heavy rain', 'fog', 'haze', 'thunderstorm with light rain', 'light intensity drizzle']\n"
     ]
    },
    {
     "name": "stderr",
     "output_type": "stream",
     "text": [
      "\r",
      "  4%|▎         | 1/27 [00:02<01:03,  2.44s/it]"
     ]
    },
    {
     "name": "stdout",
     "output_type": "stream",
     "text": [
      "Index(['month'], dtype='object')\n",
      "For 1 features: \n",
      " Accuracy: 0.46847234164517054 \n",
      " Precision: 0.41570604816865286 \n",
      " Recall: 0.4243402228018596 \n",
      " F1 score: 0.40750838130779027\n",
      "best accuracy = 0.46847234164517054, with 1 features, with mutualInformation_classification\n"
     ]
    },
    {
     "name": "stderr",
     "output_type": "stream",
     "text": [
      "\r",
      "  7%|▋         | 2/27 [00:05<01:02,  2.52s/it]"
     ]
    },
    {
     "name": "stdout",
     "output_type": "stream",
     "text": [
      "Index(['month', 'day'], dtype='object')\n",
      "For 2 features: \n",
      " Accuracy: 0.6802038472581108 \n",
      " Precision: 0.624440417414636 \n",
      " Recall: 0.6687164057449031 \n",
      " F1 score: 0.6345598875378241\n",
      "best accuracy = 0.6802038472581108, with 2 features, with mutualInformation_classification\n"
     ]
    },
    {
     "name": "stderr",
     "output_type": "stream",
     "text": [
      "\r",
      " 11%|█         | 3/27 [00:07<01:00,  2.51s/it]"
     ]
    },
    {
     "name": "stdout",
     "output_type": "stream",
     "text": [
      "Index(['month', 'day', 'year'], dtype='object')\n",
      "For 3 features: \n",
      " Accuracy: 0.68531780270348 \n",
      " Precision: 0.6266334286872598 \n",
      " Recall: 0.6707847743144241 \n",
      " F1 score: 0.637106451535453\n",
      "best accuracy = 0.68531780270348, with 3 features, with mutualInformation_classification\n"
     ]
    },
    {
     "name": "stderr",
     "output_type": "stream",
     "text": [
      "\r",
      " 15%|█▍        | 4/27 [00:10<01:00,  2.64s/it]"
     ]
    },
    {
     "name": "stdout",
     "output_type": "stream",
     "text": [
      "Index(['month', 'day', 'year', 'hour'], dtype='object')\n",
      "For 4 features: \n",
      " Accuracy: 0.85514261019879 \n",
      " Precision: 0.8202056029278981 \n",
      " Recall: 0.8084777867278455 \n",
      " F1 score: 0.8139679813607792\n",
      "best accuracy = 0.85514261019879, with 4 features, with mutualInformation_classification\n"
     ]
    },
    {
     "name": "stderr",
     "output_type": "stream",
     "text": [
      "\r",
      " 19%|█▊        | 5/27 [00:13<01:00,  2.77s/it]"
     ]
    },
    {
     "name": "stdout",
     "output_type": "stream",
     "text": [
      "Index(['month', 'day', 'year', 'hour', 'minute'], dtype='object')\n",
      "For 5 features: \n",
      " Accuracy: 0.8480808080808081 \n",
      " Precision: 0.8067570714148216 \n",
      " Recall: 0.810713369367289 \n",
      " F1 score: 0.8085263480754207\n",
      "best accuracy = 0.85514261019879, with 4 features, with mutualInformation_classification\n"
     ]
    },
    {
     "name": "stderr",
     "output_type": "stream",
     "text": [
      "\r",
      " 22%|██▏       | 6/27 [00:16<00:59,  2.83s/it]"
     ]
    },
    {
     "name": "stdout",
     "output_type": "stream",
     "text": [
      "Index(['month', 'day', 'year', 'hour', 'minute', 'holiday'], dtype='object')\n",
      "For 6 features: \n",
      " Accuracy: 0.8494073431627638 \n",
      " Precision: 0.8069123325437526 \n",
      " Recall: 0.8105065842938902 \n",
      " F1 score: 0.8085469611294623\n",
      "best accuracy = 0.85514261019879, with 4 features, with mutualInformation_classification\n"
     ]
    },
    {
     "name": "stderr",
     "output_type": "stream",
     "text": [
      "\r",
      " 26%|██▌       | 7/27 [00:19<00:57,  2.87s/it]"
     ]
    },
    {
     "name": "stdout",
     "output_type": "stream",
     "text": [
      "Index(['month', 'day', 'year', 'hour', 'minute', 'holiday', 'dayOfTheWeek'], dtype='object')\n",
      "For 7 features: \n",
      " Accuracy: 0.8552707790327252 \n",
      " Precision: 0.8144015175353023 \n",
      " Recall: 0.8176905204961686 \n",
      " F1 score: 0.815903061029294\n",
      "best accuracy = 0.8552707790327252, with 7 features, with mutualInformation_classification\n"
     ]
    },
    {
     "name": "stderr",
     "output_type": "stream",
     "text": [
      "\r",
      " 30%|██▉       | 8/27 [00:22<00:55,  2.90s/it]"
     ]
    },
    {
     "name": "stdout",
     "output_type": "stream",
     "text": [
      "Index(['month', 'day', 'year', 'hour', 'minute', 'holiday', 'dayOfTheWeek',\n",
      "       'Pandemic'],\n",
      "      dtype='object')\n",
      "For 8 features: \n",
      " Accuracy: 0.8539309544531477 \n",
      " Precision: 0.8113370315367163 \n",
      " Recall: 0.8163807625645371 \n",
      " F1 score: 0.8136867377690138\n",
      "best accuracy = 0.8552707790327252, with 7 features, with mutualInformation_classification\n"
     ]
    },
    {
     "name": "stderr",
     "output_type": "stream",
     "text": [
      "\r",
      " 33%|███▎      | 9/27 [00:25<00:54,  3.02s/it]"
     ]
    },
    {
     "name": "stdout",
     "output_type": "stream",
     "text": [
      "Index(['month', 'day', 'year', 'hour', 'minute', 'holiday', 'dayOfTheWeek',\n",
      "       'Pandemic', 'temperature'],\n",
      "      dtype='object')\n",
      "For 9 features: \n",
      " Accuracy: 0.8515111886079628 \n",
      " Precision: 0.811121206650999 \n",
      " Recall: 0.8160348267238913 \n",
      " F1 score: 0.8134619944292737\n",
      "best accuracy = 0.8552707790327252, with 7 features, with mutualInformation_classification\n"
     ]
    },
    {
     "name": "stderr",
     "output_type": "stream",
     "text": [
      "\r",
      " 37%|███▋      | 10/27 [00:28<00:53,  3.16s/it]"
     ]
    },
    {
     "name": "stdout",
     "output_type": "stream",
     "text": [
      "Index(['month', 'day', 'year', 'hour', 'minute', 'holiday', 'dayOfTheWeek',\n",
      "       'Pandemic', 'temperature', 'humidity'],\n",
      "      dtype='object')\n",
      "For 10 features: \n",
      " Accuracy: 0.8570451237263464 \n",
      " Precision: 0.8178230142941642 \n",
      " Recall: 0.8218773550754902 \n",
      " F1 score: 0.819725822523845\n",
      "best accuracy = 0.8570451237263464, with 10 features, with mutualInformation_classification\n"
     ]
    },
    {
     "name": "stderr",
     "output_type": "stream",
     "text": [
      "\r",
      " 41%|████      | 11/27 [00:32<00:52,  3.30s/it]"
     ]
    },
    {
     "name": "stdout",
     "output_type": "stream",
     "text": [
      "Index(['month', 'day', 'year', 'hour', 'minute', 'holiday', 'dayOfTheWeek',\n",
      "       'Pandemic', 'temperature', 'humidity', 'pressure'],\n",
      "      dtype='object')\n",
      "For 11 features: \n",
      " Accuracy: 0.8584281131525227 \n",
      " Precision: 0.8200008546332582 \n",
      " Recall: 0.8245513063355971 \n",
      " F1 score: 0.8221566482743783\n",
      "best accuracy = 0.8584281131525227, with 11 features, with mutualInformation_classification\n"
     ]
    },
    {
     "name": "stderr",
     "output_type": "stream",
     "text": [
      "\r",
      " 44%|████▍     | 12/27 [00:36<00:51,  3.42s/it]"
     ]
    },
    {
     "name": "stdout",
     "output_type": "stream",
     "text": [
      "Index(['month', 'day', 'year', 'hour', 'minute', 'holiday', 'dayOfTheWeek',\n",
      "       'Pandemic', 'temperature', 'humidity', 'pressure',\n",
      "       'heavy intensity rain'],\n",
      "      dtype='object')\n",
      "For 12 features: \n",
      " Accuracy: 0.8609406952965235 \n",
      " Precision: 0.8222967264430548 \n",
      " Recall: 0.8254918689867279 \n",
      " F1 score: 0.823703501485877\n",
      "best accuracy = 0.8609406952965235, with 12 features, with mutualInformation_classification\n"
     ]
    },
    {
     "name": "stderr",
     "output_type": "stream",
     "text": [
      "\r",
      " 48%|████▊     | 13/27 [00:39<00:48,  3.50s/it]"
     ]
    },
    {
     "name": "stdout",
     "output_type": "stream",
     "text": [
      "Index(['month', 'day', 'year', 'hour', 'minute', 'holiday', 'dayOfTheWeek',\n",
      "       'Pandemic', 'temperature', 'humidity', 'pressure',\n",
      "       'heavy intensity rain', 'light rain'],\n",
      "      dtype='object')\n",
      "For 13 features: \n",
      " Accuracy: 0.8624963418203102 \n",
      " Precision: 0.8243412545083847 \n",
      " Recall: 0.8275432802142079 \n",
      " F1 score: 0.825777611376438\n",
      "best accuracy = 0.8624963418203102, with 13 features, with mutualInformation_classification\n"
     ]
    },
    {
     "name": "stderr",
     "output_type": "stream",
     "text": [
      "\r",
      " 52%|█████▏    | 14/27 [00:43<00:46,  3.57s/it]"
     ]
    },
    {
     "name": "stdout",
     "output_type": "stream",
     "text": [
      "Index(['month', 'day', 'year', 'hour', 'minute', 'holiday', 'dayOfTheWeek',\n",
      "       'Pandemic', 'temperature', 'humidity', 'pressure',\n",
      "       'heavy intensity rain', 'light rain', 'broken clouds'],\n",
      "      dtype='object')\n",
      "For 14 features: \n",
      " Accuracy: 0.8615655233069481 \n",
      " Precision: 0.8223990318650274 \n",
      " Recall: 0.8270615154832037 \n",
      " F1 score: 0.8245909407286977\n",
      "best accuracy = 0.8624963418203102, with 13 features, with mutualInformation_classification\n"
     ]
    },
    {
     "name": "stderr",
     "output_type": "stream",
     "text": [
      "\r",
      " 56%|█████▌    | 15/27 [00:47<00:43,  3.60s/it]"
     ]
    },
    {
     "name": "stdout",
     "output_type": "stream",
     "text": [
      "Index(['month', 'day', 'year', 'hour', 'minute', 'holiday', 'dayOfTheWeek',\n",
      "       'Pandemic', 'temperature', 'humidity', 'pressure',\n",
      "       'heavy intensity rain', 'light rain', 'broken clouds', 'moderate rain'],\n",
      "      dtype='object')\n",
      "For 15 features: \n",
      " Accuracy: 0.8606901615271659 \n",
      " Precision: 0.8213561496070679 \n",
      " Recall: 0.8254120700584391 \n",
      " F1 score: 0.8232396242012985\n",
      "best accuracy = 0.8624963418203102, with 13 features, with mutualInformation_classification\n"
     ]
    },
    {
     "name": "stderr",
     "output_type": "stream",
     "text": [
      "\r",
      " 59%|█████▉    | 16/27 [00:51<00:39,  3.63s/it]"
     ]
    },
    {
     "name": "stdout",
     "output_type": "stream",
     "text": [
      "Index(['month', 'day', 'year', 'hour', 'minute', 'holiday', 'dayOfTheWeek',\n",
      "       'Pandemic', 'temperature', 'humidity', 'pressure',\n",
      "       'heavy intensity rain', 'light rain', 'broken clouds', 'moderate rain',\n",
      "       'mist'],\n",
      "      dtype='object')\n",
      "For 16 features: \n",
      " Accuracy: 0.8624154162989115 \n",
      " Precision: 0.8240180163009372 \n",
      " Recall: 0.8287628860640239 \n",
      " F1 score: 0.826216553105102\n",
      "best accuracy = 0.8624963418203102, with 13 features, with mutualInformation_classification\n"
     ]
    },
    {
     "name": "stderr",
     "output_type": "stream",
     "text": [
      "\r",
      " 63%|██████▎   | 17/27 [00:54<00:36,  3.64s/it]"
     ]
    },
    {
     "name": "stdout",
     "output_type": "stream",
     "text": [
      "Index(['month', 'day', 'year', 'hour', 'minute', 'holiday', 'dayOfTheWeek',\n",
      "       'Pandemic', 'temperature', 'humidity', 'pressure',\n",
      "       'heavy intensity rain', 'light rain', 'broken clouds', 'moderate rain',\n",
      "       'mist', 'overcast clouds'],\n",
      "      dtype='object')\n",
      "For 17 features: \n",
      " Accuracy: 0.8599322133804892 \n",
      " Precision: 0.8216388285013949 \n",
      " Recall: 0.8240969681929693 \n",
      " F1 score: 0.8227352380438677\n",
      "best accuracy = 0.8624963418203102, with 13 features, with mutualInformation_classification\n"
     ]
    },
    {
     "name": "stderr",
     "output_type": "stream",
     "text": [
      "\r",
      " 67%|██████▋   | 18/27 [00:58<00:32,  3.65s/it]"
     ]
    },
    {
     "name": "stdout",
     "output_type": "stream",
     "text": [
      "Index(['month', 'day', 'year', 'hour', 'minute', 'holiday', 'dayOfTheWeek',\n",
      "       'Pandemic', 'temperature', 'humidity', 'pressure',\n",
      "       'heavy intensity rain', 'light rain', 'broken clouds', 'moderate rain',\n",
      "       'mist', 'overcast clouds', 'clear sky'],\n",
      "      dtype='object')\n",
      "For 18 features: \n",
      " Accuracy: 0.8593888396811338 \n",
      " Precision: 0.8197564070706187 \n",
      " Recall: 0.8235435020847647 \n",
      " F1 score: 0.8214807679533871\n",
      "best accuracy = 0.8624963418203102, with 13 features, with mutualInformation_classification\n"
     ]
    },
    {
     "name": "stderr",
     "output_type": "stream",
     "text": [
      "\r",
      " 70%|███████   | 19/27 [01:02<00:29,  3.65s/it]"
     ]
    },
    {
     "name": "stdout",
     "output_type": "stream",
     "text": [
      "Index(['month', 'day', 'year', 'hour', 'minute', 'holiday', 'dayOfTheWeek',\n",
      "       'Pandemic', 'temperature', 'humidity', 'pressure',\n",
      "       'heavy intensity rain', 'light rain', 'broken clouds', 'moderate rain',\n",
      "       'mist', 'overcast clouds', 'clear sky', 'scattered clouds'],\n",
      "      dtype='object')\n",
      "For 19 features: \n",
      " Accuracy: 0.863265306122449 \n",
      " Precision: 0.8252578325392722 \n",
      " Recall: 0.8280285238670643 \n",
      " F1 score: 0.8265232842226418\n",
      "best accuracy = 0.863265306122449, with 19 features, with mutualInformation_classification\n"
     ]
    },
    {
     "name": "stderr",
     "output_type": "stream",
     "text": [
      "\r",
      " 74%|███████▍  | 20/27 [01:05<00:25,  3.64s/it]"
     ]
    },
    {
     "name": "stdout",
     "output_type": "stream",
     "text": [
      "Index(['month', 'day', 'year', 'hour', 'minute', 'holiday', 'dayOfTheWeek',\n",
      "       'Pandemic', 'temperature', 'humidity', 'pressure',\n",
      "       'heavy intensity rain', 'light rain', 'broken clouds', 'moderate rain',\n",
      "       'mist', 'overcast clouds', 'clear sky', 'scattered clouds',\n",
      "       'thunderstorm with rain'],\n",
      "      dtype='object')\n",
      "For 20 features: \n",
      " Accuracy: 0.8622962962962963 \n",
      " Precision: 0.8236189952204741 \n",
      " Recall: 0.826777353846686 \n",
      " F1 score: 0.8250493950906618\n",
      "best accuracy = 0.863265306122449, with 19 features, with mutualInformation_classification\n"
     ]
    },
    {
     "name": "stderr",
     "output_type": "stream",
     "text": [
      "\r",
      " 78%|███████▊  | 21/27 [01:09<00:21,  3.63s/it]"
     ]
    },
    {
     "name": "stdout",
     "output_type": "stream",
     "text": [
      "Index(['month', 'day', 'year', 'hour', 'minute', 'holiday', 'dayOfTheWeek',\n",
      "       'Pandemic', 'temperature', 'humidity', 'pressure',\n",
      "       'heavy intensity rain', 'light rain', 'broken clouds', 'moderate rain',\n",
      "       'mist', 'overcast clouds', 'clear sky', 'scattered clouds',\n",
      "       'thunderstorm with rain', 'few clouds'],\n",
      "      dtype='object')\n",
      "For 21 features: \n",
      " Accuracy: 0.8595132086672603 \n",
      " Precision: 0.818787295547824 \n",
      " Recall: 0.8206605872421635 \n",
      " F1 score: 0.8195268285744151\n",
      "best accuracy = 0.863265306122449, with 19 features, with mutualInformation_classification\n"
     ]
    },
    {
     "name": "stderr",
     "output_type": "stream",
     "text": [
      "\r",
      " 81%|████████▏ | 22/27 [01:12<00:18,  3.64s/it]"
     ]
    },
    {
     "name": "stdout",
     "output_type": "stream",
     "text": [
      "Index(['month', 'day', 'year', 'hour', 'minute', 'holiday', 'dayOfTheWeek',\n",
      "       'Pandemic', 'temperature', 'humidity', 'pressure',\n",
      "       'heavy intensity rain', 'light rain', 'broken clouds', 'moderate rain',\n",
      "       'mist', 'overcast clouds', 'clear sky', 'scattered clouds',\n",
      "       'thunderstorm with rain', 'few clouds', 'thunderstorm'],\n",
      "      dtype='object')\n",
      "For 22 features: \n",
      " Accuracy: 0.862340172465061 \n",
      " Precision: 0.823814409757214 \n",
      " Recall: 0.8266923328504808 \n",
      " F1 score: 0.8250662584713777\n",
      "best accuracy = 0.863265306122449, with 19 features, with mutualInformation_classification\n"
     ]
    },
    {
     "name": "stderr",
     "output_type": "stream",
     "text": [
      "\r",
      " 85%|████████▌ | 23/27 [01:16<00:14,  3.67s/it]"
     ]
    },
    {
     "name": "stdout",
     "output_type": "stream",
     "text": [
      "Index(['month', 'day', 'year', 'hour', 'minute', 'holiday', 'dayOfTheWeek',\n",
      "       'Pandemic', 'temperature', 'humidity', 'pressure',\n",
      "       'heavy intensity rain', 'light rain', 'broken clouds', 'moderate rain',\n",
      "       'mist', 'overcast clouds', 'clear sky', 'scattered clouds',\n",
      "       'thunderstorm with rain', 'few clouds', 'thunderstorm', 'shower rain'],\n",
      "      dtype='object')\n",
      "For 23 features: \n",
      " Accuracy: 0.8614089961274948 \n",
      " Precision: 0.8215809120256995 \n",
      " Recall: 0.8243892633783353 \n",
      " F1 score: 0.8228726589027567\n",
      "best accuracy = 0.863265306122449, with 19 features, with mutualInformation_classification\n"
     ]
    },
    {
     "name": "stderr",
     "output_type": "stream",
     "text": [
      "\r",
      " 89%|████████▉ | 24/27 [01:20<00:11,  3.71s/it]"
     ]
    },
    {
     "name": "stdout",
     "output_type": "stream",
     "text": [
      "Index(['month', 'day', 'year', 'hour', 'minute', 'holiday', 'dayOfTheWeek',\n",
      "       'Pandemic', 'temperature', 'humidity', 'pressure',\n",
      "       'heavy intensity rain', 'light rain', 'broken clouds', 'moderate rain',\n",
      "       'mist', 'overcast clouds', 'clear sky', 'scattered clouds',\n",
      "       'thunderstorm with rain', 'few clouds', 'thunderstorm', 'shower rain',\n",
      "       'very heavy rain'],\n",
      "      dtype='object')\n",
      "For 24 features: \n",
      " Accuracy: 0.8596687555953447 \n",
      " Precision: 0.8210825693326425 \n",
      " Recall: 0.8232260362422931 \n",
      " F1 score: 0.8219446552904481\n",
      "best accuracy = 0.863265306122449, with 19 features, with mutualInformation_classification\n"
     ]
    },
    {
     "name": "stderr",
     "output_type": "stream",
     "text": [
      "\r",
      " 93%|█████████▎| 25/27 [01:24<00:07,  3.74s/it]"
     ]
    },
    {
     "name": "stdout",
     "output_type": "stream",
     "text": [
      "Index(['month', 'day', 'year', 'hour', 'minute', 'holiday', 'dayOfTheWeek',\n",
      "       'Pandemic', 'temperature', 'humidity', 'pressure',\n",
      "       'heavy intensity rain', 'light rain', 'broken clouds', 'moderate rain',\n",
      "       'mist', 'overcast clouds', 'clear sky', 'scattered clouds',\n",
      "       'thunderstorm with rain', 'few clouds', 'thunderstorm', 'shower rain',\n",
      "       'very heavy rain', 'fog'],\n",
      "      dtype='object')\n",
      "For 25 features: \n",
      " Accuracy: 0.86050822122571 \n",
      " Precision: 0.8220410780625915 \n",
      " Recall: 0.8245794454429661 \n",
      " F1 score: 0.8231340946601118\n",
      "best accuracy = 0.863265306122449, with 19 features, with mutualInformation_classification\n"
     ]
    },
    {
     "name": "stderr",
     "output_type": "stream",
     "text": [
      "\r",
      " 96%|█████████▋| 26/27 [01:27<00:03,  3.71s/it]"
     ]
    },
    {
     "name": "stdout",
     "output_type": "stream",
     "text": [
      "Index(['month', 'day', 'year', 'hour', 'minute', 'holiday', 'dayOfTheWeek',\n",
      "       'Pandemic', 'temperature', 'humidity', 'pressure',\n",
      "       'heavy intensity rain', 'light rain', 'broken clouds', 'moderate rain',\n",
      "       'mist', 'overcast clouds', 'clear sky', 'scattered clouds',\n",
      "       'thunderstorm with rain', 'few clouds', 'thunderstorm', 'shower rain',\n",
      "       'very heavy rain', 'fog', 'haze'],\n",
      "      dtype='object')\n",
      "For 26 features: \n",
      " Accuracy: 0.8622641509433963 \n",
      " Precision: 0.8235999201843528 \n",
      " Recall: 0.8271882995013051 \n",
      " F1 score: 0.8252637809439557\n",
      "best accuracy = 0.863265306122449, with 19 features, with mutualInformation_classification\n"
     ]
    },
    {
     "name": "stderr",
     "output_type": "stream",
     "text": [
      "100%|██████████| 27/27 [01:31<00:00,  3.39s/it]\n",
      "  0%|          | 0/27 [00:00<?, ?it/s]"
     ]
    },
    {
     "name": "stdout",
     "output_type": "stream",
     "text": [
      "Index(['month', 'day', 'year', 'hour', 'minute', 'holiday', 'dayOfTheWeek',\n",
      "       'Pandemic', 'temperature', 'humidity', 'pressure',\n",
      "       'heavy intensity rain', 'light rain', 'broken clouds', 'moderate rain',\n",
      "       'mist', 'overcast clouds', 'clear sky', 'scattered clouds',\n",
      "       'thunderstorm with rain', 'few clouds', 'thunderstorm', 'shower rain',\n",
      "       'very heavy rain', 'fog', 'haze', 'thunderstorm with light rain'],\n",
      "      dtype='object')\n",
      "For 27 features: \n",
      " Accuracy: 0.861041104110411 \n",
      " Precision: 0.8230304169522193 \n",
      " Recall: 0.8255062672111877 \n",
      " F1 score: 0.824099718589403\n",
      "best accuracy = 0.863265306122449, with 19 features, with mutualInformation_classification\n",
      "best accuracy = 0.863265306122449, with 19 features, with mutualInformation_classification\n",
      "\n",
      " \n",
      "\n",
      "------------------------- Analyzing method mutualInformation_reggression -------------------------\n",
      "The variable order is: \n",
      " ['month', 'day', 'year', 'hour', 'minute', 'holiday', 'dayOfTheWeek', 'Pandemic', 'temperature', 'humidity', 'pressure', 'heavy intensity rain', 'light rain', 'broken clouds', 'moderate rain', 'mist', 'overcast clouds', 'clear sky', 'scattered clouds', 'thunderstorm with rain', 'few clouds', 'thunderstorm', 'shower rain', 'very heavy rain', 'fog', 'haze', 'thunderstorm with light rain', 'light intensity drizzle']\n"
     ]
    },
    {
     "name": "stderr",
     "output_type": "stream",
     "text": [
      "\r",
      "  4%|▎         | 1/27 [00:02<00:55,  2.14s/it]"
     ]
    },
    {
     "name": "stdout",
     "output_type": "stream",
     "text": [
      "Index(['month'], dtype='object')\n",
      "For 1 features: \n",
      " Accuracy: 0.4944995491433724 \n",
      " Precision: 0.4158869693741468 \n",
      " Recall: 0.42556883135970597 \n",
      " F1 score: 0.4032857530834045\n",
      "best accuracy = 0.4944995491433724, with 1 features, with mutualInformation_reggression\n"
     ]
    },
    {
     "name": "stderr",
     "output_type": "stream",
     "text": [
      "\r",
      "  7%|▋         | 2/27 [00:04<00:55,  2.22s/it]"
     ]
    },
    {
     "name": "stdout",
     "output_type": "stream",
     "text": [
      "Index(['month', 'day'], dtype='object')\n",
      "For 2 features: \n",
      " Accuracy: 0.6831526648599819 \n",
      " Precision: 0.6235724370151509 \n",
      " Recall: 0.6709029458414246 \n",
      " F1 score: 0.6346119665898065\n",
      "best accuracy = 0.6831526648599819, with 2 features, with mutualInformation_reggression\n"
     ]
    },
    {
     "name": "stderr",
     "output_type": "stream",
     "text": [
      "\r",
      " 11%|█         | 3/27 [00:06<00:53,  2.23s/it]"
     ]
    },
    {
     "name": "stdout",
     "output_type": "stream",
     "text": [
      "Index(['month', 'day', 'year'], dtype='object')\n",
      "For 3 features: \n",
      " Accuracy: 0.6873453996983409 \n",
      " Precision: 0.6257863437280486 \n",
      " Recall: 0.6721966054288151 \n",
      " F1 score: 0.6377938340144808\n",
      "best accuracy = 0.6873453996983409, with 3 features, with mutualInformation_reggression\n"
     ]
    },
    {
     "name": "stderr",
     "output_type": "stream",
     "text": [
      "\r",
      " 15%|█▍        | 4/27 [00:09<00:53,  2.34s/it]"
     ]
    },
    {
     "name": "stdout",
     "output_type": "stream",
     "text": [
      "Index(['month', 'day', 'year', 'hour'], dtype='object')\n",
      "For 4 features: \n",
      " Accuracy: 0.8578573587186461 \n",
      " Precision: 0.8213789756934902 \n",
      " Recall: 0.8107436656715721 \n",
      " F1 score: 0.81571814152381\n",
      "best accuracy = 0.8578573587186461, with 4 features, with mutualInformation_reggression\n"
     ]
    },
    {
     "name": "stderr",
     "output_type": "stream",
     "text": [
      "\r",
      " 19%|█▊        | 5/27 [00:11<00:53,  2.44s/it]"
     ]
    },
    {
     "name": "stdout",
     "output_type": "stream",
     "text": [
      "Index(['month', 'day', 'year', 'hour', 'minute'], dtype='object')\n",
      "For 5 features: \n",
      " Accuracy: 0.8466394187102634 \n",
      " Precision: 0.8030881132936264 \n",
      " Recall: 0.8061296507028195 \n",
      " F1 score: 0.8044165617761403\n",
      "best accuracy = 0.8578573587186461, with 4 features, with mutualInformation_reggression\n"
     ]
    },
    {
     "name": "stderr",
     "output_type": "stream",
     "text": [
      "\r",
      " 22%|██▏       | 6/27 [00:14<00:52,  2.52s/it]"
     ]
    },
    {
     "name": "stdout",
     "output_type": "stream",
     "text": [
      "Index(['month', 'day', 'year', 'hour', 'minute', 'holiday'], dtype='object')\n",
      "For 6 features: \n",
      " Accuracy: 0.8470276008492569 \n",
      " Precision: 0.8014470385806746 \n",
      " Recall: 0.8077062099429022 \n",
      " F1 score: 0.8043927128867278\n",
      "best accuracy = 0.8578573587186461, with 4 features, with mutualInformation_reggression\n"
     ]
    },
    {
     "name": "stderr",
     "output_type": "stream",
     "text": [
      "\r",
      " 26%|██▌       | 7/27 [00:17<00:51,  2.58s/it]"
     ]
    },
    {
     "name": "stdout",
     "output_type": "stream",
     "text": [
      "Index(['month', 'day', 'year', 'hour', 'minute', 'holiday', 'dayOfTheWeek'], dtype='object')\n",
      "For 7 features: \n",
      " Accuracy: 0.8522333637192343 \n",
      " Precision: 0.8088374326142357 \n",
      " Recall: 0.8129977572486723 \n",
      " F1 score: 0.8107470259877828\n",
      "best accuracy = 0.8578573587186461, with 4 features, with mutualInformation_reggression\n"
     ]
    },
    {
     "name": "stderr",
     "output_type": "stream",
     "text": [
      "\r",
      " 30%|██▉       | 8/27 [00:19<00:49,  2.62s/it]"
     ]
    },
    {
     "name": "stdout",
     "output_type": "stream",
     "text": [
      "Index(['month', 'day', 'year', 'hour', 'minute', 'holiday', 'dayOfTheWeek',\n",
      "       'Pandemic'],\n",
      "      dtype='object')\n",
      "For 8 features: \n",
      " Accuracy: 0.853455098934551 \n",
      " Precision: 0.8102797494254642 \n",
      " Recall: 0.814275465509993 \n",
      " F1 score: 0.8121095531065228\n",
      "best accuracy = 0.8578573587186461, with 4 features, with mutualInformation_reggression\n"
     ]
    },
    {
     "name": "stderr",
     "output_type": "stream",
     "text": [
      "\r",
      " 33%|███▎      | 9/27 [00:22<00:49,  2.74s/it]"
     ]
    },
    {
     "name": "stdout",
     "output_type": "stream",
     "text": [
      "Index(['month', 'day', 'year', 'hour', 'minute', 'holiday', 'dayOfTheWeek',\n",
      "       'Pandemic', 'temperature'],\n",
      "      dtype='object')\n",
      "For 9 features: \n",
      " Accuracy: 0.8508691674290942 \n",
      " Precision: 0.809260907043925 \n",
      " Recall: 0.8124194178006015 \n",
      " F1 score: 0.8105805092202703\n",
      "best accuracy = 0.8578573587186461, with 4 features, with mutualInformation_reggression\n"
     ]
    },
    {
     "name": "stderr",
     "output_type": "stream",
     "text": [
      "\r",
      " 37%|███▋      | 10/27 [00:26<00:49,  2.89s/it]"
     ]
    },
    {
     "name": "stdout",
     "output_type": "stream",
     "text": [
      "Index(['month', 'day', 'year', 'hour', 'minute', 'holiday', 'dayOfTheWeek',\n",
      "       'Pandemic', 'temperature', 'humidity'],\n",
      "      dtype='object')\n",
      "For 10 features: \n",
      " Accuracy: 0.8551329055912007 \n",
      " Precision: 0.8150098439117832 \n",
      " Recall: 0.8172908341582238 \n",
      " F1 score: 0.8160018513586921\n",
      "best accuracy = 0.8578573587186461, with 4 features, with mutualInformation_reggression\n"
     ]
    },
    {
     "name": "stderr",
     "output_type": "stream",
     "text": [
      "\r",
      " 41%|████      | 11/27 [00:29<00:48,  3.04s/it]"
     ]
    },
    {
     "name": "stdout",
     "output_type": "stream",
     "text": [
      "Index(['month', 'day', 'year', 'hour', 'minute', 'holiday', 'dayOfTheWeek',\n",
      "       'Pandemic', 'temperature', 'humidity', 'pressure'],\n",
      "      dtype='object')\n",
      "For 11 features: \n",
      " Accuracy: 0.8615855524946434 \n",
      " Precision: 0.8238198841206827 \n",
      " Recall: 0.8274350527776149 \n",
      " F1 score: 0.825354843450797\n",
      "best accuracy = 0.8615855524946434, with 11 features, with mutualInformation_reggression\n"
     ]
    },
    {
     "name": "stderr",
     "output_type": "stream",
     "text": [
      "\r",
      " 44%|████▍     | 12/27 [00:32<00:47,  3.15s/it]"
     ]
    },
    {
     "name": "stdout",
     "output_type": "stream",
     "text": [
      "Index(['month', 'day', 'year', 'hour', 'minute', 'holiday', 'dayOfTheWeek',\n",
      "       'Pandemic', 'temperature', 'humidity', 'pressure',\n",
      "       'heavy intensity rain'],\n",
      "      dtype='object')\n",
      "For 12 features: \n",
      " Accuracy: 0.8579576816927323 \n",
      " Precision: 0.8199368385144247 \n",
      " Recall: 0.8223503703327149 \n",
      " F1 score: 0.8210314181583523\n",
      "best accuracy = 0.8615855524946434, with 11 features, with mutualInformation_reggression\n"
     ]
    },
    {
     "name": "stderr",
     "output_type": "stream",
     "text": [
      "\r",
      " 48%|████▊     | 13/27 [00:36<00:45,  3.21s/it]"
     ]
    },
    {
     "name": "stdout",
     "output_type": "stream",
     "text": [
      "Index(['month', 'day', 'year', 'hour', 'minute', 'holiday', 'dayOfTheWeek',\n",
      "       'Pandemic', 'temperature', 'humidity', 'pressure',\n",
      "       'heavy intensity rain', 'light rain'],\n",
      "      dtype='object')\n",
      "For 13 features: \n",
      " Accuracy: 0.8589093701996928 \n",
      " Precision: 0.8190490888252621 \n",
      " Recall: 0.8216462551214245 \n",
      " F1 score: 0.8202263442003181\n",
      "best accuracy = 0.8615855524946434, with 11 features, with mutualInformation_reggression\n"
     ]
    },
    {
     "name": "stderr",
     "output_type": "stream",
     "text": [
      "\r",
      " 52%|█████▏    | 14/27 [00:39<00:42,  3.29s/it]"
     ]
    },
    {
     "name": "stdout",
     "output_type": "stream",
     "text": [
      "Index(['month', 'day', 'year', 'hour', 'minute', 'holiday', 'dayOfTheWeek',\n",
      "       'Pandemic', 'temperature', 'humidity', 'pressure',\n",
      "       'heavy intensity rain', 'light rain', 'broken clouds'],\n",
      "      dtype='object')\n",
      "For 14 features: \n",
      " Accuracy: 0.8559556786703602 \n",
      " Precision: 0.8179889508233346 \n",
      " Recall: 0.8201458603598136 \n",
      " F1 score: 0.8188352426787923\n",
      "best accuracy = 0.8615855524946434, with 11 features, with mutualInformation_reggression\n"
     ]
    },
    {
     "name": "stderr",
     "output_type": "stream",
     "text": [
      "\r",
      " 56%|█████▌    | 15/27 [00:43<00:39,  3.32s/it]"
     ]
    },
    {
     "name": "stdout",
     "output_type": "stream",
     "text": [
      "Index(['month', 'day', 'year', 'hour', 'minute', 'holiday', 'dayOfTheWeek',\n",
      "       'Pandemic', 'temperature', 'humidity', 'pressure',\n",
      "       'heavy intensity rain', 'light rain', 'broken clouds', 'moderate rain'],\n",
      "      dtype='object')\n",
      "For 15 features: \n",
      " Accuracy: 0.8621492445266729 \n",
      " Precision: 0.8252481686757769 \n",
      " Recall: 0.829459333480673 \n",
      " F1 score: 0.8271967648570702\n",
      "best accuracy = 0.8621492445266729, with 15 features, with mutualInformation_reggression\n"
     ]
    },
    {
     "name": "stderr",
     "output_type": "stream",
     "text": [
      "\r",
      " 59%|█████▉    | 16/27 [00:46<00:36,  3.34s/it]"
     ]
    },
    {
     "name": "stdout",
     "output_type": "stream",
     "text": [
      "Index(['month', 'day', 'year', 'hour', 'minute', 'holiday', 'dayOfTheWeek',\n",
      "       'Pandemic', 'temperature', 'humidity', 'pressure',\n",
      "       'heavy intensity rain', 'light rain', 'broken clouds', 'moderate rain',\n",
      "       'mist'],\n",
      "      dtype='object')\n",
      "For 16 features: \n",
      " Accuracy: 0.8573679332715477 \n",
      " Precision: 0.8173344907962096 \n",
      " Recall: 0.8225081619188706 \n",
      " F1 score: 0.8197528314835191\n",
      "best accuracy = 0.8621492445266729, with 15 features, with mutualInformation_reggression\n"
     ]
    },
    {
     "name": "stderr",
     "output_type": "stream",
     "text": [
      "\r",
      " 63%|██████▎   | 17/27 [00:49<00:33,  3.36s/it]"
     ]
    },
    {
     "name": "stdout",
     "output_type": "stream",
     "text": [
      "Index(['month', 'day', 'year', 'hour', 'minute', 'holiday', 'dayOfTheWeek',\n",
      "       'Pandemic', 'temperature', 'humidity', 'pressure',\n",
      "       'heavy intensity rain', 'light rain', 'broken clouds', 'moderate rain',\n",
      "       'mist', 'overcast clouds'],\n",
      "      dtype='object')\n",
      "For 17 features: \n",
      " Accuracy: 0.8596255029402662 \n",
      " Precision: 0.8213926297057851 \n",
      " Recall: 0.8259212667955729 \n",
      " F1 score: 0.8235065258135452\n",
      "best accuracy = 0.8621492445266729, with 15 features, with mutualInformation_reggression\n"
     ]
    },
    {
     "name": "stderr",
     "output_type": "stream",
     "text": [
      "\r",
      " 67%|██████▋   | 18/27 [00:53<00:30,  3.37s/it]"
     ]
    },
    {
     "name": "stdout",
     "output_type": "stream",
     "text": [
      "Index(['month', 'day', 'year', 'hour', 'minute', 'holiday', 'dayOfTheWeek',\n",
      "       'Pandemic', 'temperature', 'humidity', 'pressure',\n",
      "       'heavy intensity rain', 'light rain', 'broken clouds', 'moderate rain',\n",
      "       'mist', 'overcast clouds', 'clear sky'],\n",
      "      dtype='object')\n",
      "For 18 features: \n",
      " Accuracy: 0.8573333333333333 \n",
      " Precision: 0.8193298685282785 \n",
      " Recall: 0.8220877092128398 \n",
      " F1 score: 0.8205162225862328\n",
      "best accuracy = 0.8621492445266729, with 15 features, with mutualInformation_reggression\n"
     ]
    },
    {
     "name": "stderr",
     "output_type": "stream",
     "text": [
      "\r",
      " 70%|███████   | 19/27 [00:56<00:27,  3.41s/it]"
     ]
    },
    {
     "name": "stdout",
     "output_type": "stream",
     "text": [
      "Index(['month', 'day', 'year', 'hour', 'minute', 'holiday', 'dayOfTheWeek',\n",
      "       'Pandemic', 'temperature', 'humidity', 'pressure',\n",
      "       'heavy intensity rain', 'light rain', 'broken clouds', 'moderate rain',\n",
      "       'mist', 'overcast clouds', 'clear sky', 'scattered clouds'],\n",
      "      dtype='object')\n",
      "For 19 features: \n",
      " Accuracy: 0.857968313140727 \n",
      " Precision: 0.8216619456799513 \n",
      " Recall: 0.8239269609117518 \n",
      " F1 score: 0.8226879204900487\n",
      "best accuracy = 0.8621492445266729, with 15 features, with mutualInformation_reggression\n"
     ]
    },
    {
     "name": "stderr",
     "output_type": "stream",
     "text": [
      "\r",
      " 74%|███████▍  | 20/27 [01:00<00:24,  3.53s/it]"
     ]
    },
    {
     "name": "stdout",
     "output_type": "stream",
     "text": [
      "Index(['month', 'day', 'year', 'hour', 'minute', 'holiday', 'dayOfTheWeek',\n",
      "       'Pandemic', 'temperature', 'humidity', 'pressure',\n",
      "       'heavy intensity rain', 'light rain', 'broken clouds', 'moderate rain',\n",
      "       'mist', 'overcast clouds', 'clear sky', 'scattered clouds',\n",
      "       'thunderstorm with rain'],\n",
      "      dtype='object')\n",
      "For 20 features: \n",
      " Accuracy: 0.8569872393401805 \n",
      " Precision: 0.8178606524568026 \n",
      " Recall: 0.8203087080849335 \n",
      " F1 score: 0.8189497056620703\n",
      "best accuracy = 0.8621492445266729, with 15 features, with mutualInformation_reggression\n"
     ]
    },
    {
     "name": "stderr",
     "output_type": "stream",
     "text": [
      "\r",
      " 78%|███████▊  | 21/27 [01:04<00:21,  3.51s/it]"
     ]
    },
    {
     "name": "stdout",
     "output_type": "stream",
     "text": [
      "Index(['month', 'day', 'year', 'hour', 'minute', 'holiday', 'dayOfTheWeek',\n",
      "       'Pandemic', 'temperature', 'humidity', 'pressure',\n",
      "       'heavy intensity rain', 'light rain', 'broken clouds', 'moderate rain',\n",
      "       'mist', 'overcast clouds', 'clear sky', 'scattered clouds',\n",
      "       'thunderstorm with rain', 'few clouds'],\n",
      "      dtype='object')\n",
      "For 21 features: \n",
      " Accuracy: 0.854911131898971 \n",
      " Precision: 0.8163456148229215 \n",
      " Recall: 0.8189895823071497 \n",
      " F1 score: 0.8174892828006366\n",
      "best accuracy = 0.8621492445266729, with 15 features, with mutualInformation_reggression\n"
     ]
    },
    {
     "name": "stderr",
     "output_type": "stream",
     "text": [
      "\r",
      " 81%|████████▏ | 22/27 [01:07<00:17,  3.50s/it]"
     ]
    },
    {
     "name": "stdout",
     "output_type": "stream",
     "text": [
      "Index(['month', 'day', 'year', 'hour', 'minute', 'holiday', 'dayOfTheWeek',\n",
      "       'Pandemic', 'temperature', 'humidity', 'pressure',\n",
      "       'heavy intensity rain', 'light rain', 'broken clouds', 'moderate rain',\n",
      "       'mist', 'overcast clouds', 'clear sky', 'scattered clouds',\n",
      "       'thunderstorm with rain', 'few clouds', 'thunderstorm'],\n",
      "      dtype='object')\n",
      "For 22 features: \n",
      " Accuracy: 0.8589347079037801 \n",
      " Precision: 0.8202956716133102 \n",
      " Recall: 0.824337235908329 \n",
      " F1 score: 0.8221565250826758\n",
      "best accuracy = 0.8621492445266729, with 15 features, with mutualInformation_reggression\n"
     ]
    },
    {
     "name": "stderr",
     "output_type": "stream",
     "text": [
      "\r",
      " 85%|████████▌ | 23/27 [01:10<00:13,  3.47s/it]"
     ]
    },
    {
     "name": "stdout",
     "output_type": "stream",
     "text": [
      "Index(['month', 'day', 'year', 'hour', 'minute', 'holiday', 'dayOfTheWeek',\n",
      "       'Pandemic', 'temperature', 'humidity', 'pressure',\n",
      "       'heavy intensity rain', 'light rain', 'broken clouds', 'moderate rain',\n",
      "       'mist', 'overcast clouds', 'clear sky', 'scattered clouds',\n",
      "       'thunderstorm with rain', 'few clouds', 'thunderstorm', 'shower rain'],\n",
      "      dtype='object')\n",
      "For 23 features: \n",
      " Accuracy: 0.8537245696400626 \n",
      " Precision: 0.8166904460127554 \n",
      " Recall: 0.8189436119252315 \n",
      " F1 score: 0.8175577530117925\n",
      "best accuracy = 0.8621492445266729, with 15 features, with mutualInformation_reggression\n"
     ]
    },
    {
     "name": "stderr",
     "output_type": "stream",
     "text": [
      "\r",
      " 89%|████████▉ | 24/27 [01:14<00:10,  3.53s/it]"
     ]
    },
    {
     "name": "stdout",
     "output_type": "stream",
     "text": [
      "Index(['month', 'day', 'year', 'hour', 'minute', 'holiday', 'dayOfTheWeek',\n",
      "       'Pandemic', 'temperature', 'humidity', 'pressure',\n",
      "       'heavy intensity rain', 'light rain', 'broken clouds', 'moderate rain',\n",
      "       'mist', 'overcast clouds', 'clear sky', 'scattered clouds',\n",
      "       'thunderstorm with rain', 'few clouds', 'thunderstorm', 'shower rain',\n",
      "       'very heavy rain'],\n",
      "      dtype='object')\n",
      "For 24 features: \n",
      " Accuracy: 0.8578551269990593 \n",
      " Precision: 0.8209221861718818 \n",
      " Recall: 0.8236311742313951 \n",
      " F1 score: 0.8221052938742858\n",
      "best accuracy = 0.8621492445266729, with 15 features, with mutualInformation_reggression\n"
     ]
    },
    {
     "name": "stderr",
     "output_type": "stream",
     "text": [
      "\r",
      " 93%|█████████▎| 25/27 [01:18<00:07,  3.59s/it]"
     ]
    },
    {
     "name": "stdout",
     "output_type": "stream",
     "text": [
      "Index(['month', 'day', 'year', 'hour', 'minute', 'holiday', 'dayOfTheWeek',\n",
      "       'Pandemic', 'temperature', 'humidity', 'pressure',\n",
      "       'heavy intensity rain', 'light rain', 'broken clouds', 'moderate rain',\n",
      "       'mist', 'overcast clouds', 'clear sky', 'scattered clouds',\n",
      "       'thunderstorm with rain', 'few clouds', 'thunderstorm', 'shower rain',\n",
      "       'very heavy rain', 'fog'],\n",
      "      dtype='object')\n",
      "For 25 features: \n",
      " Accuracy: 0.8543669494187873 \n",
      " Precision: 0.8166403108920259 \n",
      " Recall: 0.8194007401440146 \n",
      " F1 score: 0.8178251048221337\n",
      "best accuracy = 0.8621492445266729, with 15 features, with mutualInformation_reggression\n"
     ]
    },
    {
     "name": "stderr",
     "output_type": "stream",
     "text": [
      "\r",
      " 96%|█████████▋| 26/27 [01:21<00:03,  3.54s/it]"
     ]
    },
    {
     "name": "stdout",
     "output_type": "stream",
     "text": [
      "Index(['month', 'day', 'year', 'hour', 'minute', 'holiday', 'dayOfTheWeek',\n",
      "       'Pandemic', 'temperature', 'humidity', 'pressure',\n",
      "       'heavy intensity rain', 'light rain', 'broken clouds', 'moderate rain',\n",
      "       'mist', 'overcast clouds', 'clear sky', 'scattered clouds',\n",
      "       'thunderstorm with rain', 'few clouds', 'thunderstorm', 'shower rain',\n",
      "       'very heavy rain', 'fog', 'haze'],\n",
      "      dtype='object')\n",
      "For 26 features: \n",
      " Accuracy: 0.8594113943972301 \n",
      " Precision: 0.8228162246797373 \n",
      " Recall: 0.8255788159292045 \n",
      " F1 score: 0.8240719374228459\n",
      "best accuracy = 0.8621492445266729, with 15 features, with mutualInformation_reggression\n"
     ]
    },
    {
     "name": "stderr",
     "output_type": "stream",
     "text": [
      "100%|██████████| 27/27 [01:25<00:00,  3.16s/it]\n",
      "  0%|          | 0/27 [00:00<?, ?it/s]"
     ]
    },
    {
     "name": "stdout",
     "output_type": "stream",
     "text": [
      "Index(['month', 'day', 'year', 'hour', 'minute', 'holiday', 'dayOfTheWeek',\n",
      "       'Pandemic', 'temperature', 'humidity', 'pressure',\n",
      "       'heavy intensity rain', 'light rain', 'broken clouds', 'moderate rain',\n",
      "       'mist', 'overcast clouds', 'clear sky', 'scattered clouds',\n",
      "       'thunderstorm with rain', 'few clouds', 'thunderstorm', 'shower rain',\n",
      "       'very heavy rain', 'fog', 'haze', 'thunderstorm with light rain'],\n",
      "      dtype='object')\n",
      "For 27 features: \n",
      " Accuracy: 0.8593345947650584 \n",
      " Precision: 0.8238500547656014 \n",
      " Recall: 0.8263539017055291 \n",
      " F1 score: 0.8249492197638761\n",
      "best accuracy = 0.8621492445266729, with 15 features, with mutualInformation_reggression\n",
      "best accuracy = 0.8621492445266729, with 15 features, with mutualInformation_reggression\n",
      "\n",
      " \n",
      "\n",
      "------------------------- Analyzing method mutualInformation_classification2 -------------------------\n",
      "The variable order is: \n",
      " ['day', 'temperature', 'month', 'humidity', 'hour', 'pressure', 'dayOfTheWeek', 'year', 'holiday', 'shower rain', 'light rain', 'thunderstorm', 'fog', 'broken clouds', 'Pandemic', 'thunderstorm with rain', 'light intensity drizzle', 'thunderstorm with light rain', 'heavy intensity rain', 'mist', 'scattered clouds', 'very heavy rain', 'overcast clouds', 'moderate rain', 'minute', 'haze', 'few clouds', 'clear sky']\n"
     ]
    },
    {
     "name": "stderr",
     "output_type": "stream",
     "text": [
      "\r",
      "  4%|▎         | 1/27 [00:02<00:54,  2.10s/it]"
     ]
    },
    {
     "name": "stdout",
     "output_type": "stream",
     "text": [
      "Index(['day'], dtype='object')\n",
      "For 1 features: \n",
      " Accuracy: 0.5051500789889415 \n",
      " Precision: 0.443233546613702 \n",
      " Recall: 0.45083056679364797 \n",
      " F1 score: 0.4312757949335885\n",
      "best accuracy = 0.5051500789889415, with 1 features, with mutualInformation_classification2\n"
     ]
    },
    {
     "name": "stderr",
     "output_type": "stream",
     "text": [
      "\r",
      "  7%|▋         | 2/27 [00:04<00:57,  2.32s/it]"
     ]
    },
    {
     "name": "stdout",
     "output_type": "stream",
     "text": [
      "Index(['day', 'temperature'], dtype='object')\n",
      "For 2 features: \n",
      " Accuracy: 0.6380025324469769 \n",
      " Precision: 0.5733946830196103 \n",
      " Recall: 0.5922143142478398 \n",
      " F1 score: 0.580253744526306\n",
      "best accuracy = 0.6380025324469769, with 2 features, with mutualInformation_classification2\n"
     ]
    },
    {
     "name": "stderr",
     "output_type": "stream",
     "text": [
      "\r",
      " 11%|█         | 3/27 [00:07<00:57,  2.38s/it]"
     ]
    },
    {
     "name": "stdout",
     "output_type": "stream",
     "text": [
      "Index(['day', 'temperature', 'month'], dtype='object')\n",
      "For 3 features: \n",
      " Accuracy: 0.7803203298445924 \n",
      " Precision: 0.7239630012849775 \n",
      " Recall: 0.7380569462400303 \n",
      " F1 score: 0.7303306379171023\n",
      "best accuracy = 0.7803203298445924, with 3 features, with mutualInformation_classification2\n"
     ]
    },
    {
     "name": "stderr",
     "output_type": "stream",
     "text": [
      "\r",
      " 15%|█▍        | 4/27 [00:09<00:57,  2.48s/it]"
     ]
    },
    {
     "name": "stdout",
     "output_type": "stream",
     "text": [
      "Index(['day', 'temperature', 'month', 'humidity'], dtype='object')\n",
      "For 4 features: \n",
      " Accuracy: 0.8367969494756912 \n",
      " Precision: 0.7955815831016854 \n",
      " Recall: 0.8010679430705552 \n",
      " F1 score: 0.7981310484440832\n",
      "best accuracy = 0.8367969494756912, with 4 features, with mutualInformation_classification2\n"
     ]
    },
    {
     "name": "stderr",
     "output_type": "stream",
     "text": [
      "\r",
      " 19%|█▊        | 5/27 [00:12<00:56,  2.59s/it]"
     ]
    },
    {
     "name": "stdout",
     "output_type": "stream",
     "text": [
      "Index(['day', 'temperature', 'month', 'humidity', 'hour'], dtype='object')\n",
      "For 5 features: \n",
      " Accuracy: 0.8634670487106018 \n",
      " Precision: 0.8288553029208995 \n",
      " Recall: 0.8314975088192335 \n",
      " F1 score: 0.8299993850862566\n",
      "best accuracy = 0.8634670487106018, with 5 features, with mutualInformation_classification2\n"
     ]
    },
    {
     "name": "stderr",
     "output_type": "stream",
     "text": [
      "\r",
      " 22%|██▏       | 6/27 [00:15<00:56,  2.71s/it]"
     ]
    },
    {
     "name": "stdout",
     "output_type": "stream",
     "text": [
      "Index(['day', 'temperature', 'month', 'humidity', 'hour', 'pressure'], dtype='object')\n",
      "For 6 features: \n",
      " Accuracy: 0.8708771929824561 \n",
      " Precision: 0.8379041206087791 \n",
      " Recall: 0.8393850965581933 \n",
      " F1 score: 0.8384879783332363\n",
      "best accuracy = 0.8708771929824561, with 6 features, with mutualInformation_classification2\n"
     ]
    },
    {
     "name": "stderr",
     "output_type": "stream",
     "text": [
      "\r",
      " 26%|██▌       | 7/27 [00:18<00:55,  2.78s/it]"
     ]
    },
    {
     "name": "stdout",
     "output_type": "stream",
     "text": [
      "Index(['day', 'temperature', 'month', 'humidity', 'hour', 'pressure',\n",
      "       'dayOfTheWeek'],\n",
      "      dtype='object')\n",
      "For 7 features: \n",
      " Accuracy: 0.8779002876318313 \n",
      " Precision: 0.8460477910007952 \n",
      " Recall: 0.8478953232250215 \n",
      " F1 score: 0.8468473308328159\n",
      "best accuracy = 0.8779002876318313, with 7 features, with mutualInformation_classification2\n"
     ]
    },
    {
     "name": "stderr",
     "output_type": "stream",
     "text": [
      "\r",
      " 30%|██▉       | 8/27 [00:21<00:54,  2.85s/it]"
     ]
    },
    {
     "name": "stdout",
     "output_type": "stream",
     "text": [
      "Index(['day', 'temperature', 'month', 'humidity', 'hour', 'pressure',\n",
      "       'dayOfTheWeek', 'year'],\n",
      "      dtype='object')\n",
      "For 8 features: \n",
      " Accuracy: 0.874607748959334 \n",
      " Precision: 0.8421579686146349 \n",
      " Recall: 0.8427303352286738 \n",
      " F1 score: 0.8422951667071913\n",
      "best accuracy = 0.8779002876318313, with 7 features, with mutualInformation_classification2\n"
     ]
    },
    {
     "name": "stderr",
     "output_type": "stream",
     "text": [
      "\r",
      " 33%|███▎      | 9/27 [00:24<00:52,  2.91s/it]"
     ]
    },
    {
     "name": "stdout",
     "output_type": "stream",
     "text": [
      "Index(['day', 'temperature', 'month', 'humidity', 'hour', 'pressure',\n",
      "       'dayOfTheWeek', 'year', 'holiday'],\n",
      "      dtype='object')\n",
      "For 9 features: \n",
      " Accuracy: 0.8760346487006737 \n",
      " Precision: 0.8423860716748605 \n",
      " Recall: 0.8455191484454581 \n",
      " F1 score: 0.8437943992970015\n",
      "best accuracy = 0.8779002876318313, with 7 features, with mutualInformation_classification2\n"
     ]
    },
    {
     "name": "stderr",
     "output_type": "stream",
     "text": [
      "\r",
      " 37%|███▋      | 10/27 [00:27<00:50,  2.95s/it]"
     ]
    },
    {
     "name": "stdout",
     "output_type": "stream",
     "text": [
      "Index(['day', 'temperature', 'month', 'humidity', 'hour', 'pressure',\n",
      "       'dayOfTheWeek', 'year', 'holiday', 'shower rain'],\n",
      "      dtype='object')\n",
      "For 10 features: \n",
      " Accuracy: 0.8753776920604307 \n",
      " Precision: 0.8419714823521149 \n",
      " Recall: 0.8441578430740871 \n",
      " F1 score: 0.8429175709338002\n",
      "best accuracy = 0.8779002876318313, with 7 features, with mutualInformation_classification2\n"
     ]
    },
    {
     "name": "stderr",
     "output_type": "stream",
     "text": [
      "\r",
      " 41%|████      | 11/27 [00:30<00:47,  2.97s/it]"
     ]
    },
    {
     "name": "stdout",
     "output_type": "stream",
     "text": [
      "Index(['day', 'temperature', 'month', 'humidity', 'hour', 'pressure',\n",
      "       'dayOfTheWeek', 'year', 'holiday', 'shower rain', 'light rain'],\n",
      "      dtype='object')\n",
      "For 11 features: \n",
      " Accuracy: 0.8778099838969404 \n",
      " Precision: 0.845455696081524 \n",
      " Recall: 0.8469325615366128 \n",
      " F1 score: 0.8460917151234542\n",
      "best accuracy = 0.8779002876318313, with 7 features, with mutualInformation_classification2\n"
     ]
    },
    {
     "name": "stderr",
     "output_type": "stream",
     "text": [
      "\r",
      " 44%|████▍     | 12/27 [00:33<00:44,  2.99s/it]"
     ]
    },
    {
     "name": "stdout",
     "output_type": "stream",
     "text": [
      "Index(['day', 'temperature', 'month', 'humidity', 'hour', 'pressure',\n",
      "       'dayOfTheWeek', 'year', 'holiday', 'shower rain', 'light rain',\n",
      "       'thunderstorm'],\n",
      "      dtype='object')\n",
      "For 12 features: \n",
      " Accuracy: 0.8766537592771861 \n",
      " Precision: 0.8449658780029871 \n",
      " Recall: 0.8472365711803657 \n",
      " F1 score: 0.845977204239668\n",
      "best accuracy = 0.8779002876318313, with 7 features, with mutualInformation_classification2\n"
     ]
    },
    {
     "name": "stderr",
     "output_type": "stream",
     "text": [
      "\r",
      " 48%|████▊     | 13/27 [00:36<00:41,  2.99s/it]"
     ]
    },
    {
     "name": "stdout",
     "output_type": "stream",
     "text": [
      "Index(['day', 'temperature', 'month', 'humidity', 'hour', 'pressure',\n",
      "       'dayOfTheWeek', 'year', 'holiday', 'shower rain', 'light rain',\n",
      "       'thunderstorm', 'fog'],\n",
      "      dtype='object')\n",
      "For 13 features: \n",
      " Accuracy: 0.874733268671193 \n",
      " Precision: 0.8424995578012894 \n",
      " Recall: 0.8427475170602075 \n",
      " F1 score: 0.8424638651918235\n",
      "best accuracy = 0.8779002876318313, with 7 features, with mutualInformation_classification2\n"
     ]
    },
    {
     "name": "stderr",
     "output_type": "stream",
     "text": [
      "\r",
      " 52%|█████▏    | 14/27 [00:39<00:39,  3.01s/it]"
     ]
    },
    {
     "name": "stdout",
     "output_type": "stream",
     "text": [
      "Index(['day', 'temperature', 'month', 'humidity', 'hour', 'pressure',\n",
      "       'dayOfTheWeek', 'year', 'holiday', 'shower rain', 'light rain',\n",
      "       'thunderstorm', 'fog', 'broken clouds'],\n",
      "      dtype='object')\n",
      "For 14 features: \n",
      " Accuracy: 0.8750242954324587 \n",
      " Precision: 0.8435186964686966 \n",
      " Recall: 0.8443398466633867 \n",
      " F1 score: 0.8438011269156849\n",
      "best accuracy = 0.8779002876318313, with 7 features, with mutualInformation_classification2\n"
     ]
    },
    {
     "name": "stderr",
     "output_type": "stream",
     "text": [
      "\r",
      " 56%|█████▌    | 15/27 [00:42<00:36,  3.01s/it]"
     ]
    },
    {
     "name": "stdout",
     "output_type": "stream",
     "text": [
      "Index(['day', 'temperature', 'month', 'humidity', 'hour', 'pressure',\n",
      "       'dayOfTheWeek', 'year', 'holiday', 'shower rain', 'light rain',\n",
      "       'thunderstorm', 'fog', 'broken clouds', 'Pandemic'],\n",
      "      dtype='object')\n",
      "For 15 features: \n",
      " Accuracy: 0.8776371308016878 \n",
      " Precision: 0.8461035711409425 \n",
      " Recall: 0.8470350196010543 \n",
      " F1 score: 0.8464474946395126\n",
      "best accuracy = 0.8779002876318313, with 7 features, with mutualInformation_classification2\n"
     ]
    },
    {
     "name": "stderr",
     "output_type": "stream",
     "text": [
      "\r",
      " 59%|█████▉    | 16/27 [00:45<00:33,  3.02s/it]"
     ]
    },
    {
     "name": "stdout",
     "output_type": "stream",
     "text": [
      "Index(['day', 'temperature', 'month', 'humidity', 'hour', 'pressure',\n",
      "       'dayOfTheWeek', 'year', 'holiday', 'shower rain', 'light rain',\n",
      "       'thunderstorm', 'fog', 'broken clouds', 'Pandemic',\n",
      "       'thunderstorm with rain'],\n",
      "      dtype='object')\n",
      "For 16 features: \n",
      " Accuracy: 0.8754959349593496 \n",
      " Precision: 0.8426184464538434 \n",
      " Recall: 0.8441165135196103 \n",
      " F1 score: 0.8432291383111923\n",
      "best accuracy = 0.8779002876318313, with 7 features, with mutualInformation_classification2\n"
     ]
    },
    {
     "name": "stderr",
     "output_type": "stream",
     "text": [
      "\r",
      " 63%|██████▎   | 17/27 [00:48<00:30,  3.01s/it]"
     ]
    },
    {
     "name": "stdout",
     "output_type": "stream",
     "text": [
      "Index(['day', 'temperature', 'month', 'humidity', 'hour', 'pressure',\n",
      "       'dayOfTheWeek', 'year', 'holiday', 'shower rain', 'light rain',\n",
      "       'thunderstorm', 'fog', 'broken clouds', 'Pandemic',\n",
      "       'thunderstorm with rain', 'light intensity drizzle'],\n",
      "      dtype='object')\n",
      "For 17 features: \n",
      " Accuracy: 0.8758879113717823 \n",
      " Precision: 0.8436815501424003 \n",
      " Recall: 0.8455010431863942 \n",
      " F1 score: 0.8444517013837525\n",
      "best accuracy = 0.8779002876318313, with 7 features, with mutualInformation_classification2\n"
     ]
    },
    {
     "name": "stderr",
     "output_type": "stream",
     "text": [
      "\r",
      " 67%|██████▋   | 18/27 [00:51<00:27,  3.01s/it]"
     ]
    },
    {
     "name": "stdout",
     "output_type": "stream",
     "text": [
      "Index(['day', 'temperature', 'month', 'humidity', 'hour', 'pressure',\n",
      "       'dayOfTheWeek', 'year', 'holiday', 'shower rain', 'light rain',\n",
      "       'thunderstorm', 'fog', 'broken clouds', 'Pandemic',\n",
      "       'thunderstorm with rain', 'light intensity drizzle',\n",
      "       'thunderstorm with light rain'],\n",
      "      dtype='object')\n",
      "For 18 features: \n",
      " Accuracy: 0.8755305256284689 \n",
      " Precision: 0.8430869634399888 \n",
      " Recall: 0.8424135276544787 \n",
      " F1 score: 0.8426237643024503\n",
      "best accuracy = 0.8779002876318313, with 7 features, with mutualInformation_classification2\n"
     ]
    },
    {
     "name": "stderr",
     "output_type": "stream",
     "text": [
      "\r",
      " 70%|███████   | 19/27 [00:54<00:24,  3.02s/it]"
     ]
    },
    {
     "name": "stdout",
     "output_type": "stream",
     "text": [
      "Index(['day', 'temperature', 'month', 'humidity', 'hour', 'pressure',\n",
      "       'dayOfTheWeek', 'year', 'holiday', 'shower rain', 'light rain',\n",
      "       'thunderstorm', 'fog', 'broken clouds', 'Pandemic',\n",
      "       'thunderstorm with rain', 'light intensity drizzle',\n",
      "       'thunderstorm with light rain', 'heavy intensity rain'],\n",
      "      dtype='object')\n",
      "For 19 features: \n",
      " Accuracy: 0.8756460582270199 \n",
      " Precision: 0.8443238357200953 \n",
      " Recall: 0.844367075345968 \n",
      " F1 score: 0.8441923673920085\n",
      "best accuracy = 0.8779002876318313, with 7 features, with mutualInformation_classification2\n"
     ]
    },
    {
     "name": "stderr",
     "output_type": "stream",
     "text": [
      "\r",
      " 74%|███████▍  | 20/27 [00:57<00:21,  3.03s/it]"
     ]
    },
    {
     "name": "stdout",
     "output_type": "stream",
     "text": [
      "Index(['day', 'temperature', 'month', 'humidity', 'hour', 'pressure',\n",
      "       'dayOfTheWeek', 'year', 'holiday', 'shower rain', 'light rain',\n",
      "       'thunderstorm', 'fog', 'broken clouds', 'Pandemic',\n",
      "       'thunderstorm with rain', 'light intensity drizzle',\n",
      "       'thunderstorm with light rain', 'heavy intensity rain', 'mist'],\n",
      "      dtype='object')\n",
      "For 20 features: \n",
      " Accuracy: 0.8769255981645362 \n",
      " Precision: 0.8437346189232487 \n",
      " Recall: 0.8447755674538001 \n",
      " F1 score: 0.8441489583887453\n",
      "best accuracy = 0.8779002876318313, with 7 features, with mutualInformation_classification2\n"
     ]
    },
    {
     "name": "stderr",
     "output_type": "stream",
     "text": [
      "\r",
      " 78%|███████▊  | 21/27 [01:00<00:18,  3.02s/it]"
     ]
    },
    {
     "name": "stdout",
     "output_type": "stream",
     "text": [
      "Index(['day', 'temperature', 'month', 'humidity', 'hour', 'pressure',\n",
      "       'dayOfTheWeek', 'year', 'holiday', 'shower rain', 'light rain',\n",
      "       'thunderstorm', 'fog', 'broken clouds', 'Pandemic',\n",
      "       'thunderstorm with rain', 'light intensity drizzle',\n",
      "       'thunderstorm with light rain', 'heavy intensity rain', 'mist',\n",
      "       'scattered clouds'],\n",
      "      dtype='object')\n",
      "For 21 features: \n",
      " Accuracy: 0.8721510673234811 \n",
      " Precision: 0.839435225737659 \n",
      " Recall: 0.8407010156884165 \n",
      " F1 score: 0.8399050923380204\n",
      "best accuracy = 0.8779002876318313, with 7 features, with mutualInformation_classification2\n"
     ]
    },
    {
     "name": "stderr",
     "output_type": "stream",
     "text": [
      "\r",
      " 81%|████████▏ | 22/27 [01:03<00:15,  3.03s/it]"
     ]
    },
    {
     "name": "stdout",
     "output_type": "stream",
     "text": [
      "Index(['day', 'temperature', 'month', 'humidity', 'hour', 'pressure',\n",
      "       'dayOfTheWeek', 'year', 'holiday', 'shower rain', 'light rain',\n",
      "       'thunderstorm', 'fog', 'broken clouds', 'Pandemic',\n",
      "       'thunderstorm with rain', 'light intensity drizzle',\n",
      "       'thunderstorm with light rain', 'heavy intensity rain', 'mist',\n",
      "       'scattered clouds', 'very heavy rain'],\n",
      "      dtype='object')\n",
      "For 22 features: \n",
      " Accuracy: 0.8734287594603488 \n",
      " Precision: 0.8420977858122517 \n",
      " Recall: 0.8428260568445725 \n",
      " F1 score: 0.8423400194872162\n",
      "best accuracy = 0.8779002876318313, with 7 features, with mutualInformation_classification2\n"
     ]
    },
    {
     "name": "stderr",
     "output_type": "stream",
     "text": [
      "\r",
      " 85%|████████▌ | 23/27 [01:06<00:12,  3.01s/it]"
     ]
    },
    {
     "name": "stdout",
     "output_type": "stream",
     "text": [
      "Index(['day', 'temperature', 'month', 'humidity', 'hour', 'pressure',\n",
      "       'dayOfTheWeek', 'year', 'holiday', 'shower rain', 'light rain',\n",
      "       'thunderstorm', 'fog', 'broken clouds', 'Pandemic',\n",
      "       'thunderstorm with rain', 'light intensity drizzle',\n",
      "       'thunderstorm with light rain', 'heavy intensity rain', 'mist',\n",
      "       'scattered clouds', 'very heavy rain', 'overcast clouds'],\n",
      "      dtype='object')\n",
      "For 23 features: \n",
      " Accuracy: 0.8739861523244312 \n",
      " Precision: 0.8425233344891493 \n",
      " Recall: 0.8421532463544478 \n",
      " F1 score: 0.8422138919488371\n",
      "best accuracy = 0.8779002876318313, with 7 features, with mutualInformation_classification2\n"
     ]
    },
    {
     "name": "stderr",
     "output_type": "stream",
     "text": [
      "\r",
      " 89%|████████▉ | 24/27 [01:09<00:09,  3.01s/it]"
     ]
    },
    {
     "name": "stdout",
     "output_type": "stream",
     "text": [
      "Index(['day', 'temperature', 'month', 'humidity', 'hour', 'pressure',\n",
      "       'dayOfTheWeek', 'year', 'holiday', 'shower rain', 'light rain',\n",
      "       'thunderstorm', 'fog', 'broken clouds', 'Pandemic',\n",
      "       'thunderstorm with rain', 'light intensity drizzle',\n",
      "       'thunderstorm with light rain', 'heavy intensity rain', 'mist',\n",
      "       'scattered clouds', 'very heavy rain', 'overcast clouds',\n",
      "       'moderate rain'],\n",
      "      dtype='object')\n",
      "For 24 features: \n",
      " Accuracy: 0.8771721176081929 \n",
      " Precision: 0.845103565707366 \n",
      " Recall: 0.8461296641497016 \n",
      " F1 score: 0.8454767515017035\n",
      "best accuracy = 0.8779002876318313, with 7 features, with mutualInformation_classification2\n"
     ]
    },
    {
     "name": "stderr",
     "output_type": "stream",
     "text": [
      "\r",
      " 93%|█████████▎| 25/27 [01:12<00:06,  3.05s/it]"
     ]
    },
    {
     "name": "stdout",
     "output_type": "stream",
     "text": [
      "Index(['day', 'temperature', 'month', 'humidity', 'hour', 'pressure',\n",
      "       'dayOfTheWeek', 'year', 'holiday', 'shower rain', 'light rain',\n",
      "       'thunderstorm', 'fog', 'broken clouds', 'Pandemic',\n",
      "       'thunderstorm with rain', 'light intensity drizzle',\n",
      "       'thunderstorm with light rain', 'heavy intensity rain', 'mist',\n",
      "       'scattered clouds', 'very heavy rain', 'overcast clouds',\n",
      "       'moderate rain', 'minute'],\n",
      "      dtype='object')\n",
      "For 25 features: \n",
      " Accuracy: 0.8609235352532274 \n",
      " Precision: 0.8212765305149362 \n",
      " Recall: 0.8236422820004337 \n",
      " F1 score: 0.822248701074876\n",
      "best accuracy = 0.8779002876318313, with 7 features, with mutualInformation_classification2\n"
     ]
    },
    {
     "name": "stderr",
     "output_type": "stream",
     "text": [
      "\r",
      " 96%|█████████▋| 26/27 [01:15<00:03,  3.09s/it]"
     ]
    },
    {
     "name": "stdout",
     "output_type": "stream",
     "text": [
      "Index(['day', 'temperature', 'month', 'humidity', 'hour', 'pressure',\n",
      "       'dayOfTheWeek', 'year', 'holiday', 'shower rain', 'light rain',\n",
      "       'thunderstorm', 'fog', 'broken clouds', 'Pandemic',\n",
      "       'thunderstorm with rain', 'light intensity drizzle',\n",
      "       'thunderstorm with light rain', 'heavy intensity rain', 'mist',\n",
      "       'scattered clouds', 'very heavy rain', 'overcast clouds',\n",
      "       'moderate rain', 'minute', 'haze'],\n",
      "      dtype='object')\n",
      "For 26 features: \n",
      " Accuracy: 0.8567993366500829 \n",
      " Precision: 0.8158027282847967 \n",
      " Recall: 0.818022962785813 \n",
      " F1 score: 0.8167386195096343\n",
      "best accuracy = 0.8779002876318313, with 7 features, with mutualInformation_classification2\n"
     ]
    },
    {
     "name": "stderr",
     "output_type": "stream",
     "text": [
      "100%|██████████| 27/27 [01:19<00:00,  2.93s/it]\n",
      "  0%|          | 0/27 [00:00<?, ?it/s]"
     ]
    },
    {
     "name": "stdout",
     "output_type": "stream",
     "text": [
      "Index(['day', 'temperature', 'month', 'humidity', 'hour', 'pressure',\n",
      "       'dayOfTheWeek', 'year', 'holiday', 'shower rain', 'light rain',\n",
      "       'thunderstorm', 'fog', 'broken clouds', 'Pandemic',\n",
      "       'thunderstorm with rain', 'light intensity drizzle',\n",
      "       'thunderstorm with light rain', 'heavy intensity rain', 'mist',\n",
      "       'scattered clouds', 'very heavy rain', 'overcast clouds',\n",
      "       'moderate rain', 'minute', 'haze', 'few clouds'],\n",
      "      dtype='object')\n",
      "For 27 features: \n",
      " Accuracy: 0.8570289132602193 \n",
      " Precision: 0.816324159513892 \n",
      " Recall: 0.8208278987162579 \n",
      " F1 score: 0.8183952257346901\n",
      "best accuracy = 0.8779002876318313, with 7 features, with mutualInformation_classification2\n",
      "best accuracy = 0.8779002876318313, with 7 features, with mutualInformation_classification2\n",
      "\n",
      " \n",
      "\n",
      "------------------------- Analyzing method varianceThreshold -------------------------\n",
      "The variable order is: \n",
      " ['month', 'day', 'year', 'hour', 'minute', 'holiday', 'dayOfTheWeek', 'temperature', 'humidity', 'pressure', 'heavy intensity rain', 'light rain', 'broken clouds', 'scattered clouds', 'thunderstorm with rain', 'few clouds', 'thunderstorm', 'shower rain']\n"
     ]
    },
    {
     "name": "stderr",
     "output_type": "stream",
     "text": [
      "\r",
      "  4%|▎         | 1/27 [00:01<00:47,  1.82s/it]"
     ]
    },
    {
     "name": "stdout",
     "output_type": "stream",
     "text": [
      "Index(['month'], dtype='object')\n",
      "For 1 features: \n",
      " Accuracy: 0.5462037962037962 \n",
      " Precision: 0.42337584470637646 \n",
      " Recall: 0.4250883108659146 \n",
      " F1 score: 0.4176343473723237\n",
      "best accuracy = 0.5462037962037962, with 1 features, with varianceThreshold\n"
     ]
    },
    {
     "name": "stderr",
     "output_type": "stream",
     "text": [
      "\r",
      "  7%|▋         | 2/27 [00:03<00:46,  1.88s/it]"
     ]
    },
    {
     "name": "stdout",
     "output_type": "stream",
     "text": [
      "Index(['month', 'day'], dtype='object')\n",
      "For 2 features: \n",
      " Accuracy: 0.6944277610944277 \n",
      " Precision: 0.6297859058289462 \n",
      " Recall: 0.67841760070614 \n",
      " F1 score: 0.640485840848478\n",
      "best accuracy = 0.6944277610944277, with 2 features, with varianceThreshold\n"
     ]
    },
    {
     "name": "stderr",
     "output_type": "stream",
     "text": [
      "\r",
      " 11%|█         | 3/27 [00:05<00:45,  1.89s/it]"
     ]
    },
    {
     "name": "stdout",
     "output_type": "stream",
     "text": [
      "Index(['month', 'day', 'year'], dtype='object')\n",
      "For 3 features: \n",
      " Accuracy: 0.6956536275493146 \n",
      " Precision: 0.6297409486885972 \n",
      " Recall: 0.6767376149088381 \n",
      " F1 score: 0.6415498246136951\n",
      "best accuracy = 0.6956536275493146, with 3 features, with varianceThreshold\n"
     ]
    },
    {
     "name": "stderr",
     "output_type": "stream",
     "text": [
      "\r",
      " 15%|█▍        | 4/27 [00:07<00:45,  1.96s/it]"
     ]
    },
    {
     "name": "stdout",
     "output_type": "stream",
     "text": [
      "Index(['month', 'day', 'year', 'hour'], dtype='object')\n",
      "For 4 features: \n",
      " Accuracy: 0.860033500837521 \n",
      " Precision: 0.8217332491506473 \n",
      " Recall: 0.8118076731134829 \n",
      " F1 score: 0.8164215870900888\n",
      "best accuracy = 0.860033500837521, with 4 features, with varianceThreshold\n"
     ]
    },
    {
     "name": "stderr",
     "output_type": "stream",
     "text": [
      "\r",
      " 19%|█▊        | 5/27 [00:09<00:45,  2.05s/it]"
     ]
    },
    {
     "name": "stdout",
     "output_type": "stream",
     "text": [
      "Index(['month', 'day', 'year', 'hour', 'minute'], dtype='object')\n",
      "For 5 features: \n",
      " Accuracy: 0.847096341054045 \n",
      " Precision: 0.8002786163189808 \n",
      " Recall: 0.8055662221949833 \n",
      " F1 score: 0.8027082679362282\n",
      "best accuracy = 0.860033500837521, with 4 features, with varianceThreshold\n"
     ]
    },
    {
     "name": "stderr",
     "output_type": "stream",
     "text": [
      "\r",
      " 22%|██▏       | 6/27 [00:12<00:44,  2.14s/it]"
     ]
    },
    {
     "name": "stdout",
     "output_type": "stream",
     "text": [
      "Index(['month', 'day', 'year', 'hour', 'minute', 'holiday'], dtype='object')\n",
      "For 6 features: \n",
      " Accuracy: 0.850050454086781 \n",
      " Precision: 0.8034474894509338 \n",
      " Recall: 0.807616744348705 \n",
      " F1 score: 0.8053464735973157\n",
      "best accuracy = 0.860033500837521, with 4 features, with varianceThreshold\n"
     ]
    },
    {
     "name": "stderr",
     "output_type": "stream",
     "text": [
      "\r",
      " 26%|██▌       | 7/27 [00:14<00:43,  2.19s/it]"
     ]
    },
    {
     "name": "stdout",
     "output_type": "stream",
     "text": [
      "Index(['month', 'day', 'year', 'hour', 'minute', 'holiday', 'dayOfTheWeek'], dtype='object')\n",
      "For 7 features: \n",
      " Accuracy: 0.8514324233232221 \n",
      " Precision: 0.8041604161244762 \n",
      " Recall: 0.8070078778088875 \n",
      " F1 score: 0.8054029649498381\n",
      "best accuracy = 0.860033500837521, with 4 features, with varianceThreshold\n"
     ]
    },
    {
     "name": "stderr",
     "output_type": "stream",
     "text": [
      "\r",
      " 30%|██▉       | 8/27 [00:17<00:43,  2.31s/it]"
     ]
    },
    {
     "name": "stdout",
     "output_type": "stream",
     "text": [
      "Index(['month', 'day', 'year', 'hour', 'minute', 'holiday', 'dayOfTheWeek',\n",
      "       'temperature'],\n",
      "      dtype='object')\n",
      "For 8 features: \n",
      " Accuracy: 0.851469098277609 \n",
      " Precision: 0.8045002839633443 \n",
      " Recall: 0.8106222403725262 \n",
      " F1 score: 0.8072916577976004\n",
      "best accuracy = 0.860033500837521, with 4 features, with varianceThreshold\n"
     ]
    },
    {
     "name": "stderr",
     "output_type": "stream",
     "text": [
      "\r",
      " 33%|███▎      | 9/27 [00:19<00:43,  2.43s/it]"
     ]
    },
    {
     "name": "stdout",
     "output_type": "stream",
     "text": [
      "Index(['month', 'day', 'year', 'hour', 'minute', 'holiday', 'dayOfTheWeek',\n",
      "       'temperature', 'humidity'],\n",
      "      dtype='object')\n",
      "For 9 features: \n",
      " Accuracy: 0.8554991539763114 \n",
      " Precision: 0.8105327682545772 \n",
      " Recall: 0.8149816463848292 \n",
      " F1 score: 0.8125755771684191\n",
      "best accuracy = 0.860033500837521, with 4 features, with varianceThreshold\n"
     ]
    },
    {
     "name": "stderr",
     "output_type": "stream",
     "text": [
      "\r",
      " 37%|███▋      | 10/27 [00:22<00:43,  2.58s/it]"
     ]
    },
    {
     "name": "stdout",
     "output_type": "stream",
     "text": [
      "Index(['month', 'day', 'year', 'hour', 'minute', 'holiday', 'dayOfTheWeek',\n",
      "       'temperature', 'humidity', 'pressure'],\n",
      "      dtype='object')\n",
      "For 10 features: \n",
      " Accuracy: 0.8593760596812479 \n",
      " Precision: 0.8152493455298615 \n",
      " Recall: 0.8184259674826313 \n",
      " F1 score: 0.8166774979184759\n",
      "best accuracy = 0.860033500837521, with 4 features, with varianceThreshold\n"
     ]
    },
    {
     "name": "stderr",
     "output_type": "stream",
     "text": [
      "\r",
      " 41%|████      | 11/27 [00:25<00:42,  2.68s/it]"
     ]
    },
    {
     "name": "stdout",
     "output_type": "stream",
     "text": [
      "Index(['month', 'day', 'year', 'hour', 'minute', 'holiday', 'dayOfTheWeek',\n",
      "       'temperature', 'humidity', 'pressure', 'heavy intensity rain'],\n",
      "      dtype='object')\n",
      "For 11 features: \n",
      " Accuracy: 0.8597179748555895 \n",
      " Precision: 0.8179445966054296 \n",
      " Recall: 0.8195182114169566 \n",
      " F1 score: 0.8185404773868371\n",
      "best accuracy = 0.860033500837521, with 4 features, with varianceThreshold\n"
     ]
    },
    {
     "name": "stderr",
     "output_type": "stream",
     "text": [
      "\r",
      " 44%|████▍     | 12/27 [00:28<00:41,  2.73s/it]"
     ]
    },
    {
     "name": "stdout",
     "output_type": "stream",
     "text": [
      "Index(['month', 'day', 'year', 'hour', 'minute', 'holiday', 'dayOfTheWeek',\n",
      "       'temperature', 'humidity', 'pressure', 'heavy intensity rain',\n",
      "       'light rain'],\n",
      "      dtype='object')\n",
      "For 12 features: \n",
      " Accuracy: 0.8585972080354103 \n",
      " Precision: 0.8153265680787679 \n",
      " Recall: 0.8179963509897399 \n",
      " F1 score: 0.8165291853029808\n",
      "best accuracy = 0.860033500837521, with 4 features, with varianceThreshold\n"
     ]
    },
    {
     "name": "stderr",
     "output_type": "stream",
     "text": [
      "\r",
      " 48%|████▊     | 13/27 [00:31<00:39,  2.79s/it]"
     ]
    },
    {
     "name": "stdout",
     "output_type": "stream",
     "text": [
      "Index(['month', 'day', 'year', 'hour', 'minute', 'holiday', 'dayOfTheWeek',\n",
      "       'temperature', 'humidity', 'pressure', 'heavy intensity rain',\n",
      "       'light rain', 'broken clouds'],\n",
      "      dtype='object')\n",
      "For 13 features: \n",
      " Accuracy: 0.8570112589559877 \n",
      " Precision: 0.8132789628608035 \n",
      " Recall: 0.8167731572489659 \n",
      " F1 score: 0.8148401773389465\n",
      "best accuracy = 0.860033500837521, with 4 features, with varianceThreshold\n"
     ]
    },
    {
     "name": "stderr",
     "output_type": "stream",
     "text": [
      "\r",
      " 52%|█████▏    | 14/27 [00:34<00:36,  2.83s/it]"
     ]
    },
    {
     "name": "stdout",
     "output_type": "stream",
     "text": [
      "Index(['month', 'day', 'year', 'hour', 'minute', 'holiday', 'dayOfTheWeek',\n",
      "       'temperature', 'humidity', 'pressure', 'heavy intensity rain',\n",
      "       'light rain', 'broken clouds', 'scattered clouds'],\n",
      "      dtype='object')\n",
      "For 14 features: \n",
      " Accuracy: 0.8571965811965812 \n",
      " Precision: 0.8122065948479975 \n",
      " Recall: 0.817300202305248 \n",
      " F1 score: 0.8145604316521482\n",
      "best accuracy = 0.860033500837521, with 4 features, with varianceThreshold\n"
     ]
    },
    {
     "name": "stderr",
     "output_type": "stream",
     "text": [
      "\r",
      " 56%|█████▌    | 15/27 [00:37<00:34,  2.86s/it]"
     ]
    },
    {
     "name": "stdout",
     "output_type": "stream",
     "text": [
      "Index(['month', 'day', 'year', 'hour', 'minute', 'holiday', 'dayOfTheWeek',\n",
      "       'temperature', 'humidity', 'pressure', 'heavy intensity rain',\n",
      "       'light rain', 'broken clouds', 'scattered clouds',\n",
      "       'thunderstorm with rain'],\n",
      "      dtype='object')\n",
      "For 15 features: \n",
      " Accuracy: 0.8571085988352175 \n",
      " Precision: 0.8142374901694416 \n",
      " Recall: 0.8187750594309658 \n",
      " F1 score: 0.816284135087277\n",
      "best accuracy = 0.860033500837521, with 4 features, with varianceThreshold\n"
     ]
    },
    {
     "name": "stderr",
     "output_type": "stream",
     "text": [
      "\r",
      " 59%|█████▉    | 16/27 [00:40<00:31,  2.88s/it]"
     ]
    },
    {
     "name": "stdout",
     "output_type": "stream",
     "text": [
      "Index(['month', 'day', 'year', 'hour', 'minute', 'holiday', 'dayOfTheWeek',\n",
      "       'temperature', 'humidity', 'pressure', 'heavy intensity rain',\n",
      "       'light rain', 'broken clouds', 'scattered clouds',\n",
      "       'thunderstorm with rain', 'few clouds'],\n",
      "      dtype='object')\n",
      "For 16 features: \n",
      " Accuracy: 0.8581187778922074 \n",
      " Precision: 0.8146545777861545 \n",
      " Recall: 0.8173446236886844 \n",
      " F1 score: 0.8158351999864906\n",
      "best accuracy = 0.860033500837521, with 4 features, with varianceThreshold\n"
     ]
    },
    {
     "name": "stderr",
     "output_type": "stream",
     "text": [
      "\r",
      " 63%|██████▎   | 17/27 [00:43<00:28,  2.90s/it]"
     ]
    },
    {
     "name": "stdout",
     "output_type": "stream",
     "text": [
      "Index(['month', 'day', 'year', 'hour', 'minute', 'holiday', 'dayOfTheWeek',\n",
      "       'temperature', 'humidity', 'pressure', 'heavy intensity rain',\n",
      "       'light rain', 'broken clouds', 'scattered clouds',\n",
      "       'thunderstorm with rain', 'few clouds', 'thunderstorm'],\n",
      "      dtype='object')\n",
      "For 17 features: \n",
      " Accuracy: 0.8553835569315446 \n",
      " Precision: 0.8090611209989237 \n",
      " Recall: 0.8155518301565677 \n",
      " F1 score: 0.8121186340474824\n",
      "best accuracy = 0.860033500837521, with 4 features, with varianceThreshold\n"
     ]
    },
    {
     "name": "stderr",
     "output_type": "stream",
     "text": [
      "\r",
      " 67%|██████▋   | 18/27 [00:46<00:26,  2.90s/it]"
     ]
    },
    {
     "name": "stdout",
     "output_type": "stream",
     "text": [
      "Index(['month', 'day', 'year', 'hour', 'minute', 'holiday', 'dayOfTheWeek',\n",
      "       'temperature', 'humidity', 'pressure', 'heavy intensity rain',\n",
      "       'light rain', 'broken clouds', 'scattered clouds',\n",
      "       'thunderstorm with rain', 'few clouds', 'thunderstorm', 'shower rain'],\n",
      "      dtype='object')\n",
      "For 18 features: \n",
      " Accuracy: 0.8586349534643226 \n",
      " Precision: 0.8161553507946668 \n",
      " Recall: 0.8211498436765456 \n",
      " F1 score: 0.8184561415636588\n",
      "best accuracy = 0.860033500837521, with 4 features, with varianceThreshold\n"
     ]
    },
    {
     "name": "stderr",
     "output_type": "stream",
     "text": [
      "\r",
      " 70%|███████   | 19/27 [00:48<00:23,  2.90s/it]"
     ]
    },
    {
     "name": "stdout",
     "output_type": "stream",
     "text": [
      "Index(['month', 'day', 'year', 'hour', 'minute', 'holiday', 'dayOfTheWeek',\n",
      "       'temperature', 'humidity', 'pressure', 'heavy intensity rain',\n",
      "       'light rain', 'broken clouds', 'scattered clouds',\n",
      "       'thunderstorm with rain', 'few clouds', 'thunderstorm', 'shower rain'],\n",
      "      dtype='object')\n",
      "For 19 features: \n",
      " Accuracy: 0.8604490500863557 \n",
      " Precision: 0.820458881070715 \n",
      " Recall: 0.8214065934513227 \n",
      " F1 score: 0.8206437275851141\n",
      "best accuracy = 0.8604490500863557, with 19 features, with varianceThreshold\n"
     ]
    },
    {
     "name": "stderr",
     "output_type": "stream",
     "text": [
      "\r",
      " 74%|███████▍  | 20/27 [00:51<00:20,  2.90s/it]"
     ]
    },
    {
     "name": "stdout",
     "output_type": "stream",
     "text": [
      "Index(['month', 'day', 'year', 'hour', 'minute', 'holiday', 'dayOfTheWeek',\n",
      "       'temperature', 'humidity', 'pressure', 'heavy intensity rain',\n",
      "       'light rain', 'broken clouds', 'scattered clouds',\n",
      "       'thunderstorm with rain', 'few clouds', 'thunderstorm', 'shower rain'],\n",
      "      dtype='object')\n",
      "For 20 features: \n",
      " Accuracy: 0.8565420560747663 \n",
      " Precision: 0.814001061253289 \n",
      " Recall: 0.8170012481192759 \n",
      " F1 score: 0.8153292846539466\n",
      "best accuracy = 0.8604490500863557, with 19 features, with varianceThreshold\n"
     ]
    },
    {
     "name": "stderr",
     "output_type": "stream",
     "text": [
      "\r",
      " 78%|███████▊  | 21/27 [00:54<00:17,  2.90s/it]"
     ]
    },
    {
     "name": "stdout",
     "output_type": "stream",
     "text": [
      "Index(['month', 'day', 'year', 'hour', 'minute', 'holiday', 'dayOfTheWeek',\n",
      "       'temperature', 'humidity', 'pressure', 'heavy intensity rain',\n",
      "       'light rain', 'broken clouds', 'scattered clouds',\n",
      "       'thunderstorm with rain', 'few clouds', 'thunderstorm', 'shower rain'],\n",
      "      dtype='object')\n",
      "For 21 features: \n",
      " Accuracy: 0.8578043704474506 \n",
      " Precision: 0.8142988180543568 \n",
      " Recall: 0.8185142116214411 \n",
      " F1 score: 0.816177476543471\n",
      "best accuracy = 0.8604490500863557, with 19 features, with varianceThreshold\n"
     ]
    },
    {
     "name": "stderr",
     "output_type": "stream",
     "text": [
      "\r",
      " 81%|████████▏ | 22/27 [00:57<00:14,  2.89s/it]"
     ]
    },
    {
     "name": "stdout",
     "output_type": "stream",
     "text": [
      "Index(['month', 'day', 'year', 'hour', 'minute', 'holiday', 'dayOfTheWeek',\n",
      "       'temperature', 'humidity', 'pressure', 'heavy intensity rain',\n",
      "       'light rain', 'broken clouds', 'scattered clouds',\n",
      "       'thunderstorm with rain', 'few clouds', 'thunderstorm', 'shower rain'],\n",
      "      dtype='object')\n",
      "For 22 features: \n",
      " Accuracy: 0.858237747653806 \n",
      " Precision: 0.8159619273942165 \n",
      " Recall: 0.8195210173137024 \n",
      " F1 score: 0.8175356601908337\n",
      "best accuracy = 0.8604490500863557, with 19 features, with varianceThreshold\n"
     ]
    },
    {
     "name": "stderr",
     "output_type": "stream",
     "text": [
      "\r",
      " 85%|████████▌ | 23/27 [01:00<00:11,  2.89s/it]"
     ]
    },
    {
     "name": "stdout",
     "output_type": "stream",
     "text": [
      "Index(['month', 'day', 'year', 'hour', 'minute', 'holiday', 'dayOfTheWeek',\n",
      "       'temperature', 'humidity', 'pressure', 'heavy intensity rain',\n",
      "       'light rain', 'broken clouds', 'scattered clouds',\n",
      "       'thunderstorm with rain', 'few clouds', 'thunderstorm', 'shower rain'],\n",
      "      dtype='object')\n",
      "For 23 features: \n",
      " Accuracy: 0.8608672936259143 \n",
      " Precision: 0.8205388351268561 \n",
      " Recall: 0.822810003495405 \n",
      " F1 score: 0.8215486997319538\n",
      "best accuracy = 0.8608672936259143, with 23 features, with varianceThreshold\n"
     ]
    },
    {
     "name": "stderr",
     "output_type": "stream",
     "text": [
      "\r",
      " 89%|████████▉ | 24/27 [01:03<00:08,  2.87s/it]"
     ]
    },
    {
     "name": "stdout",
     "output_type": "stream",
     "text": [
      "Index(['month', 'day', 'year', 'hour', 'minute', 'holiday', 'dayOfTheWeek',\n",
      "       'temperature', 'humidity', 'pressure', 'heavy intensity rain',\n",
      "       'light rain', 'broken clouds', 'scattered clouds',\n",
      "       'thunderstorm with rain', 'few clouds', 'thunderstorm', 'shower rain'],\n",
      "      dtype='object')\n",
      "For 24 features: \n",
      " Accuracy: 0.8598778359511344 \n",
      " Precision: 0.8175912548071298 \n",
      " Recall: 0.8201201883020552 \n",
      " F1 score: 0.8186912498136399\n",
      "best accuracy = 0.8608672936259143, with 23 features, with varianceThreshold\n"
     ]
    },
    {
     "name": "stderr",
     "output_type": "stream",
     "text": [
      "\r",
      " 93%|█████████▎| 25/27 [01:06<00:05,  2.89s/it]"
     ]
    },
    {
     "name": "stdout",
     "output_type": "stream",
     "text": [
      "Index(['month', 'day', 'year', 'hour', 'minute', 'holiday', 'dayOfTheWeek',\n",
      "       'temperature', 'humidity', 'pressure', 'heavy intensity rain',\n",
      "       'light rain', 'broken clouds', 'scattered clouds',\n",
      "       'thunderstorm with rain', 'few clouds', 'thunderstorm', 'shower rain'],\n",
      "      dtype='object')\n",
      "For 25 features: \n",
      " Accuracy: 0.8583071003847499 \n",
      " Precision: 0.8167263065329243 \n",
      " Recall: 0.8200368361805414 \n",
      " F1 score: 0.8181739218281553\n",
      "best accuracy = 0.8608672936259143, with 23 features, with varianceThreshold\n"
     ]
    },
    {
     "name": "stderr",
     "output_type": "stream",
     "text": [
      "\r",
      " 96%|█████████▋| 26/27 [01:09<00:02,  2.91s/it]"
     ]
    },
    {
     "name": "stdout",
     "output_type": "stream",
     "text": [
      "Index(['month', 'day', 'year', 'hour', 'minute', 'holiday', 'dayOfTheWeek',\n",
      "       'temperature', 'humidity', 'pressure', 'heavy intensity rain',\n",
      "       'light rain', 'broken clouds', 'scattered clouds',\n",
      "       'thunderstorm with rain', 'few clouds', 'thunderstorm', 'shower rain'],\n",
      "      dtype='object')\n",
      "For 26 features: \n",
      " Accuracy: 0.8577637574483 \n",
      " Precision: 0.8160705924567457 \n",
      " Recall: 0.8179325719817431 \n",
      " F1 score: 0.8168723138054661\n",
      "best accuracy = 0.8608672936259143, with 23 features, with varianceThreshold\n"
     ]
    },
    {
     "name": "stderr",
     "output_type": "stream",
     "text": [
      "100%|██████████| 27/27 [01:12<00:00,  2.67s/it]\n",
      "  0%|          | 0/27 [00:00<?, ?it/s]"
     ]
    },
    {
     "name": "stdout",
     "output_type": "stream",
     "text": [
      "Index(['month', 'day', 'year', 'hour', 'minute', 'holiday', 'dayOfTheWeek',\n",
      "       'temperature', 'humidity', 'pressure', 'heavy intensity rain',\n",
      "       'light rain', 'broken clouds', 'scattered clouds',\n",
      "       'thunderstorm with rain', 'few clouds', 'thunderstorm', 'shower rain'],\n",
      "      dtype='object')\n",
      "For 27 features: \n",
      " Accuracy: 0.8583069898138391 \n",
      " Precision: 0.816932317381799 \n",
      " Recall: 0.8207037129506718 \n",
      " F1 score: 0.8186730200680127\n",
      "best accuracy = 0.8608672936259143, with 23 features, with varianceThreshold\n",
      "best accuracy = 0.8608672936259143, with 23 features, with varianceThreshold\n",
      "\n",
      " \n",
      "\n",
      "------------------------- Analyzing method MRMR -------------------------\n",
      "The variable order is: \n",
      " ['month', 'day', 'year', 'hour', 'minute', 'holiday', 'dayOfTheWeek', 'temperature', 'humidity', 'pressure', 'heavy intensity rain', 'light rain', 'broken clouds', 'scattered clouds', 'thunderstorm with rain', 'few clouds', 'thunderstorm', 'shower rain', 'heavy intensity rain', 'mist', 'scattered clouds', 'very heavy rain', 'overcast clouds', 'moderate rain', 'minute', 'haze', 'few clouds']\n"
     ]
    },
    {
     "name": "stderr",
     "output_type": "stream",
     "text": [
      "\r",
      "  4%|▎         | 1/27 [00:01<00:42,  1.65s/it]"
     ]
    },
    {
     "name": "stdout",
     "output_type": "stream",
     "text": [
      "Index(['month'], dtype='object')\n",
      "For 1 features: \n",
      " Accuracy: 0.5381203801478353 \n",
      " Precision: 0.42115869734951034 \n",
      " Recall: 0.4348906267983984 \n",
      " F1 score: 0.4184213539989126\n",
      "best accuracy = 0.5381203801478353, with 1 features, with MRMR\n"
     ]
    },
    {
     "name": "stderr",
     "output_type": "stream",
     "text": [
      "\r",
      "  7%|▋         | 2/27 [00:03<00:41,  1.67s/it]"
     ]
    },
    {
     "name": "stdout",
     "output_type": "stream",
     "text": [
      "Index(['month', 'day'], dtype='object')\n",
      "For 2 features: \n",
      " Accuracy: 0.6931393298059965 \n",
      " Precision: 0.6282200767143277 \n",
      " Recall: 0.6786283850835745 \n",
      " F1 score: 0.6404298348296108\n",
      "best accuracy = 0.6931393298059965, with 2 features, with MRMR\n"
     ]
    },
    {
     "name": "stderr",
     "output_type": "stream",
     "text": [
      "\r",
      " 11%|█         | 3/27 [00:05<00:40,  1.69s/it]"
     ]
    },
    {
     "name": "stdout",
     "output_type": "stream",
     "text": [
      "Index(['month', 'day', 'year'], dtype='object')\n",
      "For 3 features: \n",
      " Accuracy: 0.6948568398727466 \n",
      " Precision: 0.6307053477677607 \n",
      " Recall: 0.6799073303267358 \n",
      " F1 score: 0.643576127206108\n",
      "best accuracy = 0.6948568398727466, with 3 features, with MRMR\n"
     ]
    },
    {
     "name": "stderr",
     "output_type": "stream",
     "text": [
      "\r",
      " 15%|█▍        | 4/27 [00:06<00:40,  1.77s/it]"
     ]
    },
    {
     "name": "stdout",
     "output_type": "stream",
     "text": [
      "Index(['month', 'day', 'year', 'hour'], dtype='object')\n",
      "For 4 features: \n",
      " Accuracy: 0.8539142755933404 \n",
      " Precision: 0.8146258207730686 \n",
      " Recall: 0.8008594438106966 \n",
      " F1 score: 0.8071894659155109\n",
      "best accuracy = 0.8539142755933404, with 4 features, with MRMR\n"
     ]
    },
    {
     "name": "stderr",
     "output_type": "stream",
     "text": [
      "\r",
      " 19%|█▊        | 5/27 [00:08<00:41,  1.87s/it]"
     ]
    },
    {
     "name": "stdout",
     "output_type": "stream",
     "text": [
      "Index(['month', 'day', 'year', 'hour', 'minute'], dtype='object')\n",
      "For 5 features: \n",
      " Accuracy: 0.844266950656727 \n",
      " Precision: 0.797441088026307 \n",
      " Recall: 0.8032358828344504 \n",
      " F1 score: 0.8001480993407729\n",
      "best accuracy = 0.8539142755933404, with 4 features, with MRMR\n"
     ]
    },
    {
     "name": "stderr",
     "output_type": "stream",
     "text": [
      "\r",
      " 22%|██▏       | 6/27 [00:11<00:40,  1.94s/it]"
     ]
    },
    {
     "name": "stdout",
     "output_type": "stream",
     "text": [
      "Index(['month', 'day', 'year', 'hour', 'minute', 'holiday'], dtype='object')\n",
      "For 6 features: \n",
      " Accuracy: 0.8431874777659196 \n",
      " Precision: 0.7958736454391028 \n",
      " Recall: 0.8014814115194915 \n",
      " F1 score: 0.7984822685527595\n",
      "best accuracy = 0.8539142755933404, with 4 features, with MRMR\n"
     ]
    },
    {
     "name": "stderr",
     "output_type": "stream",
     "text": [
      "\r",
      " 26%|██▌       | 7/27 [00:13<00:40,  2.01s/it]"
     ]
    },
    {
     "name": "stdout",
     "output_type": "stream",
     "text": [
      "Index(['month', 'day', 'year', 'hour', 'minute', 'holiday', 'dayOfTheWeek'], dtype='object')\n",
      "For 7 features: \n",
      " Accuracy: 0.8535650623885918 \n",
      " Precision: 0.8078816687249517 \n",
      " Recall: 0.813824164481097 \n",
      " F1 score: 0.8106322174251918\n",
      "best accuracy = 0.8539142755933404, with 4 features, with MRMR\n"
     ]
    },
    {
     "name": "stderr",
     "output_type": "stream",
     "text": [
      "\r",
      " 30%|██▉       | 8/27 [00:15<00:40,  2.12s/it]"
     ]
    },
    {
     "name": "stdout",
     "output_type": "stream",
     "text": [
      "Index(['month', 'day', 'year', 'hour', 'minute', 'holiday', 'dayOfTheWeek',\n",
      "       'temperature'],\n",
      "      dtype='object')\n",
      "For 8 features: \n",
      " Accuracy: 0.848356555912826 \n",
      " Precision: 0.8023640424074918 \n",
      " Recall: 0.8064523411795846 \n",
      " F1 score: 0.8042018542421939\n",
      "best accuracy = 0.8539142755933404, with 4 features, with MRMR\n"
     ]
    },
    {
     "name": "stderr",
     "output_type": "stream",
     "text": [
      "\r",
      " 33%|███▎      | 9/27 [00:18<00:40,  2.24s/it]"
     ]
    },
    {
     "name": "stdout",
     "output_type": "stream",
     "text": [
      "Index(['month', 'day', 'year', 'hour', 'minute', 'holiday', 'dayOfTheWeek',\n",
      "       'temperature', 'humidity'],\n",
      "      dtype='object')\n",
      "For 9 features: \n",
      " Accuracy: 0.852953813104189 \n",
      " Precision: 0.8099510563697099 \n",
      " Recall: 0.815520562594275 \n",
      " F1 score: 0.8125075892569084\n",
      "best accuracy = 0.8539142755933404, with 4 features, with MRMR\n"
     ]
    },
    {
     "name": "stderr",
     "output_type": "stream",
     "text": [
      "\r",
      " 37%|███▋      | 10/27 [00:20<00:40,  2.36s/it]"
     ]
    },
    {
     "name": "stdout",
     "output_type": "stream",
     "text": [
      "Index(['month', 'day', 'year', 'hour', 'minute', 'holiday', 'dayOfTheWeek',\n",
      "       'temperature', 'humidity', 'pressure'],\n",
      "      dtype='object')\n",
      "For 10 features: \n",
      " Accuracy: 0.8557588805166846 \n",
      " Precision: 0.8154597109288689 \n",
      " Recall: 0.8175906028989728 \n",
      " F1 score: 0.8163084123258431\n",
      "best accuracy = 0.8557588805166846, with 10 features, with MRMR\n"
     ]
    },
    {
     "name": "stderr",
     "output_type": "stream",
     "text": [
      "\r",
      " 41%|████      | 11/27 [00:23<00:39,  2.47s/it]"
     ]
    },
    {
     "name": "stdout",
     "output_type": "stream",
     "text": [
      "Index(['month', 'day', 'year', 'hour', 'minute', 'holiday', 'dayOfTheWeek',\n",
      "       'temperature', 'humidity', 'pressure', 'heavy intensity rain'],\n",
      "      dtype='object')\n",
      "For 11 features: \n",
      " Accuracy: 0.8565623876303488 \n",
      " Precision: 0.8142893095290837 \n",
      " Recall: 0.8161759268391756 \n",
      " F1 score: 0.8150904266871544\n",
      "best accuracy = 0.8565623876303488, with 11 features, with MRMR\n"
     ]
    },
    {
     "name": "stderr",
     "output_type": "stream",
     "text": [
      "\r",
      " 44%|████▍     | 12/27 [00:26<00:37,  2.53s/it]"
     ]
    },
    {
     "name": "stdout",
     "output_type": "stream",
     "text": [
      "Index(['month', 'day', 'year', 'hour', 'minute', 'holiday', 'dayOfTheWeek',\n",
      "       'temperature', 'humidity', 'pressure', 'heavy intensity rain',\n",
      "       'light rain'],\n",
      "      dtype='object')\n",
      "For 12 features: \n",
      " Accuracy: 0.8579639639639639 \n",
      " Precision: 0.815634875277134 \n",
      " Recall: 0.8201441097906261 \n",
      " F1 score: 0.8176025451691447\n",
      "best accuracy = 0.8579639639639639, with 12 features, with MRMR\n"
     ]
    },
    {
     "name": "stderr",
     "output_type": "stream",
     "text": [
      "\r",
      " 48%|████▊     | 13/27 [00:28<00:35,  2.56s/it]"
     ]
    },
    {
     "name": "stdout",
     "output_type": "stream",
     "text": [
      "Index(['month', 'day', 'year', 'hour', 'minute', 'holiday', 'dayOfTheWeek',\n",
      "       'temperature', 'humidity', 'pressure', 'heavy intensity rain',\n",
      "       'light rain', 'broken clouds'],\n",
      "      dtype='object')\n",
      "For 13 features: \n",
      " Accuracy: 0.8563560852293247 \n",
      " Precision: 0.8166733595236868 \n",
      " Recall: 0.8207525817940459 \n",
      " F1 score: 0.8185105545224766\n",
      "best accuracy = 0.8579639639639639, with 12 features, with MRMR\n"
     ]
    },
    {
     "name": "stderr",
     "output_type": "stream",
     "text": [
      "\r",
      " 52%|█████▏    | 14/27 [00:31<00:33,  2.61s/it]"
     ]
    },
    {
     "name": "stdout",
     "output_type": "stream",
     "text": [
      "Index(['month', 'day', 'year', 'hour', 'minute', 'holiday', 'dayOfTheWeek',\n",
      "       'temperature', 'humidity', 'pressure', 'heavy intensity rain',\n",
      "       'light rain', 'broken clouds', 'scattered clouds'],\n",
      "      dtype='object')\n",
      "For 14 features: \n",
      " Accuracy: 0.8597357944263482 \n",
      " Precision: 0.8200314889153956 \n",
      " Recall: 0.8230264068503916 \n",
      " F1 score: 0.8213051053458229\n",
      "best accuracy = 0.8597357944263482, with 14 features, with MRMR\n"
     ]
    },
    {
     "name": "stderr",
     "output_type": "stream",
     "text": [
      "\r",
      " 56%|█████▌    | 15/27 [00:34<00:31,  2.62s/it]"
     ]
    },
    {
     "name": "stdout",
     "output_type": "stream",
     "text": [
      "Index(['month', 'day', 'year', 'hour', 'minute', 'holiday', 'dayOfTheWeek',\n",
      "       'temperature', 'humidity', 'pressure', 'heavy intensity rain',\n",
      "       'light rain', 'broken clouds', 'scattered clouds',\n",
      "       'thunderstorm with rain'],\n",
      "      dtype='object')\n",
      "For 15 features: \n",
      " Accuracy: 0.8542256075444323 \n",
      " Precision: 0.8141713195293153 \n",
      " Recall: 0.8160700397661064 \n",
      " F1 score: 0.8149745280664451\n",
      "best accuracy = 0.8597357944263482, with 14 features, with MRMR\n"
     ]
    },
    {
     "name": "stderr",
     "output_type": "stream",
     "text": [
      "\r",
      " 59%|█████▉    | 16/27 [00:36<00:29,  2.65s/it]"
     ]
    },
    {
     "name": "stdout",
     "output_type": "stream",
     "text": [
      "Index(['month', 'day', 'year', 'hour', 'minute', 'holiday', 'dayOfTheWeek',\n",
      "       'temperature', 'humidity', 'pressure', 'heavy intensity rain',\n",
      "       'light rain', 'broken clouds', 'scattered clouds',\n",
      "       'thunderstorm with rain', 'few clouds'],\n",
      "      dtype='object')\n",
      "For 16 features: \n",
      " Accuracy: 0.8557433660487096 \n",
      " Precision: 0.8166535066042432 \n",
      " Recall: 0.8183486066797698 \n",
      " F1 score: 0.8173741034349808\n",
      "best accuracy = 0.8597357944263482, with 14 features, with MRMR\n"
     ]
    },
    {
     "name": "stderr",
     "output_type": "stream",
     "text": [
      "\r",
      " 63%|██████▎   | 17/27 [00:39<00:26,  2.68s/it]"
     ]
    },
    {
     "name": "stdout",
     "output_type": "stream",
     "text": [
      "Index(['month', 'day', 'year', 'hour', 'minute', 'holiday', 'dayOfTheWeek',\n",
      "       'temperature', 'humidity', 'pressure', 'heavy intensity rain',\n",
      "       'light rain', 'broken clouds', 'scattered clouds',\n",
      "       'thunderstorm with rain', 'few clouds', 'thunderstorm'],\n",
      "      dtype='object')\n",
      "For 17 features: \n",
      " Accuracy: 0.8549544626593807 \n",
      " Precision: 0.8153847859431791 \n",
      " Recall: 0.8196810569325961 \n",
      " F1 score: 0.8173947019300647\n",
      "best accuracy = 0.8597357944263482, with 14 features, with MRMR\n"
     ]
    },
    {
     "name": "stderr",
     "output_type": "stream",
     "text": [
      "\r",
      " 67%|██████▋   | 18/27 [00:42<00:24,  2.70s/it]"
     ]
    },
    {
     "name": "stdout",
     "output_type": "stream",
     "text": [
      "Index(['month', 'day', 'year', 'hour', 'minute', 'holiday', 'dayOfTheWeek',\n",
      "       'temperature', 'humidity', 'pressure', 'heavy intensity rain',\n",
      "       'light rain', 'broken clouds', 'scattered clouds',\n",
      "       'thunderstorm with rain', 'few clouds', 'thunderstorm', 'shower rain'],\n",
      "      dtype='object')\n",
      "For 18 features: \n",
      " Accuracy: 0.8544359255202628 \n",
      " Precision: 0.81496482675247 \n",
      " Recall: 0.8194167841689894 \n",
      " F1 score: 0.8169015511738548\n",
      "best accuracy = 0.8597357944263482, with 14 features, with MRMR\n"
     ]
    },
    {
     "name": "stderr",
     "output_type": "stream",
     "text": [
      "\r",
      " 70%|███████   | 19/27 [00:45<00:21,  2.72s/it]"
     ]
    },
    {
     "name": "stdout",
     "output_type": "stream",
     "text": [
      "Index(['month', 'day', 'year', 'hour', 'minute', 'holiday', 'dayOfTheWeek',\n",
      "       'temperature', 'humidity', 'pressure', 'heavy intensity rain',\n",
      "       'light rain', 'broken clouds', 'scattered clouds',\n",
      "       'thunderstorm with rain', 'few clouds', 'thunderstorm', 'shower rain',\n",
      "       'heavy intensity rain'],\n",
      "      dtype='object')\n",
      "For 19 features: \n",
      " Accuracy: 0.8569520673252835 \n",
      " Precision: 0.8174083085890003 \n",
      " Recall: 0.8225581720472045 \n",
      " F1 score: 0.8197393901421787\n",
      "best accuracy = 0.8597357944263482, with 14 features, with MRMR\n"
     ]
    },
    {
     "name": "stderr",
     "output_type": "stream",
     "text": [
      "\r",
      " 74%|███████▍  | 20/27 [00:47<00:19,  2.73s/it]"
     ]
    },
    {
     "name": "stdout",
     "output_type": "stream",
     "text": [
      "Index(['month', 'day', 'year', 'hour', 'minute', 'holiday', 'dayOfTheWeek',\n",
      "       'temperature', 'humidity', 'pressure', 'heavy intensity rain',\n",
      "       'light rain', 'broken clouds', 'scattered clouds',\n",
      "       'thunderstorm with rain', 'few clouds', 'thunderstorm', 'shower rain',\n",
      "       'heavy intensity rain', 'mist'],\n",
      "      dtype='object')\n",
      "For 20 features: \n",
      " Accuracy: 0.8585075174184085 \n",
      " Precision: 0.8188981655828187 \n",
      " Recall: 0.823149563828506 \n",
      " F1 score: 0.8208059788323137\n",
      "best accuracy = 0.8597357944263482, with 14 features, with MRMR\n"
     ]
    },
    {
     "name": "stderr",
     "output_type": "stream",
     "text": [
      "\r",
      " 78%|███████▊  | 21/27 [00:50<00:16,  2.74s/it]"
     ]
    },
    {
     "name": "stdout",
     "output_type": "stream",
     "text": [
      "Index(['month', 'day', 'year', 'hour', 'minute', 'holiday', 'dayOfTheWeek',\n",
      "       'temperature', 'humidity', 'pressure', 'heavy intensity rain',\n",
      "       'light rain', 'broken clouds', 'scattered clouds',\n",
      "       'thunderstorm with rain', 'few clouds', 'thunderstorm', 'shower rain',\n",
      "       'heavy intensity rain', 'mist', 'scattered clouds'],\n",
      "      dtype='object')\n",
      "For 21 features: \n",
      " Accuracy: 0.8555126791620727 \n",
      " Precision: 0.8176824871717487 \n",
      " Recall: 0.819305597374383 \n",
      " F1 score: 0.8182997326316913\n",
      "best accuracy = 0.8597357944263482, with 14 features, with MRMR\n"
     ]
    },
    {
     "name": "stderr",
     "output_type": "stream",
     "text": [
      "\r",
      " 81%|████████▏ | 22/27 [00:53<00:13,  2.74s/it]"
     ]
    },
    {
     "name": "stdout",
     "output_type": "stream",
     "text": [
      "Index(['month', 'day', 'year', 'hour', 'minute', 'holiday', 'dayOfTheWeek',\n",
      "       'temperature', 'humidity', 'pressure', 'heavy intensity rain',\n",
      "       'light rain', 'broken clouds', 'scattered clouds',\n",
      "       'thunderstorm with rain', 'few clouds', 'thunderstorm', 'shower rain',\n",
      "       'heavy intensity rain', 'mist', 'scattered clouds', 'very heavy rain'],\n",
      "      dtype='object')\n",
      "For 22 features: \n",
      " Accuracy: 0.8565193370165746 \n",
      " Precision: 0.819654312947167 \n",
      " Recall: 0.8223065823561762 \n",
      " F1 score: 0.820736857132054\n",
      "best accuracy = 0.8597357944263482, with 14 features, with MRMR\n"
     ]
    },
    {
     "name": "stderr",
     "output_type": "stream",
     "text": [
      "\r",
      " 85%|████████▌ | 23/27 [00:56<00:11,  2.77s/it]"
     ]
    },
    {
     "name": "stdout",
     "output_type": "stream",
     "text": [
      "Index(['month', 'day', 'year', 'hour', 'minute', 'holiday', 'dayOfTheWeek',\n",
      "       'temperature', 'humidity', 'pressure', 'heavy intensity rain',\n",
      "       'light rain', 'broken clouds', 'scattered clouds',\n",
      "       'thunderstorm with rain', 'few clouds', 'thunderstorm', 'shower rain',\n",
      "       'heavy intensity rain', 'mist', 'scattered clouds', 'very heavy rain',\n",
      "       'overcast clouds'],\n",
      "      dtype='object')\n",
      "For 23 features: \n",
      " Accuracy: 0.8531192321889997 \n",
      " Precision: 0.8147553137234725 \n",
      " Recall: 0.8190637920131819 \n",
      " F1 score: 0.8167285438522367\n",
      "best accuracy = 0.8597357944263482, with 14 features, with MRMR\n"
     ]
    },
    {
     "name": "stderr",
     "output_type": "stream",
     "text": [
      "\r",
      " 89%|████████▉ | 24/27 [00:58<00:08,  2.77s/it]"
     ]
    },
    {
     "name": "stdout",
     "output_type": "stream",
     "text": [
      "Index(['month', 'day', 'year', 'hour', 'minute', 'holiday', 'dayOfTheWeek',\n",
      "       'temperature', 'humidity', 'pressure', 'heavy intensity rain',\n",
      "       'light rain', 'broken clouds', 'scattered clouds',\n",
      "       'thunderstorm with rain', 'few clouds', 'thunderstorm', 'shower rain',\n",
      "       'heavy intensity rain', 'mist', 'scattered clouds', 'very heavy rain',\n",
      "       'overcast clouds', 'moderate rain'],\n",
      "      dtype='object')\n",
      "For 24 features: \n",
      " Accuracy: 0.85614132445431 \n",
      " Precision: 0.8174189697191413 \n",
      " Recall: 0.8211607030914805 \n",
      " F1 score: 0.8191542230954929\n",
      "best accuracy = 0.8597357944263482, with 14 features, with MRMR\n"
     ]
    },
    {
     "name": "stderr",
     "output_type": "stream",
     "text": [
      "\r",
      " 93%|█████████▎| 25/27 [01:01<00:05,  2.80s/it]"
     ]
    },
    {
     "name": "stdout",
     "output_type": "stream",
     "text": [
      "Index(['month', 'day', 'year', 'hour', 'minute', 'holiday', 'dayOfTheWeek',\n",
      "       'temperature', 'humidity', 'pressure', 'heavy intensity rain',\n",
      "       'light rain', 'broken clouds', 'scattered clouds',\n",
      "       'thunderstorm with rain', 'few clouds', 'thunderstorm', 'shower rain',\n",
      "       'heavy intensity rain', 'mist', 'scattered clouds', 'very heavy rain',\n",
      "       'overcast clouds', 'moderate rain', 'minute'],\n",
      "      dtype='object')\n",
      "For 25 features: \n",
      " Accuracy: 0.8501853911753801 \n",
      " Precision: 0.8135063836808353 \n",
      " Recall: 0.8153063075773118 \n",
      " F1 score: 0.8142406178059793\n",
      "best accuracy = 0.8597357944263482, with 14 features, with MRMR\n"
     ]
    },
    {
     "name": "stderr",
     "output_type": "stream",
     "text": [
      "\r",
      " 96%|█████████▋| 26/27 [01:04<00:02,  2.83s/it]"
     ]
    },
    {
     "name": "stdout",
     "output_type": "stream",
     "text": [
      "Index(['month', 'day', 'year', 'hour', 'minute', 'holiday', 'dayOfTheWeek',\n",
      "       'temperature', 'humidity', 'pressure', 'heavy intensity rain',\n",
      "       'light rain', 'broken clouds', 'scattered clouds',\n",
      "       'thunderstorm with rain', 'few clouds', 'thunderstorm', 'shower rain',\n",
      "       'heavy intensity rain', 'mist', 'scattered clouds', 'very heavy rain',\n",
      "       'overcast clouds', 'moderate rain', 'minute', 'haze'],\n",
      "      dtype='object')\n",
      "For 26 features: \n",
      " Accuracy: 0.8531958379784467 \n",
      " Precision: 0.8170229555905253 \n",
      " Recall: 0.8189211034652957 \n",
      " F1 score: 0.8177384891842577\n",
      "best accuracy = 0.8597357944263482, with 14 features, with MRMR\n"
     ]
    },
    {
     "name": "stderr",
     "output_type": "stream",
     "text": [
      "100%|██████████| 27/27 [01:07<00:00,  2.50s/it]"
     ]
    },
    {
     "name": "stdout",
     "output_type": "stream",
     "text": [
      "Index(['month', 'day', 'year', 'hour', 'minute', 'holiday', 'dayOfTheWeek',\n",
      "       'temperature', 'humidity', 'pressure', 'heavy intensity rain',\n",
      "       'light rain', 'broken clouds', 'scattered clouds',\n",
      "       'thunderstorm with rain', 'few clouds', 'thunderstorm', 'shower rain',\n",
      "       'heavy intensity rain', 'mist', 'scattered clouds', 'very heavy rain',\n",
      "       'overcast clouds', 'moderate rain', 'minute', 'haze', 'few clouds'],\n",
      "      dtype='object')\n",
      "For 27 features: \n",
      " Accuracy: 0.8494785847299814 \n",
      " Precision: 0.8102217887582863 \n",
      " Recall: 0.8155271898333033 \n",
      " F1 score: 0.8126244936372491\n",
      "best accuracy = 0.8597357944263482, with 14 features, with MRMR\n",
      "best accuracy = 0.8597357944263482, with 14 features, with MRMR\n",
      "\n",
      " \n",
      "\n"
     ]
    },
    {
     "name": "stderr",
     "output_type": "stream",
     "text": [
      "\n"
     ]
    }
   ],
   "source": [
    "analizeDF(hp_oHe,orderOHE,28,n_loops=20)"
   ]
  },
  {
   "cell_type": "markdown",
   "id": "650901dd",
   "metadata": {},
   "source": [
    "## Manual Encoding"
   ]
  },
  {
   "cell_type": "code",
   "execution_count": 21,
   "id": "a630868d",
   "metadata": {},
   "outputs": [
    {
     "data": {
      "text/plain": [
       "array([2., 1., 3.])"
      ]
     },
     "execution_count": 21,
     "metadata": {},
     "output_type": "execute_result"
    }
   ],
   "source": [
    "#Replace times ending in 5 and also compacting the rest to have only 6 classes\n",
    "b=hp_ME.Harry_Potter_and_the_Forbidden.replace([\n",
    "5, 10, 11, 15, 20, 25, 30, 35, 40, 45,50.0,55.0,60.0,65.0,70.0,75.0,80.0,85.0,90.0,95.0,100.0,105.0,110.0,115.0,120.0,125.0,130.0,135.0,145.0,150.0,180.0], \n",
    "[1,1,  1,  1,  1,  1,  1,  2,  2,  2, 2,   2,   2,   3,   3,   3,   3,   3,   3,   3,   3,    3,    3,    3,     3,    3,   3,    3,     3,    3,    3])\n",
    "\n",
    "df3=pd.DataFrame(b)\n",
    "df3.rename(columns = {'Harry_Potter_and_the_Forbidden':'HP_Forbidden_clean'}, inplace = True)\n",
    "hp_bis3=pd.concat([hp_ME, df3], axis=1)\n",
    "hp3 = hp_bis3.drop('Harry_Potter_and_the_Forbidden',axis=1)\n",
    "hp3.rename(columns = {'day.1':'dayOfTheWeek'}, inplace = True)\n",
    "hp3 = hp3[hp3.HP_Forbidden_clean != 0] #delete rows with 0 min\n",
    "hp3.HP_Forbidden_clean.unique()"
   ]
  },
  {
   "cell_type": "code",
   "execution_count": 24,
   "id": "ce62b5e7",
   "metadata": {},
   "outputs": [],
   "source": [
    "HP_ME = hp3\n",
    "\n",
    "pear_corr = ['temperature','holiday','day','month','pressure','dayOfTheWeek',\n",
    "            'report','minute','year','humidity','hour',\t'Pandemic']\n",
    "kend_corr = ['temperature','holiday','month','day','pressure','dayOfTheWeek','report','year',\n",
    "             'minute','humidity','hour','Pandemic']\n",
    "mutInf_class = ['month','day','year','hour','minute','holiday','dayOfTheWeek','Pandemic',\n",
    "                'temperature','humidity','pressure','report']\n",
    "mutInf_reg = ['month','day','year','hour','minute','holiday','dayOfTheWeek','Pandemic',\n",
    "                'temperature','humidity','pressure','report']\n",
    "mutInf_class2 = ['day','temperature','month','humidity','hour','dayOfTheWeek','pressure',\n",
    "                 'holiday','year','report','minute','Pandemic']\n",
    "varThre = ['month','day','year','hour','minute','holiday','dayOfTheWeek',\n",
    "           'temperature','humidity','pressure','report']\n",
    "mrmr = ['temperature','dayOfTheWeek','hour','holiday','humidity','day',\n",
    "        'year','month','pressure','minute','report']\n",
    "method = ['Pearson_correlation','Kendalls_correlation','mutualInformation_classification',\n",
    "          'mutualInformation_reggression','mutualInformation_classification2',\n",
    "          'variableThreshold','MRMR']\n",
    "\n",
    "orderME=[pear_corr,kend_corr,mutInf_class,mutInf_reg,mutInf_class2,varThre,mrmr]"
   ]
  },
  {
   "cell_type": "code",
   "execution_count": 25,
   "id": "101af3c7",
   "metadata": {
    "scrolled": true
   },
   "outputs": [
    {
     "name": "stderr",
     "output_type": "stream",
     "text": [
      "\r",
      "  0%|          | 0/12 [00:00<?, ?it/s]"
     ]
    },
    {
     "name": "stdout",
     "output_type": "stream",
     "text": [
      "------------------------- Analyzing method Pearson_correlation -------------------------\n",
      "The variable order is: \n",
      " ['temperature', 'holiday', 'day', 'month', 'pressure', 'dayOfTheWeek', 'report', 'minute', 'year', 'humidity', 'hour', 'Pandemic']\n"
     ]
    },
    {
     "name": "stderr",
     "output_type": "stream",
     "text": [
      "\r",
      "  8%|▊         | 1/12 [00:01<00:21,  1.98s/it]"
     ]
    },
    {
     "name": "stdout",
     "output_type": "stream",
     "text": [
      "Index(['temperature'], dtype='object')\n",
      "For 1 features: \n",
      " Accuracy: 0.4634708994708995 \n",
      " Precision: 0.3700910940418719 \n",
      " Recall: 0.36331642781462353 \n",
      " F1 score: 0.3559762610948642\n",
      "best accuracy = 0.4634708994708995, with 1 features, with Pearson_correlation\n"
     ]
    },
    {
     "name": "stderr",
     "output_type": "stream",
     "text": [
      "\r",
      " 17%|█▋        | 2/12 [00:03<00:19,  1.93s/it]"
     ]
    },
    {
     "name": "stdout",
     "output_type": "stream",
     "text": [
      "Index(['temperature', 'holiday'], dtype='object')\n",
      "For 2 features: \n",
      " Accuracy: 0.4770714134350498 \n",
      " Precision: 0.41015022411010643 \n",
      " Recall: 0.3929941419611534 \n",
      " F1 score: 0.3939007143503284\n",
      "best accuracy = 0.4770714134350498, with 2 features, with Pearson_correlation\n"
     ]
    },
    {
     "name": "stderr",
     "output_type": "stream",
     "text": [
      "\r",
      " 25%|██▌       | 3/12 [00:05<00:17,  1.95s/it]"
     ]
    },
    {
     "name": "stdout",
     "output_type": "stream",
     "text": [
      "Index(['temperature', 'holiday', 'day'], dtype='object')\n",
      "For 3 features: \n",
      " Accuracy: 0.58520050922979 \n",
      " Precision: 0.5488263490627038 \n",
      " Recall: 0.5651478604674286 \n",
      " F1 score: 0.5541765523456977\n",
      "best accuracy = 0.58520050922979, with 3 features, with Pearson_correlation\n"
     ]
    },
    {
     "name": "stderr",
     "output_type": "stream",
     "text": [
      "\r",
      " 33%|███▎      | 4/12 [00:07<00:15,  1.95s/it]"
     ]
    },
    {
     "name": "stdout",
     "output_type": "stream",
     "text": [
      "Index(['temperature', 'holiday', 'day', 'month'], dtype='object')\n",
      "For 4 features: \n",
      " Accuracy: 0.7536222647121309 \n",
      " Precision: 0.7224240045938263 \n",
      " Recall: 0.7338817249503838 \n",
      " F1 score: 0.7274938774765715\n",
      "best accuracy = 0.7536222647121309, with 4 features, with Pearson_correlation\n"
     ]
    },
    {
     "name": "stderr",
     "output_type": "stream",
     "text": [
      "\r",
      " 42%|████▏     | 5/12 [00:09<00:14,  2.02s/it]"
     ]
    },
    {
     "name": "stdout",
     "output_type": "stream",
     "text": [
      "Index(['temperature', 'holiday', 'day', 'month', 'pressure'], dtype='object')\n",
      "For 5 features: \n",
      " Accuracy: 0.8296639012975963 \n",
      " Precision: 0.8061349618649365 \n",
      " Recall: 0.8119728845378686 \n",
      " F1 score: 0.8088403377152221\n",
      "best accuracy = 0.8296639012975963, with 5 features, with Pearson_correlation\n"
     ]
    },
    {
     "name": "stderr",
     "output_type": "stream",
     "text": [
      "\r",
      " 50%|█████     | 6/12 [00:12<00:12,  2.05s/it]"
     ]
    },
    {
     "name": "stdout",
     "output_type": "stream",
     "text": [
      "Index(['temperature', 'holiday', 'day', 'month', 'pressure', 'dayOfTheWeek'], dtype='object')\n",
      "For 6 features: \n",
      " Accuracy: 0.834664536741214 \n",
      " Precision: 0.8118490486977172 \n",
      " Recall: 0.8168354915751426 \n",
      " F1 score: 0.8141909036292323\n",
      "best accuracy = 0.834664536741214, with 6 features, with Pearson_correlation\n"
     ]
    },
    {
     "name": "stderr",
     "output_type": "stream",
     "text": [
      "\r",
      " 58%|█████▊    | 7/12 [00:14<00:10,  2.10s/it]"
     ]
    },
    {
     "name": "stdout",
     "output_type": "stream",
     "text": [
      "Index(['temperature', 'holiday', 'day', 'month', 'pressure', 'dayOfTheWeek',\n",
      "       'report'],\n",
      "      dtype='object')\n",
      "For 7 features: \n",
      " Accuracy: 0.8396779697163574 \n",
      " Precision: 0.8186600159800285 \n",
      " Recall: 0.8222373018317148 \n",
      " F1 score: 0.8203316109345974\n",
      "best accuracy = 0.8396779697163574, with 7 features, with Pearson_correlation\n"
     ]
    },
    {
     "name": "stderr",
     "output_type": "stream",
     "text": [
      "\r",
      " 67%|██████▋   | 8/12 [00:16<00:08,  2.18s/it]"
     ]
    },
    {
     "name": "stdout",
     "output_type": "stream",
     "text": [
      "Index(['temperature', 'holiday', 'day', 'month', 'pressure', 'dayOfTheWeek',\n",
      "       'report', 'minute'],\n",
      "      dtype='object')\n",
      "For 8 features: \n",
      " Accuracy: 0.8162609438394192 \n",
      " Precision: 0.7905462987027124 \n",
      " Recall: 0.7940279419897287 \n",
      " F1 score: 0.7921809787986337\n",
      "best accuracy = 0.8396779697163574, with 7 features, with Pearson_correlation\n"
     ]
    },
    {
     "name": "stderr",
     "output_type": "stream",
     "text": [
      "\r",
      " 75%|███████▌  | 9/12 [00:18<00:06,  2.23s/it]"
     ]
    },
    {
     "name": "stdout",
     "output_type": "stream",
     "text": [
      "Index(['temperature', 'holiday', 'day', 'month', 'pressure', 'dayOfTheWeek',\n",
      "       'report', 'minute', 'year'],\n",
      "      dtype='object')\n",
      "For 9 features: \n",
      " Accuracy: 0.8180243745991019 \n",
      " Precision: 0.7927087652510819 \n",
      " Recall: 0.796748879307436 \n",
      " F1 score: 0.7945983057713231\n",
      "best accuracy = 0.8396779697163574, with 7 features, with Pearson_correlation\n"
     ]
    },
    {
     "name": "stderr",
     "output_type": "stream",
     "text": [
      "\r",
      " 83%|████████▎ | 10/12 [00:21<00:04,  2.32s/it]"
     ]
    },
    {
     "name": "stdout",
     "output_type": "stream",
     "text": [
      "Index(['temperature', 'holiday', 'day', 'month', 'pressure', 'dayOfTheWeek',\n",
      "       'report', 'minute', 'year', 'humidity'],\n",
      "      dtype='object')\n",
      "For 10 features: \n",
      " Accuracy: 0.824652108756155 \n",
      " Precision: 0.8004057635485635 \n",
      " Recall: 0.8052081037304611 \n",
      " F1 score: 0.8026431433160713\n",
      "best accuracy = 0.8396779697163574, with 7 features, with Pearson_correlation\n"
     ]
    },
    {
     "name": "stderr",
     "output_type": "stream",
     "text": [
      "\r",
      " 92%|█████████▏| 11/12 [00:24<00:02,  2.45s/it]"
     ]
    },
    {
     "name": "stdout",
     "output_type": "stream",
     "text": [
      "Index(['temperature', 'holiday', 'day', 'month', 'pressure', 'dayOfTheWeek',\n",
      "       'report', 'minute', 'year', 'humidity', 'hour'],\n",
      "      dtype='object')\n",
      "For 11 features: \n",
      " Accuracy: 0.8462165058949624 \n",
      " Precision: 0.826140282779146 \n",
      " Recall: 0.8281447925991984 \n",
      " F1 score: 0.8270806877511051\n",
      "best accuracy = 0.8462165058949624, with 11 features, with Pearson_correlation\n"
     ]
    },
    {
     "name": "stderr",
     "output_type": "stream",
     "text": [
      "100%|██████████| 12/12 [00:27<00:00,  2.25s/it]\n",
      "  0%|          | 0/12 [00:00<?, ?it/s]"
     ]
    },
    {
     "name": "stdout",
     "output_type": "stream",
     "text": [
      "Index(['temperature', 'holiday', 'day', 'month', 'pressure', 'dayOfTheWeek',\n",
      "       'report', 'minute', 'year', 'humidity', 'hour', 'Pandemic'],\n",
      "      dtype='object')\n",
      "For 12 features: \n",
      " Accuracy: 0.8471238463189525 \n",
      " Precision: 0.8263127775762964 \n",
      " Recall: 0.8284911746979664 \n",
      " F1 score: 0.8273329222208559\n",
      "best accuracy = 0.8471238463189525, with 12 features, with Pearson_correlation\n",
      "best accuracy = 0.8471238463189525, with 12 features, with Pearson_correlation\n",
      "\n",
      " \n",
      "\n",
      "------------------------- Analyzing method Kendalls_correlation -------------------------\n",
      "The variable order is: \n",
      " ['temperature', 'holiday', 'month', 'day', 'pressure', 'dayOfTheWeek', 'report', 'year', 'minute', 'humidity', 'hour', 'Pandemic']\n"
     ]
    },
    {
     "name": "stderr",
     "output_type": "stream",
     "text": [
      "\r",
      "  8%|▊         | 1/12 [00:01<00:20,  1.86s/it]"
     ]
    },
    {
     "name": "stdout",
     "output_type": "stream",
     "text": [
      "Index(['temperature'], dtype='object')\n",
      "For 1 features: \n",
      " Accuracy: 0.4627122286696755 \n",
      " Precision: 0.3654360278085998 \n",
      " Recall: 0.3597252502768179 \n",
      " F1 score: 0.3522954505639899\n",
      "best accuracy = 0.4627122286696755, with 1 features, with Kendalls_correlation\n"
     ]
    },
    {
     "name": "stderr",
     "output_type": "stream",
     "text": [
      "\r",
      " 17%|█▋        | 2/12 [00:03<00:18,  1.86s/it]"
     ]
    },
    {
     "name": "stdout",
     "output_type": "stream",
     "text": [
      "Index(['temperature', 'holiday'], dtype='object')\n",
      "For 2 features: \n",
      " Accuracy: 0.4797826554766516 \n",
      " Precision: 0.40831825804081406 \n",
      " Recall: 0.3923019340764886 \n",
      " F1 score: 0.39276107727164417\n",
      "best accuracy = 0.4797826554766516, with 2 features, with Kendalls_correlation\n"
     ]
    },
    {
     "name": "stderr",
     "output_type": "stream",
     "text": [
      "\r",
      " 25%|██▌       | 3/12 [00:05<00:16,  1.87s/it]"
     ]
    },
    {
     "name": "stdout",
     "output_type": "stream",
     "text": [
      "Index(['temperature', 'holiday', 'month'], dtype='object')\n",
      "For 3 features: \n",
      " Accuracy: 0.5284205990088343 \n",
      " Precision: 0.4815080506820661 \n",
      " Recall: 0.4888849978228969 \n",
      " F1 score: 0.4832194693289982\n",
      "best accuracy = 0.5284205990088343, with 3 features, with Kendalls_correlation\n"
     ]
    },
    {
     "name": "stderr",
     "output_type": "stream",
     "text": [
      "\r",
      " 33%|███▎      | 4/12 [00:07<00:15,  1.88s/it]"
     ]
    },
    {
     "name": "stdout",
     "output_type": "stream",
     "text": [
      "Index(['temperature', 'holiday', 'month', 'day'], dtype='object')\n",
      "For 4 features: \n",
      " Accuracy: 0.7516828478964401 \n",
      " Precision: 0.7181198282526116 \n",
      " Recall: 0.7321476152410388 \n",
      " F1 score: 0.7242775410266393\n",
      "best accuracy = 0.7516828478964401, with 4 features, with Kendalls_correlation\n"
     ]
    },
    {
     "name": "stderr",
     "output_type": "stream",
     "text": [
      "\r",
      " 42%|████▏     | 5/12 [00:09<00:13,  1.94s/it]"
     ]
    },
    {
     "name": "stdout",
     "output_type": "stream",
     "text": [
      "Index(['temperature', 'holiday', 'month', 'day', 'pressure'], dtype='object')\n",
      "For 5 features: \n",
      " Accuracy: 0.8317239144523655 \n",
      " Precision: 0.8075764979656089 \n",
      " Recall: 0.8136789098185774 \n",
      " F1 score: 0.8104356484006603\n",
      "best accuracy = 0.8317239144523655, with 5 features, with Kendalls_correlation\n"
     ]
    },
    {
     "name": "stderr",
     "output_type": "stream",
     "text": [
      "\r",
      " 50%|█████     | 6/12 [00:11<00:11,  1.98s/it]"
     ]
    },
    {
     "name": "stdout",
     "output_type": "stream",
     "text": [
      "Index(['temperature', 'holiday', 'month', 'day', 'pressure', 'dayOfTheWeek'], dtype='object')\n",
      "For 6 features: \n",
      " Accuracy: 0.8337118754055808 \n",
      " Precision: 0.8101986462424519 \n",
      " Recall: 0.8153804130749769 \n",
      " F1 score: 0.8126080582201275\n",
      "best accuracy = 0.8337118754055808, with 6 features, with Kendalls_correlation\n"
     ]
    },
    {
     "name": "stderr",
     "output_type": "stream",
     "text": [
      "\r",
      " 58%|█████▊    | 7/12 [00:13<00:10,  2.04s/it]"
     ]
    },
    {
     "name": "stdout",
     "output_type": "stream",
     "text": [
      "Index(['temperature', 'holiday', 'month', 'day', 'pressure', 'dayOfTheWeek',\n",
      "       'report'],\n",
      "      dtype='object')\n",
      "For 7 features: \n",
      " Accuracy: 0.8428091834524583 \n",
      " Precision: 0.8221734029613187 \n",
      " Recall: 0.8248752809218376 \n",
      " F1 score: 0.8234056460538881\n",
      "best accuracy = 0.8428091834524583, with 7 features, with Kendalls_correlation\n"
     ]
    },
    {
     "name": "stderr",
     "output_type": "stream",
     "text": [
      "\r",
      " 67%|██████▋   | 8/12 [00:15<00:08,  2.08s/it]"
     ]
    },
    {
     "name": "stdout",
     "output_type": "stream",
     "text": [
      "Index(['temperature', 'holiday', 'month', 'day', 'pressure', 'dayOfTheWeek',\n",
      "       'report', 'year'],\n",
      "      dtype='object')\n",
      "For 8 features: \n",
      " Accuracy: 0.8419214920841466 \n",
      " Precision: 0.8212726924397693 \n",
      " Recall: 0.8243727945948627 \n",
      " F1 score: 0.822702035620255\n",
      "best accuracy = 0.8428091834524583, with 7 features, with Kendalls_correlation\n"
     ]
    },
    {
     "name": "stderr",
     "output_type": "stream",
     "text": [
      "\r",
      " 75%|███████▌  | 9/12 [00:18<00:06,  2.15s/it]"
     ]
    },
    {
     "name": "stdout",
     "output_type": "stream",
     "text": [
      "Index(['temperature', 'holiday', 'month', 'day', 'pressure', 'dayOfTheWeek',\n",
      "       'report', 'year', 'minute'],\n",
      "      dtype='object')\n",
      "For 9 features: \n",
      " Accuracy: 0.8157654723127036 \n",
      " Precision: 0.7891033967739752 \n",
      " Recall: 0.7935675150051997 \n",
      " F1 score: 0.7911861689841263\n",
      "best accuracy = 0.8428091834524583, with 7 features, with Kendalls_correlation\n"
     ]
    },
    {
     "name": "stderr",
     "output_type": "stream",
     "text": [
      "\r",
      " 83%|████████▎ | 10/12 [00:20<00:04,  2.25s/it]"
     ]
    },
    {
     "name": "stdout",
     "output_type": "stream",
     "text": [
      "Index(['temperature', 'holiday', 'month', 'day', 'pressure', 'dayOfTheWeek',\n",
      "       'report', 'year', 'minute', 'humidity'],\n",
      "      dtype='object')\n",
      "For 10 features: \n",
      " Accuracy: 0.8237116764514024 \n",
      " Precision: 0.7996499986020644 \n",
      " Recall: 0.8046041970824911 \n",
      " F1 score: 0.8019791288335608\n",
      "best accuracy = 0.8428091834524583, with 7 features, with Kendalls_correlation\n"
     ]
    },
    {
     "name": "stderr",
     "output_type": "stream",
     "text": [
      "\r",
      " 92%|█████████▏| 11/12 [00:23<00:02,  2.38s/it]"
     ]
    },
    {
     "name": "stdout",
     "output_type": "stream",
     "text": [
      "Index(['temperature', 'holiday', 'month', 'day', 'pressure', 'dayOfTheWeek',\n",
      "       'report', 'year', 'minute', 'humidity', 'hour'],\n",
      "      dtype='object')\n",
      "For 11 features: \n",
      " Accuracy: 0.8436642717178315 \n",
      " Precision: 0.8227174217382118 \n",
      " Recall: 0.8249538963512865 \n",
      " F1 score: 0.8237153245550999\n",
      "best accuracy = 0.8436642717178315, with 11 features, with Kendalls_correlation\n"
     ]
    },
    {
     "name": "stderr",
     "output_type": "stream",
     "text": [
      "100%|██████████| 12/12 [00:26<00:00,  2.17s/it]\n",
      "  0%|          | 0/12 [00:00<?, ?it/s]"
     ]
    },
    {
     "name": "stdout",
     "output_type": "stream",
     "text": [
      "Index(['temperature', 'holiday', 'month', 'day', 'pressure', 'dayOfTheWeek',\n",
      "       'report', 'year', 'minute', 'humidity', 'hour', 'Pandemic'],\n",
      "      dtype='object')\n",
      "For 12 features: \n",
      " Accuracy: 0.8456289513843471 \n",
      " Precision: 0.8247100466933762 \n",
      " Recall: 0.8271410576616475 \n",
      " F1 score: 0.8258313575140782\n",
      "best accuracy = 0.8456289513843471, with 12 features, with Kendalls_correlation\n",
      "best accuracy = 0.8456289513843471, with 12 features, with Kendalls_correlation\n",
      "\n",
      " \n",
      "\n",
      "------------------------- Analyzing method mutualInformation_classification -------------------------\n",
      "The variable order is: \n",
      " ['month', 'day', 'year', 'hour', 'minute', 'holiday', 'dayOfTheWeek', 'Pandemic', 'temperature', 'humidity', 'pressure', 'report']\n"
     ]
    },
    {
     "name": "stderr",
     "output_type": "stream",
     "text": [
      "\r",
      "  8%|▊         | 1/12 [00:01<00:14,  1.35s/it]"
     ]
    },
    {
     "name": "stdout",
     "output_type": "stream",
     "text": [
      "Index(['month'], dtype='object')\n",
      "For 1 features: \n",
      " Accuracy: 0.47821436367605324 \n",
      " Precision: 0.4751593791679282 \n",
      " Recall: 0.4646851432425766 \n",
      " F1 score: 0.4437308133434249\n",
      "best accuracy = 0.47821436367605324, with 1 features, with mutualInformation_classification\n"
     ]
    },
    {
     "name": "stderr",
     "output_type": "stream",
     "text": [
      "\r",
      " 17%|█▋        | 2/12 [00:02<00:14,  1.40s/it]"
     ]
    },
    {
     "name": "stdout",
     "output_type": "stream",
     "text": [
      "Index(['month', 'day'], dtype='object')\n",
      "For 2 features: \n",
      " Accuracy: 0.6718579234972678 \n",
      " Precision: 0.6369785577797142 \n",
      " Recall: 0.6717519126008515 \n",
      " F1 score: 0.6448201281282989\n",
      "best accuracy = 0.6718579234972678, with 2 features, with mutualInformation_classification\n"
     ]
    },
    {
     "name": "stderr",
     "output_type": "stream",
     "text": [
      "\r",
      " 25%|██▌       | 3/12 [00:04<00:12,  1.44s/it]"
     ]
    },
    {
     "name": "stdout",
     "output_type": "stream",
     "text": [
      "Index(['month', 'day', 'year'], dtype='object')\n",
      "For 3 features: \n",
      " Accuracy: 0.6714926679798643 \n",
      " Precision: 0.636454297061842 \n",
      " Recall: 0.6715590971906533 \n",
      " F1 score: 0.6441404979561239\n",
      "best accuracy = 0.6718579234972678, with 2 features, with mutualInformation_classification\n"
     ]
    },
    {
     "name": "stderr",
     "output_type": "stream",
     "text": [
      "\r",
      " 33%|███▎      | 4/12 [00:05<00:12,  1.54s/it]"
     ]
    },
    {
     "name": "stdout",
     "output_type": "stream",
     "text": [
      "Index(['month', 'day', 'year', 'hour'], dtype='object')\n",
      "For 4 features: \n",
      " Accuracy: 0.84155161078238 \n",
      " Precision: 0.8221395853866248 \n",
      " Recall: 0.8112604167520197 \n",
      " F1 score: 0.8163195579765888\n",
      "best accuracy = 0.84155161078238, with 4 features, with mutualInformation_classification\n"
     ]
    },
    {
     "name": "stderr",
     "output_type": "stream",
     "text": [
      "\r",
      " 42%|████▏     | 5/12 [00:07<00:11,  1.66s/it]"
     ]
    },
    {
     "name": "stdout",
     "output_type": "stream",
     "text": [
      "Index(['month', 'day', 'year', 'hour', 'minute'], dtype='object')\n",
      "For 5 features: \n",
      " Accuracy: 0.8345292955892034 \n",
      " Precision: 0.8090713349392419 \n",
      " Recall: 0.812675595956097 \n",
      " F1 score: 0.810732078542196\n",
      "best accuracy = 0.84155161078238, with 4 features, with mutualInformation_classification\n"
     ]
    },
    {
     "name": "stderr",
     "output_type": "stream",
     "text": [
      "\r",
      " 50%|█████     | 6/12 [00:09<00:10,  1.76s/it]"
     ]
    },
    {
     "name": "stdout",
     "output_type": "stream",
     "text": [
      "Index(['month', 'day', 'year', 'hour', 'minute', 'holiday'], dtype='object')\n",
      "For 6 features: \n",
      " Accuracy: 0.8382992748846407 \n",
      " Precision: 0.8122521558288508 \n",
      " Recall: 0.8161844101131106 \n",
      " F1 score: 0.8140922382890825\n",
      "best accuracy = 0.84155161078238, with 4 features, with mutualInformation_classification\n"
     ]
    },
    {
     "name": "stderr",
     "output_type": "stream",
     "text": [
      "\r",
      " 58%|█████▊    | 7/12 [00:11<00:09,  1.80s/it]"
     ]
    },
    {
     "name": "stdout",
     "output_type": "stream",
     "text": [
      "Index(['month', 'day', 'year', 'hour', 'minute', 'holiday', 'dayOfTheWeek'], dtype='object')\n",
      "For 7 features: \n",
      " Accuracy: 0.843025302530253 \n",
      " Precision: 0.8185935871317724 \n",
      " Recall: 0.8199119476461484 \n",
      " F1 score: 0.8191549799096404\n",
      "best accuracy = 0.843025302530253, with 7 features, with mutualInformation_classification\n"
     ]
    },
    {
     "name": "stderr",
     "output_type": "stream",
     "text": [
      "\r",
      " 67%|██████▋   | 8/12 [00:13<00:07,  1.82s/it]"
     ]
    },
    {
     "name": "stdout",
     "output_type": "stream",
     "text": [
      "Index(['month', 'day', 'year', 'hour', 'minute', 'holiday', 'dayOfTheWeek',\n",
      "       'Pandemic'],\n",
      "      dtype='object')\n",
      "For 8 features: \n",
      " Accuracy: 0.8402401410002203 \n",
      " Precision: 0.8147736148836043 \n",
      " Recall: 0.8185555333642387 \n",
      " F1 score: 0.8165461556461687\n",
      "best accuracy = 0.843025302530253, with 7 features, with mutualInformation_classification\n"
     ]
    },
    {
     "name": "stderr",
     "output_type": "stream",
     "text": [
      "\r",
      " 75%|███████▌  | 9/12 [00:15<00:05,  1.93s/it]"
     ]
    },
    {
     "name": "stdout",
     "output_type": "stream",
     "text": [
      "Index(['month', 'day', 'year', 'hour', 'minute', 'holiday', 'dayOfTheWeek',\n",
      "       'Pandemic', 'temperature'],\n",
      "      dtype='object')\n",
      "For 9 features: \n",
      " Accuracy: 0.8377895433487756 \n",
      " Precision: 0.8128179371725293 \n",
      " Recall: 0.8179318736184411 \n",
      " F1 score: 0.8152316625854799\n",
      "best accuracy = 0.843025302530253, with 7 features, with mutualInformation_classification\n"
     ]
    },
    {
     "name": "stderr",
     "output_type": "stream",
     "text": [
      "\r",
      " 83%|████████▎ | 10/12 [00:18<00:04,  2.09s/it]"
     ]
    },
    {
     "name": "stdout",
     "output_type": "stream",
     "text": [
      "Index(['month', 'day', 'year', 'hour', 'minute', 'holiday', 'dayOfTheWeek',\n",
      "       'Pandemic', 'temperature', 'humidity'],\n",
      "      dtype='object')\n",
      "For 10 features: \n",
      " Accuracy: 0.8438148884470952 \n",
      " Precision: 0.8211361146626416 \n",
      " Recall: 0.8229245633819049 \n",
      " F1 score: 0.8219541216202062\n",
      "best accuracy = 0.8438148884470952, with 10 features, with mutualInformation_classification\n"
     ]
    },
    {
     "name": "stderr",
     "output_type": "stream",
     "text": [
      "\r",
      " 92%|█████████▏| 11/12 [00:20<00:02,  2.24s/it]"
     ]
    },
    {
     "name": "stdout",
     "output_type": "stream",
     "text": [
      "Index(['month', 'day', 'year', 'hour', 'minute', 'holiday', 'dayOfTheWeek',\n",
      "       'Pandemic', 'temperature', 'humidity', 'pressure'],\n",
      "      dtype='object')\n",
      "For 11 features: \n",
      " Accuracy: 0.8458637469586374 \n",
      " Precision: 0.8219800259634362 \n",
      " Recall: 0.8262652832826777 \n",
      " F1 score: 0.8239833073290955\n",
      "best accuracy = 0.8458637469586374, with 11 features, with mutualInformation_classification\n"
     ]
    },
    {
     "name": "stderr",
     "output_type": "stream",
     "text": [
      "100%|██████████| 12/12 [00:23<00:00,  1.95s/it]\n",
      "  0%|          | 0/12 [00:00<?, ?it/s]"
     ]
    },
    {
     "name": "stdout",
     "output_type": "stream",
     "text": [
      "Index(['month', 'day', 'year', 'hour', 'minute', 'holiday', 'dayOfTheWeek',\n",
      "       'Pandemic', 'temperature', 'humidity', 'pressure', 'report'],\n",
      "      dtype='object')\n",
      "For 12 features: \n",
      " Accuracy: 0.8450276854928017 \n",
      " Precision: 0.8230263235335149 \n",
      " Recall: 0.8252179072266342 \n",
      " F1 score: 0.8240258620576587\n",
      "best accuracy = 0.8458637469586374, with 11 features, with mutualInformation_classification\n",
      "best accuracy = 0.8458637469586374, with 11 features, with mutualInformation_classification\n",
      "\n",
      " \n",
      "\n",
      "------------------------- Analyzing method mutualInformation_reggression -------------------------\n",
      "The variable order is: \n",
      " ['month', 'day', 'year', 'hour', 'minute', 'holiday', 'dayOfTheWeek', 'Pandemic', 'temperature', 'humidity', 'pressure', 'report']\n"
     ]
    },
    {
     "name": "stderr",
     "output_type": "stream",
     "text": [
      "\r",
      "  8%|▊         | 1/12 [00:01<00:15,  1.41s/it]"
     ]
    },
    {
     "name": "stdout",
     "output_type": "stream",
     "text": [
      "Index(['month'], dtype='object')\n",
      "For 1 features: \n",
      " Accuracy: 0.46279662896429363 \n",
      " Precision: 0.4747228244509007 \n",
      " Recall: 0.4654753715513261 \n",
      " F1 score: 0.43653254775430844\n",
      "best accuracy = 0.46279662896429363, with 1 features, with mutualInformation_reggression\n"
     ]
    },
    {
     "name": "stderr",
     "output_type": "stream",
     "text": [
      "\r",
      " 17%|█▋        | 2/12 [00:02<00:14,  1.44s/it]"
     ]
    },
    {
     "name": "stdout",
     "output_type": "stream",
     "text": [
      "Index(['month', 'day'], dtype='object')\n",
      "For 2 features: \n",
      " Accuracy: 0.6726626693315567 \n",
      " Precision: 0.6362506064481754 \n",
      " Recall: 0.6726792426781256 \n",
      " F1 score: 0.6440762988020332\n",
      "best accuracy = 0.6726626693315567, with 2 features, with mutualInformation_reggression\n"
     ]
    },
    {
     "name": "stderr",
     "output_type": "stream",
     "text": [
      "\r",
      " 25%|██▌       | 3/12 [00:04<00:12,  1.43s/it]"
     ]
    },
    {
     "name": "stdout",
     "output_type": "stream",
     "text": [
      "Index(['month', 'day', 'year'], dtype='object')\n",
      "For 3 features: \n",
      " Accuracy: 0.679074938848121 \n",
      " Precision: 0.642680175241265 \n",
      " Recall: 0.6776769592570409 \n",
      " F1 score: 0.6506741623012502\n",
      "best accuracy = 0.679074938848121, with 3 features, with mutualInformation_reggression\n"
     ]
    },
    {
     "name": "stderr",
     "output_type": "stream",
     "text": [
      "\r",
      " 33%|███▎      | 4/12 [00:05<00:12,  1.51s/it]"
     ]
    },
    {
     "name": "stdout",
     "output_type": "stream",
     "text": [
      "Index(['month', 'day', 'year', 'hour'], dtype='object')\n",
      "For 4 features: \n",
      " Accuracy: 0.841750167000668 \n",
      " Precision: 0.8210283236884701 \n",
      " Recall: 0.8120165188918763 \n",
      " F1 score: 0.8162149927368532\n",
      "best accuracy = 0.841750167000668, with 4 features, with mutualInformation_reggression\n"
     ]
    },
    {
     "name": "stderr",
     "output_type": "stream",
     "text": [
      "\r",
      " 42%|████▏     | 5/12 [00:07<00:11,  1.60s/it]"
     ]
    },
    {
     "name": "stdout",
     "output_type": "stream",
     "text": [
      "Index(['month', 'day', 'year', 'hour', 'minute'], dtype='object')\n",
      "For 5 features: \n",
      " Accuracy: 0.8377703455964325 \n",
      " Precision: 0.8112076081744918 \n",
      " Recall: 0.8162024702882842 \n",
      " F1 score: 0.8135563153596719\n",
      "best accuracy = 0.841750167000668, with 4 features, with mutualInformation_reggression\n"
     ]
    },
    {
     "name": "stderr",
     "output_type": "stream",
     "text": [
      "\r",
      " 50%|█████     | 6/12 [00:09<00:10,  1.68s/it]"
     ]
    },
    {
     "name": "stdout",
     "output_type": "stream",
     "text": [
      "Index(['month', 'day', 'year', 'hour', 'minute', 'holiday'], dtype='object')\n",
      "For 6 features: \n",
      " Accuracy: 0.8373409243134629 \n",
      " Precision: 0.8121330399583728 \n",
      " Recall: 0.8154695000688028 \n",
      " F1 score: 0.813668572385227\n",
      "best accuracy = 0.841750167000668, with 4 features, with mutualInformation_reggression\n"
     ]
    },
    {
     "name": "stderr",
     "output_type": "stream",
     "text": [
      "\r",
      " 58%|█████▊    | 7/12 [00:11<00:08,  1.74s/it]"
     ]
    },
    {
     "name": "stdout",
     "output_type": "stream",
     "text": [
      "Index(['month', 'day', 'year', 'hour', 'minute', 'holiday', 'dayOfTheWeek'], dtype='object')\n",
      "For 7 features: \n",
      " Accuracy: 0.8444332662642522 \n",
      " Precision: 0.8194091669199749 \n",
      " Recall: 0.8211110903588542 \n",
      " F1 score: 0.820196364352525\n",
      "best accuracy = 0.8444332662642522, with 7 features, with mutualInformation_reggression\n"
     ]
    },
    {
     "name": "stderr",
     "output_type": "stream",
     "text": [
      "\r",
      " 67%|██████▋   | 8/12 [00:13<00:07,  1.77s/it]"
     ]
    },
    {
     "name": "stdout",
     "output_type": "stream",
     "text": [
      "Index(['month', 'day', 'year', 'hour', 'minute', 'holiday', 'dayOfTheWeek',\n",
      "       'Pandemic'],\n",
      "      dtype='object')\n",
      "For 8 features: \n",
      " Accuracy: 0.8421983434072084 \n",
      " Precision: 0.8160209849861806 \n",
      " Recall: 0.8190419302971098 \n",
      " F1 score: 0.8174237230702877\n",
      "best accuracy = 0.8444332662642522, with 7 features, with mutualInformation_reggression\n"
     ]
    },
    {
     "name": "stderr",
     "output_type": "stream",
     "text": [
      "\r",
      " 75%|███████▌  | 9/12 [00:15<00:05,  1.89s/it]"
     ]
    },
    {
     "name": "stdout",
     "output_type": "stream",
     "text": [
      "Index(['month', 'day', 'year', 'hour', 'minute', 'holiday', 'dayOfTheWeek',\n",
      "       'Pandemic', 'temperature'],\n",
      "      dtype='object')\n",
      "For 9 features: \n",
      " Accuracy: 0.8406186953597848 \n",
      " Precision: 0.8152153040266878 \n",
      " Recall: 0.8197315524341615 \n",
      " F1 score: 0.8173174291643696\n",
      "best accuracy = 0.8444332662642522, with 7 features, with mutualInformation_reggression\n"
     ]
    },
    {
     "name": "stderr",
     "output_type": "stream",
     "text": [
      "\r",
      " 83%|████████▎ | 10/12 [00:17<00:04,  2.01s/it]"
     ]
    },
    {
     "name": "stdout",
     "output_type": "stream",
     "text": [
      "Index(['month', 'day', 'year', 'hour', 'minute', 'holiday', 'dayOfTheWeek',\n",
      "       'Pandemic', 'temperature', 'humidity'],\n",
      "      dtype='object')\n",
      "For 10 features: \n",
      " Accuracy: 0.8454657687991022 \n",
      " Precision: 0.821820595708606 \n",
      " Recall: 0.8243438506107477 \n",
      " F1 score: 0.8229677334191075\n",
      "best accuracy = 0.8454657687991022, with 10 features, with mutualInformation_reggression\n"
     ]
    },
    {
     "name": "stderr",
     "output_type": "stream",
     "text": [
      "\r",
      " 92%|█████████▏| 11/12 [00:20<00:02,  2.14s/it]"
     ]
    },
    {
     "name": "stdout",
     "output_type": "stream",
     "text": [
      "Index(['month', 'day', 'year', 'hour', 'minute', 'holiday', 'dayOfTheWeek',\n",
      "       'Pandemic', 'temperature', 'humidity', 'pressure'],\n",
      "      dtype='object')\n",
      "For 11 features: \n",
      " Accuracy: 0.8478871656552034 \n",
      " Precision: 0.8246644160134888 \n",
      " Recall: 0.828192870208142 \n",
      " F1 score: 0.8263313378212727\n",
      "best accuracy = 0.8478871656552034, with 11 features, with mutualInformation_reggression\n"
     ]
    },
    {
     "name": "stderr",
     "output_type": "stream",
     "text": [
      "100%|██████████| 12/12 [00:22<00:00,  1.89s/it]\n",
      "  0%|          | 0/12 [00:00<?, ?it/s]"
     ]
    },
    {
     "name": "stdout",
     "output_type": "stream",
     "text": [
      "Index(['month', 'day', 'year', 'hour', 'minute', 'holiday', 'dayOfTheWeek',\n",
      "       'Pandemic', 'temperature', 'humidity', 'pressure', 'report'],\n",
      "      dtype='object')\n",
      "For 12 features: \n",
      " Accuracy: 0.8453409858203916 \n",
      " Precision: 0.8233997165061258 \n",
      " Recall: 0.8245842916368898 \n",
      " F1 score: 0.8238656526140609\n",
      "best accuracy = 0.8478871656552034, with 11 features, with mutualInformation_reggression\n",
      "best accuracy = 0.8478871656552034, with 11 features, with mutualInformation_reggression\n",
      "\n",
      " \n",
      "\n",
      "------------------------- Analyzing method mutualInformation_classification2 -------------------------\n",
      "The variable order is: \n",
      " ['day', 'temperature', 'month', 'humidity', 'hour', 'dayOfTheWeek', 'pressure', 'holiday', 'year', 'report', 'minute', 'Pandemic']\n"
     ]
    },
    {
     "name": "stderr",
     "output_type": "stream",
     "text": [
      "\r",
      "  8%|▊         | 1/12 [00:01<00:15,  1.37s/it]"
     ]
    },
    {
     "name": "stdout",
     "output_type": "stream",
     "text": [
      "Index(['day'], dtype='object')\n",
      "For 1 features: \n",
      " Accuracy: 0.4477349560513861 \n",
      " Precision: 0.42416175902274933 \n",
      " Recall: 0.4370966853381606 \n",
      " F1 score: 0.413911906406436\n",
      "best accuracy = 0.4477349560513861, with 1 features, with mutualInformation_classification2\n"
     ]
    },
    {
     "name": "stderr",
     "output_type": "stream",
     "text": [
      "\r",
      " 17%|█▋        | 2/12 [00:03<00:15,  1.58s/it]"
     ]
    },
    {
     "name": "stdout",
     "output_type": "stream",
     "text": [
      "Index(['day', 'temperature'], dtype='object')\n",
      "For 2 features: \n",
      " Accuracy: 0.5658090724441436 \n",
      " Precision: 0.5242245388459413 \n",
      " Recall: 0.5387742811044512 \n",
      " F1 score: 0.528302003107735\n",
      "best accuracy = 0.5658090724441436, with 2 features, with mutualInformation_classification2\n"
     ]
    },
    {
     "name": "stderr",
     "output_type": "stream",
     "text": [
      "\r",
      " 25%|██▌       | 3/12 [00:04<00:14,  1.66s/it]"
     ]
    },
    {
     "name": "stdout",
     "output_type": "stream",
     "text": [
      "Index(['day', 'temperature', 'month'], dtype='object')\n",
      "For 3 features: \n",
      " Accuracy: 0.754587570621469 \n",
      " Precision: 0.7193748943244701 \n",
      " Recall: 0.7314586647505555 \n",
      " F1 score: 0.7247496278839506\n",
      "best accuracy = 0.754587570621469, with 3 features, with mutualInformation_classification2\n"
     ]
    },
    {
     "name": "stderr",
     "output_type": "stream",
     "text": [
      "\r",
      " 33%|███▎      | 4/12 [00:06<00:14,  1.79s/it]"
     ]
    },
    {
     "name": "stdout",
     "output_type": "stream",
     "text": [
      "Index(['day', 'temperature', 'month', 'humidity'], dtype='object')\n",
      "For 4 features: \n",
      " Accuracy: 0.8146752658972618 \n",
      " Precision: 0.7882087265710089 \n",
      " Recall: 0.7956257098854707 \n",
      " F1 score: 0.7916782025286989\n",
      "best accuracy = 0.8146752658972618, with 4 features, with mutualInformation_classification2\n"
     ]
    },
    {
     "name": "stderr",
     "output_type": "stream",
     "text": [
      "\r",
      " 42%|████▏     | 5/12 [00:09<00:13,  1.93s/it]"
     ]
    },
    {
     "name": "stdout",
     "output_type": "stream",
     "text": [
      "Index(['day', 'temperature', 'month', 'humidity', 'hour'], dtype='object')\n",
      "For 5 features: \n",
      " Accuracy: 0.8537956038975754 \n",
      " Precision: 0.8309402784830643 \n",
      " Recall: 0.834747744259046 \n",
      " F1 score: 0.8327194889831965\n",
      "best accuracy = 0.8537956038975754, with 5 features, with mutualInformation_classification2\n"
     ]
    },
    {
     "name": "stderr",
     "output_type": "stream",
     "text": [
      "\r",
      " 50%|█████     | 6/12 [00:11<00:12,  2.02s/it]"
     ]
    },
    {
     "name": "stdout",
     "output_type": "stream",
     "text": [
      "Index(['day', 'temperature', 'month', 'humidity', 'hour', 'dayOfTheWeek'], dtype='object')\n",
      "For 6 features: \n",
      " Accuracy: 0.8622645790787383 \n",
      " Precision: 0.8399503496254404 \n",
      " Recall: 0.8442366127089552 \n",
      " F1 score: 0.8419661984875215\n",
      "best accuracy = 0.8622645790787383, with 6 features, with mutualInformation_classification2\n"
     ]
    },
    {
     "name": "stderr",
     "output_type": "stream",
     "text": [
      "\r",
      " 58%|█████▊    | 7/12 [00:13<00:10,  2.17s/it]"
     ]
    },
    {
     "name": "stdout",
     "output_type": "stream",
     "text": [
      "Index(['day', 'temperature', 'month', 'humidity', 'hour', 'dayOfTheWeek',\n",
      "       'pressure'],\n",
      "      dtype='object')\n",
      "For 7 features: \n",
      " Accuracy: 0.8622017723244717 \n",
      " Precision: 0.8411994676156294 \n",
      " Recall: 0.844445846776438 \n",
      " F1 score: 0.842696463275675\n",
      "best accuracy = 0.8622645790787383, with 6 features, with mutualInformation_classification2\n"
     ]
    },
    {
     "name": "stderr",
     "output_type": "stream",
     "text": [
      "\r",
      " 67%|██████▋   | 8/12 [00:16<00:09,  2.27s/it]"
     ]
    },
    {
     "name": "stdout",
     "output_type": "stream",
     "text": [
      "Index(['day', 'temperature', 'month', 'humidity', 'hour', 'dayOfTheWeek',\n",
      "       'pressure', 'holiday'],\n",
      "      dtype='object')\n",
      "For 8 features: \n",
      " Accuracy: 0.8639590443686007 \n",
      " Precision: 0.8433587432399356 \n",
      " Recall: 0.8468952741627449 \n",
      " F1 score: 0.8450311959145865\n",
      "best accuracy = 0.8639590443686007, with 8 features, with mutualInformation_classification2\n"
     ]
    },
    {
     "name": "stderr",
     "output_type": "stream",
     "text": [
      "\r",
      " 75%|███████▌  | 9/12 [00:18<00:06,  2.28s/it]"
     ]
    },
    {
     "name": "stdout",
     "output_type": "stream",
     "text": [
      "Index(['day', 'temperature', 'month', 'humidity', 'hour', 'dayOfTheWeek',\n",
      "       'pressure', 'holiday', 'year'],\n",
      "      dtype='object')\n",
      "For 9 features: \n",
      " Accuracy: 0.8648667122351333 \n",
      " Precision: 0.8448835074355596 \n",
      " Recall: 0.8464489483100915 \n",
      " F1 score: 0.8455947885627331\n",
      "best accuracy = 0.8648667122351333, with 9 features, with mutualInformation_classification2\n"
     ]
    },
    {
     "name": "stderr",
     "output_type": "stream",
     "text": [
      "\r",
      " 83%|████████▎ | 10/12 [00:20<00:04,  2.34s/it]"
     ]
    },
    {
     "name": "stdout",
     "output_type": "stream",
     "text": [
      "Index(['day', 'temperature', 'month', 'humidity', 'hour', 'dayOfTheWeek',\n",
      "       'pressure', 'holiday', 'year', 'report'],\n",
      "      dtype='object')\n",
      "For 10 features: \n",
      " Accuracy: 0.8624115902349989 \n",
      " Precision: 0.8420822007702999 \n",
      " Recall: 0.8438485299104306 \n",
      " F1 score: 0.8428717296078655\n",
      "best accuracy = 0.8648667122351333, with 9 features, with mutualInformation_classification2\n"
     ]
    },
    {
     "name": "stderr",
     "output_type": "stream",
     "text": [
      "\r",
      " 92%|█████████▏| 11/12 [00:23<00:02,  2.40s/it]"
     ]
    },
    {
     "name": "stdout",
     "output_type": "stream",
     "text": [
      "Index(['day', 'temperature', 'month', 'humidity', 'hour', 'dayOfTheWeek',\n",
      "       'pressure', 'holiday', 'year', 'report', 'minute'],\n",
      "      dtype='object')\n",
      "For 11 features: \n",
      " Accuracy: 0.8486977381768335 \n",
      " Precision: 0.8244931505128749 \n",
      " Recall: 0.8262989885863389 \n",
      " F1 score: 0.8253081809060896\n",
      "best accuracy = 0.8648667122351333, with 9 features, with mutualInformation_classification2\n"
     ]
    },
    {
     "name": "stderr",
     "output_type": "stream",
     "text": [
      "100%|██████████| 12/12 [00:25<00:00,  2.17s/it]\n",
      "  0%|          | 0/12 [00:00<?, ?it/s]"
     ]
    },
    {
     "name": "stdout",
     "output_type": "stream",
     "text": [
      "Index(['day', 'temperature', 'month', 'humidity', 'hour', 'dayOfTheWeek',\n",
      "       'pressure', 'holiday', 'year', 'report', 'minute', 'Pandemic'],\n",
      "      dtype='object')\n",
      "For 12 features: \n",
      " Accuracy: 0.8474490963166323 \n",
      " Precision: 0.8225958064605319 \n",
      " Recall: 0.8258597851609432 \n",
      " F1 score: 0.8241009857863627\n",
      "best accuracy = 0.8648667122351333, with 9 features, with mutualInformation_classification2\n",
      "best accuracy = 0.8648667122351333, with 9 features, with mutualInformation_classification2\n",
      "\n",
      " \n",
      "\n",
      "------------------------- Analyzing method variableThreshold -------------------------\n",
      "The variable order is: \n",
      " ['month', 'day', 'year', 'hour', 'minute', 'holiday', 'dayOfTheWeek', 'temperature', 'humidity', 'pressure', 'report']\n"
     ]
    },
    {
     "name": "stderr",
     "output_type": "stream",
     "text": [
      "\r",
      "  8%|▊         | 1/12 [00:01<00:13,  1.24s/it]"
     ]
    },
    {
     "name": "stdout",
     "output_type": "stream",
     "text": [
      "Index(['month'], dtype='object')\n",
      "For 1 features: \n",
      " Accuracy: 0.46730813287514317 \n",
      " Precision: 0.4528014379693857 \n",
      " Recall: 0.4475636295542336 \n",
      " F1 score: 0.42911747619567764\n",
      "best accuracy = 0.46730813287514317, with 1 features, with variableThreshold\n"
     ]
    },
    {
     "name": "stderr",
     "output_type": "stream",
     "text": [
      "\r",
      " 17%|█▋        | 2/12 [00:02<00:12,  1.30s/it]"
     ]
    },
    {
     "name": "stdout",
     "output_type": "stream",
     "text": [
      "Index(['month', 'day'], dtype='object')\n",
      "For 2 features: \n",
      " Accuracy: 0.6723789860059647 \n",
      " Precision: 0.6338285360668126 \n",
      " Recall: 0.669178679932781 \n",
      " F1 score: 0.6415963015635843\n",
      "best accuracy = 0.6723789860059647, with 2 features, with variableThreshold\n"
     ]
    },
    {
     "name": "stderr",
     "output_type": "stream",
     "text": [
      "\r",
      " 25%|██▌       | 3/12 [00:03<00:11,  1.32s/it]"
     ]
    },
    {
     "name": "stdout",
     "output_type": "stream",
     "text": [
      "Index(['month', 'day', 'year'], dtype='object')\n",
      "For 3 features: \n",
      " Accuracy: 0.6734895474385482 \n",
      " Precision: 0.6362580412173714 \n",
      " Recall: 0.6708235388167625 \n",
      " F1 score: 0.6439562160701406\n",
      "best accuracy = 0.6734895474385482, with 3 features, with variableThreshold\n"
     ]
    },
    {
     "name": "stderr",
     "output_type": "stream",
     "text": [
      "\r",
      " 33%|███▎      | 4/12 [00:05<00:11,  1.42s/it]"
     ]
    },
    {
     "name": "stdout",
     "output_type": "stream",
     "text": [
      "Index(['month', 'day', 'year', 'hour'], dtype='object')\n",
      "For 4 features: \n",
      " Accuracy: 0.840602714515758 \n",
      " Precision: 0.8189365125130603 \n",
      " Recall: 0.8083389797357513 \n",
      " F1 score: 0.8132736511028262\n",
      "best accuracy = 0.840602714515758, with 4 features, with variableThreshold\n"
     ]
    },
    {
     "name": "stderr",
     "output_type": "stream",
     "text": [
      "\r",
      " 42%|████▏     | 5/12 [00:07<00:10,  1.54s/it]"
     ]
    },
    {
     "name": "stdout",
     "output_type": "stream",
     "text": [
      "Index(['month', 'day', 'year', 'hour', 'minute'], dtype='object')\n",
      "For 5 features: \n",
      " Accuracy: 0.8375028795208477 \n",
      " Precision: 0.8102771243179769 \n",
      " Recall: 0.8140586746078264 \n",
      " F1 score: 0.8120622604818204\n",
      "best accuracy = 0.840602714515758, with 4 features, with variableThreshold\n"
     ]
    },
    {
     "name": "stderr",
     "output_type": "stream",
     "text": [
      "\r",
      " 50%|█████     | 6/12 [00:09<00:09,  1.61s/it]"
     ]
    },
    {
     "name": "stdout",
     "output_type": "stream",
     "text": [
      "Index(['month', 'day', 'year', 'hour', 'minute', 'holiday'], dtype='object')\n",
      "For 6 features: \n",
      " Accuracy: 0.8361476355247981 \n",
      " Precision: 0.8072311954417557 \n",
      " Recall: 0.8111155980106548 \n",
      " F1 score: 0.8089932964714244\n",
      "best accuracy = 0.840602714515758, with 4 features, with variableThreshold\n"
     ]
    },
    {
     "name": "stderr",
     "output_type": "stream",
     "text": [
      "\r",
      " 58%|█████▊    | 7/12 [00:10<00:08,  1.66s/it]"
     ]
    },
    {
     "name": "stdout",
     "output_type": "stream",
     "text": [
      "Index(['month', 'day', 'year', 'hour', 'minute', 'holiday', 'dayOfTheWeek'], dtype='object')\n",
      "For 7 features: \n",
      " Accuracy: 0.8418456918456918 \n",
      " Precision: 0.8141240574008695 \n",
      " Recall: 0.8166194845672375 \n",
      " F1 score: 0.8152812957568761\n",
      "best accuracy = 0.8418456918456918, with 7 features, with variableThreshold\n"
     ]
    },
    {
     "name": "stderr",
     "output_type": "stream",
     "text": [
      "\r",
      " 67%|██████▋   | 8/12 [00:12<00:07,  1.79s/it]"
     ]
    },
    {
     "name": "stdout",
     "output_type": "stream",
     "text": [
      "Index(['month', 'day', 'year', 'hour', 'minute', 'holiday', 'dayOfTheWeek',\n",
      "       'temperature'],\n",
      "      dtype='object')\n",
      "For 8 features: \n",
      " Accuracy: 0.8397177885727504 \n",
      " Precision: 0.8127811356626795 \n",
      " Recall: 0.8174866638676539 \n",
      " F1 score: 0.8149899854485593\n",
      "best accuracy = 0.8418456918456918, with 7 features, with variableThreshold\n"
     ]
    },
    {
     "name": "stderr",
     "output_type": "stream",
     "text": [
      "\r",
      " 75%|███████▌  | 9/12 [00:15<00:05,  1.94s/it]"
     ]
    },
    {
     "name": "stdout",
     "output_type": "stream",
     "text": [
      "Index(['month', 'day', 'year', 'hour', 'minute', 'holiday', 'dayOfTheWeek',\n",
      "       'temperature', 'humidity'],\n",
      "      dtype='object')\n",
      "For 9 features: \n",
      " Accuracy: 0.8461084086170952 \n",
      " Precision: 0.8206208896265755 \n",
      " Recall: 0.8242595326162054 \n",
      " F1 score: 0.822349534531984\n",
      "best accuracy = 0.8461084086170952, with 9 features, with variableThreshold\n"
     ]
    },
    {
     "name": "stderr",
     "output_type": "stream",
     "text": [
      "\r",
      " 83%|████████▎ | 10/12 [00:17<00:04,  2.08s/it]"
     ]
    },
    {
     "name": "stdout",
     "output_type": "stream",
     "text": [
      "Index(['month', 'day', 'year', 'hour', 'minute', 'holiday', 'dayOfTheWeek',\n",
      "       'temperature', 'humidity', 'pressure'],\n",
      "      dtype='object')\n",
      "For 10 features: \n",
      " Accuracy: 0.8501159823706796 \n",
      " Precision: 0.8262016710265632 \n",
      " Recall: 0.8283671335560246 \n",
      " F1 score: 0.8271602087628903\n",
      "best accuracy = 0.8501159823706796, with 10 features, with variableThreshold\n"
     ]
    },
    {
     "name": "stderr",
     "output_type": "stream",
     "text": [
      "\r",
      " 92%|█████████▏| 11/12 [00:20<00:02,  2.22s/it]"
     ]
    },
    {
     "name": "stdout",
     "output_type": "stream",
     "text": [
      "Index(['month', 'day', 'year', 'hour', 'minute', 'holiday', 'dayOfTheWeek',\n",
      "       'temperature', 'humidity', 'pressure', 'report'],\n",
      "      dtype='object')\n",
      "For 11 features: \n",
      " Accuracy: 0.8490940766550523 \n",
      " Precision: 0.8241682456873454 \n",
      " Recall: 0.8264167563552047 \n",
      " F1 score: 0.8251636652387306\n",
      "best accuracy = 0.8501159823706796, with 10 features, with variableThreshold\n"
     ]
    },
    {
     "name": "stderr",
     "output_type": "stream",
     "text": [
      "100%|██████████| 12/12 [00:22<00:00,  1.88s/it]\n",
      "  0%|          | 0/12 [00:00<?, ?it/s]"
     ]
    },
    {
     "name": "stdout",
     "output_type": "stream",
     "text": [
      "Index(['month', 'day', 'year', 'hour', 'minute', 'holiday', 'dayOfTheWeek',\n",
      "       'temperature', 'humidity', 'pressure', 'report'],\n",
      "      dtype='object')\n",
      "For 12 features: \n",
      " Accuracy: 0.8500232612235403 \n",
      " Precision: 0.8254097652970135 \n",
      " Recall: 0.8282180018172477 \n",
      " F1 score: 0.8267338862229248\n",
      "best accuracy = 0.8501159823706796, with 10 features, with variableThreshold\n",
      "best accuracy = 0.8501159823706796, with 10 features, with variableThreshold\n",
      "\n",
      " \n",
      "\n",
      "------------------------- Analyzing method MRMR -------------------------\n",
      "The variable order is: \n",
      " ['temperature', 'dayOfTheWeek', 'hour', 'holiday', 'humidity', 'day', 'year', 'month', 'pressure', 'minute', 'report']\n"
     ]
    },
    {
     "name": "stderr",
     "output_type": "stream",
     "text": [
      "\r",
      "  8%|▊         | 1/12 [00:01<00:18,  1.65s/it]"
     ]
    },
    {
     "name": "stdout",
     "output_type": "stream",
     "text": [
      "Index(['temperature'], dtype='object')\n",
      "For 1 features: \n",
      " Accuracy: 0.46779641276496625 \n",
      " Precision: 0.36286908246872807 \n",
      " Recall: 0.35735422646634263 \n",
      " F1 score: 0.3501795772556807\n",
      "best accuracy = 0.46779641276496625, with 1 features, with MRMR\n"
     ]
    },
    {
     "name": "stderr",
     "output_type": "stream",
     "text": [
      "\r",
      " 17%|█▋        | 2/12 [00:03<00:16,  1.67s/it]"
     ]
    },
    {
     "name": "stdout",
     "output_type": "stream",
     "text": [
      "Index(['temperature', 'dayOfTheWeek'], dtype='object')\n",
      "For 2 features: \n",
      " Accuracy: 0.49917191509213904 \n",
      " Precision: 0.45147059138100326 \n",
      " Recall: 0.45960024397652066 \n",
      " F1 score: 0.453316348712438\n",
      "best accuracy = 0.49917191509213904, with 2 features, with MRMR\n"
     ]
    },
    {
     "name": "stderr",
     "output_type": "stream",
     "text": [
      "\r",
      " 25%|██▌       | 3/12 [00:05<00:15,  1.75s/it]"
     ]
    },
    {
     "name": "stdout",
     "output_type": "stream",
     "text": [
      "Index(['temperature', 'dayOfTheWeek', 'hour'], dtype='object')\n",
      "For 3 features: \n",
      " Accuracy: 0.6674375145993927 \n",
      " Precision: 0.6206977286530768 \n",
      " Recall: 0.6266250580078091 \n",
      " F1 score: 0.6232779399573529\n",
      "best accuracy = 0.6674375145993927, with 3 features, with MRMR\n"
     ]
    },
    {
     "name": "stderr",
     "output_type": "stream",
     "text": [
      "\r",
      " 33%|███▎      | 4/12 [00:07<00:14,  1.80s/it]"
     ]
    },
    {
     "name": "stdout",
     "output_type": "stream",
     "text": [
      "Index(['temperature', 'dayOfTheWeek', 'hour', 'holiday'], dtype='object')\n",
      "For 4 features: \n",
      " Accuracy: 0.6881754385964912 \n",
      " Precision: 0.6476056793814543 \n",
      " Recall: 0.6553973740757961 \n",
      " F1 score: 0.6510814436957726\n",
      "best accuracy = 0.6881754385964912, with 4 features, with MRMR\n"
     ]
    },
    {
     "name": "stderr",
     "output_type": "stream",
     "text": [
      "\r",
      " 42%|████▏     | 5/12 [00:09<00:13,  1.86s/it]"
     ]
    },
    {
     "name": "stdout",
     "output_type": "stream",
     "text": [
      "Index(['temperature', 'dayOfTheWeek', 'hour', 'holiday', 'humidity'], dtype='object')\n",
      "For 5 features: \n",
      " Accuracy: 0.8023541813070977 \n",
      " Precision: 0.7728656754904317 \n",
      " Recall: 0.7792430324430861 \n",
      " F1 score: 0.7758164241077\n",
      "best accuracy = 0.8023541813070977, with 5 features, with MRMR\n"
     ]
    },
    {
     "name": "stderr",
     "output_type": "stream",
     "text": [
      "\r",
      " 50%|█████     | 6/12 [00:11<00:11,  1.93s/it]"
     ]
    },
    {
     "name": "stdout",
     "output_type": "stream",
     "text": [
      "Index(['temperature', 'dayOfTheWeek', 'hour', 'holiday', 'humidity', 'day'], dtype='object')\n",
      "For 6 features: \n",
      " Accuracy: 0.8523105794041754 \n",
      " Precision: 0.8300072431551863 \n",
      " Recall: 0.8329037869672018 \n",
      " F1 score: 0.8313027894994648\n",
      "best accuracy = 0.8523105794041754, with 6 features, with MRMR\n"
     ]
    },
    {
     "name": "stderr",
     "output_type": "stream",
     "text": [
      "\r",
      " 58%|█████▊    | 7/12 [00:13<00:09,  1.97s/it]"
     ]
    },
    {
     "name": "stdout",
     "output_type": "stream",
     "text": [
      "Index(['temperature', 'dayOfTheWeek', 'hour', 'holiday', 'humidity', 'day',\n",
      "       'year'],\n",
      "      dtype='object')\n",
      "For 7 features: \n",
      " Accuracy: 0.8548038524782711 \n",
      " Precision: 0.8323172926394174 \n",
      " Recall: 0.8345205438450318 \n",
      " F1 score: 0.8333135074022865\n",
      "best accuracy = 0.8548038524782711, with 7 features, with MRMR\n"
     ]
    },
    {
     "name": "stderr",
     "output_type": "stream",
     "text": [
      "\r",
      " 67%|██████▋   | 8/12 [00:15<00:08,  2.01s/it]"
     ]
    },
    {
     "name": "stdout",
     "output_type": "stream",
     "text": [
      "Index(['temperature', 'dayOfTheWeek', 'hour', 'holiday', 'humidity', 'day',\n",
      "       'year', 'month'],\n",
      "      dtype='object')\n",
      "For 8 features: \n",
      " Accuracy: 0.8635497529992943 \n",
      " Precision: 0.8412742547076453 \n",
      " Recall: 0.8444000573135516 \n",
      " F1 score: 0.8427806145136849\n",
      "best accuracy = 0.8635497529992943, with 8 features, with MRMR\n"
     ]
    },
    {
     "name": "stderr",
     "output_type": "stream",
     "text": [
      "\r",
      " 75%|███████▌  | 9/12 [00:17<00:06,  2.08s/it]"
     ]
    },
    {
     "name": "stdout",
     "output_type": "stream",
     "text": [
      "Index(['temperature', 'dayOfTheWeek', 'hour', 'holiday', 'humidity', 'day',\n",
      "       'year', 'month', 'pressure'],\n",
      "      dtype='object')\n",
      "For 9 features: \n",
      " Accuracy: 0.8638162544169612 \n",
      " Precision: 0.8419676156142869 \n",
      " Recall: 0.8440651724073536 \n",
      " F1 score: 0.8429496499700327\n",
      "best accuracy = 0.8638162544169612, with 9 features, with MRMR\n"
     ]
    },
    {
     "name": "stderr",
     "output_type": "stream",
     "text": [
      "\r",
      " 83%|████████▎ | 10/12 [00:19<00:04,  2.18s/it]"
     ]
    },
    {
     "name": "stdout",
     "output_type": "stream",
     "text": [
      "Index(['temperature', 'dayOfTheWeek', 'hour', 'holiday', 'humidity', 'day',\n",
      "       'year', 'month', 'pressure', 'minute'],\n",
      "      dtype='object')\n",
      "For 10 features: \n",
      " Accuracy: 0.851450813871196 \n",
      " Precision: 0.8276560042166824 \n",
      " Recall: 0.82959301412462 \n",
      " F1 score: 0.8285145783598504\n",
      "best accuracy = 0.8638162544169612, with 9 features, with MRMR\n"
     ]
    },
    {
     "name": "stderr",
     "output_type": "stream",
     "text": [
      "\r",
      " 92%|█████████▏| 11/12 [00:22<00:02,  2.26s/it]"
     ]
    },
    {
     "name": "stdout",
     "output_type": "stream",
     "text": [
      "Index(['temperature', 'dayOfTheWeek', 'hour', 'holiday', 'humidity', 'day',\n",
      "       'year', 'month', 'pressure', 'minute', 'report'],\n",
      "      dtype='object')\n",
      "For 11 features: \n",
      " Accuracy: 0.8520316560359084 \n",
      " Precision: 0.8278368306556021 \n",
      " Recall: 0.8295627377191694 \n",
      " F1 score: 0.8286079707049163\n",
      "best accuracy = 0.8638162544169612, with 9 features, with MRMR\n"
     ]
    },
    {
     "name": "stderr",
     "output_type": "stream",
     "text": [
      "100%|██████████| 12/12 [00:24<00:00,  2.06s/it]"
     ]
    },
    {
     "name": "stdout",
     "output_type": "stream",
     "text": [
      "Index(['temperature', 'dayOfTheWeek', 'hour', 'holiday', 'humidity', 'day',\n",
      "       'year', 'month', 'pressure', 'minute', 'report'],\n",
      "      dtype='object')\n",
      "For 12 features: \n",
      " Accuracy: 0.8484977525431748 \n",
      " Precision: 0.8232184423933686 \n",
      " Recall: 0.8264645071398894 \n",
      " F1 score: 0.8247185059332616\n",
      "best accuracy = 0.8638162544169612, with 9 features, with MRMR\n",
      "best accuracy = 0.8638162544169612, with 9 features, with MRMR\n",
      "\n",
      " \n",
      "\n"
     ]
    },
    {
     "name": "stderr",
     "output_type": "stream",
     "text": [
      "\n"
     ]
    }
   ],
   "source": [
    "analizeDF(HP_ME,orderME,13,n_loops=20)"
   ]
  },
  {
   "cell_type": "markdown",
   "id": "e1c7311b",
   "metadata": {},
   "source": [
    "## Ordinal Encoding"
   ]
  },
  {
   "cell_type": "code",
   "execution_count": 26,
   "id": "6d7137f5",
   "metadata": {},
   "outputs": [],
   "source": [
    "hp_OE.rename(columns = {'day.1':'dayOfTheWeek'}, inplace = True)\n",
    "\n",
    "#Replace times ending in 5 and also compacting the rest to have only 6 classes\n",
    "a=hp_OE.Harry_Potter_and_the_Forbidden.replace([\n",
    "5, 10, 11, 15, 20, 25, 30, 35, 40, 45,50.0,55.0,60.0,65.0,70.0,75.0,80.0,85.0,90.0,95.0,100.0,105.0,110.0,115.0,120.0,125.0,130.0,135.0,145.0,150.0,180.0], \n",
    "[1,1,  1,  1,  1,  1,  1,  2,  2,  2, 2,   2,   2,   3,   3,   3,   3,   3,   3,   3,   3,    3,    3,    3,     3,    3,   3,    3,     3,    3,    3])\n",
    "\n",
    "df1=pd.DataFrame(a)\n",
    "df1.rename(columns = {'Harry_Potter_and_the_Forbidden':'HP_Forbidden_clean'}, inplace = True)\n",
    "hp_bis=pd.concat([hp_OE, df1], axis=1)\n",
    "hp2 = hp_bis.drop('Harry_Potter_and_the_Forbidden',axis=1)\n",
    "hp2 = hp2[hp2.HP_Forbidden_clean != 0] #delete rows with 0 min\n",
    "hp2.HP_Forbidden_clean.unique()\n",
    "\n",
    "#Variable order in ordinal encoding:\n",
    "pear_corrOE = ['temperature',\t'holiday',\t'day',\t'month',\t'pressure',\t'dayOfTheWeek',\t'report',\t'minute',\t'year',\t'humidity',\t'hour',\t'Pandemic']\n",
    "kend_corrOE = ['temperature',\t'holiday',\t'month',\t'day',\t'pressure',\t'dayOfTheWeek',\t'report',\t'year',\t'minute',\t'humidity',\t'hour',\t'Pandemic',]\n",
    "mutInf_classOE = ['month',\t'day',\t'year',\t'hour',\t'minute',\t'holiday',\t'dayOfTheWeek',\t'Pandemic',\t'temperature',\t'humidity',\t'pressure',\t'report',]\n",
    "mutInf_regOE = ['month',\t'day',\t'year',\t'hour',\t'minute',\t'holiday',\t'dayOfTheWeek',\t'Pandemic',\t'temperature',\t'humidity',\t'pressure',\t'report',]\n",
    "mutInf_class2OE = ['day',\t'temperature',\t'month',\t'humidity',\t'hour',\t'dayOfTheWeek',\t'pressure',\t'holiday',\t'year',\t'report',\t'minute',\t'Pandemic',]\n",
    "varThreOE = ['month',\t'day',\t'year',\t'hour',\t'minute',\t'holiday',\t'dayOfTheWeek',\t'temperature',\t'humidity',\t'pressure',\t'report']\n",
    "mrmrOE = ['temperature',\t'dayOfTheWeek',\t'hour',\t'holiday',\t'humidity',\t'day',\t'year',\t'month',\t'pressure',\t'minute',\t'report']\n",
    "\n",
    "orderOE=[pear_corrOE,kend_corrOE,mutInf_classOE,mutInf_regOE,mutInf_class2OE,varThreOE,mrmrOE]"
   ]
  },
  {
   "cell_type": "code",
   "execution_count": 27,
   "id": "56826836",
   "metadata": {},
   "outputs": [
    {
     "name": "stderr",
     "output_type": "stream",
     "text": [
      "\r",
      "  0%|          | 0/12 [00:00<?, ?it/s]"
     ]
    },
    {
     "name": "stdout",
     "output_type": "stream",
     "text": [
      "------------------------- Analyzing method Pearson_correlation -------------------------\n",
      "The variable order is: \n",
      " ['temperature', 'holiday', 'day', 'month', 'pressure', 'dayOfTheWeek', 'report', 'minute', 'year', 'humidity', 'hour', 'Pandemic']\n"
     ]
    },
    {
     "name": "stderr",
     "output_type": "stream",
     "text": [
      "\r",
      "  8%|▊         | 1/12 [00:02<00:22,  2.01s/it]"
     ]
    },
    {
     "name": "stdout",
     "output_type": "stream",
     "text": [
      "Index(['temperature'], dtype='object')\n",
      "For 1 features: \n",
      " Accuracy: 0.462010582010582 \n",
      " Precision: 0.3680411833372365 \n",
      " Recall: 0.3616123656891221 \n",
      " F1 score: 0.35424425515397745\n",
      "best accuracy = 0.462010582010582, with 1 features, with Pearson_correlation\n"
     ]
    },
    {
     "name": "stderr",
     "output_type": "stream",
     "text": [
      "\r",
      " 17%|█▋        | 2/12 [00:03<00:19,  1.97s/it]"
     ]
    },
    {
     "name": "stdout",
     "output_type": "stream",
     "text": [
      "Index(['temperature', 'holiday'], dtype='object')\n",
      "For 2 features: \n",
      " Accuracy: 0.47783428692519603 \n",
      " Precision: 0.4111625977938419 \n",
      " Recall: 0.39397233195177594 \n",
      " F1 score: 0.39425581176049584\n",
      "best accuracy = 0.47783428692519603, with 2 features, with Pearson_correlation\n"
     ]
    },
    {
     "name": "stderr",
     "output_type": "stream",
     "text": [
      "\r",
      " 25%|██▌       | 3/12 [00:05<00:17,  1.98s/it]"
     ]
    },
    {
     "name": "stdout",
     "output_type": "stream",
     "text": [
      "Index(['temperature', 'holiday', 'day'], dtype='object')\n",
      "For 3 features: \n",
      " Accuracy: 0.5859325270528326 \n",
      " Precision: 0.5500149043208926 \n",
      " Recall: 0.5652070582691392 \n",
      " F1 score: 0.5551467249863935\n",
      "best accuracy = 0.5859325270528326, with 3 features, with Pearson_correlation\n"
     ]
    },
    {
     "name": "stderr",
     "output_type": "stream",
     "text": [
      "\r",
      " 33%|███▎      | 4/12 [00:07<00:15,  1.99s/it]"
     ]
    },
    {
     "name": "stdout",
     "output_type": "stream",
     "text": [
      "Index(['temperature', 'holiday', 'day', 'month'], dtype='object')\n",
      "For 4 features: \n",
      " Accuracy: 0.752963671128107 \n",
      " Precision: 0.7203066496765802 \n",
      " Recall: 0.7340010975008514 \n",
      " F1 score: 0.726265232929233\n",
      "best accuracy = 0.752963671128107, with 4 features, with Pearson_correlation\n"
     ]
    },
    {
     "name": "stderr",
     "output_type": "stream",
     "text": [
      "\r",
      " 42%|████▏     | 5/12 [00:10<00:14,  2.06s/it]"
     ]
    },
    {
     "name": "stdout",
     "output_type": "stream",
     "text": [
      "Index(['temperature', 'holiday', 'day', 'month', 'pressure'], dtype='object')\n",
      "For 5 features: \n",
      " Accuracy: 0.8322803658796001 \n",
      " Precision: 0.8096531569577907 \n",
      " Recall: 0.8139274431145376 \n",
      " F1 score: 0.8116083940677686\n",
      "best accuracy = 0.8322803658796001, with 5 features, with Pearson_correlation\n"
     ]
    },
    {
     "name": "stderr",
     "output_type": "stream",
     "text": [
      "\r",
      " 50%|█████     | 6/12 [00:12<00:12,  2.09s/it]"
     ]
    },
    {
     "name": "stdout",
     "output_type": "stream",
     "text": [
      "Index(['temperature', 'holiday', 'day', 'month', 'pressure', 'dayOfTheWeek'], dtype='object')\n",
      "For 6 features: \n",
      " Accuracy: 0.8355058572949947 \n",
      " Precision: 0.8128865412709114 \n",
      " Recall: 0.8179242389895387 \n",
      " F1 score: 0.815250451607426\n",
      "best accuracy = 0.8355058572949947, with 6 features, with Pearson_correlation\n"
     ]
    },
    {
     "name": "stderr",
     "output_type": "stream",
     "text": [
      "\r",
      " 58%|█████▊    | 7/12 [00:14<00:10,  2.14s/it]"
     ]
    },
    {
     "name": "stdout",
     "output_type": "stream",
     "text": [
      "Index(['temperature', 'holiday', 'day', 'month', 'pressure', 'dayOfTheWeek',\n",
      "       'report'],\n",
      "      dtype='object')\n",
      "For 7 features: \n",
      " Accuracy: 0.841405416933248 \n",
      " Precision: 0.8199684625440372 \n",
      " Recall: 0.8243972607860921 \n",
      " F1 score: 0.8220332309955319\n",
      "best accuracy = 0.841405416933248, with 7 features, with Pearson_correlation\n"
     ]
    },
    {
     "name": "stderr",
     "output_type": "stream",
     "text": [
      "\r",
      " 67%|██████▋   | 8/12 [00:16<00:08,  2.21s/it]"
     ]
    },
    {
     "name": "stdout",
     "output_type": "stream",
     "text": [
      "Index(['temperature', 'holiday', 'day', 'month', 'pressure', 'dayOfTheWeek',\n",
      "       'report', 'minute'],\n",
      "      dtype='object')\n",
      "For 8 features: \n",
      " Accuracy: 0.814467221866325 \n",
      " Precision: 0.788369649853141 \n",
      " Recall: 0.7923151405211032 \n",
      " F1 score: 0.7902034619256872\n",
      "best accuracy = 0.841405416933248, with 7 features, with Pearson_correlation\n"
     ]
    },
    {
     "name": "stderr",
     "output_type": "stream",
     "text": [
      "\r",
      " 75%|███████▌  | 9/12 [00:19<00:06,  2.26s/it]"
     ]
    },
    {
     "name": "stdout",
     "output_type": "stream",
     "text": [
      "Index(['temperature', 'holiday', 'day', 'month', 'pressure', 'dayOfTheWeek',\n",
      "       'report', 'minute', 'year'],\n",
      "      dtype='object')\n",
      "For 9 features: \n",
      " Accuracy: 0.8144216378020098 \n",
      " Precision: 0.788378711240624 \n",
      " Recall: 0.7933817402372526 \n",
      " F1 score: 0.7906643920356552\n",
      "best accuracy = 0.841405416933248, with 7 features, with Pearson_correlation\n"
     ]
    },
    {
     "name": "stderr",
     "output_type": "stream",
     "text": [
      "\r",
      " 83%|████████▎ | 10/12 [00:21<00:04,  2.36s/it]"
     ]
    },
    {
     "name": "stdout",
     "output_type": "stream",
     "text": [
      "Index(['temperature', 'holiday', 'day', 'month', 'pressure', 'dayOfTheWeek',\n",
      "       'report', 'minute', 'year', 'humidity'],\n",
      "      dtype='object')\n",
      "For 10 features: \n",
      " Accuracy: 0.8204131877542282 \n",
      " Precision: 0.7954139270632062 \n",
      " Recall: 0.8009105671217884 \n",
      " F1 score: 0.797967264418786\n",
      "best accuracy = 0.841405416933248, with 7 features, with Pearson_correlation\n"
     ]
    },
    {
     "name": "stderr",
     "output_type": "stream",
     "text": [
      "\r",
      " 92%|█████████▏| 11/12 [00:24<00:02,  2.49s/it]"
     ]
    },
    {
     "name": "stdout",
     "output_type": "stream",
     "text": [
      "Index(['temperature', 'holiday', 'day', 'month', 'pressure', 'dayOfTheWeek',\n",
      "       'report', 'minute', 'year', 'humidity', 'hour'],\n",
      "      dtype='object')\n",
      "For 11 features: \n",
      " Accuracy: 0.8447588424437299 \n",
      " Precision: 0.8246040355674843 \n",
      " Recall: 0.8274692841655974 \n",
      " F1 score: 0.825944792496721\n",
      "best accuracy = 0.8447588424437299, with 11 features, with Pearson_correlation\n"
     ]
    },
    {
     "name": "stderr",
     "output_type": "stream",
     "text": [
      "100%|██████████| 12/12 [00:27<00:00,  2.28s/it]\n",
      "  0%|          | 0/12 [00:00<?, ?it/s]"
     ]
    },
    {
     "name": "stdout",
     "output_type": "stream",
     "text": [
      "Index(['temperature', 'holiday', 'day', 'month', 'pressure', 'dayOfTheWeek',\n",
      "       'report', 'minute', 'year', 'humidity', 'hour', 'Pandemic'],\n",
      "      dtype='object')\n",
      "For 12 features: \n",
      " Accuracy: 0.8453960077269801 \n",
      " Precision: 0.8243725848460418 \n",
      " Recall: 0.828121034947103 \n",
      " F1 score: 0.8261439438362186\n",
      "best accuracy = 0.8453960077269801, with 12 features, with Pearson_correlation\n",
      "best accuracy = 0.8453960077269801, with 12 features, with Pearson_correlation\n",
      "\n",
      " \n",
      "\n",
      "------------------------- Analyzing method Kendalls_correlation -------------------------\n",
      "The variable order is: \n",
      " ['temperature', 'holiday', 'month', 'day', 'pressure', 'dayOfTheWeek', 'report', 'year', 'minute', 'humidity', 'hour', 'Pandemic']\n"
     ]
    },
    {
     "name": "stderr",
     "output_type": "stream",
     "text": [
      "\r",
      "  8%|▊         | 1/12 [00:01<00:20,  1.84s/it]"
     ]
    },
    {
     "name": "stdout",
     "output_type": "stream",
     "text": [
      "Index(['temperature'], dtype='object')\n",
      "For 1 features: \n",
      " Accuracy: 0.46497958306468945 \n",
      " Precision: 0.36605893394043265 \n",
      " Recall: 0.36084554036163247 \n",
      " F1 score: 0.35352176317618517\n",
      "best accuracy = 0.46497958306468945, with 1 features, with Kendalls_correlation\n"
     ]
    },
    {
     "name": "stderr",
     "output_type": "stream",
     "text": [
      "\r",
      " 17%|█▋        | 2/12 [00:03<00:18,  1.82s/it]"
     ]
    },
    {
     "name": "stdout",
     "output_type": "stream",
     "text": [
      "Index(['temperature', 'holiday'], dtype='object')\n",
      "For 2 features: \n",
      " Accuracy: 0.4800408865935012 \n",
      " Precision: 0.4095142022356875 \n",
      " Recall: 0.3923790946834129 \n",
      " F1 score: 0.39288635461432586\n",
      "best accuracy = 0.4800408865935012, with 2 features, with Kendalls_correlation\n"
     ]
    },
    {
     "name": "stderr",
     "output_type": "stream",
     "text": [
      "\r",
      " 25%|██▌       | 3/12 [00:05<00:16,  1.83s/it]"
     ]
    },
    {
     "name": "stdout",
     "output_type": "stream",
     "text": [
      "Index(['temperature', 'holiday', 'month'], dtype='object')\n",
      "For 3 features: \n",
      " Accuracy: 0.5284636931695755 \n",
      " Precision: 0.4810918123037548 \n",
      " Recall: 0.488462749784443 \n",
      " F1 score: 0.4829641152238658\n",
      "best accuracy = 0.5284636931695755, with 3 features, with Kendalls_correlation\n"
     ]
    },
    {
     "name": "stderr",
     "output_type": "stream",
     "text": [
      "\r",
      " 33%|███▎      | 4/12 [00:07<00:14,  1.86s/it]"
     ]
    },
    {
     "name": "stdout",
     "output_type": "stream",
     "text": [
      "Index(['temperature', 'holiday', 'month', 'day'], dtype='object')\n",
      "For 4 features: \n",
      " Accuracy: 0.7529449838187703 \n",
      " Precision: 0.7202139088271209 \n",
      " Recall: 0.7320248302650055 \n",
      " F1 score: 0.7254657486478565\n",
      "best accuracy = 0.7529449838187703, with 4 features, with Kendalls_correlation\n"
     ]
    },
    {
     "name": "stderr",
     "output_type": "stream",
     "text": [
      "\r",
      " 42%|████▏     | 5/12 [00:09<00:13,  1.92s/it]"
     ]
    },
    {
     "name": "stdout",
     "output_type": "stream",
     "text": [
      "Index(['temperature', 'holiday', 'month', 'day', 'pressure'], dtype='object')\n",
      "For 5 features: \n",
      " Accuracy: 0.8281702311514366 \n",
      " Precision: 0.8052728057260405 \n",
      " Recall: 0.8097849051388171 \n",
      " F1 score: 0.8073965942818091\n",
      "best accuracy = 0.8281702311514366, with 5 features, with Kendalls_correlation\n"
     ]
    },
    {
     "name": "stderr",
     "output_type": "stream",
     "text": [
      "\r",
      " 50%|█████     | 6/12 [00:11<00:11,  1.96s/it]"
     ]
    },
    {
     "name": "stdout",
     "output_type": "stream",
     "text": [
      "Index(['temperature', 'holiday', 'month', 'day', 'pressure', 'dayOfTheWeek'], dtype='object')\n",
      "For 6 features: \n",
      " Accuracy: 0.835972312351287 \n",
      " Precision: 0.8121674639276394 \n",
      " Recall: 0.8172924152564355 \n",
      " F1 score: 0.8145604929441909\n",
      "best accuracy = 0.835972312351287, with 6 features, with Kendalls_correlation\n"
     ]
    },
    {
     "name": "stderr",
     "output_type": "stream",
     "text": [
      "\r",
      " 58%|█████▊    | 7/12 [00:13<00:10,  2.02s/it]"
     ]
    },
    {
     "name": "stdout",
     "output_type": "stream",
     "text": [
      "Index(['temperature', 'holiday', 'month', 'day', 'pressure', 'dayOfTheWeek',\n",
      "       'report'],\n",
      "      dtype='object')\n",
      "For 7 features: \n",
      " Accuracy: 0.8427875243664718 \n",
      " Precision: 0.8211300818893786 \n",
      " Recall: 0.8250327193840932 \n",
      " F1 score: 0.822978373893547\n",
      "best accuracy = 0.8427875243664718, with 7 features, with Kendalls_correlation\n"
     ]
    },
    {
     "name": "stderr",
     "output_type": "stream",
     "text": [
      "\r",
      " 67%|██████▋   | 8/12 [00:15<00:08,  2.06s/it]"
     ]
    },
    {
     "name": "stdout",
     "output_type": "stream",
     "text": [
      "Index(['temperature', 'holiday', 'month', 'day', 'pressure', 'dayOfTheWeek',\n",
      "       'report', 'year'],\n",
      "      dtype='object')\n",
      "For 8 features: \n",
      " Accuracy: 0.8381045326393407 \n",
      " Precision: 0.8171169497090935 \n",
      " Recall: 0.8214773293050531 \n",
      " F1 score: 0.8190968962138886\n",
      "best accuracy = 0.8427875243664718, with 7 features, with Kendalls_correlation\n"
     ]
    },
    {
     "name": "stderr",
     "output_type": "stream",
     "text": [
      "\r",
      " 75%|███████▌  | 9/12 [00:18<00:06,  2.15s/it]"
     ]
    },
    {
     "name": "stdout",
     "output_type": "stream",
     "text": [
      "Index(['temperature', 'holiday', 'month', 'day', 'pressure', 'dayOfTheWeek',\n",
      "       'report', 'year', 'minute'],\n",
      "      dtype='object')\n",
      "For 9 features: \n",
      " Accuracy: 0.8174592833876222 \n",
      " Precision: 0.7907015012604742 \n",
      " Recall: 0.7954064598632918 \n",
      " F1 score: 0.7928770362284757\n",
      "best accuracy = 0.8427875243664718, with 7 features, with Kendalls_correlation\n"
     ]
    },
    {
     "name": "stderr",
     "output_type": "stream",
     "text": [
      "\r",
      " 83%|████████▎ | 10/12 [00:20<00:04,  2.25s/it]"
     ]
    },
    {
     "name": "stdout",
     "output_type": "stream",
     "text": [
      "Index(['temperature', 'holiday', 'month', 'day', 'pressure', 'dayOfTheWeek',\n",
      "       'report', 'year', 'minute', 'humidity'],\n",
      "      dtype='object')\n",
      "For 10 features: \n",
      " Accuracy: 0.821917808219178 \n",
      " Precision: 0.7970528999141049 \n",
      " Recall: 0.8019608328382009 \n",
      " F1 score: 0.7993394259817351\n",
      "best accuracy = 0.8427875243664718, with 7 features, with Kendalls_correlation\n"
     ]
    },
    {
     "name": "stderr",
     "output_type": "stream",
     "text": [
      "\r",
      " 92%|█████████▏| 11/12 [00:23<00:02,  2.38s/it]"
     ]
    },
    {
     "name": "stdout",
     "output_type": "stream",
     "text": [
      "Index(['temperature', 'holiday', 'month', 'day', 'pressure', 'dayOfTheWeek',\n",
      "       'report', 'year', 'minute', 'humidity', 'hour'],\n",
      "      dtype='object')\n",
      "For 11 features: \n",
      " Accuracy: 0.8455693446549096 \n",
      " Precision: 0.824694466238083 \n",
      " Recall: 0.8276193078108877 \n",
      " F1 score: 0.8260439979920573\n",
      "best accuracy = 0.8455693446549096, with 11 features, with Kendalls_correlation\n"
     ]
    },
    {
     "name": "stderr",
     "output_type": "stream",
     "text": [
      "100%|██████████| 12/12 [00:25<00:00,  2.16s/it]\n",
      "  0%|          | 0/12 [00:00<?, ?it/s]"
     ]
    },
    {
     "name": "stdout",
     "output_type": "stream",
     "text": [
      "Index(['temperature', 'holiday', 'month', 'day', 'pressure', 'dayOfTheWeek',\n",
      "       'report', 'year', 'minute', 'humidity', 'hour', 'Pandemic'],\n",
      "      dtype='object')\n",
      "For 12 features: \n",
      " Accuracy: 0.8448768258120776 \n",
      " Precision: 0.8234512873645393 \n",
      " Recall: 0.8260780485571294 \n",
      " F1 score: 0.8246452527187058\n",
      "best accuracy = 0.8455693446549096, with 11 features, with Kendalls_correlation\n",
      "best accuracy = 0.8455693446549096, with 11 features, with Kendalls_correlation\n",
      "\n",
      " \n",
      "\n",
      "------------------------- Analyzing method mutualInformation_classification -------------------------\n",
      "The variable order is: \n",
      " ['month', 'day', 'year', 'hour', 'minute', 'holiday', 'dayOfTheWeek', 'Pandemic', 'temperature', 'humidity', 'pressure', 'report']\n"
     ]
    },
    {
     "name": "stderr",
     "output_type": "stream",
     "text": [
      "\r",
      "  8%|▊         | 1/12 [00:01<00:15,  1.37s/it]"
     ]
    },
    {
     "name": "stdout",
     "output_type": "stream",
     "text": [
      "Index(['month'], dtype='object')\n",
      "For 1 features: \n",
      " Accuracy: 0.47420868805937566 \n",
      " Precision: 0.4716163947583627 \n",
      " Recall: 0.46218653613328536 \n",
      " F1 score: 0.44047990968062145\n",
      "best accuracy = 0.47420868805937566, with 1 features, with mutualInformation_classification\n"
     ]
    },
    {
     "name": "stderr",
     "output_type": "stream",
     "text": [
      "\r",
      " 17%|█▋        | 2/12 [00:02<00:14,  1.43s/it]"
     ]
    },
    {
     "name": "stdout",
     "output_type": "stream",
     "text": [
      "Index(['month', 'day'], dtype='object')\n",
      "For 2 features: \n",
      " Accuracy: 0.6725573770491803 \n",
      " Precision: 0.6379624404887745 \n",
      " Recall: 0.6723495430901194 \n",
      " F1 score: 0.6457142597284032\n",
      "best accuracy = 0.6725573770491803, with 2 features, with mutualInformation_classification\n"
     ]
    },
    {
     "name": "stderr",
     "output_type": "stream",
     "text": [
      "\r",
      " 25%|██▌       | 3/12 [00:04<00:12,  1.44s/it]"
     ]
    },
    {
     "name": "stdout",
     "output_type": "stream",
     "text": [
      "Index(['month', 'day', 'year'], dtype='object')\n",
      "For 3 features: \n",
      " Accuracy: 0.6708579557890129 \n",
      " Precision: 0.6358611650128084 \n",
      " Recall: 0.6699492552804984 \n",
      " F1 score: 0.6437168023301723\n",
      "best accuracy = 0.6725573770491803, with 2 features, with mutualInformation_classification\n"
     ]
    },
    {
     "name": "stderr",
     "output_type": "stream",
     "text": [
      "\r",
      " 33%|███▎      | 4/12 [00:05<00:12,  1.54s/it]"
     ]
    },
    {
     "name": "stdout",
     "output_type": "stream",
     "text": [
      "Index(['month', 'day', 'year', 'hour'], dtype='object')\n",
      "For 4 features: \n",
      " Accuracy: 0.8395792241946088 \n",
      " Precision: 0.8195030210487844 \n",
      " Recall: 0.8096191946264235 \n",
      " F1 score: 0.8141780266069405\n",
      "best accuracy = 0.8395792241946088, with 4 features, with mutualInformation_classification\n"
     ]
    },
    {
     "name": "stderr",
     "output_type": "stream",
     "text": [
      "\r",
      " 42%|████▏     | 5/12 [00:07<00:11,  1.65s/it]"
     ]
    },
    {
     "name": "stdout",
     "output_type": "stream",
     "text": [
      "Index(['month', 'day', 'year', 'hour', 'minute'], dtype='object')\n",
      "For 5 features: \n",
      " Accuracy: 0.836624972569673 \n",
      " Precision: 0.8121484441542703 \n",
      " Recall: 0.814977931038919 \n",
      " F1 score: 0.813422638053243\n",
      "best accuracy = 0.8395792241946088, with 4 features, with mutualInformation_classification\n"
     ]
    },
    {
     "name": "stderr",
     "output_type": "stream",
     "text": [
      "\r",
      " 50%|█████     | 6/12 [00:09<00:10,  1.72s/it]"
     ]
    },
    {
     "name": "stdout",
     "output_type": "stream",
     "text": [
      "Index(['month', 'day', 'year', 'hour', 'minute', 'holiday'], dtype='object')\n",
      "For 6 features: \n",
      " Accuracy: 0.8380685563612393 \n",
      " Precision: 0.8126752107752186 \n",
      " Recall: 0.8156536904308326 \n",
      " F1 score: 0.8140639154614379\n",
      "best accuracy = 0.8395792241946088, with 4 features, with mutualInformation_classification\n"
     ]
    },
    {
     "name": "stderr",
     "output_type": "stream",
     "text": [
      "\r",
      " 58%|█████▊    | 7/12 [00:11<00:08,  1.78s/it]"
     ]
    },
    {
     "name": "stdout",
     "output_type": "stream",
     "text": [
      "Index(['month', 'day', 'year', 'hour', 'minute', 'holiday', 'dayOfTheWeek'], dtype='object')\n",
      "For 7 features: \n",
      " Accuracy: 0.8423212321232123 \n",
      " Precision: 0.8173661175489689 \n",
      " Recall: 0.8191809232928798 \n",
      " F1 score: 0.8182104061611294\n",
      "best accuracy = 0.8423212321232123, with 7 features, with mutualInformation_classification\n"
     ]
    },
    {
     "name": "stderr",
     "output_type": "stream",
     "text": [
      "\r",
      " 67%|██████▋   | 8/12 [00:13<00:07,  1.81s/it]"
     ]
    },
    {
     "name": "stdout",
     "output_type": "stream",
     "text": [
      "Index(['month', 'day', 'year', 'hour', 'minute', 'holiday', 'dayOfTheWeek',\n",
      "       'Pandemic'],\n",
      "      dtype='object')\n",
      "For 8 features: \n",
      " Accuracy: 0.8422449878827936 \n",
      " Precision: 0.8167812236034 \n",
      " Recall: 0.8193838164670624 \n",
      " F1 score: 0.8179287129136343\n",
      "best accuracy = 0.8423212321232123, with 7 features, with mutualInformation_classification\n"
     ]
    },
    {
     "name": "stderr",
     "output_type": "stream",
     "text": [
      "\r",
      " 75%|███████▌  | 9/12 [00:15<00:05,  1.92s/it]"
     ]
    },
    {
     "name": "stdout",
     "output_type": "stream",
     "text": [
      "Index(['month', 'day', 'year', 'hour', 'minute', 'holiday', 'dayOfTheWeek',\n",
      "       'Pandemic', 'temperature'],\n",
      "      dtype='object')\n",
      "For 9 features: \n",
      " Accuracy: 0.8388263842929627 \n",
      " Precision: 0.814034459920188 \n",
      " Recall: 0.8192673925630589 \n",
      " F1 score: 0.8164932738996328\n",
      "best accuracy = 0.8423212321232123, with 7 features, with mutualInformation_classification\n"
     ]
    },
    {
     "name": "stderr",
     "output_type": "stream",
     "text": [
      "\r",
      " 83%|████████▎ | 10/12 [00:18<00:04,  2.06s/it]"
     ]
    },
    {
     "name": "stdout",
     "output_type": "stream",
     "text": [
      "Index(['month', 'day', 'year', 'hour', 'minute', 'holiday', 'dayOfTheWeek',\n",
      "       'Pandemic', 'temperature', 'humidity'],\n",
      "      dtype='object')\n",
      "For 10 features: \n",
      " Accuracy: 0.8420256240335763 \n",
      " Precision: 0.8183105334390789 \n",
      " Recall: 0.8215940976348629 \n",
      " F1 score: 0.8198788969685276\n",
      "best accuracy = 0.8423212321232123, with 7 features, with mutualInformation_classification\n"
     ]
    },
    {
     "name": "stderr",
     "output_type": "stream",
     "text": [
      "\r",
      " 92%|█████████▏| 11/12 [00:20<00:02,  2.20s/it]"
     ]
    },
    {
     "name": "stdout",
     "output_type": "stream",
     "text": [
      "Index(['month', 'day', 'year', 'hour', 'minute', 'holiday', 'dayOfTheWeek',\n",
      "       'Pandemic', 'temperature', 'humidity', 'pressure'],\n",
      "      dtype='object')\n",
      "For 11 features: \n",
      " Accuracy: 0.8469807564698075 \n",
      " Precision: 0.8234325446607973 \n",
      " Recall: 0.8266148320725197 \n",
      " F1 score: 0.8249086264158655\n",
      "best accuracy = 0.8469807564698075, with 11 features, with mutualInformation_classification\n"
     ]
    },
    {
     "name": "stderr",
     "output_type": "stream",
     "text": [
      "100%|██████████| 12/12 [00:23<00:00,  1.93s/it]\n",
      "  0%|          | 0/12 [00:00<?, ?it/s]"
     ]
    },
    {
     "name": "stdout",
     "output_type": "stream",
     "text": [
      "Index(['month', 'day', 'year', 'hour', 'minute', 'holiday', 'dayOfTheWeek',\n",
      "       'Pandemic', 'temperature', 'humidity', 'pressure', 'report'],\n",
      "      dtype='object')\n",
      "For 12 features: \n",
      " Accuracy: 0.8451605758582503 \n",
      " Precision: 0.8225422309923961 \n",
      " Recall: 0.8255013071659868 \n",
      " F1 score: 0.8239282790091974\n",
      "best accuracy = 0.8469807564698075, with 11 features, with mutualInformation_classification\n",
      "best accuracy = 0.8469807564698075, with 11 features, with mutualInformation_classification\n",
      "\n",
      " \n",
      "\n",
      "------------------------- Analyzing method mutualInformation_reggression -------------------------\n",
      "The variable order is: \n",
      " ['month', 'day', 'year', 'hour', 'minute', 'holiday', 'dayOfTheWeek', 'Pandemic', 'temperature', 'humidity', 'pressure', 'report']\n"
     ]
    },
    {
     "name": "stderr",
     "output_type": "stream",
     "text": [
      "\r",
      "  8%|▊         | 1/12 [00:01<00:14,  1.34s/it]"
     ]
    },
    {
     "name": "stdout",
     "output_type": "stream",
     "text": [
      "Index(['month'], dtype='object')\n",
      "For 1 features: \n",
      " Accuracy: 0.4704147261033489 \n",
      " Precision: 0.47748002555041175 \n",
      " Recall: 0.4668683188697242 \n",
      " F1 score: 0.43911131826450295\n",
      "best accuracy = 0.4704147261033489, with 1 features, with mutualInformation_reggression\n"
     ]
    },
    {
     "name": "stderr",
     "output_type": "stream",
     "text": [
      "\r",
      " 17%|█▋        | 2/12 [00:02<00:13,  1.37s/it]"
     ]
    },
    {
     "name": "stdout",
     "output_type": "stream",
     "text": [
      "Index(['month', 'day'], dtype='object')\n",
      "For 2 features: \n",
      " Accuracy: 0.6752387297357317 \n",
      " Precision: 0.6398843135592895 \n",
      " Recall: 0.6762768026163187 \n",
      " F1 score: 0.647890265620854\n",
      "best accuracy = 0.6752387297357317, with 2 features, with mutualInformation_reggression\n"
     ]
    },
    {
     "name": "stderr",
     "output_type": "stream",
     "text": [
      "\r",
      " 25%|██▌       | 3/12 [00:04<00:12,  1.39s/it]"
     ]
    },
    {
     "name": "stdout",
     "output_type": "stream",
     "text": [
      "Index(['month', 'day', 'year'], dtype='object')\n",
      "For 3 features: \n",
      " Accuracy: 0.6724482988659106 \n",
      " Precision: 0.6366035406274294 \n",
      " Recall: 0.6717607926023536 \n",
      " F1 score: 0.6447783456879306\n",
      "best accuracy = 0.6752387297357317, with 2 features, with mutualInformation_reggression\n"
     ]
    },
    {
     "name": "stderr",
     "output_type": "stream",
     "text": [
      "\r",
      " 33%|███▎      | 4/12 [00:05<00:12,  1.51s/it]"
     ]
    },
    {
     "name": "stdout",
     "output_type": "stream",
     "text": [
      "Index(['month', 'day', 'year', 'hour'], dtype='object')\n",
      "For 4 features: \n",
      " Accuracy: 0.8404030282787798 \n",
      " Precision: 0.8203972504616048 \n",
      " Recall: 0.8094694492742203 \n",
      " F1 score: 0.8145408752370908\n",
      "best accuracy = 0.8404030282787798, with 4 features, with mutualInformation_reggression\n"
     ]
    },
    {
     "name": "stderr",
     "output_type": "stream",
     "text": [
      "\r",
      " 42%|████▏     | 5/12 [00:07<00:11,  1.63s/it]"
     ]
    },
    {
     "name": "stdout",
     "output_type": "stream",
     "text": [
      "Index(['month', 'day', 'year', 'hour', 'minute'], dtype='object')\n",
      "For 5 features: \n",
      " Accuracy: 0.8372686733556299 \n",
      " Precision: 0.8118871948180687 \n",
      " Recall: 0.8154381574451876 \n",
      " F1 score: 0.8135339451556238\n",
      "best accuracy = 0.8404030282787798, with 4 features, with mutualInformation_reggression\n"
     ]
    },
    {
     "name": "stderr",
     "output_type": "stream",
     "text": [
      "\r",
      " 50%|█████     | 6/12 [00:09<00:10,  1.71s/it]"
     ]
    },
    {
     "name": "stdout",
     "output_type": "stream",
     "text": [
      "Index(['month', 'day', 'year', 'hour', 'minute', 'holiday'], dtype='object')\n",
      "For 6 features: \n",
      " Accuracy: 0.8396628711766019 \n",
      " Precision: 0.8148876696785574 \n",
      " Recall: 0.8169987997102107 \n",
      " F1 score: 0.8157927254439352\n",
      "best accuracy = 0.8404030282787798, with 4 features, with mutualInformation_reggression\n"
     ]
    },
    {
     "name": "stderr",
     "output_type": "stream",
     "text": [
      "\r",
      " 58%|█████▊    | 7/12 [00:11<00:08,  1.78s/it]"
     ]
    },
    {
     "name": "stdout",
     "output_type": "stream",
     "text": [
      "Index(['month', 'day', 'year', 'hour', 'minute', 'holiday', 'dayOfTheWeek'], dtype='object')\n",
      "For 7 features: \n",
      " Accuracy: 0.843919069975408 \n",
      " Precision: 0.8186231310321966 \n",
      " Recall: 0.8213429554994364 \n",
      " F1 score: 0.8199092229005058\n",
      "best accuracy = 0.843919069975408, with 7 features, with mutualInformation_reggression\n"
     ]
    },
    {
     "name": "stderr",
     "output_type": "stream",
     "text": [
      "\r",
      " 67%|██████▋   | 8/12 [00:13<00:07,  1.82s/it]"
     ]
    },
    {
     "name": "stdout",
     "output_type": "stream",
     "text": [
      "Index(['month', 'day', 'year', 'hour', 'minute', 'holiday', 'dayOfTheWeek',\n",
      "       'Pandemic'],\n",
      "      dtype='object')\n",
      "For 8 features: \n",
      " Accuracy: 0.8438325498097157 \n",
      " Precision: 0.8185903892742111 \n",
      " Recall: 0.8210236353436081 \n",
      " F1 score: 0.8196923711594682\n",
      "best accuracy = 0.843919069975408, with 7 features, with mutualInformation_reggression\n"
     ]
    },
    {
     "name": "stderr",
     "output_type": "stream",
     "text": [
      "\r",
      " 75%|███████▌  | 9/12 [00:15<00:05,  1.94s/it]"
     ]
    },
    {
     "name": "stdout",
     "output_type": "stream",
     "text": [
      "Index(['month', 'day', 'year', 'hour', 'minute', 'holiday', 'dayOfTheWeek',\n",
      "       'Pandemic', 'temperature'],\n",
      "      dtype='object')\n",
      "For 9 features: \n",
      " Accuracy: 0.8418964357767317 \n",
      " Precision: 0.8161361861313775 \n",
      " Recall: 0.8194582598205845 \n",
      " F1 score: 0.8176823931224538\n",
      "best accuracy = 0.843919069975408, with 7 features, with mutualInformation_reggression\n"
     ]
    },
    {
     "name": "stderr",
     "output_type": "stream",
     "text": [
      "\r",
      " 83%|████████▎ | 10/12 [00:17<00:04,  2.07s/it]"
     ]
    },
    {
     "name": "stdout",
     "output_type": "stream",
     "text": [
      "Index(['month', 'day', 'year', 'hour', 'minute', 'holiday', 'dayOfTheWeek',\n",
      "       'Pandemic', 'temperature', 'humidity'],\n",
      "      dtype='object')\n",
      "For 10 features: \n",
      " Accuracy: 0.8427497194163861 \n",
      " Precision: 0.8186679307296056 \n",
      " Recall: 0.8213057799614393 \n",
      " F1 score: 0.8198484847855593\n",
      "best accuracy = 0.843919069975408, with 7 features, with mutualInformation_reggression\n"
     ]
    },
    {
     "name": "stderr",
     "output_type": "stream",
     "text": [
      "\r",
      " 92%|█████████▏| 11/12 [00:20<00:02,  2.19s/it]"
     ]
    },
    {
     "name": "stdout",
     "output_type": "stream",
     "text": [
      "Index(['month', 'day', 'year', 'hour', 'minute', 'holiday', 'dayOfTheWeek',\n",
      "       'Pandemic', 'temperature', 'humidity', 'pressure'],\n",
      "      dtype='object')\n",
      "For 11 features: \n",
      " Accuracy: 0.8467520791189032 \n",
      " Precision: 0.8236218330344094 \n",
      " Recall: 0.8256482263710396 \n",
      " F1 score: 0.8245432940310377\n",
      "best accuracy = 0.8467520791189032, with 11 features, with mutualInformation_reggression\n"
     ]
    },
    {
     "name": "stderr",
     "output_type": "stream",
     "text": [
      "100%|██████████| 12/12 [00:22<00:00,  1.91s/it]\n",
      "  0%|          | 0/12 [00:00<?, ?it/s]"
     ]
    },
    {
     "name": "stdout",
     "output_type": "stream",
     "text": [
      "Index(['month', 'day', 'year', 'hour', 'minute', 'holiday', 'dayOfTheWeek',\n",
      "       'Pandemic', 'temperature', 'humidity', 'pressure', 'report'],\n",
      "      dtype='object')\n",
      "For 12 features: \n",
      " Accuracy: 0.8474116587891065 \n",
      " Precision: 0.8236904782250309 \n",
      " Recall: 0.8263457130505085 \n",
      " F1 score: 0.8249074455484393\n",
      "best accuracy = 0.8474116587891065, with 12 features, with mutualInformation_reggression\n",
      "best accuracy = 0.8474116587891065, with 12 features, with mutualInformation_reggression\n",
      "\n",
      " \n",
      "\n",
      "------------------------- Analyzing method mutualInformation_classification2 -------------------------\n",
      "The variable order is: \n",
      " ['day', 'temperature', 'month', 'humidity', 'hour', 'dayOfTheWeek', 'pressure', 'holiday', 'year', 'report', 'minute', 'Pandemic']\n"
     ]
    },
    {
     "name": "stderr",
     "output_type": "stream",
     "text": [
      "\r",
      "  8%|▊         | 1/12 [00:01<00:14,  1.34s/it]"
     ]
    },
    {
     "name": "stdout",
     "output_type": "stream",
     "text": [
      "Index(['day'], dtype='object')\n",
      "For 1 features: \n",
      " Accuracy: 0.45581473968897906 \n",
      " Precision: 0.42452650246729345 \n",
      " Recall: 0.43520898452833584 \n",
      " F1 score: 0.41634527278838696\n",
      "best accuracy = 0.45581473968897906, with 1 features, with mutualInformation_classification2\n"
     ]
    },
    {
     "name": "stderr",
     "output_type": "stream",
     "text": [
      "\r",
      " 17%|█▋        | 2/12 [00:03<00:15,  1.57s/it]"
     ]
    },
    {
     "name": "stdout",
     "output_type": "stream",
     "text": [
      "Index(['day', 'temperature'], dtype='object')\n",
      "For 2 features: \n",
      " Accuracy: 0.5647483638004965 \n",
      " Precision: 0.5226990566716345 \n",
      " Recall: 0.5385213068193191 \n",
      " F1 score: 0.5269356435012615\n",
      "best accuracy = 0.5647483638004965, with 2 features, with mutualInformation_classification2\n"
     ]
    },
    {
     "name": "stderr",
     "output_type": "stream",
     "text": [
      "\r",
      " 25%|██▌       | 3/12 [00:04<00:14,  1.66s/it]"
     ]
    },
    {
     "name": "stdout",
     "output_type": "stream",
     "text": [
      "Index(['day', 'temperature', 'month'], dtype='object')\n",
      "For 3 features: \n",
      " Accuracy: 0.7551073446327683 \n",
      " Precision: 0.7184821454371508 \n",
      " Recall: 0.7309804513642308 \n",
      " F1 score: 0.7240362735536692\n",
      "best accuracy = 0.7551073446327683, with 3 features, with mutualInformation_classification2\n"
     ]
    },
    {
     "name": "stderr",
     "output_type": "stream",
     "text": [
      "\r",
      " 33%|███▎      | 4/12 [00:06<00:14,  1.76s/it]"
     ]
    },
    {
     "name": "stdout",
     "output_type": "stream",
     "text": [
      "Index(['day', 'temperature', 'month', 'humidity'], dtype='object')\n",
      "For 4 features: \n",
      " Accuracy: 0.8120389228332202 \n",
      " Precision: 0.7857577287700657 \n",
      " Recall: 0.7927396911693001 \n",
      " F1 score: 0.7889739786063232\n",
      "best accuracy = 0.8120389228332202, with 4 features, with mutualInformation_classification2\n"
     ]
    },
    {
     "name": "stderr",
     "output_type": "stream",
     "text": [
      "\r",
      " 42%|████▏     | 5/12 [00:08<00:13,  1.90s/it]"
     ]
    },
    {
     "name": "stdout",
     "output_type": "stream",
     "text": [
      "Index(['day', 'temperature', 'month', 'humidity', 'hour'], dtype='object')\n",
      "For 5 features: \n",
      " Accuracy: 0.8518808067074553 \n",
      " Precision: 0.830066641980072 \n",
      " Recall: 0.832573411908488 \n",
      " F1 score: 0.8312380488914927\n",
      "best accuracy = 0.8518808067074553, with 5 features, with mutualInformation_classification2\n"
     ]
    },
    {
     "name": "stderr",
     "output_type": "stream",
     "text": [
      "\r",
      " 50%|█████     | 6/12 [00:11<00:11,  1.98s/it]"
     ]
    },
    {
     "name": "stdout",
     "output_type": "stream",
     "text": [
      "Index(['day', 'temperature', 'month', 'humidity', 'hour', 'dayOfTheWeek'], dtype='object')\n",
      "For 6 features: \n",
      " Accuracy: 0.8579078738370773 \n",
      " Precision: 0.8362979685331541 \n",
      " Recall: 0.8391638014496512 \n",
      " F1 score: 0.837589328836483\n",
      "best accuracy = 0.8579078738370773, with 6 features, with mutualInformation_classification2\n"
     ]
    },
    {
     "name": "stderr",
     "output_type": "stream",
     "text": [
      "\r",
      " 58%|█████▊    | 7/12 [00:13<00:10,  2.08s/it]"
     ]
    },
    {
     "name": "stdout",
     "output_type": "stream",
     "text": [
      "Index(['day', 'temperature', 'month', 'humidity', 'hour', 'dayOfTheWeek',\n",
      "       'pressure'],\n",
      "      dtype='object')\n",
      "For 7 features: \n",
      " Accuracy: 0.8621904112701658 \n",
      " Precision: 0.8419023723161968 \n",
      " Recall: 0.8443854687255099 \n",
      " F1 score: 0.8430612740965958\n",
      "best accuracy = 0.8621904112701658, with 7 features, with mutualInformation_classification2\n"
     ]
    },
    {
     "name": "stderr",
     "output_type": "stream",
     "text": [
      "\r",
      " 67%|██████▋   | 8/12 [00:15<00:08,  2.15s/it]"
     ]
    },
    {
     "name": "stdout",
     "output_type": "stream",
     "text": [
      "Index(['day', 'temperature', 'month', 'humidity', 'hour', 'dayOfTheWeek',\n",
      "       'pressure', 'holiday'],\n",
      "      dtype='object')\n",
      "For 8 features: \n",
      " Accuracy: 0.8644368600682594 \n",
      " Precision: 0.84384876610188 \n",
      " Recall: 0.8468598371957983 \n",
      " F1 score: 0.8452689488732329\n",
      "best accuracy = 0.8644368600682594, with 8 features, with mutualInformation_classification2\n"
     ]
    },
    {
     "name": "stderr",
     "output_type": "stream",
     "text": [
      "\r",
      " 75%|███████▌  | 9/12 [00:17<00:06,  2.19s/it]"
     ]
    },
    {
     "name": "stdout",
     "output_type": "stream",
     "text": [
      "Index(['day', 'temperature', 'month', 'humidity', 'hour', 'dayOfTheWeek',\n",
      "       'pressure', 'holiday', 'year'],\n",
      "      dtype='object')\n",
      "For 9 features: \n",
      " Accuracy: 0.8647413989519253 \n",
      " Precision: 0.8430204923209325 \n",
      " Recall: 0.8463194481156776 \n",
      " F1 score: 0.8445160210191829\n",
      "best accuracy = 0.8647413989519253, with 9 features, with mutualInformation_classification2\n"
     ]
    },
    {
     "name": "stderr",
     "output_type": "stream",
     "text": [
      "\r",
      " 83%|████████▎ | 10/12 [00:20<00:04,  2.26s/it]"
     ]
    },
    {
     "name": "stdout",
     "output_type": "stream",
     "text": [
      "Index(['day', 'temperature', 'month', 'humidity', 'hour', 'dayOfTheWeek',\n",
      "       'pressure', 'holiday', 'year', 'report'],\n",
      "      dtype='object')\n",
      "For 10 features: \n",
      " Accuracy: 0.862445813369838 \n",
      " Precision: 0.8420023506574619 \n",
      " Recall: 0.8435995919378516 \n",
      " F1 score: 0.8427303844552483\n",
      "best accuracy = 0.8647413989519253, with 9 features, with mutualInformation_classification2\n"
     ]
    },
    {
     "name": "stderr",
     "output_type": "stream",
     "text": [
      "\r",
      " 92%|█████████▏| 11/12 [00:22<00:02,  2.35s/it]"
     ]
    },
    {
     "name": "stdout",
     "output_type": "stream",
     "text": [
      "Index(['day', 'temperature', 'month', 'humidity', 'hour', 'dayOfTheWeek',\n",
      "       'pressure', 'holiday', 'year', 'report', 'minute'],\n",
      "      dtype='object')\n",
      "For 11 features: \n",
      " Accuracy: 0.8481608407585104 \n",
      " Precision: 0.823208360647357 \n",
      " Recall: 0.8266611152246681 \n",
      " F1 score: 0.8247793232611248\n",
      "best accuracy = 0.8647413989519253, with 9 features, with mutualInformation_classification2\n"
     ]
    },
    {
     "name": "stderr",
     "output_type": "stream",
     "text": [
      "100%|██████████| 12/12 [00:25<00:00,  2.12s/it]\n",
      "  0%|          | 0/12 [00:00<?, ?it/s]"
     ]
    },
    {
     "name": "stdout",
     "output_type": "stream",
     "text": [
      "Index(['day', 'temperature', 'month', 'humidity', 'hour', 'dayOfTheWeek',\n",
      "       'pressure', 'holiday', 'year', 'report', 'minute', 'Pandemic'],\n",
      "      dtype='object')\n",
      "For 12 features: \n",
      " Accuracy: 0.847654998856097 \n",
      " Precision: 0.8238995907831048 \n",
      " Recall: 0.8253152049037809 \n",
      " F1 score: 0.8245150466705957\n",
      "best accuracy = 0.8647413989519253, with 9 features, with mutualInformation_classification2\n",
      "best accuracy = 0.8647413989519253, with 9 features, with mutualInformation_classification2\n",
      "\n",
      " \n",
      "\n",
      "------------------------- Analyzing method variableThreshold -------------------------\n",
      "The variable order is: \n",
      " ['month', 'day', 'year', 'hour', 'minute', 'holiday', 'dayOfTheWeek', 'temperature', 'humidity', 'pressure', 'report']\n"
     ]
    },
    {
     "name": "stderr",
     "output_type": "stream",
     "text": [
      "\r",
      "  8%|▊         | 1/12 [00:01<00:13,  1.25s/it]"
     ]
    },
    {
     "name": "stdout",
     "output_type": "stream",
     "text": [
      "Index(['month'], dtype='object')\n",
      "For 1 features: \n",
      " Accuracy: 0.46713631156930124 \n",
      " Precision: 0.4562418208240759 \n",
      " Recall: 0.4506484153849568 \n",
      " F1 score: 0.42969725558528515\n",
      "best accuracy = 0.46713631156930124, with 1 features, with variableThreshold\n"
     ]
    },
    {
     "name": "stderr",
     "output_type": "stream",
     "text": [
      "\r",
      " 17%|█▋        | 2/12 [00:02<00:13,  1.31s/it]"
     ]
    },
    {
     "name": "stdout",
     "output_type": "stream",
     "text": [
      "Index(['month', 'day'], dtype='object')\n",
      "For 2 features: \n",
      " Accuracy: 0.6718169304886442 \n",
      " Precision: 0.6334323299187412 \n",
      " Recall: 0.6674370012870688 \n",
      " F1 score: 0.6412059367507569\n",
      "best accuracy = 0.6718169304886442, with 2 features, with variableThreshold\n"
     ]
    },
    {
     "name": "stderr",
     "output_type": "stream",
     "text": [
      "\r",
      " 25%|██▌       | 3/12 [00:03<00:12,  1.34s/it]"
     ]
    },
    {
     "name": "stdout",
     "output_type": "stream",
     "text": [
      "Index(['month', 'day', 'year'], dtype='object')\n",
      "For 3 features: \n",
      " Accuracy: 0.6753158741098093 \n",
      " Precision: 0.6356545185721804 \n",
      " Recall: 0.6689273157303965 \n",
      " F1 score: 0.6434472864641676\n",
      "best accuracy = 0.6753158741098093, with 3 features, with variableThreshold\n"
     ]
    },
    {
     "name": "stderr",
     "output_type": "stream",
     "text": [
      "\r",
      " 33%|███▎      | 4/12 [00:05<00:11,  1.44s/it]"
     ]
    },
    {
     "name": "stdout",
     "output_type": "stream",
     "text": [
      "Index(['month', 'day', 'year', 'hour'], dtype='object')\n",
      "For 4 features: \n",
      " Accuracy: 0.8411433172302738 \n",
      " Precision: 0.8179352692200571 \n",
      " Recall: 0.8084424854885782 \n",
      " F1 score: 0.8128620348336095\n",
      "best accuracy = 0.8411433172302738, with 4 features, with variableThreshold\n"
     ]
    },
    {
     "name": "stderr",
     "output_type": "stream",
     "text": [
      "\r",
      " 42%|████▏     | 5/12 [00:07<00:10,  1.55s/it]"
     ]
    },
    {
     "name": "stdout",
     "output_type": "stream",
     "text": [
      "Index(['month', 'day', 'year', 'hour', 'minute'], dtype='object')\n",
      "For 5 features: \n",
      " Accuracy: 0.8385855793595945 \n",
      " Precision: 0.8106592981686427 \n",
      " Recall: 0.813724368481276 \n",
      " F1 score: 0.8120948195816488\n",
      "best accuracy = 0.8411433172302738, with 4 features, with variableThreshold\n"
     ]
    },
    {
     "name": "stderr",
     "output_type": "stream",
     "text": [
      "\r",
      " 50%|█████     | 6/12 [00:09<00:09,  1.62s/it]"
     ]
    },
    {
     "name": "stdout",
     "output_type": "stream",
     "text": [
      "Index(['month', 'day', 'year', 'hour', 'minute', 'holiday'], dtype='object')\n",
      "For 6 features: \n",
      " Accuracy: 0.8409111880046136 \n",
      " Precision: 0.8133714341047072 \n",
      " Recall: 0.8168819201197314 \n",
      " F1 score: 0.8150028662923365\n",
      "best accuracy = 0.8411433172302738, with 4 features, with variableThreshold\n"
     ]
    },
    {
     "name": "stderr",
     "output_type": "stream",
     "text": [
      "\r",
      " 58%|█████▊    | 7/12 [00:10<00:08,  1.67s/it]"
     ]
    },
    {
     "name": "stdout",
     "output_type": "stream",
     "text": [
      "Index(['month', 'day', 'year', 'hour', 'minute', 'holiday', 'dayOfTheWeek'], dtype='object')\n",
      "For 7 features: \n",
      " Accuracy: 0.8461538461538461 \n",
      " Precision: 0.8196853824335735 \n",
      " Recall: 0.8221763777424909 \n",
      " F1 score: 0.8208156905648335\n",
      "best accuracy = 0.8461538461538461, with 7 features, with variableThreshold\n"
     ]
    },
    {
     "name": "stderr",
     "output_type": "stream",
     "text": [
      "\r",
      " 67%|██████▋   | 8/12 [00:12<00:07,  1.80s/it]"
     ]
    },
    {
     "name": "stdout",
     "output_type": "stream",
     "text": [
      "Index(['month', 'day', 'year', 'hour', 'minute', 'holiday', 'dayOfTheWeek',\n",
      "       'temperature'],\n",
      "      dtype='object')\n",
      "For 8 features: \n",
      " Accuracy: 0.8417881101087208 \n",
      " Precision: 0.8152724191740859 \n",
      " Recall: 0.8189300753430384 \n",
      " F1 score: 0.8169480454542588\n",
      "best accuracy = 0.8461538461538461, with 7 features, with variableThreshold\n"
     ]
    },
    {
     "name": "stderr",
     "output_type": "stream",
     "text": [
      "\r",
      " 75%|███████▌  | 9/12 [00:15<00:05,  1.94s/it]"
     ]
    },
    {
     "name": "stdout",
     "output_type": "stream",
     "text": [
      "Index(['month', 'day', 'year', 'hour', 'minute', 'holiday', 'dayOfTheWeek',\n",
      "       'temperature', 'humidity'],\n",
      "      dtype='object')\n",
      "For 9 features: \n",
      " Accuracy: 0.8447533009034052 \n",
      " Precision: 0.8181609455382223 \n",
      " Recall: 0.8223537289572824 \n",
      " F1 score: 0.8201199505558652\n",
      "best accuracy = 0.8461538461538461, with 7 features, with variableThreshold\n"
     ]
    },
    {
     "name": "stderr",
     "output_type": "stream",
     "text": [
      "\r",
      " 83%|████████▎ | 10/12 [00:17<00:04,  2.08s/it]"
     ]
    },
    {
     "name": "stdout",
     "output_type": "stream",
     "text": [
      "Index(['month', 'day', 'year', 'hour', 'minute', 'holiday', 'dayOfTheWeek',\n",
      "       'temperature', 'humidity', 'pressure'],\n",
      "      dtype='object')\n",
      "For 10 features: \n",
      " Accuracy: 0.8491069357457667 \n",
      " Precision: 0.8253122894505677 \n",
      " Recall: 0.8272857271365801 \n",
      " F1 score: 0.8261860284596737\n",
      "best accuracy = 0.8491069357457667, with 10 features, with variableThreshold\n"
     ]
    },
    {
     "name": "stderr",
     "output_type": "stream",
     "text": [
      "\r",
      " 92%|█████████▏| 11/12 [00:20<00:02,  2.21s/it]"
     ]
    },
    {
     "name": "stdout",
     "output_type": "stream",
     "text": [
      "Index(['month', 'day', 'year', 'hour', 'minute', 'holiday', 'dayOfTheWeek',\n",
      "       'temperature', 'humidity', 'pressure', 'report'],\n",
      "      dtype='object')\n",
      "For 11 features: \n",
      " Accuracy: 0.8468641114982578 \n",
      " Precision: 0.822849132454228 \n",
      " Recall: 0.825166244653657 \n",
      " F1 score: 0.8238701492618694\n",
      "best accuracy = 0.8491069357457667, with 10 features, with variableThreshold\n"
     ]
    },
    {
     "name": "stderr",
     "output_type": "stream",
     "text": [
      "100%|██████████| 12/12 [00:22<00:00,  1.88s/it]\n",
      "  0%|          | 0/12 [00:00<?, ?it/s]"
     ]
    },
    {
     "name": "stdout",
     "output_type": "stream",
     "text": [
      "Index(['month', 'day', 'year', 'hour', 'minute', 'holiday', 'dayOfTheWeek',\n",
      "       'temperature', 'humidity', 'pressure', 'report'],\n",
      "      dtype='object')\n",
      "For 12 features: \n",
      " Accuracy: 0.8508490346592231 \n",
      " Precision: 0.8257938713987055 \n",
      " Recall: 0.82858710544857 \n",
      " F1 score: 0.8270939359370427\n",
      "best accuracy = 0.8508490346592231, with 12 features, with variableThreshold\n",
      "best accuracy = 0.8508490346592231, with 12 features, with variableThreshold\n",
      "\n",
      " \n",
      "\n",
      "------------------------- Analyzing method MRMR -------------------------\n",
      "The variable order is: \n",
      " ['temperature', 'dayOfTheWeek', 'hour', 'holiday', 'humidity', 'day', 'year', 'month', 'pressure', 'minute', 'report']\n"
     ]
    },
    {
     "name": "stderr",
     "output_type": "stream",
     "text": [
      "\r",
      "  8%|▊         | 1/12 [00:01<00:18,  1.66s/it]"
     ]
    },
    {
     "name": "stdout",
     "output_type": "stream",
     "text": [
      "Index(['temperature'], dtype='object')\n",
      "For 1 features: \n",
      " Accuracy: 0.46932215234102026 \n",
      " Precision: 0.3636384030132019 \n",
      " Recall: 0.3574488353006743 \n",
      " F1 score: 0.3500384963397614\n",
      "best accuracy = 0.46932215234102026, with 1 features, with MRMR\n"
     ]
    },
    {
     "name": "stderr",
     "output_type": "stream",
     "text": [
      "\r",
      " 17%|█▋        | 2/12 [00:03<00:16,  1.65s/it]"
     ]
    },
    {
     "name": "stdout",
     "output_type": "stream",
     "text": [
      "Index(['temperature', 'dayOfTheWeek'], dtype='object')\n",
      "For 2 features: \n",
      " Accuracy: 0.5022626545369723 \n",
      " Precision: 0.45311953907334296 \n",
      " Recall: 0.46063866208944915 \n",
      " F1 score: 0.4549695890170291\n",
      "best accuracy = 0.5022626545369723, with 2 features, with MRMR\n"
     ]
    },
    {
     "name": "stderr",
     "output_type": "stream",
     "text": [
      "\r",
      " 25%|██▌       | 3/12 [00:05<00:15,  1.73s/it]"
     ]
    },
    {
     "name": "stdout",
     "output_type": "stream",
     "text": [
      "Index(['temperature', 'dayOfTheWeek', 'hour'], dtype='object')\n",
      "For 3 features: \n",
      " Accuracy: 0.6637701471618781 \n",
      " Precision: 0.6185251470841846 \n",
      " Recall: 0.62507227081921 \n",
      " F1 score: 0.6214140179529828\n",
      "best accuracy = 0.6637701471618781, with 3 features, with MRMR\n"
     ]
    },
    {
     "name": "stderr",
     "output_type": "stream",
     "text": [
      "\r",
      " 33%|███▎      | 4/12 [00:06<00:14,  1.76s/it]"
     ]
    },
    {
     "name": "stdout",
     "output_type": "stream",
     "text": [
      "Index(['temperature', 'dayOfTheWeek', 'hour', 'holiday'], dtype='object')\n",
      "For 4 features: \n",
      " Accuracy: 0.6879181286549707 \n",
      " Precision: 0.6472886956153563 \n",
      " Recall: 0.653889889986111 \n",
      " F1 score: 0.6502482643624627\n",
      "best accuracy = 0.6879181286549707, with 4 features, with MRMR\n"
     ]
    },
    {
     "name": "stderr",
     "output_type": "stream",
     "text": [
      "\r",
      " 42%|████▏     | 5/12 [00:08<00:12,  1.83s/it]"
     ]
    },
    {
     "name": "stdout",
     "output_type": "stream",
     "text": [
      "Index(['temperature', 'dayOfTheWeek', 'hour', 'holiday', 'humidity'], dtype='object')\n",
      "For 5 features: \n",
      " Accuracy: 0.8036425392363551 \n",
      " Precision: 0.7750193936314118 \n",
      " Recall: 0.7797379405742619 \n",
      " F1 score: 0.7772273389196679\n",
      "best accuracy = 0.8036425392363551, with 5 features, with MRMR\n"
     ]
    },
    {
     "name": "stderr",
     "output_type": "stream",
     "text": [
      "\r",
      " 50%|█████     | 6/12 [00:10<00:11,  1.91s/it]"
     ]
    },
    {
     "name": "stdout",
     "output_type": "stream",
     "text": [
      "Index(['temperature', 'dayOfTheWeek', 'hour', 'holiday', 'humidity', 'day'], dtype='object')\n",
      "For 6 features: \n",
      " Accuracy: 0.8545742434904997 \n",
      " Precision: 0.8318715554470407 \n",
      " Recall: 0.8351847472766029 \n",
      " F1 score: 0.8334043200024908\n",
      "best accuracy = 0.8545742434904997, with 6 features, with MRMR\n"
     ]
    },
    {
     "name": "stderr",
     "output_type": "stream",
     "text": [
      "\r",
      " 58%|█████▊    | 7/12 [00:13<00:09,  1.96s/it]"
     ]
    },
    {
     "name": "stdout",
     "output_type": "stream",
     "text": [
      "Index(['temperature', 'dayOfTheWeek', 'hour', 'holiday', 'humidity', 'day',\n",
      "       'year'],\n",
      "      dtype='object')\n",
      "For 7 features: \n",
      " Accuracy: 0.8566478740897345 \n",
      " Precision: 0.8333322155340237 \n",
      " Recall: 0.8367043525503083 \n",
      " F1 score: 0.8348720471402193\n",
      "best accuracy = 0.8566478740897345, with 7 features, with MRMR\n"
     ]
    },
    {
     "name": "stderr",
     "output_type": "stream",
     "text": [
      "\r",
      " 67%|██████▋   | 8/12 [00:15<00:07,  2.00s/it]"
     ]
    },
    {
     "name": "stdout",
     "output_type": "stream",
     "text": [
      "Index(['temperature', 'dayOfTheWeek', 'hour', 'holiday', 'humidity', 'day',\n",
      "       'year', 'month'],\n",
      "      dtype='object')\n",
      "For 8 features: \n",
      " Accuracy: 0.8607386497294754 \n",
      " Precision: 0.8386329212391231 \n",
      " Recall: 0.8412505642465765 \n",
      " F1 score: 0.839828343382818\n",
      "best accuracy = 0.8607386497294754, with 8 features, with MRMR\n"
     ]
    },
    {
     "name": "stderr",
     "output_type": "stream",
     "text": [
      "\r",
      " 75%|███████▌  | 9/12 [00:17<00:06,  2.07s/it]"
     ]
    },
    {
     "name": "stdout",
     "output_type": "stream",
     "text": [
      "Index(['temperature', 'dayOfTheWeek', 'hour', 'holiday', 'humidity', 'day',\n",
      "       'year', 'month', 'pressure'],\n",
      "      dtype='object')\n",
      "For 9 features: \n",
      " Accuracy: 0.8682096584216725 \n",
      " Precision: 0.8470298046049264 \n",
      " Recall: 0.8489294957623548 \n",
      " F1 score: 0.847914679290714\n",
      "best accuracy = 0.8682096584216725, with 9 features, with MRMR\n"
     ]
    },
    {
     "name": "stderr",
     "output_type": "stream",
     "text": [
      "\r",
      " 83%|████████▎ | 10/12 [00:19<00:04,  2.15s/it]"
     ]
    },
    {
     "name": "stdout",
     "output_type": "stream",
     "text": [
      "Index(['temperature', 'dayOfTheWeek', 'hour', 'holiday', 'humidity', 'day',\n",
      "       'year', 'month', 'pressure', 'minute'],\n",
      "      dtype='object')\n",
      "For 10 features: \n",
      " Accuracy: 0.8503538570417551 \n",
      " Precision: 0.8252442238796531 \n",
      " Recall: 0.8283100168246242 \n",
      " F1 score: 0.8266474008389586\n",
      "best accuracy = 0.8682096584216725, with 9 features, with MRMR\n"
     ]
    },
    {
     "name": "stderr",
     "output_type": "stream",
     "text": [
      "\r",
      " 92%|█████████▏| 11/12 [00:22<00:02,  2.24s/it]"
     ]
    },
    {
     "name": "stdout",
     "output_type": "stream",
     "text": [
      "Index(['temperature', 'dayOfTheWeek', 'hour', 'holiday', 'humidity', 'day',\n",
      "       'year', 'month', 'pressure', 'minute', 'report'],\n",
      "      dtype='object')\n",
      "For 11 features: \n",
      " Accuracy: 0.8506850933144342 \n",
      " Precision: 0.8262711629134808 \n",
      " Recall: 0.8275451348023408 \n",
      " F1 score: 0.8268235678550325\n",
      "best accuracy = 0.8682096584216725, with 9 features, with MRMR\n"
     ]
    },
    {
     "name": "stderr",
     "output_type": "stream",
     "text": [
      "100%|██████████| 12/12 [00:24<00:00,  2.04s/it]"
     ]
    },
    {
     "name": "stdout",
     "output_type": "stream",
     "text": [
      "Index(['temperature', 'dayOfTheWeek', 'hour', 'holiday', 'humidity', 'day',\n",
      "       'year', 'month', 'pressure', 'minute', 'report'],\n",
      "      dtype='object')\n",
      "For 12 features: \n",
      " Accuracy: 0.8511237284125858 \n",
      " Precision: 0.8266188282620687 \n",
      " Recall: 0.8293046372190976 \n",
      " F1 score: 0.8278628793668295\n",
      "best accuracy = 0.8682096584216725, with 9 features, with MRMR\n",
      "best accuracy = 0.8682096584216725, with 9 features, with MRMR\n",
      "\n",
      " \n",
      "\n"
     ]
    },
    {
     "name": "stderr",
     "output_type": "stream",
     "text": [
      "\n"
     ]
    }
   ],
   "source": [
    "analizeDF(hp2,orderOE,13,n_loops=20)"
   ]
  },
  {
   "cell_type": "markdown",
   "id": "dd180803",
   "metadata": {},
   "source": [
    "## Hyper parameter tuning of Dicision Trees"
   ]
  },
  {
   "cell_type": "code",
   "execution_count": 63,
   "id": "7c260b3c",
   "metadata": {},
   "outputs": [],
   "source": [
    "crit=['gini', 'entropy']\n",
    "split=['best', 'random']\n",
    "max_d=[1,2,5,10,20,50,100,250,500,1000,2000,5000,10000]\n",
    "min_samp_split=[2,5,10,20,50,100]"
   ]
  },
  {
   "cell_type": "code",
   "execution_count": 58,
   "id": "1527a4c6",
   "metadata": {},
   "outputs": [],
   "source": [
    "def tuneDecisionT(X,Y,mu,crit,split,max_d,min_samp_split,loops):\n",
    "    arr = []\n",
    "    highest=0\n",
    "    for i in range(len(crit)):\n",
    "        for k in range(len(split)):\n",
    "            for a in range(len(max_d)):\n",
    "                for b in range(len(min_samp_split)):\n",
    "                    for l in range(loops):\n",
    "                        X_train, X_test, y_train, y_test = trainTest(X,Y)\n",
    "                        #Oversample the train dataset with SMOTE\n",
    "                        X_train_os, y_train_os=overSampling(X_train, y_train, y_test, smote)\n",
    "                        #define the variables order \n",
    "                        X_train_os_r = X_train_os[mu]\n",
    "                        X_test_r = X_test[mu]\n",
    "                        tree_clf = DecisionTreeClassifier(criterion=crit[i],\n",
    "                                                         splitter=split[k],\n",
    "                                                         max_depth=max_d[a],\n",
    "                                                         min_samples_split=min_samp_split[b])\n",
    "                        tree_clf.fit(X_train_os_r,y_train_os)\n",
    "                        y_pred=tree_clf.predict(X_test_r)\n",
    "                        score = accuracy_score(y_test, tree_clf.predict(X_test_r))\n",
    "                        arr.append(score)\n",
    "                    print(\"For the parameters crit:{}, split:{}, \"\n",
    "                          \"maxDep:{}, maxSamp:{} accuracy is:\".format(crit[i],\n",
    "                                                                     split[k],\n",
    "                                                                     max_d[a],\n",
    "                                                                     min_samp_split[b]))\n",
    "                    mean_acc=mean(arr)\n",
    "                    print(mean_acc)\n",
    "                    #check the best configuration\n",
    "                    if mean_acc > highest:\n",
    "                        highest = mean_acc\n",
    "                        description1 = \"-----------------Best values = crit:{}, split:{}, \".format(crit[i],\n",
    "                                                                                 split[k])\n",
    "                        description2= \" maxDep:{}, min_Samp:{} with accuracy: {}---------\".format(\n",
    "                                                                                 max_d[a],\n",
    "                                                                                 min_samp_split[b],\n",
    "                                                                                 mean_acc)\n",
    "                    else:\n",
    "                        highest = highest\n",
    "                    arr = []\n",
    "        print(description1+description2)"
   ]
  },
  {
   "cell_type": "code",
   "execution_count": 65,
   "id": "29710e59",
   "metadata": {
    "scrolled": true
   },
   "outputs": [
    {
     "name": "stdout",
     "output_type": "stream",
     "text": [
      "For the parameters crit:gini, split:best, maxDep:1, maxSamp:2 accuracy is:\n",
      "0.3408614668218859\n",
      "For the parameters crit:gini, split:best, maxDep:1, maxSamp:5 accuracy is:\n",
      "0.3407838571982926\n",
      "For the parameters crit:gini, split:best, maxDep:1, maxSamp:10 accuracy is:\n",
      "0.3414047341870392\n",
      "For the parameters crit:gini, split:best, maxDep:1, maxSamp:20 accuracy is:\n",
      "0.3477299185098952\n",
      "For the parameters crit:gini, split:best, maxDep:1, maxSamp:50 accuracy is:\n",
      "0.34229724485836244\n",
      "For the parameters crit:gini, split:best, maxDep:1, maxSamp:100 accuracy is:\n",
      "0.33554520760574313\n",
      "For the parameters crit:gini, split:best, maxDep:2, maxSamp:2 accuracy is:\n",
      "0.4991850989522701\n",
      "For the parameters crit:gini, split:best, maxDep:2, maxSamp:5 accuracy is:\n",
      "0.47411719053162593\n",
      "For the parameters crit:gini, split:best, maxDep:2, maxSamp:10 accuracy is:\n",
      "0.4449359720605355\n",
      "For the parameters crit:gini, split:best, maxDep:2, maxSamp:20 accuracy is:\n",
      "0.4647264260768335\n",
      "For the parameters crit:gini, split:best, maxDep:2, maxSamp:50 accuracy is:\n",
      "0.45669383003492436\n",
      "For the parameters crit:gini, split:best, maxDep:2, maxSamp:100 accuracy is:\n",
      "0.4374854481955763\n",
      "For the parameters crit:gini, split:best, maxDep:5, maxSamp:2 accuracy is:\n",
      "0.6450911913077222\n",
      "For the parameters crit:gini, split:best, maxDep:5, maxSamp:5 accuracy is:\n",
      "0.6400853705859527\n",
      "For the parameters crit:gini, split:best, maxDep:5, maxSamp:10 accuracy is:\n",
      "0.6391928599146294\n",
      "For the parameters crit:gini, split:best, maxDep:5, maxSamp:20 accuracy is:\n",
      "0.6391152502910361\n",
      "For the parameters crit:gini, split:best, maxDep:5, maxSamp:50 accuracy is:\n",
      "0.6326348467209935\n",
      "For the parameters crit:gini, split:best, maxDep:5, maxSamp:100 accuracy is:\n",
      "0.6378734963135428\n",
      "For the parameters crit:gini, split:best, maxDep:10, maxSamp:2 accuracy is:\n",
      "0.7939464493597206\n",
      "For the parameters crit:gini, split:best, maxDep:10, maxSamp:5 accuracy is:\n",
      "0.7991074893286768\n",
      "For the parameters crit:gini, split:best, maxDep:10, maxSamp:10 accuracy is:\n",
      "0.7925882809468374\n",
      "For the parameters crit:gini, split:best, maxDep:10, maxSamp:20 accuracy is:\n",
      "0.7895227008149011\n",
      "For the parameters crit:gini, split:best, maxDep:10, maxSamp:50 accuracy is:\n",
      "0.7707411719053162\n",
      "For the parameters crit:gini, split:best, maxDep:10, maxSamp:100 accuracy is:\n",
      "0.7573535118354676\n",
      "For the parameters crit:gini, split:best, maxDep:20, maxSamp:2 accuracy is:\n",
      "0.8680636398913465\n",
      "For the parameters crit:gini, split:best, maxDep:20, maxSamp:5 accuracy is:\n",
      "0.8623593325572371\n",
      "For the parameters crit:gini, split:best, maxDep:20, maxSamp:10 accuracy is:\n",
      "0.846371750097012\n",
      "For the parameters crit:gini, split:best, maxDep:20, maxSamp:20 accuracy is:\n",
      "0.8305005820721769\n",
      "For the parameters crit:gini, split:best, maxDep:20, maxSamp:50 accuracy is:\n",
      "0.8035312378734963\n",
      "For the parameters crit:gini, split:best, maxDep:20, maxSamp:100 accuracy is:\n",
      "0.7748544819557626\n",
      "For the parameters crit:gini, split:best, maxDep:50, maxSamp:2 accuracy is:\n",
      "0.8713232440822662\n",
      "For the parameters crit:gini, split:best, maxDep:50, maxSamp:5 accuracy is:\n",
      "0.8616608459448971\n",
      "For the parameters crit:gini, split:best, maxDep:50, maxSamp:10 accuracy is:\n",
      "0.8489716724873885\n",
      "For the parameters crit:gini, split:best, maxDep:50, maxSamp:20 accuracy is:\n",
      "0.8259604190919674\n",
      "For the parameters crit:gini, split:best, maxDep:50, maxSamp:50 accuracy is:\n",
      "0.8029491656965464\n",
      "For the parameters crit:gini, split:best, maxDep:50, maxSamp:100 accuracy is:\n",
      "0.7778424524641055\n",
      "For the parameters crit:gini, split:best, maxDep:100, maxSamp:2 accuracy is:\n",
      "0.8684904928211098\n",
      "For the parameters crit:gini, split:best, maxDep:100, maxSamp:5 accuracy is:\n",
      "0.863523476911137\n",
      "For the parameters crit:gini, split:best, maxDep:100, maxSamp:10 accuracy is:\n",
      "0.8514551804423749\n",
      "For the parameters crit:gini, split:best, maxDep:100, maxSamp:20 accuracy is:\n",
      "0.8298797050834303\n",
      "For the parameters crit:gini, split:best, maxDep:100, maxSamp:50 accuracy is:\n",
      "0.8016298020954599\n",
      "For the parameters crit:gini, split:best, maxDep:100, maxSamp:100 accuracy is:\n",
      "0.7739231664726426\n",
      "For the parameters crit:gini, split:best, maxDep:250, maxSamp:2 accuracy is:\n",
      "0.8708187815289096\n",
      "For the parameters crit:gini, split:best, maxDep:250, maxSamp:5 accuracy is:\n",
      "0.8655025223127668\n",
      "For the parameters crit:gini, split:best, maxDep:250, maxSamp:10 accuracy is:\n",
      "0.8512611563833915\n",
      "For the parameters crit:gini, split:best, maxDep:250, maxSamp:20 accuracy is:\n",
      "0.830966239813737\n",
      "For the parameters crit:gini, split:best, maxDep:250, maxSamp:50 accuracy is:\n",
      "0.803104384943733\n",
      "For the parameters crit:gini, split:best, maxDep:250, maxSamp:100 accuracy is:\n",
      "0.7735739231664727\n",
      "For the parameters crit:gini, split:best, maxDep:500, maxSamp:2 accuracy is:\n",
      "0.8659293752425301\n",
      "For the parameters crit:gini, split:best, maxDep:500, maxSamp:5 accuracy is:\n",
      "0.8679472254559566\n",
      "For the parameters crit:gini, split:best, maxDep:500, maxSamp:10 accuracy is:\n",
      "0.8466433837795887\n",
      "For the parameters crit:gini, split:best, maxDep:500, maxSamp:20 accuracy is:\n",
      "0.8325572370974\n",
      "For the parameters crit:gini, split:best, maxDep:500, maxSamp:50 accuracy is:\n",
      "0.802871556072953\n",
      "For the parameters crit:gini, split:best, maxDep:500, maxSamp:100 accuracy is:\n",
      "0.7779976717112922\n",
      "For the parameters crit:gini, split:best, maxDep:1000, maxSamp:2 accuracy is:\n",
      "0.8693441986806364\n",
      "For the parameters crit:gini, split:best, maxDep:1000, maxSamp:5 accuracy is:\n",
      "0.8611951882033372\n",
      "For the parameters crit:gini, split:best, maxDep:1000, maxSamp:10 accuracy is:\n",
      "0.8485060147458284\n",
      "For the parameters crit:gini, split:best, maxDep:1000, maxSamp:20 accuracy is:\n",
      "0.8302289483896004\n",
      "For the parameters crit:gini, split:best, maxDep:1000, maxSamp:50 accuracy is:\n",
      "0.8039192859914629\n",
      "For the parameters crit:gini, split:best, maxDep:1000, maxSamp:100 accuracy is:\n",
      "0.7734963135428793\n",
      "For the parameters crit:gini, split:best, maxDep:2000, maxSamp:2 accuracy is:\n",
      "0.8715948777648428\n",
      "For the parameters crit:gini, split:best, maxDep:2000, maxSamp:5 accuracy is:\n",
      "0.8642219635234769\n",
      "For the parameters crit:gini, split:best, maxDep:2000, maxSamp:10 accuracy is:\n",
      "0.8458284827318587\n",
      "For the parameters crit:gini, split:best, maxDep:2000, maxSamp:20 accuracy is:\n",
      "0.8289871944121071\n",
      "For the parameters crit:gini, split:best, maxDep:2000, maxSamp:50 accuracy is:\n",
      "0.8068296468762126\n",
      "For the parameters crit:gini, split:best, maxDep:2000, maxSamp:100 accuracy is:\n",
      "0.7764454792394258\n",
      "For the parameters crit:gini, split:best, maxDep:5000, maxSamp:2 accuracy is:\n",
      "0.8696934419868063\n",
      "For the parameters crit:gini, split:best, maxDep:5000, maxSamp:5 accuracy is:\n",
      "0.8642607683352735\n",
      "For the parameters crit:gini, split:best, maxDep:5000, maxSamp:10 accuracy is:\n",
      "0.8521924718665115\n",
      "For the parameters crit:gini, split:best, maxDep:5000, maxSamp:20 accuracy is:\n",
      "0.83325572370974\n",
      "For the parameters crit:gini, split:best, maxDep:5000, maxSamp:50 accuracy is:\n",
      "0.8060147458284828\n",
      "For the parameters crit:gini, split:best, maxDep:5000, maxSamp:100 accuracy is:\n",
      "0.7807140085370586\n",
      "For the parameters crit:gini, split:best, maxDep:10000, maxSamp:2 accuracy is:\n",
      "0.8671323244082266\n",
      "For the parameters crit:gini, split:best, maxDep:10000, maxSamp:5 accuracy is:\n",
      "0.8648816453240201\n",
      "For the parameters crit:gini, split:best, maxDep:10000, maxSamp:10 accuracy is:\n",
      "0.8452852153667054\n",
      "For the parameters crit:gini, split:best, maxDep:10000, maxSamp:20 accuracy is:\n",
      "0.8332945285215366\n",
      "For the parameters crit:gini, split:best, maxDep:10000, maxSamp:50 accuracy is:\n",
      "0.8056655025223127\n",
      "For the parameters crit:gini, split:best, maxDep:10000, maxSamp:100 accuracy is:\n",
      "0.7743112145906093\n",
      "For the parameters crit:gini, split:random, maxDep:1, maxSamp:2 accuracy is:\n",
      "0.4346138921226232\n",
      "For the parameters crit:gini, split:random, maxDep:1, maxSamp:5 accuracy is:\n",
      "0.4546759798214979\n",
      "For the parameters crit:gini, split:random, maxDep:1, maxSamp:10 accuracy is:\n",
      "0.44419868063639895\n",
      "For the parameters crit:gini, split:random, maxDep:1, maxSamp:20 accuracy is:\n",
      "0.4019790454016298\n",
      "For the parameters crit:gini, split:random, maxDep:1, maxSamp:50 accuracy is:\n",
      "0.3946449359720605\n",
      "For the parameters crit:gini, split:random, maxDep:1, maxSamp:100 accuracy is:\n",
      "0.4572370974000776\n",
      "For the parameters crit:gini, split:random, maxDep:2, maxSamp:2 accuracy is:\n",
      "0.42976329064804036\n"
     ]
    },
    {
     "name": "stdout",
     "output_type": "stream",
     "text": [
      "For the parameters crit:gini, split:random, maxDep:2, maxSamp:5 accuracy is:\n",
      "0.4426852929763291\n",
      "For the parameters crit:gini, split:random, maxDep:2, maxSamp:10 accuracy is:\n",
      "0.44253007372914244\n",
      "For the parameters crit:gini, split:random, maxDep:2, maxSamp:20 accuracy is:\n",
      "0.4674427629025999\n",
      "For the parameters crit:gini, split:random, maxDep:2, maxSamp:50 accuracy is:\n",
      "0.44447031431897555\n",
      "For the parameters crit:gini, split:random, maxDep:2, maxSamp:100 accuracy is:\n",
      "0.42599922390376405\n",
      "For the parameters crit:gini, split:random, maxDep:5, maxSamp:2 accuracy is:\n",
      "0.5706247574699262\n",
      "For the parameters crit:gini, split:random, maxDep:5, maxSamp:5 accuracy is:\n",
      "0.5574699262708576\n",
      "For the parameters crit:gini, split:random, maxDep:5, maxSamp:10 accuracy is:\n",
      "0.5682188591385332\n",
      "For the parameters crit:gini, split:random, maxDep:5, maxSamp:20 accuracy is:\n",
      "0.5620488940628638\n",
      "For the parameters crit:gini, split:random, maxDep:5, maxSamp:50 accuracy is:\n",
      "0.5580519984478075\n",
      "For the parameters crit:gini, split:random, maxDep:5, maxSamp:100 accuracy is:\n",
      "0.5422196352347691\n",
      "For the parameters crit:gini, split:random, maxDep:10, maxSamp:2 accuracy is:\n",
      "0.7481567714396585\n",
      "For the parameters crit:gini, split:random, maxDep:10, maxSamp:5 accuracy is:\n",
      "0.7524253007372914\n",
      "For the parameters crit:gini, split:random, maxDep:10, maxSamp:10 accuracy is:\n",
      "0.7471090415211487\n",
      "For the parameters crit:gini, split:random, maxDep:10, maxSamp:20 accuracy is:\n",
      "0.7322856034148234\n",
      "For the parameters crit:gini, split:random, maxDep:10, maxSamp:50 accuracy is:\n",
      "0.7150950717889019\n",
      "For the parameters crit:gini, split:random, maxDep:10, maxSamp:100 accuracy is:\n",
      "0.7064804035700427\n",
      "For the parameters crit:gini, split:random, maxDep:20, maxSamp:2 accuracy is:\n",
      "0.8705859526581295\n",
      "For the parameters crit:gini, split:random, maxDep:20, maxSamp:5 accuracy is:\n",
      "0.8620100892510671\n",
      "For the parameters crit:gini, split:random, maxDep:20, maxSamp:10 accuracy is:\n",
      "0.8375242530073729\n",
      "For the parameters crit:gini, split:random, maxDep:20, maxSamp:20 accuracy is:\n",
      "0.816569654637175\n",
      "For the parameters crit:gini, split:random, maxDep:20, maxSamp:50 accuracy is:\n",
      "0.7651920838183934\n",
      "For the parameters crit:gini, split:random, maxDep:20, maxSamp:100 accuracy is:\n",
      "0.7416375630578191\n",
      "For the parameters crit:gini, split:random, maxDep:50, maxSamp:2 accuracy is:\n",
      "0.8750873108265425\n",
      "For the parameters crit:gini, split:random, maxDep:50, maxSamp:5 accuracy is:\n",
      "0.8601862630966239\n",
      "For the parameters crit:gini, split:random, maxDep:50, maxSamp:10 accuracy is:\n",
      "0.8374466433837796\n",
      "For the parameters crit:gini, split:random, maxDep:50, maxSamp:20 accuracy is:\n",
      "0.8136592937524253\n",
      "For the parameters crit:gini, split:random, maxDep:50, maxSamp:50 accuracy is:\n",
      "0.7663562281722933\n",
      "For the parameters crit:gini, split:random, maxDep:50, maxSamp:100 accuracy is:\n",
      "0.7386107877376795\n",
      "For the parameters crit:gini, split:random, maxDep:100, maxSamp:2 accuracy is:\n",
      "0.8754753589445091\n",
      "For the parameters crit:gini, split:random, maxDep:100, maxSamp:5 accuracy is:\n",
      "0.8654637175009701\n",
      "For the parameters crit:gini, split:random, maxDep:100, maxSamp:10 accuracy is:\n",
      "0.8455956538610788\n",
      "For the parameters crit:gini, split:random, maxDep:100, maxSamp:20 accuracy is:\n",
      "0.812533954210322\n",
      "For the parameters crit:gini, split:random, maxDep:100, maxSamp:50 accuracy is:\n",
      "0.7716336825766394\n",
      "For the parameters crit:gini, split:random, maxDep:100, maxSamp:100 accuracy is:\n",
      "0.7440822662010089\n",
      "For the parameters crit:gini, split:random, maxDep:250, maxSamp:2 accuracy is:\n",
      "0.8738455568490493\n",
      "For the parameters crit:gini, split:random, maxDep:250, maxSamp:5 accuracy is:\n",
      "0.8587892898719441\n",
      "For the parameters crit:gini, split:random, maxDep:250, maxSamp:10 accuracy is:\n",
      "0.8436942180830423\n",
      "For the parameters crit:gini, split:random, maxDep:250, maxSamp:20 accuracy is:\n",
      "0.8169965075669383\n",
      "For the parameters crit:gini, split:random, maxDep:250, maxSamp:50 accuracy is:\n",
      "0.7755529685681024\n",
      "For the parameters crit:gini, split:random, maxDep:250, maxSamp:100 accuracy is:\n",
      "0.7373690337601863\n",
      "For the parameters crit:gini, split:random, maxDep:500, maxSamp:2 accuracy is:\n",
      "0.8735739231664726\n",
      "For the parameters crit:gini, split:random, maxDep:500, maxSamp:5 accuracy is:\n",
      "0.8603802871556073\n",
      "For the parameters crit:gini, split:random, maxDep:500, maxSamp:10 accuracy is:\n",
      "0.8410942956926659\n",
      "For the parameters crit:gini, split:random, maxDep:500, maxSamp:20 accuracy is:\n",
      "0.8178890182382615\n",
      "For the parameters crit:gini, split:random, maxDep:500, maxSamp:50 accuracy is:\n",
      "0.7637951105937136\n",
      "For the parameters crit:gini, split:random, maxDep:500, maxSamp:100 accuracy is:\n",
      "0.7278230500582072\n",
      "For the parameters crit:gini, split:random, maxDep:1000, maxSamp:2 accuracy is:\n",
      "0.8731082654249127\n",
      "For the parameters crit:gini, split:random, maxDep:1000, maxSamp:5 accuracy is:\n",
      "0.8644159875824602\n",
      "For the parameters crit:gini, split:random, maxDep:1000, maxSamp:10 accuracy is:\n",
      "0.8378346915017462\n",
      "For the parameters crit:gini, split:random, maxDep:1000, maxSamp:20 accuracy is:\n",
      "0.8150950717889018\n",
      "For the parameters crit:gini, split:random, maxDep:1000, maxSamp:50 accuracy is:\n",
      "0.773069460613116\n",
      "For the parameters crit:gini, split:random, maxDep:1000, maxSamp:100 accuracy is:\n",
      "0.7398525417151727\n",
      "For the parameters crit:gini, split:random, maxDep:2000, maxSamp:2 accuracy is:\n",
      "0.8721381451299961\n",
      "For the parameters crit:gini, split:random, maxDep:2000, maxSamp:5 accuracy is:\n",
      "0.8593713620488941\n",
      "For the parameters crit:gini, split:random, maxDep:2000, maxSamp:10 accuracy is:\n",
      "0.8419480015521925\n",
      "For the parameters crit:gini, split:random, maxDep:2000, maxSamp:20 accuracy is:\n",
      "0.8175009701202949\n",
      "For the parameters crit:gini, split:random, maxDep:2000, maxSamp:50 accuracy is:\n",
      "0.7637951105937136\n",
      "For the parameters crit:gini, split:random, maxDep:2000, maxSamp:100 accuracy is:\n",
      "0.7377958866899496\n",
      "For the parameters crit:gini, split:random, maxDep:5000, maxSamp:2 accuracy is:\n",
      "0.8755529685681025\n",
      "For the parameters crit:gini, split:random, maxDep:5000, maxSamp:5 accuracy is:\n",
      "0.8644159875824602\n",
      "For the parameters crit:gini, split:random, maxDep:5000, maxSamp:10 accuracy is:\n",
      "0.8420256111757858\n",
      "For the parameters crit:gini, split:random, maxDep:5000, maxSamp:20 accuracy is:\n",
      "0.8151726814124951\n",
      "For the parameters crit:gini, split:random, maxDep:5000, maxSamp:50 accuracy is:\n",
      "0.777337989910749\n",
      "For the parameters crit:gini, split:random, maxDep:5000, maxSamp:100 accuracy is:\n",
      "0.7339930151338766\n",
      "For the parameters crit:gini, split:random, maxDep:10000, maxSamp:2 accuracy is:\n",
      "0.8729918509895227\n",
      "For the parameters crit:gini, split:random, maxDep:10000, maxSamp:5 accuracy is:\n",
      "0.8616220411331005\n",
      "For the parameters crit:gini, split:random, maxDep:10000, maxSamp:10 accuracy is:\n",
      "0.8413271245634458\n",
      "For the parameters crit:gini, split:random, maxDep:10000, maxSamp:20 accuracy is:\n",
      "0.8117578579743888\n",
      "For the parameters crit:gini, split:random, maxDep:10000, maxSamp:50 accuracy is:\n",
      "0.7776872332169189\n",
      "For the parameters crit:gini, split:random, maxDep:10000, maxSamp:100 accuracy is:\n",
      "0.7416375630578191\n",
      "-----------------Best values = crit:gini, split:random,  maxDep:5000, min_Samp:2 with accuracy: 0.8755529685681025---------\n",
      "For the parameters crit:entropy, split:best, maxDep:1, maxSamp:2 accuracy is:\n",
      "0.34322856034148236\n",
      "For the parameters crit:entropy, split:best, maxDep:1, maxSamp:5 accuracy is:\n",
      "0.3332945285215367\n",
      "For the parameters crit:entropy, split:best, maxDep:1, maxSamp:10 accuracy is:\n",
      "0.34074505238649594\n",
      "For the parameters crit:entropy, split:best, maxDep:1, maxSamp:20 accuracy is:\n",
      "0.3377570818781529\n",
      "For the parameters crit:entropy, split:best, maxDep:1, maxSamp:50 accuracy is:\n",
      "0.33473030655801317\n",
      "For the parameters crit:entropy, split:best, maxDep:1, maxSamp:100 accuracy is:\n",
      "0.33643771827706637\n",
      "For the parameters crit:entropy, split:best, maxDep:2, maxSamp:2 accuracy is:\n",
      "0.42433061699650754\n",
      "For the parameters crit:entropy, split:best, maxDep:2, maxSamp:5 accuracy is:\n",
      "0.41214590609235546\n",
      "For the parameters crit:entropy, split:best, maxDep:2, maxSamp:10 accuracy is:\n",
      "0.41117578579743885\n",
      "For the parameters crit:entropy, split:best, maxDep:2, maxSamp:20 accuracy is:\n",
      "0.40954598370197903\n",
      "For the parameters crit:entropy, split:best, maxDep:2, maxSamp:50 accuracy is:\n",
      "0.4139309274350019\n"
     ]
    },
    {
     "name": "stdout",
     "output_type": "stream",
     "text": [
      "For the parameters crit:entropy, split:best, maxDep:2, maxSamp:100 accuracy is:\n",
      "0.41571594877764845\n",
      "For the parameters crit:entropy, split:best, maxDep:5, maxSamp:2 accuracy is:\n",
      "0.6249126891734575\n",
      "For the parameters crit:entropy, split:best, maxDep:5, maxSamp:5 accuracy is:\n",
      "0.6259992239037641\n",
      "For the parameters crit:entropy, split:best, maxDep:5, maxSamp:10 accuracy is:\n",
      "0.6308886301901435\n",
      "For the parameters crit:entropy, split:best, maxDep:5, maxSamp:20 accuracy is:\n",
      "0.623476911136981\n",
      "For the parameters crit:entropy, split:best, maxDep:5, maxSamp:50 accuracy is:\n",
      "0.6240977881257276\n",
      "For the parameters crit:entropy, split:best, maxDep:5, maxSamp:100 accuracy is:\n",
      "0.6189367481567715\n",
      "For the parameters crit:entropy, split:best, maxDep:10, maxSamp:2 accuracy is:\n",
      "0.7868063639891346\n",
      "For the parameters crit:entropy, split:best, maxDep:10, maxSamp:5 accuracy is:\n",
      "0.7889406286379511\n",
      "For the parameters crit:entropy, split:best, maxDep:10, maxSamp:10 accuracy is:\n",
      "0.7786573535118355\n",
      "For the parameters crit:entropy, split:best, maxDep:10, maxSamp:20 accuracy is:\n",
      "0.7783081102056655\n",
      "For the parameters crit:entropy, split:best, maxDep:10, maxSamp:50 accuracy is:\n",
      "0.7665114474194801\n",
      "For the parameters crit:entropy, split:best, maxDep:10, maxSamp:100 accuracy is:\n",
      "0.7568878540939077\n",
      "For the parameters crit:entropy, split:best, maxDep:20, maxSamp:2 accuracy is:\n",
      "0.8673651532790065\n",
      "For the parameters crit:entropy, split:best, maxDep:20, maxSamp:5 accuracy is:\n",
      "0.8602250679084207\n",
      "For the parameters crit:entropy, split:best, maxDep:20, maxSamp:10 accuracy is:\n",
      "0.8502134264648816\n",
      "For the parameters crit:entropy, split:best, maxDep:20, maxSamp:20 accuracy is:\n",
      "0.8315483119906868\n",
      "For the parameters crit:entropy, split:best, maxDep:20, maxSamp:50 accuracy is:\n",
      "0.8025223127667831\n",
      "For the parameters crit:entropy, split:best, maxDep:20, maxSamp:100 accuracy is:\n",
      "0.7757081878152892\n",
      "For the parameters crit:entropy, split:best, maxDep:50, maxSamp:2 accuracy is:\n",
      "0.8691501746216531\n",
      "For the parameters crit:entropy, split:best, maxDep:50, maxSamp:5 accuracy is:\n",
      "0.8620488940628638\n",
      "For the parameters crit:entropy, split:best, maxDep:50, maxSamp:10 accuracy is:\n",
      "0.8511059371362049\n",
      "For the parameters crit:entropy, split:best, maxDep:50, maxSamp:20 accuracy is:\n",
      "0.8347691113698099\n",
      "For the parameters crit:entropy, split:best, maxDep:50, maxSamp:50 accuracy is:\n",
      "0.79941792782305\n",
      "For the parameters crit:entropy, split:best, maxDep:50, maxSamp:100 accuracy is:\n",
      "0.7712456344586729\n",
      "For the parameters crit:entropy, split:best, maxDep:100, maxSamp:2 accuracy is:\n",
      "0.8732246798603027\n",
      "For the parameters crit:entropy, split:best, maxDep:100, maxSamp:5 accuracy is:\n",
      "0.8603414823438106\n",
      "For the parameters crit:entropy, split:best, maxDep:100, maxSamp:10 accuracy is:\n",
      "0.8514551804423749\n",
      "For the parameters crit:entropy, split:best, maxDep:100, maxSamp:20 accuracy is:\n",
      "0.8318587504850601\n",
      "For the parameters crit:entropy, split:best, maxDep:100, maxSamp:50 accuracy is:\n",
      "0.8103220799379123\n",
      "For the parameters crit:entropy, split:best, maxDep:100, maxSamp:100 accuracy is:\n",
      "0.7750485060147458\n",
      "For the parameters crit:entropy, split:best, maxDep:250, maxSamp:2 accuracy is:\n",
      "0.873302289483896\n",
      "For the parameters crit:entropy, split:best, maxDep:250, maxSamp:5 accuracy is:\n",
      "0.86662786185487\n",
      "For the parameters crit:entropy, split:best, maxDep:250, maxSamp:10 accuracy is:\n",
      "0.8506402793946449\n",
      "For the parameters crit:entropy, split:best, maxDep:250, maxSamp:20 accuracy is:\n",
      "0.8285991462941404\n",
      "For the parameters crit:entropy, split:best, maxDep:250, maxSamp:50 accuracy is:\n",
      "0.7963135428793171\n",
      "For the parameters crit:entropy, split:best, maxDep:250, maxSamp:100 accuracy is:\n",
      "0.7640279394644935\n",
      "For the parameters crit:entropy, split:best, maxDep:500, maxSamp:2 accuracy is:\n",
      "0.8718277066356228\n",
      "For the parameters crit:entropy, split:best, maxDep:500, maxSamp:5 accuracy is:\n",
      "0.8680636398913465\n",
      "For the parameters crit:entropy, split:best, maxDep:500, maxSamp:10 accuracy is:\n",
      "0.849941792782305\n",
      "For the parameters crit:entropy, split:best, maxDep:500, maxSamp:20 accuracy is:\n",
      "0.8299961195188204\n",
      "For the parameters crit:entropy, split:best, maxDep:500, maxSamp:50 accuracy is:\n",
      "0.8047729918509895\n",
      "For the parameters crit:entropy, split:best, maxDep:500, maxSamp:100 accuracy is:\n",
      "0.7706247574699263\n",
      "For the parameters crit:entropy, split:best, maxDep:1000, maxSamp:2 accuracy is:\n",
      "0.8747380675203725\n",
      "For the parameters crit:entropy, split:best, maxDep:1000, maxSamp:5 accuracy is:\n",
      "0.8653473030655802\n",
      "For the parameters crit:entropy, split:best, maxDep:1000, maxSamp:10 accuracy is:\n",
      "0.8517268141249515\n",
      "For the parameters crit:entropy, split:best, maxDep:1000, maxSamp:20 accuracy is:\n",
      "0.83395421032208\n",
      "For the parameters crit:entropy, split:best, maxDep:1000, maxSamp:50 accuracy is:\n",
      "0.8046177726038028\n",
      "For the parameters crit:entropy, split:best, maxDep:1000, maxSamp:100 accuracy is:\n",
      "0.7793170353123787\n",
      "For the parameters crit:entropy, split:best, maxDep:2000, maxSamp:2 accuracy is:\n",
      "0.8734963135428793\n",
      "For the parameters crit:entropy, split:best, maxDep:2000, maxSamp:5 accuracy is:\n",
      "0.8632518432285603\n",
      "For the parameters crit:entropy, split:best, maxDep:2000, maxSamp:10 accuracy is:\n",
      "0.8515327900659682\n",
      "For the parameters crit:entropy, split:best, maxDep:2000, maxSamp:20 accuracy is:\n",
      "0.8303453628249903\n",
      "For the parameters crit:entropy, split:best, maxDep:2000, maxSamp:50 accuracy is:\n",
      "0.8039968956150563\n",
      "For the parameters crit:entropy, split:best, maxDep:2000, maxSamp:100 accuracy is:\n",
      "0.7746992627085758\n",
      "For the parameters crit:entropy, split:best, maxDep:5000, maxSamp:2 accuracy is:\n",
      "0.8709351959642996\n",
      "For the parameters crit:entropy, split:best, maxDep:5000, maxSamp:5 accuracy is:\n",
      "0.8663174233604967\n",
      "For the parameters crit:entropy, split:best, maxDep:5000, maxSamp:10 accuracy is:\n",
      "0.8512611563833915\n",
      "For the parameters crit:entropy, split:best, maxDep:5000, maxSamp:20 accuracy is:\n",
      "0.830849825378347\n",
      "For the parameters crit:entropy, split:best, maxDep:5000, maxSamp:50 accuracy is:\n",
      "0.8048117966627862\n",
      "For the parameters crit:entropy, split:best, maxDep:5000, maxSamp:100 accuracy is:\n",
      "0.769383003492433\n",
      "For the parameters crit:entropy, split:best, maxDep:10000, maxSamp:2 accuracy is:\n",
      "0.8684128831975165\n",
      "For the parameters crit:entropy, split:best, maxDep:10000, maxSamp:5 accuracy is:\n",
      "0.8638339154055102\n",
      "For the parameters crit:entropy, split:best, maxDep:10000, maxSamp:10 accuracy is:\n",
      "0.850291036088475\n",
      "For the parameters crit:entropy, split:best, maxDep:10000, maxSamp:20 accuracy is:\n",
      "0.8322467986030267\n",
      "For the parameters crit:entropy, split:best, maxDep:10000, maxSamp:50 accuracy is:\n",
      "0.8037252619324796\n",
      "For the parameters crit:entropy, split:best, maxDep:10000, maxSamp:100 accuracy is:\n",
      "0.7764454792394256\n",
      "For the parameters crit:entropy, split:random, maxDep:1, maxSamp:2 accuracy is:\n",
      "0.37198292588280946\n",
      "For the parameters crit:entropy, split:random, maxDep:1, maxSamp:5 accuracy is:\n",
      "0.3978657353511835\n",
      "For the parameters crit:entropy, split:random, maxDep:1, maxSamp:10 accuracy is:\n",
      "0.3835079549864183\n",
      "For the parameters crit:entropy, split:random, maxDep:1, maxSamp:20 accuracy is:\n",
      "0.43019014357780366\n",
      "For the parameters crit:entropy, split:random, maxDep:1, maxSamp:50 accuracy is:\n",
      "0.42925882809468374\n",
      "For the parameters crit:entropy, split:random, maxDep:1, maxSamp:100 accuracy is:\n",
      "0.39883585564610013\n",
      "For the parameters crit:entropy, split:random, maxDep:2, maxSamp:2 accuracy is:\n",
      "0.4675203725261933\n",
      "For the parameters crit:entropy, split:random, maxDep:2, maxSamp:5 accuracy is:\n",
      "0.4582848273185875\n",
      "For the parameters crit:entropy, split:random, maxDep:2, maxSamp:10 accuracy is:\n",
      "0.47419480015521925\n",
      "For the parameters crit:entropy, split:random, maxDep:2, maxSamp:20 accuracy is:\n",
      "0.4311602638727202\n",
      "For the parameters crit:entropy, split:random, maxDep:2, maxSamp:50 accuracy is:\n",
      "0.4210710128055879\n",
      "For the parameters crit:entropy, split:random, maxDep:2, maxSamp:100 accuracy is:\n",
      "0.4319363601086535\n",
      "For the parameters crit:entropy, split:random, maxDep:5, maxSamp:2 accuracy is:\n",
      "0.5518432285603415\n",
      "For the parameters crit:entropy, split:random, maxDep:5, maxSamp:5 accuracy is:\n",
      "0.5436554132712457\n",
      "For the parameters crit:entropy, split:random, maxDep:5, maxSamp:10 accuracy is:\n",
      "0.5495537446643384\n",
      "For the parameters crit:entropy, split:random, maxDep:5, maxSamp:20 accuracy is:\n",
      "0.5710904152114863\n"
     ]
    },
    {
     "name": "stdout",
     "output_type": "stream",
     "text": [
      "For the parameters crit:entropy, split:random, maxDep:5, maxSamp:50 accuracy is:\n",
      "0.5610011641443539\n",
      "For the parameters crit:entropy, split:random, maxDep:5, maxSamp:100 accuracy is:\n",
      "0.5570042685292976\n",
      "For the parameters crit:entropy, split:random, maxDep:10, maxSamp:2 accuracy is:\n",
      "0.7352735739231665\n",
      "For the parameters crit:entropy, split:random, maxDep:10, maxSamp:5 accuracy is:\n",
      "0.740046565774156\n",
      "For the parameters crit:entropy, split:random, maxDep:10, maxSamp:10 accuracy is:\n",
      "0.7387272021730694\n",
      "For the parameters crit:entropy, split:random, maxDep:10, maxSamp:20 accuracy is:\n",
      "0.7324020178502134\n",
      "For the parameters crit:entropy, split:random, maxDep:10, maxSamp:50 accuracy is:\n",
      "0.7166084594489717\n",
      "For the parameters crit:entropy, split:random, maxDep:10, maxSamp:100 accuracy is:\n",
      "0.7074117190531626\n",
      "For the parameters crit:entropy, split:random, maxDep:20, maxSamp:2 accuracy is:\n",
      "0.8714396585176561\n",
      "For the parameters crit:entropy, split:random, maxDep:20, maxSamp:5 accuracy is:\n",
      "0.8586340706247575\n",
      "For the parameters crit:entropy, split:random, maxDep:20, maxSamp:10 accuracy is:\n",
      "0.8383391540551028\n",
      "For the parameters crit:entropy, split:random, maxDep:20, maxSamp:20 accuracy is:\n",
      "0.8147070236709352\n",
      "For the parameters crit:entropy, split:random, maxDep:20, maxSamp:50 accuracy is:\n",
      "0.7714008537058595\n",
      "For the parameters crit:entropy, split:random, maxDep:20, maxSamp:100 accuracy is:\n",
      "0.7341870391928599\n",
      "For the parameters crit:entropy, split:random, maxDep:50, maxSamp:2 accuracy is:\n",
      "0.8784633294528522\n",
      "For the parameters crit:entropy, split:random, maxDep:50, maxSamp:5 accuracy is:\n",
      "0.8594877764842841\n",
      "For the parameters crit:entropy, split:random, maxDep:50, maxSamp:10 accuracy is:\n",
      "0.8389988358556462\n",
      "For the parameters crit:entropy, split:random, maxDep:50, maxSamp:20 accuracy is:\n",
      "0.8137757081878153\n",
      "For the parameters crit:entropy, split:random, maxDep:50, maxSamp:50 accuracy is:\n",
      "0.7729530461777261\n",
      "For the parameters crit:entropy, split:random, maxDep:50, maxSamp:100 accuracy is:\n",
      "0.7378734963135428\n",
      "For the parameters crit:entropy, split:random, maxDep:100, maxSamp:2 accuracy is:\n",
      "0.872603802871556\n",
      "For the parameters crit:entropy, split:random, maxDep:100, maxSamp:5 accuracy is:\n",
      "0.8642219635234769\n",
      "For the parameters crit:entropy, split:random, maxDep:100, maxSamp:10 accuracy is:\n",
      "0.8411331005044625\n",
      "For the parameters crit:entropy, split:random, maxDep:100, maxSamp:20 accuracy is:\n",
      "0.8152890958478851\n",
      "For the parameters crit:entropy, split:random, maxDep:100, maxSamp:50 accuracy is:\n",
      "0.7722157547535895\n",
      "For the parameters crit:entropy, split:random, maxDep:100, maxSamp:100 accuracy is:\n",
      "0.7467597982149786\n",
      "For the parameters crit:entropy, split:random, maxDep:250, maxSamp:2 accuracy is:\n",
      "0.8755529685681025\n",
      "For the parameters crit:entropy, split:random, maxDep:250, maxSamp:5 accuracy is:\n",
      "0.8653084982537835\n",
      "For the parameters crit:entropy, split:random, maxDep:250, maxSamp:10 accuracy is:\n",
      "0.839697322467986\n",
      "For the parameters crit:entropy, split:random, maxDep:250, maxSamp:20 accuracy is:\n",
      "0.8121071012805587\n",
      "For the parameters crit:entropy, split:random, maxDep:250, maxSamp:50 accuracy is:\n",
      "0.7749708963911525\n",
      "For the parameters crit:entropy, split:random, maxDep:250, maxSamp:100 accuracy is:\n",
      "0.7423748544819557\n",
      "For the parameters crit:entropy, split:random, maxDep:500, maxSamp:2 accuracy is:\n",
      "0.8788901823826154\n",
      "For the parameters crit:entropy, split:random, maxDep:500, maxSamp:5 accuracy is:\n",
      "0.860419091967404\n",
      "For the parameters crit:entropy, split:random, maxDep:500, maxSamp:10 accuracy is:\n",
      "0.8415211486224292\n",
      "For the parameters crit:entropy, split:random, maxDep:500, maxSamp:20 accuracy is:\n",
      "0.8116414435389988\n",
      "For the parameters crit:entropy, split:random, maxDep:500, maxSamp:50 accuracy is:\n",
      "0.7761738455568491\n",
      "For the parameters crit:entropy, split:random, maxDep:500, maxSamp:100 accuracy is:\n",
      "0.7313930927435002\n",
      "For the parameters crit:entropy, split:random, maxDep:1000, maxSamp:2 accuracy is:\n",
      "0.8754753589445091\n",
      "For the parameters crit:entropy, split:random, maxDep:1000, maxSamp:5 accuracy is:\n",
      "0.8640279394644936\n",
      "For the parameters crit:entropy, split:random, maxDep:1000, maxSamp:10 accuracy is:\n",
      "0.8372526193247962\n",
      "For the parameters crit:entropy, split:random, maxDep:1000, maxSamp:20 accuracy is:\n",
      "0.816220411331005\n",
      "For the parameters crit:entropy, split:random, maxDep:1000, maxSamp:50 accuracy is:\n",
      "0.7751649204501359\n",
      "For the parameters crit:entropy, split:random, maxDep:1000, maxSamp:100 accuracy is:\n",
      "0.7356228172293364\n",
      "For the parameters crit:entropy, split:random, maxDep:2000, maxSamp:2 accuracy is:\n",
      "0.8777648428405123\n",
      "For the parameters crit:entropy, split:random, maxDep:2000, maxSamp:5 accuracy is:\n",
      "0.8638339154055104\n",
      "For the parameters crit:entropy, split:random, maxDep:2000, maxSamp:10 accuracy is:\n",
      "0.842918121847109\n",
      "For the parameters crit:entropy, split:random, maxDep:2000, maxSamp:20 accuracy is:\n",
      "0.8135040745052387\n",
      "For the parameters crit:entropy, split:random, maxDep:2000, maxSamp:50 accuracy is:\n",
      "0.7690725649980598\n",
      "For the parameters crit:entropy, split:random, maxDep:2000, maxSamp:100 accuracy is:\n",
      "0.7388048117966628\n",
      "For the parameters crit:entropy, split:random, maxDep:5000, maxSamp:2 accuracy is:\n",
      "0.8767947225455957\n",
      "For the parameters crit:entropy, split:random, maxDep:5000, maxSamp:5 accuracy is:\n",
      "0.860069848661234\n",
      "For the parameters crit:entropy, split:random, maxDep:5000, maxSamp:10 accuracy is:\n",
      "0.8409002716336825\n",
      "For the parameters crit:entropy, split:random, maxDep:5000, maxSamp:20 accuracy is:\n",
      "0.8112922002328289\n",
      "For the parameters crit:entropy, split:random, maxDep:5000, maxSamp:50 accuracy is:\n",
      "0.7714008537058595\n",
      "For the parameters crit:entropy, split:random, maxDep:5000, maxSamp:100 accuracy is:\n",
      "0.7422584400465658\n",
      "For the parameters crit:entropy, split:random, maxDep:10000, maxSamp:2 accuracy is:\n",
      "0.873302289483896\n",
      "For the parameters crit:entropy, split:random, maxDep:10000, maxSamp:5 accuracy is:\n",
      "0.8613504074505238\n",
      "For the parameters crit:entropy, split:random, maxDep:10000, maxSamp:10 accuracy is:\n",
      "0.8410554908808692\n",
      "For the parameters crit:entropy, split:random, maxDep:10000, maxSamp:20 accuracy is:\n",
      "0.8137369033760187\n",
      "For the parameters crit:entropy, split:random, maxDep:10000, maxSamp:50 accuracy is:\n",
      "0.7809080325960419\n",
      "For the parameters crit:entropy, split:random, maxDep:10000, maxSamp:100 accuracy is:\n",
      "0.7461001164144354\n",
      "-----------------Best values = crit:entropy, split:random,  maxDep:500, min_Samp:2 with accuracy: 0.8788901823826154---------\n"
     ]
    }
   ],
   "source": [
    "X,Y=getXandY(hp_oHe)\n",
    "mu = ['day',\t'temperature',\t'month',\t'humidity',\t'hour',\t'pressure','dayOfTheWeek']\n",
    "loops=10\n",
    "tuneDecisionT(X,Y,mu,crit,split,max_d,min_samp_split,loops)"
   ]
  }
 ],
 "metadata": {
  "kernelspec": {
   "display_name": "Python 3 (ipykernel)",
   "language": "python",
   "name": "python3"
  },
  "language_info": {
   "codemirror_mode": {
    "name": "ipython",
    "version": 3
   },
   "file_extension": ".py",
   "mimetype": "text/x-python",
   "name": "python",
   "nbconvert_exporter": "python",
   "pygments_lexer": "ipython3",
   "version": "3.9.12"
  }
 },
 "nbformat": 4,
 "nbformat_minor": 5
}
