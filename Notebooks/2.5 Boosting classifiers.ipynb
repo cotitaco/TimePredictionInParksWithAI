{
 "cells": [
  {
   "cell_type": "markdown",
   "id": "f007b4b1",
   "metadata": {},
   "source": [
    "# Boosting Classifiers"
   ]
  },
  {
   "cell_type": "code",
   "execution_count": 13,
   "id": "aff559c4",
   "metadata": {},
   "outputs": [],
   "source": [
    "import pandas as pd\n",
    "import numpy as np\n",
    "import matplotlib as plt\n",
    "from collections import Counter\n",
    "from sklearn.model_selection import train_test_split\n",
    "from imblearn.over_sampling import SMOTE\n",
    "from sklearn import metrics\n",
    "from sklearn.metrics import classification_report\n",
    "from statistics import mean\n",
    "import math\n",
    "import warnings\n",
    "warnings.filterwarnings('ignore')\n",
    "from sklearn.metrics import recall_score, accuracy_score\n",
    "\n",
    "from sklearn.tree import DecisionTreeClassifier\n",
    "from sklearn.ensemble import RandomForestClassifier \n",
    "from sklearn.ensemble import GradientBoostingClassifier\n",
    "from sklearn.ensemble import AdaBoostClassifier"
   ]
  },
  {
   "cell_type": "code",
   "execution_count": 2,
   "id": "7ff928fa",
   "metadata": {},
   "outputs": [],
   "source": [
    "hp_oHe = pd.read_csv('HP_OHE_3class.csv')\n",
    "hp_oHe.drop(hp_oHe.tail(17).index,inplace=True) \n",
    "hp_oHe = hp_oHe.drop('Unnamed: 0',axis=1)\n",
    "\n",
    "hp_ME = pd.read_csv(\"harryPotterClean.csv\")\n",
    "hp_ME.drop(hp_ME.tail(17).index,inplace=True) \n",
    "hp_ME = hp_ME.drop('Unnamed: 0',axis=1)\n",
    "\n",
    "hp_OE = pd.read_csv(\"harryPotterCleanOE.csv\")\n",
    "hp_OE.drop(hp_OE.tail(17).index,inplace=True) \n",
    "hp_OE = hp_OE.drop('Unnamed: 0',axis=1)"
   ]
  },
  {
   "cell_type": "code",
   "execution_count": 3,
   "id": "115f6b28",
   "metadata": {},
   "outputs": [],
   "source": [
    "def getXandY(df):\n",
    "    df.drop(df.tail(20).index,inplace=True) \n",
    "    x = df.drop(['HP_Forbidden_clean'],axis=1)\n",
    "    y = df.HP_Forbidden_clean\n",
    "    return(x,y)\n",
    "\n",
    "def trainTest(x,y):\n",
    "    X_train, X_test, y_train, y_test = train_test_split(x, y, test_size=0.30, shuffle=True)\n",
    "    return(X_train, X_test, y_train, y_test)\n",
    "\n",
    "#Function to perform oversampling\n",
    "def overSampling(X_train, y_train, y_test, method):\n",
    "    X_train_os, y_train_os= method.fit_resample(X_train, y_train)\n",
    "    # Check the number of records after over sampling\n",
    "    #print(sorted(Counter(y_train_os).items())) \n",
    "    return(X_train_os, y_train_os)\n",
    "\n",
    "smote = SMOTE(random_state=42)\n",
    "\n",
    "\n",
    "def testModel(df,var_order,n_vars,n_loops,method):\n",
    "    highest = 0\n",
    "    for j in tqdm(range(1,n_vars)):\n",
    "        #split our dataframe into X and Y\n",
    "        x,y=getXandY(df)\n",
    "        #create the lists to store metrics\n",
    "        acc = []\n",
    "        rec = []\n",
    "        preci = []\n",
    "        f1 = []\n",
    "        for i in range(n_loops):\n",
    "            #split the dataFrame into test and train\n",
    "            X_train, X_test, y_train, y_test = trainTest(x,y)\n",
    "            #Oversample the train dataset with SMOTE\n",
    "            X_train_os, y_train_os=overSampling(X_train, y_train, y_test, smote)\n",
    "            #define the variables order \n",
    "            X_train_os_r = X_train_os[var_order]\n",
    "            X_test_r = X_test[var_order]\n",
    "            df1= X_train_os_r.iloc[:, 0:j] #use only part of the variables\n",
    "            \n",
    "            #create and train decision trees\n",
    "            rnd_clf = RandomForestClassifier(n_jobs=-1)\n",
    "            rnd_clf.fit(df1, y_train_os)\n",
    "        \n",
    "            y_pred=rnd_clf.predict(X_test_r.iloc[:, 0:j])\n",
    "            ac=metrics.accuracy_score(y_test, y_pred)\n",
    "            acc.append(ac)\n",
    "            p=metrics.precision_score(y_test, y_pred,average='macro')\n",
    "            preci.append(p)\n",
    "            r=metrics.recall_score(y_test, y_pred,average='macro')\n",
    "            rec.append(r)\n",
    "            f=metrics.f1_score(y_test, y_pred, average='macro')\n",
    "            f1.append(f)\n",
    "        print(df1.columns)\n",
    "        print(\"For {} features: \\n Accuracy: {} \\n Precision: {} \\n Recall: {} \\n F1 score: {}\".format(\n",
    "        j,mean(acc),mean(preci),mean(rec),mean(f1)))\n",
    "        \n",
    "        if mean(acc)>highest:\n",
    "            highest = mean(acc)\n",
    "            best = \"best accuracy = {}, with {} features, with {}\".format(mean(acc),j,method)\n",
    "        print(best)\n",
    "        #print(classification_report(y_test, y_pred))\n",
    "    print(best)\n",
    "        \n",
    "def analizeDF(df,order,n_vars,n_loops):\n",
    "    for i in range(len(order)):\n",
    "        print('------------------------- Analyzing method {} -------------------------'.format(method[i]))\n",
    "        print('The variable order is: \\n {}'.format(order[i]))\n",
    "        testModel(df,order[i],n_vars,n_loops,method[i])\n",
    "        print('\\n \\n')"
   ]
  },
  {
   "cell_type": "markdown",
   "id": "8542cb47",
   "metadata": {},
   "source": [
    "## Creating Ada Boosting classifier"
   ]
  },
  {
   "cell_type": "markdown",
   "id": "9bcc7981",
   "metadata": {},
   "source": [
    "### Ada Boosting on Decision Trees"
   ]
  },
  {
   "cell_type": "code",
   "execution_count": 58,
   "id": "cc1d2f04",
   "metadata": {},
   "outputs": [
    {
     "name": "stdout",
     "output_type": "stream",
     "text": [
      "accuracy for base model decision tree is: 0.8693118134947321\n",
      "accuracy for adaBoost with base as decision tree is: 0.887020847343645\n"
     ]
    }
   ],
   "source": [
    "mu = ['day',\t'temperature',\t'month',\t'humidity',\t'hour',\t'pressure','dayOfTheWeek']\n",
    "\n",
    "x,y=getXandY(hp_oHe)\n",
    "#split the dataFrame into test and train\n",
    "X_train, X_test, y_train, y_test = trainTest(x,y)\n",
    "#Oversample the train dataset with SMOTE\n",
    "X_train_os, y_train_os=overSampling(X_train, y_train, y_test, smote)\n",
    "#define the variables order \n",
    "X_train_os_r = X_train_os[mu]\n",
    "X_test_r = X_test[mu]\n",
    "\n",
    "# Single decision tree\n",
    "dt = DecisionTreeClassifier(max_depth=600)\n",
    "dt.fit(X_train_os_r,y_train_os)\n",
    "y_pred=dt.predict(X_test_r)\n",
    "print(\"accuracy for base model decision tree is: {}\".format(metrics.accuracy_score(y_test, y_pred)))\n",
    "\n",
    "# Ensemble AdaBoost with decision tree as base learner \n",
    "adaB_class = AdaBoostClassifier(DecisionTreeClassifier(max_depth=600), n_estimators=700, learning_rate=0.9)\n",
    "adaB_class.fit(X_train_os_r,y_train_os)\n",
    "y_pred=adaB_class.predict(X_test_r)\n",
    "ac=metrics.accuracy_score(y_test, y_pred)\n",
    "print(\"accuracy for adaBoost with base as decision tree is: {}\".format(metrics.accuracy_score(y_test, y_pred)))"
   ]
  },
  {
   "cell_type": "code",
   "execution_count": 59,
   "id": "296c790c",
   "metadata": {},
   "outputs": [
    {
     "name": "stdout",
     "output_type": "stream",
     "text": [
      "accuracy for base model decision tree is: 0.868013468013468\n",
      "accuracy for adaBoost with base as decision tree is: 0.8774410774410775\n"
     ]
    }
   ],
   "source": [
    "mu = ['day',\t'temperature',\t'month',\t'humidity',\t'hour',\t'pressure','dayOfTheWeek']\n",
    "\n",
    "x,y=getXandY(hp_oHe)\n",
    "#split the dataFrame into test and train\n",
    "X_train, X_test, y_train, y_test = trainTest(x,y)\n",
    "#Oversample the train dataset with SMOTE\n",
    "X_train_os, y_train_os=overSampling(X_train, y_train, y_test, smote)\n",
    "#define the variables order \n",
    "X_train_os_r = X_train_os[mu]\n",
    "X_test_r = X_test[mu]\n",
    "\n",
    "dt = DecisionTreeClassifier(criterion='entropy', splitter='random',  max_depth=500, min_samples_split=2)\n",
    "dt.fit(X_train_os_r,y_train_os)\n",
    "y_pred=dt.predict(X_test_r)\n",
    "print(\"accuracy for base model decision tree is: {}\".format(metrics.accuracy_score(y_test, y_pred)))\n",
    "       \n",
    "adaB_class = AdaBoostClassifier(dt, n_estimators=700, learning_rate=0.9)\n",
    "adaB_class.fit(X_train_os_r,y_train_os)\n",
    "y_pred=adaB_class.predict(X_test_r)\n",
    "ac=metrics.accuracy_score(y_test, y_pred)\n",
    "print(\"accuracy for adaBoost with base as decision tree is: {}\".format(metrics.accuracy_score(y_test, y_pred)))"
   ]
  },
  {
   "cell_type": "markdown",
   "id": "a5a93495",
   "metadata": {},
   "source": [
    "### Random Forest"
   ]
  },
  {
   "cell_type": "code",
   "execution_count": 61,
   "id": "fefbb10d",
   "metadata": {},
   "outputs": [
    {
     "name": "stdout",
     "output_type": "stream",
     "text": [
      "accuracy for base model random forest is: 0.8725028058361392\n",
      "accuracy for adaBoost with base as random fores is: 0.8749719416386083\n"
     ]
    }
   ],
   "source": [
    "mrmr = ['month',\t'day',\t'year',\t'hour',\t'minute',\t'holiday',\t'dayOfTheWeek',\t'temperature',\t'humidity',\t\n",
    "        'pressure',\t'heavy intensity rain',\t'light rain',\t'broken clouds',\t'scattered clouds',\n",
    "        'thunderstorm with rain',\n",
    "        'few clouds',\t'thunderstorm',\t'shower rain',\t'heavy intensity rain',\t'mist',\t'scattered clouds']\n",
    "\n",
    "#define the variables order \n",
    "X_train_os_r = X_train_os[mrmr]\n",
    "X_test_r = X_test[mrmr]\n",
    "\n",
    "rf = RandomForestClassifier()\n",
    "rf.fit(X_train_os_r,y_train_os)\n",
    "y_pred=rf.predict(X_test_r)\n",
    "print(\"accuracy for base model random forest is: {}\".format(metrics.accuracy_score(y_test, y_pred)))\n",
    "       \n",
    "adaB_class = AdaBoostClassifier(RandomForestClassifier(), n_estimators=100, learning_rate=0.9)\n",
    "adaB_class.fit(X_train_os,y_train_os)\n",
    "y_pred=adaB_class.predict(X_test)\n",
    "ac=metrics.accuracy_score(y_test, y_pred)\n",
    "print(\"accuracy for adaBoost with base as random fores is: {}\".format(metrics.accuracy_score(y_test, y_pred)))"
   ]
  },
  {
   "cell_type": "markdown",
   "id": "43ec7ace",
   "metadata": {},
   "source": [
    "## Gradient Boosting Classifiers"
   ]
  },
  {
   "cell_type": "code",
   "execution_count": 81,
   "id": "42a431e3",
   "metadata": {
    "scrolled": true
   },
   "outputs": [
    {
     "name": "stdout",
     "output_type": "stream",
     "text": [
      "The accuracy with 100 estimators is 0.8489337822671156\n",
      "The accuracy with 250 estimators is 0.8491582491582491\n",
      "The accuracy with 500 estimators is 0.8624017957351291\n",
      "The accuracy with 700 estimators is 0.8619528619528619\n",
      "The accuracy with 1000 estimators is 0.8619528619528619\n"
     ]
    }
   ],
   "source": [
    "n=[100,250,500,700,1000]\n",
    "for i in range(len(n)):\n",
    "    gbc=GradientBoostingClassifier(n_estimators=n[i], learning_rate=1.0, max_depth=None, random_state=0)\n",
    "    gbc.fit(X_train_os,y_train_os)\n",
    "    y_pred=gbc.predict(X_test)\n",
    "    print(\"The accuracy with {} estimators is {}\".format(n[i],gbc.score(X_test,y_test)))"
   ]
  },
  {
   "cell_type": "code",
   "execution_count": 80,
   "id": "3254522f",
   "metadata": {
    "scrolled": true
   },
   "outputs": [
    {
     "name": "stdout",
     "output_type": "stream",
     "text": [
      "The accuracy with 0.001 learning rate is 0.8545454545454545\n",
      "The accuracy with 0.01 learning rate is 0.8500561167227834\n",
      "The accuracy with 0.1 learning rate is 0.8457912457912458\n",
      "The accuracy with 1 learning rate is 0.865993265993266\n",
      "The accuracy with 1.5 learning rate is 0.8599326599326599\n"
     ]
    }
   ],
   "source": [
    "lr = [0.001, 0.01, 0.1, 1, 1.5]\n",
    "\n",
    "for i in range(len(lr)):\n",
    "    gbc=GradientBoostingClassifier(n_estimators=500, learning_rate=lr[i], max_depth=None)\n",
    "    gbc.fit(X_train_os,y_train_os)\n",
    "    print(\"The accuracy with {} learning rate is {}\".format(lr[i],gbc.score(X_test,y_test)))"
   ]
  },
  {
   "cell_type": "markdown",
   "id": "3e813976",
   "metadata": {},
   "source": [
    "### Encoding and feature selection"
   ]
  },
  {
   "cell_type": "code",
   "execution_count": 84,
   "id": "f7edf0a4",
   "metadata": {},
   "outputs": [],
   "source": [
    "def getXandY(df):\n",
    "    df.drop(df.tail(20).index,inplace=True) \n",
    "    x = df.drop(['HP_Forbidden_clean'],axis=1)\n",
    "    y = df.HP_Forbidden_clean\n",
    "    return(x,y)\n",
    "\n",
    "def trainTest(x,y):\n",
    "    X_train, X_test, y_train, y_test = train_test_split(x, y, test_size=0.30, shuffle=True)\n",
    "    return(X_train, X_test, y_train, y_test)\n",
    "\n",
    "#Function to perform oversampling\n",
    "def overSampling(X_train, y_train, y_test, method):\n",
    "    X_train_os, y_train_os= method.fit_resample(X_train, y_train)\n",
    "    # Check the number of records after over sampling\n",
    "    #print(sorted(Counter(y_train_os).items())) \n",
    "    return(X_train_os, y_train_os)\n",
    "\n",
    "smote = SMOTE(random_state=42)\n",
    "\n",
    "\n",
    "def testModel(df,var_order,n_vars,n_loops,method):\n",
    "    highest = 0\n",
    "    for j in tqdm(range(1,n_vars)):\n",
    "        #split our dataframe into X and Y\n",
    "        x,y=getXandY(df)\n",
    "        #create the lists to store metrics\n",
    "        acc = []\n",
    "        rec = []\n",
    "        preci = []\n",
    "        f1 = []\n",
    "        for i in range(n_loops):\n",
    "            #split the dataFrame into test and train\n",
    "            X_train, X_test, y_train, y_test = trainTest(x,y)\n",
    "            #Oversample the train dataset with SMOTE\n",
    "            X_train_os, y_train_os=overSampling(X_train, y_train, y_test, smote)\n",
    "            #define the variables order \n",
    "            X_train_os_r = X_train_os[var_order]\n",
    "            X_test_r = X_test[var_order]\n",
    "            df1= X_train_os_r.iloc[:, 0:j] #use only part of the variables\n",
    "            \n",
    "            #create and train decision trees\n",
    "            gbc=GradientBoostingClassifier(n_estimators=500, learning_rate=1, max_depth=None)\n",
    "            gbc.fit(df1, y_train_os)\n",
    "        \n",
    "            y_pred=gbc.predict(X_test_r.iloc[:, 0:j])\n",
    "            ac=metrics.accuracy_score(y_test, y_pred)\n",
    "            acc.append(ac)\n",
    "            p=metrics.precision_score(y_test, y_pred,average='macro')\n",
    "            preci.append(p)\n",
    "            r=metrics.recall_score(y_test, y_pred,average='macro')\n",
    "            rec.append(r)\n",
    "            f=metrics.f1_score(y_test, y_pred, average='macro')\n",
    "            f1.append(f)\n",
    "        print(df1.columns)\n",
    "        print(\"For {} features: \\n Accuracy: {} \\n Precision: {} \\n Recall: {} \\n F1 score: {}\".format(\n",
    "        j,mean(acc),mean(preci),mean(rec),mean(f1)))\n",
    "        \n",
    "        if mean(acc)>highest:\n",
    "            highest = mean(acc)\n",
    "            best = \"best accuracy = {}, with {} features, with {}\".format(mean(acc),j,method)\n",
    "        print(best)\n",
    "        #print(classification_report(y_test, y_pred))\n",
    "    print(best)\n",
    "        \n",
    "def analizeDF(df,order,n_vars,n_loops):\n",
    "    for i in range(len(order)):\n",
    "        print('------------------------- Analyzing method {} -------------------------'.format(method[i]))\n",
    "        print('The variable order is: \\n {}'.format(order[i]))\n",
    "        testModel(df,order[i],n_vars,n_loops,method[i])\n",
    "        print('\\n \\n')"
   ]
  },
  {
   "cell_type": "markdown",
   "id": "11e0c70f",
   "metadata": {},
   "source": [
    "### One hot encoding"
   ]
  },
  {
   "cell_type": "code",
   "execution_count": 83,
   "id": "170097ef",
   "metadata": {},
   "outputs": [],
   "source": [
    "#Variable order in one hot encoding:\n",
    "pear_corrO = ['temperature',\t'holiday',\t'day',\t'month',\t'pressure',\t'dayOfTheWeek',\t'shower rain',\t'broken clouds',\t'fog',\t'overcast clouds',\t'heavy intensity rain',\t'minute',\t'haze',\t'thunderstorm with light rain',\t'scattered clouds',\t'clear sky',\t'mist',\t'light intensity drizzle',\t'few clouds',\t'thunderstorm',\t'very heavy rain',\t'moderate rain',\t'thunderstorm with rain',\t'year',\t'light rain',\t'humidity',\t'hour',\t'Pandemic']\n",
    "kend_corrO = ['temperature',\t'holiday',\t'month',\t'day',\t'pressure',\t'dayOfTheWeek',\t'shower rain',\t'broken clouds',\t'heavy intensity rain',\t'fog',\t'year',\t'overcast clouds',\t'minute',\t'haze',\t'thunderstorm with light rain',\t'mist',\t'light intensity drizzle',\t'scattered clouds',\t'clear sky',\t'few clouds',\t'thunderstorm',\t'very heavy rain',\t'moderate rain',\t'thunderstorm with rain',\t'light rain',\t'humidity',\t'hour',\t'Pandemic']\n",
    "mutInf_classO = ['month',\t'day',\t'year',\t'hour',\t'minute',\t'holiday',\t'dayOfTheWeek',\t'Pandemic',\t'temperature',\t'humidity',\t'pressure',\t'heavy intensity rain',\t'light rain',\t'broken clouds',\t'moderate rain',\t'mist',\t'overcast clouds',\t'clear sky',\t'scattered clouds',\t'thunderstorm with rain',\t'few clouds',\t'thunderstorm',\t'shower rain',\t'very heavy rain',\t'fog',\t'haze',\t'thunderstorm with light rain',\t'light intensity drizzle']\n",
    "mutInf_regO = ['month',\t'day',\t'year',\t'hour',\t'minute',\t'holiday',\t'dayOfTheWeek',\t'Pandemic',\t'temperature',\t'humidity',\t'pressure',\t'heavy intensity rain',\t'light rain',\t'broken clouds',\t'moderate rain',\t'mist',\t'overcast clouds',\t'clear sky',\t'scattered clouds',\t'thunderstorm with rain',\t'few clouds',\t'thunderstorm',\t'shower rain',\t'very heavy rain',\t'fog',\t'haze',\t'thunderstorm with light rain',\t'light intensity drizzle']\n",
    "mutInf_class2O = ['day',\t'temperature',\t'month',\t'humidity',\t'hour',\t'pressure','dayOfTheWeek',\t'year',\t'holiday',\t'shower rain',\t'light rain',\t'thunderstorm',\t'fog',\t'broken clouds',\t'Pandemic',\t'thunderstorm with rain',\t'light intensity drizzle',\t'thunderstorm with light rain',\t'heavy intensity rain',\t'mist',\t'scattered clouds',\t'very heavy rain',\t'overcast clouds',\t'moderate rain',\t'minute',\t'haze',\t'few clouds',\t'clear sky']\n",
    "varThreO = ['month',\t'day',\t'year',\t'hour',\t'minute',\t'holiday',\t'dayOfTheWeek',\t'temperature',\t'humidity',\t'pressure',\t'heavy intensity rain',\t'light rain',\t'broken clouds',\t'scattered clouds',\t'thunderstorm with rain',\t'few clouds',\t'thunderstorm',\t'shower rain',]\n",
    "mrmrO = ['month',\t'day',\t'year',\t'hour',\t'minute',\t'holiday',\t'dayOfTheWeek',\t'temperature',\t'humidity',\t'pressure',\t'heavy intensity rain',\t'light rain',\t'broken clouds',\t'scattered clouds',\t'thunderstorm with rain',\t'few clouds',\t'thunderstorm',\t'shower rain',\t'heavy intensity rain',\t'mist',\t'scattered clouds',\t'very heavy rain',\t'overcast clouds',\t'moderate rain',\t'minute',\t'haze',\t'few clouds']\n",
    "\n",
    "orderOHE=[pear_corrO,kend_corrO,mutInf_classO,mutInf_regO,mutInf_class2O,varThreO,mrmrO]\n",
    "\n",
    "method = ['Pearson_correlation','Kendalls_correlation','mutualInformation_classification',\n",
    "          'mutualInformation_reggression','mutualInformation_classification2',\n",
    "          'varianceThreshold','MRMR']"
   ]
  },
  {
   "cell_type": "code",
   "execution_count": 85,
   "id": "e1981e95",
   "metadata": {
    "scrolled": true
   },
   "outputs": [
    {
     "name": "stderr",
     "output_type": "stream",
     "text": [
      "\r",
      "  0%|          | 0/27 [00:00<?, ?it/s]"
     ]
    },
    {
     "name": "stdout",
     "output_type": "stream",
     "text": [
      "------------------------- Analyzing method Pearson_correlation -------------------------\n",
      "The variable order is: \n",
      " ['temperature', 'holiday', 'day', 'month', 'pressure', 'dayOfTheWeek', 'shower rain', 'broken clouds', 'fog', 'overcast clouds', 'heavy intensity rain', 'minute', 'haze', 'thunderstorm with light rain', 'scattered clouds', 'clear sky', 'mist', 'light intensity drizzle', 'few clouds', 'thunderstorm', 'very heavy rain', 'moderate rain', 'thunderstorm with rain', 'year', 'light rain', 'humidity', 'hour', 'Pandemic']\n"
     ]
    },
    {
     "name": "stderr",
     "output_type": "stream",
     "text": [
      "\r",
      "  4%|▎         | 1/27 [19:54<8:37:43, 1194.75s/it]"
     ]
    },
    {
     "name": "stdout",
     "output_type": "stream",
     "text": [
      "Index(['temperature'], dtype='object')\n",
      "For 1 features: \n",
      " Accuracy: 0.4592043155765341 \n",
      " Precision: 0.36535584071145805 \n",
      " Recall: 0.3607928395564963 \n",
      " F1 score: 0.35563640102067046\n",
      "best accuracy = 0.4592043155765341, with 1 features, with Pearson_correlation\n"
     ]
    },
    {
     "name": "stderr",
     "output_type": "stream",
     "text": [
      "\r",
      "  7%|▋         | 2/27 [37:56<7:50:03, 1128.16s/it]"
     ]
    },
    {
     "name": "stdout",
     "output_type": "stream",
     "text": [
      "Index(['temperature', 'holiday'], dtype='object')\n",
      "For 2 features: \n",
      " Accuracy: 0.4795558556530872 \n",
      " Precision: 0.40422946594596487 \n",
      " Recall: 0.39327065653235066 \n",
      " F1 score: 0.3941046289812945\n",
      "best accuracy = 0.4795558556530872, with 2 features, with Pearson_correlation\n"
     ]
    },
    {
     "name": "stderr",
     "output_type": "stream",
     "text": [
      "\r",
      " 11%|█         | 3/27 [56:18<7:26:33, 1116.38s/it]"
     ]
    },
    {
     "name": "stdout",
     "output_type": "stream",
     "text": [
      "Index(['temperature', 'holiday', 'day'], dtype='object')\n",
      "For 3 features: \n",
      " Accuracy: 0.577492299601833 \n",
      " Precision: 0.5390746768067 \n",
      " Recall: 0.5581631512840042 \n",
      " F1 score: 0.5446665080166782\n",
      "best accuracy = 0.577492299601833, with 3 features, with Pearson_correlation\n"
     ]
    },
    {
     "name": "stderr",
     "output_type": "stream",
     "text": [
      "\r",
      " 15%|█▍        | 4/27 [1:12:05<6:42:20, 1049.57s/it]"
     ]
    },
    {
     "name": "stdout",
     "output_type": "stream",
     "text": [
      "Index(['temperature', 'holiday', 'day', 'month'], dtype='object')\n",
      "For 4 features: \n",
      " Accuracy: 0.7553599638907695 \n",
      " Precision: 0.7207308986455961 \n",
      " Recall: 0.7335536247594894 \n",
      " F1 score: 0.7264758180700112\n",
      "best accuracy = 0.7553599638907695, with 4 features, with Pearson_correlation\n"
     ]
    },
    {
     "name": "stderr",
     "output_type": "stream",
     "text": [
      "\r",
      " 19%|█▊        | 5/27 [1:30:55<6:35:26, 1078.47s/it]"
     ]
    },
    {
     "name": "stdout",
     "output_type": "stream",
     "text": [
      "Index(['temperature', 'holiday', 'day', 'month', 'pressure'], dtype='object')\n",
      "For 5 features: \n",
      " Accuracy: 0.8415819209039548 \n",
      " Precision: 0.8159602780716809 \n",
      " Recall: 0.8244057994924391 \n",
      " F1 score: 0.819816838093047\n",
      "best accuracy = 0.8415819209039548, with 5 features, with Pearson_correlation\n"
     ]
    },
    {
     "name": "stderr",
     "output_type": "stream",
     "text": [
      "\r",
      " 22%|██▏       | 6/27 [1:50:33<6:29:20, 1112.43s/it]"
     ]
    },
    {
     "name": "stdout",
     "output_type": "stream",
     "text": [
      "Index(['temperature', 'holiday', 'day', 'month', 'pressure', 'dayOfTheWeek'], dtype='object')\n",
      "For 6 features: \n",
      " Accuracy: 0.8451384174398431 \n",
      " Precision: 0.823349981673469 \n",
      " Recall: 0.8268848054162463 \n",
      " F1 score: 0.8249047798768846\n",
      "best accuracy = 0.8451384174398431, with 6 features, with Pearson_correlation\n"
     ]
    },
    {
     "name": "stderr",
     "output_type": "stream",
     "text": [
      "\r",
      " 26%|██▌       | 7/27 [2:12:34<6:33:28, 1180.45s/it]"
     ]
    },
    {
     "name": "stdout",
     "output_type": "stream",
     "text": [
      "Index(['temperature', 'holiday', 'day', 'month', 'pressure', 'dayOfTheWeek',\n",
      "       'shower rain'],\n",
      "      dtype='object')\n",
      "For 7 features: \n",
      " Accuracy: 0.8540675277588942 \n",
      " Precision: 0.8317089209793648 \n",
      " Recall: 0.8343342553145505 \n",
      " F1 score: 0.8329959002441828\n",
      "best accuracy = 0.8540675277588942, with 7 features, with Pearson_correlation\n"
     ]
    },
    {
     "name": "stderr",
     "output_type": "stream",
     "text": [
      "\r",
      " 30%|██▉       | 8/27 [2:30:55<6:05:48, 1155.18s/it]"
     ]
    },
    {
     "name": "stdout",
     "output_type": "stream",
     "text": [
      "Index(['temperature', 'holiday', 'day', 'month', 'pressure', 'dayOfTheWeek',\n",
      "       'shower rain', 'broken clouds'],\n",
      "      dtype='object')\n",
      "For 8 features: \n",
      " Accuracy: 0.8559866878450949 \n",
      " Precision: 0.8353705599990282 \n",
      " Recall: 0.8373964681750651 \n",
      " F1 score: 0.8363395751249424\n",
      "best accuracy = 0.8559866878450949, with 8 features, with Pearson_correlation\n"
     ]
    },
    {
     "name": "stderr",
     "output_type": "stream",
     "text": [
      "\r",
      " 33%|███▎      | 9/27 [2:51:44<5:55:19, 1184.41s/it]"
     ]
    },
    {
     "name": "stdout",
     "output_type": "stream",
     "text": [
      "Index(['temperature', 'holiday', 'day', 'month', 'pressure', 'dayOfTheWeek',\n",
      "       'shower rain', 'broken clouds', 'fog'],\n",
      "      dtype='object')\n",
      "For 9 features: \n",
      " Accuracy: 0.8551844277815648 \n",
      " Precision: 0.834451561864245 \n",
      " Recall: 0.8369536235633035 \n",
      " F1 score: 0.8355445119932616\n",
      "best accuracy = 0.8559866878450949, with 8 features, with Pearson_correlation\n"
     ]
    },
    {
     "name": "stderr",
     "output_type": "stream",
     "text": [
      "\r",
      " 37%|███▋      | 10/27 [3:11:46<5:37:08, 1189.90s/it]"
     ]
    },
    {
     "name": "stdout",
     "output_type": "stream",
     "text": [
      "Index(['temperature', 'holiday', 'day', 'month', 'pressure', 'dayOfTheWeek',\n",
      "       'shower rain', 'broken clouds', 'fog', 'overcast clouds'],\n",
      "      dtype='object')\n",
      "For 10 features: \n",
      " Accuracy: 0.8527114144861585 \n",
      " Precision: 0.8331429186498408 \n",
      " Recall: 0.8333317225953463 \n",
      " F1 score: 0.8331493448782049\n",
      "best accuracy = 0.8559866878450949, with 8 features, with Pearson_correlation\n"
     ]
    },
    {
     "name": "stderr",
     "output_type": "stream",
     "text": [
      "\r",
      " 41%|████      | 11/27 [3:32:11<5:20:10, 1200.63s/it]"
     ]
    },
    {
     "name": "stdout",
     "output_type": "stream",
     "text": [
      "Index(['temperature', 'holiday', 'day', 'month', 'pressure', 'dayOfTheWeek',\n",
      "       'shower rain', 'broken clouds', 'fog', 'overcast clouds',\n",
      "       'heavy intensity rain'],\n",
      "      dtype='object')\n",
      "For 11 features: \n",
      " Accuracy: 0.859876965140123 \n",
      " Precision: 0.8378811033861054 \n",
      " Recall: 0.8435063668501565 \n",
      " F1 score: 0.8405052794293132\n",
      "best accuracy = 0.859876965140123, with 11 features, with Pearson_correlation\n"
     ]
    },
    {
     "name": "stderr",
     "output_type": "stream",
     "text": [
      "\r",
      " 44%|████▍     | 12/27 [3:49:34<4:48:10, 1152.68s/it]"
     ]
    },
    {
     "name": "stdout",
     "output_type": "stream",
     "text": [
      "Index(['temperature', 'holiday', 'day', 'month', 'pressure', 'dayOfTheWeek',\n",
      "       'shower rain', 'broken clouds', 'fog', 'overcast clouds',\n",
      "       'heavy intensity rain', 'minute'],\n",
      "      dtype='object')\n",
      "For 12 features: \n",
      " Accuracy: 0.8159555859761198 \n",
      " Precision: 0.7896276555014299 \n",
      " Recall: 0.7942981926670654 \n",
      " F1 score: 0.7906171428475801\n",
      "best accuracy = 0.859876965140123, with 11 features, with Pearson_correlation\n"
     ]
    },
    {
     "name": "stderr",
     "output_type": "stream",
     "text": [
      "\r",
      " 48%|████▊     | 13/27 [4:02:45<4:03:25, 1043.23s/it]"
     ]
    },
    {
     "name": "stdout",
     "output_type": "stream",
     "text": [
      "Index(['temperature', 'holiday', 'day', 'month', 'pressure', 'dayOfTheWeek',\n",
      "       'shower rain', 'broken clouds', 'fog', 'overcast clouds',\n",
      "       'heavy intensity rain', 'minute', 'haze'],\n",
      "      dtype='object')\n",
      "For 13 features: \n",
      " Accuracy: 0.8044322595384967 \n",
      " Precision: 0.7777861014764536 \n",
      " Recall: 0.784962670181608 \n",
      " F1 score: 0.7802437787539261\n",
      "best accuracy = 0.859876965140123, with 11 features, with Pearson_correlation\n"
     ]
    },
    {
     "name": "stderr",
     "output_type": "stream",
     "text": [
      "\r",
      " 52%|█████▏    | 14/27 [4:16:01<3:29:51, 968.59s/it] "
     ]
    },
    {
     "name": "stdout",
     "output_type": "stream",
     "text": [
      "Index(['temperature', 'holiday', 'day', 'month', 'pressure', 'dayOfTheWeek',\n",
      "       'shower rain', 'broken clouds', 'fog', 'overcast clouds',\n",
      "       'heavy intensity rain', 'minute', 'haze',\n",
      "       'thunderstorm with light rain'],\n",
      "      dtype='object')\n",
      "For 14 features: \n",
      " Accuracy: 0.8132387706855791 \n",
      " Precision: 0.7882218697094667 \n",
      " Recall: 0.7939750571342663 \n",
      " F1 score: 0.7900491939790284\n",
      "best accuracy = 0.859876965140123, with 11 features, with Pearson_correlation\n"
     ]
    },
    {
     "name": "stderr",
     "output_type": "stream",
     "text": [
      "\r",
      " 56%|█████▌    | 15/27 [4:26:53<2:54:35, 872.97s/it]"
     ]
    },
    {
     "name": "stdout",
     "output_type": "stream",
     "text": [
      "Index(['temperature', 'holiday', 'day', 'month', 'pressure', 'dayOfTheWeek',\n",
      "       'shower rain', 'broken clouds', 'fog', 'overcast clouds',\n",
      "       'heavy intensity rain', 'minute', 'haze',\n",
      "       'thunderstorm with light rain', 'scattered clouds'],\n",
      "      dtype='object')\n",
      "For 15 features: \n",
      " Accuracy: 0.8039709812905689 \n",
      " Precision: 0.7776502331776983 \n",
      " Recall: 0.79171475842389 \n",
      " F1 score: 0.7820400821596758\n",
      "best accuracy = 0.859876965140123, with 11 features, with Pearson_correlation\n"
     ]
    },
    {
     "name": "stderr",
     "output_type": "stream",
     "text": [
      "\r",
      " 59%|█████▉    | 16/27 [4:40:37<2:37:20, 858.23s/it]"
     ]
    },
    {
     "name": "stdout",
     "output_type": "stream",
     "text": [
      "Index(['temperature', 'holiday', 'day', 'month', 'pressure', 'dayOfTheWeek',\n",
      "       'shower rain', 'broken clouds', 'fog', 'overcast clouds',\n",
      "       'heavy intensity rain', 'minute', 'haze',\n",
      "       'thunderstorm with light rain', 'scattered clouds', 'clear sky'],\n",
      "      dtype='object')\n",
      "For 16 features: \n",
      " Accuracy: 0.8209834059799648 \n",
      " Precision: 0.7953008013486149 \n",
      " Recall: 0.7947685586470807 \n",
      " F1 score: 0.7943207432089414\n",
      "best accuracy = 0.859876965140123, with 11 features, with Pearson_correlation\n"
     ]
    },
    {
     "name": "stderr",
     "output_type": "stream",
     "text": [
      "\r",
      " 63%|██████▎   | 17/27 [4:51:58<2:14:11, 805.10s/it]"
     ]
    },
    {
     "name": "stdout",
     "output_type": "stream",
     "text": [
      "Index(['temperature', 'holiday', 'day', 'month', 'pressure', 'dayOfTheWeek',\n",
      "       'shower rain', 'broken clouds', 'fog', 'overcast clouds',\n",
      "       'heavy intensity rain', 'minute', 'haze',\n",
      "       'thunderstorm with light rain', 'scattered clouds', 'clear sky',\n",
      "       'mist'],\n",
      "      dtype='object')\n",
      "For 17 features: \n",
      " Accuracy: 0.8202772034612145 \n",
      " Precision: 0.7963966540026849 \n",
      " Recall: 0.7920435367214038 \n",
      " F1 score: 0.7927708768198616\n",
      "best accuracy = 0.859876965140123, with 11 features, with Pearson_correlation\n"
     ]
    },
    {
     "name": "stderr",
     "output_type": "stream",
     "text": [
      "\r",
      " 67%|██████▋   | 18/27 [5:03:09<1:54:42, 764.73s/it]"
     ]
    },
    {
     "name": "stdout",
     "output_type": "stream",
     "text": [
      "Index(['temperature', 'holiday', 'day', 'month', 'pressure', 'dayOfTheWeek',\n",
      "       'shower rain', 'broken clouds', 'fog', 'overcast clouds',\n",
      "       'heavy intensity rain', 'minute', 'haze',\n",
      "       'thunderstorm with light rain', 'scattered clouds', 'clear sky', 'mist',\n",
      "       'light intensity drizzle'],\n",
      "      dtype='object')\n",
      "For 18 features: \n",
      " Accuracy: 0.7943409247757074 \n",
      " Precision: 0.767496105714521 \n",
      " Recall: 0.7876489938831708 \n",
      " F1 score: 0.7740519516901965\n",
      "best accuracy = 0.859876965140123, with 11 features, with Pearson_correlation\n"
     ]
    },
    {
     "name": "stderr",
     "output_type": "stream",
     "text": [
      "\r",
      " 70%|███████   | 19/27 [5:18:21<1:47:52, 809.08s/it]"
     ]
    },
    {
     "name": "stdout",
     "output_type": "stream",
     "text": [
      "Index(['temperature', 'holiday', 'day', 'month', 'pressure', 'dayOfTheWeek',\n",
      "       'shower rain', 'broken clouds', 'fog', 'overcast clouds',\n",
      "       'heavy intensity rain', 'minute', 'haze',\n",
      "       'thunderstorm with light rain', 'scattered clouds', 'clear sky', 'mist',\n",
      "       'light intensity drizzle', 'few clouds'],\n",
      "      dtype='object')\n",
      "For 19 features: \n",
      " Accuracy: 0.8150963679643707 \n",
      " Precision: 0.7802794758406003 \n",
      " Recall: 0.7929050617302352 \n",
      " F1 score: 0.7850119161764639\n",
      "best accuracy = 0.859876965140123, with 11 features, with Pearson_correlation\n"
     ]
    },
    {
     "name": "stderr",
     "output_type": "stream",
     "text": [
      "\r",
      " 74%|███████▍  | 20/27 [5:35:11<1:41:25, 869.41s/it]"
     ]
    },
    {
     "name": "stdout",
     "output_type": "stream",
     "text": [
      "Index(['temperature', 'holiday', 'day', 'month', 'pressure', 'dayOfTheWeek',\n",
      "       'shower rain', 'broken clouds', 'fog', 'overcast clouds',\n",
      "       'heavy intensity rain', 'minute', 'haze',\n",
      "       'thunderstorm with light rain', 'scattered clouds', 'clear sky', 'mist',\n",
      "       'light intensity drizzle', 'few clouds', 'thunderstorm'],\n",
      "      dtype='object')\n",
      "For 20 features: \n",
      " Accuracy: 0.825836216839677 \n",
      " Precision: 0.8058987510511142 \n",
      " Recall: 0.7950506136169624 \n",
      " F1 score: 0.7971033652208125\n",
      "best accuracy = 0.859876965140123, with 11 features, with Pearson_correlation\n"
     ]
    },
    {
     "name": "stderr",
     "output_type": "stream",
     "text": [
      "\r",
      " 78%|███████▊  | 21/27 [5:49:16<1:26:12, 862.07s/it]"
     ]
    },
    {
     "name": "stdout",
     "output_type": "stream",
     "text": [
      "Index(['temperature', 'holiday', 'day', 'month', 'pressure', 'dayOfTheWeek',\n",
      "       'shower rain', 'broken clouds', 'fog', 'overcast clouds',\n",
      "       'heavy intensity rain', 'minute', 'haze',\n",
      "       'thunderstorm with light rain', 'scattered clouds', 'clear sky', 'mist',\n",
      "       'light intensity drizzle', 'few clouds', 'thunderstorm',\n",
      "       'very heavy rain'],\n",
      "      dtype='object')\n",
      "For 21 features: \n",
      " Accuracy: 0.812042812042812 \n",
      " Precision: 0.7920288006426424 \n",
      " Recall: 0.7869511185491738 \n",
      " F1 score: 0.786956570165108\n",
      "best accuracy = 0.859876965140123, with 11 features, with Pearson_correlation\n"
     ]
    },
    {
     "name": "stderr",
     "output_type": "stream",
     "text": [
      "\r",
      " 81%|████████▏ | 22/27 [6:04:55<1:13:45, 885.11s/it]"
     ]
    },
    {
     "name": "stdout",
     "output_type": "stream",
     "text": [
      "Index(['temperature', 'holiday', 'day', 'month', 'pressure', 'dayOfTheWeek',\n",
      "       'shower rain', 'broken clouds', 'fog', 'overcast clouds',\n",
      "       'heavy intensity rain', 'minute', 'haze',\n",
      "       'thunderstorm with light rain', 'scattered clouds', 'clear sky', 'mist',\n",
      "       'light intensity drizzle', 'few clouds', 'thunderstorm',\n",
      "       'very heavy rain', 'moderate rain'],\n",
      "      dtype='object')\n",
      "For 22 features: \n",
      " Accuracy: 0.8076952733441283 \n",
      " Precision: 0.7869016752602851 \n",
      " Recall: 0.7849292386730768 \n",
      " F1 score: 0.7827296021393303\n",
      "best accuracy = 0.859876965140123, with 11 features, with Pearson_correlation\n"
     ]
    },
    {
     "name": "stderr",
     "output_type": "stream",
     "text": [
      "\r",
      " 85%|████████▌ | 23/27 [6:18:55<58:05, 871.46s/it]  "
     ]
    },
    {
     "name": "stdout",
     "output_type": "stream",
     "text": [
      "Index(['temperature', 'holiday', 'day', 'month', 'pressure', 'dayOfTheWeek',\n",
      "       'shower rain', 'broken clouds', 'fog', 'overcast clouds',\n",
      "       'heavy intensity rain', 'minute', 'haze',\n",
      "       'thunderstorm with light rain', 'scattered clouds', 'clear sky', 'mist',\n",
      "       'light intensity drizzle', 'few clouds', 'thunderstorm',\n",
      "       'very heavy rain', 'moderate rain', 'thunderstorm with rain'],\n",
      "      dtype='object')\n",
      "For 23 features: \n",
      " Accuracy: 0.8173886186394873 \n",
      " Precision: 0.8012231291639242 \n",
      " Recall: 0.7855859530726653 \n",
      " F1 score: 0.7914118255836955\n",
      "best accuracy = 0.859876965140123, with 11 features, with Pearson_correlation\n"
     ]
    },
    {
     "name": "stderr",
     "output_type": "stream",
     "text": [
      "\r",
      " 89%|████████▉ | 24/27 [6:32:50<43:01, 860.55s/it]"
     ]
    },
    {
     "name": "stdout",
     "output_type": "stream",
     "text": [
      "Index(['temperature', 'holiday', 'day', 'month', 'pressure', 'dayOfTheWeek',\n",
      "       'shower rain', 'broken clouds', 'fog', 'overcast clouds',\n",
      "       'heavy intensity rain', 'minute', 'haze',\n",
      "       'thunderstorm with light rain', 'scattered clouds', 'clear sky', 'mist',\n",
      "       'light intensity drizzle', 'few clouds', 'thunderstorm',\n",
      "       'very heavy rain', 'moderate rain', 'thunderstorm with rain', 'year'],\n",
      "      dtype='object')\n",
      "For 24 features: \n",
      " Accuracy: 0.7961803139256166 \n",
      " Precision: 0.7769905374135545 \n",
      " Recall: 0.7855880432873925 \n",
      " F1 score: 0.7765953968125842\n",
      "best accuracy = 0.859876965140123, with 11 features, with Pearson_correlation\n"
     ]
    },
    {
     "name": "stderr",
     "output_type": "stream",
     "text": [
      "\r",
      " 93%|█████████▎| 25/27 [6:49:29<30:04, 902.21s/it]"
     ]
    },
    {
     "name": "stdout",
     "output_type": "stream",
     "text": [
      "Index(['temperature', 'holiday', 'day', 'month', 'pressure', 'dayOfTheWeek',\n",
      "       'shower rain', 'broken clouds', 'fog', 'overcast clouds',\n",
      "       'heavy intensity rain', 'minute', 'haze',\n",
      "       'thunderstorm with light rain', 'scattered clouds', 'clear sky', 'mist',\n",
      "       'light intensity drizzle', 'few clouds', 'thunderstorm',\n",
      "       'very heavy rain', 'moderate rain', 'thunderstorm with rain', 'year',\n",
      "       'light rain'],\n",
      "      dtype='object')\n",
      "For 25 features: \n",
      " Accuracy: 0.8109175377468061 \n",
      " Precision: 0.7831023462545047 \n",
      " Recall: 0.7782366275790168 \n",
      " F1 score: 0.7775750943528518\n",
      "best accuracy = 0.859876965140123, with 11 features, with Pearson_correlation\n"
     ]
    },
    {
     "name": "stderr",
     "output_type": "stream",
     "text": [
      "\r",
      " 96%|█████████▋| 26/27 [7:00:00<13:40, 820.69s/it]"
     ]
    },
    {
     "name": "stdout",
     "output_type": "stream",
     "text": [
      "Index(['temperature', 'holiday', 'day', 'month', 'pressure', 'dayOfTheWeek',\n",
      "       'shower rain', 'broken clouds', 'fog', 'overcast clouds',\n",
      "       'heavy intensity rain', 'minute', 'haze',\n",
      "       'thunderstorm with light rain', 'scattered clouds', 'clear sky', 'mist',\n",
      "       'light intensity drizzle', 'few clouds', 'thunderstorm',\n",
      "       'very heavy rain', 'moderate rain', 'thunderstorm with rain', 'year',\n",
      "       'light rain', 'humidity'],\n",
      "      dtype='object')\n",
      "For 26 features: \n",
      " Accuracy: 0.8443048771032023 \n",
      " Precision: 0.8308495539472657 \n",
      " Recall: 0.8224808076457654 \n",
      " F1 score: 0.8232015875399608\n",
      "best accuracy = 0.859876965140123, with 11 features, with Pearson_correlation\n"
     ]
    },
    {
     "name": "stderr",
     "output_type": "stream",
     "text": [
      "100%|██████████| 27/27 [7:08:44<00:00, 952.75s/it]\n",
      "  0%|          | 0/27 [00:00<?, ?it/s]"
     ]
    },
    {
     "name": "stdout",
     "output_type": "stream",
     "text": [
      "Index(['temperature', 'holiday', 'day', 'month', 'pressure', 'dayOfTheWeek',\n",
      "       'shower rain', 'broken clouds', 'fog', 'overcast clouds',\n",
      "       'heavy intensity rain', 'minute', 'haze',\n",
      "       'thunderstorm with light rain', 'scattered clouds', 'clear sky', 'mist',\n",
      "       'light intensity drizzle', 'few clouds', 'thunderstorm',\n",
      "       'very heavy rain', 'moderate rain', 'thunderstorm with rain', 'year',\n",
      "       'light rain', 'humidity', 'hour'],\n",
      "      dtype='object')\n",
      "For 27 features: \n",
      " Accuracy: 0.8659833838030903 \n",
      " Precision: 0.845230299780273 \n",
      " Recall: 0.844037879762915 \n",
      " F1 score: 0.8445852264326908\n",
      "best accuracy = 0.8659833838030903, with 27 features, with Pearson_correlation\n",
      "best accuracy = 0.8659833838030903, with 27 features, with Pearson_correlation\n",
      "\n",
      " \n",
      "\n",
      "------------------------- Analyzing method Kendalls_correlation -------------------------\n",
      "The variable order is: \n",
      " ['temperature', 'holiday', 'month', 'day', 'pressure', 'dayOfTheWeek', 'shower rain', 'broken clouds', 'heavy intensity rain', 'fog', 'year', 'overcast clouds', 'minute', 'haze', 'thunderstorm with light rain', 'mist', 'light intensity drizzle', 'scattered clouds', 'clear sky', 'few clouds', 'thunderstorm', 'very heavy rain', 'moderate rain', 'thunderstorm with rain', 'light rain', 'humidity', 'hour', 'Pandemic']\n"
     ]
    },
    {
     "name": "stderr",
     "output_type": "stream",
     "text": [
      "\r",
      "  4%|▎         | 1/27 [21:52<9:28:53, 1312.84s/it]"
     ]
    },
    {
     "name": "stdout",
     "output_type": "stream",
     "text": [
      "Index(['temperature'], dtype='object')\n",
      "For 1 features: \n",
      " Accuracy: 0.46411632065935776 \n",
      " Precision: 0.3625513420388947 \n",
      " Recall: 0.35890499367765205 \n",
      " F1 score: 0.35414690514281255\n",
      "best accuracy = 0.46411632065935776, with 1 features, with Kendalls_correlation\n"
     ]
    },
    {
     "name": "stderr",
     "output_type": "stream",
     "text": [
      "\r",
      "  7%|▋         | 2/27 [40:09<8:14:03, 1185.73s/it]"
     ]
    },
    {
     "name": "stdout",
     "output_type": "stream",
     "text": [
      "Index(['temperature', 'holiday'], dtype='object')\n",
      "For 2 features: \n",
      " Accuracy: 0.4811959822471385 \n",
      " Precision: 0.4055524755087196 \n",
      " Recall: 0.39354877189098575 \n",
      " F1 score: 0.3947741607500449\n",
      "best accuracy = 0.4811959822471385, with 2 features, with Kendalls_correlation\n"
     ]
    },
    {
     "name": "stderr",
     "output_type": "stream",
     "text": [
      "\r",
      " 11%|█         | 3/27 [59:49<7:53:10, 1182.94s/it]"
     ]
    },
    {
     "name": "stdout",
     "output_type": "stream",
     "text": [
      "Index(['temperature', 'holiday', 'month'], dtype='object')\n",
      "For 3 features: \n",
      " Accuracy: 0.5223391812865497 \n",
      " Precision: 0.4710199598705183 \n",
      " Recall: 0.47853173859730014 \n",
      " F1 score: 0.47299506742990277\n",
      "best accuracy = 0.5223391812865497, with 3 features, with Kendalls_correlation\n"
     ]
    },
    {
     "name": "stderr",
     "output_type": "stream",
     "text": [
      "\r",
      " 15%|█▍        | 4/27 [1:14:15<6:45:36, 1058.11s/it]"
     ]
    },
    {
     "name": "stdout",
     "output_type": "stream",
     "text": [
      "Index(['temperature', 'holiday', 'month', 'day'], dtype='object')\n",
      "For 4 features: \n",
      " Accuracy: 0.7516202076989147 \n",
      " Precision: 0.7138604970754647 \n",
      " Recall: 0.729196958094876 \n",
      " F1 score: 0.7205020626232573\n",
      "best accuracy = 0.7516202076989147, with 4 features, with Kendalls_correlation\n"
     ]
    },
    {
     "name": "stderr",
     "output_type": "stream",
     "text": [
      "\r",
      " 19%|█▊        | 5/27 [1:31:49<6:27:23, 1056.54s/it]"
     ]
    },
    {
     "name": "stdout",
     "output_type": "stream",
     "text": [
      "Index(['temperature', 'holiday', 'month', 'day', 'pressure'], dtype='object')\n",
      "For 5 features: \n",
      " Accuracy: 0.8404097271092345 \n",
      " Precision: 0.8147656367842762 \n",
      " Recall: 0.8221332463377738 \n",
      " F1 score: 0.8182505702554018\n",
      "best accuracy = 0.8404097271092345, with 5 features, with Kendalls_correlation\n"
     ]
    },
    {
     "name": "stderr",
     "output_type": "stream",
     "text": [
      "\r",
      " 22%|██▏       | 6/27 [1:50:01<6:13:58, 1068.50s/it]"
     ]
    },
    {
     "name": "stdout",
     "output_type": "stream",
     "text": [
      "Index(['temperature', 'holiday', 'month', 'day', 'pressure', 'dayOfTheWeek'], dtype='object')\n",
      "For 6 features: \n",
      " Accuracy: 0.85099052540913 \n",
      " Precision: 0.8244685110845527 \n",
      " Recall: 0.8341408813703538 \n",
      " F1 score: 0.8290328795243956\n",
      "best accuracy = 0.85099052540913, with 6 features, with Kendalls_correlation\n"
     ]
    },
    {
     "name": "stderr",
     "output_type": "stream",
     "text": [
      "\r",
      " 26%|██▌       | 7/27 [2:08:29<6:00:30, 1081.52s/it]"
     ]
    },
    {
     "name": "stdout",
     "output_type": "stream",
     "text": [
      "Index(['temperature', 'holiday', 'month', 'day', 'pressure', 'dayOfTheWeek',\n",
      "       'shower rain'],\n",
      "      dtype='object')\n",
      "For 7 features: \n",
      " Accuracy: 0.8541519642437074 \n",
      " Precision: 0.8308040210227768 \n",
      " Recall: 0.8324483974810586 \n",
      " F1 score: 0.8312839214359\n",
      "best accuracy = 0.8541519642437074, with 7 features, with Kendalls_correlation\n"
     ]
    },
    {
     "name": "stderr",
     "output_type": "stream",
     "text": [
      "\r",
      " 30%|██▉       | 8/27 [2:26:42<5:43:34, 1084.99s/it]"
     ]
    },
    {
     "name": "stdout",
     "output_type": "stream",
     "text": [
      "Index(['temperature', 'holiday', 'month', 'day', 'pressure', 'dayOfTheWeek',\n",
      "       'shower rain', 'broken clouds'],\n",
      "      dtype='object')\n",
      "For 8 features: \n",
      " Accuracy: 0.8497840596780526 \n",
      " Precision: 0.8258332620579608 \n",
      " Recall: 0.8294547045646828 \n",
      " F1 score: 0.8275033638365504\n",
      "best accuracy = 0.8541519642437074, with 7 features, with Kendalls_correlation\n"
     ]
    },
    {
     "name": "stderr",
     "output_type": "stream",
     "text": [
      "\r",
      " 33%|███▎      | 9/27 [2:45:34<5:29:58, 1099.90s/it]"
     ]
    },
    {
     "name": "stdout",
     "output_type": "stream",
     "text": [
      "Index(['temperature', 'holiday', 'month', 'day', 'pressure', 'dayOfTheWeek',\n",
      "       'shower rain', 'broken clouds', 'heavy intensity rain'],\n",
      "      dtype='object')\n",
      "For 9 features: \n",
      " Accuracy: 0.854604073287725 \n",
      " Precision: 0.8283968245631835 \n",
      " Recall: 0.8367048164241281 \n",
      " F1 score: 0.8323174853775054\n",
      "best accuracy = 0.854604073287725, with 9 features, with Kendalls_correlation\n"
     ]
    },
    {
     "name": "stderr",
     "output_type": "stream",
     "text": [
      "\r",
      " 37%|███▋      | 10/27 [3:04:49<5:16:27, 1116.93s/it]"
     ]
    },
    {
     "name": "stdout",
     "output_type": "stream",
     "text": [
      "Index(['temperature', 'holiday', 'month', 'day', 'pressure', 'dayOfTheWeek',\n",
      "       'shower rain', 'broken clouds', 'heavy intensity rain', 'fog'],\n",
      "      dtype='object')\n",
      "For 10 features: \n",
      " Accuracy: 0.8586502874242067 \n",
      " Precision: 0.833489607322511 \n",
      " Recall: 0.8408003334601071 \n",
      " F1 score: 0.8368309955813974\n",
      "best accuracy = 0.8586502874242067, with 10 features, with Kendalls_correlation\n"
     ]
    },
    {
     "name": "stderr",
     "output_type": "stream",
     "text": [
      "\r",
      " 41%|████      | 11/27 [3:23:05<4:56:07, 1110.46s/it]"
     ]
    },
    {
     "name": "stdout",
     "output_type": "stream",
     "text": [
      "Index(['temperature', 'holiday', 'month', 'day', 'pressure', 'dayOfTheWeek',\n",
      "       'shower rain', 'broken clouds', 'heavy intensity rain', 'fog', 'year'],\n",
      "      dtype='object')\n",
      "For 11 features: \n",
      " Accuracy: 0.8573456352022711 \n",
      " Precision: 0.8337500444522327 \n",
      " Recall: 0.8380738541588572 \n",
      " F1 score: 0.8357983766468385\n",
      "best accuracy = 0.8586502874242067, with 10 features, with Kendalls_correlation\n"
     ]
    },
    {
     "name": "stderr",
     "output_type": "stream",
     "text": [
      "\r",
      " 44%|████▍     | 12/27 [3:43:46<4:47:30, 1150.05s/it]"
     ]
    },
    {
     "name": "stdout",
     "output_type": "stream",
     "text": [
      "Index(['temperature', 'holiday', 'month', 'day', 'pressure', 'dayOfTheWeek',\n",
      "       'shower rain', 'broken clouds', 'heavy intensity rain', 'fog', 'year',\n",
      "       'overcast clouds'],\n",
      "      dtype='object')\n",
      "For 12 features: \n",
      " Accuracy: 0.8589591723920083 \n",
      " Precision: 0.837987782789788 \n",
      " Recall: 0.8426950252966283 \n",
      " F1 score: 0.8402458633287261\n",
      "best accuracy = 0.8589591723920083, with 12 features, with Kendalls_correlation\n"
     ]
    },
    {
     "name": "stderr",
     "output_type": "stream",
     "text": [
      "\r",
      " 48%|████▊     | 13/27 [3:57:04<4:03:28, 1043.43s/it]"
     ]
    },
    {
     "name": "stdout",
     "output_type": "stream",
     "text": [
      "Index(['temperature', 'holiday', 'month', 'day', 'pressure', 'dayOfTheWeek',\n",
      "       'shower rain', 'broken clouds', 'heavy intensity rain', 'fog', 'year',\n",
      "       'overcast clouds', 'minute'],\n",
      "      dtype='object')\n",
      "For 13 features: \n",
      " Accuracy: 0.8257809410834321 \n",
      " Precision: 0.7998983449325917 \n",
      " Recall: 0.8066676437846922 \n",
      " F1 score: 0.8013348961634352\n",
      "best accuracy = 0.8589591723920083, with 12 features, with Kendalls_correlation\n"
     ]
    },
    {
     "name": "stderr",
     "output_type": "stream",
     "text": [
      "\r",
      " 52%|█████▏    | 14/27 [4:07:07<3:17:17, 910.56s/it] "
     ]
    },
    {
     "name": "stdout",
     "output_type": "stream",
     "text": [
      "Index(['temperature', 'holiday', 'month', 'day', 'pressure', 'dayOfTheWeek',\n",
      "       'shower rain', 'broken clouds', 'heavy intensity rain', 'fog', 'year',\n",
      "       'overcast clouds', 'minute', 'haze'],\n",
      "      dtype='object')\n",
      "For 14 features: \n",
      " Accuracy: 0.8168210976478973 \n",
      " Precision: 0.7878743307037712 \n",
      " Recall: 0.8036285271090768 \n",
      " F1 score: 0.7921621024074013\n",
      "best accuracy = 0.8589591723920083, with 12 features, with Kendalls_correlation\n"
     ]
    },
    {
     "name": "stderr",
     "output_type": "stream",
     "text": [
      "\r",
      " 56%|█████▌    | 15/27 [4:19:35<2:52:17, 861.49s/it]"
     ]
    },
    {
     "name": "stdout",
     "output_type": "stream",
     "text": [
      "Index(['temperature', 'holiday', 'month', 'day', 'pressure', 'dayOfTheWeek',\n",
      "       'shower rain', 'broken clouds', 'heavy intensity rain', 'fog', 'year',\n",
      "       'overcast clouds', 'minute', 'haze', 'thunderstorm with light rain'],\n",
      "      dtype='object')\n",
      "For 15 features: \n",
      " Accuracy: 0.807518439210088 \n",
      " Precision: 0.7792637951159821 \n",
      " Recall: 0.7829484909295745 \n",
      " F1 score: 0.7806104701452293\n",
      "best accuracy = 0.8589591723920083, with 12 features, with Kendalls_correlation\n"
     ]
    },
    {
     "name": "stderr",
     "output_type": "stream",
     "text": [
      "\r",
      " 59%|█████▉    | 16/27 [4:30:40<2:27:04, 802.25s/it]"
     ]
    },
    {
     "name": "stdout",
     "output_type": "stream",
     "text": [
      "Index(['temperature', 'holiday', 'month', 'day', 'pressure', 'dayOfTheWeek',\n",
      "       'shower rain', 'broken clouds', 'heavy intensity rain', 'fog', 'year',\n",
      "       'overcast clouds', 'minute', 'haze', 'thunderstorm with light rain',\n",
      "       'mist'],\n",
      "      dtype='object')\n",
      "For 16 features: \n",
      " Accuracy: 0.8101024541339051 \n",
      " Precision: 0.7799496768771598 \n",
      " Recall: 0.7893433509229676 \n",
      " F1 score: 0.7840430253383504\n",
      "best accuracy = 0.8589591723920083, with 12 features, with Kendalls_correlation\n"
     ]
    },
    {
     "name": "stderr",
     "output_type": "stream",
     "text": [
      "\r",
      " 63%|██████▎   | 17/27 [4:47:28<2:24:01, 864.17s/it]"
     ]
    },
    {
     "name": "stdout",
     "output_type": "stream",
     "text": [
      "Index(['temperature', 'holiday', 'month', 'day', 'pressure', 'dayOfTheWeek',\n",
      "       'shower rain', 'broken clouds', 'heavy intensity rain', 'fog', 'year',\n",
      "       'overcast clouds', 'minute', 'haze', 'thunderstorm with light rain',\n",
      "       'mist', 'light intensity drizzle'],\n",
      "      dtype='object')\n",
      "For 17 features: \n",
      " Accuracy: 0.8245446591903285 \n",
      " Precision: 0.8034393135288829 \n",
      " Recall: 0.7912317199997871 \n",
      " F1 score: 0.7962003176416018\n",
      "best accuracy = 0.8589591723920083, with 12 features, with Kendalls_correlation\n"
     ]
    },
    {
     "name": "stderr",
     "output_type": "stream",
     "text": [
      "\r",
      " 67%|██████▋   | 18/27 [5:02:45<2:11:59, 879.91s/it]"
     ]
    },
    {
     "name": "stdout",
     "output_type": "stream",
     "text": [
      "Index(['temperature', 'holiday', 'month', 'day', 'pressure', 'dayOfTheWeek',\n",
      "       'shower rain', 'broken clouds', 'heavy intensity rain', 'fog', 'year',\n",
      "       'overcast clouds', 'minute', 'haze', 'thunderstorm with light rain',\n",
      "       'mist', 'light intensity drizzle', 'scattered clouds'],\n",
      "      dtype='object')\n",
      "For 18 features: \n",
      " Accuracy: 0.8180007964954201 \n",
      " Precision: 0.7933954420395818 \n",
      " Recall: 0.7857223527514822 \n",
      " F1 score: 0.787993659721957\n",
      "best accuracy = 0.8589591723920083, with 12 features, with Kendalls_correlation\n"
     ]
    },
    {
     "name": "stderr",
     "output_type": "stream",
     "text": [
      "\r",
      " 70%|███████   | 19/27 [5:13:26<1:47:45, 808.21s/it]"
     ]
    },
    {
     "name": "stdout",
     "output_type": "stream",
     "text": [
      "Index(['temperature', 'holiday', 'month', 'day', 'pressure', 'dayOfTheWeek',\n",
      "       'shower rain', 'broken clouds', 'heavy intensity rain', 'fog', 'year',\n",
      "       'overcast clouds', 'minute', 'haze', 'thunderstorm with light rain',\n",
      "       'mist', 'light intensity drizzle', 'scattered clouds', 'clear sky'],\n",
      "      dtype='object')\n",
      "For 19 features: \n",
      " Accuracy: 0.8086464066363563 \n",
      " Precision: 0.778972249617357 \n",
      " Recall: 0.7932632701273609 \n",
      " F1 score: 0.7840765250568928\n",
      "best accuracy = 0.8589591723920083, with 12 features, with Kendalls_correlation\n"
     ]
    },
    {
     "name": "stderr",
     "output_type": "stream",
     "text": [
      "\r",
      " 74%|███████▍  | 20/27 [5:25:17<1:30:53, 779.00s/it]"
     ]
    },
    {
     "name": "stdout",
     "output_type": "stream",
     "text": [
      "Index(['temperature', 'holiday', 'month', 'day', 'pressure', 'dayOfTheWeek',\n",
      "       'shower rain', 'broken clouds', 'heavy intensity rain', 'fog', 'year',\n",
      "       'overcast clouds', 'minute', 'haze', 'thunderstorm with light rain',\n",
      "       'mist', 'light intensity drizzle', 'scattered clouds', 'clear sky',\n",
      "       'few clouds'],\n",
      "      dtype='object')\n",
      "For 20 features: \n",
      " Accuracy: 0.8372074446840801 \n",
      " Precision: 0.813571319593587 \n",
      " Recall: 0.8025146941324298 \n",
      " F1 score: 0.8070962671491051\n",
      "best accuracy = 0.8589591723920083, with 12 features, with Kendalls_correlation\n"
     ]
    },
    {
     "name": "stderr",
     "output_type": "stream",
     "text": [
      "\r",
      " 78%|███████▊  | 21/27 [5:38:13<1:17:48, 778.12s/it]"
     ]
    },
    {
     "name": "stdout",
     "output_type": "stream",
     "text": [
      "Index(['temperature', 'holiday', 'month', 'day', 'pressure', 'dayOfTheWeek',\n",
      "       'shower rain', 'broken clouds', 'heavy intensity rain', 'fog', 'year',\n",
      "       'overcast clouds', 'minute', 'haze', 'thunderstorm with light rain',\n",
      "       'mist', 'light intensity drizzle', 'scattered clouds', 'clear sky',\n",
      "       'few clouds', 'thunderstorm'],\n",
      "      dtype='object')\n",
      "For 21 features: \n",
      " Accuracy: 0.8019358451323894 \n",
      " Precision: 0.7721555345775603 \n",
      " Recall: 0.7902494677972974 \n",
      " F1 score: 0.7779299704658512\n",
      "best accuracy = 0.8589591723920083, with 12 features, with Kendalls_correlation\n"
     ]
    },
    {
     "name": "stderr",
     "output_type": "stream",
     "text": [
      "\r",
      " 81%|████████▏ | 22/27 [5:53:54<1:08:54, 826.98s/it]"
     ]
    },
    {
     "name": "stdout",
     "output_type": "stream",
     "text": [
      "Index(['temperature', 'holiday', 'month', 'day', 'pressure', 'dayOfTheWeek',\n",
      "       'shower rain', 'broken clouds', 'heavy intensity rain', 'fog', 'year',\n",
      "       'overcast clouds', 'minute', 'haze', 'thunderstorm with light rain',\n",
      "       'mist', 'light intensity drizzle', 'scattered clouds', 'clear sky',\n",
      "       'few clouds', 'thunderstorm', 'very heavy rain'],\n",
      "      dtype='object')\n",
      "For 22 features: \n",
      " Accuracy: 0.8123848433870063 \n",
      " Precision: 0.785058820827963 \n",
      " Recall: 0.7874812930619147 \n",
      " F1 score: 0.7842474901558651\n",
      "best accuracy = 0.8589591723920083, with 12 features, with Kendalls_correlation\n"
     ]
    },
    {
     "name": "stderr",
     "output_type": "stream",
     "text": [
      "\r",
      " 85%|████████▌ | 23/27 [6:04:47<51:39, 774.99s/it]  "
     ]
    },
    {
     "name": "stdout",
     "output_type": "stream",
     "text": [
      "Index(['temperature', 'holiday', 'month', 'day', 'pressure', 'dayOfTheWeek',\n",
      "       'shower rain', 'broken clouds', 'heavy intensity rain', 'fog', 'year',\n",
      "       'overcast clouds', 'minute', 'haze', 'thunderstorm with light rain',\n",
      "       'mist', 'light intensity drizzle', 'scattered clouds', 'clear sky',\n",
      "       'few clouds', 'thunderstorm', 'very heavy rain', 'moderate rain'],\n",
      "      dtype='object')\n",
      "For 23 features: \n",
      " Accuracy: 0.8226233453670276 \n",
      " Precision: 0.8073773117833353 \n",
      " Recall: 0.800446455988904 \n",
      " F1 score: 0.8001578988306843\n",
      "best accuracy = 0.8589591723920083, with 12 features, with Kendalls_correlation\n"
     ]
    },
    {
     "name": "stderr",
     "output_type": "stream",
     "text": [
      "\r",
      " 89%|████████▉ | 24/27 [6:18:45<39:41, 793.88s/it]"
     ]
    },
    {
     "name": "stdout",
     "output_type": "stream",
     "text": [
      "Index(['temperature', 'holiday', 'month', 'day', 'pressure', 'dayOfTheWeek',\n",
      "       'shower rain', 'broken clouds', 'heavy intensity rain', 'fog', 'year',\n",
      "       'overcast clouds', 'minute', 'haze', 'thunderstorm with light rain',\n",
      "       'mist', 'light intensity drizzle', 'scattered clouds', 'clear sky',\n",
      "       'few clouds', 'thunderstorm', 'very heavy rain', 'moderate rain',\n",
      "       'thunderstorm with rain'],\n",
      "      dtype='object')\n",
      "For 24 features: \n",
      " Accuracy: 0.8089499477785812 \n",
      " Precision: 0.7889926534553438 \n",
      " Recall: 0.794197130362335 \n",
      " F1 score: 0.7888574152859327\n",
      "best accuracy = 0.8589591723920083, with 12 features, with Kendalls_correlation\n"
     ]
    },
    {
     "name": "stderr",
     "output_type": "stream",
     "text": [
      "\r",
      " 93%|█████████▎| 25/27 [6:33:10<27:09, 814.98s/it]"
     ]
    },
    {
     "name": "stdout",
     "output_type": "stream",
     "text": [
      "Index(['temperature', 'holiday', 'month', 'day', 'pressure', 'dayOfTheWeek',\n",
      "       'shower rain', 'broken clouds', 'heavy intensity rain', 'fog', 'year',\n",
      "       'overcast clouds', 'minute', 'haze', 'thunderstorm with light rain',\n",
      "       'mist', 'light intensity drizzle', 'scattered clouds', 'clear sky',\n",
      "       'few clouds', 'thunderstorm', 'very heavy rain', 'moderate rain',\n",
      "       'thunderstorm with rain', 'light rain'],\n",
      "      dtype='object')\n",
      "For 25 features: \n",
      " Accuracy: 0.8307184809719205 \n",
      " Precision: 0.8020407947212789 \n",
      " Recall: 0.8073598884234757 \n",
      " F1 score: 0.8043322576617729\n",
      "best accuracy = 0.8589591723920083, with 12 features, with Kendalls_correlation\n"
     ]
    },
    {
     "name": "stderr",
     "output_type": "stream",
     "text": [
      "\r",
      " 96%|█████████▋| 26/27 [6:42:51<12:24, 744.97s/it]"
     ]
    },
    {
     "name": "stdout",
     "output_type": "stream",
     "text": [
      "Index(['temperature', 'holiday', 'month', 'day', 'pressure', 'dayOfTheWeek',\n",
      "       'shower rain', 'broken clouds', 'heavy intensity rain', 'fog', 'year',\n",
      "       'overcast clouds', 'minute', 'haze', 'thunderstorm with light rain',\n",
      "       'mist', 'light intensity drizzle', 'scattered clouds', 'clear sky',\n",
      "       'few clouds', 'thunderstorm', 'very heavy rain', 'moderate rain',\n",
      "       'thunderstorm with rain', 'light rain', 'humidity'],\n",
      "      dtype='object')\n",
      "For 26 features: \n",
      " Accuracy: 0.8414309886391105 \n",
      " Precision: 0.8275169555001782 \n",
      " Recall: 0.8223925767169518 \n",
      " F1 score: 0.8214701696687456\n",
      "best accuracy = 0.8589591723920083, with 12 features, with Kendalls_correlation\n"
     ]
    },
    {
     "name": "stderr",
     "output_type": "stream",
     "text": [
      "100%|██████████| 27/27 [6:51:20<00:00, 914.11s/it]\n",
      "  0%|          | 0/27 [00:00<?, ?it/s]"
     ]
    },
    {
     "name": "stdout",
     "output_type": "stream",
     "text": [
      "Index(['temperature', 'holiday', 'month', 'day', 'pressure', 'dayOfTheWeek',\n",
      "       'shower rain', 'broken clouds', 'heavy intensity rain', 'fog', 'year',\n",
      "       'overcast clouds', 'minute', 'haze', 'thunderstorm with light rain',\n",
      "       'mist', 'light intensity drizzle', 'scattered clouds', 'clear sky',\n",
      "       'few clouds', 'thunderstorm', 'very heavy rain', 'moderate rain',\n",
      "       'thunderstorm with rain', 'light rain', 'humidity', 'hour'],\n",
      "      dtype='object')\n",
      "For 27 features: \n",
      " Accuracy: 0.8699265714516259 \n",
      " Precision: 0.8527003575626846 \n",
      " Recall: 0.8470242995678572 \n",
      " F1 score: 0.849754090814299\n",
      "best accuracy = 0.8699265714516259, with 27 features, with Kendalls_correlation\n",
      "best accuracy = 0.8699265714516259, with 27 features, with Kendalls_correlation\n",
      "\n",
      " \n",
      "\n",
      "------------------------- Analyzing method mutualInformation_classification -------------------------\n",
      "The variable order is: \n",
      " ['month', 'day', 'year', 'hour', 'minute', 'holiday', 'dayOfTheWeek', 'Pandemic', 'temperature', 'humidity', 'pressure', 'heavy intensity rain', 'light rain', 'broken clouds', 'moderate rain', 'mist', 'overcast clouds', 'clear sky', 'scattered clouds', 'thunderstorm with rain', 'few clouds', 'thunderstorm', 'shower rain', 'very heavy rain', 'fog', 'haze', 'thunderstorm with light rain', 'light intensity drizzle']\n"
     ]
    },
    {
     "name": "stderr",
     "output_type": "stream",
     "text": [
      "\r",
      "  4%|▎         | 1/27 [01:03<27:23, 63.19s/it]"
     ]
    },
    {
     "name": "stdout",
     "output_type": "stream",
     "text": [
      "Index(['month'], dtype='object')\n",
      "For 1 features: \n",
      " Accuracy: 0.5124848484848484 \n",
      " Precision: 0.4461200453811484 \n",
      " Recall: 0.44448010436289714 \n",
      " F1 score: 0.44143329592380437\n",
      "best accuracy = 0.5124848484848484, with 1 features, with mutualInformation_classification\n"
     ]
    },
    {
     "name": "stderr",
     "output_type": "stream",
     "text": [
      "\r",
      "  7%|▋         | 2/27 [03:37<48:42, 116.90s/it]"
     ]
    },
    {
     "name": "stdout",
     "output_type": "stream",
     "text": [
      "Index(['month', 'day'], dtype='object')\n",
      "For 2 features: \n",
      " Accuracy: 0.6810714574734968 \n",
      " Precision: 0.6414296204417065 \n",
      " Recall: 0.6727939404520993 \n",
      " F1 score: 0.6482494432022746\n",
      "best accuracy = 0.6810714574734968, with 2 features, with mutualInformation_classification\n"
     ]
    },
    {
     "name": "stderr",
     "output_type": "stream",
     "text": [
      "\r",
      " 11%|█         | 3/27 [06:19<54:55, 137.30s/it]"
     ]
    },
    {
     "name": "stdout",
     "output_type": "stream",
     "text": [
      "Index(['month', 'day', 'year'], dtype='object')\n",
      "For 3 features: \n",
      " Accuracy: 0.6811735148715455 \n",
      " Precision: 0.6396701033446157 \n",
      " Recall: 0.6721625168696658 \n",
      " F1 score: 0.6462784206660032\n",
      "best accuracy = 0.6811735148715455, with 3 features, with mutualInformation_classification\n"
     ]
    },
    {
     "name": "stderr",
     "output_type": "stream",
     "text": [
      "\r",
      " 15%|█▍        | 4/27 [13:29<1:37:02, 253.15s/it]"
     ]
    },
    {
     "name": "stdout",
     "output_type": "stream",
     "text": [
      "Index(['month', 'day', 'year', 'hour'], dtype='object')\n",
      "For 4 features: \n",
      " Accuracy: 0.8487135784433082 \n",
      " Precision: 0.8240092813641059 \n",
      " Recall: 0.81682490998802 \n",
      " F1 score: 0.8201343768489275\n",
      "best accuracy = 0.8487135784433082, with 4 features, with mutualInformation_classification\n"
     ]
    },
    {
     "name": "stderr",
     "output_type": "stream",
     "text": [
      "\r",
      " 19%|█▊        | 5/27 [20:13<1:52:42, 307.38s/it]"
     ]
    },
    {
     "name": "stdout",
     "output_type": "stream",
     "text": [
      "Index(['month', 'day', 'year', 'hour', 'minute'], dtype='object')\n",
      "For 5 features: \n",
      " Accuracy: 0.8557262456311469 \n",
      " Precision: 0.8336348564035877 \n",
      " Recall: 0.8250721741606166 \n",
      " F1 score: 0.8290354432604753\n",
      "best accuracy = 0.8557262456311469, with 5 features, with mutualInformation_classification\n"
     ]
    },
    {
     "name": "stderr",
     "output_type": "stream",
     "text": [
      "\r",
      " 22%|██▏       | 6/27 [26:58<1:59:12, 340.58s/it]"
     ]
    },
    {
     "name": "stdout",
     "output_type": "stream",
     "text": [
      "Index(['month', 'day', 'year', 'hour', 'minute', 'holiday'], dtype='object')\n",
      "For 6 features: \n",
      " Accuracy: 0.852991452991453 \n",
      " Precision: 0.8295106566156027 \n",
      " Recall: 0.8233522103550144 \n",
      " F1 score: 0.8262953126448717\n",
      "best accuracy = 0.8557262456311469, with 5 features, with mutualInformation_classification\n"
     ]
    },
    {
     "name": "stderr",
     "output_type": "stream",
     "text": [
      "\r",
      " 26%|██▌       | 7/27 [33:21<1:58:10, 354.51s/it]"
     ]
    },
    {
     "name": "stdout",
     "output_type": "stream",
     "text": [
      "Index(['month', 'day', 'year', 'hour', 'minute', 'holiday', 'dayOfTheWeek'], dtype='object')\n",
      "For 7 features: \n",
      " Accuracy: 0.8581560283687943 \n",
      " Precision: 0.8366915826839113 \n",
      " Recall: 0.8262373876127598 \n",
      " F1 score: 0.8311026175584135\n",
      "best accuracy = 0.8581560283687943, with 7 features, with mutualInformation_classification\n"
     ]
    },
    {
     "name": "stderr",
     "output_type": "stream",
     "text": [
      "\r",
      " 30%|██▉       | 8/27 [39:57<1:56:26, 367.69s/it]"
     ]
    },
    {
     "name": "stdout",
     "output_type": "stream",
     "text": [
      "Index(['month', 'day', 'year', 'hour', 'minute', 'holiday', 'dayOfTheWeek',\n",
      "       'Pandemic'],\n",
      "      dtype='object')\n",
      "For 8 features: \n",
      " Accuracy: 0.8534574250959261 \n",
      " Precision: 0.8308313883250947 \n",
      " Recall: 0.8222923835529042 \n",
      " F1 score: 0.8262959903756842\n",
      "best accuracy = 0.8581560283687943, with 7 features, with mutualInformation_classification\n"
     ]
    },
    {
     "name": "stderr",
     "output_type": "stream",
     "text": [
      "\r",
      " 33%|███▎      | 9/27 [46:44<1:53:56, 379.82s/it]"
     ]
    },
    {
     "name": "stdout",
     "output_type": "stream",
     "text": [
      "Index(['month', 'day', 'year', 'hour', 'minute', 'holiday', 'dayOfTheWeek',\n",
      "       'Pandemic', 'temperature'],\n",
      "      dtype='object')\n",
      "For 9 features: \n",
      " Accuracy: 0.856675660207669 \n",
      " Precision: 0.8308408804020332 \n",
      " Recall: 0.8280647533670391 \n",
      " F1 score: 0.8293625920881401\n",
      "best accuracy = 0.8581560283687943, with 7 features, with mutualInformation_classification\n"
     ]
    },
    {
     "name": "stderr",
     "output_type": "stream",
     "text": [
      "\r",
      " 37%|███▋      | 10/27 [54:18<1:54:06, 402.71s/it]"
     ]
    },
    {
     "name": "stdout",
     "output_type": "stream",
     "text": [
      "Index(['month', 'day', 'year', 'hour', 'minute', 'holiday', 'dayOfTheWeek',\n",
      "       'Pandemic', 'temperature', 'humidity'],\n",
      "      dtype='object')\n",
      "For 10 features: \n",
      " Accuracy: 0.8657987390485549 \n",
      " Precision: 0.8396624978476743 \n",
      " Recall: 0.8395849980574996 \n",
      " F1 score: 0.8395820113507262\n",
      "best accuracy = 0.8657987390485549, with 10 features, with mutualInformation_classification\n"
     ]
    },
    {
     "name": "stderr",
     "output_type": "stream",
     "text": [
      "\r",
      " 41%|████      | 11/27 [1:02:07<1:52:51, 423.23s/it]"
     ]
    },
    {
     "name": "stdout",
     "output_type": "stream",
     "text": [
      "Index(['month', 'day', 'year', 'hour', 'minute', 'holiday', 'dayOfTheWeek',\n",
      "       'Pandemic', 'temperature', 'humidity', 'pressure'],\n",
      "      dtype='object')\n",
      "For 11 features: \n",
      " Accuracy: 0.8650266502665026 \n",
      " Precision: 0.8423414724862551 \n",
      " Recall: 0.8359871806610747 \n",
      " F1 score: 0.8390028913072717\n",
      "best accuracy = 0.8657987390485549, with 10 features, with mutualInformation_classification\n"
     ]
    },
    {
     "name": "stderr",
     "output_type": "stream",
     "text": [
      "\r",
      " 44%|████▍     | 12/27 [1:10:02<1:49:44, 438.97s/it]"
     ]
    },
    {
     "name": "stdout",
     "output_type": "stream",
     "text": [
      "Index(['month', 'day', 'year', 'hour', 'minute', 'holiday', 'dayOfTheWeek',\n",
      "       'Pandemic', 'temperature', 'humidity', 'pressure',\n",
      "       'heavy intensity rain'],\n",
      "      dtype='object')\n",
      "For 12 features: \n",
      " Accuracy: 0.8690153568202349 \n",
      " Precision: 0.8478122319059499 \n",
      " Recall: 0.8449493395911919 \n",
      " F1 score: 0.8463171045270411\n",
      "best accuracy = 0.8690153568202349, with 12 features, with mutualInformation_classification\n"
     ]
    },
    {
     "name": "stderr",
     "output_type": "stream",
     "text": [
      "\r",
      " 48%|████▊     | 13/27 [1:18:13<1:46:04, 454.63s/it]"
     ]
    },
    {
     "name": "stdout",
     "output_type": "stream",
     "text": [
      "Index(['month', 'day', 'year', 'hour', 'minute', 'holiday', 'dayOfTheWeek',\n",
      "       'Pandemic', 'temperature', 'humidity', 'pressure',\n",
      "       'heavy intensity rain', 'light rain'],\n",
      "      dtype='object')\n",
      "For 13 features: \n",
      " Accuracy: 0.8630643967431533 \n",
      " Precision: 0.8425175905407766 \n",
      " Recall: 0.8352445484997082 \n",
      " F1 score: 0.8386826582398652\n",
      "best accuracy = 0.8690153568202349, with 12 features, with mutualInformation_classification\n"
     ]
    },
    {
     "name": "stderr",
     "output_type": "stream",
     "text": [
      "\r",
      " 52%|█████▏    | 14/27 [1:26:16<1:40:21, 463.15s/it]"
     ]
    },
    {
     "name": "stdout",
     "output_type": "stream",
     "text": [
      "Index(['month', 'day', 'year', 'hour', 'minute', 'holiday', 'dayOfTheWeek',\n",
      "       'Pandemic', 'temperature', 'humidity', 'pressure',\n",
      "       'heavy intensity rain', 'light rain', 'broken clouds'],\n",
      "      dtype='object')\n",
      "For 14 features: \n",
      " Accuracy: 0.866238365867721 \n",
      " Precision: 0.8419670813680022 \n",
      " Recall: 0.8397714209992118 \n",
      " F1 score: 0.8407632500673349\n",
      "best accuracy = 0.8690153568202349, with 12 features, with mutualInformation_classification\n"
     ]
    },
    {
     "name": "stderr",
     "output_type": "stream",
     "text": [
      "\r",
      " 56%|█████▌    | 15/27 [1:34:19<1:33:50, 469.23s/it]"
     ]
    },
    {
     "name": "stdout",
     "output_type": "stream",
     "text": [
      "Index(['month', 'day', 'year', 'hour', 'minute', 'holiday', 'dayOfTheWeek',\n",
      "       'Pandemic', 'temperature', 'humidity', 'pressure',\n",
      "       'heavy intensity rain', 'light rain', 'broken clouds', 'moderate rain'],\n",
      "      dtype='object')\n",
      "For 15 features: \n",
      " Accuracy: 0.8675245401303308 \n",
      " Precision: 0.8472610420735367 \n",
      " Recall: 0.8411253309748163 \n",
      " F1 score: 0.8440935659353905\n",
      "best accuracy = 0.8690153568202349, with 12 features, with mutualInformation_classification\n"
     ]
    },
    {
     "name": "stderr",
     "output_type": "stream",
     "text": [
      "\r",
      " 59%|█████▉    | 16/27 [1:42:26<1:27:01, 474.65s/it]"
     ]
    },
    {
     "name": "stdout",
     "output_type": "stream",
     "text": [
      "Index(['month', 'day', 'year', 'hour', 'minute', 'holiday', 'dayOfTheWeek',\n",
      "       'Pandemic', 'temperature', 'humidity', 'pressure',\n",
      "       'heavy intensity rain', 'light rain', 'broken clouds', 'moderate rain',\n",
      "       'mist'],\n",
      "      dtype='object')\n",
      "For 16 features: \n",
      " Accuracy: 0.8659231722428749 \n",
      " Precision: 0.8397006987483485 \n",
      " Recall: 0.8377437013044288 \n",
      " F1 score: 0.8386907403900171\n",
      "best accuracy = 0.8690153568202349, with 12 features, with mutualInformation_classification\n"
     ]
    },
    {
     "name": "stderr",
     "output_type": "stream",
     "text": [
      "\r",
      " 63%|██████▎   | 17/27 [1:50:45<1:20:18, 481.85s/it]"
     ]
    },
    {
     "name": "stdout",
     "output_type": "stream",
     "text": [
      "Index(['month', 'day', 'year', 'hour', 'minute', 'holiday', 'dayOfTheWeek',\n",
      "       'Pandemic', 'temperature', 'humidity', 'pressure',\n",
      "       'heavy intensity rain', 'light rain', 'broken clouds', 'moderate rain',\n",
      "       'mist', 'overcast clouds'],\n",
      "      dtype='object')\n",
      "For 17 features: \n",
      " Accuracy: 0.8653925705303218 \n",
      " Precision: 0.8424689970237328 \n",
      " Recall: 0.838884208091247 \n",
      " F1 score: 0.8405618674068757\n",
      "best accuracy = 0.8690153568202349, with 12 features, with mutualInformation_classification\n"
     ]
    },
    {
     "name": "stderr",
     "output_type": "stream",
     "text": [
      "\r",
      " 67%|██████▋   | 18/27 [1:59:08<1:13:13, 488.18s/it]"
     ]
    },
    {
     "name": "stdout",
     "output_type": "stream",
     "text": [
      "Index(['month', 'day', 'year', 'hour', 'minute', 'holiday', 'dayOfTheWeek',\n",
      "       'Pandemic', 'temperature', 'humidity', 'pressure',\n",
      "       'heavy intensity rain', 'light rain', 'broken clouds', 'moderate rain',\n",
      "       'mist', 'overcast clouds', 'clear sky'],\n",
      "      dtype='object')\n",
      "For 18 features: \n",
      " Accuracy: 0.8683403761703538 \n",
      " Precision: 0.8483228076198793 \n",
      " Recall: 0.843111856202367 \n",
      " F1 score: 0.8455677314106292\n",
      "best accuracy = 0.8690153568202349, with 12 features, with mutualInformation_classification\n"
     ]
    },
    {
     "name": "stderr",
     "output_type": "stream",
     "text": [
      "\r",
      " 70%|███████   | 19/27 [2:07:15<1:05:03, 487.93s/it]"
     ]
    },
    {
     "name": "stdout",
     "output_type": "stream",
     "text": [
      "Index(['month', 'day', 'year', 'hour', 'minute', 'holiday', 'dayOfTheWeek',\n",
      "       'Pandemic', 'temperature', 'humidity', 'pressure',\n",
      "       'heavy intensity rain', 'light rain', 'broken clouds', 'moderate rain',\n",
      "       'mist', 'overcast clouds', 'clear sky', 'scattered clouds'],\n",
      "      dtype='object')\n",
      "For 19 features: \n",
      " Accuracy: 0.8634138245788732 \n",
      " Precision: 0.8421309164011063 \n",
      " Recall: 0.8372650370698285 \n",
      " F1 score: 0.8395057471031827\n",
      "best accuracy = 0.8690153568202349, with 12 features, with mutualInformation_classification\n"
     ]
    },
    {
     "name": "stderr",
     "output_type": "stream",
     "text": [
      "\r",
      " 74%|███████▍  | 20/27 [2:15:29<57:07, 489.64s/it]  "
     ]
    },
    {
     "name": "stdout",
     "output_type": "stream",
     "text": [
      "Index(['month', 'day', 'year', 'hour', 'minute', 'holiday', 'dayOfTheWeek',\n",
      "       'Pandemic', 'temperature', 'humidity', 'pressure',\n",
      "       'heavy intensity rain', 'light rain', 'broken clouds', 'moderate rain',\n",
      "       'mist', 'overcast clouds', 'clear sky', 'scattered clouds',\n",
      "       'thunderstorm with rain'],\n",
      "      dtype='object')\n",
      "For 20 features: \n",
      " Accuracy: 0.8657026510429652 \n",
      " Precision: 0.8406454240232603 \n",
      " Recall: 0.8374977878303025 \n",
      " F1 score: 0.8389615218154937\n",
      "best accuracy = 0.8690153568202349, with 12 features, with mutualInformation_classification\n"
     ]
    },
    {
     "name": "stderr",
     "output_type": "stream",
     "text": [
      "\r",
      " 78%|███████▊  | 21/27 [2:23:42<49:04, 490.83s/it]"
     ]
    },
    {
     "name": "stdout",
     "output_type": "stream",
     "text": [
      "Index(['month', 'day', 'year', 'hour', 'minute', 'holiday', 'dayOfTheWeek',\n",
      "       'Pandemic', 'temperature', 'humidity', 'pressure',\n",
      "       'heavy intensity rain', 'light rain', 'broken clouds', 'moderate rain',\n",
      "       'mist', 'overcast clouds', 'clear sky', 'scattered clouds',\n",
      "       'thunderstorm with rain', 'few clouds'],\n",
      "      dtype='object')\n",
      "For 21 features: \n",
      " Accuracy: 0.8653349979192676 \n",
      " Precision: 0.8420829625902275 \n",
      " Recall: 0.8379258256243504 \n",
      " F1 score: 0.8399336649801801\n",
      "best accuracy = 0.8690153568202349, with 12 features, with mutualInformation_classification\n"
     ]
    },
    {
     "name": "stderr",
     "output_type": "stream",
     "text": [
      "\r",
      " 81%|████████▏ | 22/27 [2:32:03<41:09, 493.81s/it]"
     ]
    },
    {
     "name": "stdout",
     "output_type": "stream",
     "text": [
      "Index(['month', 'day', 'year', 'hour', 'minute', 'holiday', 'dayOfTheWeek',\n",
      "       'Pandemic', 'temperature', 'humidity', 'pressure',\n",
      "       'heavy intensity rain', 'light rain', 'broken clouds', 'moderate rain',\n",
      "       'mist', 'overcast clouds', 'clear sky', 'scattered clouds',\n",
      "       'thunderstorm with rain', 'few clouds', 'thunderstorm'],\n",
      "      dtype='object')\n",
      "For 22 features: \n",
      " Accuracy: 0.8667166791697924 \n",
      " Precision: 0.8476198942039926 \n",
      " Recall: 0.8397369341612309 \n",
      " F1 score: 0.843441546935155\n",
      "best accuracy = 0.8690153568202349, with 12 features, with mutualInformation_classification\n"
     ]
    },
    {
     "name": "stderr",
     "output_type": "stream",
     "text": [
      "\r",
      " 85%|████████▌ | 23/27 [2:40:32<33:13, 498.35s/it]"
     ]
    },
    {
     "name": "stdout",
     "output_type": "stream",
     "text": [
      "Index(['month', 'day', 'year', 'hour', 'minute', 'holiday', 'dayOfTheWeek',\n",
      "       'Pandemic', 'temperature', 'humidity', 'pressure',\n",
      "       'heavy intensity rain', 'light rain', 'broken clouds', 'moderate rain',\n",
      "       'mist', 'overcast clouds', 'clear sky', 'scattered clouds',\n",
      "       'thunderstorm with rain', 'few clouds', 'thunderstorm', 'shower rain'],\n",
      "      dtype='object')\n",
      "For 23 features: \n",
      " Accuracy: 0.870439936555639 \n",
      " Precision: 0.8509212111336832 \n",
      " Recall: 0.847323276134524 \n",
      " F1 score: 0.8490668014936764\n",
      "best accuracy = 0.870439936555639, with 23 features, with mutualInformation_classification\n"
     ]
    },
    {
     "name": "stderr",
     "output_type": "stream",
     "text": [
      "\r",
      " 89%|████████▉ | 24/27 [2:48:48<24:53, 497.72s/it]"
     ]
    },
    {
     "name": "stdout",
     "output_type": "stream",
     "text": [
      "Index(['month', 'day', 'year', 'hour', 'minute', 'holiday', 'dayOfTheWeek',\n",
      "       'Pandemic', 'temperature', 'humidity', 'pressure',\n",
      "       'heavy intensity rain', 'light rain', 'broken clouds', 'moderate rain',\n",
      "       'mist', 'overcast clouds', 'clear sky', 'scattered clouds',\n",
      "       'thunderstorm with rain', 'few clouds', 'thunderstorm', 'shower rain',\n",
      "       'very heavy rain'],\n",
      "      dtype='object')\n",
      "For 24 features: \n",
      " Accuracy: 0.8662319204079927 \n",
      " Precision: 0.8473679616522652 \n",
      " Recall: 0.8391285308676009 \n",
      " F1 score: 0.8429698484133673\n",
      "best accuracy = 0.870439936555639, with 23 features, with mutualInformation_classification\n"
     ]
    },
    {
     "name": "stderr",
     "output_type": "stream",
     "text": [
      "\r",
      " 93%|█████████▎| 25/27 [2:57:15<16:40, 500.39s/it]"
     ]
    },
    {
     "name": "stdout",
     "output_type": "stream",
     "text": [
      "Index(['month', 'day', 'year', 'hour', 'minute', 'holiday', 'dayOfTheWeek',\n",
      "       'Pandemic', 'temperature', 'humidity', 'pressure',\n",
      "       'heavy intensity rain', 'light rain', 'broken clouds', 'moderate rain',\n",
      "       'mist', 'overcast clouds', 'clear sky', 'scattered clouds',\n",
      "       'thunderstorm with rain', 'few clouds', 'thunderstorm', 'shower rain',\n",
      "       'very heavy rain', 'fog'],\n",
      "      dtype='object')\n",
      "For 25 features: \n",
      " Accuracy: 0.865193000083731 \n",
      " Precision: 0.8438402305936618 \n",
      " Recall: 0.8390518831406744 \n",
      " F1 score: 0.8412614794222787\n",
      "best accuracy = 0.870439936555639, with 23 features, with mutualInformation_classification\n"
     ]
    },
    {
     "name": "stderr",
     "output_type": "stream",
     "text": [
      "\r",
      " 96%|█████████▋| 26/27 [3:05:37<08:20, 500.78s/it]"
     ]
    },
    {
     "name": "stdout",
     "output_type": "stream",
     "text": [
      "Index(['month', 'day', 'year', 'hour', 'minute', 'holiday', 'dayOfTheWeek',\n",
      "       'Pandemic', 'temperature', 'humidity', 'pressure',\n",
      "       'heavy intensity rain', 'light rain', 'broken clouds', 'moderate rain',\n",
      "       'mist', 'overcast clouds', 'clear sky', 'scattered clouds',\n",
      "       'thunderstorm with rain', 'few clouds', 'thunderstorm', 'shower rain',\n",
      "       'very heavy rain', 'fog', 'haze'],\n",
      "      dtype='object')\n",
      "For 26 features: \n",
      " Accuracy: 0.8707756813417191 \n",
      " Precision: 0.8493521622728536 \n",
      " Recall: 0.8469290439701126 \n",
      " F1 score: 0.8480138457474085\n",
      "best accuracy = 0.8707756813417191, with 26 features, with mutualInformation_classification\n"
     ]
    },
    {
     "name": "stderr",
     "output_type": "stream",
     "text": [
      "100%|██████████| 27/27 [3:14:06<00:00, 431.35s/it]\n",
      "  0%|          | 0/27 [00:00<?, ?it/s]"
     ]
    },
    {
     "name": "stdout",
     "output_type": "stream",
     "text": [
      "Index(['month', 'day', 'year', 'hour', 'minute', 'holiday', 'dayOfTheWeek',\n",
      "       'Pandemic', 'temperature', 'humidity', 'pressure',\n",
      "       'heavy intensity rain', 'light rain', 'broken clouds', 'moderate rain',\n",
      "       'mist', 'overcast clouds', 'clear sky', 'scattered clouds',\n",
      "       'thunderstorm with rain', 'few clouds', 'thunderstorm', 'shower rain',\n",
      "       'very heavy rain', 'fog', 'haze', 'thunderstorm with light rain'],\n",
      "      dtype='object')\n",
      "For 27 features: \n",
      " Accuracy: 0.8659611992945326 \n",
      " Precision: 0.8425208736164712 \n",
      " Recall: 0.8371046451981322 \n",
      " F1 score: 0.839634928177069\n",
      "best accuracy = 0.8707756813417191, with 26 features, with mutualInformation_classification\n",
      "best accuracy = 0.8707756813417191, with 26 features, with mutualInformation_classification\n",
      "\n",
      " \n",
      "\n",
      "------------------------- Analyzing method mutualInformation_reggression -------------------------\n",
      "The variable order is: \n",
      " ['month', 'day', 'year', 'hour', 'minute', 'holiday', 'dayOfTheWeek', 'Pandemic', 'temperature', 'humidity', 'pressure', 'heavy intensity rain', 'light rain', 'broken clouds', 'moderate rain', 'mist', 'overcast clouds', 'clear sky', 'scattered clouds', 'thunderstorm with rain', 'few clouds', 'thunderstorm', 'shower rain', 'very heavy rain', 'fog', 'haze', 'thunderstorm with light rain', 'light intensity drizzle']\n"
     ]
    },
    {
     "name": "stderr",
     "output_type": "stream",
     "text": [
      "\r",
      "  4%|▎         | 1/27 [01:01<26:50, 61.96s/it]"
     ]
    },
    {
     "name": "stdout",
     "output_type": "stream",
     "text": [
      "Index(['month'], dtype='object')\n",
      "For 1 features: \n",
      " Accuracy: 0.5133316511060644 \n",
      " Precision: 0.4349277233352028 \n",
      " Recall: 0.4319504546550807 \n",
      " F1 score: 0.4303775586729093\n",
      "best accuracy = 0.5133316511060644, with 1 features, with mutualInformation_reggression\n"
     ]
    },
    {
     "name": "stderr",
     "output_type": "stream",
     "text": [
      "\r",
      "  7%|▋         | 2/27 [03:31<47:13, 113.35s/it]"
     ]
    },
    {
     "name": "stdout",
     "output_type": "stream",
     "text": [
      "Index(['month', 'day'], dtype='object')\n",
      "For 2 features: \n",
      " Accuracy: 0.6736584954932188 \n",
      " Precision: 0.632310217627107 \n",
      " Recall: 0.6674020428453009 \n",
      " F1 score: 0.6381533905758063\n",
      "best accuracy = 0.6736584954932188, with 2 features, with mutualInformation_reggression\n"
     ]
    },
    {
     "name": "stderr",
     "output_type": "stream",
     "text": [
      "\r",
      " 11%|█         | 3/27 [06:00<51:54, 129.79s/it]"
     ]
    },
    {
     "name": "stdout",
     "output_type": "stream",
     "text": [
      "Index(['month', 'day', 'year'], dtype='object')\n",
      "For 3 features: \n",
      " Accuracy: 0.6829494642706487 \n",
      " Precision: 0.6380953197016592 \n",
      " Recall: 0.6751438215728879 \n",
      " F1 score: 0.6468066030926082\n",
      "best accuracy = 0.6829494642706487, with 3 features, with mutualInformation_reggression\n"
     ]
    },
    {
     "name": "stderr",
     "output_type": "stream",
     "text": [
      "\r",
      " 15%|█▍        | 4/27 [13:00<1:33:35, 244.14s/it]"
     ]
    },
    {
     "name": "stdout",
     "output_type": "stream",
     "text": [
      "Index(['month', 'day', 'year', 'hour'], dtype='object')\n",
      "For 4 features: \n",
      " Accuracy: 0.8470637938318547 \n",
      " Precision: 0.8226627361880459 \n",
      " Recall: 0.8128107168472869 \n",
      " F1 score: 0.8172903616071963\n",
      "best accuracy = 0.8470637938318547, with 4 features, with mutualInformation_reggression\n"
     ]
    },
    {
     "name": "stderr",
     "output_type": "stream",
     "text": [
      "\r",
      " 19%|█▊        | 5/27 [19:15<1:46:49, 291.32s/it]"
     ]
    },
    {
     "name": "stdout",
     "output_type": "stream",
     "text": [
      "Index(['month', 'day', 'year', 'hour', 'minute'], dtype='object')\n",
      "For 5 features: \n",
      " Accuracy: 0.8552085977828552 \n",
      " Precision: 0.8286612109790654 \n",
      " Recall: 0.8182955528126408 \n",
      " F1 score: 0.8230574649371536\n",
      "best accuracy = 0.8552085977828552, with 5 features, with mutualInformation_reggression\n"
     ]
    },
    {
     "name": "stderr",
     "output_type": "stream",
     "text": [
      "\r",
      " 22%|██▏       | 6/27 [25:25<1:51:24, 318.32s/it]"
     ]
    },
    {
     "name": "stdout",
     "output_type": "stream",
     "text": [
      "Index(['month', 'day', 'year', 'hour', 'minute', 'holiday'], dtype='object')\n",
      "For 6 features: \n",
      " Accuracy: 0.8494787693872362 \n",
      " Precision: 0.8230388945915725 \n",
      " Recall: 0.8152815342081509 \n",
      " F1 score: 0.8189613857164372\n",
      "best accuracy = 0.8552085977828552, with 5 features, with mutualInformation_reggression\n"
     ]
    },
    {
     "name": "stderr",
     "output_type": "stream",
     "text": [
      "\r",
      " 26%|██▌       | 7/27 [31:25<1:50:35, 331.80s/it]"
     ]
    },
    {
     "name": "stdout",
     "output_type": "stream",
     "text": [
      "Index(['month', 'day', 'year', 'hour', 'minute', 'holiday', 'dayOfTheWeek'], dtype='object')\n",
      "For 7 features: \n",
      " Accuracy: 0.8656311009252186 \n",
      " Precision: 0.8384737996317297 \n",
      " Recall: 0.8372872382632005 \n",
      " F1 score: 0.837712929550431\n",
      "best accuracy = 0.8656311009252186, with 7 features, with mutualInformation_reggression\n"
     ]
    },
    {
     "name": "stderr",
     "output_type": "stream",
     "text": [
      "\r",
      " 30%|██▉       | 8/27 [37:31<1:48:34, 342.85s/it]"
     ]
    },
    {
     "name": "stdout",
     "output_type": "stream",
     "text": [
      "Index(['month', 'day', 'year', 'hour', 'minute', 'holiday', 'dayOfTheWeek',\n",
      "       'Pandemic'],\n",
      "      dtype='object')\n",
      "For 8 features: \n",
      " Accuracy: 0.8520785513899515 \n",
      " Precision: 0.8278729814099255 \n",
      " Recall: 0.8179693619065989 \n",
      " F1 score: 0.8225276352116028\n",
      "best accuracy = 0.8656311009252186, with 7 features, with mutualInformation_reggression\n"
     ]
    },
    {
     "name": "stderr",
     "output_type": "stream",
     "text": [
      "\r",
      " 33%|███▎      | 9/27 [43:59<1:47:04, 356.91s/it]"
     ]
    },
    {
     "name": "stdout",
     "output_type": "stream",
     "text": [
      "Index(['month', 'day', 'year', 'hour', 'minute', 'holiday', 'dayOfTheWeek',\n",
      "       'Pandemic', 'temperature'],\n",
      "      dtype='object')\n",
      "For 9 features: \n",
      " Accuracy: 0.8602809706257982 \n",
      " Precision: 0.8341069727150495 \n",
      " Recall: 0.8304506433371626 \n",
      " F1 score: 0.8321982043187331\n",
      "best accuracy = 0.8656311009252186, with 7 features, with mutualInformation_reggression\n"
     ]
    },
    {
     "name": "stderr",
     "output_type": "stream",
     "text": [
      "\r",
      " 37%|███▋      | 10/27 [51:18<1:48:19, 382.30s/it]"
     ]
    },
    {
     "name": "stdout",
     "output_type": "stream",
     "text": [
      "Index(['month', 'day', 'year', 'hour', 'minute', 'holiday', 'dayOfTheWeek',\n",
      "       'Pandemic', 'temperature', 'humidity'],\n",
      "      dtype='object')\n",
      "For 10 features: \n",
      " Accuracy: 0.8606634262812314 \n",
      " Precision: 0.8368144833277247 \n",
      " Recall: 0.8341889104169825 \n",
      " F1 score: 0.8353555186657731\n",
      "best accuracy = 0.8656311009252186, with 7 features, with mutualInformation_reggression\n"
     ]
    },
    {
     "name": "stderr",
     "output_type": "stream",
     "text": [
      "\r",
      " 41%|████      | 11/27 [58:57<1:48:11, 405.71s/it]"
     ]
    },
    {
     "name": "stdout",
     "output_type": "stream",
     "text": [
      "Index(['month', 'day', 'year', 'hour', 'minute', 'holiday', 'dayOfTheWeek',\n",
      "       'Pandemic', 'temperature', 'humidity', 'pressure'],\n",
      "      dtype='object')\n",
      "For 11 features: \n",
      " Accuracy: 0.8654026816978393 \n",
      " Precision: 0.8433075044306656 \n",
      " Recall: 0.8382930561055669 \n",
      " F1 score: 0.8406786751969668\n",
      "best accuracy = 0.8656311009252186, with 7 features, with mutualInformation_reggression\n"
     ]
    },
    {
     "name": "stderr",
     "output_type": "stream",
     "text": [
      "\r",
      " 44%|████▍     | 12/27 [1:06:46<1:46:12, 424.81s/it]"
     ]
    },
    {
     "name": "stdout",
     "output_type": "stream",
     "text": [
      "Index(['month', 'day', 'year', 'hour', 'minute', 'holiday', 'dayOfTheWeek',\n",
      "       'Pandemic', 'temperature', 'humidity', 'pressure',\n",
      "       'heavy intensity rain'],\n",
      "      dtype='object')\n",
      "For 12 features: \n",
      " Accuracy: 0.865537593020272 \n",
      " Precision: 0.8415958058212225 \n",
      " Recall: 0.8387843312577385 \n",
      " F1 score: 0.8400898143075528\n",
      "best accuracy = 0.8656311009252186, with 7 features, with mutualInformation_reggression\n"
     ]
    },
    {
     "name": "stderr",
     "output_type": "stream",
     "text": [
      "\r",
      " 48%|████▊     | 13/27 [1:14:32<1:42:04, 437.50s/it]"
     ]
    },
    {
     "name": "stdout",
     "output_type": "stream",
     "text": [
      "Index(['month', 'day', 'year', 'hour', 'minute', 'holiday', 'dayOfTheWeek',\n",
      "       'Pandemic', 'temperature', 'humidity', 'pressure',\n",
      "       'heavy intensity rain', 'light rain'],\n",
      "      dtype='object')\n",
      "For 13 features: \n",
      " Accuracy: 0.8721836717210657 \n",
      " Precision: 0.8498723032395579 \n",
      " Recall: 0.8436378012355371 \n",
      " F1 score: 0.8466467527700614\n",
      "best accuracy = 0.8721836717210657, with 13 features, with mutualInformation_reggression\n"
     ]
    },
    {
     "name": "stderr",
     "output_type": "stream",
     "text": [
      "\r",
      " 52%|█████▏    | 14/27 [1:22:25<1:37:04, 448.04s/it]"
     ]
    },
    {
     "name": "stdout",
     "output_type": "stream",
     "text": [
      "Index(['month', 'day', 'year', 'hour', 'minute', 'holiday', 'dayOfTheWeek',\n",
      "       'Pandemic', 'temperature', 'humidity', 'pressure',\n",
      "       'heavy intensity rain', 'light rain', 'broken clouds'],\n",
      "      dtype='object')\n",
      "For 14 features: \n",
      " Accuracy: 0.8721578721578722 \n",
      " Precision: 0.8493766665440727 \n",
      " Recall: 0.8440732549436906 \n",
      " F1 score: 0.8465571962246343\n",
      "best accuracy = 0.8721836717210657, with 13 features, with mutualInformation_reggression\n"
     ]
    },
    {
     "name": "stderr",
     "output_type": "stream",
     "text": [
      "\r",
      " 56%|█████▌    | 15/27 [1:30:15<1:30:56, 454.75s/it]"
     ]
    },
    {
     "name": "stdout",
     "output_type": "stream",
     "text": [
      "Index(['month', 'day', 'year', 'hour', 'minute', 'holiday', 'dayOfTheWeek',\n",
      "       'Pandemic', 'temperature', 'humidity', 'pressure',\n",
      "       'heavy intensity rain', 'light rain', 'broken clouds', 'moderate rain'],\n",
      "      dtype='object')\n",
      "For 15 features: \n",
      " Accuracy: 0.8694680759645956 \n",
      " Precision: 0.8462374022593365 \n",
      " Recall: 0.842037569599894 \n",
      " F1 score: 0.8440126502261643\n",
      "best accuracy = 0.8721836717210657, with 13 features, with mutualInformation_reggression\n"
     ]
    },
    {
     "name": "stderr",
     "output_type": "stream",
     "text": [
      "\r",
      " 59%|█████▉    | 16/27 [1:37:56<1:23:42, 456.55s/it]"
     ]
    },
    {
     "name": "stdout",
     "output_type": "stream",
     "text": [
      "Index(['month', 'day', 'year', 'hour', 'minute', 'holiday', 'dayOfTheWeek',\n",
      "       'Pandemic', 'temperature', 'humidity', 'pressure',\n",
      "       'heavy intensity rain', 'light rain', 'broken clouds', 'moderate rain',\n",
      "       'mist'],\n",
      "      dtype='object')\n",
      "For 16 features: \n",
      " Accuracy: 0.8627248472329805 \n",
      " Precision: 0.8390126354034781 \n",
      " Recall: 0.8347448909881708 \n",
      " F1 score: 0.8366919530997459\n",
      "best accuracy = 0.8721836717210657, with 13 features, with mutualInformation_reggression\n"
     ]
    },
    {
     "name": "stderr",
     "output_type": "stream",
     "text": [
      "\r",
      " 63%|██████▎   | 17/27 [1:45:44<1:16:40, 460.02s/it]"
     ]
    },
    {
     "name": "stdout",
     "output_type": "stream",
     "text": [
      "Index(['month', 'day', 'year', 'hour', 'minute', 'holiday', 'dayOfTheWeek',\n",
      "       'Pandemic', 'temperature', 'humidity', 'pressure',\n",
      "       'heavy intensity rain', 'light rain', 'broken clouds', 'moderate rain',\n",
      "       'mist', 'overcast clouds'],\n",
      "      dtype='object')\n",
      "For 17 features: \n",
      " Accuracy: 0.8715627963106629 \n",
      " Precision: 0.8486320033599578 \n",
      " Recall: 0.8438506687103994 \n",
      " F1 score: 0.8460937630576248\n",
      "best accuracy = 0.8721836717210657, with 13 features, with mutualInformation_reggression\n"
     ]
    },
    {
     "name": "stderr",
     "output_type": "stream",
     "text": [
      "\r",
      " 67%|██████▋   | 18/27 [1:53:35<1:09:30, 463.35s/it]"
     ]
    },
    {
     "name": "stdout",
     "output_type": "stream",
     "text": [
      "Index(['month', 'day', 'year', 'hour', 'minute', 'holiday', 'dayOfTheWeek',\n",
      "       'Pandemic', 'temperature', 'humidity', 'pressure',\n",
      "       'heavy intensity rain', 'light rain', 'broken clouds', 'moderate rain',\n",
      "       'mist', 'overcast clouds', 'clear sky'],\n",
      "      dtype='object')\n",
      "For 18 features: \n",
      " Accuracy: 0.8711042044375378 \n",
      " Precision: 0.8496152092512336 \n",
      " Recall: 0.8440831789468194 \n",
      " F1 score: 0.8467438512880641\n",
      "best accuracy = 0.8721836717210657, with 13 features, with mutualInformation_reggression\n"
     ]
    },
    {
     "name": "stderr",
     "output_type": "stream",
     "text": [
      "\r",
      " 70%|███████   | 19/27 [2:01:23<1:01:57, 464.69s/it]"
     ]
    },
    {
     "name": "stdout",
     "output_type": "stream",
     "text": [
      "Index(['month', 'day', 'year', 'hour', 'minute', 'holiday', 'dayOfTheWeek',\n",
      "       'Pandemic', 'temperature', 'humidity', 'pressure',\n",
      "       'heavy intensity rain', 'light rain', 'broken clouds', 'moderate rain',\n",
      "       'mist', 'overcast clouds', 'clear sky', 'scattered clouds'],\n",
      "      dtype='object')\n",
      "For 19 features: \n",
      " Accuracy: 0.8700389105058366 \n",
      " Precision: 0.844776742988158 \n",
      " Recall: 0.8423680009485105 \n",
      " F1 score: 0.8434100218515818\n",
      "best accuracy = 0.8721836717210657, with 13 features, with mutualInformation_reggression\n"
     ]
    },
    {
     "name": "stderr",
     "output_type": "stream",
     "text": [
      "\r",
      " 74%|███████▍  | 20/27 [2:09:10<54:18, 465.56s/it]  "
     ]
    },
    {
     "name": "stdout",
     "output_type": "stream",
     "text": [
      "Index(['month', 'day', 'year', 'hour', 'minute', 'holiday', 'dayOfTheWeek',\n",
      "       'Pandemic', 'temperature', 'humidity', 'pressure',\n",
      "       'heavy intensity rain', 'light rain', 'broken clouds', 'moderate rain',\n",
      "       'mist', 'overcast clouds', 'clear sky', 'scattered clouds',\n",
      "       'thunderstorm with rain'],\n",
      "      dtype='object')\n",
      "For 20 features: \n",
      " Accuracy: 0.8675846540226898 \n",
      " Precision: 0.8436191769887492 \n",
      " Recall: 0.8373559396531595 \n",
      " F1 score: 0.8403714330773848\n",
      "best accuracy = 0.8721836717210657, with 13 features, with mutualInformation_reggression\n"
     ]
    },
    {
     "name": "stderr",
     "output_type": "stream",
     "text": [
      "\r",
      " 78%|███████▊  | 21/27 [2:16:51<46:24, 464.14s/it]"
     ]
    },
    {
     "name": "stdout",
     "output_type": "stream",
     "text": [
      "Index(['month', 'day', 'year', 'hour', 'minute', 'holiday', 'dayOfTheWeek',\n",
      "       'Pandemic', 'temperature', 'humidity', 'pressure',\n",
      "       'heavy intensity rain', 'light rain', 'broken clouds', 'moderate rain',\n",
      "       'mist', 'overcast clouds', 'clear sky', 'scattered clouds',\n",
      "       'thunderstorm with rain', 'few clouds'],\n",
      "      dtype='object')\n",
      "For 21 features: \n",
      " Accuracy: 0.8650359961835372 \n",
      " Precision: 0.8417094539755435 \n",
      " Recall: 0.8346712988714284 \n",
      " F1 score: 0.8379856436071397\n",
      "best accuracy = 0.8721836717210657, with 13 features, with mutualInformation_reggression\n"
     ]
    },
    {
     "name": "stderr",
     "output_type": "stream",
     "text": [
      "\r",
      " 81%|████████▏ | 22/27 [2:24:43<38:51, 466.34s/it]"
     ]
    },
    {
     "name": "stdout",
     "output_type": "stream",
     "text": [
      "Index(['month', 'day', 'year', 'hour', 'minute', 'holiday', 'dayOfTheWeek',\n",
      "       'Pandemic', 'temperature', 'humidity', 'pressure',\n",
      "       'heavy intensity rain', 'light rain', 'broken clouds', 'moderate rain',\n",
      "       'mist', 'overcast clouds', 'clear sky', 'scattered clouds',\n",
      "       'thunderstorm with rain', 'few clouds', 'thunderstorm'],\n",
      "      dtype='object')\n",
      "For 22 features: \n",
      " Accuracy: 0.8611762661801755 \n",
      " Precision: 0.83782747115047 \n",
      " Recall: 0.833261639675388 \n",
      " F1 score: 0.8353665769585403\n",
      "best accuracy = 0.8721836717210657, with 13 features, with mutualInformation_reggression\n"
     ]
    },
    {
     "name": "stderr",
     "output_type": "stream",
     "text": [
      "\r",
      " 85%|████████▌ | 23/27 [2:32:43<31:21, 470.41s/it]"
     ]
    },
    {
     "name": "stdout",
     "output_type": "stream",
     "text": [
      "Index(['month', 'day', 'year', 'hour', 'minute', 'holiday', 'dayOfTheWeek',\n",
      "       'Pandemic', 'temperature', 'humidity', 'pressure',\n",
      "       'heavy intensity rain', 'light rain', 'broken clouds', 'moderate rain',\n",
      "       'mist', 'overcast clouds', 'clear sky', 'scattered clouds',\n",
      "       'thunderstorm with rain', 'few clouds', 'thunderstorm', 'shower rain'],\n",
      "      dtype='object')\n",
      "For 23 features: \n",
      " Accuracy: 0.8660924040720438 \n",
      " Precision: 0.842134648173703 \n",
      " Recall: 0.8382293212382664 \n",
      " F1 score: 0.8400614953283906\n",
      "best accuracy = 0.8721836717210657, with 13 features, with mutualInformation_reggression\n"
     ]
    },
    {
     "name": "stderr",
     "output_type": "stream",
     "text": [
      "\r",
      " 89%|████████▉ | 24/27 [2:40:42<23:39, 473.08s/it]"
     ]
    },
    {
     "name": "stdout",
     "output_type": "stream",
     "text": [
      "Index(['month', 'day', 'year', 'hour', 'minute', 'holiday', 'dayOfTheWeek',\n",
      "       'Pandemic', 'temperature', 'humidity', 'pressure',\n",
      "       'heavy intensity rain', 'light rain', 'broken clouds', 'moderate rain',\n",
      "       'mist', 'overcast clouds', 'clear sky', 'scattered clouds',\n",
      "       'thunderstorm with rain', 'few clouds', 'thunderstorm', 'shower rain',\n",
      "       'very heavy rain'],\n",
      "      dtype='object')\n",
      "For 24 features: \n",
      " Accuracy: 0.8681481481481481 \n",
      " Precision: 0.8468551332922427 \n",
      " Recall: 0.8375619198820071 \n",
      " F1 score: 0.841968208476704\n",
      "best accuracy = 0.8721836717210657, with 13 features, with mutualInformation_reggression\n"
     ]
    },
    {
     "name": "stderr",
     "output_type": "stream",
     "text": [
      "\r",
      " 93%|█████████▎| 25/27 [2:48:42<15:50, 475.30s/it]"
     ]
    },
    {
     "name": "stdout",
     "output_type": "stream",
     "text": [
      "Index(['month', 'day', 'year', 'hour', 'minute', 'holiday', 'dayOfTheWeek',\n",
      "       'Pandemic', 'temperature', 'humidity', 'pressure',\n",
      "       'heavy intensity rain', 'light rain', 'broken clouds', 'moderate rain',\n",
      "       'mist', 'overcast clouds', 'clear sky', 'scattered clouds',\n",
      "       'thunderstorm with rain', 'few clouds', 'thunderstorm', 'shower rain',\n",
      "       'very heavy rain', 'fog'],\n",
      "      dtype='object')\n",
      "For 25 features: \n",
      " Accuracy: 0.8641005498821681 \n",
      " Precision: 0.8389856354450747 \n",
      " Recall: 0.8341461254966406 \n",
      " F1 score: 0.8362159900857826\n",
      "best accuracy = 0.8721836717210657, with 13 features, with mutualInformation_reggression\n"
     ]
    },
    {
     "name": "stderr",
     "output_type": "stream",
     "text": [
      "\r",
      " 96%|█████████▋| 26/27 [2:56:50<07:59, 479.05s/it]"
     ]
    },
    {
     "name": "stdout",
     "output_type": "stream",
     "text": [
      "Index(['month', 'day', 'year', 'hour', 'minute', 'holiday', 'dayOfTheWeek',\n",
      "       'Pandemic', 'temperature', 'humidity', 'pressure',\n",
      "       'heavy intensity rain', 'light rain', 'broken clouds', 'moderate rain',\n",
      "       'mist', 'overcast clouds', 'clear sky', 'scattered clouds',\n",
      "       'thunderstorm with rain', 'few clouds', 'thunderstorm', 'shower rain',\n",
      "       'very heavy rain', 'fog', 'haze'],\n",
      "      dtype='object')\n",
      "For 26 features: \n",
      " Accuracy: 0.8636244426960399 \n",
      " Precision: 0.8430860482896966 \n",
      " Recall: 0.833736144346699 \n",
      " F1 score: 0.8381836763256437\n",
      "best accuracy = 0.8721836717210657, with 13 features, with mutualInformation_reggression\n"
     ]
    },
    {
     "name": "stderr",
     "output_type": "stream",
     "text": [
      "100%|██████████| 27/27 [3:04:43<00:00, 410.52s/it]\n",
      "  0%|          | 0/27 [00:00<?, ?it/s]"
     ]
    },
    {
     "name": "stdout",
     "output_type": "stream",
     "text": [
      "Index(['month', 'day', 'year', 'hour', 'minute', 'holiday', 'dayOfTheWeek',\n",
      "       'Pandemic', 'temperature', 'humidity', 'pressure',\n",
      "       'heavy intensity rain', 'light rain', 'broken clouds', 'moderate rain',\n",
      "       'mist', 'overcast clouds', 'clear sky', 'scattered clouds',\n",
      "       'thunderstorm with rain', 'few clouds', 'thunderstorm', 'shower rain',\n",
      "       'very heavy rain', 'fog', 'haze', 'thunderstorm with light rain'],\n",
      "      dtype='object')\n",
      "For 27 features: \n",
      " Accuracy: 0.870151475352421 \n",
      " Precision: 0.8468465632177917 \n",
      " Recall: 0.8426676412486885 \n",
      " F1 score: 0.8446772608059214\n",
      "best accuracy = 0.8721836717210657, with 13 features, with mutualInformation_reggression\n",
      "best accuracy = 0.8721836717210657, with 13 features, with mutualInformation_reggression\n",
      "\n",
      " \n",
      "\n",
      "------------------------- Analyzing method mutualInformation_classification2 -------------------------\n",
      "The variable order is: \n",
      " ['day', 'temperature', 'month', 'humidity', 'hour', 'pressure', 'dayOfTheWeek', 'year', 'holiday', 'shower rain', 'light rain', 'thunderstorm', 'fog', 'broken clouds', 'Pandemic', 'thunderstorm with rain', 'light intensity drizzle', 'thunderstorm with light rain', 'heavy intensity rain', 'mist', 'scattered clouds', 'very heavy rain', 'overcast clouds', 'moderate rain', 'minute', 'haze', 'few clouds', 'clear sky']\n"
     ]
    },
    {
     "name": "stderr",
     "output_type": "stream",
     "text": [
      "\r",
      "  4%|▎         | 1/27 [01:45<45:43, 105.50s/it]"
     ]
    },
    {
     "name": "stdout",
     "output_type": "stream",
     "text": [
      "Index(['day'], dtype='object')\n",
      "For 1 features: \n",
      " Accuracy: 0.47391037446286066 \n",
      " Precision: 0.43970220566139046 \n",
      " Recall: 0.44686326679521243 \n",
      " F1 score: 0.4182639824677715\n",
      "best accuracy = 0.47391037446286066, with 1 features, with mutualInformation_classification2\n"
     ]
    },
    {
     "name": "stderr",
     "output_type": "stream",
     "text": [
      "\r",
      "  7%|▋         | 2/27 [16:54<4:00:50, 578.03s/it]"
     ]
    },
    {
     "name": "stdout",
     "output_type": "stream",
     "text": [
      "Index(['day', 'temperature'], dtype='object')\n",
      "For 2 features: \n",
      " Accuracy: 0.591304347826087 \n",
      " Precision: 0.5450774467700715 \n",
      " Recall: 0.5623074509554916 \n",
      " F1 score: 0.5502561275277437\n",
      "best accuracy = 0.591304347826087, with 2 features, with mutualInformation_classification2\n"
     ]
    },
    {
     "name": "stderr",
     "output_type": "stream",
     "text": [
      "\r",
      " 11%|█         | 3/27 [29:36<4:24:56, 662.35s/it]"
     ]
    },
    {
     "name": "stdout",
     "output_type": "stream",
     "text": [
      "Index(['day', 'temperature', 'month'], dtype='object')\n",
      "For 3 features: \n",
      " Accuracy: 0.758335532682326 \n",
      " Precision: 0.7121816464218965 \n",
      " Recall: 0.7274203715569443 \n",
      " F1 score: 0.7184138436690021\n",
      "best accuracy = 0.758335532682326, with 3 features, with mutualInformation_classification2\n"
     ]
    },
    {
     "name": "stderr",
     "output_type": "stream",
     "text": [
      "\r",
      " 15%|█▍        | 4/27 [46:24<5:06:03, 798.43s/it]"
     ]
    },
    {
     "name": "stdout",
     "output_type": "stream",
     "text": [
      "Index(['day', 'temperature', 'month', 'humidity'], dtype='object')\n",
      "For 4 features: \n",
      " Accuracy: 0.8352277733721033 \n",
      " Precision: 0.8036119221671486 \n",
      " Recall: 0.8085736657852999 \n",
      " F1 score: 0.8059086251690943\n",
      "best accuracy = 0.8352277733721033, with 4 features, with mutualInformation_classification2\n"
     ]
    },
    {
     "name": "stderr",
     "output_type": "stream",
     "text": [
      "\r",
      " 19%|█▊        | 5/27 [1:09:04<6:07:03, 1001.08s/it]"
     ]
    },
    {
     "name": "stdout",
     "output_type": "stream",
     "text": [
      "Index(['day', 'temperature', 'month', 'humidity', 'hour'], dtype='object')\n",
      "For 5 features: \n",
      " Accuracy: 0.8621480893125055 \n",
      " Precision: 0.8355050873411719 \n",
      " Recall: 0.8392587865574194 \n",
      " F1 score: 0.8372109844065462\n",
      "best accuracy = 0.8621480893125055, with 5 features, with mutualInformation_classification2\n"
     ]
    },
    {
     "name": "stderr",
     "output_type": "stream",
     "text": [
      "\r",
      " 22%|██▏       | 6/27 [1:37:55<7:17:14, 1249.25s/it]"
     ]
    },
    {
     "name": "stdout",
     "output_type": "stream",
     "text": [
      "Index(['day', 'temperature', 'month', 'humidity', 'hour', 'pressure'], dtype='object')\n",
      "For 6 features: \n",
      " Accuracy: 0.8662600548042075 \n",
      " Precision: 0.8415382269966005 \n",
      " Recall: 0.8423039607436197 \n",
      " F1 score: 0.841872169112481\n",
      "best accuracy = 0.8662600548042075, with 6 features, with mutualInformation_classification2\n"
     ]
    },
    {
     "name": "stderr",
     "output_type": "stream",
     "text": [
      "\r",
      " 26%|██▌       | 7/27 [2:34:26<10:49:48, 1949.41s/it]"
     ]
    },
    {
     "name": "stdout",
     "output_type": "stream",
     "text": [
      "Index(['day', 'temperature', 'month', 'humidity', 'hour', 'pressure',\n",
      "       'dayOfTheWeek'],\n",
      "      dtype='object')\n",
      "For 7 features: \n",
      " Accuracy: 0.8741921204072599 \n",
      " Precision: 0.8501576986207606 \n",
      " Recall: 0.8511227889073641 \n",
      " F1 score: 0.85059241857041\n",
      "best accuracy = 0.8741921204072599, with 7 features, with mutualInformation_classification2\n"
     ]
    },
    {
     "name": "stderr",
     "output_type": "stream",
     "text": [
      "\r",
      " 30%|██▉       | 8/27 [3:16:13<11:13:34, 2127.09s/it]"
     ]
    },
    {
     "name": "stdout",
     "output_type": "stream",
     "text": [
      "Index(['day', 'temperature', 'month', 'humidity', 'hour', 'pressure',\n",
      "       'dayOfTheWeek', 'year'],\n",
      "      dtype='object')\n",
      "For 8 features: \n",
      " Accuracy: 0.8691141260973664 \n",
      " Precision: 0.8394674705527573 \n",
      " Recall: 0.8481096372036899 \n",
      " F1 score: 0.8433898829102616\n",
      "best accuracy = 0.8741921204072599, with 7 features, with mutualInformation_classification2\n"
     ]
    },
    {
     "name": "stderr",
     "output_type": "stream",
     "text": [
      "\r",
      " 33%|███▎      | 9/27 [3:59:31<11:22:17, 2274.30s/it]"
     ]
    },
    {
     "name": "stdout",
     "output_type": "stream",
     "text": [
      "Index(['day', 'temperature', 'month', 'humidity', 'hour', 'pressure',\n",
      "       'dayOfTheWeek', 'year', 'holiday'],\n",
      "      dtype='object')\n",
      "For 9 features: \n",
      " Accuracy: 0.8757438493649525 \n",
      " Precision: 0.8493085150751974 \n",
      " Recall: 0.8544823780956705 \n",
      " F1 score: 0.8517987611638632\n",
      "best accuracy = 0.8757438493649525, with 9 features, with mutualInformation_classification2\n"
     ]
    },
    {
     "name": "stderr",
     "output_type": "stream",
     "text": [
      "\r",
      " 37%|███▋      | 10/27 [4:39:20<10:54:23, 2309.63s/it]"
     ]
    },
    {
     "name": "stdout",
     "output_type": "stream",
     "text": [
      "Index(['day', 'temperature', 'month', 'humidity', 'hour', 'pressure',\n",
      "       'dayOfTheWeek', 'year', 'holiday', 'shower rain'],\n",
      "      dtype='object')\n",
      "For 10 features: \n",
      " Accuracy: 0.8783916021706254 \n",
      " Precision: 0.8525475182166085 \n",
      " Recall: 0.8569242197604511 \n",
      " F1 score: 0.8546435587751688\n",
      "best accuracy = 0.8783916021706254, with 10 features, with mutualInformation_classification2\n"
     ]
    },
    {
     "name": "stderr",
     "output_type": "stream",
     "text": [
      "\r",
      " 41%|████      | 11/27 [5:13:15<9:53:26, 2225.40s/it] "
     ]
    },
    {
     "name": "stdout",
     "output_type": "stream",
     "text": [
      "Index(['day', 'temperature', 'month', 'humidity', 'hour', 'pressure',\n",
      "       'dayOfTheWeek', 'year', 'holiday', 'shower rain', 'light rain'],\n",
      "      dtype='object')\n",
      "For 11 features: \n",
      " Accuracy: 0.8774837387507797 \n",
      " Precision: 0.8504382757222849 \n",
      " Recall: 0.8553754745901108 \n",
      " F1 score: 0.8525432186174153\n",
      "best accuracy = 0.8783916021706254, with 10 features, with mutualInformation_classification2\n"
     ]
    },
    {
     "name": "stderr",
     "output_type": "stream",
     "text": [
      "\r",
      " 44%|████▍     | 12/27 [5:49:33<9:12:45, 2211.02s/it]"
     ]
    },
    {
     "name": "stdout",
     "output_type": "stream",
     "text": [
      "Index(['day', 'temperature', 'month', 'humidity', 'hour', 'pressure',\n",
      "       'dayOfTheWeek', 'year', 'holiday', 'shower rain', 'light rain',\n",
      "       'thunderstorm'],\n",
      "      dtype='object')\n",
      "For 12 features: \n",
      " Accuracy: 0.8767514502454261 \n",
      " Precision: 0.8507158009224033 \n",
      " Recall: 0.8544971456023017 \n",
      " F1 score: 0.8524077790404672\n",
      "best accuracy = 0.8783916021706254, with 10 features, with mutualInformation_classification2\n"
     ]
    },
    {
     "name": "stderr",
     "output_type": "stream",
     "text": [
      "\r",
      " 48%|████▊     | 13/27 [6:40:20<9:35:00, 2464.33s/it]"
     ]
    },
    {
     "name": "stdout",
     "output_type": "stream",
     "text": [
      "Index(['day', 'temperature', 'month', 'humidity', 'hour', 'pressure',\n",
      "       'dayOfTheWeek', 'year', 'holiday', 'shower rain', 'light rain',\n",
      "       'thunderstorm', 'fog'],\n",
      "      dtype='object')\n",
      "For 13 features: \n",
      " Accuracy: 0.8759274157504245 \n",
      " Precision: 0.8515797892788213 \n",
      " Recall: 0.8537073786263568 \n",
      " F1 score: 0.85257369100546\n",
      "best accuracy = 0.8783916021706254, with 10 features, with mutualInformation_classification2\n"
     ]
    },
    {
     "name": "stderr",
     "output_type": "stream",
     "text": [
      "\r",
      " 52%|█████▏    | 14/27 [7:14:33<8:27:01, 2340.08s/it]"
     ]
    },
    {
     "name": "stdout",
     "output_type": "stream",
     "text": [
      "Index(['day', 'temperature', 'month', 'humidity', 'hour', 'pressure',\n",
      "       'dayOfTheWeek', 'year', 'holiday', 'shower rain', 'light rain',\n",
      "       'thunderstorm', 'fog', 'broken clouds'],\n",
      "      dtype='object')\n",
      "For 14 features: \n",
      " Accuracy: 0.8745635240397529 \n",
      " Precision: 0.8474427290516424 \n",
      " Recall: 0.8528408004397232 \n",
      " F1 score: 0.8500361160475489\n",
      "best accuracy = 0.8783916021706254, with 10 features, with mutualInformation_classification2\n"
     ]
    },
    {
     "name": "stderr",
     "output_type": "stream",
     "text": [
      "\r",
      " 56%|█████▌    | 15/27 [8:04:46<8:28:36, 2543.04s/it]"
     ]
    },
    {
     "name": "stdout",
     "output_type": "stream",
     "text": [
      "Index(['day', 'temperature', 'month', 'humidity', 'hour', 'pressure',\n",
      "       'dayOfTheWeek', 'year', 'holiday', 'shower rain', 'light rain',\n",
      "       'thunderstorm', 'fog', 'broken clouds', 'Pandemic'],\n",
      "      dtype='object')\n",
      "For 15 features: \n",
      " Accuracy: 0.8728365169043135 \n",
      " Precision: 0.8480973237108099 \n",
      " Recall: 0.8507008897170607 \n",
      " F1 score: 0.8492806445764762\n",
      "best accuracy = 0.8783916021706254, with 10 features, with mutualInformation_classification2\n"
     ]
    },
    {
     "name": "stderr",
     "output_type": "stream",
     "text": [
      "\r",
      " 59%|█████▉    | 16/27 [8:32:10<6:56:35, 2272.30s/it]"
     ]
    },
    {
     "name": "stdout",
     "output_type": "stream",
     "text": [
      "Index(['day', 'temperature', 'month', 'humidity', 'hour', 'pressure',\n",
      "       'dayOfTheWeek', 'year', 'holiday', 'shower rain', 'light rain',\n",
      "       'thunderstorm', 'fog', 'broken clouds', 'Pandemic',\n",
      "       'thunderstorm with rain'],\n",
      "      dtype='object')\n",
      "For 16 features: \n",
      " Accuracy: 0.8777508308631995 \n",
      " Precision: 0.8527225237776774 \n",
      " Recall: 0.8521248061407326 \n",
      " F1 score: 0.8524067440294805\n",
      "best accuracy = 0.8783916021706254, with 10 features, with mutualInformation_classification2\n"
     ]
    },
    {
     "name": "stderr",
     "output_type": "stream",
     "text": [
      "\r",
      " 63%|██████▎   | 17/27 [9:12:15<6:25:21, 2312.16s/it]"
     ]
    },
    {
     "name": "stdout",
     "output_type": "stream",
     "text": [
      "Index(['day', 'temperature', 'month', 'humidity', 'hour', 'pressure',\n",
      "       'dayOfTheWeek', 'year', 'holiday', 'shower rain', 'light rain',\n",
      "       'thunderstorm', 'fog', 'broken clouds', 'Pandemic',\n",
      "       'thunderstorm with rain', 'light intensity drizzle'],\n",
      "      dtype='object')\n",
      "For 17 features: \n",
      " Accuracy: 0.8749437696806118 \n",
      " Precision: 0.849417982444493 \n",
      " Recall: 0.850940724365387 \n",
      " F1 score: 0.8499694115478261\n",
      "best accuracy = 0.8783916021706254, with 10 features, with mutualInformation_classification2\n"
     ]
    },
    {
     "name": "stderr",
     "output_type": "stream",
     "text": [
      "\r",
      " 67%|██████▋   | 18/27 [9:55:24<5:59:18, 2395.34s/it]"
     ]
    },
    {
     "name": "stdout",
     "output_type": "stream",
     "text": [
      "Index(['day', 'temperature', 'month', 'humidity', 'hour', 'pressure',\n",
      "       'dayOfTheWeek', 'year', 'holiday', 'shower rain', 'light rain',\n",
      "       'thunderstorm', 'fog', 'broken clouds', 'Pandemic',\n",
      "       'thunderstorm with rain', 'light intensity drizzle',\n",
      "       'thunderstorm with light rain'],\n",
      "      dtype='object')\n",
      "For 18 features: \n",
      " Accuracy: 0.8725781742813373 \n",
      " Precision: 0.8454637230524756 \n",
      " Recall: 0.8517298094770713 \n",
      " F1 score: 0.8484749160216011\n",
      "best accuracy = 0.8783916021706254, with 10 features, with mutualInformation_classification2\n"
     ]
    },
    {
     "name": "stderr",
     "output_type": "stream",
     "text": [
      "\r",
      " 70%|███████   | 19/27 [10:35:40<5:20:14, 2401.75s/it]"
     ]
    },
    {
     "name": "stdout",
     "output_type": "stream",
     "text": [
      "Index(['day', 'temperature', 'month', 'humidity', 'hour', 'pressure',\n",
      "       'dayOfTheWeek', 'year', 'holiday', 'shower rain', 'light rain',\n",
      "       'thunderstorm', 'fog', 'broken clouds', 'Pandemic',\n",
      "       'thunderstorm with rain', 'light intensity drizzle',\n",
      "       'thunderstorm with light rain', 'heavy intensity rain'],\n",
      "      dtype='object')\n",
      "For 19 features: \n",
      " Accuracy: 0.8739055871468544 \n",
      " Precision: 0.8450031574645178 \n",
      " Recall: 0.8506289545595113 \n",
      " F1 score: 0.8476267473070689\n",
      "best accuracy = 0.8783916021706254, with 10 features, with mutualInformation_classification2\n"
     ]
    },
    {
     "name": "stderr",
     "output_type": "stream",
     "text": [
      "\r",
      " 74%|███████▍  | 20/27 [11:34:31<5:19:43, 2740.56s/it]"
     ]
    },
    {
     "name": "stdout",
     "output_type": "stream",
     "text": [
      "Index(['day', 'temperature', 'month', 'humidity', 'hour', 'pressure',\n",
      "       'dayOfTheWeek', 'year', 'holiday', 'shower rain', 'light rain',\n",
      "       'thunderstorm', 'fog', 'broken clouds', 'Pandemic',\n",
      "       'thunderstorm with rain', 'light intensity drizzle',\n",
      "       'thunderstorm with light rain', 'heavy intensity rain', 'mist'],\n",
      "      dtype='object')\n",
      "For 20 features: \n",
      " Accuracy: 0.870445710152789 \n",
      " Precision: 0.840897358664593 \n",
      " Recall: 0.8455548494188739 \n",
      " F1 score: 0.8429788809194146\n",
      "best accuracy = 0.8783916021706254, with 10 features, with mutualInformation_classification2\n"
     ]
    },
    {
     "name": "stderr",
     "output_type": "stream",
     "text": [
      "\r",
      " 78%|███████▊  | 21/27 [12:06:15<4:08:58, 2489.71s/it]"
     ]
    },
    {
     "name": "stdout",
     "output_type": "stream",
     "text": [
      "Index(['day', 'temperature', 'month', 'humidity', 'hour', 'pressure',\n",
      "       'dayOfTheWeek', 'year', 'holiday', 'shower rain', 'light rain',\n",
      "       'thunderstorm', 'fog', 'broken clouds', 'Pandemic',\n",
      "       'thunderstorm with rain', 'light intensity drizzle',\n",
      "       'thunderstorm with light rain', 'heavy intensity rain', 'mist',\n",
      "       'scattered clouds'],\n",
      "      dtype='object')\n",
      "For 21 features: \n",
      " Accuracy: 0.8798333786108847 \n",
      " Precision: 0.853346340759541 \n",
      " Recall: 0.854565554834129 \n",
      " F1 score: 0.8537846242968\n",
      "best accuracy = 0.8798333786108847, with 21 features, with mutualInformation_classification2\n"
     ]
    },
    {
     "name": "stderr",
     "output_type": "stream",
     "text": [
      "\r",
      " 81%|████████▏ | 22/27 [12:42:56<3:20:15, 2403.09s/it]"
     ]
    },
    {
     "name": "stdout",
     "output_type": "stream",
     "text": [
      "Index(['day', 'temperature', 'month', 'humidity', 'hour', 'pressure',\n",
      "       'dayOfTheWeek', 'year', 'holiday', 'shower rain', 'light rain',\n",
      "       'thunderstorm', 'fog', 'broken clouds', 'Pandemic',\n",
      "       'thunderstorm with rain', 'light intensity drizzle',\n",
      "       'thunderstorm with light rain', 'heavy intensity rain', 'mist',\n",
      "       'scattered clouds', 'very heavy rain'],\n",
      "      dtype='object')\n",
      "For 22 features: \n",
      " Accuracy: 0.8796371882086168 \n",
      " Precision: 0.8560181292733435 \n",
      " Recall: 0.8596912049984138 \n",
      " F1 score: 0.8576092376079743\n",
      "best accuracy = 0.8798333786108847, with 21 features, with mutualInformation_classification2\n"
     ]
    },
    {
     "name": "stderr",
     "output_type": "stream",
     "text": [
      "\r",
      " 85%|████████▌ | 23/27 [13:38:56<2:59:20, 2690.19s/it]"
     ]
    },
    {
     "name": "stdout",
     "output_type": "stream",
     "text": [
      "Index(['day', 'temperature', 'month', 'humidity', 'hour', 'pressure',\n",
      "       'dayOfTheWeek', 'year', 'holiday', 'shower rain', 'light rain',\n",
      "       'thunderstorm', 'fog', 'broken clouds', 'Pandemic',\n",
      "       'thunderstorm with rain', 'light intensity drizzle',\n",
      "       'thunderstorm with light rain', 'heavy intensity rain', 'mist',\n",
      "       'scattered clouds', 'very heavy rain', 'overcast clouds'],\n",
      "      dtype='object')\n",
      "For 23 features: \n",
      " Accuracy: 0.8711728899791042 \n",
      " Precision: 0.842954291060227 \n",
      " Recall: 0.8475038776921141 \n",
      " F1 score: 0.8450384095208028\n",
      "best accuracy = 0.8798333786108847, with 21 features, with mutualInformation_classification2\n"
     ]
    },
    {
     "name": "stderr",
     "output_type": "stream",
     "text": [
      "\r",
      " 89%|████████▉ | 24/27 [14:27:02<2:17:26, 2748.90s/it]"
     ]
    },
    {
     "name": "stdout",
     "output_type": "stream",
     "text": [
      "Index(['day', 'temperature', 'month', 'humidity', 'hour', 'pressure',\n",
      "       'dayOfTheWeek', 'year', 'holiday', 'shower rain', 'light rain',\n",
      "       'thunderstorm', 'fog', 'broken clouds', 'Pandemic',\n",
      "       'thunderstorm with rain', 'light intensity drizzle',\n",
      "       'thunderstorm with light rain', 'heavy intensity rain', 'mist',\n",
      "       'scattered clouds', 'very heavy rain', 'overcast clouds',\n",
      "       'moderate rain'],\n",
      "      dtype='object')\n",
      "For 24 features: \n",
      " Accuracy: 0.8770588770588771 \n",
      " Precision: 0.8492781004370276 \n",
      " Recall: 0.8536436676936284 \n",
      " F1 score: 0.8513321521700355\n",
      "best accuracy = 0.8798333786108847, with 21 features, with mutualInformation_classification2\n"
     ]
    },
    {
     "name": "stderr",
     "output_type": "stream",
     "text": [
      "\r",
      " 93%|█████████▎| 25/27 [14:34:50<1:08:48, 2064.48s/it]"
     ]
    },
    {
     "name": "stdout",
     "output_type": "stream",
     "text": [
      "Index(['day', 'temperature', 'month', 'humidity', 'hour', 'pressure',\n",
      "       'dayOfTheWeek', 'year', 'holiday', 'shower rain', 'light rain',\n",
      "       'thunderstorm', 'fog', 'broken clouds', 'Pandemic',\n",
      "       'thunderstorm with rain', 'light intensity drizzle',\n",
      "       'thunderstorm with light rain', 'heavy intensity rain', 'mist',\n",
      "       'scattered clouds', 'very heavy rain', 'overcast clouds',\n",
      "       'moderate rain', 'minute'],\n",
      "      dtype='object')\n",
      "For 25 features: \n",
      " Accuracy: 0.8722996992070002 \n",
      " Precision: 0.8460278191535547 \n",
      " Recall: 0.8429238979958031 \n",
      " F1 score: 0.8442237030174357\n",
      "best accuracy = 0.8798333786108847, with 21 features, with mutualInformation_classification2\n"
     ]
    },
    {
     "name": "stderr",
     "output_type": "stream",
     "text": [
      "\r",
      " 96%|█████████▋| 26/27 [14:42:42<26:26, 1586.71s/it]  "
     ]
    },
    {
     "name": "stdout",
     "output_type": "stream",
     "text": [
      "Index(['day', 'temperature', 'month', 'humidity', 'hour', 'pressure',\n",
      "       'dayOfTheWeek', 'year', 'holiday', 'shower rain', 'light rain',\n",
      "       'thunderstorm', 'fog', 'broken clouds', 'Pandemic',\n",
      "       'thunderstorm with rain', 'light intensity drizzle',\n",
      "       'thunderstorm with light rain', 'heavy intensity rain', 'mist',\n",
      "       'scattered clouds', 'very heavy rain', 'overcast clouds',\n",
      "       'moderate rain', 'minute', 'haze'],\n",
      "      dtype='object')\n",
      "For 26 features: \n",
      " Accuracy: 0.8727289327124989 \n",
      " Precision: 0.8469841173385375 \n",
      " Recall: 0.8403455906150232 \n",
      " F1 score: 0.8434915602557447\n",
      "best accuracy = 0.8798333786108847, with 21 features, with mutualInformation_classification2\n"
     ]
    },
    {
     "name": "stderr",
     "output_type": "stream",
     "text": [
      "100%|██████████| 27/27 [14:50:41<00:00, 1979.30s/it]\n",
      "  0%|          | 0/27 [00:00<?, ?it/s]"
     ]
    },
    {
     "name": "stdout",
     "output_type": "stream",
     "text": [
      "Index(['day', 'temperature', 'month', 'humidity', 'hour', 'pressure',\n",
      "       'dayOfTheWeek', 'year', 'holiday', 'shower rain', 'light rain',\n",
      "       'thunderstorm', 'fog', 'broken clouds', 'Pandemic',\n",
      "       'thunderstorm with rain', 'light intensity drizzle',\n",
      "       'thunderstorm with light rain', 'heavy intensity rain', 'mist',\n",
      "       'scattered clouds', 'very heavy rain', 'overcast clouds',\n",
      "       'moderate rain', 'minute', 'haze', 'few clouds'],\n",
      "      dtype='object')\n",
      "For 27 features: \n",
      " Accuracy: 0.8725194330132602 \n",
      " Precision: 0.8469029954845896 \n",
      " Recall: 0.8419393357152811 \n",
      " F1 score: 0.8442547459430855\n",
      "best accuracy = 0.8798333786108847, with 21 features, with mutualInformation_classification2\n",
      "best accuracy = 0.8798333786108847, with 21 features, with mutualInformation_classification2\n",
      "\n",
      " \n",
      "\n",
      "------------------------- Analyzing method varianceThreshold -------------------------\n",
      "The variable order is: \n",
      " ['month', 'day', 'year', 'hour', 'minute', 'holiday', 'dayOfTheWeek', 'temperature', 'humidity', 'pressure', 'heavy intensity rain', 'light rain', 'broken clouds', 'scattered clouds', 'thunderstorm with rain', 'few clouds', 'thunderstorm', 'shower rain']\n"
     ]
    },
    {
     "name": "stderr",
     "output_type": "stream",
     "text": [
      "\r",
      "  4%|▎         | 1/27 [00:53<23:05, 53.30s/it]"
     ]
    },
    {
     "name": "stdout",
     "output_type": "stream",
     "text": [
      "Index(['month'], dtype='object')\n",
      "For 1 features: \n",
      " Accuracy: 0.4723825226710635 \n",
      " Precision: 0.42620658176504617 \n",
      " Recall: 0.43023999713357775 \n",
      " F1 score: 0.42088929132242914\n",
      "best accuracy = 0.4723825226710635, with 1 features, with varianceThreshold\n"
     ]
    },
    {
     "name": "stderr",
     "output_type": "stream",
     "text": [
      "\r",
      "  7%|▋         | 2/27 [03:13<43:24, 104.16s/it]"
     ]
    },
    {
     "name": "stdout",
     "output_type": "stream",
     "text": [
      "Index(['month', 'day'], dtype='object')\n",
      "For 2 features: \n",
      " Accuracy: 0.6757500688136526 \n",
      " Precision: 0.6288721757573921 \n",
      " Recall: 0.6672425194605944 \n",
      " F1 score: 0.6374330921480146\n",
      "best accuracy = 0.6757500688136526, with 2 features, with varianceThreshold\n"
     ]
    },
    {
     "name": "stderr",
     "output_type": "stream",
     "text": [
      "\r",
      " 11%|█         | 3/27 [05:32<48:10, 120.46s/it]"
     ]
    },
    {
     "name": "stdout",
     "output_type": "stream",
     "text": [
      "Index(['month', 'day', 'year'], dtype='object')\n",
      "For 3 features: \n",
      " Accuracy: 0.6862420733388476 \n",
      " Precision: 0.6340739451382116 \n",
      " Recall: 0.6736573663467412 \n",
      " F1 score: 0.640450473779782\n",
      "best accuracy = 0.6862420733388476, with 3 features, with varianceThreshold\n"
     ]
    },
    {
     "name": "stderr",
     "output_type": "stream",
     "text": [
      "\r",
      " 15%|█▍        | 4/27 [12:02<1:26:55, 226.74s/it]"
     ]
    },
    {
     "name": "stdout",
     "output_type": "stream",
     "text": [
      "Index(['month', 'day', 'year', 'hour'], dtype='object')\n",
      "For 4 features: \n",
      " Accuracy: 0.8508699254349626 \n",
      " Precision: 0.819538688171459 \n",
      " Recall: 0.8126739035861936 \n",
      " F1 score: 0.8159933078608442\n",
      "best accuracy = 0.8508699254349626, with 4 features, with varianceThreshold\n"
     ]
    },
    {
     "name": "stderr",
     "output_type": "stream",
     "text": [
      "\r",
      " 19%|█▊        | 5/27 [17:53<1:39:36, 271.64s/it]"
     ]
    },
    {
     "name": "stdout",
     "output_type": "stream",
     "text": [
      "Index(['month', 'day', 'year', 'hour', 'minute'], dtype='object')\n",
      "For 5 features: \n",
      " Accuracy: 0.8525587828492392 \n",
      " Precision: 0.8185715209175202 \n",
      " Recall: 0.8112925316360547 \n",
      " F1 score: 0.8146411717045943\n",
      "best accuracy = 0.8525587828492392, with 5 features, with varianceThreshold\n"
     ]
    },
    {
     "name": "stderr",
     "output_type": "stream",
     "text": [
      "\r",
      " 22%|██▏       | 6/27 [23:51<1:45:20, 300.98s/it]"
     ]
    },
    {
     "name": "stdout",
     "output_type": "stream",
     "text": [
      "Index(['month', 'day', 'year', 'hour', 'minute', 'holiday'], dtype='object')\n",
      "For 6 features: \n",
      " Accuracy: 0.8541608940611435 \n",
      " Precision: 0.8259038941037784 \n",
      " Recall: 0.8128536219069105 \n",
      " F1 score: 0.8187992064094828\n",
      "best accuracy = 0.8541608940611435, with 6 features, with varianceThreshold\n"
     ]
    },
    {
     "name": "stderr",
     "output_type": "stream",
     "text": [
      "\r",
      " 26%|██▌       | 7/27 [29:34<1:44:50, 314.52s/it]"
     ]
    },
    {
     "name": "stdout",
     "output_type": "stream",
     "text": [
      "Index(['month', 'day', 'year', 'hour', 'minute', 'holiday', 'dayOfTheWeek'], dtype='object')\n",
      "For 7 features: \n",
      " Accuracy: 0.8575261356277176 \n",
      " Precision: 0.8267782180395599 \n",
      " Recall: 0.8174404744124097 \n",
      " F1 score: 0.821771939291502\n",
      "best accuracy = 0.8575261356277176, with 7 features, with varianceThreshold\n"
     ]
    },
    {
     "name": "stderr",
     "output_type": "stream",
     "text": [
      "\r",
      " 30%|██▉       | 8/27 [35:49<1:45:44, 333.90s/it]"
     ]
    },
    {
     "name": "stdout",
     "output_type": "stream",
     "text": [
      "Index(['month', 'day', 'year', 'hour', 'minute', 'holiday', 'dayOfTheWeek',\n",
      "       'temperature'],\n",
      "      dtype='object')\n",
      "For 8 features: \n",
      " Accuracy: 0.8620146418311556 \n",
      " Precision: 0.8306657908709958 \n",
      " Recall: 0.825938380854414 \n",
      " F1 score: 0.8281406869244996\n",
      "best accuracy = 0.8620146418311556, with 8 features, with varianceThreshold\n"
     ]
    },
    {
     "name": "stderr",
     "output_type": "stream",
     "text": [
      "\r",
      " 33%|███▎      | 9/27 [42:31<1:46:34, 355.23s/it]"
     ]
    },
    {
     "name": "stdout",
     "output_type": "stream",
     "text": [
      "Index(['month', 'day', 'year', 'hour', 'minute', 'holiday', 'dayOfTheWeek',\n",
      "       'temperature', 'humidity'],\n",
      "      dtype='object')\n",
      "For 9 features: \n",
      " Accuracy: 0.8611343172746682 \n",
      " Precision: 0.8313421308999187 \n",
      " Recall: 0.8280231035273256 \n",
      " F1 score: 0.8295611780600902\n",
      "best accuracy = 0.8620146418311556, with 8 features, with varianceThreshold\n"
     ]
    },
    {
     "name": "stderr",
     "output_type": "stream",
     "text": [
      "\r",
      " 37%|███▋      | 10/27 [49:40<1:47:07, 378.08s/it]"
     ]
    },
    {
     "name": "stdout",
     "output_type": "stream",
     "text": [
      "Index(['month', 'day', 'year', 'hour', 'minute', 'holiday', 'dayOfTheWeek',\n",
      "       'temperature', 'humidity', 'pressure'],\n",
      "      dtype='object')\n",
      "For 10 features: \n",
      " Accuracy: 0.8664807066480706 \n",
      " Precision: 0.8363265404780243 \n",
      " Recall: 0.831232149050636 \n",
      " F1 score: 0.8335868228131154\n",
      "best accuracy = 0.8664807066480706, with 10 features, with varianceThreshold\n"
     ]
    },
    {
     "name": "stderr",
     "output_type": "stream",
     "text": [
      "\r",
      " 41%|████      | 11/27 [56:51<1:45:06, 394.17s/it]"
     ]
    },
    {
     "name": "stdout",
     "output_type": "stream",
     "text": [
      "Index(['month', 'day', 'year', 'hour', 'minute', 'holiday', 'dayOfTheWeek',\n",
      "       'temperature', 'humidity', 'pressure', 'heavy intensity rain'],\n",
      "      dtype='object')\n",
      "For 11 features: \n",
      " Accuracy: 0.8731489242805253 \n",
      " Precision: 0.8392983223708661 \n",
      " Recall: 0.8383183217275824 \n",
      " F1 score: 0.8387449956307166\n",
      "best accuracy = 0.8731489242805253, with 11 features, with varianceThreshold\n"
     ]
    },
    {
     "name": "stderr",
     "output_type": "stream",
     "text": [
      "\r",
      " 44%|████▍     | 12/27 [1:04:08<1:41:45, 407.06s/it]"
     ]
    },
    {
     "name": "stdout",
     "output_type": "stream",
     "text": [
      "Index(['month', 'day', 'year', 'hour', 'minute', 'holiday', 'dayOfTheWeek',\n",
      "       'temperature', 'humidity', 'pressure', 'heavy intensity rain',\n",
      "       'light rain'],\n",
      "      dtype='object')\n",
      "For 12 features: \n",
      " Accuracy: 0.8739621233324004 \n",
      " Precision: 0.8434567736237865 \n",
      " Recall: 0.8403853810820555 \n",
      " F1 score: 0.8418531348423424\n",
      "best accuracy = 0.8739621233324004, with 12 features, with varianceThreshold\n"
     ]
    },
    {
     "name": "stderr",
     "output_type": "stream",
     "text": [
      "\r",
      " 48%|████▊     | 13/27 [1:11:39<1:38:04, 420.35s/it]"
     ]
    },
    {
     "name": "stdout",
     "output_type": "stream",
     "text": [
      "Index(['month', 'day', 'year', 'hour', 'minute', 'holiday', 'dayOfTheWeek',\n",
      "       'temperature', 'humidity', 'pressure', 'heavy intensity rain',\n",
      "       'light rain', 'broken clouds'],\n",
      "      dtype='object')\n",
      "For 13 features: \n",
      " Accuracy: 0.8707597420801795 \n",
      " Precision: 0.8416283790584115 \n",
      " Recall: 0.8349215592353275 \n",
      " F1 score: 0.8380427627868097\n",
      "best accuracy = 0.8739621233324004, with 12 features, with varianceThreshold\n"
     ]
    },
    {
     "name": "stderr",
     "output_type": "stream",
     "text": [
      "\r",
      " 52%|█████▏    | 14/27 [1:18:58<1:32:18, 426.07s/it]"
     ]
    },
    {
     "name": "stdout",
     "output_type": "stream",
     "text": [
      "Index(['month', 'day', 'year', 'hour', 'minute', 'holiday', 'dayOfTheWeek',\n",
      "       'temperature', 'humidity', 'pressure', 'heavy intensity rain',\n",
      "       'light rain', 'broken clouds', 'scattered clouds'],\n",
      "      dtype='object')\n",
      "For 14 features: \n",
      " Accuracy: 0.8686698492932697 \n",
      " Precision: 0.8375767895476752 \n",
      " Recall: 0.8338148096229769 \n",
      " F1 score: 0.8356288744951457\n",
      "best accuracy = 0.8739621233324004, with 12 features, with varianceThreshold\n"
     ]
    },
    {
     "name": "stderr",
     "output_type": "stream",
     "text": [
      "\r",
      " 56%|█████▌    | 15/27 [1:26:26<1:26:32, 432.68s/it]"
     ]
    },
    {
     "name": "stdout",
     "output_type": "stream",
     "text": [
      "Index(['month', 'day', 'year', 'hour', 'minute', 'holiday', 'dayOfTheWeek',\n",
      "       'temperature', 'humidity', 'pressure', 'heavy intensity rain',\n",
      "       'light rain', 'broken clouds', 'scattered clouds',\n",
      "       'thunderstorm with rain'],\n",
      "      dtype='object')\n",
      "For 15 features: \n",
      " Accuracy: 0.8666666666666667 \n",
      " Precision: 0.832271318515343 \n",
      " Recall: 0.8298697228832075 \n",
      " F1 score: 0.8309999246537977\n",
      "best accuracy = 0.8739621233324004, with 12 features, with varianceThreshold\n"
     ]
    },
    {
     "name": "stderr",
     "output_type": "stream",
     "text": [
      "\r",
      " 59%|█████▉    | 16/27 [1:34:18<1:21:31, 444.70s/it]"
     ]
    },
    {
     "name": "stdout",
     "output_type": "stream",
     "text": [
      "Index(['month', 'day', 'year', 'hour', 'minute', 'holiday', 'dayOfTheWeek',\n",
      "       'temperature', 'humidity', 'pressure', 'heavy intensity rain',\n",
      "       'light rain', 'broken clouds', 'scattered clouds',\n",
      "       'thunderstorm with rain', 'few clouds'],\n",
      "      dtype='object')\n",
      "For 16 features: \n",
      " Accuracy: 0.871888794965718 \n",
      " Precision: 0.8432955017323726 \n",
      " Recall: 0.8356529754787707 \n",
      " F1 score: 0.8390612394747022\n",
      "best accuracy = 0.8739621233324004, with 12 features, with varianceThreshold\n"
     ]
    },
    {
     "name": "stderr",
     "output_type": "stream",
     "text": [
      "\r",
      " 63%|██████▎   | 17/27 [1:41:54<1:14:38, 447.89s/it]"
     ]
    },
    {
     "name": "stdout",
     "output_type": "stream",
     "text": [
      "Index(['month', 'day', 'year', 'hour', 'minute', 'holiday', 'dayOfTheWeek',\n",
      "       'temperature', 'humidity', 'pressure', 'heavy intensity rain',\n",
      "       'light rain', 'broken clouds', 'scattered clouds',\n",
      "       'thunderstorm with rain', 'few clouds', 'thunderstorm'],\n",
      "      dtype='object')\n",
      "For 17 features: \n",
      " Accuracy: 0.8693197854925204 \n",
      " Precision: 0.8379726393497778 \n",
      " Recall: 0.8304603032681789 \n",
      " F1 score: 0.8340752581199589\n",
      "best accuracy = 0.8739621233324004, with 12 features, with varianceThreshold\n"
     ]
    },
    {
     "name": "stderr",
     "output_type": "stream",
     "text": [
      "\r",
      " 67%|██████▋   | 18/27 [1:49:26<1:07:23, 449.33s/it]"
     ]
    },
    {
     "name": "stdout",
     "output_type": "stream",
     "text": [
      "Index(['month', 'day', 'year', 'hour', 'minute', 'holiday', 'dayOfTheWeek',\n",
      "       'temperature', 'humidity', 'pressure', 'heavy intensity rain',\n",
      "       'light rain', 'broken clouds', 'scattered clouds',\n",
      "       'thunderstorm with rain', 'few clouds', 'thunderstorm', 'shower rain'],\n",
      "      dtype='object')\n",
      "For 18 features: \n",
      " Accuracy: 0.8742814060880219 \n",
      " Precision: 0.8455850263833358 \n",
      " Recall: 0.8390983033457269 \n",
      " F1 score: 0.842115338857462\n",
      "best accuracy = 0.8742814060880219, with 18 features, with varianceThreshold\n"
     ]
    },
    {
     "name": "stderr",
     "output_type": "stream",
     "text": [
      "\r",
      " 70%|███████   | 19/27 [1:57:08<1:00:24, 453.01s/it]"
     ]
    },
    {
     "name": "stdout",
     "output_type": "stream",
     "text": [
      "Index(['month', 'day', 'year', 'hour', 'minute', 'holiday', 'dayOfTheWeek',\n",
      "       'temperature', 'humidity', 'pressure', 'heavy intensity rain',\n",
      "       'light rain', 'broken clouds', 'scattered clouds',\n",
      "       'thunderstorm with rain', 'few clouds', 'thunderstorm', 'shower rain'],\n",
      "      dtype='object')\n",
      "For 19 features: \n",
      " Accuracy: 0.8761446238081753 \n",
      " Precision: 0.8471935349242123 \n",
      " Recall: 0.8414894741806375 \n",
      " F1 score: 0.8441636112129192\n",
      "best accuracy = 0.8761446238081753, with 19 features, with varianceThreshold\n"
     ]
    },
    {
     "name": "stderr",
     "output_type": "stream",
     "text": [
      "\r",
      " 74%|███████▍  | 20/27 [2:04:43<52:55, 453.60s/it]  "
     ]
    },
    {
     "name": "stdout",
     "output_type": "stream",
     "text": [
      "Index(['month', 'day', 'year', 'hour', 'minute', 'holiday', 'dayOfTheWeek',\n",
      "       'temperature', 'humidity', 'pressure', 'heavy intensity rain',\n",
      "       'light rain', 'broken clouds', 'scattered clouds',\n",
      "       'thunderstorm with rain', 'few clouds', 'thunderstorm', 'shower rain'],\n",
      "      dtype='object')\n",
      "For 20 features: \n",
      " Accuracy: 0.8682742316784869 \n",
      " Precision: 0.8380110828718497 \n",
      " Recall: 0.8310689489036764 \n",
      " F1 score: 0.8343406380968941\n",
      "best accuracy = 0.8761446238081753, with 19 features, with varianceThreshold\n"
     ]
    },
    {
     "name": "stderr",
     "output_type": "stream",
     "text": [
      "\r",
      " 78%|███████▊  | 21/27 [2:12:15<45:19, 453.23s/it]"
     ]
    },
    {
     "name": "stdout",
     "output_type": "stream",
     "text": [
      "Index(['month', 'day', 'year', 'hour', 'minute', 'holiday', 'dayOfTheWeek',\n",
      "       'temperature', 'humidity', 'pressure', 'heavy intensity rain',\n",
      "       'light rain', 'broken clouds', 'scattered clouds',\n",
      "       'thunderstorm with rain', 'few clouds', 'thunderstorm', 'shower rain'],\n",
      "      dtype='object')\n",
      "For 21 features: \n",
      " Accuracy: 0.870038836790755 \n",
      " Precision: 0.8392089765375006 \n",
      " Recall: 0.8315616995229759 \n",
      " F1 score: 0.8351820633901293\n",
      "best accuracy = 0.8761446238081753, with 19 features, with varianceThreshold\n"
     ]
    },
    {
     "name": "stderr",
     "output_type": "stream",
     "text": [
      "\r",
      " 81%|████████▏ | 22/27 [2:19:52<37:51, 454.20s/it]"
     ]
    },
    {
     "name": "stdout",
     "output_type": "stream",
     "text": [
      "Index(['month', 'day', 'year', 'hour', 'minute', 'holiday', 'dayOfTheWeek',\n",
      "       'temperature', 'humidity', 'pressure', 'heavy intensity rain',\n",
      "       'light rain', 'broken clouds', 'scattered clouds',\n",
      "       'thunderstorm with rain', 'few clouds', 'thunderstorm', 'shower rain'],\n",
      "      dtype='object')\n",
      "For 22 features: \n",
      " Accuracy: 0.8727583262169086 \n",
      " Precision: 0.8414415985400593 \n",
      " Recall: 0.8350953398307837 \n",
      " F1 score: 0.8381422725715466\n",
      "best accuracy = 0.8761446238081753, with 19 features, with varianceThreshold\n"
     ]
    },
    {
     "name": "stderr",
     "output_type": "stream",
     "text": [
      "\r",
      " 85%|████████▌ | 23/27 [2:27:26<30:17, 454.27s/it]"
     ]
    },
    {
     "name": "stdout",
     "output_type": "stream",
     "text": [
      "Index(['month', 'day', 'year', 'hour', 'minute', 'holiday', 'dayOfTheWeek',\n",
      "       'temperature', 'humidity', 'pressure', 'heavy intensity rain',\n",
      "       'light rain', 'broken clouds', 'scattered clouds',\n",
      "       'thunderstorm with rain', 'few clouds', 'thunderstorm', 'shower rain'],\n",
      "      dtype='object')\n",
      "For 23 features: \n",
      " Accuracy: 0.8741564490067484 \n",
      " Precision: 0.8453417430932633 \n",
      " Recall: 0.8366568392598935 \n",
      " F1 score: 0.8405726930745204\n",
      "best accuracy = 0.8761446238081753, with 19 features, with varianceThreshold\n"
     ]
    },
    {
     "name": "stderr",
     "output_type": "stream",
     "text": [
      "\r",
      " 89%|████████▉ | 24/27 [2:34:57<22:39, 453.13s/it]"
     ]
    },
    {
     "name": "stdout",
     "output_type": "stream",
     "text": [
      "Index(['month', 'day', 'year', 'hour', 'minute', 'holiday', 'dayOfTheWeek',\n",
      "       'temperature', 'humidity', 'pressure', 'heavy intensity rain',\n",
      "       'light rain', 'broken clouds', 'scattered clouds',\n",
      "       'thunderstorm with rain', 'few clouds', 'thunderstorm', 'shower rain'],\n",
      "      dtype='object')\n",
      "For 24 features: \n",
      " Accuracy: 0.8687993906502904 \n",
      " Precision: 0.8334348813325129 \n",
      " Recall: 0.8320696706444335 \n",
      " F1 score: 0.8327025535404513\n",
      "best accuracy = 0.8761446238081753, with 19 features, with varianceThreshold\n"
     ]
    },
    {
     "name": "stderr",
     "output_type": "stream",
     "text": [
      "\r",
      " 93%|█████████▎| 25/27 [2:42:27<15:04, 452.17s/it]"
     ]
    },
    {
     "name": "stdout",
     "output_type": "stream",
     "text": [
      "Index(['month', 'day', 'year', 'hour', 'minute', 'holiday', 'dayOfTheWeek',\n",
      "       'temperature', 'humidity', 'pressure', 'heavy intensity rain',\n",
      "       'light rain', 'broken clouds', 'scattered clouds',\n",
      "       'thunderstorm with rain', 'few clouds', 'thunderstorm', 'shower rain'],\n",
      "      dtype='object')\n",
      "For 25 features: \n",
      " Accuracy: 0.87172150691464 \n",
      " Precision: 0.8420210985979609 \n",
      " Recall: 0.8349042403831615 \n",
      " F1 score: 0.838262051690314\n",
      "best accuracy = 0.8761446238081753, with 19 features, with varianceThreshold\n"
     ]
    },
    {
     "name": "stderr",
     "output_type": "stream",
     "text": [
      "\r",
      " 96%|█████████▋| 26/27 [2:50:01<07:32, 452.97s/it]"
     ]
    },
    {
     "name": "stdout",
     "output_type": "stream",
     "text": [
      "Index(['month', 'day', 'year', 'hour', 'minute', 'holiday', 'dayOfTheWeek',\n",
      "       'temperature', 'humidity', 'pressure', 'heavy intensity rain',\n",
      "       'light rain', 'broken clouds', 'scattered clouds',\n",
      "       'thunderstorm with rain', 'few clouds', 'thunderstorm', 'shower rain'],\n",
      "      dtype='object')\n",
      "For 26 features: \n",
      " Accuracy: 0.8704499856692461 \n",
      " Precision: 0.8414465196646419 \n",
      " Recall: 0.8372432207116722 \n",
      " F1 score: 0.8391699401575091\n",
      "best accuracy = 0.8761446238081753, with 19 features, with varianceThreshold\n"
     ]
    },
    {
     "name": "stderr",
     "output_type": "stream",
     "text": [
      "100%|██████████| 27/27 [2:57:39<00:00, 394.81s/it]\n",
      "  0%|          | 0/27 [00:00<?, ?it/s]"
     ]
    },
    {
     "name": "stdout",
     "output_type": "stream",
     "text": [
      "Index(['month', 'day', 'year', 'hour', 'minute', 'holiday', 'dayOfTheWeek',\n",
      "       'temperature', 'humidity', 'pressure', 'heavy intensity rain',\n",
      "       'light rain', 'broken clouds', 'scattered clouds',\n",
      "       'thunderstorm with rain', 'few clouds', 'thunderstorm', 'shower rain'],\n",
      "      dtype='object')\n",
      "For 27 features: \n",
      " Accuracy: 0.8736721217341372 \n",
      " Precision: 0.8428267715706366 \n",
      " Recall: 0.8345174203184444 \n",
      " F1 score: 0.8383461446787485\n",
      "best accuracy = 0.8761446238081753, with 19 features, with varianceThreshold\n",
      "best accuracy = 0.8761446238081753, with 19 features, with varianceThreshold\n",
      "\n",
      " \n",
      "\n",
      "------------------------- Analyzing method MRMR -------------------------\n",
      "The variable order is: \n",
      " ['month', 'day', 'year', 'hour', 'minute', 'holiday', 'dayOfTheWeek', 'temperature', 'humidity', 'pressure', 'heavy intensity rain', 'light rain', 'broken clouds', 'scattered clouds', 'thunderstorm with rain', 'few clouds', 'thunderstorm', 'shower rain', 'heavy intensity rain', 'mist', 'scattered clouds', 'very heavy rain', 'overcast clouds', 'moderate rain', 'minute', 'haze', 'few clouds']\n"
     ]
    },
    {
     "name": "stderr",
     "output_type": "stream",
     "text": [
      "\r",
      "  4%|▎         | 1/27 [01:00<26:25, 60.96s/it]"
     ]
    },
    {
     "name": "stdout",
     "output_type": "stream",
     "text": [
      "Index(['month'], dtype='object')\n",
      "For 1 features: \n",
      " Accuracy: 0.45652382321925034 \n",
      " Precision: 0.41971746779071173 \n",
      " Recall: 0.42957373736280074 \n",
      " F1 score: 0.40588974125123395\n",
      "best accuracy = 0.45652382321925034, with 1 features, with MRMR\n"
     ]
    },
    {
     "name": "stderr",
     "output_type": "stream",
     "text": [
      "\r",
      "  7%|▋         | 2/27 [03:24<45:43, 109.74s/it]"
     ]
    },
    {
     "name": "stdout",
     "output_type": "stream",
     "text": [
      "Index(['month', 'day'], dtype='object')\n",
      "For 2 features: \n",
      " Accuracy: 0.6870258330932488 \n",
      " Precision: 0.6287758599928008 \n",
      " Recall: 0.6737210825728358 \n",
      " F1 score: 0.6404379029781511\n",
      "best accuracy = 0.6870258330932488, with 2 features, with MRMR\n"
     ]
    },
    {
     "name": "stderr",
     "output_type": "stream",
     "text": [
      "\r",
      " 11%|█         | 3/27 [05:45<49:30, 123.79s/it]"
     ]
    },
    {
     "name": "stdout",
     "output_type": "stream",
     "text": [
      "Index(['month', 'day', 'year'], dtype='object')\n",
      "For 3 features: \n",
      " Accuracy: 0.6865800865800866 \n",
      " Precision: 0.6300293741503571 \n",
      " Recall: 0.677232317184605 \n",
      " F1 score: 0.6398939489365123\n",
      "best accuracy = 0.6870258330932488, with 2 features, with MRMR\n"
     ]
    },
    {
     "name": "stderr",
     "output_type": "stream",
     "text": [
      "\r",
      " 15%|█▍        | 4/27 [12:19<1:28:23, 230.60s/it]"
     ]
    },
    {
     "name": "stdout",
     "output_type": "stream",
     "text": [
      "Index(['month', 'day', 'year', 'hour'], dtype='object')\n",
      "For 4 features: \n",
      " Accuracy: 0.8612315698178664 \n",
      " Precision: 0.829641720458332 \n",
      " Recall: 0.8119126311465846 \n",
      " F1 score: 0.8200205209526704\n",
      "best accuracy = 0.8612315698178664, with 4 features, with MRMR\n"
     ]
    },
    {
     "name": "stderr",
     "output_type": "stream",
     "text": [
      "\r",
      " 19%|█▊        | 5/27 [18:11<1:40:34, 274.28s/it]"
     ]
    },
    {
     "name": "stdout",
     "output_type": "stream",
     "text": [
      "Index(['month', 'day', 'year', 'hour', 'minute'], dtype='object')\n",
      "For 5 features: \n",
      " Accuracy: 0.851819673713679 \n",
      " Precision: 0.8147745473779707 \n",
      " Recall: 0.8076832070276031 \n",
      " F1 score: 0.8108813510281423\n",
      "best accuracy = 0.8612315698178664, with 4 features, with MRMR\n"
     ]
    },
    {
     "name": "stderr",
     "output_type": "stream",
     "text": [
      "\r",
      " 22%|██▏       | 6/27 [24:02<1:45:06, 300.32s/it]"
     ]
    },
    {
     "name": "stdout",
     "output_type": "stream",
     "text": [
      "Index(['month', 'day', 'year', 'hour', 'minute', 'holiday'], dtype='object')\n",
      "For 6 features: \n",
      " Accuracy: 0.8580408084324533 \n",
      " Precision: 0.8222885639652516 \n",
      " Recall: 0.8143024536126943 \n",
      " F1 score: 0.8181020910597263\n",
      "best accuracy = 0.8612315698178664, with 4 features, with MRMR\n"
     ]
    },
    {
     "name": "stderr",
     "output_type": "stream",
     "text": [
      "\r",
      " 26%|██▌       | 7/27 [29:44<1:44:42, 314.15s/it]"
     ]
    },
    {
     "name": "stdout",
     "output_type": "stream",
     "text": [
      "Index(['month', 'day', 'year', 'hour', 'minute', 'holiday', 'dayOfTheWeek'], dtype='object')\n",
      "For 7 features: \n",
      " Accuracy: 0.8663179308340598 \n",
      " Precision: 0.8297553443298992 \n",
      " Recall: 0.8211861416963356 \n",
      " F1 score: 0.8250164210954468\n",
      "best accuracy = 0.8663179308340598, with 7 features, with MRMR\n"
     ]
    },
    {
     "name": "stderr",
     "output_type": "stream",
     "text": [
      "\r",
      " 30%|██▉       | 8/27 [35:43<1:43:58, 328.34s/it]"
     ]
    },
    {
     "name": "stdout",
     "output_type": "stream",
     "text": [
      "Index(['month', 'day', 'year', 'hour', 'minute', 'holiday', 'dayOfTheWeek',\n",
      "       'temperature'],\n",
      "      dtype='object')\n",
      "For 8 features: \n",
      " Accuracy: 0.8659873847646773 \n",
      " Precision: 0.8290657121603444 \n",
      " Recall: 0.8245782946396488 \n",
      " F1 score: 0.8266993662868583\n",
      "best accuracy = 0.8663179308340598, with 7 features, with MRMR\n"
     ]
    },
    {
     "name": "stderr",
     "output_type": "stream",
     "text": [
      "\r",
      " 33%|███▎      | 9/27 [42:09<1:43:52, 346.24s/it]"
     ]
    },
    {
     "name": "stdout",
     "output_type": "stream",
     "text": [
      "Index(['month', 'day', 'year', 'hour', 'minute', 'holiday', 'dayOfTheWeek',\n",
      "       'temperature', 'humidity'],\n",
      "      dtype='object')\n",
      "For 9 features: \n",
      " Accuracy: 0.8712938660445222 \n",
      " Precision: 0.8352878386209945 \n",
      " Recall: 0.8331810306150813 \n",
      " F1 score: 0.8341586984816532\n",
      "best accuracy = 0.8712938660445222, with 9 features, with MRMR\n"
     ]
    },
    {
     "name": "stderr",
     "output_type": "stream",
     "text": [
      "\r",
      " 37%|███▋      | 10/27 [48:59<1:43:43, 366.12s/it]"
     ]
    },
    {
     "name": "stdout",
     "output_type": "stream",
     "text": [
      "Index(['month', 'day', 'year', 'hour', 'minute', 'holiday', 'dayOfTheWeek',\n",
      "       'temperature', 'humidity', 'pressure'],\n",
      "      dtype='object')\n",
      "For 10 features: \n",
      " Accuracy: 0.8786639400136332 \n",
      " Precision: 0.8475982512078819 \n",
      " Recall: 0.8448399347915738 \n",
      " F1 score: 0.846191102925838\n",
      "best accuracy = 0.8786639400136332, with 10 features, with MRMR\n"
     ]
    },
    {
     "name": "stderr",
     "output_type": "stream",
     "text": [
      "\r",
      " 41%|████      | 11/27 [55:57<1:41:51, 381.95s/it]"
     ]
    },
    {
     "name": "stdout",
     "output_type": "stream",
     "text": [
      "Index(['month', 'day', 'year', 'hour', 'minute', 'holiday', 'dayOfTheWeek',\n",
      "       'temperature', 'humidity', 'pressure', 'heavy intensity rain'],\n",
      "      dtype='object')\n",
      "For 11 features: \n",
      " Accuracy: 0.8802068090917959 \n",
      " Precision: 0.850570640145409 \n",
      " Recall: 0.8436437107653656 \n",
      " F1 score: 0.846812873366913\n",
      "best accuracy = 0.8802068090917959, with 11 features, with MRMR\n"
     ]
    },
    {
     "name": "stderr",
     "output_type": "stream",
     "text": [
      "\r",
      " 44%|████▍     | 12/27 [1:03:03<1:38:48, 395.22s/it]"
     ]
    },
    {
     "name": "stdout",
     "output_type": "stream",
     "text": [
      "Index(['month', 'day', 'year', 'hour', 'minute', 'holiday', 'dayOfTheWeek',\n",
      "       'temperature', 'humidity', 'pressure', 'heavy intensity rain',\n",
      "       'light rain'],\n",
      "      dtype='object')\n",
      "For 12 features: \n",
      " Accuracy: 0.8731554773771133 \n",
      " Precision: 0.8426064162635305 \n",
      " Recall: 0.8380815677223735 \n",
      " F1 score: 0.8402615765540598\n",
      "best accuracy = 0.8802068090917959, with 11 features, with MRMR\n"
     ]
    },
    {
     "name": "stderr",
     "output_type": "stream",
     "text": [
      "\r",
      " 48%|████▊     | 13/27 [1:09:55<1:33:23, 400.23s/it]"
     ]
    },
    {
     "name": "stdout",
     "output_type": "stream",
     "text": [
      "Index(['month', 'day', 'year', 'hour', 'minute', 'holiday', 'dayOfTheWeek',\n",
      "       'temperature', 'humidity', 'pressure', 'heavy intensity rain',\n",
      "       'light rain', 'broken clouds'],\n",
      "      dtype='object')\n",
      "For 13 features: \n",
      " Accuracy: 0.88213411649535 \n",
      " Precision: 0.8492083473132658 \n",
      " Recall: 0.8447302642781146 \n",
      " F1 score: 0.8468146154378204\n",
      "best accuracy = 0.88213411649535, with 13 features, with MRMR\n"
     ]
    },
    {
     "name": "stderr",
     "output_type": "stream",
     "text": [
      "\r",
      " 52%|█████▏    | 14/27 [1:16:48<1:27:33, 404.14s/it]"
     ]
    },
    {
     "name": "stdout",
     "output_type": "stream",
     "text": [
      "Index(['month', 'day', 'year', 'hour', 'minute', 'holiday', 'dayOfTheWeek',\n",
      "       'temperature', 'humidity', 'pressure', 'heavy intensity rain',\n",
      "       'light rain', 'broken clouds', 'scattered clouds'],\n",
      "      dtype='object')\n",
      "For 14 features: \n",
      " Accuracy: 0.8725115229969599 \n",
      " Precision: 0.8372118686956863 \n",
      " Recall: 0.8351238106318777 \n",
      " F1 score: 0.8361294567658942\n",
      "best accuracy = 0.88213411649535, with 13 features, with MRMR\n"
     ]
    },
    {
     "name": "stderr",
     "output_type": "stream",
     "text": [
      "\r",
      " 56%|█████▌    | 15/27 [1:23:53<1:22:06, 410.55s/it]"
     ]
    },
    {
     "name": "stdout",
     "output_type": "stream",
     "text": [
      "Index(['month', 'day', 'year', 'hour', 'minute', 'holiday', 'dayOfTheWeek',\n",
      "       'temperature', 'humidity', 'pressure', 'heavy intensity rain',\n",
      "       'light rain', 'broken clouds', 'scattered clouds',\n",
      "       'thunderstorm with rain'],\n",
      "      dtype='object')\n",
      "For 15 features: \n",
      " Accuracy: 0.8768051871500147 \n",
      " Precision: 0.8484218194975878 \n",
      " Recall: 0.8420092747108217 \n",
      " F1 score: 0.8450542226403542\n",
      "best accuracy = 0.88213411649535, with 13 features, with MRMR\n"
     ]
    },
    {
     "name": "stderr",
     "output_type": "stream",
     "text": [
      "\r",
      " 59%|█████▉    | 16/27 [1:30:59<1:16:07, 415.24s/it]"
     ]
    },
    {
     "name": "stdout",
     "output_type": "stream",
     "text": [
      "Index(['month', 'day', 'year', 'hour', 'minute', 'holiday', 'dayOfTheWeek',\n",
      "       'temperature', 'humidity', 'pressure', 'heavy intensity rain',\n",
      "       'light rain', 'broken clouds', 'scattered clouds',\n",
      "       'thunderstorm with rain', 'few clouds'],\n",
      "      dtype='object')\n",
      "For 16 features: \n",
      " Accuracy: 0.8755043794902077 \n",
      " Precision: 0.8459859956655421 \n",
      " Recall: 0.8383671889249283 \n",
      " F1 score: 0.8420052072235\n",
      "best accuracy = 0.88213411649535, with 13 features, with MRMR\n"
     ]
    },
    {
     "name": "stderr",
     "output_type": "stream",
     "text": [
      "\r",
      " 63%|██████▎   | 17/27 [1:37:57<1:09:20, 416.02s/it]"
     ]
    },
    {
     "name": "stdout",
     "output_type": "stream",
     "text": [
      "Index(['month', 'day', 'year', 'hour', 'minute', 'holiday', 'dayOfTheWeek',\n",
      "       'temperature', 'humidity', 'pressure', 'heavy intensity rain',\n",
      "       'light rain', 'broken clouds', 'scattered clouds',\n",
      "       'thunderstorm with rain', 'few clouds', 'thunderstorm'],\n",
      "      dtype='object')\n",
      "For 17 features: \n",
      " Accuracy: 0.873213053337277 \n",
      " Precision: 0.8377396911476211 \n",
      " Recall: 0.8347355224906505 \n",
      " F1 score: 0.8361570740932037\n",
      "best accuracy = 0.88213411649535, with 13 features, with MRMR\n"
     ]
    },
    {
     "name": "stderr",
     "output_type": "stream",
     "text": [
      "\r",
      " 67%|██████▋   | 18/27 [1:45:09<1:03:07, 420.80s/it]"
     ]
    },
    {
     "name": "stdout",
     "output_type": "stream",
     "text": [
      "Index(['month', 'day', 'year', 'hour', 'minute', 'holiday', 'dayOfTheWeek',\n",
      "       'temperature', 'humidity', 'pressure', 'heavy intensity rain',\n",
      "       'light rain', 'broken clouds', 'scattered clouds',\n",
      "       'thunderstorm with rain', 'few clouds', 'thunderstorm', 'shower rain'],\n",
      "      dtype='object')\n",
      "For 18 features: \n",
      " Accuracy: 0.8719012345679013 \n",
      " Precision: 0.8390267448531972 \n",
      " Recall: 0.8360427465510729 \n",
      " F1 score: 0.8374573877049099\n",
      "best accuracy = 0.88213411649535, with 13 features, with MRMR\n"
     ]
    },
    {
     "name": "stderr",
     "output_type": "stream",
     "text": [
      "\r",
      " 70%|███████   | 19/27 [1:52:18<56:27, 423.38s/it]  "
     ]
    },
    {
     "name": "stdout",
     "output_type": "stream",
     "text": [
      "Index(['month', 'day', 'year', 'hour', 'minute', 'holiday', 'dayOfTheWeek',\n",
      "       'temperature', 'humidity', 'pressure', 'heavy intensity rain',\n",
      "       'light rain', 'broken clouds', 'scattered clouds',\n",
      "       'thunderstorm with rain', 'few clouds', 'thunderstorm', 'shower rain',\n",
      "       'heavy intensity rain'],\n",
      "      dtype='object')\n",
      "For 19 features: \n",
      " Accuracy: 0.8819629959434055 \n",
      " Precision: 0.8516464016894413 \n",
      " Recall: 0.8489137022237474 \n",
      " F1 score: 0.850118637172418\n",
      "best accuracy = 0.88213411649535, with 13 features, with MRMR\n"
     ]
    },
    {
     "name": "stderr",
     "output_type": "stream",
     "text": [
      "\r",
      " 74%|███████▍  | 20/27 [1:59:30<49:40, 425.81s/it]"
     ]
    },
    {
     "name": "stdout",
     "output_type": "stream",
     "text": [
      "Index(['month', 'day', 'year', 'hour', 'minute', 'holiday', 'dayOfTheWeek',\n",
      "       'temperature', 'humidity', 'pressure', 'heavy intensity rain',\n",
      "       'light rain', 'broken clouds', 'scattered clouds',\n",
      "       'thunderstorm with rain', 'few clouds', 'thunderstorm', 'shower rain',\n",
      "       'heavy intensity rain', 'mist'],\n",
      "      dtype='object')\n",
      "For 20 features: \n",
      " Accuracy: 0.8767965110516404 \n",
      " Precision: 0.842367342386761 \n",
      " Recall: 0.8383512691563134 \n",
      " F1 score: 0.8398758542049618\n",
      "best accuracy = 0.88213411649535, with 13 features, with MRMR\n"
     ]
    },
    {
     "name": "stderr",
     "output_type": "stream",
     "text": [
      "\r",
      " 78%|███████▊  | 21/27 [2:06:46<42:52, 428.79s/it]"
     ]
    },
    {
     "name": "stdout",
     "output_type": "stream",
     "text": [
      "Index(['month', 'day', 'year', 'hour', 'minute', 'holiday', 'dayOfTheWeek',\n",
      "       'temperature', 'humidity', 'pressure', 'heavy intensity rain',\n",
      "       'light rain', 'broken clouds', 'scattered clouds',\n",
      "       'thunderstorm with rain', 'few clouds', 'thunderstorm', 'shower rain',\n",
      "       'heavy intensity rain', 'mist', 'scattered clouds'],\n",
      "      dtype='object')\n",
      "For 21 features: \n",
      " Accuracy: 0.8777678482772316 \n",
      " Precision: 0.8453616000897537 \n",
      " Recall: 0.8398954057951177 \n",
      " F1 score: 0.8425060547284665\n",
      "best accuracy = 0.88213411649535, with 13 features, with MRMR\n"
     ]
    },
    {
     "name": "stderr",
     "output_type": "stream",
     "text": [
      "\r",
      " 81%|████████▏ | 22/27 [2:13:55<35:44, 428.91s/it]"
     ]
    },
    {
     "name": "stdout",
     "output_type": "stream",
     "text": [
      "Index(['month', 'day', 'year', 'hour', 'minute', 'holiday', 'dayOfTheWeek',\n",
      "       'temperature', 'humidity', 'pressure', 'heavy intensity rain',\n",
      "       'light rain', 'broken clouds', 'scattered clouds',\n",
      "       'thunderstorm with rain', 'few clouds', 'thunderstorm', 'shower rain',\n",
      "       'heavy intensity rain', 'mist', 'scattered clouds', 'very heavy rain'],\n",
      "      dtype='object')\n",
      "For 22 features: \n",
      " Accuracy: 0.8791405550581916 \n",
      " Precision: 0.8476636864734126 \n",
      " Recall: 0.8377221552037108 \n",
      " F1 score: 0.8424847204552269\n",
      "best accuracy = 0.88213411649535, with 13 features, with MRMR\n"
     ]
    },
    {
     "name": "stderr",
     "output_type": "stream",
     "text": [
      "\r",
      " 85%|████████▌ | 23/27 [2:21:04<28:36, 429.01s/it]"
     ]
    },
    {
     "name": "stdout",
     "output_type": "stream",
     "text": [
      "Index(['month', 'day', 'year', 'hour', 'minute', 'holiday', 'dayOfTheWeek',\n",
      "       'temperature', 'humidity', 'pressure', 'heavy intensity rain',\n",
      "       'light rain', 'broken clouds', 'scattered clouds',\n",
      "       'thunderstorm with rain', 'few clouds', 'thunderstorm', 'shower rain',\n",
      "       'heavy intensity rain', 'mist', 'scattered clouds', 'very heavy rain',\n",
      "       'overcast clouds'],\n",
      "      dtype='object')\n",
      "For 23 features: \n",
      " Accuracy: 0.8776283009466866 \n",
      " Precision: 0.8469457344932393 \n",
      " Recall: 0.8385653094422804 \n",
      " F1 score: 0.8424712270590256\n",
      "best accuracy = 0.88213411649535, with 13 features, with MRMR\n"
     ]
    },
    {
     "name": "stderr",
     "output_type": "stream",
     "text": [
      "\r",
      " 89%|████████▉ | 24/27 [2:28:22<21:34, 431.56s/it]"
     ]
    },
    {
     "name": "stdout",
     "output_type": "stream",
     "text": [
      "Index(['month', 'day', 'year', 'hour', 'minute', 'holiday', 'dayOfTheWeek',\n",
      "       'temperature', 'humidity', 'pressure', 'heavy intensity rain',\n",
      "       'light rain', 'broken clouds', 'scattered clouds',\n",
      "       'thunderstorm with rain', 'few clouds', 'thunderstorm', 'shower rain',\n",
      "       'heavy intensity rain', 'mist', 'scattered clouds', 'very heavy rain',\n",
      "       'overcast clouds', 'moderate rain'],\n",
      "      dtype='object')\n",
      "For 24 features: \n",
      " Accuracy: 0.8727163821503444 \n",
      " Precision: 0.8424937152486263 \n",
      " Recall: 0.836170733366657 \n",
      " F1 score: 0.8390918056516209\n",
      "best accuracy = 0.88213411649535, with 13 features, with MRMR\n"
     ]
    },
    {
     "name": "stderr",
     "output_type": "stream",
     "text": [
      "\r",
      " 93%|█████████▎| 25/27 [2:35:56<14:36, 438.48s/it]"
     ]
    },
    {
     "name": "stdout",
     "output_type": "stream",
     "text": [
      "Index(['month', 'day', 'year', 'hour', 'minute', 'holiday', 'dayOfTheWeek',\n",
      "       'temperature', 'humidity', 'pressure', 'heavy intensity rain',\n",
      "       'light rain', 'broken clouds', 'scattered clouds',\n",
      "       'thunderstorm with rain', 'few clouds', 'thunderstorm', 'shower rain',\n",
      "       'heavy intensity rain', 'mist', 'scattered clouds', 'very heavy rain',\n",
      "       'overcast clouds', 'moderate rain', 'minute'],\n",
      "      dtype='object')\n",
      "For 25 features: \n",
      " Accuracy: 0.8783878387838784 \n",
      " Precision: 0.8454306178192423 \n",
      " Recall: 0.8438764789341203 \n",
      " F1 score: 0.8444800696536071\n",
      "best accuracy = 0.88213411649535, with 13 features, with MRMR\n"
     ]
    },
    {
     "name": "stderr",
     "output_type": "stream",
     "text": [
      "\r",
      " 96%|█████████▋| 26/27 [2:43:25<07:21, 441.63s/it]"
     ]
    },
    {
     "name": "stdout",
     "output_type": "stream",
     "text": [
      "Index(['month', 'day', 'year', 'hour', 'minute', 'holiday', 'dayOfTheWeek',\n",
      "       'temperature', 'humidity', 'pressure', 'heavy intensity rain',\n",
      "       'light rain', 'broken clouds', 'scattered clouds',\n",
      "       'thunderstorm with rain', 'few clouds', 'thunderstorm', 'shower rain',\n",
      "       'heavy intensity rain', 'mist', 'scattered clouds', 'very heavy rain',\n",
      "       'overcast clouds', 'moderate rain', 'minute', 'haze'],\n",
      "      dtype='object')\n",
      "For 26 features: \n",
      " Accuracy: 0.8760645225929266 \n",
      " Precision: 0.8437787767169304 \n",
      " Recall: 0.8388345814842175 \n",
      " F1 score: 0.8411996136267489\n",
      "best accuracy = 0.88213411649535, with 13 features, with MRMR\n"
     ]
    },
    {
     "name": "stderr",
     "output_type": "stream",
     "text": [
      "100%|██████████| 27/27 [2:51:06<00:00, 380.22s/it]"
     ]
    },
    {
     "name": "stdout",
     "output_type": "stream",
     "text": [
      "Index(['month', 'day', 'year', 'hour', 'minute', 'holiday', 'dayOfTheWeek',\n",
      "       'temperature', 'humidity', 'pressure', 'heavy intensity rain',\n",
      "       'light rain', 'broken clouds', 'scattered clouds',\n",
      "       'thunderstorm with rain', 'few clouds', 'thunderstorm', 'shower rain',\n",
      "       'heavy intensity rain', 'mist', 'scattered clouds', 'very heavy rain',\n",
      "       'overcast clouds', 'moderate rain', 'minute', 'haze', 'few clouds'],\n",
      "      dtype='object')\n",
      "For 27 features: \n",
      " Accuracy: 0.8758406102579545 \n",
      " Precision: 0.8434381679425484 \n",
      " Recall: 0.8408128622094504 \n",
      " F1 score: 0.8420481889344611\n",
      "best accuracy = 0.88213411649535, with 13 features, with MRMR\n",
      "best accuracy = 0.88213411649535, with 13 features, with MRMR\n",
      "\n",
      " \n",
      "\n"
     ]
    },
    {
     "name": "stderr",
     "output_type": "stream",
     "text": [
      "\n"
     ]
    }
   ],
   "source": [
    "analizeDF(hp_oHe,orderOHE,28,n_loops=3)"
   ]
  }
 ],
 "metadata": {
  "kernelspec": {
   "display_name": "Python 3 (ipykernel)",
   "language": "python",
   "name": "python3"
  },
  "language_info": {
   "codemirror_mode": {
    "name": "ipython",
    "version": 3
   },
   "file_extension": ".py",
   "mimetype": "text/x-python",
   "name": "python",
   "nbconvert_exporter": "python",
   "pygments_lexer": "ipython3",
   "version": "3.8.8"
  }
 },
 "nbformat": 4,
 "nbformat_minor": 5
}
