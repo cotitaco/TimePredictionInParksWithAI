{
 "cells": [
  {
   "cell_type": "markdown",
   "id": "6f37959a",
   "metadata": {},
   "source": [
    "# Random Forests for waiting times prediction"
   ]
  },
  {
   "cell_type": "code",
   "execution_count": 1,
   "id": "a25342c2",
   "metadata": {},
   "outputs": [],
   "source": [
    "import pandas as pd\n",
    "import numpy as np\n",
    "import matplotlib as plt\n",
    "from collections import Counter\n",
    "from sklearn.model_selection import train_test_split\n",
    "from imblearn.over_sampling import SMOTE\n",
    "from sklearn import metrics\n",
    "from sklearn.metrics import classification_report\n",
    "from tqdm import tqdm\n",
    "from statistics import mean\n",
    "import math\n",
    "from statistics import mean\n",
    "import warnings\n",
    "warnings.filterwarnings('ignore')\n",
    "from sklearn.metrics import recall_score, accuracy_score\n",
    "\n",
    "from sklearn.ensemble import RandomForestClassifier"
   ]
  },
  {
   "cell_type": "code",
   "execution_count": 2,
   "id": "a73d86fc",
   "metadata": {},
   "outputs": [],
   "source": [
    "hp_oHe = pd.read_csv('HP_OHE_3class.csv')\n",
    "hp_oHe.drop(hp_oHe.tail(17).index,inplace=True) \n",
    "hp_oHe = hp_oHe.drop('Unnamed: 0',axis=1)\n",
    "\n",
    "hp_ME = pd.read_csv(\"harryPotterClean.csv\")\n",
    "hp_ME.drop(hp_ME.tail(17).index,inplace=True) \n",
    "hp_ME = hp_ME.drop('Unnamed: 0',axis=1)\n",
    "\n",
    "hp_OE = pd.read_csv(\"harryPotterCleanOE.csv\")\n",
    "hp_OE.drop(hp_OE.tail(17).index,inplace=True) \n",
    "hp_OE = hp_OE.drop('Unnamed: 0',axis=1)"
   ]
  },
  {
   "cell_type": "code",
   "execution_count": 3,
   "id": "853f8013",
   "metadata": {},
   "outputs": [],
   "source": [
    "def getXandY(df):\n",
    "    df.drop(df.tail(20).index,inplace=True) \n",
    "    x = df.drop(['HP_Forbidden_clean'],axis=1)\n",
    "    y = df.HP_Forbidden_clean\n",
    "    return(x,y)\n",
    "\n",
    "def trainTest(x,y):\n",
    "    X_train, X_test, y_train, y_test = train_test_split(x, y, test_size=0.30, shuffle=True)\n",
    "    return(X_train, X_test, y_train, y_test)\n",
    "\n",
    "#Function to perform oversampling\n",
    "def overSampling(X_train, y_train, y_test, method):\n",
    "    X_train_os, y_train_os= method.fit_resample(X_train, y_train)\n",
    "    # Check the number of records after over sampling\n",
    "    #print(sorted(Counter(y_train_os).items())) \n",
    "    return(X_train_os, y_train_os)\n",
    "\n",
    "smote = SMOTE(random_state=42)\n",
    "\n",
    "\n",
    "def testModel(df,var_order,n_vars,n_loops,method):\n",
    "    highest = 0\n",
    "    for j in tqdm(range(1,n_vars)):\n",
    "        #split our dataframe into X and Y\n",
    "        x,y=getXandY(df)\n",
    "        #create the lists to store metrics\n",
    "        acc = []\n",
    "        rec = []\n",
    "        preci = []\n",
    "        f1 = []\n",
    "        for i in range(n_loops):\n",
    "            #split the dataFrame into test and train\n",
    "            X_train, X_test, y_train, y_test = trainTest(x,y)\n",
    "            #Oversample the train dataset with SMOTE\n",
    "            X_train_os, y_train_os=overSampling(X_train, y_train, y_test, smote)\n",
    "            #define the variables order \n",
    "            X_train_os_r = X_train_os[var_order]\n",
    "            X_test_r = X_test[var_order]\n",
    "            df1= X_train_os_r.iloc[:, 0:j] #use only part of the variables\n",
    "            \n",
    "            #create and train decision trees\n",
    "            rnd_clf = RandomForestClassifier(n_jobs=-1)\n",
    "            rnd_clf.fit(df1, y_train_os)\n",
    "        \n",
    "            y_pred=rnd_clf.predict(X_test_r.iloc[:, 0:j])\n",
    "            ac=metrics.accuracy_score(y_test, y_pred)\n",
    "            acc.append(ac)\n",
    "            p=metrics.precision_score(y_test, y_pred,average='macro')\n",
    "            preci.append(p)\n",
    "            r=metrics.recall_score(y_test, y_pred,average='macro')\n",
    "            rec.append(r)\n",
    "            f=metrics.f1_score(y_test, y_pred, average='macro')\n",
    "            f1.append(f)\n",
    "        print(df1.columns)\n",
    "        print(\"For {} features: \\n Accuracy: {} \\n Precision: {} \\n Recall: {} \\n F1 score: {}\".format(\n",
    "        j,mean(acc),mean(preci),mean(rec),mean(f1)))\n",
    "        \n",
    "        if mean(acc)>highest:\n",
    "            highest = mean(acc)\n",
    "            best = \"best accuracy = {}, with {} features, with {}\".format(mean(acc),j,method)\n",
    "        print(best)\n",
    "        #print(classification_report(y_test, y_pred))\n",
    "    print(best)\n",
    "        \n",
    "def analizeDF(df,order,n_vars,n_loops):\n",
    "    for i in range(len(order)):\n",
    "        print('------------------------- Analyzing method {} -------------------------'.format(method[i]))\n",
    "        print('The variable order is: \\n {}'.format(order[i]))\n",
    "        testModel(df,order[i],n_vars,n_loops,method[i])\n",
    "        print('\\n \\n')"
   ]
  },
  {
   "cell_type": "markdown",
   "id": "ef99b338",
   "metadata": {},
   "source": [
    "## One hot encoding"
   ]
  },
  {
   "cell_type": "code",
   "execution_count": 4,
   "id": "b570fce3",
   "metadata": {},
   "outputs": [],
   "source": [
    "#Variable order in one hot encoding:\n",
    "pear_corrO = ['temperature',\t'holiday',\t'day',\t'month',\t'pressure',\t'dayOfTheWeek',\t'shower rain',\t'broken clouds',\t'fog',\t'overcast clouds',\t'heavy intensity rain',\t'minute',\t'haze',\t'thunderstorm with light rain',\t'scattered clouds',\t'clear sky',\t'mist',\t'light intensity drizzle',\t'few clouds',\t'thunderstorm',\t'very heavy rain',\t'moderate rain',\t'thunderstorm with rain',\t'year',\t'light rain',\t'humidity',\t'hour',\t'Pandemic']\n",
    "kend_corrO = ['temperature',\t'holiday',\t'month',\t'day',\t'pressure',\t'dayOfTheWeek',\t'shower rain',\t'broken clouds',\t'heavy intensity rain',\t'fog',\t'year',\t'overcast clouds',\t'minute',\t'haze',\t'thunderstorm with light rain',\t'mist',\t'light intensity drizzle',\t'scattered clouds',\t'clear sky',\t'few clouds',\t'thunderstorm',\t'very heavy rain',\t'moderate rain',\t'thunderstorm with rain',\t'light rain',\t'humidity',\t'hour',\t'Pandemic']\n",
    "mutInf_classO = ['month',\t'day',\t'year',\t'hour',\t'minute',\t'holiday',\t'dayOfTheWeek',\t'Pandemic',\t'temperature',\t'humidity',\t'pressure',\t'heavy intensity rain',\t'light rain',\t'broken clouds',\t'moderate rain',\t'mist',\t'overcast clouds',\t'clear sky',\t'scattered clouds',\t'thunderstorm with rain',\t'few clouds',\t'thunderstorm',\t'shower rain',\t'very heavy rain',\t'fog',\t'haze',\t'thunderstorm with light rain',\t'light intensity drizzle']\n",
    "mutInf_regO = ['month',\t'day',\t'year',\t'hour',\t'minute',\t'holiday',\t'dayOfTheWeek',\t'Pandemic',\t'temperature',\t'humidity',\t'pressure',\t'heavy intensity rain',\t'light rain',\t'broken clouds',\t'moderate rain',\t'mist',\t'overcast clouds',\t'clear sky',\t'scattered clouds',\t'thunderstorm with rain',\t'few clouds',\t'thunderstorm',\t'shower rain',\t'very heavy rain',\t'fog',\t'haze',\t'thunderstorm with light rain',\t'light intensity drizzle']\n",
    "mutInf_class2O = ['day',\t'temperature',\t'month',\t'humidity',\t'hour',\t'pressure','dayOfTheWeek',\t'year',\t'holiday',\t'shower rain',\t'light rain',\t'thunderstorm',\t'fog',\t'broken clouds',\t'Pandemic',\t'thunderstorm with rain',\t'light intensity drizzle',\t'thunderstorm with light rain',\t'heavy intensity rain',\t'mist',\t'scattered clouds',\t'very heavy rain',\t'overcast clouds',\t'moderate rain',\t'minute',\t'haze',\t'few clouds',\t'clear sky']\n",
    "varThreO = ['month',\t'day',\t'year',\t'hour',\t'minute',\t'holiday',\t'dayOfTheWeek',\t'temperature',\t'humidity',\t'pressure',\t'heavy intensity rain',\t'light rain',\t'broken clouds',\t'scattered clouds',\t'thunderstorm with rain',\t'few clouds',\t'thunderstorm',\t'shower rain',]\n",
    "mrmrO = ['month',\t'day',\t'year',\t'hour',\t'minute',\t'holiday',\t'dayOfTheWeek',\t'temperature',\t'humidity',\t'pressure',\t'heavy intensity rain',\t'light rain',\t'broken clouds',\t'scattered clouds',\t'thunderstorm with rain',\t'few clouds',\t'thunderstorm',\t'shower rain',\t'heavy intensity rain',\t'mist',\t'scattered clouds',\t'very heavy rain',\t'overcast clouds',\t'moderate rain',\t'minute',\t'haze',\t'few clouds']\n",
    "\n",
    "orderOHE=[pear_corrO,kend_corrO,mutInf_classO,mutInf_regO,mutInf_class2O,varThreO,mrmrO]\n",
    "\n",
    "method = ['Pearson_correlation','Kendalls_correlation','mutualInformation_classification',\n",
    "          'mutualInformation_reggression','mutualInformation_classification2',\n",
    "          'varianceThreshold','MRMR']"
   ]
  },
  {
   "cell_type": "code",
   "execution_count": null,
   "id": "aef6596b",
   "metadata": {
    "scrolled": true
   },
   "outputs": [
    {
     "name": "stderr",
     "output_type": "stream",
     "text": [
      "\r",
      "  0%|          | 0/27 [00:00<?, ?it/s]"
     ]
    },
    {
     "name": "stdout",
     "output_type": "stream",
     "text": [
      "------------------------- Analyzing method Pearson_correlation -------------------------\n",
      "The variable order is: \n",
      " ['temperature', 'holiday', 'day', 'month', 'pressure', 'dayOfTheWeek', 'shower rain', 'broken clouds', 'fog', 'overcast clouds', 'heavy intensity rain', 'minute', 'haze', 'thunderstorm with light rain', 'scattered clouds', 'clear sky', 'mist', 'light intensity drizzle', 'few clouds', 'thunderstorm', 'very heavy rain', 'moderate rain', 'thunderstorm with rain', 'year', 'light rain', 'humidity', 'hour', 'Pandemic']\n"
     ]
    },
    {
     "name": "stderr",
     "output_type": "stream",
     "text": [
      "\r",
      "  4%|▎         | 1/27 [00:16<07:07, 16.43s/it]"
     ]
    },
    {
     "name": "stdout",
     "output_type": "stream",
     "text": [
      "Index(['temperature'], dtype='object')\n",
      "For 1 features: \n",
      " Accuracy: 0.4388303708580206 \n",
      " Precision: 0.3640619531022423 \n",
      " Recall: 0.3630652794614665 \n",
      " F1 score: 0.362626551943934\n",
      "best accuracy = 0.4388303708580206, with 1 features, with Pearson_correlation\n"
     ]
    },
    {
     "name": "stderr",
     "output_type": "stream",
     "text": [
      "\r",
      "  7%|▋         | 2/27 [00:34<07:12, 17.29s/it]"
     ]
    },
    {
     "name": "stdout",
     "output_type": "stream",
     "text": [
      "Index(['temperature', 'holiday'], dtype='object')\n",
      "For 2 features: \n",
      " Accuracy: 0.4575368050977807 \n",
      " Precision: 0.39853452463197914 \n",
      " Recall: 0.3954045549765509 \n",
      " F1 score: 0.3964295897636806\n",
      "best accuracy = 0.4575368050977807, with 2 features, with Pearson_correlation\n"
     ]
    },
    {
     "name": "stderr",
     "output_type": "stream",
     "text": [
      "\r",
      " 11%|█         | 3/27 [00:49<06:32, 16.34s/it]"
     ]
    },
    {
     "name": "stdout",
     "output_type": "stream",
     "text": [
      "Index(['temperature', 'holiday', 'day'], dtype='object')\n",
      "For 3 features: \n",
      " Accuracy: 0.5966776677667767 \n",
      " Precision: 0.5594042823734405 \n",
      " Recall: 0.576564687224732 \n",
      " F1 score: 0.5653319929374269\n",
      "best accuracy = 0.5966776677667767, with 3 features, with Pearson_correlation\n"
     ]
    },
    {
     "name": "stderr",
     "output_type": "stream",
     "text": [
      "\r",
      " 15%|█▍        | 4/27 [01:04<06:07, 15.97s/it]"
     ]
    },
    {
     "name": "stdout",
     "output_type": "stream",
     "text": [
      "Index(['temperature', 'holiday', 'day', 'month'], dtype='object')\n",
      "For 4 features: \n",
      " Accuracy: 0.7641330689579202 \n",
      " Precision: 0.7309177155826768 \n",
      " Recall: 0.7416733905897509 \n",
      " F1 score: 0.7357340902321512\n",
      "best accuracy = 0.7641330689579202, with 4 features, with Pearson_correlation\n"
     ]
    },
    {
     "name": "stderr",
     "output_type": "stream",
     "text": [
      "\r",
      " 19%|█▊        | 5/27 [01:20<05:44, 15.65s/it]"
     ]
    },
    {
     "name": "stdout",
     "output_type": "stream",
     "text": [
      "Index(['temperature', 'holiday', 'day', 'month', 'pressure'], dtype='object')\n",
      "For 5 features: \n",
      " Accuracy: 0.8512133245091551 \n",
      " Precision: 0.8296906073273915 \n",
      " Recall: 0.8340669557440286 \n",
      " F1 score: 0.8317640973292955\n",
      "best accuracy = 0.8512133245091551, with 5 features, with Pearson_correlation\n"
     ]
    },
    {
     "name": "stderr",
     "output_type": "stream",
     "text": [
      "\r",
      " 22%|██▏       | 6/27 [01:34<05:19, 15.20s/it]"
     ]
    },
    {
     "name": "stdout",
     "output_type": "stream",
     "text": [
      "Index(['temperature', 'holiday', 'day', 'month', 'pressure', 'dayOfTheWeek'], dtype='object')\n",
      "For 6 features: \n",
      " Accuracy: 0.8539761431411531 \n",
      " Precision: 0.8314111216531482 \n",
      " Recall: 0.83624241608572 \n",
      " F1 score: 0.8336356497887573\n",
      "best accuracy = 0.8539761431411531, with 6 features, with Pearson_correlation\n"
     ]
    },
    {
     "name": "stderr",
     "output_type": "stream",
     "text": [
      "\r",
      " 26%|██▌       | 7/27 [01:48<04:55, 14.76s/it]"
     ]
    },
    {
     "name": "stdout",
     "output_type": "stream",
     "text": [
      "Index(['temperature', 'holiday', 'day', 'month', 'pressure', 'dayOfTheWeek',\n",
      "       'shower rain'],\n",
      "      dtype='object')\n",
      "For 7 features: \n",
      " Accuracy: 0.8552643220526432 \n",
      " Precision: 0.8342444525782784 \n",
      " Recall: 0.8383590504095191 \n",
      " F1 score: 0.8361806673622841\n",
      "best accuracy = 0.8552643220526432, with 7 features, with Pearson_correlation\n"
     ]
    },
    {
     "name": "stderr",
     "output_type": "stream",
     "text": [
      "\r",
      " 30%|██▉       | 8/27 [02:01<04:32, 14.34s/it]"
     ]
    },
    {
     "name": "stdout",
     "output_type": "stream",
     "text": [
      "Index(['temperature', 'holiday', 'day', 'month', 'pressure', 'dayOfTheWeek',\n",
      "       'shower rain', 'broken clouds'],\n",
      "      dtype='object')\n",
      "For 8 features: \n",
      " Accuracy: 0.8599557032115172 \n",
      " Precision: 0.8392611967142376 \n",
      " Recall: 0.8435270073621295 \n",
      " F1 score: 0.8412507145268631\n",
      "best accuracy = 0.8599557032115172, with 8 features, with Pearson_correlation\n"
     ]
    }
   ],
   "source": [
    "analizeDF(hp_oHe,orderOHE,28,n_loops=20)"
   ]
  },
  {
   "cell_type": "markdown",
   "id": "98b291fc",
   "metadata": {},
   "source": [
    "## Manual Encoding"
   ]
  },
  {
   "cell_type": "code",
   "execution_count": 4,
   "id": "87ec8e86",
   "metadata": {},
   "outputs": [
    {
     "data": {
      "text/plain": [
       "array([2., 1., 3.])"
      ]
     },
     "execution_count": 4,
     "metadata": {},
     "output_type": "execute_result"
    }
   ],
   "source": [
    "#Replace times ending in 5 and also compacting the rest to have only 6 classes\n",
    "b=hp_ME.Harry_Potter_and_the_Forbidden.replace([\n",
    "5, 10, 11, 15, 20, 25, 30, 35, 40, 45,50.0,55.0,60.0,65.0,70.0,75.0,80.0,85.0,90.0,95.0,100.0,105.0,110.0,115.0,120.0,125.0,130.0,135.0,145.0,150.0,180.0], \n",
    "[1,1,  1,  1,  1,  1,  1,  2,  2,  2, 2,   2,   2,   3,   3,   3,   3,   3,   3,   3,   3,    3,    3,    3,     3,    3,   3,    3,     3,    3,    3])\n",
    "\n",
    "df3=pd.DataFrame(b)\n",
    "df3.rename(columns = {'Harry_Potter_and_the_Forbidden':'HP_Forbidden_clean'}, inplace = True)\n",
    "hp_bis3=pd.concat([hp_ME, df3], axis=1)\n",
    "hp3 = hp_bis3.drop('Harry_Potter_and_the_Forbidden',axis=1)\n",
    "hp3.rename(columns = {'day.1':'dayOfTheWeek'}, inplace = True)\n",
    "hp3 = hp3[hp3.HP_Forbidden_clean != 0] #delete rows with 0 min\n",
    "hp3.HP_Forbidden_clean.unique()"
   ]
  },
  {
   "cell_type": "code",
   "execution_count": 5,
   "id": "1cd828ff",
   "metadata": {},
   "outputs": [],
   "source": [
    "HP_ME = hp3\n",
    "\n",
    "pear_corr = ['temperature','holiday','day','month','pressure','dayOfTheWeek',\n",
    "            'report','minute','year','humidity','hour',\t'Pandemic']\n",
    "kend_corr = ['temperature','holiday','month','day','pressure','dayOfTheWeek','report','year',\n",
    "             'minute','humidity','hour','Pandemic']\n",
    "mutInf_class = ['month','day','year','hour','minute','holiday','dayOfTheWeek','Pandemic',\n",
    "                'temperature','humidity','pressure','report']\n",
    "mutInf_reg = ['month','day','year','hour','minute','holiday','dayOfTheWeek','Pandemic',\n",
    "                'temperature','humidity','pressure','report']\n",
    "mutInf_class2 = ['day','temperature','month','humidity','hour','dayOfTheWeek','pressure',\n",
    "                 'holiday','year','report','minute','Pandemic']\n",
    "varThre = ['month','day','year','hour','minute','holiday','dayOfTheWeek',\n",
    "           'temperature','humidity','pressure','report']\n",
    "mrmr = ['temperature','dayOfTheWeek','hour','holiday','humidity','day',\n",
    "        'year','month','pressure','minute','report']\n",
    "method = ['Pearson_correlation','Kendalls_correlation','mutualInformation_classification',\n",
    "          'mutualInformation_reggression','mutualInformation_classification2',\n",
    "          'variableThreshold','MRMR']\n",
    "\n",
    "orderME=[pear_corr,kend_corr,mutInf_class,mutInf_reg,mutInf_class2,varThre,mrmr]"
   ]
  },
  {
   "cell_type": "code",
   "execution_count": 6,
   "id": "47d11beb",
   "metadata": {},
   "outputs": [
    {
     "name": "stdout",
     "output_type": "stream",
     "text": [
      "------------------------- Analyzing method Pearson_correlation -------------------------\n",
      "The variable order is: \n",
      " ['temperature', 'holiday', 'day', 'month', 'pressure', 'dayOfTheWeek', 'report', 'minute', 'year', 'humidity', 'hour', 'Pandemic']\n"
     ]
    },
    {
     "name": "stderr",
     "output_type": "stream",
     "text": [
      "  8%|▊         | 1/12 [00:23<04:15, 23.18s/it]"
     ]
    },
    {
     "name": "stdout",
     "output_type": "stream",
     "text": [
      "Index(['temperature'], dtype='object')\n",
      "For 1 features: \n",
      " Accuracy: 0.4362116402116402 \n",
      " Precision: 0.3647895344464025 \n",
      " Recall: 0.3635805862106963 \n",
      " F1 score: 0.3627222224029266\n",
      "best accuracy = 0.4362116402116402, with 1 features, with Pearson_correlation\n"
     ]
    },
    {
     "name": "stderr",
     "output_type": "stream",
     "text": [
      "\r",
      " 17%|█▋        | 2/12 [00:34<02:44, 16.42s/it]"
     ]
    },
    {
     "name": "stdout",
     "output_type": "stream",
     "text": [
      "Index(['temperature', 'holiday'], dtype='object')\n",
      "For 2 features: \n",
      " Accuracy: 0.456198347107438 \n",
      " Precision: 0.4007016661013192 \n",
      " Recall: 0.39683896265442575 \n",
      " F1 score: 0.39810173228815715\n",
      "best accuracy = 0.456198347107438, with 2 features, with Pearson_correlation\n"
     ]
    },
    {
     "name": "stderr",
     "output_type": "stream",
     "text": [
      "\r",
      " 25%|██▌       | 3/12 [00:45<02:02, 13.60s/it]"
     ]
    },
    {
     "name": "stdout",
     "output_type": "stream",
     "text": [
      "Index(['temperature', 'holiday', 'day'], dtype='object')\n",
      "For 3 features: \n",
      " Accuracy: 0.5905368130702313 \n",
      " Precision: 0.5560893631935223 \n",
      " Recall: 0.5746379593888786 \n",
      " F1 score: 0.5618372324149514\n",
      "best accuracy = 0.5905368130702313, with 3 features, with Pearson_correlation\n"
     ]
    },
    {
     "name": "stderr",
     "output_type": "stream",
     "text": [
      "\r",
      " 33%|███▎      | 4/12 [00:55<01:37, 12.17s/it]"
     ]
    },
    {
     "name": "stdout",
     "output_type": "stream",
     "text": [
      "Index(['temperature', 'holiday', 'day', 'month'], dtype='object')\n",
      "For 4 features: \n",
      " Accuracy: 0.7640747822392182 \n",
      " Precision: 0.7319146211285656 \n",
      " Recall: 0.7449747027093084 \n",
      " F1 score: 0.7376534559505511\n",
      "best accuracy = 0.7640747822392182, with 4 features, with Pearson_correlation\n"
     ]
    },
    {
     "name": "stderr",
     "output_type": "stream",
     "text": [
      "\r",
      " 42%|████▏     | 5/12 [01:04<01:19, 11.35s/it]"
     ]
    },
    {
     "name": "stdout",
     "output_type": "stream",
     "text": [
      "Index(['temperature', 'holiday', 'day', 'month', 'pressure'], dtype='object')\n",
      "For 5 features: \n",
      " Accuracy: 0.8502659008721548 \n",
      " Precision: 0.8295901712801702 \n",
      " Recall: 0.8341566618643858 \n",
      " F1 score: 0.8317420317883103\n",
      "best accuracy = 0.8502659008721548, with 5 features, with Pearson_correlation\n"
     ]
    },
    {
     "name": "stderr",
     "output_type": "stream",
     "text": [
      "\r",
      " 50%|█████     | 6/12 [01:14<01:04, 10.76s/it]"
     ]
    },
    {
     "name": "stdout",
     "output_type": "stream",
     "text": [
      "Index(['temperature', 'holiday', 'day', 'month', 'pressure', 'dayOfTheWeek'], dtype='object')\n",
      "For 6 features: \n",
      " Accuracy: 0.8512566560170394 \n",
      " Precision: 0.8301710234593029 \n",
      " Recall: 0.8346838136695317 \n",
      " F1 score: 0.8323048987745234\n",
      "best accuracy = 0.8512566560170394, with 6 features, with Pearson_correlation\n"
     ]
    },
    {
     "name": "stderr",
     "output_type": "stream",
     "text": [
      "\r",
      " 58%|█████▊    | 7/12 [01:24<00:52, 10.45s/it]"
     ]
    },
    {
     "name": "stdout",
     "output_type": "stream",
     "text": [
      "Index(['temperature', 'holiday', 'day', 'month', 'pressure', 'dayOfTheWeek',\n",
      "       'report'],\n",
      "      dtype='object')\n",
      "For 7 features: \n",
      " Accuracy: 0.860172744721689 \n",
      " Precision: 0.8422108479593629 \n",
      " Recall: 0.8449604162126378 \n",
      " F1 score: 0.8434909505100145\n",
      "best accuracy = 0.860172744721689, with 7 features, with Pearson_correlation\n"
     ]
    },
    {
     "name": "stderr",
     "output_type": "stream",
     "text": [
      "\r",
      " 67%|██████▋   | 8/12 [01:34<00:41, 10.38s/it]"
     ]
    },
    {
     "name": "stdout",
     "output_type": "stream",
     "text": [
      "Index(['temperature', 'holiday', 'day', 'month', 'pressure', 'dayOfTheWeek',\n",
      "       'report', 'minute'],\n",
      "      dtype='object')\n",
      "For 8 features: \n",
      " Accuracy: 0.8350736707238949 \n",
      " Precision: 0.8134664785588152 \n",
      " Recall: 0.8158723757109266 \n",
      " F1 score: 0.8145879805853375\n",
      "best accuracy = 0.860172744721689, with 7 features, with Pearson_correlation\n"
     ]
    },
    {
     "name": "stderr",
     "output_type": "stream",
     "text": [
      "\r",
      " 75%|███████▌  | 9/12 [01:45<00:31, 10.59s/it]"
     ]
    },
    {
     "name": "stdout",
     "output_type": "stream",
     "text": [
      "Index(['temperature', 'holiday', 'day', 'month', 'pressure', 'dayOfTheWeek',\n",
      "       'report', 'minute', 'year'],\n",
      "      dtype='object')\n",
      "For 9 features: \n",
      " Accuracy: 0.8416185589052811 \n",
      " Precision: 0.8203645167299995 \n",
      " Recall: 0.822744583960983 \n",
      " F1 score: 0.8214524235368983\n",
      "best accuracy = 0.860172744721689, with 7 features, with Pearson_correlation\n"
     ]
    },
    {
     "name": "stderr",
     "output_type": "stream",
     "text": [
      "\r",
      " 83%|████████▎ | 10/12 [01:56<00:21, 10.56s/it]"
     ]
    },
    {
     "name": "stdout",
     "output_type": "stream",
     "text": [
      "Index(['temperature', 'holiday', 'day', 'month', 'pressure', 'dayOfTheWeek',\n",
      "       'report', 'minute', 'year', 'humidity'],\n",
      "      dtype='object')\n",
      "For 10 features: \n",
      " Accuracy: 0.8529008777563691 \n",
      " Precision: 0.8338851434114747 \n",
      " Recall: 0.8362243541230666 \n",
      " F1 score: 0.8349565872720718\n",
      "best accuracy = 0.860172744721689, with 7 features, with Pearson_correlation\n"
     ]
    },
    {
     "name": "stderr",
     "output_type": "stream",
     "text": [
      "\r",
      " 92%|█████████▏| 11/12 [02:06<00:10, 10.54s/it]"
     ]
    },
    {
     "name": "stdout",
     "output_type": "stream",
     "text": [
      "Index(['temperature', 'holiday', 'day', 'month', 'pressure', 'dayOfTheWeek',\n",
      "       'report', 'minute', 'year', 'humidity', 'hour'],\n",
      "      dtype='object')\n",
      "For 11 features: \n",
      " Accuracy: 0.8770953912111469 \n",
      " Precision: 0.8606775587912583 \n",
      " Recall: 0.8623085594331228 \n",
      " F1 score: 0.8614435699735153\n",
      "best accuracy = 0.8770953912111469, with 11 features, with Pearson_correlation\n"
     ]
    },
    {
     "name": "stderr",
     "output_type": "stream",
     "text": [
      "100%|██████████| 12/12 [02:17<00:00, 11.45s/it]\n"
     ]
    },
    {
     "name": "stdout",
     "output_type": "stream",
     "text": [
      "Index(['temperature', 'holiday', 'day', 'month', 'pressure', 'dayOfTheWeek',\n",
      "       'report', 'minute', 'year', 'humidity', 'hour', 'Pandemic'],\n",
      "      dtype='object')\n",
      "For 12 features: \n",
      " Accuracy: 0.874179008370895 \n",
      " Precision: 0.8584591127590333 \n",
      " Recall: 0.8583827991794623 \n",
      " F1 score: 0.8583448017122329\n",
      "best accuracy = 0.8770953912111469, with 11 features, with Pearson_correlation\n",
      "best accuracy = 0.8770953912111469, with 11 features, with Pearson_correlation\n",
      "\n",
      " \n",
      "\n",
      "------------------------- Analyzing method Kendalls_correlation -------------------------\n",
      "The variable order is: \n",
      " ['temperature', 'holiday', 'month', 'day', 'pressure', 'dayOfTheWeek', 'report', 'year', 'minute', 'humidity', 'hour', 'Pandemic']\n"
     ]
    },
    {
     "name": "stderr",
     "output_type": "stream",
     "text": [
      "  8%|▊         | 1/12 [00:16<03:01, 16.52s/it]"
     ]
    },
    {
     "name": "stdout",
     "output_type": "stream",
     "text": [
      "Index(['temperature'], dtype='object')\n",
      "For 1 features: \n",
      " Accuracy: 0.44017837954008165 \n",
      " Precision: 0.36616788185362464 \n",
      " Recall: 0.36472193939525216 \n",
      " F1 score: 0.3639228153674561\n",
      "best accuracy = 0.44017837954008165, with 1 features, with Kendalls_correlation\n"
     ]
    },
    {
     "name": "stderr",
     "output_type": "stream",
     "text": [
      "\r",
      " 17%|█▋        | 2/12 [00:29<02:26, 14.69s/it]"
     ]
    },
    {
     "name": "stdout",
     "output_type": "stream",
     "text": [
      "Index(['temperature', 'holiday'], dtype='object')\n",
      "For 2 features: \n",
      " Accuracy: 0.4576393372068001 \n",
      " Precision: 0.4010283102201637 \n",
      " Recall: 0.39765492080644466 \n",
      " F1 score: 0.3988360836529458\n",
      "best accuracy = 0.4576393372068001, with 2 features, with Kendalls_correlation\n"
     ]
    },
    {
     "name": "stderr",
     "output_type": "stream",
     "text": [
      "\r",
      " 25%|██▌       | 3/12 [00:41<02:00, 13.40s/it]"
     ]
    },
    {
     "name": "stdout",
     "output_type": "stream",
     "text": [
      "Index(['temperature', 'holiday', 'month'], dtype='object')\n",
      "For 3 features: \n",
      " Accuracy: 0.5226567550096962 \n",
      " Precision: 0.48490304038858484 \n",
      " Recall: 0.4954328809717427 \n",
      " F1 score: 0.48535915248897593\n",
      "best accuracy = 0.5226567550096962, with 3 features, with Kendalls_correlation\n"
     ]
    },
    {
     "name": "stderr",
     "output_type": "stream",
     "text": [
      "\r",
      " 33%|███▎      | 4/12 [00:52<01:38, 12.34s/it]"
     ]
    },
    {
     "name": "stdout",
     "output_type": "stream",
     "text": [
      "Index(['temperature', 'holiday', 'month', 'day'], dtype='object')\n",
      "For 4 features: \n",
      " Accuracy: 0.7657605177993527 \n",
      " Precision: 0.7320279224257934 \n",
      " Recall: 0.7449638778613592 \n",
      " F1 score: 0.7377263629365236\n",
      "best accuracy = 0.7657605177993527, with 4 features, with Kendalls_correlation\n"
     ]
    },
    {
     "name": "stderr",
     "output_type": "stream",
     "text": [
      "\r",
      " 42%|████▏     | 5/12 [01:03<01:23, 11.95s/it]"
     ]
    },
    {
     "name": "stdout",
     "output_type": "stream",
     "text": [
      "Index(['temperature', 'holiday', 'month', 'day', 'pressure'], dtype='object')\n",
      "For 5 features: \n",
      " Accuracy: 0.8478613091380428 \n",
      " Precision: 0.8256645524367078 \n",
      " Recall: 0.8307648554117419 \n",
      " F1 score: 0.8280604153580549\n",
      "best accuracy = 0.8478613091380428, with 5 features, with Kendalls_correlation\n"
     ]
    },
    {
     "name": "stderr",
     "output_type": "stream",
     "text": [
      "\r",
      " 50%|█████     | 6/12 [01:14<01:09, 11.60s/it]"
     ]
    },
    {
     "name": "stdout",
     "output_type": "stream",
     "text": [
      "Index(['temperature', 'holiday', 'month', 'day', 'pressure', 'dayOfTheWeek'], dtype='object')\n",
      "For 6 features: \n",
      " Accuracy: 0.8508976854856154 \n",
      " Precision: 0.8294501928913852 \n",
      " Recall: 0.8358544210710892 \n",
      " F1 score: 0.8324351212964711\n",
      "best accuracy = 0.8508976854856154, with 6 features, with Kendalls_correlation\n"
     ]
    },
    {
     "name": "stderr",
     "output_type": "stream",
     "text": [
      "\r",
      " 58%|█████▊    | 7/12 [01:23<00:53, 10.75s/it]"
     ]
    },
    {
     "name": "stdout",
     "output_type": "stream",
     "text": [
      "Index(['temperature', 'holiday', 'month', 'day', 'pressure', 'dayOfTheWeek',\n",
      "       'report'],\n",
      "      dtype='object')\n",
      "For 7 features: \n",
      " Accuracy: 0.860006497725796 \n",
      " Precision: 0.8403916210766053 \n",
      " Recall: 0.8443407062503939 \n",
      " F1 score: 0.8422491724059435\n",
      "best accuracy = 0.860006497725796, with 7 features, with Kendalls_correlation\n"
     ]
    },
    {
     "name": "stderr",
     "output_type": "stream",
     "text": [
      "\r",
      " 67%|██████▋   | 8/12 [01:32<00:39,  9.99s/it]"
     ]
    },
    {
     "name": "stdout",
     "output_type": "stream",
     "text": [
      "Index(['temperature', 'holiday', 'month', 'day', 'pressure', 'dayOfTheWeek',\n",
      "       'report', 'year'],\n",
      "      dtype='object')\n",
      "For 8 features: \n",
      " Accuracy: 0.8584471914985903 \n",
      " Precision: 0.8392736356468735 \n",
      " Recall: 0.842881512484535 \n",
      " F1 score: 0.8409426395247344\n",
      "best accuracy = 0.860006497725796, with 7 features, with Kendalls_correlation\n"
     ]
    },
    {
     "name": "stderr",
     "output_type": "stream",
     "text": [
      "\r",
      " 75%|███████▌  | 9/12 [01:41<00:29,  9.75s/it]"
     ]
    },
    {
     "name": "stdout",
     "output_type": "stream",
     "text": [
      "Index(['temperature', 'holiday', 'month', 'day', 'pressure', 'dayOfTheWeek',\n",
      "       'report', 'year', 'minute'],\n",
      "      dtype='object')\n",
      "For 9 features: \n",
      " Accuracy: 0.8428881650380022 \n",
      " Precision: 0.8210044354506048 \n",
      " Recall: 0.823520153722156 \n",
      " F1 score: 0.8221715730110396\n",
      "best accuracy = 0.860006497725796, with 7 features, with Kendalls_correlation\n"
     ]
    },
    {
     "name": "stderr",
     "output_type": "stream",
     "text": [
      "\r",
      " 83%|████████▎ | 10/12 [01:50<00:19,  9.69s/it]"
     ]
    },
    {
     "name": "stdout",
     "output_type": "stream",
     "text": [
      "Index(['temperature', 'holiday', 'month', 'day', 'pressure', 'dayOfTheWeek',\n",
      "       'report', 'year', 'minute', 'humidity'],\n",
      "      dtype='object')\n",
      "For 10 features: \n",
      " Accuracy: 0.8556968906283975 \n",
      " Precision: 0.8369179050641924 \n",
      " Recall: 0.8394807702050143 \n",
      " F1 score: 0.8380919600346198\n",
      "best accuracy = 0.860006497725796, with 7 features, with Kendalls_correlation\n"
     ]
    },
    {
     "name": "stderr",
     "output_type": "stream",
     "text": [
      "\r",
      " 92%|█████████▏| 11/12 [02:00<00:09,  9.64s/it]"
     ]
    },
    {
     "name": "stdout",
     "output_type": "stream",
     "text": [
      "Index(['temperature', 'holiday', 'month', 'day', 'pressure', 'dayOfTheWeek',\n",
      "       'report', 'year', 'minute', 'humidity', 'hour'],\n",
      "      dtype='object')\n",
      "For 11 features: \n",
      " Accuracy: 0.8770955802307859 \n",
      " Precision: 0.8608190559010273 \n",
      " Recall: 0.8624398957917254 \n",
      " F1 score: 0.86157967365172\n",
      "best accuracy = 0.8770955802307859, with 11 features, with Kendalls_correlation\n"
     ]
    },
    {
     "name": "stderr",
     "output_type": "stream",
     "text": [
      "100%|██████████| 12/12 [02:09<00:00, 10.81s/it]\n"
     ]
    },
    {
     "name": "stdout",
     "output_type": "stream",
     "text": [
      "Index(['temperature', 'holiday', 'month', 'day', 'pressure', 'dayOfTheWeek',\n",
      "       'report', 'year', 'minute', 'humidity', 'hour', 'Pandemic'],\n",
      "      dtype='object')\n",
      "For 12 features: \n",
      " Accuracy: 0.8748419446261173 \n",
      " Precision: 0.8567696224351091 \n",
      " Recall: 0.858524523131193 \n",
      " F1 score: 0.8575452038456086\n",
      "best accuracy = 0.8770955802307859, with 11 features, with Kendalls_correlation\n",
      "best accuracy = 0.8770955802307859, with 11 features, with Kendalls_correlation\n",
      "\n",
      " \n",
      "\n",
      "------------------------- Analyzing method mutualInformation_classification -------------------------\n",
      "The variable order is: \n",
      " ['month', 'day', 'year', 'hour', 'minute', 'holiday', 'dayOfTheWeek', 'Pandemic', 'temperature', 'humidity', 'pressure', 'report']\n"
     ]
    },
    {
     "name": "stderr",
     "output_type": "stream",
     "text": [
      "  8%|▊         | 1/12 [00:06<01:09,  6.28s/it]"
     ]
    },
    {
     "name": "stdout",
     "output_type": "stream",
     "text": [
      "Index(['month'], dtype='object')\n",
      "For 1 features: \n",
      " Accuracy: 0.4722549661645929 \n",
      " Precision: 0.4741068588390163 \n",
      " Recall: 0.4640265448430852 \n",
      " F1 score: 0.44164863843451985\n",
      "best accuracy = 0.4722549661645929, with 1 features, with mutualInformation_classification\n"
     ]
    },
    {
     "name": "stderr",
     "output_type": "stream",
     "text": [
      "\r",
      " 17%|█▋        | 2/12 [00:13<01:07,  6.78s/it]"
     ]
    },
    {
     "name": "stdout",
     "output_type": "stream",
     "text": [
      "Index(['month', 'day'], dtype='object')\n",
      "For 2 features: \n",
      " Accuracy: 0.668327868852459 \n",
      " Precision: 0.6352224510549804 \n",
      " Recall: 0.6712545450909863 \n",
      " F1 score: 0.6421345789358508\n",
      "best accuracy = 0.668327868852459, with 2 features, with mutualInformation_classification\n"
     ]
    },
    {
     "name": "stderr",
     "output_type": "stream",
     "text": [
      "\r",
      " 25%|██▌       | 3/12 [00:20<01:02,  6.91s/it]"
     ]
    },
    {
     "name": "stdout",
     "output_type": "stream",
     "text": [
      "Index(['month', 'day', 'year'], dtype='object')\n",
      "For 3 features: \n",
      " Accuracy: 0.671514554607135 \n",
      " Precision: 0.6376740989572507 \n",
      " Recall: 0.6735260560033544 \n",
      " F1 score: 0.6453308841183524\n",
      "best accuracy = 0.671514554607135, with 3 features, with mutualInformation_classification\n"
     ]
    },
    {
     "name": "stderr",
     "output_type": "stream",
     "text": [
      "\r",
      " 33%|███▎      | 4/12 [00:28<00:59,  7.38s/it]"
     ]
    },
    {
     "name": "stdout",
     "output_type": "stream",
     "text": [
      "Index(['month', 'day', 'year', 'hour'], dtype='object')\n",
      "For 4 features: \n",
      " Accuracy: 0.842329607714223 \n",
      " Precision: 0.817860663182973 \n",
      " Recall: 0.8215015992681135 \n",
      " F1 score: 0.8195799263470479\n",
      "best accuracy = 0.842329607714223, with 4 features, with mutualInformation_classification\n"
     ]
    },
    {
     "name": "stderr",
     "output_type": "stream",
     "text": [
      "\r",
      " 42%|████▏     | 5/12 [00:36<00:54,  7.73s/it]"
     ]
    },
    {
     "name": "stdout",
     "output_type": "stream",
     "text": [
      "Index(['month', 'day', 'year', 'hour', 'minute'], dtype='object')\n",
      "For 5 features: \n",
      " Accuracy: 0.8124204520517885 \n",
      " Precision: 0.7850282861331601 \n",
      " Recall: 0.7816415225727406 \n",
      " F1 score: 0.7831445015788694\n",
      "best accuracy = 0.842329607714223, with 4 features, with mutualInformation_classification\n"
     ]
    },
    {
     "name": "stderr",
     "output_type": "stream",
     "text": [
      "\r",
      " 50%|█████     | 6/12 [00:45<00:47,  7.90s/it]"
     ]
    },
    {
     "name": "stdout",
     "output_type": "stream",
     "text": [
      "Index(['month', 'day', 'year', 'hour', 'minute', 'holiday'], dtype='object')\n",
      "For 6 features: \n",
      " Accuracy: 0.8018347615908592 \n",
      " Precision: 0.7724124060833366 \n",
      " Recall: 0.7702638178039914 \n",
      " F1 score: 0.7712217058963082\n",
      "best accuracy = 0.842329607714223, with 4 features, with mutualInformation_classification\n"
     ]
    },
    {
     "name": "stderr",
     "output_type": "stream",
     "text": [
      "\r",
      " 58%|█████▊    | 7/12 [00:53<00:39,  8.00s/it]"
     ]
    },
    {
     "name": "stdout",
     "output_type": "stream",
     "text": [
      "Index(['month', 'day', 'year', 'hour', 'minute', 'holiday', 'dayOfTheWeek'], dtype='object')\n",
      "For 7 features: \n",
      " Accuracy: 0.8383168316831683 \n",
      " Precision: 0.8131983178677716 \n",
      " Recall: 0.8118250878155274 \n",
      " F1 score: 0.8124249311482282\n",
      "best accuracy = 0.842329607714223, with 4 features, with mutualInformation_classification\n"
     ]
    },
    {
     "name": "stderr",
     "output_type": "stream",
     "text": [
      "\r",
      " 67%|██████▋   | 8/12 [01:01<00:32,  8.00s/it]"
     ]
    },
    {
     "name": "stdout",
     "output_type": "stream",
     "text": [
      "Index(['month', 'day', 'year', 'hour', 'minute', 'holiday', 'dayOfTheWeek',\n",
      "       'Pandemic'],\n",
      "      dtype='object')\n",
      "For 8 features: \n",
      " Accuracy: 0.8315598149372109 \n",
      " Precision: 0.8041587224658853 \n",
      " Recall: 0.8040083635276509 \n",
      " F1 score: 0.8040237549312272\n",
      "best accuracy = 0.842329607714223, with 4 features, with mutualInformation_classification\n"
     ]
    },
    {
     "name": "stderr",
     "output_type": "stream",
     "text": [
      "\r",
      " 75%|███████▌  | 9/12 [01:10<00:24,  8.30s/it]"
     ]
    },
    {
     "name": "stdout",
     "output_type": "stream",
     "text": [
      "Index(['month', 'day', 'year', 'hour', 'minute', 'holiday', 'dayOfTheWeek',\n",
      "       'Pandemic', 'temperature'],\n",
      "      dtype='object')\n",
      "For 9 features: \n",
      " Accuracy: 0.8671299360247077 \n",
      " Precision: 0.8452693139137192 \n",
      " Recall: 0.8482166655228028 \n",
      " F1 score: 0.8466440964894597\n",
      "best accuracy = 0.8671299360247077, with 9 features, with mutualInformation_classification\n"
     ]
    },
    {
     "name": "stderr",
     "output_type": "stream",
     "text": [
      "\r",
      " 83%|████████▎ | 10/12 [01:19<00:17,  8.63s/it]"
     ]
    },
    {
     "name": "stdout",
     "output_type": "stream",
     "text": [
      "Index(['month', 'day', 'year', 'hour', 'minute', 'holiday', 'dayOfTheWeek',\n",
      "       'Pandemic', 'temperature', 'humidity'],\n",
      "      dtype='object')\n",
      "For 10 features: \n",
      " Accuracy: 0.8718356527501657 \n",
      " Precision: 0.8526155664152666 \n",
      " Recall: 0.8537669023390875 \n",
      " F1 score: 0.8531054459679914\n",
      "best accuracy = 0.8718356527501657, with 10 features, with mutualInformation_classification\n"
     ]
    },
    {
     "name": "stderr",
     "output_type": "stream",
     "text": [
      "\r",
      " 92%|█████████▏| 11/12 [01:29<00:08,  8.94s/it]"
     ]
    },
    {
     "name": "stdout",
     "output_type": "stream",
     "text": [
      "Index(['month', 'day', 'year', 'hour', 'minute', 'holiday', 'dayOfTheWeek',\n",
      "       'Pandemic', 'temperature', 'humidity', 'pressure'],\n",
      "      dtype='object')\n",
      "For 11 features: \n",
      " Accuracy: 0.8773501437735014 \n",
      " Precision: 0.8591808247766077 \n",
      " Recall: 0.8594966126521033 \n",
      " F1 score: 0.8592693313795661\n",
      "best accuracy = 0.8773501437735014, with 11 features, with mutualInformation_classification\n"
     ]
    },
    {
     "name": "stderr",
     "output_type": "stream",
     "text": [
      "100%|██████████| 12/12 [01:38<00:00,  8.21s/it]\n"
     ]
    },
    {
     "name": "stdout",
     "output_type": "stream",
     "text": [
      "Index(['month', 'day', 'year', 'hour', 'minute', 'holiday', 'dayOfTheWeek',\n",
      "       'Pandemic', 'temperature', 'humidity', 'pressure', 'report'],\n",
      "      dtype='object')\n",
      "For 12 features: \n",
      " Accuracy: 0.8754152823920266 \n",
      " Precision: 0.8587975335481222 \n",
      " Recall: 0.8588996344227863 \n",
      " F1 score: 0.85876617497936\n",
      "best accuracy = 0.8773501437735014, with 11 features, with mutualInformation_classification\n",
      "best accuracy = 0.8773501437735014, with 11 features, with mutualInformation_classification\n",
      "\n",
      " \n",
      "\n",
      "------------------------- Analyzing method mutualInformation_reggression -------------------------\n",
      "The variable order is: \n",
      " ['month', 'day', 'year', 'hour', 'minute', 'holiday', 'dayOfTheWeek', 'Pandemic', 'temperature', 'humidity', 'pressure', 'report']\n"
     ]
    },
    {
     "name": "stderr",
     "output_type": "stream",
     "text": [
      "  8%|▊         | 1/12 [00:06<01:09,  6.28s/it]"
     ]
    },
    {
     "name": "stdout",
     "output_type": "stream",
     "text": [
      "Index(['month'], dtype='object')\n",
      "For 1 features: \n",
      " Accuracy: 0.4691173209137281 \n",
      " Precision: 0.47801941173086293 \n",
      " Recall: 0.4683858378553644 \n",
      " F1 score: 0.4408259558414792\n",
      "best accuracy = 0.4691173209137281, with 1 features, with mutualInformation_reggression\n"
     ]
    },
    {
     "name": "stderr",
     "output_type": "stream",
     "text": [
      "\r",
      " 17%|█▋        | 2/12 [00:13<01:07,  6.73s/it]"
     ]
    },
    {
     "name": "stdout",
     "output_type": "stream",
     "text": [
      "Index(['month', 'day'], dtype='object')\n",
      "For 2 features: \n",
      " Accuracy: 0.6727626027093049 \n",
      " Precision: 0.6383680002343189 \n",
      " Recall: 0.6757917430671854 \n",
      " F1 score: 0.6460678197985429\n",
      "best accuracy = 0.6727626027093049, with 2 features, with mutualInformation_reggression\n"
     ]
    },
    {
     "name": "stderr",
     "output_type": "stream",
     "text": [
      "\r",
      " 25%|██▌       | 3/12 [00:20<01:01,  6.83s/it]"
     ]
    },
    {
     "name": "stdout",
     "output_type": "stream",
     "text": [
      "Index(['month', 'day', 'year'], dtype='object')\n",
      "For 3 features: \n",
      " Accuracy: 0.6746164109406271 \n",
      " Precision: 0.6392606959784364 \n",
      " Recall: 0.674994779085178 \n",
      " F1 score: 0.6474180594930781\n",
      "best accuracy = 0.6746164109406271, with 3 features, with mutualInformation_reggression\n"
     ]
    },
    {
     "name": "stderr",
     "output_type": "stream",
     "text": [
      "\r",
      " 33%|███▎      | 4/12 [00:28<00:58,  7.28s/it]"
     ]
    },
    {
     "name": "stdout",
     "output_type": "stream",
     "text": [
      "Index(['month', 'day', 'year', 'hour'], dtype='object')\n",
      "For 4 features: \n",
      " Accuracy: 0.8432197728790916 \n",
      " Precision: 0.8178750166035947 \n",
      " Recall: 0.8211012894688976 \n",
      " F1 score: 0.8193570038868551\n",
      "best accuracy = 0.8432197728790916, with 4 features, with mutualInformation_reggression\n"
     ]
    },
    {
     "name": "stderr",
     "output_type": "stream",
     "text": [
      "\r",
      " 42%|████▏     | 5/12 [00:36<00:53,  7.63s/it]"
     ]
    },
    {
     "name": "stdout",
     "output_type": "stream",
     "text": [
      "Index(['month', 'day', 'year', 'hour', 'minute'], dtype='object')\n",
      "For 5 features: \n",
      " Accuracy: 0.811438127090301 \n",
      " Precision: 0.7832243101804546 \n",
      " Recall: 0.7812933488732068 \n",
      " F1 score: 0.7821112072533746\n",
      "best accuracy = 0.8432197728790916, with 4 features, with mutualInformation_reggression\n"
     ]
    },
    {
     "name": "stderr",
     "output_type": "stream",
     "text": [
      "\r",
      " 50%|█████     | 6/12 [00:44<00:46,  7.77s/it]"
     ]
    },
    {
     "name": "stdout",
     "output_type": "stream",
     "text": [
      "Index(['month', 'day', 'year', 'hour', 'minute', 'holiday'], dtype='object')\n",
      "For 6 features: \n",
      " Accuracy: 0.803203840142889 \n",
      " Precision: 0.7735065261113394 \n",
      " Recall: 0.7701921945235435 \n",
      " F1 score: 0.7717297247951995\n",
      "best accuracy = 0.8432197728790916, with 4 features, with mutualInformation_reggression\n"
     ]
    },
    {
     "name": "stderr",
     "output_type": "stream",
     "text": [
      "\r",
      " 58%|█████▊    | 7/12 [00:52<00:39,  7.81s/it]"
     ]
    },
    {
     "name": "stdout",
     "output_type": "stream",
     "text": [
      "Index(['month', 'day', 'year', 'hour', 'minute', 'holiday', 'dayOfTheWeek'], dtype='object')\n",
      "For 7 features: \n",
      " Accuracy: 0.8386765034652359 \n",
      " Precision: 0.8128563696054384 \n",
      " Recall: 0.8118390443194762 \n",
      " F1 score: 0.8122455017799062\n",
      "best accuracy = 0.8432197728790916, with 4 features, with mutualInformation_reggression\n"
     ]
    },
    {
     "name": "stderr",
     "output_type": "stream",
     "text": [
      "\r",
      " 67%|██████▋   | 8/12 [01:00<00:31,  7.81s/it]"
     ]
    },
    {
     "name": "stdout",
     "output_type": "stream",
     "text": [
      "Index(['month', 'day', 'year', 'hour', 'minute', 'holiday', 'dayOfTheWeek',\n",
      "       'Pandemic'],\n",
      "      dtype='object')\n",
      "For 8 features: \n",
      " Accuracy: 0.8349675397358406 \n",
      " Precision: 0.8081632671950894 \n",
      " Recall: 0.8073884823280691 \n",
      " F1 score: 0.8077074861414062\n",
      "best accuracy = 0.8432197728790916, with 4 features, with mutualInformation_reggression\n"
     ]
    },
    {
     "name": "stderr",
     "output_type": "stream",
     "text": [
      "\r",
      " 75%|███████▌  | 9/12 [01:09<00:24,  8.12s/it]"
     ]
    },
    {
     "name": "stdout",
     "output_type": "stream",
     "text": [
      "Index(['month', 'day', 'year', 'hour', 'minute', 'holiday', 'dayOfTheWeek',\n",
      "       'Pandemic', 'temperature'],\n",
      "      dtype='object')\n",
      "For 9 features: \n",
      " Accuracy: 0.8664649181797803 \n",
      " Precision: 0.8443252272367844 \n",
      " Recall: 0.845840902644793 \n",
      " F1 score: 0.8449941208913878\n",
      "best accuracy = 0.8664649181797803, with 9 features, with mutualInformation_reggression\n"
     ]
    },
    {
     "name": "stderr",
     "output_type": "stream",
     "text": [
      "\r",
      " 83%|████████▎ | 10/12 [01:17<00:16,  8.38s/it]"
     ]
    },
    {
     "name": "stdout",
     "output_type": "stream",
     "text": [
      "Index(['month', 'day', 'year', 'hour', 'minute', 'holiday', 'dayOfTheWeek',\n",
      "       'Pandemic', 'temperature', 'humidity'],\n",
      "      dtype='object')\n",
      "For 10 features: \n",
      " Accuracy: 0.8723905723905724 \n",
      " Precision: 0.8534490866045129 \n",
      " Recall: 0.8539566435220691 \n",
      " F1 score: 0.853649194177533\n",
      "best accuracy = 0.8723905723905724, with 10 features, with mutualInformation_reggression\n"
     ]
    },
    {
     "name": "stderr",
     "output_type": "stream",
     "text": [
      "\r",
      " 92%|█████████▏| 11/12 [01:27<00:08,  8.60s/it]"
     ]
    },
    {
     "name": "stdout",
     "output_type": "stream",
     "text": [
      "Index(['month', 'day', 'year', 'hour', 'minute', 'holiday', 'dayOfTheWeek',\n",
      "       'Pandemic', 'temperature', 'humidity', 'pressure'],\n",
      "      dtype='object')\n",
      "For 11 features: \n",
      " Accuracy: 0.8786356484603282 \n",
      " Precision: 0.8608931143264064 \n",
      " Recall: 0.8624554327194899 \n",
      " F1 score: 0.861565070324639\n",
      "best accuracy = 0.8786356484603282, with 11 features, with mutualInformation_reggression\n"
     ]
    },
    {
     "name": "stderr",
     "output_type": "stream",
     "text": [
      "100%|██████████| 12/12 [01:36<00:00,  8.00s/it]\n"
     ]
    },
    {
     "name": "stdout",
     "output_type": "stream",
     "text": [
      "Index(['month', 'day', 'year', 'hour', 'minute', 'holiday', 'dayOfTheWeek',\n",
      "       'Pandemic', 'temperature', 'humidity', 'pressure', 'report'],\n",
      "      dtype='object')\n",
      "For 12 features: \n",
      " Accuracy: 0.8793157776277291 \n",
      " Precision: 0.8608009485587178 \n",
      " Recall: 0.8629370213723562 \n",
      " F1 score: 0.8618082037589517\n",
      "best accuracy = 0.8793157776277291, with 12 features, with mutualInformation_reggression\n",
      "best accuracy = 0.8793157776277291, with 12 features, with mutualInformation_reggression\n",
      "\n",
      " \n",
      "\n",
      "------------------------- Analyzing method mutualInformation_classification2 -------------------------\n",
      "The variable order is: \n",
      " ['day', 'temperature', 'month', 'humidity', 'hour', 'dayOfTheWeek', 'pressure', 'holiday', 'year', 'report', 'minute', 'Pandemic']\n"
     ]
    },
    {
     "name": "stderr",
     "output_type": "stream",
     "text": [
      "  8%|▊         | 1/12 [00:06<01:13,  6.71s/it]"
     ]
    },
    {
     "name": "stdout",
     "output_type": "stream",
     "text": [
      "Index(['day'], dtype='object')\n",
      "For 1 features: \n",
      " Accuracy: 0.45265945458643225 \n",
      " Precision: 0.42661359569724905 \n",
      " Recall: 0.43858374671188405 \n",
      " F1 score: 0.4178991797038426\n",
      "best accuracy = 0.45265945458643225, with 1 features, with mutualInformation_classification2\n"
     ]
    },
    {
     "name": "stderr",
     "output_type": "stream",
     "text": [
      "\r",
      " 17%|█▋        | 2/12 [00:15<01:19,  7.93s/it]"
     ]
    },
    {
     "name": "stdout",
     "output_type": "stream",
     "text": [
      "Index(['day', 'temperature'], dtype='object')\n",
      "For 2 features: \n",
      " Accuracy: 0.5653012863913338 \n",
      " Precision: 0.5254351612749998 \n",
      " Recall: 0.5422471720070094 \n",
      " F1 score: 0.5295540470258239\n",
      "best accuracy = 0.5653012863913338, with 2 features, with mutualInformation_classification2\n"
     ]
    },
    {
     "name": "stderr",
     "output_type": "stream",
     "text": [
      "\r",
      " 25%|██▌       | 3/12 [00:23<01:12,  8.03s/it]"
     ]
    },
    {
     "name": "stdout",
     "output_type": "stream",
     "text": [
      "Index(['day', 'temperature', 'month'], dtype='object')\n",
      "For 3 features: \n",
      " Accuracy: 0.7660677966101695 \n",
      " Precision: 0.7302202275911792 \n",
      " Recall: 0.7418215712806102 \n",
      " F1 score: 0.7353674120694214\n",
      "best accuracy = 0.7660677966101695, with 3 features, with mutualInformation_classification2\n"
     ]
    },
    {
     "name": "stderr",
     "output_type": "stream",
     "text": [
      "\r",
      " 33%|███▎      | 4/12 [00:32<01:07,  8.43s/it]"
     ]
    },
    {
     "name": "stdout",
     "output_type": "stream",
     "text": [
      "Index(['day', 'temperature', 'month', 'humidity'], dtype='object')\n",
      "For 4 features: \n",
      " Accuracy: 0.8386625933469111 \n",
      " Precision: 0.814766369651991 \n",
      " Recall: 0.8199974130427292 \n",
      " F1 score: 0.8172186552870413\n",
      "best accuracy = 0.8386625933469111, with 4 features, with mutualInformation_classification2\n"
     ]
    },
    {
     "name": "stderr",
     "output_type": "stream",
     "text": [
      "\r",
      " 42%|████▏     | 5/12 [00:41<01:00,  8.71s/it]"
     ]
    },
    {
     "name": "stdout",
     "output_type": "stream",
     "text": [
      "Index(['day', 'temperature', 'month', 'humidity', 'hour'], dtype='object')\n",
      "For 5 features: \n",
      " Accuracy: 0.871017448447768 \n",
      " Precision: 0.8521032657676102 \n",
      " Recall: 0.8525946166742542 \n",
      " F1 score: 0.8522515441904003\n",
      "best accuracy = 0.871017448447768, with 5 features, with mutualInformation_classification2\n"
     ]
    },
    {
     "name": "stderr",
     "output_type": "stream",
     "text": [
      "\r",
      " 50%|█████     | 6/12 [00:50<00:52,  8.68s/it]"
     ]
    },
    {
     "name": "stdout",
     "output_type": "stream",
     "text": [
      "Index(['day', 'temperature', 'month', 'humidity', 'hour', 'dayOfTheWeek'], dtype='object')\n",
      "For 6 features: \n",
      " Accuracy: 0.8758679373723621 \n",
      " Precision: 0.8569842812760938 \n",
      " Recall: 0.858381856820559 \n",
      " F1 score: 0.8576136203856102\n",
      "best accuracy = 0.8758679373723621, with 6 features, with mutualInformation_classification2\n"
     ]
    },
    {
     "name": "stderr",
     "output_type": "stream",
     "text": [
      "\r",
      " 58%|█████▊    | 7/12 [00:59<00:43,  8.69s/it]"
     ]
    },
    {
     "name": "stdout",
     "output_type": "stream",
     "text": [
      "Index(['day', 'temperature', 'month', 'humidity', 'hour', 'dayOfTheWeek',\n",
      "       'pressure'],\n",
      "      dtype='object')\n",
      "For 7 features: \n",
      " Accuracy: 0.8780390820268121 \n",
      " Precision: 0.8599687367658605 \n",
      " Recall: 0.8611834052365147 \n",
      " F1 score: 0.8605345029564359\n",
      "best accuracy = 0.8780390820268121, with 7 features, with mutualInformation_classification2\n"
     ]
    },
    {
     "name": "stderr",
     "output_type": "stream",
     "text": [
      "\r",
      " 67%|██████▋   | 8/12 [01:07<00:34,  8.60s/it]"
     ]
    },
    {
     "name": "stdout",
     "output_type": "stream",
     "text": [
      "Index(['day', 'temperature', 'month', 'humidity', 'hour', 'dayOfTheWeek',\n",
      "       'pressure', 'holiday'],\n",
      "      dtype='object')\n",
      "For 8 features: \n",
      " Accuracy: 0.8800341296928328 \n",
      " Precision: 0.8626841058743256 \n",
      " Recall: 0.8631607076106174 \n",
      " F1 score: 0.8628541985294568\n",
      "best accuracy = 0.8800341296928328, with 8 features, with mutualInformation_classification2\n"
     ]
    },
    {
     "name": "stderr",
     "output_type": "stream",
     "text": [
      "\r",
      " 75%|███████▌  | 9/12 [01:16<00:26,  8.76s/it]"
     ]
    },
    {
     "name": "stdout",
     "output_type": "stream",
     "text": [
      "Index(['day', 'temperature', 'month', 'humidity', 'hour', 'dayOfTheWeek',\n",
      "       'pressure', 'holiday', 'year'],\n",
      "      dtype='object')\n",
      "For 9 features: \n",
      " Accuracy: 0.8791410344041923 \n",
      " Precision: 0.8611250643177925 \n",
      " Recall: 0.8627079654531595 \n",
      " F1 score: 0.8618491253433602\n",
      "best accuracy = 0.8800341296928328, with 8 features, with mutualInformation_classification2\n"
     ]
    },
    {
     "name": "stderr",
     "output_type": "stream",
     "text": [
      "\r",
      " 83%|████████▎ | 10/12 [01:25<00:17,  8.86s/it]"
     ]
    },
    {
     "name": "stdout",
     "output_type": "stream",
     "text": [
      "Index(['day', 'temperature', 'month', 'humidity', 'hour', 'dayOfTheWeek',\n",
      "       'pressure', 'holiday', 'year', 'report'],\n",
      "      dtype='object')\n",
      "For 10 features: \n",
      " Accuracy: 0.8765343372119553 \n",
      " Precision: 0.8583573647650766 \n",
      " Recall: 0.8590399570770996 \n",
      " F1 score: 0.8586300432618675\n",
      "best accuracy = 0.8800341296928328, with 8 features, with mutualInformation_classification2\n"
     ]
    },
    {
     "name": "stderr",
     "output_type": "stream",
     "text": [
      "\r",
      " 92%|█████████▏| 11/12 [01:35<00:08,  8.99s/it]"
     ]
    },
    {
     "name": "stdout",
     "output_type": "stream",
     "text": [
      "Index(['day', 'temperature', 'month', 'humidity', 'hour', 'dayOfTheWeek',\n",
      "       'pressure', 'holiday', 'year', 'report', 'minute'],\n",
      "      dtype='object')\n",
      "For 11 features: \n",
      " Accuracy: 0.8767077907242403 \n",
      " Precision: 0.8577645770858086 \n",
      " Recall: 0.8584445052907145 \n",
      " F1 score: 0.8580618721931572\n",
      "best accuracy = 0.8800341296928328, with 8 features, with mutualInformation_classification2\n"
     ]
    },
    {
     "name": "stderr",
     "output_type": "stream",
     "text": [
      "100%|██████████| 12/12 [01:44<00:00,  8.68s/it]\n"
     ]
    },
    {
     "name": "stdout",
     "output_type": "stream",
     "text": [
      "Index(['day', 'temperature', 'month', 'humidity', 'hour', 'dayOfTheWeek',\n",
      "       'pressure', 'holiday', 'year', 'report', 'minute', 'Pandemic'],\n",
      "      dtype='object')\n",
      "For 12 features: \n",
      " Accuracy: 0.8773049645390071 \n",
      " Precision: 0.8581861118867491 \n",
      " Recall: 0.8595070633812316 \n",
      " F1 score: 0.8587582381584113\n",
      "best accuracy = 0.8800341296928328, with 8 features, with mutualInformation_classification2\n",
      "best accuracy = 0.8800341296928328, with 8 features, with mutualInformation_classification2\n",
      "\n",
      " \n",
      "\n",
      "------------------------- Analyzing method variableThreshold -------------------------\n",
      "The variable order is: \n",
      " ['month', 'day', 'year', 'hour', 'minute', 'holiday', 'dayOfTheWeek', 'temperature', 'humidity', 'pressure', 'report']\n"
     ]
    },
    {
     "name": "stderr",
     "output_type": "stream",
     "text": [
      "  8%|▊         | 1/12 [00:05<01:05,  6.00s/it]"
     ]
    },
    {
     "name": "stdout",
     "output_type": "stream",
     "text": [
      "Index(['month'], dtype='object')\n",
      "For 1 features: \n",
      " Accuracy: 0.4655441008018327 \n",
      " Precision: 0.45749590035991716 \n",
      " Recall: 0.4495307835353533 \n",
      " F1 score: 0.42726788422363204\n",
      "best accuracy = 0.4655441008018327, with 1 features, with variableThreshold\n"
     ]
    },
    {
     "name": "stderr",
     "output_type": "stream",
     "text": [
      "\r",
      " 17%|█▋        | 2/12 [00:12<01:05,  6.52s/it]"
     ]
    },
    {
     "name": "stdout",
     "output_type": "stream",
     "text": [
      "Index(['month', 'day'], dtype='object')\n",
      "For 2 features: \n",
      " Accuracy: 0.6737095664143152 \n",
      " Precision: 0.6365617619363053 \n",
      " Recall: 0.6712263330436564 \n",
      " F1 score: 0.6442443149751899\n",
      "best accuracy = 0.6737095664143152, with 2 features, with variableThreshold\n"
     ]
    },
    {
     "name": "stderr",
     "output_type": "stream",
     "text": [
      "\r",
      " 25%|██▌       | 3/12 [00:19<00:59,  6.61s/it]"
     ]
    },
    {
     "name": "stdout",
     "output_type": "stream",
     "text": [
      "Index(['month', 'day', 'year'], dtype='object')\n",
      "For 3 features: \n",
      " Accuracy: 0.6720652423615897 \n",
      " Precision: 0.6361483905835766 \n",
      " Recall: 0.6712585566670268 \n",
      " F1 score: 0.6435346868737124\n",
      "best accuracy = 0.6737095664143152, with 2 features, with variableThreshold\n"
     ]
    },
    {
     "name": "stderr",
     "output_type": "stream",
     "text": [
      "\r",
      " 33%|███▎      | 4/12 [00:27<00:56,  7.07s/it]"
     ]
    },
    {
     "name": "stdout",
     "output_type": "stream",
     "text": [
      "Index(['month', 'day', 'year', 'hour'], dtype='object')\n",
      "For 4 features: \n",
      " Accuracy: 0.841407867494824 \n",
      " Precision: 0.8157557352228005 \n",
      " Recall: 0.8177715698850149 \n",
      " F1 score: 0.8166917567762011\n",
      "best accuracy = 0.841407867494824, with 4 features, with variableThreshold\n"
     ]
    },
    {
     "name": "stderr",
     "output_type": "stream",
     "text": [
      "\r",
      " 42%|████▏     | 5/12 [00:35<00:52,  7.47s/it]"
     ]
    },
    {
     "name": "stdout",
     "output_type": "stream",
     "text": [
      "Index(['month', 'day', 'year', 'hour', 'minute'], dtype='object')\n",
      "For 5 features: \n",
      " Accuracy: 0.8115526376410965 \n",
      " Precision: 0.779814142165891 \n",
      " Recall: 0.7782960314509224 \n",
      " F1 score: 0.7789624470941722\n",
      "best accuracy = 0.841407867494824, with 4 features, with variableThreshold\n"
     ]
    },
    {
     "name": "stderr",
     "output_type": "stream",
     "text": [
      "\r",
      " 50%|█████     | 6/12 [00:43<00:45,  7.63s/it]"
     ]
    },
    {
     "name": "stdout",
     "output_type": "stream",
     "text": [
      "Index(['month', 'day', 'year', 'hour', 'minute', 'holiday'], dtype='object')\n",
      "For 6 features: \n",
      " Accuracy: 0.8022145328719723 \n",
      " Precision: 0.7704986043009482 \n",
      " Recall: 0.767472442943236 \n",
      " F1 score: 0.7688683165196979\n",
      "best accuracy = 0.841407867494824, with 4 features, with variableThreshold\n"
     ]
    },
    {
     "name": "stderr",
     "output_type": "stream",
     "text": [
      "\r",
      " 58%|█████▊    | 7/12 [00:51<00:38,  7.65s/it]"
     ]
    },
    {
     "name": "stdout",
     "output_type": "stream",
     "text": [
      "Index(['month', 'day', 'year', 'hour', 'minute', 'holiday', 'dayOfTheWeek'], dtype='object')\n",
      "For 7 features: \n",
      " Accuracy: 0.8391545391545392 \n",
      " Precision: 0.811980754933275 \n",
      " Recall: 0.8108978320013945 \n",
      " F1 score: 0.8113454573539911\n",
      "best accuracy = 0.841407867494824, with 4 features, with variableThreshold\n"
     ]
    },
    {
     "name": "stderr",
     "output_type": "stream",
     "text": [
      "\r",
      " 67%|██████▋   | 8/12 [00:59<00:31,  7.82s/it]"
     ]
    },
    {
     "name": "stdout",
     "output_type": "stream",
     "text": [
      "Index(['month', 'day', 'year', 'hour', 'minute', 'holiday', 'dayOfTheWeek',\n",
      "       'temperature'],\n",
      "      dtype='object')\n",
      "For 8 features: \n",
      " Accuracy: 0.8599930603747398 \n",
      " Precision: 0.8354975208415475 \n",
      " Recall: 0.8373000000124748 \n",
      " F1 score: 0.8362887375863874\n",
      "best accuracy = 0.8599930603747398, with 8 features, with variableThreshold\n"
     ]
    },
    {
     "name": "stderr",
     "output_type": "stream",
     "text": [
      "\r",
      " 75%|███████▌  | 9/12 [01:08<00:24,  8.19s/it]"
     ]
    },
    {
     "name": "stdout",
     "output_type": "stream",
     "text": [
      "Index(['month', 'day', 'year', 'hour', 'minute', 'holiday', 'dayOfTheWeek',\n",
      "       'temperature', 'humidity'],\n",
      "      dtype='object')\n",
      "For 9 features: \n",
      " Accuracy: 0.8749594625897614 \n",
      " Precision: 0.8529141327246793 \n",
      " Recall: 0.8558606144054574 \n",
      " F1 score: 0.8543055873993382\n",
      "best accuracy = 0.8749594625897614, with 9 features, with variableThreshold\n"
     ]
    },
    {
     "name": "stderr",
     "output_type": "stream",
     "text": [
      "\r",
      " 83%|████████▎ | 10/12 [01:17<00:16,  8.48s/it]"
     ]
    },
    {
     "name": "stdout",
     "output_type": "stream",
     "text": [
      "Index(['month', 'day', 'year', 'hour', 'minute', 'holiday', 'dayOfTheWeek',\n",
      "       'temperature', 'humidity', 'pressure'],\n",
      "      dtype='object')\n",
      "For 10 features: \n",
      " Accuracy: 0.878369287868244 \n",
      " Precision: 0.8587419840492558 \n",
      " Recall: 0.8596165213654128 \n",
      " F1 score: 0.8590833623869352\n",
      "best accuracy = 0.878369287868244, with 10 features, with variableThreshold\n"
     ]
    },
    {
     "name": "stderr",
     "output_type": "stream",
     "text": [
      "\r",
      " 92%|█████████▏| 11/12 [01:26<00:08,  8.66s/it]"
     ]
    },
    {
     "name": "stdout",
     "output_type": "stream",
     "text": [
      "Index(['month', 'day', 'year', 'hour', 'minute', 'holiday', 'dayOfTheWeek',\n",
      "       'temperature', 'humidity', 'pressure', 'report'],\n",
      "      dtype='object')\n",
      "For 11 features: \n",
      " Accuracy: 0.8780255516840882 \n",
      " Precision: 0.8590397171085119 \n",
      " Recall: 0.8593660746153663 \n",
      " F1 score: 0.8591040856696648\n",
      "best accuracy = 0.878369287868244, with 10 features, with variableThreshold\n"
     ]
    },
    {
     "name": "stderr",
     "output_type": "stream",
     "text": [
      "100%|██████████| 12/12 [01:35<00:00,  7.97s/it]\n"
     ]
    },
    {
     "name": "stdout",
     "output_type": "stream",
     "text": [
      "Index(['month', 'day', 'year', 'hour', 'minute', 'holiday', 'dayOfTheWeek',\n",
      "       'temperature', 'humidity', 'pressure', 'report'],\n",
      "      dtype='object')\n",
      "For 12 features: \n",
      " Accuracy: 0.8793905559432427 \n",
      " Precision: 0.861257398485809 \n",
      " Recall: 0.8603972096717732 \n",
      " F1 score: 0.8607058943303031\n",
      "best accuracy = 0.8793905559432427, with 12 features, with variableThreshold\n",
      "best accuracy = 0.8793905559432427, with 12 features, with variableThreshold\n",
      "\n",
      " \n",
      "\n",
      "------------------------- Analyzing method MRMR -------------------------\n",
      "The variable order is: \n",
      " ['temperature', 'dayOfTheWeek', 'hour', 'holiday', 'humidity', 'day', 'year', 'month', 'pressure', 'minute', 'report']\n"
     ]
    },
    {
     "name": "stderr",
     "output_type": "stream",
     "text": [
      "  8%|▊         | 1/12 [00:10<01:51, 10.16s/it]"
     ]
    },
    {
     "name": "stdout",
     "output_type": "stream",
     "text": [
      "Index(['temperature'], dtype='object')\n",
      "For 1 features: \n",
      " Accuracy: 0.4460750058234335 \n",
      " Precision: 0.3669483767461173 \n",
      " Recall: 0.36494869294095234 \n",
      " F1 score: 0.3645418720278105\n",
      "best accuracy = 0.4460750058234335, with 1 features, with MRMR\n"
     ]
    },
    {
     "name": "stderr",
     "output_type": "stream",
     "text": [
      "\r",
      " 17%|█▋        | 2/12 [00:19<01:36,  9.65s/it]"
     ]
    },
    {
     "name": "stdout",
     "output_type": "stream",
     "text": [
      "Index(['temperature', 'dayOfTheWeek'], dtype='object')\n",
      "For 2 features: \n",
      " Accuracy: 0.49539304875204104 \n",
      " Precision: 0.45784266504743626 \n",
      " Recall: 0.4695178372329754 \n",
      " F1 score: 0.45847613608565396\n",
      "best accuracy = 0.49539304875204104, with 2 features, with MRMR\n"
     ]
    },
    {
     "name": "stderr",
     "output_type": "stream",
     "text": [
      "\r",
      " 25%|██▌       | 3/12 [00:27<01:22,  9.14s/it]"
     ]
    },
    {
     "name": "stdout",
     "output_type": "stream",
     "text": [
      "Index(['temperature', 'dayOfTheWeek', 'hour'], dtype='object')\n",
      "For 3 features: \n",
      " Accuracy: 0.6776337304368139 \n",
      " Precision: 0.6334758018505445 \n",
      " Recall: 0.6388146280456918 \n",
      " F1 score: 0.6358584627415965\n",
      "best accuracy = 0.6776337304368139, with 3 features, with MRMR\n"
     ]
    },
    {
     "name": "stderr",
     "output_type": "stream",
     "text": [
      "\r",
      " 33%|███▎      | 4/12 [00:36<01:12,  9.05s/it]"
     ]
    },
    {
     "name": "stdout",
     "output_type": "stream",
     "text": [
      "Index(['temperature', 'dayOfTheWeek', 'hour', 'holiday'], dtype='object')\n",
      "For 4 features: \n",
      " Accuracy: 0.7088538011695906 \n",
      " Precision: 0.6696176341875797 \n",
      " Recall: 0.6761438597980082 \n",
      " F1 score: 0.672595232276545\n",
      "best accuracy = 0.7088538011695906, with 4 features, with MRMR\n"
     ]
    },
    {
     "name": "stderr",
     "output_type": "stream",
     "text": [
      "\r",
      " 42%|████▏     | 5/12 [00:45<01:03,  9.05s/it]"
     ]
    },
    {
     "name": "stdout",
     "output_type": "stream",
     "text": [
      "Index(['temperature', 'dayOfTheWeek', 'hour', 'holiday', 'humidity'], dtype='object')\n",
      "For 5 features: \n",
      " Accuracy: 0.8356640899508081 \n",
      " Precision: 0.8121522003187149 \n",
      " Recall: 0.8126868230830048 \n",
      " F1 score: 0.8122805261058658\n",
      "best accuracy = 0.8356640899508081, with 5 features, with MRMR\n"
     ]
    },
    {
     "name": "stderr",
     "output_type": "stream",
     "text": [
      "\r",
      " 50%|█████     | 6/12 [00:54<00:53,  8.97s/it]"
     ]
    },
    {
     "name": "stdout",
     "output_type": "stream",
     "text": [
      "Index(['temperature', 'dayOfTheWeek', 'hour', 'holiday', 'humidity', 'day'], dtype='object')\n",
      "For 6 features: \n",
      " Accuracy: 0.8763664086324184 \n",
      " Precision: 0.857413122948885 \n",
      " Recall: 0.8575888645299251 \n",
      " F1 score: 0.8573843629643415\n",
      "best accuracy = 0.8763664086324184, with 6 features, with MRMR\n"
     ]
    },
    {
     "name": "stderr",
     "output_type": "stream",
     "text": [
      "\r",
      " 58%|█████▊    | 7/12 [01:03<00:43,  8.76s/it]"
     ]
    },
    {
     "name": "stdout",
     "output_type": "stream",
     "text": [
      "Index(['temperature', 'dayOfTheWeek', 'hour', 'holiday', 'humidity', 'day',\n",
      "       'year'],\n",
      "      dtype='object')\n",
      "For 7 features: \n",
      " Accuracy: 0.8769673478975805 \n",
      " Precision: 0.8575649944239152 \n",
      " Recall: 0.8573554236580623 \n",
      " F1 score: 0.8573684425931224\n",
      "best accuracy = 0.8769673478975805, with 7 features, with MRMR\n"
     ]
    },
    {
     "name": "stderr",
     "output_type": "stream",
     "text": [
      "\r",
      " 67%|██████▋   | 8/12 [01:11<00:34,  8.54s/it]"
     ]
    },
    {
     "name": "stdout",
     "output_type": "stream",
     "text": [
      "Index(['temperature', 'dayOfTheWeek', 'hour', 'holiday', 'humidity', 'day',\n",
      "       'year', 'month'],\n",
      "      dtype='object')\n",
      "For 8 features: \n",
      " Accuracy: 0.8765114090802164 \n",
      " Precision: 0.8566861998357675 \n",
      " Recall: 0.8579983282160644 \n",
      " F1 score: 0.8571985487518197\n",
      "best accuracy = 0.8769673478975805, with 7 features, with MRMR\n"
     ]
    },
    {
     "name": "stderr",
     "output_type": "stream",
     "text": [
      "\r",
      " 75%|███████▌  | 9/12 [01:20<00:26,  8.75s/it]"
     ]
    },
    {
     "name": "stdout",
     "output_type": "stream",
     "text": [
      "Index(['temperature', 'dayOfTheWeek', 'hour', 'holiday', 'humidity', 'day',\n",
      "       'year', 'month', 'pressure'],\n",
      "      dtype='object')\n",
      "For 9 features: \n",
      " Accuracy: 0.8802355712603063 \n",
      " Precision: 0.8610510792975012 \n",
      " Recall: 0.8627048864334202 \n",
      " F1 score: 0.8617655465457952\n",
      "best accuracy = 0.8802355712603063, with 9 features, with MRMR\n"
     ]
    },
    {
     "name": "stderr",
     "output_type": "stream",
     "text": [
      "\r",
      " 83%|████████▎ | 10/12 [01:29<00:17,  8.84s/it]"
     ]
    },
    {
     "name": "stdout",
     "output_type": "stream",
     "text": [
      "Index(['temperature', 'dayOfTheWeek', 'hour', 'holiday', 'humidity', 'day',\n",
      "       'year', 'month', 'pressure', 'minute'],\n",
      "      dtype='object')\n",
      "For 10 features: \n",
      " Accuracy: 0.8783085633404105 \n",
      " Precision: 0.8578847254133398 \n",
      " Recall: 0.8590234332455967 \n",
      " F1 score: 0.8583651599261591\n",
      "best accuracy = 0.8802355712603063, with 9 features, with MRMR\n"
     ]
    },
    {
     "name": "stderr",
     "output_type": "stream",
     "text": [
      "\r",
      " 92%|█████████▏| 11/12 [01:38<00:08,  8.95s/it]"
     ]
    },
    {
     "name": "stdout",
     "output_type": "stream",
     "text": [
      "Index(['temperature', 'dayOfTheWeek', 'hour', 'holiday', 'humidity', 'day',\n",
      "       'year', 'month', 'pressure', 'minute', 'report'],\n",
      "      dtype='object')\n",
      "For 11 features: \n",
      " Accuracy: 0.8788684148358138 \n",
      " Precision: 0.8600673581578482 \n",
      " Recall: 0.8596033611382311 \n",
      " F1 score: 0.8597286655505955\n",
      "best accuracy = 0.8802355712603063, with 9 features, with MRMR\n"
     ]
    },
    {
     "name": "stderr",
     "output_type": "stream",
     "text": [
      "100%|██████████| 12/12 [01:47<00:00,  8.97s/it]"
     ]
    },
    {
     "name": "stdout",
     "output_type": "stream",
     "text": [
      "Index(['temperature', 'dayOfTheWeek', 'hour', 'holiday', 'humidity', 'day',\n",
      "       'year', 'month', 'pressure', 'minute', 'report'],\n",
      "      dtype='object')\n",
      "For 12 features: \n",
      " Accuracy: 0.880281523539153 \n",
      " Precision: 0.8618164221937163 \n",
      " Recall: 0.862273152163532 \n",
      " F1 score: 0.861990059918926\n",
      "best accuracy = 0.880281523539153, with 12 features, with MRMR\n",
      "best accuracy = 0.880281523539153, with 12 features, with MRMR\n",
      "\n",
      " \n",
      "\n"
     ]
    },
    {
     "name": "stderr",
     "output_type": "stream",
     "text": [
      "\n"
     ]
    }
   ],
   "source": [
    "analizeDF(HP_ME,orderME,13,n_loops=20)"
   ]
  },
  {
   "cell_type": "markdown",
   "id": "46ee891a",
   "metadata": {},
   "source": [
    "## Ordinal Encoding"
   ]
  },
  {
   "cell_type": "code",
   "execution_count": 7,
   "id": "5f786076",
   "metadata": {},
   "outputs": [],
   "source": [
    "hp_OE.rename(columns = {'day.1':'dayOfTheWeek'}, inplace = True)\n",
    "\n",
    "#Replace times ending in 5 and also compacting the rest to have only 6 classes\n",
    "a=hp_OE.Harry_Potter_and_the_Forbidden.replace([\n",
    "5, 10, 11, 15, 20, 25, 30, 35, 40, 45,50.0,55.0,60.0,65.0,70.0,75.0,80.0,85.0,90.0,95.0,100.0,105.0,110.0,115.0,120.0,125.0,130.0,135.0,145.0,150.0,180.0], \n",
    "[1,1,  1,  1,  1,  1,  1,  2,  2,  2, 2,   2,   2,   3,   3,   3,   3,   3,   3,   3,   3,    3,    3,    3,     3,    3,   3,    3,     3,    3,    3])\n",
    "\n",
    "df1=pd.DataFrame(a)\n",
    "df1.rename(columns = {'Harry_Potter_and_the_Forbidden':'HP_Forbidden_clean'}, inplace = True)\n",
    "hp_bis=pd.concat([hp_OE, df1], axis=1)\n",
    "hp2 = hp_bis.drop('Harry_Potter_and_the_Forbidden',axis=1)\n",
    "hp2 = hp2[hp2.HP_Forbidden_clean != 0] #delete rows with 0 min\n",
    "hp2.HP_Forbidden_clean.unique()\n",
    "\n",
    "#Variable order in ordinal encoding:\n",
    "pear_corrOE = ['temperature',\t'holiday',\t'day',\t'month',\t'pressure',\t'dayOfTheWeek',\t'report',\t'minute',\t'year',\t'humidity',\t'hour',\t'Pandemic']\n",
    "kend_corrOE = ['temperature',\t'holiday',\t'month',\t'day',\t'pressure',\t'dayOfTheWeek',\t'report',\t'year',\t'minute',\t'humidity',\t'hour',\t'Pandemic',]\n",
    "mutInf_classOE = ['month',\t'day',\t'year',\t'hour',\t'minute',\t'holiday',\t'dayOfTheWeek',\t'Pandemic',\t'temperature',\t'humidity',\t'pressure',\t'report',]\n",
    "mutInf_regOE = ['month',\t'day',\t'year',\t'hour',\t'minute',\t'holiday',\t'dayOfTheWeek',\t'Pandemic',\t'temperature',\t'humidity',\t'pressure',\t'report',]\n",
    "mutInf_class2OE = ['day',\t'temperature',\t'month',\t'humidity',\t'hour',\t'dayOfTheWeek',\t'pressure',\t'holiday',\t'year',\t'report',\t'minute',\t'Pandemic',]\n",
    "varThreOE = ['month',\t'day',\t'year',\t'hour',\t'minute',\t'holiday',\t'dayOfTheWeek',\t'temperature',\t'humidity',\t'pressure',\t'report']\n",
    "mrmrOE = ['temperature',\t'dayOfTheWeek',\t'hour',\t'holiday',\t'humidity',\t'day',\t'year',\t'month',\t'pressure',\t'minute',\t'report']\n",
    "\n",
    "orderOE=[pear_corrOE,kend_corrOE,mutInf_classOE,mutInf_regOE,mutInf_class2OE,varThreOE,mrmrOE]"
   ]
  },
  {
   "cell_type": "code",
   "execution_count": 8,
   "id": "c94eb5fa",
   "metadata": {},
   "outputs": [
    {
     "name": "stdout",
     "output_type": "stream",
     "text": [
      "------------------------- Analyzing method Pearson_correlation -------------------------\n",
      "The variable order is: \n",
      " ['temperature', 'holiday', 'day', 'month', 'pressure', 'dayOfTheWeek', 'report', 'minute', 'year', 'humidity', 'hour', 'Pandemic']\n"
     ]
    },
    {
     "name": "stderr",
     "output_type": "stream",
     "text": [
      "  8%|▊         | 1/12 [00:11<02:02, 11.10s/it]"
     ]
    },
    {
     "name": "stdout",
     "output_type": "stream",
     "text": [
      "Index(['temperature'], dtype='object')\n",
      "For 1 features: \n",
      " Accuracy: 0.4384021164021164 \n",
      " Precision: 0.366707419951909 \n",
      " Recall: 0.36534282248213307 \n",
      " F1 score: 0.3644074969353454\n",
      "best accuracy = 0.4384021164021164, with 1 features, with Pearson_correlation\n"
     ]
    },
    {
     "name": "stderr",
     "output_type": "stream",
     "text": [
      "\r",
      " 17%|█▋        | 2/12 [00:21<01:49, 10.96s/it]"
     ]
    },
    {
     "name": "stdout",
     "output_type": "stream",
     "text": [
      "Index(['temperature', 'holiday'], dtype='object')\n",
      "For 2 features: \n",
      " Accuracy: 0.4570989616444162 \n",
      " Precision: 0.40138446872133343 \n",
      " Recall: 0.3972324314597244 \n",
      " F1 score: 0.3985130593488181\n",
      "best accuracy = 0.4570989616444162, with 2 features, with Pearson_correlation\n"
     ]
    },
    {
     "name": "stderr",
     "output_type": "stream",
     "text": [
      "\r",
      " 25%|██▌       | 3/12 [00:31<01:34, 10.47s/it]"
     ]
    },
    {
     "name": "stdout",
     "output_type": "stream",
     "text": [
      "Index(['temperature', 'holiday', 'day'], dtype='object')\n",
      "For 3 features: \n",
      " Accuracy: 0.5896138340759601 \n",
      " Precision: 0.5545737253067448 \n",
      " Recall: 0.5723618697284514 \n",
      " F1 score: 0.5601872499408876\n",
      "best accuracy = 0.5896138340759601, with 3 features, with Pearson_correlation\n"
     ]
    },
    {
     "name": "stderr",
     "output_type": "stream",
     "text": [
      "\r",
      " 33%|███▎      | 4/12 [00:41<01:20, 10.02s/it]"
     ]
    },
    {
     "name": "stdout",
     "output_type": "stream",
     "text": [
      "Index(['temperature', 'holiday', 'day', 'month'], dtype='object')\n",
      "For 4 features: \n",
      " Accuracy: 0.7646271510516253 \n",
      " Precision: 0.7327869951265089 \n",
      " Recall: 0.7452012163429425 \n",
      " F1 score: 0.7382473434668206\n",
      "best accuracy = 0.7646271510516253, with 4 features, with Pearson_correlation\n"
     ]
    },
    {
     "name": "stderr",
     "output_type": "stream",
     "text": [
      "\r",
      " 42%|████▏     | 5/12 [00:50<01:07,  9.69s/it]"
     ]
    },
    {
     "name": "stdout",
     "output_type": "stream",
     "text": [
      "Index(['temperature', 'holiday', 'day', 'month', 'pressure'], dtype='object')\n",
      "For 5 features: \n",
      " Accuracy: 0.847755796639013 \n",
      " Precision: 0.8249123433115422 \n",
      " Recall: 0.8317164614987282 \n",
      " F1 score: 0.8280848873149497\n",
      "best accuracy = 0.847755796639013, with 5 features, with Pearson_correlation\n"
     ]
    },
    {
     "name": "stderr",
     "output_type": "stream",
     "text": [
      "\r",
      " 50%|█████     | 6/12 [00:59<00:56,  9.42s/it]"
     ]
    },
    {
     "name": "stdout",
     "output_type": "stream",
     "text": [
      "Index(['temperature', 'holiday', 'day', 'month', 'pressure', 'dayOfTheWeek'], dtype='object')\n",
      "For 6 features: \n",
      " Accuracy: 0.850468583599574 \n",
      " Precision: 0.8300160753179292 \n",
      " Recall: 0.8344402333263197 \n",
      " F1 score: 0.8320888027615002\n",
      "best accuracy = 0.850468583599574, with 6 features, with Pearson_correlation\n"
     ]
    },
    {
     "name": "stderr",
     "output_type": "stream",
     "text": [
      "\r",
      " 58%|█████▊    | 7/12 [01:08<00:46,  9.35s/it]"
     ]
    },
    {
     "name": "stdout",
     "output_type": "stream",
     "text": [
      "Index(['temperature', 'holiday', 'day', 'month', 'pressure', 'dayOfTheWeek',\n",
      "       'report'],\n",
      "      dtype='object')\n",
      "For 7 features: \n",
      " Accuracy: 0.8585092770313499 \n",
      " Precision: 0.8398294450965746 \n",
      " Recall: 0.8421685040280226 \n",
      " F1 score: 0.8408995662973192\n",
      "best accuracy = 0.8585092770313499, with 7 features, with Pearson_correlation\n"
     ]
    },
    {
     "name": "stderr",
     "output_type": "stream",
     "text": [
      "\r",
      " 67%|██████▋   | 8/12 [01:17<00:37,  9.43s/it]"
     ]
    },
    {
     "name": "stdout",
     "output_type": "stream",
     "text": [
      "Index(['temperature', 'holiday', 'day', 'month', 'pressure', 'dayOfTheWeek',\n",
      "       'report', 'minute'],\n",
      "      dtype='object')\n",
      "For 8 features: \n",
      " Accuracy: 0.8358424087123638 \n",
      " Precision: 0.8139176241488488 \n",
      " Recall: 0.8153734874118368 \n",
      " F1 score: 0.8145657745089667\n",
      "best accuracy = 0.8585092770313499, with 7 features, with Pearson_correlation\n"
     ]
    },
    {
     "name": "stderr",
     "output_type": "stream",
     "text": [
      "\r",
      " 75%|███████▌  | 9/12 [01:27<00:28,  9.57s/it]"
     ]
    },
    {
     "name": "stdout",
     "output_type": "stream",
     "text": [
      "Index(['temperature', 'holiday', 'day', 'month', 'pressure', 'dayOfTheWeek',\n",
      "       'report', 'minute', 'year'],\n",
      "      dtype='object')\n",
      "For 9 features: \n",
      " Accuracy: 0.8430831729741287 \n",
      " Precision: 0.8218101756422107 \n",
      " Recall: 0.8234732262128145 \n",
      " F1 score: 0.8225544169045665\n",
      "best accuracy = 0.8585092770313499, with 7 features, with Pearson_correlation\n"
     ]
    },
    {
     "name": "stderr",
     "output_type": "stream",
     "text": [
      "\r",
      " 83%|████████▎ | 10/12 [01:37<00:19,  9.71s/it]"
     ]
    },
    {
     "name": "stdout",
     "output_type": "stream",
     "text": [
      "Index(['temperature', 'holiday', 'day', 'month', 'pressure', 'dayOfTheWeek',\n",
      "       'report', 'minute', 'year', 'humidity'],\n",
      "      dtype='object')\n",
      "For 10 features: \n",
      " Accuracy: 0.85417469492614 \n",
      " Precision: 0.8348922223795022 \n",
      " Recall: 0.8381610829319326 \n",
      " F1 score: 0.8364360799234026\n",
      "best accuracy = 0.8585092770313499, with 7 features, with Pearson_correlation\n"
     ]
    },
    {
     "name": "stderr",
     "output_type": "stream",
     "text": [
      "\r",
      " 92%|█████████▏| 11/12 [01:48<00:09,  9.88s/it]"
     ]
    },
    {
     "name": "stdout",
     "output_type": "stream",
     "text": [
      "Index(['temperature', 'holiday', 'day', 'month', 'pressure', 'dayOfTheWeek',\n",
      "       'report', 'minute', 'year', 'humidity', 'hour'],\n",
      "      dtype='object')\n",
      "For 11 features: \n",
      " Accuracy: 0.877502679528403 \n",
      " Precision: 0.8614157972769926 \n",
      " Recall: 0.8620526179059408 \n",
      " F1 score: 0.861670492691601\n",
      "best accuracy = 0.877502679528403, with 11 features, with Pearson_correlation\n"
     ]
    },
    {
     "name": "stderr",
     "output_type": "stream",
     "text": [
      "100%|██████████| 12/12 [01:58<00:00,  9.85s/it]\n"
     ]
    },
    {
     "name": "stdout",
     "output_type": "stream",
     "text": [
      "Index(['temperature', 'holiday', 'day', 'month', 'pressure', 'dayOfTheWeek',\n",
      "       'report', 'minute', 'year', 'humidity', 'hour', 'Pandemic'],\n",
      "      dtype='object')\n",
      "For 12 features: \n",
      " Accuracy: 0.8764756385490449 \n",
      " Precision: 0.860088989286244 \n",
      " Recall: 0.8618263851384946 \n",
      " F1 score: 0.8608789463058522\n",
      "best accuracy = 0.877502679528403, with 11 features, with Pearson_correlation\n",
      "best accuracy = 0.877502679528403, with 11 features, with Pearson_correlation\n",
      "\n",
      " \n",
      "\n",
      "------------------------- Analyzing method Kendalls_correlation -------------------------\n",
      "The variable order is: \n",
      " ['temperature', 'holiday', 'month', 'day', 'pressure', 'dayOfTheWeek', 'report', 'year', 'minute', 'humidity', 'hour', 'Pandemic']\n"
     ]
    },
    {
     "name": "stderr",
     "output_type": "stream",
     "text": [
      "  8%|▊         | 1/12 [00:11<02:04, 11.33s/it]"
     ]
    },
    {
     "name": "stdout",
     "output_type": "stream",
     "text": [
      "Index(['temperature'], dtype='object')\n",
      "For 1 features: \n",
      " Accuracy: 0.4438964109176875 \n",
      " Precision: 0.3694891395624837 \n",
      " Recall: 0.3673929158293332 \n",
      " F1 score: 0.3665365451483783\n",
      "best accuracy = 0.4438964109176875, with 1 features, with Kendalls_correlation\n"
     ]
    },
    {
     "name": "stderr",
     "output_type": "stream",
     "text": [
      "\r",
      " 17%|█▋        | 2/12 [00:21<01:49, 10.92s/it]"
     ]
    },
    {
     "name": "stdout",
     "output_type": "stream",
     "text": [
      "Index(['temperature', 'holiday'], dtype='object')\n",
      "For 2 features: \n",
      " Accuracy: 0.455229180116204 \n",
      " Precision: 0.4005279155225943 \n",
      " Recall: 0.39658993573036994 \n",
      " F1 score: 0.39788838463974036\n",
      "best accuracy = 0.455229180116204, with 2 features, with Kendalls_correlation\n"
     ]
    },
    {
     "name": "stderr",
     "output_type": "stream",
     "text": [
      "\r",
      " 25%|██▌       | 3/12 [00:31<01:32, 10.30s/it]"
     ]
    },
    {
     "name": "stdout",
     "output_type": "stream",
     "text": [
      "Index(['temperature', 'holiday', 'month'], dtype='object')\n",
      "For 3 features: \n",
      " Accuracy: 0.519823313940961 \n",
      " Precision: 0.4809484693206845 \n",
      " Recall: 0.4914188150069513 \n",
      " F1 score: 0.4813961479013373\n",
      "best accuracy = 0.519823313940961, with 3 features, with Kendalls_correlation\n"
     ]
    },
    {
     "name": "stderr",
     "output_type": "stream",
     "text": [
      "\r",
      " 33%|███▎      | 4/12 [00:41<01:20, 10.10s/it]"
     ]
    },
    {
     "name": "stdout",
     "output_type": "stream",
     "text": [
      "Index(['temperature', 'holiday', 'month', 'day'], dtype='object')\n",
      "For 4 features: \n",
      " Accuracy: 0.7651024811218986 \n",
      " Precision: 0.7321831463876082 \n",
      " Recall: 0.7449504559317865 \n",
      " F1 score: 0.737827213980178\n",
      "best accuracy = 0.7651024811218986, with 4 features, with Kendalls_correlation\n"
     ]
    },
    {
     "name": "stderr",
     "output_type": "stream",
     "text": [
      "\r",
      " 42%|████▏     | 5/12 [00:50<01:07,  9.68s/it]"
     ]
    },
    {
     "name": "stdout",
     "output_type": "stream",
     "text": [
      "Index(['temperature', 'holiday', 'month', 'day', 'pressure'], dtype='object')\n",
      "For 5 features: \n",
      " Accuracy: 0.8481421473320372 \n",
      " Precision: 0.8270135638860997 \n",
      " Recall: 0.8309362411576297 \n",
      " F1 score: 0.8288746052827033\n",
      "best accuracy = 0.8481421473320372, with 5 features, with Kendalls_correlation\n"
     ]
    },
    {
     "name": "stderr",
     "output_type": "stream",
     "text": [
      "\r",
      " 50%|█████     | 6/12 [01:00<00:58,  9.75s/it]"
     ]
    },
    {
     "name": "stdout",
     "output_type": "stream",
     "text": [
      "Index(['temperature', 'holiday', 'month', 'day', 'pressure', 'dayOfTheWeek'], dtype='object')\n",
      "For 6 features: \n",
      " Accuracy: 0.850302833657798 \n",
      " Precision: 0.8296043154869857 \n",
      " Recall: 0.8324460025127537 \n",
      " F1 score: 0.8309232299675084\n",
      "best accuracy = 0.850302833657798, with 6 features, with Kendalls_correlation\n"
     ]
    },
    {
     "name": "stderr",
     "output_type": "stream",
     "text": [
      "\r",
      " 58%|█████▊    | 7/12 [01:09<00:47,  9.57s/it]"
     ]
    },
    {
     "name": "stdout",
     "output_type": "stream",
     "text": [
      "Index(['temperature', 'holiday', 'month', 'day', 'pressure', 'dayOfTheWeek',\n",
      "       'report'],\n",
      "      dtype='object')\n",
      "For 7 features: \n",
      " Accuracy: 0.8598440545808967 \n",
      " Precision: 0.8411614030926269 \n",
      " Recall: 0.8438740447855609 \n",
      " F1 score: 0.8424246059969529\n",
      "best accuracy = 0.8598440545808967, with 7 features, with Kendalls_correlation\n"
     ]
    },
    {
     "name": "stderr",
     "output_type": "stream",
     "text": [
      "\r",
      " 67%|██████▋   | 8/12 [01:18<00:38,  9.53s/it]"
     ]
    },
    {
     "name": "stdout",
     "output_type": "stream",
     "text": [
      "Index(['temperature', 'holiday', 'month', 'day', 'pressure', 'dayOfTheWeek',\n",
      "       'report', 'year'],\n",
      "      dtype='object')\n",
      "For 8 features: \n",
      " Accuracy: 0.8578182606809803 \n",
      " Precision: 0.8384471450309362 \n",
      " Recall: 0.8415104038626667 \n",
      " F1 score: 0.8398941593948968\n",
      "best accuracy = 0.8598440545808967, with 7 features, with Kendalls_correlation\n"
     ]
    },
    {
     "name": "stderr",
     "output_type": "stream",
     "text": [
      "\r",
      " 75%|███████▌  | 9/12 [01:29<00:29,  9.84s/it]"
     ]
    },
    {
     "name": "stdout",
     "output_type": "stream",
     "text": [
      "Index(['temperature', 'holiday', 'month', 'day', 'pressure', 'dayOfTheWeek',\n",
      "       'report', 'year', 'minute'],\n",
      "      dtype='object')\n",
      "For 9 features: \n",
      " Accuracy: 0.8436916395222585 \n",
      " Precision: 0.8219687841389185 \n",
      " Recall: 0.8245749185161946 \n",
      " F1 score: 0.823169832544065\n",
      "best accuracy = 0.8598440545808967, with 7 features, with Kendalls_correlation\n"
     ]
    },
    {
     "name": "stderr",
     "output_type": "stream",
     "text": [
      "\r",
      " 83%|████████▎ | 10/12 [01:39<00:20, 10.06s/it]"
     ]
    },
    {
     "name": "stdout",
     "output_type": "stream",
     "text": [
      "Index(['temperature', 'holiday', 'month', 'day', 'pressure', 'dayOfTheWeek',\n",
      "       'report', 'year', 'minute', 'humidity'],\n",
      "      dtype='object')\n",
      "For 10 features: \n",
      " Accuracy: 0.8550228310502282 \n",
      " Precision: 0.8350783010614103 \n",
      " Recall: 0.8367150626548167 \n",
      " F1 score: 0.8358290063107062\n",
      "best accuracy = 0.8598440545808967, with 7 features, with Kendalls_correlation\n"
     ]
    },
    {
     "name": "stderr",
     "output_type": "stream",
     "text": [
      "\r",
      " 92%|█████████▏| 11/12 [01:50<00:10, 10.22s/it]"
     ]
    },
    {
     "name": "stdout",
     "output_type": "stream",
     "text": [
      "Index(['temperature', 'holiday', 'month', 'day', 'pressure', 'dayOfTheWeek',\n",
      "       'report', 'year', 'minute', 'humidity', 'hour'],\n",
      "      dtype='object')\n",
      "For 11 features: \n",
      " Accuracy: 0.8791639451338994 \n",
      " Precision: 0.8622249062829617 \n",
      " Recall: 0.8626708197609667 \n",
      " F1 score: 0.8623923207512894\n",
      "best accuracy = 0.8791639451338994, with 11 features, with Kendalls_correlation\n"
     ]
    },
    {
     "name": "stderr",
     "output_type": "stream",
     "text": [
      "100%|██████████| 12/12 [02:01<00:00, 10.13s/it]\n"
     ]
    },
    {
     "name": "stdout",
     "output_type": "stream",
     "text": [
      "Index(['temperature', 'holiday', 'month', 'day', 'pressure', 'dayOfTheWeek',\n",
      "       'report', 'year', 'minute', 'humidity', 'hour', 'Pandemic'],\n",
      "      dtype='object')\n",
      "For 12 features: \n",
      " Accuracy: 0.876106387617179 \n",
      " Precision: 0.8596654918185919 \n",
      " Recall: 0.860136313056493 \n",
      " F1 score: 0.8597780406232429\n",
      "best accuracy = 0.8791639451338994, with 11 features, with Kendalls_correlation\n",
      "best accuracy = 0.8791639451338994, with 11 features, with Kendalls_correlation\n",
      "\n",
      " \n",
      "\n",
      "------------------------- Analyzing method mutualInformation_classification -------------------------\n",
      "The variable order is: \n",
      " ['month', 'day', 'year', 'hour', 'minute', 'holiday', 'dayOfTheWeek', 'Pandemic', 'temperature', 'humidity', 'pressure', 'report']\n"
     ]
    },
    {
     "name": "stderr",
     "output_type": "stream",
     "text": [
      "  8%|▊         | 1/12 [00:07<01:21,  7.41s/it]"
     ]
    },
    {
     "name": "stdout",
     "output_type": "stream",
     "text": [
      "Index(['month'], dtype='object')\n",
      "For 1 features: \n",
      " Accuracy: 0.4722222222222222 \n",
      " Precision: 0.4754214154640678 \n",
      " Recall: 0.46433478853559934 \n",
      " F1 score: 0.44143808872085755\n",
      "best accuracy = 0.4722222222222222, with 1 features, with mutualInformation_classification\n"
     ]
    },
    {
     "name": "stderr",
     "output_type": "stream",
     "text": [
      "\r",
      " 17%|█▋        | 2/12 [00:15<01:18,  7.84s/it]"
     ]
    },
    {
     "name": "stdout",
     "output_type": "stream",
     "text": [
      "Index(['month', 'day'], dtype='object')\n",
      "For 2 features: \n",
      " Accuracy: 0.6700546448087431 \n",
      " Precision: 0.6360880441322261 \n",
      " Recall: 0.6704112211429648 \n",
      " F1 score: 0.6436673954126382\n",
      "best accuracy = 0.6700546448087431, with 2 features, with mutualInformation_classification\n"
     ]
    },
    {
     "name": "stderr",
     "output_type": "stream",
     "text": [
      "\r",
      " 25%|██▌       | 3/12 [00:23<01:09,  7.73s/it]"
     ]
    },
    {
     "name": "stdout",
     "output_type": "stream",
     "text": [
      "Index(['month', 'day', 'year'], dtype='object')\n",
      "For 3 features: \n",
      " Accuracy: 0.6705187130663165 \n",
      " Precision: 0.6377989437724835 \n",
      " Recall: 0.6718118005777505 \n",
      " F1 score: 0.6454796799525373\n",
      "best accuracy = 0.6705187130663165, with 3 features, with mutualInformation_classification\n"
     ]
    },
    {
     "name": "stderr",
     "output_type": "stream",
     "text": [
      "\r",
      " 33%|███▎      | 4/12 [00:32<01:05,  8.19s/it]"
     ]
    },
    {
     "name": "stdout",
     "output_type": "stream",
     "text": [
      "Index(['month', 'day', 'year', 'hour'], dtype='object')\n",
      "For 4 features: \n",
      " Accuracy: 0.8418803418803419 \n",
      " Precision: 0.8178316150933499 \n",
      " Recall: 0.8213867758868205 \n",
      " F1 score: 0.8195138356222011\n",
      "best accuracy = 0.8418803418803419, with 4 features, with mutualInformation_classification\n"
     ]
    },
    {
     "name": "stderr",
     "output_type": "stream",
     "text": [
      "\r",
      " 42%|████▏     | 5/12 [00:40<00:58,  8.40s/it]"
     ]
    },
    {
     "name": "stdout",
     "output_type": "stream",
     "text": [
      "Index(['month', 'day', 'year', 'hour', 'minute'], dtype='object')\n",
      "For 5 features: \n",
      " Accuracy: 0.8113232389730085 \n",
      " Precision: 0.7831956699712225 \n",
      " Recall: 0.7814440601429011 \n",
      " F1 score: 0.7821851553203926\n",
      "best accuracy = 0.8418803418803419, with 4 features, with mutualInformation_classification\n"
     ]
    },
    {
     "name": "stderr",
     "output_type": "stream",
     "text": [
      "\r",
      " 50%|█████     | 6/12 [00:49<00:50,  8.41s/it]"
     ]
    },
    {
     "name": "stdout",
     "output_type": "stream",
     "text": [
      "Index(['month', 'day', 'year', 'hour', 'minute', 'holiday'], dtype='object')\n",
      "For 6 features: \n",
      " Accuracy: 0.8005273566249176 \n",
      " Precision: 0.7715499841157778 \n",
      " Recall: 0.7682821870320471 \n",
      " F1 score: 0.7698039250652392\n",
      "best accuracy = 0.8418803418803419, with 4 features, with mutualInformation_classification\n"
     ]
    },
    {
     "name": "stderr",
     "output_type": "stream",
     "text": [
      "\r",
      " 58%|█████▊    | 7/12 [00:57<00:41,  8.34s/it]"
     ]
    },
    {
     "name": "stdout",
     "output_type": "stream",
     "text": [
      "Index(['month', 'day', 'year', 'hour', 'minute', 'holiday', 'dayOfTheWeek'], dtype='object')\n",
      "For 7 features: \n",
      " Accuracy: 0.8370957095709571 \n",
      " Precision: 0.8114725757259035 \n",
      " Recall: 0.8107343306377515 \n",
      " F1 score: 0.8110353795291717\n",
      "best accuracy = 0.8418803418803419, with 4 features, with mutualInformation_classification\n"
     ]
    },
    {
     "name": "stderr",
     "output_type": "stream",
     "text": [
      "\r",
      " 67%|██████▋   | 8/12 [01:05<00:33,  8.28s/it]"
     ]
    },
    {
     "name": "stdout",
     "output_type": "stream",
     "text": [
      "Index(['month', 'day', 'year', 'hour', 'minute', 'holiday', 'dayOfTheWeek',\n",
      "       'Pandemic'],\n",
      "      dtype='object')\n",
      "For 8 features: \n",
      " Accuracy: 0.8312623925974885 \n",
      " Precision: 0.8050789717197263 \n",
      " Recall: 0.8026829251889214 \n",
      " F1 score: 0.8037528925530317\n",
      "best accuracy = 0.8418803418803419, with 4 features, with mutualInformation_classification\n"
     ]
    },
    {
     "name": "stderr",
     "output_type": "stream",
     "text": [
      "\r",
      " 75%|███████▌  | 9/12 [01:14<00:25,  8.42s/it]"
     ]
    },
    {
     "name": "stdout",
     "output_type": "stream",
     "text": [
      "Index(['month', 'day', 'year', 'hour', 'minute', 'holiday', 'dayOfTheWeek',\n",
      "       'Pandemic', 'temperature'],\n",
      "      dtype='object')\n",
      "For 9 features: \n",
      " Accuracy: 0.8650121332450915 \n",
      " Precision: 0.8439512744591073 \n",
      " Recall: 0.8449276406950634 \n",
      " F1 score: 0.8443570275354031\n",
      "best accuracy = 0.8650121332450915, with 9 features, with mutualInformation_classification\n"
     ]
    },
    {
     "name": "stderr",
     "output_type": "stream",
     "text": [
      "\r",
      " 83%|████████▎ | 10/12 [01:23<00:17,  8.61s/it]"
     ]
    },
    {
     "name": "stdout",
     "output_type": "stream",
     "text": [
      "Index(['month', 'day', 'year', 'hour', 'minute', 'holiday', 'dayOfTheWeek',\n",
      "       'Pandemic', 'temperature', 'humidity'],\n",
      "      dtype='object')\n",
      "For 10 features: \n",
      " Accuracy: 0.8726087916942787 \n",
      " Precision: 0.8543485708059037 \n",
      " Recall: 0.8543742923430824 \n",
      " F1 score: 0.8542848703022837\n",
      "best accuracy = 0.8726087916942787, with 10 features, with mutualInformation_classification\n"
     ]
    },
    {
     "name": "stderr",
     "output_type": "stream",
     "text": [
      "\r",
      " 92%|█████████▏| 11/12 [01:32<00:08,  8.75s/it]"
     ]
    },
    {
     "name": "stdout",
     "output_type": "stream",
     "text": [
      "Index(['month', 'day', 'year', 'hour', 'minute', 'holiday', 'dayOfTheWeek',\n",
      "       'Pandemic', 'temperature', 'humidity', 'pressure'],\n",
      "      dtype='object')\n",
      "For 11 features: \n",
      " Accuracy: 0.8769298827692988 \n",
      " Precision: 0.8591263445755859 \n",
      " Recall: 0.8596723175863182 \n",
      " F1 score: 0.859293075027844\n",
      "best accuracy = 0.8769298827692988, with 11 features, with mutualInformation_classification\n"
     ]
    },
    {
     "name": "stderr",
     "output_type": "stream",
     "text": [
      "100%|██████████| 12/12 [01:41<00:00,  8.47s/it]\n"
     ]
    },
    {
     "name": "stdout",
     "output_type": "stream",
     "text": [
      "Index(['month', 'day', 'year', 'hour', 'minute', 'holiday', 'dayOfTheWeek',\n",
      "       'Pandemic', 'temperature', 'humidity', 'pressure', 'report'],\n",
      "      dtype='object')\n",
      "For 12 features: \n",
      " Accuracy: 0.8768770764119601 \n",
      " Precision: 0.8596365916584602 \n",
      " Recall: 0.861064473931903 \n",
      " F1 score: 0.8602341087320182\n",
      "best accuracy = 0.8769298827692988, with 11 features, with mutualInformation_classification\n",
      "best accuracy = 0.8769298827692988, with 11 features, with mutualInformation_classification\n",
      "\n",
      " \n",
      "\n",
      "------------------------- Analyzing method mutualInformation_reggression -------------------------\n",
      "The variable order is: \n",
      " ['month', 'day', 'year', 'hour', 'minute', 'holiday', 'dayOfTheWeek', 'Pandemic', 'temperature', 'humidity', 'pressure', 'report']\n"
     ]
    },
    {
     "name": "stderr",
     "output_type": "stream",
     "text": [
      "  8%|▊         | 1/12 [00:06<01:07,  6.10s/it]"
     ]
    },
    {
     "name": "stdout",
     "output_type": "stream",
     "text": [
      "Index(['month'], dtype='object')\n",
      "For 1 features: \n",
      " Accuracy: 0.4674872477267687 \n",
      " Precision: 0.47705782524848334 \n",
      " Recall: 0.4647541319355252 \n",
      " F1 score: 0.43714360628289295\n",
      "best accuracy = 0.4674872477267687, with 1 features, with mutualInformation_reggression\n"
     ]
    },
    {
     "name": "stderr",
     "output_type": "stream",
     "text": [
      "\r",
      " 17%|█▋        | 2/12 [00:13<01:06,  6.63s/it]"
     ]
    },
    {
     "name": "stdout",
     "output_type": "stream",
     "text": [
      "Index(['month', 'day'], dtype='object')\n",
      "For 2 features: \n",
      " Accuracy: 0.6714856762158561 \n",
      " Precision: 0.6370064264543489 \n",
      " Recall: 0.6719192795690699 \n",
      " F1 score: 0.6449133135053393\n",
      "best accuracy = 0.6714856762158561, with 2 features, with mutualInformation_reggression\n"
     ]
    },
    {
     "name": "stderr",
     "output_type": "stream",
     "text": [
      "\r",
      " 25%|██▌       | 3/12 [00:19<01:00,  6.73s/it]"
     ]
    },
    {
     "name": "stdout",
     "output_type": "stream",
     "text": [
      "Index(['month', 'day', 'year'], dtype='object')\n",
      "For 3 features: \n",
      " Accuracy: 0.6707582832999778 \n",
      " Precision: 0.6360171223752915 \n",
      " Recall: 0.6714384206248697 \n",
      " F1 score: 0.6436628139213773\n",
      "best accuracy = 0.6714856762158561, with 2 features, with mutualInformation_reggression\n"
     ]
    },
    {
     "name": "stderr",
     "output_type": "stream",
     "text": [
      "\r",
      " 33%|███▎      | 4/12 [00:27<00:57,  7.21s/it]"
     ]
    },
    {
     "name": "stdout",
     "output_type": "stream",
     "text": [
      "Index(['month', 'day', 'year', 'hour'], dtype='object')\n",
      "For 4 features: \n",
      " Accuracy: 0.841104431084391 \n",
      " Precision: 0.815910176645334 \n",
      " Recall: 0.8192294422878018 \n",
      " F1 score: 0.817407811144942\n",
      "best accuracy = 0.841104431084391, with 4 features, with mutualInformation_reggression\n"
     ]
    },
    {
     "name": "stderr",
     "output_type": "stream",
     "text": [
      "\r",
      " 42%|████▏     | 5/12 [00:36<00:52,  7.56s/it]"
     ]
    },
    {
     "name": "stdout",
     "output_type": "stream",
     "text": [
      "Index(['month', 'day', 'year', 'hour', 'minute'], dtype='object')\n",
      "For 5 features: \n",
      " Accuracy: 0.8129542920847269 \n",
      " Precision: 0.7854856696125326 \n",
      " Recall: 0.7821385186806363 \n",
      " F1 score: 0.7836559617341813\n",
      "best accuracy = 0.841104431084391, with 4 features, with mutualInformation_reggression\n"
     ]
    },
    {
     "name": "stderr",
     "output_type": "stream",
     "text": [
      "\r",
      " 50%|█████     | 6/12 [00:44<00:46,  7.76s/it]"
     ]
    },
    {
     "name": "stdout",
     "output_type": "stream",
     "text": [
      "Index(['month', 'day', 'year', 'hour', 'minute', 'holiday'], dtype='object')\n",
      "For 6 features: \n",
      " Accuracy: 0.8043759767805314 \n",
      " Precision: 0.775787512290914 \n",
      " Recall: 0.7733545110585416 \n",
      " F1 score: 0.7744348468554965\n",
      "best accuracy = 0.841104431084391, with 4 features, with mutualInformation_reggression\n"
     ]
    },
    {
     "name": "stderr",
     "output_type": "stream",
     "text": [
      "\r",
      " 58%|█████▊    | 7/12 [00:52<00:38,  7.78s/it]"
     ]
    },
    {
     "name": "stdout",
     "output_type": "stream",
     "text": [
      "Index(['month', 'day', 'year', 'hour', 'minute', 'holiday', 'dayOfTheWeek'], dtype='object')\n",
      "For 7 features: \n",
      " Accuracy: 0.8402749832327298 \n",
      " Precision: 0.8136485183783475 \n",
      " Recall: 0.8139548185649543 \n",
      " F1 score: 0.8137491312900093\n",
      "best accuracy = 0.841104431084391, with 4 features, with mutualInformation_reggression\n"
     ]
    },
    {
     "name": "stderr",
     "output_type": "stream",
     "text": [
      "\r",
      " 67%|██████▋   | 8/12 [00:59<00:31,  7.80s/it]"
     ]
    },
    {
     "name": "stdout",
     "output_type": "stream",
     "text": [
      "Index(['month', 'day', 'year', 'hour', 'minute', 'holiday', 'dayOfTheWeek',\n",
      "       'Pandemic'],\n",
      "      dtype='object')\n",
      "For 8 features: \n",
      " Accuracy: 0.8317215133199015 \n",
      " Precision: 0.8040973228585631 \n",
      " Recall: 0.8029023847235586 \n",
      " F1 score: 0.8034379969038864\n",
      "best accuracy = 0.841104431084391, with 4 features, with mutualInformation_reggression\n"
     ]
    },
    {
     "name": "stderr",
     "output_type": "stream",
     "text": [
      "\r",
      " 75%|███████▌  | 9/12 [01:08<00:24,  8.06s/it]"
     ]
    },
    {
     "name": "stdout",
     "output_type": "stream",
     "text": [
      "Index(['month', 'day', 'year', 'hour', 'minute', 'holiday', 'dayOfTheWeek',\n",
      "       'Pandemic', 'temperature'],\n",
      "      dtype='object')\n",
      "For 9 features: \n",
      " Accuracy: 0.8676642008518269 \n",
      " Precision: 0.8462662001640898 \n",
      " Recall: 0.8474962910150948 \n",
      " F1 score: 0.846818016279479\n",
      "best accuracy = 0.8676642008518269, with 9 features, with mutualInformation_reggression\n"
     ]
    },
    {
     "name": "stderr",
     "output_type": "stream",
     "text": [
      "\r",
      " 83%|████████▎ | 10/12 [01:17<00:16,  8.36s/it]"
     ]
    },
    {
     "name": "stdout",
     "output_type": "stream",
     "text": [
      "Index(['month', 'day', 'year', 'hour', 'minute', 'holiday', 'dayOfTheWeek',\n",
      "       'Pandemic', 'temperature', 'humidity'],\n",
      "      dtype='object')\n",
      "For 10 features: \n",
      " Accuracy: 0.8736700336700337 \n",
      " Precision: 0.8539853983760459 \n",
      " Recall: 0.8540002719083309 \n",
      " F1 score: 0.8539159031045309\n",
      "best accuracy = 0.8736700336700337, with 10 features, with mutualInformation_reggression\n"
     ]
    },
    {
     "name": "stderr",
     "output_type": "stream",
     "text": [
      "\r",
      " 92%|█████████▏| 11/12 [01:26<00:08,  8.60s/it]"
     ]
    },
    {
     "name": "stdout",
     "output_type": "stream",
     "text": [
      "Index(['month', 'day', 'year', 'hour', 'minute', 'holiday', 'dayOfTheWeek',\n",
      "       'Pandemic', 'temperature', 'humidity', 'pressure'],\n",
      "      dtype='object')\n",
      "For 11 features: \n",
      " Accuracy: 0.8764890986738593 \n",
      " Precision: 0.8579925265941941 \n",
      " Recall: 0.8597878449893829 \n",
      " F1 score: 0.8588090748129494\n",
      "best accuracy = 0.8764890986738593, with 11 features, with mutualInformation_reggression\n"
     ]
    },
    {
     "name": "stderr",
     "output_type": "stream",
     "text": [
      "100%|██████████| 12/12 [01:35<00:00,  7.96s/it]\n"
     ]
    },
    {
     "name": "stdout",
     "output_type": "stream",
     "text": [
      "Index(['month', 'day', 'year', 'hour', 'minute', 'holiday', 'dayOfTheWeek',\n",
      "       'Pandemic', 'temperature', 'humidity', 'pressure', 'report'],\n",
      "      dtype='object')\n",
      "For 12 features: \n",
      " Accuracy: 0.8785505289218997 \n",
      " Precision: 0.8621446669999261 \n",
      " Recall: 0.8611842744688352 \n",
      " F1 score: 0.8615816388652704\n",
      "best accuracy = 0.8785505289218997, with 12 features, with mutualInformation_reggression\n",
      "best accuracy = 0.8785505289218997, with 12 features, with mutualInformation_reggression\n",
      "\n",
      " \n",
      "\n",
      "------------------------- Analyzing method mutualInformation_classification2 -------------------------\n",
      "The variable order is: \n",
      " ['day', 'temperature', 'month', 'humidity', 'hour', 'dayOfTheWeek', 'pressure', 'holiday', 'year', 'report', 'minute', 'Pandemic']\n"
     ]
    },
    {
     "name": "stderr",
     "output_type": "stream",
     "text": [
      "  8%|▊         | 1/12 [00:06<01:14,  6.80s/it]"
     ]
    },
    {
     "name": "stdout",
     "output_type": "stream",
     "text": [
      "Index(['day'], dtype='object')\n",
      "For 1 features: \n",
      " Accuracy: 0.46399594320486814 \n",
      " Precision: 0.4267601819654769 \n",
      " Recall: 0.4357202990853155 \n",
      " F1 score: 0.4208432893983276\n",
      "best accuracy = 0.46399594320486814, with 1 features, with mutualInformation_classification2\n"
     ]
    },
    {
     "name": "stderr",
     "output_type": "stream",
     "text": [
      "\r",
      " 17%|█▋        | 2/12 [00:15<01:20,  8.04s/it]"
     ]
    },
    {
     "name": "stdout",
     "output_type": "stream",
     "text": [
      "Index(['day', 'temperature'], dtype='object')\n",
      "For 2 features: \n",
      " Accuracy: 0.5667907921462424 \n",
      " Precision: 0.5268054377460563 \n",
      " Recall: 0.5424963517291218 \n",
      " F1 score: 0.5309205496092934\n",
      "best accuracy = 0.5667907921462424, with 2 features, with mutualInformation_classification2\n"
     ]
    },
    {
     "name": "stderr",
     "output_type": "stream",
     "text": [
      "\r",
      " 25%|██▌       | 3/12 [00:23<01:12,  8.09s/it]"
     ]
    },
    {
     "name": "stdout",
     "output_type": "stream",
     "text": [
      "Index(['day', 'temperature', 'month'], dtype='object')\n",
      "For 3 features: \n",
      " Accuracy: 0.7661694915254237 \n",
      " Precision: 0.7315866596127594 \n",
      " Recall: 0.7435499200075989 \n",
      " F1 score: 0.736905211404191\n",
      "best accuracy = 0.7661694915254237, with 3 features, with mutualInformation_classification2\n"
     ]
    },
    {
     "name": "stderr",
     "output_type": "stream",
     "text": [
      "\r",
      " 33%|███▎      | 4/12 [00:32<01:07,  8.45s/it]"
     ]
    },
    {
     "name": "stdout",
     "output_type": "stream",
     "text": [
      "Index(['day', 'temperature', 'month', 'humidity'], dtype='object')\n",
      "For 4 features: \n",
      " Accuracy: 0.8377574111789998 \n",
      " Precision: 0.815932796001574 \n",
      " Recall: 0.8188256434237123 \n",
      " F1 score: 0.8172733446341748\n",
      "best accuracy = 0.8377574111789998, with 4 features, with mutualInformation_classification2\n"
     ]
    },
    {
     "name": "stderr",
     "output_type": "stream",
     "text": [
      "\r",
      " 42%|████▏     | 5/12 [00:42<01:01,  8.73s/it]"
     ]
    },
    {
     "name": "stdout",
     "output_type": "stream",
     "text": [
      "Index(['day', 'temperature', 'month', 'humidity', 'hour'], dtype='object')\n",
      "For 5 features: \n",
      " Accuracy: 0.8717878993881714 \n",
      " Precision: 0.853134058426347 \n",
      " Recall: 0.8528391088308223 \n",
      " F1 score: 0.8529392238216279\n",
      "best accuracy = 0.8717878993881714, with 5 features, with mutualInformation_classification2\n"
     ]
    },
    {
     "name": "stderr",
     "output_type": "stream",
     "text": [
      "\r",
      " 50%|█████     | 6/12 [00:50<00:52,  8.68s/it]"
     ]
    },
    {
     "name": "stdout",
     "output_type": "stream",
     "text": [
      "Index(['day', 'temperature', 'month', 'humidity', 'hour', 'dayOfTheWeek'], dtype='object')\n",
      "For 6 features: \n",
      " Accuracy: 0.8755048786022237 \n",
      " Precision: 0.8562588240462725 \n",
      " Recall: 0.8578373737476713 \n",
      " F1 score: 0.8569891178448316\n",
      "best accuracy = 0.8755048786022237, with 6 features, with mutualInformation_classification2\n"
     ]
    },
    {
     "name": "stderr",
     "output_type": "stream",
     "text": [
      "\r",
      " 58%|█████▊    | 7/12 [00:59<00:43,  8.70s/it]"
     ]
    },
    {
     "name": "stdout",
     "output_type": "stream",
     "text": [
      "Index(['day', 'temperature', 'month', 'humidity', 'hour', 'dayOfTheWeek',\n",
      "       'pressure'],\n",
      "      dtype='object')\n",
      "For 7 features: \n",
      " Accuracy: 0.8762440354464894 \n",
      " Precision: 0.8578430359869635 \n",
      " Recall: 0.858929513861596 \n",
      " F1 score: 0.8583038749738604\n",
      "best accuracy = 0.8762440354464894, with 7 features, with mutualInformation_classification2\n"
     ]
    },
    {
     "name": "stderr",
     "output_type": "stream",
     "text": [
      "\r",
      " 67%|██████▋   | 8/12 [01:07<00:34,  8.58s/it]"
     ]
    },
    {
     "name": "stdout",
     "output_type": "stream",
     "text": [
      "Index(['day', 'temperature', 'month', 'humidity', 'hour', 'dayOfTheWeek',\n",
      "       'pressure', 'holiday'],\n",
      "      dtype='object')\n",
      "For 8 features: \n",
      " Accuracy: 0.8783276450511945 \n",
      " Precision: 0.8601593965285803 \n",
      " Recall: 0.8601219695599712 \n",
      " F1 score: 0.8600764248373505\n",
      "best accuracy = 0.8783276450511945, with 8 features, with mutualInformation_classification2\n"
     ]
    },
    {
     "name": "stderr",
     "output_type": "stream",
     "text": [
      "\r",
      " 75%|███████▌  | 9/12 [01:16<00:26,  8.74s/it]"
     ]
    },
    {
     "name": "stdout",
     "output_type": "stream",
     "text": [
      "Index(['day', 'temperature', 'month', 'humidity', 'hour', 'dayOfTheWeek',\n",
      "       'pressure', 'holiday', 'year'],\n",
      "      dtype='object')\n",
      "For 9 features: \n",
      " Accuracy: 0.8782524493050808 \n",
      " Precision: 0.8598459141608166 \n",
      " Recall: 0.8603179248910526 \n",
      " F1 score: 0.8599601592804894\n",
      "best accuracy = 0.8783276450511945, with 8 features, with mutualInformation_classification2\n"
     ]
    },
    {
     "name": "stderr",
     "output_type": "stream",
     "text": [
      "\r",
      " 83%|████████▎ | 10/12 [01:25<00:17,  8.82s/it]"
     ]
    },
    {
     "name": "stdout",
     "output_type": "stream",
     "text": [
      "Index(['day', 'temperature', 'month', 'humidity', 'hour', 'dayOfTheWeek',\n",
      "       'pressure', 'holiday', 'year', 'report'],\n",
      "      dtype='object')\n",
      "For 10 features: \n",
      " Accuracy: 0.876682637462925 \n",
      " Precision: 0.8590616244558914 \n",
      " Recall: 0.8580546092387723 \n",
      " F1 score: 0.8584837694308406\n",
      "best accuracy = 0.8783276450511945, with 8 features, with mutualInformation_classification2\n"
     ]
    },
    {
     "name": "stderr",
     "output_type": "stream",
     "text": [
      "\r",
      " 92%|█████████▏| 11/12 [01:35<00:08,  8.94s/it]"
     ]
    },
    {
     "name": "stdout",
     "output_type": "stream",
     "text": [
      "Index(['day', 'temperature', 'month', 'humidity', 'hour', 'dayOfTheWeek',\n",
      "       'pressure', 'holiday', 'year', 'report', 'minute'],\n",
      "      dtype='object')\n",
      "For 11 features: \n",
      " Accuracy: 0.8799977153301348 \n",
      " Precision: 0.861915490755273 \n",
      " Recall: 0.8610121812464578 \n",
      " F1 score: 0.8613993843494805\n",
      "best accuracy = 0.8799977153301348, with 11 features, with mutualInformation_classification2\n"
     ]
    },
    {
     "name": "stderr",
     "output_type": "stream",
     "text": [
      "100%|██████████| 12/12 [01:44<00:00,  8.68s/it]\n"
     ]
    },
    {
     "name": "stdout",
     "output_type": "stream",
     "text": [
      "Index(['day', 'temperature', 'month', 'humidity', 'hour', 'dayOfTheWeek',\n",
      "       'pressure', 'holiday', 'year', 'report', 'minute', 'Pandemic'],\n",
      "      dtype='object')\n",
      "For 12 features: \n",
      " Accuracy: 0.8767215740105239 \n",
      " Precision: 0.8581561656607846 \n",
      " Recall: 0.8582748801888848 \n",
      " F1 score: 0.8581313870228231\n",
      "best accuracy = 0.8799977153301348, with 11 features, with mutualInformation_classification2\n",
      "best accuracy = 0.8799977153301348, with 11 features, with mutualInformation_classification2\n",
      "\n",
      " \n",
      "\n",
      "------------------------- Analyzing method variableThreshold -------------------------\n",
      "The variable order is: \n",
      " ['month', 'day', 'year', 'hour', 'minute', 'holiday', 'dayOfTheWeek', 'temperature', 'humidity', 'pressure', 'report']\n"
     ]
    },
    {
     "name": "stderr",
     "output_type": "stream",
     "text": [
      "  8%|▊         | 1/12 [00:06<01:06,  6.02s/it]"
     ]
    },
    {
     "name": "stdout",
     "output_type": "stream",
     "text": [
      "Index(['month'], dtype='object')\n",
      "For 1 features: \n",
      " Accuracy: 0.47697594501718216 \n",
      " Precision: 0.46123283499545636 \n",
      " Recall: 0.4535698998057736 \n",
      " F1 score: 0.43373677168342284\n",
      "best accuracy = 0.47697594501718216, with 1 features, with variableThreshold\n"
     ]
    },
    {
     "name": "stderr",
     "output_type": "stream",
     "text": [
      "\r",
      " 17%|█▋        | 2/12 [00:12<01:04,  6.49s/it]"
     ]
    },
    {
     "name": "stdout",
     "output_type": "stream",
     "text": [
      "Index(['month', 'day'], dtype='object')\n",
      "For 2 features: \n",
      " Accuracy: 0.6759463179628356 \n",
      " Precision: 0.6376840536516099 \n",
      " Recall: 0.6708673234284543 \n",
      " F1 score: 0.6456442603483594\n",
      "best accuracy = 0.6759463179628356, with 2 features, with variableThreshold\n"
     ]
    },
    {
     "name": "stderr",
     "output_type": "stream",
     "text": [
      "\r",
      " 25%|██▌       | 3/12 [00:19<00:59,  6.64s/it]"
     ]
    },
    {
     "name": "stdout",
     "output_type": "stream",
     "text": [
      "Index(['month', 'day', 'year'], dtype='object')\n",
      "For 3 features: \n",
      " Accuracy: 0.6728233402251321 \n",
      " Precision: 0.6338496410229307 \n",
      " Recall: 0.6688201623371147 \n",
      " F1 score: 0.6418609329759061\n",
      "best accuracy = 0.6759463179628356, with 2 features, with variableThreshold\n"
     ]
    },
    {
     "name": "stderr",
     "output_type": "stream",
     "text": [
      "\r",
      " 33%|███▎      | 4/12 [00:27<00:56,  7.05s/it]"
     ]
    },
    {
     "name": "stdout",
     "output_type": "stream",
     "text": [
      "Index(['month', 'day', 'year', 'hour'], dtype='object')\n",
      "For 4 features: \n",
      " Accuracy: 0.8394064872325742 \n",
      " Precision: 0.8131125912762343 \n",
      " Recall: 0.816360487036261 \n",
      " F1 score: 0.8146002846418565\n",
      "best accuracy = 0.8394064872325742, with 4 features, with variableThreshold\n"
     ]
    },
    {
     "name": "stderr",
     "output_type": "stream",
     "text": [
      "\r",
      " 42%|████▏     | 5/12 [00:35<00:52,  7.49s/it]"
     ]
    },
    {
     "name": "stdout",
     "output_type": "stream",
     "text": [
      "Index(['month', 'day', 'year', 'hour', 'minute'], dtype='object')\n",
      "For 5 features: \n",
      " Accuracy: 0.8112186132227598 \n",
      " Precision: 0.7800053990480994 \n",
      " Recall: 0.7774483287139795 \n",
      " F1 score: 0.7786013855786804\n",
      "best accuracy = 0.8394064872325742, with 4 features, with variableThreshold\n"
     ]
    },
    {
     "name": "stderr",
     "output_type": "stream",
     "text": [
      "\r",
      " 50%|█████     | 6/12 [00:43<00:46,  7.71s/it]"
     ]
    },
    {
     "name": "stdout",
     "output_type": "stream",
     "text": [
      "Index(['month', 'day', 'year', 'hour', 'minute', 'holiday'], dtype='object')\n",
      "For 6 features: \n",
      " Accuracy: 0.8032179930795847 \n",
      " Precision: 0.7719162723441313 \n",
      " Recall: 0.7687979738340595 \n",
      " F1 score: 0.7701985047898838\n",
      "best accuracy = 0.8394064872325742, with 4 features, with variableThreshold\n"
     ]
    },
    {
     "name": "stderr",
     "output_type": "stream",
     "text": [
      "\r",
      " 58%|█████▊    | 7/12 [00:51<00:38,  7.72s/it]"
     ]
    },
    {
     "name": "stdout",
     "output_type": "stream",
     "text": [
      "Index(['month', 'day', 'year', 'hour', 'minute', 'holiday', 'dayOfTheWeek'], dtype='object')\n",
      "For 7 features: \n",
      " Accuracy: 0.8381265881265881 \n",
      " Precision: 0.811001061255663 \n",
      " Recall: 0.8088895798507066 \n",
      " F1 score: 0.8098267906436262\n",
      "best accuracy = 0.8394064872325742, with 4 features, with variableThreshold\n"
     ]
    },
    {
     "name": "stderr",
     "output_type": "stream",
     "text": [
      "\r",
      " 67%|██████▋   | 8/12 [00:59<00:31,  7.82s/it]"
     ]
    },
    {
     "name": "stdout",
     "output_type": "stream",
     "text": [
      "Index(['month', 'day', 'year', 'hour', 'minute', 'holiday', 'dayOfTheWeek',\n",
      "       'temperature'],\n",
      "      dtype='object')\n",
      "For 8 features: \n",
      " Accuracy: 0.8597386074485311 \n",
      " Precision: 0.8354999088815067 \n",
      " Recall: 0.8372103407388061 \n",
      " F1 score: 0.8362576913353932\n",
      "best accuracy = 0.8597386074485311, with 8 features, with variableThreshold\n"
     ]
    },
    {
     "name": "stderr",
     "output_type": "stream",
     "text": [
      "\r",
      " 75%|███████▌  | 9/12 [01:08<00:24,  8.19s/it]"
     ]
    },
    {
     "name": "stdout",
     "output_type": "stream",
     "text": [
      "Index(['month', 'day', 'year', 'hour', 'minute', 'holiday', 'dayOfTheWeek',\n",
      "       'temperature', 'humidity'],\n",
      "      dtype='object')\n",
      "For 9 features: \n",
      " Accuracy: 0.8743919388464211 \n",
      " Precision: 0.8529135063068856 \n",
      " Recall: 0.8542036210000751 \n",
      " F1 score: 0.8534643776112176\n",
      "best accuracy = 0.8743919388464211, with 9 features, with variableThreshold\n"
     ]
    },
    {
     "name": "stderr",
     "output_type": "stream",
     "text": [
      "\r",
      " 83%|████████▎ | 10/12 [01:17<00:16,  8.42s/it]"
     ]
    },
    {
     "name": "stdout",
     "output_type": "stream",
     "text": [
      "Index(['month', 'day', 'year', 'hour', 'minute', 'holiday', 'dayOfTheWeek',\n",
      "       'temperature', 'humidity', 'pressure'],\n",
      "      dtype='object')\n",
      "For 10 features: \n",
      " Accuracy: 0.8797030851310601 \n",
      " Precision: 0.8601538311461707 \n",
      " Recall: 0.8618122020881667 \n",
      " F1 score: 0.8609011546834163\n",
      "best accuracy = 0.8797030851310601, with 10 features, with variableThreshold\n"
     ]
    },
    {
     "name": "stderr",
     "output_type": "stream",
     "text": [
      "\r",
      " 92%|█████████▏| 11/12 [01:26<00:08,  8.62s/it]"
     ]
    },
    {
     "name": "stdout",
     "output_type": "stream",
     "text": [
      "Index(['month', 'day', 'year', 'hour', 'minute', 'holiday', 'dayOfTheWeek',\n",
      "       'temperature', 'humidity', 'pressure', 'report'],\n",
      "      dtype='object')\n",
      "For 11 features: \n",
      " Accuracy: 0.8788966318234611 \n",
      " Precision: 0.8603338803545204 \n",
      " Recall: 0.8604610922523658 \n",
      " F1 score: 0.8603264512871974\n",
      "best accuracy = 0.8797030851310601, with 10 features, with variableThreshold\n"
     ]
    },
    {
     "name": "stderr",
     "output_type": "stream",
     "text": [
      "100%|██████████| 12/12 [01:35<00:00,  7.96s/it]\n"
     ]
    },
    {
     "name": "stdout",
     "output_type": "stream",
     "text": [
      "Index(['month', 'day', 'year', 'hour', 'minute', 'holiday', 'dayOfTheWeek',\n",
      "       'temperature', 'humidity', 'pressure', 'report'],\n",
      "      dtype='object')\n",
      "For 12 features: \n",
      " Accuracy: 0.8798557804140498 \n",
      " Precision: 0.8612092525385109 \n",
      " Recall: 0.8617760273100844 \n",
      " F1 score: 0.8614133767357203\n",
      "best accuracy = 0.8798557804140498, with 12 features, with variableThreshold\n",
      "best accuracy = 0.8798557804140498, with 12 features, with variableThreshold\n",
      "\n",
      " \n",
      "\n",
      "------------------------- Analyzing method MRMR -------------------------\n",
      "The variable order is: \n",
      " ['temperature', 'dayOfTheWeek', 'hour', 'holiday', 'humidity', 'day', 'year', 'month', 'pressure', 'minute', 'report']\n"
     ]
    },
    {
     "name": "stderr",
     "output_type": "stream",
     "text": [
      "  8%|▊         | 1/12 [00:10<01:52, 10.25s/it]"
     ]
    },
    {
     "name": "stdout",
     "output_type": "stream",
     "text": [
      "Index(['temperature'], dtype='object')\n",
      "For 1 features: \n",
      " Accuracy: 0.445364546936874 \n",
      " Precision: 0.36711652121386185 \n",
      " Recall: 0.36552219065728836 \n",
      " F1 score: 0.36510817162376774\n",
      "best accuracy = 0.445364546936874, with 1 features, with MRMR\n"
     ]
    },
    {
     "name": "stderr",
     "output_type": "stream",
     "text": [
      "\r",
      " 17%|█▋        | 2/12 [00:19<01:35,  9.56s/it]"
     ]
    },
    {
     "name": "stdout",
     "output_type": "stream",
     "text": [
      "Index(['temperature', 'dayOfTheWeek'], dtype='object')\n",
      "For 2 features: \n",
      " Accuracy: 0.49534639608117564 \n",
      " Precision: 0.45649845503846126 \n",
      " Recall: 0.4681133402163512 \n",
      " F1 score: 0.457113996802008\n",
      "best accuracy = 0.49534639608117564, with 2 features, with MRMR\n"
     ]
    },
    {
     "name": "stderr",
     "output_type": "stream",
     "text": [
      "\r",
      " 25%|██▌       | 3/12 [00:27<01:21,  9.01s/it]"
     ]
    },
    {
     "name": "stdout",
     "output_type": "stream",
     "text": [
      "Index(['temperature', 'dayOfTheWeek', 'hour'], dtype='object')\n",
      "For 3 features: \n",
      " Accuracy: 0.6812894183601962 \n",
      " Precision: 0.6364657410350126 \n",
      " Recall: 0.6419321069098298 \n",
      " F1 score: 0.6388879421884763\n",
      "best accuracy = 0.6812894183601962, with 3 features, with MRMR\n"
     ]
    },
    {
     "name": "stderr",
     "output_type": "stream",
     "text": [
      "\r",
      " 33%|███▎      | 4/12 [00:36<01:11,  8.98s/it]"
     ]
    },
    {
     "name": "stdout",
     "output_type": "stream",
     "text": [
      "Index(['temperature', 'dayOfTheWeek', 'hour', 'holiday'], dtype='object')\n",
      "For 4 features: \n",
      " Accuracy: 0.7054736842105264 \n",
      " Precision: 0.6650403463843507 \n",
      " Recall: 0.6715553584046106 \n",
      " F1 score: 0.6679209315335166\n",
      "best accuracy = 0.7054736842105264, with 4 features, with MRMR\n"
     ]
    },
    {
     "name": "stderr",
     "output_type": "stream",
     "text": [
      "\r",
      " 42%|████▏     | 5/12 [00:45<01:01,  8.85s/it]"
     ]
    },
    {
     "name": "stdout",
     "output_type": "stream",
     "text": [
      "Index(['temperature', 'dayOfTheWeek', 'hour', 'holiday', 'humidity'], dtype='object')\n",
      "For 5 features: \n",
      " Accuracy: 0.8337549777465448 \n",
      " Precision: 0.8097664741705943 \n",
      " Recall: 0.8090106858527595 \n",
      " F1 score: 0.8092990654985255\n",
      "best accuracy = 0.8337549777465448, with 5 features, with MRMR\n"
     ]
    },
    {
     "name": "stderr",
     "output_type": "stream",
     "text": [
      "\r",
      " 50%|█████     | 6/12 [00:53<00:52,  8.71s/it]"
     ]
    },
    {
     "name": "stdout",
     "output_type": "stream",
     "text": [
      "Index(['temperature', 'dayOfTheWeek', 'hour', 'holiday', 'humidity', 'day'], dtype='object')\n",
      "For 6 features: \n",
      " Accuracy: 0.8774806474313863 \n",
      " Precision: 0.8573665682527829 \n",
      " Recall: 0.8579653687569234 \n",
      " F1 score: 0.8576039943409796\n",
      "best accuracy = 0.8774806474313863, with 6 features, with MRMR\n"
     ]
    },
    {
     "name": "stderr",
     "output_type": "stream",
     "text": [
      "\r",
      " 58%|█████▊    | 7/12 [01:01<00:42,  8.54s/it]"
     ]
    },
    {
     "name": "stdout",
     "output_type": "stream",
     "text": [
      "Index(['temperature', 'dayOfTheWeek', 'hour', 'holiday', 'humidity', 'day',\n",
      "       'year'],\n",
      "      dtype='object')\n",
      "For 7 features: \n",
      " Accuracy: 0.8776368334507869 \n",
      " Precision: 0.8577469530477729 \n",
      " Recall: 0.8586185650832814 \n",
      " F1 score: 0.8581156325396513\n",
      "best accuracy = 0.8776368334507869, with 7 features, with MRMR\n"
     ]
    },
    {
     "name": "stderr",
     "output_type": "stream",
     "text": [
      "\r",
      " 67%|██████▋   | 8/12 [01:09<00:33,  8.39s/it]"
     ]
    },
    {
     "name": "stdout",
     "output_type": "stream",
     "text": [
      "Index(['temperature', 'dayOfTheWeek', 'hour', 'holiday', 'humidity', 'day',\n",
      "       'year', 'month'],\n",
      "      dtype='object')\n",
      "For 8 features: \n",
      " Accuracy: 0.8783109856504352 \n",
      " Precision: 0.859032094037999 \n",
      " Recall: 0.8599949664420954 \n",
      " F1 score: 0.8594486382782273\n",
      "best accuracy = 0.8783109856504352, with 8 features, with MRMR\n"
     ]
    },
    {
     "name": "stderr",
     "output_type": "stream",
     "text": [
      "\r",
      " 75%|███████▌  | 9/12 [01:18<00:25,  8.52s/it]"
     ]
    },
    {
     "name": "stdout",
     "output_type": "stream",
     "text": [
      "Index(['temperature', 'dayOfTheWeek', 'hour', 'holiday', 'humidity', 'day',\n",
      "       'year', 'month', 'pressure'],\n",
      "      dtype='object')\n",
      "For 9 features: \n",
      " Accuracy: 0.8812014134275619 \n",
      " Precision: 0.862765116133125 \n",
      " Recall: 0.8633766100791621 \n",
      " F1 score: 0.8629970031988867\n",
      "best accuracy = 0.8812014134275619, with 9 features, with MRMR\n"
     ]
    },
    {
     "name": "stderr",
     "output_type": "stream",
     "text": [
      "\r",
      " 83%|████████▎ | 10/12 [01:27<00:17,  8.63s/it]"
     ]
    },
    {
     "name": "stdout",
     "output_type": "stream",
     "text": [
      "Index(['temperature', 'dayOfTheWeek', 'hour', 'holiday', 'humidity', 'day',\n",
      "       'year', 'month', 'pressure', 'minute'],\n",
      "      dtype='object')\n",
      "For 10 features: \n",
      " Accuracy: 0.8796296296296297 \n",
      " Precision: 0.860147647323601 \n",
      " Recall: 0.8612152685646522 \n",
      " F1 score: 0.8606419096240109\n",
      "best accuracy = 0.8812014134275619, with 9 features, with MRMR\n"
     ]
    },
    {
     "name": "stderr",
     "output_type": "stream",
     "text": [
      "\r",
      " 92%|█████████▏| 11/12 [01:37<00:09,  9.12s/it]"
     ]
    },
    {
     "name": "stdout",
     "output_type": "stream",
     "text": [
      "Index(['temperature', 'dayOfTheWeek', 'hour', 'holiday', 'humidity', 'day',\n",
      "       'year', 'month', 'pressure', 'minute', 'report'],\n",
      "      dtype='object')\n",
      "For 11 features: \n",
      " Accuracy: 0.8809118828254193 \n",
      " Precision: 0.8626148548618935 \n",
      " Recall: 0.8618620810710773 \n",
      " F1 score: 0.8621503710615337\n",
      "best accuracy = 0.8812014134275619, with 9 features, with MRMR\n"
     ]
    },
    {
     "name": "stderr",
     "output_type": "stream",
     "text": [
      "100%|██████████| 12/12 [01:47<00:00,  8.94s/it]"
     ]
    },
    {
     "name": "stdout",
     "output_type": "stream",
     "text": [
      "Index(['temperature', 'dayOfTheWeek', 'hour', 'holiday', 'humidity', 'day',\n",
      "       'year', 'month', 'pressure', 'minute', 'report'],\n",
      "      dtype='object')\n",
      "For 12 features: \n",
      " Accuracy: 0.8807546723444524 \n",
      " Precision: 0.8626961521262452 \n",
      " Recall: 0.861842549531403 \n",
      " F1 score: 0.8621867216836552\n",
      "best accuracy = 0.8812014134275619, with 9 features, with MRMR\n",
      "best accuracy = 0.8812014134275619, with 9 features, with MRMR\n",
      "\n",
      " \n",
      "\n"
     ]
    },
    {
     "name": "stderr",
     "output_type": "stream",
     "text": [
      "\n"
     ]
    }
   ],
   "source": [
    "analizeDF(hp2,orderOE,13,n_loops=20)"
   ]
  }
 ],
 "metadata": {
  "kernelspec": {
   "display_name": "Python 3 (ipykernel)",
   "language": "python",
   "name": "python3"
  },
  "language_info": {
   "codemirror_mode": {
    "name": "ipython",
    "version": 3
   },
   "file_extension": ".py",
   "mimetype": "text/x-python",
   "name": "python",
   "nbconvert_exporter": "python",
   "pygments_lexer": "ipython3",
   "version": "3.8.8"
  }
 },
 "nbformat": 4,
 "nbformat_minor": 5
}
