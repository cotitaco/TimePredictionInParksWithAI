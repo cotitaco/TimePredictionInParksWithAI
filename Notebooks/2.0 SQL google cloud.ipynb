{
 "cells": [
  {
   "cell_type": "code",
   "execution_count": null,
   "id": "0c35f06f",
   "metadata": {},
   "outputs": [],
   "source": [
    "import numpy as np"
   ]
  },
  {
   "cell_type": "code",
   "execution_count": null,
   "id": "97c643c7",
   "metadata": {
    "scrolled": true
   },
   "outputs": [],
   "source": [
    "pip install mysql-connector-python"
   ]
  },
  {
   "cell_type": "code",
   "execution_count": null,
   "id": "be282d2c",
   "metadata": {},
   "outputs": [],
   "source": [
    "import mysql.connector\n",
    "from mysql.connector.constants import ClientFlag"
   ]
  },
  {
   "cell_type": "code",
   "execution_count": null,
   "id": "351c178e",
   "metadata": {},
   "outputs": [],
   "source": [
    "config = {\n",
    "    'user': 'root',\n",
    "    'password': 'disneyuniversal',\n",
    "    'host': '34.130.244.113',\n",
    "    'client_flags': [ClientFlag.SSL],\n",
    "    'ssl_ca': 'server-ca.cer',\n",
    "    'ssl_cert': 'client-cert.cer',\n",
    "    'ssl_key': 'client-key.cer'\n",
    "}\n",
    "\n",
    "# now we establish our connection\n",
    "cnxn = mysql.connector.connect(**config)"
   ]
  },
  {
   "cell_type": "code",
   "execution_count": null,
   "id": "1385bc2e",
   "metadata": {},
   "outputs": [],
   "source": [
    "cursor = cnxn.cursor()  # initialize connection cursor\n",
    "cursor.execute('CREATE DATABASE testdb')  # create a new 'testdb' database\n",
    "cnxn.close()  # close connection because we will be reconnecting to testdb"
   ]
  },
  {
   "cell_type": "code",
   "execution_count": null,
   "id": "3485be6a",
   "metadata": {},
   "outputs": [],
   "source": [
    "config['database'] = 'testdb'  # add new database to config dict\n",
    "cnxn = mysql.connector.connect(**config)\n",
    "cursor = cnxn.cursor()"
   ]
  },
  {
   "cell_type": "markdown",
   "id": "227b916c",
   "metadata": {},
   "source": [
    "Let's create a table from out HP information"
   ]
  },
  {
   "cell_type": "code",
   "execution_count": 1,
   "id": "d060be21",
   "metadata": {},
   "outputs": [],
   "source": [
    "import pandas as pd"
   ]
  },
  {
   "cell_type": "code",
   "execution_count": 2,
   "id": "ffe3da2f",
   "metadata": {},
   "outputs": [],
   "source": [
    "hp = pd.read_csv('HP_OHE_3class.csv')\n",
    "hp = hp.drop('Unnamed: 0',axis=1)"
   ]
  },
  {
   "cell_type": "code",
   "execution_count": 3,
   "id": "38bb2b50",
   "metadata": {},
   "outputs": [],
   "source": [
    "hp.columns=['month', 'day', 'year', 'hour', 'minute', 'holiday', 'dayOfTheWeek',\n",
    "       'Pandemic', 'temperature', 'humidity', 'pressure',\n",
    "       'heavy_intensity_rain', 'light_rain', 'broken_clouds', 'moderate_rain',\n",
    "       'mist', 'overcast_clouds', 'clear_sky', 'scattered_clouds',\n",
    "       'thunderstorm_with_rain', 'few_clouds', 'thunderstorm', 'shower_rain',\n",
    "       'very_heavy_rain', 'fog', 'haze', 'thunderstorm_with_light_rain',\n",
    "       'light_intensity_drizzle', 'HP_Forbidden_clean']"
   ]
  },
  {
   "cell_type": "code",
   "execution_count": null,
   "id": "3a97d96f",
   "metadata": {},
   "outputs": [],
   "source": [
    "cursor.execute(\"CREATE TABLE forbiden_journey_test5 (\"\n",
    "               \"month FLOAT(30,30),\"\n",
    "               \"day FLOAT(30,30),\"\n",
    "               \"year FLOAT(30,30),\"\n",
    "               \"hour FLOAT(30,30),\"\n",
    "               \"minute FLOAT(30,30),\"\n",
    "               \"holiday FLOAT(30,30),\"\n",
    "               \"dayOfTheWeek FLOAT(30,30),\"\n",
    "               \"Pandemic FLOAT(30,30),\"\n",
    "               \"temperature FLOAT(30,30),\"\n",
    "               \"humidity FLOAT(30,30),\"\n",
    "               \"pressure FLOAT(30,30),\"\n",
    "               \"heavy_intensity_rain FLOAT(30,30),\"\n",
    "               \"light_rain FLOAT(30,30),\"\n",
    "               \"broken_clouds FLOAT(30,30),\"\n",
    "               \"moderate_rain FLOAT(30,30),\"\n",
    "               \"mist FLOAT(30,30),\"\n",
    "               \"overcast_clouds FLOAT(30,30),\"\n",
    "               \"clear_sky FLOAT(30,30),\"\n",
    "               \"scattered_clouds FLOAT(30,30),\"\n",
    "               \"thunderstorm_with_rain FLOAT(30,30),\"\n",
    "               \"few_clouds FLOAT(30,30),\"\n",
    "               \"thunderstorm FLOAT(30,30),\"\n",
    "               \"shower_rain FLOAT(30,30),\"\n",
    "               \"very_heavy_rain FLOAT(30,30),\"\n",
    "               \"fog FLOAT(30,30),\"\n",
    "               \"haze FLOAT(30,30),\"\n",
    "               \"thunderstorm_with_light_rain FLOAT(30,30),\"\n",
    "               \"light_intensity_drizzle FLOAT(30,30),\"\n",
    "               \"HP_Forbidden_clean FLOAT(30,30) )\")\n",
    "\n",
    "cnxn.commit()  # this commits changes to the database"
   ]
  },
  {
   "cell_type": "code",
   "execution_count": null,
   "id": "c102bbee",
   "metadata": {},
   "outputs": [],
   "source": [
    "# first we setup our query\n",
    "query = (\"INSERT INTO forbiden_journey_test5 (month, day,year, hour, minute, holiday, dayOfTheWeek, Pandemic, temperature, humidity, pressure,heavy_intensity_rain,light_rain,broken_clouds,moderate_rain,mist,overcast_clouds,clear_sky,scattered_clouds,thunderstorm_with_rain,few_clouds,thunderstorm,shower_rain,very_heavy_rain,fog,haze,thunderstorm_with_light_rain,light_intensity_drizzle,HP_Forbidden_clean) \"\n",
    "         \"VALUES (%s, %s, %s, %s, %s, %s, %s, %s, %s, %s, %s, %s, %s, %s, %s, %s, %s, %s, %s, %s, %s, %s, %s, %s, %s, %s, %s,$s,$s)\")\n",
    "\n"
   ]
  },
  {
   "cell_type": "code",
   "execution_count": null,
   "id": "a073fe7e",
   "metadata": {},
   "outputs": [],
   "source": [
    "# then we execute with every row in our dataframe\n",
    "cursor.executemany(query, list(hp.to_records(index=False)))\n",
    "cnxn.commit()  # and commit changes"
   ]
  },
  {
   "cell_type": "code",
   "execution_count": null,
   "id": "36f50287",
   "metadata": {},
   "outputs": [],
   "source": [
    "df = pd.read_csv('Space_Corrected.csv')"
   ]
  },
  {
   "cell_type": "code",
   "execution_count": null,
   "id": "85e71434",
   "metadata": {},
   "outputs": [],
   "source": [
    "cursor.execute(\"CREATE TABLE space_missions (\"\n",
    "               \"company_name VARCHAR(255),\"\n",
    "               \"location VARCHAR(255),\"\n",
    "               \"datum DATETIME,\"\n",
    "               \"detail VARCHAR(255),\"\n",
    "               \"status_rocket VARCHAR(255),\"\n",
    "               \"rocket FLOAT(6,2),\"\n",
    "               \"status_mission VARCHAR(255) )\")\n",
    "\n",
    "cnxn.commit()  # this commits changes to the database"
   ]
  },
  {
   "cell_type": "code",
   "execution_count": null,
   "id": "ea92a68f",
   "metadata": {},
   "outputs": [],
   "source": [
    "df = df.drop('Unnamed: 0',axis=1)\n",
    "df = df.drop('Unnamed: 0.1',axis=1)\n",
    "df"
   ]
  },
  {
   "cell_type": "code",
   "execution_count": null,
   "id": "ff27fc3c",
   "metadata": {},
   "outputs": [],
   "source": [
    "# first we setup our query\n",
    "query = (\"INSERT INTO space_missions (company_name, location, datum, detail, status_rocket, rocket, status_mission) \"\n",
    "         \"VALUES (%s, %s, %s, %s, %s, %s, %s)\")\n",
    "\n",
    "# then we execute with every row in our dataframe\n",
    "cursor.executemany(query, list(df.to_records(index=False)))\n",
    "cnxn.commit()  # and commit changes"
   ]
  },
  {
   "cell_type": "code",
   "execution_count": null,
   "id": "9a8a2bfd",
   "metadata": {},
   "outputs": [],
   "source": [
    "pip install pandas-gbq"
   ]
  },
  {
   "cell_type": "code",
   "execution_count": 4,
   "id": "af40429e",
   "metadata": {},
   "outputs": [
    {
     "name": "stderr",
     "output_type": "stream",
     "text": [
      "100%|██████████| 1/1 [00:00<00:00, 2832.08it/s]\n"
     ]
    }
   ],
   "source": [
    "from pandas.io import gbq\n",
    "hp.to_gbq(destination_table='Dataset_for_testing.waiting_times',\n",
    "         project_id='proyecto-ocr-293616',\n",
    "         if_exists='replace')"
   ]
  },
  {
   "cell_type": "markdown",
   "id": "007f8a67",
   "metadata": {},
   "source": [
    "Query the table"
   ]
  },
  {
   "cell_type": "code",
   "execution_count": null,
   "id": "9b482afa",
   "metadata": {},
   "outputs": [],
   "source": [
    "pip install --upgrade 'google-cloud-bigquery[bqstorage,pandas]'"
   ]
  },
  {
   "cell_type": "code",
   "execution_count": null,
   "id": "a5eb7e8a",
   "metadata": {},
   "outputs": [],
   "source": [
    "%load_ext google.cloud.bigquery"
   ]
  },
  {
   "cell_type": "code",
   "execution_count": 5,
   "id": "477b078a",
   "metadata": {},
   "outputs": [
    {
     "data": {
      "text/html": [
       "<div>\n",
       "<style scoped>\n",
       "    .dataframe tbody tr th:only-of-type {\n",
       "        vertical-align: middle;\n",
       "    }\n",
       "\n",
       "    .dataframe tbody tr th {\n",
       "        vertical-align: top;\n",
       "    }\n",
       "\n",
       "    .dataframe thead th {\n",
       "        text-align: right;\n",
       "    }\n",
       "</style>\n",
       "<table border=\"1\" class=\"dataframe\">\n",
       "  <thead>\n",
       "    <tr style=\"text-align: right;\">\n",
       "      <th></th>\n",
       "      <th>month</th>\n",
       "      <th>day</th>\n",
       "      <th>year</th>\n",
       "      <th>hour</th>\n",
       "      <th>minute</th>\n",
       "      <th>holiday</th>\n",
       "      <th>dayOfTheWeek</th>\n",
       "      <th>Pandemic</th>\n",
       "      <th>temperature</th>\n",
       "      <th>humidity</th>\n",
       "      <th>...</th>\n",
       "      <th>thunderstorm_with_rain</th>\n",
       "      <th>few_clouds</th>\n",
       "      <th>thunderstorm</th>\n",
       "      <th>shower_rain</th>\n",
       "      <th>very_heavy_rain</th>\n",
       "      <th>fog</th>\n",
       "      <th>haze</th>\n",
       "      <th>thunderstorm_with_light_rain</th>\n",
       "      <th>light_intensity_drizzle</th>\n",
       "      <th>HP_Forbidden_clean</th>\n",
       "    </tr>\n",
       "  </thead>\n",
       "  <tbody>\n",
       "    <tr>\n",
       "      <th>0</th>\n",
       "      <td>0.636364</td>\n",
       "      <td>0.966667</td>\n",
       "      <td>0.0</td>\n",
       "      <td>0.608696</td>\n",
       "      <td>0.4</td>\n",
       "      <td>0.0</td>\n",
       "      <td>0.0</td>\n",
       "      <td>0.0</td>\n",
       "      <td>0.721791</td>\n",
       "      <td>0.740741</td>\n",
       "      <td>...</td>\n",
       "      <td>0.0</td>\n",
       "      <td>0.0</td>\n",
       "      <td>0.0</td>\n",
       "      <td>0.0</td>\n",
       "      <td>0.0</td>\n",
       "      <td>0.0</td>\n",
       "      <td>0.0</td>\n",
       "      <td>0.0</td>\n",
       "      <td>0.0</td>\n",
       "      <td>2.0</td>\n",
       "    </tr>\n",
       "    <tr>\n",
       "      <th>1</th>\n",
       "      <td>0.636364</td>\n",
       "      <td>0.966667</td>\n",
       "      <td>0.0</td>\n",
       "      <td>0.608696</td>\n",
       "      <td>0.6</td>\n",
       "      <td>0.0</td>\n",
       "      <td>0.0</td>\n",
       "      <td>0.0</td>\n",
       "      <td>0.721791</td>\n",
       "      <td>0.740741</td>\n",
       "      <td>...</td>\n",
       "      <td>0.0</td>\n",
       "      <td>0.0</td>\n",
       "      <td>0.0</td>\n",
       "      <td>0.0</td>\n",
       "      <td>0.0</td>\n",
       "      <td>0.0</td>\n",
       "      <td>0.0</td>\n",
       "      <td>0.0</td>\n",
       "      <td>0.0</td>\n",
       "      <td>2.0</td>\n",
       "    </tr>\n",
       "    <tr>\n",
       "      <th>2</th>\n",
       "      <td>0.636364</td>\n",
       "      <td>0.966667</td>\n",
       "      <td>0.0</td>\n",
       "      <td>0.608696</td>\n",
       "      <td>0.8</td>\n",
       "      <td>0.0</td>\n",
       "      <td>0.0</td>\n",
       "      <td>0.0</td>\n",
       "      <td>0.711940</td>\n",
       "      <td>0.679012</td>\n",
       "      <td>...</td>\n",
       "      <td>0.0</td>\n",
       "      <td>0.0</td>\n",
       "      <td>0.0</td>\n",
       "      <td>0.0</td>\n",
       "      <td>0.0</td>\n",
       "      <td>0.0</td>\n",
       "      <td>0.0</td>\n",
       "      <td>0.0</td>\n",
       "      <td>0.0</td>\n",
       "      <td>2.0</td>\n",
       "    </tr>\n",
       "    <tr>\n",
       "      <th>3</th>\n",
       "      <td>0.636364</td>\n",
       "      <td>0.966667</td>\n",
       "      <td>0.0</td>\n",
       "      <td>0.608696</td>\n",
       "      <td>1.0</td>\n",
       "      <td>0.0</td>\n",
       "      <td>0.0</td>\n",
       "      <td>0.0</td>\n",
       "      <td>0.723881</td>\n",
       "      <td>0.679012</td>\n",
       "      <td>...</td>\n",
       "      <td>0.0</td>\n",
       "      <td>0.0</td>\n",
       "      <td>0.0</td>\n",
       "      <td>0.0</td>\n",
       "      <td>0.0</td>\n",
       "      <td>0.0</td>\n",
       "      <td>0.0</td>\n",
       "      <td>0.0</td>\n",
       "      <td>0.0</td>\n",
       "      <td>2.0</td>\n",
       "    </tr>\n",
       "    <tr>\n",
       "      <th>4</th>\n",
       "      <td>0.636364</td>\n",
       "      <td>0.966667</td>\n",
       "      <td>0.0</td>\n",
       "      <td>0.652174</td>\n",
       "      <td>0.0</td>\n",
       "      <td>0.0</td>\n",
       "      <td>0.0</td>\n",
       "      <td>0.0</td>\n",
       "      <td>0.724179</td>\n",
       "      <td>0.679012</td>\n",
       "      <td>...</td>\n",
       "      <td>0.0</td>\n",
       "      <td>0.0</td>\n",
       "      <td>0.0</td>\n",
       "      <td>0.0</td>\n",
       "      <td>0.0</td>\n",
       "      <td>0.0</td>\n",
       "      <td>0.0</td>\n",
       "      <td>0.0</td>\n",
       "      <td>0.0</td>\n",
       "      <td>1.0</td>\n",
       "    </tr>\n",
       "  </tbody>\n",
       "</table>\n",
       "<p>5 rows × 29 columns</p>\n",
       "</div>"
      ],
      "text/plain": [
       "      month       day  year      hour  minute  holiday  dayOfTheWeek  \\\n",
       "0  0.636364  0.966667   0.0  0.608696     0.4      0.0           0.0   \n",
       "1  0.636364  0.966667   0.0  0.608696     0.6      0.0           0.0   \n",
       "2  0.636364  0.966667   0.0  0.608696     0.8      0.0           0.0   \n",
       "3  0.636364  0.966667   0.0  0.608696     1.0      0.0           0.0   \n",
       "4  0.636364  0.966667   0.0  0.652174     0.0      0.0           0.0   \n",
       "\n",
       "   Pandemic  temperature  humidity  ...  thunderstorm_with_rain  few_clouds  \\\n",
       "0       0.0     0.721791  0.740741  ...                     0.0         0.0   \n",
       "1       0.0     0.721791  0.740741  ...                     0.0         0.0   \n",
       "2       0.0     0.711940  0.679012  ...                     0.0         0.0   \n",
       "3       0.0     0.723881  0.679012  ...                     0.0         0.0   \n",
       "4       0.0     0.724179  0.679012  ...                     0.0         0.0   \n",
       "\n",
       "   thunderstorm  shower_rain  very_heavy_rain  fog  haze  \\\n",
       "0           0.0          0.0              0.0  0.0   0.0   \n",
       "1           0.0          0.0              0.0  0.0   0.0   \n",
       "2           0.0          0.0              0.0  0.0   0.0   \n",
       "3           0.0          0.0              0.0  0.0   0.0   \n",
       "4           0.0          0.0              0.0  0.0   0.0   \n",
       "\n",
       "   thunderstorm_with_light_rain  light_intensity_drizzle  HP_Forbidden_clean  \n",
       "0                           0.0                      0.0                 2.0  \n",
       "1                           0.0                      0.0                 2.0  \n",
       "2                           0.0                      0.0                 2.0  \n",
       "3                           0.0                      0.0                 2.0  \n",
       "4                           0.0                      0.0                 1.0  \n",
       "\n",
       "[5 rows x 29 columns]"
      ]
     },
     "execution_count": 5,
     "metadata": {},
     "output_type": "execute_result"
    }
   ],
   "source": [
    "import pandas as pd\n",
    "from pandas.io import gbq\n",
    "\n",
    "query=\"\"\"SELECT * FROM `proyecto-ocr-293616.Dataset_for_testing.waiting_times` LIMIT 1000\"\"\"\n",
    "hp_sql = gbq.read_gbq(query,project_id=\"proyecto-ocr-293616\")\n",
    "hp_sql.head()"
   ]
  }
 ],
 "metadata": {
  "kernelspec": {
   "display_name": "Python 3 (ipykernel)",
   "language": "python",
   "name": "python3"
  },
  "language_info": {
   "codemirror_mode": {
    "name": "ipython",
    "version": 3
   },
   "file_extension": ".py",
   "mimetype": "text/x-python",
   "name": "python",
   "nbconvert_exporter": "python",
   "pygments_lexer": "ipython3",
   "version": "3.9.12"
  }
 },
 "nbformat": 4,
 "nbformat_minor": 5
}
