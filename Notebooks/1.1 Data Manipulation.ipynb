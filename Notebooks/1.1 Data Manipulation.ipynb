{
 "cells": [
  {
   "cell_type": "markdown",
   "id": "9a624cfc",
   "metadata": {},
   "source": [
    "# A magical day with Machine Learning"
   ]
  },
  {
   "cell_type": "markdown",
   "id": "db821174",
   "metadata": {},
   "source": [
    "This first notebook will have the purpose of analyzing and manipulating the raw data containing the waiting times of all attractions in disney world (orlando) and universal orlando resorts"
   ]
  },
  {
   "cell_type": "code",
   "execution_count": 1,
   "id": "4848543e",
   "metadata": {},
   "outputs": [],
   "source": [
    "import pandas as pd\n",
    "\n",
    "uni_raw_df = pd.read_excel('Wating Times.xlsx', sheet_name='Universal') #Let's start by analyzing Universal"
   ]
  },
  {
   "cell_type": "code",
   "execution_count": 2,
   "id": "8c782dd4",
   "metadata": {
    "scrolled": true
   },
   "outputs": [
    {
     "data": {
      "text/html": [
       "<div>\n",
       "<style scoped>\n",
       "    .dataframe tbody tr th:only-of-type {\n",
       "        vertical-align: middle;\n",
       "    }\n",
       "\n",
       "    .dataframe tbody tr th {\n",
       "        vertical-align: top;\n",
       "    }\n",
       "\n",
       "    .dataframe thead th {\n",
       "        text-align: right;\n",
       "    }\n",
       "</style>\n",
       "<table border=\"1\" class=\"dataframe\">\n",
       "  <thead>\n",
       "    <tr style=\"text-align: right;\">\n",
       "      <th></th>\n",
       "      <th>Date</th>\n",
       "      <th>hour</th>\n",
       "      <th>day</th>\n",
       "      <th>holiday</th>\n",
       "      <th>Pandemic</th>\n",
       "      <th>temperature</th>\n",
       "      <th>humidity</th>\n",
       "      <th>pressure</th>\n",
       "      <th>report</th>\n",
       "      <th>Dudley Do-Right's Ripsaw Falls</th>\n",
       "      <th>...</th>\n",
       "      <th>Nightingales: Blood Pit</th>\n",
       "      <th>Stranger Things</th>\n",
       "      <th>Universal Monsters</th>\n",
       "      <th>Us</th>\n",
       "      <th>Yeti: Terror of the Yukon</th>\n",
       "      <th>Woody Woodpecker's Nuthouse Co....1</th>\n",
       "      <th>E.T. Adventure.1</th>\n",
       "      <th>TRANSFORMERS: The Ride-3D.1</th>\n",
       "      <th>MEN IN BLACK Alien Attack.1</th>\n",
       "      <th>The Simpsons Ride.1</th>\n",
       "    </tr>\n",
       "  </thead>\n",
       "  <tbody>\n",
       "    <tr>\n",
       "      <th>0</th>\n",
       "      <td>08/30/2020</td>\n",
       "      <td>14:20</td>\n",
       "      <td>0</td>\n",
       "      <td>0</td>\n",
       "      <td>1</td>\n",
       "      <td>26.80</td>\n",
       "      <td>79</td>\n",
       "      <td>1013</td>\n",
       "      <td>heavy intensity rain</td>\n",
       "      <td>10</td>\n",
       "      <td>...</td>\n",
       "      <td>Closed</td>\n",
       "      <td>Closed</td>\n",
       "      <td>Closed</td>\n",
       "      <td>Closed</td>\n",
       "      <td>Closed</td>\n",
       "      <td>45</td>\n",
       "      <td>30</td>\n",
       "      <td>20</td>\n",
       "      <td>40</td>\n",
       "      <td>NaN</td>\n",
       "    </tr>\n",
       "    <tr>\n",
       "      <th>1</th>\n",
       "      <td>08/30/2020</td>\n",
       "      <td>14:30</td>\n",
       "      <td>0</td>\n",
       "      <td>0</td>\n",
       "      <td>1</td>\n",
       "      <td>26.80</td>\n",
       "      <td>79</td>\n",
       "      <td>1013</td>\n",
       "      <td>heavy intensity rain</td>\n",
       "      <td>10</td>\n",
       "      <td>...</td>\n",
       "      <td>Closed</td>\n",
       "      <td>Closed</td>\n",
       "      <td>Closed</td>\n",
       "      <td>Closed</td>\n",
       "      <td>5</td>\n",
       "      <td>45</td>\n",
       "      <td>30</td>\n",
       "      <td>20</td>\n",
       "      <td>40</td>\n",
       "      <td>NaN</td>\n",
       "    </tr>\n",
       "    <tr>\n",
       "      <th>2</th>\n",
       "      <td>08/30/2020</td>\n",
       "      <td>14:40</td>\n",
       "      <td>0</td>\n",
       "      <td>0</td>\n",
       "      <td>1</td>\n",
       "      <td>26.47</td>\n",
       "      <td>74</td>\n",
       "      <td>1013</td>\n",
       "      <td>light rain</td>\n",
       "      <td>10</td>\n",
       "      <td>...</td>\n",
       "      <td>Closed</td>\n",
       "      <td>Closed</td>\n",
       "      <td>Closed</td>\n",
       "      <td>Closed</td>\n",
       "      <td>5</td>\n",
       "      <td>30</td>\n",
       "      <td>30</td>\n",
       "      <td>10</td>\n",
       "      <td>40</td>\n",
       "      <td>NaN</td>\n",
       "    </tr>\n",
       "    <tr>\n",
       "      <th>3</th>\n",
       "      <td>08/30/2020</td>\n",
       "      <td>14:50</td>\n",
       "      <td>0</td>\n",
       "      <td>0</td>\n",
       "      <td>1</td>\n",
       "      <td>26.87</td>\n",
       "      <td>74</td>\n",
       "      <td>1013</td>\n",
       "      <td>broken clouds</td>\n",
       "      <td>10</td>\n",
       "      <td>...</td>\n",
       "      <td>Closed</td>\n",
       "      <td>Closed</td>\n",
       "      <td>Closed</td>\n",
       "      <td>Closed</td>\n",
       "      <td>5</td>\n",
       "      <td>25</td>\n",
       "      <td>30</td>\n",
       "      <td>35</td>\n",
       "      <td>20</td>\n",
       "      <td>NaN</td>\n",
       "    </tr>\n",
       "    <tr>\n",
       "      <th>4</th>\n",
       "      <td>08/30/2020</td>\n",
       "      <td>15:00</td>\n",
       "      <td>0</td>\n",
       "      <td>0</td>\n",
       "      <td>1</td>\n",
       "      <td>26.88</td>\n",
       "      <td>74</td>\n",
       "      <td>1013</td>\n",
       "      <td>broken clouds</td>\n",
       "      <td>10</td>\n",
       "      <td>...</td>\n",
       "      <td>Closed</td>\n",
       "      <td>Closed</td>\n",
       "      <td>Closed</td>\n",
       "      <td>Closed</td>\n",
       "      <td>5</td>\n",
       "      <td>25</td>\n",
       "      <td>30</td>\n",
       "      <td>35</td>\n",
       "      <td>Closed</td>\n",
       "      <td>NaN</td>\n",
       "    </tr>\n",
       "  </tbody>\n",
       "</table>\n",
       "<p>5 rows × 69 columns</p>\n",
       "</div>"
      ],
      "text/plain": [
       "         Date   hour  day  holiday  Pandemic  temperature  humidity  pressure  \\\n",
       "0  08/30/2020  14:20    0        0         1        26.80        79      1013   \n",
       "1  08/30/2020  14:30    0        0         1        26.80        79      1013   \n",
       "2  08/30/2020  14:40    0        0         1        26.47        74      1013   \n",
       "3  08/30/2020  14:50    0        0         1        26.87        74      1013   \n",
       "4  08/30/2020  15:00    0        0         1        26.88        74      1013   \n",
       "\n",
       "                 report Dudley Do-Right's Ripsaw Falls  ...  \\\n",
       "0  heavy intensity rain                             10  ...   \n",
       "1  heavy intensity rain                             10  ...   \n",
       "2            light rain                             10  ...   \n",
       "3         broken clouds                             10  ...   \n",
       "4         broken clouds                             10  ...   \n",
       "\n",
       "  Nightingales: Blood Pit Stranger Things Universal Monsters      Us  \\\n",
       "0                  Closed          Closed             Closed  Closed   \n",
       "1                  Closed          Closed             Closed  Closed   \n",
       "2                  Closed          Closed             Closed  Closed   \n",
       "3                  Closed          Closed             Closed  Closed   \n",
       "4                  Closed          Closed             Closed  Closed   \n",
       "\n",
       "  Yeti: Terror of the Yukon  Woody Woodpecker's Nuthouse Co....1  \\\n",
       "0                    Closed                                   45   \n",
       "1                         5                                   45   \n",
       "2                         5                                   30   \n",
       "3                         5                                   25   \n",
       "4                         5                                   25   \n",
       "\n",
       "  E.T. Adventure.1 TRANSFORMERS: The Ride-3D.1 MEN IN BLACK Alien Attack.1  \\\n",
       "0               30                          20                          40   \n",
       "1               30                          20                          40   \n",
       "2               30                          10                          40   \n",
       "3               30                          35                          20   \n",
       "4               30                          35                      Closed   \n",
       "\n",
       "  The Simpsons Ride.1  \n",
       "0                 NaN  \n",
       "1                 NaN  \n",
       "2                 NaN  \n",
       "3                 NaN  \n",
       "4                 NaN  \n",
       "\n",
       "[5 rows x 69 columns]"
      ]
     },
     "execution_count": 2,
     "metadata": {},
     "output_type": "execute_result"
    }
   ],
   "source": [
    "uni_raw_df.head(5)"
   ]
  },
  {
   "cell_type": "code",
   "execution_count": 3,
   "id": "96d4806d",
   "metadata": {
    "scrolled": true
   },
   "outputs": [
    {
     "data": {
      "text/plain": [
       "Date                                    object\n",
       "hour                                    object\n",
       "day                                      int64\n",
       "holiday                                  int64\n",
       "Pandemic                                 int64\n",
       "                                        ...   \n",
       "Woody Woodpecker's Nuthouse Co....1     object\n",
       "E.T. Adventure.1                        object\n",
       "TRANSFORMERS: The Ride-3D.1             object\n",
       "MEN IN BLACK Alien Attack.1             object\n",
       "The Simpsons Ride.1                    float64\n",
       "Length: 69, dtype: object"
      ]
     },
     "execution_count": 3,
     "metadata": {},
     "output_type": "execute_result"
    }
   ],
   "source": [
    "#pd.set_option('display.max_rows',None)\n",
    "uni_raw_df.dtypes"
   ]
  },
  {
   "cell_type": "code",
   "execution_count": 4,
   "id": "9f5f0d78",
   "metadata": {
    "scrolled": true
   },
   "outputs": [
    {
     "data": {
      "text/plain": [
       "Index(['Date', 'hour', 'day', 'holiday', 'Pandemic', 'temperature', 'humidity',\n",
       "       'pressure', 'report', 'Dudley Do-Right's Ripsaw Falls',\n",
       "       'Hagrid's Magical Creatures Mot...', 'Camp Jurassic',\n",
       "       'Caro-Seuss-elDoctor Doom's Fearfall',\n",
       "       'Dudley Do-Right's Ripsaw Falls.1', 'Flight of the Hippogriff',\n",
       "       'Hagrid's Magical Creatures Mot....1',\n",
       "       'Harry Potter and the Forbidden...',\n",
       "       'Hogwarts Express - Hogsmeade S...', 'If I Ran The Zoo',\n",
       "       'Jurassic Park Discovery Center', 'Jurassic Park River Adventure',\n",
       "       'Me Ship, The Olive', 'One Fish, Two Fish, Red Fish, ...',\n",
       "       'Popeye & Bluto's Bilge-Rat Barges', 'Poseidon's Fury',\n",
       "       'Pteranodon Flyers', 'Skull Island: Reign of Kong',\n",
       "       'Storm Force Accelatron', 'The Amazing Adventures of Spid...',\n",
       "       'The Cat in The Hat', 'The High in the Sky Seuss Trol...',\n",
       "       'The Incredible Hulk Coaster', 'Dudley Do-Right's Ripsaw Falls.2',\n",
       "       'Hagrid's Magical Creatures Mot....2',\n",
       "       'The High in the Sky Seuss Trol....1',\n",
       "       'Popeye & Bluto's Bilge-Rat Barges.1', 'One Fish, Two Fish, Red Fish, ',\n",
       "       'Harry Potter and the Escape fr...', 'Curious George Goes to Town?',\n",
       "       'Despicable Me Minion Mayhem', 'E.T. Adventure',\n",
       "       'Fast & Furious - Supercharged', 'Fievel's Playland',\n",
       "       'Harry Potter and the Escape fr....1',\n",
       "       'Hogwarts Express - King's Cros...', 'Hollywood Rip Ride Rockit',\n",
       "       'Kang & Kodos' Twirl 'n' Hurl', 'MEN IN BLACK Alien Attack',\n",
       "       'Race Through New York Starring...', 'Revenge of the Mummy',\n",
       "       'Shrek 4-D', 'The Simpsons Ride', 'TRANSFORMERS: The Ride-3D',\n",
       "       'Woody Woodpecker's Nuthouse Co...', 'Depths of Fear', 'Ghostbusters',\n",
       "       'Graveyard Games', 'House of 1000 Corpses',\n",
       "       'Killer Klowns From Outer Space', 'Nightingales: Blood Pit',\n",
       "       'Stranger Things', 'Universal Monsters', 'Us',\n",
       "       'Yeti: Terror of the Yukon', 'Woody Woodpecker's Nuthouse Co....1',\n",
       "       'E.T. Adventure.1', 'TRANSFORMERS: The Ride-3D.1',\n",
       "       'MEN IN BLACK Alien Attack.1', 'The Simpsons Ride.1'],\n",
       "      dtype='object')"
      ]
     },
     "execution_count": 4,
     "metadata": {},
     "output_type": "execute_result"
    }
   ],
   "source": [
    "uni_raw_df.columns"
   ]
  },
  {
   "cell_type": "markdown",
   "id": "89c53694",
   "metadata": {},
   "source": [
    "### Fixing the date variable"
   ]
  },
  {
   "cell_type": "code",
   "execution_count": 5,
   "id": "4911778d",
   "metadata": {
    "scrolled": true
   },
   "outputs": [
    {
     "data": {
      "text/plain": [
       "0        08/30/2020\n",
       "1        08/30/2020\n",
       "2        08/30/2020\n",
       "3        08/30/2020\n",
       "4        08/30/2020\n",
       "            ...    \n",
       "18714    06/25/2021\n",
       "18715    06/25/2021\n",
       "18716    06/25/2021\n",
       "18717    06/25/2021\n",
       "18718    06/25/2021\n",
       "Name: Date, Length: 18719, dtype: object"
      ]
     },
     "execution_count": 5,
     "metadata": {},
     "output_type": "execute_result"
    }
   ],
   "source": [
    "uni_raw_df['Date']"
   ]
  },
  {
   "cell_type": "markdown",
   "id": "5c233553",
   "metadata": {},
   "source": [
    "First point we need to solve is this variable contains a string, so let's split the string by \"/\" and then treat each element as an independet integer variable"
   ]
  },
  {
   "cell_type": "code",
   "execution_count": 6,
   "id": "c86e87bf",
   "metadata": {},
   "outputs": [],
   "source": [
    "date = uni_raw_df['Date'].str.split(pat='/',expand=True)"
   ]
  },
  {
   "cell_type": "code",
   "execution_count": 7,
   "id": "d67879f2",
   "metadata": {},
   "outputs": [
    {
     "name": "stdout",
     "output_type": "stream",
     "text": [
      "        0   1     2\n",
      "0      08  30  2020\n",
      "1      08  30  2020\n",
      "2      08  30  2020\n",
      "3      08  30  2020\n",
      "4      08  30  2020\n",
      "...    ..  ..   ...\n",
      "18714  06  25  2021\n",
      "18715  06  25  2021\n",
      "18716  06  25  2021\n",
      "18717  06  25  2021\n",
      "18718  06  25  2021\n",
      "\n",
      "[18719 rows x 3 columns]\n"
     ]
    }
   ],
   "source": [
    "print(date)"
   ]
  },
  {
   "cell_type": "code",
   "execution_count": 8,
   "id": "41fa1273",
   "metadata": {},
   "outputs": [],
   "source": [
    "date.columns=['month','day','year'] #rename the variables in the new df"
   ]
  },
  {
   "cell_type": "code",
   "execution_count": 9,
   "id": "0bc5d9b4",
   "metadata": {},
   "outputs": [
    {
     "data": {
      "text/html": [
       "<div>\n",
       "<style scoped>\n",
       "    .dataframe tbody tr th:only-of-type {\n",
       "        vertical-align: middle;\n",
       "    }\n",
       "\n",
       "    .dataframe tbody tr th {\n",
       "        vertical-align: top;\n",
       "    }\n",
       "\n",
       "    .dataframe thead th {\n",
       "        text-align: right;\n",
       "    }\n",
       "</style>\n",
       "<table border=\"1\" class=\"dataframe\">\n",
       "  <thead>\n",
       "    <tr style=\"text-align: right;\">\n",
       "      <th></th>\n",
       "      <th>month</th>\n",
       "      <th>day</th>\n",
       "      <th>year</th>\n",
       "    </tr>\n",
       "  </thead>\n",
       "  <tbody>\n",
       "    <tr>\n",
       "      <th>0</th>\n",
       "      <td>08</td>\n",
       "      <td>30</td>\n",
       "      <td>2020</td>\n",
       "    </tr>\n",
       "    <tr>\n",
       "      <th>1</th>\n",
       "      <td>08</td>\n",
       "      <td>30</td>\n",
       "      <td>2020</td>\n",
       "    </tr>\n",
       "    <tr>\n",
       "      <th>2</th>\n",
       "      <td>08</td>\n",
       "      <td>30</td>\n",
       "      <td>2020</td>\n",
       "    </tr>\n",
       "    <tr>\n",
       "      <th>3</th>\n",
       "      <td>08</td>\n",
       "      <td>30</td>\n",
       "      <td>2020</td>\n",
       "    </tr>\n",
       "    <tr>\n",
       "      <th>4</th>\n",
       "      <td>08</td>\n",
       "      <td>30</td>\n",
       "      <td>2020</td>\n",
       "    </tr>\n",
       "    <tr>\n",
       "      <th>...</th>\n",
       "      <td>...</td>\n",
       "      <td>...</td>\n",
       "      <td>...</td>\n",
       "    </tr>\n",
       "    <tr>\n",
       "      <th>18714</th>\n",
       "      <td>06</td>\n",
       "      <td>25</td>\n",
       "      <td>2021</td>\n",
       "    </tr>\n",
       "    <tr>\n",
       "      <th>18715</th>\n",
       "      <td>06</td>\n",
       "      <td>25</td>\n",
       "      <td>2021</td>\n",
       "    </tr>\n",
       "    <tr>\n",
       "      <th>18716</th>\n",
       "      <td>06</td>\n",
       "      <td>25</td>\n",
       "      <td>2021</td>\n",
       "    </tr>\n",
       "    <tr>\n",
       "      <th>18717</th>\n",
       "      <td>06</td>\n",
       "      <td>25</td>\n",
       "      <td>2021</td>\n",
       "    </tr>\n",
       "    <tr>\n",
       "      <th>18718</th>\n",
       "      <td>06</td>\n",
       "      <td>25</td>\n",
       "      <td>2021</td>\n",
       "    </tr>\n",
       "  </tbody>\n",
       "</table>\n",
       "<p>18719 rows × 3 columns</p>\n",
       "</div>"
      ],
      "text/plain": [
       "      month day  year\n",
       "0        08  30  2020\n",
       "1        08  30  2020\n",
       "2        08  30  2020\n",
       "3        08  30  2020\n",
       "4        08  30  2020\n",
       "...     ...  ..   ...\n",
       "18714    06  25  2021\n",
       "18715    06  25  2021\n",
       "18716    06  25  2021\n",
       "18717    06  25  2021\n",
       "18718    06  25  2021\n",
       "\n",
       "[18719 rows x 3 columns]"
      ]
     },
     "execution_count": 9,
     "metadata": {},
     "output_type": "execute_result"
    }
   ],
   "source": [
    "date"
   ]
  },
  {
   "cell_type": "code",
   "execution_count": 10,
   "id": "3b864378",
   "metadata": {},
   "outputs": [
    {
     "data": {
      "text/plain": [
       "0        08\n",
       "1        08\n",
       "2        08\n",
       "3        08\n",
       "4        08\n",
       "         ..\n",
       "18714    06\n",
       "18715    06\n",
       "18716    06\n",
       "18717    06\n",
       "18718    06\n",
       "Name: month, Length: 18719, dtype: object"
      ]
     },
     "execution_count": 10,
     "metadata": {},
     "output_type": "execute_result"
    }
   ],
   "source": [
    "date['month']"
   ]
  },
  {
   "cell_type": "markdown",
   "id": "c896b1fd",
   "metadata": {},
   "source": [
    "They are still a string, let's cast them into an integer"
   ]
  },
  {
   "cell_type": "code",
   "execution_count": 11,
   "id": "e85bf4b6",
   "metadata": {},
   "outputs": [],
   "source": [
    "date=date.astype('int')"
   ]
  },
  {
   "cell_type": "code",
   "execution_count": 12,
   "id": "5cd78e4c",
   "metadata": {
    "scrolled": true
   },
   "outputs": [
    {
     "data": {
      "text/plain": [
       "0        30\n",
       "1        30\n",
       "2        30\n",
       "3        30\n",
       "4        30\n",
       "         ..\n",
       "18714    25\n",
       "18715    25\n",
       "18716    25\n",
       "18717    25\n",
       "18718    25\n",
       "Name: day, Length: 18719, dtype: int64"
      ]
     },
     "execution_count": 12,
     "metadata": {},
     "output_type": "execute_result"
    }
   ],
   "source": [
    "date['day']"
   ]
  },
  {
   "cell_type": "markdown",
   "id": "8718d770",
   "metadata": {},
   "source": [
    "### The first variable is ready let's move into the second variable 'hour'"
   ]
  },
  {
   "cell_type": "code",
   "execution_count": 13,
   "id": "d7ea404b",
   "metadata": {},
   "outputs": [
    {
     "data": {
      "text/plain": [
       "0        14:20\n",
       "1        14:30\n",
       "2        14:40\n",
       "3        14:50\n",
       "4        15:00\n",
       "         ...  \n",
       "18714    22:10\n",
       "18715    22:20\n",
       "18716    22:30\n",
       "18717    22:40\n",
       "18718    22:50\n",
       "Name: hour, Length: 18719, dtype: object"
      ]
     },
     "execution_count": 13,
     "metadata": {},
     "output_type": "execute_result"
    }
   ],
   "source": [
    "uni_raw_df['hour']"
   ]
  },
  {
   "cell_type": "markdown",
   "id": "6c34eef8",
   "metadata": {},
   "source": [
    "This variable is still a string, let's split it and then cast it into an integer"
   ]
  },
  {
   "cell_type": "code",
   "execution_count": 14,
   "id": "94c9f84f",
   "metadata": {},
   "outputs": [
    {
     "data": {
      "text/html": [
       "<div>\n",
       "<style scoped>\n",
       "    .dataframe tbody tr th:only-of-type {\n",
       "        vertical-align: middle;\n",
       "    }\n",
       "\n",
       "    .dataframe tbody tr th {\n",
       "        vertical-align: top;\n",
       "    }\n",
       "\n",
       "    .dataframe thead th {\n",
       "        text-align: right;\n",
       "    }\n",
       "</style>\n",
       "<table border=\"1\" class=\"dataframe\">\n",
       "  <thead>\n",
       "    <tr style=\"text-align: right;\">\n",
       "      <th></th>\n",
       "      <th>0</th>\n",
       "      <th>1</th>\n",
       "    </tr>\n",
       "  </thead>\n",
       "  <tbody>\n",
       "    <tr>\n",
       "      <th>0</th>\n",
       "      <td>14</td>\n",
       "      <td>20</td>\n",
       "    </tr>\n",
       "    <tr>\n",
       "      <th>1</th>\n",
       "      <td>14</td>\n",
       "      <td>30</td>\n",
       "    </tr>\n",
       "    <tr>\n",
       "      <th>2</th>\n",
       "      <td>14</td>\n",
       "      <td>40</td>\n",
       "    </tr>\n",
       "    <tr>\n",
       "      <th>3</th>\n",
       "      <td>14</td>\n",
       "      <td>50</td>\n",
       "    </tr>\n",
       "    <tr>\n",
       "      <th>4</th>\n",
       "      <td>15</td>\n",
       "      <td>00</td>\n",
       "    </tr>\n",
       "    <tr>\n",
       "      <th>...</th>\n",
       "      <td>...</td>\n",
       "      <td>...</td>\n",
       "    </tr>\n",
       "    <tr>\n",
       "      <th>18714</th>\n",
       "      <td>22</td>\n",
       "      <td>10</td>\n",
       "    </tr>\n",
       "    <tr>\n",
       "      <th>18715</th>\n",
       "      <td>22</td>\n",
       "      <td>20</td>\n",
       "    </tr>\n",
       "    <tr>\n",
       "      <th>18716</th>\n",
       "      <td>22</td>\n",
       "      <td>30</td>\n",
       "    </tr>\n",
       "    <tr>\n",
       "      <th>18717</th>\n",
       "      <td>22</td>\n",
       "      <td>40</td>\n",
       "    </tr>\n",
       "    <tr>\n",
       "      <th>18718</th>\n",
       "      <td>22</td>\n",
       "      <td>50</td>\n",
       "    </tr>\n",
       "  </tbody>\n",
       "</table>\n",
       "<p>18719 rows × 2 columns</p>\n",
       "</div>"
      ],
      "text/plain": [
       "        0   1\n",
       "0      14  20\n",
       "1      14  30\n",
       "2      14  40\n",
       "3      14  50\n",
       "4      15  00\n",
       "...    ..  ..\n",
       "18714  22  10\n",
       "18715  22  20\n",
       "18716  22  30\n",
       "18717  22  40\n",
       "18718  22  50\n",
       "\n",
       "[18719 rows x 2 columns]"
      ]
     },
     "execution_count": 14,
     "metadata": {},
     "output_type": "execute_result"
    }
   ],
   "source": [
    "hour=uni_raw_df['hour'].str.split(pat=':',expand=True)\n",
    "hour"
   ]
  },
  {
   "cell_type": "code",
   "execution_count": 15,
   "id": "650ec965",
   "metadata": {},
   "outputs": [],
   "source": [
    "hour.columns=['hour','minute']"
   ]
  },
  {
   "cell_type": "code",
   "execution_count": 16,
   "id": "70fdf0cb",
   "metadata": {},
   "outputs": [
    {
     "data": {
      "text/plain": [
       "hour      object\n",
       "minute    object\n",
       "dtype: object"
      ]
     },
     "execution_count": 16,
     "metadata": {},
     "output_type": "execute_result"
    }
   ],
   "source": [
    "hour.dtypes"
   ]
  },
  {
   "cell_type": "code",
   "execution_count": 17,
   "id": "c0d90f60",
   "metadata": {},
   "outputs": [],
   "source": [
    "hour = hour.astype('int')"
   ]
  },
  {
   "cell_type": "code",
   "execution_count": 18,
   "id": "d572b256",
   "metadata": {
    "scrolled": true
   },
   "outputs": [
    {
     "data": {
      "text/plain": [
       "hour      int64\n",
       "minute    int64\n",
       "dtype: object"
      ]
     },
     "execution_count": 18,
     "metadata": {},
     "output_type": "execute_result"
    }
   ],
   "source": [
    "hour.dtypes"
   ]
  },
  {
   "cell_type": "markdown",
   "id": "a2cc9c36",
   "metadata": {},
   "source": [
    "### Next we need to work in the report variable, as it is a categorical variable that needs to be treated independently"
   ]
  },
  {
   "cell_type": "code",
   "execution_count": 19,
   "id": "b1b046ea",
   "metadata": {
    "scrolled": true
   },
   "outputs": [
    {
     "data": {
      "text/plain": [
       "0        heavy intensity rain\n",
       "1        heavy intensity rain\n",
       "2                  light rain\n",
       "3               broken clouds\n",
       "4               broken clouds\n",
       "                 ...         \n",
       "18714               clear sky\n",
       "18715               clear sky\n",
       "18716               clear sky\n",
       "18717               clear sky\n",
       "18718               clear sky\n",
       "Name: report, Length: 18719, dtype: object"
      ]
     },
     "execution_count": 19,
     "metadata": {},
     "output_type": "execute_result"
    }
   ],
   "source": [
    "repo=uni_raw_df['report']\n",
    "repo"
   ]
  },
  {
   "cell_type": "code",
   "execution_count": 20,
   "id": "99724830",
   "metadata": {},
   "outputs": [
    {
     "data": {
      "text/plain": [
       "array(['heavy intensity rain', 'light rain', 'broken clouds',\n",
       "       'moderate rain', 'mist', 'overcast clouds', 'clear sky',\n",
       "       'scattered clouds', 'thunderstorm with rain', 'few clouds',\n",
       "       'thunderstorm', 'shower rain', 'very heavy rain', 'fog', 'haze',\n",
       "       'thunderstorm with light rain', 'light intensity drizzle'],\n",
       "      dtype=object)"
      ]
     },
     "execution_count": 20,
     "metadata": {},
     "output_type": "execute_result"
    }
   ],
   "source": [
    "repo.unique()"
   ]
  },
  {
   "cell_type": "markdown",
   "id": "496897b9",
   "metadata": {},
   "source": [
    "As we can see, we have several values that goes from a few clouds to very heavy rain. Here we have two different approaches, we can use one hot encoding and create a boolean variable for every value, or assign a numerical value to each option (this one can be dangerous because with this we will say that for example light rain is bigger than broken clouds)"
   ]
  },
  {
   "cell_type": "markdown",
   "id": "456569aa",
   "metadata": {},
   "source": [
    "#### Let's try first using one hot encoding"
   ]
  },
  {
   "cell_type": "code",
   "execution_count": 21,
   "id": "3394505e",
   "metadata": {},
   "outputs": [],
   "source": [
    "from sklearn.preprocessing import OneHotEncoder\n",
    "\n",
    "oHe = OneHotEncoder(handle_unknown='ignore')"
   ]
  },
  {
   "cell_type": "code",
   "execution_count": 22,
   "id": "e4c10739",
   "metadata": {},
   "outputs": [],
   "source": [
    "oHe_report = pd.DataFrame(oHe.fit_transform(uni_raw_df[['report']]).toarray())"
   ]
  },
  {
   "cell_type": "code",
   "execution_count": 23,
   "id": "ea449e47",
   "metadata": {},
   "outputs": [],
   "source": [
    "oHe_report.columns=['heavy intensity rain', 'light rain', 'broken clouds',\n",
    "       'moderate rain', 'mist', 'overcast clouds', 'clear sky',\n",
    "       'scattered clouds', 'thunderstorm with rain', 'few clouds',\n",
    "       'thunderstorm', 'shower rain', 'very heavy rain', 'fog', 'haze',\n",
    "       'thunderstorm with light rain', 'light intensity drizzle']"
   ]
  },
  {
   "cell_type": "code",
   "execution_count": 24,
   "id": "266b7f4e",
   "metadata": {},
   "outputs": [
    {
     "data": {
      "text/html": [
       "<div>\n",
       "<style scoped>\n",
       "    .dataframe tbody tr th:only-of-type {\n",
       "        vertical-align: middle;\n",
       "    }\n",
       "\n",
       "    .dataframe tbody tr th {\n",
       "        vertical-align: top;\n",
       "    }\n",
       "\n",
       "    .dataframe thead th {\n",
       "        text-align: right;\n",
       "    }\n",
       "</style>\n",
       "<table border=\"1\" class=\"dataframe\">\n",
       "  <thead>\n",
       "    <tr style=\"text-align: right;\">\n",
       "      <th></th>\n",
       "      <th>heavy intensity rain</th>\n",
       "      <th>light rain</th>\n",
       "      <th>broken clouds</th>\n",
       "      <th>moderate rain</th>\n",
       "      <th>mist</th>\n",
       "      <th>overcast clouds</th>\n",
       "      <th>clear sky</th>\n",
       "      <th>scattered clouds</th>\n",
       "      <th>thunderstorm with rain</th>\n",
       "      <th>few clouds</th>\n",
       "      <th>thunderstorm</th>\n",
       "      <th>shower rain</th>\n",
       "      <th>very heavy rain</th>\n",
       "      <th>fog</th>\n",
       "      <th>haze</th>\n",
       "      <th>thunderstorm with light rain</th>\n",
       "      <th>light intensity drizzle</th>\n",
       "    </tr>\n",
       "  </thead>\n",
       "  <tbody>\n",
       "    <tr>\n",
       "      <th>0</th>\n",
       "      <td>0</td>\n",
       "      <td>0</td>\n",
       "      <td>0</td>\n",
       "      <td>0</td>\n",
       "      <td>0</td>\n",
       "      <td>1</td>\n",
       "      <td>0</td>\n",
       "      <td>0</td>\n",
       "      <td>0</td>\n",
       "      <td>0</td>\n",
       "      <td>0</td>\n",
       "      <td>0</td>\n",
       "      <td>0</td>\n",
       "      <td>0</td>\n",
       "      <td>0</td>\n",
       "      <td>0</td>\n",
       "      <td>0</td>\n",
       "    </tr>\n",
       "    <tr>\n",
       "      <th>1</th>\n",
       "      <td>0</td>\n",
       "      <td>0</td>\n",
       "      <td>0</td>\n",
       "      <td>0</td>\n",
       "      <td>0</td>\n",
       "      <td>1</td>\n",
       "      <td>0</td>\n",
       "      <td>0</td>\n",
       "      <td>0</td>\n",
       "      <td>0</td>\n",
       "      <td>0</td>\n",
       "      <td>0</td>\n",
       "      <td>0</td>\n",
       "      <td>0</td>\n",
       "      <td>0</td>\n",
       "      <td>0</td>\n",
       "      <td>0</td>\n",
       "    </tr>\n",
       "    <tr>\n",
       "      <th>2</th>\n",
       "      <td>0</td>\n",
       "      <td>0</td>\n",
       "      <td>0</td>\n",
       "      <td>0</td>\n",
       "      <td>0</td>\n",
       "      <td>0</td>\n",
       "      <td>0</td>\n",
       "      <td>1</td>\n",
       "      <td>0</td>\n",
       "      <td>0</td>\n",
       "      <td>0</td>\n",
       "      <td>0</td>\n",
       "      <td>0</td>\n",
       "      <td>0</td>\n",
       "      <td>0</td>\n",
       "      <td>0</td>\n",
       "      <td>0</td>\n",
       "    </tr>\n",
       "    <tr>\n",
       "      <th>3</th>\n",
       "      <td>1</td>\n",
       "      <td>0</td>\n",
       "      <td>0</td>\n",
       "      <td>0</td>\n",
       "      <td>0</td>\n",
       "      <td>0</td>\n",
       "      <td>0</td>\n",
       "      <td>0</td>\n",
       "      <td>0</td>\n",
       "      <td>0</td>\n",
       "      <td>0</td>\n",
       "      <td>0</td>\n",
       "      <td>0</td>\n",
       "      <td>0</td>\n",
       "      <td>0</td>\n",
       "      <td>0</td>\n",
       "      <td>0</td>\n",
       "    </tr>\n",
       "    <tr>\n",
       "      <th>4</th>\n",
       "      <td>1</td>\n",
       "      <td>0</td>\n",
       "      <td>0</td>\n",
       "      <td>0</td>\n",
       "      <td>0</td>\n",
       "      <td>0</td>\n",
       "      <td>0</td>\n",
       "      <td>0</td>\n",
       "      <td>0</td>\n",
       "      <td>0</td>\n",
       "      <td>0</td>\n",
       "      <td>0</td>\n",
       "      <td>0</td>\n",
       "      <td>0</td>\n",
       "      <td>0</td>\n",
       "      <td>0</td>\n",
       "      <td>0</td>\n",
       "    </tr>\n",
       "    <tr>\n",
       "      <th>...</th>\n",
       "      <td>...</td>\n",
       "      <td>...</td>\n",
       "      <td>...</td>\n",
       "      <td>...</td>\n",
       "      <td>...</td>\n",
       "      <td>...</td>\n",
       "      <td>...</td>\n",
       "      <td>...</td>\n",
       "      <td>...</td>\n",
       "      <td>...</td>\n",
       "      <td>...</td>\n",
       "      <td>...</td>\n",
       "      <td>...</td>\n",
       "      <td>...</td>\n",
       "      <td>...</td>\n",
       "      <td>...</td>\n",
       "      <td>...</td>\n",
       "    </tr>\n",
       "    <tr>\n",
       "      <th>18714</th>\n",
       "      <td>0</td>\n",
       "      <td>1</td>\n",
       "      <td>0</td>\n",
       "      <td>0</td>\n",
       "      <td>0</td>\n",
       "      <td>0</td>\n",
       "      <td>0</td>\n",
       "      <td>0</td>\n",
       "      <td>0</td>\n",
       "      <td>0</td>\n",
       "      <td>0</td>\n",
       "      <td>0</td>\n",
       "      <td>0</td>\n",
       "      <td>0</td>\n",
       "      <td>0</td>\n",
       "      <td>0</td>\n",
       "      <td>0</td>\n",
       "    </tr>\n",
       "    <tr>\n",
       "      <th>18715</th>\n",
       "      <td>0</td>\n",
       "      <td>1</td>\n",
       "      <td>0</td>\n",
       "      <td>0</td>\n",
       "      <td>0</td>\n",
       "      <td>0</td>\n",
       "      <td>0</td>\n",
       "      <td>0</td>\n",
       "      <td>0</td>\n",
       "      <td>0</td>\n",
       "      <td>0</td>\n",
       "      <td>0</td>\n",
       "      <td>0</td>\n",
       "      <td>0</td>\n",
       "      <td>0</td>\n",
       "      <td>0</td>\n",
       "      <td>0</td>\n",
       "    </tr>\n",
       "    <tr>\n",
       "      <th>18716</th>\n",
       "      <td>0</td>\n",
       "      <td>1</td>\n",
       "      <td>0</td>\n",
       "      <td>0</td>\n",
       "      <td>0</td>\n",
       "      <td>0</td>\n",
       "      <td>0</td>\n",
       "      <td>0</td>\n",
       "      <td>0</td>\n",
       "      <td>0</td>\n",
       "      <td>0</td>\n",
       "      <td>0</td>\n",
       "      <td>0</td>\n",
       "      <td>0</td>\n",
       "      <td>0</td>\n",
       "      <td>0</td>\n",
       "      <td>0</td>\n",
       "    </tr>\n",
       "    <tr>\n",
       "      <th>18717</th>\n",
       "      <td>0</td>\n",
       "      <td>1</td>\n",
       "      <td>0</td>\n",
       "      <td>0</td>\n",
       "      <td>0</td>\n",
       "      <td>0</td>\n",
       "      <td>0</td>\n",
       "      <td>0</td>\n",
       "      <td>0</td>\n",
       "      <td>0</td>\n",
       "      <td>0</td>\n",
       "      <td>0</td>\n",
       "      <td>0</td>\n",
       "      <td>0</td>\n",
       "      <td>0</td>\n",
       "      <td>0</td>\n",
       "      <td>0</td>\n",
       "    </tr>\n",
       "    <tr>\n",
       "      <th>18718</th>\n",
       "      <td>0</td>\n",
       "      <td>1</td>\n",
       "      <td>0</td>\n",
       "      <td>0</td>\n",
       "      <td>0</td>\n",
       "      <td>0</td>\n",
       "      <td>0</td>\n",
       "      <td>0</td>\n",
       "      <td>0</td>\n",
       "      <td>0</td>\n",
       "      <td>0</td>\n",
       "      <td>0</td>\n",
       "      <td>0</td>\n",
       "      <td>0</td>\n",
       "      <td>0</td>\n",
       "      <td>0</td>\n",
       "      <td>0</td>\n",
       "    </tr>\n",
       "  </tbody>\n",
       "</table>\n",
       "<p>18719 rows × 17 columns</p>\n",
       "</div>"
      ],
      "text/plain": [
       "       heavy intensity rain  light rain  broken clouds  moderate rain  mist  \\\n",
       "0                         0           0              0              0     0   \n",
       "1                         0           0              0              0     0   \n",
       "2                         0           0              0              0     0   \n",
       "3                         1           0              0              0     0   \n",
       "4                         1           0              0              0     0   \n",
       "...                     ...         ...            ...            ...   ...   \n",
       "18714                     0           1              0              0     0   \n",
       "18715                     0           1              0              0     0   \n",
       "18716                     0           1              0              0     0   \n",
       "18717                     0           1              0              0     0   \n",
       "18718                     0           1              0              0     0   \n",
       "\n",
       "       overcast clouds  clear sky  scattered clouds  thunderstorm with rain  \\\n",
       "0                    1          0                 0                       0   \n",
       "1                    1          0                 0                       0   \n",
       "2                    0          0                 1                       0   \n",
       "3                    0          0                 0                       0   \n",
       "4                    0          0                 0                       0   \n",
       "...                ...        ...               ...                     ...   \n",
       "18714                0          0                 0                       0   \n",
       "18715                0          0                 0                       0   \n",
       "18716                0          0                 0                       0   \n",
       "18717                0          0                 0                       0   \n",
       "18718                0          0                 0                       0   \n",
       "\n",
       "       few clouds  thunderstorm  shower rain  very heavy rain  fog  haze  \\\n",
       "0               0             0            0                0    0     0   \n",
       "1               0             0            0                0    0     0   \n",
       "2               0             0            0                0    0     0   \n",
       "3               0             0            0                0    0     0   \n",
       "4               0             0            0                0    0     0   \n",
       "...           ...           ...          ...              ...  ...   ...   \n",
       "18714           0             0            0                0    0     0   \n",
       "18715           0             0            0                0    0     0   \n",
       "18716           0             0            0                0    0     0   \n",
       "18717           0             0            0                0    0     0   \n",
       "18718           0             0            0                0    0     0   \n",
       "\n",
       "       thunderstorm with light rain  light intensity drizzle  \n",
       "0                                 0                        0  \n",
       "1                                 0                        0  \n",
       "2                                 0                        0  \n",
       "3                                 0                        0  \n",
       "4                                 0                        0  \n",
       "...                             ...                      ...  \n",
       "18714                             0                        0  \n",
       "18715                             0                        0  \n",
       "18716                             0                        0  \n",
       "18717                             0                        0  \n",
       "18718                             0                        0  \n",
       "\n",
       "[18719 rows x 17 columns]"
      ]
     },
     "execution_count": 24,
     "metadata": {},
     "output_type": "execute_result"
    }
   ],
   "source": [
    "oHe_report.astype('int')"
   ]
  },
  {
   "cell_type": "markdown",
   "id": "d66d5a19",
   "metadata": {},
   "source": [
    "### Ordinal Encoding"
   ]
  },
  {
   "cell_type": "markdown",
   "id": "9b2291f4",
   "metadata": {},
   "source": [
    "Before we move on, let's try another type of encoding, called Ordinal Encoder"
   ]
  },
  {
   "cell_type": "code",
   "execution_count": 25,
   "id": "d9766e7f",
   "metadata": {},
   "outputs": [],
   "source": [
    "from sklearn.preprocessing import OrdinalEncoder\n",
    "\n",
    "ord_enco = OrdinalEncoder()\n",
    "oE_report = ord_enco.fit_transform(uni_raw_df[['report']])"
   ]
  },
  {
   "cell_type": "code",
   "execution_count": 26,
   "id": "824524ed",
   "metadata": {},
   "outputs": [],
   "source": [
    "oE_report_df = pd.DataFrame(oE_report).astype('int')\n",
    "oE_report_df.columns=['report']"
   ]
  },
  {
   "cell_type": "code",
   "execution_count": 27,
   "id": "7db368d1",
   "metadata": {},
   "outputs": [
    {
     "data": {
      "text/html": [
       "<div>\n",
       "<style scoped>\n",
       "    .dataframe tbody tr th:only-of-type {\n",
       "        vertical-align: middle;\n",
       "    }\n",
       "\n",
       "    .dataframe tbody tr th {\n",
       "        vertical-align: top;\n",
       "    }\n",
       "\n",
       "    .dataframe thead th {\n",
       "        text-align: right;\n",
       "    }\n",
       "</style>\n",
       "<table border=\"1\" class=\"dataframe\">\n",
       "  <thead>\n",
       "    <tr style=\"text-align: right;\">\n",
       "      <th></th>\n",
       "      <th>report</th>\n",
       "    </tr>\n",
       "  </thead>\n",
       "  <tbody>\n",
       "    <tr>\n",
       "      <th>0</th>\n",
       "      <td>5</td>\n",
       "    </tr>\n",
       "    <tr>\n",
       "      <th>1</th>\n",
       "      <td>5</td>\n",
       "    </tr>\n",
       "    <tr>\n",
       "      <th>2</th>\n",
       "      <td>7</td>\n",
       "    </tr>\n",
       "    <tr>\n",
       "      <th>3</th>\n",
       "      <td>0</td>\n",
       "    </tr>\n",
       "    <tr>\n",
       "      <th>4</th>\n",
       "      <td>0</td>\n",
       "    </tr>\n",
       "  </tbody>\n",
       "</table>\n",
       "</div>"
      ],
      "text/plain": [
       "   report\n",
       "0       5\n",
       "1       5\n",
       "2       7\n",
       "3       0\n",
       "4       0"
      ]
     },
     "execution_count": 27,
     "metadata": {},
     "output_type": "execute_result"
    }
   ],
   "source": [
    "oE_report_df.head(5)"
   ]
  },
  {
   "cell_type": "code",
   "execution_count": 28,
   "id": "d5d126d0",
   "metadata": {},
   "outputs": [
    {
     "data": {
      "text/plain": [
       "0    heavy intensity rain\n",
       "1    heavy intensity rain\n",
       "2              light rain\n",
       "3           broken clouds\n",
       "4           broken clouds\n",
       "Name: report, dtype: object"
      ]
     },
     "execution_count": 28,
     "metadata": {},
     "output_type": "execute_result"
    }
   ],
   "source": [
    "uni_raw_df.report.head(5)"
   ]
  },
  {
   "cell_type": "markdown",
   "id": "f1d7ee15",
   "metadata": {},
   "source": [
    "Now what seems to be the problem with this type of encoding? Well as you can see, heavy rain is a 5 and light rain is a 0. This might confuse our algorithm. Let's do this encoding manually and choose ourselves the encoding values or our data."
   ]
  },
  {
   "cell_type": "markdown",
   "id": "773d0bee",
   "metadata": {},
   "source": [
    "### Manual Encoding"
   ]
  },
  {
   "cell_type": "code",
   "execution_count": 29,
   "id": "f2edbce9",
   "metadata": {},
   "outputs": [],
   "source": [
    "man_enc = pd.DataFrame(uni_raw_df['report'].replace({    'clear sky':1,\n",
    "                                            'few clouds':2,\n",
    "                                            'scattered clouds':3,\n",
    "                                            'fog':4,\n",
    "                                            'mist':5,\n",
    "                                            'overcast clouds':6,\n",
    "                                            'broken clouds':7,\n",
    "                                            'light rain':8,\n",
    "                                            'moderate rain':9,\n",
    "                                            'shower rain':10,\n",
    "                                            'heavy intensity rain':11,\n",
    "                                            'very heavy rain':12,\n",
    "                                            'light intensity drizzle':13,\n",
    "                                            'haze':14,\n",
    "                                            'thunderstorm':15,\n",
    "                                            'thunderstorm with light rain':16,\n",
    "                                            'thunderstorm with rain':17}))"
   ]
  },
  {
   "cell_type": "code",
   "execution_count": 30,
   "id": "e3f368b8",
   "metadata": {},
   "outputs": [
    {
     "data": {
      "text/html": [
       "<div>\n",
       "<style scoped>\n",
       "    .dataframe tbody tr th:only-of-type {\n",
       "        vertical-align: middle;\n",
       "    }\n",
       "\n",
       "    .dataframe tbody tr th {\n",
       "        vertical-align: top;\n",
       "    }\n",
       "\n",
       "    .dataframe thead th {\n",
       "        text-align: right;\n",
       "    }\n",
       "</style>\n",
       "<table border=\"1\" class=\"dataframe\">\n",
       "  <thead>\n",
       "    <tr style=\"text-align: right;\">\n",
       "      <th></th>\n",
       "      <th>report</th>\n",
       "    </tr>\n",
       "  </thead>\n",
       "  <tbody>\n",
       "    <tr>\n",
       "      <th>0</th>\n",
       "      <td>11</td>\n",
       "    </tr>\n",
       "    <tr>\n",
       "      <th>1</th>\n",
       "      <td>11</td>\n",
       "    </tr>\n",
       "    <tr>\n",
       "      <th>2</th>\n",
       "      <td>8</td>\n",
       "    </tr>\n",
       "    <tr>\n",
       "      <th>3</th>\n",
       "      <td>7</td>\n",
       "    </tr>\n",
       "    <tr>\n",
       "      <th>4</th>\n",
       "      <td>7</td>\n",
       "    </tr>\n",
       "    <tr>\n",
       "      <th>...</th>\n",
       "      <td>...</td>\n",
       "    </tr>\n",
       "    <tr>\n",
       "      <th>18714</th>\n",
       "      <td>1</td>\n",
       "    </tr>\n",
       "    <tr>\n",
       "      <th>18715</th>\n",
       "      <td>1</td>\n",
       "    </tr>\n",
       "    <tr>\n",
       "      <th>18716</th>\n",
       "      <td>1</td>\n",
       "    </tr>\n",
       "    <tr>\n",
       "      <th>18717</th>\n",
       "      <td>1</td>\n",
       "    </tr>\n",
       "    <tr>\n",
       "      <th>18718</th>\n",
       "      <td>1</td>\n",
       "    </tr>\n",
       "  </tbody>\n",
       "</table>\n",
       "<p>18719 rows × 1 columns</p>\n",
       "</div>"
      ],
      "text/plain": [
       "       report\n",
       "0          11\n",
       "1          11\n",
       "2           8\n",
       "3           7\n",
       "4           7\n",
       "...       ...\n",
       "18714       1\n",
       "18715       1\n",
       "18716       1\n",
       "18717       1\n",
       "18718       1\n",
       "\n",
       "[18719 rows x 1 columns]"
      ]
     },
     "execution_count": 30,
     "metadata": {},
     "output_type": "execute_result"
    }
   ],
   "source": [
    "man_enc"
   ]
  },
  {
   "cell_type": "markdown",
   "id": "2d380992",
   "metadata": {},
   "source": [
    "### No missing values in the first variables"
   ]
  },
  {
   "cell_type": "markdown",
   "id": "fc54b976",
   "metadata": {},
   "source": [
    "technically the API and the code for these variables do not register NaN or empty values but let's make sure this is correct"
   ]
  },
  {
   "cell_type": "code",
   "execution_count": 31,
   "id": "089af4b8",
   "metadata": {},
   "outputs": [
    {
     "name": "stdout",
     "output_type": "stream",
     "text": [
      "[ 8  9 10 11 12  1  2  3  4  5  6]\n",
      "[30 31  1  2  3  4  5  6  7  8  9 10 11 12 13 14 15 16 17 18 19 20 21 22\n",
      " 23 24 25 26 27 28 29]\n",
      "[2020 2021]\n",
      "[14 15 16 17 18 19  7  8  9 10 11 12 13 20 21 22 23  0  1  2  3  4  5  6]\n",
      "[20 30 40 50  0 10]\n",
      "[0 1]\n",
      "[0 1 2 3 4 5 6]\n",
      "[1]\n",
      "[26.8  26.47 26.87 ... 34.05 33.11 33.22]\n",
      "[ 79  74  88  83  78  70  94  62  55  52  59  66  49  44  41  89  47  56\n",
      "  58  69  63  61  60  54  64  57  53  85  87  81 100  95  96  90  77  76\n",
      "  75  51  48  45  65  43  73  46  35  67  71  80  82  86  38  39  34  32\n",
      "  29  72  50  68  42  36  40  93  30  28  26  37  33  31  27  25  23  21\n",
      "  24  20  19  91  84  92]\n",
      "[1013 1015 1016 1017 1018 1019 1020 1014 1012 1011 1010 1021 1022 1023\n",
      " 1024 1025 1026 1009 1008 1027 1028 1029 1030 1031 1032 1033]\n"
     ]
    }
   ],
   "source": [
    "print(date.month.unique())\n",
    "print(date.day.unique())\n",
    "print(date.year.unique())\n",
    "print(hour.hour.unique())\n",
    "print(hour.minute.unique())\n",
    "print(uni_raw_df.holiday.unique())\n",
    "print(uni_raw_df.day.unique())\n",
    "print(uni_raw_df.Pandemic.unique())\n",
    "print(uni_raw_df.temperature.unique())\n",
    "print(uni_raw_df.humidity.unique())\n",
    "print(uni_raw_df.pressure.unique())\n"
   ]
  },
  {
   "cell_type": "markdown",
   "id": "8d78e0bb",
   "metadata": {},
   "source": [
    "As appreciated, these variables are clean and do not contain empty values ot NaN"
   ]
  },
  {
   "cell_type": "markdown",
   "id": "32ccf334",
   "metadata": {},
   "source": [
    "### Data preparation for first attraction"
   ]
  },
  {
   "cell_type": "markdown",
   "id": "bdd7b958",
   "metadata": {},
   "source": [
    "If I were to go to orlando, the first attraction I will ride is going to be the Harry Potter ones, so i will start by cleaning and preparing the data from \"Harry Potter and the Forbidden Journey\""
   ]
  },
  {
   "cell_type": "code",
   "execution_count": 32,
   "id": "92435655",
   "metadata": {},
   "outputs": [
    {
     "data": {
      "text/plain": [
       "array([40, 20, 15, 'Closed', 10, 30, 25, 35, 60, 5, 45, 70, 80, 75, 90,\n",
       "       100, 120, 95, 110, 50, 105, 150, 55, 65, 85, 11, 115, 145, 135,\n",
       "       125, 130, 180, 0, nan], dtype=object)"
      ]
     },
     "execution_count": 32,
     "metadata": {},
     "output_type": "execute_result"
    }
   ],
   "source": [
    "uni_raw_df['Harry Potter and the Forbidden...'].unique()"
   ]
  },
  {
   "cell_type": "markdown",
   "id": "1d92d847",
   "metadata": {},
   "source": [
    "eventhough Universal data is cleaner than Disney's it still contain strings and Nan. to handle this, I will delete all rows that contain nan and assign to Closed a big number to try to make a corelation."
   ]
  },
  {
   "cell_type": "code",
   "execution_count": 33,
   "id": "13f64544",
   "metadata": {},
   "outputs": [],
   "source": [
    "rideHP1=pd.DataFrame(uni_raw_df['Harry Potter and the Forbidden...'].replace({'Closed':200}))"
   ]
  },
  {
   "cell_type": "code",
   "execution_count": 34,
   "id": "1f768a5e",
   "metadata": {},
   "outputs": [
    {
     "data": {
      "text/html": [
       "<div>\n",
       "<style scoped>\n",
       "    .dataframe tbody tr th:only-of-type {\n",
       "        vertical-align: middle;\n",
       "    }\n",
       "\n",
       "    .dataframe tbody tr th {\n",
       "        vertical-align: top;\n",
       "    }\n",
       "\n",
       "    .dataframe thead th {\n",
       "        text-align: right;\n",
       "    }\n",
       "</style>\n",
       "<table border=\"1\" class=\"dataframe\">\n",
       "  <thead>\n",
       "    <tr style=\"text-align: right;\">\n",
       "      <th></th>\n",
       "      <th>Harry Potter and the Forbidden...</th>\n",
       "    </tr>\n",
       "  </thead>\n",
       "  <tbody>\n",
       "    <tr>\n",
       "      <th>18699</th>\n",
       "      <td>25.0</td>\n",
       "    </tr>\n",
       "    <tr>\n",
       "      <th>18700</th>\n",
       "      <td>10.0</td>\n",
       "    </tr>\n",
       "    <tr>\n",
       "      <th>18701</th>\n",
       "      <td>10.0</td>\n",
       "    </tr>\n",
       "    <tr>\n",
       "      <th>18702</th>\n",
       "      <td>NaN</td>\n",
       "    </tr>\n",
       "    <tr>\n",
       "      <th>18703</th>\n",
       "      <td>NaN</td>\n",
       "    </tr>\n",
       "    <tr>\n",
       "      <th>18704</th>\n",
       "      <td>NaN</td>\n",
       "    </tr>\n",
       "    <tr>\n",
       "      <th>18705</th>\n",
       "      <td>NaN</td>\n",
       "    </tr>\n",
       "    <tr>\n",
       "      <th>18706</th>\n",
       "      <td>NaN</td>\n",
       "    </tr>\n",
       "    <tr>\n",
       "      <th>18707</th>\n",
       "      <td>NaN</td>\n",
       "    </tr>\n",
       "    <tr>\n",
       "      <th>18708</th>\n",
       "      <td>NaN</td>\n",
       "    </tr>\n",
       "    <tr>\n",
       "      <th>18709</th>\n",
       "      <td>NaN</td>\n",
       "    </tr>\n",
       "    <tr>\n",
       "      <th>18710</th>\n",
       "      <td>NaN</td>\n",
       "    </tr>\n",
       "    <tr>\n",
       "      <th>18711</th>\n",
       "      <td>NaN</td>\n",
       "    </tr>\n",
       "    <tr>\n",
       "      <th>18712</th>\n",
       "      <td>NaN</td>\n",
       "    </tr>\n",
       "    <tr>\n",
       "      <th>18713</th>\n",
       "      <td>NaN</td>\n",
       "    </tr>\n",
       "    <tr>\n",
       "      <th>18714</th>\n",
       "      <td>NaN</td>\n",
       "    </tr>\n",
       "    <tr>\n",
       "      <th>18715</th>\n",
       "      <td>NaN</td>\n",
       "    </tr>\n",
       "    <tr>\n",
       "      <th>18716</th>\n",
       "      <td>NaN</td>\n",
       "    </tr>\n",
       "    <tr>\n",
       "      <th>18717</th>\n",
       "      <td>NaN</td>\n",
       "    </tr>\n",
       "    <tr>\n",
       "      <th>18718</th>\n",
       "      <td>NaN</td>\n",
       "    </tr>\n",
       "  </tbody>\n",
       "</table>\n",
       "</div>"
      ],
      "text/plain": [
       "       Harry Potter and the Forbidden...\n",
       "18699                               25.0\n",
       "18700                               10.0\n",
       "18701                               10.0\n",
       "18702                                NaN\n",
       "18703                                NaN\n",
       "18704                                NaN\n",
       "18705                                NaN\n",
       "18706                                NaN\n",
       "18707                                NaN\n",
       "18708                                NaN\n",
       "18709                                NaN\n",
       "18710                                NaN\n",
       "18711                                NaN\n",
       "18712                                NaN\n",
       "18713                                NaN\n",
       "18714                                NaN\n",
       "18715                                NaN\n",
       "18716                                NaN\n",
       "18717                                NaN\n",
       "18718                                NaN"
      ]
     },
     "execution_count": 34,
     "metadata": {},
     "output_type": "execute_result"
    }
   ],
   "source": [
    "rideHP1.tail(20)"
   ]
  },
  {
   "cell_type": "code",
   "execution_count": 35,
   "id": "86ce908f",
   "metadata": {},
   "outputs": [],
   "source": [
    "rideHP1.drop(rideHP1.tail(17).index,inplace=True) "
   ]
  },
  {
   "cell_type": "code",
   "execution_count": 36,
   "id": "b8be5541",
   "metadata": {},
   "outputs": [
    {
     "data": {
      "text/html": [
       "<div>\n",
       "<style scoped>\n",
       "    .dataframe tbody tr th:only-of-type {\n",
       "        vertical-align: middle;\n",
       "    }\n",
       "\n",
       "    .dataframe tbody tr th {\n",
       "        vertical-align: top;\n",
       "    }\n",
       "\n",
       "    .dataframe thead th {\n",
       "        text-align: right;\n",
       "    }\n",
       "</style>\n",
       "<table border=\"1\" class=\"dataframe\">\n",
       "  <thead>\n",
       "    <tr style=\"text-align: right;\">\n",
       "      <th></th>\n",
       "      <th>Harry Potter and the Forbidden...</th>\n",
       "    </tr>\n",
       "  </thead>\n",
       "  <tbody>\n",
       "    <tr>\n",
       "      <th>18682</th>\n",
       "      <td>25.0</td>\n",
       "    </tr>\n",
       "    <tr>\n",
       "      <th>18683</th>\n",
       "      <td>25.0</td>\n",
       "    </tr>\n",
       "    <tr>\n",
       "      <th>18684</th>\n",
       "      <td>50.0</td>\n",
       "    </tr>\n",
       "    <tr>\n",
       "      <th>18685</th>\n",
       "      <td>50.0</td>\n",
       "    </tr>\n",
       "    <tr>\n",
       "      <th>18686</th>\n",
       "      <td>35.0</td>\n",
       "    </tr>\n",
       "    <tr>\n",
       "      <th>18687</th>\n",
       "      <td>45.0</td>\n",
       "    </tr>\n",
       "    <tr>\n",
       "      <th>18688</th>\n",
       "      <td>45.0</td>\n",
       "    </tr>\n",
       "    <tr>\n",
       "      <th>18689</th>\n",
       "      <td>60.0</td>\n",
       "    </tr>\n",
       "    <tr>\n",
       "      <th>18690</th>\n",
       "      <td>60.0</td>\n",
       "    </tr>\n",
       "    <tr>\n",
       "      <th>18691</th>\n",
       "      <td>60.0</td>\n",
       "    </tr>\n",
       "    <tr>\n",
       "      <th>18692</th>\n",
       "      <td>35.0</td>\n",
       "    </tr>\n",
       "    <tr>\n",
       "      <th>18693</th>\n",
       "      <td>35.0</td>\n",
       "    </tr>\n",
       "    <tr>\n",
       "      <th>18694</th>\n",
       "      <td>35.0</td>\n",
       "    </tr>\n",
       "    <tr>\n",
       "      <th>18695</th>\n",
       "      <td>45.0</td>\n",
       "    </tr>\n",
       "    <tr>\n",
       "      <th>18696</th>\n",
       "      <td>45.0</td>\n",
       "    </tr>\n",
       "    <tr>\n",
       "      <th>18697</th>\n",
       "      <td>45.0</td>\n",
       "    </tr>\n",
       "    <tr>\n",
       "      <th>18698</th>\n",
       "      <td>45.0</td>\n",
       "    </tr>\n",
       "    <tr>\n",
       "      <th>18699</th>\n",
       "      <td>25.0</td>\n",
       "    </tr>\n",
       "    <tr>\n",
       "      <th>18700</th>\n",
       "      <td>10.0</td>\n",
       "    </tr>\n",
       "    <tr>\n",
       "      <th>18701</th>\n",
       "      <td>10.0</td>\n",
       "    </tr>\n",
       "  </tbody>\n",
       "</table>\n",
       "</div>"
      ],
      "text/plain": [
       "       Harry Potter and the Forbidden...\n",
       "18682                               25.0\n",
       "18683                               25.0\n",
       "18684                               50.0\n",
       "18685                               50.0\n",
       "18686                               35.0\n",
       "18687                               45.0\n",
       "18688                               45.0\n",
       "18689                               60.0\n",
       "18690                               60.0\n",
       "18691                               60.0\n",
       "18692                               35.0\n",
       "18693                               35.0\n",
       "18694                               35.0\n",
       "18695                               45.0\n",
       "18696                               45.0\n",
       "18697                               45.0\n",
       "18698                               45.0\n",
       "18699                               25.0\n",
       "18700                               10.0\n",
       "18701                               10.0"
      ]
     },
     "execution_count": 36,
     "metadata": {},
     "output_type": "execute_result"
    }
   ],
   "source": [
    "rideHP1.tail(20)"
   ]
  },
  {
   "cell_type": "code",
   "execution_count": 37,
   "id": "317ae393",
   "metadata": {},
   "outputs": [],
   "source": [
    "rideHP1.columns=['Harry_Potter_and_the_Forbidden']"
   ]
  },
  {
   "cell_type": "code",
   "execution_count": 38,
   "id": "22c5faf9",
   "metadata": {
    "scrolled": true
   },
   "outputs": [
    {
     "data": {
      "text/plain": [
       "array([[<AxesSubplot:title={'center':'Harry_Potter_and_the_Forbidden'}>]],\n",
       "      dtype=object)"
      ]
     },
     "execution_count": 38,
     "metadata": {},
     "output_type": "execute_result"
    },
    {
     "data": {
      "image/png": "[encoded data removed]",
      "text/plain": [
       "<Figure size 432x288 with 1 Axes>"
      ]
     },
     "metadata": {
      "needs_background": "light"
     },
     "output_type": "display_data"
    }
   ],
   "source": [
    "rideHP1.hist(bins=30)"
   ]
  },
  {
   "cell_type": "markdown",
   "id": "08705248",
   "metadata": {},
   "source": [
    "### Concatenating all our new variables for cleansing"
   ]
  },
  {
   "cell_type": "code",
   "execution_count": 39,
   "id": "9fb3edbf",
   "metadata": {
    "scrolled": true
   },
   "outputs": [
    {
     "data": {
      "text/html": [
       "<div>\n",
       "<style scoped>\n",
       "    .dataframe tbody tr th:only-of-type {\n",
       "        vertical-align: middle;\n",
       "    }\n",
       "\n",
       "    .dataframe tbody tr th {\n",
       "        vertical-align: top;\n",
       "    }\n",
       "\n",
       "    .dataframe thead th {\n",
       "        text-align: right;\n",
       "    }\n",
       "</style>\n",
       "<table border=\"1\" class=\"dataframe\">\n",
       "  <thead>\n",
       "    <tr style=\"text-align: right;\">\n",
       "      <th></th>\n",
       "      <th>month</th>\n",
       "      <th>day</th>\n",
       "      <th>year</th>\n",
       "      <th>hour</th>\n",
       "      <th>minute</th>\n",
       "      <th>holiday</th>\n",
       "      <th>day</th>\n",
       "      <th>Pandemic</th>\n",
       "      <th>temperature</th>\n",
       "      <th>humidity</th>\n",
       "      <th>pressure</th>\n",
       "      <th>report</th>\n",
       "    </tr>\n",
       "  </thead>\n",
       "  <tbody>\n",
       "    <tr>\n",
       "      <th>0</th>\n",
       "      <td>8</td>\n",
       "      <td>30</td>\n",
       "      <td>2020</td>\n",
       "      <td>14</td>\n",
       "      <td>20</td>\n",
       "      <td>0</td>\n",
       "      <td>0</td>\n",
       "      <td>1</td>\n",
       "      <td>26.80</td>\n",
       "      <td>79</td>\n",
       "      <td>1013</td>\n",
       "      <td>11</td>\n",
       "    </tr>\n",
       "    <tr>\n",
       "      <th>1</th>\n",
       "      <td>8</td>\n",
       "      <td>30</td>\n",
       "      <td>2020</td>\n",
       "      <td>14</td>\n",
       "      <td>30</td>\n",
       "      <td>0</td>\n",
       "      <td>0</td>\n",
       "      <td>1</td>\n",
       "      <td>26.80</td>\n",
       "      <td>79</td>\n",
       "      <td>1013</td>\n",
       "      <td>11</td>\n",
       "    </tr>\n",
       "    <tr>\n",
       "      <th>2</th>\n",
       "      <td>8</td>\n",
       "      <td>30</td>\n",
       "      <td>2020</td>\n",
       "      <td>14</td>\n",
       "      <td>40</td>\n",
       "      <td>0</td>\n",
       "      <td>0</td>\n",
       "      <td>1</td>\n",
       "      <td>26.47</td>\n",
       "      <td>74</td>\n",
       "      <td>1013</td>\n",
       "      <td>8</td>\n",
       "    </tr>\n",
       "    <tr>\n",
       "      <th>3</th>\n",
       "      <td>8</td>\n",
       "      <td>30</td>\n",
       "      <td>2020</td>\n",
       "      <td>14</td>\n",
       "      <td>50</td>\n",
       "      <td>0</td>\n",
       "      <td>0</td>\n",
       "      <td>1</td>\n",
       "      <td>26.87</td>\n",
       "      <td>74</td>\n",
       "      <td>1013</td>\n",
       "      <td>7</td>\n",
       "    </tr>\n",
       "    <tr>\n",
       "      <th>4</th>\n",
       "      <td>8</td>\n",
       "      <td>30</td>\n",
       "      <td>2020</td>\n",
       "      <td>15</td>\n",
       "      <td>0</td>\n",
       "      <td>0</td>\n",
       "      <td>0</td>\n",
       "      <td>1</td>\n",
       "      <td>26.88</td>\n",
       "      <td>74</td>\n",
       "      <td>1013</td>\n",
       "      <td>7</td>\n",
       "    </tr>\n",
       "  </tbody>\n",
       "</table>\n",
       "</div>"
      ],
      "text/plain": [
       "   month  day  year  hour  minute  holiday  day  Pandemic  temperature  \\\n",
       "0      8   30  2020    14      20        0    0         1        26.80   \n",
       "1      8   30  2020    14      30        0    0         1        26.80   \n",
       "2      8   30  2020    14      40        0    0         1        26.47   \n",
       "3      8   30  2020    14      50        0    0         1        26.87   \n",
       "4      8   30  2020    15       0        0    0         1        26.88   \n",
       "\n",
       "   humidity  pressure  report  \n",
       "0        79      1013      11  \n",
       "1        79      1013      11  \n",
       "2        74      1013       8  \n",
       "3        74      1013       7  \n",
       "4        74      1013       7  "
      ]
     },
     "execution_count": 39,
     "metadata": {},
     "output_type": "execute_result"
    }
   ],
   "source": [
    "independent_vars = pd.concat([date, hour,uni_raw_df.holiday,uni_raw_df.day,uni_raw_df.Pandemic,\n",
    "                            uni_raw_df.temperature,uni_raw_df.humidity, uni_raw_df.pressure,man_enc],axis=1)\n",
    "independent_vars.head()"
   ]
  },
  {
   "cell_type": "code",
   "execution_count": 40,
   "id": "4078bf93",
   "metadata": {},
   "outputs": [
    {
     "data": {
      "text/plain": [
       "Index(['month', 'day', 'year', 'hour', 'minute', 'holiday', 'day', 'Pandemic',\n",
       "       'temperature', 'humidity', 'pressure', 'report'],\n",
       "      dtype='object')"
      ]
     },
     "execution_count": 40,
     "metadata": {},
     "output_type": "execute_result"
    }
   ],
   "source": [
    "independent_vars.columns"
   ]
  },
  {
   "cell_type": "markdown",
   "id": "d3f17ca6",
   "metadata": {},
   "source": [
    "### Normalizing the data"
   ]
  },
  {
   "cell_type": "code",
   "execution_count": 41,
   "id": "4576dcff",
   "metadata": {},
   "outputs": [],
   "source": [
    "from sklearn.preprocessing import MinMaxScaler\n",
    "\n",
    "scaler = MinMaxScaler()\n",
    "scaler.fit(independent_vars)\n",
    "independent_vars_norm = pd.DataFrame(scaler.fit_transform(independent_vars))"
   ]
  },
  {
   "cell_type": "code",
   "execution_count": 42,
   "id": "593d3487",
   "metadata": {},
   "outputs": [],
   "source": [
    "independent_vars_norm.columns=['month', 'day', 'year', 'hour', 'minute', 'holiday', 'day', 'Pandemic',\n",
    "       'temperature', 'humidity', 'pressure', 'report']"
   ]
  },
  {
   "cell_type": "code",
   "execution_count": 43,
   "id": "720ecca1",
   "metadata": {},
   "outputs": [
    {
     "data": {
      "text/html": [
       "<div>\n",
       "<style scoped>\n",
       "    .dataframe tbody tr th:only-of-type {\n",
       "        vertical-align: middle;\n",
       "    }\n",
       "\n",
       "    .dataframe tbody tr th {\n",
       "        vertical-align: top;\n",
       "    }\n",
       "\n",
       "    .dataframe thead th {\n",
       "        text-align: right;\n",
       "    }\n",
       "</style>\n",
       "<table border=\"1\" class=\"dataframe\">\n",
       "  <thead>\n",
       "    <tr style=\"text-align: right;\">\n",
       "      <th></th>\n",
       "      <th>month</th>\n",
       "      <th>day</th>\n",
       "      <th>year</th>\n",
       "      <th>hour</th>\n",
       "      <th>minute</th>\n",
       "      <th>holiday</th>\n",
       "      <th>day</th>\n",
       "      <th>Pandemic</th>\n",
       "      <th>temperature</th>\n",
       "      <th>humidity</th>\n",
       "      <th>pressure</th>\n",
       "      <th>report</th>\n",
       "    </tr>\n",
       "  </thead>\n",
       "  <tbody>\n",
       "    <tr>\n",
       "      <th>0</th>\n",
       "      <td>0.636364</td>\n",
       "      <td>0.966667</td>\n",
       "      <td>0.0</td>\n",
       "      <td>0.608696</td>\n",
       "      <td>0.4</td>\n",
       "      <td>0.0</td>\n",
       "      <td>0.0</td>\n",
       "      <td>0.0</td>\n",
       "      <td>0.721791</td>\n",
       "      <td>0.740741</td>\n",
       "      <td>0.2</td>\n",
       "      <td>0.6250</td>\n",
       "    </tr>\n",
       "    <tr>\n",
       "      <th>1</th>\n",
       "      <td>0.636364</td>\n",
       "      <td>0.966667</td>\n",
       "      <td>0.0</td>\n",
       "      <td>0.608696</td>\n",
       "      <td>0.6</td>\n",
       "      <td>0.0</td>\n",
       "      <td>0.0</td>\n",
       "      <td>0.0</td>\n",
       "      <td>0.721791</td>\n",
       "      <td>0.740741</td>\n",
       "      <td>0.2</td>\n",
       "      <td>0.6250</td>\n",
       "    </tr>\n",
       "    <tr>\n",
       "      <th>2</th>\n",
       "      <td>0.636364</td>\n",
       "      <td>0.966667</td>\n",
       "      <td>0.0</td>\n",
       "      <td>0.608696</td>\n",
       "      <td>0.8</td>\n",
       "      <td>0.0</td>\n",
       "      <td>0.0</td>\n",
       "      <td>0.0</td>\n",
       "      <td>0.711940</td>\n",
       "      <td>0.679012</td>\n",
       "      <td>0.2</td>\n",
       "      <td>0.4375</td>\n",
       "    </tr>\n",
       "    <tr>\n",
       "      <th>3</th>\n",
       "      <td>0.636364</td>\n",
       "      <td>0.966667</td>\n",
       "      <td>0.0</td>\n",
       "      <td>0.608696</td>\n",
       "      <td>1.0</td>\n",
       "      <td>0.0</td>\n",
       "      <td>0.0</td>\n",
       "      <td>0.0</td>\n",
       "      <td>0.723881</td>\n",
       "      <td>0.679012</td>\n",
       "      <td>0.2</td>\n",
       "      <td>0.3750</td>\n",
       "    </tr>\n",
       "    <tr>\n",
       "      <th>4</th>\n",
       "      <td>0.636364</td>\n",
       "      <td>0.966667</td>\n",
       "      <td>0.0</td>\n",
       "      <td>0.652174</td>\n",
       "      <td>0.0</td>\n",
       "      <td>0.0</td>\n",
       "      <td>0.0</td>\n",
       "      <td>0.0</td>\n",
       "      <td>0.724179</td>\n",
       "      <td>0.679012</td>\n",
       "      <td>0.2</td>\n",
       "      <td>0.3750</td>\n",
       "    </tr>\n",
       "  </tbody>\n",
       "</table>\n",
       "</div>"
      ],
      "text/plain": [
       "      month       day  year      hour  minute  holiday  day  Pandemic  \\\n",
       "0  0.636364  0.966667   0.0  0.608696     0.4      0.0  0.0       0.0   \n",
       "1  0.636364  0.966667   0.0  0.608696     0.6      0.0  0.0       0.0   \n",
       "2  0.636364  0.966667   0.0  0.608696     0.8      0.0  0.0       0.0   \n",
       "3  0.636364  0.966667   0.0  0.608696     1.0      0.0  0.0       0.0   \n",
       "4  0.636364  0.966667   0.0  0.652174     0.0      0.0  0.0       0.0   \n",
       "\n",
       "   temperature  humidity  pressure  report  \n",
       "0     0.721791  0.740741       0.2  0.6250  \n",
       "1     0.721791  0.740741       0.2  0.6250  \n",
       "2     0.711940  0.679012       0.2  0.4375  \n",
       "3     0.723881  0.679012       0.2  0.3750  \n",
       "4     0.724179  0.679012       0.2  0.3750  "
      ]
     },
     "execution_count": 43,
     "metadata": {},
     "output_type": "execute_result"
    }
   ],
   "source": [
    "independent_vars_norm.head()"
   ]
  },
  {
   "cell_type": "code",
   "execution_count": 44,
   "id": "99bd1663",
   "metadata": {},
   "outputs": [
    {
     "data": {
      "text/html": [
       "<div>\n",
       "<style scoped>\n",
       "    .dataframe tbody tr th:only-of-type {\n",
       "        vertical-align: middle;\n",
       "    }\n",
       "\n",
       "    .dataframe tbody tr th {\n",
       "        vertical-align: top;\n",
       "    }\n",
       "\n",
       "    .dataframe thead th {\n",
       "        text-align: right;\n",
       "    }\n",
       "</style>\n",
       "<table border=\"1\" class=\"dataframe\">\n",
       "  <thead>\n",
       "    <tr style=\"text-align: right;\">\n",
       "      <th></th>\n",
       "      <th>month</th>\n",
       "      <th>day</th>\n",
       "      <th>year</th>\n",
       "      <th>hour</th>\n",
       "      <th>minute</th>\n",
       "      <th>holiday</th>\n",
       "      <th>day</th>\n",
       "      <th>Pandemic</th>\n",
       "      <th>temperature</th>\n",
       "      <th>humidity</th>\n",
       "      <th>pressure</th>\n",
       "      <th>report</th>\n",
       "      <th>Harry_Potter_and_the_Forbidden</th>\n",
       "    </tr>\n",
       "  </thead>\n",
       "  <tbody>\n",
       "    <tr>\n",
       "      <th>0</th>\n",
       "      <td>0.636364</td>\n",
       "      <td>0.966667</td>\n",
       "      <td>0.0</td>\n",
       "      <td>0.608696</td>\n",
       "      <td>0.4</td>\n",
       "      <td>0.0</td>\n",
       "      <td>0.0</td>\n",
       "      <td>0.0</td>\n",
       "      <td>0.721791</td>\n",
       "      <td>0.740741</td>\n",
       "      <td>0.2</td>\n",
       "      <td>0.6250</td>\n",
       "      <td>40.0</td>\n",
       "    </tr>\n",
       "    <tr>\n",
       "      <th>1</th>\n",
       "      <td>0.636364</td>\n",
       "      <td>0.966667</td>\n",
       "      <td>0.0</td>\n",
       "      <td>0.608696</td>\n",
       "      <td>0.6</td>\n",
       "      <td>0.0</td>\n",
       "      <td>0.0</td>\n",
       "      <td>0.0</td>\n",
       "      <td>0.721791</td>\n",
       "      <td>0.740741</td>\n",
       "      <td>0.2</td>\n",
       "      <td>0.6250</td>\n",
       "      <td>40.0</td>\n",
       "    </tr>\n",
       "    <tr>\n",
       "      <th>2</th>\n",
       "      <td>0.636364</td>\n",
       "      <td>0.966667</td>\n",
       "      <td>0.0</td>\n",
       "      <td>0.608696</td>\n",
       "      <td>0.8</td>\n",
       "      <td>0.0</td>\n",
       "      <td>0.0</td>\n",
       "      <td>0.0</td>\n",
       "      <td>0.711940</td>\n",
       "      <td>0.679012</td>\n",
       "      <td>0.2</td>\n",
       "      <td>0.4375</td>\n",
       "      <td>40.0</td>\n",
       "    </tr>\n",
       "    <tr>\n",
       "      <th>3</th>\n",
       "      <td>0.636364</td>\n",
       "      <td>0.966667</td>\n",
       "      <td>0.0</td>\n",
       "      <td>0.608696</td>\n",
       "      <td>1.0</td>\n",
       "      <td>0.0</td>\n",
       "      <td>0.0</td>\n",
       "      <td>0.0</td>\n",
       "      <td>0.723881</td>\n",
       "      <td>0.679012</td>\n",
       "      <td>0.2</td>\n",
       "      <td>0.3750</td>\n",
       "      <td>40.0</td>\n",
       "    </tr>\n",
       "    <tr>\n",
       "      <th>4</th>\n",
       "      <td>0.636364</td>\n",
       "      <td>0.966667</td>\n",
       "      <td>0.0</td>\n",
       "      <td>0.652174</td>\n",
       "      <td>0.0</td>\n",
       "      <td>0.0</td>\n",
       "      <td>0.0</td>\n",
       "      <td>0.0</td>\n",
       "      <td>0.724179</td>\n",
       "      <td>0.679012</td>\n",
       "      <td>0.2</td>\n",
       "      <td>0.3750</td>\n",
       "      <td>20.0</td>\n",
       "    </tr>\n",
       "  </tbody>\n",
       "</table>\n",
       "</div>"
      ],
      "text/plain": [
       "      month       day  year      hour  minute  holiday  day  Pandemic  \\\n",
       "0  0.636364  0.966667   0.0  0.608696     0.4      0.0  0.0       0.0   \n",
       "1  0.636364  0.966667   0.0  0.608696     0.6      0.0  0.0       0.0   \n",
       "2  0.636364  0.966667   0.0  0.608696     0.8      0.0  0.0       0.0   \n",
       "3  0.636364  0.966667   0.0  0.608696     1.0      0.0  0.0       0.0   \n",
       "4  0.636364  0.966667   0.0  0.652174     0.0      0.0  0.0       0.0   \n",
       "\n",
       "   temperature  humidity  pressure  report  Harry_Potter_and_the_Forbidden  \n",
       "0     0.721791  0.740741       0.2  0.6250                            40.0  \n",
       "1     0.721791  0.740741       0.2  0.6250                            40.0  \n",
       "2     0.711940  0.679012       0.2  0.4375                            40.0  \n",
       "3     0.723881  0.679012       0.2  0.3750                            40.0  \n",
       "4     0.724179  0.679012       0.2  0.3750                            20.0  "
      ]
     },
     "execution_count": 44,
     "metadata": {},
     "output_type": "execute_result"
    }
   ],
   "source": [
    "hp_df = pd.concat([independent_vars_norm, rideHP1],axis=1)\n",
    "hp_df.head()"
   ]
  },
  {
   "cell_type": "code",
   "execution_count": 45,
   "id": "cb5197be",
   "metadata": {},
   "outputs": [
    {
     "data": {
      "text/plain": [
       "<AxesSubplot:>"
      ]
     },
     "execution_count": 45,
     "metadata": {},
     "output_type": "execute_result"
    },
    {
     "data": {
      "image/png": "[encoded data removed]",
      "text/plain": [
       "<Figure size 432x288 with 1 Axes>"
      ]
     },
     "metadata": {
      "needs_background": "light"
     },
     "output_type": "display_data"
    }
   ],
   "source": [
    "hp_df.Harry_Potter_and_the_Forbidden.hist()"
   ]
  },
  {
   "cell_type": "code",
   "execution_count": 46,
   "id": "3049abbd",
   "metadata": {},
   "outputs": [],
   "source": [
    "hp_clean = hp_df[hp_df.Harry_Potter_and_the_Forbidden != 200]"
   ]
  },
  {
   "cell_type": "code",
   "execution_count": 47,
   "id": "65088515",
   "metadata": {},
   "outputs": [
    {
     "data": {
      "text/plain": [
       "array([ 40.,  20.,  15.,  10.,  30.,  25.,  35.,  60.,   5.,  45.,  70.,\n",
       "        80.,  75.,  90., 100., 120.,  95., 110.,  50., 105., 150.,  55.,\n",
       "        65.,  85.,  11., 115., 145., 135., 125., 130., 180.,   0.,  nan])"
      ]
     },
     "execution_count": 47,
     "metadata": {},
     "output_type": "execute_result"
    }
   ],
   "source": [
    "hp_clean.Harry_Potter_and_the_Forbidden.unique()"
   ]
  },
  {
   "cell_type": "code",
   "execution_count": 48,
   "id": "d01026e4",
   "metadata": {
    "scrolled": true
   },
   "outputs": [
    {
     "data": {
      "text/plain": [
       "<AxesSubplot:>"
      ]
     },
     "execution_count": 48,
     "metadata": {},
     "output_type": "execute_result"
    },
    {
     "data": {
      "image/png": "[encoded data removed]",
      "text/plain": [
       "<Figure size 432x288 with 1 Axes>"
      ]
     },
     "metadata": {
      "needs_background": "light"
     },
     "output_type": "display_data"
    }
   ],
   "source": [
    "hp_clean.Harry_Potter_and_the_Forbidden.hist()"
   ]
  },
  {
   "cell_type": "code",
   "execution_count": 49,
   "id": "27f8b5f3",
   "metadata": {},
   "outputs": [],
   "source": [
    "hp_clean.to_csv('harryPotterClean.csv')"
   ]
  },
  {
   "cell_type": "markdown",
   "id": "b60608d6",
   "metadata": {},
   "source": [
    "### dataframes with different encodings"
   ]
  },
  {
   "cell_type": "code",
   "execution_count": 51,
   "id": "5f806a92",
   "metadata": {},
   "outputs": [],
   "source": [
    "independent_vars2 = pd.concat([date, hour,uni_raw_df.holiday,uni_raw_df.day,uni_raw_df.Pandemic,\n",
    "                            uni_raw_df.temperature,uni_raw_df.humidity, uni_raw_df.pressure,oHe_report],axis=1)\n",
    "independent_vars3 = pd.concat([date, hour,uni_raw_df.holiday,uni_raw_df.day,uni_raw_df.Pandemic,\n",
    "                            uni_raw_df.temperature,uni_raw_df.humidity, uni_raw_df.pressure,oE_report_df],axis=1)"
   ]
  },
  {
   "cell_type": "code",
   "execution_count": 55,
   "id": "11191fc1",
   "metadata": {},
   "outputs": [],
   "source": [
    "scaler.fit(independent_vars2)\n",
    "independent_vars_norm2 = pd.DataFrame(scaler.fit_transform(independent_vars2))\n",
    "independent_vars_norm2.columns=['month', 'day', 'year', 'hour', 'minute', 'holiday', 'day', 'Pandemic',\n",
    "       'temperature', 'humidity', 'pressure', 'heavy intensity rain',\n",
    "       'light rain', 'broken clouds', 'moderate rain', 'mist',\n",
    "       'overcast clouds', 'clear sky', 'scattered clouds',\n",
    "       'thunderstorm with rain', 'few clouds', 'thunderstorm', 'shower rain',\n",
    "       'very heavy rain', 'fog', 'haze', 'thunderstorm with light rain',\n",
    "       'light intensity drizzle']\n",
    "\n",
    "\n",
    "scaler.fit(independent_vars3)\n",
    "independent_vars_norm3 = pd.DataFrame(scaler.fit_transform(independent_vars3))\n",
    "independent_vars_norm3.columns=['month', 'day', 'year', 'hour', 'minute', 'holiday', 'day', 'Pandemic',\n",
    "       'temperature', 'humidity', 'pressure', 'report']"
   ]
  },
  {
   "cell_type": "code",
   "execution_count": 58,
   "id": "cee77148",
   "metadata": {},
   "outputs": [],
   "source": [
    "hp_oHe = pd.concat([independent_vars_norm2, rideHP1],axis=1)\n",
    "hp_oE = pd.concat([independent_vars_norm3, rideHP1],axis=1)"
   ]
  },
  {
   "cell_type": "code",
   "execution_count": 59,
   "id": "1e69d7d6",
   "metadata": {},
   "outputs": [],
   "source": [
    "hp_oHeClean = hp_oHe[hp_oHe.Harry_Potter_and_the_Forbidden != 200]\n",
    "hp_oEClean = hp_oE[hp_oE.Harry_Potter_and_the_Forbidden != 200]"
   ]
  },
  {
   "cell_type": "code",
   "execution_count": 63,
   "id": "6496cde5",
   "metadata": {},
   "outputs": [],
   "source": [
    "hp_oHeClean.to_csv('harryPotterCleanOHE.csv')\n",
    "hp_oEClean.to_csv('harryPotterCleanOE.csv')"
   ]
  }
 ],
 "metadata": {
  "kernelspec": {
   "display_name": "Python 3 (ipykernel)",
   "language": "python",
   "name": "python3"
  },
  "language_info": {
   "codemirror_mode": {
    "name": "ipython",
    "version": 3
   },
   "file_extension": ".py",
   "mimetype": "text/x-python",
   "name": "python",
   "nbconvert_exporter": "python",
   "pygments_lexer": "ipython3",
   "version": "3.8.8"
  }
 },
 "nbformat": 4,
 "nbformat_minor": 5
}
