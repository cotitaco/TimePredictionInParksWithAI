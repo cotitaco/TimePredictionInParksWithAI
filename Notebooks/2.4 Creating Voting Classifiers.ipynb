{
 "cells": [
  {
   "cell_type": "markdown",
   "id": "f007b4b1",
   "metadata": {},
   "source": [
    "# Voting Classifiers"
   ]
  },
  {
   "cell_type": "code",
   "execution_count": 2,
   "id": "aff559c4",
   "metadata": {},
   "outputs": [],
   "source": [
    "import pandas as pd\n",
    "import numpy as np\n",
    "import matplotlib as plt\n",
    "from collections import Counter\n",
    "from sklearn.model_selection import train_test_split\n",
    "from imblearn.over_sampling import SMOTE\n",
    "from sklearn import metrics\n",
    "from sklearn.metrics import classification_report\n",
    "from tqdm import tqdm\n",
    "from statistics import mean\n",
    "import math\n",
    "from statistics import mean\n",
    "import warnings\n",
    "warnings.filterwarnings('ignore')\n",
    "from sklearn.metrics import recall_score, accuracy_score\n",
    "from timeit import default_timer as timer\n",
    "from datetime import timedelta\n",
    "\n",
    "from sklearn.ensemble import RandomForestClassifier \n",
    "from sklearn.ensemble import VotingClassifier\n",
    "from sklearn.linear_model import LogisticRegression \n",
    "from sklearn.svm import SVC"
   ]
  },
  {
   "cell_type": "code",
   "execution_count": 3,
   "id": "7ff928fa",
   "metadata": {},
   "outputs": [],
   "source": [
    "hp_oHe = pd.read_csv('HP_OHE_3class.csv')\n",
    "hp_oHe.drop(hp_oHe.tail(17).index,inplace=True) \n",
    "hp_oHe = hp_oHe.drop('Unnamed: 0',axis=1)\n",
    "\n",
    "hp_ME = pd.read_csv(\"harryPotterClean.csv\")\n",
    "hp_ME.drop(hp_ME.tail(17).index,inplace=True) \n",
    "hp_ME = hp_ME.drop('Unnamed: 0',axis=1)\n",
    "\n",
    "hp_OE = pd.read_csv(\"harryPotterCleanOE.csv\")\n",
    "hp_OE.drop(hp_OE.tail(17).index,inplace=True) \n",
    "hp_OE = hp_OE.drop('Unnamed: 0',axis=1)"
   ]
  },
  {
   "cell_type": "code",
   "execution_count": 4,
   "id": "115f6b28",
   "metadata": {},
   "outputs": [],
   "source": [
    "def getXandY(df):\n",
    "    df.drop(df.tail(20).index,inplace=True) \n",
    "    x = df.drop(['HP_Forbidden_clean'],axis=1)\n",
    "    y = df.HP_Forbidden_clean\n",
    "    return(x,y)\n",
    "\n",
    "def trainTest(x,y):\n",
    "    X_train, X_test, y_train, y_test = train_test_split(x, y, test_size=0.30, shuffle=True)\n",
    "    return(X_train, X_test, y_train, y_test)\n",
    "\n",
    "#Function to perform oversampling\n",
    "def overSampling(X_train, y_train, y_test, method):\n",
    "    X_train_os, y_train_os= method.fit_resample(X_train, y_train)\n",
    "    # Check the number of records after over sampling\n",
    "    #print(sorted(Counter(y_train_os).items())) \n",
    "    return(X_train_os, y_train_os)\n",
    "\n",
    "smote = SMOTE(random_state=42)\n",
    "\n",
    "\n",
    "def testModel(df,var_order,n_vars,n_loops,method):\n",
    "    highest = 0\n",
    "    for j in tqdm(range(1,n_vars)):\n",
    "        #split our dataframe into X and Y\n",
    "        x,y=getXandY(df)\n",
    "        #create the lists to store metrics\n",
    "        acc = []\n",
    "        rec = []\n",
    "        preci = []\n",
    "        f1 = []\n",
    "        for i in range(n_loops):\n",
    "            #split the dataFrame into test and train\n",
    "            X_train, X_test, y_train, y_test = trainTest(x,y)\n",
    "            #Oversample the train dataset with SMOTE\n",
    "            X_train_os, y_train_os=overSampling(X_train, y_train, y_test, smote)\n",
    "            #define the variables order \n",
    "            X_train_os_r = X_train_os[var_order]\n",
    "            X_test_r = X_test[var_order]\n",
    "            df1= X_train_os_r.iloc[:, 0:j] #use only part of the variables\n",
    "            \n",
    "            #create and train decision trees\n",
    "            rnd_clf = RandomForestClassifier(n_jobs=-1)\n",
    "            rnd_clf.fit(df1, y_train_os)\n",
    "        \n",
    "            y_pred=rnd_clf.predict(X_test_r.iloc[:, 0:j])\n",
    "            ac=metrics.accuracy_score(y_test, y_pred)\n",
    "            acc.append(ac)\n",
    "            p=metrics.precision_score(y_test, y_pred,average='macro')\n",
    "            preci.append(p)\n",
    "            r=metrics.recall_score(y_test, y_pred,average='macro')\n",
    "            rec.append(r)\n",
    "            f=metrics.f1_score(y_test, y_pred, average='macro')\n",
    "            f1.append(f)\n",
    "        print(df1.columns)\n",
    "        print(\"For {} features: \\n Accuracy: {} \\n Precision: {} \\n Recall: {} \\n F1 score: {}\".format(\n",
    "        j,mean(acc),mean(preci),mean(rec),mean(f1)))\n",
    "        \n",
    "        if mean(acc)>highest:\n",
    "            highest = mean(acc)\n",
    "            best = \"best accuracy = {}, with {} features, with {}\".format(mean(acc),j,method)\n",
    "        print(best)\n",
    "        #print(classification_report(y_test, y_pred))\n",
    "    print(best)\n",
    "        \n",
    "def analizeDF(df,order,n_vars,n_loops):\n",
    "    for i in range(len(order)):\n",
    "        print('------------------------- Analyzing method {} -------------------------'.format(method[i]))\n",
    "        print('The variable order is: \\n {}'.format(order[i]))\n",
    "        testModel(df,order[i],n_vars,n_loops,method[i])\n",
    "        print('\\n \\n')"
   ]
  },
  {
   "cell_type": "markdown",
   "id": "8542cb47",
   "metadata": {},
   "source": [
    "## Creating the Voting Classifier"
   ]
  },
  {
   "cell_type": "code",
   "execution_count": 32,
   "id": "cc1d2f04",
   "metadata": {},
   "outputs": [],
   "source": [
    "from sklearn.metrics import accuracy_score\n",
    "from sklearn.tree import DecisionTreeClassifier\n",
    "\n",
    "dt_clf = DecisionTreeClassifier()\n",
    "rnd_clf = RandomForestClassifier()\n",
    "svm_clf = SVC(kernel=\"poly\", degree=5, coef0=1, C=50)\n",
    "\n",
    "voting_clf = VotingClassifier(\n",
    "    estimators=[('dt', dt_clf), ('rf', rnd_clf)],\n",
    "    voting='hard')\n",
    "\n",
    "def testVoting(df):\n",
    "    x,y=getXandY(df)\n",
    "    #split the dataFrame into test and train\n",
    "    X_train, X_test, y_train, y_test = trainTest(x,y)\n",
    "    #Oversample the train dataset with SMOTE\n",
    "    X_train_os, y_train_os=overSampling(X_train, y_train, y_test, smote)\n",
    "\n",
    "    voting_clf.fit(X_train_os, y_train_os)\n",
    "    for clf in (dt_clf, rnd_clf, voting_clf):\n",
    "        clf.fit(X_train_os, y_train_os)\n",
    "        y_pred = clf.predict(X_test)\n",
    "        print(clf.__class__.__name__, accuracy_score(y_test, y_pred))"
   ]
  },
  {
   "cell_type": "markdown",
   "id": "780fe1ab",
   "metadata": {},
   "source": [
    "## One hot encoding"
   ]
  },
  {
   "cell_type": "code",
   "execution_count": 14,
   "id": "e768a1d1",
   "metadata": {},
   "outputs": [],
   "source": [
    "#Variable order in one hot encoding:\n",
    "pear_corrO = ['temperature',\t'holiday',\t'day',\t'month',\t'pressure',\t'dayOfTheWeek',\t'shower rain',\t'broken clouds',\t'fog',\t'overcast clouds',\t'heavy intensity rain',\t'minute',\t'haze',\t'thunderstorm with light rain',\t'scattered clouds',\t'clear sky',\t'mist',\t'light intensity drizzle',\t'few clouds',\t'thunderstorm',\t'very heavy rain',\t'moderate rain',\t'thunderstorm with rain',\t'year',\t'light rain',\t'humidity',\t'hour',\t'Pandemic']\n",
    "kend_corrO = ['temperature',\t'holiday',\t'month',\t'day',\t'pressure',\t'dayOfTheWeek',\t'shower rain',\t'broken clouds',\t'heavy intensity rain',\t'fog',\t'year',\t'overcast clouds',\t'minute',\t'haze',\t'thunderstorm with light rain',\t'mist',\t'light intensity drizzle',\t'scattered clouds',\t'clear sky',\t'few clouds',\t'thunderstorm',\t'very heavy rain',\t'moderate rain',\t'thunderstorm with rain',\t'light rain',\t'humidity',\t'hour',\t'Pandemic']\n",
    "mutInf_classO = ['month',\t'day',\t'year',\t'hour',\t'minute',\t'holiday',\t'dayOfTheWeek',\t'Pandemic',\t'temperature',\t'humidity',\t'pressure',\t'heavy intensity rain',\t'light rain',\t'broken clouds',\t'moderate rain',\t'mist',\t'overcast clouds',\t'clear sky',\t'scattered clouds',\t'thunderstorm with rain',\t'few clouds',\t'thunderstorm',\t'shower rain',\t'very heavy rain',\t'fog',\t'haze',\t'thunderstorm with light rain',\t'light intensity drizzle']\n",
    "mutInf_regO = ['month',\t'day',\t'year',\t'hour',\t'minute',\t'holiday',\t'dayOfTheWeek',\t'Pandemic',\t'temperature',\t'humidity',\t'pressure',\t'heavy intensity rain',\t'light rain',\t'broken clouds',\t'moderate rain',\t'mist',\t'overcast clouds',\t'clear sky',\t'scattered clouds',\t'thunderstorm with rain',\t'few clouds',\t'thunderstorm',\t'shower rain',\t'very heavy rain',\t'fog',\t'haze',\t'thunderstorm with light rain',\t'light intensity drizzle']\n",
    "mutInf_class2O = ['day',\t'temperature',\t'month',\t'humidity',\t'hour',\t'pressure','dayOfTheWeek',\t'year',\t'holiday',\t'shower rain',\t'light rain',\t'thunderstorm',\t'fog',\t'broken clouds',\t'Pandemic',\t'thunderstorm with rain',\t'light intensity drizzle',\t'thunderstorm with light rain',\t'heavy intensity rain',\t'mist',\t'scattered clouds',\t'very heavy rain',\t'overcast clouds',\t'moderate rain',\t'minute',\t'haze',\t'few clouds',\t'clear sky']\n",
    "varThreO = ['month',\t'day',\t'year',\t'hour',\t'minute',\t'holiday',\t'dayOfTheWeek',\t'temperature',\t'humidity',\t'pressure',\t'heavy intensity rain',\t'light rain',\t'broken clouds',\t'scattered clouds',\t'thunderstorm with rain',\t'few clouds',\t'thunderstorm',\t'shower rain',]\n",
    "mrmrO = ['month',\t'day',\t'year',\t'hour',\t'minute',\t'holiday',\t'dayOfTheWeek',\t'temperature',\t'humidity',\t'pressure',\t'heavy intensity rain',\t'light rain',\t'broken clouds',\t'scattered clouds',\t'thunderstorm with rain',\t'few clouds',\t'thunderstorm',\t'shower rain',\t'heavy intensity rain',\t'mist',\t'scattered clouds',\t'very heavy rain',\t'overcast clouds',\t'moderate rain',\t'minute',\t'haze',\t'few clouds']\n",
    "\n",
    "orderOHE=[pear_corrO,kend_corrO,mutInf_classO,mutInf_regO,mutInf_class2O,varThreO,mrmrO]\n",
    "\n",
    "method = ['Pearson_correlation','Kendalls_correlation','mutualInformation_classification',\n",
    "          'mutualInformation_reggression','mutualInformation_classification2',\n",
    "          'varianceThreshold','MRMR']"
   ]
  },
  {
   "cell_type": "code",
   "execution_count": 33,
   "id": "e7d79376",
   "metadata": {
    "scrolled": true
   },
   "outputs": [
    {
     "name": "stdout",
     "output_type": "stream",
     "text": [
      "DecisionTreeClassifier 0.8385784628559195\n",
      "RandomForestClassifier 0.8679083707985442\n",
      "VotingClassifier 0.850139156497538\n"
     ]
    }
   ],
   "source": [
    "testVoting(hp_oHe)"
   ]
  },
  {
   "cell_type": "code",
   "execution_count": 54,
   "id": "2acc0845",
   "metadata": {},
   "outputs": [
    {
     "name": "stdout",
     "output_type": "stream",
     "text": [
      "0.8512179065174457\n"
     ]
    }
   ],
   "source": [
    "from sklearn.ensemble import AdaBoostClassifier\n",
    "\n",
    "x,y=getXandY(hp_oHe)\n",
    "#split the dataFrame into test and train\n",
    "X_train, X_test, y_train, y_test = trainTest(x,y)\n",
    "#Oversample the train dataset with SMOTE\n",
    "X_train_os, y_train_os=overSampling(X_train, y_train, y_test, smote)\n",
    "ada_clf = AdaBoostClassifier(\n",
    "     DecisionTreeClassifier(), n_estimators=300,\n",
    "     algorithm=\"SAMME.R\", learning_rate=0.5)\n",
    "ada_clf.fit(X_train_os, y_train_os)\n",
    "\n",
    "y_pred = ada_clf.predict(X_test)\n",
    "\n",
    "print(accuracy_score(y_test, y_pred))"
   ]
  },
  {
   "cell_type": "code",
   "execution_count": null,
   "id": "ac5514bc",
   "metadata": {
    "scrolled": true
   },
   "outputs": [],
   "source": [
    "analizeDF(hp_oHe,orderOHE,28,n_loops=20)"
   ]
  },
  {
   "cell_type": "markdown",
   "id": "4b590364",
   "metadata": {},
   "source": [
    "## Manual Encoding"
   ]
  },
  {
   "cell_type": "code",
   "execution_count": 23,
   "id": "ec7862de",
   "metadata": {},
   "outputs": [
    {
     "data": {
      "text/plain": [
       "array([2., 1., 3.])"
      ]
     },
     "execution_count": 23,
     "metadata": {},
     "output_type": "execute_result"
    }
   ],
   "source": [
    "#Replace times ending in 5 and also compacting the rest to have only 6 classes\n",
    "b=hp_ME.Harry_Potter_and_the_Forbidden.replace([\n",
    "5, 10, 11, 15, 20, 25, 30, 35, 40, 45,50.0,55.0,60.0,65.0,70.0,75.0,80.0,85.0,90.0,95.0,100.0,105.0,110.0,115.0,120.0,125.0,130.0,135.0,145.0,150.0,180.0], \n",
    "[1,1,  1,  1,  1,  1,  1,  2,  2,  2, 2,   2,   2,   3,   3,   3,   3,   3,   3,   3,   3,    3,    3,    3,     3,    3,   3,    3,     3,    3,    3])\n",
    "\n",
    "df3=pd.DataFrame(b)\n",
    "df3.rename(columns = {'Harry_Potter_and_the_Forbidden':'HP_Forbidden_clean'}, inplace = True)\n",
    "hp_bis3=pd.concat([hp_ME, df3], axis=1)\n",
    "hp3 = hp_bis3.drop('Harry_Potter_and_the_Forbidden',axis=1)\n",
    "hp3.rename(columns = {'day.1':'dayOfTheWeek'}, inplace = True)\n",
    "hp3 = hp3[hp3.HP_Forbidden_clean != 0] #delete rows with 0 min\n",
    "hp3.HP_Forbidden_clean.unique()"
   ]
  },
  {
   "cell_type": "code",
   "execution_count": 24,
   "id": "03eff26d",
   "metadata": {},
   "outputs": [],
   "source": [
    "HP_ME = hp3\n",
    "\n",
    "pear_corr = ['temperature','holiday','day','month','pressure','dayOfTheWeek',\n",
    "            'report','minute','year','humidity','hour',\t'Pandemic']\n",
    "kend_corr = ['temperature','holiday','month','day','pressure','dayOfTheWeek','report','year',\n",
    "             'minute','humidity','hour','Pandemic']\n",
    "mutInf_class = ['month','day','year','hour','minute','holiday','dayOfTheWeek','Pandemic',\n",
    "                'temperature','humidity','pressure','report']\n",
    "mutInf_reg = ['month','day','year','hour','minute','holiday','dayOfTheWeek','Pandemic',\n",
    "                'temperature','humidity','pressure','report']\n",
    "mutInf_class2 = ['day','temperature','month','humidity','hour','dayOfTheWeek','pressure',\n",
    "                 'holiday','year','report','minute','Pandemic']\n",
    "varThre = ['month','day','year','hour','minute','holiday','dayOfTheWeek',\n",
    "           'temperature','humidity','pressure','report']\n",
    "mrmr = ['temperature','dayOfTheWeek','hour','holiday','humidity','day',\n",
    "        'year','month','pressure','minute','report']\n",
    "method = ['Pearson_correlation','Kendalls_correlation','mutualInformation_classification',\n",
    "          'mutualInformation_reggression','mutualInformation_classification2',\n",
    "          'variableThreshold','MRMR']\n",
    "\n",
    "orderME=[pear_corr,kend_corr,mutInf_class,mutInf_reg,mutInf_class2,varThre,mrmr]"
   ]
  },
  {
   "cell_type": "code",
   "execution_count": 34,
   "id": "0918a20d",
   "metadata": {},
   "outputs": [
    {
     "name": "stdout",
     "output_type": "stream",
     "text": [
      "DecisionTreeClassifier 0.8495443949989404\n",
      "RandomForestClassifier 0.8789997880906972\n",
      "VotingClassifier 0.8709472345835982\n"
     ]
    }
   ],
   "source": [
    "testVoting(HP_ME)"
   ]
  },
  {
   "cell_type": "code",
   "execution_count": null,
   "id": "dfdfe407",
   "metadata": {},
   "outputs": [],
   "source": [
    "analizeDF(HP_ME,orderME,13,n_loops=20)"
   ]
  },
  {
   "cell_type": "markdown",
   "id": "26205d8a",
   "metadata": {},
   "source": [
    "## Ordinal Encoding"
   ]
  },
  {
   "cell_type": "code",
   "execution_count": 26,
   "id": "872b1dd7",
   "metadata": {},
   "outputs": [],
   "source": [
    "hp_OE.rename(columns = {'day.1':'dayOfTheWeek'}, inplace = True)\n",
    "\n",
    "#Replace times ending in 5 and also compacting the rest to have only 6 classes\n",
    "a=hp_OE.Harry_Potter_and_the_Forbidden.replace([\n",
    "5, 10, 11, 15, 20, 25, 30, 35, 40, 45,50.0,55.0,60.0,65.0,70.0,75.0,80.0,85.0,90.0,95.0,100.0,105.0,110.0,115.0,120.0,125.0,130.0,135.0,145.0,150.0,180.0], \n",
    "[1,1,  1,  1,  1,  1,  1,  2,  2,  2, 2,   2,   2,   3,   3,   3,   3,   3,   3,   3,   3,    3,    3,    3,     3,    3,   3,    3,     3,    3,    3])\n",
    "\n",
    "df1=pd.DataFrame(a)\n",
    "df1.rename(columns = {'Harry_Potter_and_the_Forbidden':'HP_Forbidden_clean'}, inplace = True)\n",
    "hp_bis=pd.concat([hp_OE, df1], axis=1)\n",
    "hp2 = hp_bis.drop('Harry_Potter_and_the_Forbidden',axis=1)\n",
    "hp2 = hp2[hp2.HP_Forbidden_clean != 0] #delete rows with 0 min\n",
    "hp2.HP_Forbidden_clean.unique()\n",
    "\n",
    "#Variable order in ordinal encoding:\n",
    "pear_corrOE = ['temperature',\t'holiday',\t'day',\t'month',\t'pressure',\t'dayOfTheWeek',\t'report',\t'minute',\t'year',\t'humidity',\t'hour',\t'Pandemic']\n",
    "kend_corrOE = ['temperature',\t'holiday',\t'month',\t'day',\t'pressure',\t'dayOfTheWeek',\t'report',\t'year',\t'minute',\t'humidity',\t'hour',\t'Pandemic',]\n",
    "mutInf_classOE = ['month',\t'day',\t'year',\t'hour',\t'minute',\t'holiday',\t'dayOfTheWeek',\t'Pandemic',\t'temperature',\t'humidity',\t'pressure',\t'report',]\n",
    "mutInf_regOE = ['month',\t'day',\t'year',\t'hour',\t'minute',\t'holiday',\t'dayOfTheWeek',\t'Pandemic',\t'temperature',\t'humidity',\t'pressure',\t'report',]\n",
    "mutInf_class2OE = ['day',\t'temperature',\t'month',\t'humidity',\t'hour',\t'dayOfTheWeek',\t'pressure',\t'holiday',\t'year',\t'report',\t'minute',\t'Pandemic',]\n",
    "varThreOE = ['month',\t'day',\t'year',\t'hour',\t'minute',\t'holiday',\t'dayOfTheWeek',\t'temperature',\t'humidity',\t'pressure',\t'report']\n",
    "mrmrOE = ['temperature',\t'dayOfTheWeek',\t'hour',\t'holiday',\t'humidity',\t'day',\t'year',\t'month',\t'pressure',\t'minute',\t'report']\n",
    "\n",
    "orderOE=[pear_corrOE,kend_corrOE,mutInf_classOE,mutInf_regOE,mutInf_class2OE,varThreOE,mrmrOE]"
   ]
  },
  {
   "cell_type": "code",
   "execution_count": 35,
   "id": "b87944e3",
   "metadata": {},
   "outputs": [
    {
     "name": "stdout",
     "output_type": "stream",
     "text": [
      "DecisionTreeClassifier 0.8429752066115702\n",
      "RandomForestClassifier 0.8751854206399661\n",
      "VotingClassifier 0.8635304089849545\n"
     ]
    }
   ],
   "source": [
    "testVoting(hp2)"
   ]
  },
  {
   "cell_type": "code",
   "execution_count": null,
   "id": "8d758e5f",
   "metadata": {},
   "outputs": [],
   "source": [
    "analizeDF(hp2,orderOE,13,n_loops=20)"
   ]
  },
  {
   "cell_type": "markdown",
   "id": "43ec7ace",
   "metadata": {},
   "source": [
    "## Hyperparameter Tuning"
   ]
  },
  {
   "cell_type": "code",
   "execution_count": null,
   "id": "5af6aca9",
   "metadata": {},
   "outputs": [],
   "source": [
    "bootstrap1= [True, False]\n",
    "max_depth1=[10, 20, 50, 80, 100, None]\n",
    "max_features1= ['auto', 'sqrt']\n",
    "min_samples_leaf1= [1, 2, 4, 8, 10]\n",
    "min_samples_split1= [2, 5, 10]\n",
    "n_estimators1= [200, 500, 1000, 1500]"
   ]
  },
  {
   "cell_type": "code",
   "execution_count": null,
   "id": "716610fc",
   "metadata": {},
   "outputs": [],
   "source": [
    "def tuneRandomF(X,Y,mu,bootstrap1,max_depth1,max_features1,min_samples_leaf1,\n",
    "                min_samples_split1,n_estimators1,loops):\n",
    "    arr = []\n",
    "    highest=0\n",
    "    for a in range(len(bootstrap1)):\n",
    "        for b in range(len(max_depth1)):\n",
    "            for c in range(len(max_features1)):\n",
    "                for d in range(len(min_samples_leaf1)):\n",
    "                    for e in range(len(min_samples_split1)):\n",
    "                        for f in range(len(n_estimators1)):\n",
    "                            start = timer()\n",
    "                            for l in range(loops):\n",
    "                                start = timer()\n",
    "                                X_train, X_test, y_train, y_test = trainTest(X,Y)\n",
    "                                #Oversample the train dataset with SMOTE\n",
    "                                X_train_os, y_train_os=overSampling(X_train, y_train, y_test, smote)\n",
    "                                #define the variables order \n",
    "                                X_train_os_r = X_train_os[mu]\n",
    "                                X_test_r = X_test[mu]\n",
    "                                rnd_clf = RandomForestClassifier(bootstrap=bootstrap1[a],\n",
    "                                                                 max_depth=max_depth1[b],\n",
    "                                                                 max_features=max_features1[c],\n",
    "                                                                 min_samples_leaf=min_samples_leaf1[d],\n",
    "                                                                 min_samples_split=min_samples_split1[e],\n",
    "                                                                 n_estimators=n_estimators1[f])\n",
    "                                rnd_clf.fit(X_train_os_r,y_train_os)\n",
    "                                y_pred=rnd_clf.predict(X_test_r)\n",
    "                                score = accuracy_score(y_test, rnd_clf.predict(X_test_r))\n",
    "                                arr.append(score)\n",
    "                            print(\"For the parameters boots:{}, mx_depth:{}, mx_fts:{} \"\n",
    "                                  \"min_leaf:{}, min_splt:{}, n_stim {} accuracy is:\".format(bootstrap1[a],\n",
    "                                                                 max_depth1[b],\n",
    "                                                                 max_features1[c],\n",
    "                                                                 min_samples_leaf1[d],\n",
    "                                                                 min_samples_split1[e],\n",
    "                                                                 n_estimators1[f]))\n",
    "                            mean_acc=mean(arr)\n",
    "                            print(mean_acc)\n",
    "                            end1 = timer()\n",
    "                            print(timedelta(seconds=end1-start))\n",
    "                            #check the best configuration\n",
    "                            if mean_acc > highest:\n",
    "                                highest = mean_acc\n",
    "                                description1 = \"---------------Best values = \"\n",
    "                                d12=\"boots:{}, mx_depth:{}, mx_fts:{}, min_leaf:{}, \".format(bootstrap1[a],\n",
    "                                                                                         max_depth1[b],\n",
    "                                                                                         max_features1[c],\n",
    "                                                                                         min_samples_leaf1[d])\n",
    "                                description2= \"min_splt:{}, n_stim{} with accuracy: {}---------\".format(\n",
    "                                                                                         min_samples_split1[e],\n",
    "                                                                                         n_estimators1[f],\n",
    "                                                                                         mean_acc)\n",
    "                            else:\n",
    "                                highest = highest\n",
    "                            arr = []\n",
    "        print(description1+d12+description2)"
   ]
  },
  {
   "cell_type": "code",
   "execution_count": null,
   "id": "761a33ed",
   "metadata": {
    "scrolled": true
   },
   "outputs": [],
   "source": [
    "X,Y=getXandY(hp_oHe)\n",
    "mrmr = ['month',\t'day',\t'year',\t'hour',\t'minute',\t'holiday',\t'dayOfTheWeek',\t'temperature',\t'humidity',\t\n",
    "        'pressure',\t'heavy intensity rain',\t'light rain',\t'broken clouds',\t'scattered clouds',\t'thunderstorm with rain',\n",
    "        'few clouds',\t'thunderstorm',\t'shower rain',\t'heavy intensity rain',\t'mist',\t'scattered clouds']\n",
    "tuneRandomF(X,Y,mrmr,bootstrap1,max_depth1,max_features1,min_samples_leaf1,min_samples_split1,n_estimators1,1)\n"
   ]
  }
 ],
 "metadata": {
  "kernelspec": {
   "display_name": "Python 3 (ipykernel)",
   "language": "python",
   "name": "python3"
  },
  "language_info": {
   "codemirror_mode": {
    "name": "ipython",
    "version": 3
   },
   "file_extension": ".py",
   "mimetype": "text/x-python",
   "name": "python",
   "nbconvert_exporter": "python",
   "pygments_lexer": "ipython3",
   "version": "3.8.8"
  }
 },
 "nbformat": 4,
 "nbformat_minor": 5
}
